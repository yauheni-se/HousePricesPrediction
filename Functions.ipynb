{
 "cells": [
  {
   "cell_type": "code",
   "execution_count": 1,
   "id": "fdd6ddc9",
   "metadata": {
    "ExecuteTime": {
     "end_time": "2022-11-15T19:50:42.134245Z",
     "start_time": "2022-11-15T19:50:37.575259Z"
    }
   },
   "outputs": [],
   "source": [
    "import pandas as pd\n",
    "import numpy as np\n",
    "import plotly.express as px\n",
    "import plotly.graph_objects as go\n",
    "import plotly.figure_factory as ff\n",
    "import matplotlib.pyplot as plt\n",
    "import seaborn as sns\n",
    "from IPython.display import display\n",
    "from plotly.subplots import make_subplots\n",
    "from Functions import *"
   ]
  },
  {
   "cell_type": "code",
   "execution_count": 112,
   "id": "da22e545",
   "metadata": {
    "ExecuteTime": {
     "end_time": "2022-11-15T22:03:52.268451Z",
     "start_time": "2022-11-15T22:03:52.242861Z"
    }
   },
   "outputs": [],
   "source": [
    "df = pd.read_csv('train.csv')\n",
    "y_name = 'SalePrice'"
   ]
  },
  {
   "cell_type": "code",
   "execution_count": null,
   "id": "7f85aa84",
   "metadata": {
    "ExecuteTime": {
     "end_time": "2022-11-14T15:46:54.948315Z",
     "start_time": "2022-11-14T15:46:54.639809Z"
    }
   },
   "outputs": [],
   "source": [
    "what = ['str_dist']    \n",
    "vars_subset = None\n",
    "# Presets:\n",
    "if vars_subset is None:\n",
    "    vars_subset = df.columns.tolist()\n",
    "        \n",
    "if what is None:\n",
    "    what = ['str_dist', 'num_dist', 'str_dist_vs_y', 'num_dist_vs_y']\n",
    "    \n",
    "color_background = '#F5F5F5'\n",
    "color_gridlines = '#DCDCDC'\n",
    "colors_in_use = [\n",
    "        '#2C3E50', '#537EA2', '#858F84', '#42A593',\n",
    "        '#873E23', '#CFD1A1', '#6A744F', '#BDBDC5',\n",
    "        '#7EA253', '#EDB676', '#C26D40'\n",
    "    ]+px.colors.qualitative.Safe\n",
    "    \n",
    "dtypes_num = ['int64', 'int32', 'int16', 'float64', 'float32', 'float16']\n",
    "dtypes_str = ['object', 'category']\n",
    "vars_num = df.loc[:, vars_subset].select_dtypes(include=dtypes_num).columns\n",
    "vars_str = df.loc[:, vars_subset].select_dtypes(include=dtypes_str).columns"
   ]
  },
  {
   "cell_type": "code",
   "execution_count": null,
   "id": "4bb6490f",
   "metadata": {
    "ExecuteTime": {
     "end_time": "2022-11-14T15:38:46.423073Z",
     "start_time": "2022-11-14T15:38:31.968073Z"
    }
   },
   "outputs": [],
   "source": [
    "tmp = show_plots(df, y_name)"
   ]
  },
  {
   "cell_type": "code",
   "execution_count": 39,
   "id": "fa2bf545",
   "metadata": {
    "ExecuteTime": {
     "end_time": "2022-11-15T21:22:16.102687Z",
     "start_time": "2022-11-15T21:22:16.086377Z"
    }
   },
   "outputs": [],
   "source": [
    "import plotly.io as pio\n",
    "pio.renderers.default = \"browser\""
   ]
  },
  {
   "cell_type": "code",
   "execution_count": 133,
   "id": "1d0bbd62",
   "metadata": {
    "ExecuteTime": {
     "end_time": "2022-11-15T22:11:04.319263Z",
     "start_time": "2022-11-15T22:11:04.300184Z"
    },
    "code_folding": [
     65
    ]
   },
   "outputs": [],
   "source": [
    "def show_data_single_plt(df, y_name, vars_subset=None):\n",
    "    \n",
    "    y = df.loc[:, y_name].to_numpy()\n",
    "    df = df.drop(columns=[y_name])\n",
    "    \n",
    "    if vars_subset is None:\n",
    "        vars_subset = df.columns.tolist()\n",
    "        \n",
    "    color_background = '#F5F5F5'\n",
    "    color_gridlines = '#DCDCDC'\n",
    "    colors_in_use = [\n",
    "        '#2C3E50', '#537EA2', '#858F84', '#42A593',\n",
    "        '#873E23', '#CFD1A1', '#6A744F', '#BDBDC5',\n",
    "        '#7EA253', '#EDB676', '#C26D40'\n",
    "    ]+px.colors.qualitative.Safe\n",
    "    \n",
    "    dtypes_num = ['int64', 'int32', 'int16', 'float64', 'float32', 'float16']\n",
    "    dtypes_str = ['object', 'category']\n",
    "    vars_num = df.loc[:, vars_subset].select_dtypes(include=dtypes_num).columns\n",
    "    vars_str = df.loc[:, vars_subset].select_dtypes(include=dtypes_str).columns\n",
    "    \n",
    "     # single plot, all categoricals\n",
    "    fig = go.Figure()\n",
    "    for i in range(0, len(vars_str)):\n",
    "        fig.add_trace(go.Histogram(x=df.loc[:, vars_str[i]], \n",
    "                                   name=vars_str[i],\n",
    "                                   showlegend=True))\n",
    "        fig.update_traces(\n",
    "            marker_color=colors_in_use,\n",
    "            marker_line_width=1.5,\n",
    "            opacity=0.8\n",
    "        )\n",
    "        fig.update_layout(\n",
    "            xaxis_type='category',\n",
    "            xaxis_title='',\n",
    "            paper_bgcolor=color_background,\n",
    "            plot_bgcolor=color_background\n",
    "        )\n",
    "        fig.update_yaxes(gridcolor=color_gridlines)\n",
    "        fig.update_xaxes(linecolor=color_gridlines)\n",
    "    \n",
    "    if len(fig['data']) % 4 == 0:\n",
    "        dim_1 = int(len(fig['data'])/4)\n",
    "    else:\n",
    "        dim_1 = int(len(fig['data'])/4)+1\n",
    "    dim_2 = 4\n",
    "    \n",
    "    fig2 = make_subplots(rows=dim_1, cols=dim_2)\n",
    "    \n",
    "    for i in range(dim_2):\n",
    "        for j in range(dim_1):\n",
    "            if j+(i*dim_1) >= len(fig['data']):\n",
    "                continue\n",
    "            fig2.append_trace(fig['data'][j+(i*dim_1)], j+1, i+1)\n",
    "        \n",
    "        fig2.update_layout(\n",
    "            xaxis_type='category',\n",
    "            paper_bgcolor=color_background,\n",
    "            plot_bgcolor=color_background\n",
    "        )\n",
    "    fig2.update_yaxes(gridcolor=color_gridlines, showticklabels=False)\n",
    "    fig2.update_xaxes(linecolor=color_gridlines, showticklabels=False)\n",
    "    \n",
    "    \n",
    "    fig3 = go.Figure()\n",
    "    for i in range(0, len(vars_num)):\n",
    "        fig3.add_trace(go.Violin(\n",
    "            y=df.loc[:, vars_num[i]], box_visible=True, meanline_visible=True,\n",
    "            marker_color=colors_in_use[0], marker_line_color='rgb(8,48,107)',\n",
    "            marker_line_width=1.5, opacity=0.8, \n",
    "            name=vars_num[i], showlegend=True\n",
    "        ))\n",
    "        fig3.update_layout(\n",
    "            xaxis_type='category',\n",
    "            xaxis_title='',\n",
    "            paper_bgcolor=color_background,\n",
    "            plot_bgcolor=color_background\n",
    "        )\n",
    "        fig3.update_yaxes(gridcolor=color_gridlines)\n",
    "        fig3.update_xaxes(linecolor=color_gridlines)\n",
    "    \n",
    "    \n",
    "    if len(vars_num) % 4 == 0:\n",
    "        dim_1 = int(len(fig3['data'])/4)\n",
    "    else:\n",
    "        dim_1 = int(len(fig3['data'])/4)+1\n",
    "    dim_2 = 4\n",
    "    \n",
    "    fig4 = make_subplots(rows=dim_1, cols=dim_2)\n",
    "    for i in range(dim_2):\n",
    "        for j in range(dim_1):\n",
    "            if j+(i*dim_1) >= len(fig3['data']):\n",
    "                continue\n",
    "            fig4.append_trace(fig3['data'][j+(i*dim_1)], j+1, i+1)\n",
    "        \n",
    "        fig4.update_layout(\n",
    "            paper_bgcolor=color_background,\n",
    "            plot_bgcolor=color_background\n",
    "        )\n",
    "    fig4.update_yaxes(gridcolor=color_gridlines, showticklabels=False)\n",
    "    fig4.update_xaxes(linecolor=color_gridlines, showticklabels=False)\n",
    "    \n",
    "    final_dict = dict(\n",
    "        cat_single = fig,\n",
    "        cat_split = fig2,\n",
    "        num_single = fig3,\n",
    "        num_split = fig4,\n",
    "        #cat_vs_y_single = fig5\n",
    "        #cat_vs_y_split = fig6\n",
    "        #num_vs_y_single = fig7\n",
    "        #num_vs_y_split = fig8\n",
    "    )\n",
    "    return final_dict"
   ]
  },
  {
   "cell_type": "code",
   "execution_count": 134,
   "id": "ebe4d1d4",
   "metadata": {
    "ExecuteTime": {
     "end_time": "2022-11-15T22:11:08.328837Z",
     "start_time": "2022-11-15T22:11:06.308701Z"
    }
   },
   "outputs": [],
   "source": [
    "df = pd.read_csv('train.csv')\n",
    "y_name = 'SalePrice'\n",
    "tmp = show_data_single_plt(df, y_name)"
   ]
  },
  {
   "cell_type": "code",
   "execution_count": 136,
   "id": "dc88e3bb",
   "metadata": {
    "ExecuteTime": {
     "end_time": "2022-11-15T22:11:34.508215Z",
     "start_time": "2022-11-15T22:11:34.403789Z"
    }
   },
   "outputs": [],
   "source": [
    "tmp['num_split']"
   ]
  },
  {
   "cell_type": "code",
   "execution_count": 128,
   "id": "9357ec53",
   "metadata": {
    "ExecuteTime": {
     "end_time": "2022-11-15T22:08:40.937894Z",
     "start_time": "2022-11-15T22:08:40.493215Z"
    }
   },
   "outputs": [],
   "source": [
    "df = pd.read_csv('train.csv')\n",
    "y_name = 'SalePrice'\n",
    "y = df.loc[:, y_name].to_numpy()\n",
    "df = df.drop(columns=[y_name])\n",
    "vars_subset = None\n",
    "if vars_subset is None:\n",
    "        vars_subset = df.columns.tolist()\n",
    "        \n",
    "color_background = '#F5F5F5'\n",
    "color_gridlines = '#DCDCDC'\n",
    "colors_in_use = [\n",
    "        '#2C3E50', '#537EA2', '#858F84', '#42A593',\n",
    "        '#873E23', '#CFD1A1', '#6A744F', '#BDBDC5',\n",
    "        '#7EA253', '#EDB676', '#C26D40'\n",
    "]+px.colors.qualitative.Safe\n",
    "    \n",
    "dtypes_num = ['int64', 'int32', 'int16', 'float64', 'float32', 'float16']\n",
    "dtypes_str = ['object', 'category']\n",
    "vars_num = df.loc[:, vars_subset].select_dtypes(include=dtypes_num).columns\n",
    "vars_str = df.loc[:, vars_subset].select_dtypes(include=dtypes_str).columns\n",
    "    \n",
    "     # single plot, all categoricals\n",
    "fig3 = go.Figure()\n",
    "for i in range(0, len(vars_num)):\n",
    "    fig3.add_trace(go.Violin(\n",
    "            y=df.loc[:, vars_num[i]], box_visible=True, meanline_visible=True,\n",
    "            marker_color=colors_in_use[0], marker_line_color='rgb(8,48,107)',\n",
    "            marker_line_width=1.5, opacity=0.8, \n",
    "            name=vars_num[i], showlegend=True\n",
    "        ))\n",
    "    fig3.update_layout(\n",
    "            xaxis_type='category',\n",
    "            xaxis_title='',\n",
    "            paper_bgcolor=color_background,\n",
    "            plot_bgcolor=color_background\n",
    "        )\n",
    "    fig3.update_yaxes(gridcolor=color_gridlines)\n",
    "    fig3.update_xaxes(linecolor=color_gridlines)\n",
    "    \n",
    "    \n",
    "if len(vars_num) % 4 == 0:\n",
    "    dim_1 = int(len(fig3['data'])/4)\n",
    "else:\n",
    "    dim_1 = int(len(fig3['data'])/4)+1\n",
    "dim_2 = 4\n",
    "    \n",
    "fig4 = make_subplots(rows=dim_1, cols=dim_2)"
   ]
  },
  {
   "cell_type": "code",
   "execution_count": 129,
   "id": "ff7d9da9",
   "metadata": {
    "ExecuteTime": {
     "end_time": "2022-11-15T22:08:43.304353Z",
     "start_time": "2022-11-15T22:08:43.260783Z"
    },
    "scrolled": true
   },
   "outputs": [
    {
     "name": "stdout",
     "output_type": "stream",
     "text": [
      "0\n",
      "1\n",
      "2\n",
      "3\n",
      "4\n",
      "5\n",
      "6\n",
      "7\n",
      "8\n",
      "9\n",
      "10\n",
      "11\n",
      "12\n",
      "13\n",
      "14\n",
      "15\n",
      "16\n",
      "17\n",
      "18\n",
      "19\n",
      "20\n",
      "21\n",
      "22\n",
      "23\n",
      "24\n",
      "25\n",
      "26\n",
      "27\n",
      "28\n",
      "29\n",
      "30\n",
      "31\n",
      "32\n",
      "33\n",
      "34\n",
      "35\n",
      "36\n",
      "37\n"
     ]
    },
    {
     "ename": "IndexError",
     "evalue": "tuple index out of range",
     "output_type": "error",
     "traceback": [
      "\u001b[1;31m---------------------------------------------------------------------------\u001b[0m",
      "\u001b[1;31mIndexError\u001b[0m                                Traceback (most recent call last)",
      "\u001b[1;32m~\\AppData\\Local\\Temp/ipykernel_18872/1598303195.py\u001b[0m in \u001b[0;36m<module>\u001b[1;34m\u001b[0m\n\u001b[0;32m      4\u001b[0m         \u001b[1;32mif\u001b[0m \u001b[0mj\u001b[0m\u001b[1;33m+\u001b[0m\u001b[1;33m(\u001b[0m\u001b[0mi\u001b[0m\u001b[1;33m*\u001b[0m\u001b[0mdim_1\u001b[0m\u001b[1;33m)\u001b[0m \u001b[1;33m>=\u001b[0m \u001b[0mdim_2\u001b[0m\u001b[1;33m*\u001b[0m\u001b[0mdim_1\u001b[0m\u001b[1;33m-\u001b[0m\u001b[1;36m1\u001b[0m\u001b[1;33m:\u001b[0m\u001b[1;33m\u001b[0m\u001b[1;33m\u001b[0m\u001b[0m\n\u001b[0;32m      5\u001b[0m             \u001b[1;32mcontinue\u001b[0m\u001b[1;33m\u001b[0m\u001b[1;33m\u001b[0m\u001b[0m\n\u001b[1;32m----> 6\u001b[1;33m         \u001b[0mfig4\u001b[0m\u001b[1;33m.\u001b[0m\u001b[0mappend_trace\u001b[0m\u001b[1;33m(\u001b[0m\u001b[0mfig3\u001b[0m\u001b[1;33m[\u001b[0m\u001b[1;34m'data'\u001b[0m\u001b[1;33m]\u001b[0m\u001b[1;33m[\u001b[0m\u001b[0mj\u001b[0m\u001b[1;33m+\u001b[0m\u001b[1;33m(\u001b[0m\u001b[0mi\u001b[0m\u001b[1;33m*\u001b[0m\u001b[0mdim_1\u001b[0m\u001b[1;33m)\u001b[0m\u001b[1;33m]\u001b[0m\u001b[1;33m,\u001b[0m \u001b[0mj\u001b[0m\u001b[1;33m+\u001b[0m\u001b[1;36m1\u001b[0m\u001b[1;33m,\u001b[0m \u001b[0mi\u001b[0m\u001b[1;33m+\u001b[0m\u001b[1;36m1\u001b[0m\u001b[1;33m)\u001b[0m\u001b[1;33m\u001b[0m\u001b[1;33m\u001b[0m\u001b[0m\n\u001b[0m",
      "\u001b[1;31mIndexError\u001b[0m: tuple index out of range"
     ]
    }
   ],
   "source": [
    "for i in range(dim_2):\n",
    "    for j in range(dim_1):\n",
    "        print(j+(i*dim_1))\n",
    "        if j+(i*dim_1) >= dim_2*dim_1-1:\n",
    "            continue\n",
    "        fig4.append_trace(fig3['data'][j+(i*dim_1)], j+1, i+1)"
   ]
  },
  {
   "cell_type": "code",
   "execution_count": 132,
   "id": "e7166704",
   "metadata": {
    "ExecuteTime": {
     "end_time": "2022-11-15T22:09:26.360669Z",
     "start_time": "2022-11-15T22:09:26.348961Z"
    }
   },
   "outputs": [
    {
     "data": {
      "text/plain": [
       "4"
      ]
     },
     "execution_count": 132,
     "metadata": {},
     "output_type": "execute_result"
    }
   ],
   "source": [
    "dim_2"
   ]
  },
  {
   "cell_type": "code",
   "execution_count": 130,
   "id": "e27914e2",
   "metadata": {
    "ExecuteTime": {
     "end_time": "2022-11-15T22:08:59.830859Z",
     "start_time": "2022-11-15T22:08:59.820552Z"
    },
    "scrolled": true
   },
   "outputs": [
    {
     "data": {
      "text/plain": [
       "37"
      ]
     },
     "execution_count": 130,
     "metadata": {},
     "output_type": "execute_result"
    }
   ],
   "source": [
    "len(fig3['data'])"
   ]
  }
 ],
 "metadata": {
  "kernelspec": {
   "display_name": "Python 3 (ipykernel)",
   "language": "python",
   "name": "python3"
  },
  "language_info": {
   "codemirror_mode": {
    "name": "ipython",
    "version": 3
   },
   "file_extension": ".py",
   "mimetype": "text/x-python",
   "name": "python",
   "nbconvert_exporter": "python",
   "pygments_lexer": "ipython3",
   "version": "3.10.0"
  },
  "toc": {
   "base_numbering": 1,
   "nav_menu": {},
   "number_sections": true,
   "sideBar": true,
   "skip_h1_title": false,
   "title_cell": "Table of Contents",
   "title_sidebar": "Contents",
   "toc_cell": false,
   "toc_position": {},
   "toc_section_display": true,
   "toc_window_display": false
  },
  "varInspector": {
   "cols": {
    "lenName": 16,
    "lenType": 16,
    "lenVar": 40
   },
   "kernels_config": {
    "python": {
     "delete_cmd_postfix": "",
     "delete_cmd_prefix": "del ",
     "library": "var_list.py",
     "varRefreshCmd": "print(var_dic_list())"
    },
    "r": {
     "delete_cmd_postfix": ") ",
     "delete_cmd_prefix": "rm(",
     "library": "var_list.r",
     "varRefreshCmd": "cat(var_dic_list()) "
    }
   },
   "types_to_exclude": [
    "module",
    "function",
    "builtin_function_or_method",
    "instance",
    "_Feature"
   ],
   "window_display": false
  }
 },
 "nbformat": 4,
 "nbformat_minor": 5
}
