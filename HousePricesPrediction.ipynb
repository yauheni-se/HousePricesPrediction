{
 "cells": [
  {
   "cell_type": "markdown",
   "id": "d977038a",
   "metadata": {},
   "source": [
    "![alt text](ames_iowa_downtown.avif \"Ames downtown city\")"
   ]
  },
  {
   "cell_type": "markdown",
   "id": "07044f11",
   "metadata": {},
   "source": [
    "The aim of the followinng project is to predict house sale prices in Ames town, Iowa, USA. Ames is a typical small provincial american town with a population around 66 thousand (according to the 2020 census). This example might be generalized to other small towns in the United States, especially in Iowa. However, the main reason why this notebook was ever created is to present the typical Data Science workflow when dealing with regression predictive type of problem."
   ]
  },
  {
   "cell_type": "markdown",
   "id": "5593680f",
   "metadata": {
    "heading_collapsed": true
   },
   "source": [
    "# Presets"
   ]
  },
  {
   "cell_type": "code",
   "execution_count": 29,
   "id": "738d91a8",
   "metadata": {
    "ExecuteTime": {
     "end_time": "2022-11-01T19:31:57.808508Z",
     "start_time": "2022-11-01T19:31:57.795505Z"
    },
    "hidden": true
   },
   "outputs": [],
   "source": [
    "import pandas as pd\n",
    "import numpy as np\n",
    "import plotly.express as px\n",
    "import plotly.graph_objects as go\n",
    "import plotly.figure_factory as ff\n",
    "import matplotlib.pyplot as plt\n",
    "import seaborn as sns\n",
    "\n",
    "# Outliers detection\n",
    "from sklearn.svm import OneClassSVM\n",
    "\n",
    "#from sklearn.model_selection import train_test_split\n",
    "#from sklearn import metrics\n",
    "\n",
    "# Hyperparams tuning\n",
    "#from sklearn.model_selection import GridSearchCV, ParameterGrid\n",
    "#from sklearn_genetic import GASearchCV\n",
    "#from sklearn_genetic.space import Continuous, Categorical, Integer\n",
    "\n",
    "np.random.seed(42)"
   ]
  },
  {
   "cell_type": "code",
   "execution_count": 2,
   "id": "1feafd97",
   "metadata": {
    "ExecuteTime": {
     "end_time": "2022-11-01T11:42:38.850897Z",
     "start_time": "2022-11-01T11:42:38.837199Z"
    },
    "hidden": true
   },
   "outputs": [],
   "source": [
    "pd.set_option('display.max_columns', 500)"
   ]
  },
  {
   "cell_type": "code",
   "execution_count": 3,
   "id": "ddf6950e",
   "metadata": {
    "ExecuteTime": {
     "end_time": "2022-11-01T11:42:38.912036Z",
     "start_time": "2022-11-01T11:42:38.853285Z"
    },
    "hidden": true
   },
   "outputs": [],
   "source": [
    "data = pd.read_csv('train.csv')"
   ]
  },
  {
   "cell_type": "markdown",
   "id": "680e673c",
   "metadata": {
    "heading_collapsed": true
   },
   "source": [
    "# Basic statistics"
   ]
  },
  {
   "cell_type": "code",
   "execution_count": 4,
   "id": "17af62c5",
   "metadata": {
    "ExecuteTime": {
     "end_time": "2022-11-01T11:42:38.959071Z",
     "start_time": "2022-11-01T11:42:38.914055Z"
    },
    "hidden": true,
    "scrolled": true
   },
   "outputs": [
    {
     "data": {
      "text/html": [
       "<div>\n",
       "<style scoped>\n",
       "    .dataframe tbody tr th:only-of-type {\n",
       "        vertical-align: middle;\n",
       "    }\n",
       "\n",
       "    .dataframe tbody tr th {\n",
       "        vertical-align: top;\n",
       "    }\n",
       "\n",
       "    .dataframe thead th {\n",
       "        text-align: right;\n",
       "    }\n",
       "</style>\n",
       "<table border=\"1\" class=\"dataframe\">\n",
       "  <thead>\n",
       "    <tr style=\"text-align: right;\">\n",
       "      <th></th>\n",
       "      <th>Id</th>\n",
       "      <th>MSSubClass</th>\n",
       "      <th>MSZoning</th>\n",
       "      <th>LotFrontage</th>\n",
       "      <th>LotArea</th>\n",
       "      <th>Street</th>\n",
       "      <th>Alley</th>\n",
       "      <th>LotShape</th>\n",
       "      <th>LandContour</th>\n",
       "      <th>Utilities</th>\n",
       "      <th>LotConfig</th>\n",
       "      <th>LandSlope</th>\n",
       "      <th>Neighborhood</th>\n",
       "      <th>Condition1</th>\n",
       "      <th>Condition2</th>\n",
       "      <th>BldgType</th>\n",
       "      <th>HouseStyle</th>\n",
       "      <th>OverallQual</th>\n",
       "      <th>OverallCond</th>\n",
       "      <th>YearBuilt</th>\n",
       "      <th>YearRemodAdd</th>\n",
       "      <th>RoofStyle</th>\n",
       "      <th>RoofMatl</th>\n",
       "      <th>Exterior1st</th>\n",
       "      <th>Exterior2nd</th>\n",
       "      <th>MasVnrType</th>\n",
       "      <th>MasVnrArea</th>\n",
       "      <th>ExterQual</th>\n",
       "      <th>ExterCond</th>\n",
       "      <th>Foundation</th>\n",
       "      <th>BsmtQual</th>\n",
       "      <th>BsmtCond</th>\n",
       "      <th>BsmtExposure</th>\n",
       "      <th>BsmtFinType1</th>\n",
       "      <th>BsmtFinSF1</th>\n",
       "      <th>BsmtFinType2</th>\n",
       "      <th>BsmtFinSF2</th>\n",
       "      <th>BsmtUnfSF</th>\n",
       "      <th>TotalBsmtSF</th>\n",
       "      <th>Heating</th>\n",
       "      <th>HeatingQC</th>\n",
       "      <th>CentralAir</th>\n",
       "      <th>Electrical</th>\n",
       "      <th>1stFlrSF</th>\n",
       "      <th>2ndFlrSF</th>\n",
       "      <th>LowQualFinSF</th>\n",
       "      <th>GrLivArea</th>\n",
       "      <th>BsmtFullBath</th>\n",
       "      <th>BsmtHalfBath</th>\n",
       "      <th>FullBath</th>\n",
       "      <th>HalfBath</th>\n",
       "      <th>BedroomAbvGr</th>\n",
       "      <th>KitchenAbvGr</th>\n",
       "      <th>KitchenQual</th>\n",
       "      <th>TotRmsAbvGrd</th>\n",
       "      <th>Functional</th>\n",
       "      <th>Fireplaces</th>\n",
       "      <th>FireplaceQu</th>\n",
       "      <th>GarageType</th>\n",
       "      <th>GarageYrBlt</th>\n",
       "      <th>GarageFinish</th>\n",
       "      <th>GarageCars</th>\n",
       "      <th>GarageArea</th>\n",
       "      <th>GarageQual</th>\n",
       "      <th>GarageCond</th>\n",
       "      <th>PavedDrive</th>\n",
       "      <th>WoodDeckSF</th>\n",
       "      <th>OpenPorchSF</th>\n",
       "      <th>EnclosedPorch</th>\n",
       "      <th>3SsnPorch</th>\n",
       "      <th>ScreenPorch</th>\n",
       "      <th>PoolArea</th>\n",
       "      <th>PoolQC</th>\n",
       "      <th>Fence</th>\n",
       "      <th>MiscFeature</th>\n",
       "      <th>MiscVal</th>\n",
       "      <th>MoSold</th>\n",
       "      <th>YrSold</th>\n",
       "      <th>SaleType</th>\n",
       "      <th>SaleCondition</th>\n",
       "      <th>SalePrice</th>\n",
       "    </tr>\n",
       "  </thead>\n",
       "  <tbody>\n",
       "    <tr>\n",
       "      <th>0</th>\n",
       "      <td>1</td>\n",
       "      <td>60</td>\n",
       "      <td>RL</td>\n",
       "      <td>65.0</td>\n",
       "      <td>8450</td>\n",
       "      <td>Pave</td>\n",
       "      <td>NaN</td>\n",
       "      <td>Reg</td>\n",
       "      <td>Lvl</td>\n",
       "      <td>AllPub</td>\n",
       "      <td>Inside</td>\n",
       "      <td>Gtl</td>\n",
       "      <td>CollgCr</td>\n",
       "      <td>Norm</td>\n",
       "      <td>Norm</td>\n",
       "      <td>1Fam</td>\n",
       "      <td>2Story</td>\n",
       "      <td>7</td>\n",
       "      <td>5</td>\n",
       "      <td>2003</td>\n",
       "      <td>2003</td>\n",
       "      <td>Gable</td>\n",
       "      <td>CompShg</td>\n",
       "      <td>VinylSd</td>\n",
       "      <td>VinylSd</td>\n",
       "      <td>BrkFace</td>\n",
       "      <td>196.0</td>\n",
       "      <td>Gd</td>\n",
       "      <td>TA</td>\n",
       "      <td>PConc</td>\n",
       "      <td>Gd</td>\n",
       "      <td>TA</td>\n",
       "      <td>No</td>\n",
       "      <td>GLQ</td>\n",
       "      <td>706</td>\n",
       "      <td>Unf</td>\n",
       "      <td>0</td>\n",
       "      <td>150</td>\n",
       "      <td>856</td>\n",
       "      <td>GasA</td>\n",
       "      <td>Ex</td>\n",
       "      <td>Y</td>\n",
       "      <td>SBrkr</td>\n",
       "      <td>856</td>\n",
       "      <td>854</td>\n",
       "      <td>0</td>\n",
       "      <td>1710</td>\n",
       "      <td>1</td>\n",
       "      <td>0</td>\n",
       "      <td>2</td>\n",
       "      <td>1</td>\n",
       "      <td>3</td>\n",
       "      <td>1</td>\n",
       "      <td>Gd</td>\n",
       "      <td>8</td>\n",
       "      <td>Typ</td>\n",
       "      <td>0</td>\n",
       "      <td>NaN</td>\n",
       "      <td>Attchd</td>\n",
       "      <td>2003.0</td>\n",
       "      <td>RFn</td>\n",
       "      <td>2</td>\n",
       "      <td>548</td>\n",
       "      <td>TA</td>\n",
       "      <td>TA</td>\n",
       "      <td>Y</td>\n",
       "      <td>0</td>\n",
       "      <td>61</td>\n",
       "      <td>0</td>\n",
       "      <td>0</td>\n",
       "      <td>0</td>\n",
       "      <td>0</td>\n",
       "      <td>NaN</td>\n",
       "      <td>NaN</td>\n",
       "      <td>NaN</td>\n",
       "      <td>0</td>\n",
       "      <td>2</td>\n",
       "      <td>2008</td>\n",
       "      <td>WD</td>\n",
       "      <td>Normal</td>\n",
       "      <td>208500</td>\n",
       "    </tr>\n",
       "    <tr>\n",
       "      <th>1</th>\n",
       "      <td>2</td>\n",
       "      <td>20</td>\n",
       "      <td>RL</td>\n",
       "      <td>80.0</td>\n",
       "      <td>9600</td>\n",
       "      <td>Pave</td>\n",
       "      <td>NaN</td>\n",
       "      <td>Reg</td>\n",
       "      <td>Lvl</td>\n",
       "      <td>AllPub</td>\n",
       "      <td>FR2</td>\n",
       "      <td>Gtl</td>\n",
       "      <td>Veenker</td>\n",
       "      <td>Feedr</td>\n",
       "      <td>Norm</td>\n",
       "      <td>1Fam</td>\n",
       "      <td>1Story</td>\n",
       "      <td>6</td>\n",
       "      <td>8</td>\n",
       "      <td>1976</td>\n",
       "      <td>1976</td>\n",
       "      <td>Gable</td>\n",
       "      <td>CompShg</td>\n",
       "      <td>MetalSd</td>\n",
       "      <td>MetalSd</td>\n",
       "      <td>None</td>\n",
       "      <td>0.0</td>\n",
       "      <td>TA</td>\n",
       "      <td>TA</td>\n",
       "      <td>CBlock</td>\n",
       "      <td>Gd</td>\n",
       "      <td>TA</td>\n",
       "      <td>Gd</td>\n",
       "      <td>ALQ</td>\n",
       "      <td>978</td>\n",
       "      <td>Unf</td>\n",
       "      <td>0</td>\n",
       "      <td>284</td>\n",
       "      <td>1262</td>\n",
       "      <td>GasA</td>\n",
       "      <td>Ex</td>\n",
       "      <td>Y</td>\n",
       "      <td>SBrkr</td>\n",
       "      <td>1262</td>\n",
       "      <td>0</td>\n",
       "      <td>0</td>\n",
       "      <td>1262</td>\n",
       "      <td>0</td>\n",
       "      <td>1</td>\n",
       "      <td>2</td>\n",
       "      <td>0</td>\n",
       "      <td>3</td>\n",
       "      <td>1</td>\n",
       "      <td>TA</td>\n",
       "      <td>6</td>\n",
       "      <td>Typ</td>\n",
       "      <td>1</td>\n",
       "      <td>TA</td>\n",
       "      <td>Attchd</td>\n",
       "      <td>1976.0</td>\n",
       "      <td>RFn</td>\n",
       "      <td>2</td>\n",
       "      <td>460</td>\n",
       "      <td>TA</td>\n",
       "      <td>TA</td>\n",
       "      <td>Y</td>\n",
       "      <td>298</td>\n",
       "      <td>0</td>\n",
       "      <td>0</td>\n",
       "      <td>0</td>\n",
       "      <td>0</td>\n",
       "      <td>0</td>\n",
       "      <td>NaN</td>\n",
       "      <td>NaN</td>\n",
       "      <td>NaN</td>\n",
       "      <td>0</td>\n",
       "      <td>5</td>\n",
       "      <td>2007</td>\n",
       "      <td>WD</td>\n",
       "      <td>Normal</td>\n",
       "      <td>181500</td>\n",
       "    </tr>\n",
       "    <tr>\n",
       "      <th>2</th>\n",
       "      <td>3</td>\n",
       "      <td>60</td>\n",
       "      <td>RL</td>\n",
       "      <td>68.0</td>\n",
       "      <td>11250</td>\n",
       "      <td>Pave</td>\n",
       "      <td>NaN</td>\n",
       "      <td>IR1</td>\n",
       "      <td>Lvl</td>\n",
       "      <td>AllPub</td>\n",
       "      <td>Inside</td>\n",
       "      <td>Gtl</td>\n",
       "      <td>CollgCr</td>\n",
       "      <td>Norm</td>\n",
       "      <td>Norm</td>\n",
       "      <td>1Fam</td>\n",
       "      <td>2Story</td>\n",
       "      <td>7</td>\n",
       "      <td>5</td>\n",
       "      <td>2001</td>\n",
       "      <td>2002</td>\n",
       "      <td>Gable</td>\n",
       "      <td>CompShg</td>\n",
       "      <td>VinylSd</td>\n",
       "      <td>VinylSd</td>\n",
       "      <td>BrkFace</td>\n",
       "      <td>162.0</td>\n",
       "      <td>Gd</td>\n",
       "      <td>TA</td>\n",
       "      <td>PConc</td>\n",
       "      <td>Gd</td>\n",
       "      <td>TA</td>\n",
       "      <td>Mn</td>\n",
       "      <td>GLQ</td>\n",
       "      <td>486</td>\n",
       "      <td>Unf</td>\n",
       "      <td>0</td>\n",
       "      <td>434</td>\n",
       "      <td>920</td>\n",
       "      <td>GasA</td>\n",
       "      <td>Ex</td>\n",
       "      <td>Y</td>\n",
       "      <td>SBrkr</td>\n",
       "      <td>920</td>\n",
       "      <td>866</td>\n",
       "      <td>0</td>\n",
       "      <td>1786</td>\n",
       "      <td>1</td>\n",
       "      <td>0</td>\n",
       "      <td>2</td>\n",
       "      <td>1</td>\n",
       "      <td>3</td>\n",
       "      <td>1</td>\n",
       "      <td>Gd</td>\n",
       "      <td>6</td>\n",
       "      <td>Typ</td>\n",
       "      <td>1</td>\n",
       "      <td>TA</td>\n",
       "      <td>Attchd</td>\n",
       "      <td>2001.0</td>\n",
       "      <td>RFn</td>\n",
       "      <td>2</td>\n",
       "      <td>608</td>\n",
       "      <td>TA</td>\n",
       "      <td>TA</td>\n",
       "      <td>Y</td>\n",
       "      <td>0</td>\n",
       "      <td>42</td>\n",
       "      <td>0</td>\n",
       "      <td>0</td>\n",
       "      <td>0</td>\n",
       "      <td>0</td>\n",
       "      <td>NaN</td>\n",
       "      <td>NaN</td>\n",
       "      <td>NaN</td>\n",
       "      <td>0</td>\n",
       "      <td>9</td>\n",
       "      <td>2008</td>\n",
       "      <td>WD</td>\n",
       "      <td>Normal</td>\n",
       "      <td>223500</td>\n",
       "    </tr>\n",
       "    <tr>\n",
       "      <th>3</th>\n",
       "      <td>4</td>\n",
       "      <td>70</td>\n",
       "      <td>RL</td>\n",
       "      <td>60.0</td>\n",
       "      <td>9550</td>\n",
       "      <td>Pave</td>\n",
       "      <td>NaN</td>\n",
       "      <td>IR1</td>\n",
       "      <td>Lvl</td>\n",
       "      <td>AllPub</td>\n",
       "      <td>Corner</td>\n",
       "      <td>Gtl</td>\n",
       "      <td>Crawfor</td>\n",
       "      <td>Norm</td>\n",
       "      <td>Norm</td>\n",
       "      <td>1Fam</td>\n",
       "      <td>2Story</td>\n",
       "      <td>7</td>\n",
       "      <td>5</td>\n",
       "      <td>1915</td>\n",
       "      <td>1970</td>\n",
       "      <td>Gable</td>\n",
       "      <td>CompShg</td>\n",
       "      <td>Wd Sdng</td>\n",
       "      <td>Wd Shng</td>\n",
       "      <td>None</td>\n",
       "      <td>0.0</td>\n",
       "      <td>TA</td>\n",
       "      <td>TA</td>\n",
       "      <td>BrkTil</td>\n",
       "      <td>TA</td>\n",
       "      <td>Gd</td>\n",
       "      <td>No</td>\n",
       "      <td>ALQ</td>\n",
       "      <td>216</td>\n",
       "      <td>Unf</td>\n",
       "      <td>0</td>\n",
       "      <td>540</td>\n",
       "      <td>756</td>\n",
       "      <td>GasA</td>\n",
       "      <td>Gd</td>\n",
       "      <td>Y</td>\n",
       "      <td>SBrkr</td>\n",
       "      <td>961</td>\n",
       "      <td>756</td>\n",
       "      <td>0</td>\n",
       "      <td>1717</td>\n",
       "      <td>1</td>\n",
       "      <td>0</td>\n",
       "      <td>1</td>\n",
       "      <td>0</td>\n",
       "      <td>3</td>\n",
       "      <td>1</td>\n",
       "      <td>Gd</td>\n",
       "      <td>7</td>\n",
       "      <td>Typ</td>\n",
       "      <td>1</td>\n",
       "      <td>Gd</td>\n",
       "      <td>Detchd</td>\n",
       "      <td>1998.0</td>\n",
       "      <td>Unf</td>\n",
       "      <td>3</td>\n",
       "      <td>642</td>\n",
       "      <td>TA</td>\n",
       "      <td>TA</td>\n",
       "      <td>Y</td>\n",
       "      <td>0</td>\n",
       "      <td>35</td>\n",
       "      <td>272</td>\n",
       "      <td>0</td>\n",
       "      <td>0</td>\n",
       "      <td>0</td>\n",
       "      <td>NaN</td>\n",
       "      <td>NaN</td>\n",
       "      <td>NaN</td>\n",
       "      <td>0</td>\n",
       "      <td>2</td>\n",
       "      <td>2006</td>\n",
       "      <td>WD</td>\n",
       "      <td>Abnorml</td>\n",
       "      <td>140000</td>\n",
       "    </tr>\n",
       "    <tr>\n",
       "      <th>4</th>\n",
       "      <td>5</td>\n",
       "      <td>60</td>\n",
       "      <td>RL</td>\n",
       "      <td>84.0</td>\n",
       "      <td>14260</td>\n",
       "      <td>Pave</td>\n",
       "      <td>NaN</td>\n",
       "      <td>IR1</td>\n",
       "      <td>Lvl</td>\n",
       "      <td>AllPub</td>\n",
       "      <td>FR2</td>\n",
       "      <td>Gtl</td>\n",
       "      <td>NoRidge</td>\n",
       "      <td>Norm</td>\n",
       "      <td>Norm</td>\n",
       "      <td>1Fam</td>\n",
       "      <td>2Story</td>\n",
       "      <td>8</td>\n",
       "      <td>5</td>\n",
       "      <td>2000</td>\n",
       "      <td>2000</td>\n",
       "      <td>Gable</td>\n",
       "      <td>CompShg</td>\n",
       "      <td>VinylSd</td>\n",
       "      <td>VinylSd</td>\n",
       "      <td>BrkFace</td>\n",
       "      <td>350.0</td>\n",
       "      <td>Gd</td>\n",
       "      <td>TA</td>\n",
       "      <td>PConc</td>\n",
       "      <td>Gd</td>\n",
       "      <td>TA</td>\n",
       "      <td>Av</td>\n",
       "      <td>GLQ</td>\n",
       "      <td>655</td>\n",
       "      <td>Unf</td>\n",
       "      <td>0</td>\n",
       "      <td>490</td>\n",
       "      <td>1145</td>\n",
       "      <td>GasA</td>\n",
       "      <td>Ex</td>\n",
       "      <td>Y</td>\n",
       "      <td>SBrkr</td>\n",
       "      <td>1145</td>\n",
       "      <td>1053</td>\n",
       "      <td>0</td>\n",
       "      <td>2198</td>\n",
       "      <td>1</td>\n",
       "      <td>0</td>\n",
       "      <td>2</td>\n",
       "      <td>1</td>\n",
       "      <td>4</td>\n",
       "      <td>1</td>\n",
       "      <td>Gd</td>\n",
       "      <td>9</td>\n",
       "      <td>Typ</td>\n",
       "      <td>1</td>\n",
       "      <td>TA</td>\n",
       "      <td>Attchd</td>\n",
       "      <td>2000.0</td>\n",
       "      <td>RFn</td>\n",
       "      <td>3</td>\n",
       "      <td>836</td>\n",
       "      <td>TA</td>\n",
       "      <td>TA</td>\n",
       "      <td>Y</td>\n",
       "      <td>192</td>\n",
       "      <td>84</td>\n",
       "      <td>0</td>\n",
       "      <td>0</td>\n",
       "      <td>0</td>\n",
       "      <td>0</td>\n",
       "      <td>NaN</td>\n",
       "      <td>NaN</td>\n",
       "      <td>NaN</td>\n",
       "      <td>0</td>\n",
       "      <td>12</td>\n",
       "      <td>2008</td>\n",
       "      <td>WD</td>\n",
       "      <td>Normal</td>\n",
       "      <td>250000</td>\n",
       "    </tr>\n",
       "  </tbody>\n",
       "</table>\n",
       "</div>"
      ],
      "text/plain": [
       "   Id  MSSubClass MSZoning  LotFrontage  LotArea Street Alley LotShape  \\\n",
       "0   1          60       RL         65.0     8450   Pave   NaN      Reg   \n",
       "1   2          20       RL         80.0     9600   Pave   NaN      Reg   \n",
       "2   3          60       RL         68.0    11250   Pave   NaN      IR1   \n",
       "3   4          70       RL         60.0     9550   Pave   NaN      IR1   \n",
       "4   5          60       RL         84.0    14260   Pave   NaN      IR1   \n",
       "\n",
       "  LandContour Utilities LotConfig LandSlope Neighborhood Condition1  \\\n",
       "0         Lvl    AllPub    Inside       Gtl      CollgCr       Norm   \n",
       "1         Lvl    AllPub       FR2       Gtl      Veenker      Feedr   \n",
       "2         Lvl    AllPub    Inside       Gtl      CollgCr       Norm   \n",
       "3         Lvl    AllPub    Corner       Gtl      Crawfor       Norm   \n",
       "4         Lvl    AllPub       FR2       Gtl      NoRidge       Norm   \n",
       "\n",
       "  Condition2 BldgType HouseStyle  OverallQual  OverallCond  YearBuilt  \\\n",
       "0       Norm     1Fam     2Story            7            5       2003   \n",
       "1       Norm     1Fam     1Story            6            8       1976   \n",
       "2       Norm     1Fam     2Story            7            5       2001   \n",
       "3       Norm     1Fam     2Story            7            5       1915   \n",
       "4       Norm     1Fam     2Story            8            5       2000   \n",
       "\n",
       "   YearRemodAdd RoofStyle RoofMatl Exterior1st Exterior2nd MasVnrType  \\\n",
       "0          2003     Gable  CompShg     VinylSd     VinylSd    BrkFace   \n",
       "1          1976     Gable  CompShg     MetalSd     MetalSd       None   \n",
       "2          2002     Gable  CompShg     VinylSd     VinylSd    BrkFace   \n",
       "3          1970     Gable  CompShg     Wd Sdng     Wd Shng       None   \n",
       "4          2000     Gable  CompShg     VinylSd     VinylSd    BrkFace   \n",
       "\n",
       "   MasVnrArea ExterQual ExterCond Foundation BsmtQual BsmtCond BsmtExposure  \\\n",
       "0       196.0        Gd        TA      PConc       Gd       TA           No   \n",
       "1         0.0        TA        TA     CBlock       Gd       TA           Gd   \n",
       "2       162.0        Gd        TA      PConc       Gd       TA           Mn   \n",
       "3         0.0        TA        TA     BrkTil       TA       Gd           No   \n",
       "4       350.0        Gd        TA      PConc       Gd       TA           Av   \n",
       "\n",
       "  BsmtFinType1  BsmtFinSF1 BsmtFinType2  BsmtFinSF2  BsmtUnfSF  TotalBsmtSF  \\\n",
       "0          GLQ         706          Unf           0        150          856   \n",
       "1          ALQ         978          Unf           0        284         1262   \n",
       "2          GLQ         486          Unf           0        434          920   \n",
       "3          ALQ         216          Unf           0        540          756   \n",
       "4          GLQ         655          Unf           0        490         1145   \n",
       "\n",
       "  Heating HeatingQC CentralAir Electrical  1stFlrSF  2ndFlrSF  LowQualFinSF  \\\n",
       "0    GasA        Ex          Y      SBrkr       856       854             0   \n",
       "1    GasA        Ex          Y      SBrkr      1262         0             0   \n",
       "2    GasA        Ex          Y      SBrkr       920       866             0   \n",
       "3    GasA        Gd          Y      SBrkr       961       756             0   \n",
       "4    GasA        Ex          Y      SBrkr      1145      1053             0   \n",
       "\n",
       "   GrLivArea  BsmtFullBath  BsmtHalfBath  FullBath  HalfBath  BedroomAbvGr  \\\n",
       "0       1710             1             0         2         1             3   \n",
       "1       1262             0             1         2         0             3   \n",
       "2       1786             1             0         2         1             3   \n",
       "3       1717             1             0         1         0             3   \n",
       "4       2198             1             0         2         1             4   \n",
       "\n",
       "   KitchenAbvGr KitchenQual  TotRmsAbvGrd Functional  Fireplaces FireplaceQu  \\\n",
       "0             1          Gd             8        Typ           0         NaN   \n",
       "1             1          TA             6        Typ           1          TA   \n",
       "2             1          Gd             6        Typ           1          TA   \n",
       "3             1          Gd             7        Typ           1          Gd   \n",
       "4             1          Gd             9        Typ           1          TA   \n",
       "\n",
       "  GarageType  GarageYrBlt GarageFinish  GarageCars  GarageArea GarageQual  \\\n",
       "0     Attchd       2003.0          RFn           2         548         TA   \n",
       "1     Attchd       1976.0          RFn           2         460         TA   \n",
       "2     Attchd       2001.0          RFn           2         608         TA   \n",
       "3     Detchd       1998.0          Unf           3         642         TA   \n",
       "4     Attchd       2000.0          RFn           3         836         TA   \n",
       "\n",
       "  GarageCond PavedDrive  WoodDeckSF  OpenPorchSF  EnclosedPorch  3SsnPorch  \\\n",
       "0         TA          Y           0           61              0          0   \n",
       "1         TA          Y         298            0              0          0   \n",
       "2         TA          Y           0           42              0          0   \n",
       "3         TA          Y           0           35            272          0   \n",
       "4         TA          Y         192           84              0          0   \n",
       "\n",
       "   ScreenPorch  PoolArea PoolQC Fence MiscFeature  MiscVal  MoSold  YrSold  \\\n",
       "0            0         0    NaN   NaN         NaN        0       2    2008   \n",
       "1            0         0    NaN   NaN         NaN        0       5    2007   \n",
       "2            0         0    NaN   NaN         NaN        0       9    2008   \n",
       "3            0         0    NaN   NaN         NaN        0       2    2006   \n",
       "4            0         0    NaN   NaN         NaN        0      12    2008   \n",
       "\n",
       "  SaleType SaleCondition  SalePrice  \n",
       "0       WD        Normal     208500  \n",
       "1       WD        Normal     181500  \n",
       "2       WD        Normal     223500  \n",
       "3       WD       Abnorml     140000  \n",
       "4       WD        Normal     250000  "
      ]
     },
     "execution_count": 4,
     "metadata": {},
     "output_type": "execute_result"
    }
   ],
   "source": [
    "data.head()"
   ]
  },
  {
   "cell_type": "code",
   "execution_count": 5,
   "id": "3c26257a",
   "metadata": {
    "ExecuteTime": {
     "end_time": "2022-11-01T11:42:38.975075Z",
     "start_time": "2022-11-01T11:42:38.960071Z"
    },
    "hidden": true
   },
   "outputs": [
    {
     "name": "stdout",
     "output_type": "stream",
     "text": [
      "Nrows: 1460\n",
      "Ncols: 1460\n",
      "rows/cols ratio: 18.02469135802469\n"
     ]
    }
   ],
   "source": [
    "print('Nrows:', data.shape[0])\n",
    "print('Ncols:', data.shape[0])\n",
    "print('rows/cols ratio:', data.shape[0]/data.shape[1])"
   ]
  },
  {
   "cell_type": "markdown",
   "id": "85e0fb1f",
   "metadata": {
    "hidden": true
   },
   "source": [
    "- Rows/cols ratio seems to be pretty small, taking into consideration the fact that lot of variables are of type 'object'. Thus, dimensionality reduction must be held for sure"
   ]
  },
  {
   "cell_type": "code",
   "execution_count": 6,
   "id": "bb3bb68d",
   "metadata": {
    "ExecuteTime": {
     "end_time": "2022-11-01T11:42:38.990552Z",
     "start_time": "2022-11-01T11:42:38.976062Z"
    },
    "hidden": true
   },
   "outputs": [
    {
     "name": "stdout",
     "output_type": "stream",
     "text": [
      "Id                 int64\n",
      "MSSubClass         int64\n",
      "MSZoning          object\n",
      "LotFrontage      float64\n",
      "LotArea            int64\n",
      "Street            object\n",
      "Alley             object\n",
      "LotShape          object\n",
      "LandContour       object\n",
      "Utilities         object\n",
      "LotConfig         object\n",
      "LandSlope         object\n",
      "Neighborhood      object\n",
      "Condition1        object\n",
      "Condition2        object\n",
      "BldgType          object\n",
      "HouseStyle        object\n",
      "OverallQual        int64\n",
      "OverallCond        int64\n",
      "YearBuilt          int64\n",
      "YearRemodAdd       int64\n",
      "RoofStyle         object\n",
      "RoofMatl          object\n",
      "Exterior1st       object\n",
      "Exterior2nd       object\n",
      "MasVnrType        object\n",
      "MasVnrArea       float64\n",
      "ExterQual         object\n",
      "ExterCond         object\n",
      "Foundation        object\n",
      "BsmtQual          object\n",
      "BsmtCond          object\n",
      "BsmtExposure      object\n",
      "BsmtFinType1      object\n",
      "BsmtFinSF1         int64\n",
      "BsmtFinType2      object\n",
      "BsmtFinSF2         int64\n",
      "BsmtUnfSF          int64\n",
      "TotalBsmtSF        int64\n",
      "Heating           object\n",
      "HeatingQC         object\n",
      "CentralAir        object\n",
      "Electrical        object\n",
      "1stFlrSF           int64\n",
      "2ndFlrSF           int64\n",
      "LowQualFinSF       int64\n",
      "GrLivArea          int64\n",
      "BsmtFullBath       int64\n",
      "BsmtHalfBath       int64\n",
      "FullBath           int64\n",
      "HalfBath           int64\n",
      "BedroomAbvGr       int64\n",
      "KitchenAbvGr       int64\n",
      "KitchenQual       object\n",
      "TotRmsAbvGrd       int64\n",
      "Functional        object\n",
      "Fireplaces         int64\n",
      "FireplaceQu       object\n",
      "GarageType        object\n",
      "GarageYrBlt      float64\n",
      "GarageFinish      object\n",
      "GarageCars         int64\n",
      "GarageArea         int64\n",
      "GarageQual        object\n",
      "GarageCond        object\n",
      "PavedDrive        object\n",
      "WoodDeckSF         int64\n",
      "OpenPorchSF        int64\n",
      "EnclosedPorch      int64\n",
      "3SsnPorch          int64\n",
      "ScreenPorch        int64\n",
      "PoolArea           int64\n",
      "PoolQC            object\n",
      "Fence             object\n",
      "MiscFeature       object\n",
      "MiscVal            int64\n",
      "MoSold             int64\n",
      "YrSold             int64\n",
      "SaleType          object\n",
      "SaleCondition     object\n",
      "SalePrice          int64\n"
     ]
    }
   ],
   "source": [
    "print(data.dtypes.to_string())"
   ]
  },
  {
   "cell_type": "code",
   "execution_count": 7,
   "id": "adc7c56e",
   "metadata": {
    "ExecuteTime": {
     "end_time": "2022-11-01T11:42:39.006660Z",
     "start_time": "2022-11-01T11:42:38.992556Z"
    },
    "hidden": true
   },
   "outputs": [
    {
     "name": "stdout",
     "output_type": "stream",
     "text": [
      "Number of integer columns: 35\n",
      "Number of float columns: 3\n",
      "Number of string columns: 43\n"
     ]
    }
   ],
   "source": [
    "print('Number of integer columns:', len(data.dtypes[data.dtypes == 'int64']))\n",
    "print('Number of float columns:', len(data.dtypes[data.dtypes == 'float64']))\n",
    "print('Number of string columns:', len(data.dtypes[data.dtypes == 'object']))"
   ]
  },
  {
   "cell_type": "code",
   "execution_count": 8,
   "id": "f04d5971",
   "metadata": {
    "ExecuteTime": {
     "end_time": "2022-11-01T11:42:39.022652Z",
     "start_time": "2022-11-01T11:42:39.008661Z"
    },
    "hidden": true,
    "scrolled": true
   },
   "outputs": [
    {
     "name": "stdout",
     "output_type": "stream",
     "text": [
      "Id                  0\n",
      "MSSubClass          0\n",
      "MSZoning            0\n",
      "LotFrontage       259\n",
      "LotArea             0\n",
      "Street              0\n",
      "Alley            1369\n",
      "LotShape            0\n",
      "LandContour         0\n",
      "Utilities           0\n",
      "LotConfig           0\n",
      "LandSlope           0\n",
      "Neighborhood        0\n",
      "Condition1          0\n",
      "Condition2          0\n",
      "BldgType            0\n",
      "HouseStyle          0\n",
      "OverallQual         0\n",
      "OverallCond         0\n",
      "YearBuilt           0\n",
      "YearRemodAdd        0\n",
      "RoofStyle           0\n",
      "RoofMatl            0\n",
      "Exterior1st         0\n",
      "Exterior2nd         0\n",
      "MasVnrType          8\n",
      "MasVnrArea          8\n",
      "ExterQual           0\n",
      "ExterCond           0\n",
      "Foundation          0\n",
      "BsmtQual           37\n",
      "BsmtCond           37\n",
      "BsmtExposure       38\n",
      "BsmtFinType1       37\n",
      "BsmtFinSF1          0\n",
      "BsmtFinType2       38\n",
      "BsmtFinSF2          0\n",
      "BsmtUnfSF           0\n",
      "TotalBsmtSF         0\n",
      "Heating             0\n",
      "HeatingQC           0\n",
      "CentralAir          0\n",
      "Electrical          1\n",
      "1stFlrSF            0\n",
      "2ndFlrSF            0\n",
      "LowQualFinSF        0\n",
      "GrLivArea           0\n",
      "BsmtFullBath        0\n",
      "BsmtHalfBath        0\n",
      "FullBath            0\n",
      "HalfBath            0\n",
      "BedroomAbvGr        0\n",
      "KitchenAbvGr        0\n",
      "KitchenQual         0\n",
      "TotRmsAbvGrd        0\n",
      "Functional          0\n",
      "Fireplaces          0\n",
      "FireplaceQu       690\n",
      "GarageType         81\n",
      "GarageYrBlt        81\n",
      "GarageFinish       81\n",
      "GarageCars          0\n",
      "GarageArea          0\n",
      "GarageQual         81\n",
      "GarageCond         81\n",
      "PavedDrive          0\n",
      "WoodDeckSF          0\n",
      "OpenPorchSF         0\n",
      "EnclosedPorch       0\n",
      "3SsnPorch           0\n",
      "ScreenPorch         0\n",
      "PoolArea            0\n",
      "PoolQC           1453\n",
      "Fence            1179\n",
      "MiscFeature      1406\n",
      "MiscVal             0\n",
      "MoSold              0\n",
      "YrSold              0\n",
      "SaleType            0\n",
      "SaleCondition       0\n",
      "SalePrice           0\n"
     ]
    }
   ],
   "source": [
    "print(data.isna().sum().to_string())"
   ]
  },
  {
   "cell_type": "markdown",
   "id": "6171bbb3",
   "metadata": {
    "hidden": true
   },
   "source": [
    "- MiscFeature is totally absent?\n",
    "- PoolQC, FireplaceQu, Alley, Fence may be absent rather due to natural reasons (just no fireplaces, pools in the house)\n",
    "- Others must be ivestigated more throughly"
   ]
  },
  {
   "cell_type": "code",
   "execution_count": 9,
   "id": "2a761f3c",
   "metadata": {
    "ExecuteTime": {
     "end_time": "2022-11-01T11:42:39.100742Z",
     "start_time": "2022-11-01T11:42:39.025645Z"
    },
    "hidden": true,
    "scrolled": true
   },
   "outputs": [
    {
     "data": {
      "text/html": [
       "<div>\n",
       "<style scoped>\n",
       "    .dataframe tbody tr th:only-of-type {\n",
       "        vertical-align: middle;\n",
       "    }\n",
       "\n",
       "    .dataframe tbody tr th {\n",
       "        vertical-align: top;\n",
       "    }\n",
       "\n",
       "    .dataframe thead th {\n",
       "        text-align: right;\n",
       "    }\n",
       "</style>\n",
       "<table border=\"1\" class=\"dataframe\">\n",
       "  <thead>\n",
       "    <tr style=\"text-align: right;\">\n",
       "      <th></th>\n",
       "      <th>Id</th>\n",
       "      <th>MSSubClass</th>\n",
       "      <th>LotFrontage</th>\n",
       "      <th>LotArea</th>\n",
       "      <th>OverallQual</th>\n",
       "      <th>OverallCond</th>\n",
       "      <th>YearBuilt</th>\n",
       "      <th>YearRemodAdd</th>\n",
       "      <th>MasVnrArea</th>\n",
       "      <th>BsmtFinSF1</th>\n",
       "      <th>BsmtFinSF2</th>\n",
       "      <th>BsmtUnfSF</th>\n",
       "      <th>TotalBsmtSF</th>\n",
       "      <th>1stFlrSF</th>\n",
       "      <th>2ndFlrSF</th>\n",
       "      <th>LowQualFinSF</th>\n",
       "      <th>GrLivArea</th>\n",
       "      <th>BsmtFullBath</th>\n",
       "      <th>BsmtHalfBath</th>\n",
       "      <th>FullBath</th>\n",
       "      <th>HalfBath</th>\n",
       "      <th>BedroomAbvGr</th>\n",
       "      <th>KitchenAbvGr</th>\n",
       "      <th>TotRmsAbvGrd</th>\n",
       "      <th>Fireplaces</th>\n",
       "      <th>GarageYrBlt</th>\n",
       "      <th>GarageCars</th>\n",
       "      <th>GarageArea</th>\n",
       "      <th>WoodDeckSF</th>\n",
       "      <th>OpenPorchSF</th>\n",
       "      <th>EnclosedPorch</th>\n",
       "      <th>3SsnPorch</th>\n",
       "      <th>ScreenPorch</th>\n",
       "      <th>PoolArea</th>\n",
       "      <th>MiscVal</th>\n",
       "      <th>MoSold</th>\n",
       "      <th>YrSold</th>\n",
       "      <th>SalePrice</th>\n",
       "    </tr>\n",
       "  </thead>\n",
       "  <tbody>\n",
       "    <tr>\n",
       "      <th>count</th>\n",
       "      <td>1460.000000</td>\n",
       "      <td>1460.000000</td>\n",
       "      <td>1201.000000</td>\n",
       "      <td>1460.000000</td>\n",
       "      <td>1460.000000</td>\n",
       "      <td>1460.000000</td>\n",
       "      <td>1460.000000</td>\n",
       "      <td>1460.000000</td>\n",
       "      <td>1452.000000</td>\n",
       "      <td>1460.000000</td>\n",
       "      <td>1460.000000</td>\n",
       "      <td>1460.000000</td>\n",
       "      <td>1460.000000</td>\n",
       "      <td>1460.000000</td>\n",
       "      <td>1460.000000</td>\n",
       "      <td>1460.000000</td>\n",
       "      <td>1460.000000</td>\n",
       "      <td>1460.000000</td>\n",
       "      <td>1460.000000</td>\n",
       "      <td>1460.000000</td>\n",
       "      <td>1460.000000</td>\n",
       "      <td>1460.000000</td>\n",
       "      <td>1460.000000</td>\n",
       "      <td>1460.000000</td>\n",
       "      <td>1460.000000</td>\n",
       "      <td>1379.000000</td>\n",
       "      <td>1460.000000</td>\n",
       "      <td>1460.000000</td>\n",
       "      <td>1460.000000</td>\n",
       "      <td>1460.000000</td>\n",
       "      <td>1460.000000</td>\n",
       "      <td>1460.000000</td>\n",
       "      <td>1460.000000</td>\n",
       "      <td>1460.000000</td>\n",
       "      <td>1460.000000</td>\n",
       "      <td>1460.000000</td>\n",
       "      <td>1460.000000</td>\n",
       "      <td>1460.000000</td>\n",
       "    </tr>\n",
       "    <tr>\n",
       "      <th>mean</th>\n",
       "      <td>730.500000</td>\n",
       "      <td>56.897260</td>\n",
       "      <td>70.049958</td>\n",
       "      <td>10516.828082</td>\n",
       "      <td>6.099315</td>\n",
       "      <td>5.575342</td>\n",
       "      <td>1971.267808</td>\n",
       "      <td>1984.865753</td>\n",
       "      <td>103.685262</td>\n",
       "      <td>443.639726</td>\n",
       "      <td>46.549315</td>\n",
       "      <td>567.240411</td>\n",
       "      <td>1057.429452</td>\n",
       "      <td>1162.626712</td>\n",
       "      <td>346.992466</td>\n",
       "      <td>5.844521</td>\n",
       "      <td>1515.463699</td>\n",
       "      <td>0.425342</td>\n",
       "      <td>0.057534</td>\n",
       "      <td>1.565068</td>\n",
       "      <td>0.382877</td>\n",
       "      <td>2.866438</td>\n",
       "      <td>1.046575</td>\n",
       "      <td>6.517808</td>\n",
       "      <td>0.613014</td>\n",
       "      <td>1978.506164</td>\n",
       "      <td>1.767123</td>\n",
       "      <td>472.980137</td>\n",
       "      <td>94.244521</td>\n",
       "      <td>46.660274</td>\n",
       "      <td>21.954110</td>\n",
       "      <td>3.409589</td>\n",
       "      <td>15.060959</td>\n",
       "      <td>2.758904</td>\n",
       "      <td>43.489041</td>\n",
       "      <td>6.321918</td>\n",
       "      <td>2007.815753</td>\n",
       "      <td>180921.195890</td>\n",
       "    </tr>\n",
       "    <tr>\n",
       "      <th>std</th>\n",
       "      <td>421.610009</td>\n",
       "      <td>42.300571</td>\n",
       "      <td>24.284752</td>\n",
       "      <td>9981.264932</td>\n",
       "      <td>1.382997</td>\n",
       "      <td>1.112799</td>\n",
       "      <td>30.202904</td>\n",
       "      <td>20.645407</td>\n",
       "      <td>181.066207</td>\n",
       "      <td>456.098091</td>\n",
       "      <td>161.319273</td>\n",
       "      <td>441.866955</td>\n",
       "      <td>438.705324</td>\n",
       "      <td>386.587738</td>\n",
       "      <td>436.528436</td>\n",
       "      <td>48.623081</td>\n",
       "      <td>525.480383</td>\n",
       "      <td>0.518911</td>\n",
       "      <td>0.238753</td>\n",
       "      <td>0.550916</td>\n",
       "      <td>0.502885</td>\n",
       "      <td>0.815778</td>\n",
       "      <td>0.220338</td>\n",
       "      <td>1.625393</td>\n",
       "      <td>0.644666</td>\n",
       "      <td>24.689725</td>\n",
       "      <td>0.747315</td>\n",
       "      <td>213.804841</td>\n",
       "      <td>125.338794</td>\n",
       "      <td>66.256028</td>\n",
       "      <td>61.119149</td>\n",
       "      <td>29.317331</td>\n",
       "      <td>55.757415</td>\n",
       "      <td>40.177307</td>\n",
       "      <td>496.123024</td>\n",
       "      <td>2.703626</td>\n",
       "      <td>1.328095</td>\n",
       "      <td>79442.502883</td>\n",
       "    </tr>\n",
       "    <tr>\n",
       "      <th>min</th>\n",
       "      <td>1.000000</td>\n",
       "      <td>20.000000</td>\n",
       "      <td>21.000000</td>\n",
       "      <td>1300.000000</td>\n",
       "      <td>1.000000</td>\n",
       "      <td>1.000000</td>\n",
       "      <td>1872.000000</td>\n",
       "      <td>1950.000000</td>\n",
       "      <td>0.000000</td>\n",
       "      <td>0.000000</td>\n",
       "      <td>0.000000</td>\n",
       "      <td>0.000000</td>\n",
       "      <td>0.000000</td>\n",
       "      <td>334.000000</td>\n",
       "      <td>0.000000</td>\n",
       "      <td>0.000000</td>\n",
       "      <td>334.000000</td>\n",
       "      <td>0.000000</td>\n",
       "      <td>0.000000</td>\n",
       "      <td>0.000000</td>\n",
       "      <td>0.000000</td>\n",
       "      <td>0.000000</td>\n",
       "      <td>0.000000</td>\n",
       "      <td>2.000000</td>\n",
       "      <td>0.000000</td>\n",
       "      <td>1900.000000</td>\n",
       "      <td>0.000000</td>\n",
       "      <td>0.000000</td>\n",
       "      <td>0.000000</td>\n",
       "      <td>0.000000</td>\n",
       "      <td>0.000000</td>\n",
       "      <td>0.000000</td>\n",
       "      <td>0.000000</td>\n",
       "      <td>0.000000</td>\n",
       "      <td>0.000000</td>\n",
       "      <td>1.000000</td>\n",
       "      <td>2006.000000</td>\n",
       "      <td>34900.000000</td>\n",
       "    </tr>\n",
       "    <tr>\n",
       "      <th>25%</th>\n",
       "      <td>365.750000</td>\n",
       "      <td>20.000000</td>\n",
       "      <td>59.000000</td>\n",
       "      <td>7553.500000</td>\n",
       "      <td>5.000000</td>\n",
       "      <td>5.000000</td>\n",
       "      <td>1954.000000</td>\n",
       "      <td>1967.000000</td>\n",
       "      <td>0.000000</td>\n",
       "      <td>0.000000</td>\n",
       "      <td>0.000000</td>\n",
       "      <td>223.000000</td>\n",
       "      <td>795.750000</td>\n",
       "      <td>882.000000</td>\n",
       "      <td>0.000000</td>\n",
       "      <td>0.000000</td>\n",
       "      <td>1129.500000</td>\n",
       "      <td>0.000000</td>\n",
       "      <td>0.000000</td>\n",
       "      <td>1.000000</td>\n",
       "      <td>0.000000</td>\n",
       "      <td>2.000000</td>\n",
       "      <td>1.000000</td>\n",
       "      <td>5.000000</td>\n",
       "      <td>0.000000</td>\n",
       "      <td>1961.000000</td>\n",
       "      <td>1.000000</td>\n",
       "      <td>334.500000</td>\n",
       "      <td>0.000000</td>\n",
       "      <td>0.000000</td>\n",
       "      <td>0.000000</td>\n",
       "      <td>0.000000</td>\n",
       "      <td>0.000000</td>\n",
       "      <td>0.000000</td>\n",
       "      <td>0.000000</td>\n",
       "      <td>5.000000</td>\n",
       "      <td>2007.000000</td>\n",
       "      <td>129975.000000</td>\n",
       "    </tr>\n",
       "    <tr>\n",
       "      <th>50%</th>\n",
       "      <td>730.500000</td>\n",
       "      <td>50.000000</td>\n",
       "      <td>69.000000</td>\n",
       "      <td>9478.500000</td>\n",
       "      <td>6.000000</td>\n",
       "      <td>5.000000</td>\n",
       "      <td>1973.000000</td>\n",
       "      <td>1994.000000</td>\n",
       "      <td>0.000000</td>\n",
       "      <td>383.500000</td>\n",
       "      <td>0.000000</td>\n",
       "      <td>477.500000</td>\n",
       "      <td>991.500000</td>\n",
       "      <td>1087.000000</td>\n",
       "      <td>0.000000</td>\n",
       "      <td>0.000000</td>\n",
       "      <td>1464.000000</td>\n",
       "      <td>0.000000</td>\n",
       "      <td>0.000000</td>\n",
       "      <td>2.000000</td>\n",
       "      <td>0.000000</td>\n",
       "      <td>3.000000</td>\n",
       "      <td>1.000000</td>\n",
       "      <td>6.000000</td>\n",
       "      <td>1.000000</td>\n",
       "      <td>1980.000000</td>\n",
       "      <td>2.000000</td>\n",
       "      <td>480.000000</td>\n",
       "      <td>0.000000</td>\n",
       "      <td>25.000000</td>\n",
       "      <td>0.000000</td>\n",
       "      <td>0.000000</td>\n",
       "      <td>0.000000</td>\n",
       "      <td>0.000000</td>\n",
       "      <td>0.000000</td>\n",
       "      <td>6.000000</td>\n",
       "      <td>2008.000000</td>\n",
       "      <td>163000.000000</td>\n",
       "    </tr>\n",
       "    <tr>\n",
       "      <th>75%</th>\n",
       "      <td>1095.250000</td>\n",
       "      <td>70.000000</td>\n",
       "      <td>80.000000</td>\n",
       "      <td>11601.500000</td>\n",
       "      <td>7.000000</td>\n",
       "      <td>6.000000</td>\n",
       "      <td>2000.000000</td>\n",
       "      <td>2004.000000</td>\n",
       "      <td>166.000000</td>\n",
       "      <td>712.250000</td>\n",
       "      <td>0.000000</td>\n",
       "      <td>808.000000</td>\n",
       "      <td>1298.250000</td>\n",
       "      <td>1391.250000</td>\n",
       "      <td>728.000000</td>\n",
       "      <td>0.000000</td>\n",
       "      <td>1776.750000</td>\n",
       "      <td>1.000000</td>\n",
       "      <td>0.000000</td>\n",
       "      <td>2.000000</td>\n",
       "      <td>1.000000</td>\n",
       "      <td>3.000000</td>\n",
       "      <td>1.000000</td>\n",
       "      <td>7.000000</td>\n",
       "      <td>1.000000</td>\n",
       "      <td>2002.000000</td>\n",
       "      <td>2.000000</td>\n",
       "      <td>576.000000</td>\n",
       "      <td>168.000000</td>\n",
       "      <td>68.000000</td>\n",
       "      <td>0.000000</td>\n",
       "      <td>0.000000</td>\n",
       "      <td>0.000000</td>\n",
       "      <td>0.000000</td>\n",
       "      <td>0.000000</td>\n",
       "      <td>8.000000</td>\n",
       "      <td>2009.000000</td>\n",
       "      <td>214000.000000</td>\n",
       "    </tr>\n",
       "    <tr>\n",
       "      <th>max</th>\n",
       "      <td>1460.000000</td>\n",
       "      <td>190.000000</td>\n",
       "      <td>313.000000</td>\n",
       "      <td>215245.000000</td>\n",
       "      <td>10.000000</td>\n",
       "      <td>9.000000</td>\n",
       "      <td>2010.000000</td>\n",
       "      <td>2010.000000</td>\n",
       "      <td>1600.000000</td>\n",
       "      <td>5644.000000</td>\n",
       "      <td>1474.000000</td>\n",
       "      <td>2336.000000</td>\n",
       "      <td>6110.000000</td>\n",
       "      <td>4692.000000</td>\n",
       "      <td>2065.000000</td>\n",
       "      <td>572.000000</td>\n",
       "      <td>5642.000000</td>\n",
       "      <td>3.000000</td>\n",
       "      <td>2.000000</td>\n",
       "      <td>3.000000</td>\n",
       "      <td>2.000000</td>\n",
       "      <td>8.000000</td>\n",
       "      <td>3.000000</td>\n",
       "      <td>14.000000</td>\n",
       "      <td>3.000000</td>\n",
       "      <td>2010.000000</td>\n",
       "      <td>4.000000</td>\n",
       "      <td>1418.000000</td>\n",
       "      <td>857.000000</td>\n",
       "      <td>547.000000</td>\n",
       "      <td>552.000000</td>\n",
       "      <td>508.000000</td>\n",
       "      <td>480.000000</td>\n",
       "      <td>738.000000</td>\n",
       "      <td>15500.000000</td>\n",
       "      <td>12.000000</td>\n",
       "      <td>2010.000000</td>\n",
       "      <td>755000.000000</td>\n",
       "    </tr>\n",
       "  </tbody>\n",
       "</table>\n",
       "</div>"
      ],
      "text/plain": [
       "                Id   MSSubClass  LotFrontage        LotArea  OverallQual  \\\n",
       "count  1460.000000  1460.000000  1201.000000    1460.000000  1460.000000   \n",
       "mean    730.500000    56.897260    70.049958   10516.828082     6.099315   \n",
       "std     421.610009    42.300571    24.284752    9981.264932     1.382997   \n",
       "min       1.000000    20.000000    21.000000    1300.000000     1.000000   \n",
       "25%     365.750000    20.000000    59.000000    7553.500000     5.000000   \n",
       "50%     730.500000    50.000000    69.000000    9478.500000     6.000000   \n",
       "75%    1095.250000    70.000000    80.000000   11601.500000     7.000000   \n",
       "max    1460.000000   190.000000   313.000000  215245.000000    10.000000   \n",
       "\n",
       "       OverallCond    YearBuilt  YearRemodAdd   MasVnrArea   BsmtFinSF1  \\\n",
       "count  1460.000000  1460.000000   1460.000000  1452.000000  1460.000000   \n",
       "mean      5.575342  1971.267808   1984.865753   103.685262   443.639726   \n",
       "std       1.112799    30.202904     20.645407   181.066207   456.098091   \n",
       "min       1.000000  1872.000000   1950.000000     0.000000     0.000000   \n",
       "25%       5.000000  1954.000000   1967.000000     0.000000     0.000000   \n",
       "50%       5.000000  1973.000000   1994.000000     0.000000   383.500000   \n",
       "75%       6.000000  2000.000000   2004.000000   166.000000   712.250000   \n",
       "max       9.000000  2010.000000   2010.000000  1600.000000  5644.000000   \n",
       "\n",
       "        BsmtFinSF2    BsmtUnfSF  TotalBsmtSF     1stFlrSF     2ndFlrSF  \\\n",
       "count  1460.000000  1460.000000  1460.000000  1460.000000  1460.000000   \n",
       "mean     46.549315   567.240411  1057.429452  1162.626712   346.992466   \n",
       "std     161.319273   441.866955   438.705324   386.587738   436.528436   \n",
       "min       0.000000     0.000000     0.000000   334.000000     0.000000   \n",
       "25%       0.000000   223.000000   795.750000   882.000000     0.000000   \n",
       "50%       0.000000   477.500000   991.500000  1087.000000     0.000000   \n",
       "75%       0.000000   808.000000  1298.250000  1391.250000   728.000000   \n",
       "max    1474.000000  2336.000000  6110.000000  4692.000000  2065.000000   \n",
       "\n",
       "       LowQualFinSF    GrLivArea  BsmtFullBath  BsmtHalfBath     FullBath  \\\n",
       "count   1460.000000  1460.000000   1460.000000   1460.000000  1460.000000   \n",
       "mean       5.844521  1515.463699      0.425342      0.057534     1.565068   \n",
       "std       48.623081   525.480383      0.518911      0.238753     0.550916   \n",
       "min        0.000000   334.000000      0.000000      0.000000     0.000000   \n",
       "25%        0.000000  1129.500000      0.000000      0.000000     1.000000   \n",
       "50%        0.000000  1464.000000      0.000000      0.000000     2.000000   \n",
       "75%        0.000000  1776.750000      1.000000      0.000000     2.000000   \n",
       "max      572.000000  5642.000000      3.000000      2.000000     3.000000   \n",
       "\n",
       "          HalfBath  BedroomAbvGr  KitchenAbvGr  TotRmsAbvGrd   Fireplaces  \\\n",
       "count  1460.000000   1460.000000   1460.000000   1460.000000  1460.000000   \n",
       "mean      0.382877      2.866438      1.046575      6.517808     0.613014   \n",
       "std       0.502885      0.815778      0.220338      1.625393     0.644666   \n",
       "min       0.000000      0.000000      0.000000      2.000000     0.000000   \n",
       "25%       0.000000      2.000000      1.000000      5.000000     0.000000   \n",
       "50%       0.000000      3.000000      1.000000      6.000000     1.000000   \n",
       "75%       1.000000      3.000000      1.000000      7.000000     1.000000   \n",
       "max       2.000000      8.000000      3.000000     14.000000     3.000000   \n",
       "\n",
       "       GarageYrBlt   GarageCars   GarageArea   WoodDeckSF  OpenPorchSF  \\\n",
       "count  1379.000000  1460.000000  1460.000000  1460.000000  1460.000000   \n",
       "mean   1978.506164     1.767123   472.980137    94.244521    46.660274   \n",
       "std      24.689725     0.747315   213.804841   125.338794    66.256028   \n",
       "min    1900.000000     0.000000     0.000000     0.000000     0.000000   \n",
       "25%    1961.000000     1.000000   334.500000     0.000000     0.000000   \n",
       "50%    1980.000000     2.000000   480.000000     0.000000    25.000000   \n",
       "75%    2002.000000     2.000000   576.000000   168.000000    68.000000   \n",
       "max    2010.000000     4.000000  1418.000000   857.000000   547.000000   \n",
       "\n",
       "       EnclosedPorch    3SsnPorch  ScreenPorch     PoolArea       MiscVal  \\\n",
       "count    1460.000000  1460.000000  1460.000000  1460.000000   1460.000000   \n",
       "mean       21.954110     3.409589    15.060959     2.758904     43.489041   \n",
       "std        61.119149    29.317331    55.757415    40.177307    496.123024   \n",
       "min         0.000000     0.000000     0.000000     0.000000      0.000000   \n",
       "25%         0.000000     0.000000     0.000000     0.000000      0.000000   \n",
       "50%         0.000000     0.000000     0.000000     0.000000      0.000000   \n",
       "75%         0.000000     0.000000     0.000000     0.000000      0.000000   \n",
       "max       552.000000   508.000000   480.000000   738.000000  15500.000000   \n",
       "\n",
       "            MoSold       YrSold      SalePrice  \n",
       "count  1460.000000  1460.000000    1460.000000  \n",
       "mean      6.321918  2007.815753  180921.195890  \n",
       "std       2.703626     1.328095   79442.502883  \n",
       "min       1.000000  2006.000000   34900.000000  \n",
       "25%       5.000000  2007.000000  129975.000000  \n",
       "50%       6.000000  2008.000000  163000.000000  \n",
       "75%       8.000000  2009.000000  214000.000000  \n",
       "max      12.000000  2010.000000  755000.000000  "
      ]
     },
     "execution_count": 9,
     "metadata": {},
     "output_type": "execute_result"
    }
   ],
   "source": [
    "data.describe()"
   ]
  },
  {
   "cell_type": "markdown",
   "id": "48f126fe",
   "metadata": {
    "hidden": true
   },
   "source": [
    "- There are significant outliers almost in every variable\n",
    "- Most of the houses were sold before the global financal crisis\n",
    "- All of the houses were build before 2010"
   ]
  },
  {
   "cell_type": "code",
   "execution_count": 10,
   "id": "bcbc0fff",
   "metadata": {
    "ExecuteTime": {
     "end_time": "2022-11-01T11:42:39.132156Z",
     "start_time": "2022-11-01T11:42:39.102750Z"
    },
    "hidden": true,
    "scrolled": true
   },
   "outputs": [
    {
     "data": {
      "text/plain": [
       "MSZoning                                 [RL, RM, C (all), FV, RH]\n",
       "Street                                                [Pave, Grvl]\n",
       "Alley                                            [nan, Grvl, Pave]\n",
       "LotShape                                      [Reg, IR1, IR2, IR3]\n",
       "LandContour                                   [Lvl, Bnk, Low, HLS]\n",
       "Utilities                                         [AllPub, NoSeWa]\n",
       "LotConfig                      [Inside, FR2, Corner, CulDSac, FR3]\n",
       "LandSlope                                          [Gtl, Mod, Sev]\n",
       "Neighborhood     [CollgCr, Veenker, Crawfor, NoRidge, Mitchel, ...\n",
       "Condition1       [Norm, Feedr, PosN, Artery, RRAe, RRNn, RRAn, ...\n",
       "Condition2       [Norm, Artery, RRNn, Feedr, PosN, PosA, RRAn, ...\n",
       "BldgType                     [1Fam, 2fmCon, Duplex, TwnhsE, Twnhs]\n",
       "HouseStyle       [2Story, 1Story, 1.5Fin, 1.5Unf, SFoyer, SLvl,...\n",
       "RoofStyle               [Gable, Hip, Gambrel, Mansard, Flat, Shed]\n",
       "RoofMatl         [CompShg, WdShngl, Metal, WdShake, Membran, Ta...\n",
       "Exterior1st      [VinylSd, MetalSd, Wd Sdng, HdBoard, BrkFace, ...\n",
       "Exterior2nd      [VinylSd, MetalSd, Wd Shng, HdBoard, Plywood, ...\n",
       "MasVnrType                     [BrkFace, None, Stone, BrkCmn, nan]\n",
       "ExterQual                                         [Gd, TA, Ex, Fa]\n",
       "ExterCond                                     [TA, Gd, Fa, Po, Ex]\n",
       "Foundation              [PConc, CBlock, BrkTil, Wood, Slab, Stone]\n",
       "BsmtQual                                     [Gd, TA, Ex, nan, Fa]\n",
       "BsmtCond                                     [TA, Gd, nan, Fa, Po]\n",
       "BsmtExposure                                 [No, Gd, Mn, Av, nan]\n",
       "BsmtFinType1                   [GLQ, ALQ, Unf, Rec, BLQ, nan, LwQ]\n",
       "BsmtFinType2                   [Unf, BLQ, nan, ALQ, Rec, LwQ, GLQ]\n",
       "Heating                      [GasA, GasW, Grav, Wall, OthW, Floor]\n",
       "HeatingQC                                     [Ex, Gd, TA, Fa, Po]\n",
       "CentralAir                                                  [Y, N]\n",
       "Electrical                  [SBrkr, FuseF, FuseA, FuseP, Mix, nan]\n",
       "KitchenQual                                       [Gd, TA, Ex, Fa]\n",
       "Functional                 [Typ, Min1, Maj1, Min2, Mod, Maj2, Sev]\n",
       "FireplaceQu                              [nan, TA, Gd, Fa, Ex, Po]\n",
       "GarageType       [Attchd, Detchd, BuiltIn, CarPort, nan, Basmen...\n",
       "GarageFinish                                  [RFn, Unf, Fin, nan]\n",
       "GarageQual                               [TA, Fa, Gd, nan, Ex, Po]\n",
       "GarageCond                               [TA, Fa, nan, Gd, Po, Ex]\n",
       "PavedDrive                                               [Y, N, P]\n",
       "PoolQC                                           [nan, Ex, Fa, Gd]\n",
       "Fence                              [nan, MnPrv, GdWo, GdPrv, MnWw]\n",
       "MiscFeature                          [nan, Shed, Gar2, Othr, TenC]\n",
       "SaleType         [WD, New, COD, ConLD, ConLI, CWD, ConLw, Con, ...\n",
       "SaleCondition    [Normal, Abnorml, Partial, AdjLand, Alloca, Fa...\n",
       "dtype: object"
      ]
     },
     "execution_count": 10,
     "metadata": {},
     "output_type": "execute_result"
    }
   ],
   "source": [
    "data.select_dtypes(['object']).apply(lambda x: x.unique())"
   ]
  },
  {
   "cell_type": "code",
   "execution_count": 11,
   "id": "527265de",
   "metadata": {
    "ExecuteTime": {
     "end_time": "2022-11-01T11:42:39.164252Z",
     "start_time": "2022-11-01T11:42:39.134160Z"
    },
    "hidden": true
   },
   "outputs": [
    {
     "data": {
      "text/plain": [
       "Id               [1, 2, 3, 4, 5, 6, 7, 8, 9, 10, 11, 12, 13, 14...\n",
       "MSSubClass       [60, 20, 70, 50, 190, 45, 90, 120, 30, 85, 80,...\n",
       "LotArea          [8450, 9600, 11250, 9550, 14260, 14115, 10084,...\n",
       "OverallQual                        [7, 6, 8, 5, 9, 4, 10, 3, 1, 2]\n",
       "OverallCond                            [5, 8, 6, 7, 4, 2, 3, 9, 1]\n",
       "YearBuilt        [2003, 1976, 2001, 1915, 2000, 1993, 2004, 197...\n",
       "YearRemodAdd     [2003, 1976, 2002, 1970, 2000, 1995, 2005, 197...\n",
       "BsmtFinSF1       [706, 978, 486, 216, 655, 732, 1369, 859, 0, 8...\n",
       "BsmtFinSF2       [0, 32, 668, 486, 93, 491, 506, 712, 362, 41, ...\n",
       "BsmtUnfSF        [150, 284, 434, 540, 490, 64, 317, 216, 952, 1...\n",
       "TotalBsmtSF      [856, 1262, 920, 756, 1145, 796, 1686, 1107, 9...\n",
       "1stFlrSF         [856, 1262, 920, 961, 1145, 796, 1694, 1107, 1...\n",
       "2ndFlrSF         [854, 0, 866, 756, 1053, 566, 983, 752, 1142, ...\n",
       "LowQualFinSF     [0, 360, 513, 234, 528, 572, 144, 392, 371, 39...\n",
       "GrLivArea        [1710, 1262, 1786, 1717, 2198, 1362, 1694, 209...\n",
       "BsmtFullBath                                          [1, 0, 2, 3]\n",
       "BsmtHalfBath                                             [0, 1, 2]\n",
       "FullBath                                              [2, 1, 3, 0]\n",
       "HalfBath                                                 [1, 0, 2]\n",
       "BedroomAbvGr                              [3, 4, 1, 2, 0, 5, 6, 8]\n",
       "KitchenAbvGr                                          [1, 2, 3, 0]\n",
       "TotRmsAbvGrd              [8, 6, 7, 9, 5, 11, 4, 10, 12, 3, 2, 14]\n",
       "Fireplaces                                            [0, 1, 2, 3]\n",
       "GarageCars                                         [2, 3, 1, 0, 4]\n",
       "GarageArea       [548, 460, 608, 642, 836, 480, 636, 484, 468, ...\n",
       "WoodDeckSF       [0, 298, 192, 40, 255, 235, 90, 147, 140, 160,...\n",
       "OpenPorchSF      [61, 0, 42, 35, 84, 30, 57, 204, 4, 21, 33, 21...\n",
       "EnclosedPorch    [0, 272, 228, 205, 176, 87, 172, 102, 37, 144,...\n",
       "3SsnPorch        [0, 320, 407, 130, 180, 168, 140, 508, 238, 24...\n",
       "ScreenPorch      [0, 176, 198, 291, 252, 99, 184, 168, 130, 142...\n",
       "PoolArea                    [0, 512, 648, 576, 555, 480, 519, 738]\n",
       "MiscVal          [0, 700, 350, 500, 400, 480, 450, 15500, 1200,...\n",
       "MoSold                     [2, 5, 9, 12, 10, 8, 11, 4, 1, 7, 3, 6]\n",
       "YrSold                              [2008, 2007, 2006, 2009, 2010]\n",
       "SalePrice        [208500, 181500, 223500, 140000, 250000, 14300...\n",
       "dtype: object"
      ]
     },
     "execution_count": 11,
     "metadata": {},
     "output_type": "execute_result"
    }
   ],
   "source": [
    "data.select_dtypes(['int64']).apply(lambda x: x.unique())"
   ]
  },
  {
   "cell_type": "markdown",
   "id": "1fd8d7a3",
   "metadata": {
    "heading_collapsed": true
   },
   "source": [
    "# Qualitative (business) analysis"
   ]
  },
  {
   "cell_type": "markdown",
   "id": "bd4c5d9c",
   "metadata": {
    "hidden": true
   },
   "source": [
    "With the statistics shown above, we will try to analize and predict the influence of each variable in the sale price. Each variable will be given a predifined influence (low, medium, high) and the corresponding effect sign(stimulant, distimulant, mixed)"
   ]
  },
  {
   "cell_type": "markdown",
   "id": "010ae954",
   "metadata": {
    "hidden": true
   },
   "source": [
    "- **MSSubClass** — the type of a dwelling:\n",
    "  - must be actually recoded as string, as each number identifies the type of dwelling\n",
    "  - hard to determine influence of each type, but seems like too many categories - thus, binning may be applied\n",
    "  - seems more like and ID variable\n",
    "  - predefined influence: low, mixed\n",
    "  \n",
    "  \n",
    "- **MSZoning** — the general zoning classification: \n",
    "  - seems to be very important variable, as it is intuitive for houses to have lower price near the industrial zones compared to houses near the park\n",
    "  - predefined influence: high, mixed\n",
    "  \n",
    "- **LotFrontage** — length of street connected to a house:\n",
    "  - May be important starting from some length (as too short street may make a frightening impression\n",
    "  - Rather should be one-hot or string variable\n",
    "  - predefined influence: low, stimulant\n",
    "  \n",
    "- **LotArea** — size of the house:\n",
    "  - For sure important variable, the question is the form of the dependency - linear/non-linear\n",
    "  - predefined influence: high, stimulant\n",
    "\n",
    "- **Street** — type of road access to the house:\n",
    "  - Seems to be not so important, may be strongly correlated with some other features (ex. MSZoning)\n",
    "  - predefined influence: low, stimulant\n",
    "\n",
    "- **Alley** — type of alley access to the house:\n",
    "  - May be recoded as 0-1, the alley may look much more appetising for the buyer\n",
    "  - predefined influence: medium, stimulant\n",
    " \n",
    "- **LotShape** — general shape of the house:\n",
    "  - 4 categories may be reduntant, may be recoded as 0-1 (1 - strongly irregular)\n",
    "  - predefined influence: medium, distimulant\n",
    "  \n",
    "- **LandContour** — flatness of the house:\n",
    "  - at some point angle may be significant (for very old house)\n",
    "  - seems to be more expert-known factor\n",
    "  - rather could also be recoded as 0-1\n",
    "  - predefined influence: low, distimulant\n",
    "\n",
    "- **Utilities** — type of utilities available:\n",
    "  - for sure is an importnat variable as utilities are hard and time consuming to enable on your own\n",
    "  - may also be recoded as 0-1\n",
    "  - predefined influence: high, stimulant\n",
    "  \n",
    "- **LotConfig** — house placement compared on the street:\n",
    "  - may be recoded as 3-categorical variable: corner-cul_de_sac-other or as 0-1\n",
    "  - cul_de_sac seems to be importnat in defining the buyers behavior, but not as much as for ex. area\n",
    "  - may be correlated with Alley, Street and other geografical variables\n",
    "  - predefined influence: medium, distimulant\n",
    "\n",
    "- **LandSlope** — flatness of the house:\n",
    "  - at some point angle may be significant (especially for senior buyers)\n",
    "  - rather could also be recoded as 0-1\n",
    "  - predefined influence: low, distimulant\n",
    "  \n",
    "- **Neighborhood**  — physical location of the house within Ames city:\n",
    "  - for sure will be correlated wit some geografical variables\n",
    "  - may also include some etnical/cultural/race/class differencies within the Ames city - unfortunately, I'm not a citizen and the effect of different neighborhoods is unknown to me :(\n",
    "  - predefined influence: medium, mixed\n",
    "  \n",
    "- **Condition1**, **Condition2** — proximity to various conditions of the house:\n",
    "  - for sure important for houses near the railroad (noisy and dirty) and park (calm and clear)\n",
    "  - predefined influence: high, mixed\n",
    "\n",
    "- **BldgType** — type of the house:\n",
    "  - for sure important variable, but may be correlated with some other features\n",
    "  - predefined influence: high, mixed\n",
    "  \n",
    "- **HouseStyle** — style of the house:\n",
    "  - more like ID variable, but unfinished level may be important\n",
    "  - predefined influence: low, mixed\n",
    "  \n",
    "- **OverallQual** — overall material and finish of the house:\n",
    "  - may be correlated with other features\n",
    "  - some categories may be redundant\n",
    "  - predefined influence: medium, distimulant \n",
    "  \n",
    "- **OverallCond** — overall condition of the house:\n",
    "  - may be correlated with other features\n",
    "  - some categories may be redundant\n",
    "  - predefined influence: medium, distimulant\n",
    "  \n",
    "- **YearBuilt** — year of the building:\n",
    "  - at some point may be important, but rather no difference between say 2000 and 2005 - thus, must be recoded somehow\n",
    "  - predefined influence: high, stimulant\n",
    "  \n",
    "- **YearRemodAdd** — remodel date:\n",
    "  - rather important whether it occured and how many times\n",
    "  - may be correlated with other variables\n",
    "  - predefined influence: high, distimulant\n",
    "  \n",
    "-------------------------------------------------------------------------------------------------------\n",
    "- **RoofStyle** — type of roof:\n",
    "  - may be part of some new feature\n",
    "  - predefined influence: low, mixed\n",
    "- **RoofMatl** — material of the roof:\n",
    "  - may be part of some new feature\n",
    "  - for some materials may be costly\n",
    "  - predefined influence: low, mixed \n",
    "- **Exterior1st**, **Exterior2nd** — exterior covering of the house:\n",
    "  - may be part of some new feature\n",
    "  - for some materials may be costly\n",
    "  - predefined influence: low, mixed\n",
    "- **MasVnrType** — masonry veneer type (brick type) of the house:\n",
    "  - may be part of some new feature\n",
    "  - for some type may be costly\n",
    "  - predefined influence: low, mixed\n",
    "- **ExterQual**, **ExterCond** — the quality and the present condition of the material on the exterior\n",
    "  - may be part of some new feature\n",
    "  - may be correlated with each other\n",
    "  - predefined influence: low, mixed\n",
    "  \n",
    "------------------------------------------------------------------------------------------------------ \n",
    "- **Foundation** — type of the foudation:\n",
    "  - predefined influence: low, mixed\n",
    "- **BsmtQual** — height of the basement:\n",
    "  - predefined influence: low, distimulant\n",
    "- **BsmtCond** — condition of the basement:\n",
    "  - rather more important than the 2 above, but still, correalted with the overall condition for sure\n",
    "  - predefined influence: low, distimulant\n",
    "- **BsmtExposure** — whether there is somehing parat from the basement:\n",
    "  - may be correlated with other features (like garage), but for now seems kind of an imporant variable\n",
    "  - predefined influence: medium, stimulant\n",
    "- **BsmtFinType1**, **BsmtFinType2** — rating of basement finished area:\n",
    "  - correlated with the finished/unfinished condition of the house, which is more important - a question of further analysis, for now seems to be not so important\n",
    "  - predefined influence: medium, distimulant\n",
    "- **BsmtFinSF1**, **BsmtFinSF2** — square of corresponding basement type:\n",
    "  - predefined influence: low, mixed\n",
    "- **BsmtUnfSF** — unfinished square of the basement:\n",
    "  - rather important whether it is finished or not\n",
    "  - predefined influence: low, distimulant\n",
    "- **TotalBsmtSF** — total square of the basement:\n",
    "  - may be correlated with lot size, but still can be an important feature on its own\n",
    "  - predefined influence: medium, stimulant\n",
    "-------------------------------------------------------------------------------------------------------\n",
    "- **Heating** — type of heating:\n",
    "  - rather for an expert buyer\n",
    "  - predefined influence: low, mixed\n",
    "- **HeatingQC** — quality of heating:\n",
    "  - sometimes hard to determine for the buyer; besides this, heating is usually an important part of living somewhere :)\n",
    "  - predefined influence: medium, distimulant\n",
    "- **CentralAir** — whether there's central air conditioning:\n",
    "  - if needed, rather easy to install on your own\n",
    "  - predefined influence: low, mixed\n",
    "- **Electrical** — type of electrical system:\n",
    "  - rather for the experts\n",
    "  - predefined influence: low, mixed\n",
    "-------------------------------------------------------------------------------------------------------\n",
    "- **1stFlrSF**, **2ndFlrSF** — square of 1, 2 level of the house:\n",
    "  - for sure correlated with the basement\n",
    "  - predefined influence: low, stimulant\n",
    "- **LowQualFinSF** — low quality finished square:\n",
    "  - predefined influence: low, distimulant\n",
    "- **GrLivArea** — above grade (ground) living area square:\n",
    "  - for sure correlated with basement, floors squares\n",
    "  - predefined influence: low, stimulant\n",
    "- **BsmtFullBath** — basement full bathrooms:\n",
    "  - rather expecting more uniform distribution\n",
    "  - predefined influence: low, stimulant\n",
    "- **BsmtHalfBath** — basement half bathrooms:\n",
    "  - correlated with the above\n",
    "  - rather expecting more uniform distribution\n",
    "  - predefined influence: low, stimulant\n",
    "- **FullBath** — full bathrooms above grade:\n",
    "  - correlated with the above\n",
    "  - rather expecting more uniform distribution\n",
    "  - predefined influence: low, stimulant\n",
    "- **HalfBath** — half baths above grade:\n",
    "  - correlated with the above\n",
    "  - rather expecting more uniform distribution\n",
    "  - predefined influence: low, stimulant\n",
    "- **Bedroom** —  Bedrooms above grade (does NOT include basement bedrooms):\n",
    "  - seems like an important variable\n",
    "  - predefined influence: medium, stimulant\n",
    "- **Kitchen** — kitchens above grade:\n",
    "  - rather expecting more uniform distribution\n",
    "  - predefined influence: low, stimulant\n",
    "- **KitchenQual** — kitchen quality:\n",
    "  - need to see the distribution to be more confident\n",
    "  - predefined influence: low, distimulant\n",
    "- **TotRmsAbvGrd** — : Total rooms above grade (does not include bathrooms):\n",
    "  - seems like an important variable but could be explained through the other ones\n",
    "  - perfect collinearity with bathrooms, kitchens\n",
    "  - predefined influence: medium, stimulant\n",
    "- **Functional** — home functionality (Assume typical unless deductions are warranted):\n",
    "  - again, correlated with other features regarding home quality but could be still importnat somehow\n",
    "  - predefined influence: low, distimulant\n",
    "- **Fireplaces** — number of fireplaces:\n",
    "  - rather rare variable\n",
    "  - predefined influence: low, stimulant\n",
    "- **FireplaceQu** — fireplace quality:\n",
    "  - predefined influence: low, distimulant\n",
    "-------------------------------------------------------------------------------------------------------\n",
    "- **GarageType** — garage location:\n",
    "  - rather important whether it is and if is detached\n",
    "  - predefined influence: medium, stimulant\n",
    "- **GarageYrBlt** — year garage was built:\n",
    "  - seems to be correlated with built year of the house\n",
    "  - predefined influence: low, distimulant\n",
    "- **GarageFinish** — interior finish of the garage:\n",
    "  - garages can usually be less prettier for the buyers\n",
    "  - predefined influence: low, mixed\n",
    "- **GarageCars** — size of garage in car capacity:\n",
    "  - still we suppose sq feet is more informative\n",
    "  - predefined influence: low, stimulant\n",
    "- **GarageArea** — size of garage in square feet:\n",
    "  - if garage is present - important, but not as much as the fact that the garage exists\n",
    "  - predefined influence: low, stimulant\n",
    "- **GarageQual** — garage quality:\n",
    "  - seems to be not so important\n",
    "  - predefined influence: low, distimulant\n",
    "- **GarageCond** — garage condition:\n",
    "  - if ruined - just add as separate status\n",
    "  - predefined influence: low, distimulant\n",
    "-------------------------------------------------------------------------------------------------------\n",
    "- **WoodDeckSF** — wood deck area in square feet:\n",
    "  - correlated with other areas\n",
    "  - predefined influence: low, stimulant\n",
    "- **OpenPorchSF** — open porch area in square feet:\n",
    "  - correlated with other areas\n",
    "  - predefined influence: low, stimulant\n",
    "- **EnclosedPorch** — enclosed porch area in square feet:\n",
    "  - correlated with other areas\n",
    "  - predefined influence: low, stimulant\n",
    "- **3SsnPorch** — three season porch area in square feet:\n",
    "  - correlated with other areas\n",
    "  - predefined influence: low, stimulant\n",
    "- **ScreenPorch** — screen porch area in square feet:\n",
    "  - correlated with other areas\n",
    "  - predefined influence: low, stimulant\n",
    "-------------------------------------------------------------------------------------------------------\n",
    "- **PoolArea** — pool area:\n",
    "  - pools are costly, so rather important variable\n",
    "  - predefined influence: medium, stimulant\n",
    "- **PoolQC** — pool quality:\n",
    "  - need to see the distribution of the regressor\n",
    "  - predefined influence: low, distimulant\n",
    "\t\t\n",
    "- **PavedDrive** — paved driveway:\n",
    "  - seems to be rather important, could be costly to install on your own:\n",
    "  - predefined influence: medium, distimulant       \n",
    "        \n",
    "- **Fence** — fence quality:\n",
    "  - good fence would be rather costly\n",
    "  - plus, it makes an impression\n",
    "  - predefined influence: medium, stimulant\n",
    "\n",
    "- **MiscFeature** — miscellaneous feature not covered in other categories:\n",
    "  - basic stats showed that it is missing\n",
    "  - predefined influence: low, stimulant\n",
    "- **MiscVal** — value of miscellaneous features:\n",
    "  - predefined influence: low, stimulant\n",
    "- **MoSold** — month Sold (MM):\n",
    "  - maybe could be combined with the below var\n",
    "  - predefined influence: medium, mixed\n",
    "- **YrSold** — year Sold (YYYY):\n",
    "  - maybe could be combined with the above var\n",
    "  - predefined influence: medium, mixed\n",
    "- **SaleType** — type of sale:\n",
    "  - seems to be rather some sort of indicator variable\n",
    "  - predefined influence: low, stimulant\n",
    "- **SaleCondition** — condition of sale:\n",
    "  - seems to be rather some sort of indicator variable\n",
    "  - predefined influence: low, stimulant"
   ]
  },
  {
   "cell_type": "markdown",
   "id": "790b84fe",
   "metadata": {
    "hidden": true
   },
   "source": [
    "To sum up:\n",
    "- 7 highly important variables\n",
    "- 18 medium impotant variables\n",
    "- 56 low important variables\n",
    "\n",
    "- lots of variables seems to be strongly correlated with each other - thus, dimensionality reduction techniques should be applied"
   ]
  },
  {
   "cell_type": "markdown",
   "id": "554ff87c",
   "metadata": {
    "heading_collapsed": true
   },
   "source": [
    "# Initial EDA"
   ]
  },
  {
   "cell_type": "code",
   "execution_count": 12,
   "id": "621b99c1",
   "metadata": {
    "ExecuteTime": {
     "end_time": "2022-11-01T11:42:39.195726Z",
     "start_time": "2022-11-01T11:42:39.166241Z"
    },
    "code_folding": [
     0,
     18,
     37,
     57,
     73,
     90,
     122
    ],
    "hidden": true
   },
   "outputs": [],
   "source": [
    "def show_basic_plots(df, vars_subset=None):\n",
    "    # Presets:\n",
    "    if vars_subset is None:\n",
    "        vars_subset = df.columns.tolist()\n",
    "    \n",
    "    color_background = '#F5F5F5'\n",
    "    color_gridlines = '#DCDCDC'\n",
    "    colors_in_use = ['#2C3E50', '#537EA2', '#858F84', '#42A593',\n",
    "                     '#873E23', '#CFD1A1', '#6A744F', '#BDBDC5',\n",
    "                     '#7EA253', '#EDB676', '#C26D40']+px.colors.qualitative.Safe\n",
    "    \n",
    "    dtypes_num = ['int64', 'int32', 'int16', 'float64', 'float32', 'float16']\n",
    "    dtypes_str = ['object', 'category']\n",
    "    vars_num = df.loc[:, vars_subset].select_dtypes(include=dtypes_num).columns\n",
    "    vars_str = df.loc[:, vars_subset].select_dtypes(include=dtypes_str).columns\n",
    "    \n",
    "    # For categorical variables:\n",
    "    fig_str_lst = [None]*len(vars_str)\n",
    "    for i in range(0, len(vars_str)):\n",
    "        fig = go.Figure()\n",
    "        fig.add_trace(go.Histogram(x=df.loc[:, vars_str[i]],\n",
    "                                   name=vars_str[i],\n",
    "                                   showlegend=True))\n",
    "        fig.update_traces(marker_color=colors_in_use[0],\n",
    "                          marker_line_color='rgb(8,48,107)',\n",
    "                          marker_line_width=1.5,\n",
    "                          opacity=0.8)\n",
    "        fig.update_layout(xaxis_type='category',\n",
    "                          xaxis_title=vars_str[i],\n",
    "                          paper_bgcolor=color_background,\n",
    "                          plot_bgcolor=color_background)\n",
    "        fig.update_yaxes(gridcolor=color_gridlines)\n",
    "        fig.update_xaxes(linecolor=color_gridlines)\n",
    "        fig_str_lst[i] = fig\n",
    "        \n",
    "    # For 2 categorical variables:\n",
    "    fig_str_lst_mix = []\n",
    "    for i in range(0, len(vars_str)):\n",
    "        for j in range(0, len(vars_str)):\n",
    "            if i == j:\n",
    "                continue\n",
    "            else:\n",
    "                fig = px.histogram(df, x=vars_str[i], color=vars_str[j],\n",
    "                                   color_discrete_sequence=colors_in_use[1:])\n",
    "                fig.update_traces(marker_line_color='rgb(8,48,107)',\n",
    "                                  marker_line_width=1.5,\n",
    "                                  opacity=0.8)\n",
    "                fig.update_layout(xaxis_type='category',\n",
    "                                  xaxis_title=vars_str[i],\n",
    "                                  paper_bgcolor=color_background,\n",
    "                                  plot_bgcolor=color_background)\n",
    "                fig.update_yaxes(gridcolor=color_gridlines, title='')\n",
    "                fig.update_xaxes(linecolor=color_gridlines)\n",
    "                fig_str_lst_mix.append(fig)\n",
    "            \n",
    "    # For numerical variables:\n",
    "    fig_num_lst_dist = [None]*len(vars_num)\n",
    "    for i in range(0, len(vars_num)):\n",
    "        fig = ff.create_distplot(hist_data=[df[vars_num[i]].dropna()],\n",
    "                                 group_labels=[vars_num[i]],\n",
    "                                 show_hist=False,\n",
    "                                 show_rug=False,\n",
    "                                 colors = colors_in_use)\n",
    "        fig.update_layout(paper_bgcolor=color_background,\n",
    "                              plot_bgcolor=color_background)\n",
    "        fig.update_yaxes(gridcolor=color_gridlines,\n",
    "                         zerolinecolor=color_gridlines,\n",
    "                         title='')\n",
    "        fig.update_xaxes(gridcolor=color_gridlines,\n",
    "                         title=vars_num[i])\n",
    "        fig_num_lst_dist[i] = fig\n",
    "        \n",
    "    fig_num_lst_violin = [None]*len(vars_num)\n",
    "    for i in range(0, len(vars_num)):\n",
    "        fig = px.violin(df, y=vars_num[i], box=True, points='outliers')\n",
    "        fig.update_traces(marker_color = colors_in_use[0],\n",
    "                          opacity=0.8,\n",
    "                          name=vars_num[i],\n",
    "                          showlegend=True)\n",
    "        fig.update_layout(paper_bgcolor=color_background,\n",
    "                          plot_bgcolor=color_background)\n",
    "        fig.update_yaxes(gridcolor=color_gridlines,\n",
    "                         zerolinecolor=color_gridlines,\n",
    "                         title='')\n",
    "        fig.update_xaxes(title=vars_num[i])\n",
    "        fig_num_lst_violin[i] = fig\n",
    "    \n",
    "        # For 2 numerical variables:\n",
    "    fig_num_lst_mix = []\n",
    "    fig_num_lst_scat = []\n",
    "    for i in range(0, len(vars_num)):\n",
    "        for j in range(0, len(vars_num)):\n",
    "            if i == j:\n",
    "                continue\n",
    "            else:\n",
    "                fig = go.Figure()\n",
    "                fig.add_trace(go.Histogram2dContour(x = df[vars_num[i]],\n",
    "                                                        y = df[vars_num[j]],\n",
    "                                                        colorscale='deep'))\n",
    "                fig.update_layout(paper_bgcolor=color_background,\n",
    "                                  plot_bgcolor=color_background)\n",
    "                fig.update_yaxes(title=vars_num[j])\n",
    "                fig.update_xaxes(title=vars_num[i])\n",
    "                fig_num_lst_mix.append(fig)\n",
    "                \n",
    "                fig = px.scatter(data,x=data[vars_num[i]],\n",
    "                                 y=data[vars_num[j]],\n",
    "                                 trendline='ols')\n",
    "                fig.update_layout(paper_bgcolor=color_background,\n",
    "                                  plot_bgcolor=color_background)\n",
    "                fig.update_traces(marker_color=colors_in_use[0],\n",
    "                                  opacity=0.8)\n",
    "                fig.update_yaxes(gridcolor=color_gridlines,\n",
    "                                 zerolinecolor=color_gridlines,\n",
    "                                 title=vars_num[j])\n",
    "                fig.update_xaxes(gridcolor=color_gridlines,\n",
    "                                 zerolinecolor=color_gridlines,\n",
    "                                 title=vars_num[i])\n",
    "                fig_num_lst_scat.append(fig)\n",
    "        \n",
    "    # 1 categorical, 1 numeric:\n",
    "    fig_all_violin_mix = []\n",
    "    for i in range(0, len(vars_str)):\n",
    "        for j in range(0, len(vars_num)):\n",
    "            fig = px.violin(df, y=vars_num[j], color=vars_str[i],\n",
    "                            color_discrete_sequence=colors_in_use,\n",
    "                            box=True, points='outliers')\n",
    "            fig.update_traces(opacity=0.8)\n",
    "            fig.update_layout(xaxis_title=vars_num[j],\n",
    "                              showlegend=True,\n",
    "                              paper_bgcolor=color_background,\n",
    "                              plot_bgcolor=color_background)\n",
    "            fig.update_yaxes(gridcolor=color_gridlines, title='')\n",
    "            fig.update_xaxes(linecolor=color_gridlines)\n",
    "            fig_all_violin_mix.append(fig)\n",
    "            \n",
    "    final_dict = {\n",
    "        # categorical+target\n",
    "        'dist_cat': fig_str_lst,\n",
    "        'dist_mlt_cat': fig_str_lst_mix,\n",
    "        # numeric+target\n",
    "        'dist_num': fig_num_lst_dist,\n",
    "        'violin_num': fig_num_lst_violin,\n",
    "        'scatter_num': fig_num_lst_scat,\n",
    "        'dist_mlt_num': fig_num_lst_mix,\n",
    "        # all\n",
    "        'violin_mix': fig_all_violin_mix\n",
    "        #'scatter_mix': None,\n",
    "        #'dist_mlt_mix': None,\n",
    "    }\n",
    "    return(final_dict)"
   ]
  },
  {
   "cell_type": "code",
   "execution_count": 13,
   "id": "ec4489b5",
   "metadata": {
    "ExecuteTime": {
     "end_time": "2022-11-01T11:46:02.505614Z",
     "start_time": "2022-11-01T11:42:39.196737Z"
    },
    "hidden": true
   },
   "outputs": [],
   "source": [
    "tmp = show_basic_plots(data)"
   ]
  },
  {
   "cell_type": "code",
   "execution_count": 14,
   "id": "398a05f0",
   "metadata": {
    "ExecuteTime": {
     "end_time": "2022-11-01T11:46:02.521128Z",
     "start_time": "2022-11-01T11:46:02.506606Z"
    },
    "hidden": true
   },
   "outputs": [],
   "source": [
    "#'dist_cat'\n",
    "#'dist_mlt_cat'\n",
    "#'violin_mix'\n",
    "#'scatter_mix'\n",
    "#'dist_mlt_mix'"
   ]
  },
  {
   "cell_type": "markdown",
   "id": "563ad714",
   "metadata": {
    "heading_collapsed": true,
    "hidden": true
   },
   "source": [
    "## Numerical"
   ]
  },
  {
   "cell_type": "code",
   "execution_count": 15,
   "id": "4e4c5d8c",
   "metadata": {
    "ExecuteTime": {
     "end_time": "2022-11-01T11:46:02.537224Z",
     "start_time": "2022-11-01T11:46:02.522119Z"
    },
    "hidden": true
   },
   "outputs": [],
   "source": [
    "#for i in tmp['dist_num']: \n",
    "    #i.show()"
   ]
  },
  {
   "cell_type": "markdown",
   "id": "c5691913",
   "metadata": {
    "hidden": true
   },
   "source": [
    "- **Id** column must be dropped\n",
    "- **MSSubClass**, **OverallQual**, **OverallCond** must be recoded as str\n",
    "- **LotFrontage**, **LotArea**, **MasVnrArea**, **BsmtFinSF1**, **BsmtFinSF2**, **BsmtUnfSF**, **TotalBsmtSF**, **1stFlrSF**, **2stFlrSF**, **GrLivArea**, **GarageArea**, **LotPrice** distributions show big positive skewness => potential outliers\n",
    "- **LowQualFinSF**, **WoodDeckSF**, **OpenPorchSF**, **EnclosedPorch**, **3SsnPorch**, **ScreenPorch**, **PoolArea**, **MiscVal** have poor right-skewed distributions with significant outliers\n",
    "\n",
    "------------------------------------------------------------------------------------------------------\n",
    "\n",
    "- There are 3 significant centers of YearBuilt: 1921-22, 1964-1965, 2002\n",
    "- The dominant renovation year was 2003\n",
    "- Most of the garages were built in 1966 and 2002; reminds YearBuilt distribution after 60s\n",
    "- most of the garages allow for 2 cars; proportion of 1/3 is alomost the same\n",
    "\n",
    "------------------------------------------------------------------------------------------------------\n",
    "\n",
    "- Most of the houses has 0 or 1 bath; Half baths is very rare\n",
    "- Most of the houses has 3 rooms; 2 and 4 are also quite popular, whereas rooms >5 - more like outliers\n",
    "- Almost all of the houses have 1 kitchen\n",
    "- In total, more than 10 rooms is an outlier\n",
    "- Most of the houses have either 0 or 1 fireplaces; some have 2;\n",
    "- Most of the houses do not have wood deck or open/enclosed/3 season/screen porch\n",
    "\n",
    "------------------------------------------------------------------------------------------------------\n",
    "\n",
    "- Most of the houses were sold during June (generally, not in autumn)\n",
    "- YearSold distribution is almost unimodal"
   ]
  },
  {
   "cell_type": "markdown",
   "id": "39ceedc9",
   "metadata": {
    "hidden": true
   },
   "source": [
    "To sum up:\n",
    "- YearSold, MiscVal, ID are not important\n",
    "- Decks and porches sq. ft. could be united into some new feature as distributions reminds each other\n",
    "- Other areas could also be united into some new feature as distributions reminds each other\n",
    "- Garage Year and Built Year seems to be correlated a lot"
   ]
  },
  {
   "cell_type": "markdown",
   "id": "fd9e253d",
   "metadata": {
    "hidden": true
   },
   "source": [
    "Just to have a more detailed look on the distributions:"
   ]
  },
  {
   "cell_type": "code",
   "execution_count": 16,
   "id": "d7204a3b",
   "metadata": {
    "ExecuteTime": {
     "end_time": "2022-11-01T11:46:02.553262Z",
     "start_time": "2022-11-01T11:46:02.539211Z"
    },
    "hidden": true,
    "scrolled": false
   },
   "outputs": [],
   "source": [
    "#for i in tmp['violin_num']: \n",
    "    #i.show()"
   ]
  },
  {
   "cell_type": "markdown",
   "id": "464b345e",
   "metadata": {
    "hidden": true
   },
   "source": [
    "- LotFrontage > 80 are outliers with max=312\n",
    "\n",
    "- Majority of houses are in average condition, but the number of houses in better condition is bigger than in worser condition\n",
    "- Majory of houses' quality is above average, which may signify expert's bias during the valuation. Moreover, none ofthe house gained 10. May be considered non-informative due to these facts\n",
    "- Number of houses built in 1966+1922 = number of houses built in 2002\n",
    "- Renovation boom occured in 2002, before that - quite unimodal besides 1951\n",
    "-------------------------------------------------------------------------------------------------------\n",
    "\n",
    "- 75% of LotArea is below 11k; some accumulation within 18-35k, 46-70 and 4 extra outliers\n",
    "- MasVnrArea has 2 accumulations: major (below 165) and minor (420-1170) with 2 outliers\n",
    "- BsmtFinSF1 has 2 groups: around 0 and around 608sq.ft with minor group around 200 and 1 outlier\n",
    "- BsmtFinSF2 almost equals to 0\n",
    "- LowQualFinSF almost equals to 0\n",
    "- BsmtUnfSF is much better - no significant outliers\n",
    "- TotalDsmtSF, 1stFlrSF, GrLivArea, MasVnrArea are almost perfectly correlated\n",
    "- 2ndFlrSF is mostly 0, but the other group is 762 sq.ft. No outliers\n",
    "\n",
    "-------------------------------------------------------------------------------------------------------\n",
    "\n",
    "- Number of full basement baths mostly 0 or 1, some observations for 2, 3 -- outlier\n",
    "- basement HalfBath almost equals to zero\n",
    "- HalfBath almost equals to zero\n",
    "- FullBath - either 1, 2 or 3; drop the rest\n",
    "- Bedrooms = 4,5,6 or 8 -- outliers\n",
    "- Kitchen = 0,2,3 - outliers\n",
    "- But  something strange with total rooms variable - only 1 outlier (14), with median = 6\n",
    "- 3 fireplaces - outlier\n",
    "\n",
    "-------------------------------------------------------------------------------------------------------\n",
    "\n",
    "- GarageYearBlt more like YearBlt - see comparison\n",
    "- Garage cars = 4 - outlier\n",
    "- GarageArea more like grLivArea\n",
    "\n",
    "-------------------------------------------------------------------------------------------------------\n",
    "\n",
    "- WoodDeckSF, OpenPorchSF are more alike\n",
    "- EnclosedPorch, 3SsnPorch, ScreenPorch are much more rare, allmost equals to zero\n",
    "\n",
    "-------------------------------------------------------------------------------------------------------\n",
    "\n",
    "- PoolArea - only 7 houses with pools\n",
    "- MscVal - almost equals to zero\n",
    "- YrSold is defenitely unimodal\n",
    "- Sale price distribution looks like total lot sq.feet distribution"
   ]
  },
  {
   "cell_type": "markdown",
   "id": "44c5c1f2",
   "metadata": {
    "hidden": true
   },
   "source": [
    "Before moving futher, sum up single numerical dstributions:\n",
    "- Drop rather not important: **YrSold**, **PoolArea**, **MscVal**, **GarageYearBlt**, **BsmtFullBath**,  **BsmtHalfBath**, **HalfBath**, **BsmtFinSF2**, **LowQualFinSF**, **Id**, \n",
    "- Unite **EnclosedPorch**, **3SsnPorch**, **ScreenPorch** into **PorchRare**\n",
    "- Unite **WoodDeckSF**, **OpenPorchSF** into **PorchUsual**\n",
    "- Unite + remove outliers: **GarageArea**, **grLivArea**, **LotArea**, **TotalDsmtSF**, **1stFlrSF**, **MasVnrArea**\n",
    "- Remove outliers: **GarageCars**, **Kitchen**, **Fireplaces**, **FullBath**, **Bedroom**. Check correlation with sq.ft. or use **TotRmsAbvGrd** instead\n",
    "- Keep as it is: **MoSold**, **Sale price**, **BsmtUnfSF**, **BsmtFinSF1**, **TotRmsAbvGrd**, **LotFrontage**, **OverallCond**, **OverallQual**(more factors to study to decide), **YearBuilt**, **YearRemodAdd**, **SalePrice**\n",
    "- Create one-hot: IsSecondFloor\n",
    "- Recode as str: **MSSubClass**, **GarageCars**, **Kitchen**, **Fireplaces**, **FullBath**, **Bedroom**, **TotRmsAbvGrd**, **OverallCond**, **OverallQual**"
   ]
  },
  {
   "cell_type": "markdown",
   "id": "decae595",
   "metadata": {
    "heading_collapsed": true,
    "hidden": true
   },
   "source": [
    "## Numerical (2d)"
   ]
  },
  {
   "cell_type": "code",
   "execution_count": 17,
   "id": "9c691052",
   "metadata": {
    "ExecuteTime": {
     "end_time": "2022-11-01T11:46:02.569313Z",
     "start_time": "2022-11-01T11:46:02.554269Z"
    },
    "hidden": true
   },
   "outputs": [],
   "source": [
    "vars_selected_num = [\n",
    "    'EnclosedPorch', '3SsnPorch', 'ScreenPorch', 'OpenPorchSF', 'WoodDeckSF', \n",
    "    'LotArea', 'GarageArea', 'GrLivArea', 'TotalBsmtSF', '1stFlrSF', 'MasVnrArea',\n",
    "    'GarageCars', 'KitchenAbvGr', 'Fireplaces', 'FullBath', 'BedroomAbvGr',\n",
    "    'YearRemodAdd', 'MoSold', 'BsmtUnfSF', 'SalePrice', 'BsmtFinSF1', 'TotRmsAbvGrd',\n",
    "    'LotFrontage', 'OverallCond', 'OverallQual', 'YearBuilt', \n",
    "    'PoolQC'\n",
    "]"
   ]
  },
  {
   "cell_type": "code",
   "execution_count": null,
   "id": "6ac30cbd",
   "metadata": {
    "ExecuteTime": {
     "end_time": "2022-11-01T11:46:03.141550Z",
     "start_time": "2022-11-01T11:46:03.141550Z"
    },
    "hidden": true,
    "scrolled": false
   },
   "outputs": [],
   "source": [
    "vars_selected_cor = ['LotArea', 'GrLivArea', 'TotalBsmtSF',\n",
    "                     'PoolQC']\n",
    "plt_lst_num_2d = show_basic_plots(data, vars_subset=vars_selected_cor)\n",
    "#for i in plt_lst_num_2d['scatter_num']:\n",
    "    #i.show()"
   ]
  },
  {
   "cell_type": "markdown",
   "id": "e2eb4e81",
   "metadata": {
    "hidden": true
   },
   "source": [
    "- LotArea and TotalBsmtSF are correlated\n",
    "- LotArea and GrLivArea are correlated\n",
    "\\\n",
    "= > keep LotArea only "
   ]
  },
  {
   "cell_type": "code",
   "execution_count": null,
   "id": "c8a6dc8b",
   "metadata": {
    "ExecuteTime": {
     "end_time": "2022-11-01T11:46:03.143536Z",
     "start_time": "2022-11-01T11:46:03.143536Z"
    },
    "hidden": true
   },
   "outputs": [],
   "source": [
    "vars_selected_cor = ['LotArea', '1stFlrSF',  'MasVnrArea', #'GarageArea',  \n",
    "                     'PoolQC']\n",
    "plt_lst_num_2d = show_basic_plots(data, vars_subset=vars_selected_cor)\n",
    "#for i in plt_lst_num_2d['scatter_num']:\n",
    "    #i.show()"
   ]
  },
  {
   "cell_type": "markdown",
   "id": "69906daa",
   "metadata": {
    "hidden": true
   },
   "source": [
    "- LotArea and 1stFlrSF are correlated\n",
    "- LotArea and MasVnr are correlated\n",
    "\\\n",
    "= > keep LotArea only"
   ]
  },
  {
   "cell_type": "code",
   "execution_count": null,
   "id": "447ad624",
   "metadata": {
    "ExecuteTime": {
     "end_time": "2022-11-01T11:46:03.144536Z",
     "start_time": "2022-11-01T11:46:03.144536Z"
    },
    "hidden": true
   },
   "outputs": [],
   "source": [
    "vars_selected_cor = ['LotArea', 'GarageArea',  \n",
    "                     'PoolQC']\n",
    "plt_lst_num_2d = show_basic_plots(data, vars_subset=vars_selected_cor)\n",
    "#for i in plt_lst_num_2d['scatter_num']:\n",
    "    #i.show()"
   ]
  },
  {
   "cell_type": "markdown",
   "id": "af4b4815",
   "metadata": {
    "hidden": true
   },
   "source": [
    "LotArea and GarageArea are correlated\n",
    "\\\n",
    "= > keep LotArea only"
   ]
  },
  {
   "cell_type": "code",
   "execution_count": null,
   "id": "04184d8d",
   "metadata": {
    "ExecuteTime": {
     "end_time": "2022-11-01T11:46:03.145538Z",
     "start_time": "2022-11-01T11:46:03.145538Z"
    },
    "hidden": true
   },
   "outputs": [],
   "source": [
    "vars_selected_cor = [\n",
    "    'FullBath',\n",
    "    'TotRmsAbvGrd'\n",
    "]\n",
    "plt_lst_num_2d = show_basic_plots(data, vars_subset=vars_selected_cor)\n",
    "#for i in plt_lst_num_2d['scatter_num']:\n",
    "    #i.show()"
   ]
  },
  {
   "cell_type": "code",
   "execution_count": null,
   "id": "9a7705b8",
   "metadata": {
    "ExecuteTime": {
     "end_time": "2022-11-01T11:46:03.145538Z",
     "start_time": "2022-11-01T11:46:03.145538Z"
    },
    "hidden": true
   },
   "outputs": [],
   "source": [
    "vars_selected_cor = [\n",
    "    'FullBath',\n",
    "    'TotRmsAbvGrd'\n",
    "]\n",
    "plt_lst_num_2d = show_basic_plots(data, vars_subset=vars_selected_cor)\n",
    "#for i in plt_lst_num_2d['dist_mlt_num']:\n",
    "    #i.show()"
   ]
  },
  {
   "cell_type": "code",
   "execution_count": null,
   "id": "887fe695",
   "metadata": {
    "ExecuteTime": {
     "end_time": "2022-11-01T11:46:03.146537Z",
     "start_time": "2022-11-01T11:46:03.146537Z"
    },
    "hidden": true
   },
   "outputs": [],
   "source": [
    "del plt_lst_num_2d"
   ]
  },
  {
   "cell_type": "markdown",
   "id": "519fcd7f",
   "metadata": {
    "hidden": true
   },
   "source": [
    "To sum up:\n",
    "- **LotArea** correlated with all the other areas, **LotFrontage**, \n",
    "- **WoodDeckSF** seems to be correlated with all the other porches\n",
    "- seems not to be important as much: **KitchenAbvGr**, **Fireplaces**, **BedroomAbvGr**, **FullBath**, **MoSold**\n",
    "- seems to be important: **GarageCars**, **TotRmsAbvGrd**, **YearRemodAdd**, **YearBuilt**, **OverallQual**, **OverallCond**, **BsmtUnfSF**, **WoodDeckSF**, **LotArea**\n",
    "\\\n",
    "=> out we have 9+1 (MSSubClass) out of 38 vars important "
   ]
  },
  {
   "cell_type": "markdown",
   "id": "0d890c9d",
   "metadata": {
    "heading_collapsed": true,
    "hidden": true
   },
   "source": [
    "## Numerical (overview)"
   ]
  },
  {
   "cell_type": "code",
   "execution_count": 57,
   "id": "b96c0008",
   "metadata": {
    "ExecuteTime": {
     "end_time": "2022-11-01T22:05:25.445408Z",
     "start_time": "2022-11-01T22:05:22.160379Z"
    },
    "hidden": true,
    "scrolled": true
   },
   "outputs": [
    {
     "data": {
      "image/png": "[encoded data removed]",
      "text/plain": [
       "<Figure size 1440x1080 with 42 Axes>"
      ]
     },
     "metadata": {
      "needs_background": "light"
     },
     "output_type": "display_data"
    }
   ],
   "source": [
    "data.hist(layout=(6, 7), figsize=(20, 15), bins=40)\n",
    "plt.show()"
   ]
  },
  {
   "cell_type": "code",
   "execution_count": null,
   "id": "715680f5",
   "metadata": {
    "ExecuteTime": {
     "end_time": "2022-11-01T11:46:03.148538Z",
     "start_time": "2022-11-01T11:46:03.148538Z"
    },
    "hidden": true,
    "scrolled": false
   },
   "outputs": [],
   "source": [
    "#sns.pairplot(data, diag_kind=\"kde\")"
   ]
  },
  {
   "cell_type": "markdown",
   "id": "4bc97ed3",
   "metadata": {
    "hidden": true
   },
   "source": [
    "- Again, it seems like strong correlation patterns are visible only for the Area-based variables"
   ]
  },
  {
   "cell_type": "markdown",
   "id": "bf93b0ae",
   "metadata": {
    "heading_collapsed": true,
    "hidden": true
   },
   "source": [
    "## Categorical"
   ]
  },
  {
   "cell_type": "code",
   "execution_count": null,
   "id": "0ca039be",
   "metadata": {
    "ExecuteTime": {
     "end_time": "2022-11-01T18:51:06.821080Z",
     "start_time": "2022-11-01T18:51:06.821080Z"
    },
    "hidden": true
   },
   "outputs": [],
   "source": [
    "#for i in tmp['dist_cat']: \n",
    "    #i.show()"
   ]
  },
  {
   "cell_type": "markdown",
   "id": "55aedf71",
   "metadata": {
    "hidden": true
   },
   "source": [
    "- **MsZoning**: think about removing uniting RM, RH, something with C\n",
    "- **Street**: Only 6 streets are gravel, rather remove\n",
    "- **Alley**: is almost unimodal, rather remove\n",
    "- **Utilities**: only 1 house does not have all public utilities, rather remove\n",
    "- **CentraAir**: rather rare variable\n",
    "- **NeightboorHood**: maybe too many categories?\n",
    "- **HeatingQC**: drop Po?\n",
    "\n",
    "-------------------------------------------------------------------------------------------------------\n",
    "\n",
    "- Restrict number of categories: **Condition1**, **Condition2**, **RoofStyle**, **ExterCond**, **Exterior1st**, **Exterior2nd**, **BsmtCond**, **BsmntFinType2**, **GarageType**, **SaleType**, **SaleCondition**\n",
    "- Keep as it is: **MasVnrType**, **ExterQual**, **HouseStyle**, **BldgType**, **Foundation**, **BsmtQual**, **BsmtExposure**, **BsmntFinType1**, **KitchenQual**, **FireplaceQu**, **GarageFinish**, **PavedDrive**, **PoolQC**, **Fence**, **MiscFeature**\n",
    "\n",
    "-------------------------------------------------------------------------------------------------------\n",
    "\n",
    "- **LotConfig**: recode into Inside, Corner, CulDSac, Frontage\n",
    "- **LandSlope**: recode into Slope, NoSlope\n",
    "- **LotShape**: recode into Regular, Irregular, VeryIrregular\n",
    "- **LandCountour**: recode into NearFlat, NotNearFlat\n",
    "- **RoofMaterial** - recode into Cheap, Costly\n",
    "- **Heating**: recode into Gas, NotGas\n",
    "- **Elecrical**: recode into Good, Average, Bad\n",
    "- **Functional**: recode into Typical, Minor, Major\n",
    "- **GarageQual**: recode into Good, Average, Bad\n",
    "- **GarageCond**: recode into Good, Average, Bad"
   ]
  },
  {
   "cell_type": "markdown",
   "id": "583a1879",
   "metadata": {
    "heading_collapsed": true,
    "hidden": true
   },
   "source": [
    "## Categorical (2d)"
   ]
  },
  {
   "cell_type": "code",
   "execution_count": 28,
   "id": "6738460d",
   "metadata": {
    "ExecuteTime": {
     "end_time": "2022-11-01T18:51:09.131849Z",
     "start_time": "2022-11-01T18:51:09.116772Z"
    },
    "hidden": true
   },
   "outputs": [],
   "source": [
    "#for i in tmp['dist_mlt_cat']: \n",
    "    #i.show()"
   ]
  },
  {
   "cell_type": "markdown",
   "id": "c37e10dc",
   "metadata": {
    "hidden": true
   },
   "source": [
    "- hard to perform EDA, too many variables, perform later after dimensionality reduction"
   ]
  },
  {
   "cell_type": "markdown",
   "id": "13fc3323",
   "metadata": {
    "heading_collapsed": true,
    "hidden": true
   },
   "source": [
    "## Categorical vs SalePrice"
   ]
  },
  {
   "cell_type": "code",
   "execution_count": 23,
   "id": "c92b1d78",
   "metadata": {
    "ExecuteTime": {
     "end_time": "2022-11-01T14:38:09.010155Z",
     "start_time": "2022-11-01T14:36:37.028331Z"
    },
    "hidden": true
   },
   "outputs": [],
   "source": [
    "vars_selected_cor = [\n",
    "    'MasVnrType', 'ExterQual', 'HouseStyle', 'BldgType', 'Foundation',\n",
    "    'BsmtQual', 'BsmtExposure', 'BsmtFinType1', 'KitchenQual', 'FireplaceQu',\n",
    "    'GarageFinish', 'PavedDrive', 'PoolQC', 'Fence', 'MiscFeature',\n",
    "    \n",
    "    'Condition1', 'Condition2', 'RoofStyle', 'ExterCond', 'Exterior1st',\n",
    "    'Exterior2nd', 'BsmtCond', 'BsmtFinType2', 'GarageType', 'SaleType', 'SaleCondition',\n",
    "    \n",
    "    'LotConfig', 'LandSlope', 'LotShape', 'LandContour', 'RoofMatl', 'Heating',\n",
    "    'Electrical', 'Functional', 'GarageQual', 'GarageCond',\n",
    "    \n",
    "    'MSZoning', 'Street', 'Alley', 'Utilities', 'CentralAir', 'Neighborhood', 'HeatingQC',\n",
    "    \n",
    "    'SalePrice'\n",
    "]\n",
    "plt_lst_cat_2d = show_basic_plots(data, vars_subset=vars_selected_cor)"
   ]
  },
  {
   "cell_type": "code",
   "execution_count": 27,
   "id": "a7a1ab5a",
   "metadata": {
    "ExecuteTime": {
     "end_time": "2022-11-01T18:49:08.940269Z",
     "start_time": "2022-11-01T18:49:08.929470Z"
    },
    "hidden": true
   },
   "outputs": [],
   "source": [
    "#for i in plt_lst_cat_2d['violin_mix']:\n",
    "    #i.show()"
   ]
  },
  {
   "cell_type": "code",
   "execution_count": 25,
   "id": "a8366c77",
   "metadata": {
    "ExecuteTime": {
     "end_time": "2022-11-01T18:43:38.451607Z",
     "start_time": "2022-11-01T18:43:38.433603Z"
    },
    "hidden": true
   },
   "outputs": [],
   "source": [
    "del plt_lst_cat_2d"
   ]
  },
  {
   "cell_type": "markdown",
   "id": "dd5ed0bd",
   "metadata": {
    "hidden": true
   },
   "source": [
    "- **MasnrType**: Masonry veneer with stone is costs much more; None and BrkCmn could be united into single variable\n",
    "- keep as it is: **HouseStyle**, **Foundation**, **KitchenQual**, **FireplaceQu**, **GarageFinish**, **MiscFeature**, **GarageType**\n",
    "- **BldgType**: maybe 2fmCon and Duplexcould be united into one; the ame for 1Fam and TwnhsE\n",
    "- **BsmtQual**: less distinctions between groups, but for now keep as it is\n",
    "- **BsmtExposure**: rather not important\n",
    "- **BsmtFinType1**: rather recode into GLQ, Unf, Other\n",
    "- **PavedDrive**: hard to say\n",
    "- **PoolQC**: Fa and Gd are almost the same\n",
    "- **Fence**: recode as GoodPrivacy, NotGoodPrivacy\n",
    "- **Condition1**, **Condition2**: unite PosA, PosN into Park; RRAe, RRAn, RRNe into RailRoad\n",
    "- hard to say: **RoofType**, **Exterior1st**, **Exterior2nd**\n",
    "-  **BsmtFinType2**: maybe unite BLQ, Rec, LwQ\n",
    "- **otConfig**: maybe unite FR3 and CulDSac\n",
    "- **LandSlope**: unite Mod and Sev\n",
    "- **LotShape**: Reg much lower\n",
    "- **LandContour**: maybe Lvl+bank, Low+HLS\n",
    "- **RoofMatl**: for sure CompShg+Metal+Roll+ClyTile, WdShake+Membran\n",
    "- **Heating**: for sure Gas, NoGas\n",
    "- **Electrical**: either 0-1 or factor(3)\n",
    "- **Functional**: no big difference besides Maj2\n",
    "- **HeatingQC**: maybe unite Po with Fa\n",
    "- **Neighborhood**:\n",
    "  - CollgCr+Crawfor+ClearCr+Blmngtn\n",
    "  - Veenker+Somerst+Timber\n",
    "  - NoRidge+NridHt+StoneBr\n",
    "  - Blueste+SWISU+Sawyer\n",
    "  - Mitchel+NAmes+NPkVill\n",
    "  - NWAmes+SawyerW+Gilber\n",
    "  - OldTown+BrkSide+Edwards\n",
    "  - IDOTRR+MeadowV+BrDale"
   ]
  },
  {
   "cell_type": "code",
   "execution_count": null,
   "id": "7b48a795",
   "metadata": {
    "hidden": true
   },
   "outputs": [],
   "source": [
    "del tmp"
   ]
  },
  {
   "cell_type": "markdown",
   "id": "6358ca5d",
   "metadata": {
    "heading_collapsed": true,
    "hidden": true
   },
   "source": [
    "## Initial conclusion"
   ]
  },
  {
   "cell_type": "markdown",
   "id": "6c3b2ab9",
   "metadata": {
    "hidden": true
   },
   "source": [
    "Numerical:\n",
    "- keep **LotArea** (or other more important feature with sq.ft. / newly created one from PCA)\n",
    "- keep **WoodDeckSF** (or other more important feature ending with porch / newly created one from PCA)\n",
    "- keep as it is: **GarageCars**, **TotRmsAbvGrd**, **YearRemodAdd**, **YearBuilt**,  **BsmtUnfSF**\n",
    "- recode as str and explore: **MSSubClass**, **OverallCond**, **OverallQual**\n",
    "- total: 10\n",
    "\n",
    "------------------------------------------------------------------------------------------------------\n",
    "\n",
    "Categorical:\n",
    "- keep as it is: **MsZoning**, **CentralAir**, **HouseStyle**, **Foundation**, **KitchenQual**, **FireplaceQu**, **GarageFinish**, **MiscFeature**, **GarageType**, **PavedDrive**, **BsmtQual**, **RoofType**, **Exterior1st**, **Exterior2nd**, **Heating**, **GarageQual**, **GarageCond**\n",
    "- **MasnrType**:  None+BrkCmn\n",
    "- **BldgType**: 2fmCon+Duplex; 1Fam+TwnhsE\n",
    "- **PoolQC**: Fa+Gd\n",
    "- **BsmtFinType2**: BLQ+Rec+LwQ\n",
    "- **LandContour**: Lvl+bank; Low+HLS\n",
    "- **LandSlope**: Mod+Sev\n",
    "- **LotConfig**: FR3+CulDSac\n",
    "- **HeatingQC**: Po+Fa\n",
    "- **RoofMatl**: CompShg+Metal+Roll+ClyTile; WdShake+Membran\n",
    "- **Condition1**, **Condition2**: unite PosA, PosN into Park; RRAe, RRAn, RRNe into RailRoad\n",
    "- **BsmtFinType1**: rather into GLQ, Unf, Other\n",
    "- **Fence**: recode into GoodPrivacy, NotGoodPrivacy\n",
    "- **Heating**: for sure recode into Gas, NoGas\n",
    "- **Neighborhood**: CollgCr+Crawfor+ClearCr+Blmngtn, Veenker+Somerst+Timber, NoRidge+NridHt+StoneBr, Blueste+SWISU+Sawyer, Mitchel+NAmes+NPkVill, NWAmes+SawyerW+Gilber, OldTown+BrkSide+Edwards, IDOTRR+MeadowV+BrDale\n",
    "- **LotShape**: Reg much lower\n",
    "- **Electrical**: either 0-1 or factor(3)\n",
    "- total: 33\n",
    "\n",
    "-------------------------------------------------------------------------------------------------------\n",
    "=> 43 initial variables to keep"
   ]
  },
  {
   "cell_type": "markdown",
   "id": "c329a7a8",
   "metadata": {},
   "source": [
    "# Outliers & correlation analysis"
   ]
  },
  {
   "cell_type": "code",
   "execution_count": 55,
   "id": "579b4390",
   "metadata": {
    "ExecuteTime": {
     "end_time": "2022-11-01T20:00:19.990743Z",
     "start_time": "2022-11-01T20:00:19.981515Z"
    },
    "code_folding": [
     0
    ]
   },
   "outputs": [],
   "source": [
    "def corr_heatmap(df):\n",
    "    color_background = '#F5F5F5'\n",
    "    color_gridlines = '#DCDCDC'\n",
    "        \n",
    "    fig = px.imshow(df.corr().round(3), text_auto=True, color_continuous_scale='deep')\n",
    "    fig.update_traces(opacity=0.8)\n",
    "    fig.update_layout(\n",
    "        coloraxis_showscale=False,\n",
    "        paper_bgcolor=color_background,\n",
    "        plot_bgcolor=color_background)\n",
    "    fig.update_yaxes(gridcolor=color_gridlines, title='')\n",
    "    fig.update_xaxes(linecolor=color_gridlines)\n",
    "    return(fig)"
   ]
  },
  {
   "cell_type": "markdown",
   "id": "3b01f84f",
   "metadata": {},
   "source": [
    "## Numerical"
   ]
  },
  {
   "cell_type": "markdown",
   "id": "90cc9f71",
   "metadata": {
    "heading_collapsed": true
   },
   "source": [
    "### Baths"
   ]
  },
  {
   "cell_type": "code",
   "execution_count": 88,
   "id": "0553f3a2",
   "metadata": {
    "ExecuteTime": {
     "end_time": "2022-11-02T07:05:44.718185Z",
     "start_time": "2022-11-02T07:05:44.708109Z"
    },
    "hidden": true
   },
   "outputs": [],
   "source": [
    "X = data.copy()\n",
    "X = X.loc[:, ['BsmtFullBath', 'BsmtHalfBath', 'FullBath', 'HalfBath', 'SalePrice']]"
   ]
  },
  {
   "cell_type": "code",
   "execution_count": 73,
   "id": "e84608e4",
   "metadata": {
    "ExecuteTime": {
     "end_time": "2022-11-02T06:59:59.541051Z",
     "start_time": "2022-11-02T06:59:58.252340Z"
    },
    "hidden": true
   },
   "outputs": [
    {
     "data": {
      "image/png": "[encoded data removed]",
      "text/plain": [
       "<Figure size 1440x1080 with 42 Axes>"
      ]
     },
     "metadata": {
      "needs_background": "light"
     },
     "output_type": "display_data"
    }
   ],
   "source": [
    "X.hist(layout=(6, 7), figsize=(20, 15), bins=40)\n",
    "plt.show()"
   ]
  },
  {
   "cell_type": "code",
   "execution_count": 85,
   "id": "6def4cd3",
   "metadata": {
    "ExecuteTime": {
     "end_time": "2022-11-02T07:05:00.720946Z",
     "start_time": "2022-11-02T07:05:00.708673Z"
    },
    "hidden": true
   },
   "outputs": [
    {
     "name": "stdout",
     "output_type": "stream",
     "text": [
      "0.010958904109589041\n",
      "0.0013698630136986301\n",
      "0.022602739726027398\n",
      "0.00821917808219178\n"
     ]
    }
   ],
   "source": [
    "print(X.loc[X.BsmtFullBath > 1, :].shape[0]/X.shape[0])    # 16 observations\n",
    "print(X.loc[X.BsmtHalfBath > 1, :].shape[0]/X.shape[0])    # 2 observations\n",
    "print(X.loc[X.FullBath > 2, :].shape[0]/X.shape[0])        # 33 observations\n",
    "print(X.loc[X.HalfBath > 1, :].shape[0]/X.shape[0])        # 12 observations"
   ]
  },
  {
   "cell_type": "code",
   "execution_count": 72,
   "id": "a2945991",
   "metadata": {
    "ExecuteTime": {
     "end_time": "2022-11-02T06:58:59.175074Z",
     "start_time": "2022-11-02T06:58:59.140282Z"
    },
    "hidden": true,
    "scrolled": false
   },
   "outputs": [
    {
     "data": {
      "text/html": [
       "<div>                            <div id=\"9b480a62-8815-4615-9ece-53b94c9fa8dd\" class=\"plotly-graph-div\" style=\"height:525px; width:100%;\"></div>            <script type=\"text/javascript\">                require([\"plotly\"], function(Plotly) {                    window.PLOTLYENV=window.PLOTLYENV || {};                                    if (document.getElementById(\"9b480a62-8815-4615-9ece-53b94c9fa8dd\")) {                    Plotly.newPlot(                        \"9b480a62-8815-4615-9ece-53b94c9fa8dd\",                        [{\"coloraxis\":\"coloraxis\",\"name\":\"0\",\"texttemplate\":\"%{z}\",\"x\":[\"BsmtFullBath\",\"BsmtHalfBath\",\"FullBath\",\"HalfBath\",\"SalePrice\"],\"y\":[\"BsmtFullBath\",\"BsmtHalfBath\",\"FullBath\",\"HalfBath\",\"SalePrice\"],\"z\":[[1.0,-0.148,-0.065,-0.031,0.227],[-0.148,1.0,-0.055,-0.012,-0.017],[-0.065,-0.055,1.0,0.136,0.561],[-0.031,-0.012,0.136,1.0,0.284],[0.227,-0.017,0.561,0.284,1.0]],\"type\":\"heatmap\",\"xaxis\":\"x\",\"yaxis\":\"y\",\"hovertemplate\":\"x: %{x}<br>y: %{y}<br>color: %{z}<extra></extra>\",\"opacity\":0.8}],                        {\"template\":{\"data\":{\"histogram2dcontour\":[{\"type\":\"histogram2dcontour\",\"colorbar\":{\"outlinewidth\":0,\"ticks\":\"\"},\"colorscale\":[[0.0,\"#0d0887\"],[0.1111111111111111,\"#46039f\"],[0.2222222222222222,\"#7201a8\"],[0.3333333333333333,\"#9c179e\"],[0.4444444444444444,\"#bd3786\"],[0.5555555555555556,\"#d8576b\"],[0.6666666666666666,\"#ed7953\"],[0.7777777777777778,\"#fb9f3a\"],[0.8888888888888888,\"#fdca26\"],[1.0,\"#f0f921\"]]}],\"choropleth\":[{\"type\":\"choropleth\",\"colorbar\":{\"outlinewidth\":0,\"ticks\":\"\"}}],\"histogram2d\":[{\"type\":\"histogram2d\",\"colorbar\":{\"outlinewidth\":0,\"ticks\":\"\"},\"colorscale\":[[0.0,\"#0d0887\"],[0.1111111111111111,\"#46039f\"],[0.2222222222222222,\"#7201a8\"],[0.3333333333333333,\"#9c179e\"],[0.4444444444444444,\"#bd3786\"],[0.5555555555555556,\"#d8576b\"],[0.6666666666666666,\"#ed7953\"],[0.7777777777777778,\"#fb9f3a\"],[0.8888888888888888,\"#fdca26\"],[1.0,\"#f0f921\"]]}],\"heatmap\":[{\"type\":\"heatmap\",\"colorbar\":{\"outlinewidth\":0,\"ticks\":\"\"},\"colorscale\":[[0.0,\"#0d0887\"],[0.1111111111111111,\"#46039f\"],[0.2222222222222222,\"#7201a8\"],[0.3333333333333333,\"#9c179e\"],[0.4444444444444444,\"#bd3786\"],[0.5555555555555556,\"#d8576b\"],[0.6666666666666666,\"#ed7953\"],[0.7777777777777778,\"#fb9f3a\"],[0.8888888888888888,\"#fdca26\"],[1.0,\"#f0f921\"]]}],\"heatmapgl\":[{\"type\":\"heatmapgl\",\"colorbar\":{\"outlinewidth\":0,\"ticks\":\"\"},\"colorscale\":[[0.0,\"#0d0887\"],[0.1111111111111111,\"#46039f\"],[0.2222222222222222,\"#7201a8\"],[0.3333333333333333,\"#9c179e\"],[0.4444444444444444,\"#bd3786\"],[0.5555555555555556,\"#d8576b\"],[0.6666666666666666,\"#ed7953\"],[0.7777777777777778,\"#fb9f3a\"],[0.8888888888888888,\"#fdca26\"],[1.0,\"#f0f921\"]]}],\"contourcarpet\":[{\"type\":\"contourcarpet\",\"colorbar\":{\"outlinewidth\":0,\"ticks\":\"\"}}],\"contour\":[{\"type\":\"contour\",\"colorbar\":{\"outlinewidth\":0,\"ticks\":\"\"},\"colorscale\":[[0.0,\"#0d0887\"],[0.1111111111111111,\"#46039f\"],[0.2222222222222222,\"#7201a8\"],[0.3333333333333333,\"#9c179e\"],[0.4444444444444444,\"#bd3786\"],[0.5555555555555556,\"#d8576b\"],[0.6666666666666666,\"#ed7953\"],[0.7777777777777778,\"#fb9f3a\"],[0.8888888888888888,\"#fdca26\"],[1.0,\"#f0f921\"]]}],\"surface\":[{\"type\":\"surface\",\"colorbar\":{\"outlinewidth\":0,\"ticks\":\"\"},\"colorscale\":[[0.0,\"#0d0887\"],[0.1111111111111111,\"#46039f\"],[0.2222222222222222,\"#7201a8\"],[0.3333333333333333,\"#9c179e\"],[0.4444444444444444,\"#bd3786\"],[0.5555555555555556,\"#d8576b\"],[0.6666666666666666,\"#ed7953\"],[0.7777777777777778,\"#fb9f3a\"],[0.8888888888888888,\"#fdca26\"],[1.0,\"#f0f921\"]]}],\"mesh3d\":[{\"type\":\"mesh3d\",\"colorbar\":{\"outlinewidth\":0,\"ticks\":\"\"}}],\"scatter\":[{\"fillpattern\":{\"fillmode\":\"overlay\",\"size\":10,\"solidity\":0.2},\"type\":\"scatter\"}],\"parcoords\":[{\"type\":\"parcoords\",\"line\":{\"colorbar\":{\"outlinewidth\":0,\"ticks\":\"\"}}}],\"scatterpolargl\":[{\"type\":\"scatterpolargl\",\"marker\":{\"colorbar\":{\"outlinewidth\":0,\"ticks\":\"\"}}}],\"bar\":[{\"error_x\":{\"color\":\"#2a3f5f\"},\"error_y\":{\"color\":\"#2a3f5f\"},\"marker\":{\"line\":{\"color\":\"#E5ECF6\",\"width\":0.5},\"pattern\":{\"fillmode\":\"overlay\",\"size\":10,\"solidity\":0.2}},\"type\":\"bar\"}],\"scattergeo\":[{\"type\":\"scattergeo\",\"marker\":{\"colorbar\":{\"outlinewidth\":0,\"ticks\":\"\"}}}],\"scatterpolar\":[{\"type\":\"scatterpolar\",\"marker\":{\"colorbar\":{\"outlinewidth\":0,\"ticks\":\"\"}}}],\"histogram\":[{\"marker\":{\"pattern\":{\"fillmode\":\"overlay\",\"size\":10,\"solidity\":0.2}},\"type\":\"histogram\"}],\"scattergl\":[{\"type\":\"scattergl\",\"marker\":{\"colorbar\":{\"outlinewidth\":0,\"ticks\":\"\"}}}],\"scatter3d\":[{\"type\":\"scatter3d\",\"line\":{\"colorbar\":{\"outlinewidth\":0,\"ticks\":\"\"}},\"marker\":{\"colorbar\":{\"outlinewidth\":0,\"ticks\":\"\"}}}],\"scattermapbox\":[{\"type\":\"scattermapbox\",\"marker\":{\"colorbar\":{\"outlinewidth\":0,\"ticks\":\"\"}}}],\"scatterternary\":[{\"type\":\"scatterternary\",\"marker\":{\"colorbar\":{\"outlinewidth\":0,\"ticks\":\"\"}}}],\"scattercarpet\":[{\"type\":\"scattercarpet\",\"marker\":{\"colorbar\":{\"outlinewidth\":0,\"ticks\":\"\"}}}],\"carpet\":[{\"aaxis\":{\"endlinecolor\":\"#2a3f5f\",\"gridcolor\":\"white\",\"linecolor\":\"white\",\"minorgridcolor\":\"white\",\"startlinecolor\":\"#2a3f5f\"},\"baxis\":{\"endlinecolor\":\"#2a3f5f\",\"gridcolor\":\"white\",\"linecolor\":\"white\",\"minorgridcolor\":\"white\",\"startlinecolor\":\"#2a3f5f\"},\"type\":\"carpet\"}],\"table\":[{\"cells\":{\"fill\":{\"color\":\"#EBF0F8\"},\"line\":{\"color\":\"white\"}},\"header\":{\"fill\":{\"color\":\"#C8D4E3\"},\"line\":{\"color\":\"white\"}},\"type\":\"table\"}],\"barpolar\":[{\"marker\":{\"line\":{\"color\":\"#E5ECF6\",\"width\":0.5},\"pattern\":{\"fillmode\":\"overlay\",\"size\":10,\"solidity\":0.2}},\"type\":\"barpolar\"}],\"pie\":[{\"automargin\":true,\"type\":\"pie\"}]},\"layout\":{\"autotypenumbers\":\"strict\",\"colorway\":[\"#636efa\",\"#EF553B\",\"#00cc96\",\"#ab63fa\",\"#FFA15A\",\"#19d3f3\",\"#FF6692\",\"#B6E880\",\"#FF97FF\",\"#FECB52\"],\"font\":{\"color\":\"#2a3f5f\"},\"hovermode\":\"closest\",\"hoverlabel\":{\"align\":\"left\"},\"paper_bgcolor\":\"white\",\"plot_bgcolor\":\"#E5ECF6\",\"polar\":{\"bgcolor\":\"#E5ECF6\",\"angularaxis\":{\"gridcolor\":\"white\",\"linecolor\":\"white\",\"ticks\":\"\"},\"radialaxis\":{\"gridcolor\":\"white\",\"linecolor\":\"white\",\"ticks\":\"\"}},\"ternary\":{\"bgcolor\":\"#E5ECF6\",\"aaxis\":{\"gridcolor\":\"white\",\"linecolor\":\"white\",\"ticks\":\"\"},\"baxis\":{\"gridcolor\":\"white\",\"linecolor\":\"white\",\"ticks\":\"\"},\"caxis\":{\"gridcolor\":\"white\",\"linecolor\":\"white\",\"ticks\":\"\"}},\"coloraxis\":{\"colorbar\":{\"outlinewidth\":0,\"ticks\":\"\"}},\"colorscale\":{\"sequential\":[[0.0,\"#0d0887\"],[0.1111111111111111,\"#46039f\"],[0.2222222222222222,\"#7201a8\"],[0.3333333333333333,\"#9c179e\"],[0.4444444444444444,\"#bd3786\"],[0.5555555555555556,\"#d8576b\"],[0.6666666666666666,\"#ed7953\"],[0.7777777777777778,\"#fb9f3a\"],[0.8888888888888888,\"#fdca26\"],[1.0,\"#f0f921\"]],\"sequentialminus\":[[0.0,\"#0d0887\"],[0.1111111111111111,\"#46039f\"],[0.2222222222222222,\"#7201a8\"],[0.3333333333333333,\"#9c179e\"],[0.4444444444444444,\"#bd3786\"],[0.5555555555555556,\"#d8576b\"],[0.6666666666666666,\"#ed7953\"],[0.7777777777777778,\"#fb9f3a\"],[0.8888888888888888,\"#fdca26\"],[1.0,\"#f0f921\"]],\"diverging\":[[0,\"#8e0152\"],[0.1,\"#c51b7d\"],[0.2,\"#de77ae\"],[0.3,\"#f1b6da\"],[0.4,\"#fde0ef\"],[0.5,\"#f7f7f7\"],[0.6,\"#e6f5d0\"],[0.7,\"#b8e186\"],[0.8,\"#7fbc41\"],[0.9,\"#4d9221\"],[1,\"#276419\"]]},\"xaxis\":{\"gridcolor\":\"white\",\"linecolor\":\"white\",\"ticks\":\"\",\"title\":{\"standoff\":15},\"zerolinecolor\":\"white\",\"automargin\":true,\"zerolinewidth\":2},\"yaxis\":{\"gridcolor\":\"white\",\"linecolor\":\"white\",\"ticks\":\"\",\"title\":{\"standoff\":15},\"zerolinecolor\":\"white\",\"automargin\":true,\"zerolinewidth\":2},\"scene\":{\"xaxis\":{\"backgroundcolor\":\"#E5ECF6\",\"gridcolor\":\"white\",\"linecolor\":\"white\",\"showbackground\":true,\"ticks\":\"\",\"zerolinecolor\":\"white\",\"gridwidth\":2},\"yaxis\":{\"backgroundcolor\":\"#E5ECF6\",\"gridcolor\":\"white\",\"linecolor\":\"white\",\"showbackground\":true,\"ticks\":\"\",\"zerolinecolor\":\"white\",\"gridwidth\":2},\"zaxis\":{\"backgroundcolor\":\"#E5ECF6\",\"gridcolor\":\"white\",\"linecolor\":\"white\",\"showbackground\":true,\"ticks\":\"\",\"zerolinecolor\":\"white\",\"gridwidth\":2}},\"shapedefaults\":{\"line\":{\"color\":\"#2a3f5f\"}},\"annotationdefaults\":{\"arrowcolor\":\"#2a3f5f\",\"arrowhead\":0,\"arrowwidth\":1},\"geo\":{\"bgcolor\":\"white\",\"landcolor\":\"#E5ECF6\",\"subunitcolor\":\"white\",\"showland\":true,\"showlakes\":true,\"lakecolor\":\"white\"},\"title\":{\"x\":0.05},\"mapbox\":{\"style\":\"light\"}}},\"xaxis\":{\"anchor\":\"y\",\"domain\":[0.0,1.0],\"scaleanchor\":\"y\",\"constrain\":\"domain\",\"linecolor\":\"#DCDCDC\"},\"yaxis\":{\"anchor\":\"x\",\"domain\":[0.0,1.0],\"autorange\":\"reversed\",\"constrain\":\"domain\",\"gridcolor\":\"#DCDCDC\",\"title\":{\"text\":\"\"}},\"coloraxis\":{\"colorscale\":[[0.0,\"rgb(253, 253, 204)\"],[0.09090909090909091,\"rgb(206, 236, 179)\"],[0.18181818181818182,\"rgb(156, 219, 165)\"],[0.2727272727272727,\"rgb(111, 201, 163)\"],[0.36363636363636365,\"rgb(86, 177, 163)\"],[0.45454545454545453,\"rgb(76, 153, 160)\"],[0.5454545454545454,\"rgb(68, 130, 155)\"],[0.6363636363636364,\"rgb(62, 108, 150)\"],[0.7272727272727273,\"rgb(62, 82, 143)\"],[0.8181818181818182,\"rgb(64, 60, 115)\"],[0.9090909090909091,\"rgb(54, 43, 77)\"],[1.0,\"rgb(39, 26, 44)\"]],\"showscale\":false},\"margin\":{\"t\":60},\"paper_bgcolor\":\"#F5F5F5\",\"plot_bgcolor\":\"#F5F5F5\"},                        {\"responsive\": true}                    ).then(function(){\n",
       "                            \n",
       "var gd = document.getElementById('9b480a62-8815-4615-9ece-53b94c9fa8dd');\n",
       "var x = new MutationObserver(function (mutations, observer) {{\n",
       "        var display = window.getComputedStyle(gd).display;\n",
       "        if (!display || display === 'none') {{\n",
       "            console.log([gd, 'removed!']);\n",
       "            Plotly.purge(gd);\n",
       "            observer.disconnect();\n",
       "        }}\n",
       "}});\n",
       "\n",
       "// Listen for the removal of the full notebook cells\n",
       "var notebookContainer = gd.closest('#notebook-container');\n",
       "if (notebookContainer) {{\n",
       "    x.observe(notebookContainer, {childList: true});\n",
       "}}\n",
       "\n",
       "// Listen for the clearing of the current output cell\n",
       "var outputEl = gd.closest('.output');\n",
       "if (outputEl) {{\n",
       "    x.observe(outputEl, {childList: true});\n",
       "}}\n",
       "\n",
       "                        })                };                });            </script>        </div>"
      ]
     },
     "metadata": {},
     "output_type": "display_data"
    }
   ],
   "source": [
    "corr_heatmap(X)"
   ]
  },
  {
   "cell_type": "code",
   "execution_count": 94,
   "id": "dce048f2",
   "metadata": {
    "ExecuteTime": {
     "end_time": "2022-11-02T07:09:34.431873Z",
     "start_time": "2022-11-02T07:09:34.395865Z"
    },
    "hidden": true
   },
   "outputs": [
    {
     "data": {
      "text/html": [
       "<div>                            <div id=\"6b963b34-8632-4902-aacc-15f66017d558\" class=\"plotly-graph-div\" style=\"height:525px; width:100%;\"></div>            <script type=\"text/javascript\">                require([\"plotly\"], function(Plotly) {                    window.PLOTLYENV=window.PLOTLYENV || {};                                    if (document.getElementById(\"6b963b34-8632-4902-aacc-15f66017d558\")) {                    Plotly.newPlot(                        \"6b963b34-8632-4902-aacc-15f66017d558\",                        [{\"coloraxis\":\"coloraxis\",\"name\":\"0\",\"texttemplate\":\"%{z}\",\"x\":[\"BsmtFullBath\",\"BsmtHalfBath\",\"FullBath\",\"HalfBath\",\"SalePrice\"],\"y\":[\"BsmtFullBath\",\"BsmtHalfBath\",\"FullBath\",\"HalfBath\",\"SalePrice\"],\"z\":[[1.0,-0.147,-0.051,-0.045,0.258],[-0.147,1.0,-0.052,-0.062,-0.032],[-0.051,-0.052,1.0,0.168,0.552],[-0.045,-0.062,0.168,1.0,0.297],[0.258,-0.032,0.552,0.297,1.0]],\"type\":\"heatmap\",\"xaxis\":\"x\",\"yaxis\":\"y\",\"hovertemplate\":\"x: %{x}<br>y: %{y}<br>color: %{z}<extra></extra>\",\"opacity\":0.8}],                        {\"template\":{\"data\":{\"histogram2dcontour\":[{\"type\":\"histogram2dcontour\",\"colorbar\":{\"outlinewidth\":0,\"ticks\":\"\"},\"colorscale\":[[0.0,\"#0d0887\"],[0.1111111111111111,\"#46039f\"],[0.2222222222222222,\"#7201a8\"],[0.3333333333333333,\"#9c179e\"],[0.4444444444444444,\"#bd3786\"],[0.5555555555555556,\"#d8576b\"],[0.6666666666666666,\"#ed7953\"],[0.7777777777777778,\"#fb9f3a\"],[0.8888888888888888,\"#fdca26\"],[1.0,\"#f0f921\"]]}],\"choropleth\":[{\"type\":\"choropleth\",\"colorbar\":{\"outlinewidth\":0,\"ticks\":\"\"}}],\"histogram2d\":[{\"type\":\"histogram2d\",\"colorbar\":{\"outlinewidth\":0,\"ticks\":\"\"},\"colorscale\":[[0.0,\"#0d0887\"],[0.1111111111111111,\"#46039f\"],[0.2222222222222222,\"#7201a8\"],[0.3333333333333333,\"#9c179e\"],[0.4444444444444444,\"#bd3786\"],[0.5555555555555556,\"#d8576b\"],[0.6666666666666666,\"#ed7953\"],[0.7777777777777778,\"#fb9f3a\"],[0.8888888888888888,\"#fdca26\"],[1.0,\"#f0f921\"]]}],\"heatmap\":[{\"type\":\"heatmap\",\"colorbar\":{\"outlinewidth\":0,\"ticks\":\"\"},\"colorscale\":[[0.0,\"#0d0887\"],[0.1111111111111111,\"#46039f\"],[0.2222222222222222,\"#7201a8\"],[0.3333333333333333,\"#9c179e\"],[0.4444444444444444,\"#bd3786\"],[0.5555555555555556,\"#d8576b\"],[0.6666666666666666,\"#ed7953\"],[0.7777777777777778,\"#fb9f3a\"],[0.8888888888888888,\"#fdca26\"],[1.0,\"#f0f921\"]]}],\"heatmapgl\":[{\"type\":\"heatmapgl\",\"colorbar\":{\"outlinewidth\":0,\"ticks\":\"\"},\"colorscale\":[[0.0,\"#0d0887\"],[0.1111111111111111,\"#46039f\"],[0.2222222222222222,\"#7201a8\"],[0.3333333333333333,\"#9c179e\"],[0.4444444444444444,\"#bd3786\"],[0.5555555555555556,\"#d8576b\"],[0.6666666666666666,\"#ed7953\"],[0.7777777777777778,\"#fb9f3a\"],[0.8888888888888888,\"#fdca26\"],[1.0,\"#f0f921\"]]}],\"contourcarpet\":[{\"type\":\"contourcarpet\",\"colorbar\":{\"outlinewidth\":0,\"ticks\":\"\"}}],\"contour\":[{\"type\":\"contour\",\"colorbar\":{\"outlinewidth\":0,\"ticks\":\"\"},\"colorscale\":[[0.0,\"#0d0887\"],[0.1111111111111111,\"#46039f\"],[0.2222222222222222,\"#7201a8\"],[0.3333333333333333,\"#9c179e\"],[0.4444444444444444,\"#bd3786\"],[0.5555555555555556,\"#d8576b\"],[0.6666666666666666,\"#ed7953\"],[0.7777777777777778,\"#fb9f3a\"],[0.8888888888888888,\"#fdca26\"],[1.0,\"#f0f921\"]]}],\"surface\":[{\"type\":\"surface\",\"colorbar\":{\"outlinewidth\":0,\"ticks\":\"\"},\"colorscale\":[[0.0,\"#0d0887\"],[0.1111111111111111,\"#46039f\"],[0.2222222222222222,\"#7201a8\"],[0.3333333333333333,\"#9c179e\"],[0.4444444444444444,\"#bd3786\"],[0.5555555555555556,\"#d8576b\"],[0.6666666666666666,\"#ed7953\"],[0.7777777777777778,\"#fb9f3a\"],[0.8888888888888888,\"#fdca26\"],[1.0,\"#f0f921\"]]}],\"mesh3d\":[{\"type\":\"mesh3d\",\"colorbar\":{\"outlinewidth\":0,\"ticks\":\"\"}}],\"scatter\":[{\"fillpattern\":{\"fillmode\":\"overlay\",\"size\":10,\"solidity\":0.2},\"type\":\"scatter\"}],\"parcoords\":[{\"type\":\"parcoords\",\"line\":{\"colorbar\":{\"outlinewidth\":0,\"ticks\":\"\"}}}],\"scatterpolargl\":[{\"type\":\"scatterpolargl\",\"marker\":{\"colorbar\":{\"outlinewidth\":0,\"ticks\":\"\"}}}],\"bar\":[{\"error_x\":{\"color\":\"#2a3f5f\"},\"error_y\":{\"color\":\"#2a3f5f\"},\"marker\":{\"line\":{\"color\":\"#E5ECF6\",\"width\":0.5},\"pattern\":{\"fillmode\":\"overlay\",\"size\":10,\"solidity\":0.2}},\"type\":\"bar\"}],\"scattergeo\":[{\"type\":\"scattergeo\",\"marker\":{\"colorbar\":{\"outlinewidth\":0,\"ticks\":\"\"}}}],\"scatterpolar\":[{\"type\":\"scatterpolar\",\"marker\":{\"colorbar\":{\"outlinewidth\":0,\"ticks\":\"\"}}}],\"histogram\":[{\"marker\":{\"pattern\":{\"fillmode\":\"overlay\",\"size\":10,\"solidity\":0.2}},\"type\":\"histogram\"}],\"scattergl\":[{\"type\":\"scattergl\",\"marker\":{\"colorbar\":{\"outlinewidth\":0,\"ticks\":\"\"}}}],\"scatter3d\":[{\"type\":\"scatter3d\",\"line\":{\"colorbar\":{\"outlinewidth\":0,\"ticks\":\"\"}},\"marker\":{\"colorbar\":{\"outlinewidth\":0,\"ticks\":\"\"}}}],\"scattermapbox\":[{\"type\":\"scattermapbox\",\"marker\":{\"colorbar\":{\"outlinewidth\":0,\"ticks\":\"\"}}}],\"scatterternary\":[{\"type\":\"scatterternary\",\"marker\":{\"colorbar\":{\"outlinewidth\":0,\"ticks\":\"\"}}}],\"scattercarpet\":[{\"type\":\"scattercarpet\",\"marker\":{\"colorbar\":{\"outlinewidth\":0,\"ticks\":\"\"}}}],\"carpet\":[{\"aaxis\":{\"endlinecolor\":\"#2a3f5f\",\"gridcolor\":\"white\",\"linecolor\":\"white\",\"minorgridcolor\":\"white\",\"startlinecolor\":\"#2a3f5f\"},\"baxis\":{\"endlinecolor\":\"#2a3f5f\",\"gridcolor\":\"white\",\"linecolor\":\"white\",\"minorgridcolor\":\"white\",\"startlinecolor\":\"#2a3f5f\"},\"type\":\"carpet\"}],\"table\":[{\"cells\":{\"fill\":{\"color\":\"#EBF0F8\"},\"line\":{\"color\":\"white\"}},\"header\":{\"fill\":{\"color\":\"#C8D4E3\"},\"line\":{\"color\":\"white\"}},\"type\":\"table\"}],\"barpolar\":[{\"marker\":{\"line\":{\"color\":\"#E5ECF6\",\"width\":0.5},\"pattern\":{\"fillmode\":\"overlay\",\"size\":10,\"solidity\":0.2}},\"type\":\"barpolar\"}],\"pie\":[{\"automargin\":true,\"type\":\"pie\"}]},\"layout\":{\"autotypenumbers\":\"strict\",\"colorway\":[\"#636efa\",\"#EF553B\",\"#00cc96\",\"#ab63fa\",\"#FFA15A\",\"#19d3f3\",\"#FF6692\",\"#B6E880\",\"#FF97FF\",\"#FECB52\"],\"font\":{\"color\":\"#2a3f5f\"},\"hovermode\":\"closest\",\"hoverlabel\":{\"align\":\"left\"},\"paper_bgcolor\":\"white\",\"plot_bgcolor\":\"#E5ECF6\",\"polar\":{\"bgcolor\":\"#E5ECF6\",\"angularaxis\":{\"gridcolor\":\"white\",\"linecolor\":\"white\",\"ticks\":\"\"},\"radialaxis\":{\"gridcolor\":\"white\",\"linecolor\":\"white\",\"ticks\":\"\"}},\"ternary\":{\"bgcolor\":\"#E5ECF6\",\"aaxis\":{\"gridcolor\":\"white\",\"linecolor\":\"white\",\"ticks\":\"\"},\"baxis\":{\"gridcolor\":\"white\",\"linecolor\":\"white\",\"ticks\":\"\"},\"caxis\":{\"gridcolor\":\"white\",\"linecolor\":\"white\",\"ticks\":\"\"}},\"coloraxis\":{\"colorbar\":{\"outlinewidth\":0,\"ticks\":\"\"}},\"colorscale\":{\"sequential\":[[0.0,\"#0d0887\"],[0.1111111111111111,\"#46039f\"],[0.2222222222222222,\"#7201a8\"],[0.3333333333333333,\"#9c179e\"],[0.4444444444444444,\"#bd3786\"],[0.5555555555555556,\"#d8576b\"],[0.6666666666666666,\"#ed7953\"],[0.7777777777777778,\"#fb9f3a\"],[0.8888888888888888,\"#fdca26\"],[1.0,\"#f0f921\"]],\"sequentialminus\":[[0.0,\"#0d0887\"],[0.1111111111111111,\"#46039f\"],[0.2222222222222222,\"#7201a8\"],[0.3333333333333333,\"#9c179e\"],[0.4444444444444444,\"#bd3786\"],[0.5555555555555556,\"#d8576b\"],[0.6666666666666666,\"#ed7953\"],[0.7777777777777778,\"#fb9f3a\"],[0.8888888888888888,\"#fdca26\"],[1.0,\"#f0f921\"]],\"diverging\":[[0,\"#8e0152\"],[0.1,\"#c51b7d\"],[0.2,\"#de77ae\"],[0.3,\"#f1b6da\"],[0.4,\"#fde0ef\"],[0.5,\"#f7f7f7\"],[0.6,\"#e6f5d0\"],[0.7,\"#b8e186\"],[0.8,\"#7fbc41\"],[0.9,\"#4d9221\"],[1,\"#276419\"]]},\"xaxis\":{\"gridcolor\":\"white\",\"linecolor\":\"white\",\"ticks\":\"\",\"title\":{\"standoff\":15},\"zerolinecolor\":\"white\",\"automargin\":true,\"zerolinewidth\":2},\"yaxis\":{\"gridcolor\":\"white\",\"linecolor\":\"white\",\"ticks\":\"\",\"title\":{\"standoff\":15},\"zerolinecolor\":\"white\",\"automargin\":true,\"zerolinewidth\":2},\"scene\":{\"xaxis\":{\"backgroundcolor\":\"#E5ECF6\",\"gridcolor\":\"white\",\"linecolor\":\"white\",\"showbackground\":true,\"ticks\":\"\",\"zerolinecolor\":\"white\",\"gridwidth\":2},\"yaxis\":{\"backgroundcolor\":\"#E5ECF6\",\"gridcolor\":\"white\",\"linecolor\":\"white\",\"showbackground\":true,\"ticks\":\"\",\"zerolinecolor\":\"white\",\"gridwidth\":2},\"zaxis\":{\"backgroundcolor\":\"#E5ECF6\",\"gridcolor\":\"white\",\"linecolor\":\"white\",\"showbackground\":true,\"ticks\":\"\",\"zerolinecolor\":\"white\",\"gridwidth\":2}},\"shapedefaults\":{\"line\":{\"color\":\"#2a3f5f\"}},\"annotationdefaults\":{\"arrowcolor\":\"#2a3f5f\",\"arrowhead\":0,\"arrowwidth\":1},\"geo\":{\"bgcolor\":\"white\",\"landcolor\":\"#E5ECF6\",\"subunitcolor\":\"white\",\"showland\":true,\"showlakes\":true,\"lakecolor\":\"white\"},\"title\":{\"x\":0.05},\"mapbox\":{\"style\":\"light\"}}},\"xaxis\":{\"anchor\":\"y\",\"domain\":[0.0,1.0],\"scaleanchor\":\"y\",\"constrain\":\"domain\",\"linecolor\":\"#DCDCDC\"},\"yaxis\":{\"anchor\":\"x\",\"domain\":[0.0,1.0],\"autorange\":\"reversed\",\"constrain\":\"domain\",\"gridcolor\":\"#DCDCDC\",\"title\":{\"text\":\"\"}},\"coloraxis\":{\"colorscale\":[[0.0,\"rgb(253, 253, 204)\"],[0.09090909090909091,\"rgb(206, 236, 179)\"],[0.18181818181818182,\"rgb(156, 219, 165)\"],[0.2727272727272727,\"rgb(111, 201, 163)\"],[0.36363636363636365,\"rgb(86, 177, 163)\"],[0.45454545454545453,\"rgb(76, 153, 160)\"],[0.5454545454545454,\"rgb(68, 130, 155)\"],[0.6363636363636364,\"rgb(62, 108, 150)\"],[0.7272727272727273,\"rgb(62, 82, 143)\"],[0.8181818181818182,\"rgb(64, 60, 115)\"],[0.9090909090909091,\"rgb(54, 43, 77)\"],[1.0,\"rgb(39, 26, 44)\"]],\"showscale\":false},\"margin\":{\"t\":60},\"paper_bgcolor\":\"#F5F5F5\",\"plot_bgcolor\":\"#F5F5F5\"},                        {\"responsive\": true}                    ).then(function(){\n",
       "                            \n",
       "var gd = document.getElementById('6b963b34-8632-4902-aacc-15f66017d558');\n",
       "var x = new MutationObserver(function (mutations, observer) {{\n",
       "        var display = window.getComputedStyle(gd).display;\n",
       "        if (!display || display === 'none') {{\n",
       "            console.log([gd, 'removed!']);\n",
       "            Plotly.purge(gd);\n",
       "            observer.disconnect();\n",
       "        }}\n",
       "}});\n",
       "\n",
       "// Listen for the removal of the full notebook cells\n",
       "var notebookContainer = gd.closest('#notebook-container');\n",
       "if (notebookContainer) {{\n",
       "    x.observe(notebookContainer, {childList: true});\n",
       "}}\n",
       "\n",
       "// Listen for the clearing of the current output cell\n",
       "var outputEl = gd.closest('.output');\n",
       "if (outputEl) {{\n",
       "    x.observe(outputEl, {childList: true});\n",
       "}}\n",
       "\n",
       "                        })                };                });            </script>        </div>"
      ]
     },
     "metadata": {},
     "output_type": "display_data"
    }
   ],
   "source": [
    "corr_heatmap(X.query('BsmtHalfBath <= 1 & BsmtFullBath <= 1 & FullBath <= 2 & HalfBath <= 1'))"
   ]
  },
  {
   "cell_type": "markdown",
   "id": "52b65915",
   "metadata": {
    "hidden": true
   },
   "source": [
    "- The strongest correlation is between FullBath, SalePrice\n",
    "- There is no strong correlation between other groups\n",
    "- However, just logically FullBath = BsmtFullBath + Second Floor Full Baths; the same for HalfBaths\n",
    "=> keep only FullBaths, HalfBaths"
   ]
  },
  {
   "cell_type": "markdown",
   "id": "71d740ab",
   "metadata": {
    "heading_collapsed": true
   },
   "source": [
    "### Rooms"
   ]
  },
  {
   "cell_type": "code",
   "execution_count": 97,
   "id": "d3e5d715",
   "metadata": {
    "ExecuteTime": {
     "end_time": "2022-11-02T07:16:16.415496Z",
     "start_time": "2022-11-02T07:16:16.397438Z"
    },
    "hidden": true
   },
   "outputs": [],
   "source": [
    "X = data.copy()\n",
    "X = X.loc[:, ['BedroomAbvGr', 'KitchenAbvGr', 'FullBath', 'HalfBath', 'TotRmsAbvGrd',\n",
    "              'SalePrice']]"
   ]
  },
  {
   "cell_type": "code",
   "execution_count": 98,
   "id": "c6cbeaa9",
   "metadata": {
    "ExecuteTime": {
     "end_time": "2022-11-02T07:16:19.676730Z",
     "start_time": "2022-11-02T07:16:18.300419Z"
    },
    "hidden": true
   },
   "outputs": [
    {
     "data": {
      "image/png": "[encoded data removed]",
      "text/plain": [
       "<Figure size 1440x1080 with 42 Axes>"
      ]
     },
     "metadata": {
      "needs_background": "light"
     },
     "output_type": "display_data"
    }
   ],
   "source": [
    "X.hist(layout=(6, 7), figsize=(20, 15), bins=40)\n",
    "plt.show()"
   ]
  },
  {
   "cell_type": "code",
   "execution_count": 109,
   "id": "5d71a11e",
   "metadata": {
    "ExecuteTime": {
     "end_time": "2022-11-02T07:21:48.285990Z",
     "start_time": "2022-11-02T07:21:48.278483Z"
    },
    "hidden": true
   },
   "outputs": [
    {
     "name": "stdout",
     "output_type": "stream",
     "text": [
      "0.005479452054794521\n",
      "0.0013698630136986301\n",
      "0.0006849315068493151\n",
      "0.022602739726027398\n",
      "0.00821917808219178\n"
     ]
    }
   ],
   "source": [
    "print(X.loc[X.BedroomAbvGr > 5, :].shape[0]/X.shape[0])    # 8 observations\n",
    "print(X.loc[X.KitchenAbvGr > 2, :].shape[0]/X.shape[0])    # 2 obs.\n",
    "print(X.loc[X.TotRmsAbvGrd > 13, :].shape[0]/X.shape[0])    # 1 obs.\n",
    "print(X.loc[X.FullBath > 2, :].shape[0]/X.shape[0])        # 33 obs.\n",
    "print(X.loc[X.HalfBath > 1, :].shape[0]/X.shape[0])        # 12 obs."
   ]
  },
  {
   "cell_type": "code",
   "execution_count": 110,
   "id": "4adb6a5f",
   "metadata": {
    "ExecuteTime": {
     "end_time": "2022-11-02T07:22:08.092427Z",
     "start_time": "2022-11-02T07:22:08.044905Z"
    },
    "hidden": true
   },
   "outputs": [
    {
     "data": {
      "text/html": [
       "<div>                            <div id=\"ba5f6ee2-c157-433e-afbd-fc375af0e9ca\" class=\"plotly-graph-div\" style=\"height:525px; width:100%;\"></div>            <script type=\"text/javascript\">                require([\"plotly\"], function(Plotly) {                    window.PLOTLYENV=window.PLOTLYENV || {};                                    if (document.getElementById(\"ba5f6ee2-c157-433e-afbd-fc375af0e9ca\")) {                    Plotly.newPlot(                        \"ba5f6ee2-c157-433e-afbd-fc375af0e9ca\",                        [{\"coloraxis\":\"coloraxis\",\"name\":\"0\",\"texttemplate\":\"%{z}\",\"x\":[\"BedroomAbvGr\",\"KitchenAbvGr\",\"FullBath\",\"HalfBath\",\"TotRmsAbvGrd\",\"SalePrice\"],\"y\":[\"BedroomAbvGr\",\"KitchenAbvGr\",\"FullBath\",\"HalfBath\",\"TotRmsAbvGrd\",\"SalePrice\"],\"z\":[[1.0,0.199,0.363,0.227,0.677,0.168],[0.199,1.0,0.133,-0.068,0.256,-0.136],[0.363,0.133,1.0,0.136,0.555,0.561],[0.227,-0.068,0.136,1.0,0.343,0.284],[0.677,0.256,0.555,0.343,1.0,0.534],[0.168,-0.136,0.561,0.284,0.534,1.0]],\"type\":\"heatmap\",\"xaxis\":\"x\",\"yaxis\":\"y\",\"hovertemplate\":\"x: %{x}<br>y: %{y}<br>color: %{z}<extra></extra>\",\"opacity\":0.8}],                        {\"template\":{\"data\":{\"histogram2dcontour\":[{\"type\":\"histogram2dcontour\",\"colorbar\":{\"outlinewidth\":0,\"ticks\":\"\"},\"colorscale\":[[0.0,\"#0d0887\"],[0.1111111111111111,\"#46039f\"],[0.2222222222222222,\"#7201a8\"],[0.3333333333333333,\"#9c179e\"],[0.4444444444444444,\"#bd3786\"],[0.5555555555555556,\"#d8576b\"],[0.6666666666666666,\"#ed7953\"],[0.7777777777777778,\"#fb9f3a\"],[0.8888888888888888,\"#fdca26\"],[1.0,\"#f0f921\"]]}],\"choropleth\":[{\"type\":\"choropleth\",\"colorbar\":{\"outlinewidth\":0,\"ticks\":\"\"}}],\"histogram2d\":[{\"type\":\"histogram2d\",\"colorbar\":{\"outlinewidth\":0,\"ticks\":\"\"},\"colorscale\":[[0.0,\"#0d0887\"],[0.1111111111111111,\"#46039f\"],[0.2222222222222222,\"#7201a8\"],[0.3333333333333333,\"#9c179e\"],[0.4444444444444444,\"#bd3786\"],[0.5555555555555556,\"#d8576b\"],[0.6666666666666666,\"#ed7953\"],[0.7777777777777778,\"#fb9f3a\"],[0.8888888888888888,\"#fdca26\"],[1.0,\"#f0f921\"]]}],\"heatmap\":[{\"type\":\"heatmap\",\"colorbar\":{\"outlinewidth\":0,\"ticks\":\"\"},\"colorscale\":[[0.0,\"#0d0887\"],[0.1111111111111111,\"#46039f\"],[0.2222222222222222,\"#7201a8\"],[0.3333333333333333,\"#9c179e\"],[0.4444444444444444,\"#bd3786\"],[0.5555555555555556,\"#d8576b\"],[0.6666666666666666,\"#ed7953\"],[0.7777777777777778,\"#fb9f3a\"],[0.8888888888888888,\"#fdca26\"],[1.0,\"#f0f921\"]]}],\"heatmapgl\":[{\"type\":\"heatmapgl\",\"colorbar\":{\"outlinewidth\":0,\"ticks\":\"\"},\"colorscale\":[[0.0,\"#0d0887\"],[0.1111111111111111,\"#46039f\"],[0.2222222222222222,\"#7201a8\"],[0.3333333333333333,\"#9c179e\"],[0.4444444444444444,\"#bd3786\"],[0.5555555555555556,\"#d8576b\"],[0.6666666666666666,\"#ed7953\"],[0.7777777777777778,\"#fb9f3a\"],[0.8888888888888888,\"#fdca26\"],[1.0,\"#f0f921\"]]}],\"contourcarpet\":[{\"type\":\"contourcarpet\",\"colorbar\":{\"outlinewidth\":0,\"ticks\":\"\"}}],\"contour\":[{\"type\":\"contour\",\"colorbar\":{\"outlinewidth\":0,\"ticks\":\"\"},\"colorscale\":[[0.0,\"#0d0887\"],[0.1111111111111111,\"#46039f\"],[0.2222222222222222,\"#7201a8\"],[0.3333333333333333,\"#9c179e\"],[0.4444444444444444,\"#bd3786\"],[0.5555555555555556,\"#d8576b\"],[0.6666666666666666,\"#ed7953\"],[0.7777777777777778,\"#fb9f3a\"],[0.8888888888888888,\"#fdca26\"],[1.0,\"#f0f921\"]]}],\"surface\":[{\"type\":\"surface\",\"colorbar\":{\"outlinewidth\":0,\"ticks\":\"\"},\"colorscale\":[[0.0,\"#0d0887\"],[0.1111111111111111,\"#46039f\"],[0.2222222222222222,\"#7201a8\"],[0.3333333333333333,\"#9c179e\"],[0.4444444444444444,\"#bd3786\"],[0.5555555555555556,\"#d8576b\"],[0.6666666666666666,\"#ed7953\"],[0.7777777777777778,\"#fb9f3a\"],[0.8888888888888888,\"#fdca26\"],[1.0,\"#f0f921\"]]}],\"mesh3d\":[{\"type\":\"mesh3d\",\"colorbar\":{\"outlinewidth\":0,\"ticks\":\"\"}}],\"scatter\":[{\"fillpattern\":{\"fillmode\":\"overlay\",\"size\":10,\"solidity\":0.2},\"type\":\"scatter\"}],\"parcoords\":[{\"type\":\"parcoords\",\"line\":{\"colorbar\":{\"outlinewidth\":0,\"ticks\":\"\"}}}],\"scatterpolargl\":[{\"type\":\"scatterpolargl\",\"marker\":{\"colorbar\":{\"outlinewidth\":0,\"ticks\":\"\"}}}],\"bar\":[{\"error_x\":{\"color\":\"#2a3f5f\"},\"error_y\":{\"color\":\"#2a3f5f\"},\"marker\":{\"line\":{\"color\":\"#E5ECF6\",\"width\":0.5},\"pattern\":{\"fillmode\":\"overlay\",\"size\":10,\"solidity\":0.2}},\"type\":\"bar\"}],\"scattergeo\":[{\"type\":\"scattergeo\",\"marker\":{\"colorbar\":{\"outlinewidth\":0,\"ticks\":\"\"}}}],\"scatterpolar\":[{\"type\":\"scatterpolar\",\"marker\":{\"colorbar\":{\"outlinewidth\":0,\"ticks\":\"\"}}}],\"histogram\":[{\"marker\":{\"pattern\":{\"fillmode\":\"overlay\",\"size\":10,\"solidity\":0.2}},\"type\":\"histogram\"}],\"scattergl\":[{\"type\":\"scattergl\",\"marker\":{\"colorbar\":{\"outlinewidth\":0,\"ticks\":\"\"}}}],\"scatter3d\":[{\"type\":\"scatter3d\",\"line\":{\"colorbar\":{\"outlinewidth\":0,\"ticks\":\"\"}},\"marker\":{\"colorbar\":{\"outlinewidth\":0,\"ticks\":\"\"}}}],\"scattermapbox\":[{\"type\":\"scattermapbox\",\"marker\":{\"colorbar\":{\"outlinewidth\":0,\"ticks\":\"\"}}}],\"scatterternary\":[{\"type\":\"scatterternary\",\"marker\":{\"colorbar\":{\"outlinewidth\":0,\"ticks\":\"\"}}}],\"scattercarpet\":[{\"type\":\"scattercarpet\",\"marker\":{\"colorbar\":{\"outlinewidth\":0,\"ticks\":\"\"}}}],\"carpet\":[{\"aaxis\":{\"endlinecolor\":\"#2a3f5f\",\"gridcolor\":\"white\",\"linecolor\":\"white\",\"minorgridcolor\":\"white\",\"startlinecolor\":\"#2a3f5f\"},\"baxis\":{\"endlinecolor\":\"#2a3f5f\",\"gridcolor\":\"white\",\"linecolor\":\"white\",\"minorgridcolor\":\"white\",\"startlinecolor\":\"#2a3f5f\"},\"type\":\"carpet\"}],\"table\":[{\"cells\":{\"fill\":{\"color\":\"#EBF0F8\"},\"line\":{\"color\":\"white\"}},\"header\":{\"fill\":{\"color\":\"#C8D4E3\"},\"line\":{\"color\":\"white\"}},\"type\":\"table\"}],\"barpolar\":[{\"marker\":{\"line\":{\"color\":\"#E5ECF6\",\"width\":0.5},\"pattern\":{\"fillmode\":\"overlay\",\"size\":10,\"solidity\":0.2}},\"type\":\"barpolar\"}],\"pie\":[{\"automargin\":true,\"type\":\"pie\"}]},\"layout\":{\"autotypenumbers\":\"strict\",\"colorway\":[\"#636efa\",\"#EF553B\",\"#00cc96\",\"#ab63fa\",\"#FFA15A\",\"#19d3f3\",\"#FF6692\",\"#B6E880\",\"#FF97FF\",\"#FECB52\"],\"font\":{\"color\":\"#2a3f5f\"},\"hovermode\":\"closest\",\"hoverlabel\":{\"align\":\"left\"},\"paper_bgcolor\":\"white\",\"plot_bgcolor\":\"#E5ECF6\",\"polar\":{\"bgcolor\":\"#E5ECF6\",\"angularaxis\":{\"gridcolor\":\"white\",\"linecolor\":\"white\",\"ticks\":\"\"},\"radialaxis\":{\"gridcolor\":\"white\",\"linecolor\":\"white\",\"ticks\":\"\"}},\"ternary\":{\"bgcolor\":\"#E5ECF6\",\"aaxis\":{\"gridcolor\":\"white\",\"linecolor\":\"white\",\"ticks\":\"\"},\"baxis\":{\"gridcolor\":\"white\",\"linecolor\":\"white\",\"ticks\":\"\"},\"caxis\":{\"gridcolor\":\"white\",\"linecolor\":\"white\",\"ticks\":\"\"}},\"coloraxis\":{\"colorbar\":{\"outlinewidth\":0,\"ticks\":\"\"}},\"colorscale\":{\"sequential\":[[0.0,\"#0d0887\"],[0.1111111111111111,\"#46039f\"],[0.2222222222222222,\"#7201a8\"],[0.3333333333333333,\"#9c179e\"],[0.4444444444444444,\"#bd3786\"],[0.5555555555555556,\"#d8576b\"],[0.6666666666666666,\"#ed7953\"],[0.7777777777777778,\"#fb9f3a\"],[0.8888888888888888,\"#fdca26\"],[1.0,\"#f0f921\"]],\"sequentialminus\":[[0.0,\"#0d0887\"],[0.1111111111111111,\"#46039f\"],[0.2222222222222222,\"#7201a8\"],[0.3333333333333333,\"#9c179e\"],[0.4444444444444444,\"#bd3786\"],[0.5555555555555556,\"#d8576b\"],[0.6666666666666666,\"#ed7953\"],[0.7777777777777778,\"#fb9f3a\"],[0.8888888888888888,\"#fdca26\"],[1.0,\"#f0f921\"]],\"diverging\":[[0,\"#8e0152\"],[0.1,\"#c51b7d\"],[0.2,\"#de77ae\"],[0.3,\"#f1b6da\"],[0.4,\"#fde0ef\"],[0.5,\"#f7f7f7\"],[0.6,\"#e6f5d0\"],[0.7,\"#b8e186\"],[0.8,\"#7fbc41\"],[0.9,\"#4d9221\"],[1,\"#276419\"]]},\"xaxis\":{\"gridcolor\":\"white\",\"linecolor\":\"white\",\"ticks\":\"\",\"title\":{\"standoff\":15},\"zerolinecolor\":\"white\",\"automargin\":true,\"zerolinewidth\":2},\"yaxis\":{\"gridcolor\":\"white\",\"linecolor\":\"white\",\"ticks\":\"\",\"title\":{\"standoff\":15},\"zerolinecolor\":\"white\",\"automargin\":true,\"zerolinewidth\":2},\"scene\":{\"xaxis\":{\"backgroundcolor\":\"#E5ECF6\",\"gridcolor\":\"white\",\"linecolor\":\"white\",\"showbackground\":true,\"ticks\":\"\",\"zerolinecolor\":\"white\",\"gridwidth\":2},\"yaxis\":{\"backgroundcolor\":\"#E5ECF6\",\"gridcolor\":\"white\",\"linecolor\":\"white\",\"showbackground\":true,\"ticks\":\"\",\"zerolinecolor\":\"white\",\"gridwidth\":2},\"zaxis\":{\"backgroundcolor\":\"#E5ECF6\",\"gridcolor\":\"white\",\"linecolor\":\"white\",\"showbackground\":true,\"ticks\":\"\",\"zerolinecolor\":\"white\",\"gridwidth\":2}},\"shapedefaults\":{\"line\":{\"color\":\"#2a3f5f\"}},\"annotationdefaults\":{\"arrowcolor\":\"#2a3f5f\",\"arrowhead\":0,\"arrowwidth\":1},\"geo\":{\"bgcolor\":\"white\",\"landcolor\":\"#E5ECF6\",\"subunitcolor\":\"white\",\"showland\":true,\"showlakes\":true,\"lakecolor\":\"white\"},\"title\":{\"x\":0.05},\"mapbox\":{\"style\":\"light\"}}},\"xaxis\":{\"anchor\":\"y\",\"domain\":[0.0,1.0],\"scaleanchor\":\"y\",\"constrain\":\"domain\",\"linecolor\":\"#DCDCDC\"},\"yaxis\":{\"anchor\":\"x\",\"domain\":[0.0,1.0],\"autorange\":\"reversed\",\"constrain\":\"domain\",\"gridcolor\":\"#DCDCDC\",\"title\":{\"text\":\"\"}},\"coloraxis\":{\"colorscale\":[[0.0,\"rgb(253, 253, 204)\"],[0.09090909090909091,\"rgb(206, 236, 179)\"],[0.18181818181818182,\"rgb(156, 219, 165)\"],[0.2727272727272727,\"rgb(111, 201, 163)\"],[0.36363636363636365,\"rgb(86, 177, 163)\"],[0.45454545454545453,\"rgb(76, 153, 160)\"],[0.5454545454545454,\"rgb(68, 130, 155)\"],[0.6363636363636364,\"rgb(62, 108, 150)\"],[0.7272727272727273,\"rgb(62, 82, 143)\"],[0.8181818181818182,\"rgb(64, 60, 115)\"],[0.9090909090909091,\"rgb(54, 43, 77)\"],[1.0,\"rgb(39, 26, 44)\"]],\"showscale\":false},\"margin\":{\"t\":60},\"paper_bgcolor\":\"#F5F5F5\",\"plot_bgcolor\":\"#F5F5F5\"},                        {\"responsive\": true}                    ).then(function(){\n",
       "                            \n",
       "var gd = document.getElementById('ba5f6ee2-c157-433e-afbd-fc375af0e9ca');\n",
       "var x = new MutationObserver(function (mutations, observer) {{\n",
       "        var display = window.getComputedStyle(gd).display;\n",
       "        if (!display || display === 'none') {{\n",
       "            console.log([gd, 'removed!']);\n",
       "            Plotly.purge(gd);\n",
       "            observer.disconnect();\n",
       "        }}\n",
       "}});\n",
       "\n",
       "// Listen for the removal of the full notebook cells\n",
       "var notebookContainer = gd.closest('#notebook-container');\n",
       "if (notebookContainer) {{\n",
       "    x.observe(notebookContainer, {childList: true});\n",
       "}}\n",
       "\n",
       "// Listen for the clearing of the current output cell\n",
       "var outputEl = gd.closest('.output');\n",
       "if (outputEl) {{\n",
       "    x.observe(outputEl, {childList: true});\n",
       "}}\n",
       "\n",
       "                        })                };                });            </script>        </div>"
      ]
     },
     "metadata": {},
     "output_type": "display_data"
    }
   ],
   "source": [
    "corr_heatmap(X)"
   ]
  },
  {
   "cell_type": "code",
   "execution_count": 111,
   "id": "7a7326db",
   "metadata": {
    "ExecuteTime": {
     "end_time": "2022-11-02T07:24:28.022780Z",
     "start_time": "2022-11-02T07:24:27.988266Z"
    },
    "hidden": true,
    "scrolled": true
   },
   "outputs": [
    {
     "data": {
      "text/html": [
       "<div>                            <div id=\"4bfb3f2d-9243-4f8c-b4a4-8e6b307dcf58\" class=\"plotly-graph-div\" style=\"height:525px; width:100%;\"></div>            <script type=\"text/javascript\">                require([\"plotly\"], function(Plotly) {                    window.PLOTLYENV=window.PLOTLYENV || {};                                    if (document.getElementById(\"4bfb3f2d-9243-4f8c-b4a4-8e6b307dcf58\")) {                    Plotly.newPlot(                        \"4bfb3f2d-9243-4f8c-b4a4-8e6b307dcf58\",                        [{\"coloraxis\":\"coloraxis\",\"name\":\"0\",\"texttemplate\":\"%{z}\",\"x\":[\"BedroomAbvGr\",\"KitchenAbvGr\",\"FullBath\",\"HalfBath\",\"TotRmsAbvGrd\",\"SalePrice\"],\"y\":[\"BedroomAbvGr\",\"KitchenAbvGr\",\"FullBath\",\"HalfBath\",\"TotRmsAbvGrd\",\"SalePrice\"],\"z\":[[1.0,0.149,0.318,0.245,0.655,0.135],[0.149,1.0,0.142,-0.134,0.203,-0.137],[0.318,0.142,1.0,0.163,0.515,0.538],[0.245,-0.134,0.163,1.0,0.353,0.297],[0.655,0.203,0.515,0.353,1.0,0.524],[0.135,-0.137,0.538,0.297,0.524,1.0]],\"type\":\"heatmap\",\"xaxis\":\"x\",\"yaxis\":\"y\",\"hovertemplate\":\"x: %{x}<br>y: %{y}<br>color: %{z}<extra></extra>\",\"opacity\":0.8}],                        {\"template\":{\"data\":{\"histogram2dcontour\":[{\"type\":\"histogram2dcontour\",\"colorbar\":{\"outlinewidth\":0,\"ticks\":\"\"},\"colorscale\":[[0.0,\"#0d0887\"],[0.1111111111111111,\"#46039f\"],[0.2222222222222222,\"#7201a8\"],[0.3333333333333333,\"#9c179e\"],[0.4444444444444444,\"#bd3786\"],[0.5555555555555556,\"#d8576b\"],[0.6666666666666666,\"#ed7953\"],[0.7777777777777778,\"#fb9f3a\"],[0.8888888888888888,\"#fdca26\"],[1.0,\"#f0f921\"]]}],\"choropleth\":[{\"type\":\"choropleth\",\"colorbar\":{\"outlinewidth\":0,\"ticks\":\"\"}}],\"histogram2d\":[{\"type\":\"histogram2d\",\"colorbar\":{\"outlinewidth\":0,\"ticks\":\"\"},\"colorscale\":[[0.0,\"#0d0887\"],[0.1111111111111111,\"#46039f\"],[0.2222222222222222,\"#7201a8\"],[0.3333333333333333,\"#9c179e\"],[0.4444444444444444,\"#bd3786\"],[0.5555555555555556,\"#d8576b\"],[0.6666666666666666,\"#ed7953\"],[0.7777777777777778,\"#fb9f3a\"],[0.8888888888888888,\"#fdca26\"],[1.0,\"#f0f921\"]]}],\"heatmap\":[{\"type\":\"heatmap\",\"colorbar\":{\"outlinewidth\":0,\"ticks\":\"\"},\"colorscale\":[[0.0,\"#0d0887\"],[0.1111111111111111,\"#46039f\"],[0.2222222222222222,\"#7201a8\"],[0.3333333333333333,\"#9c179e\"],[0.4444444444444444,\"#bd3786\"],[0.5555555555555556,\"#d8576b\"],[0.6666666666666666,\"#ed7953\"],[0.7777777777777778,\"#fb9f3a\"],[0.8888888888888888,\"#fdca26\"],[1.0,\"#f0f921\"]]}],\"heatmapgl\":[{\"type\":\"heatmapgl\",\"colorbar\":{\"outlinewidth\":0,\"ticks\":\"\"},\"colorscale\":[[0.0,\"#0d0887\"],[0.1111111111111111,\"#46039f\"],[0.2222222222222222,\"#7201a8\"],[0.3333333333333333,\"#9c179e\"],[0.4444444444444444,\"#bd3786\"],[0.5555555555555556,\"#d8576b\"],[0.6666666666666666,\"#ed7953\"],[0.7777777777777778,\"#fb9f3a\"],[0.8888888888888888,\"#fdca26\"],[1.0,\"#f0f921\"]]}],\"contourcarpet\":[{\"type\":\"contourcarpet\",\"colorbar\":{\"outlinewidth\":0,\"ticks\":\"\"}}],\"contour\":[{\"type\":\"contour\",\"colorbar\":{\"outlinewidth\":0,\"ticks\":\"\"},\"colorscale\":[[0.0,\"#0d0887\"],[0.1111111111111111,\"#46039f\"],[0.2222222222222222,\"#7201a8\"],[0.3333333333333333,\"#9c179e\"],[0.4444444444444444,\"#bd3786\"],[0.5555555555555556,\"#d8576b\"],[0.6666666666666666,\"#ed7953\"],[0.7777777777777778,\"#fb9f3a\"],[0.8888888888888888,\"#fdca26\"],[1.0,\"#f0f921\"]]}],\"surface\":[{\"type\":\"surface\",\"colorbar\":{\"outlinewidth\":0,\"ticks\":\"\"},\"colorscale\":[[0.0,\"#0d0887\"],[0.1111111111111111,\"#46039f\"],[0.2222222222222222,\"#7201a8\"],[0.3333333333333333,\"#9c179e\"],[0.4444444444444444,\"#bd3786\"],[0.5555555555555556,\"#d8576b\"],[0.6666666666666666,\"#ed7953\"],[0.7777777777777778,\"#fb9f3a\"],[0.8888888888888888,\"#fdca26\"],[1.0,\"#f0f921\"]]}],\"mesh3d\":[{\"type\":\"mesh3d\",\"colorbar\":{\"outlinewidth\":0,\"ticks\":\"\"}}],\"scatter\":[{\"fillpattern\":{\"fillmode\":\"overlay\",\"size\":10,\"solidity\":0.2},\"type\":\"scatter\"}],\"parcoords\":[{\"type\":\"parcoords\",\"line\":{\"colorbar\":{\"outlinewidth\":0,\"ticks\":\"\"}}}],\"scatterpolargl\":[{\"type\":\"scatterpolargl\",\"marker\":{\"colorbar\":{\"outlinewidth\":0,\"ticks\":\"\"}}}],\"bar\":[{\"error_x\":{\"color\":\"#2a3f5f\"},\"error_y\":{\"color\":\"#2a3f5f\"},\"marker\":{\"line\":{\"color\":\"#E5ECF6\",\"width\":0.5},\"pattern\":{\"fillmode\":\"overlay\",\"size\":10,\"solidity\":0.2}},\"type\":\"bar\"}],\"scattergeo\":[{\"type\":\"scattergeo\",\"marker\":{\"colorbar\":{\"outlinewidth\":0,\"ticks\":\"\"}}}],\"scatterpolar\":[{\"type\":\"scatterpolar\",\"marker\":{\"colorbar\":{\"outlinewidth\":0,\"ticks\":\"\"}}}],\"histogram\":[{\"marker\":{\"pattern\":{\"fillmode\":\"overlay\",\"size\":10,\"solidity\":0.2}},\"type\":\"histogram\"}],\"scattergl\":[{\"type\":\"scattergl\",\"marker\":{\"colorbar\":{\"outlinewidth\":0,\"ticks\":\"\"}}}],\"scatter3d\":[{\"type\":\"scatter3d\",\"line\":{\"colorbar\":{\"outlinewidth\":0,\"ticks\":\"\"}},\"marker\":{\"colorbar\":{\"outlinewidth\":0,\"ticks\":\"\"}}}],\"scattermapbox\":[{\"type\":\"scattermapbox\",\"marker\":{\"colorbar\":{\"outlinewidth\":0,\"ticks\":\"\"}}}],\"scatterternary\":[{\"type\":\"scatterternary\",\"marker\":{\"colorbar\":{\"outlinewidth\":0,\"ticks\":\"\"}}}],\"scattercarpet\":[{\"type\":\"scattercarpet\",\"marker\":{\"colorbar\":{\"outlinewidth\":0,\"ticks\":\"\"}}}],\"carpet\":[{\"aaxis\":{\"endlinecolor\":\"#2a3f5f\",\"gridcolor\":\"white\",\"linecolor\":\"white\",\"minorgridcolor\":\"white\",\"startlinecolor\":\"#2a3f5f\"},\"baxis\":{\"endlinecolor\":\"#2a3f5f\",\"gridcolor\":\"white\",\"linecolor\":\"white\",\"minorgridcolor\":\"white\",\"startlinecolor\":\"#2a3f5f\"},\"type\":\"carpet\"}],\"table\":[{\"cells\":{\"fill\":{\"color\":\"#EBF0F8\"},\"line\":{\"color\":\"white\"}},\"header\":{\"fill\":{\"color\":\"#C8D4E3\"},\"line\":{\"color\":\"white\"}},\"type\":\"table\"}],\"barpolar\":[{\"marker\":{\"line\":{\"color\":\"#E5ECF6\",\"width\":0.5},\"pattern\":{\"fillmode\":\"overlay\",\"size\":10,\"solidity\":0.2}},\"type\":\"barpolar\"}],\"pie\":[{\"automargin\":true,\"type\":\"pie\"}]},\"layout\":{\"autotypenumbers\":\"strict\",\"colorway\":[\"#636efa\",\"#EF553B\",\"#00cc96\",\"#ab63fa\",\"#FFA15A\",\"#19d3f3\",\"#FF6692\",\"#B6E880\",\"#FF97FF\",\"#FECB52\"],\"font\":{\"color\":\"#2a3f5f\"},\"hovermode\":\"closest\",\"hoverlabel\":{\"align\":\"left\"},\"paper_bgcolor\":\"white\",\"plot_bgcolor\":\"#E5ECF6\",\"polar\":{\"bgcolor\":\"#E5ECF6\",\"angularaxis\":{\"gridcolor\":\"white\",\"linecolor\":\"white\",\"ticks\":\"\"},\"radialaxis\":{\"gridcolor\":\"white\",\"linecolor\":\"white\",\"ticks\":\"\"}},\"ternary\":{\"bgcolor\":\"#E5ECF6\",\"aaxis\":{\"gridcolor\":\"white\",\"linecolor\":\"white\",\"ticks\":\"\"},\"baxis\":{\"gridcolor\":\"white\",\"linecolor\":\"white\",\"ticks\":\"\"},\"caxis\":{\"gridcolor\":\"white\",\"linecolor\":\"white\",\"ticks\":\"\"}},\"coloraxis\":{\"colorbar\":{\"outlinewidth\":0,\"ticks\":\"\"}},\"colorscale\":{\"sequential\":[[0.0,\"#0d0887\"],[0.1111111111111111,\"#46039f\"],[0.2222222222222222,\"#7201a8\"],[0.3333333333333333,\"#9c179e\"],[0.4444444444444444,\"#bd3786\"],[0.5555555555555556,\"#d8576b\"],[0.6666666666666666,\"#ed7953\"],[0.7777777777777778,\"#fb9f3a\"],[0.8888888888888888,\"#fdca26\"],[1.0,\"#f0f921\"]],\"sequentialminus\":[[0.0,\"#0d0887\"],[0.1111111111111111,\"#46039f\"],[0.2222222222222222,\"#7201a8\"],[0.3333333333333333,\"#9c179e\"],[0.4444444444444444,\"#bd3786\"],[0.5555555555555556,\"#d8576b\"],[0.6666666666666666,\"#ed7953\"],[0.7777777777777778,\"#fb9f3a\"],[0.8888888888888888,\"#fdca26\"],[1.0,\"#f0f921\"]],\"diverging\":[[0,\"#8e0152\"],[0.1,\"#c51b7d\"],[0.2,\"#de77ae\"],[0.3,\"#f1b6da\"],[0.4,\"#fde0ef\"],[0.5,\"#f7f7f7\"],[0.6,\"#e6f5d0\"],[0.7,\"#b8e186\"],[0.8,\"#7fbc41\"],[0.9,\"#4d9221\"],[1,\"#276419\"]]},\"xaxis\":{\"gridcolor\":\"white\",\"linecolor\":\"white\",\"ticks\":\"\",\"title\":{\"standoff\":15},\"zerolinecolor\":\"white\",\"automargin\":true,\"zerolinewidth\":2},\"yaxis\":{\"gridcolor\":\"white\",\"linecolor\":\"white\",\"ticks\":\"\",\"title\":{\"standoff\":15},\"zerolinecolor\":\"white\",\"automargin\":true,\"zerolinewidth\":2},\"scene\":{\"xaxis\":{\"backgroundcolor\":\"#E5ECF6\",\"gridcolor\":\"white\",\"linecolor\":\"white\",\"showbackground\":true,\"ticks\":\"\",\"zerolinecolor\":\"white\",\"gridwidth\":2},\"yaxis\":{\"backgroundcolor\":\"#E5ECF6\",\"gridcolor\":\"white\",\"linecolor\":\"white\",\"showbackground\":true,\"ticks\":\"\",\"zerolinecolor\":\"white\",\"gridwidth\":2},\"zaxis\":{\"backgroundcolor\":\"#E5ECF6\",\"gridcolor\":\"white\",\"linecolor\":\"white\",\"showbackground\":true,\"ticks\":\"\",\"zerolinecolor\":\"white\",\"gridwidth\":2}},\"shapedefaults\":{\"line\":{\"color\":\"#2a3f5f\"}},\"annotationdefaults\":{\"arrowcolor\":\"#2a3f5f\",\"arrowhead\":0,\"arrowwidth\":1},\"geo\":{\"bgcolor\":\"white\",\"landcolor\":\"#E5ECF6\",\"subunitcolor\":\"white\",\"showland\":true,\"showlakes\":true,\"lakecolor\":\"white\"},\"title\":{\"x\":0.05},\"mapbox\":{\"style\":\"light\"}}},\"xaxis\":{\"anchor\":\"y\",\"domain\":[0.0,1.0],\"scaleanchor\":\"y\",\"constrain\":\"domain\",\"linecolor\":\"#DCDCDC\"},\"yaxis\":{\"anchor\":\"x\",\"domain\":[0.0,1.0],\"autorange\":\"reversed\",\"constrain\":\"domain\",\"gridcolor\":\"#DCDCDC\",\"title\":{\"text\":\"\"}},\"coloraxis\":{\"colorscale\":[[0.0,\"rgb(253, 253, 204)\"],[0.09090909090909091,\"rgb(206, 236, 179)\"],[0.18181818181818182,\"rgb(156, 219, 165)\"],[0.2727272727272727,\"rgb(111, 201, 163)\"],[0.36363636363636365,\"rgb(86, 177, 163)\"],[0.45454545454545453,\"rgb(76, 153, 160)\"],[0.5454545454545454,\"rgb(68, 130, 155)\"],[0.6363636363636364,\"rgb(62, 108, 150)\"],[0.7272727272727273,\"rgb(62, 82, 143)\"],[0.8181818181818182,\"rgb(64, 60, 115)\"],[0.9090909090909091,\"rgb(54, 43, 77)\"],[1.0,\"rgb(39, 26, 44)\"]],\"showscale\":false},\"margin\":{\"t\":60},\"paper_bgcolor\":\"#F5F5F5\",\"plot_bgcolor\":\"#F5F5F5\"},                        {\"responsive\": true}                    ).then(function(){\n",
       "                            \n",
       "var gd = document.getElementById('4bfb3f2d-9243-4f8c-b4a4-8e6b307dcf58');\n",
       "var x = new MutationObserver(function (mutations, observer) {{\n",
       "        var display = window.getComputedStyle(gd).display;\n",
       "        if (!display || display === 'none') {{\n",
       "            console.log([gd, 'removed!']);\n",
       "            Plotly.purge(gd);\n",
       "            observer.disconnect();\n",
       "        }}\n",
       "}});\n",
       "\n",
       "// Listen for the removal of the full notebook cells\n",
       "var notebookContainer = gd.closest('#notebook-container');\n",
       "if (notebookContainer) {{\n",
       "    x.observe(notebookContainer, {childList: true});\n",
       "}}\n",
       "\n",
       "// Listen for the clearing of the current output cell\n",
       "var outputEl = gd.closest('.output');\n",
       "if (outputEl) {{\n",
       "    x.observe(outputEl, {childList: true});\n",
       "}}\n",
       "\n",
       "                        })                };                });            </script>        </div>"
      ]
     },
     "metadata": {},
     "output_type": "display_data"
    }
   ],
   "source": [
    "corr_heatmap(\n",
    "    X.query(\n",
    "        'BedroomAbvGr <= 5 & KitchenAbvGr <= 2 & TotRmsAbvGrd <= 13 & FullBath <= 2 & HalfBath <= 1'\n",
    "    )\n",
    ")"
   ]
  },
  {
   "cell_type": "markdown",
   "id": "dc155274",
   "metadata": {
    "hidden": true
   },
   "source": [
    "- Remove Kitchen as it almost non-variative variable\n",
    "- TotalRmsAbvgrd and FullBath are strongly correlated - remove FullBath as it already is included in rooms\n",
    "- TotalRmsAbvgrd and BedroomAbvgr are strongly correlated - - remove BedroomAbvGr as it already is included in rooms\n",
    "\\\n",
    "=> keep HalfBath, TotRmsAbvGrd"
   ]
  },
  {
   "cell_type": "markdown",
   "id": "cb29826f",
   "metadata": {
    "heading_collapsed": true
   },
   "source": [
    "### Areas"
   ]
  },
  {
   "cell_type": "code",
   "execution_count": 114,
   "id": "102bc28f",
   "metadata": {
    "ExecuteTime": {
     "end_time": "2022-11-02T07:32:45.769620Z",
     "start_time": "2022-11-02T07:32:45.759497Z"
    },
    "hidden": true
   },
   "outputs": [],
   "source": [
    "X = data.copy()\n",
    "X = X.loc[:, ['LotFrontage', 'LotArea', 'MasVnrArea', 'BsmtFinSF1', 'BsmtFinSF2',\n",
    "              'BsmtUnfSF', 'TotalBsmtSF', '1stFlrSF', '2ndFlrSF', 'LowQualFinSF',\n",
    "              'GrLivArea', 'GarageArea',\n",
    "              'SalePrice']]"
   ]
  },
  {
   "cell_type": "code",
   "execution_count": 117,
   "id": "f559de15",
   "metadata": {
    "ExecuteTime": {
     "end_time": "2022-11-02T07:34:40.490966Z",
     "start_time": "2022-11-02T07:34:34.084811Z"
    },
    "hidden": true
   },
   "outputs": [
    {
     "data": {
      "text/html": [
       "<div>                            <div id=\"a66aa4b3-8775-48d8-b9d6-cf5939785c98\" class=\"plotly-graph-div\" style=\"height:525px; width:100%;\"></div>            <script type=\"text/javascript\">                require([\"plotly\"], function(Plotly) {                    window.PLOTLYENV=window.PLOTLYENV || {};                                    if (document.getElementById(\"a66aa4b3-8775-48d8-b9d6-cf5939785c98\")) {                    Plotly.newPlot(                        \"a66aa4b3-8775-48d8-b9d6-cf5939785c98\",                        [{\"alignmentgroup\":\"True\",\"box\":{\"visible\":true},\"hovertemplate\":\"LotFrontage=%{y}<extra></extra>\",\"legendgroup\":\"\",\"marker\":{\"color\":\"#2C3E50\"},\"name\":\"LotFrontage\",\"offsetgroup\":\"\",\"orientation\":\"v\",\"points\":\"outliers\",\"scalegroup\":\"True\",\"showlegend\":true,\"x0\":\" \",\"xaxis\":\"x\",\"y\":[65.0,80.0,68.0,60.0,84.0,85.0,75.0,null,51.0,50.0,70.0,85.0,null,91.0,null,51.0,null,72.0,66.0,70.0,101.0,57.0,75.0,44.0,null,110.0,60.0,98.0,47.0,60.0,50.0,null,85.0,70.0,60.0,108.0,112.0,74.0,68.0,65.0,84.0,115.0,null,null,70.0,61.0,48.0,84.0,33.0,66.0,null,52.0,110.0,68.0,60.0,100.0,24.0,89.0,66.0,60.0,63.0,60.0,44.0,50.0,null,76.0,null,72.0,47.0,81.0,95.0,69.0,74.0,85.0,60.0,21.0,null,50.0,72.0,60.0,100.0,32.0,78.0,80.0,null,121.0,122.0,40.0,105.0,60.0,60.0,85.0,80.0,60.0,69.0,null,78.0,73.0,85.0,77.0,null,77.0,64.0,94.0,null,75.0,60.0,50.0,85.0,105.0,75.0,null,77.0,null,61.0,34.0,null,74.0,90.0,65.0,null,50.0,75.0,55.0,48.0,60.0,null,55.0,69.0,69.0,88.0,null,75.0,null,78.0,80.0,null,82.0,73.0,65.0,70.0,78.0,71.0,78.0,70.0,24.0,51.0,null,63.0,null,120.0,107.0,null,null,84.0,60.0,60.0,92.0,100.0,134.0,null,110.0,95.0,55.0,40.0,62.0,null,86.0,62.0,null,null,141.0,44.0,80.0,47.0,84.0,97.0,null,63.0,60.0,null,54.0,60.0,63.0,92.0,90.0,null,60.0,64.0,41.0,70.0,null,68.0,24.0,60.0,24.0,79.0,174.0,92.0,76.0,80.0,75.0,50.0,null,50.0,99.0,40.0,null,null,75.0,67.0,83.0,72.0,43.0,null,72.0,65.0,57.0,null,43.0,73.0,null,85.0,70.0,103.0,21.0,82.0,21.0,70.0,43.0,73.0,174.0,21.0,75.0,null,21.0,65.0,null,93.0,52.0,75.0,40.0,63.0,75.0,null,80.0,69.0,75.0,72.0,null,55.0,44.0,65.0,85.0,70.0,66.0,64.0,68.0,80.0,70.0,120.0,69.0,88.0,50.0,30.0,78.0,70.0,60.0,71.0,null,84.0,73.0,92.0,80.0,76.0,55.0,129.0,140.0,107.0,83.0,82.0,60.0,34.0,74.0,50.0,35.0,77.0,null,null,60.0,120.0,55.0,60.0,null,80.0,37.0,75.0,66.0,90.0,80.0,90.0,66.0,118.0,70.0,87.0,80.0,116.0,null,null,90.0,null,50.0,65.0,150.0,60.0,71.0,94.0,75.0,90.0,null,111.0,99.0,86.0,49.0,96.0,50.0,32.0,80.0,null,60.0,null,70.0,85.0,59.0,59.0,null,86.0,70.0,91.0,66.0,85.0,60.0,null,63.0,36.0,65.0,null,null,36.0,56.0,68.0,null,60.0,60.0,60.0,105.0,null,44.0,92.0,78.0,null,null,64.0,21.0,null,59.0,null,101.0,78.0,null,null,80.0,50.0,79.0,65.0,null,57.0,102.0,88.0,60.0,50.0,60.0,79.0,60.0,null,43.0,58.0,72.0,93.0,96.0,50.0,71.0,null,null,60.0,68.0,60.0,69.0,60.0,65.0,38.0,65.0,60.0,93.0,null,null,51.0,63.0,109.0,85.0,68.0,100.0,null,56.0,59.0,73.0,74.0,86.0,60.0,65.0,78.0,null,100.0,80.0,72.0,60.0,null,77.0,64.0,130.0,21.0,60.0,24.0,100.0,21.0,43.0,40.0,50.0,40.0,67.0,105.0,92.0,52.0,53.0,70.0,73.0,137.0,null,50.0,50.0,70.0,62.0,null,75.0,63.0,80.0,34.0,null,null,null,75.0,60.0,60.0,74.0,60.0,null,85.0,79.0,98.0,76.0,null,92.0,35.0,110.0,41.0,80.0,75.0,105.0,79.0,50.0,98.0,72.0,50.0,32.0,null,80.0,79.0,70.0,60.0,21.0,null,79.0,105.0,70.0,50.0,60.0,null,60.0,65.0,70.0,21.0,75.0,70.0,100.0,24.0,60.0,80.0,75.0,60.0,80.0,75.0,40.0,70.0,71.0,55.0,94.0,null,79.0,null,53.0,60.0,90.0,50.0,130.0,95.0,62.0,70.0,67.0,58.0,null,85.0,60.0,60.0,50.0,74.0,70.0,57.0,null,null,null,85.0,null,78.0,34.0,58.0,null,70.0,54.0,49.0,75.0,53.0,50.0,87.0,67.0,85.0,58.0,69.0,60.0,57.0,null,null,77.0,63.0,66.0,null,66.0,77.0,70.0,79.0,null,74.0,60.0,83.0,76.0,70.0,80.0,52.0,96.0,34.0,81.0,null,98.0,81.0,75.0,51.0,88.0,55.0,74.0,65.0,50.0,64.0,97.0,60.0,null,88.0,69.0,60.0,53.0,80.0,24.0,74.0,50.0,80.0,30.0,88.0,85.0,82.0,78.0,78.0,61.0,null,null,null,70.0,21.0,80.0,null,59.0,90.0,85.0,45.0,90.0,71.0,null,80.0,87.0,null,80.0,70.0,82.0,50.0,34.0,85.0,80.0,64.0,60.0,51.0,50.0,67.0,53.0,62.0,null,75.0,80.0,85.0,null,60.0,85.0,70.0,21.0,65.0,60.0,70.0,60.0,91.0,21.0,72.0,60.0,78.0,75.0,null,52.0,120.0,90.0,49.0,106.0,null,65.0,null,80.0,64.0,54.0,null,110.0,80.0,24.0,60.0,52.0,80.0,null,50.0,55.0,null,90.0,58.0,null,84.0,null,60.0,61.0,null,104.0,42.0,60.0,51.0,54.0,50.0,57.0,65.0,59.0,85.0,80.0,82.0,76.0,70.0,70.0,null,48.0,65.0,null,56.0,66.0,40.0,60.0,null,78.0,60.0,80.0,96.0,69.0,null,null,70.0,60.0,86.0,60.0,null,64.0,85.0,52.0,39.0,73.0,75.0,80.0,null,60.0,60.0,72.0,60.0,65.0,60.0,65.0,65.0,70.0,41.0,null,null,65.0,59.0,50.0,55.0,null,79.0,80.0,61.0,34.0,68.0,null,24.0,65.0,70.0,60.0,72.0,82.0,30.0,75.0,80.0,75.0,70.0,47.0,null,67.0,94.0,70.0,110.0,32.0,86.0,100.0,60.0,78.0,63.0,65.0,67.0,null,35.0,null,60.0,76.0,50.0,null,43.0,null,92.0,76.0,null,70.0,71.0,57.0,104.0,60.0,79.0,40.0,63.0,107.0,75.0,91.0,75.0,144.0,85.0,90.0,78.0,null,66.0,75.0,45.0,48.0,null,null,80.0,44.0,72.0,60.0,null,60.0,81.0,114.0,50.0,65.0,null,24.0,80.0,30.0,44.0,100.0,75.0,60.0,90.0,21.0,75.0,70.0,null,60.0,82.0,80.0,100.0,null,75.0,36.0,75.0,80.0,36.0,null,53.0,null,102.0,null,null,65.0,80.0,null,55.0,75.0,81.0,70.0,72.0,null,67.0,85.0,null,80.0,60.0,70.0,74.0,60.0,52.0,75.0,94.0,74.0,88.0,null,60.0,44.0,null,60.0,65.0,50.0,70.0,59.0,95.0,128.0,60.0,70.0,70.0,null,64.0,71.0,50.0,64.0,100.0,65.0,null,64.0,63.0,50.0,null,80.0,116.0,86.0,null,149.0,80.0,null,51.0,82.0,30.0,21.0,50.0,null,103.0,87.0,70.0,67.0,65.0,50.0,79.0,null,93.0,null,null,null,73.0,70.0,84.0,63.0,313.0,52.0,67.0,75.0,73.0,null,55.0,null,42.0,100.0,null,98.0,70.0,85.0,65.0,78.0,60.0,60.0,60.0,null,35.0,82.0,24.0,70.0,65.0,24.0,50.0,null,24.0,122.0,80.0,65.0,130.0,null,50.0,75.0,60.0,36.0,55.0,95.0,60.0,null,51.0,35.0,68.0,80.0,null,98.0,43.0,null,75.0,68.0,59.0,83.0,null,65.0,82.0,121.0,80.0,68.0,96.0,51.0,null,null,60.0,64.0,74.0,60.0,75.0,null,43.0,65.0,null,21.0,43.0,60.0,115.0,75.0,55.0,60.0,60.0,70.0,73.0,null,null,43.0,60.0,64.0,52.0,43.0,null,70.0,73.0,71.0,79.0,21.0,null,102.0,null,null,50.0,null,89.0,null,21.0,21.0,88.0,null,34.0,86.0,80.0,null,85.0,57.0,100.0,60.0,73.0,103.0,100.0,68.0,90.0,104.0,43.0,null,96.0,null,41.0,120.0,85.0,50.0,null,80.0,59.0,80.0,42.0,60.0,72.0,78.0,50.0,75.0,74.0,75.0,60.0,null,37.0,65.0,80.0,75.0,70.0,80.0,null,73.0,null,85.0,24.0,37.0,60.0,24.0,60.0,71.0,74.0,78.0,60.0,null,50.0,82.0,60.0,61.0,70.0,79.0,24.0,98.0,114.0,168.0,null,107.0,null,80.0,73.0,66.0,90.0,93.0,null,57.0,85.0,70.0,59.0,84.0,null,50.0,null,60.0,53.0,182.0,59.0,60.0,65.0,63.0,90.0,80.0,57.0,60.0,80.0,54.0,null,98.0,60.0,null,77.0,null,60.0,52.0,null,75.0,null,50.0,57.0,134.0,90.0,null,null,90.0,85.0,34.0,92.0,76.0,24.0,null,109.0,60.0,null,79.0,64.0,58.0,120.0,118.0,76.0,76.0,35.0,138.0,80.0,85.0,37.0,null,54.0,77.0,null,64.0,160.0,60.0,50.0,60.0,107.0,89.0,68.0,60.0,null,24.0,60.0,null,80.0,51.0,58.0,65.0,70.0,75.0,71.0,80.0,50.0,75.0,78.0,90.0,null,70.0,70.0,85.0,70.0,152.0,50.0,null,69.0,99.0,68.0,72.0,52.0,21.0,66.0,55.0,78.0,89.0,60.0,65.0,86.0,72.0,65.0,70.0,null,70.0,70.0,null,55.0,96.0,36.0,41.0,63.0,64.0,65.0,83.0,85.0,107.0,null,78.0,65.0,null,60.0,60.0,93.0,null,62.0,null,60.0,52.0,91.0,56.0,59.0,65.0,null,80.0,null,60.0,34.0,35.0,60.0,89.0,null,78.0,null,null,null,124.0,53.0,95.0,null,null,75.0,60.0,67.0,50.0,61.0,94.0,50.0,50.0,null,null,40.0,86.0,null,21.0,60.0,78.0,60.0,70.0,80.0,35.0,313.0,75.0,null,null,92.0,73.0,32.0,108.0,48.0,60.0,100.0,null,100.0,68.0,null,108.0,60.0,85.0,61.0,47.0,null,75.0,70.0,null,107.0,50.0,75.0,40.0,70.0,60.0,60.0,63.0,85.0,55.0,67.0,60.0,24.0,80.0,87.0,153.0,95.0,120.0,70.0,66.0,null,57.0,85.0,50.0,null,93.0,null,50.0,91.0,70.0,50.0,56.0,null,102.0,null,null,null,129.0,51.0,124.0,null,73.0,30.0,null,68.0,41.0,null,48.0,90.0,80.0,75.0,null,85.0,89.0,52.0,60.0,21.0,73.0,45.0,null,60.0,null,60.0,40.0,80.0,60.0,42.0,60.0,70.0,65.0,68.0,60.0,53.0,88.0,null,51.0,60.0,51.0,50.0,62.0,64.0,49.0,60.0,44.0,70.0,null,60.0,46.0,79.0,80.0,60.0,88.0,64.0,51.0,60.0,null,71.0,null,90.0,53.0,37.0,null,null,80.0,81.0,60.0,60.0,null,60.0,null,60.0,93.0,80.0,80.0,60.0,96.0,90.0,80.0,79.0,null,85.0,null,63.0,70.0,null,80.0,70.0,21.0,60.0,78.0,35.0,90.0,62.0,62.0,85.0,66.0,68.0,75.0],\"y0\":\" \",\"yaxis\":\"y\",\"type\":\"violin\",\"opacity\":0.8}],                        {\"template\":{\"data\":{\"histogram2dcontour\":[{\"type\":\"histogram2dcontour\",\"colorbar\":{\"outlinewidth\":0,\"ticks\":\"\"},\"colorscale\":[[0.0,\"#0d0887\"],[0.1111111111111111,\"#46039f\"],[0.2222222222222222,\"#7201a8\"],[0.3333333333333333,\"#9c179e\"],[0.4444444444444444,\"#bd3786\"],[0.5555555555555556,\"#d8576b\"],[0.6666666666666666,\"#ed7953\"],[0.7777777777777778,\"#fb9f3a\"],[0.8888888888888888,\"#fdca26\"],[1.0,\"#f0f921\"]]}],\"choropleth\":[{\"type\":\"choropleth\",\"colorbar\":{\"outlinewidth\":0,\"ticks\":\"\"}}],\"histogram2d\":[{\"type\":\"histogram2d\",\"colorbar\":{\"outlinewidth\":0,\"ticks\":\"\"},\"colorscale\":[[0.0,\"#0d0887\"],[0.1111111111111111,\"#46039f\"],[0.2222222222222222,\"#7201a8\"],[0.3333333333333333,\"#9c179e\"],[0.4444444444444444,\"#bd3786\"],[0.5555555555555556,\"#d8576b\"],[0.6666666666666666,\"#ed7953\"],[0.7777777777777778,\"#fb9f3a\"],[0.8888888888888888,\"#fdca26\"],[1.0,\"#f0f921\"]]}],\"heatmap\":[{\"type\":\"heatmap\",\"colorbar\":{\"outlinewidth\":0,\"ticks\":\"\"},\"colorscale\":[[0.0,\"#0d0887\"],[0.1111111111111111,\"#46039f\"],[0.2222222222222222,\"#7201a8\"],[0.3333333333333333,\"#9c179e\"],[0.4444444444444444,\"#bd3786\"],[0.5555555555555556,\"#d8576b\"],[0.6666666666666666,\"#ed7953\"],[0.7777777777777778,\"#fb9f3a\"],[0.8888888888888888,\"#fdca26\"],[1.0,\"#f0f921\"]]}],\"heatmapgl\":[{\"type\":\"heatmapgl\",\"colorbar\":{\"outlinewidth\":0,\"ticks\":\"\"},\"colorscale\":[[0.0,\"#0d0887\"],[0.1111111111111111,\"#46039f\"],[0.2222222222222222,\"#7201a8\"],[0.3333333333333333,\"#9c179e\"],[0.4444444444444444,\"#bd3786\"],[0.5555555555555556,\"#d8576b\"],[0.6666666666666666,\"#ed7953\"],[0.7777777777777778,\"#fb9f3a\"],[0.8888888888888888,\"#fdca26\"],[1.0,\"#f0f921\"]]}],\"contourcarpet\":[{\"type\":\"contourcarpet\",\"colorbar\":{\"outlinewidth\":0,\"ticks\":\"\"}}],\"contour\":[{\"type\":\"contour\",\"colorbar\":{\"outlinewidth\":0,\"ticks\":\"\"},\"colorscale\":[[0.0,\"#0d0887\"],[0.1111111111111111,\"#46039f\"],[0.2222222222222222,\"#7201a8\"],[0.3333333333333333,\"#9c179e\"],[0.4444444444444444,\"#bd3786\"],[0.5555555555555556,\"#d8576b\"],[0.6666666666666666,\"#ed7953\"],[0.7777777777777778,\"#fb9f3a\"],[0.8888888888888888,\"#fdca26\"],[1.0,\"#f0f921\"]]}],\"surface\":[{\"type\":\"surface\",\"colorbar\":{\"outlinewidth\":0,\"ticks\":\"\"},\"colorscale\":[[0.0,\"#0d0887\"],[0.1111111111111111,\"#46039f\"],[0.2222222222222222,\"#7201a8\"],[0.3333333333333333,\"#9c179e\"],[0.4444444444444444,\"#bd3786\"],[0.5555555555555556,\"#d8576b\"],[0.6666666666666666,\"#ed7953\"],[0.7777777777777778,\"#fb9f3a\"],[0.8888888888888888,\"#fdca26\"],[1.0,\"#f0f921\"]]}],\"mesh3d\":[{\"type\":\"mesh3d\",\"colorbar\":{\"outlinewidth\":0,\"ticks\":\"\"}}],\"scatter\":[{\"fillpattern\":{\"fillmode\":\"overlay\",\"size\":10,\"solidity\":0.2},\"type\":\"scatter\"}],\"parcoords\":[{\"type\":\"parcoords\",\"line\":{\"colorbar\":{\"outlinewidth\":0,\"ticks\":\"\"}}}],\"scatterpolargl\":[{\"type\":\"scatterpolargl\",\"marker\":{\"colorbar\":{\"outlinewidth\":0,\"ticks\":\"\"}}}],\"bar\":[{\"error_x\":{\"color\":\"#2a3f5f\"},\"error_y\":{\"color\":\"#2a3f5f\"},\"marker\":{\"line\":{\"color\":\"#E5ECF6\",\"width\":0.5},\"pattern\":{\"fillmode\":\"overlay\",\"size\":10,\"solidity\":0.2}},\"type\":\"bar\"}],\"scattergeo\":[{\"type\":\"scattergeo\",\"marker\":{\"colorbar\":{\"outlinewidth\":0,\"ticks\":\"\"}}}],\"scatterpolar\":[{\"type\":\"scatterpolar\",\"marker\":{\"colorbar\":{\"outlinewidth\":0,\"ticks\":\"\"}}}],\"histogram\":[{\"marker\":{\"pattern\":{\"fillmode\":\"overlay\",\"size\":10,\"solidity\":0.2}},\"type\":\"histogram\"}],\"scattergl\":[{\"type\":\"scattergl\",\"marker\":{\"colorbar\":{\"outlinewidth\":0,\"ticks\":\"\"}}}],\"scatter3d\":[{\"type\":\"scatter3d\",\"line\":{\"colorbar\":{\"outlinewidth\":0,\"ticks\":\"\"}},\"marker\":{\"colorbar\":{\"outlinewidth\":0,\"ticks\":\"\"}}}],\"scattermapbox\":[{\"type\":\"scattermapbox\",\"marker\":{\"colorbar\":{\"outlinewidth\":0,\"ticks\":\"\"}}}],\"scatterternary\":[{\"type\":\"scatterternary\",\"marker\":{\"colorbar\":{\"outlinewidth\":0,\"ticks\":\"\"}}}],\"scattercarpet\":[{\"type\":\"scattercarpet\",\"marker\":{\"colorbar\":{\"outlinewidth\":0,\"ticks\":\"\"}}}],\"carpet\":[{\"aaxis\":{\"endlinecolor\":\"#2a3f5f\",\"gridcolor\":\"white\",\"linecolor\":\"white\",\"minorgridcolor\":\"white\",\"startlinecolor\":\"#2a3f5f\"},\"baxis\":{\"endlinecolor\":\"#2a3f5f\",\"gridcolor\":\"white\",\"linecolor\":\"white\",\"minorgridcolor\":\"white\",\"startlinecolor\":\"#2a3f5f\"},\"type\":\"carpet\"}],\"table\":[{\"cells\":{\"fill\":{\"color\":\"#EBF0F8\"},\"line\":{\"color\":\"white\"}},\"header\":{\"fill\":{\"color\":\"#C8D4E3\"},\"line\":{\"color\":\"white\"}},\"type\":\"table\"}],\"barpolar\":[{\"marker\":{\"line\":{\"color\":\"#E5ECF6\",\"width\":0.5},\"pattern\":{\"fillmode\":\"overlay\",\"size\":10,\"solidity\":0.2}},\"type\":\"barpolar\"}],\"pie\":[{\"automargin\":true,\"type\":\"pie\"}]},\"layout\":{\"autotypenumbers\":\"strict\",\"colorway\":[\"#636efa\",\"#EF553B\",\"#00cc96\",\"#ab63fa\",\"#FFA15A\",\"#19d3f3\",\"#FF6692\",\"#B6E880\",\"#FF97FF\",\"#FECB52\"],\"font\":{\"color\":\"#2a3f5f\"},\"hovermode\":\"closest\",\"hoverlabel\":{\"align\":\"left\"},\"paper_bgcolor\":\"white\",\"plot_bgcolor\":\"#E5ECF6\",\"polar\":{\"bgcolor\":\"#E5ECF6\",\"angularaxis\":{\"gridcolor\":\"white\",\"linecolor\":\"white\",\"ticks\":\"\"},\"radialaxis\":{\"gridcolor\":\"white\",\"linecolor\":\"white\",\"ticks\":\"\"}},\"ternary\":{\"bgcolor\":\"#E5ECF6\",\"aaxis\":{\"gridcolor\":\"white\",\"linecolor\":\"white\",\"ticks\":\"\"},\"baxis\":{\"gridcolor\":\"white\",\"linecolor\":\"white\",\"ticks\":\"\"},\"caxis\":{\"gridcolor\":\"white\",\"linecolor\":\"white\",\"ticks\":\"\"}},\"coloraxis\":{\"colorbar\":{\"outlinewidth\":0,\"ticks\":\"\"}},\"colorscale\":{\"sequential\":[[0.0,\"#0d0887\"],[0.1111111111111111,\"#46039f\"],[0.2222222222222222,\"#7201a8\"],[0.3333333333333333,\"#9c179e\"],[0.4444444444444444,\"#bd3786\"],[0.5555555555555556,\"#d8576b\"],[0.6666666666666666,\"#ed7953\"],[0.7777777777777778,\"#fb9f3a\"],[0.8888888888888888,\"#fdca26\"],[1.0,\"#f0f921\"]],\"sequentialminus\":[[0.0,\"#0d0887\"],[0.1111111111111111,\"#46039f\"],[0.2222222222222222,\"#7201a8\"],[0.3333333333333333,\"#9c179e\"],[0.4444444444444444,\"#bd3786\"],[0.5555555555555556,\"#d8576b\"],[0.6666666666666666,\"#ed7953\"],[0.7777777777777778,\"#fb9f3a\"],[0.8888888888888888,\"#fdca26\"],[1.0,\"#f0f921\"]],\"diverging\":[[0,\"#8e0152\"],[0.1,\"#c51b7d\"],[0.2,\"#de77ae\"],[0.3,\"#f1b6da\"],[0.4,\"#fde0ef\"],[0.5,\"#f7f7f7\"],[0.6,\"#e6f5d0\"],[0.7,\"#b8e186\"],[0.8,\"#7fbc41\"],[0.9,\"#4d9221\"],[1,\"#276419\"]]},\"xaxis\":{\"gridcolor\":\"white\",\"linecolor\":\"white\",\"ticks\":\"\",\"title\":{\"standoff\":15},\"zerolinecolor\":\"white\",\"automargin\":true,\"zerolinewidth\":2},\"yaxis\":{\"gridcolor\":\"white\",\"linecolor\":\"white\",\"ticks\":\"\",\"title\":{\"standoff\":15},\"zerolinecolor\":\"white\",\"automargin\":true,\"zerolinewidth\":2},\"scene\":{\"xaxis\":{\"backgroundcolor\":\"#E5ECF6\",\"gridcolor\":\"white\",\"linecolor\":\"white\",\"showbackground\":true,\"ticks\":\"\",\"zerolinecolor\":\"white\",\"gridwidth\":2},\"yaxis\":{\"backgroundcolor\":\"#E5ECF6\",\"gridcolor\":\"white\",\"linecolor\":\"white\",\"showbackground\":true,\"ticks\":\"\",\"zerolinecolor\":\"white\",\"gridwidth\":2},\"zaxis\":{\"backgroundcolor\":\"#E5ECF6\",\"gridcolor\":\"white\",\"linecolor\":\"white\",\"showbackground\":true,\"ticks\":\"\",\"zerolinecolor\":\"white\",\"gridwidth\":2}},\"shapedefaults\":{\"line\":{\"color\":\"#2a3f5f\"}},\"annotationdefaults\":{\"arrowcolor\":\"#2a3f5f\",\"arrowhead\":0,\"arrowwidth\":1},\"geo\":{\"bgcolor\":\"white\",\"landcolor\":\"#E5ECF6\",\"subunitcolor\":\"white\",\"showland\":true,\"showlakes\":true,\"lakecolor\":\"white\"},\"title\":{\"x\":0.05},\"mapbox\":{\"style\":\"light\"}}},\"xaxis\":{\"anchor\":\"y\",\"domain\":[0.0,1.0],\"title\":{\"text\":\"LotFrontage\"}},\"yaxis\":{\"anchor\":\"x\",\"domain\":[0.0,1.0],\"title\":{\"text\":\"\"},\"gridcolor\":\"#DCDCDC\",\"zerolinecolor\":\"#DCDCDC\"},\"legend\":{\"tracegroupgap\":0},\"margin\":{\"t\":60},\"violinmode\":\"group\",\"paper_bgcolor\":\"#F5F5F5\",\"plot_bgcolor\":\"#F5F5F5\"},                        {\"responsive\": true}                    ).then(function(){\n",
       "                            \n",
       "var gd = document.getElementById('a66aa4b3-8775-48d8-b9d6-cf5939785c98');\n",
       "var x = new MutationObserver(function (mutations, observer) {{\n",
       "        var display = window.getComputedStyle(gd).display;\n",
       "        if (!display || display === 'none') {{\n",
       "            console.log([gd, 'removed!']);\n",
       "            Plotly.purge(gd);\n",
       "            observer.disconnect();\n",
       "        }}\n",
       "}});\n",
       "\n",
       "// Listen for the removal of the full notebook cells\n",
       "var notebookContainer = gd.closest('#notebook-container');\n",
       "if (notebookContainer) {{\n",
       "    x.observe(notebookContainer, {childList: true});\n",
       "}}\n",
       "\n",
       "// Listen for the clearing of the current output cell\n",
       "var outputEl = gd.closest('.output');\n",
       "if (outputEl) {{\n",
       "    x.observe(outputEl, {childList: true});\n",
       "}}\n",
       "\n",
       "                        })                };                });            </script>        </div>"
      ]
     },
     "metadata": {},
     "output_type": "display_data"
    },
    {
     "data": {
      "text/html": [
       "<div>                            <div id=\"8e42e9e7-4b34-4f0d-985e-37766af6bd02\" class=\"plotly-graph-div\" style=\"height:525px; width:100%;\"></div>            <script type=\"text/javascript\">                require([\"plotly\"], function(Plotly) {                    window.PLOTLYENV=window.PLOTLYENV || {};                                    if (document.getElementById(\"8e42e9e7-4b34-4f0d-985e-37766af6bd02\")) {                    Plotly.newPlot(                        \"8e42e9e7-4b34-4f0d-985e-37766af6bd02\",                        [{\"alignmentgroup\":\"True\",\"box\":{\"visible\":true},\"hovertemplate\":\"LotArea=%{y}<extra></extra>\",\"legendgroup\":\"\",\"marker\":{\"color\":\"#2C3E50\"},\"name\":\"LotArea\",\"offsetgroup\":\"\",\"orientation\":\"v\",\"points\":\"outliers\",\"scalegroup\":\"True\",\"showlegend\":true,\"x0\":\" \",\"xaxis\":\"x\",\"y\":[8450,9600,11250,9550,14260,14115,10084,10382,6120,7420,11200,11924,12968,10652,10920,6120,11241,10791,13695,7560,14215,7449,9742,4224,8246,14230,7200,11478,16321,6324,8500,8544,11049,10552,7313,13418,10859,8532,7922,6040,8658,16905,9180,9200,7945,7658,12822,11096,4456,7742,13869,6240,8472,50271,7134,10175,2645,11645,13682,7200,13072,7200,6442,10300,9375,9591,19900,10665,4608,15593,13651,7599,10141,10200,5790,1596,8475,8635,10778,10440,13000,4500,10206,8892,8530,16059,11911,3951,8470,8070,7200,8500,13360,7200,9337,9765,10264,10921,10625,9320,10603,9206,7018,10402,7758,9375,10800,6000,8500,11751,9525,7750,9965,21000,7259,3230,11616,8536,12376,8461,21453,6060,9464,7892,17043,6780,4928,4388,7590,8973,14200,12224,7388,6853,10335,10400,10355,11070,9066,15426,10500,11645,8520,10335,9100,2522,6120,9505,7500,6240,10356,13891,14803,13500,11340,9600,7200,12003,12552,19378,11120,13688,12182,5500,5400,10106,10708,10562,8244,16669,12358,31770,5306,10197,12416,12615,10029,13650,17423,8520,2117,7588,9060,11426,7438,22950,9947,10410,7018,4923,10570,7472,9017,2522,7180,2280,9416,25419,5520,9591,8546,10125,7000,4438,3500,11851,13673,12493,14364,8250,5604,10420,8640,13568,10900,10011,8450,9906,15660,3010,8990,8068,11475,10500,13472,1680,9950,1869,8521,3182,8760,15138,1680,10650,7851,1680,8773,9453,12030,8741,9000,3880,5000,10762,8880,10400,9142,11310,11317,159000,5350,4750,8366,9350,8400,8738,8791,8814,12435,12702,19296,9588,8471,5500,5232,12090,11207,8400,6900,7917,10728,39104,11764,9600,8314,7264,9196,19138,14450,10005,11287,7200,5063,9612,8012,4251,9786,8125,9819,8730,15611,5687,11409,16659,9600,7937,13710,7399,11700,14000,15750,16226,13704,9800,18386,10386,13474,7920,12342,12378,7685,8000,7800,215245,9600,7795,13005,9000,9900,14115,16259,12099,10380,5820,11275,5000,10846,11600,11888,6402,10624,8176,10655,8198,9042,164660,14157,9135,14145,12400,14191,8400,8544,8849,2592,6435,12772,17600,2448,20431,7820,5271,9084,8520,8400,11249,9248,4224,6930,12011,7540,9144,7301,1680,18800,10690,9500,9150,7800,9830,8121,17120,7175,10634,8200,10020,8846,11143,11394,8123,5000,7200,9245,9000,53107,3182,8410,7200,9382,12474,8405,12209,8339,7446,10134,9571,7200,7590,8967,8125,14963,8767,10200,12090,10364,9991,10480,15576,14154,10800,9571,34650,4403,8960,11228,8899,7844,22420,8160,8450,7060,16635,21750,9200,9000,3378,12800,8593,6762,11457,1680,5586,1920,10839,1890,10667,4400,6000,4280,12354,15431,12108,6240,3922,8750,9855,16492,11214,8600,6000,5684,70761,9303,9000,9297,9600,4571,53227,5100,7015,8004,7200,8281,11988,8430,3072,10628,9480,11428,9291,6820,11952,3675,14977,5330,8480,13125,13693,10637,5925,16033,11846,2500,4500,7758,9600,10289,12243,10800,1526,2665,9490,15578,7931,5784,7879,12692,9120,7800,7535,1890,9803,9170,15602,2308,7596,9554,7862,9600,9600,14559,6792,9100,9187,10594,12220,10448,10208,9531,10918,10800,11988,5000,40094,11787,7500,13300,14948,9098,32668,10200,6155,7200,5000,9056,7000,8924,12735,11553,11423,14601,11000,10140,4058,17104,13837,8737,7244,8235,9375,4043,6000,11146,8777,10625,6380,14850,11040,21872,3196,11341,10010,13907,21780,13346,6858,11198,10171,12327,7032,13101,7332,13159,9967,10500,8480,6292,11777,3604,12150,14585,12704,11841,13500,6120,11443,10267,8740,25095,9100,8320,13478,6600,4435,7990,11302,3600,3922,12984,1950,10927,9000,10041,3182,12803,13600,12464,7800,12168,7943,11050,10395,11885,8402,1491,8800,7861,7227,11694,12244,8248,10800,7064,2117,10400,10000,12342,9600,11606,9020,9000,4590,11900,9250,6979,10896,6120,6000,8777,3982,12677,7050,13860,10793,9187,10530,7200,10452,7700,1936,8125,9084,8750,10320,10437,1680,10007,7200,17503,9937,12384,46589,13560,10012,20896,11194,18450,8125,14175,11600,8633,6629,11250,14442,9200,2289,9600,9022,11844,9945,8012,4500,2887,11248,16770,5062,10207,5105,8089,7577,4426,21535,26178,5400,6120,13811,6000,6420,8450,4282,14331,9600,12438,7630,8400,5600,115149,6240,9018,7162,4130,8712,4671,9873,13517,10140,10800,10000,10542,9920,6563,4426,8120,8172,13286,6960,21695,7314,11475,6240,5389,9590,11404,10000,8978,10800,8544,10463,10800,9313,9600,6768,8450,12886,5395,8963,8795,11700,10593,8405,8800,7750,9236,10240,7930,3230,10769,11616,2280,12257,9100,6911,8640,9430,9549,14587,10421,12508,9100,53504,7252,8877,7819,10150,14226,4500,11210,13350,8400,10530,7875,7153,16285,9101,6300,9790,10800,10142,6000,12205,3182,11333,9920,9158,10832,8400,8197,7677,13518,7200,12798,4800,8199,13891,9000,12274,9750,21384,13400,8100,10140,4438,8712,9750,8248,12137,11425,13265,8816,6371,7226,6000,12394,9900,11216,14803,6130,8529,28698,2544,11900,3180,9548,10004,7875,9600,8100,1680,9525,11767,12155,10440,9020,8000,12665,16647,9317,15523,45600,9600,4435,3196,7128,12095,17920,6897,10970,8125,10400,11029,7642,11625,9672,7931,8640,8750,10656,6970,14762,9938,6600,8750,8892,12144,5720,9000,25286,8834,11782,7000,7024,13758,9636,6204,7150,5119,8393,16466,15865,12160,8064,11184,8414,13284,7018,7056,8765,7018,12919,6993,7340,8712,7875,14859,6173,9920,13501,11500,8885,12589,11600,9286,6120,6270,3000,2001,9000,17140,13125,11029,8462,8777,10237,8012,10240,15611,11999,9900,11838,13006,8925,9100,11670,8487,27650,5825,10083,9675,8760,24090,12640,8755,7711,25000,14375,8820,8163,14536,14006,9360,7200,7800,7200,11075,9400,7136,1300,7420,8450,2572,7207,12227,2308,11923,11316,10237,9600,7390,5925,10382,10800,2268,7892,11639,11414,2651,5900,4274,9450,8816,12122,12203,3182,11250,10125,10880,5310,10159,12046,8125,9452,17671,9760,8846,12456,4712,10659,11717,9786,6762,10206,5400,11957,11500,3182,8385,12155,2217,12118,6000,21286,9825,10592,7200,11664,8400,11883,5814,10784,3013,7024,7406,9439,3182,15498,7700,9300,9520,9492,1680,7082,15863,14541,8125,6305,11500,12898,9240,1533,1477,13125,9130,5381,11839,9600,13680,16056,9245,21750,11100,8993,11175,9500,8562,11367,11361,7052,29959,11308,11275,4920,18000,13600,6000,11000,14000,7837,9760,3964,9600,10152,11700,7585,7950,8556,13125,10800,15870,4435,8775,11040,7500,8749,8800,13031,9069,1974,10574,2522,3316,8544,2160,8400,9230,5868,9317,6882,3696,6000,11880,8400,9758,7000,8910,2016,12256,10357,23257,8063,11362,8000,10480,7100,8923,5400,12085,7750,9764,13825,7560,8263,10084,8926,9405,9125,10434,3684,14572,11796,7200,7804,10712,9900,9828,8773,6180,9600,6342,9819,8731,7350,10304,9965,9000,12180,6240,11200,12000,5700,9000,8280,17755,14115,5890,13700,10768,9350,5001,11932,9120,2280,14778,8724,12900,16157,9541,10475,10852,13728,35760,9880,9120,4017,18030,16560,10678,6951,3950,7681,8335,11170,5587,15623,10800,35133,9738,10615,12461,8935,7500,32463,2645,9600,4500,9364,8029,14054,8850,9100,11235,9353,10400,6000,9750,10140,14684,8900,9135,7763,10182,11218,12134,9340,10246,10205,7094,8930,8640,6240,1680,7800,8250,10496,10680,15384,10482,14598,8872,8769,7910,18890,7728,9842,12160,8525,13132,2628,12393,13072,9037,8158,9849,10625,13891,11435,12090,8125,12328,9600,7200,11160,3136,9858,17542,6931,6240,14303,4060,9587,9750,24682,9600,11250,13515,4060,3735,10120,13214,14100,11344,23595,9156,13526,11512,5362,11345,12936,17871,9473,7500,9808,8049,8800,9400,9638,6000,9790,36500,5664,11065,14112,1680,6600,10140,8172,8400,8700,3675,63887,7500,10762,7500,10120,8688,3363,13173,6955,8072,12000,7153,17500,8814,9572,14774,8190,11075,10226,4230,14781,10215,8400,6627,10186,5330,9986,3636,4270,6600,10440,9084,10000,10780,8877,7200,2368,9650,9246,4118,13450,9560,8294,13695,9375,7558,11103,6000,20781,15306,16196,5250,11643,9247,6000,14720,10316,10192,9477,12537,2117,16737,9842,16158,12513,8499,3180,7500,9179,2665,4435,10635,5400,9600,9750,11400,10625,10991,6292,10998,1953,9735,8212,12925,7200,25339,9060,5436,16692,8520,14892,6000,9100,8944,7838,10800,4045,12665,57200,6120,7200,6171,6000,7415,6762,15256,10410,3842,8445,8780,7740,20544,12420,9600,7200,10994,13053,3635,11340,16545,9204,16381,11700,4043,4435,19690,9503,10721,10944,10930,7200,12546,21930,4928,10800,10261,17400,8400,9000,12444,7407,11584,11526,4426,11003,8854,8500,8400,26142,10000,11767,1533,9000,9262,3675,17217,7500,7917,13175,9042,9717,9937],\"y0\":\" \",\"yaxis\":\"y\",\"type\":\"violin\",\"opacity\":0.8}],                        {\"template\":{\"data\":{\"histogram2dcontour\":[{\"type\":\"histogram2dcontour\",\"colorbar\":{\"outlinewidth\":0,\"ticks\":\"\"},\"colorscale\":[[0.0,\"#0d0887\"],[0.1111111111111111,\"#46039f\"],[0.2222222222222222,\"#7201a8\"],[0.3333333333333333,\"#9c179e\"],[0.4444444444444444,\"#bd3786\"],[0.5555555555555556,\"#d8576b\"],[0.6666666666666666,\"#ed7953\"],[0.7777777777777778,\"#fb9f3a\"],[0.8888888888888888,\"#fdca26\"],[1.0,\"#f0f921\"]]}],\"choropleth\":[{\"type\":\"choropleth\",\"colorbar\":{\"outlinewidth\":0,\"ticks\":\"\"}}],\"histogram2d\":[{\"type\":\"histogram2d\",\"colorbar\":{\"outlinewidth\":0,\"ticks\":\"\"},\"colorscale\":[[0.0,\"#0d0887\"],[0.1111111111111111,\"#46039f\"],[0.2222222222222222,\"#7201a8\"],[0.3333333333333333,\"#9c179e\"],[0.4444444444444444,\"#bd3786\"],[0.5555555555555556,\"#d8576b\"],[0.6666666666666666,\"#ed7953\"],[0.7777777777777778,\"#fb9f3a\"],[0.8888888888888888,\"#fdca26\"],[1.0,\"#f0f921\"]]}],\"heatmap\":[{\"type\":\"heatmap\",\"colorbar\":{\"outlinewidth\":0,\"ticks\":\"\"},\"colorscale\":[[0.0,\"#0d0887\"],[0.1111111111111111,\"#46039f\"],[0.2222222222222222,\"#7201a8\"],[0.3333333333333333,\"#9c179e\"],[0.4444444444444444,\"#bd3786\"],[0.5555555555555556,\"#d8576b\"],[0.6666666666666666,\"#ed7953\"],[0.7777777777777778,\"#fb9f3a\"],[0.8888888888888888,\"#fdca26\"],[1.0,\"#f0f921\"]]}],\"heatmapgl\":[{\"type\":\"heatmapgl\",\"colorbar\":{\"outlinewidth\":0,\"ticks\":\"\"},\"colorscale\":[[0.0,\"#0d0887\"],[0.1111111111111111,\"#46039f\"],[0.2222222222222222,\"#7201a8\"],[0.3333333333333333,\"#9c179e\"],[0.4444444444444444,\"#bd3786\"],[0.5555555555555556,\"#d8576b\"],[0.6666666666666666,\"#ed7953\"],[0.7777777777777778,\"#fb9f3a\"],[0.8888888888888888,\"#fdca26\"],[1.0,\"#f0f921\"]]}],\"contourcarpet\":[{\"type\":\"contourcarpet\",\"colorbar\":{\"outlinewidth\":0,\"ticks\":\"\"}}],\"contour\":[{\"type\":\"contour\",\"colorbar\":{\"outlinewidth\":0,\"ticks\":\"\"},\"colorscale\":[[0.0,\"#0d0887\"],[0.1111111111111111,\"#46039f\"],[0.2222222222222222,\"#7201a8\"],[0.3333333333333333,\"#9c179e\"],[0.4444444444444444,\"#bd3786\"],[0.5555555555555556,\"#d8576b\"],[0.6666666666666666,\"#ed7953\"],[0.7777777777777778,\"#fb9f3a\"],[0.8888888888888888,\"#fdca26\"],[1.0,\"#f0f921\"]]}],\"surface\":[{\"type\":\"surface\",\"colorbar\":{\"outlinewidth\":0,\"ticks\":\"\"},\"colorscale\":[[0.0,\"#0d0887\"],[0.1111111111111111,\"#46039f\"],[0.2222222222222222,\"#7201a8\"],[0.3333333333333333,\"#9c179e\"],[0.4444444444444444,\"#bd3786\"],[0.5555555555555556,\"#d8576b\"],[0.6666666666666666,\"#ed7953\"],[0.7777777777777778,\"#fb9f3a\"],[0.8888888888888888,\"#fdca26\"],[1.0,\"#f0f921\"]]}],\"mesh3d\":[{\"type\":\"mesh3d\",\"colorbar\":{\"outlinewidth\":0,\"ticks\":\"\"}}],\"scatter\":[{\"fillpattern\":{\"fillmode\":\"overlay\",\"size\":10,\"solidity\":0.2},\"type\":\"scatter\"}],\"parcoords\":[{\"type\":\"parcoords\",\"line\":{\"colorbar\":{\"outlinewidth\":0,\"ticks\":\"\"}}}],\"scatterpolargl\":[{\"type\":\"scatterpolargl\",\"marker\":{\"colorbar\":{\"outlinewidth\":0,\"ticks\":\"\"}}}],\"bar\":[{\"error_x\":{\"color\":\"#2a3f5f\"},\"error_y\":{\"color\":\"#2a3f5f\"},\"marker\":{\"line\":{\"color\":\"#E5ECF6\",\"width\":0.5},\"pattern\":{\"fillmode\":\"overlay\",\"size\":10,\"solidity\":0.2}},\"type\":\"bar\"}],\"scattergeo\":[{\"type\":\"scattergeo\",\"marker\":{\"colorbar\":{\"outlinewidth\":0,\"ticks\":\"\"}}}],\"scatterpolar\":[{\"type\":\"scatterpolar\",\"marker\":{\"colorbar\":{\"outlinewidth\":0,\"ticks\":\"\"}}}],\"histogram\":[{\"marker\":{\"pattern\":{\"fillmode\":\"overlay\",\"size\":10,\"solidity\":0.2}},\"type\":\"histogram\"}],\"scattergl\":[{\"type\":\"scattergl\",\"marker\":{\"colorbar\":{\"outlinewidth\":0,\"ticks\":\"\"}}}],\"scatter3d\":[{\"type\":\"scatter3d\",\"line\":{\"colorbar\":{\"outlinewidth\":0,\"ticks\":\"\"}},\"marker\":{\"colorbar\":{\"outlinewidth\":0,\"ticks\":\"\"}}}],\"scattermapbox\":[{\"type\":\"scattermapbox\",\"marker\":{\"colorbar\":{\"outlinewidth\":0,\"ticks\":\"\"}}}],\"scatterternary\":[{\"type\":\"scatterternary\",\"marker\":{\"colorbar\":{\"outlinewidth\":0,\"ticks\":\"\"}}}],\"scattercarpet\":[{\"type\":\"scattercarpet\",\"marker\":{\"colorbar\":{\"outlinewidth\":0,\"ticks\":\"\"}}}],\"carpet\":[{\"aaxis\":{\"endlinecolor\":\"#2a3f5f\",\"gridcolor\":\"white\",\"linecolor\":\"white\",\"minorgridcolor\":\"white\",\"startlinecolor\":\"#2a3f5f\"},\"baxis\":{\"endlinecolor\":\"#2a3f5f\",\"gridcolor\":\"white\",\"linecolor\":\"white\",\"minorgridcolor\":\"white\",\"startlinecolor\":\"#2a3f5f\"},\"type\":\"carpet\"}],\"table\":[{\"cells\":{\"fill\":{\"color\":\"#EBF0F8\"},\"line\":{\"color\":\"white\"}},\"header\":{\"fill\":{\"color\":\"#C8D4E3\"},\"line\":{\"color\":\"white\"}},\"type\":\"table\"}],\"barpolar\":[{\"marker\":{\"line\":{\"color\":\"#E5ECF6\",\"width\":0.5},\"pattern\":{\"fillmode\":\"overlay\",\"size\":10,\"solidity\":0.2}},\"type\":\"barpolar\"}],\"pie\":[{\"automargin\":true,\"type\":\"pie\"}]},\"layout\":{\"autotypenumbers\":\"strict\",\"colorway\":[\"#636efa\",\"#EF553B\",\"#00cc96\",\"#ab63fa\",\"#FFA15A\",\"#19d3f3\",\"#FF6692\",\"#B6E880\",\"#FF97FF\",\"#FECB52\"],\"font\":{\"color\":\"#2a3f5f\"},\"hovermode\":\"closest\",\"hoverlabel\":{\"align\":\"left\"},\"paper_bgcolor\":\"white\",\"plot_bgcolor\":\"#E5ECF6\",\"polar\":{\"bgcolor\":\"#E5ECF6\",\"angularaxis\":{\"gridcolor\":\"white\",\"linecolor\":\"white\",\"ticks\":\"\"},\"radialaxis\":{\"gridcolor\":\"white\",\"linecolor\":\"white\",\"ticks\":\"\"}},\"ternary\":{\"bgcolor\":\"#E5ECF6\",\"aaxis\":{\"gridcolor\":\"white\",\"linecolor\":\"white\",\"ticks\":\"\"},\"baxis\":{\"gridcolor\":\"white\",\"linecolor\":\"white\",\"ticks\":\"\"},\"caxis\":{\"gridcolor\":\"white\",\"linecolor\":\"white\",\"ticks\":\"\"}},\"coloraxis\":{\"colorbar\":{\"outlinewidth\":0,\"ticks\":\"\"}},\"colorscale\":{\"sequential\":[[0.0,\"#0d0887\"],[0.1111111111111111,\"#46039f\"],[0.2222222222222222,\"#7201a8\"],[0.3333333333333333,\"#9c179e\"],[0.4444444444444444,\"#bd3786\"],[0.5555555555555556,\"#d8576b\"],[0.6666666666666666,\"#ed7953\"],[0.7777777777777778,\"#fb9f3a\"],[0.8888888888888888,\"#fdca26\"],[1.0,\"#f0f921\"]],\"sequentialminus\":[[0.0,\"#0d0887\"],[0.1111111111111111,\"#46039f\"],[0.2222222222222222,\"#7201a8\"],[0.3333333333333333,\"#9c179e\"],[0.4444444444444444,\"#bd3786\"],[0.5555555555555556,\"#d8576b\"],[0.6666666666666666,\"#ed7953\"],[0.7777777777777778,\"#fb9f3a\"],[0.8888888888888888,\"#fdca26\"],[1.0,\"#f0f921\"]],\"diverging\":[[0,\"#8e0152\"],[0.1,\"#c51b7d\"],[0.2,\"#de77ae\"],[0.3,\"#f1b6da\"],[0.4,\"#fde0ef\"],[0.5,\"#f7f7f7\"],[0.6,\"#e6f5d0\"],[0.7,\"#b8e186\"],[0.8,\"#7fbc41\"],[0.9,\"#4d9221\"],[1,\"#276419\"]]},\"xaxis\":{\"gridcolor\":\"white\",\"linecolor\":\"white\",\"ticks\":\"\",\"title\":{\"standoff\":15},\"zerolinecolor\":\"white\",\"automargin\":true,\"zerolinewidth\":2},\"yaxis\":{\"gridcolor\":\"white\",\"linecolor\":\"white\",\"ticks\":\"\",\"title\":{\"standoff\":15},\"zerolinecolor\":\"white\",\"automargin\":true,\"zerolinewidth\":2},\"scene\":{\"xaxis\":{\"backgroundcolor\":\"#E5ECF6\",\"gridcolor\":\"white\",\"linecolor\":\"white\",\"showbackground\":true,\"ticks\":\"\",\"zerolinecolor\":\"white\",\"gridwidth\":2},\"yaxis\":{\"backgroundcolor\":\"#E5ECF6\",\"gridcolor\":\"white\",\"linecolor\":\"white\",\"showbackground\":true,\"ticks\":\"\",\"zerolinecolor\":\"white\",\"gridwidth\":2},\"zaxis\":{\"backgroundcolor\":\"#E5ECF6\",\"gridcolor\":\"white\",\"linecolor\":\"white\",\"showbackground\":true,\"ticks\":\"\",\"zerolinecolor\":\"white\",\"gridwidth\":2}},\"shapedefaults\":{\"line\":{\"color\":\"#2a3f5f\"}},\"annotationdefaults\":{\"arrowcolor\":\"#2a3f5f\",\"arrowhead\":0,\"arrowwidth\":1},\"geo\":{\"bgcolor\":\"white\",\"landcolor\":\"#E5ECF6\",\"subunitcolor\":\"white\",\"showland\":true,\"showlakes\":true,\"lakecolor\":\"white\"},\"title\":{\"x\":0.05},\"mapbox\":{\"style\":\"light\"}}},\"xaxis\":{\"anchor\":\"y\",\"domain\":[0.0,1.0],\"title\":{\"text\":\"LotArea\"}},\"yaxis\":{\"anchor\":\"x\",\"domain\":[0.0,1.0],\"title\":{\"text\":\"\"},\"gridcolor\":\"#DCDCDC\",\"zerolinecolor\":\"#DCDCDC\"},\"legend\":{\"tracegroupgap\":0},\"margin\":{\"t\":60},\"violinmode\":\"group\",\"paper_bgcolor\":\"#F5F5F5\",\"plot_bgcolor\":\"#F5F5F5\"},                        {\"responsive\": true}                    ).then(function(){\n",
       "                            \n",
       "var gd = document.getElementById('8e42e9e7-4b34-4f0d-985e-37766af6bd02');\n",
       "var x = new MutationObserver(function (mutations, observer) {{\n",
       "        var display = window.getComputedStyle(gd).display;\n",
       "        if (!display || display === 'none') {{\n",
       "            console.log([gd, 'removed!']);\n",
       "            Plotly.purge(gd);\n",
       "            observer.disconnect();\n",
       "        }}\n",
       "}});\n",
       "\n",
       "// Listen for the removal of the full notebook cells\n",
       "var notebookContainer = gd.closest('#notebook-container');\n",
       "if (notebookContainer) {{\n",
       "    x.observe(notebookContainer, {childList: true});\n",
       "}}\n",
       "\n",
       "// Listen for the clearing of the current output cell\n",
       "var outputEl = gd.closest('.output');\n",
       "if (outputEl) {{\n",
       "    x.observe(outputEl, {childList: true});\n",
       "}}\n",
       "\n",
       "                        })                };                });            </script>        </div>"
      ]
     },
     "metadata": {},
     "output_type": "display_data"
    },
    {
     "data": {
      "text/html": [
       "<div>                            <div id=\"ee4ef1d7-a622-46fb-8d80-ea5888eda11f\" class=\"plotly-graph-div\" style=\"height:525px; width:100%;\"></div>            <script type=\"text/javascript\">                require([\"plotly\"], function(Plotly) {                    window.PLOTLYENV=window.PLOTLYENV || {};                                    if (document.getElementById(\"ee4ef1d7-a622-46fb-8d80-ea5888eda11f\")) {                    Plotly.newPlot(                        \"ee4ef1d7-a622-46fb-8d80-ea5888eda11f\",                        [{\"alignmentgroup\":\"True\",\"box\":{\"visible\":true},\"hovertemplate\":\"MasVnrArea=%{y}<extra></extra>\",\"legendgroup\":\"\",\"marker\":{\"color\":\"#2C3E50\"},\"name\":\"MasVnrArea\",\"offsetgroup\":\"\",\"orientation\":\"v\",\"points\":\"outliers\",\"scalegroup\":\"True\",\"showlegend\":true,\"x0\":\" \",\"xaxis\":\"x\",\"y\":[196.0,0.0,162.0,0.0,350.0,0.0,186.0,240.0,0.0,0.0,0.0,286.0,0.0,306.0,212.0,0.0,180.0,0.0,0.0,0.0,380.0,0.0,281.0,0.0,0.0,640.0,0.0,200.0,0.0,0.0,0.0,0.0,0.0,0.0,246.0,132.0,0.0,650.0,0.0,0.0,101.0,0.0,0.0,0.0,0.0,412.0,0.0,0.0,0.0,0.0,0.0,0.0,0.0,0.0,0.0,272.0,456.0,0.0,1031.0,0.0,0.0,0.0,178.0,0.0,573.0,344.0,287.0,167.0,0.0,0.0,1115.0,0.0,40.0,104.0,0.0,0.0,0.0,0.0,0.0,0.0,576.0,443.0,468.0,66.0,22.0,284.0,0.0,76.0,0.0,0.0,0.0,203.0,0.0,0.0,0.0,68.0,183.0,48.0,0.0,0.0,28.0,336.0,0.0,0.0,600.0,768.0,0.0,0.0,0.0,480.0,0.0,0.0,220.0,184.0,0.0,1129.0,116.0,0.0,0.0,0.0,0.0,0.0,135.0,0.0,0.0,0.0,0.0,0.0,266.0,85.0,309.0,40.0,0.0,136.0,0.0,288.0,196.0,70.0,320.0,0.0,0.0,0.0,0.0,183.0,336.0,50.0,0.0,180.0,120.0,0.0,0.0,436.0,252.0,0.0,0.0,0.0,0.0,84.0,0.0,456.0,0.0,664.0,226.0,0.0,0.0,0.0,0.0,300.0,0.0,653.0,0.0,112.0,0.0,491.0,132.0,0.0,268.0,0.0,748.0,0.0,456.0,0.0,98.0,0.0,0.0,0.0,0.0,0.0,275.0,0.0,0.0,138.0,0.0,50.0,0.0,0.0,205.0,0.0,0.0,262.0,0.0,0.0,0.0,205.0,0.0,0.0,0.0,0.0,128.0,260.0,0.0,0.0,0.0,0.0,153.0,64.0,266.0,0.0,312.0,16.0,0.0,0.0,0.0,0.0,922.0,142.0,290.0,127.0,0.0,16.0,220.0,506.0,297.0,0.0,null,604.0,98.0,0.0,254.0,0.0,36.0,0.0,0.0,0.0,0.0,102.0,0.0,0.0,101.0,472.0,0.0,481.0,0.0,108.0,0.0,302.0,0.0,180.0,172.0,0.0,399.0,270.0,46.0,0.0,0.0,210.0,0.0,0.0,0.0,174.0,0.0,0.0,348.0,183.0,0.0,0.0,0.0,0.0,315.0,299.0,340.0,68.0,166.0,72.0,0.0,0.0,0.0,0.0,31.0,0.0,0.0,0.0,0.0,34.0,238.0,0.0,0.0,1600.0,365.0,0.0,56.0,0.0,150.0,0.0,0.0,246.0,246.0,0.0,0.0,0.0,112.0,0.0,0.0,0.0,0.0,0.0,278.0,0.0,256.0,225.0,370.0,388.0,172.0,0.0,300.0,0.0,0.0,175.0,0.0,0.0,84.0,0.0,296.0,146.0,0.0,0.0,200.0,113.0,0.0,176.0,0.0,0.0,340.0,616.0,0.0,0.0,0.0,30.0,106.0,870.0,362.0,0.0,0.0,0.0,0.0,0.0,106.0,0.0,120.0,530.0,0.0,0.0,500.0,510.0,120.0,0.0,247.0,305.0,200.0,0.0,0.0,0.0,0.0,0.0,0.0,0.0,0.0,0.0,350.0,16.0,0.0,0.0,0.0,0.0,0.0,16.0,0.0,255.0,125.0,272.0,0.0,0.0,0.0,0.0,0.0,0.0,0.0,288.0,0.0,100.0,0.0,0.0,0.0,650.0,0.0,0.0,0.0,0.0,350.0,100.0,0.0,0.0,432.0,0.0,0.0,0.0,203.0,0.0,0.0,0.0,200.0,126.0,0.0,473.0,74.0,0.0,145.0,0.0,108.0,0.0,232.0,0.0,376.0,0.0,0.0,0.0,0.0,0.0,0.0,0.0,200.0,270.0,0.0,72.0,0.0,0.0,0.0,0.0,0.0,0.0,0.0,0.0,42.0,0.0,0.0,320.0,0.0,0.0,0.0,161.0,110.0,0.0,0.0,0.0,136.0,18.0,0.0,224.0,248.0,120.0,0.0,0.0,80.0,304.0,0.0,0.0,215.0,772.0,336.0,435.0,378.0,562.0,0.0,116.0,0.0,0.0,168.0,0.0,0.0,0.0,0.0,0.0,0.0,0.0,0.0,0.0,0.0,0.0,89.0,0.0,285.0,0.0,0.0,0.0,0.0,360.0,125.0,0.0,0.0,132.0,70.0,94.0,0.0,0.0,0.0,305.0,333.0,921.0,0.0,0.0,0.0,0.0,0.0,762.0,594.0,0.0,0.0,268.0,0.0,null,219.0,0.0,0.0,0.0,0.0,0.0,0.0,0.0,188.0,479.0,584.0,72.0,0.0,182.0,0.0,178.0,0.0,0.0,0.0,0.0,0.0,0.0,250.0,0.0,292.0,0.0,0.0,0.0,0.0,18.0,180.0,0.0,0.0,0.0,0.0,0.0,245.0,168.0,0.0,0.0,108.0,207.0,0.0,0.0,82.0,0.0,0.0,97.0,0.0,335.0,85.0,306.0,104.0,0.0,0.0,208.0,0.0,0.0,0.0,0.0,0.0,420.0,0.0,170.0,0.0,238.0,0.0,72.0,459.0,0.0,280.0,0.0,0.0,0.0,99.0,176.0,0.0,0.0,0.0,192.0,204.0,233.0,108.0,0.0,0.0,156.0,0.0,0.0,452.0,226.0,0.0,0.0,153.0,513.0,288.0,261.0,0.0,164.0,192.0,259.0,0.0,108.0,209.0,0.0,0.0,0.0,0.0,0.0,0.0,0.0,472.0,0.0,0.0,263.0,162.0,0.0,0.0,216.0,351.0,0.0,null,0.0,0.0,0.0,660.0,381.0,54.0,0.0,0.0,0.0,233.0,528.0,216.0,0.0,0.0,40.0,113.0,258.0,0.0,0.0,0.0,0.0,0.0,106.0,0.0,0.0,0.0,0.0,464.0,57.0,0.0,0.0,0.0,215.0,30.0,0.0,0.0,0.0,0.0,256.0,147.0,1170.0,293.0,0.0,0.0,72.0,0.0,0.0,0.0,0.0,630.0,168.0,466.0,0.0,109.0,0.0,351.0,176.0,0.0,41.0,0.0,0.0,0.0,160.0,289.0,174.0,0.0,0.0,651.0,0.0,0.0,169.0,0.0,0.0,340.0,0.0,260.0,82.0,95.0,0.0,0.0,442.0,202.0,0.0,0.0,0.0,0.0,0.0,0.0,0.0,0.0,0.0,108.0,0.0,0.0,289.0,0.0,0.0,338.0,0.0,0.0,0.0,0.0,178.0,0.0,894.0,0.0,328.0,360.0,513.0,0.0,0.0,0.0,673.0,0.0,284.0,42.0,0.0,0.0,603.0,0.0,0.0,0.0,1.0,375.0,320.0,240.0,0.0,320.0,90.0,38.0,0.0,0.0,104.0,0.0,0.0,0.0,0.0,0.0,157.0,11.0,0.0,0.0,140.0,0.0,130.0,148.0,0.0,860.0,252.0,0.0,0.0,0.0,424.0,0.0,256.0,0.0,0.0,1047.0,0.0,99.0,169.0,0.0,243.0,0.0,442.0,0.0,148.0,80.0,128.0,0.0,0.0,0.0,0.0,0.0,816.0,0.0,0.0,0.0,0.0,387.0,0.0,223.0,180.0,136.0,0.0,0.0,158.0,0.0,0.0,0.0,0.0,183.0,0.0,0.0,0.0,137.0,0.0,0.0,360.0,170.0,40.0,0.0,115.0,0.0,0.0,0.0,0.0,189.0,220.0,0.0,0.0,0.0,0.0,0.0,76.0,274.0,0.0,0.0,246.0,0.0,116.0,0.0,0.0,0.0,0.0,0.0,216.0,0.0,90.0,0.0,117.0,0.0,0.0,60.0,60.0,122.0,0.0,0.0,90.0,0.0,92.0,0.0,0.0,0.0,415.0,0.0,0.0,760.0,0.0,0.0,0.0,0.0,27.0,75.0,110.0,208.0,0.0,0.0,0.0,361.0,0.0,0.0,0.0,76.0,80.0,0.0,0.0,0.0,0.0,105.0,0.0,0.0,0.0,157.0,0.0,340.0,342.0,0.0,285.0,0.0,0.0,302.0,210.0,0.0,108.0,null,0.0,0.0,0.0,0.0,298.0,0.0,0.0,541.0,0.0,128.0,236.0,144.0,0.0,0.0,0.0,0.0,232.0,250.0,423.0,0.0,0.0,0.0,0.0,0.0,424.0,0.0,0.0,44.0,0.0,0.0,151.0,0.0,105.0,0.0,106.0,0.0,null,0.0,0.0,0.0,null,0.0,0.0,210.0,975.0,16.0,0.0,0.0,0.0,0.0,450.0,298.0,0.0,423.0,0.0,340.0,0.0,230.0,0.0,0.0,571.0,0.0,24.0,0.0,0.0,53.0,164.0,16.0,220.0,0.0,0.0,108.0,0.0,0.0,0.0,0.0,0.0,206.0,0.0,196.0,0.0,76.0,145.0,0.0,84.0,0.0,14.0,0.0,0.0,324.0,338.0,0.0,281.0,0.0,0.0,0.0,295.0,0.0,0.0,70.0,396.0,0.0,0.0,67.0,252.0,135.0,99.0,0.0,0.0,208.0,0.0,75.0,0.0,0.0,0.0,272.0,145.0,210.0,160.0,240.0,0.0,154.0,480.0,0.0,0.0,0.0,0.0,200.0,0.0,0.0,360.0,0.0,0.0,120.0,0.0,0.0,140.0,0.0,0.0,0.0,0.0,169.0,0.0,144.0,0.0,100.0,425.0,0.0,0.0,0.0,0.0,50.0,0.0,0.0,212.0,0.0,166.0,0.0,0.0,0.0,0.0,0.0,206.0,0.0,0.0,45.0,0.0,304.0,362.0,0.0,0.0,0.0,42.0,0.0,660.0,0.0,0.0,0.0,328.0,0.0,0.0,0.0,0.0,0.0,196.0,0.0,0.0,170.0,0.0,130.0,0.0,0.0,180.0,0.0,0.0,0.0,0.0,0.0,0.0,0.0,0.0,0.0,0.0,0.0,44.0,340.0,0.0,0.0,0.0,85.0,0.0,0.0,0.0,0.0,132.0,0.0,0.0,288.0,0.0,0.0,166.0,186.0,270.0,0.0,72.0,0.0,0.0,0.0,268.0,72.0,0.0,0.0,1378.0,0.0,0.0,0.0,0.0,0.0,337.0,0.0,0.0,0.0,0.0,0.0,186.0,0.0,0.0,226.0,0.0,0.0,0.0,95.0,0.0,149.0,456.0,0.0,425.0,143.0,0.0,0.0,0.0,0.0,51.0,0.0,0.0,0.0,171.0,0.0,234.0,0.0,120.0,0.0,420.0,0.0,0.0,0.0,0.0,0.0,0.0,0.0,72.0,0.0,236.0,0.0,0.0,320.0,44.0,0.0,63.0,74.0,300.0,766.0,0.0,1.0,120.0,0.0,180.0,0.0,0.0,106.0,0.0,0.0,32.0,252.0,0.0,81.0,null,0.0,74.0,0.0,335.0,0.0,0.0,0.0,163.0,0.0,0.0,92.0,0.0,554.0,0.0,182.0,0.0,0.0,0.0,0.0,0.0,0.0,218.0,0.0,0.0,632.0,180.0,0.0,0.0,114.0,84.0,0.0,567.0,0.0,359.0,null,0.0,110.0,54.0,0.0,0.0,0.0,0.0,451.0,621.0,0.0,788.0,86.0,268.0,0.0,0.0,0.0,168.0,148.0,82.0,796.0,0.0,344.0,0.0,391.0,228.0,117.0,300.0,94.0,0.0,0.0,88.0,0.0,80.0,336.0,165.0,0.0,0.0,270.0,0.0,178.0,132.0,0.0,0.0,0.0,0.0,428.0,0.0,0.0,0.0,0.0,0.0,410.0,0.0,0.0,0.0,312.0,360.0,564.0,0.0,0.0,0.0,0.0,0.0,149.0,0.0,0.0,0.0,0.0,100.0,0.0,0.0,368.0,318.0,0.0,579.0,0.0,143.0,65.0,0.0,216.0,66.0,0.0,16.0,0.0,0.0,0.0,0.0,158.0,0.0,170.0,171.0,0.0,0.0,0.0,705.0,0.0,80.0,0.0,0.0,408.0,0.0,0.0,0.0,0.0,0.0,0.0,0.0,184.0,0.0,160.0,0.0,244.0,0.0,0.0,0.0,45.0,245.0,0.0,0.0,0.0,0.0,0.0,0.0,0.0,84.0,0.0,174.0,0.0,0.0,0.0,123.0,0.0,0.0,0.0,366.0,0.0,130.0,0.0,731.0,0.0,312.0,420.0,0.0,170.0,0.0,0.0,243.0,448.0,0.0,294.0,310.0,0.0,0.0,0.0,318.0,0.0,237.0,0.0,426.0,0.0,96.0,0.0,147.0,160.0,0.0,106.0,0.0,189.0,438.0,0.0,0.0,0.0,194.0,80.0,0.0,0.0,0.0,119.0,0.0,0.0,0.0],\"y0\":\" \",\"yaxis\":\"y\",\"type\":\"violin\",\"opacity\":0.8}],                        {\"template\":{\"data\":{\"histogram2dcontour\":[{\"type\":\"histogram2dcontour\",\"colorbar\":{\"outlinewidth\":0,\"ticks\":\"\"},\"colorscale\":[[0.0,\"#0d0887\"],[0.1111111111111111,\"#46039f\"],[0.2222222222222222,\"#7201a8\"],[0.3333333333333333,\"#9c179e\"],[0.4444444444444444,\"#bd3786\"],[0.5555555555555556,\"#d8576b\"],[0.6666666666666666,\"#ed7953\"],[0.7777777777777778,\"#fb9f3a\"],[0.8888888888888888,\"#fdca26\"],[1.0,\"#f0f921\"]]}],\"choropleth\":[{\"type\":\"choropleth\",\"colorbar\":{\"outlinewidth\":0,\"ticks\":\"\"}}],\"histogram2d\":[{\"type\":\"histogram2d\",\"colorbar\":{\"outlinewidth\":0,\"ticks\":\"\"},\"colorscale\":[[0.0,\"#0d0887\"],[0.1111111111111111,\"#46039f\"],[0.2222222222222222,\"#7201a8\"],[0.3333333333333333,\"#9c179e\"],[0.4444444444444444,\"#bd3786\"],[0.5555555555555556,\"#d8576b\"],[0.6666666666666666,\"#ed7953\"],[0.7777777777777778,\"#fb9f3a\"],[0.8888888888888888,\"#fdca26\"],[1.0,\"#f0f921\"]]}],\"heatmap\":[{\"type\":\"heatmap\",\"colorbar\":{\"outlinewidth\":0,\"ticks\":\"\"},\"colorscale\":[[0.0,\"#0d0887\"],[0.1111111111111111,\"#46039f\"],[0.2222222222222222,\"#7201a8\"],[0.3333333333333333,\"#9c179e\"],[0.4444444444444444,\"#bd3786\"],[0.5555555555555556,\"#d8576b\"],[0.6666666666666666,\"#ed7953\"],[0.7777777777777778,\"#fb9f3a\"],[0.8888888888888888,\"#fdca26\"],[1.0,\"#f0f921\"]]}],\"heatmapgl\":[{\"type\":\"heatmapgl\",\"colorbar\":{\"outlinewidth\":0,\"ticks\":\"\"},\"colorscale\":[[0.0,\"#0d0887\"],[0.1111111111111111,\"#46039f\"],[0.2222222222222222,\"#7201a8\"],[0.3333333333333333,\"#9c179e\"],[0.4444444444444444,\"#bd3786\"],[0.5555555555555556,\"#d8576b\"],[0.6666666666666666,\"#ed7953\"],[0.7777777777777778,\"#fb9f3a\"],[0.8888888888888888,\"#fdca26\"],[1.0,\"#f0f921\"]]}],\"contourcarpet\":[{\"type\":\"contourcarpet\",\"colorbar\":{\"outlinewidth\":0,\"ticks\":\"\"}}],\"contour\":[{\"type\":\"contour\",\"colorbar\":{\"outlinewidth\":0,\"ticks\":\"\"},\"colorscale\":[[0.0,\"#0d0887\"],[0.1111111111111111,\"#46039f\"],[0.2222222222222222,\"#7201a8\"],[0.3333333333333333,\"#9c179e\"],[0.4444444444444444,\"#bd3786\"],[0.5555555555555556,\"#d8576b\"],[0.6666666666666666,\"#ed7953\"],[0.7777777777777778,\"#fb9f3a\"],[0.8888888888888888,\"#fdca26\"],[1.0,\"#f0f921\"]]}],\"surface\":[{\"type\":\"surface\",\"colorbar\":{\"outlinewidth\":0,\"ticks\":\"\"},\"colorscale\":[[0.0,\"#0d0887\"],[0.1111111111111111,\"#46039f\"],[0.2222222222222222,\"#7201a8\"],[0.3333333333333333,\"#9c179e\"],[0.4444444444444444,\"#bd3786\"],[0.5555555555555556,\"#d8576b\"],[0.6666666666666666,\"#ed7953\"],[0.7777777777777778,\"#fb9f3a\"],[0.8888888888888888,\"#fdca26\"],[1.0,\"#f0f921\"]]}],\"mesh3d\":[{\"type\":\"mesh3d\",\"colorbar\":{\"outlinewidth\":0,\"ticks\":\"\"}}],\"scatter\":[{\"fillpattern\":{\"fillmode\":\"overlay\",\"size\":10,\"solidity\":0.2},\"type\":\"scatter\"}],\"parcoords\":[{\"type\":\"parcoords\",\"line\":{\"colorbar\":{\"outlinewidth\":0,\"ticks\":\"\"}}}],\"scatterpolargl\":[{\"type\":\"scatterpolargl\",\"marker\":{\"colorbar\":{\"outlinewidth\":0,\"ticks\":\"\"}}}],\"bar\":[{\"error_x\":{\"color\":\"#2a3f5f\"},\"error_y\":{\"color\":\"#2a3f5f\"},\"marker\":{\"line\":{\"color\":\"#E5ECF6\",\"width\":0.5},\"pattern\":{\"fillmode\":\"overlay\",\"size\":10,\"solidity\":0.2}},\"type\":\"bar\"}],\"scattergeo\":[{\"type\":\"scattergeo\",\"marker\":{\"colorbar\":{\"outlinewidth\":0,\"ticks\":\"\"}}}],\"scatterpolar\":[{\"type\":\"scatterpolar\",\"marker\":{\"colorbar\":{\"outlinewidth\":0,\"ticks\":\"\"}}}],\"histogram\":[{\"marker\":{\"pattern\":{\"fillmode\":\"overlay\",\"size\":10,\"solidity\":0.2}},\"type\":\"histogram\"}],\"scattergl\":[{\"type\":\"scattergl\",\"marker\":{\"colorbar\":{\"outlinewidth\":0,\"ticks\":\"\"}}}],\"scatter3d\":[{\"type\":\"scatter3d\",\"line\":{\"colorbar\":{\"outlinewidth\":0,\"ticks\":\"\"}},\"marker\":{\"colorbar\":{\"outlinewidth\":0,\"ticks\":\"\"}}}],\"scattermapbox\":[{\"type\":\"scattermapbox\",\"marker\":{\"colorbar\":{\"outlinewidth\":0,\"ticks\":\"\"}}}],\"scatterternary\":[{\"type\":\"scatterternary\",\"marker\":{\"colorbar\":{\"outlinewidth\":0,\"ticks\":\"\"}}}],\"scattercarpet\":[{\"type\":\"scattercarpet\",\"marker\":{\"colorbar\":{\"outlinewidth\":0,\"ticks\":\"\"}}}],\"carpet\":[{\"aaxis\":{\"endlinecolor\":\"#2a3f5f\",\"gridcolor\":\"white\",\"linecolor\":\"white\",\"minorgridcolor\":\"white\",\"startlinecolor\":\"#2a3f5f\"},\"baxis\":{\"endlinecolor\":\"#2a3f5f\",\"gridcolor\":\"white\",\"linecolor\":\"white\",\"minorgridcolor\":\"white\",\"startlinecolor\":\"#2a3f5f\"},\"type\":\"carpet\"}],\"table\":[{\"cells\":{\"fill\":{\"color\":\"#EBF0F8\"},\"line\":{\"color\":\"white\"}},\"header\":{\"fill\":{\"color\":\"#C8D4E3\"},\"line\":{\"color\":\"white\"}},\"type\":\"table\"}],\"barpolar\":[{\"marker\":{\"line\":{\"color\":\"#E5ECF6\",\"width\":0.5},\"pattern\":{\"fillmode\":\"overlay\",\"size\":10,\"solidity\":0.2}},\"type\":\"barpolar\"}],\"pie\":[{\"automargin\":true,\"type\":\"pie\"}]},\"layout\":{\"autotypenumbers\":\"strict\",\"colorway\":[\"#636efa\",\"#EF553B\",\"#00cc96\",\"#ab63fa\",\"#FFA15A\",\"#19d3f3\",\"#FF6692\",\"#B6E880\",\"#FF97FF\",\"#FECB52\"],\"font\":{\"color\":\"#2a3f5f\"},\"hovermode\":\"closest\",\"hoverlabel\":{\"align\":\"left\"},\"paper_bgcolor\":\"white\",\"plot_bgcolor\":\"#E5ECF6\",\"polar\":{\"bgcolor\":\"#E5ECF6\",\"angularaxis\":{\"gridcolor\":\"white\",\"linecolor\":\"white\",\"ticks\":\"\"},\"radialaxis\":{\"gridcolor\":\"white\",\"linecolor\":\"white\",\"ticks\":\"\"}},\"ternary\":{\"bgcolor\":\"#E5ECF6\",\"aaxis\":{\"gridcolor\":\"white\",\"linecolor\":\"white\",\"ticks\":\"\"},\"baxis\":{\"gridcolor\":\"white\",\"linecolor\":\"white\",\"ticks\":\"\"},\"caxis\":{\"gridcolor\":\"white\",\"linecolor\":\"white\",\"ticks\":\"\"}},\"coloraxis\":{\"colorbar\":{\"outlinewidth\":0,\"ticks\":\"\"}},\"colorscale\":{\"sequential\":[[0.0,\"#0d0887\"],[0.1111111111111111,\"#46039f\"],[0.2222222222222222,\"#7201a8\"],[0.3333333333333333,\"#9c179e\"],[0.4444444444444444,\"#bd3786\"],[0.5555555555555556,\"#d8576b\"],[0.6666666666666666,\"#ed7953\"],[0.7777777777777778,\"#fb9f3a\"],[0.8888888888888888,\"#fdca26\"],[1.0,\"#f0f921\"]],\"sequentialminus\":[[0.0,\"#0d0887\"],[0.1111111111111111,\"#46039f\"],[0.2222222222222222,\"#7201a8\"],[0.3333333333333333,\"#9c179e\"],[0.4444444444444444,\"#bd3786\"],[0.5555555555555556,\"#d8576b\"],[0.6666666666666666,\"#ed7953\"],[0.7777777777777778,\"#fb9f3a\"],[0.8888888888888888,\"#fdca26\"],[1.0,\"#f0f921\"]],\"diverging\":[[0,\"#8e0152\"],[0.1,\"#c51b7d\"],[0.2,\"#de77ae\"],[0.3,\"#f1b6da\"],[0.4,\"#fde0ef\"],[0.5,\"#f7f7f7\"],[0.6,\"#e6f5d0\"],[0.7,\"#b8e186\"],[0.8,\"#7fbc41\"],[0.9,\"#4d9221\"],[1,\"#276419\"]]},\"xaxis\":{\"gridcolor\":\"white\",\"linecolor\":\"white\",\"ticks\":\"\",\"title\":{\"standoff\":15},\"zerolinecolor\":\"white\",\"automargin\":true,\"zerolinewidth\":2},\"yaxis\":{\"gridcolor\":\"white\",\"linecolor\":\"white\",\"ticks\":\"\",\"title\":{\"standoff\":15},\"zerolinecolor\":\"white\",\"automargin\":true,\"zerolinewidth\":2},\"scene\":{\"xaxis\":{\"backgroundcolor\":\"#E5ECF6\",\"gridcolor\":\"white\",\"linecolor\":\"white\",\"showbackground\":true,\"ticks\":\"\",\"zerolinecolor\":\"white\",\"gridwidth\":2},\"yaxis\":{\"backgroundcolor\":\"#E5ECF6\",\"gridcolor\":\"white\",\"linecolor\":\"white\",\"showbackground\":true,\"ticks\":\"\",\"zerolinecolor\":\"white\",\"gridwidth\":2},\"zaxis\":{\"backgroundcolor\":\"#E5ECF6\",\"gridcolor\":\"white\",\"linecolor\":\"white\",\"showbackground\":true,\"ticks\":\"\",\"zerolinecolor\":\"white\",\"gridwidth\":2}},\"shapedefaults\":{\"line\":{\"color\":\"#2a3f5f\"}},\"annotationdefaults\":{\"arrowcolor\":\"#2a3f5f\",\"arrowhead\":0,\"arrowwidth\":1},\"geo\":{\"bgcolor\":\"white\",\"landcolor\":\"#E5ECF6\",\"subunitcolor\":\"white\",\"showland\":true,\"showlakes\":true,\"lakecolor\":\"white\"},\"title\":{\"x\":0.05},\"mapbox\":{\"style\":\"light\"}}},\"xaxis\":{\"anchor\":\"y\",\"domain\":[0.0,1.0],\"title\":{\"text\":\"MasVnrArea\"}},\"yaxis\":{\"anchor\":\"x\",\"domain\":[0.0,1.0],\"title\":{\"text\":\"\"},\"gridcolor\":\"#DCDCDC\",\"zerolinecolor\":\"#DCDCDC\"},\"legend\":{\"tracegroupgap\":0},\"margin\":{\"t\":60},\"violinmode\":\"group\",\"paper_bgcolor\":\"#F5F5F5\",\"plot_bgcolor\":\"#F5F5F5\"},                        {\"responsive\": true}                    ).then(function(){\n",
       "                            \n",
       "var gd = document.getElementById('ee4ef1d7-a622-46fb-8d80-ea5888eda11f');\n",
       "var x = new MutationObserver(function (mutations, observer) {{\n",
       "        var display = window.getComputedStyle(gd).display;\n",
       "        if (!display || display === 'none') {{\n",
       "            console.log([gd, 'removed!']);\n",
       "            Plotly.purge(gd);\n",
       "            observer.disconnect();\n",
       "        }}\n",
       "}});\n",
       "\n",
       "// Listen for the removal of the full notebook cells\n",
       "var notebookContainer = gd.closest('#notebook-container');\n",
       "if (notebookContainer) {{\n",
       "    x.observe(notebookContainer, {childList: true});\n",
       "}}\n",
       "\n",
       "// Listen for the clearing of the current output cell\n",
       "var outputEl = gd.closest('.output');\n",
       "if (outputEl) {{\n",
       "    x.observe(outputEl, {childList: true});\n",
       "}}\n",
       "\n",
       "                        })                };                });            </script>        </div>"
      ]
     },
     "metadata": {},
     "output_type": "display_data"
    },
    {
     "data": {
      "text/html": [
       "<div>                            <div id=\"c4ca8e4a-5142-4c34-b836-313c6d8caf7a\" class=\"plotly-graph-div\" style=\"height:525px; width:100%;\"></div>            <script type=\"text/javascript\">                require([\"plotly\"], function(Plotly) {                    window.PLOTLYENV=window.PLOTLYENV || {};                                    if (document.getElementById(\"c4ca8e4a-5142-4c34-b836-313c6d8caf7a\")) {                    Plotly.newPlot(                        \"c4ca8e4a-5142-4c34-b836-313c6d8caf7a\",                        [{\"alignmentgroup\":\"True\",\"box\":{\"visible\":true},\"hovertemplate\":\"BsmtFinSF1=%{y}<extra></extra>\",\"legendgroup\":\"\",\"marker\":{\"color\":\"#2C3E50\"},\"name\":\"BsmtFinSF1\",\"offsetgroup\":\"\",\"orientation\":\"v\",\"points\":\"outliers\",\"scalegroup\":\"True\",\"showlegend\":true,\"x0\":\" \",\"xaxis\":\"x\",\"y\":[706,978,486,216,655,732,1369,859,0,851,906,998,737,0,733,0,578,0,646,504,0,0,0,840,188,0,234,1218,1277,0,0,0,0,1018,1153,0,0,1213,731,0,643,967,747,280,179,456,1351,24,0,763,182,0,104,1810,384,490,649,0,0,632,941,0,24,0,739,0,912,1013,0,603,1880,565,0,320,0,462,228,336,0,0,448,1201,33,0,0,0,0,0,0,588,0,600,713,1046,648,310,1162,520,108,569,1200,0,0,0,224,0,0,104,0,705,444,250,984,35,774,419,170,0,1470,0,938,0,570,300,0,490,120,116,512,567,445,695,405,1005,570,0,695,0,668,821,432,1300,507,679,1332,0,209,0,680,0,716,1400,416,429,0,0,0,0,222,57,660,1016,1201,0,370,351,379,1288,0,0,360,639,495,288,1398,477,831,57,1904,0,436,352,0,0,0,0,611,0,1086,1153,297,626,560,0,390,566,1126,1036,0,1088,0,641,617,662,312,0,0,419,1065,787,468,36,822,716,378,360,946,0,341,16,0,0,550,524,56,0,565,321,842,16,0,689,0,182,625,358,24,402,0,94,1078,329,0,0,695,929,0,0,0,697,0,1573,0,270,922,0,503,1334,361,0,672,0,506,234,0,588,714,378,403,751,0,226,524,620,546,0,0,120,0,392,421,905,904,0,430,0,600,614,450,0,0,210,292,795,1285,819,420,649,384,0,841,281,0,894,0,1464,700,0,262,1274,518,680,507,1236,16,425,692,0,987,1036,0,970,28,256,0,116,1619,565,0,0,40,846,1124,720,828,1249,1249,810,213,585,0,0,0,28,129,0,498,1270,573,1410,0,1082,236,0,388,334,560,874,300,956,773,399,0,162,712,456,609,371,540,72,0,0,623,428,0,350,298,0,1445,0,218,0,0,0,985,24,0,631,0,1280,241,690,0,266,0,739,777,540,0,812,786,24,0,0,0,1116,0,0,0,789,0,1056,578,0,50,24,209,1128,312,775,1309,1246,0,986,616,0,1518,288,664,1005,387,0,471,0,495,385,0,0,365,0,1767,133,0,0,642,0,247,0,0,331,0,655,742,0,1606,916,0,1116,0,185,544,350,553,326,616,0,778,386,0,426,368,0,459,1350,1196,630,994,0,1288,168,1261,1567,299,897,588,607,836,998,664,515,0,403,0,374,0,495,1231,329,450,111,356,400,698,1247,257,0,380,27,141,991,650,0,521,336,0,1436,0,0,706,0,0,777,399,2260,719,0,377,1330,348,1219,783,0,0,0,0,969,0,600,673,1358,1260,0,144,584,554,1002,300,619,180,0,559,308,0,0,866,0,895,637,604,0,1302,1071,290,0,728,0,0,2,1441,943,231,414,0,0,349,442,0,328,0,0,594,0,816,0,0,1460,210,672,1324,0,490,1338,816,685,0,1422,0,0,1283,81,546,0,789,0,922,454,732,603,428,903,904,605,990,206,150,763,457,0,48,871,41,956,560,420,247,0,0,674,650,624,0,24,822,480,1056,256,0,0,0,1154,1218,738,1410,493,1121,282,0,500,0,131,0,0,0,0,1696,0,806,0,0,637,0,1361,0,920,1721,0,187,1138,988,0,193,551,767,1186,892,311,0,0,0,827,543,182,1003,1059,0,828,0,239,945,20,697,1455,965,0,0,980,616,210,553,16,1274,0,0,0,712,0,1219,863,0,0,0,0,767,789,533,0,0,1084,1173,523,1148,662,191,0,1234,375,808,724,0,152,1180,786,252,594,0,390,0,0,1200,0,0,832,0,444,733,575,300,0,919,0,0,0,1200,0,439,381,20,438,549,56,612,405,24,1163,437,0,394,660,24,1416,685,836,422,456,0,866,20,762,0,975,0,387,0,1097,0,251,686,656,0,568,16,539,862,0,0,0,0,570,0,569,462,197,648,0,812,0,400,1309,516,0,663,662,0,608,0,0,486,1218,504,733,0,0,0,0,0,1636,784,20,249,0,1040,0,483,196,572,442,338,330,0,352,156,0,312,0,0,1390,513,460,0,0,659,0,364,564,306,659,505,0,0,619,0,841,338,1148,0,828,0,932,0,750,0,505,0,375,0,64,633,1170,899,646,980,902,0,0,432,1238,528,0,351,1024,0,226,663,1064,0,400,285,0,2188,465,322,860,0,0,599,354,63,223,301,0,443,196,489,284,294,0,50,1059,48,528,814,1084,28,165,625,767,0,552,0,0,16,338,0,20,425,0,833,341,464,0,936,772,1440,0,111,1088,748,1300,0,982,398,641,660,562,945,484,285,417,699,604,696,896,556,0,624,0,428,902,0,513,0,567,0,0,0,641,0,1106,552,651,867,854,0,0,0,1040,0,1646,156,0,1074,216,536,0,1172,384,915,0,0,686,0,0,24,0,16,595,1237,273,0,0,0,0,0,247,336,643,690,1036,0,16,1024,684,324,16,1165,138,697,1513,368,317,0,523,1012,986,0,0,1022,0,0,509,168,400,900,1085,1104,0,240,686,0,0,0,0,442,383,932,644,659,595,936,297,616,0,0,397,740,1201,0,674,837,220,586,298,0,535,0,410,626,75,662,495,656,824,0,553,592,747,334,0,0,1039,0,510,423,661,248,24,0,0,672,704,290,412,588,655,0,1032,738,0,0,1039,219,403,708,643,415,1004,353,702,0,369,0,24,0,0,0,0,0,1300,0,936,622,212,0,584,0,0,280,0,1567,645,852,381,1150,288,348,0,1258,275,0,624,0,176,296,538,454,1157,633,904,0,442,311,728,492,1198,680,0,0,786,626,1387,522,662,0,152,503,700,658,468,0,0,1216,1480,2096,821,1159,392,440,1456,0,0,1159,0,0,883,371,0,0,0,0,547,0,0,0,0,788,485,1056,340,504,1220,0,427,344,648,784,180,0,936,0,0,312,250,196,756,724,507,0,595,1540,666,498,803,0,1000,0,0,0,0,0,428,550,0,885,1386,0,0,0,539,319,534,1065,0,510,125,0,425,1314,0,655,602,0,504,0,0,266,450,0,0,192,460,1258,0,560,719,0,220,593,528,804,0,788,1053,532,0,0,0,569,812,1158,0,1014,231,0,194,167,1016,776,547,5644,340,694,547,740,0,0,1572,0,746,144,1200,1406,925,482,0,732,500,0,0,0,492,189,0,674,280,0,0,544,641,493,0,0,483,690,0,765,686,0,0,700,360,0,814,0,0,0,250,297,80,1443,259,500,319,0,816,735,0,340,734,378,1447,0,1274,0,0,0,533,633,548,685,370,315,831,975,1282,0,0,384,408,309,0,203,865,0,0,204,735,790,168,1320,375,1400,0,769,0,1070,0,353,0,180,264,0,759,0,929,0,1373,656,625,0,0,666,120,0,976,0,988,0,781,25,1110,404,360,686,0,457,0,1000,580,510,678,0,958,0,0,936,0,616,1336,600,315,0,697,765,0,0,187,593,1079,0,553,0,0,547,0,410,0,790,275,49,830],\"y0\":\" \",\"yaxis\":\"y\",\"type\":\"violin\",\"opacity\":0.8}],                        {\"template\":{\"data\":{\"histogram2dcontour\":[{\"type\":\"histogram2dcontour\",\"colorbar\":{\"outlinewidth\":0,\"ticks\":\"\"},\"colorscale\":[[0.0,\"#0d0887\"],[0.1111111111111111,\"#46039f\"],[0.2222222222222222,\"#7201a8\"],[0.3333333333333333,\"#9c179e\"],[0.4444444444444444,\"#bd3786\"],[0.5555555555555556,\"#d8576b\"],[0.6666666666666666,\"#ed7953\"],[0.7777777777777778,\"#fb9f3a\"],[0.8888888888888888,\"#fdca26\"],[1.0,\"#f0f921\"]]}],\"choropleth\":[{\"type\":\"choropleth\",\"colorbar\":{\"outlinewidth\":0,\"ticks\":\"\"}}],\"histogram2d\":[{\"type\":\"histogram2d\",\"colorbar\":{\"outlinewidth\":0,\"ticks\":\"\"},\"colorscale\":[[0.0,\"#0d0887\"],[0.1111111111111111,\"#46039f\"],[0.2222222222222222,\"#7201a8\"],[0.3333333333333333,\"#9c179e\"],[0.4444444444444444,\"#bd3786\"],[0.5555555555555556,\"#d8576b\"],[0.6666666666666666,\"#ed7953\"],[0.7777777777777778,\"#fb9f3a\"],[0.8888888888888888,\"#fdca26\"],[1.0,\"#f0f921\"]]}],\"heatmap\":[{\"type\":\"heatmap\",\"colorbar\":{\"outlinewidth\":0,\"ticks\":\"\"},\"colorscale\":[[0.0,\"#0d0887\"],[0.1111111111111111,\"#46039f\"],[0.2222222222222222,\"#7201a8\"],[0.3333333333333333,\"#9c179e\"],[0.4444444444444444,\"#bd3786\"],[0.5555555555555556,\"#d8576b\"],[0.6666666666666666,\"#ed7953\"],[0.7777777777777778,\"#fb9f3a\"],[0.8888888888888888,\"#fdca26\"],[1.0,\"#f0f921\"]]}],\"heatmapgl\":[{\"type\":\"heatmapgl\",\"colorbar\":{\"outlinewidth\":0,\"ticks\":\"\"},\"colorscale\":[[0.0,\"#0d0887\"],[0.1111111111111111,\"#46039f\"],[0.2222222222222222,\"#7201a8\"],[0.3333333333333333,\"#9c179e\"],[0.4444444444444444,\"#bd3786\"],[0.5555555555555556,\"#d8576b\"],[0.6666666666666666,\"#ed7953\"],[0.7777777777777778,\"#fb9f3a\"],[0.8888888888888888,\"#fdca26\"],[1.0,\"#f0f921\"]]}],\"contourcarpet\":[{\"type\":\"contourcarpet\",\"colorbar\":{\"outlinewidth\":0,\"ticks\":\"\"}}],\"contour\":[{\"type\":\"contour\",\"colorbar\":{\"outlinewidth\":0,\"ticks\":\"\"},\"colorscale\":[[0.0,\"#0d0887\"],[0.1111111111111111,\"#46039f\"],[0.2222222222222222,\"#7201a8\"],[0.3333333333333333,\"#9c179e\"],[0.4444444444444444,\"#bd3786\"],[0.5555555555555556,\"#d8576b\"],[0.6666666666666666,\"#ed7953\"],[0.7777777777777778,\"#fb9f3a\"],[0.8888888888888888,\"#fdca26\"],[1.0,\"#f0f921\"]]}],\"surface\":[{\"type\":\"surface\",\"colorbar\":{\"outlinewidth\":0,\"ticks\":\"\"},\"colorscale\":[[0.0,\"#0d0887\"],[0.1111111111111111,\"#46039f\"],[0.2222222222222222,\"#7201a8\"],[0.3333333333333333,\"#9c179e\"],[0.4444444444444444,\"#bd3786\"],[0.5555555555555556,\"#d8576b\"],[0.6666666666666666,\"#ed7953\"],[0.7777777777777778,\"#fb9f3a\"],[0.8888888888888888,\"#fdca26\"],[1.0,\"#f0f921\"]]}],\"mesh3d\":[{\"type\":\"mesh3d\",\"colorbar\":{\"outlinewidth\":0,\"ticks\":\"\"}}],\"scatter\":[{\"fillpattern\":{\"fillmode\":\"overlay\",\"size\":10,\"solidity\":0.2},\"type\":\"scatter\"}],\"parcoords\":[{\"type\":\"parcoords\",\"line\":{\"colorbar\":{\"outlinewidth\":0,\"ticks\":\"\"}}}],\"scatterpolargl\":[{\"type\":\"scatterpolargl\",\"marker\":{\"colorbar\":{\"outlinewidth\":0,\"ticks\":\"\"}}}],\"bar\":[{\"error_x\":{\"color\":\"#2a3f5f\"},\"error_y\":{\"color\":\"#2a3f5f\"},\"marker\":{\"line\":{\"color\":\"#E5ECF6\",\"width\":0.5},\"pattern\":{\"fillmode\":\"overlay\",\"size\":10,\"solidity\":0.2}},\"type\":\"bar\"}],\"scattergeo\":[{\"type\":\"scattergeo\",\"marker\":{\"colorbar\":{\"outlinewidth\":0,\"ticks\":\"\"}}}],\"scatterpolar\":[{\"type\":\"scatterpolar\",\"marker\":{\"colorbar\":{\"outlinewidth\":0,\"ticks\":\"\"}}}],\"histogram\":[{\"marker\":{\"pattern\":{\"fillmode\":\"overlay\",\"size\":10,\"solidity\":0.2}},\"type\":\"histogram\"}],\"scattergl\":[{\"type\":\"scattergl\",\"marker\":{\"colorbar\":{\"outlinewidth\":0,\"ticks\":\"\"}}}],\"scatter3d\":[{\"type\":\"scatter3d\",\"line\":{\"colorbar\":{\"outlinewidth\":0,\"ticks\":\"\"}},\"marker\":{\"colorbar\":{\"outlinewidth\":0,\"ticks\":\"\"}}}],\"scattermapbox\":[{\"type\":\"scattermapbox\",\"marker\":{\"colorbar\":{\"outlinewidth\":0,\"ticks\":\"\"}}}],\"scatterternary\":[{\"type\":\"scatterternary\",\"marker\":{\"colorbar\":{\"outlinewidth\":0,\"ticks\":\"\"}}}],\"scattercarpet\":[{\"type\":\"scattercarpet\",\"marker\":{\"colorbar\":{\"outlinewidth\":0,\"ticks\":\"\"}}}],\"carpet\":[{\"aaxis\":{\"endlinecolor\":\"#2a3f5f\",\"gridcolor\":\"white\",\"linecolor\":\"white\",\"minorgridcolor\":\"white\",\"startlinecolor\":\"#2a3f5f\"},\"baxis\":{\"endlinecolor\":\"#2a3f5f\",\"gridcolor\":\"white\",\"linecolor\":\"white\",\"minorgridcolor\":\"white\",\"startlinecolor\":\"#2a3f5f\"},\"type\":\"carpet\"}],\"table\":[{\"cells\":{\"fill\":{\"color\":\"#EBF0F8\"},\"line\":{\"color\":\"white\"}},\"header\":{\"fill\":{\"color\":\"#C8D4E3\"},\"line\":{\"color\":\"white\"}},\"type\":\"table\"}],\"barpolar\":[{\"marker\":{\"line\":{\"color\":\"#E5ECF6\",\"width\":0.5},\"pattern\":{\"fillmode\":\"overlay\",\"size\":10,\"solidity\":0.2}},\"type\":\"barpolar\"}],\"pie\":[{\"automargin\":true,\"type\":\"pie\"}]},\"layout\":{\"autotypenumbers\":\"strict\",\"colorway\":[\"#636efa\",\"#EF553B\",\"#00cc96\",\"#ab63fa\",\"#FFA15A\",\"#19d3f3\",\"#FF6692\",\"#B6E880\",\"#FF97FF\",\"#FECB52\"],\"font\":{\"color\":\"#2a3f5f\"},\"hovermode\":\"closest\",\"hoverlabel\":{\"align\":\"left\"},\"paper_bgcolor\":\"white\",\"plot_bgcolor\":\"#E5ECF6\",\"polar\":{\"bgcolor\":\"#E5ECF6\",\"angularaxis\":{\"gridcolor\":\"white\",\"linecolor\":\"white\",\"ticks\":\"\"},\"radialaxis\":{\"gridcolor\":\"white\",\"linecolor\":\"white\",\"ticks\":\"\"}},\"ternary\":{\"bgcolor\":\"#E5ECF6\",\"aaxis\":{\"gridcolor\":\"white\",\"linecolor\":\"white\",\"ticks\":\"\"},\"baxis\":{\"gridcolor\":\"white\",\"linecolor\":\"white\",\"ticks\":\"\"},\"caxis\":{\"gridcolor\":\"white\",\"linecolor\":\"white\",\"ticks\":\"\"}},\"coloraxis\":{\"colorbar\":{\"outlinewidth\":0,\"ticks\":\"\"}},\"colorscale\":{\"sequential\":[[0.0,\"#0d0887\"],[0.1111111111111111,\"#46039f\"],[0.2222222222222222,\"#7201a8\"],[0.3333333333333333,\"#9c179e\"],[0.4444444444444444,\"#bd3786\"],[0.5555555555555556,\"#d8576b\"],[0.6666666666666666,\"#ed7953\"],[0.7777777777777778,\"#fb9f3a\"],[0.8888888888888888,\"#fdca26\"],[1.0,\"#f0f921\"]],\"sequentialminus\":[[0.0,\"#0d0887\"],[0.1111111111111111,\"#46039f\"],[0.2222222222222222,\"#7201a8\"],[0.3333333333333333,\"#9c179e\"],[0.4444444444444444,\"#bd3786\"],[0.5555555555555556,\"#d8576b\"],[0.6666666666666666,\"#ed7953\"],[0.7777777777777778,\"#fb9f3a\"],[0.8888888888888888,\"#fdca26\"],[1.0,\"#f0f921\"]],\"diverging\":[[0,\"#8e0152\"],[0.1,\"#c51b7d\"],[0.2,\"#de77ae\"],[0.3,\"#f1b6da\"],[0.4,\"#fde0ef\"],[0.5,\"#f7f7f7\"],[0.6,\"#e6f5d0\"],[0.7,\"#b8e186\"],[0.8,\"#7fbc41\"],[0.9,\"#4d9221\"],[1,\"#276419\"]]},\"xaxis\":{\"gridcolor\":\"white\",\"linecolor\":\"white\",\"ticks\":\"\",\"title\":{\"standoff\":15},\"zerolinecolor\":\"white\",\"automargin\":true,\"zerolinewidth\":2},\"yaxis\":{\"gridcolor\":\"white\",\"linecolor\":\"white\",\"ticks\":\"\",\"title\":{\"standoff\":15},\"zerolinecolor\":\"white\",\"automargin\":true,\"zerolinewidth\":2},\"scene\":{\"xaxis\":{\"backgroundcolor\":\"#E5ECF6\",\"gridcolor\":\"white\",\"linecolor\":\"white\",\"showbackground\":true,\"ticks\":\"\",\"zerolinecolor\":\"white\",\"gridwidth\":2},\"yaxis\":{\"backgroundcolor\":\"#E5ECF6\",\"gridcolor\":\"white\",\"linecolor\":\"white\",\"showbackground\":true,\"ticks\":\"\",\"zerolinecolor\":\"white\",\"gridwidth\":2},\"zaxis\":{\"backgroundcolor\":\"#E5ECF6\",\"gridcolor\":\"white\",\"linecolor\":\"white\",\"showbackground\":true,\"ticks\":\"\",\"zerolinecolor\":\"white\",\"gridwidth\":2}},\"shapedefaults\":{\"line\":{\"color\":\"#2a3f5f\"}},\"annotationdefaults\":{\"arrowcolor\":\"#2a3f5f\",\"arrowhead\":0,\"arrowwidth\":1},\"geo\":{\"bgcolor\":\"white\",\"landcolor\":\"#E5ECF6\",\"subunitcolor\":\"white\",\"showland\":true,\"showlakes\":true,\"lakecolor\":\"white\"},\"title\":{\"x\":0.05},\"mapbox\":{\"style\":\"light\"}}},\"xaxis\":{\"anchor\":\"y\",\"domain\":[0.0,1.0],\"title\":{\"text\":\"BsmtFinSF1\"}},\"yaxis\":{\"anchor\":\"x\",\"domain\":[0.0,1.0],\"title\":{\"text\":\"\"},\"gridcolor\":\"#DCDCDC\",\"zerolinecolor\":\"#DCDCDC\"},\"legend\":{\"tracegroupgap\":0},\"margin\":{\"t\":60},\"violinmode\":\"group\",\"paper_bgcolor\":\"#F5F5F5\",\"plot_bgcolor\":\"#F5F5F5\"},                        {\"responsive\": true}                    ).then(function(){\n",
       "                            \n",
       "var gd = document.getElementById('c4ca8e4a-5142-4c34-b836-313c6d8caf7a');\n",
       "var x = new MutationObserver(function (mutations, observer) {{\n",
       "        var display = window.getComputedStyle(gd).display;\n",
       "        if (!display || display === 'none') {{\n",
       "            console.log([gd, 'removed!']);\n",
       "            Plotly.purge(gd);\n",
       "            observer.disconnect();\n",
       "        }}\n",
       "}});\n",
       "\n",
       "// Listen for the removal of the full notebook cells\n",
       "var notebookContainer = gd.closest('#notebook-container');\n",
       "if (notebookContainer) {{\n",
       "    x.observe(notebookContainer, {childList: true});\n",
       "}}\n",
       "\n",
       "// Listen for the clearing of the current output cell\n",
       "var outputEl = gd.closest('.output');\n",
       "if (outputEl) {{\n",
       "    x.observe(outputEl, {childList: true});\n",
       "}}\n",
       "\n",
       "                        })                };                });            </script>        </div>"
      ]
     },
     "metadata": {},
     "output_type": "display_data"
    },
    {
     "data": {
      "text/html": [
       "<div>                            <div id=\"b2764a4b-8306-4c82-a244-5549428db527\" class=\"plotly-graph-div\" style=\"height:525px; width:100%;\"></div>            <script type=\"text/javascript\">                require([\"plotly\"], function(Plotly) {                    window.PLOTLYENV=window.PLOTLYENV || {};                                    if (document.getElementById(\"b2764a4b-8306-4c82-a244-5549428db527\")) {                    Plotly.newPlot(                        \"b2764a4b-8306-4c82-a244-5549428db527\",                        [{\"alignmentgroup\":\"True\",\"box\":{\"visible\":true},\"hovertemplate\":\"BsmtFinSF2=%{y}<extra></extra>\",\"legendgroup\":\"\",\"marker\":{\"color\":\"#2C3E50\"},\"name\":\"BsmtFinSF2\",\"offsetgroup\":\"\",\"orientation\":\"v\",\"points\":\"outliers\",\"scalegroup\":\"True\",\"showlegend\":true,\"x0\":\" \",\"xaxis\":\"x\",\"y\":[0,0,0,0,0,0,0,32,0,0,0,0,0,0,0,0,0,0,0,0,0,0,0,0,668,0,486,0,0,0,0,0,0,0,0,0,0,0,0,0,0,0,93,491,506,0,0,0,0,0,0,0,712,0,0,0,0,0,0,0,0,0,0,0,0,0,0,0,0,0,0,0,0,362,0,0,0,41,0,0,0,0,0,0,0,0,0,0,0,0,0,0,0,0,0,0,0,0,0,0,0,0,0,0,0,0,0,169,0,0,0,0,0,869,150,0,670,0,0,0,0,0,0,0,0,0,0,0,0,28,0,0,0,0,0,0,0,0,0,0,0,0,0,0,0,0,0,0,0,0,0,0,0,1080,0,0,0,0,0,0,0,0,0,0,0,181,768,0,0,0,0,0,215,374,208,0,0,441,0,0,0,0,0,0,0,0,0,0,0,0,0,0,0,0,0,0,0,184,0,0,0,279,0,0,0,0,0,306,0,0,0,0,0,0,0,0,0,0,0,0,0,0,0,180,0,0,0,0,0,0,0,0,0,712,0,0,0,0,0,0,0,0,0,0,0,0,0,0,0,0,0,0,0,580,0,0,0,0,0,0,690,0,0,692,0,228,0,0,125,0,0,1063,0,620,0,0,0,0,0,0,0,0,0,0,0,0,0,0,0,0,0,0,0,0,0,0,0,0,175,0,0,0,0,0,0,0,0,0,0,0,0,0,0,820,0,0,0,0,0,0,0,0,1474,0,0,0,0,0,0,0,264,0,479,0,0,147,0,0,0,0,0,0,0,0,232,0,0,0,0,0,0,0,380,0,0,544,0,0,294,0,0,0,0,0,0,0,0,0,0,258,0,0,121,180,0,0,0,0,0,0,0,0,0,0,0,0,0,0,0,0,391,0,0,0,0,0,0,0,0,0,0,0,0,0,0,0,0,0,0,0,0,0,0,0,531,0,0,0,0,0,0,0,0,0,0,0,0,0,0,0,0,0,0,0,0,344,0,0,0,0,539,0,0,0,0,0,713,0,0,0,0,0,0,0,0,0,0,0,0,0,0,210,311,0,0,0,0,0,0,0,1120,0,0,0,0,0,0,0,0,0,0,0,0,0,0,0,0,0,0,0,0,165,0,532,0,0,0,0,0,279,0,0,96,0,495,0,0,0,0,0,180,0,174,0,0,0,0,0,0,0,0,0,0,0,0,0,0,0,0,0,0,0,0,0,0,0,0,0,0,0,0,0,1127,139,0,202,0,0,645,0,0,0,0,0,0,0,0,0,0,0,0,123,0,0,0,0,0,0,0,0,0,0,0,0,0,0,0,551,0,0,219,0,0,0,0,0,606,0,0,0,0,0,0,0,0,0,0,0,147,612,0,0,0,0,0,0,0,0,0,0,0,0,0,0,480,0,0,0,0,0,0,182,0,0,0,0,0,132,0,336,0,0,0,468,0,0,0,0,0,0,0,0,0,287,0,35,0,0,0,499,0,0,0,0,0,0,0,0,0,0,0,180,0,180,0,0,723,0,0,0,0,0,0,0,0,0,0,0,0,0,119,0,0,0,0,182,0,0,0,0,0,0,0,0,0,40,0,551,117,0,0,0,0,0,0,0,0,0,0,0,0,0,0,0,0,0,0,0,0,0,0,0,0,0,0,239,0,0,0,0,0,0,0,0,0,0,0,0,0,0,0,0,0,0,0,80,0,0,0,0,0,0,0,0,472,0,0,0,0,64,0,0,0,0,1057,0,0,0,0,0,0,0,127,0,0,0,0,0,0,0,0,0,0,0,0,630,0,0,0,0,0,0,0,0,0,0,0,0,0,0,0,0,0,0,0,0,480,0,128,0,377,0,0,0,0,0,0,0,0,0,0,0,0,0,0,0,0,0,764,0,0,0,0,345,0,0,0,0,0,0,0,0,539,0,0,0,0,0,0,0,0,0,0,0,1085,0,435,0,0,0,0,0,0,0,0,0,0,0,0,0,0,0,0,0,0,0,0,0,0,0,0,0,0,0,0,0,0,0,823,0,0,500,0,0,0,0,0,0,0,0,0,0,0,0,0,290,0,0,324,0,0,0,0,0,0,0,0,0,634,411,0,0,0,841,1061,93,0,0,0,0,0,466,0,0,0,0,0,0,0,0,396,0,0,0,354,0,294,0,0,0,149,0,0,193,0,0,0,0,0,0,0,0,0,0,0,0,0,0,0,0,0,0,0,0,0,0,0,0,0,0,0,0,0,0,0,0,0,0,0,0,0,0,117,0,0,0,0,0,0,0,0,0,0,0,0,0,0,273,0,0,0,0,0,465,0,0,0,0,0,0,0,0,0,0,400,468,0,0,41,0,0,0,0,0,0,0,0,0,0,0,682,64,0,0,0,0,0,0,0,0,0,0,0,0,0,0,0,0,0,557,0,0,0,0,230,0,0,106,0,0,0,0,0,0,0,0,0,791,0,0,0,0,0,0,0,0,0,0,0,0,0,0,0,0,240,0,0,0,0,0,0,287,0,0,0,0,0,0,0,0,0,0,0,0,0,0,0,0,0,0,0,0,0,0,0,0,0,0,0,0,0,0,0,0,0,0,0,0,0,0,0,0,0,0,0,0,0,0,0,0,0,0,547,0,0,0,0,0,0,0,0,0,0,0,391,0,0,0,0,0,0,0,0,469,0,0,0,0,0,0,0,0,0,0,0,0,0,0,0,0,0,0,0,0,0,0,0,0,0,0,0,0,0,0,0,177,0,0,108,0,0,0,0,0,0,374,0,0,0,0,600,492,0,0,0,0,0,0,0,0,211,0,0,0,0,0,0,0,0,0,0,0,168,0,0,0,0,0,0,96,0,0,0,1031,0,0,0,0,0,438,0,0,0,0,0,0,0,0,0,0,0,0,375,0,0,0,0,0,0,0,0,0,144,0,0,0,81,0,0,0,0,0,0,0,0,0,0,0,0,906,0,0,0,0,0,0,0,0,608,0,0,0,0,0,0,276,0,0,0,0,661,0,0,0,0,0,0,0,0,0,0,0,0,0,0,0,0,0,0,0,0,0,0,0,0,0,68,0,0,0,0,0,0,0,0,0,0,0,0,0,0,0,0,0,0,0,0,173,0,972,105,0,0,0,0,0,0,420,0,0,0,0,0,0,0,0,469,546,0,0,0,0,0,0,0,0,334,0,352,0,0,0,0,0,0,0,0,0,0,0,0,0,0,0,0,0,0,0,872,0,0,0,0,0,374,0,0,0,0,0,0,0,0,0,0,0,0,0,0,110,0,0,0,0,0,627,0,0,0,0,0,0,0,0,0,0,163,0,1029,290],\"y0\":\" \",\"yaxis\":\"y\",\"type\":\"violin\",\"opacity\":0.8}],                        {\"template\":{\"data\":{\"histogram2dcontour\":[{\"type\":\"histogram2dcontour\",\"colorbar\":{\"outlinewidth\":0,\"ticks\":\"\"},\"colorscale\":[[0.0,\"#0d0887\"],[0.1111111111111111,\"#46039f\"],[0.2222222222222222,\"#7201a8\"],[0.3333333333333333,\"#9c179e\"],[0.4444444444444444,\"#bd3786\"],[0.5555555555555556,\"#d8576b\"],[0.6666666666666666,\"#ed7953\"],[0.7777777777777778,\"#fb9f3a\"],[0.8888888888888888,\"#fdca26\"],[1.0,\"#f0f921\"]]}],\"choropleth\":[{\"type\":\"choropleth\",\"colorbar\":{\"outlinewidth\":0,\"ticks\":\"\"}}],\"histogram2d\":[{\"type\":\"histogram2d\",\"colorbar\":{\"outlinewidth\":0,\"ticks\":\"\"},\"colorscale\":[[0.0,\"#0d0887\"],[0.1111111111111111,\"#46039f\"],[0.2222222222222222,\"#7201a8\"],[0.3333333333333333,\"#9c179e\"],[0.4444444444444444,\"#bd3786\"],[0.5555555555555556,\"#d8576b\"],[0.6666666666666666,\"#ed7953\"],[0.7777777777777778,\"#fb9f3a\"],[0.8888888888888888,\"#fdca26\"],[1.0,\"#f0f921\"]]}],\"heatmap\":[{\"type\":\"heatmap\",\"colorbar\":{\"outlinewidth\":0,\"ticks\":\"\"},\"colorscale\":[[0.0,\"#0d0887\"],[0.1111111111111111,\"#46039f\"],[0.2222222222222222,\"#7201a8\"],[0.3333333333333333,\"#9c179e\"],[0.4444444444444444,\"#bd3786\"],[0.5555555555555556,\"#d8576b\"],[0.6666666666666666,\"#ed7953\"],[0.7777777777777778,\"#fb9f3a\"],[0.8888888888888888,\"#fdca26\"],[1.0,\"#f0f921\"]]}],\"heatmapgl\":[{\"type\":\"heatmapgl\",\"colorbar\":{\"outlinewidth\":0,\"ticks\":\"\"},\"colorscale\":[[0.0,\"#0d0887\"],[0.1111111111111111,\"#46039f\"],[0.2222222222222222,\"#7201a8\"],[0.3333333333333333,\"#9c179e\"],[0.4444444444444444,\"#bd3786\"],[0.5555555555555556,\"#d8576b\"],[0.6666666666666666,\"#ed7953\"],[0.7777777777777778,\"#fb9f3a\"],[0.8888888888888888,\"#fdca26\"],[1.0,\"#f0f921\"]]}],\"contourcarpet\":[{\"type\":\"contourcarpet\",\"colorbar\":{\"outlinewidth\":0,\"ticks\":\"\"}}],\"contour\":[{\"type\":\"contour\",\"colorbar\":{\"outlinewidth\":0,\"ticks\":\"\"},\"colorscale\":[[0.0,\"#0d0887\"],[0.1111111111111111,\"#46039f\"],[0.2222222222222222,\"#7201a8\"],[0.3333333333333333,\"#9c179e\"],[0.4444444444444444,\"#bd3786\"],[0.5555555555555556,\"#d8576b\"],[0.6666666666666666,\"#ed7953\"],[0.7777777777777778,\"#fb9f3a\"],[0.8888888888888888,\"#fdca26\"],[1.0,\"#f0f921\"]]}],\"surface\":[{\"type\":\"surface\",\"colorbar\":{\"outlinewidth\":0,\"ticks\":\"\"},\"colorscale\":[[0.0,\"#0d0887\"],[0.1111111111111111,\"#46039f\"],[0.2222222222222222,\"#7201a8\"],[0.3333333333333333,\"#9c179e\"],[0.4444444444444444,\"#bd3786\"],[0.5555555555555556,\"#d8576b\"],[0.6666666666666666,\"#ed7953\"],[0.7777777777777778,\"#fb9f3a\"],[0.8888888888888888,\"#fdca26\"],[1.0,\"#f0f921\"]]}],\"mesh3d\":[{\"type\":\"mesh3d\",\"colorbar\":{\"outlinewidth\":0,\"ticks\":\"\"}}],\"scatter\":[{\"fillpattern\":{\"fillmode\":\"overlay\",\"size\":10,\"solidity\":0.2},\"type\":\"scatter\"}],\"parcoords\":[{\"type\":\"parcoords\",\"line\":{\"colorbar\":{\"outlinewidth\":0,\"ticks\":\"\"}}}],\"scatterpolargl\":[{\"type\":\"scatterpolargl\",\"marker\":{\"colorbar\":{\"outlinewidth\":0,\"ticks\":\"\"}}}],\"bar\":[{\"error_x\":{\"color\":\"#2a3f5f\"},\"error_y\":{\"color\":\"#2a3f5f\"},\"marker\":{\"line\":{\"color\":\"#E5ECF6\",\"width\":0.5},\"pattern\":{\"fillmode\":\"overlay\",\"size\":10,\"solidity\":0.2}},\"type\":\"bar\"}],\"scattergeo\":[{\"type\":\"scattergeo\",\"marker\":{\"colorbar\":{\"outlinewidth\":0,\"ticks\":\"\"}}}],\"scatterpolar\":[{\"type\":\"scatterpolar\",\"marker\":{\"colorbar\":{\"outlinewidth\":0,\"ticks\":\"\"}}}],\"histogram\":[{\"marker\":{\"pattern\":{\"fillmode\":\"overlay\",\"size\":10,\"solidity\":0.2}},\"type\":\"histogram\"}],\"scattergl\":[{\"type\":\"scattergl\",\"marker\":{\"colorbar\":{\"outlinewidth\":0,\"ticks\":\"\"}}}],\"scatter3d\":[{\"type\":\"scatter3d\",\"line\":{\"colorbar\":{\"outlinewidth\":0,\"ticks\":\"\"}},\"marker\":{\"colorbar\":{\"outlinewidth\":0,\"ticks\":\"\"}}}],\"scattermapbox\":[{\"type\":\"scattermapbox\",\"marker\":{\"colorbar\":{\"outlinewidth\":0,\"ticks\":\"\"}}}],\"scatterternary\":[{\"type\":\"scatterternary\",\"marker\":{\"colorbar\":{\"outlinewidth\":0,\"ticks\":\"\"}}}],\"scattercarpet\":[{\"type\":\"scattercarpet\",\"marker\":{\"colorbar\":{\"outlinewidth\":0,\"ticks\":\"\"}}}],\"carpet\":[{\"aaxis\":{\"endlinecolor\":\"#2a3f5f\",\"gridcolor\":\"white\",\"linecolor\":\"white\",\"minorgridcolor\":\"white\",\"startlinecolor\":\"#2a3f5f\"},\"baxis\":{\"endlinecolor\":\"#2a3f5f\",\"gridcolor\":\"white\",\"linecolor\":\"white\",\"minorgridcolor\":\"white\",\"startlinecolor\":\"#2a3f5f\"},\"type\":\"carpet\"}],\"table\":[{\"cells\":{\"fill\":{\"color\":\"#EBF0F8\"},\"line\":{\"color\":\"white\"}},\"header\":{\"fill\":{\"color\":\"#C8D4E3\"},\"line\":{\"color\":\"white\"}},\"type\":\"table\"}],\"barpolar\":[{\"marker\":{\"line\":{\"color\":\"#E5ECF6\",\"width\":0.5},\"pattern\":{\"fillmode\":\"overlay\",\"size\":10,\"solidity\":0.2}},\"type\":\"barpolar\"}],\"pie\":[{\"automargin\":true,\"type\":\"pie\"}]},\"layout\":{\"autotypenumbers\":\"strict\",\"colorway\":[\"#636efa\",\"#EF553B\",\"#00cc96\",\"#ab63fa\",\"#FFA15A\",\"#19d3f3\",\"#FF6692\",\"#B6E880\",\"#FF97FF\",\"#FECB52\"],\"font\":{\"color\":\"#2a3f5f\"},\"hovermode\":\"closest\",\"hoverlabel\":{\"align\":\"left\"},\"paper_bgcolor\":\"white\",\"plot_bgcolor\":\"#E5ECF6\",\"polar\":{\"bgcolor\":\"#E5ECF6\",\"angularaxis\":{\"gridcolor\":\"white\",\"linecolor\":\"white\",\"ticks\":\"\"},\"radialaxis\":{\"gridcolor\":\"white\",\"linecolor\":\"white\",\"ticks\":\"\"}},\"ternary\":{\"bgcolor\":\"#E5ECF6\",\"aaxis\":{\"gridcolor\":\"white\",\"linecolor\":\"white\",\"ticks\":\"\"},\"baxis\":{\"gridcolor\":\"white\",\"linecolor\":\"white\",\"ticks\":\"\"},\"caxis\":{\"gridcolor\":\"white\",\"linecolor\":\"white\",\"ticks\":\"\"}},\"coloraxis\":{\"colorbar\":{\"outlinewidth\":0,\"ticks\":\"\"}},\"colorscale\":{\"sequential\":[[0.0,\"#0d0887\"],[0.1111111111111111,\"#46039f\"],[0.2222222222222222,\"#7201a8\"],[0.3333333333333333,\"#9c179e\"],[0.4444444444444444,\"#bd3786\"],[0.5555555555555556,\"#d8576b\"],[0.6666666666666666,\"#ed7953\"],[0.7777777777777778,\"#fb9f3a\"],[0.8888888888888888,\"#fdca26\"],[1.0,\"#f0f921\"]],\"sequentialminus\":[[0.0,\"#0d0887\"],[0.1111111111111111,\"#46039f\"],[0.2222222222222222,\"#7201a8\"],[0.3333333333333333,\"#9c179e\"],[0.4444444444444444,\"#bd3786\"],[0.5555555555555556,\"#d8576b\"],[0.6666666666666666,\"#ed7953\"],[0.7777777777777778,\"#fb9f3a\"],[0.8888888888888888,\"#fdca26\"],[1.0,\"#f0f921\"]],\"diverging\":[[0,\"#8e0152\"],[0.1,\"#c51b7d\"],[0.2,\"#de77ae\"],[0.3,\"#f1b6da\"],[0.4,\"#fde0ef\"],[0.5,\"#f7f7f7\"],[0.6,\"#e6f5d0\"],[0.7,\"#b8e186\"],[0.8,\"#7fbc41\"],[0.9,\"#4d9221\"],[1,\"#276419\"]]},\"xaxis\":{\"gridcolor\":\"white\",\"linecolor\":\"white\",\"ticks\":\"\",\"title\":{\"standoff\":15},\"zerolinecolor\":\"white\",\"automargin\":true,\"zerolinewidth\":2},\"yaxis\":{\"gridcolor\":\"white\",\"linecolor\":\"white\",\"ticks\":\"\",\"title\":{\"standoff\":15},\"zerolinecolor\":\"white\",\"automargin\":true,\"zerolinewidth\":2},\"scene\":{\"xaxis\":{\"backgroundcolor\":\"#E5ECF6\",\"gridcolor\":\"white\",\"linecolor\":\"white\",\"showbackground\":true,\"ticks\":\"\",\"zerolinecolor\":\"white\",\"gridwidth\":2},\"yaxis\":{\"backgroundcolor\":\"#E5ECF6\",\"gridcolor\":\"white\",\"linecolor\":\"white\",\"showbackground\":true,\"ticks\":\"\",\"zerolinecolor\":\"white\",\"gridwidth\":2},\"zaxis\":{\"backgroundcolor\":\"#E5ECF6\",\"gridcolor\":\"white\",\"linecolor\":\"white\",\"showbackground\":true,\"ticks\":\"\",\"zerolinecolor\":\"white\",\"gridwidth\":2}},\"shapedefaults\":{\"line\":{\"color\":\"#2a3f5f\"}},\"annotationdefaults\":{\"arrowcolor\":\"#2a3f5f\",\"arrowhead\":0,\"arrowwidth\":1},\"geo\":{\"bgcolor\":\"white\",\"landcolor\":\"#E5ECF6\",\"subunitcolor\":\"white\",\"showland\":true,\"showlakes\":true,\"lakecolor\":\"white\"},\"title\":{\"x\":0.05},\"mapbox\":{\"style\":\"light\"}}},\"xaxis\":{\"anchor\":\"y\",\"domain\":[0.0,1.0],\"title\":{\"text\":\"BsmtFinSF2\"}},\"yaxis\":{\"anchor\":\"x\",\"domain\":[0.0,1.0],\"title\":{\"text\":\"\"},\"gridcolor\":\"#DCDCDC\",\"zerolinecolor\":\"#DCDCDC\"},\"legend\":{\"tracegroupgap\":0},\"margin\":{\"t\":60},\"violinmode\":\"group\",\"paper_bgcolor\":\"#F5F5F5\",\"plot_bgcolor\":\"#F5F5F5\"},                        {\"responsive\": true}                    ).then(function(){\n",
       "                            \n",
       "var gd = document.getElementById('b2764a4b-8306-4c82-a244-5549428db527');\n",
       "var x = new MutationObserver(function (mutations, observer) {{\n",
       "        var display = window.getComputedStyle(gd).display;\n",
       "        if (!display || display === 'none') {{\n",
       "            console.log([gd, 'removed!']);\n",
       "            Plotly.purge(gd);\n",
       "            observer.disconnect();\n",
       "        }}\n",
       "}});\n",
       "\n",
       "// Listen for the removal of the full notebook cells\n",
       "var notebookContainer = gd.closest('#notebook-container');\n",
       "if (notebookContainer) {{\n",
       "    x.observe(notebookContainer, {childList: true});\n",
       "}}\n",
       "\n",
       "// Listen for the clearing of the current output cell\n",
       "var outputEl = gd.closest('.output');\n",
       "if (outputEl) {{\n",
       "    x.observe(outputEl, {childList: true});\n",
       "}}\n",
       "\n",
       "                        })                };                });            </script>        </div>"
      ]
     },
     "metadata": {},
     "output_type": "display_data"
    },
    {
     "data": {
      "text/html": [
       "<div>                            <div id=\"19c8ad59-9fbf-489a-b883-d22a98fbcdc9\" class=\"plotly-graph-div\" style=\"height:525px; width:100%;\"></div>            <script type=\"text/javascript\">                require([\"plotly\"], function(Plotly) {                    window.PLOTLYENV=window.PLOTLYENV || {};                                    if (document.getElementById(\"19c8ad59-9fbf-489a-b883-d22a98fbcdc9\")) {                    Plotly.newPlot(                        \"19c8ad59-9fbf-489a-b883-d22a98fbcdc9\",                        [{\"alignmentgroup\":\"True\",\"box\":{\"visible\":true},\"hovertemplate\":\"BsmtUnfSF=%{y}<extra></extra>\",\"legendgroup\":\"\",\"marker\":{\"color\":\"#2C3E50\"},\"name\":\"BsmtUnfSF\",\"offsetgroup\":\"\",\"orientation\":\"v\",\"points\":\"outliers\",\"scalegroup\":\"True\",\"showlegend\":true,\"x0\":\" \",\"xaxis\":\"x\",\"y\":[150,284,434,540,490,64,317,216,952,140,134,177,175,1494,520,832,426,0,468,525,1158,637,1777,200,204,1566,180,486,207,520,649,1228,1234,380,408,1117,1097,84,326,0,445,383,0,167,465,1296,83,1632,736,192,612,816,0,32,0,935,321,860,1410,148,217,530,1346,576,318,1143,1035,440,747,701,343,280,832,404,840,0,724,295,1768,440,448,36,1530,1065,384,1288,684,612,1013,402,0,635,163,168,176,370,426,440,350,381,410,741,0,1226,816,1053,641,516,793,1139,550,134,280,905,104,310,252,1125,203,728,0,732,510,899,1362,30,958,556,148,413,479,297,658,262,891,1304,519,1907,336,107,432,434,403,811,396,970,506,884,400,896,253,310,409,93,1200,572,0,774,769,1335,572,556,340,882,779,112,470,294,840,1686,360,441,354,700,0,725,320,554,312,968,320,441,0,1362,504,1107,577,660,0,440,556,99,871,970,474,289,600,140,755,625,1121,276,0,186,408,1424,1140,375,92,305,396,1176,78,274,311,710,490,686,457,1232,1498,1010,163,160,2336,630,638,162,70,1357,1194,773,483,0,235,125,1390,594,1694,641,488,357,540,626,253,916,1020,1367,840,747,728,0,798,452,392,975,361,270,602,0,0,1482,0,0,680,606,88,342,212,392,1095,96,628,0,270,952,1560,744,2121,768,386,357,410,1468,1145,625,312,244,432,698,1079,570,476,0,131,184,490,326,143,1092,324,747,1541,0,1470,536,0,319,599,622,179,292,286,80,712,291,153,1088,360,336,1249,166,0,906,710,604,100,818,844,596,1424,210,1603,638,115,103,673,726,995,630,967,721,0,1656,175,972,460,208,191,438,1869,371,0,624,552,322,598,268,468,130,115,484,0,321,84,216,785,728,728,733,953,0,0,0,847,333,572,1580,411,982,808,1293,939,784,595,1232,658,410,1468,402,229,114,0,522,735,405,117,324,961,280,474,1286,672,1141,806,165,1064,840,1063,245,1276,0,892,1008,499,1316,463,242,444,281,35,356,988,484,580,651,0,619,544,387,96,901,294,926,135,70,648,884,75,684,788,1307,1078,1258,273,1436,557,930,780,318,813,878,130,768,122,326,624,248,588,524,288,0,0,389,424,1375,499,342,1626,406,0,808,88,626,298,340,484,2153,417,739,572,225,611,319,411,506,237,486,290,115,264,238,728,363,190,225,1969,697,414,522,316,466,420,254,103,960,397,1191,548,50,178,1368,169,748,768,570,689,1264,88,1276,0,467,605,878,660,1257,551,122,180,816,678,611,0,0,707,148,880,264,378,223,578,969,379,0,100,0,765,149,0,912,510,620,1709,0,132,993,197,0,125,1374,90,195,706,1163,367,806,1122,1515,55,0,1497,450,846,384,23,390,861,285,689,1050,331,2042,0,1237,884,408,0,168,113,742,280,384,0,163,924,392,684,1258,0,23,512,780,119,600,572,314,308,293,537,126,536,427,309,914,0,173,326,832,1774,611,823,384,420,336,485,1116,978,350,390,288,636,1530,564,108,0,1184,264,811,796,366,300,319,542,0,645,664,0,594,756,0,813,755,880,756,413,525,247,776,912,849,793,88,1392,38,356,1406,111,270,200,700,545,121,441,291,244,544,1095,768,2046,161,261,611,288,567,1195,180,874,312,474,1342,151,989,245,1073,927,92,0,219,224,1375,526,1164,1234,360,761,0,424,461,728,876,270,859,461,171,192,1064,718,92,138,448,594,186,673,941,464,250,72,508,1584,628,415,82,901,270,948,490,0,893,0,864,264,80,1349,76,604,487,652,1240,801,0,576,660,279,1030,115,348,846,234,195,1198,252,740,732,89,0,1498,586,323,1836,234,173,0,480,456,1935,338,1594,102,0,0,1237,374,1413,0,742,491,0,300,901,264,1129,490,255,1496,712,650,660,203,1926,162,154,999,80,1734,124,1417,100,15,380,849,0,186,540,834,686,1649,522,350,506,625,798,936,847,778,1489,442,0,1434,0,600,352,600,458,975,572,625,1221,153,1099,416,516,650,276,1800,876,0,227,404,907,528,189,1273,554,563,372,381,0,702,1090,435,912,198,702,0,1372,174,1638,108,0,300,894,299,105,457,676,1120,431,292,210,218,110,254,808,795,460,460,1098,816,1043,481,672,192,396,319,0,380,666,0,142,447,536,132,783,1670,277,412,1560,794,239,742,662,1072,279,717,318,546,430,75,422,245,114,188,1288,598,0,266,1181,280,1753,964,1450,121,1905,1480,160,600,343,772,927,1032,396,220,0,1632,354,0,102,316,936,179,317,187,108,29,0,495,276,640,638,92,162,434,248,1800,193,783,300,196,600,75,720,197,918,1428,728,32,440,135,342,470,77,371,1266,1128,0,124,485,284,692,770,322,700,169,750,528,363,135,1442,1007,501,0,691,1550,1680,1330,390,420,0,1710,1008,720,0,602,310,746,167,814,184,384,1346,108,515,588,1330,0,276,571,125,359,355,686,301,326,668,920,0,598,1055,546,121,284,336,406,390,1420,0,1752,304,0,0,1302,1316,374,833,133,549,705,378,168,0,722,894,662,706,184,105,799,0,105,625,462,429,810,155,1240,390,170,230,186,495,602,216,1459,698,99,189,212,1082,970,208,0,90,758,203,448,1290,684,1074,0,567,0,251,422,0,630,431,172,868,924,797,554,400,108,365,418,730,55,192,533,671,1012,1528,672,698,384,1005,1373,230,847,0,500,762,1008,544,916,960,752,780,0,270,100,399,316,718,324,1042,40,429,572,26,932,1290,230,278,410,280,586,410,1580,459,544,568,402,0,289,1502,1694,173,501,543,574,599,625,977,449,983,218,350,731,0,0,120,300,299,413,392,538,168,831,994,90,776,702,341,292,728,879,815,1212,504,864,866,884,1630,268,1496,0,1342,319,440,1055,132,328,0,141,340,0,364,0,672,0,210,844,1380,64,81,894,317,162,409,652,303,0,188,940,747,764,847,1141,1048,334,1689,0,690,792,585,756,473,416,246,1045,1405,354,36,746,459,672,864,201,14,841,546,1104,764,1139,241,925,2002,536,414,74,1489,0,300,661,708,130,1152,324,698,785,256,364,912,804,780,678,812,343,1085,138,399,994,638,697,36,344,0,466,0,284,224,425,1616,976,80,1368,244,172,78,496,349,971,1393,216,176,1622,1352,1753,372,628,0,76,140,1795,796,0,175,1017,935,1588,428,126,803,0,664,1656,693,216,504,858,300,1284,896,728,710,1203,1652,39,425,748,539,698,1217,257,570,524,344,378,533,612,256,715,616,600,281,240,36,163,315,420,161,133,1351,1026,1571,384,156,174,384,661,340,596,816,356,61,133,0,426,360,125,1584,95,482,286,1094,60,939,676,712,862,80,1286,556,672,221,112,208,622,791,278,736,0,868,833,398,777,503,247,734,304,709,162,697,193,1252,223,333,278,762,732,0,656,936,190,1319,248,596,312,114,588,151,252,952,1422,0,595,141,560,77,896,1573,0,1140,811,953,589,877,0,136],\"y0\":\" \",\"yaxis\":\"y\",\"type\":\"violin\",\"opacity\":0.8}],                        {\"template\":{\"data\":{\"histogram2dcontour\":[{\"type\":\"histogram2dcontour\",\"colorbar\":{\"outlinewidth\":0,\"ticks\":\"\"},\"colorscale\":[[0.0,\"#0d0887\"],[0.1111111111111111,\"#46039f\"],[0.2222222222222222,\"#7201a8\"],[0.3333333333333333,\"#9c179e\"],[0.4444444444444444,\"#bd3786\"],[0.5555555555555556,\"#d8576b\"],[0.6666666666666666,\"#ed7953\"],[0.7777777777777778,\"#fb9f3a\"],[0.8888888888888888,\"#fdca26\"],[1.0,\"#f0f921\"]]}],\"choropleth\":[{\"type\":\"choropleth\",\"colorbar\":{\"outlinewidth\":0,\"ticks\":\"\"}}],\"histogram2d\":[{\"type\":\"histogram2d\",\"colorbar\":{\"outlinewidth\":0,\"ticks\":\"\"},\"colorscale\":[[0.0,\"#0d0887\"],[0.1111111111111111,\"#46039f\"],[0.2222222222222222,\"#7201a8\"],[0.3333333333333333,\"#9c179e\"],[0.4444444444444444,\"#bd3786\"],[0.5555555555555556,\"#d8576b\"],[0.6666666666666666,\"#ed7953\"],[0.7777777777777778,\"#fb9f3a\"],[0.8888888888888888,\"#fdca26\"],[1.0,\"#f0f921\"]]}],\"heatmap\":[{\"type\":\"heatmap\",\"colorbar\":{\"outlinewidth\":0,\"ticks\":\"\"},\"colorscale\":[[0.0,\"#0d0887\"],[0.1111111111111111,\"#46039f\"],[0.2222222222222222,\"#7201a8\"],[0.3333333333333333,\"#9c179e\"],[0.4444444444444444,\"#bd3786\"],[0.5555555555555556,\"#d8576b\"],[0.6666666666666666,\"#ed7953\"],[0.7777777777777778,\"#fb9f3a\"],[0.8888888888888888,\"#fdca26\"],[1.0,\"#f0f921\"]]}],\"heatmapgl\":[{\"type\":\"heatmapgl\",\"colorbar\":{\"outlinewidth\":0,\"ticks\":\"\"},\"colorscale\":[[0.0,\"#0d0887\"],[0.1111111111111111,\"#46039f\"],[0.2222222222222222,\"#7201a8\"],[0.3333333333333333,\"#9c179e\"],[0.4444444444444444,\"#bd3786\"],[0.5555555555555556,\"#d8576b\"],[0.6666666666666666,\"#ed7953\"],[0.7777777777777778,\"#fb9f3a\"],[0.8888888888888888,\"#fdca26\"],[1.0,\"#f0f921\"]]}],\"contourcarpet\":[{\"type\":\"contourcarpet\",\"colorbar\":{\"outlinewidth\":0,\"ticks\":\"\"}}],\"contour\":[{\"type\":\"contour\",\"colorbar\":{\"outlinewidth\":0,\"ticks\":\"\"},\"colorscale\":[[0.0,\"#0d0887\"],[0.1111111111111111,\"#46039f\"],[0.2222222222222222,\"#7201a8\"],[0.3333333333333333,\"#9c179e\"],[0.4444444444444444,\"#bd3786\"],[0.5555555555555556,\"#d8576b\"],[0.6666666666666666,\"#ed7953\"],[0.7777777777777778,\"#fb9f3a\"],[0.8888888888888888,\"#fdca26\"],[1.0,\"#f0f921\"]]}],\"surface\":[{\"type\":\"surface\",\"colorbar\":{\"outlinewidth\":0,\"ticks\":\"\"},\"colorscale\":[[0.0,\"#0d0887\"],[0.1111111111111111,\"#46039f\"],[0.2222222222222222,\"#7201a8\"],[0.3333333333333333,\"#9c179e\"],[0.4444444444444444,\"#bd3786\"],[0.5555555555555556,\"#d8576b\"],[0.6666666666666666,\"#ed7953\"],[0.7777777777777778,\"#fb9f3a\"],[0.8888888888888888,\"#fdca26\"],[1.0,\"#f0f921\"]]}],\"mesh3d\":[{\"type\":\"mesh3d\",\"colorbar\":{\"outlinewidth\":0,\"ticks\":\"\"}}],\"scatter\":[{\"fillpattern\":{\"fillmode\":\"overlay\",\"size\":10,\"solidity\":0.2},\"type\":\"scatter\"}],\"parcoords\":[{\"type\":\"parcoords\",\"line\":{\"colorbar\":{\"outlinewidth\":0,\"ticks\":\"\"}}}],\"scatterpolargl\":[{\"type\":\"scatterpolargl\",\"marker\":{\"colorbar\":{\"outlinewidth\":0,\"ticks\":\"\"}}}],\"bar\":[{\"error_x\":{\"color\":\"#2a3f5f\"},\"error_y\":{\"color\":\"#2a3f5f\"},\"marker\":{\"line\":{\"color\":\"#E5ECF6\",\"width\":0.5},\"pattern\":{\"fillmode\":\"overlay\",\"size\":10,\"solidity\":0.2}},\"type\":\"bar\"}],\"scattergeo\":[{\"type\":\"scattergeo\",\"marker\":{\"colorbar\":{\"outlinewidth\":0,\"ticks\":\"\"}}}],\"scatterpolar\":[{\"type\":\"scatterpolar\",\"marker\":{\"colorbar\":{\"outlinewidth\":0,\"ticks\":\"\"}}}],\"histogram\":[{\"marker\":{\"pattern\":{\"fillmode\":\"overlay\",\"size\":10,\"solidity\":0.2}},\"type\":\"histogram\"}],\"scattergl\":[{\"type\":\"scattergl\",\"marker\":{\"colorbar\":{\"outlinewidth\":0,\"ticks\":\"\"}}}],\"scatter3d\":[{\"type\":\"scatter3d\",\"line\":{\"colorbar\":{\"outlinewidth\":0,\"ticks\":\"\"}},\"marker\":{\"colorbar\":{\"outlinewidth\":0,\"ticks\":\"\"}}}],\"scattermapbox\":[{\"type\":\"scattermapbox\",\"marker\":{\"colorbar\":{\"outlinewidth\":0,\"ticks\":\"\"}}}],\"scatterternary\":[{\"type\":\"scatterternary\",\"marker\":{\"colorbar\":{\"outlinewidth\":0,\"ticks\":\"\"}}}],\"scattercarpet\":[{\"type\":\"scattercarpet\",\"marker\":{\"colorbar\":{\"outlinewidth\":0,\"ticks\":\"\"}}}],\"carpet\":[{\"aaxis\":{\"endlinecolor\":\"#2a3f5f\",\"gridcolor\":\"white\",\"linecolor\":\"white\",\"minorgridcolor\":\"white\",\"startlinecolor\":\"#2a3f5f\"},\"baxis\":{\"endlinecolor\":\"#2a3f5f\",\"gridcolor\":\"white\",\"linecolor\":\"white\",\"minorgridcolor\":\"white\",\"startlinecolor\":\"#2a3f5f\"},\"type\":\"carpet\"}],\"table\":[{\"cells\":{\"fill\":{\"color\":\"#EBF0F8\"},\"line\":{\"color\":\"white\"}},\"header\":{\"fill\":{\"color\":\"#C8D4E3\"},\"line\":{\"color\":\"white\"}},\"type\":\"table\"}],\"barpolar\":[{\"marker\":{\"line\":{\"color\":\"#E5ECF6\",\"width\":0.5},\"pattern\":{\"fillmode\":\"overlay\",\"size\":10,\"solidity\":0.2}},\"type\":\"barpolar\"}],\"pie\":[{\"automargin\":true,\"type\":\"pie\"}]},\"layout\":{\"autotypenumbers\":\"strict\",\"colorway\":[\"#636efa\",\"#EF553B\",\"#00cc96\",\"#ab63fa\",\"#FFA15A\",\"#19d3f3\",\"#FF6692\",\"#B6E880\",\"#FF97FF\",\"#FECB52\"],\"font\":{\"color\":\"#2a3f5f\"},\"hovermode\":\"closest\",\"hoverlabel\":{\"align\":\"left\"},\"paper_bgcolor\":\"white\",\"plot_bgcolor\":\"#E5ECF6\",\"polar\":{\"bgcolor\":\"#E5ECF6\",\"angularaxis\":{\"gridcolor\":\"white\",\"linecolor\":\"white\",\"ticks\":\"\"},\"radialaxis\":{\"gridcolor\":\"white\",\"linecolor\":\"white\",\"ticks\":\"\"}},\"ternary\":{\"bgcolor\":\"#E5ECF6\",\"aaxis\":{\"gridcolor\":\"white\",\"linecolor\":\"white\",\"ticks\":\"\"},\"baxis\":{\"gridcolor\":\"white\",\"linecolor\":\"white\",\"ticks\":\"\"},\"caxis\":{\"gridcolor\":\"white\",\"linecolor\":\"white\",\"ticks\":\"\"}},\"coloraxis\":{\"colorbar\":{\"outlinewidth\":0,\"ticks\":\"\"}},\"colorscale\":{\"sequential\":[[0.0,\"#0d0887\"],[0.1111111111111111,\"#46039f\"],[0.2222222222222222,\"#7201a8\"],[0.3333333333333333,\"#9c179e\"],[0.4444444444444444,\"#bd3786\"],[0.5555555555555556,\"#d8576b\"],[0.6666666666666666,\"#ed7953\"],[0.7777777777777778,\"#fb9f3a\"],[0.8888888888888888,\"#fdca26\"],[1.0,\"#f0f921\"]],\"sequentialminus\":[[0.0,\"#0d0887\"],[0.1111111111111111,\"#46039f\"],[0.2222222222222222,\"#7201a8\"],[0.3333333333333333,\"#9c179e\"],[0.4444444444444444,\"#bd3786\"],[0.5555555555555556,\"#d8576b\"],[0.6666666666666666,\"#ed7953\"],[0.7777777777777778,\"#fb9f3a\"],[0.8888888888888888,\"#fdca26\"],[1.0,\"#f0f921\"]],\"diverging\":[[0,\"#8e0152\"],[0.1,\"#c51b7d\"],[0.2,\"#de77ae\"],[0.3,\"#f1b6da\"],[0.4,\"#fde0ef\"],[0.5,\"#f7f7f7\"],[0.6,\"#e6f5d0\"],[0.7,\"#b8e186\"],[0.8,\"#7fbc41\"],[0.9,\"#4d9221\"],[1,\"#276419\"]]},\"xaxis\":{\"gridcolor\":\"white\",\"linecolor\":\"white\",\"ticks\":\"\",\"title\":{\"standoff\":15},\"zerolinecolor\":\"white\",\"automargin\":true,\"zerolinewidth\":2},\"yaxis\":{\"gridcolor\":\"white\",\"linecolor\":\"white\",\"ticks\":\"\",\"title\":{\"standoff\":15},\"zerolinecolor\":\"white\",\"automargin\":true,\"zerolinewidth\":2},\"scene\":{\"xaxis\":{\"backgroundcolor\":\"#E5ECF6\",\"gridcolor\":\"white\",\"linecolor\":\"white\",\"showbackground\":true,\"ticks\":\"\",\"zerolinecolor\":\"white\",\"gridwidth\":2},\"yaxis\":{\"backgroundcolor\":\"#E5ECF6\",\"gridcolor\":\"white\",\"linecolor\":\"white\",\"showbackground\":true,\"ticks\":\"\",\"zerolinecolor\":\"white\",\"gridwidth\":2},\"zaxis\":{\"backgroundcolor\":\"#E5ECF6\",\"gridcolor\":\"white\",\"linecolor\":\"white\",\"showbackground\":true,\"ticks\":\"\",\"zerolinecolor\":\"white\",\"gridwidth\":2}},\"shapedefaults\":{\"line\":{\"color\":\"#2a3f5f\"}},\"annotationdefaults\":{\"arrowcolor\":\"#2a3f5f\",\"arrowhead\":0,\"arrowwidth\":1},\"geo\":{\"bgcolor\":\"white\",\"landcolor\":\"#E5ECF6\",\"subunitcolor\":\"white\",\"showland\":true,\"showlakes\":true,\"lakecolor\":\"white\"},\"title\":{\"x\":0.05},\"mapbox\":{\"style\":\"light\"}}},\"xaxis\":{\"anchor\":\"y\",\"domain\":[0.0,1.0],\"title\":{\"text\":\"BsmtUnfSF\"}},\"yaxis\":{\"anchor\":\"x\",\"domain\":[0.0,1.0],\"title\":{\"text\":\"\"},\"gridcolor\":\"#DCDCDC\",\"zerolinecolor\":\"#DCDCDC\"},\"legend\":{\"tracegroupgap\":0},\"margin\":{\"t\":60},\"violinmode\":\"group\",\"paper_bgcolor\":\"#F5F5F5\",\"plot_bgcolor\":\"#F5F5F5\"},                        {\"responsive\": true}                    ).then(function(){\n",
       "                            \n",
       "var gd = document.getElementById('19c8ad59-9fbf-489a-b883-d22a98fbcdc9');\n",
       "var x = new MutationObserver(function (mutations, observer) {{\n",
       "        var display = window.getComputedStyle(gd).display;\n",
       "        if (!display || display === 'none') {{\n",
       "            console.log([gd, 'removed!']);\n",
       "            Plotly.purge(gd);\n",
       "            observer.disconnect();\n",
       "        }}\n",
       "}});\n",
       "\n",
       "// Listen for the removal of the full notebook cells\n",
       "var notebookContainer = gd.closest('#notebook-container');\n",
       "if (notebookContainer) {{\n",
       "    x.observe(notebookContainer, {childList: true});\n",
       "}}\n",
       "\n",
       "// Listen for the clearing of the current output cell\n",
       "var outputEl = gd.closest('.output');\n",
       "if (outputEl) {{\n",
       "    x.observe(outputEl, {childList: true});\n",
       "}}\n",
       "\n",
       "                        })                };                });            </script>        </div>"
      ]
     },
     "metadata": {},
     "output_type": "display_data"
    },
    {
     "data": {
      "text/html": [
       "<div>                            <div id=\"914de7da-8eaa-4e10-b50d-fcdfaefc1e9d\" class=\"plotly-graph-div\" style=\"height:525px; width:100%;\"></div>            <script type=\"text/javascript\">                require([\"plotly\"], function(Plotly) {                    window.PLOTLYENV=window.PLOTLYENV || {};                                    if (document.getElementById(\"914de7da-8eaa-4e10-b50d-fcdfaefc1e9d\")) {                    Plotly.newPlot(                        \"914de7da-8eaa-4e10-b50d-fcdfaefc1e9d\",                        [{\"alignmentgroup\":\"True\",\"box\":{\"visible\":true},\"hovertemplate\":\"TotalBsmtSF=%{y}<extra></extra>\",\"legendgroup\":\"\",\"marker\":{\"color\":\"#2C3E50\"},\"name\":\"TotalBsmtSF\",\"offsetgroup\":\"\",\"orientation\":\"v\",\"points\":\"outliers\",\"scalegroup\":\"True\",\"showlegend\":true,\"x0\":\" \",\"xaxis\":\"x\",\"y\":[856,1262,920,756,1145,796,1686,1107,952,991,1040,1175,912,1494,1253,832,1004,0,1114,1029,1158,637,1777,1040,1060,1566,900,1704,1484,520,649,1228,1234,1398,1561,1117,1097,1297,1057,0,1088,1350,840,938,1150,1752,1434,1656,736,955,794,816,816,1842,384,1425,970,860,1410,780,1158,530,1370,576,1057,1143,1947,1453,747,1304,2223,845,832,1086,840,462,952,672,1768,440,896,1237,1563,1065,384,1288,684,612,1013,990,0,1235,876,1214,824,680,1588,960,458,950,1610,741,0,1226,1040,1053,641,789,793,1844,994,384,1264,1809,1028,729,1092,1125,1673,728,938,732,1080,1199,1362,520,1078,672,660,1008,924,992,1063,1267,1461,1304,1214,1907,1004,928,864,1734,910,1490,1728,970,715,884,1080,896,969,1710,825,1602,1200,572,0,774,991,1392,1232,1572,1541,882,1149,644,1617,1582,840,1686,720,1080,1064,1362,1606,1202,1151,1052,2216,968,756,793,0,1362,504,1107,1188,660,1086,1593,853,725,1431,970,864,855,1726,1360,755,1713,1121,1196,617,848,720,1424,1140,1100,1157,1092,864,1212,900,990,689,1070,1436,686,798,1248,1498,1010,713,864,2392,630,1203,483,912,1373,1194,1462,483,894,860,483,1414,996,1694,735,1566,686,540,626,948,1845,1020,1367,840,1444,728,1573,798,1302,1314,975,864,1604,963,0,1362,1482,506,926,680,1422,802,720,740,1143,1095,1385,1152,1240,816,952,1560,864,2121,1160,807,1262,1314,1468,1575,625,912,858,882,698,1079,780,768,795,1416,1003,910,975,702,1092,1165,1028,1541,894,1470,2000,700,319,861,1896,697,972,793,2136,728,716,845,1088,1347,1372,1249,1136,1502,1162,710,720,1719,1383,844,596,1728,1056,3206,1358,943,1499,1922,1536,1208,1215,967,721,0,1684,536,972,958,1478,764,1848,1869,1453,616,624,940,1200,1158,1142,1062,1086,888,883,0,483,796,672,1394,1099,1268,1063,953,0,744,608,847,683,870,1580,1856,982,1026,1293,939,784,1580,1256,658,1041,1468,1682,861,804,0,788,735,1144,894,864,961,1092,1260,1310,672,1141,806,1281,1064,840,1063,1034,1276,1056,1470,1008,1080,1340,672,1370,756,1056,1344,1602,988,1470,1196,651,1518,907,1208,1392,483,901,765,926,630,799,648,884,440,684,3094,1440,1078,1258,915,1436,1517,930,780,649,813,1533,872,768,1728,1242,624,1364,588,709,832,560,864,715,1040,1375,1277,728,1626,832,1488,808,547,1976,1494,970,1478,2153,1705,907,1833,1792,910,1216,999,1113,1073,1484,954,630,264,806,728,1269,190,720,3200,1026,864,912,672,866,1214,1501,855,960,777,1218,689,1041,1008,1368,864,1084,768,2006,689,1264,794,1276,0,1244,1004,3138,1379,1257,928,1452,528,2035,1461,611,0,0,707,1117,880,864,1051,1581,1838,969,1650,723,654,1204,1065,768,825,912,1069,928,1709,0,998,993,1092,637,729,1374,1392,1389,996,1163,1095,806,1122,1517,1496,943,1728,864,846,384,372,832,861,1164,689,1050,1144,2042,816,1237,884,1868,816,840,1437,742,770,1722,816,848,924,1814,684,1258,1430,716,1058,780,908,600,1494,768,1040,896,965,1029,1440,1032,1299,1120,630,936,783,832,1822,1482,864,1522,980,756,732,1116,978,1156,1040,1248,636,1554,1386,1056,1056,1440,264,811,796,1520,1518,1057,1952,780,1766,981,0,1094,756,630,813,755,880,756,2109,525,1053,776,912,1486,793,1629,1392,1138,2077,1406,1021,1408,1188,700,738,672,1208,1477,1136,855,1095,768,2046,988,923,793,1291,1626,1195,1190,874,551,1419,1362,848,2444,1210,1073,927,1112,616,980,894,1391,1800,1164,1234,360,1473,0,1643,1324,728,876,270,859,1228,960,725,1064,718,1176,1311,971,1742,848,864,941,1698,864,880,1232,1584,780,1595,868,1153,864,948,880,0,893,1200,864,264,912,1349,520,1337,1142,952,1240,1720,0,576,660,1479,1030,1026,729,866,672,744,1318,864,1145,756,1252,1494,1498,980,983,1860,1650,858,836,1029,912,1935,1204,1614,864,0,975,1237,761,1413,1097,742,1372,686,956,901,832,1145,1029,1117,1496,712,650,660,773,1926,731,616,1196,728,1734,936,1417,980,1324,1024,849,1040,848,540,1442,686,1649,1008,1568,1010,1358,798,936,847,778,1489,2078,784,1454,1013,600,1392,600,941,1516,1144,1067,1559,483,1099,768,672,650,1127,1800,876,1390,740,864,907,528,848,1273,918,1127,1763,1040,940,702,1090,1054,912,1039,1040,1148,1372,1002,1638,1040,0,1050,894,804,105,832,676,1184,1064,1462,1109,864,1090,1156,808,795,892,1698,1626,816,2217,1505,672,918,1059,1383,0,780,951,0,2330,912,858,992,783,1670,876,1056,1623,1017,864,742,1105,1268,768,1001,612,546,480,1134,1104,1184,928,1272,1316,1604,1686,1126,1181,832,1753,964,1466,925,1905,1500,585,600,1176,1113,1391,1032,1728,992,1440,1632,819,1088,1144,1616,936,1161,864,828,768,784,945,979,561,1057,1337,696,858,1330,804,1800,817,783,728,1098,600,588,720,764,918,1428,728,673,440,1241,894,1121,944,1225,1266,1128,0,1164,485,1930,848,770,1396,916,822,750,1700,747,1050,1442,1007,1187,0,691,1574,1680,1346,985,1657,546,1710,1008,720,0,602,1022,1082,810,1504,1220,384,1362,1132,1199,912,1346,1565,882,1268,1638,768,672,686,824,1338,1654,920,0,1620,1055,546,630,1134,800,1306,1475,2524,0,1992,990,0,0,1302,1316,816,1216,1065,1193,1364,973,1104,854,1338,894,662,1103,1154,1306,799,780,942,845,1048,727,810,690,1240,800,796,1096,848,990,1258,1040,1459,1251,691,936,546,1082,970,1247,0,600,1181,864,936,1314,684,1074,672,1271,290,950,1010,655,630,1463,910,868,924,1836,773,803,816,1008,833,1734,408,894,533,1040,1012,1552,672,698,384,1005,1373,1530,847,936,1122,974,1008,1128,916,960,1032,780,1567,915,952,780,1466,1006,672,1042,1298,704,572,650,932,1466,1073,816,864,1437,1219,1314,1580,901,855,1296,894,1198,1360,1502,1694,959,1127,1930,1096,1261,625,1598,952,1683,876,818,731,0,1216,1600,2396,1120,1572,784,978,1624,831,994,1249,776,702,1224,663,728,879,815,1212,1051,864,866,884,1630,1056,2158,1056,1682,931,1660,1055,559,672,648,925,894,0,1300,0,672,912,952,1040,2136,788,588,894,912,1702,1075,1361,1106,0,1188,940,747,764,847,1141,1476,884,1689,1053,2076,792,585,756,1012,735,876,2110,1405,864,1192,746,884,1986,864,856,1054,841,1050,1104,764,1405,691,925,2002,728,874,1332,1489,935,1019,661,928,723,1680,1128,698,1573,1309,1040,912,804,780,1328,1624,1501,1085,1152,630,994,832,864,1052,1120,547,6110,1246,978,771,1165,1616,976,1652,1368,990,924,1278,1902,1274,1453,1393,948,952,1622,1352,1753,864,1478,0,750,420,1795,796,544,816,1510,935,1588,911,816,803,765,1350,1656,693,916,864,858,1114,1284,896,728,960,1568,1732,1482,684,1248,858,698,2033,992,570,864,1078,756,1980,612,1530,715,616,600,814,873,757,848,1657,840,992,1108,2633,1026,1571,768,984,483,384,864,1205,596,816,560,796,1392,714,1746,735,1525,1584,864,482,1356,1094,747,939,1208,976,862,839,1286,1485,672,1594,768,833,622,791,944,856,0,1844,833,1386,777,1284,1144,1844,708,1069,848,697,1024,1252,1223,913,788,1440,732,958,656,936,1126,1319,864,1932,912,539,588,848,1017,952,1422,814,1188,1220,560,630,896,1573,547,1140,1221,953,1542,1152,1078,1256],\"y0\":\" \",\"yaxis\":\"y\",\"type\":\"violin\",\"opacity\":0.8}],                        {\"template\":{\"data\":{\"histogram2dcontour\":[{\"type\":\"histogram2dcontour\",\"colorbar\":{\"outlinewidth\":0,\"ticks\":\"\"},\"colorscale\":[[0.0,\"#0d0887\"],[0.1111111111111111,\"#46039f\"],[0.2222222222222222,\"#7201a8\"],[0.3333333333333333,\"#9c179e\"],[0.4444444444444444,\"#bd3786\"],[0.5555555555555556,\"#d8576b\"],[0.6666666666666666,\"#ed7953\"],[0.7777777777777778,\"#fb9f3a\"],[0.8888888888888888,\"#fdca26\"],[1.0,\"#f0f921\"]]}],\"choropleth\":[{\"type\":\"choropleth\",\"colorbar\":{\"outlinewidth\":0,\"ticks\":\"\"}}],\"histogram2d\":[{\"type\":\"histogram2d\",\"colorbar\":{\"outlinewidth\":0,\"ticks\":\"\"},\"colorscale\":[[0.0,\"#0d0887\"],[0.1111111111111111,\"#46039f\"],[0.2222222222222222,\"#7201a8\"],[0.3333333333333333,\"#9c179e\"],[0.4444444444444444,\"#bd3786\"],[0.5555555555555556,\"#d8576b\"],[0.6666666666666666,\"#ed7953\"],[0.7777777777777778,\"#fb9f3a\"],[0.8888888888888888,\"#fdca26\"],[1.0,\"#f0f921\"]]}],\"heatmap\":[{\"type\":\"heatmap\",\"colorbar\":{\"outlinewidth\":0,\"ticks\":\"\"},\"colorscale\":[[0.0,\"#0d0887\"],[0.1111111111111111,\"#46039f\"],[0.2222222222222222,\"#7201a8\"],[0.3333333333333333,\"#9c179e\"],[0.4444444444444444,\"#bd3786\"],[0.5555555555555556,\"#d8576b\"],[0.6666666666666666,\"#ed7953\"],[0.7777777777777778,\"#fb9f3a\"],[0.8888888888888888,\"#fdca26\"],[1.0,\"#f0f921\"]]}],\"heatmapgl\":[{\"type\":\"heatmapgl\",\"colorbar\":{\"outlinewidth\":0,\"ticks\":\"\"},\"colorscale\":[[0.0,\"#0d0887\"],[0.1111111111111111,\"#46039f\"],[0.2222222222222222,\"#7201a8\"],[0.3333333333333333,\"#9c179e\"],[0.4444444444444444,\"#bd3786\"],[0.5555555555555556,\"#d8576b\"],[0.6666666666666666,\"#ed7953\"],[0.7777777777777778,\"#fb9f3a\"],[0.8888888888888888,\"#fdca26\"],[1.0,\"#f0f921\"]]}],\"contourcarpet\":[{\"type\":\"contourcarpet\",\"colorbar\":{\"outlinewidth\":0,\"ticks\":\"\"}}],\"contour\":[{\"type\":\"contour\",\"colorbar\":{\"outlinewidth\":0,\"ticks\":\"\"},\"colorscale\":[[0.0,\"#0d0887\"],[0.1111111111111111,\"#46039f\"],[0.2222222222222222,\"#7201a8\"],[0.3333333333333333,\"#9c179e\"],[0.4444444444444444,\"#bd3786\"],[0.5555555555555556,\"#d8576b\"],[0.6666666666666666,\"#ed7953\"],[0.7777777777777778,\"#fb9f3a\"],[0.8888888888888888,\"#fdca26\"],[1.0,\"#f0f921\"]]}],\"surface\":[{\"type\":\"surface\",\"colorbar\":{\"outlinewidth\":0,\"ticks\":\"\"},\"colorscale\":[[0.0,\"#0d0887\"],[0.1111111111111111,\"#46039f\"],[0.2222222222222222,\"#7201a8\"],[0.3333333333333333,\"#9c179e\"],[0.4444444444444444,\"#bd3786\"],[0.5555555555555556,\"#d8576b\"],[0.6666666666666666,\"#ed7953\"],[0.7777777777777778,\"#fb9f3a\"],[0.8888888888888888,\"#fdca26\"],[1.0,\"#f0f921\"]]}],\"mesh3d\":[{\"type\":\"mesh3d\",\"colorbar\":{\"outlinewidth\":0,\"ticks\":\"\"}}],\"scatter\":[{\"fillpattern\":{\"fillmode\":\"overlay\",\"size\":10,\"solidity\":0.2},\"type\":\"scatter\"}],\"parcoords\":[{\"type\":\"parcoords\",\"line\":{\"colorbar\":{\"outlinewidth\":0,\"ticks\":\"\"}}}],\"scatterpolargl\":[{\"type\":\"scatterpolargl\",\"marker\":{\"colorbar\":{\"outlinewidth\":0,\"ticks\":\"\"}}}],\"bar\":[{\"error_x\":{\"color\":\"#2a3f5f\"},\"error_y\":{\"color\":\"#2a3f5f\"},\"marker\":{\"line\":{\"color\":\"#E5ECF6\",\"width\":0.5},\"pattern\":{\"fillmode\":\"overlay\",\"size\":10,\"solidity\":0.2}},\"type\":\"bar\"}],\"scattergeo\":[{\"type\":\"scattergeo\",\"marker\":{\"colorbar\":{\"outlinewidth\":0,\"ticks\":\"\"}}}],\"scatterpolar\":[{\"type\":\"scatterpolar\",\"marker\":{\"colorbar\":{\"outlinewidth\":0,\"ticks\":\"\"}}}],\"histogram\":[{\"marker\":{\"pattern\":{\"fillmode\":\"overlay\",\"size\":10,\"solidity\":0.2}},\"type\":\"histogram\"}],\"scattergl\":[{\"type\":\"scattergl\",\"marker\":{\"colorbar\":{\"outlinewidth\":0,\"ticks\":\"\"}}}],\"scatter3d\":[{\"type\":\"scatter3d\",\"line\":{\"colorbar\":{\"outlinewidth\":0,\"ticks\":\"\"}},\"marker\":{\"colorbar\":{\"outlinewidth\":0,\"ticks\":\"\"}}}],\"scattermapbox\":[{\"type\":\"scattermapbox\",\"marker\":{\"colorbar\":{\"outlinewidth\":0,\"ticks\":\"\"}}}],\"scatterternary\":[{\"type\":\"scatterternary\",\"marker\":{\"colorbar\":{\"outlinewidth\":0,\"ticks\":\"\"}}}],\"scattercarpet\":[{\"type\":\"scattercarpet\",\"marker\":{\"colorbar\":{\"outlinewidth\":0,\"ticks\":\"\"}}}],\"carpet\":[{\"aaxis\":{\"endlinecolor\":\"#2a3f5f\",\"gridcolor\":\"white\",\"linecolor\":\"white\",\"minorgridcolor\":\"white\",\"startlinecolor\":\"#2a3f5f\"},\"baxis\":{\"endlinecolor\":\"#2a3f5f\",\"gridcolor\":\"white\",\"linecolor\":\"white\",\"minorgridcolor\":\"white\",\"startlinecolor\":\"#2a3f5f\"},\"type\":\"carpet\"}],\"table\":[{\"cells\":{\"fill\":{\"color\":\"#EBF0F8\"},\"line\":{\"color\":\"white\"}},\"header\":{\"fill\":{\"color\":\"#C8D4E3\"},\"line\":{\"color\":\"white\"}},\"type\":\"table\"}],\"barpolar\":[{\"marker\":{\"line\":{\"color\":\"#E5ECF6\",\"width\":0.5},\"pattern\":{\"fillmode\":\"overlay\",\"size\":10,\"solidity\":0.2}},\"type\":\"barpolar\"}],\"pie\":[{\"automargin\":true,\"type\":\"pie\"}]},\"layout\":{\"autotypenumbers\":\"strict\",\"colorway\":[\"#636efa\",\"#EF553B\",\"#00cc96\",\"#ab63fa\",\"#FFA15A\",\"#19d3f3\",\"#FF6692\",\"#B6E880\",\"#FF97FF\",\"#FECB52\"],\"font\":{\"color\":\"#2a3f5f\"},\"hovermode\":\"closest\",\"hoverlabel\":{\"align\":\"left\"},\"paper_bgcolor\":\"white\",\"plot_bgcolor\":\"#E5ECF6\",\"polar\":{\"bgcolor\":\"#E5ECF6\",\"angularaxis\":{\"gridcolor\":\"white\",\"linecolor\":\"white\",\"ticks\":\"\"},\"radialaxis\":{\"gridcolor\":\"white\",\"linecolor\":\"white\",\"ticks\":\"\"}},\"ternary\":{\"bgcolor\":\"#E5ECF6\",\"aaxis\":{\"gridcolor\":\"white\",\"linecolor\":\"white\",\"ticks\":\"\"},\"baxis\":{\"gridcolor\":\"white\",\"linecolor\":\"white\",\"ticks\":\"\"},\"caxis\":{\"gridcolor\":\"white\",\"linecolor\":\"white\",\"ticks\":\"\"}},\"coloraxis\":{\"colorbar\":{\"outlinewidth\":0,\"ticks\":\"\"}},\"colorscale\":{\"sequential\":[[0.0,\"#0d0887\"],[0.1111111111111111,\"#46039f\"],[0.2222222222222222,\"#7201a8\"],[0.3333333333333333,\"#9c179e\"],[0.4444444444444444,\"#bd3786\"],[0.5555555555555556,\"#d8576b\"],[0.6666666666666666,\"#ed7953\"],[0.7777777777777778,\"#fb9f3a\"],[0.8888888888888888,\"#fdca26\"],[1.0,\"#f0f921\"]],\"sequentialminus\":[[0.0,\"#0d0887\"],[0.1111111111111111,\"#46039f\"],[0.2222222222222222,\"#7201a8\"],[0.3333333333333333,\"#9c179e\"],[0.4444444444444444,\"#bd3786\"],[0.5555555555555556,\"#d8576b\"],[0.6666666666666666,\"#ed7953\"],[0.7777777777777778,\"#fb9f3a\"],[0.8888888888888888,\"#fdca26\"],[1.0,\"#f0f921\"]],\"diverging\":[[0,\"#8e0152\"],[0.1,\"#c51b7d\"],[0.2,\"#de77ae\"],[0.3,\"#f1b6da\"],[0.4,\"#fde0ef\"],[0.5,\"#f7f7f7\"],[0.6,\"#e6f5d0\"],[0.7,\"#b8e186\"],[0.8,\"#7fbc41\"],[0.9,\"#4d9221\"],[1,\"#276419\"]]},\"xaxis\":{\"gridcolor\":\"white\",\"linecolor\":\"white\",\"ticks\":\"\",\"title\":{\"standoff\":15},\"zerolinecolor\":\"white\",\"automargin\":true,\"zerolinewidth\":2},\"yaxis\":{\"gridcolor\":\"white\",\"linecolor\":\"white\",\"ticks\":\"\",\"title\":{\"standoff\":15},\"zerolinecolor\":\"white\",\"automargin\":true,\"zerolinewidth\":2},\"scene\":{\"xaxis\":{\"backgroundcolor\":\"#E5ECF6\",\"gridcolor\":\"white\",\"linecolor\":\"white\",\"showbackground\":true,\"ticks\":\"\",\"zerolinecolor\":\"white\",\"gridwidth\":2},\"yaxis\":{\"backgroundcolor\":\"#E5ECF6\",\"gridcolor\":\"white\",\"linecolor\":\"white\",\"showbackground\":true,\"ticks\":\"\",\"zerolinecolor\":\"white\",\"gridwidth\":2},\"zaxis\":{\"backgroundcolor\":\"#E5ECF6\",\"gridcolor\":\"white\",\"linecolor\":\"white\",\"showbackground\":true,\"ticks\":\"\",\"zerolinecolor\":\"white\",\"gridwidth\":2}},\"shapedefaults\":{\"line\":{\"color\":\"#2a3f5f\"}},\"annotationdefaults\":{\"arrowcolor\":\"#2a3f5f\",\"arrowhead\":0,\"arrowwidth\":1},\"geo\":{\"bgcolor\":\"white\",\"landcolor\":\"#E5ECF6\",\"subunitcolor\":\"white\",\"showland\":true,\"showlakes\":true,\"lakecolor\":\"white\"},\"title\":{\"x\":0.05},\"mapbox\":{\"style\":\"light\"}}},\"xaxis\":{\"anchor\":\"y\",\"domain\":[0.0,1.0],\"title\":{\"text\":\"TotalBsmtSF\"}},\"yaxis\":{\"anchor\":\"x\",\"domain\":[0.0,1.0],\"title\":{\"text\":\"\"},\"gridcolor\":\"#DCDCDC\",\"zerolinecolor\":\"#DCDCDC\"},\"legend\":{\"tracegroupgap\":0},\"margin\":{\"t\":60},\"violinmode\":\"group\",\"paper_bgcolor\":\"#F5F5F5\",\"plot_bgcolor\":\"#F5F5F5\"},                        {\"responsive\": true}                    ).then(function(){\n",
       "                            \n",
       "var gd = document.getElementById('914de7da-8eaa-4e10-b50d-fcdfaefc1e9d');\n",
       "var x = new MutationObserver(function (mutations, observer) {{\n",
       "        var display = window.getComputedStyle(gd).display;\n",
       "        if (!display || display === 'none') {{\n",
       "            console.log([gd, 'removed!']);\n",
       "            Plotly.purge(gd);\n",
       "            observer.disconnect();\n",
       "        }}\n",
       "}});\n",
       "\n",
       "// Listen for the removal of the full notebook cells\n",
       "var notebookContainer = gd.closest('#notebook-container');\n",
       "if (notebookContainer) {{\n",
       "    x.observe(notebookContainer, {childList: true});\n",
       "}}\n",
       "\n",
       "// Listen for the clearing of the current output cell\n",
       "var outputEl = gd.closest('.output');\n",
       "if (outputEl) {{\n",
       "    x.observe(outputEl, {childList: true});\n",
       "}}\n",
       "\n",
       "                        })                };                });            </script>        </div>"
      ]
     },
     "metadata": {},
     "output_type": "display_data"
    },
    {
     "data": {
      "text/html": [
       "<div>                            <div id=\"8bd83b59-388b-459b-b358-3208e0c3b932\" class=\"plotly-graph-div\" style=\"height:525px; width:100%;\"></div>            <script type=\"text/javascript\">                require([\"plotly\"], function(Plotly) {                    window.PLOTLYENV=window.PLOTLYENV || {};                                    if (document.getElementById(\"8bd83b59-388b-459b-b358-3208e0c3b932\")) {                    Plotly.newPlot(                        \"8bd83b59-388b-459b-b358-3208e0c3b932\",                        [{\"alignmentgroup\":\"True\",\"box\":{\"visible\":true},\"hovertemplate\":\"1stFlrSF=%{y}<extra></extra>\",\"legendgroup\":\"\",\"marker\":{\"color\":\"#2C3E50\"},\"name\":\"1stFlrSF\",\"offsetgroup\":\"\",\"orientation\":\"v\",\"points\":\"outliers\",\"scalegroup\":\"True\",\"showlegend\":true,\"x0\":\" \",\"xaxis\":\"x\",\"y\":[856,1262,920,961,1145,796,1694,1107,1022,1077,1040,1182,912,1494,1253,854,1004,1296,1114,1339,1158,1108,1795,1060,1060,1600,900,1704,1600,520,649,1228,1234,1700,1561,1132,1097,1297,1057,1152,1324,1328,884,938,1150,1752,1518,1656,736,955,794,816,816,1842,1360,1425,983,860,1426,780,1158,581,1370,902,1057,1143,2207,1479,747,1304,2223,845,885,1086,840,526,952,1072,1768,682,1182,1337,1563,1065,804,1301,684,612,1013,990,1040,1235,964,1260,905,680,1588,960,835,1225,1610,977,1535,1226,1226,1053,1047,789,997,1844,1216,774,1282,2259,1436,729,1092,1125,1699,728,988,772,1080,1199,1586,520,958,840,660,1053,1216,1022,1327,1296,1721,1682,1214,1959,1004,928,864,1734,910,1501,1728,970,875,884,1080,896,969,1710,1097,1252,1200,572,1040,774,991,1392,1232,1572,1541,882,1149,808,1867,1610,840,1707,854,1656,1064,1362,1651,2158,1164,1252,2234,968,769,901,1340,1362,936,1518,1217,808,1224,1593,1549,725,1431,970,864,855,1726,1360,929,1713,1121,1279,865,848,720,1442,1696,1100,1180,1092,864,1212,932,990,689,1236,1436,810,1137,1248,1498,1010,811,864,2392,630,1214,483,912,1555,1194,1490,483,894,860,483,1414,1014,1694,798,1566,866,889,626,1222,1872,908,1375,840,1444,1306,1625,798,1302,1314,1005,864,1604,963,882,1382,1482,1212,926,764,1422,802,1052,778,1113,1095,1363,1164,1632,816,952,1560,864,2121,1156,1175,1262,1314,1468,1575,625,1085,858,900,698,1079,936,1148,1468,1644,1003,910,975,1041,1152,1336,1210,1541,894,1675,2000,1122,1035,861,1944,697,972,793,2036,832,716,1153,1088,1372,1472,1249,1136,1553,1163,1898,803,1719,1383,1445,596,1728,1056,1629,1358,943,1619,1922,1536,1621,1215,993,841,1040,1684,536,972,958,1478,764,1848,1869,1453,616,720,1192,1200,1167,1142,1352,1086,912,988,495,483,790,672,1394,1431,1268,1287,953,1120,752,1319,847,904,914,1580,1856,1007,1026,1301,939,784,1079,1269,658,1125,1479,1742,961,804,882,788,735,1144,894,876,1077,1112,1288,1310,672,1165,806,1620,1166,840,1071,1050,1276,1056,1478,1028,1080,1340,672,1370,756,1056,1344,1602,988,1470,1196,707,1644,907,1208,1412,483,1088,765,926,630,827,734,904,694,684,2402,1440,1128,1258,933,1689,1888,956,780,679,813,1533,888,786,1728,1242,624,1663,833,979,832,575,864,849,1040,1414,1277,888,1634,832,1502,1161,1072,1976,1652,970,1493,2069,1718,1131,1850,1792,916,1216,999,1113,1073,1484,1766,630,616,958,728,1269,886,720,3228,1133,899,912,672,866,1214,1801,855,960,1065,1218,689,1041,1363,1368,864,1080,789,2020,1378,1277,882,1276,694,1244,1004,3138,1383,1266,928,1476,605,2515,1509,751,827,334,707,820,880,864,1159,1601,1838,997,1680,767,664,1377,915,768,825,912,1069,928,1717,1126,1006,1048,1092,897,729,1557,1392,1389,996,1163,1166,841,1134,1535,1496,943,1728,864,846,774,576,832,877,1320,703,1050,1429,2042,816,1521,989,2028,838,860,1473,779,770,1728,816,848,924,1826,684,1402,1647,716,1058,780,927,600,1494,1186,1040,1112,1940,1029,1476,1032,1299,1120,630,1054,807,832,1828,1482,864,1548,980,756,1012,1116,1422,1520,1040,1350,1089,1554,1411,1056,1056,1440,800,811,796,1567,1518,1057,2000,780,1766,981,1048,1094,1051,630,822,755,909,756,2113,525,1053,851,912,1486,1142,1686,1392,1181,2097,1454,1465,1679,1437,1180,738,697,1208,1839,1136,855,1095,792,2046,988,923,848,1291,1668,1195,1190,874,551,1419,1362,848,2444,1238,1073,1067,1137,616,1148,894,1391,1800,1164,1264,1032,1484,372,1824,1324,728,904,729,859,1228,960,725,1350,1576,1178,1325,971,1742,848,864,997,1698,864,1680,1232,1776,848,1616,1146,1153,1144,948,880,1040,901,1200,864,768,912,1349,1464,1337,1175,980,1320,1720,1088,792,660,1494,1038,1026,742,866,672,757,1328,864,1301,764,1268,1494,1506,980,983,1836,1690,858,1220,1117,912,1973,1204,1614,894,2020,1004,1253,810,1430,1110,742,1342,966,956,901,976,1145,1062,1127,1496,1086,888,1285,773,1966,981,616,1196,728,1734,1128,1428,980,1072,1086,1075,1309,848,1044,1442,686,1661,1008,1689,1052,1358,798,936,847,944,1489,2084,784,1434,1160,520,1392,520,941,1516,1144,1067,1559,483,1099,768,810,958,1165,1800,876,1701,1006,864,1307,1094,848,1456,918,1445,1779,1040,1026,702,1370,1512,912,1039,1097,1148,1372,1002,1646,1120,1547,1062,894,804,910,1036,676,1184,1040,1462,1155,864,1090,1187,808,954,892,1709,1712,872,2217,1505,672,918,1068,1383,1535,983,951,1120,2364,1236,858,1306,807,1670,902,1063,1636,1020,902,742,1105,1268,1015,1001,612,546,480,1229,912,1414,936,1272,1316,1617,1686,1126,1234,1098,1788,993,1466,925,1905,1500,2069,747,1200,1113,1391,1207,1728,1022,1440,1632,1344,1188,1144,1629,936,1381,864,965,768,1168,980,979,561,1057,1337,696,858,1542,804,1800,824,783,976,1098,600,1095,720,764,918,1428,1136,673,869,1241,894,1121,999,1276,1266,1149,1302,1164,1001,1940,1118,778,1407,916,1020,750,1718,774,1050,1442,1077,1208,944,691,1574,1680,1504,985,1657,546,1710,1008,720,1664,900,1022,1082,810,1504,1360,802,1506,1132,1220,912,1504,2898,882,1264,1646,968,672,948,1687,1352,1654,954,845,1620,1055,798,630,1803,800,1306,1532,2524,1733,1992,990,1771,930,1302,1316,1127,1526,1091,1523,1364,979,1130,1096,1338,894,1422,1103,1154,1306,799,798,1291,893,1048,829,1002,698,1240,960,1096,1096,848,990,1258,1040,1459,1251,691,996,546,1082,970,1247,1040,624,1390,1200,936,1314,773,1088,757,1601,438,950,1134,1194,630,1500,1442,887,948,1836,773,1098,816,1008,833,1734,779,894,1021,1040,1012,1552,960,698,812,1005,1555,1530,847,936,1328,974,1178,1142,916,986,1032,780,1567,1167,952,1088,1466,1006,672,1042,1298,860,572,832,932,1466,1811,816,902,1437,1265,1314,1580,943,855,1640,894,1258,1432,1502,1694,959,1236,1831,1118,1261,625,1636,1170,2129,923,818,820,1124,1298,1652,2411,1130,1572,949,1014,1624,831,1028,1622,764,842,1224,663,728,879,815,1212,1382,864,866,884,1630,1074,2196,1056,1700,1283,1660,1055,1080,672,960,999,894,1318,1314,672,672,912,1211,1168,2136,788,1138,894,912,1702,1507,1361,1190,1224,1188,1024,892,764,847,1141,1484,884,1689,1173,2076,792,1140,756,1034,1134,988,2110,1405,874,1516,760,959,1987,864,1166,1054,892,1050,1104,1060,1337,713,964,2018,1968,874,1332,1489,935,1357,661,928,735,1724,1128,698,1573,1339,1040,912,1699,825,1328,1582,1659,1120,1152,630,1378,832,864,1052,1128,1072,4692,1246,1005,753,1203,1616,976,1652,1368,990,1122,1294,1902,1274,1453,1422,948,1092,1630,1352,1787,948,1478,720,1061,708,1795,796,774,816,1584,955,1588,954,816,803,765,1334,1656,693,920,864,872,1114,1284,1172,728,960,2156,1776,1494,938,1338,858,786,2053,992,1222,892,1078,769,1980,990,1530,1281,616,520,814,882,925,848,1668,840,1661,1108,2633,1026,1571,790,984,483,754,864,2117,998,1416,698,796,1392,1664,1746,869,1525,1584,900,1221,1500,1133,1687,939,1136,1160,950,864,1294,1464,694,1646,768,833,741,1236,944,1112,1040,1844,1053,1569,1246,1310,1144,1844,708,1069,848,1575,1344,1252,1223,1048,804,1440,734,958,968,962,1126,1537,864,1932,1236,1040,1423,848,1026,952,1422,913,1188,1220,796,630,896,1578,1072,1140,1221,953,2073,1188,1078,1256],\"y0\":\" \",\"yaxis\":\"y\",\"type\":\"violin\",\"opacity\":0.8}],                        {\"template\":{\"data\":{\"histogram2dcontour\":[{\"type\":\"histogram2dcontour\",\"colorbar\":{\"outlinewidth\":0,\"ticks\":\"\"},\"colorscale\":[[0.0,\"#0d0887\"],[0.1111111111111111,\"#46039f\"],[0.2222222222222222,\"#7201a8\"],[0.3333333333333333,\"#9c179e\"],[0.4444444444444444,\"#bd3786\"],[0.5555555555555556,\"#d8576b\"],[0.6666666666666666,\"#ed7953\"],[0.7777777777777778,\"#fb9f3a\"],[0.8888888888888888,\"#fdca26\"],[1.0,\"#f0f921\"]]}],\"choropleth\":[{\"type\":\"choropleth\",\"colorbar\":{\"outlinewidth\":0,\"ticks\":\"\"}}],\"histogram2d\":[{\"type\":\"histogram2d\",\"colorbar\":{\"outlinewidth\":0,\"ticks\":\"\"},\"colorscale\":[[0.0,\"#0d0887\"],[0.1111111111111111,\"#46039f\"],[0.2222222222222222,\"#7201a8\"],[0.3333333333333333,\"#9c179e\"],[0.4444444444444444,\"#bd3786\"],[0.5555555555555556,\"#d8576b\"],[0.6666666666666666,\"#ed7953\"],[0.7777777777777778,\"#fb9f3a\"],[0.8888888888888888,\"#fdca26\"],[1.0,\"#f0f921\"]]}],\"heatmap\":[{\"type\":\"heatmap\",\"colorbar\":{\"outlinewidth\":0,\"ticks\":\"\"},\"colorscale\":[[0.0,\"#0d0887\"],[0.1111111111111111,\"#46039f\"],[0.2222222222222222,\"#7201a8\"],[0.3333333333333333,\"#9c179e\"],[0.4444444444444444,\"#bd3786\"],[0.5555555555555556,\"#d8576b\"],[0.6666666666666666,\"#ed7953\"],[0.7777777777777778,\"#fb9f3a\"],[0.8888888888888888,\"#fdca26\"],[1.0,\"#f0f921\"]]}],\"heatmapgl\":[{\"type\":\"heatmapgl\",\"colorbar\":{\"outlinewidth\":0,\"ticks\":\"\"},\"colorscale\":[[0.0,\"#0d0887\"],[0.1111111111111111,\"#46039f\"],[0.2222222222222222,\"#7201a8\"],[0.3333333333333333,\"#9c179e\"],[0.4444444444444444,\"#bd3786\"],[0.5555555555555556,\"#d8576b\"],[0.6666666666666666,\"#ed7953\"],[0.7777777777777778,\"#fb9f3a\"],[0.8888888888888888,\"#fdca26\"],[1.0,\"#f0f921\"]]}],\"contourcarpet\":[{\"type\":\"contourcarpet\",\"colorbar\":{\"outlinewidth\":0,\"ticks\":\"\"}}],\"contour\":[{\"type\":\"contour\",\"colorbar\":{\"outlinewidth\":0,\"ticks\":\"\"},\"colorscale\":[[0.0,\"#0d0887\"],[0.1111111111111111,\"#46039f\"],[0.2222222222222222,\"#7201a8\"],[0.3333333333333333,\"#9c179e\"],[0.4444444444444444,\"#bd3786\"],[0.5555555555555556,\"#d8576b\"],[0.6666666666666666,\"#ed7953\"],[0.7777777777777778,\"#fb9f3a\"],[0.8888888888888888,\"#fdca26\"],[1.0,\"#f0f921\"]]}],\"surface\":[{\"type\":\"surface\",\"colorbar\":{\"outlinewidth\":0,\"ticks\":\"\"},\"colorscale\":[[0.0,\"#0d0887\"],[0.1111111111111111,\"#46039f\"],[0.2222222222222222,\"#7201a8\"],[0.3333333333333333,\"#9c179e\"],[0.4444444444444444,\"#bd3786\"],[0.5555555555555556,\"#d8576b\"],[0.6666666666666666,\"#ed7953\"],[0.7777777777777778,\"#fb9f3a\"],[0.8888888888888888,\"#fdca26\"],[1.0,\"#f0f921\"]]}],\"mesh3d\":[{\"type\":\"mesh3d\",\"colorbar\":{\"outlinewidth\":0,\"ticks\":\"\"}}],\"scatter\":[{\"fillpattern\":{\"fillmode\":\"overlay\",\"size\":10,\"solidity\":0.2},\"type\":\"scatter\"}],\"parcoords\":[{\"type\":\"parcoords\",\"line\":{\"colorbar\":{\"outlinewidth\":0,\"ticks\":\"\"}}}],\"scatterpolargl\":[{\"type\":\"scatterpolargl\",\"marker\":{\"colorbar\":{\"outlinewidth\":0,\"ticks\":\"\"}}}],\"bar\":[{\"error_x\":{\"color\":\"#2a3f5f\"},\"error_y\":{\"color\":\"#2a3f5f\"},\"marker\":{\"line\":{\"color\":\"#E5ECF6\",\"width\":0.5},\"pattern\":{\"fillmode\":\"overlay\",\"size\":10,\"solidity\":0.2}},\"type\":\"bar\"}],\"scattergeo\":[{\"type\":\"scattergeo\",\"marker\":{\"colorbar\":{\"outlinewidth\":0,\"ticks\":\"\"}}}],\"scatterpolar\":[{\"type\":\"scatterpolar\",\"marker\":{\"colorbar\":{\"outlinewidth\":0,\"ticks\":\"\"}}}],\"histogram\":[{\"marker\":{\"pattern\":{\"fillmode\":\"overlay\",\"size\":10,\"solidity\":0.2}},\"type\":\"histogram\"}],\"scattergl\":[{\"type\":\"scattergl\",\"marker\":{\"colorbar\":{\"outlinewidth\":0,\"ticks\":\"\"}}}],\"scatter3d\":[{\"type\":\"scatter3d\",\"line\":{\"colorbar\":{\"outlinewidth\":0,\"ticks\":\"\"}},\"marker\":{\"colorbar\":{\"outlinewidth\":0,\"ticks\":\"\"}}}],\"scattermapbox\":[{\"type\":\"scattermapbox\",\"marker\":{\"colorbar\":{\"outlinewidth\":0,\"ticks\":\"\"}}}],\"scatterternary\":[{\"type\":\"scatterternary\",\"marker\":{\"colorbar\":{\"outlinewidth\":0,\"ticks\":\"\"}}}],\"scattercarpet\":[{\"type\":\"scattercarpet\",\"marker\":{\"colorbar\":{\"outlinewidth\":0,\"ticks\":\"\"}}}],\"carpet\":[{\"aaxis\":{\"endlinecolor\":\"#2a3f5f\",\"gridcolor\":\"white\",\"linecolor\":\"white\",\"minorgridcolor\":\"white\",\"startlinecolor\":\"#2a3f5f\"},\"baxis\":{\"endlinecolor\":\"#2a3f5f\",\"gridcolor\":\"white\",\"linecolor\":\"white\",\"minorgridcolor\":\"white\",\"startlinecolor\":\"#2a3f5f\"},\"type\":\"carpet\"}],\"table\":[{\"cells\":{\"fill\":{\"color\":\"#EBF0F8\"},\"line\":{\"color\":\"white\"}},\"header\":{\"fill\":{\"color\":\"#C8D4E3\"},\"line\":{\"color\":\"white\"}},\"type\":\"table\"}],\"barpolar\":[{\"marker\":{\"line\":{\"color\":\"#E5ECF6\",\"width\":0.5},\"pattern\":{\"fillmode\":\"overlay\",\"size\":10,\"solidity\":0.2}},\"type\":\"barpolar\"}],\"pie\":[{\"automargin\":true,\"type\":\"pie\"}]},\"layout\":{\"autotypenumbers\":\"strict\",\"colorway\":[\"#636efa\",\"#EF553B\",\"#00cc96\",\"#ab63fa\",\"#FFA15A\",\"#19d3f3\",\"#FF6692\",\"#B6E880\",\"#FF97FF\",\"#FECB52\"],\"font\":{\"color\":\"#2a3f5f\"},\"hovermode\":\"closest\",\"hoverlabel\":{\"align\":\"left\"},\"paper_bgcolor\":\"white\",\"plot_bgcolor\":\"#E5ECF6\",\"polar\":{\"bgcolor\":\"#E5ECF6\",\"angularaxis\":{\"gridcolor\":\"white\",\"linecolor\":\"white\",\"ticks\":\"\"},\"radialaxis\":{\"gridcolor\":\"white\",\"linecolor\":\"white\",\"ticks\":\"\"}},\"ternary\":{\"bgcolor\":\"#E5ECF6\",\"aaxis\":{\"gridcolor\":\"white\",\"linecolor\":\"white\",\"ticks\":\"\"},\"baxis\":{\"gridcolor\":\"white\",\"linecolor\":\"white\",\"ticks\":\"\"},\"caxis\":{\"gridcolor\":\"white\",\"linecolor\":\"white\",\"ticks\":\"\"}},\"coloraxis\":{\"colorbar\":{\"outlinewidth\":0,\"ticks\":\"\"}},\"colorscale\":{\"sequential\":[[0.0,\"#0d0887\"],[0.1111111111111111,\"#46039f\"],[0.2222222222222222,\"#7201a8\"],[0.3333333333333333,\"#9c179e\"],[0.4444444444444444,\"#bd3786\"],[0.5555555555555556,\"#d8576b\"],[0.6666666666666666,\"#ed7953\"],[0.7777777777777778,\"#fb9f3a\"],[0.8888888888888888,\"#fdca26\"],[1.0,\"#f0f921\"]],\"sequentialminus\":[[0.0,\"#0d0887\"],[0.1111111111111111,\"#46039f\"],[0.2222222222222222,\"#7201a8\"],[0.3333333333333333,\"#9c179e\"],[0.4444444444444444,\"#bd3786\"],[0.5555555555555556,\"#d8576b\"],[0.6666666666666666,\"#ed7953\"],[0.7777777777777778,\"#fb9f3a\"],[0.8888888888888888,\"#fdca26\"],[1.0,\"#f0f921\"]],\"diverging\":[[0,\"#8e0152\"],[0.1,\"#c51b7d\"],[0.2,\"#de77ae\"],[0.3,\"#f1b6da\"],[0.4,\"#fde0ef\"],[0.5,\"#f7f7f7\"],[0.6,\"#e6f5d0\"],[0.7,\"#b8e186\"],[0.8,\"#7fbc41\"],[0.9,\"#4d9221\"],[1,\"#276419\"]]},\"xaxis\":{\"gridcolor\":\"white\",\"linecolor\":\"white\",\"ticks\":\"\",\"title\":{\"standoff\":15},\"zerolinecolor\":\"white\",\"automargin\":true,\"zerolinewidth\":2},\"yaxis\":{\"gridcolor\":\"white\",\"linecolor\":\"white\",\"ticks\":\"\",\"title\":{\"standoff\":15},\"zerolinecolor\":\"white\",\"automargin\":true,\"zerolinewidth\":2},\"scene\":{\"xaxis\":{\"backgroundcolor\":\"#E5ECF6\",\"gridcolor\":\"white\",\"linecolor\":\"white\",\"showbackground\":true,\"ticks\":\"\",\"zerolinecolor\":\"white\",\"gridwidth\":2},\"yaxis\":{\"backgroundcolor\":\"#E5ECF6\",\"gridcolor\":\"white\",\"linecolor\":\"white\",\"showbackground\":true,\"ticks\":\"\",\"zerolinecolor\":\"white\",\"gridwidth\":2},\"zaxis\":{\"backgroundcolor\":\"#E5ECF6\",\"gridcolor\":\"white\",\"linecolor\":\"white\",\"showbackground\":true,\"ticks\":\"\",\"zerolinecolor\":\"white\",\"gridwidth\":2}},\"shapedefaults\":{\"line\":{\"color\":\"#2a3f5f\"}},\"annotationdefaults\":{\"arrowcolor\":\"#2a3f5f\",\"arrowhead\":0,\"arrowwidth\":1},\"geo\":{\"bgcolor\":\"white\",\"landcolor\":\"#E5ECF6\",\"subunitcolor\":\"white\",\"showland\":true,\"showlakes\":true,\"lakecolor\":\"white\"},\"title\":{\"x\":0.05},\"mapbox\":{\"style\":\"light\"}}},\"xaxis\":{\"anchor\":\"y\",\"domain\":[0.0,1.0],\"title\":{\"text\":\"1stFlrSF\"}},\"yaxis\":{\"anchor\":\"x\",\"domain\":[0.0,1.0],\"title\":{\"text\":\"\"},\"gridcolor\":\"#DCDCDC\",\"zerolinecolor\":\"#DCDCDC\"},\"legend\":{\"tracegroupgap\":0},\"margin\":{\"t\":60},\"violinmode\":\"group\",\"paper_bgcolor\":\"#F5F5F5\",\"plot_bgcolor\":\"#F5F5F5\"},                        {\"responsive\": true}                    ).then(function(){\n",
       "                            \n",
       "var gd = document.getElementById('8bd83b59-388b-459b-b358-3208e0c3b932');\n",
       "var x = new MutationObserver(function (mutations, observer) {{\n",
       "        var display = window.getComputedStyle(gd).display;\n",
       "        if (!display || display === 'none') {{\n",
       "            console.log([gd, 'removed!']);\n",
       "            Plotly.purge(gd);\n",
       "            observer.disconnect();\n",
       "        }}\n",
       "}});\n",
       "\n",
       "// Listen for the removal of the full notebook cells\n",
       "var notebookContainer = gd.closest('#notebook-container');\n",
       "if (notebookContainer) {{\n",
       "    x.observe(notebookContainer, {childList: true});\n",
       "}}\n",
       "\n",
       "// Listen for the clearing of the current output cell\n",
       "var outputEl = gd.closest('.output');\n",
       "if (outputEl) {{\n",
       "    x.observe(outputEl, {childList: true});\n",
       "}}\n",
       "\n",
       "                        })                };                });            </script>        </div>"
      ]
     },
     "metadata": {},
     "output_type": "display_data"
    },
    {
     "data": {
      "text/html": [
       "<div>                            <div id=\"ed3ce4a6-0f2c-4161-be8d-ef9ec9e3e623\" class=\"plotly-graph-div\" style=\"height:525px; width:100%;\"></div>            <script type=\"text/javascript\">                require([\"plotly\"], function(Plotly) {                    window.PLOTLYENV=window.PLOTLYENV || {};                                    if (document.getElementById(\"ed3ce4a6-0f2c-4161-be8d-ef9ec9e3e623\")) {                    Plotly.newPlot(                        \"ed3ce4a6-0f2c-4161-be8d-ef9ec9e3e623\",                        [{\"alignmentgroup\":\"True\",\"box\":{\"visible\":true},\"hovertemplate\":\"2ndFlrSF=%{y}<extra></extra>\",\"legendgroup\":\"\",\"marker\":{\"color\":\"#2C3E50\"},\"name\":\"2ndFlrSF\",\"offsetgroup\":\"\",\"orientation\":\"v\",\"points\":\"outliers\",\"scalegroup\":\"True\",\"showlegend\":true,\"x0\":\" \",\"xaxis\":\"x\",\"y\":[854,0,866,756,1053,566,0,983,752,0,0,1142,0,0,0,0,0,0,0,0,1218,0,0,0,0,0,0,0,0,0,668,0,0,0,0,1320,0,0,0,0,0,0,0,0,0,0,631,0,716,0,676,0,0,0,0,0,756,860,1519,0,0,530,0,808,977,1330,0,0,0,983,0,0,833,0,765,462,0,213,0,548,960,0,0,0,670,1116,876,612,0,0,0,0,0,1031,881,790,0,0,0,0,0,755,0,0,592,939,0,0,520,0,639,656,1414,0,884,729,0,0,1523,728,0,351,0,0,0,0,0,0,688,0,941,1032,0,0,0,0,0,0,848,836,0,0,475,0,0,739,0,1151,0,448,0,0,896,0,0,524,0,1194,956,1070,0,1096,0,0,467,547,0,551,880,0,0,0,703,0,0,0,896,668,0,0,756,901,0,720,316,1518,0,704,0,0,1178,754,0,739,0,601,0,1360,929,0,0,0,445,0,564,0,0,0,882,0,0,0,920,0,703,0,0,518,817,0,0,1257,741,0,0,672,1306,504,0,0,0,1304,504,0,1100,504,0,730,0,689,0,0,551,591,888,0,1020,0,828,700,0,0,842,0,0,1286,864,0,829,0,0,1092,0,0,0,0,709,720,0,0,844,0,1106,0,0,596,0,0,0,866,807,0,0,0,0,625,649,0,0,698,840,780,568,795,0,0,648,975,702,0,0,1242,0,0,1818,0,1121,371,0,0,804,0,325,0,809,716,1200,871,1274,0,1347,1332,1177,0,1080,0,0,0,689,596,0,0,0,0,695,167,0,0,0,0,915,0,0,0,576,605,0,0,862,880,0,0,495,0,403,0,0,0,0,838,0,517,1427,504,784,672,0,0,0,0,711,468,0,0,1081,0,0,886,0,793,665,0,858,0,874,0,526,0,0,590,406,1157,0,0,299,0,0,936,0,438,0,0,0,1098,766,0,0,840,1101,1028,0,0,0,0,1017,0,728,1254,378,0,0,0,0,1160,0,682,0,0,0,0,504,110,600,678,0,834,384,0,0,512,0,0,445,0,975,0,0,930,596,504,0,0,868,804,0,0,720,0,833,224,1103,560,0,811,0,0,0,756,0,878,0,808,0,0,0,0,0,574,0,0,0,0,910,0,0,0,0,0,648,0,688,620,728,0,0,0,0,687,0,0,546,902,0,0,467,1000,846,0,689,0,0,0,0,0,0,0,741,1067,914,804,600,0,660,1538,1015,0,0,1237,0,0,0,611,0,0,707,527,844,0,0,0,0,1288,0,0,832,806,720,0,0,1182,0,0,0,0,1040,0,0,439,717,0,0,0,0,511,1129,806,1370,0,636,0,0,0,846,656,533,384,600,0,689,745,0,0,0,1254,584,0,0,0,0,0,812,568,0,0,0,0,684,0,0,840,846,595,988,600,0,800,0,896,1254,0,677,0,573,0,0,0,702,0,0,780,0,1066,0,756,778,0,0,0,1040,0,661,0,0,0,0,1440,0,576,0,0,0,872,704,840,0,0,0,0,788,0,843,755,807,713,0,567,0,651,546,0,793,762,0,0,0,482,915,0,0,0,738,672,0,0,0,586,679,0,0,0,0,672,0,0,644,900,887,551,0,0,0,1872,1281,0,472,0,0,0,0,0,0,0,1312,780,0,720,0,0,728,0,0,319,0,0,754,0,978,0,1093,0,0,0,0,473,0,0,0,0,0,0,0,0,878,0,0,888,0,900,0,864,664,0,0,0,0,1540,1276,1320,0,441,348,660,0,1060,0,729,902,714,744,1203,0,0,783,1097,0,0,734,767,0,1589,0,0,0,0,0,0,0,0,0,0,0,793,0,0,742,0,686,1128,0,1111,0,0,886,0,809,676,0,0,1174,787,1072,0,728,1088,0,0,0,504,0,1063,0,0,0,0,564,0,0,0,0,0,842,0,886,545,0,0,0,0,966,623,0,600,888,0,0,0,0,504,0,432,672,581,0,0,540,0,769,0,1051,761,0,0,728,0,0,0,0,779,0,1142,514,0,0,0,0,0,0,0,720,887,0,878,0,0,455,1426,0,762,0,0,0,530,785,795,0,0,0,521,0,0,252,765,0,0,0,813,0,1120,0,0,0,0,702,0,0,0,0,1037,0,742,1169,0,0,1001,612,546,0,0,1215,0,785,928,0,0,0,0,1140,880,0,1243,0,0,0,0,0,0,0,858,571,1196,0,1038,0,0,0,561,0,0,840,0,0,0,0,800,0,979,668,0,0,720,0,1330,744,0,1070,701,332,0,368,0,472,862,0,0,883,709,0,0,0,0,0,1336,0,1141,432,0,634,0,912,798,985,826,831,750,0,456,0,0,0,0,0,0,0,0,0,0,0,546,0,0,551,0,602,0,0,855,0,0,670,0,0,0,336,0,0,0,0,0,408,546,980,998,1168,0,0,0,0,1208,546,0,0,832,0,797,0,0,876,0,0,0,0,0,850,0,898,0,0,871,1054,895,0,0,915,0,0,954,772,813,1230,0,0,727,454,728,0,780,370,0,0,0,0,0,0,0,807,0,546,871,739,0,0,628,304,0,0,0,582,0,567,0,0,0,0,0,672,1122,0,1134,742,0,885,866,0,0,0,0,640,0,580,0,0,0,0,0,670,0,0,0,1112,0,653,0,1032,878,684,0,220,240,0,0,0,780,1362,0,252,534,0,704,539,650,0,0,0,0,918,0,0,0,0,933,601,0,0,0,0,0,0,712,872,1796,0,0,625,971,1175,743,0,406,523,0,1216,0,2065,0,0,272,685,0,829,776,0,677,630,0,689,728,984,875,0,0,0,913,464,0,0,0,0,0,0,0,790,672,0,0,0,0,584,0,240,546,0,0,678,0,702,0,1039,0,0,0,1259,0,0,0,940,892,862,1101,0,0,884,0,0,0,725,728,797,0,924,0,0,0,0,651,896,408,0,0,0,0,783,0,684,764,0,739,925,0,1479,650,192,0,0,0,589,992,660,0,903,430,0,0,0,912,748,587,0,0,0,850,0,672,994,832,0,0,0,0,950,0,978,741,1323,0,732,0,0,0,0,0,0,0,1357,1177,0,1020,0,0,0,0,0,0,862,0,0,0,0,0,1208,677,0,0,0,557,600,0,0,0,941,0,0,0,885,741,728,0,0,0,0,1215,1296,858,390,1185,873,698,0,0,804,0,1611,0,457,796,600,860,908,550,0,0,534,0,989,0,932,0,0,620,504,640,0,0,764,0,560,358,1392,862,0,349,0,0,0,691,0,1349,0,574,768,448,208,729,0,0,520,0,0,0,622,857,896,556,0,0,795,0,1044,1140,0,0,708,0,0,626,0,0,904,510,0,0,1104,0,0,830,0,0,0,0,0,685,748,0,981,0,0,0,0,870,550,0,896,0,0,0,0,694,0,1152,0,0],\"y0\":\" \",\"yaxis\":\"y\",\"type\":\"violin\",\"opacity\":0.8}],                        {\"template\":{\"data\":{\"histogram2dcontour\":[{\"type\":\"histogram2dcontour\",\"colorbar\":{\"outlinewidth\":0,\"ticks\":\"\"},\"colorscale\":[[0.0,\"#0d0887\"],[0.1111111111111111,\"#46039f\"],[0.2222222222222222,\"#7201a8\"],[0.3333333333333333,\"#9c179e\"],[0.4444444444444444,\"#bd3786\"],[0.5555555555555556,\"#d8576b\"],[0.6666666666666666,\"#ed7953\"],[0.7777777777777778,\"#fb9f3a\"],[0.8888888888888888,\"#fdca26\"],[1.0,\"#f0f921\"]]}],\"choropleth\":[{\"type\":\"choropleth\",\"colorbar\":{\"outlinewidth\":0,\"ticks\":\"\"}}],\"histogram2d\":[{\"type\":\"histogram2d\",\"colorbar\":{\"outlinewidth\":0,\"ticks\":\"\"},\"colorscale\":[[0.0,\"#0d0887\"],[0.1111111111111111,\"#46039f\"],[0.2222222222222222,\"#7201a8\"],[0.3333333333333333,\"#9c179e\"],[0.4444444444444444,\"#bd3786\"],[0.5555555555555556,\"#d8576b\"],[0.6666666666666666,\"#ed7953\"],[0.7777777777777778,\"#fb9f3a\"],[0.8888888888888888,\"#fdca26\"],[1.0,\"#f0f921\"]]}],\"heatmap\":[{\"type\":\"heatmap\",\"colorbar\":{\"outlinewidth\":0,\"ticks\":\"\"},\"colorscale\":[[0.0,\"#0d0887\"],[0.1111111111111111,\"#46039f\"],[0.2222222222222222,\"#7201a8\"],[0.3333333333333333,\"#9c179e\"],[0.4444444444444444,\"#bd3786\"],[0.5555555555555556,\"#d8576b\"],[0.6666666666666666,\"#ed7953\"],[0.7777777777777778,\"#fb9f3a\"],[0.8888888888888888,\"#fdca26\"],[1.0,\"#f0f921\"]]}],\"heatmapgl\":[{\"type\":\"heatmapgl\",\"colorbar\":{\"outlinewidth\":0,\"ticks\":\"\"},\"colorscale\":[[0.0,\"#0d0887\"],[0.1111111111111111,\"#46039f\"],[0.2222222222222222,\"#7201a8\"],[0.3333333333333333,\"#9c179e\"],[0.4444444444444444,\"#bd3786\"],[0.5555555555555556,\"#d8576b\"],[0.6666666666666666,\"#ed7953\"],[0.7777777777777778,\"#fb9f3a\"],[0.8888888888888888,\"#fdca26\"],[1.0,\"#f0f921\"]]}],\"contourcarpet\":[{\"type\":\"contourcarpet\",\"colorbar\":{\"outlinewidth\":0,\"ticks\":\"\"}}],\"contour\":[{\"type\":\"contour\",\"colorbar\":{\"outlinewidth\":0,\"ticks\":\"\"},\"colorscale\":[[0.0,\"#0d0887\"],[0.1111111111111111,\"#46039f\"],[0.2222222222222222,\"#7201a8\"],[0.3333333333333333,\"#9c179e\"],[0.4444444444444444,\"#bd3786\"],[0.5555555555555556,\"#d8576b\"],[0.6666666666666666,\"#ed7953\"],[0.7777777777777778,\"#fb9f3a\"],[0.8888888888888888,\"#fdca26\"],[1.0,\"#f0f921\"]]}],\"surface\":[{\"type\":\"surface\",\"colorbar\":{\"outlinewidth\":0,\"ticks\":\"\"},\"colorscale\":[[0.0,\"#0d0887\"],[0.1111111111111111,\"#46039f\"],[0.2222222222222222,\"#7201a8\"],[0.3333333333333333,\"#9c179e\"],[0.4444444444444444,\"#bd3786\"],[0.5555555555555556,\"#d8576b\"],[0.6666666666666666,\"#ed7953\"],[0.7777777777777778,\"#fb9f3a\"],[0.8888888888888888,\"#fdca26\"],[1.0,\"#f0f921\"]]}],\"mesh3d\":[{\"type\":\"mesh3d\",\"colorbar\":{\"outlinewidth\":0,\"ticks\":\"\"}}],\"scatter\":[{\"fillpattern\":{\"fillmode\":\"overlay\",\"size\":10,\"solidity\":0.2},\"type\":\"scatter\"}],\"parcoords\":[{\"type\":\"parcoords\",\"line\":{\"colorbar\":{\"outlinewidth\":0,\"ticks\":\"\"}}}],\"scatterpolargl\":[{\"type\":\"scatterpolargl\",\"marker\":{\"colorbar\":{\"outlinewidth\":0,\"ticks\":\"\"}}}],\"bar\":[{\"error_x\":{\"color\":\"#2a3f5f\"},\"error_y\":{\"color\":\"#2a3f5f\"},\"marker\":{\"line\":{\"color\":\"#E5ECF6\",\"width\":0.5},\"pattern\":{\"fillmode\":\"overlay\",\"size\":10,\"solidity\":0.2}},\"type\":\"bar\"}],\"scattergeo\":[{\"type\":\"scattergeo\",\"marker\":{\"colorbar\":{\"outlinewidth\":0,\"ticks\":\"\"}}}],\"scatterpolar\":[{\"type\":\"scatterpolar\",\"marker\":{\"colorbar\":{\"outlinewidth\":0,\"ticks\":\"\"}}}],\"histogram\":[{\"marker\":{\"pattern\":{\"fillmode\":\"overlay\",\"size\":10,\"solidity\":0.2}},\"type\":\"histogram\"}],\"scattergl\":[{\"type\":\"scattergl\",\"marker\":{\"colorbar\":{\"outlinewidth\":0,\"ticks\":\"\"}}}],\"scatter3d\":[{\"type\":\"scatter3d\",\"line\":{\"colorbar\":{\"outlinewidth\":0,\"ticks\":\"\"}},\"marker\":{\"colorbar\":{\"outlinewidth\":0,\"ticks\":\"\"}}}],\"scattermapbox\":[{\"type\":\"scattermapbox\",\"marker\":{\"colorbar\":{\"outlinewidth\":0,\"ticks\":\"\"}}}],\"scatterternary\":[{\"type\":\"scatterternary\",\"marker\":{\"colorbar\":{\"outlinewidth\":0,\"ticks\":\"\"}}}],\"scattercarpet\":[{\"type\":\"scattercarpet\",\"marker\":{\"colorbar\":{\"outlinewidth\":0,\"ticks\":\"\"}}}],\"carpet\":[{\"aaxis\":{\"endlinecolor\":\"#2a3f5f\",\"gridcolor\":\"white\",\"linecolor\":\"white\",\"minorgridcolor\":\"white\",\"startlinecolor\":\"#2a3f5f\"},\"baxis\":{\"endlinecolor\":\"#2a3f5f\",\"gridcolor\":\"white\",\"linecolor\":\"white\",\"minorgridcolor\":\"white\",\"startlinecolor\":\"#2a3f5f\"},\"type\":\"carpet\"}],\"table\":[{\"cells\":{\"fill\":{\"color\":\"#EBF0F8\"},\"line\":{\"color\":\"white\"}},\"header\":{\"fill\":{\"color\":\"#C8D4E3\"},\"line\":{\"color\":\"white\"}},\"type\":\"table\"}],\"barpolar\":[{\"marker\":{\"line\":{\"color\":\"#E5ECF6\",\"width\":0.5},\"pattern\":{\"fillmode\":\"overlay\",\"size\":10,\"solidity\":0.2}},\"type\":\"barpolar\"}],\"pie\":[{\"automargin\":true,\"type\":\"pie\"}]},\"layout\":{\"autotypenumbers\":\"strict\",\"colorway\":[\"#636efa\",\"#EF553B\",\"#00cc96\",\"#ab63fa\",\"#FFA15A\",\"#19d3f3\",\"#FF6692\",\"#B6E880\",\"#FF97FF\",\"#FECB52\"],\"font\":{\"color\":\"#2a3f5f\"},\"hovermode\":\"closest\",\"hoverlabel\":{\"align\":\"left\"},\"paper_bgcolor\":\"white\",\"plot_bgcolor\":\"#E5ECF6\",\"polar\":{\"bgcolor\":\"#E5ECF6\",\"angularaxis\":{\"gridcolor\":\"white\",\"linecolor\":\"white\",\"ticks\":\"\"},\"radialaxis\":{\"gridcolor\":\"white\",\"linecolor\":\"white\",\"ticks\":\"\"}},\"ternary\":{\"bgcolor\":\"#E5ECF6\",\"aaxis\":{\"gridcolor\":\"white\",\"linecolor\":\"white\",\"ticks\":\"\"},\"baxis\":{\"gridcolor\":\"white\",\"linecolor\":\"white\",\"ticks\":\"\"},\"caxis\":{\"gridcolor\":\"white\",\"linecolor\":\"white\",\"ticks\":\"\"}},\"coloraxis\":{\"colorbar\":{\"outlinewidth\":0,\"ticks\":\"\"}},\"colorscale\":{\"sequential\":[[0.0,\"#0d0887\"],[0.1111111111111111,\"#46039f\"],[0.2222222222222222,\"#7201a8\"],[0.3333333333333333,\"#9c179e\"],[0.4444444444444444,\"#bd3786\"],[0.5555555555555556,\"#d8576b\"],[0.6666666666666666,\"#ed7953\"],[0.7777777777777778,\"#fb9f3a\"],[0.8888888888888888,\"#fdca26\"],[1.0,\"#f0f921\"]],\"sequentialminus\":[[0.0,\"#0d0887\"],[0.1111111111111111,\"#46039f\"],[0.2222222222222222,\"#7201a8\"],[0.3333333333333333,\"#9c179e\"],[0.4444444444444444,\"#bd3786\"],[0.5555555555555556,\"#d8576b\"],[0.6666666666666666,\"#ed7953\"],[0.7777777777777778,\"#fb9f3a\"],[0.8888888888888888,\"#fdca26\"],[1.0,\"#f0f921\"]],\"diverging\":[[0,\"#8e0152\"],[0.1,\"#c51b7d\"],[0.2,\"#de77ae\"],[0.3,\"#f1b6da\"],[0.4,\"#fde0ef\"],[0.5,\"#f7f7f7\"],[0.6,\"#e6f5d0\"],[0.7,\"#b8e186\"],[0.8,\"#7fbc41\"],[0.9,\"#4d9221\"],[1,\"#276419\"]]},\"xaxis\":{\"gridcolor\":\"white\",\"linecolor\":\"white\",\"ticks\":\"\",\"title\":{\"standoff\":15},\"zerolinecolor\":\"white\",\"automargin\":true,\"zerolinewidth\":2},\"yaxis\":{\"gridcolor\":\"white\",\"linecolor\":\"white\",\"ticks\":\"\",\"title\":{\"standoff\":15},\"zerolinecolor\":\"white\",\"automargin\":true,\"zerolinewidth\":2},\"scene\":{\"xaxis\":{\"backgroundcolor\":\"#E5ECF6\",\"gridcolor\":\"white\",\"linecolor\":\"white\",\"showbackground\":true,\"ticks\":\"\",\"zerolinecolor\":\"white\",\"gridwidth\":2},\"yaxis\":{\"backgroundcolor\":\"#E5ECF6\",\"gridcolor\":\"white\",\"linecolor\":\"white\",\"showbackground\":true,\"ticks\":\"\",\"zerolinecolor\":\"white\",\"gridwidth\":2},\"zaxis\":{\"backgroundcolor\":\"#E5ECF6\",\"gridcolor\":\"white\",\"linecolor\":\"white\",\"showbackground\":true,\"ticks\":\"\",\"zerolinecolor\":\"white\",\"gridwidth\":2}},\"shapedefaults\":{\"line\":{\"color\":\"#2a3f5f\"}},\"annotationdefaults\":{\"arrowcolor\":\"#2a3f5f\",\"arrowhead\":0,\"arrowwidth\":1},\"geo\":{\"bgcolor\":\"white\",\"landcolor\":\"#E5ECF6\",\"subunitcolor\":\"white\",\"showland\":true,\"showlakes\":true,\"lakecolor\":\"white\"},\"title\":{\"x\":0.05},\"mapbox\":{\"style\":\"light\"}}},\"xaxis\":{\"anchor\":\"y\",\"domain\":[0.0,1.0],\"title\":{\"text\":\"2ndFlrSF\"}},\"yaxis\":{\"anchor\":\"x\",\"domain\":[0.0,1.0],\"title\":{\"text\":\"\"},\"gridcolor\":\"#DCDCDC\",\"zerolinecolor\":\"#DCDCDC\"},\"legend\":{\"tracegroupgap\":0},\"margin\":{\"t\":60},\"violinmode\":\"group\",\"paper_bgcolor\":\"#F5F5F5\",\"plot_bgcolor\":\"#F5F5F5\"},                        {\"responsive\": true}                    ).then(function(){\n",
       "                            \n",
       "var gd = document.getElementById('ed3ce4a6-0f2c-4161-be8d-ef9ec9e3e623');\n",
       "var x = new MutationObserver(function (mutations, observer) {{\n",
       "        var display = window.getComputedStyle(gd).display;\n",
       "        if (!display || display === 'none') {{\n",
       "            console.log([gd, 'removed!']);\n",
       "            Plotly.purge(gd);\n",
       "            observer.disconnect();\n",
       "        }}\n",
       "}});\n",
       "\n",
       "// Listen for the removal of the full notebook cells\n",
       "var notebookContainer = gd.closest('#notebook-container');\n",
       "if (notebookContainer) {{\n",
       "    x.observe(notebookContainer, {childList: true});\n",
       "}}\n",
       "\n",
       "// Listen for the clearing of the current output cell\n",
       "var outputEl = gd.closest('.output');\n",
       "if (outputEl) {{\n",
       "    x.observe(outputEl, {childList: true});\n",
       "}}\n",
       "\n",
       "                        })                };                });            </script>        </div>"
      ]
     },
     "metadata": {},
     "output_type": "display_data"
    },
    {
     "data": {
      "text/html": [
       "<div>                            <div id=\"9613bce3-a2b9-4508-ba0f-fa65908bf664\" class=\"plotly-graph-div\" style=\"height:525px; width:100%;\"></div>            <script type=\"text/javascript\">                require([\"plotly\"], function(Plotly) {                    window.PLOTLYENV=window.PLOTLYENV || {};                                    if (document.getElementById(\"9613bce3-a2b9-4508-ba0f-fa65908bf664\")) {                    Plotly.newPlot(                        \"9613bce3-a2b9-4508-ba0f-fa65908bf664\",                        [{\"alignmentgroup\":\"True\",\"box\":{\"visible\":true},\"hovertemplate\":\"LowQualFinSF=%{y}<extra></extra>\",\"legendgroup\":\"\",\"marker\":{\"color\":\"#2C3E50\"},\"name\":\"LowQualFinSF\",\"offsetgroup\":\"\",\"orientation\":\"v\",\"points\":\"outliers\",\"scalegroup\":\"True\",\"showlegend\":true,\"x0\":\" \",\"xaxis\":\"x\",\"y\":[0,0,0,0,0,0,0,0,0,0,0,0,0,0,0,0,0,0,0,0,0,0,0,0,0,0,0,0,0,0,0,0,0,0,0,0,0,0,0,0,0,0,0,0,0,0,0,0,0,0,0,360,0,0,0,0,0,0,0,0,0,0,0,0,0,0,0,0,0,0,0,0,0,0,0,0,0,0,0,0,0,0,0,0,0,0,0,0,513,0,0,0,0,0,0,0,0,0,0,0,0,0,0,0,0,0,0,0,0,0,0,0,0,0,0,0,0,0,0,0,0,0,0,0,0,234,0,0,0,0,0,0,0,0,0,0,0,0,0,0,0,0,0,0,0,0,0,0,0,0,0,0,0,0,0,0,0,0,0,0,0,0,0,0,0,0,0,0,0,0,528,0,0,0,0,0,0,0,0,0,0,0,0,0,0,572,0,144,0,0,0,0,0,0,0,0,0,392,371,0,0,0,0,0,0,0,0,0,0,0,0,0,0,0,0,0,0,0,0,0,0,0,0,0,0,0,0,0,0,0,0,0,0,0,0,0,0,0,0,0,0,0,0,0,0,0,0,0,0,0,0,0,0,0,0,0,0,0,0,0,0,0,0,390,0,0,0,420,0,0,0,0,0,0,0,0,0,0,0,0,0,0,0,0,0,0,0,0,0,0,0,0,0,0,0,0,0,0,0,0,0,0,0,0,0,0,0,0,0,0,0,0,0,0,0,0,0,0,0,0,0,0,0,0,0,0,0,0,0,0,0,0,0,0,0,0,0,0,0,0,0,0,0,0,0,0,0,0,0,0,0,0,0,0,0,0,0,0,0,0,0,0,0,0,0,0,0,0,0,0,0,0,0,0,0,0,0,0,0,0,0,0,0,0,0,0,0,0,0,0,0,0,0,0,0,0,0,0,0,0,0,0,0,0,0,0,473,0,0,0,0,0,0,0,0,0,0,0,0,0,0,0,0,0,0,0,0,0,0,0,0,0,0,0,0,0,0,0,0,0,0,0,0,0,0,0,0,0,0,0,0,0,0,0,0,0,0,0,0,0,0,0,0,0,0,0,0,0,0,0,0,0,0,0,0,0,0,0,0,0,0,0,0,0,0,0,0,0,0,0,0,0,0,0,0,0,0,0,0,0,0,0,0,0,0,0,0,0,0,0,0,0,0,0,0,0,0,0,0,0,0,0,0,0,0,0,0,0,0,0,0,0,0,0,0,0,0,0,0,0,0,0,0,0,0,0,0,0,0,0,0,0,0,0,0,0,0,0,0,0,0,0,0,0,0,0,0,0,0,0,0,0,0,0,0,0,0,0,0,0,0,0,0,0,0,0,0,0,0,156,0,0,0,0,0,0,0,0,0,0,0,0,0,0,0,0,0,0,0,0,0,0,0,0,0,0,0,0,0,0,0,0,0,0,0,0,0,0,0,0,0,0,0,0,0,515,0,0,0,0,0,0,0,0,0,0,0,0,0,0,0,0,0,0,0,0,0,0,0,0,0,0,0,0,0,0,0,0,0,0,0,0,0,0,0,0,0,0,0,0,0,0,0,0,0,0,0,0,0,0,0,0,0,0,0,0,0,0,0,0,0,0,0,0,0,0,0,0,0,0,0,0,0,0,0,0,0,0,0,0,0,0,0,0,0,0,0,0,0,360,0,0,0,0,0,0,0,0,0,0,0,0,0,0,0,0,0,0,0,0,0,0,0,0,0,0,0,0,0,0,0,0,0,0,0,0,0,0,0,0,0,0,0,0,0,0,0,0,0,0,0,0,0,0,0,0,0,0,0,0,0,0,0,0,0,0,0,0,0,0,0,0,0,0,0,0,0,0,0,0,0,0,0,0,0,0,0,0,0,0,0,0,0,0,0,0,0,0,0,80,0,80,0,0,0,0,0,0,0,0,0,0,0,0,0,0,0,0,0,0,0,0,0,0,0,0,0,0,0,0,0,0,0,0,0,0,0,0,53,0,0,0,0,232,0,0,0,0,0,0,0,0,0,481,0,0,0,0,0,0,0,0,0,0,0,0,0,0,0,0,0,0,0,0,0,0,0,0,0,0,0,0,0,0,0,0,0,0,0,0,0,0,0,0,0,0,0,0,0,0,0,0,0,0,0,0,0,0,0,0,0,0,0,0,0,120,0,0,0,0,0,0,0,0,0,0,0,0,0,0,0,0,0,0,0,0,0,0,0,0,0,0,0,0,0,0,0,0,0,0,0,0,0,0,0,0,0,0,0,0,0,0,0,0,0,0,0,0,0,0,0,0,0,0,0,0,0,0,0,514,0,0,0,0,0,0,0,0,0,0,0,0,0,0,0,0,0,0,0,0,0,397,0,0,0,0,0,0,0,0,0,0,0,0,0,0,0,0,0,0,0,0,0,0,0,0,0,0,0,0,0,0,0,0,0,0,0,0,0,0,0,0,0,0,0,0,0,0,0,0,0,0,0,0,0,0,0,0,0,0,0,0,0,0,0,0,0,0,0,0,0,0,0,0,0,0,0,0,0,0,0,0,0,0,0,0,0,0,0,0,0,0,0,0,0,0,0,0,0,0,0,0,0,0,0,0,0,0,0,0,0,0,0,0,0,0,0,0,0,0,0,0,0,0,0,0,0,0,0,0,0,0,0,0,0,0,0,0,0,0,0,0,0,479,0,0,0,0,0,0,0,0,0,0,0,0,0,0,0,0,0,0,0,0,0,0,0,0,0,0,0,0,0,0,0,0,0,0,0,0,0,0,0,0,0,0,0,0,0,0,0,0,0,0,0,0,0,0,0,0,0,0,0,0,0,0,0,0,0,0,0,0,0,0,0,0,0,0,0,0,0,0,0,0,0,0,0,0,0,0,0,0,0,0,0,0,0,0,0,0,0,0,0,0,0,0,0,0,0,0,0,0,0,0,0,0,0,0,0,0,0,0,0,0,0,0,0,0,0,0,0,0,0,0,0,0,0,0,0,0,0,0,0,0,0,0,0,0,0,0,0,0,0,0,0,0,0,0,0,0,0,0,0,0,0,0,0,0,0,0,0,0,0,0,0,0,0,0,0,205,0,0,0,0,0,0,0,0,0,0,0,0,0,0,80,0,0,0,0,0,0,0,0,0,0,0,0,0,0,0,0,0,0,0,0,0,0,0,0,0,0,0,0,0,0,0,0,0,0,0,0,0,0,0,0,0,0,0,0,0,0,0,0,0,0,0,0,0,0,0,0,0,0,0,0,0,0,0,0,0,0,0,0,0,0,0,0,0,0,0,384,0,0,0,0,0,0,0,0,0,0,0,0,0,0,0,0,0,0,0],\"y0\":\" \",\"yaxis\":\"y\",\"type\":\"violin\",\"opacity\":0.8}],                        {\"template\":{\"data\":{\"histogram2dcontour\":[{\"type\":\"histogram2dcontour\",\"colorbar\":{\"outlinewidth\":0,\"ticks\":\"\"},\"colorscale\":[[0.0,\"#0d0887\"],[0.1111111111111111,\"#46039f\"],[0.2222222222222222,\"#7201a8\"],[0.3333333333333333,\"#9c179e\"],[0.4444444444444444,\"#bd3786\"],[0.5555555555555556,\"#d8576b\"],[0.6666666666666666,\"#ed7953\"],[0.7777777777777778,\"#fb9f3a\"],[0.8888888888888888,\"#fdca26\"],[1.0,\"#f0f921\"]]}],\"choropleth\":[{\"type\":\"choropleth\",\"colorbar\":{\"outlinewidth\":0,\"ticks\":\"\"}}],\"histogram2d\":[{\"type\":\"histogram2d\",\"colorbar\":{\"outlinewidth\":0,\"ticks\":\"\"},\"colorscale\":[[0.0,\"#0d0887\"],[0.1111111111111111,\"#46039f\"],[0.2222222222222222,\"#7201a8\"],[0.3333333333333333,\"#9c179e\"],[0.4444444444444444,\"#bd3786\"],[0.5555555555555556,\"#d8576b\"],[0.6666666666666666,\"#ed7953\"],[0.7777777777777778,\"#fb9f3a\"],[0.8888888888888888,\"#fdca26\"],[1.0,\"#f0f921\"]]}],\"heatmap\":[{\"type\":\"heatmap\",\"colorbar\":{\"outlinewidth\":0,\"ticks\":\"\"},\"colorscale\":[[0.0,\"#0d0887\"],[0.1111111111111111,\"#46039f\"],[0.2222222222222222,\"#7201a8\"],[0.3333333333333333,\"#9c179e\"],[0.4444444444444444,\"#bd3786\"],[0.5555555555555556,\"#d8576b\"],[0.6666666666666666,\"#ed7953\"],[0.7777777777777778,\"#fb9f3a\"],[0.8888888888888888,\"#fdca26\"],[1.0,\"#f0f921\"]]}],\"heatmapgl\":[{\"type\":\"heatmapgl\",\"colorbar\":{\"outlinewidth\":0,\"ticks\":\"\"},\"colorscale\":[[0.0,\"#0d0887\"],[0.1111111111111111,\"#46039f\"],[0.2222222222222222,\"#7201a8\"],[0.3333333333333333,\"#9c179e\"],[0.4444444444444444,\"#bd3786\"],[0.5555555555555556,\"#d8576b\"],[0.6666666666666666,\"#ed7953\"],[0.7777777777777778,\"#fb9f3a\"],[0.8888888888888888,\"#fdca26\"],[1.0,\"#f0f921\"]]}],\"contourcarpet\":[{\"type\":\"contourcarpet\",\"colorbar\":{\"outlinewidth\":0,\"ticks\":\"\"}}],\"contour\":[{\"type\":\"contour\",\"colorbar\":{\"outlinewidth\":0,\"ticks\":\"\"},\"colorscale\":[[0.0,\"#0d0887\"],[0.1111111111111111,\"#46039f\"],[0.2222222222222222,\"#7201a8\"],[0.3333333333333333,\"#9c179e\"],[0.4444444444444444,\"#bd3786\"],[0.5555555555555556,\"#d8576b\"],[0.6666666666666666,\"#ed7953\"],[0.7777777777777778,\"#fb9f3a\"],[0.8888888888888888,\"#fdca26\"],[1.0,\"#f0f921\"]]}],\"surface\":[{\"type\":\"surface\",\"colorbar\":{\"outlinewidth\":0,\"ticks\":\"\"},\"colorscale\":[[0.0,\"#0d0887\"],[0.1111111111111111,\"#46039f\"],[0.2222222222222222,\"#7201a8\"],[0.3333333333333333,\"#9c179e\"],[0.4444444444444444,\"#bd3786\"],[0.5555555555555556,\"#d8576b\"],[0.6666666666666666,\"#ed7953\"],[0.7777777777777778,\"#fb9f3a\"],[0.8888888888888888,\"#fdca26\"],[1.0,\"#f0f921\"]]}],\"mesh3d\":[{\"type\":\"mesh3d\",\"colorbar\":{\"outlinewidth\":0,\"ticks\":\"\"}}],\"scatter\":[{\"fillpattern\":{\"fillmode\":\"overlay\",\"size\":10,\"solidity\":0.2},\"type\":\"scatter\"}],\"parcoords\":[{\"type\":\"parcoords\",\"line\":{\"colorbar\":{\"outlinewidth\":0,\"ticks\":\"\"}}}],\"scatterpolargl\":[{\"type\":\"scatterpolargl\",\"marker\":{\"colorbar\":{\"outlinewidth\":0,\"ticks\":\"\"}}}],\"bar\":[{\"error_x\":{\"color\":\"#2a3f5f\"},\"error_y\":{\"color\":\"#2a3f5f\"},\"marker\":{\"line\":{\"color\":\"#E5ECF6\",\"width\":0.5},\"pattern\":{\"fillmode\":\"overlay\",\"size\":10,\"solidity\":0.2}},\"type\":\"bar\"}],\"scattergeo\":[{\"type\":\"scattergeo\",\"marker\":{\"colorbar\":{\"outlinewidth\":0,\"ticks\":\"\"}}}],\"scatterpolar\":[{\"type\":\"scatterpolar\",\"marker\":{\"colorbar\":{\"outlinewidth\":0,\"ticks\":\"\"}}}],\"histogram\":[{\"marker\":{\"pattern\":{\"fillmode\":\"overlay\",\"size\":10,\"solidity\":0.2}},\"type\":\"histogram\"}],\"scattergl\":[{\"type\":\"scattergl\",\"marker\":{\"colorbar\":{\"outlinewidth\":0,\"ticks\":\"\"}}}],\"scatter3d\":[{\"type\":\"scatter3d\",\"line\":{\"colorbar\":{\"outlinewidth\":0,\"ticks\":\"\"}},\"marker\":{\"colorbar\":{\"outlinewidth\":0,\"ticks\":\"\"}}}],\"scattermapbox\":[{\"type\":\"scattermapbox\",\"marker\":{\"colorbar\":{\"outlinewidth\":0,\"ticks\":\"\"}}}],\"scatterternary\":[{\"type\":\"scatterternary\",\"marker\":{\"colorbar\":{\"outlinewidth\":0,\"ticks\":\"\"}}}],\"scattercarpet\":[{\"type\":\"scattercarpet\",\"marker\":{\"colorbar\":{\"outlinewidth\":0,\"ticks\":\"\"}}}],\"carpet\":[{\"aaxis\":{\"endlinecolor\":\"#2a3f5f\",\"gridcolor\":\"white\",\"linecolor\":\"white\",\"minorgridcolor\":\"white\",\"startlinecolor\":\"#2a3f5f\"},\"baxis\":{\"endlinecolor\":\"#2a3f5f\",\"gridcolor\":\"white\",\"linecolor\":\"white\",\"minorgridcolor\":\"white\",\"startlinecolor\":\"#2a3f5f\"},\"type\":\"carpet\"}],\"table\":[{\"cells\":{\"fill\":{\"color\":\"#EBF0F8\"},\"line\":{\"color\":\"white\"}},\"header\":{\"fill\":{\"color\":\"#C8D4E3\"},\"line\":{\"color\":\"white\"}},\"type\":\"table\"}],\"barpolar\":[{\"marker\":{\"line\":{\"color\":\"#E5ECF6\",\"width\":0.5},\"pattern\":{\"fillmode\":\"overlay\",\"size\":10,\"solidity\":0.2}},\"type\":\"barpolar\"}],\"pie\":[{\"automargin\":true,\"type\":\"pie\"}]},\"layout\":{\"autotypenumbers\":\"strict\",\"colorway\":[\"#636efa\",\"#EF553B\",\"#00cc96\",\"#ab63fa\",\"#FFA15A\",\"#19d3f3\",\"#FF6692\",\"#B6E880\",\"#FF97FF\",\"#FECB52\"],\"font\":{\"color\":\"#2a3f5f\"},\"hovermode\":\"closest\",\"hoverlabel\":{\"align\":\"left\"},\"paper_bgcolor\":\"white\",\"plot_bgcolor\":\"#E5ECF6\",\"polar\":{\"bgcolor\":\"#E5ECF6\",\"angularaxis\":{\"gridcolor\":\"white\",\"linecolor\":\"white\",\"ticks\":\"\"},\"radialaxis\":{\"gridcolor\":\"white\",\"linecolor\":\"white\",\"ticks\":\"\"}},\"ternary\":{\"bgcolor\":\"#E5ECF6\",\"aaxis\":{\"gridcolor\":\"white\",\"linecolor\":\"white\",\"ticks\":\"\"},\"baxis\":{\"gridcolor\":\"white\",\"linecolor\":\"white\",\"ticks\":\"\"},\"caxis\":{\"gridcolor\":\"white\",\"linecolor\":\"white\",\"ticks\":\"\"}},\"coloraxis\":{\"colorbar\":{\"outlinewidth\":0,\"ticks\":\"\"}},\"colorscale\":{\"sequential\":[[0.0,\"#0d0887\"],[0.1111111111111111,\"#46039f\"],[0.2222222222222222,\"#7201a8\"],[0.3333333333333333,\"#9c179e\"],[0.4444444444444444,\"#bd3786\"],[0.5555555555555556,\"#d8576b\"],[0.6666666666666666,\"#ed7953\"],[0.7777777777777778,\"#fb9f3a\"],[0.8888888888888888,\"#fdca26\"],[1.0,\"#f0f921\"]],\"sequentialminus\":[[0.0,\"#0d0887\"],[0.1111111111111111,\"#46039f\"],[0.2222222222222222,\"#7201a8\"],[0.3333333333333333,\"#9c179e\"],[0.4444444444444444,\"#bd3786\"],[0.5555555555555556,\"#d8576b\"],[0.6666666666666666,\"#ed7953\"],[0.7777777777777778,\"#fb9f3a\"],[0.8888888888888888,\"#fdca26\"],[1.0,\"#f0f921\"]],\"diverging\":[[0,\"#8e0152\"],[0.1,\"#c51b7d\"],[0.2,\"#de77ae\"],[0.3,\"#f1b6da\"],[0.4,\"#fde0ef\"],[0.5,\"#f7f7f7\"],[0.6,\"#e6f5d0\"],[0.7,\"#b8e186\"],[0.8,\"#7fbc41\"],[0.9,\"#4d9221\"],[1,\"#276419\"]]},\"xaxis\":{\"gridcolor\":\"white\",\"linecolor\":\"white\",\"ticks\":\"\",\"title\":{\"standoff\":15},\"zerolinecolor\":\"white\",\"automargin\":true,\"zerolinewidth\":2},\"yaxis\":{\"gridcolor\":\"white\",\"linecolor\":\"white\",\"ticks\":\"\",\"title\":{\"standoff\":15},\"zerolinecolor\":\"white\",\"automargin\":true,\"zerolinewidth\":2},\"scene\":{\"xaxis\":{\"backgroundcolor\":\"#E5ECF6\",\"gridcolor\":\"white\",\"linecolor\":\"white\",\"showbackground\":true,\"ticks\":\"\",\"zerolinecolor\":\"white\",\"gridwidth\":2},\"yaxis\":{\"backgroundcolor\":\"#E5ECF6\",\"gridcolor\":\"white\",\"linecolor\":\"white\",\"showbackground\":true,\"ticks\":\"\",\"zerolinecolor\":\"white\",\"gridwidth\":2},\"zaxis\":{\"backgroundcolor\":\"#E5ECF6\",\"gridcolor\":\"white\",\"linecolor\":\"white\",\"showbackground\":true,\"ticks\":\"\",\"zerolinecolor\":\"white\",\"gridwidth\":2}},\"shapedefaults\":{\"line\":{\"color\":\"#2a3f5f\"}},\"annotationdefaults\":{\"arrowcolor\":\"#2a3f5f\",\"arrowhead\":0,\"arrowwidth\":1},\"geo\":{\"bgcolor\":\"white\",\"landcolor\":\"#E5ECF6\",\"subunitcolor\":\"white\",\"showland\":true,\"showlakes\":true,\"lakecolor\":\"white\"},\"title\":{\"x\":0.05},\"mapbox\":{\"style\":\"light\"}}},\"xaxis\":{\"anchor\":\"y\",\"domain\":[0.0,1.0],\"title\":{\"text\":\"LowQualFinSF\"}},\"yaxis\":{\"anchor\":\"x\",\"domain\":[0.0,1.0],\"title\":{\"text\":\"\"},\"gridcolor\":\"#DCDCDC\",\"zerolinecolor\":\"#DCDCDC\"},\"legend\":{\"tracegroupgap\":0},\"margin\":{\"t\":60},\"violinmode\":\"group\",\"paper_bgcolor\":\"#F5F5F5\",\"plot_bgcolor\":\"#F5F5F5\"},                        {\"responsive\": true}                    ).then(function(){\n",
       "                            \n",
       "var gd = document.getElementById('9613bce3-a2b9-4508-ba0f-fa65908bf664');\n",
       "var x = new MutationObserver(function (mutations, observer) {{\n",
       "        var display = window.getComputedStyle(gd).display;\n",
       "        if (!display || display === 'none') {{\n",
       "            console.log([gd, 'removed!']);\n",
       "            Plotly.purge(gd);\n",
       "            observer.disconnect();\n",
       "        }}\n",
       "}});\n",
       "\n",
       "// Listen for the removal of the full notebook cells\n",
       "var notebookContainer = gd.closest('#notebook-container');\n",
       "if (notebookContainer) {{\n",
       "    x.observe(notebookContainer, {childList: true});\n",
       "}}\n",
       "\n",
       "// Listen for the clearing of the current output cell\n",
       "var outputEl = gd.closest('.output');\n",
       "if (outputEl) {{\n",
       "    x.observe(outputEl, {childList: true});\n",
       "}}\n",
       "\n",
       "                        })                };                });            </script>        </div>"
      ]
     },
     "metadata": {},
     "output_type": "display_data"
    },
    {
     "data": {
      "text/html": [
       "<div>                            <div id=\"0afbab8b-7b13-4b33-90e2-a8633a5077f6\" class=\"plotly-graph-div\" style=\"height:525px; width:100%;\"></div>            <script type=\"text/javascript\">                require([\"plotly\"], function(Plotly) {                    window.PLOTLYENV=window.PLOTLYENV || {};                                    if (document.getElementById(\"0afbab8b-7b13-4b33-90e2-a8633a5077f6\")) {                    Plotly.newPlot(                        \"0afbab8b-7b13-4b33-90e2-a8633a5077f6\",                        [{\"alignmentgroup\":\"True\",\"box\":{\"visible\":true},\"hovertemplate\":\"GrLivArea=%{y}<extra></extra>\",\"legendgroup\":\"\",\"marker\":{\"color\":\"#2C3E50\"},\"name\":\"GrLivArea\",\"offsetgroup\":\"\",\"orientation\":\"v\",\"points\":\"outliers\",\"scalegroup\":\"True\",\"showlegend\":true,\"x0\":\" \",\"xaxis\":\"x\",\"y\":[1710,1262,1786,1717,2198,1362,1694,2090,1774,1077,1040,2324,912,1494,1253,854,1004,1296,1114,1339,2376,1108,1795,1060,1060,1600,900,1704,1600,520,1317,1228,1234,1700,1561,2452,1097,1297,1057,1152,1324,1328,884,938,1150,1752,2149,1656,1452,955,1470,1176,816,1842,1360,1425,1739,1720,2945,780,1158,1111,1370,1710,2034,2473,2207,1479,747,2287,2223,845,1718,1086,1605,988,952,1285,1768,1230,2142,1337,1563,1065,1474,2417,1560,1224,1526,990,1040,1235,964,2291,1786,1470,1588,960,835,1225,1610,1732,1535,1226,1818,1992,1047,789,1517,1844,1855,1430,2696,2259,2320,1458,1092,1125,3222,1456,988,1123,1080,1199,1586,754,958,840,1348,1053,2157,2054,1327,1296,1721,1682,1214,1959,1852,1764,864,1734,1385,1501,1728,1709,875,2035,1080,1344,969,1710,1993,1252,1200,1096,1040,1968,1947,2462,1232,2668,1541,882,1616,1355,1867,2161,1720,1707,1382,1656,1767,1362,1651,2158,2060,1920,2234,968,1525,1802,1340,2082,1252,3608,1217,1656,1224,1593,2727,1479,1431,1709,864,1456,1726,3112,2229,1713,1121,1279,1310,848,1284,1442,1696,1100,2062,1092,864,1212,1852,990,1392,1236,1436,1328,1954,1248,1498,2267,1552,864,2392,1302,2520,987,912,1555,1194,2794,987,894,1960,987,1414,1744,1694,1487,1566,866,1440,1217,2110,1872,1928,1375,1668,2144,1306,1625,1640,1302,1314,2291,1728,1604,1792,882,1382,2574,1212,1316,764,1422,1511,2192,778,1113,1939,1363,2270,1632,816,1548,1560,864,2121,2022,1982,1262,1314,1468,1575,1250,1734,858,900,1396,1919,1716,1716,2263,1644,1003,1558,1950,1743,1152,1336,2452,1541,894,3493,2000,2243,1406,861,1944,1501,972,1118,2036,1641,1432,2353,1959,2646,1472,2596,2468,2730,1163,2978,803,1719,1383,2134,1192,1728,1056,1629,1358,1638,1786,1922,1536,1621,1215,1908,841,1040,1684,1112,1577,958,1478,1626,2728,1869,1453,1111,720,1595,1200,1167,1142,1352,1924,912,1505,1922,987,1574,1344,1394,1431,1268,1287,1664,1588,752,1319,1928,904,914,2466,1856,1800,1691,1301,1797,784,1953,1269,1184,1125,1479,2332,1367,1961,882,788,1034,1144,894,1812,1077,1550,1288,1310,672,2263,1572,1620,1639,1680,2172,2078,1276,1056,1478,1028,2097,1340,1400,2624,1134,1056,1344,1602,988,2630,1196,1389,1644,907,1208,1412,987,1198,1365,1604,630,1661,1118,904,694,1196,2402,1440,1573,1258,1908,1689,1888,1886,1376,1183,813,1533,1756,1590,1728,1242,1344,1663,1666,1203,1935,1135,864,1660,1040,1414,1277,1644,1634,1710,1502,1969,1072,1976,1652,970,1493,2643,1718,1131,1850,1792,1826,1216,999,1113,1073,1484,2414,630,1304,1578,1456,1269,886,720,3228,1820,899,912,1218,1768,1214,1801,1322,1960,1911,1218,1378,1041,1363,1368,864,1080,789,2020,2119,2344,1796,2080,1294,1244,1664,4676,2398,1266,928,2713,605,2515,1509,1362,827,334,1414,1347,1724,864,1159,1601,1838,2285,1680,767,1496,2183,1635,768,825,2094,1069,928,1717,1126,2046,1048,1092,1336,1446,1557,1392,1389,996,1674,2295,1647,2504,1535,2132,943,1728,864,1692,1430,1109,1216,1477,1320,1392,1795,1429,2042,816,2775,1573,2028,838,860,1473,935,1582,2296,816,848,924,1826,1368,1402,1647,1556,1904,1375,1915,1200,1494,1986,1040,2008,3194,1029,2153,1032,1872,1120,630,1054,1509,832,1828,2262,864,2614,980,1512,1790,1116,1422,1520,2080,1350,1750,1554,1411,1056,1056,3395,800,1387,796,1567,1518,1929,2704,1620,1766,981,1048,1094,1839,630,1665,1510,1716,1469,2113,1092,1053,1502,1458,1486,1935,2448,1392,1181,2097,1936,2380,1679,1437,1180,1476,1369,1208,1839,1136,1441,1774,792,2046,988,923,1520,1291,1668,1839,2090,1761,1102,1419,1362,848,4316,2519,1073,1539,1137,616,1148,894,1391,1800,1164,2576,1812,1484,1092,1824,1324,1456,904,729,1178,1228,960,1479,1350,2554,1178,2418,971,1742,848,864,1470,1698,864,1680,1232,1776,1208,1616,1146,2031,1144,948,1768,1040,1801,1200,1728,1432,912,1349,1464,1337,2715,2256,2640,1720,1529,1140,1320,1494,2098,1026,1471,1768,1386,1501,2531,864,1301,1547,2365,1494,1506,1714,1750,1836,3279,858,1220,1117,912,1973,1204,1614,894,2020,1004,1253,1603,1430,1110,1484,1342,1652,2084,901,2087,1145,1062,2013,1496,1895,1564,1285,773,3140,1768,1688,1196,1456,2822,1128,1428,980,1576,1086,2138,1309,848,1044,1442,1250,1661,1008,1689,1052,1358,1640,936,1733,1489,1489,2084,784,1434,2126,1223,1392,1200,1829,1516,1144,1067,1559,987,1099,1200,1482,1539,1165,1800,1416,1701,1775,864,2358,1855,848,1456,1646,1445,1779,1040,1026,1481,1370,2654,1426,1039,1097,1148,1372,1002,1646,1120,2320,1949,894,1682,910,1268,1131,2610,1040,2224,1155,864,1090,1717,1593,2230,892,1709,1712,1393,2217,1505,924,1683,1068,1383,1535,1796,951,2240,2364,1236,858,1306,1509,1670,902,1063,1636,2057,902,1484,2274,1268,1015,2002,1224,1092,480,1229,2127,1414,1721,2200,1316,1617,1686,1126,2374,1978,1788,2236,1466,925,1905,1500,2069,747,1200,1971,1962,2403,1728,2060,1440,1632,1344,1869,1144,1629,1776,1381,864,965,768,1968,980,1958,1229,1057,1337,1416,858,2872,1548,1800,1894,1484,1308,1098,968,1095,1192,1626,918,1428,2019,1382,869,1241,894,1121,999,2612,1266,2290,1734,1164,1635,1940,2030,1576,2392,1742,1851,1500,1718,1230,1050,1442,1077,1208,944,691,1574,1680,1504,985,1657,1092,1710,1522,1271,1664,1502,1022,1082,1665,1504,1360,1472,1506,1132,1220,1248,1504,2898,882,1264,1646,1376,1218,1928,3082,2520,1654,954,845,1620,2263,1344,630,1803,1632,1306,2329,2524,1733,2868,990,1771,930,1302,1316,1977,1526,1989,1523,1364,1850,2184,1991,1338,894,2337,1103,1154,2260,1571,1611,2521,893,1048,1556,1456,1426,1240,1740,1466,1096,848,990,1258,1040,1459,1251,1498,996,1092,1953,1709,1247,1040,1252,1694,1200,936,1314,1355,1088,1324,1601,438,950,1134,1194,1302,2622,1442,2021,1690,1836,1658,1964,816,1008,833,1734,1419,894,1601,1040,1012,1552,960,698,1482,1005,1555,1530,1959,936,1981,974,2210,2020,1600,986,1252,1020,1567,1167,952,1868,2828,1006,924,1576,1298,1564,1111,1482,932,1466,1811,816,1820,1437,1265,1314,1580,1876,1456,1640,894,1258,1432,1502,1694,1671,2108,3627,1118,1261,1250,3086,2345,2872,923,1224,1343,1124,2514,1652,4476,1130,1572,1221,1699,1624,1660,1804,1622,1441,1472,1224,1352,1456,1863,1690,1212,1382,864,1779,1348,1630,1074,2196,1056,1700,1283,1660,1845,1752,672,960,999,894,1902,1314,912,1218,912,1211,1846,2136,1490,1138,1933,912,1702,1507,2620,1190,1224,1188,1964,1784,1626,1948,1141,1484,1768,1689,1173,2076,1517,1868,1553,1034,2058,988,2110,1405,874,2167,1656,1367,1987,864,1166,1054,1675,1050,1788,1824,1337,1452,1889,2018,3447,1524,1524,1489,935,1357,1250,1920,1395,1724,2031,1128,1573,1339,1040,1824,2447,1412,1328,1582,1659,1970,1152,1302,2372,1664,864,1052,1128,1072,5642,1246,1983,1494,2526,1616,1708,1652,1368,990,1122,1294,1902,1274,2810,2599,948,2112,1630,1352,1787,948,1478,720,1923,708,1795,796,774,816,2792,1632,1588,954,816,1360,1365,1334,1656,693,1861,864,872,1114,2169,1913,1456,960,2156,1776,1494,2358,2634,1716,1176,3238,1865,1920,892,1078,1573,1980,2601,1530,1738,1412,1200,1674,1790,1475,848,1668,1374,1661,2097,2633,1958,1571,790,1604,987,1394,864,2117,1762,1416,1258,1154,2784,2526,1746,1218,1525,1584,900,1912,1500,2482,1687,1513,1904,1608,1158,1593,1294,1464,1214,1646,768,833,1363,2093,1840,1668,1040,1844,1848,1569,2290,2450,1144,1844,1416,1069,848,2201,1344,1252,2127,1558,804,1440,1838,958,968,1792,1126,1537,864,1932,1236,1725,2555,848,2007,952,1422,913,1188,2090,1346,630,1792,1578,1072,1140,1221,1647,2073,2340,1078,1256],\"y0\":\" \",\"yaxis\":\"y\",\"type\":\"violin\",\"opacity\":0.8}],                        {\"template\":{\"data\":{\"histogram2dcontour\":[{\"type\":\"histogram2dcontour\",\"colorbar\":{\"outlinewidth\":0,\"ticks\":\"\"},\"colorscale\":[[0.0,\"#0d0887\"],[0.1111111111111111,\"#46039f\"],[0.2222222222222222,\"#7201a8\"],[0.3333333333333333,\"#9c179e\"],[0.4444444444444444,\"#bd3786\"],[0.5555555555555556,\"#d8576b\"],[0.6666666666666666,\"#ed7953\"],[0.7777777777777778,\"#fb9f3a\"],[0.8888888888888888,\"#fdca26\"],[1.0,\"#f0f921\"]]}],\"choropleth\":[{\"type\":\"choropleth\",\"colorbar\":{\"outlinewidth\":0,\"ticks\":\"\"}}],\"histogram2d\":[{\"type\":\"histogram2d\",\"colorbar\":{\"outlinewidth\":0,\"ticks\":\"\"},\"colorscale\":[[0.0,\"#0d0887\"],[0.1111111111111111,\"#46039f\"],[0.2222222222222222,\"#7201a8\"],[0.3333333333333333,\"#9c179e\"],[0.4444444444444444,\"#bd3786\"],[0.5555555555555556,\"#d8576b\"],[0.6666666666666666,\"#ed7953\"],[0.7777777777777778,\"#fb9f3a\"],[0.8888888888888888,\"#fdca26\"],[1.0,\"#f0f921\"]]}],\"heatmap\":[{\"type\":\"heatmap\",\"colorbar\":{\"outlinewidth\":0,\"ticks\":\"\"},\"colorscale\":[[0.0,\"#0d0887\"],[0.1111111111111111,\"#46039f\"],[0.2222222222222222,\"#7201a8\"],[0.3333333333333333,\"#9c179e\"],[0.4444444444444444,\"#bd3786\"],[0.5555555555555556,\"#d8576b\"],[0.6666666666666666,\"#ed7953\"],[0.7777777777777778,\"#fb9f3a\"],[0.8888888888888888,\"#fdca26\"],[1.0,\"#f0f921\"]]}],\"heatmapgl\":[{\"type\":\"heatmapgl\",\"colorbar\":{\"outlinewidth\":0,\"ticks\":\"\"},\"colorscale\":[[0.0,\"#0d0887\"],[0.1111111111111111,\"#46039f\"],[0.2222222222222222,\"#7201a8\"],[0.3333333333333333,\"#9c179e\"],[0.4444444444444444,\"#bd3786\"],[0.5555555555555556,\"#d8576b\"],[0.6666666666666666,\"#ed7953\"],[0.7777777777777778,\"#fb9f3a\"],[0.8888888888888888,\"#fdca26\"],[1.0,\"#f0f921\"]]}],\"contourcarpet\":[{\"type\":\"contourcarpet\",\"colorbar\":{\"outlinewidth\":0,\"ticks\":\"\"}}],\"contour\":[{\"type\":\"contour\",\"colorbar\":{\"outlinewidth\":0,\"ticks\":\"\"},\"colorscale\":[[0.0,\"#0d0887\"],[0.1111111111111111,\"#46039f\"],[0.2222222222222222,\"#7201a8\"],[0.3333333333333333,\"#9c179e\"],[0.4444444444444444,\"#bd3786\"],[0.5555555555555556,\"#d8576b\"],[0.6666666666666666,\"#ed7953\"],[0.7777777777777778,\"#fb9f3a\"],[0.8888888888888888,\"#fdca26\"],[1.0,\"#f0f921\"]]}],\"surface\":[{\"type\":\"surface\",\"colorbar\":{\"outlinewidth\":0,\"ticks\":\"\"},\"colorscale\":[[0.0,\"#0d0887\"],[0.1111111111111111,\"#46039f\"],[0.2222222222222222,\"#7201a8\"],[0.3333333333333333,\"#9c179e\"],[0.4444444444444444,\"#bd3786\"],[0.5555555555555556,\"#d8576b\"],[0.6666666666666666,\"#ed7953\"],[0.7777777777777778,\"#fb9f3a\"],[0.8888888888888888,\"#fdca26\"],[1.0,\"#f0f921\"]]}],\"mesh3d\":[{\"type\":\"mesh3d\",\"colorbar\":{\"outlinewidth\":0,\"ticks\":\"\"}}],\"scatter\":[{\"fillpattern\":{\"fillmode\":\"overlay\",\"size\":10,\"solidity\":0.2},\"type\":\"scatter\"}],\"parcoords\":[{\"type\":\"parcoords\",\"line\":{\"colorbar\":{\"outlinewidth\":0,\"ticks\":\"\"}}}],\"scatterpolargl\":[{\"type\":\"scatterpolargl\",\"marker\":{\"colorbar\":{\"outlinewidth\":0,\"ticks\":\"\"}}}],\"bar\":[{\"error_x\":{\"color\":\"#2a3f5f\"},\"error_y\":{\"color\":\"#2a3f5f\"},\"marker\":{\"line\":{\"color\":\"#E5ECF6\",\"width\":0.5},\"pattern\":{\"fillmode\":\"overlay\",\"size\":10,\"solidity\":0.2}},\"type\":\"bar\"}],\"scattergeo\":[{\"type\":\"scattergeo\",\"marker\":{\"colorbar\":{\"outlinewidth\":0,\"ticks\":\"\"}}}],\"scatterpolar\":[{\"type\":\"scatterpolar\",\"marker\":{\"colorbar\":{\"outlinewidth\":0,\"ticks\":\"\"}}}],\"histogram\":[{\"marker\":{\"pattern\":{\"fillmode\":\"overlay\",\"size\":10,\"solidity\":0.2}},\"type\":\"histogram\"}],\"scattergl\":[{\"type\":\"scattergl\",\"marker\":{\"colorbar\":{\"outlinewidth\":0,\"ticks\":\"\"}}}],\"scatter3d\":[{\"type\":\"scatter3d\",\"line\":{\"colorbar\":{\"outlinewidth\":0,\"ticks\":\"\"}},\"marker\":{\"colorbar\":{\"outlinewidth\":0,\"ticks\":\"\"}}}],\"scattermapbox\":[{\"type\":\"scattermapbox\",\"marker\":{\"colorbar\":{\"outlinewidth\":0,\"ticks\":\"\"}}}],\"scatterternary\":[{\"type\":\"scatterternary\",\"marker\":{\"colorbar\":{\"outlinewidth\":0,\"ticks\":\"\"}}}],\"scattercarpet\":[{\"type\":\"scattercarpet\",\"marker\":{\"colorbar\":{\"outlinewidth\":0,\"ticks\":\"\"}}}],\"carpet\":[{\"aaxis\":{\"endlinecolor\":\"#2a3f5f\",\"gridcolor\":\"white\",\"linecolor\":\"white\",\"minorgridcolor\":\"white\",\"startlinecolor\":\"#2a3f5f\"},\"baxis\":{\"endlinecolor\":\"#2a3f5f\",\"gridcolor\":\"white\",\"linecolor\":\"white\",\"minorgridcolor\":\"white\",\"startlinecolor\":\"#2a3f5f\"},\"type\":\"carpet\"}],\"table\":[{\"cells\":{\"fill\":{\"color\":\"#EBF0F8\"},\"line\":{\"color\":\"white\"}},\"header\":{\"fill\":{\"color\":\"#C8D4E3\"},\"line\":{\"color\":\"white\"}},\"type\":\"table\"}],\"barpolar\":[{\"marker\":{\"line\":{\"color\":\"#E5ECF6\",\"width\":0.5},\"pattern\":{\"fillmode\":\"overlay\",\"size\":10,\"solidity\":0.2}},\"type\":\"barpolar\"}],\"pie\":[{\"automargin\":true,\"type\":\"pie\"}]},\"layout\":{\"autotypenumbers\":\"strict\",\"colorway\":[\"#636efa\",\"#EF553B\",\"#00cc96\",\"#ab63fa\",\"#FFA15A\",\"#19d3f3\",\"#FF6692\",\"#B6E880\",\"#FF97FF\",\"#FECB52\"],\"font\":{\"color\":\"#2a3f5f\"},\"hovermode\":\"closest\",\"hoverlabel\":{\"align\":\"left\"},\"paper_bgcolor\":\"white\",\"plot_bgcolor\":\"#E5ECF6\",\"polar\":{\"bgcolor\":\"#E5ECF6\",\"angularaxis\":{\"gridcolor\":\"white\",\"linecolor\":\"white\",\"ticks\":\"\"},\"radialaxis\":{\"gridcolor\":\"white\",\"linecolor\":\"white\",\"ticks\":\"\"}},\"ternary\":{\"bgcolor\":\"#E5ECF6\",\"aaxis\":{\"gridcolor\":\"white\",\"linecolor\":\"white\",\"ticks\":\"\"},\"baxis\":{\"gridcolor\":\"white\",\"linecolor\":\"white\",\"ticks\":\"\"},\"caxis\":{\"gridcolor\":\"white\",\"linecolor\":\"white\",\"ticks\":\"\"}},\"coloraxis\":{\"colorbar\":{\"outlinewidth\":0,\"ticks\":\"\"}},\"colorscale\":{\"sequential\":[[0.0,\"#0d0887\"],[0.1111111111111111,\"#46039f\"],[0.2222222222222222,\"#7201a8\"],[0.3333333333333333,\"#9c179e\"],[0.4444444444444444,\"#bd3786\"],[0.5555555555555556,\"#d8576b\"],[0.6666666666666666,\"#ed7953\"],[0.7777777777777778,\"#fb9f3a\"],[0.8888888888888888,\"#fdca26\"],[1.0,\"#f0f921\"]],\"sequentialminus\":[[0.0,\"#0d0887\"],[0.1111111111111111,\"#46039f\"],[0.2222222222222222,\"#7201a8\"],[0.3333333333333333,\"#9c179e\"],[0.4444444444444444,\"#bd3786\"],[0.5555555555555556,\"#d8576b\"],[0.6666666666666666,\"#ed7953\"],[0.7777777777777778,\"#fb9f3a\"],[0.8888888888888888,\"#fdca26\"],[1.0,\"#f0f921\"]],\"diverging\":[[0,\"#8e0152\"],[0.1,\"#c51b7d\"],[0.2,\"#de77ae\"],[0.3,\"#f1b6da\"],[0.4,\"#fde0ef\"],[0.5,\"#f7f7f7\"],[0.6,\"#e6f5d0\"],[0.7,\"#b8e186\"],[0.8,\"#7fbc41\"],[0.9,\"#4d9221\"],[1,\"#276419\"]]},\"xaxis\":{\"gridcolor\":\"white\",\"linecolor\":\"white\",\"ticks\":\"\",\"title\":{\"standoff\":15},\"zerolinecolor\":\"white\",\"automargin\":true,\"zerolinewidth\":2},\"yaxis\":{\"gridcolor\":\"white\",\"linecolor\":\"white\",\"ticks\":\"\",\"title\":{\"standoff\":15},\"zerolinecolor\":\"white\",\"automargin\":true,\"zerolinewidth\":2},\"scene\":{\"xaxis\":{\"backgroundcolor\":\"#E5ECF6\",\"gridcolor\":\"white\",\"linecolor\":\"white\",\"showbackground\":true,\"ticks\":\"\",\"zerolinecolor\":\"white\",\"gridwidth\":2},\"yaxis\":{\"backgroundcolor\":\"#E5ECF6\",\"gridcolor\":\"white\",\"linecolor\":\"white\",\"showbackground\":true,\"ticks\":\"\",\"zerolinecolor\":\"white\",\"gridwidth\":2},\"zaxis\":{\"backgroundcolor\":\"#E5ECF6\",\"gridcolor\":\"white\",\"linecolor\":\"white\",\"showbackground\":true,\"ticks\":\"\",\"zerolinecolor\":\"white\",\"gridwidth\":2}},\"shapedefaults\":{\"line\":{\"color\":\"#2a3f5f\"}},\"annotationdefaults\":{\"arrowcolor\":\"#2a3f5f\",\"arrowhead\":0,\"arrowwidth\":1},\"geo\":{\"bgcolor\":\"white\",\"landcolor\":\"#E5ECF6\",\"subunitcolor\":\"white\",\"showland\":true,\"showlakes\":true,\"lakecolor\":\"white\"},\"title\":{\"x\":0.05},\"mapbox\":{\"style\":\"light\"}}},\"xaxis\":{\"anchor\":\"y\",\"domain\":[0.0,1.0],\"title\":{\"text\":\"GrLivArea\"}},\"yaxis\":{\"anchor\":\"x\",\"domain\":[0.0,1.0],\"title\":{\"text\":\"\"},\"gridcolor\":\"#DCDCDC\",\"zerolinecolor\":\"#DCDCDC\"},\"legend\":{\"tracegroupgap\":0},\"margin\":{\"t\":60},\"violinmode\":\"group\",\"paper_bgcolor\":\"#F5F5F5\",\"plot_bgcolor\":\"#F5F5F5\"},                        {\"responsive\": true}                    ).then(function(){\n",
       "                            \n",
       "var gd = document.getElementById('0afbab8b-7b13-4b33-90e2-a8633a5077f6');\n",
       "var x = new MutationObserver(function (mutations, observer) {{\n",
       "        var display = window.getComputedStyle(gd).display;\n",
       "        if (!display || display === 'none') {{\n",
       "            console.log([gd, 'removed!']);\n",
       "            Plotly.purge(gd);\n",
       "            observer.disconnect();\n",
       "        }}\n",
       "}});\n",
       "\n",
       "// Listen for the removal of the full notebook cells\n",
       "var notebookContainer = gd.closest('#notebook-container');\n",
       "if (notebookContainer) {{\n",
       "    x.observe(notebookContainer, {childList: true});\n",
       "}}\n",
       "\n",
       "// Listen for the clearing of the current output cell\n",
       "var outputEl = gd.closest('.output');\n",
       "if (outputEl) {{\n",
       "    x.observe(outputEl, {childList: true});\n",
       "}}\n",
       "\n",
       "                        })                };                });            </script>        </div>"
      ]
     },
     "metadata": {},
     "output_type": "display_data"
    },
    {
     "data": {
      "text/html": [
       "<div>                            <div id=\"8c9bbadc-9abc-4b5b-ae2a-2320d6421759\" class=\"plotly-graph-div\" style=\"height:525px; width:100%;\"></div>            <script type=\"text/javascript\">                require([\"plotly\"], function(Plotly) {                    window.PLOTLYENV=window.PLOTLYENV || {};                                    if (document.getElementById(\"8c9bbadc-9abc-4b5b-ae2a-2320d6421759\")) {                    Plotly.newPlot(                        \"8c9bbadc-9abc-4b5b-ae2a-2320d6421759\",                        [{\"alignmentgroup\":\"True\",\"box\":{\"visible\":true},\"hovertemplate\":\"GarageArea=%{y}<extra></extra>\",\"legendgroup\":\"\",\"marker\":{\"color\":\"#2C3E50\"},\"name\":\"GarageArea\",\"offsetgroup\":\"\",\"orientation\":\"v\",\"points\":\"outliers\",\"scalegroup\":\"True\",\"showlegend\":true,\"x0\":\" \",\"xaxis\":\"x\",\"y\":[548,460,608,642,836,480,636,484,468,205,384,736,352,840,352,576,480,516,576,294,853,280,534,572,270,890,576,772,319,240,250,271,484,447,556,691,672,498,246,0,440,308,504,308,300,576,670,826,0,386,388,528,516,894,572,576,480,565,641,352,576,288,484,480,645,852,576,558,220,667,516,360,427,490,379,297,283,240,0,440,509,405,758,461,400,462,400,528,0,0,420,480,432,506,684,420,472,432,366,0,480,476,410,740,240,648,273,250,0,546,325,400,792,450,180,440,288,430,594,390,540,264,288,530,435,0,440,0,453,750,487,390,624,471,440,530,318,766,660,470,0,660,720,577,504,380,180,434,0,240,440,866,495,564,312,0,625,680,678,576,516,726,532,0,216,0,303,789,440,511,660,528,504,504,616,576,521,451,1166,480,440,216,252,484,576,840,497,180,528,682,440,484,666,380,352,440,786,795,0,856,440,473,398,420,240,500,349,312,454,504,0,460,644,576,299,447,484,210,431,438,675,390,434,576,968,280,721,280,336,430,312,810,288,308,440,264,494,457,818,220,750,0,352,288,463,604,440,451,500,389,0,538,520,309,294,429,673,660,564,308,884,868,492,484,504,576,413,240,924,504,1053,439,671,338,264,672,573,400,732,505,575,572,626,898,529,528,440,0,280,384,685,0,281,539,418,588,282,576,539,300,375,683,843,552,870,888,746,0,539,708,420,240,410,513,546,432,484,1025,656,588,840,872,576,220,564,360,473,292,441,189,352,308,880,484,472,529,676,532,440,297,431,294,400,564,336,312,301,498,474,706,617,445,200,484,240,521,400,528,288,592,470,240,672,264,566,468,514,296,244,576,460,680,264,270,434,0,576,610,834,463,308,572,639,360,501,430,0,352,577,846,384,560,294,0,240,596,600,264,338,438,500,400,240,420,373,490,240,308,947,836,350,572,484,360,678,396,440,864,240,304,784,529,520,696,297,240,569,352,628,576,264,0,440,470,0,550,440,180,352,528,672,0,360,648,493,480,578,431,198,308,270,576,422,676,560,528,513,529,228,352,552,576,360,240,0,398,526,312,866,506,528,534,525,908,499,624,508,694,826,672,772,874,164,402,264,264,515,487,520,286,336,240,429,308,273,0,546,240,288,297,264,603,461,484,440,400,471,676,360,270,288,474,624,484,200,900,583,889,546,282,0,336,420,884,834,453,252,858,0,484,600,502,392,0,403,0,527,576,336,670,765,648,583,367,426,786,440,624,720,615,440,288,908,520,871,280,299,570,406,420,528,418,0,396,590,216,656,532,612,600,576,288,650,400,288,336,216,564,540,352,572,1390,0,880,240,880,275,528,452,308,520,842,816,420,280,758,216,648,621,452,736,544,506,480,530,486,576,230,380,261,736,564,531,0,0,480,393,528,774,749,0,624,484,440,484,440,286,364,504,520,240,627,544,260,576,0,0,256,0,648,588,650,538,462,478,576,420,495,442,0,562,296,512,216,839,264,312,270,330,480,550,711,576,588,1134,504,596,575,576,252,540,300,546,416,384,440,779,240,834,572,264,281,431,702,486,577,578,480,567,460,420,832,628,326,576,551,205,308,336,530,765,528,666,672,606,0,739,550,400,408,0,384,472,576,475,478,704,439,983,300,564,420,463,548,768,660,540,632,888,539,608,438,541,264,300,320,400,800,0,572,360,288,539,480,462,831,554,864,527,240,0,400,576,878,440,440,578,440,440,752,300,440,614,856,481,592,496,423,484,841,576,396,672,275,895,412,865,440,630,504,402,484,605,602,0,457,416,618,281,444,397,539,455,474,409,476,528,240,820,240,603,440,410,1020,286,554,384,528,484,360,484,420,504,301,280,598,275,857,440,484,595,576,433,240,776,1220,0,527,538,480,458,480,613,472,456,436,812,264,352,240,400,686,490,0,720,611,425,338,360,512,420,400,240,645,454,260,576,343,479,619,216,504,480,672,529,902,870,544,672,574,308,523,414,288,200,550,648,738,576,336,450,400,389,440,288,506,588,300,621,505,576,440,264,354,400,483,327,528,820,288,684,756,393,690,288,280,865,180,484,390,480,252,450,871,528,286,308,284,833,601,471,0,397,533,612,540,656,486,522,642,610,429,788,570,505,528,555,689,868,349,574,390,0,576,525,456,796,808,474,676,720,300,396,530,0,492,462,576,531,484,0,619,440,702,510,393,256,260,0,264,0,474,264,480,532,490,0,569,400,480,588,676,388,779,539,240,255,606,551,614,870,424,440,564,786,305,368,615,210,632,528,216,824,528,457,328,484,286,550,0,312,0,180,280,240,528,478,565,402,440,451,632,160,437,665,461,461,800,240,264,0,672,796,900,240,290,912,905,0,286,484,484,624,514,542,452,716,672,336,308,436,440,540,364,586,478,484,467,836,432,582,1248,560,440,480,533,380,442,576,576,286,441,280,440,826,240,566,299,420,299,528,308,527,461,409,564,286,1043,380,550,400,462,576,884,308,440,0,461,240,478,246,280,254,539,440,712,719,422,463,862,431,483,308,240,326,928,527,450,300,286,308,782,288,0,392,672,660,630,434,672,576,0,205,466,460,180,288,0,714,495,840,484,1052,0,280,225,403,234,288,324,306,528,470,432,492,528,502,626,830,540,440,924,450,400,588,644,776,472,540,807,358,433,625,0,360,541,264,210,186,0,693,482,813,720,995,392,420,757,493,442,1356,492,250,402,299,400,660,225,573,459,280,546,216,451,495,701,384,544,506,500,462,492,234,364,300,384,539,552,0,0,288,322,315,528,388,264,668,576,1052,404,600,540,462,531,0,180,474,434,484,472,543,954,528,850,400,477,615,888,396,276,522,478,288,518,397,560,691,0,400,460,502,338,304,520,511,506,308,746,1014,315,586,462,288,312,552,400,497,480,577,528,544,484,484,0,336,280,528,390,499,753,484,264,432,528,572,288,525,525,1418,305,490,213,844,834,380,840,474,480,528,496,567,508,750,779,280,576,860,466,748,248,442,287,564,0,895,0,0,264,520,462,825,576,288,297,440,630,506,0,492,288,480,576,647,342,440,308,508,712,514,0,968,490,624,666,839,487,264,500,440,770,621,430,368,432,480,663,588,336,420,502,338,377,583,804,936,722,160,660,264,400,200,550,576,576,280,240,564,216,758,440,541,792,288,672,648,642,572,180,240,216,208,398,662,754,936,482,396,0,528,542,622,271,420,620,370,660,560,1069,336,540,776,440,420,432,484,528,525,288,240,467,372,440,216,451,484,462,528,774,923,550,672,420,812,192,626,240,312,556,384,0,0,840,525,0,400,460,500,252,240,276],\"y0\":\" \",\"yaxis\":\"y\",\"type\":\"violin\",\"opacity\":0.8}],                        {\"template\":{\"data\":{\"histogram2dcontour\":[{\"type\":\"histogram2dcontour\",\"colorbar\":{\"outlinewidth\":0,\"ticks\":\"\"},\"colorscale\":[[0.0,\"#0d0887\"],[0.1111111111111111,\"#46039f\"],[0.2222222222222222,\"#7201a8\"],[0.3333333333333333,\"#9c179e\"],[0.4444444444444444,\"#bd3786\"],[0.5555555555555556,\"#d8576b\"],[0.6666666666666666,\"#ed7953\"],[0.7777777777777778,\"#fb9f3a\"],[0.8888888888888888,\"#fdca26\"],[1.0,\"#f0f921\"]]}],\"choropleth\":[{\"type\":\"choropleth\",\"colorbar\":{\"outlinewidth\":0,\"ticks\":\"\"}}],\"histogram2d\":[{\"type\":\"histogram2d\",\"colorbar\":{\"outlinewidth\":0,\"ticks\":\"\"},\"colorscale\":[[0.0,\"#0d0887\"],[0.1111111111111111,\"#46039f\"],[0.2222222222222222,\"#7201a8\"],[0.3333333333333333,\"#9c179e\"],[0.4444444444444444,\"#bd3786\"],[0.5555555555555556,\"#d8576b\"],[0.6666666666666666,\"#ed7953\"],[0.7777777777777778,\"#fb9f3a\"],[0.8888888888888888,\"#fdca26\"],[1.0,\"#f0f921\"]]}],\"heatmap\":[{\"type\":\"heatmap\",\"colorbar\":{\"outlinewidth\":0,\"ticks\":\"\"},\"colorscale\":[[0.0,\"#0d0887\"],[0.1111111111111111,\"#46039f\"],[0.2222222222222222,\"#7201a8\"],[0.3333333333333333,\"#9c179e\"],[0.4444444444444444,\"#bd3786\"],[0.5555555555555556,\"#d8576b\"],[0.6666666666666666,\"#ed7953\"],[0.7777777777777778,\"#fb9f3a\"],[0.8888888888888888,\"#fdca26\"],[1.0,\"#f0f921\"]]}],\"heatmapgl\":[{\"type\":\"heatmapgl\",\"colorbar\":{\"outlinewidth\":0,\"ticks\":\"\"},\"colorscale\":[[0.0,\"#0d0887\"],[0.1111111111111111,\"#46039f\"],[0.2222222222222222,\"#7201a8\"],[0.3333333333333333,\"#9c179e\"],[0.4444444444444444,\"#bd3786\"],[0.5555555555555556,\"#d8576b\"],[0.6666666666666666,\"#ed7953\"],[0.7777777777777778,\"#fb9f3a\"],[0.8888888888888888,\"#fdca26\"],[1.0,\"#f0f921\"]]}],\"contourcarpet\":[{\"type\":\"contourcarpet\",\"colorbar\":{\"outlinewidth\":0,\"ticks\":\"\"}}],\"contour\":[{\"type\":\"contour\",\"colorbar\":{\"outlinewidth\":0,\"ticks\":\"\"},\"colorscale\":[[0.0,\"#0d0887\"],[0.1111111111111111,\"#46039f\"],[0.2222222222222222,\"#7201a8\"],[0.3333333333333333,\"#9c179e\"],[0.4444444444444444,\"#bd3786\"],[0.5555555555555556,\"#d8576b\"],[0.6666666666666666,\"#ed7953\"],[0.7777777777777778,\"#fb9f3a\"],[0.8888888888888888,\"#fdca26\"],[1.0,\"#f0f921\"]]}],\"surface\":[{\"type\":\"surface\",\"colorbar\":{\"outlinewidth\":0,\"ticks\":\"\"},\"colorscale\":[[0.0,\"#0d0887\"],[0.1111111111111111,\"#46039f\"],[0.2222222222222222,\"#7201a8\"],[0.3333333333333333,\"#9c179e\"],[0.4444444444444444,\"#bd3786\"],[0.5555555555555556,\"#d8576b\"],[0.6666666666666666,\"#ed7953\"],[0.7777777777777778,\"#fb9f3a\"],[0.8888888888888888,\"#fdca26\"],[1.0,\"#f0f921\"]]}],\"mesh3d\":[{\"type\":\"mesh3d\",\"colorbar\":{\"outlinewidth\":0,\"ticks\":\"\"}}],\"scatter\":[{\"fillpattern\":{\"fillmode\":\"overlay\",\"size\":10,\"solidity\":0.2},\"type\":\"scatter\"}],\"parcoords\":[{\"type\":\"parcoords\",\"line\":{\"colorbar\":{\"outlinewidth\":0,\"ticks\":\"\"}}}],\"scatterpolargl\":[{\"type\":\"scatterpolargl\",\"marker\":{\"colorbar\":{\"outlinewidth\":0,\"ticks\":\"\"}}}],\"bar\":[{\"error_x\":{\"color\":\"#2a3f5f\"},\"error_y\":{\"color\":\"#2a3f5f\"},\"marker\":{\"line\":{\"color\":\"#E5ECF6\",\"width\":0.5},\"pattern\":{\"fillmode\":\"overlay\",\"size\":10,\"solidity\":0.2}},\"type\":\"bar\"}],\"scattergeo\":[{\"type\":\"scattergeo\",\"marker\":{\"colorbar\":{\"outlinewidth\":0,\"ticks\":\"\"}}}],\"scatterpolar\":[{\"type\":\"scatterpolar\",\"marker\":{\"colorbar\":{\"outlinewidth\":0,\"ticks\":\"\"}}}],\"histogram\":[{\"marker\":{\"pattern\":{\"fillmode\":\"overlay\",\"size\":10,\"solidity\":0.2}},\"type\":\"histogram\"}],\"scattergl\":[{\"type\":\"scattergl\",\"marker\":{\"colorbar\":{\"outlinewidth\":0,\"ticks\":\"\"}}}],\"scatter3d\":[{\"type\":\"scatter3d\",\"line\":{\"colorbar\":{\"outlinewidth\":0,\"ticks\":\"\"}},\"marker\":{\"colorbar\":{\"outlinewidth\":0,\"ticks\":\"\"}}}],\"scattermapbox\":[{\"type\":\"scattermapbox\",\"marker\":{\"colorbar\":{\"outlinewidth\":0,\"ticks\":\"\"}}}],\"scatterternary\":[{\"type\":\"scatterternary\",\"marker\":{\"colorbar\":{\"outlinewidth\":0,\"ticks\":\"\"}}}],\"scattercarpet\":[{\"type\":\"scattercarpet\",\"marker\":{\"colorbar\":{\"outlinewidth\":0,\"ticks\":\"\"}}}],\"carpet\":[{\"aaxis\":{\"endlinecolor\":\"#2a3f5f\",\"gridcolor\":\"white\",\"linecolor\":\"white\",\"minorgridcolor\":\"white\",\"startlinecolor\":\"#2a3f5f\"},\"baxis\":{\"endlinecolor\":\"#2a3f5f\",\"gridcolor\":\"white\",\"linecolor\":\"white\",\"minorgridcolor\":\"white\",\"startlinecolor\":\"#2a3f5f\"},\"type\":\"carpet\"}],\"table\":[{\"cells\":{\"fill\":{\"color\":\"#EBF0F8\"},\"line\":{\"color\":\"white\"}},\"header\":{\"fill\":{\"color\":\"#C8D4E3\"},\"line\":{\"color\":\"white\"}},\"type\":\"table\"}],\"barpolar\":[{\"marker\":{\"line\":{\"color\":\"#E5ECF6\",\"width\":0.5},\"pattern\":{\"fillmode\":\"overlay\",\"size\":10,\"solidity\":0.2}},\"type\":\"barpolar\"}],\"pie\":[{\"automargin\":true,\"type\":\"pie\"}]},\"layout\":{\"autotypenumbers\":\"strict\",\"colorway\":[\"#636efa\",\"#EF553B\",\"#00cc96\",\"#ab63fa\",\"#FFA15A\",\"#19d3f3\",\"#FF6692\",\"#B6E880\",\"#FF97FF\",\"#FECB52\"],\"font\":{\"color\":\"#2a3f5f\"},\"hovermode\":\"closest\",\"hoverlabel\":{\"align\":\"left\"},\"paper_bgcolor\":\"white\",\"plot_bgcolor\":\"#E5ECF6\",\"polar\":{\"bgcolor\":\"#E5ECF6\",\"angularaxis\":{\"gridcolor\":\"white\",\"linecolor\":\"white\",\"ticks\":\"\"},\"radialaxis\":{\"gridcolor\":\"white\",\"linecolor\":\"white\",\"ticks\":\"\"}},\"ternary\":{\"bgcolor\":\"#E5ECF6\",\"aaxis\":{\"gridcolor\":\"white\",\"linecolor\":\"white\",\"ticks\":\"\"},\"baxis\":{\"gridcolor\":\"white\",\"linecolor\":\"white\",\"ticks\":\"\"},\"caxis\":{\"gridcolor\":\"white\",\"linecolor\":\"white\",\"ticks\":\"\"}},\"coloraxis\":{\"colorbar\":{\"outlinewidth\":0,\"ticks\":\"\"}},\"colorscale\":{\"sequential\":[[0.0,\"#0d0887\"],[0.1111111111111111,\"#46039f\"],[0.2222222222222222,\"#7201a8\"],[0.3333333333333333,\"#9c179e\"],[0.4444444444444444,\"#bd3786\"],[0.5555555555555556,\"#d8576b\"],[0.6666666666666666,\"#ed7953\"],[0.7777777777777778,\"#fb9f3a\"],[0.8888888888888888,\"#fdca26\"],[1.0,\"#f0f921\"]],\"sequentialminus\":[[0.0,\"#0d0887\"],[0.1111111111111111,\"#46039f\"],[0.2222222222222222,\"#7201a8\"],[0.3333333333333333,\"#9c179e\"],[0.4444444444444444,\"#bd3786\"],[0.5555555555555556,\"#d8576b\"],[0.6666666666666666,\"#ed7953\"],[0.7777777777777778,\"#fb9f3a\"],[0.8888888888888888,\"#fdca26\"],[1.0,\"#f0f921\"]],\"diverging\":[[0,\"#8e0152\"],[0.1,\"#c51b7d\"],[0.2,\"#de77ae\"],[0.3,\"#f1b6da\"],[0.4,\"#fde0ef\"],[0.5,\"#f7f7f7\"],[0.6,\"#e6f5d0\"],[0.7,\"#b8e186\"],[0.8,\"#7fbc41\"],[0.9,\"#4d9221\"],[1,\"#276419\"]]},\"xaxis\":{\"gridcolor\":\"white\",\"linecolor\":\"white\",\"ticks\":\"\",\"title\":{\"standoff\":15},\"zerolinecolor\":\"white\",\"automargin\":true,\"zerolinewidth\":2},\"yaxis\":{\"gridcolor\":\"white\",\"linecolor\":\"white\",\"ticks\":\"\",\"title\":{\"standoff\":15},\"zerolinecolor\":\"white\",\"automargin\":true,\"zerolinewidth\":2},\"scene\":{\"xaxis\":{\"backgroundcolor\":\"#E5ECF6\",\"gridcolor\":\"white\",\"linecolor\":\"white\",\"showbackground\":true,\"ticks\":\"\",\"zerolinecolor\":\"white\",\"gridwidth\":2},\"yaxis\":{\"backgroundcolor\":\"#E5ECF6\",\"gridcolor\":\"white\",\"linecolor\":\"white\",\"showbackground\":true,\"ticks\":\"\",\"zerolinecolor\":\"white\",\"gridwidth\":2},\"zaxis\":{\"backgroundcolor\":\"#E5ECF6\",\"gridcolor\":\"white\",\"linecolor\":\"white\",\"showbackground\":true,\"ticks\":\"\",\"zerolinecolor\":\"white\",\"gridwidth\":2}},\"shapedefaults\":{\"line\":{\"color\":\"#2a3f5f\"}},\"annotationdefaults\":{\"arrowcolor\":\"#2a3f5f\",\"arrowhead\":0,\"arrowwidth\":1},\"geo\":{\"bgcolor\":\"white\",\"landcolor\":\"#E5ECF6\",\"subunitcolor\":\"white\",\"showland\":true,\"showlakes\":true,\"lakecolor\":\"white\"},\"title\":{\"x\":0.05},\"mapbox\":{\"style\":\"light\"}}},\"xaxis\":{\"anchor\":\"y\",\"domain\":[0.0,1.0],\"title\":{\"text\":\"GarageArea\"}},\"yaxis\":{\"anchor\":\"x\",\"domain\":[0.0,1.0],\"title\":{\"text\":\"\"},\"gridcolor\":\"#DCDCDC\",\"zerolinecolor\":\"#DCDCDC\"},\"legend\":{\"tracegroupgap\":0},\"margin\":{\"t\":60},\"violinmode\":\"group\",\"paper_bgcolor\":\"#F5F5F5\",\"plot_bgcolor\":\"#F5F5F5\"},                        {\"responsive\": true}                    ).then(function(){\n",
       "                            \n",
       "var gd = document.getElementById('8c9bbadc-9abc-4b5b-ae2a-2320d6421759');\n",
       "var x = new MutationObserver(function (mutations, observer) {{\n",
       "        var display = window.getComputedStyle(gd).display;\n",
       "        if (!display || display === 'none') {{\n",
       "            console.log([gd, 'removed!']);\n",
       "            Plotly.purge(gd);\n",
       "            observer.disconnect();\n",
       "        }}\n",
       "}});\n",
       "\n",
       "// Listen for the removal of the full notebook cells\n",
       "var notebookContainer = gd.closest('#notebook-container');\n",
       "if (notebookContainer) {{\n",
       "    x.observe(notebookContainer, {childList: true});\n",
       "}}\n",
       "\n",
       "// Listen for the clearing of the current output cell\n",
       "var outputEl = gd.closest('.output');\n",
       "if (outputEl) {{\n",
       "    x.observe(outputEl, {childList: true});\n",
       "}}\n",
       "\n",
       "                        })                };                });            </script>        </div>"
      ]
     },
     "metadata": {},
     "output_type": "display_data"
    },
    {
     "data": {
      "text/html": [
       "<div>                            <div id=\"8264efe8-6411-4a8b-9de5-1d7455f7f195\" class=\"plotly-graph-div\" style=\"height:525px; width:100%;\"></div>            <script type=\"text/javascript\">                require([\"plotly\"], function(Plotly) {                    window.PLOTLYENV=window.PLOTLYENV || {};                                    if (document.getElementById(\"8264efe8-6411-4a8b-9de5-1d7455f7f195\")) {                    Plotly.newPlot(                        \"8264efe8-6411-4a8b-9de5-1d7455f7f195\",                        [{\"alignmentgroup\":\"True\",\"box\":{\"visible\":true},\"hovertemplate\":\"SalePrice=%{y}<extra></extra>\",\"legendgroup\":\"\",\"marker\":{\"color\":\"#2C3E50\"},\"name\":\"SalePrice\",\"offsetgroup\":\"\",\"orientation\":\"v\",\"points\":\"outliers\",\"scalegroup\":\"True\",\"showlegend\":true,\"x0\":\" \",\"xaxis\":\"x\",\"y\":[208500,181500,223500,140000,250000,143000,307000,200000,129900,118000,129500,345000,144000,279500,157000,132000,149000,90000,159000,139000,325300,139400,230000,129900,154000,256300,134800,306000,207500,68500,40000,149350,179900,165500,277500,309000,145000,153000,109000,82000,160000,170000,144000,130250,141000,319900,239686,249700,113000,127000,177000,114500,110000,385000,130000,180500,172500,196500,438780,124900,158000,101000,202500,140000,219500,317000,180000,226000,80000,225000,244000,129500,185000,144900,107400,91000,135750,127000,136500,110000,193500,153500,245000,126500,168500,260000,174000,164500,85000,123600,109900,98600,163500,133900,204750,185000,214000,94750,83000,128950,205000,178000,118964,198900,169500,250000,100000,115000,115000,190000,136900,180000,383970,217000,259500,176000,139000,155000,320000,163990,180000,100000,136000,153900,181000,84500,128000,87000,155000,150000,226000,244000,150750,220000,180000,174000,143000,171000,230000,231500,115000,260000,166000,204000,125000,130000,105000,222500,141000,115000,122000,372402,190000,235000,125000,79000,109500,269500,254900,320000,162500,412500,220000,103200,152000,127500,190000,325624,183500,228000,128500,215000,239000,163000,184000,243000,211000,172500,501837,100000,177000,200100,120000,200000,127000,475000,173000,135000,153337,286000,315000,184000,192000,130000,127000,148500,311872,235000,104000,274900,140000,171500,112000,149000,110000,180500,143900,141000,277000,145000,98000,186000,252678,156000,161750,134450,210000,107000,311500,167240,204900,200000,179900,97000,386250,112000,290000,106000,125000,192500,148000,403000,94500,128200,216500,89500,185500,194500,318000,113000,262500,110500,79000,120000,205000,241500,137000,140000,180000,277000,76500,235000,173000,158000,145000,230000,207500,220000,231500,97000,176000,276000,151000,130000,73000,175500,185000,179500,120500,148000,266000,241500,290000,139000,124500,205000,201000,141000,415298,192000,228500,185000,207500,244600,179200,164700,159000,88000,122000,153575,233230,135900,131000,235000,167000,142500,152000,239000,175000,158500,157000,267000,205000,149900,295000,305900,225000,89500,82500,360000,165600,132000,119900,375000,178000,188500,260000,270000,260000,187500,342643,354000,301000,126175,242000,87000,324000,145250,214500,78000,119000,139000,284000,207000,192000,228950,377426,214000,202500,155000,202900,82000,87500,266000,85000,140200,151500,157500,154000,437154,318061,190000,95000,105900,140000,177500,173000,134000,130000,280000,156000,145000,198500,118000,190000,147000,159000,165000,132000,162000,172400,134432,125000,123000,219500,61000,148000,340000,394432,179000,127000,187750,213500,76000,240000,192000,81000,125000,191000,426000,119000,215000,106500,100000,109000,129000,123000,169500,67000,241000,245500,164990,108000,258000,168000,150000,115000,177000,280000,339750,60000,145000,222000,115000,228000,181134,149500,239000,126000,142000,206300,215000,113000,315000,139000,135000,275000,109008,195400,175000,85400,79900,122500,181000,81000,212000,116000,119000,90350,110000,555000,118000,162900,172500,210000,127500,190000,199900,119500,120000,110000,280000,204000,210000,188000,175500,98000,256000,161000,110000,263435,155000,62383,188700,124000,178740,167000,146500,250000,187000,212000,190000,148000,440000,251000,132500,208900,380000,297000,89471,326000,374000,155000,164000,132500,147000,156000,175000,160000,86000,115000,133000,172785,155000,91300,34900,430000,184000,130000,120000,113000,226700,140000,289000,147000,124500,215000,208300,161000,124500,164900,202665,129900,134000,96500,402861,158000,265000,211000,234000,106250,150000,159000,184750,315750,176000,132000,446261,86000,200624,175000,128000,107500,39300,178000,107500,188000,111250,158000,272000,315000,248000,213250,133000,179665,229000,210000,129500,125000,263000,140000,112500,255500,108000,284000,113000,141000,108000,175000,234000,121500,170000,108000,185000,268000,128000,325000,214000,316600,135960,142600,120000,224500,170000,139000,118500,145000,164500,146000,131500,181900,253293,118500,325000,133000,369900,130000,137000,143000,79500,185900,451950,138000,140000,110000,319000,114504,194201,217500,151000,275000,141000,220000,151000,221000,205000,152000,225000,359100,118500,313000,148000,261500,147000,75500,137500,183200,105500,314813,305000,67000,240000,135000,168500,165150,160000,139900,153000,135000,168500,124000,209500,82500,139400,144000,200000,60000,93000,85000,264561,274000,226000,345000,152000,370878,143250,98300,155000,155000,84500,205950,108000,191000,135000,350000,88000,145500,149000,97500,167000,197900,402000,110000,137500,423000,230500,129000,193500,168000,137500,173500,103600,165000,257500,140000,148500,87000,109500,372500,128500,143000,159434,173000,285000,221000,207500,227875,148800,392000,194700,141000,755000,335000,108480,141500,176000,89000,123500,138500,196000,312500,140000,361919,140000,213000,55000,302000,254000,179540,109900,52000,102776,189000,129000,130500,165000,159500,157000,341000,128500,275000,143000,124500,135000,320000,120500,222000,194500,110000,103000,236500,187500,222500,131400,108000,163000,93500,239900,179000,190000,132000,142000,179000,175000,180000,299800,236000,265979,260400,98000,96500,162000,217000,275500,156000,172500,212000,158900,179400,290000,127500,100000,215200,337000,270000,264132,196500,160000,216837,538000,134900,102000,107000,114500,395000,162000,221500,142500,144000,135000,176000,175900,187100,165500,128000,161500,139000,233000,107900,187500,160200,146800,269790,225000,194500,171000,143500,110000,485000,175000,200000,109900,189000,582933,118000,227680,135500,223500,159950,106000,181000,144500,55993,157900,116000,224900,137000,271000,155000,224000,183000,93000,225000,139500,232600,385000,109500,189000,185000,147400,166000,151000,237000,167000,139950,128000,153500,100000,144000,130500,140000,157500,174900,141000,153900,171000,213000,133500,240000,187000,131500,215000,164000,158000,170000,127000,147000,174000,152000,250000,189950,131500,152000,132500,250580,148500,248900,129000,169000,236000,109500,200500,116000,133000,66500,303477,132250,350000,148000,136500,157000,187500,178000,118500,100000,328900,145000,135500,268000,149500,122900,172500,154500,165000,118858,140000,106500,142953,611657,135000,110000,153000,180000,240000,125500,128000,255000,250000,131000,174000,154300,143500,88000,145000,173733,75000,35311,135000,238000,176500,201000,145900,169990,193000,207500,175000,285000,176000,236500,222000,201000,117500,320000,190000,242000,79900,184900,253000,239799,244400,150900,214000,150000,143000,137500,124900,143000,270000,192500,197500,129000,119900,133900,172000,127500,145000,124000,132000,185000,155000,116500,272000,155000,239000,214900,178900,160000,135000,37900,140000,135000,173000,99500,182000,167500,165000,85500,199900,110000,139000,178400,336000,159895,255900,126000,125000,117000,395192,195000,197000,348000,168000,187000,173900,337500,121600,136500,185000,91000,206000,82000,86000,232000,136905,181000,149900,163500,88000,240000,102000,135000,100000,165000,85000,119200,227000,203000,187500,160000,213490,176000,194000,87000,191000,287000,112500,167500,293077,105000,118000,160000,197000,310000,230000,119750,84000,315500,287000,97000,80000,155000,173000,196000,262280,278000,139600,556581,145000,115000,84900,176485,200141,165000,144500,255000,180000,185850,248000,335000,220000,213500,81000,90000,110500,154000,328000,178000,167900,151400,135000,135000,154000,91500,159500,194000,219500,170000,138800,155900,126000,145000,133000,192000,160000,187500,147000,83500,252000,137500,197000,92900,160000,136500,146000,129000,176432,127000,170000,128000,157000,60000,119500,135000,159500,106000,325000,179900,274725,181000,280000,188000,205000,129900,134500,117000,318000,184100,130000,140000,133700,118400,212900,112000,118000,163900,115000,174000,259000,215000,140000,135000,93500,117500,239500,169000,102000,119000,94000,196000,144000,139000,197500,424870,80000,80000,149000,180000,174500,116900,143000,124000,149900,230000,120500,201800,218000,179900,230000,235128,185000,146000,224000,129000,108959,194000,233170,245350,173000,235000,625000,171000,163000,171900,200500,239000,285000,119500,115000,154900,93000,250000,392500,745000,120000,186700,104900,95000,262000,195000,189000,168000,174000,125000,165000,158000,176000,219210,144000,178000,148000,116050,197900,117000,213000,153500,271900,107000,200000,140000,290000,189000,164000,113000,145000,134500,125000,112000,229456,80500,91500,115000,134000,143000,137900,184000,145000,214000,147000,367294,127000,190000,132500,101800,142000,130000,138887,175500,195000,142500,265900,224900,248328,170000,465000,230000,178000,186500,169900,129500,119000,244000,171750,130000,294000,165400,127500,301500,99900,190000,151000,181000,128900,161500,180500,181000,183900,122000,378500,381000,144000,260000,185750,137000,177000,139000,137000,162000,197900,237000,68400,227000,180000,150500,139000,169000,132500,143000,190000,278000,281000,180500,119500,107500,162900,115000,138500,155000,140000,160000,154000,225000,177500,290000,232000,130000,325000,202500,138000,147000,179200,335000,203000,302000,333168,119000,206900,295493,208900,275000,111000,156500,72500,190000,82500,147000,55000,79000,130500,256000,176500,227000,132500,100000,125500,125000,167900,135000,52500,200000,128500,123000,155000,228500,177000,155835,108500,262500,283463,215000,122000,200000,171000,134900,410000,235000,170000,110000,149900,177500,315000,189000,260000,104900,156932,144152,216000,193000,127000,144000,232000,105000,165500,274300,466500,250000,239000,91000,117000,83000,167500,58500,237500,157000,112000,105000,125500,250000,136000,377500,131000,235000,124000,123000,163000,246578,281213,160000,137500,138000,137450,120000,193000,193879,282922,105000,275000,133000,112000,125500,215000,230000,140000,90000,257000,207000,175900,122500,340000,124000,223000,179900,127500,136500,274970,144000,142000,271000,140000,119000,182900,192140,143750,64500,186500,160000,174000,120500,394617,149700,197000,191000,149300,310000,121000,179600,129000,157900,240000,112000,92000,136000,287090,145000,84500,185000,175000,210000,266500,142125,147500],\"y0\":\" \",\"yaxis\":\"y\",\"type\":\"violin\",\"opacity\":0.8}],                        {\"template\":{\"data\":{\"histogram2dcontour\":[{\"type\":\"histogram2dcontour\",\"colorbar\":{\"outlinewidth\":0,\"ticks\":\"\"},\"colorscale\":[[0.0,\"#0d0887\"],[0.1111111111111111,\"#46039f\"],[0.2222222222222222,\"#7201a8\"],[0.3333333333333333,\"#9c179e\"],[0.4444444444444444,\"#bd3786\"],[0.5555555555555556,\"#d8576b\"],[0.6666666666666666,\"#ed7953\"],[0.7777777777777778,\"#fb9f3a\"],[0.8888888888888888,\"#fdca26\"],[1.0,\"#f0f921\"]]}],\"choropleth\":[{\"type\":\"choropleth\",\"colorbar\":{\"outlinewidth\":0,\"ticks\":\"\"}}],\"histogram2d\":[{\"type\":\"histogram2d\",\"colorbar\":{\"outlinewidth\":0,\"ticks\":\"\"},\"colorscale\":[[0.0,\"#0d0887\"],[0.1111111111111111,\"#46039f\"],[0.2222222222222222,\"#7201a8\"],[0.3333333333333333,\"#9c179e\"],[0.4444444444444444,\"#bd3786\"],[0.5555555555555556,\"#d8576b\"],[0.6666666666666666,\"#ed7953\"],[0.7777777777777778,\"#fb9f3a\"],[0.8888888888888888,\"#fdca26\"],[1.0,\"#f0f921\"]]}],\"heatmap\":[{\"type\":\"heatmap\",\"colorbar\":{\"outlinewidth\":0,\"ticks\":\"\"},\"colorscale\":[[0.0,\"#0d0887\"],[0.1111111111111111,\"#46039f\"],[0.2222222222222222,\"#7201a8\"],[0.3333333333333333,\"#9c179e\"],[0.4444444444444444,\"#bd3786\"],[0.5555555555555556,\"#d8576b\"],[0.6666666666666666,\"#ed7953\"],[0.7777777777777778,\"#fb9f3a\"],[0.8888888888888888,\"#fdca26\"],[1.0,\"#f0f921\"]]}],\"heatmapgl\":[{\"type\":\"heatmapgl\",\"colorbar\":{\"outlinewidth\":0,\"ticks\":\"\"},\"colorscale\":[[0.0,\"#0d0887\"],[0.1111111111111111,\"#46039f\"],[0.2222222222222222,\"#7201a8\"],[0.3333333333333333,\"#9c179e\"],[0.4444444444444444,\"#bd3786\"],[0.5555555555555556,\"#d8576b\"],[0.6666666666666666,\"#ed7953\"],[0.7777777777777778,\"#fb9f3a\"],[0.8888888888888888,\"#fdca26\"],[1.0,\"#f0f921\"]]}],\"contourcarpet\":[{\"type\":\"contourcarpet\",\"colorbar\":{\"outlinewidth\":0,\"ticks\":\"\"}}],\"contour\":[{\"type\":\"contour\",\"colorbar\":{\"outlinewidth\":0,\"ticks\":\"\"},\"colorscale\":[[0.0,\"#0d0887\"],[0.1111111111111111,\"#46039f\"],[0.2222222222222222,\"#7201a8\"],[0.3333333333333333,\"#9c179e\"],[0.4444444444444444,\"#bd3786\"],[0.5555555555555556,\"#d8576b\"],[0.6666666666666666,\"#ed7953\"],[0.7777777777777778,\"#fb9f3a\"],[0.8888888888888888,\"#fdca26\"],[1.0,\"#f0f921\"]]}],\"surface\":[{\"type\":\"surface\",\"colorbar\":{\"outlinewidth\":0,\"ticks\":\"\"},\"colorscale\":[[0.0,\"#0d0887\"],[0.1111111111111111,\"#46039f\"],[0.2222222222222222,\"#7201a8\"],[0.3333333333333333,\"#9c179e\"],[0.4444444444444444,\"#bd3786\"],[0.5555555555555556,\"#d8576b\"],[0.6666666666666666,\"#ed7953\"],[0.7777777777777778,\"#fb9f3a\"],[0.8888888888888888,\"#fdca26\"],[1.0,\"#f0f921\"]]}],\"mesh3d\":[{\"type\":\"mesh3d\",\"colorbar\":{\"outlinewidth\":0,\"ticks\":\"\"}}],\"scatter\":[{\"fillpattern\":{\"fillmode\":\"overlay\",\"size\":10,\"solidity\":0.2},\"type\":\"scatter\"}],\"parcoords\":[{\"type\":\"parcoords\",\"line\":{\"colorbar\":{\"outlinewidth\":0,\"ticks\":\"\"}}}],\"scatterpolargl\":[{\"type\":\"scatterpolargl\",\"marker\":{\"colorbar\":{\"outlinewidth\":0,\"ticks\":\"\"}}}],\"bar\":[{\"error_x\":{\"color\":\"#2a3f5f\"},\"error_y\":{\"color\":\"#2a3f5f\"},\"marker\":{\"line\":{\"color\":\"#E5ECF6\",\"width\":0.5},\"pattern\":{\"fillmode\":\"overlay\",\"size\":10,\"solidity\":0.2}},\"type\":\"bar\"}],\"scattergeo\":[{\"type\":\"scattergeo\",\"marker\":{\"colorbar\":{\"outlinewidth\":0,\"ticks\":\"\"}}}],\"scatterpolar\":[{\"type\":\"scatterpolar\",\"marker\":{\"colorbar\":{\"outlinewidth\":0,\"ticks\":\"\"}}}],\"histogram\":[{\"marker\":{\"pattern\":{\"fillmode\":\"overlay\",\"size\":10,\"solidity\":0.2}},\"type\":\"histogram\"}],\"scattergl\":[{\"type\":\"scattergl\",\"marker\":{\"colorbar\":{\"outlinewidth\":0,\"ticks\":\"\"}}}],\"scatter3d\":[{\"type\":\"scatter3d\",\"line\":{\"colorbar\":{\"outlinewidth\":0,\"ticks\":\"\"}},\"marker\":{\"colorbar\":{\"outlinewidth\":0,\"ticks\":\"\"}}}],\"scattermapbox\":[{\"type\":\"scattermapbox\",\"marker\":{\"colorbar\":{\"outlinewidth\":0,\"ticks\":\"\"}}}],\"scatterternary\":[{\"type\":\"scatterternary\",\"marker\":{\"colorbar\":{\"outlinewidth\":0,\"ticks\":\"\"}}}],\"scattercarpet\":[{\"type\":\"scattercarpet\",\"marker\":{\"colorbar\":{\"outlinewidth\":0,\"ticks\":\"\"}}}],\"carpet\":[{\"aaxis\":{\"endlinecolor\":\"#2a3f5f\",\"gridcolor\":\"white\",\"linecolor\":\"white\",\"minorgridcolor\":\"white\",\"startlinecolor\":\"#2a3f5f\"},\"baxis\":{\"endlinecolor\":\"#2a3f5f\",\"gridcolor\":\"white\",\"linecolor\":\"white\",\"minorgridcolor\":\"white\",\"startlinecolor\":\"#2a3f5f\"},\"type\":\"carpet\"}],\"table\":[{\"cells\":{\"fill\":{\"color\":\"#EBF0F8\"},\"line\":{\"color\":\"white\"}},\"header\":{\"fill\":{\"color\":\"#C8D4E3\"},\"line\":{\"color\":\"white\"}},\"type\":\"table\"}],\"barpolar\":[{\"marker\":{\"line\":{\"color\":\"#E5ECF6\",\"width\":0.5},\"pattern\":{\"fillmode\":\"overlay\",\"size\":10,\"solidity\":0.2}},\"type\":\"barpolar\"}],\"pie\":[{\"automargin\":true,\"type\":\"pie\"}]},\"layout\":{\"autotypenumbers\":\"strict\",\"colorway\":[\"#636efa\",\"#EF553B\",\"#00cc96\",\"#ab63fa\",\"#FFA15A\",\"#19d3f3\",\"#FF6692\",\"#B6E880\",\"#FF97FF\",\"#FECB52\"],\"font\":{\"color\":\"#2a3f5f\"},\"hovermode\":\"closest\",\"hoverlabel\":{\"align\":\"left\"},\"paper_bgcolor\":\"white\",\"plot_bgcolor\":\"#E5ECF6\",\"polar\":{\"bgcolor\":\"#E5ECF6\",\"angularaxis\":{\"gridcolor\":\"white\",\"linecolor\":\"white\",\"ticks\":\"\"},\"radialaxis\":{\"gridcolor\":\"white\",\"linecolor\":\"white\",\"ticks\":\"\"}},\"ternary\":{\"bgcolor\":\"#E5ECF6\",\"aaxis\":{\"gridcolor\":\"white\",\"linecolor\":\"white\",\"ticks\":\"\"},\"baxis\":{\"gridcolor\":\"white\",\"linecolor\":\"white\",\"ticks\":\"\"},\"caxis\":{\"gridcolor\":\"white\",\"linecolor\":\"white\",\"ticks\":\"\"}},\"coloraxis\":{\"colorbar\":{\"outlinewidth\":0,\"ticks\":\"\"}},\"colorscale\":{\"sequential\":[[0.0,\"#0d0887\"],[0.1111111111111111,\"#46039f\"],[0.2222222222222222,\"#7201a8\"],[0.3333333333333333,\"#9c179e\"],[0.4444444444444444,\"#bd3786\"],[0.5555555555555556,\"#d8576b\"],[0.6666666666666666,\"#ed7953\"],[0.7777777777777778,\"#fb9f3a\"],[0.8888888888888888,\"#fdca26\"],[1.0,\"#f0f921\"]],\"sequentialminus\":[[0.0,\"#0d0887\"],[0.1111111111111111,\"#46039f\"],[0.2222222222222222,\"#7201a8\"],[0.3333333333333333,\"#9c179e\"],[0.4444444444444444,\"#bd3786\"],[0.5555555555555556,\"#d8576b\"],[0.6666666666666666,\"#ed7953\"],[0.7777777777777778,\"#fb9f3a\"],[0.8888888888888888,\"#fdca26\"],[1.0,\"#f0f921\"]],\"diverging\":[[0,\"#8e0152\"],[0.1,\"#c51b7d\"],[0.2,\"#de77ae\"],[0.3,\"#f1b6da\"],[0.4,\"#fde0ef\"],[0.5,\"#f7f7f7\"],[0.6,\"#e6f5d0\"],[0.7,\"#b8e186\"],[0.8,\"#7fbc41\"],[0.9,\"#4d9221\"],[1,\"#276419\"]]},\"xaxis\":{\"gridcolor\":\"white\",\"linecolor\":\"white\",\"ticks\":\"\",\"title\":{\"standoff\":15},\"zerolinecolor\":\"white\",\"automargin\":true,\"zerolinewidth\":2},\"yaxis\":{\"gridcolor\":\"white\",\"linecolor\":\"white\",\"ticks\":\"\",\"title\":{\"standoff\":15},\"zerolinecolor\":\"white\",\"automargin\":true,\"zerolinewidth\":2},\"scene\":{\"xaxis\":{\"backgroundcolor\":\"#E5ECF6\",\"gridcolor\":\"white\",\"linecolor\":\"white\",\"showbackground\":true,\"ticks\":\"\",\"zerolinecolor\":\"white\",\"gridwidth\":2},\"yaxis\":{\"backgroundcolor\":\"#E5ECF6\",\"gridcolor\":\"white\",\"linecolor\":\"white\",\"showbackground\":true,\"ticks\":\"\",\"zerolinecolor\":\"white\",\"gridwidth\":2},\"zaxis\":{\"backgroundcolor\":\"#E5ECF6\",\"gridcolor\":\"white\",\"linecolor\":\"white\",\"showbackground\":true,\"ticks\":\"\",\"zerolinecolor\":\"white\",\"gridwidth\":2}},\"shapedefaults\":{\"line\":{\"color\":\"#2a3f5f\"}},\"annotationdefaults\":{\"arrowcolor\":\"#2a3f5f\",\"arrowhead\":0,\"arrowwidth\":1},\"geo\":{\"bgcolor\":\"white\",\"landcolor\":\"#E5ECF6\",\"subunitcolor\":\"white\",\"showland\":true,\"showlakes\":true,\"lakecolor\":\"white\"},\"title\":{\"x\":0.05},\"mapbox\":{\"style\":\"light\"}}},\"xaxis\":{\"anchor\":\"y\",\"domain\":[0.0,1.0],\"title\":{\"text\":\"SalePrice\"}},\"yaxis\":{\"anchor\":\"x\",\"domain\":[0.0,1.0],\"title\":{\"text\":\"\"},\"gridcolor\":\"#DCDCDC\",\"zerolinecolor\":\"#DCDCDC\"},\"legend\":{\"tracegroupgap\":0},\"margin\":{\"t\":60},\"violinmode\":\"group\",\"paper_bgcolor\":\"#F5F5F5\",\"plot_bgcolor\":\"#F5F5F5\"},                        {\"responsive\": true}                    ).then(function(){\n",
       "                            \n",
       "var gd = document.getElementById('8264efe8-6411-4a8b-9de5-1d7455f7f195');\n",
       "var x = new MutationObserver(function (mutations, observer) {{\n",
       "        var display = window.getComputedStyle(gd).display;\n",
       "        if (!display || display === 'none') {{\n",
       "            console.log([gd, 'removed!']);\n",
       "            Plotly.purge(gd);\n",
       "            observer.disconnect();\n",
       "        }}\n",
       "}});\n",
       "\n",
       "// Listen for the removal of the full notebook cells\n",
       "var notebookContainer = gd.closest('#notebook-container');\n",
       "if (notebookContainer) {{\n",
       "    x.observe(notebookContainer, {childList: true});\n",
       "}}\n",
       "\n",
       "// Listen for the clearing of the current output cell\n",
       "var outputEl = gd.closest('.output');\n",
       "if (outputEl) {{\n",
       "    x.observe(outputEl, {childList: true});\n",
       "}}\n",
       "\n",
       "                        })                };                });            </script>        </div>"
      ]
     },
     "metadata": {},
     "output_type": "display_data"
    }
   ],
   "source": [
    "tmp = show_basic_plots(X)\n",
    "for i in tmp['violin_num']: \n",
    "    i.show()\n",
    "del tmp"
   ]
  },
  {
   "cell_type": "code",
   "execution_count": 133,
   "id": "bcb681c7",
   "metadata": {
    "ExecuteTime": {
     "end_time": "2022-11-02T07:43:43.598056Z",
     "start_time": "2022-11-02T07:43:43.574535Z"
    },
    "hidden": true
   },
   "outputs": [
    {
     "name": "stdout",
     "output_type": "stream",
     "text": [
      "0.003424657534246575\n",
      "0.0013698630136986301\n",
      "0.0013698630136986301\n",
      "0.0006849315068493151\n",
      "0.0006849315068493151\n",
      "0.0006849315068493151\n",
      "0.0006849315068493151\n",
      "0.0013698630136986301\n",
      "0.003424657534246575\n",
      "0.0006849315068493151\n"
     ]
    }
   ],
   "source": [
    "print(X.loc[X.LotArea > 70000].shape[0]/X.shape[0]) #5\n",
    "print(X.loc[X.LotFrontage > 182].shape[0]/X.shape[0]) #2\n",
    "print(X.loc[X.MasVnrArea > 1170].shape[0]/X.shape[0]) # 2\n",
    "print(X.loc[X.BsmtFinSF1 > 2260].shape[0]/X.shape[0]) # 1\n",
    "print(X.loc[X.BsmtFinSF2 > 1127].shape[0]/X.shape[0]) # 1\n",
    "print(X.loc[X.TotalBsmtSF > 3206].shape[0]/X.shape[0]) # 1\n",
    "print(X.loc[X['1stFlrSF'] > 3228].shape[0]/X.shape[0]) # 1\n",
    "print(X.loc[X['2ndFlrSF'] > 1871].shape[0]/X.shape[0]) # 2\n",
    "print(X.loc[X['LowQualFinSF'] > 500].shape[0]/X.shape[0]) # only 26 obs > 0; maybe recode as 0-1\n",
    "print(X.loc[X.GrLivArea > 4676].shape[0]/X.shape[0]) # 1"
   ]
  },
  {
   "cell_type": "code",
   "execution_count": 134,
   "id": "978ac36c",
   "metadata": {
    "ExecuteTime": {
     "end_time": "2022-11-02T07:44:03.298302Z",
     "start_time": "2022-11-02T07:44:03.255258Z"
    },
    "hidden": true
   },
   "outputs": [
    {
     "data": {
      "text/html": [
       "<div>                            <div id=\"04b5bec4-175e-44db-a552-5d9e6bdfd626\" class=\"plotly-graph-div\" style=\"height:525px; width:100%;\"></div>            <script type=\"text/javascript\">                require([\"plotly\"], function(Plotly) {                    window.PLOTLYENV=window.PLOTLYENV || {};                                    if (document.getElementById(\"04b5bec4-175e-44db-a552-5d9e6bdfd626\")) {                    Plotly.newPlot(                        \"04b5bec4-175e-44db-a552-5d9e6bdfd626\",                        [{\"coloraxis\":\"coloraxis\",\"name\":\"0\",\"texttemplate\":\"%{z}\",\"x\":[\"LotFrontage\",\"LotArea\",\"MasVnrArea\",\"BsmtFinSF1\",\"BsmtFinSF2\",\"BsmtUnfSF\",\"TotalBsmtSF\",\"1stFlrSF\",\"2ndFlrSF\",\"LowQualFinSF\",\"GrLivArea\",\"GarageArea\",\"SalePrice\"],\"y\":[\"LotFrontage\",\"LotArea\",\"MasVnrArea\",\"BsmtFinSF1\",\"BsmtFinSF2\",\"BsmtUnfSF\",\"TotalBsmtSF\",\"1stFlrSF\",\"2ndFlrSF\",\"LowQualFinSF\",\"GrLivArea\",\"GarageArea\",\"SalePrice\"],\"z\":[[1.0,0.426,0.193,0.234,0.05,0.133,0.392,0.457,0.08,0.038,0.403,0.345,0.352],[0.426,1.0,0.104,0.214,0.111,-0.003,0.261,0.299,0.051,0.005,0.263,0.18,0.264],[0.193,0.104,1.0,0.265,-0.072,0.114,0.364,0.345,0.175,-0.069,0.391,0.373,0.477],[0.234,0.214,0.265,1.0,-0.05,-0.495,0.522,0.446,-0.137,-0.065,0.208,0.297,0.386],[0.05,0.111,-0.072,-0.05,1.0,-0.209,0.105,0.097,-0.099,0.015,-0.01,-0.018,-0.011],[0.133,-0.003,0.114,-0.495,-0.209,1.0,0.415,0.318,0.004,0.028,0.24,0.183,0.214],[0.392,0.261,0.364,0.522,0.105,0.415,1.0,0.82,-0.175,-0.033,0.455,0.487,0.614],[0.457,0.299,0.345,0.446,0.097,0.318,0.82,1.0,-0.203,-0.014,0.566,0.49,0.606],[0.08,0.051,0.175,-0.137,-0.099,0.004,-0.175,-0.203,1.0,0.063,0.688,0.138,0.319],[0.038,0.005,-0.069,-0.065,0.015,0.028,-0.033,-0.014,0.063,1.0,0.135,-0.068,-0.026],[0.403,0.263,0.391,0.208,-0.01,0.24,0.455,0.566,0.688,0.135,1.0,0.469,0.709],[0.345,0.18,0.373,0.297,-0.018,0.183,0.487,0.49,0.138,-0.068,0.469,1.0,0.623],[0.352,0.264,0.477,0.386,-0.011,0.214,0.614,0.606,0.319,-0.026,0.709,0.623,1.0]],\"type\":\"heatmap\",\"xaxis\":\"x\",\"yaxis\":\"y\",\"hovertemplate\":\"x: %{x}<br>y: %{y}<br>color: %{z}<extra></extra>\",\"opacity\":0.8}],                        {\"template\":{\"data\":{\"histogram2dcontour\":[{\"type\":\"histogram2dcontour\",\"colorbar\":{\"outlinewidth\":0,\"ticks\":\"\"},\"colorscale\":[[0.0,\"#0d0887\"],[0.1111111111111111,\"#46039f\"],[0.2222222222222222,\"#7201a8\"],[0.3333333333333333,\"#9c179e\"],[0.4444444444444444,\"#bd3786\"],[0.5555555555555556,\"#d8576b\"],[0.6666666666666666,\"#ed7953\"],[0.7777777777777778,\"#fb9f3a\"],[0.8888888888888888,\"#fdca26\"],[1.0,\"#f0f921\"]]}],\"choropleth\":[{\"type\":\"choropleth\",\"colorbar\":{\"outlinewidth\":0,\"ticks\":\"\"}}],\"histogram2d\":[{\"type\":\"histogram2d\",\"colorbar\":{\"outlinewidth\":0,\"ticks\":\"\"},\"colorscale\":[[0.0,\"#0d0887\"],[0.1111111111111111,\"#46039f\"],[0.2222222222222222,\"#7201a8\"],[0.3333333333333333,\"#9c179e\"],[0.4444444444444444,\"#bd3786\"],[0.5555555555555556,\"#d8576b\"],[0.6666666666666666,\"#ed7953\"],[0.7777777777777778,\"#fb9f3a\"],[0.8888888888888888,\"#fdca26\"],[1.0,\"#f0f921\"]]}],\"heatmap\":[{\"type\":\"heatmap\",\"colorbar\":{\"outlinewidth\":0,\"ticks\":\"\"},\"colorscale\":[[0.0,\"#0d0887\"],[0.1111111111111111,\"#46039f\"],[0.2222222222222222,\"#7201a8\"],[0.3333333333333333,\"#9c179e\"],[0.4444444444444444,\"#bd3786\"],[0.5555555555555556,\"#d8576b\"],[0.6666666666666666,\"#ed7953\"],[0.7777777777777778,\"#fb9f3a\"],[0.8888888888888888,\"#fdca26\"],[1.0,\"#f0f921\"]]}],\"heatmapgl\":[{\"type\":\"heatmapgl\",\"colorbar\":{\"outlinewidth\":0,\"ticks\":\"\"},\"colorscale\":[[0.0,\"#0d0887\"],[0.1111111111111111,\"#46039f\"],[0.2222222222222222,\"#7201a8\"],[0.3333333333333333,\"#9c179e\"],[0.4444444444444444,\"#bd3786\"],[0.5555555555555556,\"#d8576b\"],[0.6666666666666666,\"#ed7953\"],[0.7777777777777778,\"#fb9f3a\"],[0.8888888888888888,\"#fdca26\"],[1.0,\"#f0f921\"]]}],\"contourcarpet\":[{\"type\":\"contourcarpet\",\"colorbar\":{\"outlinewidth\":0,\"ticks\":\"\"}}],\"contour\":[{\"type\":\"contour\",\"colorbar\":{\"outlinewidth\":0,\"ticks\":\"\"},\"colorscale\":[[0.0,\"#0d0887\"],[0.1111111111111111,\"#46039f\"],[0.2222222222222222,\"#7201a8\"],[0.3333333333333333,\"#9c179e\"],[0.4444444444444444,\"#bd3786\"],[0.5555555555555556,\"#d8576b\"],[0.6666666666666666,\"#ed7953\"],[0.7777777777777778,\"#fb9f3a\"],[0.8888888888888888,\"#fdca26\"],[1.0,\"#f0f921\"]]}],\"surface\":[{\"type\":\"surface\",\"colorbar\":{\"outlinewidth\":0,\"ticks\":\"\"},\"colorscale\":[[0.0,\"#0d0887\"],[0.1111111111111111,\"#46039f\"],[0.2222222222222222,\"#7201a8\"],[0.3333333333333333,\"#9c179e\"],[0.4444444444444444,\"#bd3786\"],[0.5555555555555556,\"#d8576b\"],[0.6666666666666666,\"#ed7953\"],[0.7777777777777778,\"#fb9f3a\"],[0.8888888888888888,\"#fdca26\"],[1.0,\"#f0f921\"]]}],\"mesh3d\":[{\"type\":\"mesh3d\",\"colorbar\":{\"outlinewidth\":0,\"ticks\":\"\"}}],\"scatter\":[{\"fillpattern\":{\"fillmode\":\"overlay\",\"size\":10,\"solidity\":0.2},\"type\":\"scatter\"}],\"parcoords\":[{\"type\":\"parcoords\",\"line\":{\"colorbar\":{\"outlinewidth\":0,\"ticks\":\"\"}}}],\"scatterpolargl\":[{\"type\":\"scatterpolargl\",\"marker\":{\"colorbar\":{\"outlinewidth\":0,\"ticks\":\"\"}}}],\"bar\":[{\"error_x\":{\"color\":\"#2a3f5f\"},\"error_y\":{\"color\":\"#2a3f5f\"},\"marker\":{\"line\":{\"color\":\"#E5ECF6\",\"width\":0.5},\"pattern\":{\"fillmode\":\"overlay\",\"size\":10,\"solidity\":0.2}},\"type\":\"bar\"}],\"scattergeo\":[{\"type\":\"scattergeo\",\"marker\":{\"colorbar\":{\"outlinewidth\":0,\"ticks\":\"\"}}}],\"scatterpolar\":[{\"type\":\"scatterpolar\",\"marker\":{\"colorbar\":{\"outlinewidth\":0,\"ticks\":\"\"}}}],\"histogram\":[{\"marker\":{\"pattern\":{\"fillmode\":\"overlay\",\"size\":10,\"solidity\":0.2}},\"type\":\"histogram\"}],\"scattergl\":[{\"type\":\"scattergl\",\"marker\":{\"colorbar\":{\"outlinewidth\":0,\"ticks\":\"\"}}}],\"scatter3d\":[{\"type\":\"scatter3d\",\"line\":{\"colorbar\":{\"outlinewidth\":0,\"ticks\":\"\"}},\"marker\":{\"colorbar\":{\"outlinewidth\":0,\"ticks\":\"\"}}}],\"scattermapbox\":[{\"type\":\"scattermapbox\",\"marker\":{\"colorbar\":{\"outlinewidth\":0,\"ticks\":\"\"}}}],\"scatterternary\":[{\"type\":\"scatterternary\",\"marker\":{\"colorbar\":{\"outlinewidth\":0,\"ticks\":\"\"}}}],\"scattercarpet\":[{\"type\":\"scattercarpet\",\"marker\":{\"colorbar\":{\"outlinewidth\":0,\"ticks\":\"\"}}}],\"carpet\":[{\"aaxis\":{\"endlinecolor\":\"#2a3f5f\",\"gridcolor\":\"white\",\"linecolor\":\"white\",\"minorgridcolor\":\"white\",\"startlinecolor\":\"#2a3f5f\"},\"baxis\":{\"endlinecolor\":\"#2a3f5f\",\"gridcolor\":\"white\",\"linecolor\":\"white\",\"minorgridcolor\":\"white\",\"startlinecolor\":\"#2a3f5f\"},\"type\":\"carpet\"}],\"table\":[{\"cells\":{\"fill\":{\"color\":\"#EBF0F8\"},\"line\":{\"color\":\"white\"}},\"header\":{\"fill\":{\"color\":\"#C8D4E3\"},\"line\":{\"color\":\"white\"}},\"type\":\"table\"}],\"barpolar\":[{\"marker\":{\"line\":{\"color\":\"#E5ECF6\",\"width\":0.5},\"pattern\":{\"fillmode\":\"overlay\",\"size\":10,\"solidity\":0.2}},\"type\":\"barpolar\"}],\"pie\":[{\"automargin\":true,\"type\":\"pie\"}]},\"layout\":{\"autotypenumbers\":\"strict\",\"colorway\":[\"#636efa\",\"#EF553B\",\"#00cc96\",\"#ab63fa\",\"#FFA15A\",\"#19d3f3\",\"#FF6692\",\"#B6E880\",\"#FF97FF\",\"#FECB52\"],\"font\":{\"color\":\"#2a3f5f\"},\"hovermode\":\"closest\",\"hoverlabel\":{\"align\":\"left\"},\"paper_bgcolor\":\"white\",\"plot_bgcolor\":\"#E5ECF6\",\"polar\":{\"bgcolor\":\"#E5ECF6\",\"angularaxis\":{\"gridcolor\":\"white\",\"linecolor\":\"white\",\"ticks\":\"\"},\"radialaxis\":{\"gridcolor\":\"white\",\"linecolor\":\"white\",\"ticks\":\"\"}},\"ternary\":{\"bgcolor\":\"#E5ECF6\",\"aaxis\":{\"gridcolor\":\"white\",\"linecolor\":\"white\",\"ticks\":\"\"},\"baxis\":{\"gridcolor\":\"white\",\"linecolor\":\"white\",\"ticks\":\"\"},\"caxis\":{\"gridcolor\":\"white\",\"linecolor\":\"white\",\"ticks\":\"\"}},\"coloraxis\":{\"colorbar\":{\"outlinewidth\":0,\"ticks\":\"\"}},\"colorscale\":{\"sequential\":[[0.0,\"#0d0887\"],[0.1111111111111111,\"#46039f\"],[0.2222222222222222,\"#7201a8\"],[0.3333333333333333,\"#9c179e\"],[0.4444444444444444,\"#bd3786\"],[0.5555555555555556,\"#d8576b\"],[0.6666666666666666,\"#ed7953\"],[0.7777777777777778,\"#fb9f3a\"],[0.8888888888888888,\"#fdca26\"],[1.0,\"#f0f921\"]],\"sequentialminus\":[[0.0,\"#0d0887\"],[0.1111111111111111,\"#46039f\"],[0.2222222222222222,\"#7201a8\"],[0.3333333333333333,\"#9c179e\"],[0.4444444444444444,\"#bd3786\"],[0.5555555555555556,\"#d8576b\"],[0.6666666666666666,\"#ed7953\"],[0.7777777777777778,\"#fb9f3a\"],[0.8888888888888888,\"#fdca26\"],[1.0,\"#f0f921\"]],\"diverging\":[[0,\"#8e0152\"],[0.1,\"#c51b7d\"],[0.2,\"#de77ae\"],[0.3,\"#f1b6da\"],[0.4,\"#fde0ef\"],[0.5,\"#f7f7f7\"],[0.6,\"#e6f5d0\"],[0.7,\"#b8e186\"],[0.8,\"#7fbc41\"],[0.9,\"#4d9221\"],[1,\"#276419\"]]},\"xaxis\":{\"gridcolor\":\"white\",\"linecolor\":\"white\",\"ticks\":\"\",\"title\":{\"standoff\":15},\"zerolinecolor\":\"white\",\"automargin\":true,\"zerolinewidth\":2},\"yaxis\":{\"gridcolor\":\"white\",\"linecolor\":\"white\",\"ticks\":\"\",\"title\":{\"standoff\":15},\"zerolinecolor\":\"white\",\"automargin\":true,\"zerolinewidth\":2},\"scene\":{\"xaxis\":{\"backgroundcolor\":\"#E5ECF6\",\"gridcolor\":\"white\",\"linecolor\":\"white\",\"showbackground\":true,\"ticks\":\"\",\"zerolinecolor\":\"white\",\"gridwidth\":2},\"yaxis\":{\"backgroundcolor\":\"#E5ECF6\",\"gridcolor\":\"white\",\"linecolor\":\"white\",\"showbackground\":true,\"ticks\":\"\",\"zerolinecolor\":\"white\",\"gridwidth\":2},\"zaxis\":{\"backgroundcolor\":\"#E5ECF6\",\"gridcolor\":\"white\",\"linecolor\":\"white\",\"showbackground\":true,\"ticks\":\"\",\"zerolinecolor\":\"white\",\"gridwidth\":2}},\"shapedefaults\":{\"line\":{\"color\":\"#2a3f5f\"}},\"annotationdefaults\":{\"arrowcolor\":\"#2a3f5f\",\"arrowhead\":0,\"arrowwidth\":1},\"geo\":{\"bgcolor\":\"white\",\"landcolor\":\"#E5ECF6\",\"subunitcolor\":\"white\",\"showland\":true,\"showlakes\":true,\"lakecolor\":\"white\"},\"title\":{\"x\":0.05},\"mapbox\":{\"style\":\"light\"}}},\"xaxis\":{\"anchor\":\"y\",\"domain\":[0.0,1.0],\"scaleanchor\":\"y\",\"constrain\":\"domain\",\"linecolor\":\"#DCDCDC\"},\"yaxis\":{\"anchor\":\"x\",\"domain\":[0.0,1.0],\"autorange\":\"reversed\",\"constrain\":\"domain\",\"gridcolor\":\"#DCDCDC\",\"title\":{\"text\":\"\"}},\"coloraxis\":{\"colorscale\":[[0.0,\"rgb(253, 253, 204)\"],[0.09090909090909091,\"rgb(206, 236, 179)\"],[0.18181818181818182,\"rgb(156, 219, 165)\"],[0.2727272727272727,\"rgb(111, 201, 163)\"],[0.36363636363636365,\"rgb(86, 177, 163)\"],[0.45454545454545453,\"rgb(76, 153, 160)\"],[0.5454545454545454,\"rgb(68, 130, 155)\"],[0.6363636363636364,\"rgb(62, 108, 150)\"],[0.7272727272727273,\"rgb(62, 82, 143)\"],[0.8181818181818182,\"rgb(64, 60, 115)\"],[0.9090909090909091,\"rgb(54, 43, 77)\"],[1.0,\"rgb(39, 26, 44)\"]],\"showscale\":false},\"margin\":{\"t\":60},\"paper_bgcolor\":\"#F5F5F5\",\"plot_bgcolor\":\"#F5F5F5\"},                        {\"responsive\": true}                    ).then(function(){\n",
       "                            \n",
       "var gd = document.getElementById('04b5bec4-175e-44db-a552-5d9e6bdfd626');\n",
       "var x = new MutationObserver(function (mutations, observer) {{\n",
       "        var display = window.getComputedStyle(gd).display;\n",
       "        if (!display || display === 'none') {{\n",
       "            console.log([gd, 'removed!']);\n",
       "            Plotly.purge(gd);\n",
       "            observer.disconnect();\n",
       "        }}\n",
       "}});\n",
       "\n",
       "// Listen for the removal of the full notebook cells\n",
       "var notebookContainer = gd.closest('#notebook-container');\n",
       "if (notebookContainer) {{\n",
       "    x.observe(notebookContainer, {childList: true});\n",
       "}}\n",
       "\n",
       "// Listen for the clearing of the current output cell\n",
       "var outputEl = gd.closest('.output');\n",
       "if (outputEl) {{\n",
       "    x.observe(outputEl, {childList: true});\n",
       "}}\n",
       "\n",
       "                        })                };                });            </script>        </div>"
      ]
     },
     "metadata": {},
     "output_type": "display_data"
    }
   ],
   "source": [
    "corr_heatmap(X)"
   ]
  },
  {
   "cell_type": "code",
   "execution_count": 142,
   "id": "d3054843",
   "metadata": {
    "ExecuteTime": {
     "end_time": "2022-11-02T07:57:44.326201Z",
     "start_time": "2022-11-02T07:57:44.280149Z"
    },
    "hidden": true
   },
   "outputs": [
    {
     "data": {
      "text/html": [
       "<div>                            <div id=\"5a8f820e-1ac1-4699-a947-5aad664922d9\" class=\"plotly-graph-div\" style=\"height:525px; width:100%;\"></div>            <script type=\"text/javascript\">                require([\"plotly\"], function(Plotly) {                    window.PLOTLYENV=window.PLOTLYENV || {};                                    if (document.getElementById(\"5a8f820e-1ac1-4699-a947-5aad664922d9\")) {                    Plotly.newPlot(                        \"5a8f820e-1ac1-4699-a947-5aad664922d9\",                        [{\"coloraxis\":\"coloraxis\",\"name\":\"0\",\"texttemplate\":\"%{z}\",\"x\":[\"LotFrontage\",\"LotArea\",\"MasVnrArea\",\"BsmtFinSF1\",\"BsmtFinSF2\",\"BsmtUnfSF\",\"TotalBsmtSF\",\"1stFlrSF\",\"2ndFlrSF\",\"LowQualFinSF\",\"GrLivArea\",\"GarageArea\",\"SalePrice\"],\"y\":[\"LotFrontage\",\"LotArea\",\"MasVnrArea\",\"BsmtFinSF1\",\"BsmtFinSF2\",\"BsmtUnfSF\",\"TotalBsmtSF\",\"1stFlrSF\",\"2ndFlrSF\",\"LowQualFinSF\",\"GrLivArea\",\"GarageArea\",\"SalePrice\"],\"z\":[[1.0,0.522,0.185,0.158,0.042,0.159,0.348,0.405,0.08,0.038,0.367,0.342,0.372],[0.522,1.0,0.171,0.228,0.061,0.076,0.338,0.397,0.145,0.015,0.415,0.319,0.412],[0.185,0.171,1.0,0.271,-0.075,0.126,0.389,0.372,0.158,-0.067,0.401,0.383,0.503],[0.158,0.228,0.271,1.0,-0.034,-0.52,0.473,0.415,-0.14,-0.05,0.18,0.267,0.426],[0.042,0.061,-0.075,-0.034,1.0,-0.209,0.093,0.068,-0.121,0.044,-0.049,-0.026,-0.038],[0.159,0.076,0.126,-0.52,-0.209,1.0,0.45,0.346,0.001,-0.008,0.253,0.225,0.225],[0.348,0.338,0.389,0.473,0.093,0.45,1.0,0.821,-0.187,-0.045,0.438,0.506,0.667],[0.405,0.397,0.372,0.415,0.068,0.346,0.821,1.0,-0.216,-0.02,0.546,0.502,0.643],[0.08,0.145,0.158,-0.14,-0.121,0.001,-0.187,-0.216,1.0,0.06,0.696,0.126,0.299],[0.038,0.015,-0.067,-0.05,0.044,-0.008,-0.045,-0.02,0.06,1.0,0.118,-0.056,-0.049],[0.367,0.415,0.401,0.18,-0.049,0.253,0.438,0.546,0.696,0.118,1.0,0.47,0.72],[0.342,0.319,0.383,0.267,-0.026,0.225,0.506,0.502,0.126,-0.056,0.47,1.0,0.639],[0.372,0.412,0.503,0.426,-0.038,0.225,0.667,0.643,0.299,-0.049,0.72,0.639,1.0]],\"type\":\"heatmap\",\"xaxis\":\"x\",\"yaxis\":\"y\",\"hovertemplate\":\"x: %{x}<br>y: %{y}<br>color: %{z}<extra></extra>\",\"opacity\":0.8}],                        {\"template\":{\"data\":{\"histogram2dcontour\":[{\"type\":\"histogram2dcontour\",\"colorbar\":{\"outlinewidth\":0,\"ticks\":\"\"},\"colorscale\":[[0.0,\"#0d0887\"],[0.1111111111111111,\"#46039f\"],[0.2222222222222222,\"#7201a8\"],[0.3333333333333333,\"#9c179e\"],[0.4444444444444444,\"#bd3786\"],[0.5555555555555556,\"#d8576b\"],[0.6666666666666666,\"#ed7953\"],[0.7777777777777778,\"#fb9f3a\"],[0.8888888888888888,\"#fdca26\"],[1.0,\"#f0f921\"]]}],\"choropleth\":[{\"type\":\"choropleth\",\"colorbar\":{\"outlinewidth\":0,\"ticks\":\"\"}}],\"histogram2d\":[{\"type\":\"histogram2d\",\"colorbar\":{\"outlinewidth\":0,\"ticks\":\"\"},\"colorscale\":[[0.0,\"#0d0887\"],[0.1111111111111111,\"#46039f\"],[0.2222222222222222,\"#7201a8\"],[0.3333333333333333,\"#9c179e\"],[0.4444444444444444,\"#bd3786\"],[0.5555555555555556,\"#d8576b\"],[0.6666666666666666,\"#ed7953\"],[0.7777777777777778,\"#fb9f3a\"],[0.8888888888888888,\"#fdca26\"],[1.0,\"#f0f921\"]]}],\"heatmap\":[{\"type\":\"heatmap\",\"colorbar\":{\"outlinewidth\":0,\"ticks\":\"\"},\"colorscale\":[[0.0,\"#0d0887\"],[0.1111111111111111,\"#46039f\"],[0.2222222222222222,\"#7201a8\"],[0.3333333333333333,\"#9c179e\"],[0.4444444444444444,\"#bd3786\"],[0.5555555555555556,\"#d8576b\"],[0.6666666666666666,\"#ed7953\"],[0.7777777777777778,\"#fb9f3a\"],[0.8888888888888888,\"#fdca26\"],[1.0,\"#f0f921\"]]}],\"heatmapgl\":[{\"type\":\"heatmapgl\",\"colorbar\":{\"outlinewidth\":0,\"ticks\":\"\"},\"colorscale\":[[0.0,\"#0d0887\"],[0.1111111111111111,\"#46039f\"],[0.2222222222222222,\"#7201a8\"],[0.3333333333333333,\"#9c179e\"],[0.4444444444444444,\"#bd3786\"],[0.5555555555555556,\"#d8576b\"],[0.6666666666666666,\"#ed7953\"],[0.7777777777777778,\"#fb9f3a\"],[0.8888888888888888,\"#fdca26\"],[1.0,\"#f0f921\"]]}],\"contourcarpet\":[{\"type\":\"contourcarpet\",\"colorbar\":{\"outlinewidth\":0,\"ticks\":\"\"}}],\"contour\":[{\"type\":\"contour\",\"colorbar\":{\"outlinewidth\":0,\"ticks\":\"\"},\"colorscale\":[[0.0,\"#0d0887\"],[0.1111111111111111,\"#46039f\"],[0.2222222222222222,\"#7201a8\"],[0.3333333333333333,\"#9c179e\"],[0.4444444444444444,\"#bd3786\"],[0.5555555555555556,\"#d8576b\"],[0.6666666666666666,\"#ed7953\"],[0.7777777777777778,\"#fb9f3a\"],[0.8888888888888888,\"#fdca26\"],[1.0,\"#f0f921\"]]}],\"surface\":[{\"type\":\"surface\",\"colorbar\":{\"outlinewidth\":0,\"ticks\":\"\"},\"colorscale\":[[0.0,\"#0d0887\"],[0.1111111111111111,\"#46039f\"],[0.2222222222222222,\"#7201a8\"],[0.3333333333333333,\"#9c179e\"],[0.4444444444444444,\"#bd3786\"],[0.5555555555555556,\"#d8576b\"],[0.6666666666666666,\"#ed7953\"],[0.7777777777777778,\"#fb9f3a\"],[0.8888888888888888,\"#fdca26\"],[1.0,\"#f0f921\"]]}],\"mesh3d\":[{\"type\":\"mesh3d\",\"colorbar\":{\"outlinewidth\":0,\"ticks\":\"\"}}],\"scatter\":[{\"fillpattern\":{\"fillmode\":\"overlay\",\"size\":10,\"solidity\":0.2},\"type\":\"scatter\"}],\"parcoords\":[{\"type\":\"parcoords\",\"line\":{\"colorbar\":{\"outlinewidth\":0,\"ticks\":\"\"}}}],\"scatterpolargl\":[{\"type\":\"scatterpolargl\",\"marker\":{\"colorbar\":{\"outlinewidth\":0,\"ticks\":\"\"}}}],\"bar\":[{\"error_x\":{\"color\":\"#2a3f5f\"},\"error_y\":{\"color\":\"#2a3f5f\"},\"marker\":{\"line\":{\"color\":\"#E5ECF6\",\"width\":0.5},\"pattern\":{\"fillmode\":\"overlay\",\"size\":10,\"solidity\":0.2}},\"type\":\"bar\"}],\"scattergeo\":[{\"type\":\"scattergeo\",\"marker\":{\"colorbar\":{\"outlinewidth\":0,\"ticks\":\"\"}}}],\"scatterpolar\":[{\"type\":\"scatterpolar\",\"marker\":{\"colorbar\":{\"outlinewidth\":0,\"ticks\":\"\"}}}],\"histogram\":[{\"marker\":{\"pattern\":{\"fillmode\":\"overlay\",\"size\":10,\"solidity\":0.2}},\"type\":\"histogram\"}],\"scattergl\":[{\"type\":\"scattergl\",\"marker\":{\"colorbar\":{\"outlinewidth\":0,\"ticks\":\"\"}}}],\"scatter3d\":[{\"type\":\"scatter3d\",\"line\":{\"colorbar\":{\"outlinewidth\":0,\"ticks\":\"\"}},\"marker\":{\"colorbar\":{\"outlinewidth\":0,\"ticks\":\"\"}}}],\"scattermapbox\":[{\"type\":\"scattermapbox\",\"marker\":{\"colorbar\":{\"outlinewidth\":0,\"ticks\":\"\"}}}],\"scatterternary\":[{\"type\":\"scatterternary\",\"marker\":{\"colorbar\":{\"outlinewidth\":0,\"ticks\":\"\"}}}],\"scattercarpet\":[{\"type\":\"scattercarpet\",\"marker\":{\"colorbar\":{\"outlinewidth\":0,\"ticks\":\"\"}}}],\"carpet\":[{\"aaxis\":{\"endlinecolor\":\"#2a3f5f\",\"gridcolor\":\"white\",\"linecolor\":\"white\",\"minorgridcolor\":\"white\",\"startlinecolor\":\"#2a3f5f\"},\"baxis\":{\"endlinecolor\":\"#2a3f5f\",\"gridcolor\":\"white\",\"linecolor\":\"white\",\"minorgridcolor\":\"white\",\"startlinecolor\":\"#2a3f5f\"},\"type\":\"carpet\"}],\"table\":[{\"cells\":{\"fill\":{\"color\":\"#EBF0F8\"},\"line\":{\"color\":\"white\"}},\"header\":{\"fill\":{\"color\":\"#C8D4E3\"},\"line\":{\"color\":\"white\"}},\"type\":\"table\"}],\"barpolar\":[{\"marker\":{\"line\":{\"color\":\"#E5ECF6\",\"width\":0.5},\"pattern\":{\"fillmode\":\"overlay\",\"size\":10,\"solidity\":0.2}},\"type\":\"barpolar\"}],\"pie\":[{\"automargin\":true,\"type\":\"pie\"}]},\"layout\":{\"autotypenumbers\":\"strict\",\"colorway\":[\"#636efa\",\"#EF553B\",\"#00cc96\",\"#ab63fa\",\"#FFA15A\",\"#19d3f3\",\"#FF6692\",\"#B6E880\",\"#FF97FF\",\"#FECB52\"],\"font\":{\"color\":\"#2a3f5f\"},\"hovermode\":\"closest\",\"hoverlabel\":{\"align\":\"left\"},\"paper_bgcolor\":\"white\",\"plot_bgcolor\":\"#E5ECF6\",\"polar\":{\"bgcolor\":\"#E5ECF6\",\"angularaxis\":{\"gridcolor\":\"white\",\"linecolor\":\"white\",\"ticks\":\"\"},\"radialaxis\":{\"gridcolor\":\"white\",\"linecolor\":\"white\",\"ticks\":\"\"}},\"ternary\":{\"bgcolor\":\"#E5ECF6\",\"aaxis\":{\"gridcolor\":\"white\",\"linecolor\":\"white\",\"ticks\":\"\"},\"baxis\":{\"gridcolor\":\"white\",\"linecolor\":\"white\",\"ticks\":\"\"},\"caxis\":{\"gridcolor\":\"white\",\"linecolor\":\"white\",\"ticks\":\"\"}},\"coloraxis\":{\"colorbar\":{\"outlinewidth\":0,\"ticks\":\"\"}},\"colorscale\":{\"sequential\":[[0.0,\"#0d0887\"],[0.1111111111111111,\"#46039f\"],[0.2222222222222222,\"#7201a8\"],[0.3333333333333333,\"#9c179e\"],[0.4444444444444444,\"#bd3786\"],[0.5555555555555556,\"#d8576b\"],[0.6666666666666666,\"#ed7953\"],[0.7777777777777778,\"#fb9f3a\"],[0.8888888888888888,\"#fdca26\"],[1.0,\"#f0f921\"]],\"sequentialminus\":[[0.0,\"#0d0887\"],[0.1111111111111111,\"#46039f\"],[0.2222222222222222,\"#7201a8\"],[0.3333333333333333,\"#9c179e\"],[0.4444444444444444,\"#bd3786\"],[0.5555555555555556,\"#d8576b\"],[0.6666666666666666,\"#ed7953\"],[0.7777777777777778,\"#fb9f3a\"],[0.8888888888888888,\"#fdca26\"],[1.0,\"#f0f921\"]],\"diverging\":[[0,\"#8e0152\"],[0.1,\"#c51b7d\"],[0.2,\"#de77ae\"],[0.3,\"#f1b6da\"],[0.4,\"#fde0ef\"],[0.5,\"#f7f7f7\"],[0.6,\"#e6f5d0\"],[0.7,\"#b8e186\"],[0.8,\"#7fbc41\"],[0.9,\"#4d9221\"],[1,\"#276419\"]]},\"xaxis\":{\"gridcolor\":\"white\",\"linecolor\":\"white\",\"ticks\":\"\",\"title\":{\"standoff\":15},\"zerolinecolor\":\"white\",\"automargin\":true,\"zerolinewidth\":2},\"yaxis\":{\"gridcolor\":\"white\",\"linecolor\":\"white\",\"ticks\":\"\",\"title\":{\"standoff\":15},\"zerolinecolor\":\"white\",\"automargin\":true,\"zerolinewidth\":2},\"scene\":{\"xaxis\":{\"backgroundcolor\":\"#E5ECF6\",\"gridcolor\":\"white\",\"linecolor\":\"white\",\"showbackground\":true,\"ticks\":\"\",\"zerolinecolor\":\"white\",\"gridwidth\":2},\"yaxis\":{\"backgroundcolor\":\"#E5ECF6\",\"gridcolor\":\"white\",\"linecolor\":\"white\",\"showbackground\":true,\"ticks\":\"\",\"zerolinecolor\":\"white\",\"gridwidth\":2},\"zaxis\":{\"backgroundcolor\":\"#E5ECF6\",\"gridcolor\":\"white\",\"linecolor\":\"white\",\"showbackground\":true,\"ticks\":\"\",\"zerolinecolor\":\"white\",\"gridwidth\":2}},\"shapedefaults\":{\"line\":{\"color\":\"#2a3f5f\"}},\"annotationdefaults\":{\"arrowcolor\":\"#2a3f5f\",\"arrowhead\":0,\"arrowwidth\":1},\"geo\":{\"bgcolor\":\"white\",\"landcolor\":\"#E5ECF6\",\"subunitcolor\":\"white\",\"showland\":true,\"showlakes\":true,\"lakecolor\":\"white\"},\"title\":{\"x\":0.05},\"mapbox\":{\"style\":\"light\"}}},\"xaxis\":{\"anchor\":\"y\",\"domain\":[0.0,1.0],\"scaleanchor\":\"y\",\"constrain\":\"domain\",\"linecolor\":\"#DCDCDC\"},\"yaxis\":{\"anchor\":\"x\",\"domain\":[0.0,1.0],\"autorange\":\"reversed\",\"constrain\":\"domain\",\"gridcolor\":\"#DCDCDC\",\"title\":{\"text\":\"\"}},\"coloraxis\":{\"colorscale\":[[0.0,\"rgb(253, 253, 204)\"],[0.09090909090909091,\"rgb(206, 236, 179)\"],[0.18181818181818182,\"rgb(156, 219, 165)\"],[0.2727272727272727,\"rgb(111, 201, 163)\"],[0.36363636363636365,\"rgb(86, 177, 163)\"],[0.45454545454545453,\"rgb(76, 153, 160)\"],[0.5454545454545454,\"rgb(68, 130, 155)\"],[0.6363636363636364,\"rgb(62, 108, 150)\"],[0.7272727272727273,\"rgb(62, 82, 143)\"],[0.8181818181818182,\"rgb(64, 60, 115)\"],[0.9090909090909091,\"rgb(54, 43, 77)\"],[1.0,\"rgb(39, 26, 44)\"]],\"showscale\":false},\"margin\":{\"t\":60},\"paper_bgcolor\":\"#F5F5F5\",\"plot_bgcolor\":\"#F5F5F5\"},                        {\"responsive\": true}                    ).then(function(){\n",
       "                            \n",
       "var gd = document.getElementById('5a8f820e-1ac1-4699-a947-5aad664922d9');\n",
       "var x = new MutationObserver(function (mutations, observer) {{\n",
       "        var display = window.getComputedStyle(gd).display;\n",
       "        if (!display || display === 'none') {{\n",
       "            console.log([gd, 'removed!']);\n",
       "            Plotly.purge(gd);\n",
       "            observer.disconnect();\n",
       "        }}\n",
       "}});\n",
       "\n",
       "// Listen for the removal of the full notebook cells\n",
       "var notebookContainer = gd.closest('#notebook-container');\n",
       "if (notebookContainer) {{\n",
       "    x.observe(notebookContainer, {childList: true});\n",
       "}}\n",
       "\n",
       "// Listen for the clearing of the current output cell\n",
       "var outputEl = gd.closest('.output');\n",
       "if (outputEl) {{\n",
       "    x.observe(outputEl, {childList: true});\n",
       "}}\n",
       "\n",
       "                        })                };                });            </script>        </div>"
      ]
     },
     "metadata": {},
     "output_type": "display_data"
    }
   ],
   "source": [
    "corr_heatmap(\n",
    "    X.query(\n",
    "        ('LotArea <= 70000 & LotFrontage <= 182 & MasVnrArea <= 1170 &'+\n",
    "        'BsmtFinSF1 <= 2260 & BsmtFinSF2 <= 1127 & TotalBsmtSF <= 3206 &'+\n",
    "        'LowQualFinSF <= 500 & GrLivArea <= 4676')\n",
    "    )\n",
    ")"
   ]
  },
  {
   "cell_type": "markdown",
   "id": "9d05b5ab",
   "metadata": {
    "hidden": true
   },
   "source": [
    "- LotArea has average correlation with other areas\n",
    "- MasVnrArea has even less strong correlation with other areas\n",
    "- BsmtFinSF1 is correlated with TotalBasement and 1st floor area\n",
    "- BsmtFinSF2 is weakly correlated with all the other areas\n",
    "- BsmtUnfSF is correlated with TotalBasement olny\n",
    "- TotalBsmtSF has strong correlation with 1stFlrSF;pretty strong with GarageArea and GRLivArea\n",
    "- 2ndFlrSF is strongly correlated with GrLivArea\n",
    "- GarageArea is correlated with Total Basement, 1stFloor basement, GrLivArea\n",
    "-------------------------------------------------------------------------------------------------------\n",
    "To sum up:\n",
    "- better to be united during PCA\n",
    "- The best Area is GrLivArea\n",
    "- Also keep LotFrontage, LotArea, MasVnrArea, TotalBsmtSF, GarageArea\n",
    "- proportion of finished/unfinished basement could be created"
   ]
  },
  {
   "cell_type": "markdown",
   "id": "5c11253a",
   "metadata": {
    "heading_collapsed": true
   },
   "source": [
    "### Porches"
   ]
  },
  {
   "cell_type": "code",
   "execution_count": 144,
   "id": "fa5e073e",
   "metadata": {
    "ExecuteTime": {
     "end_time": "2022-11-02T08:11:54.743330Z",
     "start_time": "2022-11-02T08:11:54.730105Z"
    },
    "hidden": true
   },
   "outputs": [],
   "source": [
    "X = data.copy()\n",
    "X = X.loc[:, ['WoodDeckSF', '3SsnPorch', 'EnclosedPorch', 'ScreenPorch', 'OpenPorchSF',\n",
    "              'SalePrice']]"
   ]
  },
  {
   "cell_type": "code",
   "execution_count": 145,
   "id": "10845d26",
   "metadata": {
    "ExecuteTime": {
     "end_time": "2022-11-02T08:12:09.633380Z",
     "start_time": "2022-11-02T08:12:08.321168Z"
    },
    "hidden": true
   },
   "outputs": [
    {
     "data": {
      "text/html": [
       "<div>                            <div id=\"2b695dba-4233-4cfe-bc63-a96c422190f3\" class=\"plotly-graph-div\" style=\"height:525px; width:100%;\"></div>            <script type=\"text/javascript\">                require([\"plotly\"], function(Plotly) {                    window.PLOTLYENV=window.PLOTLYENV || {};                                    if (document.getElementById(\"2b695dba-4233-4cfe-bc63-a96c422190f3\")) {                    Plotly.newPlot(                        \"2b695dba-4233-4cfe-bc63-a96c422190f3\",                        [{\"alignmentgroup\":\"True\",\"box\":{\"visible\":true},\"hovertemplate\":\"WoodDeckSF=%{y}<extra></extra>\",\"legendgroup\":\"\",\"marker\":{\"color\":\"#2C3E50\"},\"name\":\"WoodDeckSF\",\"offsetgroup\":\"\",\"orientation\":\"v\",\"points\":\"outliers\",\"scalegroup\":\"True\",\"showlegend\":true,\"x0\":\" \",\"xaxis\":\"x\",\"y\":[0,298,0,0,192,40,255,235,90,0,0,147,140,160,0,48,0,0,0,0,240,0,171,100,406,0,222,0,288,49,0,0,0,0,203,113,392,0,0,0,0,0,240,145,0,196,168,0,0,0,0,112,106,857,0,0,115,0,192,196,0,0,120,12,576,192,301,144,0,0,300,0,0,0,0,120,0,0,0,74,0,0,144,74,120,127,100,0,0,0,0,0,0,0,0,232,158,120,0,352,168,192,0,0,0,140,0,0,0,0,182,180,120,166,224,0,0,80,367,0,0,0,0,0,192,53,0,0,188,0,105,24,0,192,0,98,0,0,224,276,0,160,0,144,0,0,48,144,0,200,0,0,0,409,0,0,0,0,0,239,0,400,0,0,0,140,476,178,100,574,237,210,441,0,192,0,0,0,0,0,0,0,116,280,104,0,168,0,120,0,0,0,0,0,0,87,171,0,0,0,132,238,0,149,0,0,0,355,60,0,0,100,168,224,0,0,139,0,0,108,351,120,209,216,248,0,224,0,0,143,0,0,0,365,288,0,132,370,168,0,144,58,0,0,0,197,0,0,144,0,263,123,138,333,250,192,216,123,0,0,0,0,292,0,0,276,95,262,0,370,192,81,132,289,168,74,100,0,124,288,0,0,172,210,0,0,0,0,0,0,0,0,0,0,110,120,289,0,224,0,0,208,468,256,302,168,127,0,158,208,190,0,0,0,0,100,288,208,340,233,240,184,201,142,240,0,122,0,0,0,155,0,0,192,100,670,178,192,108,0,135,250,0,495,182,0,0,0,0,0,210,0,48,106,0,0,120,536,168,208,0,0,0,250,306,0,0,64,0,364,100,0,353,66,100,0,0,159,113,100,0,216,144,0,216,146,0,296,120,196,0,125,0,0,0,44,215,0,0,0,120,0,168,144,0,120,0,0,192,0,0,264,0,0,196,100,0,0,0,0,0,240,0,0,0,0,80,0,105,0,0,0,240,0,88,158,0,0,0,0,0,0,0,144,144,0,0,89,0,0,0,200,144,0,0,0,0,224,192,0,0,256,0,0,0,144,0,168,0,144,0,0,0,250,96,0,140,414,208,0,519,206,0,0,0,0,0,224,142,0,141,0,0,0,144,0,264,0,64,12,144,0,0,0,260,0,182,0,0,224,324,132,0,120,0,156,0,220,0,0,220,0,0,208,239,38,261,126,0,0,224,0,0,0,100,85,120,216,466,180,270,0,78,120,100,0,0,104,140,182,0,0,169,0,320,0,268,0,264,143,0,240,144,72,0,0,144,0,349,42,0,168,208,100,35,158,0,160,0,0,216,0,0,105,0,326,0,0,0,0,0,382,0,140,0,180,0,120,0,161,179,0,120,0,192,0,168,103,0,64,253,0,160,0,96,120,100,0,0,168,0,38,192,0,148,0,0,0,335,176,0,156,192,390,264,0,0,0,328,312,185,0,269,208,195,0,0,0,0,0,0,120,0,57,236,0,0,0,192,0,0,517,0,0,192,188,0,224,304,0,100,147,198,0,426,28,0,316,322,0,80,0,307,257,0,219,144,0,140,192,149,382,320,0,112,125,0,0,416,156,270,0,324,344,0,0,380,192,100,0,0,68,168,0,0,0,0,224,250,0,114,160,0,0,327,96,292,132,0,0,237,160,192,165,147,0,0,0,120,187,270,168,120,302,96,0,224,181,240,92,0,0,168,192,171,0,144,335,0,222,0,0,169,0,0,0,228,245,120,503,120,0,144,0,315,0,144,241,0,0,220,0,0,303,0,0,0,0,0,133,100,120,180,168,143,0,138,0,144,0,403,0,36,52,0,0,68,0,0,40,265,140,0,0,207,0,0,150,0,192,0,0,100,335,0,188,0,290,486,0,0,0,192,0,0,290,0,0,278,0,0,70,0,0,418,0,234,0,486,113,140,143,0,180,0,0,0,0,0,0,0,0,0,0,0,0,192,168,120,156,0,0,196,0,26,208,0,184,192,0,0,168,342,0,0,97,272,121,81,0,0,243,192,511,0,0,0,154,0,0,0,0,0,144,0,0,0,0,164,36,0,173,0,0,0,0,0,0,72,0,300,0,100,0,384,180,104,0,202,0,100,0,0,192,0,0,0,0,0,56,40,0,321,0,0,48,86,0,144,0,194,421,192,305,0,0,150,0,0,0,117,550,48,288,0,0,0,0,0,0,0,0,28,0,509,153,0,0,0,0,144,250,100,0,0,0,394,168,0,0,0,0,239,0,216,0,0,371,0,105,0,0,144,0,156,210,0,238,100,0,0,0,96,0,0,0,115,63,164,142,252,105,0,156,0,96,0,192,0,0,0,136,209,0,0,186,228,0,0,0,0,0,170,192,474,0,214,0,0,0,0,0,0,116,199,0,192,168,0,0,0,0,0,166,0,296,0,328,728,0,0,0,0,252,140,0,436,240,140,0,55,0,192,0,315,120,120,160,0,0,0,0,342,0,0,0,136,0,0,0,0,0,0,0,0,186,0,0,100,125,224,0,0,0,0,0,120,0,280,140,0,144,64,0,100,0,143,144,100,49,431,0,0,0,100,0,0,0,264,0,0,448,125,0,0,0,165,0,0,0,0,0,0,0,60,0,0,172,0,0,26,108,0,120,168,0,160,0,0,361,203,0,0,122,0,0,362,0,192,0,0,162,171,229,0,0,0,0,144,140,439,206,0,0,379,100,100,0,356,0,0,198,0,74,0,84,0,192,0,322,635,325,0,88,150,0,0,135,0,201,0,0,0,0,100,224,100,0,0,0,155,0,0,0,0,203,0,100,0,120,0,0,0,216,0,268,0,0,0,0,0,148,33,220,178,0,262,0,212,180,0,0,120,0,144,0,0,144,314,0,268,0,180,0,242,0,294,0,0,30,0,0,0,128,272,45,0,168,212,177,227,185,0,0,0,356,192,0,214,218,0,0,309,208,0,404,132,0,0,112,0,264,500,668,0,280,172,0,198,0,114,0,240,164,0,0,0,0,0,0,144,0,0,0,0,0,0,0,146,0,0,0,192,0,0,0,0,0,402,0,0,0,210,283,0,0,0,0,0,194,183,168,55,0,0,0,0,104,140,0,0,0,253,314,154,100,0,0,72,100,0,0,36,0,0,0,0,88,201,0,219,0,175,0,161,144,0,24,0,147,0,100,168,168,216,128,58,0,0,364,0,0,0,165,0,143,0,0,0,0,0,0,140,586,316,0,171,0,0,0,100,0,0,0,295,0,0,0,0,0,431,149,168,0,192,0,261,0,168,0,32,0,0,36,0,0,349,0,366,736],\"y0\":\" \",\"yaxis\":\"y\",\"type\":\"violin\",\"opacity\":0.8}],                        {\"template\":{\"data\":{\"histogram2dcontour\":[{\"type\":\"histogram2dcontour\",\"colorbar\":{\"outlinewidth\":0,\"ticks\":\"\"},\"colorscale\":[[0.0,\"#0d0887\"],[0.1111111111111111,\"#46039f\"],[0.2222222222222222,\"#7201a8\"],[0.3333333333333333,\"#9c179e\"],[0.4444444444444444,\"#bd3786\"],[0.5555555555555556,\"#d8576b\"],[0.6666666666666666,\"#ed7953\"],[0.7777777777777778,\"#fb9f3a\"],[0.8888888888888888,\"#fdca26\"],[1.0,\"#f0f921\"]]}],\"choropleth\":[{\"type\":\"choropleth\",\"colorbar\":{\"outlinewidth\":0,\"ticks\":\"\"}}],\"histogram2d\":[{\"type\":\"histogram2d\",\"colorbar\":{\"outlinewidth\":0,\"ticks\":\"\"},\"colorscale\":[[0.0,\"#0d0887\"],[0.1111111111111111,\"#46039f\"],[0.2222222222222222,\"#7201a8\"],[0.3333333333333333,\"#9c179e\"],[0.4444444444444444,\"#bd3786\"],[0.5555555555555556,\"#d8576b\"],[0.6666666666666666,\"#ed7953\"],[0.7777777777777778,\"#fb9f3a\"],[0.8888888888888888,\"#fdca26\"],[1.0,\"#f0f921\"]]}],\"heatmap\":[{\"type\":\"heatmap\",\"colorbar\":{\"outlinewidth\":0,\"ticks\":\"\"},\"colorscale\":[[0.0,\"#0d0887\"],[0.1111111111111111,\"#46039f\"],[0.2222222222222222,\"#7201a8\"],[0.3333333333333333,\"#9c179e\"],[0.4444444444444444,\"#bd3786\"],[0.5555555555555556,\"#d8576b\"],[0.6666666666666666,\"#ed7953\"],[0.7777777777777778,\"#fb9f3a\"],[0.8888888888888888,\"#fdca26\"],[1.0,\"#f0f921\"]]}],\"heatmapgl\":[{\"type\":\"heatmapgl\",\"colorbar\":{\"outlinewidth\":0,\"ticks\":\"\"},\"colorscale\":[[0.0,\"#0d0887\"],[0.1111111111111111,\"#46039f\"],[0.2222222222222222,\"#7201a8\"],[0.3333333333333333,\"#9c179e\"],[0.4444444444444444,\"#bd3786\"],[0.5555555555555556,\"#d8576b\"],[0.6666666666666666,\"#ed7953\"],[0.7777777777777778,\"#fb9f3a\"],[0.8888888888888888,\"#fdca26\"],[1.0,\"#f0f921\"]]}],\"contourcarpet\":[{\"type\":\"contourcarpet\",\"colorbar\":{\"outlinewidth\":0,\"ticks\":\"\"}}],\"contour\":[{\"type\":\"contour\",\"colorbar\":{\"outlinewidth\":0,\"ticks\":\"\"},\"colorscale\":[[0.0,\"#0d0887\"],[0.1111111111111111,\"#46039f\"],[0.2222222222222222,\"#7201a8\"],[0.3333333333333333,\"#9c179e\"],[0.4444444444444444,\"#bd3786\"],[0.5555555555555556,\"#d8576b\"],[0.6666666666666666,\"#ed7953\"],[0.7777777777777778,\"#fb9f3a\"],[0.8888888888888888,\"#fdca26\"],[1.0,\"#f0f921\"]]}],\"surface\":[{\"type\":\"surface\",\"colorbar\":{\"outlinewidth\":0,\"ticks\":\"\"},\"colorscale\":[[0.0,\"#0d0887\"],[0.1111111111111111,\"#46039f\"],[0.2222222222222222,\"#7201a8\"],[0.3333333333333333,\"#9c179e\"],[0.4444444444444444,\"#bd3786\"],[0.5555555555555556,\"#d8576b\"],[0.6666666666666666,\"#ed7953\"],[0.7777777777777778,\"#fb9f3a\"],[0.8888888888888888,\"#fdca26\"],[1.0,\"#f0f921\"]]}],\"mesh3d\":[{\"type\":\"mesh3d\",\"colorbar\":{\"outlinewidth\":0,\"ticks\":\"\"}}],\"scatter\":[{\"fillpattern\":{\"fillmode\":\"overlay\",\"size\":10,\"solidity\":0.2},\"type\":\"scatter\"}],\"parcoords\":[{\"type\":\"parcoords\",\"line\":{\"colorbar\":{\"outlinewidth\":0,\"ticks\":\"\"}}}],\"scatterpolargl\":[{\"type\":\"scatterpolargl\",\"marker\":{\"colorbar\":{\"outlinewidth\":0,\"ticks\":\"\"}}}],\"bar\":[{\"error_x\":{\"color\":\"#2a3f5f\"},\"error_y\":{\"color\":\"#2a3f5f\"},\"marker\":{\"line\":{\"color\":\"#E5ECF6\",\"width\":0.5},\"pattern\":{\"fillmode\":\"overlay\",\"size\":10,\"solidity\":0.2}},\"type\":\"bar\"}],\"scattergeo\":[{\"type\":\"scattergeo\",\"marker\":{\"colorbar\":{\"outlinewidth\":0,\"ticks\":\"\"}}}],\"scatterpolar\":[{\"type\":\"scatterpolar\",\"marker\":{\"colorbar\":{\"outlinewidth\":0,\"ticks\":\"\"}}}],\"histogram\":[{\"marker\":{\"pattern\":{\"fillmode\":\"overlay\",\"size\":10,\"solidity\":0.2}},\"type\":\"histogram\"}],\"scattergl\":[{\"type\":\"scattergl\",\"marker\":{\"colorbar\":{\"outlinewidth\":0,\"ticks\":\"\"}}}],\"scatter3d\":[{\"type\":\"scatter3d\",\"line\":{\"colorbar\":{\"outlinewidth\":0,\"ticks\":\"\"}},\"marker\":{\"colorbar\":{\"outlinewidth\":0,\"ticks\":\"\"}}}],\"scattermapbox\":[{\"type\":\"scattermapbox\",\"marker\":{\"colorbar\":{\"outlinewidth\":0,\"ticks\":\"\"}}}],\"scatterternary\":[{\"type\":\"scatterternary\",\"marker\":{\"colorbar\":{\"outlinewidth\":0,\"ticks\":\"\"}}}],\"scattercarpet\":[{\"type\":\"scattercarpet\",\"marker\":{\"colorbar\":{\"outlinewidth\":0,\"ticks\":\"\"}}}],\"carpet\":[{\"aaxis\":{\"endlinecolor\":\"#2a3f5f\",\"gridcolor\":\"white\",\"linecolor\":\"white\",\"minorgridcolor\":\"white\",\"startlinecolor\":\"#2a3f5f\"},\"baxis\":{\"endlinecolor\":\"#2a3f5f\",\"gridcolor\":\"white\",\"linecolor\":\"white\",\"minorgridcolor\":\"white\",\"startlinecolor\":\"#2a3f5f\"},\"type\":\"carpet\"}],\"table\":[{\"cells\":{\"fill\":{\"color\":\"#EBF0F8\"},\"line\":{\"color\":\"white\"}},\"header\":{\"fill\":{\"color\":\"#C8D4E3\"},\"line\":{\"color\":\"white\"}},\"type\":\"table\"}],\"barpolar\":[{\"marker\":{\"line\":{\"color\":\"#E5ECF6\",\"width\":0.5},\"pattern\":{\"fillmode\":\"overlay\",\"size\":10,\"solidity\":0.2}},\"type\":\"barpolar\"}],\"pie\":[{\"automargin\":true,\"type\":\"pie\"}]},\"layout\":{\"autotypenumbers\":\"strict\",\"colorway\":[\"#636efa\",\"#EF553B\",\"#00cc96\",\"#ab63fa\",\"#FFA15A\",\"#19d3f3\",\"#FF6692\",\"#B6E880\",\"#FF97FF\",\"#FECB52\"],\"font\":{\"color\":\"#2a3f5f\"},\"hovermode\":\"closest\",\"hoverlabel\":{\"align\":\"left\"},\"paper_bgcolor\":\"white\",\"plot_bgcolor\":\"#E5ECF6\",\"polar\":{\"bgcolor\":\"#E5ECF6\",\"angularaxis\":{\"gridcolor\":\"white\",\"linecolor\":\"white\",\"ticks\":\"\"},\"radialaxis\":{\"gridcolor\":\"white\",\"linecolor\":\"white\",\"ticks\":\"\"}},\"ternary\":{\"bgcolor\":\"#E5ECF6\",\"aaxis\":{\"gridcolor\":\"white\",\"linecolor\":\"white\",\"ticks\":\"\"},\"baxis\":{\"gridcolor\":\"white\",\"linecolor\":\"white\",\"ticks\":\"\"},\"caxis\":{\"gridcolor\":\"white\",\"linecolor\":\"white\",\"ticks\":\"\"}},\"coloraxis\":{\"colorbar\":{\"outlinewidth\":0,\"ticks\":\"\"}},\"colorscale\":{\"sequential\":[[0.0,\"#0d0887\"],[0.1111111111111111,\"#46039f\"],[0.2222222222222222,\"#7201a8\"],[0.3333333333333333,\"#9c179e\"],[0.4444444444444444,\"#bd3786\"],[0.5555555555555556,\"#d8576b\"],[0.6666666666666666,\"#ed7953\"],[0.7777777777777778,\"#fb9f3a\"],[0.8888888888888888,\"#fdca26\"],[1.0,\"#f0f921\"]],\"sequentialminus\":[[0.0,\"#0d0887\"],[0.1111111111111111,\"#46039f\"],[0.2222222222222222,\"#7201a8\"],[0.3333333333333333,\"#9c179e\"],[0.4444444444444444,\"#bd3786\"],[0.5555555555555556,\"#d8576b\"],[0.6666666666666666,\"#ed7953\"],[0.7777777777777778,\"#fb9f3a\"],[0.8888888888888888,\"#fdca26\"],[1.0,\"#f0f921\"]],\"diverging\":[[0,\"#8e0152\"],[0.1,\"#c51b7d\"],[0.2,\"#de77ae\"],[0.3,\"#f1b6da\"],[0.4,\"#fde0ef\"],[0.5,\"#f7f7f7\"],[0.6,\"#e6f5d0\"],[0.7,\"#b8e186\"],[0.8,\"#7fbc41\"],[0.9,\"#4d9221\"],[1,\"#276419\"]]},\"xaxis\":{\"gridcolor\":\"white\",\"linecolor\":\"white\",\"ticks\":\"\",\"title\":{\"standoff\":15},\"zerolinecolor\":\"white\",\"automargin\":true,\"zerolinewidth\":2},\"yaxis\":{\"gridcolor\":\"white\",\"linecolor\":\"white\",\"ticks\":\"\",\"title\":{\"standoff\":15},\"zerolinecolor\":\"white\",\"automargin\":true,\"zerolinewidth\":2},\"scene\":{\"xaxis\":{\"backgroundcolor\":\"#E5ECF6\",\"gridcolor\":\"white\",\"linecolor\":\"white\",\"showbackground\":true,\"ticks\":\"\",\"zerolinecolor\":\"white\",\"gridwidth\":2},\"yaxis\":{\"backgroundcolor\":\"#E5ECF6\",\"gridcolor\":\"white\",\"linecolor\":\"white\",\"showbackground\":true,\"ticks\":\"\",\"zerolinecolor\":\"white\",\"gridwidth\":2},\"zaxis\":{\"backgroundcolor\":\"#E5ECF6\",\"gridcolor\":\"white\",\"linecolor\":\"white\",\"showbackground\":true,\"ticks\":\"\",\"zerolinecolor\":\"white\",\"gridwidth\":2}},\"shapedefaults\":{\"line\":{\"color\":\"#2a3f5f\"}},\"annotationdefaults\":{\"arrowcolor\":\"#2a3f5f\",\"arrowhead\":0,\"arrowwidth\":1},\"geo\":{\"bgcolor\":\"white\",\"landcolor\":\"#E5ECF6\",\"subunitcolor\":\"white\",\"showland\":true,\"showlakes\":true,\"lakecolor\":\"white\"},\"title\":{\"x\":0.05},\"mapbox\":{\"style\":\"light\"}}},\"xaxis\":{\"anchor\":\"y\",\"domain\":[0.0,1.0],\"title\":{\"text\":\"WoodDeckSF\"}},\"yaxis\":{\"anchor\":\"x\",\"domain\":[0.0,1.0],\"title\":{\"text\":\"\"},\"gridcolor\":\"#DCDCDC\",\"zerolinecolor\":\"#DCDCDC\"},\"legend\":{\"tracegroupgap\":0},\"margin\":{\"t\":60},\"violinmode\":\"group\",\"paper_bgcolor\":\"#F5F5F5\",\"plot_bgcolor\":\"#F5F5F5\"},                        {\"responsive\": true}                    ).then(function(){\n",
       "                            \n",
       "var gd = document.getElementById('2b695dba-4233-4cfe-bc63-a96c422190f3');\n",
       "var x = new MutationObserver(function (mutations, observer) {{\n",
       "        var display = window.getComputedStyle(gd).display;\n",
       "        if (!display || display === 'none') {{\n",
       "            console.log([gd, 'removed!']);\n",
       "            Plotly.purge(gd);\n",
       "            observer.disconnect();\n",
       "        }}\n",
       "}});\n",
       "\n",
       "// Listen for the removal of the full notebook cells\n",
       "var notebookContainer = gd.closest('#notebook-container');\n",
       "if (notebookContainer) {{\n",
       "    x.observe(notebookContainer, {childList: true});\n",
       "}}\n",
       "\n",
       "// Listen for the clearing of the current output cell\n",
       "var outputEl = gd.closest('.output');\n",
       "if (outputEl) {{\n",
       "    x.observe(outputEl, {childList: true});\n",
       "}}\n",
       "\n",
       "                        })                };                });            </script>        </div>"
      ]
     },
     "metadata": {},
     "output_type": "display_data"
    },
    {
     "data": {
      "text/html": [
       "<div>                            <div id=\"e128c2b3-f6f4-485b-865f-a9375c5dd4d0\" class=\"plotly-graph-div\" style=\"height:525px; width:100%;\"></div>            <script type=\"text/javascript\">                require([\"plotly\"], function(Plotly) {                    window.PLOTLYENV=window.PLOTLYENV || {};                                    if (document.getElementById(\"e128c2b3-f6f4-485b-865f-a9375c5dd4d0\")) {                    Plotly.newPlot(                        \"e128c2b3-f6f4-485b-865f-a9375c5dd4d0\",                        [{\"alignmentgroup\":\"True\",\"box\":{\"visible\":true},\"hovertemplate\":\"3SsnPorch=%{y}<extra></extra>\",\"legendgroup\":\"\",\"marker\":{\"color\":\"#2C3E50\"},\"name\":\"3SsnPorch\",\"offsetgroup\":\"\",\"orientation\":\"v\",\"points\":\"outliers\",\"scalegroup\":\"True\",\"showlegend\":true,\"x0\":\" \",\"xaxis\":\"x\",\"y\":[0,0,0,0,0,320,0,0,0,0,0,0,0,0,0,0,0,0,0,0,0,0,0,0,0,0,0,0,0,0,0,0,0,0,0,0,0,0,0,0,0,0,0,0,0,0,0,0,0,0,0,0,0,0,0,407,0,0,0,0,0,0,0,0,0,0,0,0,0,0,0,0,0,0,0,0,0,0,0,0,0,0,0,0,0,0,0,0,0,0,0,0,0,0,0,0,0,0,0,0,0,0,0,0,0,0,0,0,0,0,0,0,0,0,0,0,0,0,0,0,130,0,0,0,0,0,0,0,0,180,0,0,0,0,0,0,0,0,0,0,0,0,0,0,0,0,0,0,0,0,0,0,0,0,0,0,0,0,0,168,0,0,0,0,0,0,0,0,0,0,0,0,0,0,0,0,0,0,0,0,0,0,180,0,0,0,0,140,0,0,0,0,0,0,0,0,0,0,0,0,0,0,0,0,0,508,0,0,0,0,0,0,0,0,0,0,0,0,0,0,0,0,0,0,0,0,0,0,0,0,0,0,0,0,0,0,0,238,0,0,0,0,0,0,0,0,0,0,0,0,0,0,0,0,0,0,0,0,245,0,0,0,0,0,0,0,0,0,0,0,0,0,0,0,0,0,0,0,0,0,196,0,0,0,0,0,0,0,0,0,0,0,0,0,0,0,0,0,0,0,0,0,0,0,0,0,0,0,0,0,0,0,0,0,0,0,0,0,0,0,0,0,0,0,0,0,0,0,0,0,0,0,0,0,0,0,0,0,0,0,0,0,0,0,0,0,0,0,0,0,0,0,0,0,0,0,0,0,0,0,0,0,0,0,0,0,0,0,0,0,0,0,0,0,0,0,0,0,0,0,0,0,0,0,0,0,0,0,0,0,0,0,0,0,0,0,0,0,0,0,0,0,0,0,0,0,0,0,0,0,0,0,0,0,0,0,0,0,0,0,0,0,0,0,0,0,0,0,0,0,0,0,0,0,0,0,0,0,0,0,0,0,0,0,0,0,0,0,0,0,0,0,0,0,0,0,0,0,0,0,0,0,0,0,0,0,0,0,0,0,0,0,0,0,0,0,0,0,0,0,0,0,0,0,0,0,0,0,0,0,0,0,0,0,0,0,0,0,0,0,0,0,0,0,0,0,0,0,0,0,0,0,0,0,0,0,0,0,0,0,0,0,0,0,0,0,0,0,0,0,0,0,0,0,0,0,0,0,0,0,0,0,0,0,0,0,144,0,0,0,0,0,0,0,0,0,0,0,0,0,0,0,0,0,0,0,0,0,0,0,0,0,0,0,0,0,0,0,0,0,0,0,0,0,0,0,0,0,0,0,0,0,0,0,0,0,0,0,0,0,0,0,0,0,0,0,0,0,0,0,0,0,0,0,0,0,0,0,0,0,0,0,0,0,0,0,0,0,0,0,0,0,0,0,0,0,0,0,0,0,0,0,0,0,0,0,0,0,0,0,0,0,0,0,0,0,0,0,0,0,0,0,0,0,0,0,0,0,0,0,0,0,0,0,0,0,0,0,0,0,0,0,0,0,0,0,0,0,0,0,0,0,0,0,0,0,0,0,0,0,0,0,0,0,144,0,0,0,0,0,0,0,0,0,0,0,0,0,0,0,0,0,0,0,0,0,182,0,0,0,0,0,0,0,0,0,0,0,0,0,0,0,0,0,168,0,0,0,0,0,0,0,0,0,0,0,0,0,0,0,0,0,0,0,0,0,0,0,0,0,0,0,0,0,0,0,0,0,0,0,0,0,0,0,0,0,0,0,0,0,0,0,0,0,0,0,0,0,0,0,0,0,0,0,0,0,0,0,0,0,0,0,0,0,0,0,0,0,0,0,0,0,0,0,0,0,0,0,0,0,0,0,0,0,0,0,0,0,0,0,0,0,0,0,0,0,0,0,0,0,0,0,0,0,0,0,0,0,0,0,0,0,0,0,0,0,0,0,0,0,0,0,0,0,0,0,0,0,0,0,0,0,0,0,0,0,0,0,0,162,0,0,0,0,0,0,0,0,0,0,0,0,0,0,0,0,0,0,0,0,0,0,0,0,0,0,0,0,0,0,0,0,23,0,0,0,0,0,0,0,0,0,0,0,0,0,0,0,0,0,0,168,0,0,0,0,0,0,0,0,0,0,0,0,0,0,0,0,0,0,0,0,0,0,0,0,0,0,0,0,0,0,0,0,0,0,0,0,0,0,0,0,0,0,0,0,0,0,0,0,0,0,0,0,0,0,0,0,0,0,0,0,0,0,0,0,0,0,0,0,0,0,0,0,0,0,0,0,0,0,0,0,0,0,0,0,0,0,0,0,0,0,0,0,0,0,0,0,0,0,0,0,0,0,0,0,0,0,0,0,0,0,0,0,0,0,0,0,0,0,0,0,0,0,0,0,0,0,0,0,0,0,0,0,0,0,0,0,0,0,216,0,0,0,0,0,0,0,0,0,0,0,0,0,0,0,0,0,0,0,0,0,0,0,0,0,0,0,0,0,0,0,0,0,0,0,0,0,0,0,0,0,0,0,0,0,0,0,0,0,0,0,0,0,0,0,0,0,0,0,0,0,0,0,0,0,0,0,0,0,0,0,0,0,0,0,96,0,0,0,0,216,0,0,0,0,0,0,0,0,0,0,0,0,0,0,0,0,0,0,0,153,0,0,0,0,0,0,0,0,0,0,0,0,0,0,0,0,0,0,0,0,0,0,0,0,0,0,0,0,0,0,0,0,0,0,0,0,0,0,0,0,0,0,0,0,0,0,0,0,0,0,0,0,0,0,0,0,0,0,0,0,0,0,0,0,0,0,0,0,0,0,0,0,0,0,0,0,0,0,0,0,0,0,0,0,0,0,0,0,0,0,0,0,0,0,0,0,0,0,0,0,0,0,0,0,0,0,0,0,0,0,0,0,0,0,0,0,0,0,0,0,0,0,0,0,0,0,0,0,0,0,0,0,0,0,0,0,0,0,0,0,0,0,0,0,0,0,0,0,0,0,0,0,0,0,0,0,0,0,0,0,0,0,0,0,290,0,0,0,0,0,0,0,0,0,0,0,0,0,0,0,0,0,0,0,0,0,0,0,0,0,0,0,0,0,0,0,0,0,0,0,0,0,0,0,0,0,0,0,0,0,0,0,0,0,0,0,0,0,0,0,0,0,0,0,0,0,0,0,0,0,0,0,0,0,0,0,0,0,0,0,0,0,0,0,0,0,0,0,0,0,0,0,0,0,0,304,0,0,0,0,0,0,0,0,0,0,0,0,0,0,0,0,0,0,0,0,0,0],\"y0\":\" \",\"yaxis\":\"y\",\"type\":\"violin\",\"opacity\":0.8}],                        {\"template\":{\"data\":{\"histogram2dcontour\":[{\"type\":\"histogram2dcontour\",\"colorbar\":{\"outlinewidth\":0,\"ticks\":\"\"},\"colorscale\":[[0.0,\"#0d0887\"],[0.1111111111111111,\"#46039f\"],[0.2222222222222222,\"#7201a8\"],[0.3333333333333333,\"#9c179e\"],[0.4444444444444444,\"#bd3786\"],[0.5555555555555556,\"#d8576b\"],[0.6666666666666666,\"#ed7953\"],[0.7777777777777778,\"#fb9f3a\"],[0.8888888888888888,\"#fdca26\"],[1.0,\"#f0f921\"]]}],\"choropleth\":[{\"type\":\"choropleth\",\"colorbar\":{\"outlinewidth\":0,\"ticks\":\"\"}}],\"histogram2d\":[{\"type\":\"histogram2d\",\"colorbar\":{\"outlinewidth\":0,\"ticks\":\"\"},\"colorscale\":[[0.0,\"#0d0887\"],[0.1111111111111111,\"#46039f\"],[0.2222222222222222,\"#7201a8\"],[0.3333333333333333,\"#9c179e\"],[0.4444444444444444,\"#bd3786\"],[0.5555555555555556,\"#d8576b\"],[0.6666666666666666,\"#ed7953\"],[0.7777777777777778,\"#fb9f3a\"],[0.8888888888888888,\"#fdca26\"],[1.0,\"#f0f921\"]]}],\"heatmap\":[{\"type\":\"heatmap\",\"colorbar\":{\"outlinewidth\":0,\"ticks\":\"\"},\"colorscale\":[[0.0,\"#0d0887\"],[0.1111111111111111,\"#46039f\"],[0.2222222222222222,\"#7201a8\"],[0.3333333333333333,\"#9c179e\"],[0.4444444444444444,\"#bd3786\"],[0.5555555555555556,\"#d8576b\"],[0.6666666666666666,\"#ed7953\"],[0.7777777777777778,\"#fb9f3a\"],[0.8888888888888888,\"#fdca26\"],[1.0,\"#f0f921\"]]}],\"heatmapgl\":[{\"type\":\"heatmapgl\",\"colorbar\":{\"outlinewidth\":0,\"ticks\":\"\"},\"colorscale\":[[0.0,\"#0d0887\"],[0.1111111111111111,\"#46039f\"],[0.2222222222222222,\"#7201a8\"],[0.3333333333333333,\"#9c179e\"],[0.4444444444444444,\"#bd3786\"],[0.5555555555555556,\"#d8576b\"],[0.6666666666666666,\"#ed7953\"],[0.7777777777777778,\"#fb9f3a\"],[0.8888888888888888,\"#fdca26\"],[1.0,\"#f0f921\"]]}],\"contourcarpet\":[{\"type\":\"contourcarpet\",\"colorbar\":{\"outlinewidth\":0,\"ticks\":\"\"}}],\"contour\":[{\"type\":\"contour\",\"colorbar\":{\"outlinewidth\":0,\"ticks\":\"\"},\"colorscale\":[[0.0,\"#0d0887\"],[0.1111111111111111,\"#46039f\"],[0.2222222222222222,\"#7201a8\"],[0.3333333333333333,\"#9c179e\"],[0.4444444444444444,\"#bd3786\"],[0.5555555555555556,\"#d8576b\"],[0.6666666666666666,\"#ed7953\"],[0.7777777777777778,\"#fb9f3a\"],[0.8888888888888888,\"#fdca26\"],[1.0,\"#f0f921\"]]}],\"surface\":[{\"type\":\"surface\",\"colorbar\":{\"outlinewidth\":0,\"ticks\":\"\"},\"colorscale\":[[0.0,\"#0d0887\"],[0.1111111111111111,\"#46039f\"],[0.2222222222222222,\"#7201a8\"],[0.3333333333333333,\"#9c179e\"],[0.4444444444444444,\"#bd3786\"],[0.5555555555555556,\"#d8576b\"],[0.6666666666666666,\"#ed7953\"],[0.7777777777777778,\"#fb9f3a\"],[0.8888888888888888,\"#fdca26\"],[1.0,\"#f0f921\"]]}],\"mesh3d\":[{\"type\":\"mesh3d\",\"colorbar\":{\"outlinewidth\":0,\"ticks\":\"\"}}],\"scatter\":[{\"fillpattern\":{\"fillmode\":\"overlay\",\"size\":10,\"solidity\":0.2},\"type\":\"scatter\"}],\"parcoords\":[{\"type\":\"parcoords\",\"line\":{\"colorbar\":{\"outlinewidth\":0,\"ticks\":\"\"}}}],\"scatterpolargl\":[{\"type\":\"scatterpolargl\",\"marker\":{\"colorbar\":{\"outlinewidth\":0,\"ticks\":\"\"}}}],\"bar\":[{\"error_x\":{\"color\":\"#2a3f5f\"},\"error_y\":{\"color\":\"#2a3f5f\"},\"marker\":{\"line\":{\"color\":\"#E5ECF6\",\"width\":0.5},\"pattern\":{\"fillmode\":\"overlay\",\"size\":10,\"solidity\":0.2}},\"type\":\"bar\"}],\"scattergeo\":[{\"type\":\"scattergeo\",\"marker\":{\"colorbar\":{\"outlinewidth\":0,\"ticks\":\"\"}}}],\"scatterpolar\":[{\"type\":\"scatterpolar\",\"marker\":{\"colorbar\":{\"outlinewidth\":0,\"ticks\":\"\"}}}],\"histogram\":[{\"marker\":{\"pattern\":{\"fillmode\":\"overlay\",\"size\":10,\"solidity\":0.2}},\"type\":\"histogram\"}],\"scattergl\":[{\"type\":\"scattergl\",\"marker\":{\"colorbar\":{\"outlinewidth\":0,\"ticks\":\"\"}}}],\"scatter3d\":[{\"type\":\"scatter3d\",\"line\":{\"colorbar\":{\"outlinewidth\":0,\"ticks\":\"\"}},\"marker\":{\"colorbar\":{\"outlinewidth\":0,\"ticks\":\"\"}}}],\"scattermapbox\":[{\"type\":\"scattermapbox\",\"marker\":{\"colorbar\":{\"outlinewidth\":0,\"ticks\":\"\"}}}],\"scatterternary\":[{\"type\":\"scatterternary\",\"marker\":{\"colorbar\":{\"outlinewidth\":0,\"ticks\":\"\"}}}],\"scattercarpet\":[{\"type\":\"scattercarpet\",\"marker\":{\"colorbar\":{\"outlinewidth\":0,\"ticks\":\"\"}}}],\"carpet\":[{\"aaxis\":{\"endlinecolor\":\"#2a3f5f\",\"gridcolor\":\"white\",\"linecolor\":\"white\",\"minorgridcolor\":\"white\",\"startlinecolor\":\"#2a3f5f\"},\"baxis\":{\"endlinecolor\":\"#2a3f5f\",\"gridcolor\":\"white\",\"linecolor\":\"white\",\"minorgridcolor\":\"white\",\"startlinecolor\":\"#2a3f5f\"},\"type\":\"carpet\"}],\"table\":[{\"cells\":{\"fill\":{\"color\":\"#EBF0F8\"},\"line\":{\"color\":\"white\"}},\"header\":{\"fill\":{\"color\":\"#C8D4E3\"},\"line\":{\"color\":\"white\"}},\"type\":\"table\"}],\"barpolar\":[{\"marker\":{\"line\":{\"color\":\"#E5ECF6\",\"width\":0.5},\"pattern\":{\"fillmode\":\"overlay\",\"size\":10,\"solidity\":0.2}},\"type\":\"barpolar\"}],\"pie\":[{\"automargin\":true,\"type\":\"pie\"}]},\"layout\":{\"autotypenumbers\":\"strict\",\"colorway\":[\"#636efa\",\"#EF553B\",\"#00cc96\",\"#ab63fa\",\"#FFA15A\",\"#19d3f3\",\"#FF6692\",\"#B6E880\",\"#FF97FF\",\"#FECB52\"],\"font\":{\"color\":\"#2a3f5f\"},\"hovermode\":\"closest\",\"hoverlabel\":{\"align\":\"left\"},\"paper_bgcolor\":\"white\",\"plot_bgcolor\":\"#E5ECF6\",\"polar\":{\"bgcolor\":\"#E5ECF6\",\"angularaxis\":{\"gridcolor\":\"white\",\"linecolor\":\"white\",\"ticks\":\"\"},\"radialaxis\":{\"gridcolor\":\"white\",\"linecolor\":\"white\",\"ticks\":\"\"}},\"ternary\":{\"bgcolor\":\"#E5ECF6\",\"aaxis\":{\"gridcolor\":\"white\",\"linecolor\":\"white\",\"ticks\":\"\"},\"baxis\":{\"gridcolor\":\"white\",\"linecolor\":\"white\",\"ticks\":\"\"},\"caxis\":{\"gridcolor\":\"white\",\"linecolor\":\"white\",\"ticks\":\"\"}},\"coloraxis\":{\"colorbar\":{\"outlinewidth\":0,\"ticks\":\"\"}},\"colorscale\":{\"sequential\":[[0.0,\"#0d0887\"],[0.1111111111111111,\"#46039f\"],[0.2222222222222222,\"#7201a8\"],[0.3333333333333333,\"#9c179e\"],[0.4444444444444444,\"#bd3786\"],[0.5555555555555556,\"#d8576b\"],[0.6666666666666666,\"#ed7953\"],[0.7777777777777778,\"#fb9f3a\"],[0.8888888888888888,\"#fdca26\"],[1.0,\"#f0f921\"]],\"sequentialminus\":[[0.0,\"#0d0887\"],[0.1111111111111111,\"#46039f\"],[0.2222222222222222,\"#7201a8\"],[0.3333333333333333,\"#9c179e\"],[0.4444444444444444,\"#bd3786\"],[0.5555555555555556,\"#d8576b\"],[0.6666666666666666,\"#ed7953\"],[0.7777777777777778,\"#fb9f3a\"],[0.8888888888888888,\"#fdca26\"],[1.0,\"#f0f921\"]],\"diverging\":[[0,\"#8e0152\"],[0.1,\"#c51b7d\"],[0.2,\"#de77ae\"],[0.3,\"#f1b6da\"],[0.4,\"#fde0ef\"],[0.5,\"#f7f7f7\"],[0.6,\"#e6f5d0\"],[0.7,\"#b8e186\"],[0.8,\"#7fbc41\"],[0.9,\"#4d9221\"],[1,\"#276419\"]]},\"xaxis\":{\"gridcolor\":\"white\",\"linecolor\":\"white\",\"ticks\":\"\",\"title\":{\"standoff\":15},\"zerolinecolor\":\"white\",\"automargin\":true,\"zerolinewidth\":2},\"yaxis\":{\"gridcolor\":\"white\",\"linecolor\":\"white\",\"ticks\":\"\",\"title\":{\"standoff\":15},\"zerolinecolor\":\"white\",\"automargin\":true,\"zerolinewidth\":2},\"scene\":{\"xaxis\":{\"backgroundcolor\":\"#E5ECF6\",\"gridcolor\":\"white\",\"linecolor\":\"white\",\"showbackground\":true,\"ticks\":\"\",\"zerolinecolor\":\"white\",\"gridwidth\":2},\"yaxis\":{\"backgroundcolor\":\"#E5ECF6\",\"gridcolor\":\"white\",\"linecolor\":\"white\",\"showbackground\":true,\"ticks\":\"\",\"zerolinecolor\":\"white\",\"gridwidth\":2},\"zaxis\":{\"backgroundcolor\":\"#E5ECF6\",\"gridcolor\":\"white\",\"linecolor\":\"white\",\"showbackground\":true,\"ticks\":\"\",\"zerolinecolor\":\"white\",\"gridwidth\":2}},\"shapedefaults\":{\"line\":{\"color\":\"#2a3f5f\"}},\"annotationdefaults\":{\"arrowcolor\":\"#2a3f5f\",\"arrowhead\":0,\"arrowwidth\":1},\"geo\":{\"bgcolor\":\"white\",\"landcolor\":\"#E5ECF6\",\"subunitcolor\":\"white\",\"showland\":true,\"showlakes\":true,\"lakecolor\":\"white\"},\"title\":{\"x\":0.05},\"mapbox\":{\"style\":\"light\"}}},\"xaxis\":{\"anchor\":\"y\",\"domain\":[0.0,1.0],\"title\":{\"text\":\"3SsnPorch\"}},\"yaxis\":{\"anchor\":\"x\",\"domain\":[0.0,1.0],\"title\":{\"text\":\"\"},\"gridcolor\":\"#DCDCDC\",\"zerolinecolor\":\"#DCDCDC\"},\"legend\":{\"tracegroupgap\":0},\"margin\":{\"t\":60},\"violinmode\":\"group\",\"paper_bgcolor\":\"#F5F5F5\",\"plot_bgcolor\":\"#F5F5F5\"},                        {\"responsive\": true}                    ).then(function(){\n",
       "                            \n",
       "var gd = document.getElementById('e128c2b3-f6f4-485b-865f-a9375c5dd4d0');\n",
       "var x = new MutationObserver(function (mutations, observer) {{\n",
       "        var display = window.getComputedStyle(gd).display;\n",
       "        if (!display || display === 'none') {{\n",
       "            console.log([gd, 'removed!']);\n",
       "            Plotly.purge(gd);\n",
       "            observer.disconnect();\n",
       "        }}\n",
       "}});\n",
       "\n",
       "// Listen for the removal of the full notebook cells\n",
       "var notebookContainer = gd.closest('#notebook-container');\n",
       "if (notebookContainer) {{\n",
       "    x.observe(notebookContainer, {childList: true});\n",
       "}}\n",
       "\n",
       "// Listen for the clearing of the current output cell\n",
       "var outputEl = gd.closest('.output');\n",
       "if (outputEl) {{\n",
       "    x.observe(outputEl, {childList: true});\n",
       "}}\n",
       "\n",
       "                        })                };                });            </script>        </div>"
      ]
     },
     "metadata": {},
     "output_type": "display_data"
    },
    {
     "data": {
      "text/html": [
       "<div>                            <div id=\"ba2ce965-53bc-49a9-a36e-9183109d45df\" class=\"plotly-graph-div\" style=\"height:525px; width:100%;\"></div>            <script type=\"text/javascript\">                require([\"plotly\"], function(Plotly) {                    window.PLOTLYENV=window.PLOTLYENV || {};                                    if (document.getElementById(\"ba2ce965-53bc-49a9-a36e-9183109d45df\")) {                    Plotly.newPlot(                        \"ba2ce965-53bc-49a9-a36e-9183109d45df\",                        [{\"alignmentgroup\":\"True\",\"box\":{\"visible\":true},\"hovertemplate\":\"EnclosedPorch=%{y}<extra></extra>\",\"legendgroup\":\"\",\"marker\":{\"color\":\"#2C3E50\"},\"name\":\"EnclosedPorch\",\"offsetgroup\":\"\",\"orientation\":\"v\",\"points\":\"outliers\",\"scalegroup\":\"True\",\"showlegend\":true,\"x0\":\" \",\"xaxis\":\"x\",\"y\":[0,0,0,272,0,0,0,228,205,0,0,0,0,0,176,0,0,0,0,0,0,205,0,0,0,0,0,0,0,87,172,0,0,0,0,0,0,0,0,0,0,0,0,0,0,0,0,0,102,0,0,0,0,0,0,0,0,0,37,0,0,144,0,64,0,0,0,0,0,114,0,0,0,0,202,0,0,0,0,128,0,0,0,0,0,0,0,0,156,0,0,0,44,0,0,0,0,0,77,0,0,0,0,0,0,0,0,0,144,0,0,0,0,192,0,0,144,0,0,0,0,140,0,0,0,0,0,0,0,0,0,0,0,0,180,0,0,0,0,0,0,0,0,0,0,0,0,0,0,0,0,0,0,0,228,128,0,0,0,0,0,0,0,0,183,0,0,0,0,0,0,0,0,0,0,39,0,0,0,184,0,40,0,0,0,0,0,0,0,0,0,0,0,0,0,0,0,552,30,0,0,0,126,0,0,0,0,0,0,0,96,0,0,0,0,0,0,60,150,0,0,0,0,0,0,0,0,0,0,0,120,202,0,0,0,0,0,0,0,0,0,0,77,0,0,0,112,0,0,0,0,0,0,0,0,0,0,0,0,0,252,0,0,0,0,0,0,0,0,0,0,0,0,0,0,0,0,0,0,0,0,0,0,0,52,0,0,0,0,0,0,0,0,0,0,0,0,0,0,0,0,0,0,0,0,0,224,0,0,0,0,0,0,0,234,0,0,0,144,0,0,0,0,0,0,244,0,0,268,137,0,0,0,0,0,0,0,0,0,0,0,24,0,0,0,0,0,0,0,0,0,0,0,0,108,0,0,0,294,0,0,0,177,0,0,218,0,0,0,0,0,0,0,0,0,0,0,0,0,0,242,0,0,91,0,0,0,0,0,0,112,0,0,0,0,0,0,0,0,0,0,0,0,0,0,0,0,160,0,0,0,0,0,130,0,0,0,0,0,184,0,0,0,0,0,126,0,0,0,169,0,0,0,0,0,0,0,105,34,0,0,0,0,0,0,0,0,0,0,0,0,0,0,0,0,0,96,0,0,248,0,0,236,0,0,0,0,0,0,0,0,0,0,0,0,0,0,0,0,0,0,0,0,0,0,120,0,0,0,0,0,32,0,0,80,115,291,0,0,0,0,0,184,0,0,0,0,0,116,0,0,0,0,158,112,0,0,0,0,0,210,0,36,0,0,0,156,0,144,200,0,84,0,0,0,148,0,0,0,0,0,0,0,0,0,0,0,0,0,0,0,0,0,0,0,116,0,120,0,0,0,0,0,0,0,136,0,0,0,0,0,0,0,0,0,102,0,240,0,0,0,0,0,0,54,0,112,0,0,0,0,0,0,0,0,0,0,0,0,0,0,0,0,0,0,0,0,0,0,39,0,0,0,0,0,0,0,0,0,0,100,0,0,0,0,0,36,189,0,0,293,0,0,0,0,0,0,0,164,0,0,0,0,0,0,40,0,0,216,0,0,0,0,239,0,0,0,112,0,0,252,0,240,180,0,0,0,0,0,67,0,0,0,0,0,0,90,120,0,0,0,56,0,0,0,0,0,0,0,0,0,0,0,112,0,0,129,0,0,0,0,0,0,40,0,0,0,0,0,0,0,98,0,0,0,0,143,0,216,0,234,0,0,0,0,0,0,0,0,112,0,0,0,0,0,0,0,0,0,0,112,0,0,0,70,0,0,386,154,185,0,0,0,0,0,0,0,0,0,0,0,0,0,0,0,0,156,156,0,0,0,0,0,0,0,0,0,0,0,0,0,0,0,0,134,0,196,0,0,0,0,0,0,0,0,0,0,0,0,264,185,0,0,0,0,0,0,0,0,0,0,0,0,275,96,0,120,0,0,0,0,112,0,0,0,0,116,0,0,0,0,0,0,0,0,0,230,0,0,0,254,68,0,0,194,0,192,0,0,0,0,0,0,0,0,0,34,0,0,0,0,0,0,0,0,0,0,0,0,0,0,0,150,0,0,0,0,0,0,0,0,0,0,0,0,0,0,0,0,0,0,0,0,0,0,0,0,0,0,0,0,0,0,0,0,164,0,0,0,0,0,0,112,0,0,0,0,0,224,0,0,0,0,0,0,0,0,0,0,0,0,0,0,0,0,32,0,0,0,318,0,0,0,0,0,244,0,0,0,0,0,0,0,0,0,0,0,0,0,0,0,0,0,0,0,0,0,0,0,0,0,0,0,0,0,0,0,0,0,0,0,0,0,0,0,0,0,0,0,0,0,0,0,0,0,0,0,0,48,0,0,94,0,0,0,0,0,0,0,138,108,0,112,226,0,0,0,0,0,0,0,0,192,0,174,0,0,0,0,0,228,0,0,0,0,0,0,0,0,0,0,0,0,0,0,0,0,0,0,0,0,0,0,0,0,0,0,0,0,19,170,0,0,0,0,0,0,0,0,0,0,0,0,0,0,0,0,0,0,0,0,220,0,0,0,0,0,0,0,0,0,0,128,0,80,0,115,137,0,0,0,0,0,192,0,0,0,0,0,0,0,0,0,0,0,0,0,0,0,252,112,0,0,0,0,0,0,0,0,0,0,0,0,0,0,0,96,176,0,216,0,0,0,0,0,0,0,0,176,0,214,0,280,96,0,0,0,0,0,0,0,0,0,0,0,0,0,0,0,0,0,0,0,0,0,0,0,116,102,190,0,0,0,0,0,236,0,192,0,0,0,0,84,0,0,0,0,330,0,0,0,0,208,0,0,0,0,0,0,0,0,0,0,0,0,0,0,0,0,0,0,0,0,0,0,0,0,0,0,0,145,0,0,0,0,0,0,0,0,0,0,0,0,0,0,0,0,0,259,0,0,0,0,0,0,0,0,0,0,0,0,0,0,126,0,0,264,0,0,0,0,0,0,0,81,0,0,0,0,164,0,0,0,0,42,0,0,0,0,0,0,0,0,0,0,0,123,0,0,0,0,0,0,0,0,0,0,0,0,0,162,0,0,0,0,0,0,0,0,0,0,0,0,0,0,100,286,0,0,0,0,0,0,190,0,0,0,0,0,0,0,0,0,0,0,168,0,0,0,20,0,0,0,0,0,0,0,0,0,0,301,0,0,0,0,0,0,0,0,0,198,0,0,0,0,0,0,0,0,0,96,0,221,112,0,0,0,0,0,0,0,0,0,212,0,0,50,150,168,0,112,0,0,0,160,0,0,0,0,0,0,0,0,0,0,0,114,0,0,216,0,0,0,0,0,0,0,0,154,99,0,0,0,0,0,0,0,0,158,216,0,0,0,0,0,252,0,0,0,0,0,0,0,0,0,0,0,0,112,0],\"y0\":\" \",\"yaxis\":\"y\",\"type\":\"violin\",\"opacity\":0.8}],                        {\"template\":{\"data\":{\"histogram2dcontour\":[{\"type\":\"histogram2dcontour\",\"colorbar\":{\"outlinewidth\":0,\"ticks\":\"\"},\"colorscale\":[[0.0,\"#0d0887\"],[0.1111111111111111,\"#46039f\"],[0.2222222222222222,\"#7201a8\"],[0.3333333333333333,\"#9c179e\"],[0.4444444444444444,\"#bd3786\"],[0.5555555555555556,\"#d8576b\"],[0.6666666666666666,\"#ed7953\"],[0.7777777777777778,\"#fb9f3a\"],[0.8888888888888888,\"#fdca26\"],[1.0,\"#f0f921\"]]}],\"choropleth\":[{\"type\":\"choropleth\",\"colorbar\":{\"outlinewidth\":0,\"ticks\":\"\"}}],\"histogram2d\":[{\"type\":\"histogram2d\",\"colorbar\":{\"outlinewidth\":0,\"ticks\":\"\"},\"colorscale\":[[0.0,\"#0d0887\"],[0.1111111111111111,\"#46039f\"],[0.2222222222222222,\"#7201a8\"],[0.3333333333333333,\"#9c179e\"],[0.4444444444444444,\"#bd3786\"],[0.5555555555555556,\"#d8576b\"],[0.6666666666666666,\"#ed7953\"],[0.7777777777777778,\"#fb9f3a\"],[0.8888888888888888,\"#fdca26\"],[1.0,\"#f0f921\"]]}],\"heatmap\":[{\"type\":\"heatmap\",\"colorbar\":{\"outlinewidth\":0,\"ticks\":\"\"},\"colorscale\":[[0.0,\"#0d0887\"],[0.1111111111111111,\"#46039f\"],[0.2222222222222222,\"#7201a8\"],[0.3333333333333333,\"#9c179e\"],[0.4444444444444444,\"#bd3786\"],[0.5555555555555556,\"#d8576b\"],[0.6666666666666666,\"#ed7953\"],[0.7777777777777778,\"#fb9f3a\"],[0.8888888888888888,\"#fdca26\"],[1.0,\"#f0f921\"]]}],\"heatmapgl\":[{\"type\":\"heatmapgl\",\"colorbar\":{\"outlinewidth\":0,\"ticks\":\"\"},\"colorscale\":[[0.0,\"#0d0887\"],[0.1111111111111111,\"#46039f\"],[0.2222222222222222,\"#7201a8\"],[0.3333333333333333,\"#9c179e\"],[0.4444444444444444,\"#bd3786\"],[0.5555555555555556,\"#d8576b\"],[0.6666666666666666,\"#ed7953\"],[0.7777777777777778,\"#fb9f3a\"],[0.8888888888888888,\"#fdca26\"],[1.0,\"#f0f921\"]]}],\"contourcarpet\":[{\"type\":\"contourcarpet\",\"colorbar\":{\"outlinewidth\":0,\"ticks\":\"\"}}],\"contour\":[{\"type\":\"contour\",\"colorbar\":{\"outlinewidth\":0,\"ticks\":\"\"},\"colorscale\":[[0.0,\"#0d0887\"],[0.1111111111111111,\"#46039f\"],[0.2222222222222222,\"#7201a8\"],[0.3333333333333333,\"#9c179e\"],[0.4444444444444444,\"#bd3786\"],[0.5555555555555556,\"#d8576b\"],[0.6666666666666666,\"#ed7953\"],[0.7777777777777778,\"#fb9f3a\"],[0.8888888888888888,\"#fdca26\"],[1.0,\"#f0f921\"]]}],\"surface\":[{\"type\":\"surface\",\"colorbar\":{\"outlinewidth\":0,\"ticks\":\"\"},\"colorscale\":[[0.0,\"#0d0887\"],[0.1111111111111111,\"#46039f\"],[0.2222222222222222,\"#7201a8\"],[0.3333333333333333,\"#9c179e\"],[0.4444444444444444,\"#bd3786\"],[0.5555555555555556,\"#d8576b\"],[0.6666666666666666,\"#ed7953\"],[0.7777777777777778,\"#fb9f3a\"],[0.8888888888888888,\"#fdca26\"],[1.0,\"#f0f921\"]]}],\"mesh3d\":[{\"type\":\"mesh3d\",\"colorbar\":{\"outlinewidth\":0,\"ticks\":\"\"}}],\"scatter\":[{\"fillpattern\":{\"fillmode\":\"overlay\",\"size\":10,\"solidity\":0.2},\"type\":\"scatter\"}],\"parcoords\":[{\"type\":\"parcoords\",\"line\":{\"colorbar\":{\"outlinewidth\":0,\"ticks\":\"\"}}}],\"scatterpolargl\":[{\"type\":\"scatterpolargl\",\"marker\":{\"colorbar\":{\"outlinewidth\":0,\"ticks\":\"\"}}}],\"bar\":[{\"error_x\":{\"color\":\"#2a3f5f\"},\"error_y\":{\"color\":\"#2a3f5f\"},\"marker\":{\"line\":{\"color\":\"#E5ECF6\",\"width\":0.5},\"pattern\":{\"fillmode\":\"overlay\",\"size\":10,\"solidity\":0.2}},\"type\":\"bar\"}],\"scattergeo\":[{\"type\":\"scattergeo\",\"marker\":{\"colorbar\":{\"outlinewidth\":0,\"ticks\":\"\"}}}],\"scatterpolar\":[{\"type\":\"scatterpolar\",\"marker\":{\"colorbar\":{\"outlinewidth\":0,\"ticks\":\"\"}}}],\"histogram\":[{\"marker\":{\"pattern\":{\"fillmode\":\"overlay\",\"size\":10,\"solidity\":0.2}},\"type\":\"histogram\"}],\"scattergl\":[{\"type\":\"scattergl\",\"marker\":{\"colorbar\":{\"outlinewidth\":0,\"ticks\":\"\"}}}],\"scatter3d\":[{\"type\":\"scatter3d\",\"line\":{\"colorbar\":{\"outlinewidth\":0,\"ticks\":\"\"}},\"marker\":{\"colorbar\":{\"outlinewidth\":0,\"ticks\":\"\"}}}],\"scattermapbox\":[{\"type\":\"scattermapbox\",\"marker\":{\"colorbar\":{\"outlinewidth\":0,\"ticks\":\"\"}}}],\"scatterternary\":[{\"type\":\"scatterternary\",\"marker\":{\"colorbar\":{\"outlinewidth\":0,\"ticks\":\"\"}}}],\"scattercarpet\":[{\"type\":\"scattercarpet\",\"marker\":{\"colorbar\":{\"outlinewidth\":0,\"ticks\":\"\"}}}],\"carpet\":[{\"aaxis\":{\"endlinecolor\":\"#2a3f5f\",\"gridcolor\":\"white\",\"linecolor\":\"white\",\"minorgridcolor\":\"white\",\"startlinecolor\":\"#2a3f5f\"},\"baxis\":{\"endlinecolor\":\"#2a3f5f\",\"gridcolor\":\"white\",\"linecolor\":\"white\",\"minorgridcolor\":\"white\",\"startlinecolor\":\"#2a3f5f\"},\"type\":\"carpet\"}],\"table\":[{\"cells\":{\"fill\":{\"color\":\"#EBF0F8\"},\"line\":{\"color\":\"white\"}},\"header\":{\"fill\":{\"color\":\"#C8D4E3\"},\"line\":{\"color\":\"white\"}},\"type\":\"table\"}],\"barpolar\":[{\"marker\":{\"line\":{\"color\":\"#E5ECF6\",\"width\":0.5},\"pattern\":{\"fillmode\":\"overlay\",\"size\":10,\"solidity\":0.2}},\"type\":\"barpolar\"}],\"pie\":[{\"automargin\":true,\"type\":\"pie\"}]},\"layout\":{\"autotypenumbers\":\"strict\",\"colorway\":[\"#636efa\",\"#EF553B\",\"#00cc96\",\"#ab63fa\",\"#FFA15A\",\"#19d3f3\",\"#FF6692\",\"#B6E880\",\"#FF97FF\",\"#FECB52\"],\"font\":{\"color\":\"#2a3f5f\"},\"hovermode\":\"closest\",\"hoverlabel\":{\"align\":\"left\"},\"paper_bgcolor\":\"white\",\"plot_bgcolor\":\"#E5ECF6\",\"polar\":{\"bgcolor\":\"#E5ECF6\",\"angularaxis\":{\"gridcolor\":\"white\",\"linecolor\":\"white\",\"ticks\":\"\"},\"radialaxis\":{\"gridcolor\":\"white\",\"linecolor\":\"white\",\"ticks\":\"\"}},\"ternary\":{\"bgcolor\":\"#E5ECF6\",\"aaxis\":{\"gridcolor\":\"white\",\"linecolor\":\"white\",\"ticks\":\"\"},\"baxis\":{\"gridcolor\":\"white\",\"linecolor\":\"white\",\"ticks\":\"\"},\"caxis\":{\"gridcolor\":\"white\",\"linecolor\":\"white\",\"ticks\":\"\"}},\"coloraxis\":{\"colorbar\":{\"outlinewidth\":0,\"ticks\":\"\"}},\"colorscale\":{\"sequential\":[[0.0,\"#0d0887\"],[0.1111111111111111,\"#46039f\"],[0.2222222222222222,\"#7201a8\"],[0.3333333333333333,\"#9c179e\"],[0.4444444444444444,\"#bd3786\"],[0.5555555555555556,\"#d8576b\"],[0.6666666666666666,\"#ed7953\"],[0.7777777777777778,\"#fb9f3a\"],[0.8888888888888888,\"#fdca26\"],[1.0,\"#f0f921\"]],\"sequentialminus\":[[0.0,\"#0d0887\"],[0.1111111111111111,\"#46039f\"],[0.2222222222222222,\"#7201a8\"],[0.3333333333333333,\"#9c179e\"],[0.4444444444444444,\"#bd3786\"],[0.5555555555555556,\"#d8576b\"],[0.6666666666666666,\"#ed7953\"],[0.7777777777777778,\"#fb9f3a\"],[0.8888888888888888,\"#fdca26\"],[1.0,\"#f0f921\"]],\"diverging\":[[0,\"#8e0152\"],[0.1,\"#c51b7d\"],[0.2,\"#de77ae\"],[0.3,\"#f1b6da\"],[0.4,\"#fde0ef\"],[0.5,\"#f7f7f7\"],[0.6,\"#e6f5d0\"],[0.7,\"#b8e186\"],[0.8,\"#7fbc41\"],[0.9,\"#4d9221\"],[1,\"#276419\"]]},\"xaxis\":{\"gridcolor\":\"white\",\"linecolor\":\"white\",\"ticks\":\"\",\"title\":{\"standoff\":15},\"zerolinecolor\":\"white\",\"automargin\":true,\"zerolinewidth\":2},\"yaxis\":{\"gridcolor\":\"white\",\"linecolor\":\"white\",\"ticks\":\"\",\"title\":{\"standoff\":15},\"zerolinecolor\":\"white\",\"automargin\":true,\"zerolinewidth\":2},\"scene\":{\"xaxis\":{\"backgroundcolor\":\"#E5ECF6\",\"gridcolor\":\"white\",\"linecolor\":\"white\",\"showbackground\":true,\"ticks\":\"\",\"zerolinecolor\":\"white\",\"gridwidth\":2},\"yaxis\":{\"backgroundcolor\":\"#E5ECF6\",\"gridcolor\":\"white\",\"linecolor\":\"white\",\"showbackground\":true,\"ticks\":\"\",\"zerolinecolor\":\"white\",\"gridwidth\":2},\"zaxis\":{\"backgroundcolor\":\"#E5ECF6\",\"gridcolor\":\"white\",\"linecolor\":\"white\",\"showbackground\":true,\"ticks\":\"\",\"zerolinecolor\":\"white\",\"gridwidth\":2}},\"shapedefaults\":{\"line\":{\"color\":\"#2a3f5f\"}},\"annotationdefaults\":{\"arrowcolor\":\"#2a3f5f\",\"arrowhead\":0,\"arrowwidth\":1},\"geo\":{\"bgcolor\":\"white\",\"landcolor\":\"#E5ECF6\",\"subunitcolor\":\"white\",\"showland\":true,\"showlakes\":true,\"lakecolor\":\"white\"},\"title\":{\"x\":0.05},\"mapbox\":{\"style\":\"light\"}}},\"xaxis\":{\"anchor\":\"y\",\"domain\":[0.0,1.0],\"title\":{\"text\":\"EnclosedPorch\"}},\"yaxis\":{\"anchor\":\"x\",\"domain\":[0.0,1.0],\"title\":{\"text\":\"\"},\"gridcolor\":\"#DCDCDC\",\"zerolinecolor\":\"#DCDCDC\"},\"legend\":{\"tracegroupgap\":0},\"margin\":{\"t\":60},\"violinmode\":\"group\",\"paper_bgcolor\":\"#F5F5F5\",\"plot_bgcolor\":\"#F5F5F5\"},                        {\"responsive\": true}                    ).then(function(){\n",
       "                            \n",
       "var gd = document.getElementById('ba2ce965-53bc-49a9-a36e-9183109d45df');\n",
       "var x = new MutationObserver(function (mutations, observer) {{\n",
       "        var display = window.getComputedStyle(gd).display;\n",
       "        if (!display || display === 'none') {{\n",
       "            console.log([gd, 'removed!']);\n",
       "            Plotly.purge(gd);\n",
       "            observer.disconnect();\n",
       "        }}\n",
       "}});\n",
       "\n",
       "// Listen for the removal of the full notebook cells\n",
       "var notebookContainer = gd.closest('#notebook-container');\n",
       "if (notebookContainer) {{\n",
       "    x.observe(notebookContainer, {childList: true});\n",
       "}}\n",
       "\n",
       "// Listen for the clearing of the current output cell\n",
       "var outputEl = gd.closest('.output');\n",
       "if (outputEl) {{\n",
       "    x.observe(outputEl, {childList: true});\n",
       "}}\n",
       "\n",
       "                        })                };                });            </script>        </div>"
      ]
     },
     "metadata": {},
     "output_type": "display_data"
    },
    {
     "data": {
      "text/html": [
       "<div>                            <div id=\"7c6f8781-adb3-412d-b2c2-2a4463458e73\" class=\"plotly-graph-div\" style=\"height:525px; width:100%;\"></div>            <script type=\"text/javascript\">                require([\"plotly\"], function(Plotly) {                    window.PLOTLYENV=window.PLOTLYENV || {};                                    if (document.getElementById(\"7c6f8781-adb3-412d-b2c2-2a4463458e73\")) {                    Plotly.newPlot(                        \"7c6f8781-adb3-412d-b2c2-2a4463458e73\",                        [{\"alignmentgroup\":\"True\",\"box\":{\"visible\":true},\"hovertemplate\":\"ScreenPorch=%{y}<extra></extra>\",\"legendgroup\":\"\",\"marker\":{\"color\":\"#2C3E50\"},\"name\":\"ScreenPorch\",\"offsetgroup\":\"\",\"orientation\":\"v\",\"points\":\"outliers\",\"scalegroup\":\"True\",\"showlegend\":true,\"x0\":\" \",\"xaxis\":\"x\",\"y\":[0,0,0,0,0,0,0,0,0,0,0,0,176,0,0,0,0,0,0,0,0,0,0,0,0,0,0,0,0,0,0,0,0,0,0,0,0,0,0,0,0,0,0,0,0,0,198,0,0,0,0,0,0,0,0,0,0,0,0,0,0,0,0,0,0,0,0,0,0,0,0,0,291,0,0,0,0,0,0,0,252,0,0,0,0,0,0,0,0,0,0,0,0,99,0,0,0,0,0,0,0,0,0,0,184,0,0,0,0,0,0,0,168,0,0,0,0,0,0,0,0,0,130,0,0,0,0,0,0,0,0,0,0,0,0,0,0,0,0,0,0,0,0,0,0,0,0,0,0,0,0,0,0,0,0,0,0,0,0,0,0,0,0,0,0,0,142,0,0,0,0,0,0,0,0,0,192,0,0,0,0,0,0,0,0,410,0,0,0,224,0,0,0,0,0,0,266,0,0,170,0,0,0,0,0,0,0,0,154,0,0,0,0,0,0,0,0,0,0,0,0,0,0,0,0,0,0,0,0,0,0,0,0,0,0,0,0,0,0,0,0,0,0,0,0,0,0,0,0,0,0,153,0,0,0,0,0,0,0,0,0,0,0,0,0,0,0,0,0,0,0,0,0,0,0,144,0,0,142,0,0,0,0,0,0,0,128,0,0,259,0,0,160,0,0,0,0,198,0,0,0,0,0,0,0,0,0,0,0,0,0,0,271,0,0,0,0,0,0,0,0,0,0,0,0,0,0,0,0,0,0,0,0,0,0,0,0,0,0,234,0,0,0,0,0,0,0,0,0,0,0,184,0,0,0,0,0,0,0,374,192,0,0,0,0,0,185,0,0,182,0,0,90,0,0,0,0,0,0,0,0,0,0,0,0,144,0,0,0,0,0,0,0,0,0,0,0,0,0,0,224,0,0,0,0,0,0,0,0,0,0,0,0,0,0,0,0,0,0,0,0,0,0,0,0,0,396,0,0,0,0,0,0,0,0,0,0,0,0,0,170,0,0,0,0,0,0,0,0,0,0,0,0,0,0,0,0,0,0,0,0,0,0,0,0,0,176,0,0,0,140,276,0,0,0,192,0,0,0,0,0,0,0,0,0,0,0,180,0,0,0,0,0,0,0,0,0,0,0,0,0,0,0,161,0,0,0,0,0,0,168,0,0,0,0,0,0,0,0,145,0,0,0,0,0,0,0,0,0,0,0,0,0,0,0,0,0,0,0,0,0,0,0,0,0,0,0,0,0,0,200,0,0,0,0,0,122,0,0,0,95,0,0,144,0,0,0,0,0,0,0,0,0,0,0,0,0,0,0,0,0,0,0,0,120,0,0,0,60,0,0,0,0,0,0,120,0,0,0,0,0,126,0,0,0,189,0,0,0,0,0,0,0,0,0,0,0,0,260,0,0,0,0,0,147,385,0,0,0,0,0,0,0,0,0,0,0,0,0,0,0,0,0,0,0,0,0,287,0,0,0,0,0,0,0,0,0,0,0,0,0,0,0,0,0,0,0,0,0,0,0,0,0,200,0,0,0,0,0,0,0,0,0,0,0,0,0,0,0,0,0,0,0,0,0,0,0,0,0,0,0,0,0,0,0,0,0,0,0,0,0,0,0,0,0,0,0,0,0,0,0,0,0,156,0,0,0,0,0,0,0,0,0,0,0,0,0,0,0,0,0,0,0,100,0,0,0,0,0,0,0,0,0,0,0,0,0,0,0,0,0,0,0,180,216,0,0,0,0,210,0,0,0,0,0,0,0,0,0,0,0,0,0,0,0,197,0,0,0,0,0,0,0,0,0,204,0,0,0,0,0,0,0,192,0,0,0,0,0,0,0,0,0,0,0,0,0,0,0,0,0,0,0,0,0,0,0,0,225,0,192,0,0,152,0,0,0,0,0,0,0,0,0,0,0,0,0,0,175,0,0,0,126,0,312,0,0,0,0,222,0,0,0,0,0,0,0,0,0,0,0,0,0,0,0,0,0,0,0,0,0,0,0,0,0,0,0,265,224,0,0,0,0,0,0,0,0,0,0,0,0,0,0,0,0,0,0,322,0,0,0,0,120,0,0,0,0,0,0,190,0,0,0,0,0,0,0,0,0,0,0,0,0,0,0,0,0,0,0,0,0,0,0,0,233,0,0,0,0,0,0,0,0,0,0,0,0,0,0,0,0,0,0,0,0,0,0,0,0,0,0,0,0,0,0,0,0,0,0,0,0,0,0,0,0,0,0,0,0,0,0,0,0,0,0,63,0,0,0,0,0,0,0,0,0,0,147,0,180,0,0,0,53,0,0,0,0,0,0,0,0,0,0,0,0,0,143,0,0,0,0,0,0,0,0,0,0,189,0,0,0,0,0,0,0,0,0,0,0,0,0,0,0,0,0,189,0,0,0,0,0,0,0,0,0,0,0,189,0,0,192,0,0,0,0,0,0,0,0,0,0,0,0,0,0,0,0,0,0,0,0,0,0,0,160,0,0,0,0,0,0,0,0,0,0,0,0,0,0,0,0,0,0,0,0,0,0,0,0,0,0,0,160,0,0,0,0,0,0,0,0,0,0,0,0,0,0,0,0,126,0,0,0,0,0,0,0,0,0,0,0,100,0,0,273,180,0,0,0,0,0,0,0,0,0,0,0,0,90,0,0,288,0,0,0,0,0,0,0,0,0,0,0,0,263,0,0,0,0,0,0,0,0,0,0,0,0,0,0,0,0,0,0,0,0,0,0,0,0,0,0,0,0,0,0,0,0,0,0,0,0,0,0,0,0,0,0,0,224,0,0,0,0,0,0,0,0,0,0,0,0,0,0,0,0,147,0,0,0,0,0,0,0,0,0,120,0,0,0,80,0,0,0,0,0,0,0,0,0,0,0,0,0,163,0,0,0,0,0,0,0,90,288,0,116,0,0,0,0,0,0,0,0,259,0,0,0,0,0,0,0,224,0,0,0,0,0,0,0,0,0,0,0,0,0,0,0,0,0,0,216,0,0,0,0,0,0,0,480,0,0,0,0,0,0,0,0,0,0,0,0,0,0,0,0,0,0,0,0,0,0,120,0,0,0,0,0,0,0,0,0,0,0,0,0,0,0,0,0,0,0,178,0,0,0,0,0,0,0,0,0,0,0,0,0,0,440,0,0,0,0,0,0,0,0,0,0,0,0,0,0,0,0,0,0,155,0,0,168,0,0,0,0,0,220,0,0,0,0,0,119,165,0,0,0,0,0,0,0,0,0,0,0,0,0,0,0,0,0,0,0,0,0,40,0,0,0,0,0,0,0,0,0,0,0,0,0,0,0,0],\"y0\":\" \",\"yaxis\":\"y\",\"type\":\"violin\",\"opacity\":0.8}],                        {\"template\":{\"data\":{\"histogram2dcontour\":[{\"type\":\"histogram2dcontour\",\"colorbar\":{\"outlinewidth\":0,\"ticks\":\"\"},\"colorscale\":[[0.0,\"#0d0887\"],[0.1111111111111111,\"#46039f\"],[0.2222222222222222,\"#7201a8\"],[0.3333333333333333,\"#9c179e\"],[0.4444444444444444,\"#bd3786\"],[0.5555555555555556,\"#d8576b\"],[0.6666666666666666,\"#ed7953\"],[0.7777777777777778,\"#fb9f3a\"],[0.8888888888888888,\"#fdca26\"],[1.0,\"#f0f921\"]]}],\"choropleth\":[{\"type\":\"choropleth\",\"colorbar\":{\"outlinewidth\":0,\"ticks\":\"\"}}],\"histogram2d\":[{\"type\":\"histogram2d\",\"colorbar\":{\"outlinewidth\":0,\"ticks\":\"\"},\"colorscale\":[[0.0,\"#0d0887\"],[0.1111111111111111,\"#46039f\"],[0.2222222222222222,\"#7201a8\"],[0.3333333333333333,\"#9c179e\"],[0.4444444444444444,\"#bd3786\"],[0.5555555555555556,\"#d8576b\"],[0.6666666666666666,\"#ed7953\"],[0.7777777777777778,\"#fb9f3a\"],[0.8888888888888888,\"#fdca26\"],[1.0,\"#f0f921\"]]}],\"heatmap\":[{\"type\":\"heatmap\",\"colorbar\":{\"outlinewidth\":0,\"ticks\":\"\"},\"colorscale\":[[0.0,\"#0d0887\"],[0.1111111111111111,\"#46039f\"],[0.2222222222222222,\"#7201a8\"],[0.3333333333333333,\"#9c179e\"],[0.4444444444444444,\"#bd3786\"],[0.5555555555555556,\"#d8576b\"],[0.6666666666666666,\"#ed7953\"],[0.7777777777777778,\"#fb9f3a\"],[0.8888888888888888,\"#fdca26\"],[1.0,\"#f0f921\"]]}],\"heatmapgl\":[{\"type\":\"heatmapgl\",\"colorbar\":{\"outlinewidth\":0,\"ticks\":\"\"},\"colorscale\":[[0.0,\"#0d0887\"],[0.1111111111111111,\"#46039f\"],[0.2222222222222222,\"#7201a8\"],[0.3333333333333333,\"#9c179e\"],[0.4444444444444444,\"#bd3786\"],[0.5555555555555556,\"#d8576b\"],[0.6666666666666666,\"#ed7953\"],[0.7777777777777778,\"#fb9f3a\"],[0.8888888888888888,\"#fdca26\"],[1.0,\"#f0f921\"]]}],\"contourcarpet\":[{\"type\":\"contourcarpet\",\"colorbar\":{\"outlinewidth\":0,\"ticks\":\"\"}}],\"contour\":[{\"type\":\"contour\",\"colorbar\":{\"outlinewidth\":0,\"ticks\":\"\"},\"colorscale\":[[0.0,\"#0d0887\"],[0.1111111111111111,\"#46039f\"],[0.2222222222222222,\"#7201a8\"],[0.3333333333333333,\"#9c179e\"],[0.4444444444444444,\"#bd3786\"],[0.5555555555555556,\"#d8576b\"],[0.6666666666666666,\"#ed7953\"],[0.7777777777777778,\"#fb9f3a\"],[0.8888888888888888,\"#fdca26\"],[1.0,\"#f0f921\"]]}],\"surface\":[{\"type\":\"surface\",\"colorbar\":{\"outlinewidth\":0,\"ticks\":\"\"},\"colorscale\":[[0.0,\"#0d0887\"],[0.1111111111111111,\"#46039f\"],[0.2222222222222222,\"#7201a8\"],[0.3333333333333333,\"#9c179e\"],[0.4444444444444444,\"#bd3786\"],[0.5555555555555556,\"#d8576b\"],[0.6666666666666666,\"#ed7953\"],[0.7777777777777778,\"#fb9f3a\"],[0.8888888888888888,\"#fdca26\"],[1.0,\"#f0f921\"]]}],\"mesh3d\":[{\"type\":\"mesh3d\",\"colorbar\":{\"outlinewidth\":0,\"ticks\":\"\"}}],\"scatter\":[{\"fillpattern\":{\"fillmode\":\"overlay\",\"size\":10,\"solidity\":0.2},\"type\":\"scatter\"}],\"parcoords\":[{\"type\":\"parcoords\",\"line\":{\"colorbar\":{\"outlinewidth\":0,\"ticks\":\"\"}}}],\"scatterpolargl\":[{\"type\":\"scatterpolargl\",\"marker\":{\"colorbar\":{\"outlinewidth\":0,\"ticks\":\"\"}}}],\"bar\":[{\"error_x\":{\"color\":\"#2a3f5f\"},\"error_y\":{\"color\":\"#2a3f5f\"},\"marker\":{\"line\":{\"color\":\"#E5ECF6\",\"width\":0.5},\"pattern\":{\"fillmode\":\"overlay\",\"size\":10,\"solidity\":0.2}},\"type\":\"bar\"}],\"scattergeo\":[{\"type\":\"scattergeo\",\"marker\":{\"colorbar\":{\"outlinewidth\":0,\"ticks\":\"\"}}}],\"scatterpolar\":[{\"type\":\"scatterpolar\",\"marker\":{\"colorbar\":{\"outlinewidth\":0,\"ticks\":\"\"}}}],\"histogram\":[{\"marker\":{\"pattern\":{\"fillmode\":\"overlay\",\"size\":10,\"solidity\":0.2}},\"type\":\"histogram\"}],\"scattergl\":[{\"type\":\"scattergl\",\"marker\":{\"colorbar\":{\"outlinewidth\":0,\"ticks\":\"\"}}}],\"scatter3d\":[{\"type\":\"scatter3d\",\"line\":{\"colorbar\":{\"outlinewidth\":0,\"ticks\":\"\"}},\"marker\":{\"colorbar\":{\"outlinewidth\":0,\"ticks\":\"\"}}}],\"scattermapbox\":[{\"type\":\"scattermapbox\",\"marker\":{\"colorbar\":{\"outlinewidth\":0,\"ticks\":\"\"}}}],\"scatterternary\":[{\"type\":\"scatterternary\",\"marker\":{\"colorbar\":{\"outlinewidth\":0,\"ticks\":\"\"}}}],\"scattercarpet\":[{\"type\":\"scattercarpet\",\"marker\":{\"colorbar\":{\"outlinewidth\":0,\"ticks\":\"\"}}}],\"carpet\":[{\"aaxis\":{\"endlinecolor\":\"#2a3f5f\",\"gridcolor\":\"white\",\"linecolor\":\"white\",\"minorgridcolor\":\"white\",\"startlinecolor\":\"#2a3f5f\"},\"baxis\":{\"endlinecolor\":\"#2a3f5f\",\"gridcolor\":\"white\",\"linecolor\":\"white\",\"minorgridcolor\":\"white\",\"startlinecolor\":\"#2a3f5f\"},\"type\":\"carpet\"}],\"table\":[{\"cells\":{\"fill\":{\"color\":\"#EBF0F8\"},\"line\":{\"color\":\"white\"}},\"header\":{\"fill\":{\"color\":\"#C8D4E3\"},\"line\":{\"color\":\"white\"}},\"type\":\"table\"}],\"barpolar\":[{\"marker\":{\"line\":{\"color\":\"#E5ECF6\",\"width\":0.5},\"pattern\":{\"fillmode\":\"overlay\",\"size\":10,\"solidity\":0.2}},\"type\":\"barpolar\"}],\"pie\":[{\"automargin\":true,\"type\":\"pie\"}]},\"layout\":{\"autotypenumbers\":\"strict\",\"colorway\":[\"#636efa\",\"#EF553B\",\"#00cc96\",\"#ab63fa\",\"#FFA15A\",\"#19d3f3\",\"#FF6692\",\"#B6E880\",\"#FF97FF\",\"#FECB52\"],\"font\":{\"color\":\"#2a3f5f\"},\"hovermode\":\"closest\",\"hoverlabel\":{\"align\":\"left\"},\"paper_bgcolor\":\"white\",\"plot_bgcolor\":\"#E5ECF6\",\"polar\":{\"bgcolor\":\"#E5ECF6\",\"angularaxis\":{\"gridcolor\":\"white\",\"linecolor\":\"white\",\"ticks\":\"\"},\"radialaxis\":{\"gridcolor\":\"white\",\"linecolor\":\"white\",\"ticks\":\"\"}},\"ternary\":{\"bgcolor\":\"#E5ECF6\",\"aaxis\":{\"gridcolor\":\"white\",\"linecolor\":\"white\",\"ticks\":\"\"},\"baxis\":{\"gridcolor\":\"white\",\"linecolor\":\"white\",\"ticks\":\"\"},\"caxis\":{\"gridcolor\":\"white\",\"linecolor\":\"white\",\"ticks\":\"\"}},\"coloraxis\":{\"colorbar\":{\"outlinewidth\":0,\"ticks\":\"\"}},\"colorscale\":{\"sequential\":[[0.0,\"#0d0887\"],[0.1111111111111111,\"#46039f\"],[0.2222222222222222,\"#7201a8\"],[0.3333333333333333,\"#9c179e\"],[0.4444444444444444,\"#bd3786\"],[0.5555555555555556,\"#d8576b\"],[0.6666666666666666,\"#ed7953\"],[0.7777777777777778,\"#fb9f3a\"],[0.8888888888888888,\"#fdca26\"],[1.0,\"#f0f921\"]],\"sequentialminus\":[[0.0,\"#0d0887\"],[0.1111111111111111,\"#46039f\"],[0.2222222222222222,\"#7201a8\"],[0.3333333333333333,\"#9c179e\"],[0.4444444444444444,\"#bd3786\"],[0.5555555555555556,\"#d8576b\"],[0.6666666666666666,\"#ed7953\"],[0.7777777777777778,\"#fb9f3a\"],[0.8888888888888888,\"#fdca26\"],[1.0,\"#f0f921\"]],\"diverging\":[[0,\"#8e0152\"],[0.1,\"#c51b7d\"],[0.2,\"#de77ae\"],[0.3,\"#f1b6da\"],[0.4,\"#fde0ef\"],[0.5,\"#f7f7f7\"],[0.6,\"#e6f5d0\"],[0.7,\"#b8e186\"],[0.8,\"#7fbc41\"],[0.9,\"#4d9221\"],[1,\"#276419\"]]},\"xaxis\":{\"gridcolor\":\"white\",\"linecolor\":\"white\",\"ticks\":\"\",\"title\":{\"standoff\":15},\"zerolinecolor\":\"white\",\"automargin\":true,\"zerolinewidth\":2},\"yaxis\":{\"gridcolor\":\"white\",\"linecolor\":\"white\",\"ticks\":\"\",\"title\":{\"standoff\":15},\"zerolinecolor\":\"white\",\"automargin\":true,\"zerolinewidth\":2},\"scene\":{\"xaxis\":{\"backgroundcolor\":\"#E5ECF6\",\"gridcolor\":\"white\",\"linecolor\":\"white\",\"showbackground\":true,\"ticks\":\"\",\"zerolinecolor\":\"white\",\"gridwidth\":2},\"yaxis\":{\"backgroundcolor\":\"#E5ECF6\",\"gridcolor\":\"white\",\"linecolor\":\"white\",\"showbackground\":true,\"ticks\":\"\",\"zerolinecolor\":\"white\",\"gridwidth\":2},\"zaxis\":{\"backgroundcolor\":\"#E5ECF6\",\"gridcolor\":\"white\",\"linecolor\":\"white\",\"showbackground\":true,\"ticks\":\"\",\"zerolinecolor\":\"white\",\"gridwidth\":2}},\"shapedefaults\":{\"line\":{\"color\":\"#2a3f5f\"}},\"annotationdefaults\":{\"arrowcolor\":\"#2a3f5f\",\"arrowhead\":0,\"arrowwidth\":1},\"geo\":{\"bgcolor\":\"white\",\"landcolor\":\"#E5ECF6\",\"subunitcolor\":\"white\",\"showland\":true,\"showlakes\":true,\"lakecolor\":\"white\"},\"title\":{\"x\":0.05},\"mapbox\":{\"style\":\"light\"}}},\"xaxis\":{\"anchor\":\"y\",\"domain\":[0.0,1.0],\"title\":{\"text\":\"ScreenPorch\"}},\"yaxis\":{\"anchor\":\"x\",\"domain\":[0.0,1.0],\"title\":{\"text\":\"\"},\"gridcolor\":\"#DCDCDC\",\"zerolinecolor\":\"#DCDCDC\"},\"legend\":{\"tracegroupgap\":0},\"margin\":{\"t\":60},\"violinmode\":\"group\",\"paper_bgcolor\":\"#F5F5F5\",\"plot_bgcolor\":\"#F5F5F5\"},                        {\"responsive\": true}                    ).then(function(){\n",
       "                            \n",
       "var gd = document.getElementById('7c6f8781-adb3-412d-b2c2-2a4463458e73');\n",
       "var x = new MutationObserver(function (mutations, observer) {{\n",
       "        var display = window.getComputedStyle(gd).display;\n",
       "        if (!display || display === 'none') {{\n",
       "            console.log([gd, 'removed!']);\n",
       "            Plotly.purge(gd);\n",
       "            observer.disconnect();\n",
       "        }}\n",
       "}});\n",
       "\n",
       "// Listen for the removal of the full notebook cells\n",
       "var notebookContainer = gd.closest('#notebook-container');\n",
       "if (notebookContainer) {{\n",
       "    x.observe(notebookContainer, {childList: true});\n",
       "}}\n",
       "\n",
       "// Listen for the clearing of the current output cell\n",
       "var outputEl = gd.closest('.output');\n",
       "if (outputEl) {{\n",
       "    x.observe(outputEl, {childList: true});\n",
       "}}\n",
       "\n",
       "                        })                };                });            </script>        </div>"
      ]
     },
     "metadata": {},
     "output_type": "display_data"
    },
    {
     "data": {
      "text/html": [
       "<div>                            <div id=\"3eb3c634-1251-4ba3-8198-8ee5a913b48f\" class=\"plotly-graph-div\" style=\"height:525px; width:100%;\"></div>            <script type=\"text/javascript\">                require([\"plotly\"], function(Plotly) {                    window.PLOTLYENV=window.PLOTLYENV || {};                                    if (document.getElementById(\"3eb3c634-1251-4ba3-8198-8ee5a913b48f\")) {                    Plotly.newPlot(                        \"3eb3c634-1251-4ba3-8198-8ee5a913b48f\",                        [{\"alignmentgroup\":\"True\",\"box\":{\"visible\":true},\"hovertemplate\":\"OpenPorchSF=%{y}<extra></extra>\",\"legendgroup\":\"\",\"marker\":{\"color\":\"#2C3E50\"},\"name\":\"OpenPorchSF\",\"offsetgroup\":\"\",\"orientation\":\"v\",\"points\":\"outliers\",\"scalegroup\":\"True\",\"showlegend\":true,\"x0\":\" \",\"xaxis\":\"x\",\"y\":[61,0,42,35,84,30,57,204,0,4,0,21,0,33,213,112,0,0,102,0,154,0,159,110,90,56,32,50,258,0,54,65,30,38,47,32,64,0,52,0,138,104,0,0,0,82,43,146,0,0,75,0,0,72,50,0,0,70,0,0,50,0,49,11,36,151,0,29,0,21,0,0,94,0,0,101,0,0,0,0,72,199,99,0,72,82,38,234,0,0,29,0,0,0,162,63,29,0,0,0,68,46,0,36,0,45,0,0,0,122,0,0,184,120,0,32,20,64,0,24,130,0,0,63,0,0,205,0,108,80,66,48,0,25,96,0,111,0,106,99,0,24,0,29,0,40,0,48,0,114,0,102,66,0,0,8,0,75,136,132,0,0,70,0,0,0,0,120,48,64,0,62,35,20,0,29,228,0,60,0,0,0,0,238,0,260,27,0,0,120,74,32,35,40,0,0,138,16,198,26,64,83,0,0,35,34,30,0,55,0,0,22,108,0,36,0,98,172,119,0,33,46,208,0,105,0,114,0,0,20,0,146,0,0,48,0,105,70,228,140,168,42,0,28,130,39,60,30,68,98,0,0,45,0,0,0,56,110,96,45,0,148,12,0,0,0,75,24,25,30,51,0,57,0,0,0,150,0,98,117,84,120,62,150,0,54,0,0,0,0,51,184,0,250,0,0,0,10,0,36,0,50,81,0,0,0,44,144,0,175,63,0,0,0,0,51,195,46,60,48,154,154,96,98,0,0,30,45,60,0,0,0,0,30,38,0,51,74,45,0,0,0,0,72,0,0,0,40,27,0,54,80,0,0,0,26,26,90,0,75,0,0,0,0,111,128,76,110,98,17,40,59,0,0,48,0,0,214,0,63,0,121,53,0,231,20,151,0,25,134,130,192,0,0,39,0,0,168,0,168,30,0,0,123,40,78,0,0,62,102,0,0,144,0,187,30,0,0,0,85,0,0,0,66,44,0,0,0,54,0,0,98,36,36,0,61,0,0,0,46,72,0,0,16,133,0,0,0,0,176,113,54,122,30,0,0,0,137,63,0,150,0,0,0,0,20,0,0,44,70,54,0,28,63,48,24,39,84,44,72,112,49,0,125,132,80,0,0,0,0,24,0,0,0,20,523,75,100,0,285,28,108,0,54,0,0,81,102,0,88,42,35,0,0,0,54,104,0,36,0,114,40,24,406,60,144,0,66,0,0,0,0,0,0,35,0,155,0,0,0,68,56,73,40,24,0,38,0,50,182,55,0,39,96,62,0,0,47,22,20,0,38,0,36,40,66,39,0,40,0,0,0,114,0,0,0,50,68,102,0,110,90,32,502,0,66,0,0,48,0,45,274,0,0,0,75,158,16,0,0,60,162,150,172,36,42,0,0,0,0,142,0,122,30,24,0,75,0,108,0,0,243,0,32,0,0,0,0,0,0,0,73,0,0,56,110,0,0,0,0,140,235,111,0,130,312,27,0,124,0,0,0,120,0,46,0,0,0,0,0,113,76,0,0,267,124,265,42,0,0,35,0,42,87,0,0,0,0,82,0,0,0,0,45,81,0,105,60,0,28,0,50,27,0,0,0,0,0,144,158,78,0,100,0,35,0,48,38,24,0,0,0,120,288,44,0,48,0,154,0,28,0,0,0,64,0,44,0,25,23,152,22,84,0,0,341,0,116,0,56,0,0,55,0,0,204,54,0,56,0,160,48,27,52,48,24,105,0,0,98,0,0,45,128,30,174,66,0,33,36,0,0,0,0,45,247,59,0,0,0,21,124,33,30,291,0,0,45,0,168,16,0,130,130,46,50,0,0,78,0,114,0,18,170,0,60,0,312,0,156,0,0,0,0,0,34,0,59,0,35,45,32,48,0,140,45,0,39,0,166,0,166,39,0,0,0,116,0,0,0,0,78,129,0,0,0,72,0,40,100,0,20,0,0,418,104,0,36,0,65,240,0,0,0,140,0,80,0,144,90,0,77,0,28,0,364,0,0,0,0,49,36,40,188,0,65,54,0,207,0,0,0,0,116,0,50,28,0,67,0,0,0,75,60,0,0,60,0,0,24,0,0,0,0,234,0,0,0,192,51,87,70,0,69,131,0,100,43,151,0,18,0,191,36,0,0,41,48,90,0,0,0,0,0,118,0,0,252,96,0,0,0,0,189,0,0,0,0,39,44,0,282,0,136,40,72,70,0,0,0,0,27,0,120,135,50,0,116,0,80,76,0,16,0,0,48,0,95,224,50,70,169,42,35,48,57,319,0,100,61,0,20,104,0,0,0,0,0,48,0,0,0,0,30,130,45,66,0,0,20,64,54,0,20,72,0,0,44,0,28,0,63,55,136,0,0,0,45,0,0,0,40,63,121,120,0,108,0,0,0,22,20,52,78,60,0,36,98,102,0,0,20,57,120,58,44,40,128,20,0,20,0,0,0,93,0,21,32,0,64,0,0,39,116,44,0,96,50,40,84,0,48,0,64,0,22,0,74,0,0,0,0,16,0,0,32,244,100,48,185,84,69,0,18,0,0,0,0,34,0,22,20,0,200,25,0,20,36,48,0,44,28,48,155,38,128,0,0,32,0,0,96,144,24,0,0,26,0,0,0,0,140,0,0,84,21,92,62,24,69,0,0,0,0,180,114,33,38,0,76,0,0,54,0,0,33,0,0,0,36,0,53,78,0,263,0,74,114,68,60,0,0,0,304,36,24,17,0,0,82,0,36,0,234,88,70,42,23,0,50,104,12,113,0,72,0,0,112,0,0,0,63,0,30,75,0,18,240,72,0,24,18,0,0,192,40,27,48,0,33,63,56,120,229,0,112,45,0,0,80,0,36,0,47,128,0,36,96,0,0,103,0,0,0,68,34,0,76,12,0,0,0,0,0,0,0,116,0,211,0,72,58,0,0,0,0,26,198,59,74,0,0,287,28,0,0,20,44,292,0,0,0,78,59,40,102,35,64,36,51,207,98,0,30,36,0,42,241,150,0,0,0,39,0,49,0,0,0,547,28,45,0,0,65,36,16,211,20,91,0,0,78,87,0,0,0,80,0,25,54,0,84,0,86,184,98,0,0,32,45,0,36,0,36,166,96,88,26,0,262,0,28,170,140,210,36,141,68,0,0,0,42,0,0,0,96,112,15,39,0,36,152,144,25,20,39,0,0,0,16,0,75,55,160,0,53,0,0,0,63,45,0,0,44,0,20,0,126,88,73,169,55,0,236,28,39,132,0,0,0,40,60,0,0,41,36,0,66,158,88,0,0,52,98,60,0,39,65,24,0,45,36,28,56,113,40,0,60,0,68],\"y0\":\" \",\"yaxis\":\"y\",\"type\":\"violin\",\"opacity\":0.8}],                        {\"template\":{\"data\":{\"histogram2dcontour\":[{\"type\":\"histogram2dcontour\",\"colorbar\":{\"outlinewidth\":0,\"ticks\":\"\"},\"colorscale\":[[0.0,\"#0d0887\"],[0.1111111111111111,\"#46039f\"],[0.2222222222222222,\"#7201a8\"],[0.3333333333333333,\"#9c179e\"],[0.4444444444444444,\"#bd3786\"],[0.5555555555555556,\"#d8576b\"],[0.6666666666666666,\"#ed7953\"],[0.7777777777777778,\"#fb9f3a\"],[0.8888888888888888,\"#fdca26\"],[1.0,\"#f0f921\"]]}],\"choropleth\":[{\"type\":\"choropleth\",\"colorbar\":{\"outlinewidth\":0,\"ticks\":\"\"}}],\"histogram2d\":[{\"type\":\"histogram2d\",\"colorbar\":{\"outlinewidth\":0,\"ticks\":\"\"},\"colorscale\":[[0.0,\"#0d0887\"],[0.1111111111111111,\"#46039f\"],[0.2222222222222222,\"#7201a8\"],[0.3333333333333333,\"#9c179e\"],[0.4444444444444444,\"#bd3786\"],[0.5555555555555556,\"#d8576b\"],[0.6666666666666666,\"#ed7953\"],[0.7777777777777778,\"#fb9f3a\"],[0.8888888888888888,\"#fdca26\"],[1.0,\"#f0f921\"]]}],\"heatmap\":[{\"type\":\"heatmap\",\"colorbar\":{\"outlinewidth\":0,\"ticks\":\"\"},\"colorscale\":[[0.0,\"#0d0887\"],[0.1111111111111111,\"#46039f\"],[0.2222222222222222,\"#7201a8\"],[0.3333333333333333,\"#9c179e\"],[0.4444444444444444,\"#bd3786\"],[0.5555555555555556,\"#d8576b\"],[0.6666666666666666,\"#ed7953\"],[0.7777777777777778,\"#fb9f3a\"],[0.8888888888888888,\"#fdca26\"],[1.0,\"#f0f921\"]]}],\"heatmapgl\":[{\"type\":\"heatmapgl\",\"colorbar\":{\"outlinewidth\":0,\"ticks\":\"\"},\"colorscale\":[[0.0,\"#0d0887\"],[0.1111111111111111,\"#46039f\"],[0.2222222222222222,\"#7201a8\"],[0.3333333333333333,\"#9c179e\"],[0.4444444444444444,\"#bd3786\"],[0.5555555555555556,\"#d8576b\"],[0.6666666666666666,\"#ed7953\"],[0.7777777777777778,\"#fb9f3a\"],[0.8888888888888888,\"#fdca26\"],[1.0,\"#f0f921\"]]}],\"contourcarpet\":[{\"type\":\"contourcarpet\",\"colorbar\":{\"outlinewidth\":0,\"ticks\":\"\"}}],\"contour\":[{\"type\":\"contour\",\"colorbar\":{\"outlinewidth\":0,\"ticks\":\"\"},\"colorscale\":[[0.0,\"#0d0887\"],[0.1111111111111111,\"#46039f\"],[0.2222222222222222,\"#7201a8\"],[0.3333333333333333,\"#9c179e\"],[0.4444444444444444,\"#bd3786\"],[0.5555555555555556,\"#d8576b\"],[0.6666666666666666,\"#ed7953\"],[0.7777777777777778,\"#fb9f3a\"],[0.8888888888888888,\"#fdca26\"],[1.0,\"#f0f921\"]]}],\"surface\":[{\"type\":\"surface\",\"colorbar\":{\"outlinewidth\":0,\"ticks\":\"\"},\"colorscale\":[[0.0,\"#0d0887\"],[0.1111111111111111,\"#46039f\"],[0.2222222222222222,\"#7201a8\"],[0.3333333333333333,\"#9c179e\"],[0.4444444444444444,\"#bd3786\"],[0.5555555555555556,\"#d8576b\"],[0.6666666666666666,\"#ed7953\"],[0.7777777777777778,\"#fb9f3a\"],[0.8888888888888888,\"#fdca26\"],[1.0,\"#f0f921\"]]}],\"mesh3d\":[{\"type\":\"mesh3d\",\"colorbar\":{\"outlinewidth\":0,\"ticks\":\"\"}}],\"scatter\":[{\"fillpattern\":{\"fillmode\":\"overlay\",\"size\":10,\"solidity\":0.2},\"type\":\"scatter\"}],\"parcoords\":[{\"type\":\"parcoords\",\"line\":{\"colorbar\":{\"outlinewidth\":0,\"ticks\":\"\"}}}],\"scatterpolargl\":[{\"type\":\"scatterpolargl\",\"marker\":{\"colorbar\":{\"outlinewidth\":0,\"ticks\":\"\"}}}],\"bar\":[{\"error_x\":{\"color\":\"#2a3f5f\"},\"error_y\":{\"color\":\"#2a3f5f\"},\"marker\":{\"line\":{\"color\":\"#E5ECF6\",\"width\":0.5},\"pattern\":{\"fillmode\":\"overlay\",\"size\":10,\"solidity\":0.2}},\"type\":\"bar\"}],\"scattergeo\":[{\"type\":\"scattergeo\",\"marker\":{\"colorbar\":{\"outlinewidth\":0,\"ticks\":\"\"}}}],\"scatterpolar\":[{\"type\":\"scatterpolar\",\"marker\":{\"colorbar\":{\"outlinewidth\":0,\"ticks\":\"\"}}}],\"histogram\":[{\"marker\":{\"pattern\":{\"fillmode\":\"overlay\",\"size\":10,\"solidity\":0.2}},\"type\":\"histogram\"}],\"scattergl\":[{\"type\":\"scattergl\",\"marker\":{\"colorbar\":{\"outlinewidth\":0,\"ticks\":\"\"}}}],\"scatter3d\":[{\"type\":\"scatter3d\",\"line\":{\"colorbar\":{\"outlinewidth\":0,\"ticks\":\"\"}},\"marker\":{\"colorbar\":{\"outlinewidth\":0,\"ticks\":\"\"}}}],\"scattermapbox\":[{\"type\":\"scattermapbox\",\"marker\":{\"colorbar\":{\"outlinewidth\":0,\"ticks\":\"\"}}}],\"scatterternary\":[{\"type\":\"scatterternary\",\"marker\":{\"colorbar\":{\"outlinewidth\":0,\"ticks\":\"\"}}}],\"scattercarpet\":[{\"type\":\"scattercarpet\",\"marker\":{\"colorbar\":{\"outlinewidth\":0,\"ticks\":\"\"}}}],\"carpet\":[{\"aaxis\":{\"endlinecolor\":\"#2a3f5f\",\"gridcolor\":\"white\",\"linecolor\":\"white\",\"minorgridcolor\":\"white\",\"startlinecolor\":\"#2a3f5f\"},\"baxis\":{\"endlinecolor\":\"#2a3f5f\",\"gridcolor\":\"white\",\"linecolor\":\"white\",\"minorgridcolor\":\"white\",\"startlinecolor\":\"#2a3f5f\"},\"type\":\"carpet\"}],\"table\":[{\"cells\":{\"fill\":{\"color\":\"#EBF0F8\"},\"line\":{\"color\":\"white\"}},\"header\":{\"fill\":{\"color\":\"#C8D4E3\"},\"line\":{\"color\":\"white\"}},\"type\":\"table\"}],\"barpolar\":[{\"marker\":{\"line\":{\"color\":\"#E5ECF6\",\"width\":0.5},\"pattern\":{\"fillmode\":\"overlay\",\"size\":10,\"solidity\":0.2}},\"type\":\"barpolar\"}],\"pie\":[{\"automargin\":true,\"type\":\"pie\"}]},\"layout\":{\"autotypenumbers\":\"strict\",\"colorway\":[\"#636efa\",\"#EF553B\",\"#00cc96\",\"#ab63fa\",\"#FFA15A\",\"#19d3f3\",\"#FF6692\",\"#B6E880\",\"#FF97FF\",\"#FECB52\"],\"font\":{\"color\":\"#2a3f5f\"},\"hovermode\":\"closest\",\"hoverlabel\":{\"align\":\"left\"},\"paper_bgcolor\":\"white\",\"plot_bgcolor\":\"#E5ECF6\",\"polar\":{\"bgcolor\":\"#E5ECF6\",\"angularaxis\":{\"gridcolor\":\"white\",\"linecolor\":\"white\",\"ticks\":\"\"},\"radialaxis\":{\"gridcolor\":\"white\",\"linecolor\":\"white\",\"ticks\":\"\"}},\"ternary\":{\"bgcolor\":\"#E5ECF6\",\"aaxis\":{\"gridcolor\":\"white\",\"linecolor\":\"white\",\"ticks\":\"\"},\"baxis\":{\"gridcolor\":\"white\",\"linecolor\":\"white\",\"ticks\":\"\"},\"caxis\":{\"gridcolor\":\"white\",\"linecolor\":\"white\",\"ticks\":\"\"}},\"coloraxis\":{\"colorbar\":{\"outlinewidth\":0,\"ticks\":\"\"}},\"colorscale\":{\"sequential\":[[0.0,\"#0d0887\"],[0.1111111111111111,\"#46039f\"],[0.2222222222222222,\"#7201a8\"],[0.3333333333333333,\"#9c179e\"],[0.4444444444444444,\"#bd3786\"],[0.5555555555555556,\"#d8576b\"],[0.6666666666666666,\"#ed7953\"],[0.7777777777777778,\"#fb9f3a\"],[0.8888888888888888,\"#fdca26\"],[1.0,\"#f0f921\"]],\"sequentialminus\":[[0.0,\"#0d0887\"],[0.1111111111111111,\"#46039f\"],[0.2222222222222222,\"#7201a8\"],[0.3333333333333333,\"#9c179e\"],[0.4444444444444444,\"#bd3786\"],[0.5555555555555556,\"#d8576b\"],[0.6666666666666666,\"#ed7953\"],[0.7777777777777778,\"#fb9f3a\"],[0.8888888888888888,\"#fdca26\"],[1.0,\"#f0f921\"]],\"diverging\":[[0,\"#8e0152\"],[0.1,\"#c51b7d\"],[0.2,\"#de77ae\"],[0.3,\"#f1b6da\"],[0.4,\"#fde0ef\"],[0.5,\"#f7f7f7\"],[0.6,\"#e6f5d0\"],[0.7,\"#b8e186\"],[0.8,\"#7fbc41\"],[0.9,\"#4d9221\"],[1,\"#276419\"]]},\"xaxis\":{\"gridcolor\":\"white\",\"linecolor\":\"white\",\"ticks\":\"\",\"title\":{\"standoff\":15},\"zerolinecolor\":\"white\",\"automargin\":true,\"zerolinewidth\":2},\"yaxis\":{\"gridcolor\":\"white\",\"linecolor\":\"white\",\"ticks\":\"\",\"title\":{\"standoff\":15},\"zerolinecolor\":\"white\",\"automargin\":true,\"zerolinewidth\":2},\"scene\":{\"xaxis\":{\"backgroundcolor\":\"#E5ECF6\",\"gridcolor\":\"white\",\"linecolor\":\"white\",\"showbackground\":true,\"ticks\":\"\",\"zerolinecolor\":\"white\",\"gridwidth\":2},\"yaxis\":{\"backgroundcolor\":\"#E5ECF6\",\"gridcolor\":\"white\",\"linecolor\":\"white\",\"showbackground\":true,\"ticks\":\"\",\"zerolinecolor\":\"white\",\"gridwidth\":2},\"zaxis\":{\"backgroundcolor\":\"#E5ECF6\",\"gridcolor\":\"white\",\"linecolor\":\"white\",\"showbackground\":true,\"ticks\":\"\",\"zerolinecolor\":\"white\",\"gridwidth\":2}},\"shapedefaults\":{\"line\":{\"color\":\"#2a3f5f\"}},\"annotationdefaults\":{\"arrowcolor\":\"#2a3f5f\",\"arrowhead\":0,\"arrowwidth\":1},\"geo\":{\"bgcolor\":\"white\",\"landcolor\":\"#E5ECF6\",\"subunitcolor\":\"white\",\"showland\":true,\"showlakes\":true,\"lakecolor\":\"white\"},\"title\":{\"x\":0.05},\"mapbox\":{\"style\":\"light\"}}},\"xaxis\":{\"anchor\":\"y\",\"domain\":[0.0,1.0],\"title\":{\"text\":\"OpenPorchSF\"}},\"yaxis\":{\"anchor\":\"x\",\"domain\":[0.0,1.0],\"title\":{\"text\":\"\"},\"gridcolor\":\"#DCDCDC\",\"zerolinecolor\":\"#DCDCDC\"},\"legend\":{\"tracegroupgap\":0},\"margin\":{\"t\":60},\"violinmode\":\"group\",\"paper_bgcolor\":\"#F5F5F5\",\"plot_bgcolor\":\"#F5F5F5\"},                        {\"responsive\": true}                    ).then(function(){\n",
       "                            \n",
       "var gd = document.getElementById('3eb3c634-1251-4ba3-8198-8ee5a913b48f');\n",
       "var x = new MutationObserver(function (mutations, observer) {{\n",
       "        var display = window.getComputedStyle(gd).display;\n",
       "        if (!display || display === 'none') {{\n",
       "            console.log([gd, 'removed!']);\n",
       "            Plotly.purge(gd);\n",
       "            observer.disconnect();\n",
       "        }}\n",
       "}});\n",
       "\n",
       "// Listen for the removal of the full notebook cells\n",
       "var notebookContainer = gd.closest('#notebook-container');\n",
       "if (notebookContainer) {{\n",
       "    x.observe(notebookContainer, {childList: true});\n",
       "}}\n",
       "\n",
       "// Listen for the clearing of the current output cell\n",
       "var outputEl = gd.closest('.output');\n",
       "if (outputEl) {{\n",
       "    x.observe(outputEl, {childList: true});\n",
       "}}\n",
       "\n",
       "                        })                };                });            </script>        </div>"
      ]
     },
     "metadata": {},
     "output_type": "display_data"
    },
    {
     "data": {
      "text/html": [
       "<div>                            <div id=\"9e367200-90b9-4ddf-b9b7-0fc80fd9b5d7\" class=\"plotly-graph-div\" style=\"height:525px; width:100%;\"></div>            <script type=\"text/javascript\">                require([\"plotly\"], function(Plotly) {                    window.PLOTLYENV=window.PLOTLYENV || {};                                    if (document.getElementById(\"9e367200-90b9-4ddf-b9b7-0fc80fd9b5d7\")) {                    Plotly.newPlot(                        \"9e367200-90b9-4ddf-b9b7-0fc80fd9b5d7\",                        [{\"alignmentgroup\":\"True\",\"box\":{\"visible\":true},\"hovertemplate\":\"SalePrice=%{y}<extra></extra>\",\"legendgroup\":\"\",\"marker\":{\"color\":\"#2C3E50\"},\"name\":\"SalePrice\",\"offsetgroup\":\"\",\"orientation\":\"v\",\"points\":\"outliers\",\"scalegroup\":\"True\",\"showlegend\":true,\"x0\":\" \",\"xaxis\":\"x\",\"y\":[208500,181500,223500,140000,250000,143000,307000,200000,129900,118000,129500,345000,144000,279500,157000,132000,149000,90000,159000,139000,325300,139400,230000,129900,154000,256300,134800,306000,207500,68500,40000,149350,179900,165500,277500,309000,145000,153000,109000,82000,160000,170000,144000,130250,141000,319900,239686,249700,113000,127000,177000,114500,110000,385000,130000,180500,172500,196500,438780,124900,158000,101000,202500,140000,219500,317000,180000,226000,80000,225000,244000,129500,185000,144900,107400,91000,135750,127000,136500,110000,193500,153500,245000,126500,168500,260000,174000,164500,85000,123600,109900,98600,163500,133900,204750,185000,214000,94750,83000,128950,205000,178000,118964,198900,169500,250000,100000,115000,115000,190000,136900,180000,383970,217000,259500,176000,139000,155000,320000,163990,180000,100000,136000,153900,181000,84500,128000,87000,155000,150000,226000,244000,150750,220000,180000,174000,143000,171000,230000,231500,115000,260000,166000,204000,125000,130000,105000,222500,141000,115000,122000,372402,190000,235000,125000,79000,109500,269500,254900,320000,162500,412500,220000,103200,152000,127500,190000,325624,183500,228000,128500,215000,239000,163000,184000,243000,211000,172500,501837,100000,177000,200100,120000,200000,127000,475000,173000,135000,153337,286000,315000,184000,192000,130000,127000,148500,311872,235000,104000,274900,140000,171500,112000,149000,110000,180500,143900,141000,277000,145000,98000,186000,252678,156000,161750,134450,210000,107000,311500,167240,204900,200000,179900,97000,386250,112000,290000,106000,125000,192500,148000,403000,94500,128200,216500,89500,185500,194500,318000,113000,262500,110500,79000,120000,205000,241500,137000,140000,180000,277000,76500,235000,173000,158000,145000,230000,207500,220000,231500,97000,176000,276000,151000,130000,73000,175500,185000,179500,120500,148000,266000,241500,290000,139000,124500,205000,201000,141000,415298,192000,228500,185000,207500,244600,179200,164700,159000,88000,122000,153575,233230,135900,131000,235000,167000,142500,152000,239000,175000,158500,157000,267000,205000,149900,295000,305900,225000,89500,82500,360000,165600,132000,119900,375000,178000,188500,260000,270000,260000,187500,342643,354000,301000,126175,242000,87000,324000,145250,214500,78000,119000,139000,284000,207000,192000,228950,377426,214000,202500,155000,202900,82000,87500,266000,85000,140200,151500,157500,154000,437154,318061,190000,95000,105900,140000,177500,173000,134000,130000,280000,156000,145000,198500,118000,190000,147000,159000,165000,132000,162000,172400,134432,125000,123000,219500,61000,148000,340000,394432,179000,127000,187750,213500,76000,240000,192000,81000,125000,191000,426000,119000,215000,106500,100000,109000,129000,123000,169500,67000,241000,245500,164990,108000,258000,168000,150000,115000,177000,280000,339750,60000,145000,222000,115000,228000,181134,149500,239000,126000,142000,206300,215000,113000,315000,139000,135000,275000,109008,195400,175000,85400,79900,122500,181000,81000,212000,116000,119000,90350,110000,555000,118000,162900,172500,210000,127500,190000,199900,119500,120000,110000,280000,204000,210000,188000,175500,98000,256000,161000,110000,263435,155000,62383,188700,124000,178740,167000,146500,250000,187000,212000,190000,148000,440000,251000,132500,208900,380000,297000,89471,326000,374000,155000,164000,132500,147000,156000,175000,160000,86000,115000,133000,172785,155000,91300,34900,430000,184000,130000,120000,113000,226700,140000,289000,147000,124500,215000,208300,161000,124500,164900,202665,129900,134000,96500,402861,158000,265000,211000,234000,106250,150000,159000,184750,315750,176000,132000,446261,86000,200624,175000,128000,107500,39300,178000,107500,188000,111250,158000,272000,315000,248000,213250,133000,179665,229000,210000,129500,125000,263000,140000,112500,255500,108000,284000,113000,141000,108000,175000,234000,121500,170000,108000,185000,268000,128000,325000,214000,316600,135960,142600,120000,224500,170000,139000,118500,145000,164500,146000,131500,181900,253293,118500,325000,133000,369900,130000,137000,143000,79500,185900,451950,138000,140000,110000,319000,114504,194201,217500,151000,275000,141000,220000,151000,221000,205000,152000,225000,359100,118500,313000,148000,261500,147000,75500,137500,183200,105500,314813,305000,67000,240000,135000,168500,165150,160000,139900,153000,135000,168500,124000,209500,82500,139400,144000,200000,60000,93000,85000,264561,274000,226000,345000,152000,370878,143250,98300,155000,155000,84500,205950,108000,191000,135000,350000,88000,145500,149000,97500,167000,197900,402000,110000,137500,423000,230500,129000,193500,168000,137500,173500,103600,165000,257500,140000,148500,87000,109500,372500,128500,143000,159434,173000,285000,221000,207500,227875,148800,392000,194700,141000,755000,335000,108480,141500,176000,89000,123500,138500,196000,312500,140000,361919,140000,213000,55000,302000,254000,179540,109900,52000,102776,189000,129000,130500,165000,159500,157000,341000,128500,275000,143000,124500,135000,320000,120500,222000,194500,110000,103000,236500,187500,222500,131400,108000,163000,93500,239900,179000,190000,132000,142000,179000,175000,180000,299800,236000,265979,260400,98000,96500,162000,217000,275500,156000,172500,212000,158900,179400,290000,127500,100000,215200,337000,270000,264132,196500,160000,216837,538000,134900,102000,107000,114500,395000,162000,221500,142500,144000,135000,176000,175900,187100,165500,128000,161500,139000,233000,107900,187500,160200,146800,269790,225000,194500,171000,143500,110000,485000,175000,200000,109900,189000,582933,118000,227680,135500,223500,159950,106000,181000,144500,55993,157900,116000,224900,137000,271000,155000,224000,183000,93000,225000,139500,232600,385000,109500,189000,185000,147400,166000,151000,237000,167000,139950,128000,153500,100000,144000,130500,140000,157500,174900,141000,153900,171000,213000,133500,240000,187000,131500,215000,164000,158000,170000,127000,147000,174000,152000,250000,189950,131500,152000,132500,250580,148500,248900,129000,169000,236000,109500,200500,116000,133000,66500,303477,132250,350000,148000,136500,157000,187500,178000,118500,100000,328900,145000,135500,268000,149500,122900,172500,154500,165000,118858,140000,106500,142953,611657,135000,110000,153000,180000,240000,125500,128000,255000,250000,131000,174000,154300,143500,88000,145000,173733,75000,35311,135000,238000,176500,201000,145900,169990,193000,207500,175000,285000,176000,236500,222000,201000,117500,320000,190000,242000,79900,184900,253000,239799,244400,150900,214000,150000,143000,137500,124900,143000,270000,192500,197500,129000,119900,133900,172000,127500,145000,124000,132000,185000,155000,116500,272000,155000,239000,214900,178900,160000,135000,37900,140000,135000,173000,99500,182000,167500,165000,85500,199900,110000,139000,178400,336000,159895,255900,126000,125000,117000,395192,195000,197000,348000,168000,187000,173900,337500,121600,136500,185000,91000,206000,82000,86000,232000,136905,181000,149900,163500,88000,240000,102000,135000,100000,165000,85000,119200,227000,203000,187500,160000,213490,176000,194000,87000,191000,287000,112500,167500,293077,105000,118000,160000,197000,310000,230000,119750,84000,315500,287000,97000,80000,155000,173000,196000,262280,278000,139600,556581,145000,115000,84900,176485,200141,165000,144500,255000,180000,185850,248000,335000,220000,213500,81000,90000,110500,154000,328000,178000,167900,151400,135000,135000,154000,91500,159500,194000,219500,170000,138800,155900,126000,145000,133000,192000,160000,187500,147000,83500,252000,137500,197000,92900,160000,136500,146000,129000,176432,127000,170000,128000,157000,60000,119500,135000,159500,106000,325000,179900,274725,181000,280000,188000,205000,129900,134500,117000,318000,184100,130000,140000,133700,118400,212900,112000,118000,163900,115000,174000,259000,215000,140000,135000,93500,117500,239500,169000,102000,119000,94000,196000,144000,139000,197500,424870,80000,80000,149000,180000,174500,116900,143000,124000,149900,230000,120500,201800,218000,179900,230000,235128,185000,146000,224000,129000,108959,194000,233170,245350,173000,235000,625000,171000,163000,171900,200500,239000,285000,119500,115000,154900,93000,250000,392500,745000,120000,186700,104900,95000,262000,195000,189000,168000,174000,125000,165000,158000,176000,219210,144000,178000,148000,116050,197900,117000,213000,153500,271900,107000,200000,140000,290000,189000,164000,113000,145000,134500,125000,112000,229456,80500,91500,115000,134000,143000,137900,184000,145000,214000,147000,367294,127000,190000,132500,101800,142000,130000,138887,175500,195000,142500,265900,224900,248328,170000,465000,230000,178000,186500,169900,129500,119000,244000,171750,130000,294000,165400,127500,301500,99900,190000,151000,181000,128900,161500,180500,181000,183900,122000,378500,381000,144000,260000,185750,137000,177000,139000,137000,162000,197900,237000,68400,227000,180000,150500,139000,169000,132500,143000,190000,278000,281000,180500,119500,107500,162900,115000,138500,155000,140000,160000,154000,225000,177500,290000,232000,130000,325000,202500,138000,147000,179200,335000,203000,302000,333168,119000,206900,295493,208900,275000,111000,156500,72500,190000,82500,147000,55000,79000,130500,256000,176500,227000,132500,100000,125500,125000,167900,135000,52500,200000,128500,123000,155000,228500,177000,155835,108500,262500,283463,215000,122000,200000,171000,134900,410000,235000,170000,110000,149900,177500,315000,189000,260000,104900,156932,144152,216000,193000,127000,144000,232000,105000,165500,274300,466500,250000,239000,91000,117000,83000,167500,58500,237500,157000,112000,105000,125500,250000,136000,377500,131000,235000,124000,123000,163000,246578,281213,160000,137500,138000,137450,120000,193000,193879,282922,105000,275000,133000,112000,125500,215000,230000,140000,90000,257000,207000,175900,122500,340000,124000,223000,179900,127500,136500,274970,144000,142000,271000,140000,119000,182900,192140,143750,64500,186500,160000,174000,120500,394617,149700,197000,191000,149300,310000,121000,179600,129000,157900,240000,112000,92000,136000,287090,145000,84500,185000,175000,210000,266500,142125,147500],\"y0\":\" \",\"yaxis\":\"y\",\"type\":\"violin\",\"opacity\":0.8}],                        {\"template\":{\"data\":{\"histogram2dcontour\":[{\"type\":\"histogram2dcontour\",\"colorbar\":{\"outlinewidth\":0,\"ticks\":\"\"},\"colorscale\":[[0.0,\"#0d0887\"],[0.1111111111111111,\"#46039f\"],[0.2222222222222222,\"#7201a8\"],[0.3333333333333333,\"#9c179e\"],[0.4444444444444444,\"#bd3786\"],[0.5555555555555556,\"#d8576b\"],[0.6666666666666666,\"#ed7953\"],[0.7777777777777778,\"#fb9f3a\"],[0.8888888888888888,\"#fdca26\"],[1.0,\"#f0f921\"]]}],\"choropleth\":[{\"type\":\"choropleth\",\"colorbar\":{\"outlinewidth\":0,\"ticks\":\"\"}}],\"histogram2d\":[{\"type\":\"histogram2d\",\"colorbar\":{\"outlinewidth\":0,\"ticks\":\"\"},\"colorscale\":[[0.0,\"#0d0887\"],[0.1111111111111111,\"#46039f\"],[0.2222222222222222,\"#7201a8\"],[0.3333333333333333,\"#9c179e\"],[0.4444444444444444,\"#bd3786\"],[0.5555555555555556,\"#d8576b\"],[0.6666666666666666,\"#ed7953\"],[0.7777777777777778,\"#fb9f3a\"],[0.8888888888888888,\"#fdca26\"],[1.0,\"#f0f921\"]]}],\"heatmap\":[{\"type\":\"heatmap\",\"colorbar\":{\"outlinewidth\":0,\"ticks\":\"\"},\"colorscale\":[[0.0,\"#0d0887\"],[0.1111111111111111,\"#46039f\"],[0.2222222222222222,\"#7201a8\"],[0.3333333333333333,\"#9c179e\"],[0.4444444444444444,\"#bd3786\"],[0.5555555555555556,\"#d8576b\"],[0.6666666666666666,\"#ed7953\"],[0.7777777777777778,\"#fb9f3a\"],[0.8888888888888888,\"#fdca26\"],[1.0,\"#f0f921\"]]}],\"heatmapgl\":[{\"type\":\"heatmapgl\",\"colorbar\":{\"outlinewidth\":0,\"ticks\":\"\"},\"colorscale\":[[0.0,\"#0d0887\"],[0.1111111111111111,\"#46039f\"],[0.2222222222222222,\"#7201a8\"],[0.3333333333333333,\"#9c179e\"],[0.4444444444444444,\"#bd3786\"],[0.5555555555555556,\"#d8576b\"],[0.6666666666666666,\"#ed7953\"],[0.7777777777777778,\"#fb9f3a\"],[0.8888888888888888,\"#fdca26\"],[1.0,\"#f0f921\"]]}],\"contourcarpet\":[{\"type\":\"contourcarpet\",\"colorbar\":{\"outlinewidth\":0,\"ticks\":\"\"}}],\"contour\":[{\"type\":\"contour\",\"colorbar\":{\"outlinewidth\":0,\"ticks\":\"\"},\"colorscale\":[[0.0,\"#0d0887\"],[0.1111111111111111,\"#46039f\"],[0.2222222222222222,\"#7201a8\"],[0.3333333333333333,\"#9c179e\"],[0.4444444444444444,\"#bd3786\"],[0.5555555555555556,\"#d8576b\"],[0.6666666666666666,\"#ed7953\"],[0.7777777777777778,\"#fb9f3a\"],[0.8888888888888888,\"#fdca26\"],[1.0,\"#f0f921\"]]}],\"surface\":[{\"type\":\"surface\",\"colorbar\":{\"outlinewidth\":0,\"ticks\":\"\"},\"colorscale\":[[0.0,\"#0d0887\"],[0.1111111111111111,\"#46039f\"],[0.2222222222222222,\"#7201a8\"],[0.3333333333333333,\"#9c179e\"],[0.4444444444444444,\"#bd3786\"],[0.5555555555555556,\"#d8576b\"],[0.6666666666666666,\"#ed7953\"],[0.7777777777777778,\"#fb9f3a\"],[0.8888888888888888,\"#fdca26\"],[1.0,\"#f0f921\"]]}],\"mesh3d\":[{\"type\":\"mesh3d\",\"colorbar\":{\"outlinewidth\":0,\"ticks\":\"\"}}],\"scatter\":[{\"fillpattern\":{\"fillmode\":\"overlay\",\"size\":10,\"solidity\":0.2},\"type\":\"scatter\"}],\"parcoords\":[{\"type\":\"parcoords\",\"line\":{\"colorbar\":{\"outlinewidth\":0,\"ticks\":\"\"}}}],\"scatterpolargl\":[{\"type\":\"scatterpolargl\",\"marker\":{\"colorbar\":{\"outlinewidth\":0,\"ticks\":\"\"}}}],\"bar\":[{\"error_x\":{\"color\":\"#2a3f5f\"},\"error_y\":{\"color\":\"#2a3f5f\"},\"marker\":{\"line\":{\"color\":\"#E5ECF6\",\"width\":0.5},\"pattern\":{\"fillmode\":\"overlay\",\"size\":10,\"solidity\":0.2}},\"type\":\"bar\"}],\"scattergeo\":[{\"type\":\"scattergeo\",\"marker\":{\"colorbar\":{\"outlinewidth\":0,\"ticks\":\"\"}}}],\"scatterpolar\":[{\"type\":\"scatterpolar\",\"marker\":{\"colorbar\":{\"outlinewidth\":0,\"ticks\":\"\"}}}],\"histogram\":[{\"marker\":{\"pattern\":{\"fillmode\":\"overlay\",\"size\":10,\"solidity\":0.2}},\"type\":\"histogram\"}],\"scattergl\":[{\"type\":\"scattergl\",\"marker\":{\"colorbar\":{\"outlinewidth\":0,\"ticks\":\"\"}}}],\"scatter3d\":[{\"type\":\"scatter3d\",\"line\":{\"colorbar\":{\"outlinewidth\":0,\"ticks\":\"\"}},\"marker\":{\"colorbar\":{\"outlinewidth\":0,\"ticks\":\"\"}}}],\"scattermapbox\":[{\"type\":\"scattermapbox\",\"marker\":{\"colorbar\":{\"outlinewidth\":0,\"ticks\":\"\"}}}],\"scatterternary\":[{\"type\":\"scatterternary\",\"marker\":{\"colorbar\":{\"outlinewidth\":0,\"ticks\":\"\"}}}],\"scattercarpet\":[{\"type\":\"scattercarpet\",\"marker\":{\"colorbar\":{\"outlinewidth\":0,\"ticks\":\"\"}}}],\"carpet\":[{\"aaxis\":{\"endlinecolor\":\"#2a3f5f\",\"gridcolor\":\"white\",\"linecolor\":\"white\",\"minorgridcolor\":\"white\",\"startlinecolor\":\"#2a3f5f\"},\"baxis\":{\"endlinecolor\":\"#2a3f5f\",\"gridcolor\":\"white\",\"linecolor\":\"white\",\"minorgridcolor\":\"white\",\"startlinecolor\":\"#2a3f5f\"},\"type\":\"carpet\"}],\"table\":[{\"cells\":{\"fill\":{\"color\":\"#EBF0F8\"},\"line\":{\"color\":\"white\"}},\"header\":{\"fill\":{\"color\":\"#C8D4E3\"},\"line\":{\"color\":\"white\"}},\"type\":\"table\"}],\"barpolar\":[{\"marker\":{\"line\":{\"color\":\"#E5ECF6\",\"width\":0.5},\"pattern\":{\"fillmode\":\"overlay\",\"size\":10,\"solidity\":0.2}},\"type\":\"barpolar\"}],\"pie\":[{\"automargin\":true,\"type\":\"pie\"}]},\"layout\":{\"autotypenumbers\":\"strict\",\"colorway\":[\"#636efa\",\"#EF553B\",\"#00cc96\",\"#ab63fa\",\"#FFA15A\",\"#19d3f3\",\"#FF6692\",\"#B6E880\",\"#FF97FF\",\"#FECB52\"],\"font\":{\"color\":\"#2a3f5f\"},\"hovermode\":\"closest\",\"hoverlabel\":{\"align\":\"left\"},\"paper_bgcolor\":\"white\",\"plot_bgcolor\":\"#E5ECF6\",\"polar\":{\"bgcolor\":\"#E5ECF6\",\"angularaxis\":{\"gridcolor\":\"white\",\"linecolor\":\"white\",\"ticks\":\"\"},\"radialaxis\":{\"gridcolor\":\"white\",\"linecolor\":\"white\",\"ticks\":\"\"}},\"ternary\":{\"bgcolor\":\"#E5ECF6\",\"aaxis\":{\"gridcolor\":\"white\",\"linecolor\":\"white\",\"ticks\":\"\"},\"baxis\":{\"gridcolor\":\"white\",\"linecolor\":\"white\",\"ticks\":\"\"},\"caxis\":{\"gridcolor\":\"white\",\"linecolor\":\"white\",\"ticks\":\"\"}},\"coloraxis\":{\"colorbar\":{\"outlinewidth\":0,\"ticks\":\"\"}},\"colorscale\":{\"sequential\":[[0.0,\"#0d0887\"],[0.1111111111111111,\"#46039f\"],[0.2222222222222222,\"#7201a8\"],[0.3333333333333333,\"#9c179e\"],[0.4444444444444444,\"#bd3786\"],[0.5555555555555556,\"#d8576b\"],[0.6666666666666666,\"#ed7953\"],[0.7777777777777778,\"#fb9f3a\"],[0.8888888888888888,\"#fdca26\"],[1.0,\"#f0f921\"]],\"sequentialminus\":[[0.0,\"#0d0887\"],[0.1111111111111111,\"#46039f\"],[0.2222222222222222,\"#7201a8\"],[0.3333333333333333,\"#9c179e\"],[0.4444444444444444,\"#bd3786\"],[0.5555555555555556,\"#d8576b\"],[0.6666666666666666,\"#ed7953\"],[0.7777777777777778,\"#fb9f3a\"],[0.8888888888888888,\"#fdca26\"],[1.0,\"#f0f921\"]],\"diverging\":[[0,\"#8e0152\"],[0.1,\"#c51b7d\"],[0.2,\"#de77ae\"],[0.3,\"#f1b6da\"],[0.4,\"#fde0ef\"],[0.5,\"#f7f7f7\"],[0.6,\"#e6f5d0\"],[0.7,\"#b8e186\"],[0.8,\"#7fbc41\"],[0.9,\"#4d9221\"],[1,\"#276419\"]]},\"xaxis\":{\"gridcolor\":\"white\",\"linecolor\":\"white\",\"ticks\":\"\",\"title\":{\"standoff\":15},\"zerolinecolor\":\"white\",\"automargin\":true,\"zerolinewidth\":2},\"yaxis\":{\"gridcolor\":\"white\",\"linecolor\":\"white\",\"ticks\":\"\",\"title\":{\"standoff\":15},\"zerolinecolor\":\"white\",\"automargin\":true,\"zerolinewidth\":2},\"scene\":{\"xaxis\":{\"backgroundcolor\":\"#E5ECF6\",\"gridcolor\":\"white\",\"linecolor\":\"white\",\"showbackground\":true,\"ticks\":\"\",\"zerolinecolor\":\"white\",\"gridwidth\":2},\"yaxis\":{\"backgroundcolor\":\"#E5ECF6\",\"gridcolor\":\"white\",\"linecolor\":\"white\",\"showbackground\":true,\"ticks\":\"\",\"zerolinecolor\":\"white\",\"gridwidth\":2},\"zaxis\":{\"backgroundcolor\":\"#E5ECF6\",\"gridcolor\":\"white\",\"linecolor\":\"white\",\"showbackground\":true,\"ticks\":\"\",\"zerolinecolor\":\"white\",\"gridwidth\":2}},\"shapedefaults\":{\"line\":{\"color\":\"#2a3f5f\"}},\"annotationdefaults\":{\"arrowcolor\":\"#2a3f5f\",\"arrowhead\":0,\"arrowwidth\":1},\"geo\":{\"bgcolor\":\"white\",\"landcolor\":\"#E5ECF6\",\"subunitcolor\":\"white\",\"showland\":true,\"showlakes\":true,\"lakecolor\":\"white\"},\"title\":{\"x\":0.05},\"mapbox\":{\"style\":\"light\"}}},\"xaxis\":{\"anchor\":\"y\",\"domain\":[0.0,1.0],\"title\":{\"text\":\"SalePrice\"}},\"yaxis\":{\"anchor\":\"x\",\"domain\":[0.0,1.0],\"title\":{\"text\":\"\"},\"gridcolor\":\"#DCDCDC\",\"zerolinecolor\":\"#DCDCDC\"},\"legend\":{\"tracegroupgap\":0},\"margin\":{\"t\":60},\"violinmode\":\"group\",\"paper_bgcolor\":\"#F5F5F5\",\"plot_bgcolor\":\"#F5F5F5\"},                        {\"responsive\": true}                    ).then(function(){\n",
       "                            \n",
       "var gd = document.getElementById('9e367200-90b9-4ddf-b9b7-0fc80fd9b5d7');\n",
       "var x = new MutationObserver(function (mutations, observer) {{\n",
       "        var display = window.getComputedStyle(gd).display;\n",
       "        if (!display || display === 'none') {{\n",
       "            console.log([gd, 'removed!']);\n",
       "            Plotly.purge(gd);\n",
       "            observer.disconnect();\n",
       "        }}\n",
       "}});\n",
       "\n",
       "// Listen for the removal of the full notebook cells\n",
       "var notebookContainer = gd.closest('#notebook-container');\n",
       "if (notebookContainer) {{\n",
       "    x.observe(notebookContainer, {childList: true});\n",
       "}}\n",
       "\n",
       "// Listen for the clearing of the current output cell\n",
       "var outputEl = gd.closest('.output');\n",
       "if (outputEl) {{\n",
       "    x.observe(outputEl, {childList: true});\n",
       "}}\n",
       "\n",
       "                        })                };                });            </script>        </div>"
      ]
     },
     "metadata": {},
     "output_type": "display_data"
    }
   ],
   "source": [
    "tmp = show_basic_plots(X)\n",
    "for i in tmp['violin_num']: \n",
    "    i.show()\n",
    "del tmp"
   ]
  },
  {
   "cell_type": "code",
   "execution_count": 150,
   "id": "cdb874d2",
   "metadata": {
    "ExecuteTime": {
     "end_time": "2022-11-02T08:13:29.984890Z",
     "start_time": "2022-11-02T08:13:29.976361Z"
    },
    "hidden": true
   },
   "outputs": [
    {
     "data": {
      "text/plain": [
       "(24, 6)"
      ]
     },
     "execution_count": 150,
     "metadata": {},
     "output_type": "execute_result"
    }
   ],
   "source": [
    "X.loc[X['3SsnPorch']>0].shape  # 24"
   ]
  },
  {
   "cell_type": "code",
   "execution_count": 151,
   "id": "f4c29392",
   "metadata": {
    "ExecuteTime": {
     "end_time": "2022-11-02T08:13:36.848230Z",
     "start_time": "2022-11-02T08:13:36.810157Z"
    },
    "hidden": true
   },
   "outputs": [
    {
     "data": {
      "text/html": [
       "<div>                            <div id=\"271bad08-521e-44a4-a355-5a1686a57b75\" class=\"plotly-graph-div\" style=\"height:525px; width:100%;\"></div>            <script type=\"text/javascript\">                require([\"plotly\"], function(Plotly) {                    window.PLOTLYENV=window.PLOTLYENV || {};                                    if (document.getElementById(\"271bad08-521e-44a4-a355-5a1686a57b75\")) {                    Plotly.newPlot(                        \"271bad08-521e-44a4-a355-5a1686a57b75\",                        [{\"coloraxis\":\"coloraxis\",\"name\":\"0\",\"texttemplate\":\"%{z}\",\"x\":[\"WoodDeckSF\",\"3SsnPorch\",\"EnclosedPorch\",\"ScreenPorch\",\"OpenPorchSF\",\"SalePrice\"],\"y\":[\"WoodDeckSF\",\"3SsnPorch\",\"EnclosedPorch\",\"ScreenPorch\",\"OpenPorchSF\",\"SalePrice\"],\"z\":[[1.0,-0.033,-0.126,-0.074,0.059,0.324],[-0.033,1.0,-0.037,-0.031,-0.006,0.045],[-0.126,-0.037,1.0,-0.083,-0.093,-0.129],[-0.074,-0.031,-0.083,1.0,0.074,0.111],[0.059,-0.006,-0.093,0.074,1.0,0.316],[0.324,0.045,-0.129,0.111,0.316,1.0]],\"type\":\"heatmap\",\"xaxis\":\"x\",\"yaxis\":\"y\",\"hovertemplate\":\"x: %{x}<br>y: %{y}<br>color: %{z}<extra></extra>\",\"opacity\":0.8}],                        {\"template\":{\"data\":{\"histogram2dcontour\":[{\"type\":\"histogram2dcontour\",\"colorbar\":{\"outlinewidth\":0,\"ticks\":\"\"},\"colorscale\":[[0.0,\"#0d0887\"],[0.1111111111111111,\"#46039f\"],[0.2222222222222222,\"#7201a8\"],[0.3333333333333333,\"#9c179e\"],[0.4444444444444444,\"#bd3786\"],[0.5555555555555556,\"#d8576b\"],[0.6666666666666666,\"#ed7953\"],[0.7777777777777778,\"#fb9f3a\"],[0.8888888888888888,\"#fdca26\"],[1.0,\"#f0f921\"]]}],\"choropleth\":[{\"type\":\"choropleth\",\"colorbar\":{\"outlinewidth\":0,\"ticks\":\"\"}}],\"histogram2d\":[{\"type\":\"histogram2d\",\"colorbar\":{\"outlinewidth\":0,\"ticks\":\"\"},\"colorscale\":[[0.0,\"#0d0887\"],[0.1111111111111111,\"#46039f\"],[0.2222222222222222,\"#7201a8\"],[0.3333333333333333,\"#9c179e\"],[0.4444444444444444,\"#bd3786\"],[0.5555555555555556,\"#d8576b\"],[0.6666666666666666,\"#ed7953\"],[0.7777777777777778,\"#fb9f3a\"],[0.8888888888888888,\"#fdca26\"],[1.0,\"#f0f921\"]]}],\"heatmap\":[{\"type\":\"heatmap\",\"colorbar\":{\"outlinewidth\":0,\"ticks\":\"\"},\"colorscale\":[[0.0,\"#0d0887\"],[0.1111111111111111,\"#46039f\"],[0.2222222222222222,\"#7201a8\"],[0.3333333333333333,\"#9c179e\"],[0.4444444444444444,\"#bd3786\"],[0.5555555555555556,\"#d8576b\"],[0.6666666666666666,\"#ed7953\"],[0.7777777777777778,\"#fb9f3a\"],[0.8888888888888888,\"#fdca26\"],[1.0,\"#f0f921\"]]}],\"heatmapgl\":[{\"type\":\"heatmapgl\",\"colorbar\":{\"outlinewidth\":0,\"ticks\":\"\"},\"colorscale\":[[0.0,\"#0d0887\"],[0.1111111111111111,\"#46039f\"],[0.2222222222222222,\"#7201a8\"],[0.3333333333333333,\"#9c179e\"],[0.4444444444444444,\"#bd3786\"],[0.5555555555555556,\"#d8576b\"],[0.6666666666666666,\"#ed7953\"],[0.7777777777777778,\"#fb9f3a\"],[0.8888888888888888,\"#fdca26\"],[1.0,\"#f0f921\"]]}],\"contourcarpet\":[{\"type\":\"contourcarpet\",\"colorbar\":{\"outlinewidth\":0,\"ticks\":\"\"}}],\"contour\":[{\"type\":\"contour\",\"colorbar\":{\"outlinewidth\":0,\"ticks\":\"\"},\"colorscale\":[[0.0,\"#0d0887\"],[0.1111111111111111,\"#46039f\"],[0.2222222222222222,\"#7201a8\"],[0.3333333333333333,\"#9c179e\"],[0.4444444444444444,\"#bd3786\"],[0.5555555555555556,\"#d8576b\"],[0.6666666666666666,\"#ed7953\"],[0.7777777777777778,\"#fb9f3a\"],[0.8888888888888888,\"#fdca26\"],[1.0,\"#f0f921\"]]}],\"surface\":[{\"type\":\"surface\",\"colorbar\":{\"outlinewidth\":0,\"ticks\":\"\"},\"colorscale\":[[0.0,\"#0d0887\"],[0.1111111111111111,\"#46039f\"],[0.2222222222222222,\"#7201a8\"],[0.3333333333333333,\"#9c179e\"],[0.4444444444444444,\"#bd3786\"],[0.5555555555555556,\"#d8576b\"],[0.6666666666666666,\"#ed7953\"],[0.7777777777777778,\"#fb9f3a\"],[0.8888888888888888,\"#fdca26\"],[1.0,\"#f0f921\"]]}],\"mesh3d\":[{\"type\":\"mesh3d\",\"colorbar\":{\"outlinewidth\":0,\"ticks\":\"\"}}],\"scatter\":[{\"fillpattern\":{\"fillmode\":\"overlay\",\"size\":10,\"solidity\":0.2},\"type\":\"scatter\"}],\"parcoords\":[{\"type\":\"parcoords\",\"line\":{\"colorbar\":{\"outlinewidth\":0,\"ticks\":\"\"}}}],\"scatterpolargl\":[{\"type\":\"scatterpolargl\",\"marker\":{\"colorbar\":{\"outlinewidth\":0,\"ticks\":\"\"}}}],\"bar\":[{\"error_x\":{\"color\":\"#2a3f5f\"},\"error_y\":{\"color\":\"#2a3f5f\"},\"marker\":{\"line\":{\"color\":\"#E5ECF6\",\"width\":0.5},\"pattern\":{\"fillmode\":\"overlay\",\"size\":10,\"solidity\":0.2}},\"type\":\"bar\"}],\"scattergeo\":[{\"type\":\"scattergeo\",\"marker\":{\"colorbar\":{\"outlinewidth\":0,\"ticks\":\"\"}}}],\"scatterpolar\":[{\"type\":\"scatterpolar\",\"marker\":{\"colorbar\":{\"outlinewidth\":0,\"ticks\":\"\"}}}],\"histogram\":[{\"marker\":{\"pattern\":{\"fillmode\":\"overlay\",\"size\":10,\"solidity\":0.2}},\"type\":\"histogram\"}],\"scattergl\":[{\"type\":\"scattergl\",\"marker\":{\"colorbar\":{\"outlinewidth\":0,\"ticks\":\"\"}}}],\"scatter3d\":[{\"type\":\"scatter3d\",\"line\":{\"colorbar\":{\"outlinewidth\":0,\"ticks\":\"\"}},\"marker\":{\"colorbar\":{\"outlinewidth\":0,\"ticks\":\"\"}}}],\"scattermapbox\":[{\"type\":\"scattermapbox\",\"marker\":{\"colorbar\":{\"outlinewidth\":0,\"ticks\":\"\"}}}],\"scatterternary\":[{\"type\":\"scatterternary\",\"marker\":{\"colorbar\":{\"outlinewidth\":0,\"ticks\":\"\"}}}],\"scattercarpet\":[{\"type\":\"scattercarpet\",\"marker\":{\"colorbar\":{\"outlinewidth\":0,\"ticks\":\"\"}}}],\"carpet\":[{\"aaxis\":{\"endlinecolor\":\"#2a3f5f\",\"gridcolor\":\"white\",\"linecolor\":\"white\",\"minorgridcolor\":\"white\",\"startlinecolor\":\"#2a3f5f\"},\"baxis\":{\"endlinecolor\":\"#2a3f5f\",\"gridcolor\":\"white\",\"linecolor\":\"white\",\"minorgridcolor\":\"white\",\"startlinecolor\":\"#2a3f5f\"},\"type\":\"carpet\"}],\"table\":[{\"cells\":{\"fill\":{\"color\":\"#EBF0F8\"},\"line\":{\"color\":\"white\"}},\"header\":{\"fill\":{\"color\":\"#C8D4E3\"},\"line\":{\"color\":\"white\"}},\"type\":\"table\"}],\"barpolar\":[{\"marker\":{\"line\":{\"color\":\"#E5ECF6\",\"width\":0.5},\"pattern\":{\"fillmode\":\"overlay\",\"size\":10,\"solidity\":0.2}},\"type\":\"barpolar\"}],\"pie\":[{\"automargin\":true,\"type\":\"pie\"}]},\"layout\":{\"autotypenumbers\":\"strict\",\"colorway\":[\"#636efa\",\"#EF553B\",\"#00cc96\",\"#ab63fa\",\"#FFA15A\",\"#19d3f3\",\"#FF6692\",\"#B6E880\",\"#FF97FF\",\"#FECB52\"],\"font\":{\"color\":\"#2a3f5f\"},\"hovermode\":\"closest\",\"hoverlabel\":{\"align\":\"left\"},\"paper_bgcolor\":\"white\",\"plot_bgcolor\":\"#E5ECF6\",\"polar\":{\"bgcolor\":\"#E5ECF6\",\"angularaxis\":{\"gridcolor\":\"white\",\"linecolor\":\"white\",\"ticks\":\"\"},\"radialaxis\":{\"gridcolor\":\"white\",\"linecolor\":\"white\",\"ticks\":\"\"}},\"ternary\":{\"bgcolor\":\"#E5ECF6\",\"aaxis\":{\"gridcolor\":\"white\",\"linecolor\":\"white\",\"ticks\":\"\"},\"baxis\":{\"gridcolor\":\"white\",\"linecolor\":\"white\",\"ticks\":\"\"},\"caxis\":{\"gridcolor\":\"white\",\"linecolor\":\"white\",\"ticks\":\"\"}},\"coloraxis\":{\"colorbar\":{\"outlinewidth\":0,\"ticks\":\"\"}},\"colorscale\":{\"sequential\":[[0.0,\"#0d0887\"],[0.1111111111111111,\"#46039f\"],[0.2222222222222222,\"#7201a8\"],[0.3333333333333333,\"#9c179e\"],[0.4444444444444444,\"#bd3786\"],[0.5555555555555556,\"#d8576b\"],[0.6666666666666666,\"#ed7953\"],[0.7777777777777778,\"#fb9f3a\"],[0.8888888888888888,\"#fdca26\"],[1.0,\"#f0f921\"]],\"sequentialminus\":[[0.0,\"#0d0887\"],[0.1111111111111111,\"#46039f\"],[0.2222222222222222,\"#7201a8\"],[0.3333333333333333,\"#9c179e\"],[0.4444444444444444,\"#bd3786\"],[0.5555555555555556,\"#d8576b\"],[0.6666666666666666,\"#ed7953\"],[0.7777777777777778,\"#fb9f3a\"],[0.8888888888888888,\"#fdca26\"],[1.0,\"#f0f921\"]],\"diverging\":[[0,\"#8e0152\"],[0.1,\"#c51b7d\"],[0.2,\"#de77ae\"],[0.3,\"#f1b6da\"],[0.4,\"#fde0ef\"],[0.5,\"#f7f7f7\"],[0.6,\"#e6f5d0\"],[0.7,\"#b8e186\"],[0.8,\"#7fbc41\"],[0.9,\"#4d9221\"],[1,\"#276419\"]]},\"xaxis\":{\"gridcolor\":\"white\",\"linecolor\":\"white\",\"ticks\":\"\",\"title\":{\"standoff\":15},\"zerolinecolor\":\"white\",\"automargin\":true,\"zerolinewidth\":2},\"yaxis\":{\"gridcolor\":\"white\",\"linecolor\":\"white\",\"ticks\":\"\",\"title\":{\"standoff\":15},\"zerolinecolor\":\"white\",\"automargin\":true,\"zerolinewidth\":2},\"scene\":{\"xaxis\":{\"backgroundcolor\":\"#E5ECF6\",\"gridcolor\":\"white\",\"linecolor\":\"white\",\"showbackground\":true,\"ticks\":\"\",\"zerolinecolor\":\"white\",\"gridwidth\":2},\"yaxis\":{\"backgroundcolor\":\"#E5ECF6\",\"gridcolor\":\"white\",\"linecolor\":\"white\",\"showbackground\":true,\"ticks\":\"\",\"zerolinecolor\":\"white\",\"gridwidth\":2},\"zaxis\":{\"backgroundcolor\":\"#E5ECF6\",\"gridcolor\":\"white\",\"linecolor\":\"white\",\"showbackground\":true,\"ticks\":\"\",\"zerolinecolor\":\"white\",\"gridwidth\":2}},\"shapedefaults\":{\"line\":{\"color\":\"#2a3f5f\"}},\"annotationdefaults\":{\"arrowcolor\":\"#2a3f5f\",\"arrowhead\":0,\"arrowwidth\":1},\"geo\":{\"bgcolor\":\"white\",\"landcolor\":\"#E5ECF6\",\"subunitcolor\":\"white\",\"showland\":true,\"showlakes\":true,\"lakecolor\":\"white\"},\"title\":{\"x\":0.05},\"mapbox\":{\"style\":\"light\"}}},\"xaxis\":{\"anchor\":\"y\",\"domain\":[0.0,1.0],\"scaleanchor\":\"y\",\"constrain\":\"domain\",\"linecolor\":\"#DCDCDC\"},\"yaxis\":{\"anchor\":\"x\",\"domain\":[0.0,1.0],\"autorange\":\"reversed\",\"constrain\":\"domain\",\"gridcolor\":\"#DCDCDC\",\"title\":{\"text\":\"\"}},\"coloraxis\":{\"colorscale\":[[0.0,\"rgb(253, 253, 204)\"],[0.09090909090909091,\"rgb(206, 236, 179)\"],[0.18181818181818182,\"rgb(156, 219, 165)\"],[0.2727272727272727,\"rgb(111, 201, 163)\"],[0.36363636363636365,\"rgb(86, 177, 163)\"],[0.45454545454545453,\"rgb(76, 153, 160)\"],[0.5454545454545454,\"rgb(68, 130, 155)\"],[0.6363636363636364,\"rgb(62, 108, 150)\"],[0.7272727272727273,\"rgb(62, 82, 143)\"],[0.8181818181818182,\"rgb(64, 60, 115)\"],[0.9090909090909091,\"rgb(54, 43, 77)\"],[1.0,\"rgb(39, 26, 44)\"]],\"showscale\":false},\"margin\":{\"t\":60},\"paper_bgcolor\":\"#F5F5F5\",\"plot_bgcolor\":\"#F5F5F5\"},                        {\"responsive\": true}                    ).then(function(){\n",
       "                            \n",
       "var gd = document.getElementById('271bad08-521e-44a4-a355-5a1686a57b75');\n",
       "var x = new MutationObserver(function (mutations, observer) {{\n",
       "        var display = window.getComputedStyle(gd).display;\n",
       "        if (!display || display === 'none') {{\n",
       "            console.log([gd, 'removed!']);\n",
       "            Plotly.purge(gd);\n",
       "            observer.disconnect();\n",
       "        }}\n",
       "}});\n",
       "\n",
       "// Listen for the removal of the full notebook cells\n",
       "var notebookContainer = gd.closest('#notebook-container');\n",
       "if (notebookContainer) {{\n",
       "    x.observe(notebookContainer, {childList: true});\n",
       "}}\n",
       "\n",
       "// Listen for the clearing of the current output cell\n",
       "var outputEl = gd.closest('.output');\n",
       "if (outputEl) {{\n",
       "    x.observe(outputEl, {childList: true});\n",
       "}}\n",
       "\n",
       "                        })                };                });            </script>        </div>"
      ]
     },
     "metadata": {},
     "output_type": "display_data"
    }
   ],
   "source": [
    "corr_heatmap(X)"
   ]
  },
  {
   "cell_type": "markdown",
   "id": "cd31cc13",
   "metadata": {
    "hidden": true
   },
   "source": [
    "- better create new PorchSF and PorchType variables"
   ]
  },
  {
   "cell_type": "markdown",
   "id": "e2f3ca04",
   "metadata": {
    "heading_collapsed": true
   },
   "source": [
    "### TimeStamps"
   ]
  },
  {
   "cell_type": "code",
   "execution_count": 153,
   "id": "9aed7330",
   "metadata": {
    "ExecuteTime": {
     "end_time": "2022-11-02T08:17:47.564578Z",
     "start_time": "2022-11-02T08:17:47.553524Z"
    },
    "hidden": true
   },
   "outputs": [],
   "source": [
    "X = data.copy()\n",
    "X = X.loc[:, ['MoSold', 'YrSold', 'YearBuilt', 'YearRemodAdd', 'GarageYrBlt',\n",
    "              'SalePrice']]"
   ]
  },
  {
   "cell_type": "code",
   "execution_count": 154,
   "id": "658662ba",
   "metadata": {
    "ExecuteTime": {
     "end_time": "2022-11-02T08:17:49.282731Z",
     "start_time": "2022-11-02T08:17:49.235497Z"
    },
    "hidden": true,
    "scrolled": true
   },
   "outputs": [
    {
     "data": {
      "text/html": [
       "<div>                            <div id=\"58e0366b-275b-48a9-85da-af83cd24dffc\" class=\"plotly-graph-div\" style=\"height:525px; width:100%;\"></div>            <script type=\"text/javascript\">                require([\"plotly\"], function(Plotly) {                    window.PLOTLYENV=window.PLOTLYENV || {};                                    if (document.getElementById(\"58e0366b-275b-48a9-85da-af83cd24dffc\")) {                    Plotly.newPlot(                        \"58e0366b-275b-48a9-85da-af83cd24dffc\",                        [{\"coloraxis\":\"coloraxis\",\"name\":\"0\",\"texttemplate\":\"%{z}\",\"x\":[\"MoSold\",\"YrSold\",\"YearBuilt\",\"YearRemodAdd\",\"GarageYrBlt\",\"SalePrice\"],\"y\":[\"MoSold\",\"YrSold\",\"YearBuilt\",\"YearRemodAdd\",\"GarageYrBlt\",\"SalePrice\"],\"z\":[[1.0,-0.146,0.012,0.021,0.005,0.046],[-0.146,1.0,-0.014,0.036,-0.001,-0.029],[0.012,-0.014,1.0,0.593,0.826,0.523],[0.021,0.036,0.593,1.0,0.642,0.507],[0.005,-0.001,0.826,0.642,1.0,0.486],[0.046,-0.029,0.523,0.507,0.486,1.0]],\"type\":\"heatmap\",\"xaxis\":\"x\",\"yaxis\":\"y\",\"hovertemplate\":\"x: %{x}<br>y: %{y}<br>color: %{z}<extra></extra>\",\"opacity\":0.8}],                        {\"template\":{\"data\":{\"histogram2dcontour\":[{\"type\":\"histogram2dcontour\",\"colorbar\":{\"outlinewidth\":0,\"ticks\":\"\"},\"colorscale\":[[0.0,\"#0d0887\"],[0.1111111111111111,\"#46039f\"],[0.2222222222222222,\"#7201a8\"],[0.3333333333333333,\"#9c179e\"],[0.4444444444444444,\"#bd3786\"],[0.5555555555555556,\"#d8576b\"],[0.6666666666666666,\"#ed7953\"],[0.7777777777777778,\"#fb9f3a\"],[0.8888888888888888,\"#fdca26\"],[1.0,\"#f0f921\"]]}],\"choropleth\":[{\"type\":\"choropleth\",\"colorbar\":{\"outlinewidth\":0,\"ticks\":\"\"}}],\"histogram2d\":[{\"type\":\"histogram2d\",\"colorbar\":{\"outlinewidth\":0,\"ticks\":\"\"},\"colorscale\":[[0.0,\"#0d0887\"],[0.1111111111111111,\"#46039f\"],[0.2222222222222222,\"#7201a8\"],[0.3333333333333333,\"#9c179e\"],[0.4444444444444444,\"#bd3786\"],[0.5555555555555556,\"#d8576b\"],[0.6666666666666666,\"#ed7953\"],[0.7777777777777778,\"#fb9f3a\"],[0.8888888888888888,\"#fdca26\"],[1.0,\"#f0f921\"]]}],\"heatmap\":[{\"type\":\"heatmap\",\"colorbar\":{\"outlinewidth\":0,\"ticks\":\"\"},\"colorscale\":[[0.0,\"#0d0887\"],[0.1111111111111111,\"#46039f\"],[0.2222222222222222,\"#7201a8\"],[0.3333333333333333,\"#9c179e\"],[0.4444444444444444,\"#bd3786\"],[0.5555555555555556,\"#d8576b\"],[0.6666666666666666,\"#ed7953\"],[0.7777777777777778,\"#fb9f3a\"],[0.8888888888888888,\"#fdca26\"],[1.0,\"#f0f921\"]]}],\"heatmapgl\":[{\"type\":\"heatmapgl\",\"colorbar\":{\"outlinewidth\":0,\"ticks\":\"\"},\"colorscale\":[[0.0,\"#0d0887\"],[0.1111111111111111,\"#46039f\"],[0.2222222222222222,\"#7201a8\"],[0.3333333333333333,\"#9c179e\"],[0.4444444444444444,\"#bd3786\"],[0.5555555555555556,\"#d8576b\"],[0.6666666666666666,\"#ed7953\"],[0.7777777777777778,\"#fb9f3a\"],[0.8888888888888888,\"#fdca26\"],[1.0,\"#f0f921\"]]}],\"contourcarpet\":[{\"type\":\"contourcarpet\",\"colorbar\":{\"outlinewidth\":0,\"ticks\":\"\"}}],\"contour\":[{\"type\":\"contour\",\"colorbar\":{\"outlinewidth\":0,\"ticks\":\"\"},\"colorscale\":[[0.0,\"#0d0887\"],[0.1111111111111111,\"#46039f\"],[0.2222222222222222,\"#7201a8\"],[0.3333333333333333,\"#9c179e\"],[0.4444444444444444,\"#bd3786\"],[0.5555555555555556,\"#d8576b\"],[0.6666666666666666,\"#ed7953\"],[0.7777777777777778,\"#fb9f3a\"],[0.8888888888888888,\"#fdca26\"],[1.0,\"#f0f921\"]]}],\"surface\":[{\"type\":\"surface\",\"colorbar\":{\"outlinewidth\":0,\"ticks\":\"\"},\"colorscale\":[[0.0,\"#0d0887\"],[0.1111111111111111,\"#46039f\"],[0.2222222222222222,\"#7201a8\"],[0.3333333333333333,\"#9c179e\"],[0.4444444444444444,\"#bd3786\"],[0.5555555555555556,\"#d8576b\"],[0.6666666666666666,\"#ed7953\"],[0.7777777777777778,\"#fb9f3a\"],[0.8888888888888888,\"#fdca26\"],[1.0,\"#f0f921\"]]}],\"mesh3d\":[{\"type\":\"mesh3d\",\"colorbar\":{\"outlinewidth\":0,\"ticks\":\"\"}}],\"scatter\":[{\"fillpattern\":{\"fillmode\":\"overlay\",\"size\":10,\"solidity\":0.2},\"type\":\"scatter\"}],\"parcoords\":[{\"type\":\"parcoords\",\"line\":{\"colorbar\":{\"outlinewidth\":0,\"ticks\":\"\"}}}],\"scatterpolargl\":[{\"type\":\"scatterpolargl\",\"marker\":{\"colorbar\":{\"outlinewidth\":0,\"ticks\":\"\"}}}],\"bar\":[{\"error_x\":{\"color\":\"#2a3f5f\"},\"error_y\":{\"color\":\"#2a3f5f\"},\"marker\":{\"line\":{\"color\":\"#E5ECF6\",\"width\":0.5},\"pattern\":{\"fillmode\":\"overlay\",\"size\":10,\"solidity\":0.2}},\"type\":\"bar\"}],\"scattergeo\":[{\"type\":\"scattergeo\",\"marker\":{\"colorbar\":{\"outlinewidth\":0,\"ticks\":\"\"}}}],\"scatterpolar\":[{\"type\":\"scatterpolar\",\"marker\":{\"colorbar\":{\"outlinewidth\":0,\"ticks\":\"\"}}}],\"histogram\":[{\"marker\":{\"pattern\":{\"fillmode\":\"overlay\",\"size\":10,\"solidity\":0.2}},\"type\":\"histogram\"}],\"scattergl\":[{\"type\":\"scattergl\",\"marker\":{\"colorbar\":{\"outlinewidth\":0,\"ticks\":\"\"}}}],\"scatter3d\":[{\"type\":\"scatter3d\",\"line\":{\"colorbar\":{\"outlinewidth\":0,\"ticks\":\"\"}},\"marker\":{\"colorbar\":{\"outlinewidth\":0,\"ticks\":\"\"}}}],\"scattermapbox\":[{\"type\":\"scattermapbox\",\"marker\":{\"colorbar\":{\"outlinewidth\":0,\"ticks\":\"\"}}}],\"scatterternary\":[{\"type\":\"scatterternary\",\"marker\":{\"colorbar\":{\"outlinewidth\":0,\"ticks\":\"\"}}}],\"scattercarpet\":[{\"type\":\"scattercarpet\",\"marker\":{\"colorbar\":{\"outlinewidth\":0,\"ticks\":\"\"}}}],\"carpet\":[{\"aaxis\":{\"endlinecolor\":\"#2a3f5f\",\"gridcolor\":\"white\",\"linecolor\":\"white\",\"minorgridcolor\":\"white\",\"startlinecolor\":\"#2a3f5f\"},\"baxis\":{\"endlinecolor\":\"#2a3f5f\",\"gridcolor\":\"white\",\"linecolor\":\"white\",\"minorgridcolor\":\"white\",\"startlinecolor\":\"#2a3f5f\"},\"type\":\"carpet\"}],\"table\":[{\"cells\":{\"fill\":{\"color\":\"#EBF0F8\"},\"line\":{\"color\":\"white\"}},\"header\":{\"fill\":{\"color\":\"#C8D4E3\"},\"line\":{\"color\":\"white\"}},\"type\":\"table\"}],\"barpolar\":[{\"marker\":{\"line\":{\"color\":\"#E5ECF6\",\"width\":0.5},\"pattern\":{\"fillmode\":\"overlay\",\"size\":10,\"solidity\":0.2}},\"type\":\"barpolar\"}],\"pie\":[{\"automargin\":true,\"type\":\"pie\"}]},\"layout\":{\"autotypenumbers\":\"strict\",\"colorway\":[\"#636efa\",\"#EF553B\",\"#00cc96\",\"#ab63fa\",\"#FFA15A\",\"#19d3f3\",\"#FF6692\",\"#B6E880\",\"#FF97FF\",\"#FECB52\"],\"font\":{\"color\":\"#2a3f5f\"},\"hovermode\":\"closest\",\"hoverlabel\":{\"align\":\"left\"},\"paper_bgcolor\":\"white\",\"plot_bgcolor\":\"#E5ECF6\",\"polar\":{\"bgcolor\":\"#E5ECF6\",\"angularaxis\":{\"gridcolor\":\"white\",\"linecolor\":\"white\",\"ticks\":\"\"},\"radialaxis\":{\"gridcolor\":\"white\",\"linecolor\":\"white\",\"ticks\":\"\"}},\"ternary\":{\"bgcolor\":\"#E5ECF6\",\"aaxis\":{\"gridcolor\":\"white\",\"linecolor\":\"white\",\"ticks\":\"\"},\"baxis\":{\"gridcolor\":\"white\",\"linecolor\":\"white\",\"ticks\":\"\"},\"caxis\":{\"gridcolor\":\"white\",\"linecolor\":\"white\",\"ticks\":\"\"}},\"coloraxis\":{\"colorbar\":{\"outlinewidth\":0,\"ticks\":\"\"}},\"colorscale\":{\"sequential\":[[0.0,\"#0d0887\"],[0.1111111111111111,\"#46039f\"],[0.2222222222222222,\"#7201a8\"],[0.3333333333333333,\"#9c179e\"],[0.4444444444444444,\"#bd3786\"],[0.5555555555555556,\"#d8576b\"],[0.6666666666666666,\"#ed7953\"],[0.7777777777777778,\"#fb9f3a\"],[0.8888888888888888,\"#fdca26\"],[1.0,\"#f0f921\"]],\"sequentialminus\":[[0.0,\"#0d0887\"],[0.1111111111111111,\"#46039f\"],[0.2222222222222222,\"#7201a8\"],[0.3333333333333333,\"#9c179e\"],[0.4444444444444444,\"#bd3786\"],[0.5555555555555556,\"#d8576b\"],[0.6666666666666666,\"#ed7953\"],[0.7777777777777778,\"#fb9f3a\"],[0.8888888888888888,\"#fdca26\"],[1.0,\"#f0f921\"]],\"diverging\":[[0,\"#8e0152\"],[0.1,\"#c51b7d\"],[0.2,\"#de77ae\"],[0.3,\"#f1b6da\"],[0.4,\"#fde0ef\"],[0.5,\"#f7f7f7\"],[0.6,\"#e6f5d0\"],[0.7,\"#b8e186\"],[0.8,\"#7fbc41\"],[0.9,\"#4d9221\"],[1,\"#276419\"]]},\"xaxis\":{\"gridcolor\":\"white\",\"linecolor\":\"white\",\"ticks\":\"\",\"title\":{\"standoff\":15},\"zerolinecolor\":\"white\",\"automargin\":true,\"zerolinewidth\":2},\"yaxis\":{\"gridcolor\":\"white\",\"linecolor\":\"white\",\"ticks\":\"\",\"title\":{\"standoff\":15},\"zerolinecolor\":\"white\",\"automargin\":true,\"zerolinewidth\":2},\"scene\":{\"xaxis\":{\"backgroundcolor\":\"#E5ECF6\",\"gridcolor\":\"white\",\"linecolor\":\"white\",\"showbackground\":true,\"ticks\":\"\",\"zerolinecolor\":\"white\",\"gridwidth\":2},\"yaxis\":{\"backgroundcolor\":\"#E5ECF6\",\"gridcolor\":\"white\",\"linecolor\":\"white\",\"showbackground\":true,\"ticks\":\"\",\"zerolinecolor\":\"white\",\"gridwidth\":2},\"zaxis\":{\"backgroundcolor\":\"#E5ECF6\",\"gridcolor\":\"white\",\"linecolor\":\"white\",\"showbackground\":true,\"ticks\":\"\",\"zerolinecolor\":\"white\",\"gridwidth\":2}},\"shapedefaults\":{\"line\":{\"color\":\"#2a3f5f\"}},\"annotationdefaults\":{\"arrowcolor\":\"#2a3f5f\",\"arrowhead\":0,\"arrowwidth\":1},\"geo\":{\"bgcolor\":\"white\",\"landcolor\":\"#E5ECF6\",\"subunitcolor\":\"white\",\"showland\":true,\"showlakes\":true,\"lakecolor\":\"white\"},\"title\":{\"x\":0.05},\"mapbox\":{\"style\":\"light\"}}},\"xaxis\":{\"anchor\":\"y\",\"domain\":[0.0,1.0],\"scaleanchor\":\"y\",\"constrain\":\"domain\",\"linecolor\":\"#DCDCDC\"},\"yaxis\":{\"anchor\":\"x\",\"domain\":[0.0,1.0],\"autorange\":\"reversed\",\"constrain\":\"domain\",\"gridcolor\":\"#DCDCDC\",\"title\":{\"text\":\"\"}},\"coloraxis\":{\"colorscale\":[[0.0,\"rgb(253, 253, 204)\"],[0.09090909090909091,\"rgb(206, 236, 179)\"],[0.18181818181818182,\"rgb(156, 219, 165)\"],[0.2727272727272727,\"rgb(111, 201, 163)\"],[0.36363636363636365,\"rgb(86, 177, 163)\"],[0.45454545454545453,\"rgb(76, 153, 160)\"],[0.5454545454545454,\"rgb(68, 130, 155)\"],[0.6363636363636364,\"rgb(62, 108, 150)\"],[0.7272727272727273,\"rgb(62, 82, 143)\"],[0.8181818181818182,\"rgb(64, 60, 115)\"],[0.9090909090909091,\"rgb(54, 43, 77)\"],[1.0,\"rgb(39, 26, 44)\"]],\"showscale\":false},\"margin\":{\"t\":60},\"paper_bgcolor\":\"#F5F5F5\",\"plot_bgcolor\":\"#F5F5F5\"},                        {\"responsive\": true}                    ).then(function(){\n",
       "                            \n",
       "var gd = document.getElementById('58e0366b-275b-48a9-85da-af83cd24dffc');\n",
       "var x = new MutationObserver(function (mutations, observer) {{\n",
       "        var display = window.getComputedStyle(gd).display;\n",
       "        if (!display || display === 'none') {{\n",
       "            console.log([gd, 'removed!']);\n",
       "            Plotly.purge(gd);\n",
       "            observer.disconnect();\n",
       "        }}\n",
       "}});\n",
       "\n",
       "// Listen for the removal of the full notebook cells\n",
       "var notebookContainer = gd.closest('#notebook-container');\n",
       "if (notebookContainer) {{\n",
       "    x.observe(notebookContainer, {childList: true});\n",
       "}}\n",
       "\n",
       "// Listen for the clearing of the current output cell\n",
       "var outputEl = gd.closest('.output');\n",
       "if (outputEl) {{\n",
       "    x.observe(outputEl, {childList: true});\n",
       "}}\n",
       "\n",
       "                        })                };                });            </script>        </div>"
      ]
     },
     "metadata": {},
     "output_type": "display_data"
    }
   ],
   "source": [
    "corr_heatmap(X)"
   ]
  },
  {
   "cell_type": "markdown",
   "id": "ac519379",
   "metadata": {
    "hidden": true
   },
   "source": [
    "- Year and Month when the house was sold - rather not important\n",
    "- YearBuilt, YearRemodAdd, GarageBuilt are strongly correlated - either unite/drop\n",
    "- Add 0-1 whether renovation was held"
   ]
  },
  {
   "cell_type": "markdown",
   "id": "2c76c8de",
   "metadata": {
    "heading_collapsed": true
   },
   "source": [
    "### Luxury and qualities"
   ]
  },
  {
   "cell_type": "code",
   "execution_count": 176,
   "id": "a04eaa91",
   "metadata": {
    "ExecuteTime": {
     "end_time": "2022-11-02T08:30:11.333332Z",
     "start_time": "2022-11-02T08:30:11.314314Z"
    },
    "hidden": true
   },
   "outputs": [],
   "source": [
    "X = data.copy()\n",
    "X = X.loc[:, ['Fireplaces', 'PoolArea', 'MiscVal', 'OverallCond', 'OverallQual',\n",
    "              'SalePrice']]"
   ]
  },
  {
   "cell_type": "code",
   "execution_count": null,
   "id": "862f1d18",
   "metadata": {
    "hidden": true
   },
   "outputs": [],
   "source": [
    "tmp = show_basic_plots(X)\n",
    "for i in tmp['violin_num']: \n",
    "    i.show()\n",
    "del tmp"
   ]
  },
  {
   "cell_type": "code",
   "execution_count": 175,
   "id": "d939f26d",
   "metadata": {
    "ExecuteTime": {
     "end_time": "2022-11-02T08:30:05.870309Z",
     "start_time": "2022-11-02T08:30:05.858292Z"
    },
    "hidden": true
   },
   "outputs": [
    {
     "name": "stdout",
     "output_type": "stream",
     "text": [
      "0.003424657534246575\n",
      "0.0013698630136986301\n",
      "0.00410958904109589\n",
      "0.003424657534246575\n",
      "0.004794520547945206\n"
     ]
    }
   ],
   "source": [
    "print(X.loc[X.Fireplaces > 2].shape[0]/X.shape[0])  # 5\n",
    "print(X.loc[X.MiscVal > 3500].shape[0]/X.shape[0])  # 2\n",
    "print(X.loc[X.OverallCond < 3].shape[0]/X.shape[0]) # 6\n",
    "print(X.loc[X.OverallQual < 3].shape[0]/X.shape[0]) # 5\n",
    "print(X.loc[X.PoolArea > 0].shape[0]/X.shape[0]) # 7"
   ]
  },
  {
   "cell_type": "code",
   "execution_count": 177,
   "id": "addd3da9",
   "metadata": {
    "ExecuteTime": {
     "end_time": "2022-11-02T08:30:13.473354Z",
     "start_time": "2022-11-02T08:30:13.427305Z"
    },
    "hidden": true
   },
   "outputs": [
    {
     "data": {
      "text/html": [
       "<div>                            <div id=\"9e48457c-367c-4e53-ab42-a0b1a19e4ae1\" class=\"plotly-graph-div\" style=\"height:525px; width:100%;\"></div>            <script type=\"text/javascript\">                require([\"plotly\"], function(Plotly) {                    window.PLOTLYENV=window.PLOTLYENV || {};                                    if (document.getElementById(\"9e48457c-367c-4e53-ab42-a0b1a19e4ae1\")) {                    Plotly.newPlot(                        \"9e48457c-367c-4e53-ab42-a0b1a19e4ae1\",                        [{\"coloraxis\":\"coloraxis\",\"name\":\"0\",\"texttemplate\":\"%{z}\",\"x\":[\"Fireplaces\",\"PoolArea\",\"MiscVal\",\"OverallCond\",\"OverallQual\",\"SalePrice\"],\"y\":[\"Fireplaces\",\"PoolArea\",\"MiscVal\",\"OverallCond\",\"OverallQual\",\"SalePrice\"],\"z\":[[1.0,0.095,0.001,-0.024,0.397,0.467],[0.095,1.0,0.03,-0.002,0.065,0.092],[0.001,0.03,1.0,0.069,-0.031,-0.021],[-0.024,-0.002,0.069,1.0,-0.092,-0.078],[0.397,0.065,-0.031,-0.092,1.0,0.791],[0.467,0.092,-0.021,-0.078,0.791,1.0]],\"type\":\"heatmap\",\"xaxis\":\"x\",\"yaxis\":\"y\",\"hovertemplate\":\"x: %{x}<br>y: %{y}<br>color: %{z}<extra></extra>\",\"opacity\":0.8}],                        {\"template\":{\"data\":{\"histogram2dcontour\":[{\"type\":\"histogram2dcontour\",\"colorbar\":{\"outlinewidth\":0,\"ticks\":\"\"},\"colorscale\":[[0.0,\"#0d0887\"],[0.1111111111111111,\"#46039f\"],[0.2222222222222222,\"#7201a8\"],[0.3333333333333333,\"#9c179e\"],[0.4444444444444444,\"#bd3786\"],[0.5555555555555556,\"#d8576b\"],[0.6666666666666666,\"#ed7953\"],[0.7777777777777778,\"#fb9f3a\"],[0.8888888888888888,\"#fdca26\"],[1.0,\"#f0f921\"]]}],\"choropleth\":[{\"type\":\"choropleth\",\"colorbar\":{\"outlinewidth\":0,\"ticks\":\"\"}}],\"histogram2d\":[{\"type\":\"histogram2d\",\"colorbar\":{\"outlinewidth\":0,\"ticks\":\"\"},\"colorscale\":[[0.0,\"#0d0887\"],[0.1111111111111111,\"#46039f\"],[0.2222222222222222,\"#7201a8\"],[0.3333333333333333,\"#9c179e\"],[0.4444444444444444,\"#bd3786\"],[0.5555555555555556,\"#d8576b\"],[0.6666666666666666,\"#ed7953\"],[0.7777777777777778,\"#fb9f3a\"],[0.8888888888888888,\"#fdca26\"],[1.0,\"#f0f921\"]]}],\"heatmap\":[{\"type\":\"heatmap\",\"colorbar\":{\"outlinewidth\":0,\"ticks\":\"\"},\"colorscale\":[[0.0,\"#0d0887\"],[0.1111111111111111,\"#46039f\"],[0.2222222222222222,\"#7201a8\"],[0.3333333333333333,\"#9c179e\"],[0.4444444444444444,\"#bd3786\"],[0.5555555555555556,\"#d8576b\"],[0.6666666666666666,\"#ed7953\"],[0.7777777777777778,\"#fb9f3a\"],[0.8888888888888888,\"#fdca26\"],[1.0,\"#f0f921\"]]}],\"heatmapgl\":[{\"type\":\"heatmapgl\",\"colorbar\":{\"outlinewidth\":0,\"ticks\":\"\"},\"colorscale\":[[0.0,\"#0d0887\"],[0.1111111111111111,\"#46039f\"],[0.2222222222222222,\"#7201a8\"],[0.3333333333333333,\"#9c179e\"],[0.4444444444444444,\"#bd3786\"],[0.5555555555555556,\"#d8576b\"],[0.6666666666666666,\"#ed7953\"],[0.7777777777777778,\"#fb9f3a\"],[0.8888888888888888,\"#fdca26\"],[1.0,\"#f0f921\"]]}],\"contourcarpet\":[{\"type\":\"contourcarpet\",\"colorbar\":{\"outlinewidth\":0,\"ticks\":\"\"}}],\"contour\":[{\"type\":\"contour\",\"colorbar\":{\"outlinewidth\":0,\"ticks\":\"\"},\"colorscale\":[[0.0,\"#0d0887\"],[0.1111111111111111,\"#46039f\"],[0.2222222222222222,\"#7201a8\"],[0.3333333333333333,\"#9c179e\"],[0.4444444444444444,\"#bd3786\"],[0.5555555555555556,\"#d8576b\"],[0.6666666666666666,\"#ed7953\"],[0.7777777777777778,\"#fb9f3a\"],[0.8888888888888888,\"#fdca26\"],[1.0,\"#f0f921\"]]}],\"surface\":[{\"type\":\"surface\",\"colorbar\":{\"outlinewidth\":0,\"ticks\":\"\"},\"colorscale\":[[0.0,\"#0d0887\"],[0.1111111111111111,\"#46039f\"],[0.2222222222222222,\"#7201a8\"],[0.3333333333333333,\"#9c179e\"],[0.4444444444444444,\"#bd3786\"],[0.5555555555555556,\"#d8576b\"],[0.6666666666666666,\"#ed7953\"],[0.7777777777777778,\"#fb9f3a\"],[0.8888888888888888,\"#fdca26\"],[1.0,\"#f0f921\"]]}],\"mesh3d\":[{\"type\":\"mesh3d\",\"colorbar\":{\"outlinewidth\":0,\"ticks\":\"\"}}],\"scatter\":[{\"fillpattern\":{\"fillmode\":\"overlay\",\"size\":10,\"solidity\":0.2},\"type\":\"scatter\"}],\"parcoords\":[{\"type\":\"parcoords\",\"line\":{\"colorbar\":{\"outlinewidth\":0,\"ticks\":\"\"}}}],\"scatterpolargl\":[{\"type\":\"scatterpolargl\",\"marker\":{\"colorbar\":{\"outlinewidth\":0,\"ticks\":\"\"}}}],\"bar\":[{\"error_x\":{\"color\":\"#2a3f5f\"},\"error_y\":{\"color\":\"#2a3f5f\"},\"marker\":{\"line\":{\"color\":\"#E5ECF6\",\"width\":0.5},\"pattern\":{\"fillmode\":\"overlay\",\"size\":10,\"solidity\":0.2}},\"type\":\"bar\"}],\"scattergeo\":[{\"type\":\"scattergeo\",\"marker\":{\"colorbar\":{\"outlinewidth\":0,\"ticks\":\"\"}}}],\"scatterpolar\":[{\"type\":\"scatterpolar\",\"marker\":{\"colorbar\":{\"outlinewidth\":0,\"ticks\":\"\"}}}],\"histogram\":[{\"marker\":{\"pattern\":{\"fillmode\":\"overlay\",\"size\":10,\"solidity\":0.2}},\"type\":\"histogram\"}],\"scattergl\":[{\"type\":\"scattergl\",\"marker\":{\"colorbar\":{\"outlinewidth\":0,\"ticks\":\"\"}}}],\"scatter3d\":[{\"type\":\"scatter3d\",\"line\":{\"colorbar\":{\"outlinewidth\":0,\"ticks\":\"\"}},\"marker\":{\"colorbar\":{\"outlinewidth\":0,\"ticks\":\"\"}}}],\"scattermapbox\":[{\"type\":\"scattermapbox\",\"marker\":{\"colorbar\":{\"outlinewidth\":0,\"ticks\":\"\"}}}],\"scatterternary\":[{\"type\":\"scatterternary\",\"marker\":{\"colorbar\":{\"outlinewidth\":0,\"ticks\":\"\"}}}],\"scattercarpet\":[{\"type\":\"scattercarpet\",\"marker\":{\"colorbar\":{\"outlinewidth\":0,\"ticks\":\"\"}}}],\"carpet\":[{\"aaxis\":{\"endlinecolor\":\"#2a3f5f\",\"gridcolor\":\"white\",\"linecolor\":\"white\",\"minorgridcolor\":\"white\",\"startlinecolor\":\"#2a3f5f\"},\"baxis\":{\"endlinecolor\":\"#2a3f5f\",\"gridcolor\":\"white\",\"linecolor\":\"white\",\"minorgridcolor\":\"white\",\"startlinecolor\":\"#2a3f5f\"},\"type\":\"carpet\"}],\"table\":[{\"cells\":{\"fill\":{\"color\":\"#EBF0F8\"},\"line\":{\"color\":\"white\"}},\"header\":{\"fill\":{\"color\":\"#C8D4E3\"},\"line\":{\"color\":\"white\"}},\"type\":\"table\"}],\"barpolar\":[{\"marker\":{\"line\":{\"color\":\"#E5ECF6\",\"width\":0.5},\"pattern\":{\"fillmode\":\"overlay\",\"size\":10,\"solidity\":0.2}},\"type\":\"barpolar\"}],\"pie\":[{\"automargin\":true,\"type\":\"pie\"}]},\"layout\":{\"autotypenumbers\":\"strict\",\"colorway\":[\"#636efa\",\"#EF553B\",\"#00cc96\",\"#ab63fa\",\"#FFA15A\",\"#19d3f3\",\"#FF6692\",\"#B6E880\",\"#FF97FF\",\"#FECB52\"],\"font\":{\"color\":\"#2a3f5f\"},\"hovermode\":\"closest\",\"hoverlabel\":{\"align\":\"left\"},\"paper_bgcolor\":\"white\",\"plot_bgcolor\":\"#E5ECF6\",\"polar\":{\"bgcolor\":\"#E5ECF6\",\"angularaxis\":{\"gridcolor\":\"white\",\"linecolor\":\"white\",\"ticks\":\"\"},\"radialaxis\":{\"gridcolor\":\"white\",\"linecolor\":\"white\",\"ticks\":\"\"}},\"ternary\":{\"bgcolor\":\"#E5ECF6\",\"aaxis\":{\"gridcolor\":\"white\",\"linecolor\":\"white\",\"ticks\":\"\"},\"baxis\":{\"gridcolor\":\"white\",\"linecolor\":\"white\",\"ticks\":\"\"},\"caxis\":{\"gridcolor\":\"white\",\"linecolor\":\"white\",\"ticks\":\"\"}},\"coloraxis\":{\"colorbar\":{\"outlinewidth\":0,\"ticks\":\"\"}},\"colorscale\":{\"sequential\":[[0.0,\"#0d0887\"],[0.1111111111111111,\"#46039f\"],[0.2222222222222222,\"#7201a8\"],[0.3333333333333333,\"#9c179e\"],[0.4444444444444444,\"#bd3786\"],[0.5555555555555556,\"#d8576b\"],[0.6666666666666666,\"#ed7953\"],[0.7777777777777778,\"#fb9f3a\"],[0.8888888888888888,\"#fdca26\"],[1.0,\"#f0f921\"]],\"sequentialminus\":[[0.0,\"#0d0887\"],[0.1111111111111111,\"#46039f\"],[0.2222222222222222,\"#7201a8\"],[0.3333333333333333,\"#9c179e\"],[0.4444444444444444,\"#bd3786\"],[0.5555555555555556,\"#d8576b\"],[0.6666666666666666,\"#ed7953\"],[0.7777777777777778,\"#fb9f3a\"],[0.8888888888888888,\"#fdca26\"],[1.0,\"#f0f921\"]],\"diverging\":[[0,\"#8e0152\"],[0.1,\"#c51b7d\"],[0.2,\"#de77ae\"],[0.3,\"#f1b6da\"],[0.4,\"#fde0ef\"],[0.5,\"#f7f7f7\"],[0.6,\"#e6f5d0\"],[0.7,\"#b8e186\"],[0.8,\"#7fbc41\"],[0.9,\"#4d9221\"],[1,\"#276419\"]]},\"xaxis\":{\"gridcolor\":\"white\",\"linecolor\":\"white\",\"ticks\":\"\",\"title\":{\"standoff\":15},\"zerolinecolor\":\"white\",\"automargin\":true,\"zerolinewidth\":2},\"yaxis\":{\"gridcolor\":\"white\",\"linecolor\":\"white\",\"ticks\":\"\",\"title\":{\"standoff\":15},\"zerolinecolor\":\"white\",\"automargin\":true,\"zerolinewidth\":2},\"scene\":{\"xaxis\":{\"backgroundcolor\":\"#E5ECF6\",\"gridcolor\":\"white\",\"linecolor\":\"white\",\"showbackground\":true,\"ticks\":\"\",\"zerolinecolor\":\"white\",\"gridwidth\":2},\"yaxis\":{\"backgroundcolor\":\"#E5ECF6\",\"gridcolor\":\"white\",\"linecolor\":\"white\",\"showbackground\":true,\"ticks\":\"\",\"zerolinecolor\":\"white\",\"gridwidth\":2},\"zaxis\":{\"backgroundcolor\":\"#E5ECF6\",\"gridcolor\":\"white\",\"linecolor\":\"white\",\"showbackground\":true,\"ticks\":\"\",\"zerolinecolor\":\"white\",\"gridwidth\":2}},\"shapedefaults\":{\"line\":{\"color\":\"#2a3f5f\"}},\"annotationdefaults\":{\"arrowcolor\":\"#2a3f5f\",\"arrowhead\":0,\"arrowwidth\":1},\"geo\":{\"bgcolor\":\"white\",\"landcolor\":\"#E5ECF6\",\"subunitcolor\":\"white\",\"showland\":true,\"showlakes\":true,\"lakecolor\":\"white\"},\"title\":{\"x\":0.05},\"mapbox\":{\"style\":\"light\"}}},\"xaxis\":{\"anchor\":\"y\",\"domain\":[0.0,1.0],\"scaleanchor\":\"y\",\"constrain\":\"domain\",\"linecolor\":\"#DCDCDC\"},\"yaxis\":{\"anchor\":\"x\",\"domain\":[0.0,1.0],\"autorange\":\"reversed\",\"constrain\":\"domain\",\"gridcolor\":\"#DCDCDC\",\"title\":{\"text\":\"\"}},\"coloraxis\":{\"colorscale\":[[0.0,\"rgb(253, 253, 204)\"],[0.09090909090909091,\"rgb(206, 236, 179)\"],[0.18181818181818182,\"rgb(156, 219, 165)\"],[0.2727272727272727,\"rgb(111, 201, 163)\"],[0.36363636363636365,\"rgb(86, 177, 163)\"],[0.45454545454545453,\"rgb(76, 153, 160)\"],[0.5454545454545454,\"rgb(68, 130, 155)\"],[0.6363636363636364,\"rgb(62, 108, 150)\"],[0.7272727272727273,\"rgb(62, 82, 143)\"],[0.8181818181818182,\"rgb(64, 60, 115)\"],[0.9090909090909091,\"rgb(54, 43, 77)\"],[1.0,\"rgb(39, 26, 44)\"]],\"showscale\":false},\"margin\":{\"t\":60},\"paper_bgcolor\":\"#F5F5F5\",\"plot_bgcolor\":\"#F5F5F5\"},                        {\"responsive\": true}                    ).then(function(){\n",
       "                            \n",
       "var gd = document.getElementById('9e48457c-367c-4e53-ab42-a0b1a19e4ae1');\n",
       "var x = new MutationObserver(function (mutations, observer) {{\n",
       "        var display = window.getComputedStyle(gd).display;\n",
       "        if (!display || display === 'none') {{\n",
       "            console.log([gd, 'removed!']);\n",
       "            Plotly.purge(gd);\n",
       "            observer.disconnect();\n",
       "        }}\n",
       "}});\n",
       "\n",
       "// Listen for the removal of the full notebook cells\n",
       "var notebookContainer = gd.closest('#notebook-container');\n",
       "if (notebookContainer) {{\n",
       "    x.observe(notebookContainer, {childList: true});\n",
       "}}\n",
       "\n",
       "// Listen for the clearing of the current output cell\n",
       "var outputEl = gd.closest('.output');\n",
       "if (outputEl) {{\n",
       "    x.observe(outputEl, {childList: true});\n",
       "}}\n",
       "\n",
       "                        })                };                });            </script>        </div>"
      ]
     },
     "metadata": {},
     "output_type": "display_data"
    }
   ],
   "source": [
    "corr_heatmap(X)"
   ]
  },
  {
   "cell_type": "code",
   "execution_count": null,
   "id": "dfed54b5",
   "metadata": {
    "hidden": true
   },
   "outputs": [],
   "source": [
    "X.].shape[0]/X.shape[0])  # 5\n",
    "print(X.loc[X. > 3500].shape[0]/X.shape[0])  # 2\n",
    "print(X.loc[X. < 3].shape[0]/X.shape[0]) # 6\n",
    "print(X.loc[X. < 3].shape[0]/X.shape[0]) # 5\n",
    "print(X.loc[X.PoolArea > 0].shape[0]/X.shape[0]) # 7"
   ]
  },
  {
   "cell_type": "code",
   "execution_count": 178,
   "id": "5f022fe2",
   "metadata": {
    "ExecuteTime": {
     "end_time": "2022-11-02T08:32:22.561282Z",
     "start_time": "2022-11-02T08:32:22.523183Z"
    },
    "hidden": true,
    "scrolled": true
   },
   "outputs": [
    {
     "data": {
      "text/html": [
       "<div>                            <div id=\"fb6e3c86-a335-47e4-8570-ab513590418a\" class=\"plotly-graph-div\" style=\"height:525px; width:100%;\"></div>            <script type=\"text/javascript\">                require([\"plotly\"], function(Plotly) {                    window.PLOTLYENV=window.PLOTLYENV || {};                                    if (document.getElementById(\"fb6e3c86-a335-47e4-8570-ab513590418a\")) {                    Plotly.newPlot(                        \"fb6e3c86-a335-47e4-8570-ab513590418a\",                        [{\"coloraxis\":\"coloraxis\",\"name\":\"0\",\"texttemplate\":\"%{z}\",\"x\":[\"Fireplaces\",\"PoolArea\",\"MiscVal\",\"OverallCond\",\"OverallQual\",\"SalePrice\"],\"y\":[\"Fireplaces\",\"PoolArea\",\"MiscVal\",\"OverallCond\",\"OverallQual\",\"SalePrice\"],\"z\":[[1.0,0.071,0.043,-0.037,0.391,0.466],[0.071,1.0,0.09,0.001,0.045,0.1],[0.043,0.09,1.0,0.079,-0.054,-0.037],[-0.037,0.001,0.079,1.0,-0.138,-0.101],[0.391,0.045,-0.054,-0.138,1.0,0.792],[0.466,0.1,-0.037,-0.101,0.792,1.0]],\"type\":\"heatmap\",\"xaxis\":\"x\",\"yaxis\":\"y\",\"hovertemplate\":\"x: %{x}<br>y: %{y}<br>color: %{z}<extra></extra>\",\"opacity\":0.8}],                        {\"template\":{\"data\":{\"histogram2dcontour\":[{\"type\":\"histogram2dcontour\",\"colorbar\":{\"outlinewidth\":0,\"ticks\":\"\"},\"colorscale\":[[0.0,\"#0d0887\"],[0.1111111111111111,\"#46039f\"],[0.2222222222222222,\"#7201a8\"],[0.3333333333333333,\"#9c179e\"],[0.4444444444444444,\"#bd3786\"],[0.5555555555555556,\"#d8576b\"],[0.6666666666666666,\"#ed7953\"],[0.7777777777777778,\"#fb9f3a\"],[0.8888888888888888,\"#fdca26\"],[1.0,\"#f0f921\"]]}],\"choropleth\":[{\"type\":\"choropleth\",\"colorbar\":{\"outlinewidth\":0,\"ticks\":\"\"}}],\"histogram2d\":[{\"type\":\"histogram2d\",\"colorbar\":{\"outlinewidth\":0,\"ticks\":\"\"},\"colorscale\":[[0.0,\"#0d0887\"],[0.1111111111111111,\"#46039f\"],[0.2222222222222222,\"#7201a8\"],[0.3333333333333333,\"#9c179e\"],[0.4444444444444444,\"#bd3786\"],[0.5555555555555556,\"#d8576b\"],[0.6666666666666666,\"#ed7953\"],[0.7777777777777778,\"#fb9f3a\"],[0.8888888888888888,\"#fdca26\"],[1.0,\"#f0f921\"]]}],\"heatmap\":[{\"type\":\"heatmap\",\"colorbar\":{\"outlinewidth\":0,\"ticks\":\"\"},\"colorscale\":[[0.0,\"#0d0887\"],[0.1111111111111111,\"#46039f\"],[0.2222222222222222,\"#7201a8\"],[0.3333333333333333,\"#9c179e\"],[0.4444444444444444,\"#bd3786\"],[0.5555555555555556,\"#d8576b\"],[0.6666666666666666,\"#ed7953\"],[0.7777777777777778,\"#fb9f3a\"],[0.8888888888888888,\"#fdca26\"],[1.0,\"#f0f921\"]]}],\"heatmapgl\":[{\"type\":\"heatmapgl\",\"colorbar\":{\"outlinewidth\":0,\"ticks\":\"\"},\"colorscale\":[[0.0,\"#0d0887\"],[0.1111111111111111,\"#46039f\"],[0.2222222222222222,\"#7201a8\"],[0.3333333333333333,\"#9c179e\"],[0.4444444444444444,\"#bd3786\"],[0.5555555555555556,\"#d8576b\"],[0.6666666666666666,\"#ed7953\"],[0.7777777777777778,\"#fb9f3a\"],[0.8888888888888888,\"#fdca26\"],[1.0,\"#f0f921\"]]}],\"contourcarpet\":[{\"type\":\"contourcarpet\",\"colorbar\":{\"outlinewidth\":0,\"ticks\":\"\"}}],\"contour\":[{\"type\":\"contour\",\"colorbar\":{\"outlinewidth\":0,\"ticks\":\"\"},\"colorscale\":[[0.0,\"#0d0887\"],[0.1111111111111111,\"#46039f\"],[0.2222222222222222,\"#7201a8\"],[0.3333333333333333,\"#9c179e\"],[0.4444444444444444,\"#bd3786\"],[0.5555555555555556,\"#d8576b\"],[0.6666666666666666,\"#ed7953\"],[0.7777777777777778,\"#fb9f3a\"],[0.8888888888888888,\"#fdca26\"],[1.0,\"#f0f921\"]]}],\"surface\":[{\"type\":\"surface\",\"colorbar\":{\"outlinewidth\":0,\"ticks\":\"\"},\"colorscale\":[[0.0,\"#0d0887\"],[0.1111111111111111,\"#46039f\"],[0.2222222222222222,\"#7201a8\"],[0.3333333333333333,\"#9c179e\"],[0.4444444444444444,\"#bd3786\"],[0.5555555555555556,\"#d8576b\"],[0.6666666666666666,\"#ed7953\"],[0.7777777777777778,\"#fb9f3a\"],[0.8888888888888888,\"#fdca26\"],[1.0,\"#f0f921\"]]}],\"mesh3d\":[{\"type\":\"mesh3d\",\"colorbar\":{\"outlinewidth\":0,\"ticks\":\"\"}}],\"scatter\":[{\"fillpattern\":{\"fillmode\":\"overlay\",\"size\":10,\"solidity\":0.2},\"type\":\"scatter\"}],\"parcoords\":[{\"type\":\"parcoords\",\"line\":{\"colorbar\":{\"outlinewidth\":0,\"ticks\":\"\"}}}],\"scatterpolargl\":[{\"type\":\"scatterpolargl\",\"marker\":{\"colorbar\":{\"outlinewidth\":0,\"ticks\":\"\"}}}],\"bar\":[{\"error_x\":{\"color\":\"#2a3f5f\"},\"error_y\":{\"color\":\"#2a3f5f\"},\"marker\":{\"line\":{\"color\":\"#E5ECF6\",\"width\":0.5},\"pattern\":{\"fillmode\":\"overlay\",\"size\":10,\"solidity\":0.2}},\"type\":\"bar\"}],\"scattergeo\":[{\"type\":\"scattergeo\",\"marker\":{\"colorbar\":{\"outlinewidth\":0,\"ticks\":\"\"}}}],\"scatterpolar\":[{\"type\":\"scatterpolar\",\"marker\":{\"colorbar\":{\"outlinewidth\":0,\"ticks\":\"\"}}}],\"histogram\":[{\"marker\":{\"pattern\":{\"fillmode\":\"overlay\",\"size\":10,\"solidity\":0.2}},\"type\":\"histogram\"}],\"scattergl\":[{\"type\":\"scattergl\",\"marker\":{\"colorbar\":{\"outlinewidth\":0,\"ticks\":\"\"}}}],\"scatter3d\":[{\"type\":\"scatter3d\",\"line\":{\"colorbar\":{\"outlinewidth\":0,\"ticks\":\"\"}},\"marker\":{\"colorbar\":{\"outlinewidth\":0,\"ticks\":\"\"}}}],\"scattermapbox\":[{\"type\":\"scattermapbox\",\"marker\":{\"colorbar\":{\"outlinewidth\":0,\"ticks\":\"\"}}}],\"scatterternary\":[{\"type\":\"scatterternary\",\"marker\":{\"colorbar\":{\"outlinewidth\":0,\"ticks\":\"\"}}}],\"scattercarpet\":[{\"type\":\"scattercarpet\",\"marker\":{\"colorbar\":{\"outlinewidth\":0,\"ticks\":\"\"}}}],\"carpet\":[{\"aaxis\":{\"endlinecolor\":\"#2a3f5f\",\"gridcolor\":\"white\",\"linecolor\":\"white\",\"minorgridcolor\":\"white\",\"startlinecolor\":\"#2a3f5f\"},\"baxis\":{\"endlinecolor\":\"#2a3f5f\",\"gridcolor\":\"white\",\"linecolor\":\"white\",\"minorgridcolor\":\"white\",\"startlinecolor\":\"#2a3f5f\"},\"type\":\"carpet\"}],\"table\":[{\"cells\":{\"fill\":{\"color\":\"#EBF0F8\"},\"line\":{\"color\":\"white\"}},\"header\":{\"fill\":{\"color\":\"#C8D4E3\"},\"line\":{\"color\":\"white\"}},\"type\":\"table\"}],\"barpolar\":[{\"marker\":{\"line\":{\"color\":\"#E5ECF6\",\"width\":0.5},\"pattern\":{\"fillmode\":\"overlay\",\"size\":10,\"solidity\":0.2}},\"type\":\"barpolar\"}],\"pie\":[{\"automargin\":true,\"type\":\"pie\"}]},\"layout\":{\"autotypenumbers\":\"strict\",\"colorway\":[\"#636efa\",\"#EF553B\",\"#00cc96\",\"#ab63fa\",\"#FFA15A\",\"#19d3f3\",\"#FF6692\",\"#B6E880\",\"#FF97FF\",\"#FECB52\"],\"font\":{\"color\":\"#2a3f5f\"},\"hovermode\":\"closest\",\"hoverlabel\":{\"align\":\"left\"},\"paper_bgcolor\":\"white\",\"plot_bgcolor\":\"#E5ECF6\",\"polar\":{\"bgcolor\":\"#E5ECF6\",\"angularaxis\":{\"gridcolor\":\"white\",\"linecolor\":\"white\",\"ticks\":\"\"},\"radialaxis\":{\"gridcolor\":\"white\",\"linecolor\":\"white\",\"ticks\":\"\"}},\"ternary\":{\"bgcolor\":\"#E5ECF6\",\"aaxis\":{\"gridcolor\":\"white\",\"linecolor\":\"white\",\"ticks\":\"\"},\"baxis\":{\"gridcolor\":\"white\",\"linecolor\":\"white\",\"ticks\":\"\"},\"caxis\":{\"gridcolor\":\"white\",\"linecolor\":\"white\",\"ticks\":\"\"}},\"coloraxis\":{\"colorbar\":{\"outlinewidth\":0,\"ticks\":\"\"}},\"colorscale\":{\"sequential\":[[0.0,\"#0d0887\"],[0.1111111111111111,\"#46039f\"],[0.2222222222222222,\"#7201a8\"],[0.3333333333333333,\"#9c179e\"],[0.4444444444444444,\"#bd3786\"],[0.5555555555555556,\"#d8576b\"],[0.6666666666666666,\"#ed7953\"],[0.7777777777777778,\"#fb9f3a\"],[0.8888888888888888,\"#fdca26\"],[1.0,\"#f0f921\"]],\"sequentialminus\":[[0.0,\"#0d0887\"],[0.1111111111111111,\"#46039f\"],[0.2222222222222222,\"#7201a8\"],[0.3333333333333333,\"#9c179e\"],[0.4444444444444444,\"#bd3786\"],[0.5555555555555556,\"#d8576b\"],[0.6666666666666666,\"#ed7953\"],[0.7777777777777778,\"#fb9f3a\"],[0.8888888888888888,\"#fdca26\"],[1.0,\"#f0f921\"]],\"diverging\":[[0,\"#8e0152\"],[0.1,\"#c51b7d\"],[0.2,\"#de77ae\"],[0.3,\"#f1b6da\"],[0.4,\"#fde0ef\"],[0.5,\"#f7f7f7\"],[0.6,\"#e6f5d0\"],[0.7,\"#b8e186\"],[0.8,\"#7fbc41\"],[0.9,\"#4d9221\"],[1,\"#276419\"]]},\"xaxis\":{\"gridcolor\":\"white\",\"linecolor\":\"white\",\"ticks\":\"\",\"title\":{\"standoff\":15},\"zerolinecolor\":\"white\",\"automargin\":true,\"zerolinewidth\":2},\"yaxis\":{\"gridcolor\":\"white\",\"linecolor\":\"white\",\"ticks\":\"\",\"title\":{\"standoff\":15},\"zerolinecolor\":\"white\",\"automargin\":true,\"zerolinewidth\":2},\"scene\":{\"xaxis\":{\"backgroundcolor\":\"#E5ECF6\",\"gridcolor\":\"white\",\"linecolor\":\"white\",\"showbackground\":true,\"ticks\":\"\",\"zerolinecolor\":\"white\",\"gridwidth\":2},\"yaxis\":{\"backgroundcolor\":\"#E5ECF6\",\"gridcolor\":\"white\",\"linecolor\":\"white\",\"showbackground\":true,\"ticks\":\"\",\"zerolinecolor\":\"white\",\"gridwidth\":2},\"zaxis\":{\"backgroundcolor\":\"#E5ECF6\",\"gridcolor\":\"white\",\"linecolor\":\"white\",\"showbackground\":true,\"ticks\":\"\",\"zerolinecolor\":\"white\",\"gridwidth\":2}},\"shapedefaults\":{\"line\":{\"color\":\"#2a3f5f\"}},\"annotationdefaults\":{\"arrowcolor\":\"#2a3f5f\",\"arrowhead\":0,\"arrowwidth\":1},\"geo\":{\"bgcolor\":\"white\",\"landcolor\":\"#E5ECF6\",\"subunitcolor\":\"white\",\"showland\":true,\"showlakes\":true,\"lakecolor\":\"white\"},\"title\":{\"x\":0.05},\"mapbox\":{\"style\":\"light\"}}},\"xaxis\":{\"anchor\":\"y\",\"domain\":[0.0,1.0],\"scaleanchor\":\"y\",\"constrain\":\"domain\",\"linecolor\":\"#DCDCDC\"},\"yaxis\":{\"anchor\":\"x\",\"domain\":[0.0,1.0],\"autorange\":\"reversed\",\"constrain\":\"domain\",\"gridcolor\":\"#DCDCDC\",\"title\":{\"text\":\"\"}},\"coloraxis\":{\"colorscale\":[[0.0,\"rgb(253, 253, 204)\"],[0.09090909090909091,\"rgb(206, 236, 179)\"],[0.18181818181818182,\"rgb(156, 219, 165)\"],[0.2727272727272727,\"rgb(111, 201, 163)\"],[0.36363636363636365,\"rgb(86, 177, 163)\"],[0.45454545454545453,\"rgb(76, 153, 160)\"],[0.5454545454545454,\"rgb(68, 130, 155)\"],[0.6363636363636364,\"rgb(62, 108, 150)\"],[0.7272727272727273,\"rgb(62, 82, 143)\"],[0.8181818181818182,\"rgb(64, 60, 115)\"],[0.9090909090909091,\"rgb(54, 43, 77)\"],[1.0,\"rgb(39, 26, 44)\"]],\"showscale\":false},\"margin\":{\"t\":60},\"paper_bgcolor\":\"#F5F5F5\",\"plot_bgcolor\":\"#F5F5F5\"},                        {\"responsive\": true}                    ).then(function(){\n",
       "                            \n",
       "var gd = document.getElementById('fb6e3c86-a335-47e4-8570-ab513590418a');\n",
       "var x = new MutationObserver(function (mutations, observer) {{\n",
       "        var display = window.getComputedStyle(gd).display;\n",
       "        if (!display || display === 'none') {{\n",
       "            console.log([gd, 'removed!']);\n",
       "            Plotly.purge(gd);\n",
       "            observer.disconnect();\n",
       "        }}\n",
       "}});\n",
       "\n",
       "// Listen for the removal of the full notebook cells\n",
       "var notebookContainer = gd.closest('#notebook-container');\n",
       "if (notebookContainer) {{\n",
       "    x.observe(notebookContainer, {childList: true});\n",
       "}}\n",
       "\n",
       "// Listen for the clearing of the current output cell\n",
       "var outputEl = gd.closest('.output');\n",
       "if (outputEl) {{\n",
       "    x.observe(outputEl, {childList: true});\n",
       "}}\n",
       "\n",
       "                        })                };                });            </script>        </div>"
      ]
     },
     "metadata": {},
     "output_type": "display_data"
    }
   ],
   "source": [
    "corr_heatmap(\n",
    "    X.query(\n",
    "        'Fireplaces <= 2 & MiscVal <= 3500 & OverallCond >=3 & OverallQual >= 3'\n",
    "    )\n",
    ")"
   ]
  },
  {
   "cell_type": "markdown",
   "id": "ac662140",
   "metadata": {
    "hidden": true
   },
   "source": [
    "- Only Fireplaces and OverallQual are important ones"
   ]
  },
  {
   "cell_type": "markdown",
   "id": "6941de49",
   "metadata": {},
   "source": [
    "### Overview"
   ]
  },
  {
   "cell_type": "markdown",
   "id": "c2c120ec",
   "metadata": {},
   "source": [
    "- keep **HalfBath**, **TotRmsAbvGrd**, **YearBuilt**(or new from PCA or LastYearBuilt), **Fireplaces**, **OverallQual**, **GrLivArea**(or new from PCA, or also MasVnrArea, TotalBsmtSF, GarageArea, LotFrontage, LotArea)\n",
    "- create new vars: PorchSF(num), PorchType(cat), WasRennovation(0-1), BsmtFinProp(float, [0, 1]), FloorAreaProp(float, [0,1]) - aka 2ndfloor/1srfloor; the same for porch prop, garage prop, MasVnrArea etc.\n",
    "- continue exploration after PCA"
   ]
  },
  {
   "cell_type": "markdown",
   "id": "298f231c",
   "metadata": {},
   "source": [
    "## Categorical"
   ]
  },
  {
   "cell_type": "code",
   "execution_count": 295,
   "id": "127bee2f",
   "metadata": {
    "ExecuteTime": {
     "end_time": "2022-11-02T11:02:58.769480Z",
     "start_time": "2022-11-02T11:02:58.757409Z"
    },
    "code_folding": [
     0,
     5
    ]
   },
   "outputs": [],
   "source": [
    "def show_violin(df):\n",
    "    plts = show_basic_plots(df)\n",
    "    for i in plts['violin_mix']: \n",
    "        i.show()\n",
    "        \n",
    "def show_dummy_corr(df):\n",
    "    corr_heatmap(\n",
    "        pd.get_dummies(\n",
    "            df,\n",
    "            columns=tmp_cols_to_dummy,\n",
    "            prefix=tmp_cols_to_dummy\n",
    "        )\n",
    "    ).show()"
   ]
  },
  {
   "cell_type": "markdown",
   "id": "084a3e6f",
   "metadata": {
    "heading_collapsed": true
   },
   "source": [
    "### House placement"
   ]
  },
  {
   "cell_type": "code",
   "execution_count": 188,
   "id": "1b4591bc",
   "metadata": {
    "ExecuteTime": {
     "end_time": "2022-11-02T08:56:33.797917Z",
     "start_time": "2022-11-02T08:56:33.779866Z"
    },
    "hidden": true
   },
   "outputs": [],
   "source": [
    "cols_to_dummy = ['MSZoning', 'Neighborhood', 'Condition1', 'Condition2']\n",
    "X = data.copy()\n",
    "X = X.loc[:, cols_to_dummy+['SalePrice']]"
   ]
  },
  {
   "cell_type": "code",
   "execution_count": 261,
   "id": "8807fb10",
   "metadata": {
    "ExecuteTime": {
     "end_time": "2022-11-02T10:27:38.805670Z",
     "start_time": "2022-11-02T10:27:37.382085Z"
    },
    "hidden": true
   },
   "outputs": [],
   "source": [
    "tmp = show_basic_plots(X)\n",
    "for i in tmp['dist_cat']: \n",
    "    i.show()\n",
    "del tmp"
   ]
  },
  {
   "cell_type": "code",
   "execution_count": 262,
   "id": "3b59f26e",
   "metadata": {
    "ExecuteTime": {
     "end_time": "2022-11-02T10:27:47.808054Z",
     "start_time": "2022-11-02T10:27:46.355408Z"
    },
    "hidden": true
   },
   "outputs": [],
   "source": [
    "tmp = show_basic_plots(X)\n",
    "for i in tmp['violin_mix']: \n",
    "    i.show()\n",
    "del tmp"
   ]
  },
  {
   "cell_type": "markdown",
   "id": "2eb12ea1",
   "metadata": {
    "heading_collapsed": true,
    "hidden": true
   },
   "source": [
    "#### MSZoning"
   ]
  },
  {
   "cell_type": "code",
   "execution_count": 193,
   "id": "7c9f3d0b",
   "metadata": {
    "ExecuteTime": {
     "end_time": "2022-11-02T09:01:17.367423Z",
     "start_time": "2022-11-02T09:01:17.316363Z"
    },
    "hidden": true
   },
   "outputs": [
    {
     "data": {
      "text/html": [
       "<div>                            <div id=\"08be93f6-61ba-4c22-b309-5fdc65b90989\" class=\"plotly-graph-div\" style=\"height:525px; width:100%;\"></div>            <script type=\"text/javascript\">                require([\"plotly\"], function(Plotly) {                    window.PLOTLYENV=window.PLOTLYENV || {};                                    if (document.getElementById(\"08be93f6-61ba-4c22-b309-5fdc65b90989\")) {                    Plotly.newPlot(                        \"08be93f6-61ba-4c22-b309-5fdc65b90989\",                        [{\"coloraxis\":\"coloraxis\",\"name\":\"0\",\"texttemplate\":\"%{z}\",\"x\":[\"SalePrice\",\"MSZoning_C (all)\",\"MSZoning_FV\",\"MSZoning_RH\",\"MSZoning_RL\",\"MSZoning_RM\"],\"y\":[\"SalePrice\",\"MSZoning_C (all)\",\"MSZoning_FV\",\"MSZoning_RH\",\"MSZoning_RL\",\"MSZoning_RM\"],\"z\":[[1.0,-0.111,0.09,-0.065,0.245,-0.288],[-0.111,1.0,-0.018,-0.009,-0.16,-0.035],[0.09,-0.018,1.0,-0.023,-0.417,-0.09],[-0.065,-0.009,-0.023,1.0,-0.203,-0.044],[0.245,-0.16,-0.417,-0.203,1.0,-0.809],[-0.288,-0.035,-0.09,-0.044,-0.809,1.0]],\"type\":\"heatmap\",\"xaxis\":\"x\",\"yaxis\":\"y\",\"hovertemplate\":\"x: %{x}<br>y: %{y}<br>color: %{z}<extra></extra>\",\"opacity\":0.8}],                        {\"template\":{\"data\":{\"histogram2dcontour\":[{\"type\":\"histogram2dcontour\",\"colorbar\":{\"outlinewidth\":0,\"ticks\":\"\"},\"colorscale\":[[0.0,\"#0d0887\"],[0.1111111111111111,\"#46039f\"],[0.2222222222222222,\"#7201a8\"],[0.3333333333333333,\"#9c179e\"],[0.4444444444444444,\"#bd3786\"],[0.5555555555555556,\"#d8576b\"],[0.6666666666666666,\"#ed7953\"],[0.7777777777777778,\"#fb9f3a\"],[0.8888888888888888,\"#fdca26\"],[1.0,\"#f0f921\"]]}],\"choropleth\":[{\"type\":\"choropleth\",\"colorbar\":{\"outlinewidth\":0,\"ticks\":\"\"}}],\"histogram2d\":[{\"type\":\"histogram2d\",\"colorbar\":{\"outlinewidth\":0,\"ticks\":\"\"},\"colorscale\":[[0.0,\"#0d0887\"],[0.1111111111111111,\"#46039f\"],[0.2222222222222222,\"#7201a8\"],[0.3333333333333333,\"#9c179e\"],[0.4444444444444444,\"#bd3786\"],[0.5555555555555556,\"#d8576b\"],[0.6666666666666666,\"#ed7953\"],[0.7777777777777778,\"#fb9f3a\"],[0.8888888888888888,\"#fdca26\"],[1.0,\"#f0f921\"]]}],\"heatmap\":[{\"type\":\"heatmap\",\"colorbar\":{\"outlinewidth\":0,\"ticks\":\"\"},\"colorscale\":[[0.0,\"#0d0887\"],[0.1111111111111111,\"#46039f\"],[0.2222222222222222,\"#7201a8\"],[0.3333333333333333,\"#9c179e\"],[0.4444444444444444,\"#bd3786\"],[0.5555555555555556,\"#d8576b\"],[0.6666666666666666,\"#ed7953\"],[0.7777777777777778,\"#fb9f3a\"],[0.8888888888888888,\"#fdca26\"],[1.0,\"#f0f921\"]]}],\"heatmapgl\":[{\"type\":\"heatmapgl\",\"colorbar\":{\"outlinewidth\":0,\"ticks\":\"\"},\"colorscale\":[[0.0,\"#0d0887\"],[0.1111111111111111,\"#46039f\"],[0.2222222222222222,\"#7201a8\"],[0.3333333333333333,\"#9c179e\"],[0.4444444444444444,\"#bd3786\"],[0.5555555555555556,\"#d8576b\"],[0.6666666666666666,\"#ed7953\"],[0.7777777777777778,\"#fb9f3a\"],[0.8888888888888888,\"#fdca26\"],[1.0,\"#f0f921\"]]}],\"contourcarpet\":[{\"type\":\"contourcarpet\",\"colorbar\":{\"outlinewidth\":0,\"ticks\":\"\"}}],\"contour\":[{\"type\":\"contour\",\"colorbar\":{\"outlinewidth\":0,\"ticks\":\"\"},\"colorscale\":[[0.0,\"#0d0887\"],[0.1111111111111111,\"#46039f\"],[0.2222222222222222,\"#7201a8\"],[0.3333333333333333,\"#9c179e\"],[0.4444444444444444,\"#bd3786\"],[0.5555555555555556,\"#d8576b\"],[0.6666666666666666,\"#ed7953\"],[0.7777777777777778,\"#fb9f3a\"],[0.8888888888888888,\"#fdca26\"],[1.0,\"#f0f921\"]]}],\"surface\":[{\"type\":\"surface\",\"colorbar\":{\"outlinewidth\":0,\"ticks\":\"\"},\"colorscale\":[[0.0,\"#0d0887\"],[0.1111111111111111,\"#46039f\"],[0.2222222222222222,\"#7201a8\"],[0.3333333333333333,\"#9c179e\"],[0.4444444444444444,\"#bd3786\"],[0.5555555555555556,\"#d8576b\"],[0.6666666666666666,\"#ed7953\"],[0.7777777777777778,\"#fb9f3a\"],[0.8888888888888888,\"#fdca26\"],[1.0,\"#f0f921\"]]}],\"mesh3d\":[{\"type\":\"mesh3d\",\"colorbar\":{\"outlinewidth\":0,\"ticks\":\"\"}}],\"scatter\":[{\"fillpattern\":{\"fillmode\":\"overlay\",\"size\":10,\"solidity\":0.2},\"type\":\"scatter\"}],\"parcoords\":[{\"type\":\"parcoords\",\"line\":{\"colorbar\":{\"outlinewidth\":0,\"ticks\":\"\"}}}],\"scatterpolargl\":[{\"type\":\"scatterpolargl\",\"marker\":{\"colorbar\":{\"outlinewidth\":0,\"ticks\":\"\"}}}],\"bar\":[{\"error_x\":{\"color\":\"#2a3f5f\"},\"error_y\":{\"color\":\"#2a3f5f\"},\"marker\":{\"line\":{\"color\":\"#E5ECF6\",\"width\":0.5},\"pattern\":{\"fillmode\":\"overlay\",\"size\":10,\"solidity\":0.2}},\"type\":\"bar\"}],\"scattergeo\":[{\"type\":\"scattergeo\",\"marker\":{\"colorbar\":{\"outlinewidth\":0,\"ticks\":\"\"}}}],\"scatterpolar\":[{\"type\":\"scatterpolar\",\"marker\":{\"colorbar\":{\"outlinewidth\":0,\"ticks\":\"\"}}}],\"histogram\":[{\"marker\":{\"pattern\":{\"fillmode\":\"overlay\",\"size\":10,\"solidity\":0.2}},\"type\":\"histogram\"}],\"scattergl\":[{\"type\":\"scattergl\",\"marker\":{\"colorbar\":{\"outlinewidth\":0,\"ticks\":\"\"}}}],\"scatter3d\":[{\"type\":\"scatter3d\",\"line\":{\"colorbar\":{\"outlinewidth\":0,\"ticks\":\"\"}},\"marker\":{\"colorbar\":{\"outlinewidth\":0,\"ticks\":\"\"}}}],\"scattermapbox\":[{\"type\":\"scattermapbox\",\"marker\":{\"colorbar\":{\"outlinewidth\":0,\"ticks\":\"\"}}}],\"scatterternary\":[{\"type\":\"scatterternary\",\"marker\":{\"colorbar\":{\"outlinewidth\":0,\"ticks\":\"\"}}}],\"scattercarpet\":[{\"type\":\"scattercarpet\",\"marker\":{\"colorbar\":{\"outlinewidth\":0,\"ticks\":\"\"}}}],\"carpet\":[{\"aaxis\":{\"endlinecolor\":\"#2a3f5f\",\"gridcolor\":\"white\",\"linecolor\":\"white\",\"minorgridcolor\":\"white\",\"startlinecolor\":\"#2a3f5f\"},\"baxis\":{\"endlinecolor\":\"#2a3f5f\",\"gridcolor\":\"white\",\"linecolor\":\"white\",\"minorgridcolor\":\"white\",\"startlinecolor\":\"#2a3f5f\"},\"type\":\"carpet\"}],\"table\":[{\"cells\":{\"fill\":{\"color\":\"#EBF0F8\"},\"line\":{\"color\":\"white\"}},\"header\":{\"fill\":{\"color\":\"#C8D4E3\"},\"line\":{\"color\":\"white\"}},\"type\":\"table\"}],\"barpolar\":[{\"marker\":{\"line\":{\"color\":\"#E5ECF6\",\"width\":0.5},\"pattern\":{\"fillmode\":\"overlay\",\"size\":10,\"solidity\":0.2}},\"type\":\"barpolar\"}],\"pie\":[{\"automargin\":true,\"type\":\"pie\"}]},\"layout\":{\"autotypenumbers\":\"strict\",\"colorway\":[\"#636efa\",\"#EF553B\",\"#00cc96\",\"#ab63fa\",\"#FFA15A\",\"#19d3f3\",\"#FF6692\",\"#B6E880\",\"#FF97FF\",\"#FECB52\"],\"font\":{\"color\":\"#2a3f5f\"},\"hovermode\":\"closest\",\"hoverlabel\":{\"align\":\"left\"},\"paper_bgcolor\":\"white\",\"plot_bgcolor\":\"#E5ECF6\",\"polar\":{\"bgcolor\":\"#E5ECF6\",\"angularaxis\":{\"gridcolor\":\"white\",\"linecolor\":\"white\",\"ticks\":\"\"},\"radialaxis\":{\"gridcolor\":\"white\",\"linecolor\":\"white\",\"ticks\":\"\"}},\"ternary\":{\"bgcolor\":\"#E5ECF6\",\"aaxis\":{\"gridcolor\":\"white\",\"linecolor\":\"white\",\"ticks\":\"\"},\"baxis\":{\"gridcolor\":\"white\",\"linecolor\":\"white\",\"ticks\":\"\"},\"caxis\":{\"gridcolor\":\"white\",\"linecolor\":\"white\",\"ticks\":\"\"}},\"coloraxis\":{\"colorbar\":{\"outlinewidth\":0,\"ticks\":\"\"}},\"colorscale\":{\"sequential\":[[0.0,\"#0d0887\"],[0.1111111111111111,\"#46039f\"],[0.2222222222222222,\"#7201a8\"],[0.3333333333333333,\"#9c179e\"],[0.4444444444444444,\"#bd3786\"],[0.5555555555555556,\"#d8576b\"],[0.6666666666666666,\"#ed7953\"],[0.7777777777777778,\"#fb9f3a\"],[0.8888888888888888,\"#fdca26\"],[1.0,\"#f0f921\"]],\"sequentialminus\":[[0.0,\"#0d0887\"],[0.1111111111111111,\"#46039f\"],[0.2222222222222222,\"#7201a8\"],[0.3333333333333333,\"#9c179e\"],[0.4444444444444444,\"#bd3786\"],[0.5555555555555556,\"#d8576b\"],[0.6666666666666666,\"#ed7953\"],[0.7777777777777778,\"#fb9f3a\"],[0.8888888888888888,\"#fdca26\"],[1.0,\"#f0f921\"]],\"diverging\":[[0,\"#8e0152\"],[0.1,\"#c51b7d\"],[0.2,\"#de77ae\"],[0.3,\"#f1b6da\"],[0.4,\"#fde0ef\"],[0.5,\"#f7f7f7\"],[0.6,\"#e6f5d0\"],[0.7,\"#b8e186\"],[0.8,\"#7fbc41\"],[0.9,\"#4d9221\"],[1,\"#276419\"]]},\"xaxis\":{\"gridcolor\":\"white\",\"linecolor\":\"white\",\"ticks\":\"\",\"title\":{\"standoff\":15},\"zerolinecolor\":\"white\",\"automargin\":true,\"zerolinewidth\":2},\"yaxis\":{\"gridcolor\":\"white\",\"linecolor\":\"white\",\"ticks\":\"\",\"title\":{\"standoff\":15},\"zerolinecolor\":\"white\",\"automargin\":true,\"zerolinewidth\":2},\"scene\":{\"xaxis\":{\"backgroundcolor\":\"#E5ECF6\",\"gridcolor\":\"white\",\"linecolor\":\"white\",\"showbackground\":true,\"ticks\":\"\",\"zerolinecolor\":\"white\",\"gridwidth\":2},\"yaxis\":{\"backgroundcolor\":\"#E5ECF6\",\"gridcolor\":\"white\",\"linecolor\":\"white\",\"showbackground\":true,\"ticks\":\"\",\"zerolinecolor\":\"white\",\"gridwidth\":2},\"zaxis\":{\"backgroundcolor\":\"#E5ECF6\",\"gridcolor\":\"white\",\"linecolor\":\"white\",\"showbackground\":true,\"ticks\":\"\",\"zerolinecolor\":\"white\",\"gridwidth\":2}},\"shapedefaults\":{\"line\":{\"color\":\"#2a3f5f\"}},\"annotationdefaults\":{\"arrowcolor\":\"#2a3f5f\",\"arrowhead\":0,\"arrowwidth\":1},\"geo\":{\"bgcolor\":\"white\",\"landcolor\":\"#E5ECF6\",\"subunitcolor\":\"white\",\"showland\":true,\"showlakes\":true,\"lakecolor\":\"white\"},\"title\":{\"x\":0.05},\"mapbox\":{\"style\":\"light\"}}},\"xaxis\":{\"anchor\":\"y\",\"domain\":[0.0,1.0],\"scaleanchor\":\"y\",\"constrain\":\"domain\",\"linecolor\":\"#DCDCDC\"},\"yaxis\":{\"anchor\":\"x\",\"domain\":[0.0,1.0],\"autorange\":\"reversed\",\"constrain\":\"domain\",\"gridcolor\":\"#DCDCDC\",\"title\":{\"text\":\"\"}},\"coloraxis\":{\"colorscale\":[[0.0,\"rgb(253, 253, 204)\"],[0.09090909090909091,\"rgb(206, 236, 179)\"],[0.18181818181818182,\"rgb(156, 219, 165)\"],[0.2727272727272727,\"rgb(111, 201, 163)\"],[0.36363636363636365,\"rgb(86, 177, 163)\"],[0.45454545454545453,\"rgb(76, 153, 160)\"],[0.5454545454545454,\"rgb(68, 130, 155)\"],[0.6363636363636364,\"rgb(62, 108, 150)\"],[0.7272727272727273,\"rgb(62, 82, 143)\"],[0.8181818181818182,\"rgb(64, 60, 115)\"],[0.9090909090909091,\"rgb(54, 43, 77)\"],[1.0,\"rgb(39, 26, 44)\"]],\"showscale\":false},\"margin\":{\"t\":60},\"paper_bgcolor\":\"#F5F5F5\",\"plot_bgcolor\":\"#F5F5F5\"},                        {\"responsive\": true}                    ).then(function(){\n",
       "                            \n",
       "var gd = document.getElementById('08be93f6-61ba-4c22-b309-5fdc65b90989');\n",
       "var x = new MutationObserver(function (mutations, observer) {{\n",
       "        var display = window.getComputedStyle(gd).display;\n",
       "        if (!display || display === 'none') {{\n",
       "            console.log([gd, 'removed!']);\n",
       "            Plotly.purge(gd);\n",
       "            observer.disconnect();\n",
       "        }}\n",
       "}});\n",
       "\n",
       "// Listen for the removal of the full notebook cells\n",
       "var notebookContainer = gd.closest('#notebook-container');\n",
       "if (notebookContainer) {{\n",
       "    x.observe(notebookContainer, {childList: true});\n",
       "}}\n",
       "\n",
       "// Listen for the clearing of the current output cell\n",
       "var outputEl = gd.closest('.output');\n",
       "if (outputEl) {{\n",
       "    x.observe(outputEl, {childList: true});\n",
       "}}\n",
       "\n",
       "                        })                };                });            </script>        </div>"
      ]
     },
     "metadata": {},
     "output_type": "display_data"
    }
   ],
   "source": [
    "tmp = X.loc[:, ['SalePrice']+tmp_cols_to_dummy]\n",
    "tmp_cols_to_dummy = ['MSZoning']\n",
    "tmp = pd.get_dummies(\n",
    "    tmp,\n",
    "    columns=tmp_cols_to_dummy,\n",
    "    prefix=tmp_cols_to_dummy)\n",
    "corr_heatmap(tmp)"
   ]
  },
  {
   "cell_type": "code",
   "execution_count": 213,
   "id": "f59ee683",
   "metadata": {
    "ExecuteTime": {
     "end_time": "2022-11-02T09:13:56.150739Z",
     "start_time": "2022-11-02T09:13:56.102185Z"
    },
    "hidden": true
   },
   "outputs": [
    {
     "data": {
      "text/html": [
       "<div>                            <div id=\"046ebd8d-19a0-476a-8eb4-e1595fc75a83\" class=\"plotly-graph-div\" style=\"height:525px; width:100%;\"></div>            <script type=\"text/javascript\">                require([\"plotly\"], function(Plotly) {                    window.PLOTLYENV=window.PLOTLYENV || {};                                    if (document.getElementById(\"046ebd8d-19a0-476a-8eb4-e1595fc75a83\")) {                    Plotly.newPlot(                        \"046ebd8d-19a0-476a-8eb4-e1595fc75a83\",                        [{\"coloraxis\":\"coloraxis\",\"name\":\"0\",\"texttemplate\":\"%{z}\",\"x\":[\"SalePrice\",\"MSZoning\"],\"y\":[\"SalePrice\",\"MSZoning\"],\"z\":[[1.0,0.318],[0.318,1.0]],\"type\":\"heatmap\",\"xaxis\":\"x\",\"yaxis\":\"y\",\"hovertemplate\":\"x: %{x}<br>y: %{y}<br>color: %{z}<extra></extra>\",\"opacity\":0.8}],                        {\"template\":{\"data\":{\"histogram2dcontour\":[{\"type\":\"histogram2dcontour\",\"colorbar\":{\"outlinewidth\":0,\"ticks\":\"\"},\"colorscale\":[[0.0,\"#0d0887\"],[0.1111111111111111,\"#46039f\"],[0.2222222222222222,\"#7201a8\"],[0.3333333333333333,\"#9c179e\"],[0.4444444444444444,\"#bd3786\"],[0.5555555555555556,\"#d8576b\"],[0.6666666666666666,\"#ed7953\"],[0.7777777777777778,\"#fb9f3a\"],[0.8888888888888888,\"#fdca26\"],[1.0,\"#f0f921\"]]}],\"choropleth\":[{\"type\":\"choropleth\",\"colorbar\":{\"outlinewidth\":0,\"ticks\":\"\"}}],\"histogram2d\":[{\"type\":\"histogram2d\",\"colorbar\":{\"outlinewidth\":0,\"ticks\":\"\"},\"colorscale\":[[0.0,\"#0d0887\"],[0.1111111111111111,\"#46039f\"],[0.2222222222222222,\"#7201a8\"],[0.3333333333333333,\"#9c179e\"],[0.4444444444444444,\"#bd3786\"],[0.5555555555555556,\"#d8576b\"],[0.6666666666666666,\"#ed7953\"],[0.7777777777777778,\"#fb9f3a\"],[0.8888888888888888,\"#fdca26\"],[1.0,\"#f0f921\"]]}],\"heatmap\":[{\"type\":\"heatmap\",\"colorbar\":{\"outlinewidth\":0,\"ticks\":\"\"},\"colorscale\":[[0.0,\"#0d0887\"],[0.1111111111111111,\"#46039f\"],[0.2222222222222222,\"#7201a8\"],[0.3333333333333333,\"#9c179e\"],[0.4444444444444444,\"#bd3786\"],[0.5555555555555556,\"#d8576b\"],[0.6666666666666666,\"#ed7953\"],[0.7777777777777778,\"#fb9f3a\"],[0.8888888888888888,\"#fdca26\"],[1.0,\"#f0f921\"]]}],\"heatmapgl\":[{\"type\":\"heatmapgl\",\"colorbar\":{\"outlinewidth\":0,\"ticks\":\"\"},\"colorscale\":[[0.0,\"#0d0887\"],[0.1111111111111111,\"#46039f\"],[0.2222222222222222,\"#7201a8\"],[0.3333333333333333,\"#9c179e\"],[0.4444444444444444,\"#bd3786\"],[0.5555555555555556,\"#d8576b\"],[0.6666666666666666,\"#ed7953\"],[0.7777777777777778,\"#fb9f3a\"],[0.8888888888888888,\"#fdca26\"],[1.0,\"#f0f921\"]]}],\"contourcarpet\":[{\"type\":\"contourcarpet\",\"colorbar\":{\"outlinewidth\":0,\"ticks\":\"\"}}],\"contour\":[{\"type\":\"contour\",\"colorbar\":{\"outlinewidth\":0,\"ticks\":\"\"},\"colorscale\":[[0.0,\"#0d0887\"],[0.1111111111111111,\"#46039f\"],[0.2222222222222222,\"#7201a8\"],[0.3333333333333333,\"#9c179e\"],[0.4444444444444444,\"#bd3786\"],[0.5555555555555556,\"#d8576b\"],[0.6666666666666666,\"#ed7953\"],[0.7777777777777778,\"#fb9f3a\"],[0.8888888888888888,\"#fdca26\"],[1.0,\"#f0f921\"]]}],\"surface\":[{\"type\":\"surface\",\"colorbar\":{\"outlinewidth\":0,\"ticks\":\"\"},\"colorscale\":[[0.0,\"#0d0887\"],[0.1111111111111111,\"#46039f\"],[0.2222222222222222,\"#7201a8\"],[0.3333333333333333,\"#9c179e\"],[0.4444444444444444,\"#bd3786\"],[0.5555555555555556,\"#d8576b\"],[0.6666666666666666,\"#ed7953\"],[0.7777777777777778,\"#fb9f3a\"],[0.8888888888888888,\"#fdca26\"],[1.0,\"#f0f921\"]]}],\"mesh3d\":[{\"type\":\"mesh3d\",\"colorbar\":{\"outlinewidth\":0,\"ticks\":\"\"}}],\"scatter\":[{\"fillpattern\":{\"fillmode\":\"overlay\",\"size\":10,\"solidity\":0.2},\"type\":\"scatter\"}],\"parcoords\":[{\"type\":\"parcoords\",\"line\":{\"colorbar\":{\"outlinewidth\":0,\"ticks\":\"\"}}}],\"scatterpolargl\":[{\"type\":\"scatterpolargl\",\"marker\":{\"colorbar\":{\"outlinewidth\":0,\"ticks\":\"\"}}}],\"bar\":[{\"error_x\":{\"color\":\"#2a3f5f\"},\"error_y\":{\"color\":\"#2a3f5f\"},\"marker\":{\"line\":{\"color\":\"#E5ECF6\",\"width\":0.5},\"pattern\":{\"fillmode\":\"overlay\",\"size\":10,\"solidity\":0.2}},\"type\":\"bar\"}],\"scattergeo\":[{\"type\":\"scattergeo\",\"marker\":{\"colorbar\":{\"outlinewidth\":0,\"ticks\":\"\"}}}],\"scatterpolar\":[{\"type\":\"scatterpolar\",\"marker\":{\"colorbar\":{\"outlinewidth\":0,\"ticks\":\"\"}}}],\"histogram\":[{\"marker\":{\"pattern\":{\"fillmode\":\"overlay\",\"size\":10,\"solidity\":0.2}},\"type\":\"histogram\"}],\"scattergl\":[{\"type\":\"scattergl\",\"marker\":{\"colorbar\":{\"outlinewidth\":0,\"ticks\":\"\"}}}],\"scatter3d\":[{\"type\":\"scatter3d\",\"line\":{\"colorbar\":{\"outlinewidth\":0,\"ticks\":\"\"}},\"marker\":{\"colorbar\":{\"outlinewidth\":0,\"ticks\":\"\"}}}],\"scattermapbox\":[{\"type\":\"scattermapbox\",\"marker\":{\"colorbar\":{\"outlinewidth\":0,\"ticks\":\"\"}}}],\"scatterternary\":[{\"type\":\"scatterternary\",\"marker\":{\"colorbar\":{\"outlinewidth\":0,\"ticks\":\"\"}}}],\"scattercarpet\":[{\"type\":\"scattercarpet\",\"marker\":{\"colorbar\":{\"outlinewidth\":0,\"ticks\":\"\"}}}],\"carpet\":[{\"aaxis\":{\"endlinecolor\":\"#2a3f5f\",\"gridcolor\":\"white\",\"linecolor\":\"white\",\"minorgridcolor\":\"white\",\"startlinecolor\":\"#2a3f5f\"},\"baxis\":{\"endlinecolor\":\"#2a3f5f\",\"gridcolor\":\"white\",\"linecolor\":\"white\",\"minorgridcolor\":\"white\",\"startlinecolor\":\"#2a3f5f\"},\"type\":\"carpet\"}],\"table\":[{\"cells\":{\"fill\":{\"color\":\"#EBF0F8\"},\"line\":{\"color\":\"white\"}},\"header\":{\"fill\":{\"color\":\"#C8D4E3\"},\"line\":{\"color\":\"white\"}},\"type\":\"table\"}],\"barpolar\":[{\"marker\":{\"line\":{\"color\":\"#E5ECF6\",\"width\":0.5},\"pattern\":{\"fillmode\":\"overlay\",\"size\":10,\"solidity\":0.2}},\"type\":\"barpolar\"}],\"pie\":[{\"automargin\":true,\"type\":\"pie\"}]},\"layout\":{\"autotypenumbers\":\"strict\",\"colorway\":[\"#636efa\",\"#EF553B\",\"#00cc96\",\"#ab63fa\",\"#FFA15A\",\"#19d3f3\",\"#FF6692\",\"#B6E880\",\"#FF97FF\",\"#FECB52\"],\"font\":{\"color\":\"#2a3f5f\"},\"hovermode\":\"closest\",\"hoverlabel\":{\"align\":\"left\"},\"paper_bgcolor\":\"white\",\"plot_bgcolor\":\"#E5ECF6\",\"polar\":{\"bgcolor\":\"#E5ECF6\",\"angularaxis\":{\"gridcolor\":\"white\",\"linecolor\":\"white\",\"ticks\":\"\"},\"radialaxis\":{\"gridcolor\":\"white\",\"linecolor\":\"white\",\"ticks\":\"\"}},\"ternary\":{\"bgcolor\":\"#E5ECF6\",\"aaxis\":{\"gridcolor\":\"white\",\"linecolor\":\"white\",\"ticks\":\"\"},\"baxis\":{\"gridcolor\":\"white\",\"linecolor\":\"white\",\"ticks\":\"\"},\"caxis\":{\"gridcolor\":\"white\",\"linecolor\":\"white\",\"ticks\":\"\"}},\"coloraxis\":{\"colorbar\":{\"outlinewidth\":0,\"ticks\":\"\"}},\"colorscale\":{\"sequential\":[[0.0,\"#0d0887\"],[0.1111111111111111,\"#46039f\"],[0.2222222222222222,\"#7201a8\"],[0.3333333333333333,\"#9c179e\"],[0.4444444444444444,\"#bd3786\"],[0.5555555555555556,\"#d8576b\"],[0.6666666666666666,\"#ed7953\"],[0.7777777777777778,\"#fb9f3a\"],[0.8888888888888888,\"#fdca26\"],[1.0,\"#f0f921\"]],\"sequentialminus\":[[0.0,\"#0d0887\"],[0.1111111111111111,\"#46039f\"],[0.2222222222222222,\"#7201a8\"],[0.3333333333333333,\"#9c179e\"],[0.4444444444444444,\"#bd3786\"],[0.5555555555555556,\"#d8576b\"],[0.6666666666666666,\"#ed7953\"],[0.7777777777777778,\"#fb9f3a\"],[0.8888888888888888,\"#fdca26\"],[1.0,\"#f0f921\"]],\"diverging\":[[0,\"#8e0152\"],[0.1,\"#c51b7d\"],[0.2,\"#de77ae\"],[0.3,\"#f1b6da\"],[0.4,\"#fde0ef\"],[0.5,\"#f7f7f7\"],[0.6,\"#e6f5d0\"],[0.7,\"#b8e186\"],[0.8,\"#7fbc41\"],[0.9,\"#4d9221\"],[1,\"#276419\"]]},\"xaxis\":{\"gridcolor\":\"white\",\"linecolor\":\"white\",\"ticks\":\"\",\"title\":{\"standoff\":15},\"zerolinecolor\":\"white\",\"automargin\":true,\"zerolinewidth\":2},\"yaxis\":{\"gridcolor\":\"white\",\"linecolor\":\"white\",\"ticks\":\"\",\"title\":{\"standoff\":15},\"zerolinecolor\":\"white\",\"automargin\":true,\"zerolinewidth\":2},\"scene\":{\"xaxis\":{\"backgroundcolor\":\"#E5ECF6\",\"gridcolor\":\"white\",\"linecolor\":\"white\",\"showbackground\":true,\"ticks\":\"\",\"zerolinecolor\":\"white\",\"gridwidth\":2},\"yaxis\":{\"backgroundcolor\":\"#E5ECF6\",\"gridcolor\":\"white\",\"linecolor\":\"white\",\"showbackground\":true,\"ticks\":\"\",\"zerolinecolor\":\"white\",\"gridwidth\":2},\"zaxis\":{\"backgroundcolor\":\"#E5ECF6\",\"gridcolor\":\"white\",\"linecolor\":\"white\",\"showbackground\":true,\"ticks\":\"\",\"zerolinecolor\":\"white\",\"gridwidth\":2}},\"shapedefaults\":{\"line\":{\"color\":\"#2a3f5f\"}},\"annotationdefaults\":{\"arrowcolor\":\"#2a3f5f\",\"arrowhead\":0,\"arrowwidth\":1},\"geo\":{\"bgcolor\":\"white\",\"landcolor\":\"#E5ECF6\",\"subunitcolor\":\"white\",\"showland\":true,\"showlakes\":true,\"lakecolor\":\"white\"},\"title\":{\"x\":0.05},\"mapbox\":{\"style\":\"light\"}}},\"xaxis\":{\"anchor\":\"y\",\"domain\":[0.0,1.0],\"scaleanchor\":\"y\",\"constrain\":\"domain\",\"linecolor\":\"#DCDCDC\"},\"yaxis\":{\"anchor\":\"x\",\"domain\":[0.0,1.0],\"autorange\":\"reversed\",\"constrain\":\"domain\",\"gridcolor\":\"#DCDCDC\",\"title\":{\"text\":\"\"}},\"coloraxis\":{\"colorscale\":[[0.0,\"rgb(253, 253, 204)\"],[0.09090909090909091,\"rgb(206, 236, 179)\"],[0.18181818181818182,\"rgb(156, 219, 165)\"],[0.2727272727272727,\"rgb(111, 201, 163)\"],[0.36363636363636365,\"rgb(86, 177, 163)\"],[0.45454545454545453,\"rgb(76, 153, 160)\"],[0.5454545454545454,\"rgb(68, 130, 155)\"],[0.6363636363636364,\"rgb(62, 108, 150)\"],[0.7272727272727273,\"rgb(62, 82, 143)\"],[0.8181818181818182,\"rgb(64, 60, 115)\"],[0.9090909090909091,\"rgb(54, 43, 77)\"],[1.0,\"rgb(39, 26, 44)\"]],\"showscale\":false},\"margin\":{\"t\":60},\"paper_bgcolor\":\"#F5F5F5\",\"plot_bgcolor\":\"#F5F5F5\"},                        {\"responsive\": true}                    ).then(function(){\n",
       "                            \n",
       "var gd = document.getElementById('046ebd8d-19a0-476a-8eb4-e1595fc75a83');\n",
       "var x = new MutationObserver(function (mutations, observer) {{\n",
       "        var display = window.getComputedStyle(gd).display;\n",
       "        if (!display || display === 'none') {{\n",
       "            console.log([gd, 'removed!']);\n",
       "            Plotly.purge(gd);\n",
       "            observer.disconnect();\n",
       "        }}\n",
       "}});\n",
       "\n",
       "// Listen for the removal of the full notebook cells\n",
       "var notebookContainer = gd.closest('#notebook-container');\n",
       "if (notebookContainer) {{\n",
       "    x.observe(notebookContainer, {childList: true});\n",
       "}}\n",
       "\n",
       "// Listen for the clearing of the current output cell\n",
       "var outputEl = gd.closest('.output');\n",
       "if (outputEl) {{\n",
       "    x.observe(outputEl, {childList: true});\n",
       "}}\n",
       "\n",
       "                        })                };                });            </script>        </div>"
      ]
     },
     "metadata": {},
     "output_type": "display_data"
    }
   ],
   "source": [
    "tmp = X.loc[:, ['SalePrice']+tmp_cols_to_dummy]\n",
    "tmp['MSZoning'] = tmp.MSZoning.replace({'RH':'RM', 'FV':'RL', 'C (all)': 'RM'})\n",
    "tmp_cols_to_dummy = ['MSZoning']\n",
    "tmp['MSZoning'] = np.where(tmp['MSZoning'] == 'RL', 1, 0)\n",
    "corr_heatmap(tmp)"
   ]
  },
  {
   "cell_type": "markdown",
   "id": "86f541fe",
   "metadata": {
    "heading_collapsed": true,
    "hidden": true
   },
   "source": [
    "#### NeighborHood"
   ]
  },
  {
   "cell_type": "code",
   "execution_count": 218,
   "id": "740744d7",
   "metadata": {
    "ExecuteTime": {
     "end_time": "2022-11-02T09:18:08.291692Z",
     "start_time": "2022-11-02T09:18:07.953482Z"
    },
    "hidden": true
   },
   "outputs": [],
   "source": [
    "tmp_cols_to_dummy = ['Neighborhood']\n",
    "tmp = X.loc[:, ['SalePrice']+tmp_cols_to_dummy]\n",
    "tmp = pd.get_dummies(\n",
    "    tmp,\n",
    "    columns=tmp_cols_to_dummy,\n",
    "    prefix=tmp_cols_to_dummy)\n",
    "corr_heatmap(tmp)"
   ]
  },
  {
   "cell_type": "markdown",
   "id": "5ac1e9fb",
   "metadata": {
    "hidden": true
   },
   "source": [
    "- unite NAmes, Edwards, OldTown;\n",
    "- unite CrawFor, CollgCr, Venkeer, ClearCr\n",
    "- unite Somerst, Timber\n",
    "- unite Gilbert, NWAmes\n",
    "- unite Mitchel, SWISU\n",
    "- unite MeadowV, BrGale\n",
    "- unite Blueste, NPkVill\n",
    "- unite SawyerW, Blmngtn\n",
    "- unite Sawyer, BrkSide, IDOTRR"
   ]
  },
  {
   "cell_type": "code",
   "execution_count": 228,
   "id": "3afcb4b0",
   "metadata": {
    "ExecuteTime": {
     "end_time": "2022-11-02T09:47:44.360156Z",
     "start_time": "2022-11-02T09:47:44.352155Z"
    },
    "hidden": true
   },
   "outputs": [],
   "source": [
    "tmp_cols_to_dummy = ['Neighborhood']\n",
    "tmp = X.loc[:, ['SalePrice']+tmp_cols_to_dummy]\n",
    "tmp['Neighborhood'] = tmp.Neighborhood.replace(\n",
    "    {'NAmes':'C1', 'Edwards':'C1', 'OldTown': 'C1',\n",
    "     'Crawfor':'C2', 'CollgCr':'C2', 'Veenker':'C2', 'ClearCr':'C2',\n",
    "     'Somerst':'C3', 'Timber':'C3',\n",
    "     'Gilbert':'C4', 'NWAmes':'C4',\n",
    "     'Mitchel':'C5', 'SWISU':'C5',\n",
    "     'MeadowV':'C6', 'BrDale':'C6',\n",
    "     'Blueste':'C7', 'NPkVill':'C7',\n",
    "     'SawyerW':'C8', 'Blmngtn':'C8',\n",
    "     'Sawyer':'C9', 'BrkSide':'C9', 'IDOTRR':'C9'\n",
    "    }\n",
    ")"
   ]
  },
  {
   "cell_type": "code",
   "execution_count": 229,
   "id": "476a9e5b",
   "metadata": {
    "ExecuteTime": {
     "end_time": "2022-11-02T09:47:52.262744Z",
     "start_time": "2022-11-02T09:47:52.064427Z"
    },
    "hidden": true
   },
   "outputs": [],
   "source": [
    "tmp2 = show_basic_plots(tmp)\n",
    "for i in tmp2['violin_mix']: \n",
    "    i.show()\n",
    "del tmp2"
   ]
  },
  {
   "cell_type": "code",
   "execution_count": null,
   "id": "a1091c29",
   "metadata": {
    "hidden": true
   },
   "outputs": [],
   "source": [
    "tmp = pd.get_dummies(\n",
    "    tmp,\n",
    "    columns=tmp_cols_to_dummy,\n",
    "    prefix=tmp_cols_to_dummy)\n",
    "corr_heatmap(tmp)"
   ]
  },
  {
   "cell_type": "markdown",
   "id": "0cec4450",
   "metadata": {
    "hidden": true
   },
   "source": [
    "- unite C8, C4\n",
    "- unite C1, C9\n",
    "- unite NridgHt, StoneBr, NoRidge"
   ]
  },
  {
   "cell_type": "code",
   "execution_count": 231,
   "id": "b8f0cd49",
   "metadata": {
    "ExecuteTime": {
     "end_time": "2022-11-02T09:53:14.398881Z",
     "start_time": "2022-11-02T09:53:14.383804Z"
    },
    "hidden": true
   },
   "outputs": [],
   "source": [
    "tmp_cols_to_dummy = ['Neighborhood']\n",
    "tmp = X.loc[:, ['SalePrice']+tmp_cols_to_dummy]\n",
    "tmp['Neighborhood'] = tmp.Neighborhood.replace(\n",
    "    {'NAmes':'C1', 'Edwards':'C1', 'OldTown': 'C1', 'Sawyer':'C1', 'BrkSide':'C1', 'IDOTRR':'C1',\n",
    "     'Crawfor':'C2', 'CollgCr':'C2', 'Veenker':'C2', 'ClearCr':'C2',\n",
    "     'Somerst':'C3', 'Timber':'C3',\n",
    "     'Gilbert':'C4', 'NWAmes':'C4', 'SawyerW':'C4', 'Blmngtn':'C4',\n",
    "     'Mitchel':'C5', 'SWISU':'C5',\n",
    "     'MeadowV':'C6', 'BrDale':'C6',\n",
    "     'Blueste':'C7', 'NPkVill':'C7',\n",
    "     'NridgHt':'C8', 'StoneBr':'C8', 'NoRidge':'C8'\n",
    "    }\n",
    ")"
   ]
  },
  {
   "cell_type": "code",
   "execution_count": 232,
   "id": "4ee52f3c",
   "metadata": {
    "ExecuteTime": {
     "end_time": "2022-11-02T09:53:16.290940Z",
     "start_time": "2022-11-02T09:53:16.103801Z"
    },
    "hidden": true
   },
   "outputs": [],
   "source": [
    "tmp2 = show_basic_plots(tmp)\n",
    "for i in tmp2['violin_mix']: \n",
    "    i.show()\n",
    "del tmp2"
   ]
  },
  {
   "cell_type": "code",
   "execution_count": null,
   "id": "e88255a6",
   "metadata": {
    "hidden": true
   },
   "outputs": [],
   "source": [
    "tmp = pd.get_dummies(\n",
    "    tmp,\n",
    "    columns=tmp_cols_to_dummy,\n",
    "    prefix=tmp_cols_to_dummy)\n",
    "corr_heatmap(tmp)"
   ]
  },
  {
   "cell_type": "markdown",
   "id": "224d06cf",
   "metadata": {
    "hidden": true
   },
   "source": [
    "- unite C5, C7\n",
    "- unite C2, C3"
   ]
  },
  {
   "cell_type": "code",
   "execution_count": 236,
   "id": "0a634ffe",
   "metadata": {
    "ExecuteTime": {
     "end_time": "2022-11-02T09:57:50.763101Z",
     "start_time": "2022-11-02T09:57:50.744040Z"
    },
    "hidden": true
   },
   "outputs": [],
   "source": [
    "tmp_cols_to_dummy = ['Neighborhood']\n",
    "tmp = X.loc[:, ['SalePrice']+tmp_cols_to_dummy]\n",
    "tmp['Neighborhood'] = tmp.Neighborhood.replace(\n",
    "    {'NAmes':'C1', 'Edwards':'C1', 'OldTown': 'C1', 'Sawyer':'C1', 'BrkSide':'C1', 'IDOTRR':'C1',\n",
    "     'Crawfor':'C2', 'CollgCr':'C2', 'Veenker':'C2', 'ClearCr':'C2', 'Somerst':'C2', 'Timber':'C2',\n",
    "     'Gilbert':'C3', 'NWAmes':'C3', 'SawyerW':'C3', 'Blmngtn':'C3',\n",
    "     'Mitchel':'C4', 'SWISU':'C4', 'Blueste':'C4', 'NPkVill':'C4',\n",
    "     'MeadowV':'C5', 'BrDale':'C5',\n",
    "     'NridgHt':'C7', 'StoneBr':'C7', 'NoRidge':'C7'\n",
    "    }\n",
    ")"
   ]
  },
  {
   "cell_type": "code",
   "execution_count": 237,
   "id": "3562f568",
   "metadata": {
    "ExecuteTime": {
     "end_time": "2022-11-02T09:57:59.171189Z",
     "start_time": "2022-11-02T09:57:58.977089Z"
    },
    "hidden": true
   },
   "outputs": [],
   "source": [
    "tmp2 = show_basic_plots(tmp)\n",
    "for i in tmp2['violin_mix']: \n",
    "    i.show()\n",
    "del tmp2"
   ]
  },
  {
   "cell_type": "code",
   "execution_count": 238,
   "id": "00801479",
   "metadata": {
    "ExecuteTime": {
     "end_time": "2022-11-02T09:58:01.899488Z",
     "start_time": "2022-11-02T09:58:01.784175Z"
    },
    "hidden": true
   },
   "outputs": [],
   "source": [
    "tmp = pd.get_dummies(\n",
    "    tmp,\n",
    "    columns=tmp_cols_to_dummy,\n",
    "    prefix=tmp_cols_to_dummy)\n",
    "corr_heatmap(tmp)"
   ]
  },
  {
   "cell_type": "markdown",
   "id": "b028dae5",
   "metadata": {
    "hidden": true
   },
   "source": [
    "- unite C4, C1"
   ]
  },
  {
   "cell_type": "code",
   "execution_count": 241,
   "id": "43bc3999",
   "metadata": {
    "ExecuteTime": {
     "end_time": "2022-11-02T10:00:45.758303Z",
     "start_time": "2022-11-02T10:00:45.746288Z"
    },
    "hidden": true
   },
   "outputs": [],
   "source": [
    "tmp_cols_to_dummy = ['Neighborhood']\n",
    "tmp = X.loc[:, ['SalePrice']+tmp_cols_to_dummy]\n",
    "tmp['Neighborhood'] = tmp.Neighborhood.replace(\n",
    "    {'NAmes':'C1', 'Edwards':'C1', 'OldTown': 'C1', 'Sawyer':'C1', 'BrkSide':'C1', 'IDOTRR':'C1',\n",
    "     'Mitchel':'C1', 'SWISU':'C1', 'Blueste':'C1', 'NPkVill':'C1',\n",
    "     'Crawfor':'C2', 'CollgCr':'C2', 'Veenker':'C2', 'ClearCr':'C2', 'Somerst':'C2', 'Timber':'C2',\n",
    "     'Gilbert':'C3', 'NWAmes':'C3', 'SawyerW':'C3', 'Blmngtn':'C3',\n",
    "     'MeadowV':'C4', 'BrDale':'C4',\n",
    "     'NridgHt':'C5', 'StoneBr':'C5', 'NoRidge':'C5'\n",
    "    }\n",
    ")"
   ]
  },
  {
   "cell_type": "code",
   "execution_count": 242,
   "id": "7abea602",
   "metadata": {
    "ExecuteTime": {
     "end_time": "2022-11-02T10:00:47.506317Z",
     "start_time": "2022-11-02T10:00:47.321288Z"
    },
    "hidden": true
   },
   "outputs": [],
   "source": [
    "tmp2 = show_basic_plots(tmp)\n",
    "for i in tmp2['violin_mix']: \n",
    "    i.show()\n",
    "del tmp2"
   ]
  },
  {
   "cell_type": "code",
   "execution_count": 240,
   "id": "b683c78c",
   "metadata": {
    "ExecuteTime": {
     "end_time": "2022-11-02T10:00:20.005911Z",
     "start_time": "2022-11-02T10:00:19.880706Z"
    },
    "hidden": true
   },
   "outputs": [],
   "source": [
    "tmp = pd.get_dummies(\n",
    "    tmp,\n",
    "    columns=tmp_cols_to_dummy,\n",
    "    prefix=tmp_cols_to_dummy)\n",
    "corr_heatmap(tmp)"
   ]
  },
  {
   "cell_type": "markdown",
   "id": "d7cd768d",
   "metadata": {
    "hidden": true
   },
   "source": [
    "- think about uniting C1, C4"
   ]
  },
  {
   "cell_type": "markdown",
   "id": "c7504357",
   "metadata": {
    "heading_collapsed": true,
    "hidden": true
   },
   "source": [
    "#### Condition"
   ]
  },
  {
   "cell_type": "code",
   "execution_count": 243,
   "id": "dbf0d3bd",
   "metadata": {
    "ExecuteTime": {
     "end_time": "2022-11-02T10:07:59.312981Z",
     "start_time": "2022-11-02T10:07:59.296768Z"
    },
    "hidden": true
   },
   "outputs": [],
   "source": [
    "tmp_cols_to_dummy = ['Condition1']\n",
    "tmp = X.loc[:, ['SalePrice']+tmp_cols_to_dummy]"
   ]
  },
  {
   "cell_type": "code",
   "execution_count": 244,
   "id": "0a5fde7b",
   "metadata": {
    "ExecuteTime": {
     "end_time": "2022-11-02T10:08:02.276345Z",
     "start_time": "2022-11-02T10:08:01.672769Z"
    },
    "hidden": true
   },
   "outputs": [],
   "source": [
    "tmp2 = show_basic_plots(tmp)\n",
    "for i in tmp2['violin_mix']: \n",
    "    i.show()\n",
    "del tmp2"
   ]
  },
  {
   "cell_type": "code",
   "execution_count": 245,
   "id": "31bf2327",
   "metadata": {
    "ExecuteTime": {
     "end_time": "2022-11-02T10:08:09.205827Z",
     "start_time": "2022-11-02T10:08:09.080789Z"
    },
    "hidden": true
   },
   "outputs": [],
   "source": [
    "tmp = pd.get_dummies(\n",
    "    tmp,\n",
    "    columns=tmp_cols_to_dummy,\n",
    "    prefix=tmp_cols_to_dummy)\n",
    "corr_heatmap(tmp)"
   ]
  },
  {
   "cell_type": "markdown",
   "id": "160e4c9c",
   "metadata": {
    "hidden": true
   },
   "source": [
    "- unite PosA, PosN\n",
    "- unite RRAn, RRNe, RRNn"
   ]
  },
  {
   "cell_type": "code",
   "execution_count": 252,
   "id": "df70f877",
   "metadata": {
    "ExecuteTime": {
     "end_time": "2022-11-02T10:15:47.025264Z",
     "start_time": "2022-11-02T10:15:47.018267Z"
    },
    "hidden": true
   },
   "outputs": [],
   "source": [
    "tmp_cols_to_dummy = ['Condition1']\n",
    "tmp = X.loc[:, ['SalePrice']+tmp_cols_to_dummy]\n",
    "tmp['Condition1'] = tmp['Condition1'].replace(\n",
    "    {'PosA':'Pos', 'PosN':'Pos',\n",
    "     'RRAn':'RR', 'RRNe':'RR', 'RRNn':'RR', 'RRAe':'RR',\n",
    "    }\n",
    ")\n",
    "tmp = tmp.loc[tmp.SalePrice < 475000, :]"
   ]
  },
  {
   "cell_type": "code",
   "execution_count": 253,
   "id": "89690c76",
   "metadata": {
    "ExecuteTime": {
     "end_time": "2022-11-02T10:15:48.952697Z",
     "start_time": "2022-11-02T10:15:48.738273Z"
    },
    "hidden": true
   },
   "outputs": [],
   "source": [
    "tmp2 = show_basic_plots(tmp)\n",
    "for i in tmp2['violin_mix']: \n",
    "    i.show()\n",
    "del tmp2"
   ]
  },
  {
   "cell_type": "code",
   "execution_count": 254,
   "id": "b6282300",
   "metadata": {
    "ExecuteTime": {
     "end_time": "2022-11-02T10:15:59.005397Z",
     "start_time": "2022-11-02T10:15:58.873286Z"
    },
    "hidden": true
   },
   "outputs": [],
   "source": [
    "tmp = pd.get_dummies(\n",
    "    tmp,\n",
    "    columns=tmp_cols_to_dummy,\n",
    "    prefix=tmp_cols_to_dummy)\n",
    "corr_heatmap(tmp)"
   ]
  },
  {
   "cell_type": "markdown",
   "id": "89438be0",
   "metadata": {
    "hidden": true
   },
   "source": [
    "- unite Feedr, Artery, RR -> Busy\n",
    "- Pos, Norm -> NotBusy"
   ]
  },
  {
   "cell_type": "code",
   "execution_count": 257,
   "id": "2ecd7444",
   "metadata": {
    "ExecuteTime": {
     "end_time": "2022-11-02T10:20:56.896618Z",
     "start_time": "2022-11-02T10:20:56.876601Z"
    },
    "hidden": true
   },
   "outputs": [],
   "source": [
    "tmp_cols_to_dummy = ['Condition1']\n",
    "tmp = X.loc[:, ['SalePrice']+tmp_cols_to_dummy]\n",
    "tmp['Condition1'] = tmp['Condition1'].replace(\n",
    "    {'PosA': 'Calm', 'PosN': 'Calm',\n",
    "     'RRAn': 'Busy', 'RRNe': 'Busy', 'RRNn': 'Busy', 'RRAe': 'Busy', \n",
    "     'Artery': 'Busy', 'Feedr': 'Busy'\n",
    "    }\n",
    ")\n",
    "tmp = tmp.loc[tmp.SalePrice < 475000, :]"
   ]
  },
  {
   "cell_type": "code",
   "execution_count": 258,
   "id": "718d7978",
   "metadata": {
    "ExecuteTime": {
     "end_time": "2022-11-02T10:20:58.445561Z",
     "start_time": "2022-11-02T10:20:58.265999Z"
    },
    "hidden": true
   },
   "outputs": [],
   "source": [
    "tmp2 = show_basic_plots(tmp)\n",
    "for i in tmp2['violin_mix']: \n",
    "    i.show()\n",
    "del tmp2"
   ]
  },
  {
   "cell_type": "code",
   "execution_count": 256,
   "id": "142fe10d",
   "metadata": {
    "ExecuteTime": {
     "end_time": "2022-11-02T10:19:21.719222Z",
     "start_time": "2022-11-02T10:19:21.594517Z"
    },
    "hidden": true
   },
   "outputs": [],
   "source": [
    "tmp = pd.get_dummies(\n",
    "    tmp,\n",
    "    columns=tmp_cols_to_dummy,\n",
    "    prefix=tmp_cols_to_dummy)\n",
    "corr_heatmap(tmp)"
   ]
  },
  {
   "cell_type": "code",
   "execution_count": null,
   "id": "473883b1",
   "metadata": {
    "hidden": true
   },
   "outputs": [],
   "source": [
    "pio.renderers.default = 'browser'#'notebook_connected'"
   ]
  },
  {
   "cell_type": "code",
   "execution_count": 259,
   "id": "47b612cf",
   "metadata": {
    "ExecuteTime": {
     "end_time": "2022-11-02T10:25:44.461761Z",
     "start_time": "2022-11-02T10:25:44.449596Z"
    },
    "hidden": true
   },
   "outputs": [],
   "source": [
    "tmp_cols_to_dummy = ['Condition1', 'Condition2']\n",
    "tmp = X.loc[:, ['SalePrice']+tmp_cols_to_dummy]\n",
    "tmp['Condition1'] = tmp['Condition1'].replace(\n",
    "    {'PosA': 'Calm', 'PosN': 'Calm',\n",
    "     'RRAn': 'Busy', 'RRNe': 'Busy', 'RRNn': 'Busy', 'RRAe': 'Busy', \n",
    "     'Artery': 'Busy', 'Feedr': 'Busy'\n",
    "    }\n",
    ")\n",
    "tmp['Condition2'] = tmp['Condition1'].replace(\n",
    "    {'PosA': 'Calm', 'PosN': 'Calm',\n",
    "     'RRAn': 'Busy', 'RRNe': 'Busy', 'RRNn': 'Busy', 'RRAe': 'Busy', \n",
    "     'Artery': 'Busy', 'Feedr': 'Busy'\n",
    "    }\n",
    ")\n",
    "tmp = tmp.loc[tmp.SalePrice < 475000, :]"
   ]
  },
  {
   "cell_type": "code",
   "execution_count": 260,
   "id": "07d16eea",
   "metadata": {
    "ExecuteTime": {
     "end_time": "2022-11-02T10:25:46.275657Z",
     "start_time": "2022-11-02T10:25:46.146049Z"
    },
    "hidden": true
   },
   "outputs": [],
   "source": [
    "tmp = pd.get_dummies(\n",
    "    tmp,\n",
    "    columns=tmp_cols_to_dummy,\n",
    "    prefix=tmp_cols_to_dummy)\n",
    "corr_heatmap(tmp)"
   ]
  },
  {
   "cell_type": "markdown",
   "id": "a888b6c4",
   "metadata": {
    "heading_collapsed": true,
    "hidden": true
   },
   "source": [
    "#### Overview"
   ]
  },
  {
   "cell_type": "code",
   "execution_count": 274,
   "id": "55a17b22",
   "metadata": {
    "ExecuteTime": {
     "end_time": "2022-11-02T10:47:08.001198Z",
     "start_time": "2022-11-02T10:47:07.980311Z"
    },
    "hidden": true
   },
   "outputs": [],
   "source": [
    "tmp_cols = ['MSZoning', 'Condition1', 'Condition2', 'Neighborhood', 'SalePrice']\n",
    "tmp = X.loc[:, tmp_cols]\n",
    "tmp['MSZoning'] = tmp.MSZoning.replace({'RH':'RM', 'FV':'RL', 'C (all)': 'RM'})\n",
    "tmp['IsLowDensityArea'] = np.where(tmp['MSZoning'] == 'RL', 1, 0)\n",
    "tmp['Condition1'] = tmp['Condition1'].replace(\n",
    "    {'PosA': 'Norm', 'PosN': 'Norm',\n",
    "     'RRAn': 'Busy', 'RRNe': 'Busy', 'RRNn': 'Busy', 'RRAe': 'Busy', \n",
    "     'Artery': 'Busy', 'Feedr': 'Busy',\n",
    "    }\n",
    ")\n",
    "tmp['Condition2'] = tmp['Condition1'].replace(\n",
    "    {'PosA': 'Norm', 'PosN': 'Norm',\n",
    "     'RRAn': 'Busy', 'RRNe': 'Busy', 'RRNn': 'Busy', 'RRAe': 'Busy', \n",
    "     'Artery': 'Busy', 'Feedr': 'Busy',\n",
    "    }\n",
    ")\n",
    "tmp['Condition1'] = np.where(tmp['Condition1'] == 'Busy', 1, 0)\n",
    "tmp['Condition2'] = np.where(tmp['Condition2'] == 'Busy', 1, 0)\n",
    "tmp['IsBusyEnv'] = np.where(tmp['Condition2']+tmp['Condition1']==0, 0, 1)\n",
    "\n",
    "tmp['Neighborhood'] = tmp.Neighborhood.replace(\n",
    "    {'NAmes':'C1', 'Edwards':'C1', 'OldTown': 'C1', 'Sawyer':'C1', 'BrkSide':'C1', 'IDOTRR':'C1',\n",
    "     'Mitchel':'C1', 'SWISU':'C1', 'Blueste':'C1', 'NPkVill':'C1',\n",
    "     'Crawfor':'C2', 'CollgCr':'C2', 'Veenker':'C2', 'ClearCr':'C2', 'Somerst':'C2', 'Timber':'C2',\n",
    "     'Gilbert':'C3', 'NWAmes':'C3', 'SawyerW':'C3', 'Blmngtn':'C3',\n",
    "     'MeadowV':'C4', 'BrDale':'C4',\n",
    "     'NridgHt':'C5', 'StoneBr':'C5', 'NoRidge':'C5'\n",
    "    }\n",
    ")\n",
    "tmp.drop(columns=['MSZoning', 'Condition1', 'Condition2'], inplace=True)\n",
    "tmp_cols_to_dummy = ['Neighborhood']"
   ]
  },
  {
   "cell_type": "code",
   "execution_count": 275,
   "id": "ef2a6119",
   "metadata": {
    "ExecuteTime": {
     "end_time": "2022-11-02T10:47:10.029095Z",
     "start_time": "2022-11-02T10:47:09.900353Z"
    },
    "hidden": true
   },
   "outputs": [],
   "source": [
    "tmp = pd.get_dummies(\n",
    "    tmp,\n",
    "    columns=tmp_cols_to_dummy,\n",
    "    prefix=tmp_cols_to_dummy)\n",
    "corr_heatmap(tmp)"
   ]
  },
  {
   "cell_type": "markdown",
   "id": "8395d8b8",
   "metadata": {
    "hidden": true
   },
   "source": [
    "- Recode MSZoning into IsLowDensityArea: 2 categories\n",
    "- Recode Neighborhood into 5 categories; maybe unite C1,C2,C3\n",
    "- Recode Condition1, Condition2 into IsBusyEnv: 2 categories"
   ]
  },
  {
   "cell_type": "markdown",
   "id": "324ad2fd",
   "metadata": {
    "heading_collapsed": true
   },
   "source": [
    "### House land"
   ]
  },
  {
   "cell_type": "code",
   "execution_count": 276,
   "id": "e7c7e753",
   "metadata": {
    "ExecuteTime": {
     "end_time": "2022-11-02T10:51:37.351658Z",
     "start_time": "2022-11-02T10:51:37.332642Z"
    },
    "hidden": true
   },
   "outputs": [],
   "source": [
    "cols_to_dummy = ['Street', 'Alley', 'LotShape', 'LandContour',\n",
    "                 'LotConfig', 'LandSlope', 'PavedDrive']\n",
    "X = data.copy()\n",
    "X = X.loc[:, cols_to_dummy+['SalePrice']]"
   ]
  },
  {
   "cell_type": "code",
   "execution_count": 277,
   "id": "1f70866f",
   "metadata": {
    "ExecuteTime": {
     "end_time": "2022-11-02T10:51:50.681165Z",
     "start_time": "2022-11-02T10:51:47.588841Z"
    },
    "hidden": true
   },
   "outputs": [],
   "source": [
    "tmp = show_basic_plots(X)\n",
    "for i in tmp['dist_cat']: \n",
    "    i.show()\n",
    "del tmp"
   ]
  },
  {
   "cell_type": "code",
   "execution_count": null,
   "id": "2d1c5352",
   "metadata": {
    "hidden": true
   },
   "outputs": [],
   "source": [
    "tmp = show_basic_plots(X)\n",
    "for i in tmp['violin_mix']: \n",
    "    i.show()\n",
    "del tmp"
   ]
  },
  {
   "cell_type": "code",
   "execution_count": 284,
   "id": "3cf261ba",
   "metadata": {
    "ExecuteTime": {
     "end_time": "2022-11-02T10:55:30.599024Z",
     "start_time": "2022-11-02T10:55:30.588899Z"
    },
    "hidden": true
   },
   "outputs": [
    {
     "name": "stdout",
     "output_type": "stream",
     "text": [
      "0\n",
      "['Pave' 'Grvl']\n"
     ]
    }
   ],
   "source": [
    "print(X.Street.isnull().sum())\n",
    "print(X.Street.unique())"
   ]
  },
  {
   "cell_type": "markdown",
   "id": "333b926a",
   "metadata": {
    "hidden": true
   },
   "source": [
    "- For sure drop Street"
   ]
  },
  {
   "cell_type": "markdown",
   "id": "db22bfca",
   "metadata": {
    "heading_collapsed": true,
    "hidden": true
   },
   "source": [
    "#### Alley"
   ]
  },
  {
   "cell_type": "code",
   "execution_count": 282,
   "id": "025068d1",
   "metadata": {
    "ExecuteTime": {
     "end_time": "2022-11-02T10:54:21.553426Z",
     "start_time": "2022-11-02T10:54:21.547422Z"
    },
    "hidden": true
   },
   "outputs": [
    {
     "data": {
      "text/plain": [
       "1369"
      ]
     },
     "execution_count": 282,
     "metadata": {},
     "output_type": "execute_result"
    }
   ],
   "source": [
    "X.Alley.isnull().sum()"
   ]
  },
  {
   "cell_type": "code",
   "execution_count": 291,
   "id": "8e5b052b",
   "metadata": {
    "ExecuteTime": {
     "end_time": "2022-11-02T11:02:26.044622Z",
     "start_time": "2022-11-02T11:02:26.028521Z"
    },
    "hidden": true
   },
   "outputs": [],
   "source": [
    "tmp_cols_to_dummy = ['Alley']\n",
    "tmp = X.loc[:, ['SalePrice']+tmp_cols_to_dummy]\n",
    "tmp['Alley'] = tmp.Alley.fillna('Absent')"
   ]
  },
  {
   "cell_type": "code",
   "execution_count": 297,
   "id": "fb5feab8",
   "metadata": {
    "ExecuteTime": {
     "end_time": "2022-11-02T11:03:24.114308Z",
     "start_time": "2022-11-02T11:03:23.941186Z"
    },
    "hidden": true
   },
   "outputs": [],
   "source": [
    "show_violin(tmp)"
   ]
  },
  {
   "cell_type": "code",
   "execution_count": 296,
   "id": "2f8ba455",
   "metadata": {
    "ExecuteTime": {
     "end_time": "2022-11-02T11:03:01.869472Z",
     "start_time": "2022-11-02T11:03:01.741475Z"
    },
    "hidden": true
   },
   "outputs": [],
   "source": [
    "show_dummy_corr(tmp)"
   ]
  },
  {
   "cell_type": "markdown",
   "id": "9cbb3618",
   "metadata": {
    "hidden": true
   },
   "source": [
    "- Unite Pave and Absent"
   ]
  },
  {
   "cell_type": "code",
   "execution_count": 298,
   "id": "7c9acca9",
   "metadata": {
    "ExecuteTime": {
     "end_time": "2022-11-02T11:06:26.831638Z",
     "start_time": "2022-11-02T11:06:26.813634Z"
    },
    "hidden": true
   },
   "outputs": [],
   "source": [
    "tmp = X.loc[:, ['SalePrice']+tmp_cols_to_dummy]\n",
    "tmp['Alley'] = tmp.Alley.fillna('Pave')\n",
    "tmp['IsAlleyGravel'] = np.where(tmp['Alley'] == 'Pave', 0, 1)\n",
    "tmp.drop(columns=['Alley'], inplace=True)"
   ]
  },
  {
   "cell_type": "code",
   "execution_count": 299,
   "id": "d0fc9518",
   "metadata": {
    "ExecuteTime": {
     "end_time": "2022-11-02T11:06:28.555232Z",
     "start_time": "2022-11-02T11:06:28.436674Z"
    },
    "hidden": true
   },
   "outputs": [],
   "source": [
    "corr_heatmap(tmp)"
   ]
  },
  {
   "cell_type": "markdown",
   "id": "d8124256",
   "metadata": {
    "hidden": true
   },
   "source": [
    "- Recode Alley into IsAlleyGravel: 2 categories"
   ]
  },
  {
   "cell_type": "markdown",
   "id": "b0d1cb91",
   "metadata": {
    "heading_collapsed": true,
    "hidden": true
   },
   "source": [
    "#### LotShape"
   ]
  },
  {
   "cell_type": "code",
   "execution_count": 302,
   "id": "203cf90d",
   "metadata": {
    "ExecuteTime": {
     "end_time": "2022-11-02T11:13:44.091083Z",
     "start_time": "2022-11-02T11:13:44.086080Z"
    },
    "hidden": true
   },
   "outputs": [],
   "source": [
    "tmp_cols_to_dummy = ['LotShape']\n",
    "tmp = X.loc[:, ['SalePrice']+tmp_cols_to_dummy]\n",
    "tmp = tmp.loc[tmp.SalePrice < 475000, :]"
   ]
  },
  {
   "cell_type": "code",
   "execution_count": 303,
   "id": "dcafbcc0",
   "metadata": {
    "ExecuteTime": {
     "end_time": "2022-11-02T11:13:45.930650Z",
     "start_time": "2022-11-02T11:13:45.630003Z"
    },
    "hidden": true
   },
   "outputs": [],
   "source": [
    "show_violin(tmp)\n",
    "show_dummy_corr(tmp)"
   ]
  },
  {
   "cell_type": "markdown",
   "id": "581acb62",
   "metadata": {
    "hidden": true
   },
   "source": [
    "- Seems like no big difference, i.e. not important"
   ]
  },
  {
   "cell_type": "markdown",
   "id": "f557be6a",
   "metadata": {
    "heading_collapsed": true,
    "hidden": true
   },
   "source": [
    "#### LandContour"
   ]
  },
  {
   "cell_type": "code",
   "execution_count": 308,
   "id": "3eaf3def",
   "metadata": {
    "ExecuteTime": {
     "end_time": "2022-11-02T11:17:06.375862Z",
     "start_time": "2022-11-02T11:17:06.078294Z"
    },
    "hidden": true
   },
   "outputs": [],
   "source": [
    "tmp_cols_to_dummy = ['LandContour']\n",
    "tmp = X.loc[:, ['SalePrice']+tmp_cols_to_dummy]\n",
    "tmp = tmp.loc[tmp.SalePrice < 475000, :]\n",
    "show_violin(tmp)\n",
    "show_dummy_corr(tmp)"
   ]
  },
  {
   "cell_type": "markdown",
   "id": "d28520a0",
   "metadata": {
    "hidden": true
   },
   "source": [
    "- unite Lvl, Bnk\n",
    "- unite Low, HLS"
   ]
  },
  {
   "cell_type": "code",
   "execution_count": 314,
   "id": "d9bf44bb",
   "metadata": {
    "ExecuteTime": {
     "end_time": "2022-11-02T11:23:13.238412Z",
     "start_time": "2022-11-02T11:23:13.110735Z"
    },
    "hidden": true
   },
   "outputs": [],
   "source": [
    "tmp_cols_to_dummy = ['LandContour']\n",
    "tmp = X.loc[:, ['SalePrice']+tmp_cols_to_dummy]\n",
    "tmp['LandContour'] = tmp['LandContour'].replace(\n",
    "    {'Lvl': 'Norm', 'Bnk': 'Norm',\n",
    "    'Low': 'Ir', 'HLS': 'Ir'}\n",
    ")\n",
    "tmp['IsLandFlat'] = np.where(tmp['LandContour'] == 'Ir', 0, 1)\n",
    "tmp = tmp.loc[tmp.SalePrice < 475000, :]\n",
    "#show_violin(tmp)\n",
    "corr_heatmap(tmp)"
   ]
  },
  {
   "cell_type": "markdown",
   "id": "41b67f35",
   "metadata": {
    "heading_collapsed": true,
    "hidden": true
   },
   "source": [
    "#### LotConfig"
   ]
  },
  {
   "cell_type": "code",
   "execution_count": 316,
   "id": "4c3554e3",
   "metadata": {
    "ExecuteTime": {
     "end_time": "2022-11-02T11:25:41.831058Z",
     "start_time": "2022-11-02T11:25:41.534907Z"
    },
    "hidden": true
   },
   "outputs": [],
   "source": [
    "tmp_cols_to_dummy = ['LotConfig']\n",
    "tmp = X.loc[:, ['SalePrice']+tmp_cols_to_dummy]\n",
    "tmp = tmp.loc[tmp.SalePrice < 475000, :]\n",
    "show_violin(tmp)\n",
    "show_dummy_corr(tmp)"
   ]
  },
  {
   "cell_type": "markdown",
   "id": "e56ca8a0",
   "metadata": {
    "hidden": true
   },
   "source": [
    "- unite CulDSac, FR3\n",
    "- unite Inside, FR2, Corner"
   ]
  },
  {
   "cell_type": "code",
   "execution_count": 319,
   "id": "c9ce8172",
   "metadata": {
    "ExecuteTime": {
     "end_time": "2022-11-02T11:32:57.195779Z",
     "start_time": "2022-11-02T11:32:57.063145Z"
    },
    "hidden": true
   },
   "outputs": [],
   "source": [
    "tmp_cols_to_dummy = ['LotConfig']\n",
    "tmp = X.loc[:, ['SalePrice']+tmp_cols_to_dummy]\n",
    "tmp['LotConfig'] = tmp['LotConfig'].replace(\n",
    "    {'Inside': 'Norm', 'FR2': 'Norm', 'Corner': 'Norm',\n",
    "    'CulDSac': 'Ir', 'FR3': 'Ir'}\n",
    ")\n",
    "tmp['IsNarrow'] = np.where(tmp['LotConfig'] == 'Ir', 0, 1)\n",
    "tmp = tmp.loc[tmp.SalePrice < 475000, :]\n",
    "corr_heatmap(tmp)"
   ]
  },
  {
   "cell_type": "markdown",
   "id": "f3f19f37",
   "metadata": {
    "heading_collapsed": true,
    "hidden": true
   },
   "source": [
    "#### LandSlope"
   ]
  },
  {
   "cell_type": "code",
   "execution_count": 320,
   "id": "9e67cb27",
   "metadata": {
    "ExecuteTime": {
     "end_time": "2022-11-02T11:34:17.242343Z",
     "start_time": "2022-11-02T11:34:16.928437Z"
    },
    "hidden": true
   },
   "outputs": [],
   "source": [
    "tmp_cols_to_dummy = ['LandSlope']\n",
    "tmp = X.loc[:, ['SalePrice']+tmp_cols_to_dummy]\n",
    "tmp = tmp.loc[tmp.SalePrice < 475000, :]\n",
    "show_violin(tmp)\n",
    "show_dummy_corr(tmp)"
   ]
  },
  {
   "cell_type": "markdown",
   "id": "6af1d675",
   "metadata": {
    "hidden": true
   },
   "source": [
    "- Recode as 0-1"
   ]
  },
  {
   "cell_type": "code",
   "execution_count": 323,
   "id": "336f8ffe",
   "metadata": {
    "ExecuteTime": {
     "end_time": "2022-11-02T11:37:41.967050Z",
     "start_time": "2022-11-02T11:37:41.830038Z"
    },
    "hidden": true
   },
   "outputs": [],
   "source": [
    "tmp_cols_to_dummy = ['LandSlope']\n",
    "tmp = X.loc[:, ['SalePrice']+tmp_cols_to_dummy]\n",
    "tmp['IsSlope'] = np.where((tmp['LandSlope'] == 'Mod') | (tmp['LandSlope'] == 'Sev'), 1, 0)\n",
    "tmp = tmp.loc[tmp.SalePrice < 475000, :]\n",
    "corr_heatmap(tmp)"
   ]
  },
  {
   "cell_type": "markdown",
   "id": "a7094948",
   "metadata": {
    "hidden": true
   },
   "source": [
    "- rather not significant"
   ]
  },
  {
   "cell_type": "markdown",
   "id": "9cd5bc1a",
   "metadata": {
    "heading_collapsed": true,
    "hidden": true
   },
   "source": [
    "#### PavedDrive"
   ]
  },
  {
   "cell_type": "code",
   "execution_count": 324,
   "id": "5f0d1e79",
   "metadata": {
    "ExecuteTime": {
     "end_time": "2022-11-02T11:38:19.029122Z",
     "start_time": "2022-11-02T11:38:18.735457Z"
    },
    "hidden": true
   },
   "outputs": [],
   "source": [
    "tmp_cols_to_dummy = ['PavedDrive']\n",
    "tmp = X.loc[:, ['SalePrice']+tmp_cols_to_dummy]\n",
    "tmp = tmp.loc[tmp.SalePrice < 475000, :]\n",
    "show_violin(tmp)\n",
    "show_dummy_corr(tmp)"
   ]
  },
  {
   "cell_type": "markdown",
   "id": "9ebc8441",
   "metadata": {
    "hidden": true
   },
   "source": [
    "- recode as 0-1"
   ]
  },
  {
   "cell_type": "code",
   "execution_count": 325,
   "id": "a85f1aad",
   "metadata": {
    "ExecuteTime": {
     "end_time": "2022-11-02T11:41:49.839089Z",
     "start_time": "2022-11-02T11:41:49.703847Z"
    },
    "hidden": true
   },
   "outputs": [],
   "source": [
    "tmp_cols_to_dummy = ['PavedDrive']\n",
    "tmp = X.loc[:, ['SalePrice']+tmp_cols_to_dummy]\n",
    "tmp['IsPaved'] = np.where((tmp['PavedDrive'] == 'N') | (tmp['PavedDrive'] == 'P'), 0, 1)\n",
    "\n",
    "tmp = tmp.loc[tmp.SalePrice < 475000, :]\n",
    "corr_heatmap(tmp)"
   ]
  },
  {
   "cell_type": "markdown",
   "id": "27c34494",
   "metadata": {
    "heading_collapsed": true,
    "hidden": true
   },
   "source": [
    "#### Overview"
   ]
  },
  {
   "cell_type": "code",
   "execution_count": 326,
   "id": "7b90006b",
   "metadata": {
    "ExecuteTime": {
     "end_time": "2022-11-02T11:44:56.710188Z",
     "start_time": "2022-11-02T11:44:56.568923Z"
    },
    "hidden": true
   },
   "outputs": [],
   "source": [
    "tmp_cols_to_dummy = ['PavedDrive', 'LotConfig', 'LandContour', 'Alley']\n",
    "tmp = X.loc[:, ['SalePrice']+tmp_cols_to_dummy]\n",
    "\n",
    "tmp['Alley'] = tmp.Alley.fillna('Pave')\n",
    "tmp['IsAlleyGravel'] = np.where(tmp['Alley'] == 'Pave', 0, 1)\n",
    "\n",
    "tmp['LandContour'] = tmp['LandContour'].replace(\n",
    "    {'Lvl': 'Norm', 'Bnk': 'Norm',\n",
    "    'Low': 'Ir', 'HLS': 'Ir'}\n",
    ")\n",
    "tmp['IsLandFlat'] = np.where(tmp['LandContour'] == 'Ir', 0, 1)\n",
    "\n",
    "tmp['LotConfig'] = tmp['LotConfig'].replace(\n",
    "    {'Inside': 'Norm', 'FR2': 'Norm', 'Corner': 'Norm',\n",
    "    'CulDSac': 'Ir', 'FR3': 'Ir'}\n",
    ")\n",
    "tmp['IsNarrow'] = np.where(tmp['LotConfig'] == 'Ir', 0, 1)\n",
    "tmp['IsPaved'] = np.where((tmp['PavedDrive'] == 'N') | (tmp['PavedDrive'] == 'P'), 0, 1)\n",
    "\n",
    "\n",
    "tmp = tmp.loc[tmp.SalePrice < 475000, :]\n",
    "corr_heatmap(tmp)"
   ]
  },
  {
   "cell_type": "markdown",
   "id": "2679102c",
   "metadata": {
    "hidden": true
   },
   "source": [
    "- Slight correlation between Alley and PaveDrive"
   ]
  },
  {
   "cell_type": "markdown",
   "id": "4e4795c7",
   "metadata": {},
   "source": [
    "### Exterior"
   ]
  },
  {
   "cell_type": "code",
   "execution_count": 328,
   "id": "895ec312",
   "metadata": {
    "ExecuteTime": {
     "end_time": "2022-11-02T11:49:52.821575Z",
     "start_time": "2022-11-02T11:49:52.800494Z"
    }
   },
   "outputs": [],
   "source": [
    "cols_to_dummy = ['MSSubClass', 'BldgType', 'HouseStyle', 'RoofStyle', 'RoofMatl', 'Exterior1st',\n",
    "                 'Exterior2nd', 'MasVnrType', 'ExterQual', 'ExterCond']\n",
    "X = data.copy()\n",
    "X = X.loc[:, cols_to_dummy+['SalePrice']]\n",
    "X['MSSubClass'] = X['MSSubClass'].astype(str)"
   ]
  },
  {
   "cell_type": "code",
   "execution_count": 329,
   "id": "fb829f76",
   "metadata": {
    "ExecuteTime": {
     "end_time": "2022-11-02T11:50:10.329717Z",
     "start_time": "2022-11-02T11:50:03.153403Z"
    }
   },
   "outputs": [],
   "source": [
    "tmp = show_basic_plots(X)\n",
    "for i in tmp['dist_cat']: \n",
    "    i.show()\n",
    "del tmp"
   ]
  },
  {
   "cell_type": "markdown",
   "id": "159fcc61",
   "metadata": {
    "heading_collapsed": true
   },
   "source": [
    "#### MSSubClass"
   ]
  },
  {
   "cell_type": "code",
   "execution_count": 330,
   "id": "907779f0",
   "metadata": {
    "ExecuteTime": {
     "end_time": "2022-11-02T13:08:25.588479Z",
     "start_time": "2022-11-02T13:08:25.266712Z"
    },
    "hidden": true
   },
   "outputs": [],
   "source": [
    "tmp_cols_to_dummy = ['MSSubClass']\n",
    "tmp = X.loc[:, ['SalePrice']+tmp_cols_to_dummy]\n",
    "tmp = tmp.loc[tmp.SalePrice < 475000, :]\n",
    "show_violin(tmp)\n",
    "show_dummy_corr(tmp)"
   ]
  },
  {
   "cell_type": "markdown",
   "id": "dc070ecd",
   "metadata": {
    "hidden": true
   },
   "source": [
    "- seems like could be explained from year built/number of floors\n",
    "- unite 120, 150\n",
    "- unite 160, 180\n",
    "- unite 60, 70\n",
    "- unite 20, 30"
   ]
  },
  {
   "cell_type": "code",
   "execution_count": 338,
   "id": "34702cb2",
   "metadata": {
    "ExecuteTime": {
     "end_time": "2022-11-02T13:22:30.257183Z",
     "start_time": "2022-11-02T13:22:29.954439Z"
    },
    "hidden": true
   },
   "outputs": [],
   "source": [
    "tmp_cols_to_dummy = ['MSSubClass']\n",
    "tmp = X.loc[:, ['SalePrice']+tmp_cols_to_dummy]\n",
    "tmp['MSSubClass'] = tmp['MSSubClass'].replace(\n",
    "    {'90': 'C1', '85': 'C1',\n",
    "     '160': 'C2', '180': 'C2',\n",
    "     '120': 'C3', '150': 'C3', '60': 'C3', '70': 'C3', '20': 'C3', '30': 'C3',\n",
    "     '75': 'C4', '80': 'C4', '40': 'C4',\n",
    "     '45': 'C5', '190': 'C5', '50': 'C5',\n",
    "    }\n",
    ")\n",
    "tmp = tmp.loc[tmp.SalePrice < 475000, :]\n",
    "show_violin(tmp)\n",
    "show_dummy_corr(tmp)"
   ]
  },
  {
   "cell_type": "markdown",
   "id": "6e292c28",
   "metadata": {
    "heading_collapsed": true
   },
   "source": [
    "#### BldgType"
   ]
  },
  {
   "cell_type": "code",
   "execution_count": 339,
   "id": "33c10b71",
   "metadata": {
    "ExecuteTime": {
     "end_time": "2022-11-02T13:24:33.788604Z",
     "start_time": "2022-11-02T13:24:33.473542Z"
    },
    "hidden": true
   },
   "outputs": [],
   "source": [
    "tmp_cols_to_dummy = ['BldgType']\n",
    "tmp = X.loc[:, ['SalePrice']+tmp_cols_to_dummy]\n",
    "tmp = tmp.loc[tmp.SalePrice < 475000, :]\n",
    "show_violin(tmp)\n",
    "show_dummy_corr(tmp)"
   ]
  },
  {
   "cell_type": "markdown",
   "id": "787997b3",
   "metadata": {
    "hidden": true
   },
   "source": [
    "- unite 1Fam, TwnhsE\n",
    "- unite 2fmCon, Duplex"
   ]
  },
  {
   "cell_type": "code",
   "execution_count": 340,
   "id": "24d580b4",
   "metadata": {
    "ExecuteTime": {
     "end_time": "2022-11-02T13:27:23.295487Z",
     "start_time": "2022-11-02T13:27:23.002989Z"
    },
    "hidden": true
   },
   "outputs": [],
   "source": [
    "tmp_cols_to_dummy = ['BldgType']\n",
    "tmp = X.loc[:, ['SalePrice']+tmp_cols_to_dummy]\n",
    "tmp['BldgType'] = tmp['BldgType'].replace(\n",
    "    {'1Fam': 'C1', 'TwnhsE': 'C1',\n",
    "     '2fmCon': 'C2', 'Duplex': 'C2'\n",
    "    }\n",
    ")\n",
    "tmp = tmp.loc[tmp.SalePrice < 475000, :]\n",
    "show_violin(tmp)\n",
    "show_dummy_corr(tmp)"
   ]
  },
  {
   "cell_type": "markdown",
   "id": "54ab5097",
   "metadata": {
    "hidden": true
   },
   "source": [
    "- better as 0-1:"
   ]
  },
  {
   "cell_type": "code",
   "execution_count": 343,
   "id": "ff4f9c4d",
   "metadata": {
    "ExecuteTime": {
     "end_time": "2022-11-02T13:29:39.261405Z",
     "start_time": "2022-11-02T13:29:39.130061Z"
    },
    "hidden": true
   },
   "outputs": [],
   "source": [
    "tmp_cols_to_dummy = ['BldgType']\n",
    "tmp = X.loc[:, ['SalePrice']+tmp_cols_to_dummy]\n",
    "tmp['IsOneFamily'] = np.where(tmp['BldgType'] == '1Fam', 1, 0)\n",
    "tmp = tmp.loc[tmp.SalePrice < 475000, :]\n",
    "corr_heatmap(tmp)"
   ]
  },
  {
   "cell_type": "markdown",
   "id": "9e780b56",
   "metadata": {
    "heading_collapsed": true
   },
   "source": [
    "#### HouseStyle"
   ]
  },
  {
   "cell_type": "code",
   "execution_count": 344,
   "id": "cb47f5ed",
   "metadata": {
    "ExecuteTime": {
     "end_time": "2022-11-02T13:33:22.866227Z",
     "start_time": "2022-11-02T13:33:22.562696Z"
    },
    "hidden": true
   },
   "outputs": [],
   "source": [
    "tmp_cols_to_dummy = ['HouseStyle']\n",
    "tmp = X.loc[:, ['SalePrice']+tmp_cols_to_dummy]\n",
    "tmp = tmp.loc[tmp.SalePrice < 475000, :]\n",
    "show_violin(tmp)\n",
    "show_dummy_corr(tmp)"
   ]
  },
  {
   "cell_type": "code",
   "execution_count": 345,
   "id": "70df6e90",
   "metadata": {
    "ExecuteTime": {
     "end_time": "2022-11-02T13:40:11.552287Z",
     "start_time": "2022-11-02T13:40:11.259818Z"
    },
    "hidden": true
   },
   "outputs": [],
   "source": [
    "tmp_cols_to_dummy = ['HouseStyle']\n",
    "tmp = X.loc[:, ['SalePrice']+tmp_cols_to_dummy]\n",
    "tmp['HouseStyle'] = tmp['HouseStyle'].replace(\n",
    "    {'SFoyer': '1', 'SLvl': '1', '1Story': '1',\n",
    "     '1.5Fin': '1.5', '1.5Unf': '1.5',\n",
    "     '2Story': '2',\n",
    "     '2.5Fin': '2.5', '2.5Unf': '2.5',\n",
    "    }\n",
    ")\n",
    "tmp = tmp.loc[tmp.SalePrice < 475000, :]\n",
    "show_violin(tmp)\n",
    "show_dummy_corr(tmp)"
   ]
  },
  {
   "cell_type": "markdown",
   "id": "59f6c0e0",
   "metadata": {
    "hidden": true
   },
   "source": [
    "- better recode as 0-1"
   ]
  },
  {
   "cell_type": "code",
   "execution_count": 351,
   "id": "21311f72",
   "metadata": {
    "ExecuteTime": {
     "end_time": "2022-11-02T13:43:43.281001Z",
     "start_time": "2022-11-02T13:43:43.148329Z"
    },
    "hidden": true
   },
   "outputs": [],
   "source": [
    "tmp_cols_to_dummy = ['HouseStyle']\n",
    "tmp = X.loc[:, ['SalePrice']+tmp_cols_to_dummy]\n",
    "tmp['IsOneFloor'] = tmp['HouseStyle'].replace(\n",
    "    {'SFoyer': '1', 'SLvl': '1', '1Story': '1',\n",
    "     '1.5Fin': '1', '1.5Unf': '1',\n",
    "     '2Story': '0', '2.5Fin': '0', '2.5Unf': '0',\n",
    "    }\n",
    ").astype(np.int64)\n",
    "\n",
    "tmp = tmp.loc[tmp.SalePrice < 475000, :]\n",
    "corr_heatmap(tmp)"
   ]
  },
  {
   "cell_type": "markdown",
   "id": "d142f2b9",
   "metadata": {
    "heading_collapsed": true
   },
   "source": [
    "#### RoofStyle"
   ]
  },
  {
   "cell_type": "code",
   "execution_count": 352,
   "id": "7a00236f",
   "metadata": {
    "ExecuteTime": {
     "end_time": "2022-11-02T13:45:27.613081Z",
     "start_time": "2022-11-02T13:45:27.301190Z"
    },
    "hidden": true
   },
   "outputs": [],
   "source": [
    "tmp_cols_to_dummy = ['RoofStyle']\n",
    "tmp = X.loc[:, ['SalePrice']+tmp_cols_to_dummy]\n",
    "tmp = tmp.loc[tmp.SalePrice < 475000, :]\n",
    "show_violin(tmp)\n",
    "show_dummy_corr(tmp)"
   ]
  },
  {
   "cell_type": "markdown",
   "id": "e016c4df",
   "metadata": {
    "hidden": true
   },
   "source": [
    "- recode into Gable, Hip, other"
   ]
  },
  {
   "cell_type": "code",
   "execution_count": 354,
   "id": "fddd53e0",
   "metadata": {
    "ExecuteTime": {
     "end_time": "2022-11-02T13:55:04.992729Z",
     "start_time": "2022-11-02T13:55:04.686610Z"
    },
    "hidden": true
   },
   "outputs": [],
   "source": [
    "tmp_cols_to_dummy = ['RoofStyle']\n",
    "tmp = X.loc[:, ['SalePrice']+tmp_cols_to_dummy]\n",
    "tmp['RoofStyle'] = np.where((tmp['RoofStyle'] != 'Gable') & (tmp['RoofStyle'] != 'Hip'),\n",
    "                            'Other',\n",
    "                            tmp['RoofStyle'])\n",
    "tmp = tmp.loc[tmp.SalePrice < 475000, :]\n",
    "show_violin(tmp)\n",
    "show_dummy_corr(tmp)"
   ]
  },
  {
   "cell_type": "markdown",
   "id": "51ec4228",
   "metadata": {
    "hidden": true
   },
   "source": [
    "- better isGable"
   ]
  },
  {
   "cell_type": "code",
   "execution_count": 355,
   "id": "c178fd88",
   "metadata": {
    "ExecuteTime": {
     "end_time": "2022-11-02T13:57:57.017426Z",
     "start_time": "2022-11-02T13:57:56.884001Z"
    },
    "hidden": true
   },
   "outputs": [],
   "source": [
    "tmp_cols_to_dummy = ['RoofStyle']\n",
    "tmp = X.loc[:, ['SalePrice']+tmp_cols_to_dummy]\n",
    "tmp['IsRoofGable'] = np.where(tmp['RoofStyle'] == 'Gable', 1, 0)\n",
    "tmp = tmp.loc[tmp.SalePrice < 475000, :]\n",
    "corr_heatmap(tmp)"
   ]
  },
  {
   "cell_type": "markdown",
   "id": "48a6f208",
   "metadata": {
    "heading_collapsed": true
   },
   "source": [
    "#### RoofMatl"
   ]
  },
  {
   "cell_type": "markdown",
   "id": "ec19d3f9",
   "metadata": {
    "hidden": true
   },
   "source": [
    "- see, most of the roofs are Standard(Composite) shingle"
   ]
  },
  {
   "cell_type": "markdown",
   "id": "415b15ca",
   "metadata": {
    "heading_collapsed": true
   },
   "source": [
    "#### Exterior"
   ]
  },
  {
   "cell_type": "code",
   "execution_count": 358,
   "id": "34613b35",
   "metadata": {
    "ExecuteTime": {
     "end_time": "2022-11-02T14:01:23.504451Z",
     "start_time": "2022-11-02T14:01:23.189248Z"
    },
    "hidden": true
   },
   "outputs": [],
   "source": [
    "tmp_cols_to_dummy = ['Exterior1st']\n",
    "tmp = X.loc[:, ['SalePrice']+tmp_cols_to_dummy]\n",
    "tmp = tmp.loc[tmp.SalePrice < 475000, :]\n",
    "show_violin(tmp)\n",
    "show_dummy_corr(tmp)"
   ]
  },
  {
   "cell_type": "markdown",
   "id": "4c7bc82f",
   "metadata": {
    "hidden": true
   },
   "source": [
    "- unite BrkFace, BrkComm\n",
    "- unite AsphShn, AsbShng, ImStucc, Stucco\n",
    "- unite Wd Sdng, WdShing, Plywood, HdBoard\n",
    "- unite Stone, CBlock"
   ]
  },
  {
   "cell_type": "code",
   "execution_count": 362,
   "id": "3a69a72e",
   "metadata": {
    "ExecuteTime": {
     "end_time": "2022-11-02T14:18:07.173978Z",
     "start_time": "2022-11-02T14:18:06.878354Z"
    },
    "hidden": true
   },
   "outputs": [],
   "source": [
    "tmp_cols_to_dummy = ['Exterior1st']\n",
    "tmp = X.loc[:, ['SalePrice']+tmp_cols_to_dummy]\n",
    "tmp['Exterior1st'] = tmp['Exterior1st'].replace(\n",
    "    {'BrkFace': 'Brick', 'BrkComm': 'Brick', \n",
    "     'Wd Sdng': 'MetalWood', 'WdShing': 'MetalWood',\n",
    "     'Plywood': 'MetalWood', 'HdBoard': 'MetalWood', 'MetalSd': 'MetalWood',\n",
    "     'AsphShn': 'Other', 'AsbShng': 'Other', 'ImStucc': 'Other',\n",
    "     'Stucco': 'Other', 'Stone': 'Other', 'CBlock': 'Other',\n",
    "     'CemntBd': 'Cement',\n",
    "     'VinylSd': 'Vinyl'\n",
    "    }\n",
    ")\n",
    "tmp = tmp.loc[tmp.SalePrice < 475000, :]\n",
    "show_violin(tmp)\n",
    "show_dummy_corr(tmp)"
   ]
  },
  {
   "cell_type": "markdown",
   "id": "129b9ab3",
   "metadata": {
    "heading_collapsed": true
   },
   "source": [
    "#### MasVnrType"
   ]
  },
  {
   "cell_type": "code",
   "execution_count": 367,
   "id": "bb213d55",
   "metadata": {
    "ExecuteTime": {
     "end_time": "2022-11-02T14:23:35.618866Z",
     "start_time": "2022-11-02T14:23:35.326661Z"
    },
    "hidden": true
   },
   "outputs": [],
   "source": [
    "tmp_cols_to_dummy = ['MasVnrType']\n",
    "tmp = X.loc[:, ['SalePrice']+tmp_cols_to_dummy]\n",
    "tmp['MasVnrType'] = tmp['MasVnrType'].replace(\n",
    "    {'BrkFace': 'Brick', 'BrkCmn': 'Brick'}\n",
    ")\n",
    "tmp = tmp.loc[tmp.SalePrice < 475000, :]\n",
    "show_violin(tmp)\n",
    "show_dummy_corr(tmp)"
   ]
  },
  {
   "cell_type": "markdown",
   "id": "ffb1b75a",
   "metadata": {
    "hidden": true
   },
   "source": [
    "- pretty big correlation, maybe keep as 0-1"
   ]
  },
  {
   "cell_type": "markdown",
   "id": "47d5b479",
   "metadata": {
    "heading_collapsed": true
   },
   "source": [
    "#### ExterQual, ExterCond"
   ]
  },
  {
   "cell_type": "markdown",
   "id": "d8aa931b",
   "metadata": {
    "hidden": true
   },
   "source": [
    "defenitely narrow to Good, Norm, Bad"
   ]
  },
  {
   "cell_type": "code",
   "execution_count": 368,
   "id": "82c1ab9f",
   "metadata": {
    "ExecuteTime": {
     "end_time": "2022-11-02T14:32:32.138538Z",
     "start_time": "2022-11-02T14:32:31.622389Z"
    },
    "hidden": true
   },
   "outputs": [],
   "source": [
    "tmp_cols_to_dummy = ['ExterQual', 'ExterCond']\n",
    "tmp = X.loc[:, ['SalePrice']+tmp_cols_to_dummy]\n",
    "tmp['ExterQual'] = tmp['ExterQual'].replace(\n",
    "    {'Ex': 'Good', 'Gd': 'Good', 'TA': 'Norm', 'Fa': 'Bad', 'Po': 'Bad'}\n",
    ")\n",
    "tmp['ExterCond'] = tmp['ExterCond'].replace(\n",
    "    {'Ex': 'Good', 'Gd': 'Good', 'TA': 'Norm', 'Fa': 'Bad', 'Po': 'Bad'}\n",
    ")\n",
    "tmp = tmp.loc[tmp.SalePrice < 475000, :]\n",
    "show_violin(tmp)\n",
    "show_dummy_corr(tmp)"
   ]
  },
  {
   "cell_type": "code",
   "execution_count": 369,
   "id": "9ad98e63",
   "metadata": {
    "ExecuteTime": {
     "end_time": "2022-11-02T14:36:28.685011Z",
     "start_time": "2022-11-02T14:36:28.512772Z"
    },
    "hidden": true
   },
   "outputs": [],
   "source": [
    "tmp_cols_to_dummy = ['ExterQual', 'ExterCond']\n",
    "tmp = X.loc[:, ['SalePrice']+tmp_cols_to_dummy]\n",
    "tmp['ExterQual'] = tmp['ExterQual'].replace(\n",
    "    {'Ex': 'Good', 'Gd': 'Good', 'TA': 'Good', 'Fa': 'Bad', 'Po': 'Bad'}\n",
    ")\n",
    "tmp['ExterCond'] = tmp['ExterCond'].replace(\n",
    "    {'Ex': 'Good', 'Gd': 'Good', 'TA': 'Good', 'Fa': 'Bad', 'Po': 'Bad'}\n",
    ")\n",
    "tmp['IsExtCondGood'] = np.where(tmp['ExterCond'] == 'Good', 1, 0)\n",
    "tmp['IsExtQualGood'] = np.where(tmp['ExterQual'] == 'Good', 1, 0)\n",
    "\n",
    "tmp = tmp.loc[tmp.SalePrice < 475000, :]\n",
    "corr_heatmap(tmp)"
   ]
  },
  {
   "cell_type": "markdown",
   "id": "1702a903",
   "metadata": {
    "heading_collapsed": true
   },
   "source": [
    "#### Overview"
   ]
  },
  {
   "cell_type": "markdown",
   "id": "5654810d",
   "metadata": {
    "hidden": true
   },
   "source": [
    "- Recode MSSubClass into 5 categories; still a lot could be done here\n",
    "- Recode BldgType into IsOneFamily: 2 categories\n",
    "- Recode HouseStyle into IsOneFloor: 2 categories\n",
    "- Recode RoofStyle into IsRoofGable: 2 categories\n",
    "- Recode RoofMatl into IsRoofStandard: 2 categories\n",
    "- Recode Exterior1st, Exterior2nd, into 5 categories\n",
    "- MasVnrType into 3 categories; maybe 2 categories\n",
    "- Recode ExterQual into IsExtQualGood: 2 categories\n",
    "- Recode ExterCond into IsExtCondGood: 2 categories"
   ]
  },
  {
   "cell_type": "code",
   "execution_count": 375,
   "id": "e5f20874",
   "metadata": {
    "ExecuteTime": {
     "end_time": "2022-11-02T14:59:27.497893Z",
     "start_time": "2022-11-02T14:59:27.351369Z"
    },
    "code_folding": [],
    "hidden": true
   },
   "outputs": [],
   "source": [
    "tmp_cols_to_dummy = [\n",
    "    'MSSubClass', 'BldgType', 'HouseStyle', 'RoofStyle', 'RoofMatl',\n",
    "    'Exterior1st', 'MasVnrType', 'ExterQual', 'ExterCond'\n",
    "]\n",
    "tmp = X.loc[:, ['SalePrice']+tmp_cols_to_dummy]\n",
    "\n",
    "tmp['ExterQual'] = tmp['ExterQual'].replace(\n",
    "    {'Ex': 'Good', 'Gd': 'Good', 'TA': 'Good', 'Fa': 'Bad', 'Po': 'Bad'}\n",
    ")\n",
    "tmp['ExterCond'] = tmp['ExterCond'].replace(\n",
    "    {'Ex': 'Good', 'Gd': 'Good', 'TA': 'Good', 'Fa': 'Bad', 'Po': 'Bad'}\n",
    ")\n",
    "tmp['IsExtCondGood'] = np.where(tmp['ExterCond'] == 'Good', 1, 0)\n",
    "tmp['IsExtQualGood'] = np.where(tmp['ExterQual'] == 'Good', 1, 0)\n",
    "\n",
    "\n",
    "tmp['MasVnrType'] = tmp['MasVnrType'].replace(\n",
    "    {'BrkFace': 'Brick', 'BrkCmn': 'Brick'}\n",
    ")\n",
    "\n",
    "tmp['Exterior1st'] = tmp['Exterior1st'].replace(\n",
    "    {'BrkFace': 'Brick', 'BrkComm': 'Brick', \n",
    "     'Wd Sdng': 'MetalWood', 'WdShing': 'MetalWood',\n",
    "     'Plywood': 'MetalWood', 'HdBoard': 'MetalWood', 'MetalSd': 'MetalWood',\n",
    "     'AsphShn': 'Other', 'AsbShng': 'Other', 'ImStucc': 'Other',\n",
    "     'Stucco': 'Other', 'Stone': 'Other', 'CBlock': 'Other',\n",
    "     'CemntBd': 'Cement',\n",
    "     'VinylSd': 'Vinyl'\n",
    "    }\n",
    ")\n",
    "tmp['IsRoofStandard'] = np.where(tmp['RoofMatl'] == 'CompShg', 1, 0)\n",
    "tmp['IsRoofGable'] = np.where(tmp['RoofStyle'] == 'Gable', 1, 0)\n",
    "\n",
    "tmp['IsOneFloor'] = tmp['HouseStyle'].replace(\n",
    "    {'SFoyer': '1', 'SLvl': '1', '1Story': '1',\n",
    "     '1.5Fin': '1', '1.5Unf': '1',\n",
    "     '2Story': '0', '2.5Fin': '0', '2.5Unf': '0',\n",
    "    }\n",
    ").astype(np.int64)\n",
    "\n",
    "tmp['IsOneFamily'] = np.where(tmp['BldgType'] == '1Fam', 1, 0)\n",
    "\n",
    "\n",
    "tmp['MSSubClass'] = tmp['MSSubClass'].replace(\n",
    "    {'90': 'C1', '85': 'C1',\n",
    "     '160': 'C2', '180': 'C2',\n",
    "     '120': 'C3', '150': 'C3', '60': 'C3', '70': 'C3', '20': 'C3', '30': 'C3',\n",
    "     '75': 'C4', '80': 'C4', '40': 'C4',\n",
    "     '45': 'C5', '190': 'C5', '50': 'C5',\n",
    "    }\n",
    ")\n",
    "tmp.drop(columns=['BldgType', 'RoofStyle', 'RoofMatl', 'ExterCond', 'ExterQual'], inplace=True)\n",
    "\n",
    "tmp_cols_to_dummy = ['MSSubClass', 'Exterior1st']\n",
    "\n",
    "\n",
    "tmp = tmp.loc[tmp.SalePrice < 475000, :]\n",
    "show_dummy_corr(tmp)"
   ]
  },
  {
   "cell_type": "markdown",
   "id": "72f05f41",
   "metadata": {
    "hidden": true
   },
   "source": [
    "- MSSubClass C1, C3, C5 correlated\n",
    "- Exterior1st MetalWood, Vinyl correlated - unite into one\n",
    "- Maybe left it for the PCA"
   ]
  },
  {
   "cell_type": "markdown",
   "id": "dd31897c",
   "metadata": {},
   "source": [
    "### Basement"
   ]
  },
  {
   "cell_type": "code",
   "execution_count": null,
   "id": "62a051b0",
   "metadata": {},
   "outputs": [],
   "source": [
    "cols_to_dummy = ['MSSubClass', 'BldgType', 'HouseStyle', 'RoofStyle', 'RoofMatl', 'Exterior1st',\n",
    "                 'Exterior2nd', 'MasVnrType', 'ExterQual', 'ExterCond']\n",
    "X = data.copy()\n",
    "X = X.loc[:, cols_to_dummy+['SalePrice']]\n",
    "X['MSSubClass'] = X['MSSubClass'].astype(str)"
   ]
  },
  {
   "cell_type": "code",
   "execution_count": null,
   "id": "bc656eb0",
   "metadata": {},
   "outputs": [],
   "source": [
    "#'Foundation', 'BsmtQual', 'BsmtCond', 'BsmtExposure', 'BsmtFinType1', 'BsmtFinType2',"
   ]
  },
  {
   "cell_type": "markdown",
   "id": "49dbaa77",
   "metadata": {
    "ExecuteTime": {
     "end_time": "2022-11-02T08:23:04.602056Z",
     "start_time": "2022-11-02T08:23:04.595054Z"
    }
   },
   "source": [
    "### Garage"
   ]
  },
  {
   "cell_type": "code",
   "execution_count": null,
   "id": "680e44ac",
   "metadata": {},
   "outputs": [],
   "source": [
    "# 'GarageType', 'GarageFinish', 'GarageQual', 'GarageCond'"
   ]
  },
  {
   "cell_type": "markdown",
   "id": "e9cb42cd",
   "metadata": {},
   "source": [
    "### Services"
   ]
  },
  {
   "cell_type": "code",
   "execution_count": null,
   "id": "5c2ac539",
   "metadata": {},
   "outputs": [],
   "source": [
    "#'Heating', 'HeatingQC', 'CentralAir', 'Electrical', 'Functional', 'Utilities'"
   ]
  },
  {
   "cell_type": "markdown",
   "id": "824bd5bc",
   "metadata": {},
   "source": [
    "### Luxury"
   ]
  },
  {
   "cell_type": "code",
   "execution_count": null,
   "id": "471132a3",
   "metadata": {},
   "outputs": [],
   "source": [
    "#'FireplaceQu', 'PoolQC', 'Fence', 'MiscFeature',"
   ]
  },
  {
   "cell_type": "markdown",
   "id": "76b6402e",
   "metadata": {},
   "source": [
    "### Misc"
   ]
  },
  {
   "cell_type": "code",
   "execution_count": null,
   "id": "44484cb7",
   "metadata": {},
   "outputs": [],
   "source": [
    "#'SaleType', 'SaleCondition'"
   ]
  },
  {
   "cell_type": "markdown",
   "id": "aa4fa395",
   "metadata": {},
   "source": [
    "### Overview"
   ]
  },
  {
   "cell_type": "markdown",
   "id": "c43069e5",
   "metadata": {},
   "source": [
    "- Recode MSZoning into IsLowDensityArea: 2 categories\n",
    "- Recode Neighborhood into 5 categories; maybe unite C1, C2, C3 (i.e. 3 categories)\n",
    "- Recode Condition1, Condition2 into IsBusyEnv: 2 categories\n",
    "\n",
    "-------------------------------------------------------------------------------------------------------\n",
    "\n",
    "- Recode Alley into IsAlleyGravel: 2 categories\n",
    "- Recode LandCountour into IsLandFlat: 2 categories\n",
    "- Recode LotConfig into IsNarrow: 2 categories\n",
    "- Recode PavedDrive into IsPaved: 2 categories\n",
    "\n",
    "-------------------------------------------------------------------------------------------------------\n",
    "\n",
    "- Recode MSSubClass into 5 categories; still a lot could be done here\n",
    "- Recode BldgType into IsOneFamily: 2 categories\n",
    "- Recode HouseStyle into IsOneFloor: 2 categories\n",
    "- Recode RoofStyle into IsRoofGable: 2 categories\n",
    "- Recode RoofMatl into IsRoofStandard: 2 categories\n",
    "- Recode Exterior1st, Exterior2nd, into 5 categories\n",
    "- MasVnrType into 3 categories; maybe 2 categories\n",
    "- Recode ExterQual into IsExtQualGood: 2 categories\n",
    "- Recode ExterCond into IsExtCondGood: 2 categories\n",
    "\n",
    "-------------------------------------------------------------------------------------------------------\n"
   ]
  },
  {
   "cell_type": "code",
   "execution_count": 69,
   "id": "cb501292",
   "metadata": {
    "ExecuteTime": {
     "end_time": "2022-11-02T06:57:15.761677Z",
     "start_time": "2022-11-02T06:57:15.756158Z"
    }
   },
   "outputs": [
    {
     "data": {
      "text/plain": [
       "Renderers configuration\n",
       "-----------------------\n",
       "    Default renderer: 'browser'\n",
       "    Available renderers:\n",
       "        ['plotly_mimetype', 'jupyterlab', 'nteract', 'vscode',\n",
       "         'notebook', 'notebook_connected', 'kaggle', 'azure', 'colab',\n",
       "         'cocalc', 'databricks', 'json', 'png', 'jpeg', 'jpg', 'svg',\n",
       "         'pdf', 'browser', 'firefox', 'chrome', 'chromium', 'iframe',\n",
       "         'iframe_connected', 'sphinx_gallery', 'sphinx_gallery_png']"
      ]
     },
     "execution_count": 69,
     "metadata": {},
     "output_type": "execute_result"
    }
   ],
   "source": [
    "import plotly.io as pio\n",
    "pio.renderers"
   ]
  }
 ],
 "metadata": {
  "kernelspec": {
   "display_name": "Python 3 (ipykernel)",
   "language": "python",
   "name": "python3"
  },
  "language_info": {
   "codemirror_mode": {
    "name": "ipython",
    "version": 3
   },
   "file_extension": ".py",
   "mimetype": "text/x-python",
   "name": "python",
   "nbconvert_exporter": "python",
   "pygments_lexer": "ipython3",
   "version": "3.10.0"
  },
  "toc": {
   "base_numbering": 1,
   "nav_menu": {},
   "number_sections": true,
   "sideBar": true,
   "skip_h1_title": false,
   "title_cell": "Table of Contents",
   "title_sidebar": "Contents",
   "toc_cell": false,
   "toc_position": {},
   "toc_section_display": true,
   "toc_window_display": false
  },
  "varInspector": {
   "cols": {
    "lenName": 16,
    "lenType": 16,
    "lenVar": 40
   },
   "kernels_config": {
    "python": {
     "delete_cmd_postfix": "",
     "delete_cmd_prefix": "del ",
     "library": "var_list.py",
     "varRefreshCmd": "print(var_dic_list())"
    },
    "r": {
     "delete_cmd_postfix": ") ",
     "delete_cmd_prefix": "rm(",
     "library": "var_list.r",
     "varRefreshCmd": "cat(var_dic_list()) "
    }
   },
   "types_to_exclude": [
    "module",
    "function",
    "builtin_function_or_method",
    "instance",
    "_Feature"
   ],
   "window_display": false
  }
 },
 "nbformat": 4,
 "nbformat_minor": 5
}
