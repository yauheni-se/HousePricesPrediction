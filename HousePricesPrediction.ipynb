{
 "cells": [
  {
   "cell_type": "markdown",
   "id": "d977038a",
   "metadata": {},
   "source": [
    "![alt text](ames_iowa_downtown.avif \"Ames downtown city\")"
   ]
  },
  {
   "cell_type": "markdown",
   "id": "07044f11",
   "metadata": {},
   "source": [
    "The aim of the followinng project is to predict house sale prices in Ames town, Iowa, USA. Ames is a typical small provincial american town with a population around 66 thousand (according to the 2020 census). This example might be generalized to other small towns in the United States, especially in Iowa. However, the main reason why this notebook was ever created is to present the typical Data Science workflow when dealing with regression predictive type of problem."
   ]
  },
  {
   "cell_type": "markdown",
   "id": "5593680f",
   "metadata": {
    "heading_collapsed": true
   },
   "source": [
    "# Presets"
   ]
  },
  {
   "cell_type": "code",
   "execution_count": null,
   "id": "738d91a8",
   "metadata": {
    "ExecuteTime": {
     "end_time": "2022-12-05T17:55:03.998810Z",
     "start_time": "2022-12-05T17:54:57.189893Z"
    },
    "hidden": true
   },
   "outputs": [],
   "source": [
    "import pandas as pd\n",
    "import numpy as np\n",
    "import plotly.express as px\n",
    "import plotly.graph_objects as go\n",
    "import plotly.figure_factory as ff\n",
    "import matplotlib.pyplot as plt\n",
    "import seaborn as sns\n",
    "from IPython.display import display\n",
    "import plotly.io as pio\n",
    "\n",
    "from sklearn import decomposition\n",
    "from statsmodels.stats.outliers_influence import variance_inflation_factor\n",
    "from prince import MCA\n",
    "from sklearn import metrics\n",
    "\n",
    "# Models\n",
    "from sklearn.ensemble import (\n",
    "    RandomForestRegressor, AdaBoostRegressor, GradientBoostingRegressor, ExtraTreesRegressor,\n",
    "    HistGradientBoostingRegressor, StackingRegressor, VotingRegressor\n",
    ")\n",
    "from sklearn.linear_model import (\n",
    "    LinearRegression, Lars, Lasso, LassoLars, Ridge, ARDRegression,\n",
    "    ElasticNet, BayesianRidge, GammaRegressor, HuberRegressor, RANSACRegressor,\n",
    "    PassiveAggressiveRegressor, TheilSenRegressor, RidgeCV\n",
    ")\n",
    "from sklearn.neighbors import KNeighborsRegressor\n",
    "from sklearn.neural_network import MLPRegressor\n",
    "from sklearn.svm import SVR\n",
    "from xgboost import XGBRFRegressor, XGBRegressor\n",
    "from lightgbm import LGBMRegressor\n",
    "from catboost import CatBoostRegressor"
   ]
  },
  {
   "cell_type": "code",
   "execution_count": null,
   "id": "1feafd97",
   "metadata": {
    "ExecuteTime": {
     "end_time": "2022-12-05T17:55:13.885325Z",
     "start_time": "2022-12-05T17:55:04.000120Z"
    },
    "hidden": true
   },
   "outputs": [],
   "source": [
    "from FunctionsEDA import *\n",
    "from FunctionsFeatureSelection import *\n",
    "from FunctionsDataPreparation import *\n",
    "\n",
    "np.random.seed(42)\n",
    "pio.renderers.default = \"browser\"\n",
    "pd.set_option('display.max_columns', 500)"
   ]
  },
  {
   "cell_type": "code",
   "execution_count": null,
   "id": "ddf6950e",
   "metadata": {
    "ExecuteTime": {
     "end_time": "2022-12-05T17:55:13.918698Z",
     "start_time": "2022-12-05T17:55:13.887357Z"
    },
    "hidden": true
   },
   "outputs": [],
   "source": [
    "data = pd.read_csv('train.csv')"
   ]
  },
  {
   "cell_type": "markdown",
   "id": "680e673c",
   "metadata": {
    "heading_collapsed": true
   },
   "source": [
    "# Basic statistics"
   ]
  },
  {
   "cell_type": "code",
   "execution_count": null,
   "id": "723ce99b",
   "metadata": {
    "ExecuteTime": {
     "end_time": "2022-12-05T17:55:14.131030Z",
     "start_time": "2022-12-05T17:55:13.920737Z"
    },
    "hidden": true
   },
   "outputs": [],
   "source": [
    "show_data(data)"
   ]
  },
  {
   "cell_type": "markdown",
   "id": "85e0fb1f",
   "metadata": {
    "hidden": true
   },
   "source": [
    "- Rows/cols ratio seems to be pretty small, taking into consideration the fact that lot of variables are of type 'object'. Thus, dimensionality reduction must be held for sure\n",
    "- MiscFeature, PoolQC, FireplaceQu, Alley, Fence are almost totally absent\n",
    "- There are significant outliers almost in every variable"
   ]
  },
  {
   "cell_type": "markdown",
   "id": "1fd8d7a3",
   "metadata": {
    "heading_collapsed": true
   },
   "source": [
    "# Qualitative (business) analysis"
   ]
  },
  {
   "cell_type": "markdown",
   "id": "bd4c5d9c",
   "metadata": {
    "hidden": true
   },
   "source": [
    "With the statistics shown above, we will try to analize and predict the influence of each variable in the sale price. Each variable will be given a predifined influence (low, medium, high) and the corresponding effect sign(stimulant, distimulant, mixed)"
   ]
  },
  {
   "cell_type": "code",
   "execution_count": null,
   "id": "72dcf5d9",
   "metadata": {
    "ExecuteTime": {
     "end_time": "2022-12-05T17:55:14.845031Z",
     "start_time": "2022-12-05T17:55:14.132558Z"
    },
    "hidden": true
   },
   "outputs": [],
   "source": [
    "stim_vec = [\n",
    "    'n', 'm', 'm', 's', 's', 's', 's', 'd', 'd',\n",
    "    's', 'd', 'd', 'm', 'm', 'm', 'm', 'm', 'd', 'd',\n",
    "    's', 'd', 'm', 'm', 'm', 'm', 'm', 'm', 'm',\n",
    "    'm', 'd', 'd', 's', 'd', 'd', 'm',  'm', 'd', 's',\n",
    "    'm', 'd', 'm', 'm',\n",
    "    's', 's', 'd', 's', 's', 's', 's', 's', 's', 's', 's', 'd', 's', 'd', 's', 'd',\n",
    "    's', 'd', 'm', 's', 's', 'd', 'd',\n",
    "    's', 's', 's', 's', 's',\n",
    "    's', 'd', 'd', 's', 's', 's', 'm', 'm', 's', 's', 'n'\n",
    "]\n",
    "imp_vec = [\n",
    "    'l', 'l', 'h', 'l', 'h', 'l', 'm', 'm', 'l',\n",
    "    'h', 'm', 'l', 'm', 'h', 'h', 'h', 'l', 'm', 'm',\n",
    "    'h', 'h', 'l', 'l', 'l', 'l', 'l', 'l', 'l',\n",
    "    'l', 'l', 'l', 'm', 'm', 'm', 'l', 'l', 'l', 'm',\n",
    "    'l', 'm', 'l', 'l',\n",
    "    'l', 'l', 'l', 'l', 'l', 'l', 'l', 'l', 'l', 'm', 'l', 'l', 'm', 'l', 'l', 'l',\n",
    "    'm', 'l', 'l', 'l', 'l', 'l', 'l', \n",
    "    'l', 'l', 'l', 'l', 'l',\n",
    "    'm', 'l', 'm', 'm', 'l', 'l', 'm', 'm', 'l', 'l', 'n'\n",
    "]\n",
    "\n",
    "quantitative_eda(data, stim_vec, imp_vec)"
   ]
  },
  {
   "cell_type": "markdown",
   "id": "18eb6a3f",
   "metadata": {
    "heading_collapsed": true
   },
   "source": [
    "# Feature engineering"
   ]
  },
  {
   "cell_type": "code",
   "execution_count": null,
   "id": "90f3e9fc",
   "metadata": {
    "ExecuteTime": {
     "end_time": "2022-12-05T17:55:14.861035Z",
     "start_time": "2022-12-05T17:55:14.846031Z"
    },
    "hidden": true
   },
   "outputs": [],
   "source": [
    "X = data.copy()"
   ]
  },
  {
   "cell_type": "code",
   "execution_count": null,
   "id": "06b0aa5f",
   "metadata": {
    "ExecuteTime": {
     "end_time": "2022-12-05T17:55:14.893042Z",
     "start_time": "2022-12-05T17:55:14.862036Z"
    },
    "hidden": true
   },
   "outputs": [],
   "source": [
    "X['MSSubClass'] = X['MSSubClass'].astype(str)\n",
    "\n",
    "\n",
    "X['PorchType_WoodDeck'] = np.where(X['WoodDeckSF'] != 0, 1, 0)\n",
    "X['PorchType_OpenPorchSF'] = np.where(X['OpenPorchSF'] != 0, 1, 0)\n",
    "X['PorchType_Enclosed'] = np.where(X['EnclosedPorch'] != 0, 1, 0)\n",
    "X['PorchType_Screen'] = np.where(X['ScreenPorch'] != 0, 1, 0)\n",
    "X['PorchType_3SsnPorch'] = np.where(X['3SsnPorch'] != 0, 1, 0)\n",
    "X['IsBsmFin'] = np.where(X['BsmtUnfSF'] != 0, 1, 0)\n",
    "X['IsFireplace'] = np.where(X['Fireplaces'] != 0, 1, 0)\n",
    "X['IsMiscVal'] = np.where(X['MiscVal'] != 0, 1, 0)\n",
    "X['IsLowQual'] = np.where(X['LowQualFinSF'] != 0, 1, 0)\n",
    "\n",
    "X['PerRoomSF'] = X['GrLivArea']/X['TotRmsAbvGrd']\n",
    "X['PorchSF'] = (X['WoodDeckSF'] + X['OpenPorchSF'] + \n",
    "                X['EnclosedPorch'] + X['3SsnPorch'] + \n",
    "                X['ScreenPorch'])\n",
    "\n",
    "X['TotalBaths'] = X['BsmtFullBath']+0.5*X['BsmtHalfBath']+X['FullBath']+X['HalfBath']*0.5\n",
    "\n",
    "X['FloorRatio'] = X['2ndFlrSF']/X['1stFlrSF']\n",
    "X['BsmFinUnfRatio'] = X['BsmtUnfSF']/X['TotalBsmtSF']\n",
    "X['BsmLowQualRatio'] = X['LowQualFinSF']/X['TotalBsmtSF']\n",
    "X['BsmFin2BsmFin1Ratio'] = X['BsmtFinSF2']/X['BsmtFinSF1']\n",
    "X['GarageLivRatio'] = X['GarageArea']/X['GrLivArea']\n",
    "\n",
    "X['KitchenRatio'] = X['KitchenAbvGr']/X['TotRmsAbvGrd']\n",
    "X['BathRatio'] = X['TotalBaths']/X['TotRmsAbvGrd']\n",
    "X['BedroomRatio'] = X['BedroomAbvGr']/X['TotRmsAbvGrd']\n",
    "\n",
    "X['IsRennovated'] = np.where(X['YearBuilt'] != X['YearRemodAdd'], 1, 0)"
   ]
  },
  {
   "cell_type": "code",
   "execution_count": null,
   "id": "618cc731",
   "metadata": {
    "ExecuteTime": {
     "end_time": "2022-12-05T17:55:15.149099Z",
     "start_time": "2022-12-05T17:55:14.894043Z"
    },
    "hidden": true,
    "scrolled": false
   },
   "outputs": [],
   "source": [
    "show_data(X)"
   ]
  },
  {
   "cell_type": "markdown",
   "id": "837dc55c",
   "metadata": {
    "hidden": true
   },
   "source": [
    "fill na with zero; fill na in garage year built with the minimum year"
   ]
  },
  {
   "cell_type": "code",
   "execution_count": null,
   "id": "eb101ba4",
   "metadata": {
    "ExecuteTime": {
     "end_time": "2022-12-05T17:55:15.165103Z",
     "start_time": "2022-12-05T17:55:15.152102Z"
    },
    "hidden": true
   },
   "outputs": [],
   "source": [
    "cols_to_fill = [\n",
    "    'LotFrontage', 'MasVnrArea', \n",
    "    'BsmFin2BsmFin1Ratio', 'BsmLowQualRatio', 'BsmFinUnfRatio', 'BsmFinUnfRatio'\n",
    "]\n",
    "for i in cols_to_fill:\n",
    "    X[i] = X[i].fillna(0)\n",
    "    \n",
    "X['BsmLowQualRatio'] = X['BsmLowQualRatio'].replace([np.inf, -np.inf], 1)\n",
    "X['GarageYrBlt'] = X['GarageYrBlt'].fillna(X['GarageYrBlt'].min())"
   ]
  },
  {
   "cell_type": "markdown",
   "id": "554ff87c",
   "metadata": {},
   "source": [
    "# EDA"
   ]
  },
  {
   "cell_type": "markdown",
   "id": "0898d5d1",
   "metadata": {
    "heading_collapsed": true
   },
   "source": [
    "## Numeric"
   ]
  },
  {
   "cell_type": "code",
   "execution_count": null,
   "id": "ec4489b5",
   "metadata": {
    "ExecuteTime": {
     "end_time": "2022-12-05T17:55:22.615084Z",
     "start_time": "2022-12-05T17:55:15.166105Z"
    },
    "hidden": true,
    "scrolled": true
   },
   "outputs": [],
   "source": [
    "plots_numeric = show_plots_single(X, 'SalePrice', f_size=7, p_height=3000)"
   ]
  },
  {
   "cell_type": "code",
   "execution_count": null,
   "id": "d161d36a",
   "metadata": {
    "ExecuteTime": {
     "end_time": "2022-12-05T17:55:22.725111Z",
     "start_time": "2022-12-05T17:55:22.615084Z"
    },
    "hidden": true
   },
   "outputs": [],
   "source": [
    "plots_numeric['num_single'].show()"
   ]
  },
  {
   "cell_type": "code",
   "execution_count": null,
   "id": "d8553cd7",
   "metadata": {
    "ExecuteTime": {
     "end_time": "2022-12-05T17:55:23.073190Z",
     "start_time": "2022-12-05T17:55:22.726112Z"
    },
    "hidden": true
   },
   "outputs": [],
   "source": [
    "plots_numeric['num_split'].show()\n",
    "plots_numeric['num_split_rid'].show()\n",
    "plots_numeric['num_vs_y_split'].show()"
   ]
  },
  {
   "cell_type": "code",
   "execution_count": null,
   "id": "01e6781c",
   "metadata": {
    "ExecuteTime": {
     "end_time": "2022-12-05T17:55:23.201219Z",
     "start_time": "2022-12-05T17:55:23.075194Z"
    },
    "hidden": true
   },
   "outputs": [],
   "source": [
    "plots_numeric['num_split_hist'].show()"
   ]
  },
  {
   "cell_type": "code",
   "execution_count": null,
   "id": "fd69a50d",
   "metadata": {
    "ExecuteTime": {
     "end_time": "2022-12-05T17:55:24.417495Z",
     "start_time": "2022-12-05T17:55:23.203221Z"
    },
    "hidden": true
   },
   "outputs": [],
   "source": [
    "corr_heatmap(X)"
   ]
  },
  {
   "cell_type": "markdown",
   "id": "7b34298b",
   "metadata": {
    "hidden": true
   },
   "source": [
    "- drop Id\n",
    "- YearBuilt, GarageYrBlt are alike\n",
    "- Porch types are rather rare variables\n",
    "- mor than 4 baths - outliers\n",
    "- most of the vars are not normally distributed - check out transformed ones"
   ]
  },
  {
   "cell_type": "code",
   "execution_count": null,
   "id": "4c03ebb3",
   "metadata": {
    "ExecuteTime": {
     "end_time": "2022-12-05T17:55:24.433496Z",
     "start_time": "2022-12-05T17:55:24.420493Z"
    },
    "hidden": true
   },
   "outputs": [],
   "source": [
    "X['TotalBaths'] = np.where(X['TotalBaths']>4, 4, X['TotalBaths'])\n",
    "X['Fireplaces'] = np.where(X['Fireplaces'] > 2, 2, X['Fireplaces'])\n",
    "X = X.drop(columns='Id')"
   ]
  },
  {
   "cell_type": "code",
   "execution_count": null,
   "id": "6c0bebcd",
   "metadata": {
    "ExecuteTime": {
     "end_time": "2022-12-05T17:55:24.448497Z",
     "start_time": "2022-12-05T17:55:24.435497Z"
    },
    "hidden": true
   },
   "outputs": [],
   "source": [
    "distribs_lst=(\n",
    "    get_common_distributions()+\n",
    "    ['powerlognorm', 'johnsonsu', 'johnsonsb', 'lognorm', 'laplace',\n",
    "     'gumbel_l', 'gumbel_r', 'genhyperbolic', 'gennorm', 'logistic', 'wrapcauchy']\n",
    ")"
   ]
  },
  {
   "cell_type": "code",
   "execution_count": null,
   "id": "f1565191",
   "metadata": {
    "ExecuteTime": {
     "end_time": "2022-12-05T17:59:07.199919Z",
     "start_time": "2022-12-05T17:55:24.449501Z"
    },
    "hidden": true,
    "scrolled": true
   },
   "outputs": [],
   "source": [
    "data_eda = fit_distributions(X, f_size=6, refit=True, distribs_lst=distribs_lst)\n",
    "data_eda = prepare_data(data_eda, 'SalePrice_trnsf', what='standardize')"
   ]
  },
  {
   "cell_type": "code",
   "execution_count": null,
   "id": "e9289b8f",
   "metadata": {
    "ExecuteTime": {
     "end_time": "2022-12-05T17:59:13.946252Z",
     "start_time": "2022-12-05T17:59:07.199919Z"
    },
    "hidden": true
   },
   "outputs": [],
   "source": [
    "plots_numeric = show_plots_single(data_eda, 'SalePrice_trnsf', f_size=7, p_height=3000)"
   ]
  },
  {
   "cell_type": "code",
   "execution_count": null,
   "id": "9c9ee3df",
   "metadata": {
    "ExecuteTime": {
     "end_time": "2022-12-05T17:59:14.496297Z",
     "start_time": "2022-12-05T17:59:13.946252Z"
    },
    "hidden": true
   },
   "outputs": [],
   "source": [
    "plots_numeric['num_split'].show()\n",
    "plots_numeric['num_split_rid'].show()\n",
    "plots_numeric['num_vs_y_split'].show()"
   ]
  },
  {
   "cell_type": "code",
   "execution_count": null,
   "id": "c2dca2d9",
   "metadata": {
    "ExecuteTime": {
     "end_time": "2022-12-05T17:59:14.766359Z",
     "start_time": "2022-12-05T17:59:14.498298Z"
    },
    "hidden": true
   },
   "outputs": [],
   "source": [
    "plots_numeric['num_vs_y_single'].show()"
   ]
  },
  {
   "cell_type": "code",
   "execution_count": null,
   "id": "3dd9c967",
   "metadata": {
    "ExecuteTime": {
     "end_time": "2022-12-05T17:59:14.972406Z",
     "start_time": "2022-12-05T17:59:14.768361Z"
    },
    "hidden": true
   },
   "outputs": [],
   "source": [
    "corr_heatmap(data_eda)"
   ]
  },
  {
   "cell_type": "code",
   "execution_count": null,
   "id": "a131f827",
   "metadata": {
    "ExecuteTime": {
     "end_time": "2022-12-05T17:59:15.004413Z",
     "start_time": "2022-12-05T17:59:14.974407Z"
    },
    "hidden": true
   },
   "outputs": [],
   "source": [
    "corr_orig = X.corr().SalePrice.to_frame().reset_index()\n",
    "corr_trnsf = data_eda.corr().SalePrice_trnsf.to_frame().reset_index()\n",
    "corr_trnsf['index'] = corr_trnsf['index'].str.replace('_trnsf', '')\n",
    "corr_all = corr_trnsf.merge(corr_orig, on='index', how='left')\n",
    "corr_all['IsImprovement'] = np.where(\n",
    "    corr_all['SalePrice_trnsf'].abs()>corr_all['SalePrice'].abs(),\n",
    "    1,\n",
    "    0)"
   ]
  },
  {
   "cell_type": "code",
   "execution_count": null,
   "id": "c1c9e440",
   "metadata": {
    "ExecuteTime": {
     "end_time": "2022-12-05T17:59:15.020417Z",
     "start_time": "2022-12-05T17:59:15.005414Z"
    },
    "hidden": true
   },
   "outputs": [],
   "source": [
    "print('Improvement on', corr_all['IsImprovement'].sum(), 'out of', corr_all.shape[0], 'columns')\n",
    "corr_all.loc[corr_all['IsImprovement']==0, :]"
   ]
  },
  {
   "cell_type": "code",
   "execution_count": null,
   "id": "c0669efc",
   "metadata": {
    "ExecuteTime": {
     "end_time": "2022-12-05T17:59:15.036419Z",
     "start_time": "2022-12-05T17:59:15.022417Z"
    },
    "hidden": true,
    "scrolled": false
   },
   "outputs": [],
   "source": [
    "#sns.pairplot(data, diag_kind=\"kde\")"
   ]
  },
  {
   "cell_type": "markdown",
   "id": "c3a24d73",
   "metadata": {
    "heading_collapsed": true
   },
   "source": [
    "## Categorical"
   ]
  },
  {
   "cell_type": "code",
   "execution_count": null,
   "id": "d87f39e1",
   "metadata": {
    "ExecuteTime": {
     "end_time": "2022-12-05T17:59:15.068428Z",
     "start_time": "2022-12-05T17:59:15.038420Z"
    },
    "code_folding": [
     0
    ],
    "hidden": true
   },
   "outputs": [],
   "source": [
    "def prepare_data_cat(X):\n",
    "    X['MSZoning'] = X.MSZoning.replace({'RH':'RM', 'FV':'RL', 'C (all)': 'RM'})\n",
    "    X['IsLowDensityArea'] = np.where(X['MSZoning'] == 'RL', 1, 0)\n",
    "    \n",
    "    X['Neighborhood'] = X.Neighborhood.replace(\n",
    "        {'Edwards': 'C0', 'OldTown': 'C0', 'Sawyer': 'C0', 'BrkSide': 'C0',\n",
    "         'Blueste': 'C0', 'NPkVill': 'C0', 'Mitchel': 'C0', 'SWISU': 'C0', 'NAmes': 'C0',\n",
    "         'MeadowV': 'C1', 'BrDale': 'C1', 'IDOTRR': 'C1',\n",
    "         'NridgHt': 'C2', 'StoneBr': 'C2', 'NoRidge': 'C2',\n",
    "         'SawyerW': 'C3', 'Blmngtn': 'C3', 'Gilbert': 'C3', 'NWAmes': 'C3',\n",
    "         'Somerst': 'C4', 'Timber': 'C4', 'Veenker': 'C4',\n",
    "         'Crawfor': 'C4', 'CollgCr': 'C4', 'ClearCr': 'C4',\n",
    "        }\n",
    "    )\n",
    "    \n",
    "    X['Condition1'] = X['Condition1'].replace(\n",
    "        {'PosA': 'C1', 'PosN': 'C1', 'RRAn':'C1', 'RRNe': 'C1', 'RRNn': 'C1', 'Norm': 'C1',\n",
    "         'Feedr':'C2', 'Artery':'C2', 'RRAe':'C2'\n",
    "        }\n",
    "    )\n",
    "    X['Condition2'] = X['Condition2'].replace(\n",
    "        {'PosA': 'C1', 'PosN': 'C1', 'RRAn':'C1', 'RRNe': 'C1', 'RRNn': 'C1', 'Norm': 'C1',\n",
    "         'Feedr':'C2', 'Artery':'C2', 'RRAe':'C2'\n",
    "        }\n",
    "    )\n",
    "    X['Condition1'] = np.where(X['Condition1'] == 'C1', 1, 0)\n",
    "    X['Condition2'] = np.where(X['Condition2'] == 'C1', 1, 0)\n",
    "    X['IsEnvGood'] = np.where(X['Condition2']+X['Condition1'] == 2, 1, 0)\n",
    "    \n",
    "    X['Alley'] = X.Alley.fillna('Pave')\n",
    "    X['IsAlleyGravel'] = np.where(X['Alley'] == 'Pave', 0, 1)\n",
    "    X['IsShapeReg'] = np.where(X['LotShape'] ==  'Reg', 1, 0)\n",
    "    X['LandContour'] = X['LandContour'].replace(\n",
    "        {'Lvl': 'Norm', 'Bnk': 'Norm', 'Low': 'Ir', 'HLS': 'Ir'}\n",
    "    )\n",
    "    X['IsLandFlat'] = np.where(X['LandContour'] == 'Ir', 0, 1)\n",
    "    \n",
    "    X['LotConfig'] = X['LotConfig'].replace(\n",
    "        {'Inside': 'Norm', 'FR2': 'Norm', 'Corner': 'Norm', 'CulDSac': 'Ir', 'FR3': 'Ir'}\n",
    "    )\n",
    "    X['IsNarrow'] = np.where(X['LotConfig'] == 'Ir', 0, 1)\n",
    "    X['IsSlope'] = np.where((X['LandSlope'] == 'Mod') | (X['LandSlope'] == 'Sev'), 1, 0)\n",
    "    X['IsPaved'] = np.where((X['PavedDrive'] == 'N') | (X['PavedDrive'] == 'P'), 0, 1)\n",
    "    \n",
    "    X['MSSubClass'] = X['MSSubClass'].replace(\n",
    "        {'20': 'C0', '70': 'C0', '75': 'C0', '80': 'C0',\n",
    "         '60': 'C1', '120': 'C1',\n",
    "         '90': 'C2', '85': 'C2', '40': 'C2', '160': 'C2', '50': 'C2', '190': 'C2',\n",
    "         '45': 'C3', '30': 'C3', '180': 'C3'\n",
    "        }\n",
    "    )\n",
    "    X['IsOneFamily'] = np.where(X['BldgType'] == '1Fam', 1, 0)\n",
    "    X['IsOneFloor'] = X['HouseStyle'].replace(\n",
    "        {'SFoyer': '1', 'SLvl': '1', '1Story': '1',\n",
    "         '1.5Fin': '1', '1.5Unf': '1',\n",
    "         '2Story': '0', '2.5Fin': '0', '2.5Unf': '0'\n",
    "        }\n",
    "    ).astype(np.int64)\n",
    "    X['IsRoofGable'] = np.where(X['RoofStyle'] == 'Gable', 1, 0)\n",
    "    X['IsRoofStandard'] = np.where(X['RoofMatl'] == 'CompShg', 1, 0)\n",
    "    X['Exterior_1'] = X['Exterior1st'].replace(\n",
    "        {'VinylSd': 'C0',\n",
    "         'BrkFace': 'C1', 'BrkComm': 'C1', 'Plywood': 'C1', 'Brk Cmn': 'C1',\n",
    "         'CmentBd': 'C2', 'Stone': 'C2', 'CemntBd': 'C2', 'Other': 'C2',\n",
    "         'AsphShn': 'C3', 'AsbShng': 'C3', 'ImStucc': 'C3', 'CBlock': 'C3',\n",
    "         'Wd Sdng': 'C4', 'Wd Shng': 'C4', 'WdShing': 'C4', 'Stucco': 'C4',\n",
    "         'HdBoard': 'C4', 'MetalSd': 'C4'\n",
    "        }\n",
    "    )\n",
    "    X['Exterior_2'] = X['Exterior2nd'].replace(\n",
    "        {'VinylSd': 'C0',\n",
    "         'BrkFace': 'C1', 'BrkComm': 'C1', 'Plywood': 'C1', 'Brk Cmn': 'C1',\n",
    "         'CmentBd': 'C2', 'Stone': 'C2', 'CemntBd': 'C2', 'Other': 'C2',\n",
    "         'AsphShn': 'C3', 'AsbShng': 'C3', 'ImStucc': 'C3', 'CBlock': 'C3',\n",
    "         'Wd Sdng': 'C4', 'Wd Shng': 'C4', 'WdShing': 'C4', 'Stucco': 'C4',\n",
    "         'HdBoard': 'C4', 'MetalSd': 'C4'\n",
    "        }\n",
    "    )\n",
    "    X['MasVnrType'] = X['MasVnrType'].fillna('None')\n",
    "    X['MasVnrType'] = X['MasVnrType'].replace({'BrkFace': 'Brick', 'BrkCmn': 'Brick'})\n",
    "    X['IsExtQualGood'] = np.where((X['ExterQual'] == 'Ex') | (X['ExterQual'] == 'Good'), 1, 0)\n",
    "    X['IsExtCondGood'] = np.where((X['ExterCond'] == 'Ex') | (X['ExterCond'] == 'Good'), 1, 0)\n",
    "    \n",
    "    X['IsBsmConcrete'] = np.where(X['Foundation'] == 'PConc', 1, 0)\n",
    "    \n",
    "    X['BsmtCond'] = X['BsmtCond'].fillna('Absent')\n",
    "    X['BsmtQual'] = X['BsmtQual'].fillna('Absent')\n",
    "    X['BsmtQual'] = X['BsmtQual'].replace(\n",
    "        {'Ex': 'Good', 'Gd': 'Good', 'TA': 'Good', 'Fa': 'Bad', 'Po': 'Bad'}\n",
    "    )\n",
    "    X['BsmtCond'] = X['BsmtCond'].replace(\n",
    "        {'Ex': 'Good', 'Gd': 'Good', 'TA': 'Good', 'Fa': 'Bad', 'Po': 'Bad'}\n",
    "    )\n",
    "    X['IsBsmQualGood'] = np.where((X['BsmtQual'] == 'Ex') | (X['BsmtQual'] == 'Good'), 1, 0)\n",
    "    X['IsBsmCondGood'] = np.where((X['BsmtCond'] == 'Ex') | (X['BsmtCond'] == 'Good'), 1, 0)\n",
    "    \n",
    "    X['BsmtExposure'] = X['BsmtExposure'].fillna('Absent')\n",
    "    X['BsmExposure'] = X['BsmtExposure'].replace(\n",
    "        {'Mn': 'Norm', 'Av': 'Norm', 'Absent': 'No'}\n",
    "    )\n",
    "    \n",
    "    X['BsmtFinType1'] = X['BsmtFinType1'].fillna('Absent')\n",
    "    X['BsmFinType_1'] = X['BsmtFinType1'].replace(\n",
    "        {'Unf': 'C0',\n",
    "         'GLQ': 'C1',\n",
    "         'CemntBd': 'C2',\n",
    "         'Rec': 'C3', 'LwQ': 'C3', 'ALQ': 'C3', 'BLQ': 'C3', 'Absent': 'C3'\n",
    "        }\n",
    "    )\n",
    "    X['BsmtFinType2'] = X['BsmtFinType2'].fillna('Absent')\n",
    "    X['BsmFinType_2'] = X['BsmtFinType2'].replace(\n",
    "        {'Unf': 'C0',\n",
    "         'GLQ': 'C1',\n",
    "         'CemntBd': 'C2',\n",
    "         'Rec': 'C3', 'LWQ': 'C3', 'ALQ': 'C3', 'BLQ': 'C3', 'Absent': 'C3'\n",
    "        }\n",
    "    )\n",
    "    \n",
    "    X['GarageType'] = X['GarageType'].fillna('Absent')\n",
    "    X['GarageType'] = X['GarageType'].replace(\n",
    "        {'CarPort': 'Detchd', '2Types': 'Detchd', 'Basment': 'Detchd'}\n",
    "    )\n",
    "    X['GarageFinish'] = X['GarageFinish'].fillna('Absent')\n",
    "    X['IsGarageFinished'] = np.where(X['GarageFinish'] == 'Unf', 0, 1)\n",
    "    \n",
    "    X['HeatingQC'] = X['HeatingQC'].replace(\n",
    "        {'Ex': 'Good', 'Gd': 'Good', 'TA': 'Norm', 'Fa': 'Bad', 'Po': 'Bad'}\n",
    "    )\n",
    "    X['IsHeatGood'] = np.where(X['HeatingQC'] == 'Good', 1, 0)\n",
    "    \n",
    "    X['KitchenQual'] = X['KitchenQual'].replace(\n",
    "        {'Ex': 'Good', 'Gd': 'Good', 'TA': 'Norm', 'Fa': 'Bad', 'Po': 'Bad'}\n",
    "    )\n",
    "    X['IsKitchenGood'] = np.where(X['KitchenQual'] == 'Good', 1, 0)\n",
    "    \n",
    "    X['IsCentralAir'] = np.where(X['CentralAir'] == 'Y', 1, 0)\n",
    "    X['IsStandardElect'] = np.where(X['Electrical'] == 'SBrkr', 1, 0)\n",
    "    \n",
    "    X['FireplaceQu'] = X['FireplaceQu'].fillna('Absent')\n",
    "    X['FireplaceQual'] = X['FireplaceQu'].replace(\n",
    "        {'Ex': 'Good', 'Gd': 'Good', 'TA': 'Norm', 'Fa': 'Bad', 'Po': 'Bad', 'Absent': 'Bad'}\n",
    "    )\n",
    "    \n",
    "    X['Fence'] = X['Fence'].fillna('Absent')\n",
    "    \n",
    "    X['IsFenceGoodOrAbsent'] = X['Fence'].replace(\n",
    "        {'GdPrv': '1', 'Absent': '1', 'MnPrv': '0', 'MnWw': '0', 'GdWo': '0'}\n",
    "    ).astype(np.int64)\n",
    "    \n",
    "    X['MiscFeature'] = X['MiscFeature'].fillna('Absent')\n",
    "    X['IsShedPresent'] = np.where(X['MiscFeature'] == 'Shed', 1, 0)\n",
    "    \n",
    "    X['IsNewHouse'] = np.where(X['SaleType'] == 'New', 1, 0)\n",
    "    \n",
    "    X['SaleCond'] = X['SaleCondition'].replace(\n",
    "        {'Alloca': 'C0', 'Normal': 'C0',\n",
    "         'Partial': 'C1',\n",
    "         'Abnorml': 'C2', 'Family': 'C2', 'AdjLand': 'C2'}\n",
    "    )\n",
    "    return X"
   ]
  },
  {
   "cell_type": "code",
   "execution_count": null,
   "id": "eaa38ca7",
   "metadata": {
    "ExecuteTime": {
     "end_time": "2022-12-05T17:59:15.148448Z",
     "start_time": "2022-12-05T17:59:15.070430Z"
    },
    "hidden": true
   },
   "outputs": [],
   "source": [
    "data_eda_cat = prepare_data_cat(X)"
   ]
  },
  {
   "cell_type": "markdown",
   "id": "33333f41",
   "metadata": {
    "heading_collapsed": true
   },
   "source": [
    "## Data preparation after EDA"
   ]
  },
  {
   "cell_type": "code",
   "execution_count": null,
   "id": "fc0d4685",
   "metadata": {
    "ExecuteTime": {
     "end_time": "2022-12-05T18:58:47.741758Z",
     "start_time": "2022-12-05T18:54:45.609141Z"
    },
    "hidden": true
   },
   "outputs": [],
   "source": [
    "data_eda_final = fit_distributions(X, f_size=6, refit=True, distribs_lst=distribs_lst)\n",
    "\n",
    "corr_orig = X.corr().SalePrice.to_frame().reset_index()\n",
    "corr_trnsf = data_eda_final.corr().SalePrice_trnsf.to_frame().reset_index()\n",
    "corr_trnsf['index'] = corr_trnsf['index'].str.replace('_trnsf', '')\n",
    "corr_all = corr_trnsf.merge(corr_orig, on='index', how='left')\n",
    "corr_all['IsImprovement'] = np.where(\n",
    "    corr_all['SalePrice_trnsf'].abs()>corr_all['SalePrice'].abs(),\n",
    "    1,\n",
    "    0)\n",
    "vars_to_keep = corr_all.loc[corr_all['IsImprovement']==0, :]['index'].to_list()\n",
    "vars_to_drop = [i+'_trnsf' for i in vars_to_keep]"
   ]
  },
  {
   "cell_type": "code",
   "execution_count": null,
   "id": "e8f57d29",
   "metadata": {
    "ExecuteTime": {
     "end_time": "2022-12-05T18:58:52.798803Z",
     "start_time": "2022-12-05T18:58:52.784812Z"
    },
    "hidden": true
   },
   "outputs": [],
   "source": [
    "vars_to_drop = [\n",
    "    'MasVnrArea_trnsf', 'BsmtFinSF1_trnsf', 'BsmtUnfSF_trnsf', 'TotalBsmtSF_trnsf',\n",
    "    '1stFlrSF_trnsf', '2ndFlrSF_trnsf', 'BsmtFullBath_trnsf', 'BsmtHalfBath_trnsf',\n",
    "    'TotRmsAbvGrd_trnsf', 'ScreenPorch_trnsf', 'PoolArea_trnsf', 'YrSold_trnsf',\n",
    "    'PorchSF_trnsf', 'BedroomRatio_trnsf'\n",
    "]"
   ]
  },
  {
   "cell_type": "code",
   "execution_count": null,
   "id": "c70fde31",
   "metadata": {
    "ExecuteTime": {
     "end_time": "2022-12-05T18:58:57.627250Z",
     "start_time": "2022-12-05T18:58:57.612687Z"
    },
    "hidden": true
   },
   "outputs": [],
   "source": [
    "data_eda_final[vars_to_keep] = X.loc[:, vars_to_keep]"
   ]
  },
  {
   "cell_type": "code",
   "execution_count": null,
   "id": "1afc9337",
   "metadata": {
    "ExecuteTime": {
     "end_time": "2022-12-05T18:59:02.704710Z",
     "start_time": "2022-12-05T18:59:02.659036Z"
    },
    "hidden": true
   },
   "outputs": [],
   "source": [
    "data_eda_final = data_eda_final.drop(columns=vars_to_drop)\n",
    "data_eda_final = prepare_data_cat(data_eda_final)"
   ]
  },
  {
   "cell_type": "code",
   "execution_count": null,
   "id": "5cb77399",
   "metadata": {
    "ExecuteTime": {
     "end_time": "2022-12-05T18:59:07.793587Z",
     "start_time": "2022-12-05T18:59:07.526506Z"
    },
    "hidden": true
   },
   "outputs": [],
   "source": [
    "data_eda_final = prepare_data(data_eda_final, 'SalePrice_trnsf')"
   ]
  },
  {
   "cell_type": "code",
   "execution_count": null,
   "id": "1d301f0b",
   "metadata": {
    "ExecuteTime": {
     "end_time": "2022-12-05T18:59:49.224609Z",
     "start_time": "2022-12-05T18:59:48.842410Z"
    },
    "hidden": true
   },
   "outputs": [],
   "source": [
    "corr_heatmap(data_eda_final)"
   ]
  },
  {
   "cell_type": "markdown",
   "id": "0c38c9ae",
   "metadata": {},
   "source": [
    "# Centroids selection"
   ]
  },
  {
   "cell_type": "code",
   "execution_count": null,
   "id": "49ad02f6",
   "metadata": {},
   "outputs": [],
   "source": [
    "S"
   ]
  },
  {
   "cell_type": "code",
   "execution_count": null,
   "id": "d19e27d9",
   "metadata": {
    "ExecuteTime": {
     "end_time": "2022-12-05T19:10:30.421825Z",
     "start_time": "2022-12-05T19:10:30.409834Z"
    }
   },
   "outputs": [],
   "source": [
    "df = data_eda_final.copy()\n",
    "dependent_var = 'SalePrice_trnsf'\n",
    "#df = df.select_dtypes(exclude='object')\n",
    "#df = df.loc[:,\n",
    "       #['LotFrontage_trnsf', 'LotArea_trnsf', 'OverallQual_trnsf', 'OverallCond_trnsf',\n",
    "        #'YearBuilt_trnsf', 'YearRemodAdd_trnsf', 'SalePrice_trnsf']\n",
    "      #]"
   ]
  },
  {
   "cell_type": "code",
   "execution_count": null,
   "id": "f6c8c728",
   "metadata": {
    "ExecuteTime": {
     "start_time": "2022-12-05T19:10:32.527Z"
    }
   },
   "outputs": [],
   "source": [
    "hellwig_selection(df, 'SalePrice_trnsf')"
   ]
  },
  {
   "cell_type": "code",
   "execution_count": null,
   "id": "a436c639",
   "metadata": {
    "ExecuteTime": {
     "end_time": "2022-12-05T18:02:58.449205Z",
     "start_time": "2022-12-05T18:02:58.449205Z"
    }
   },
   "outputs": [],
   "source": [
    "#y = X['SalePrice']\n",
    "#X.drop(columns=['SalePrice'], inplace=True)"
   ]
  },
  {
   "cell_type": "markdown",
   "id": "3d4e85ca",
   "metadata": {},
   "source": [
    "# PCA, MCA, FCA"
   ]
  },
  {
   "cell_type": "code",
   "execution_count": null,
   "id": "cd2436e0",
   "metadata": {
    "ExecuteTime": {
     "end_time": "2022-12-05T18:02:58.449205Z",
     "start_time": "2022-12-05T18:02:58.449205Z"
    }
   },
   "outputs": [],
   "source": [
    "cols_to_pca = [\n",
    "    'LotFrontage', 'LotArea', 'MasVnrArea', 'BsmtFinSF1', 'BsmtUnfSF',\n",
    "    'GrLivArea', 'GarageArea', 'PorchSF', 'FloorRatio', 'PerRoomSF'\n",
    "]\n",
    "x_to_pca = X[cols_to_pca]"
   ]
  },
  {
   "cell_type": "code",
   "execution_count": null,
   "id": "ff20b2ed",
   "metadata": {
    "ExecuteTime": {
     "end_time": "2022-12-05T18:02:58.449205Z",
     "start_time": "2022-12-05T18:02:58.449205Z"
    }
   },
   "outputs": [],
   "source": [
    "pca = decomposition.PCA(n_components=5)\n",
    "pca.fit(x_to_pca)\n",
    "print(pca.explained_variance_ratio_)\n",
    "print(pca.explained_variance_ratio_.sum())\n",
    "#tmp = pca.transform(x_to_pca)"
   ]
  },
  {
   "cell_type": "code",
   "execution_count": null,
   "id": "1ac21e96",
   "metadata": {
    "ExecuteTime": {
     "end_time": "2022-12-05T18:02:58.449205Z",
     "start_time": "2022-12-05T18:02:58.449205Z"
    }
   },
   "outputs": [],
   "source": [
    "corr_heatmap(x_to_pca)"
   ]
  },
  {
   "cell_type": "code",
   "execution_count": null,
   "id": "8bc5a523",
   "metadata": {
    "ExecuteTime": {
     "end_time": "2022-12-05T18:02:58.449205Z",
     "start_time": "2022-12-05T18:02:58.449205Z"
    }
   },
   "outputs": [],
   "source": [
    "vif_data = pd.DataFrame()\n",
    "vif_data[\"feature\"] = x_to_pca.columns\n",
    "vif_data[\"VIF\"] = [\n",
    "    variance_inflation_factor(x_to_pca.values, i) for i in range(len(x_to_pca.columns))\n",
    "]\n",
    "print(vif_data)"
   ]
  },
  {
   "cell_type": "code",
   "execution_count": null,
   "id": "c015456f",
   "metadata": {
    "ExecuteTime": {
     "end_time": "2022-12-05T18:02:58.464810Z",
     "start_time": "2022-12-05T18:02:58.464810Z"
    }
   },
   "outputs": [],
   "source": [
    "X = data.copy()\n",
    "X = prepare_data_num(X)\n",
    "X = prepare_data_cat(X)\n",
    "X = make_cat_dummy(X)\n",
    "X = drop_columns_selected(X)\n",
    "X = filter_outliers(X)\n",
    "X['LotFrontage'] = X['LotFrontage'].fillna(0)\n",
    "X['MasVnrArea'] = X['MasVnrArea'].fillna(0)\n",
    "X = standardize_num(X)\n",
    "\n",
    "y = X['SalePrice']\n",
    "X.drop(columns=['SalePrice'], inplace=True)"
   ]
  },
  {
   "cell_type": "code",
   "execution_count": null,
   "id": "e043c0f2",
   "metadata": {
    "ExecuteTime": {
     "end_time": "2022-12-05T18:02:58.464810Z",
     "start_time": "2022-12-05T18:02:58.464810Z"
    }
   },
   "outputs": [],
   "source": [
    "cols_to_pca = [\n",
    "    'LotFrontage', 'LotArea', 'MasVnrArea', 'BsmtFinSF1', 'BsmtUnfSF',\n",
    "    'GrLivArea', 'GarageArea', 'PorchSF', 'FloorRatio', 'PerRoomSF', 'YearBuilt',\n",
    "    'Fireplaces', 'OverallQual'\n",
    "]\n",
    "\n",
    "x_to_mca = X.drop(columns=cols_to_pca)"
   ]
  },
  {
   "cell_type": "code",
   "execution_count": null,
   "id": "26452259",
   "metadata": {
    "ExecuteTime": {
     "end_time": "2022-12-05T18:02:58.464810Z",
     "start_time": "2022-12-05T18:02:58.464810Z"
    }
   },
   "outputs": [],
   "source": [
    "#corr_heatmap(x_to_mca)"
   ]
  },
  {
   "cell_type": "code",
   "execution_count": null,
   "id": "04ec02e7",
   "metadata": {
    "ExecuteTime": {
     "end_time": "2022-12-05T18:02:58.464810Z",
     "start_time": "2022-12-05T18:02:58.464810Z"
    }
   },
   "outputs": [],
   "source": [
    "print(\"Number of numeric cols:\", len(cols_to_pca))\n",
    "print(\"Number of 0-1 cols:\", len(x_to_mca.columns))\n",
    "print(\"Original rows-cols ratio:\", X.shape[0]/(X.shape[1]))\n",
    "print(\"Desired rows-cols ratio:\", X.shape[0]/(X.shape[1]-33))\n",
    "print(\"Desired number of 0-1 cols:\", X.shape[1]-33-len(cols_to_pca))"
   ]
  },
  {
   "cell_type": "markdown",
   "id": "fc447563",
   "metadata": {},
   "source": [
    "- the goal is to reduce at least 3x times; better 4x"
   ]
  },
  {
   "cell_type": "markdown",
   "id": "01371762",
   "metadata": {
    "heading_collapsed": true
   },
   "source": [
    "## Correlation"
   ]
  },
  {
   "cell_type": "code",
   "execution_count": null,
   "id": "98bfc360",
   "metadata": {
    "ExecuteTime": {
     "end_time": "2022-12-05T18:02:58.464810Z",
     "start_time": "2022-12-05T18:02:58.464810Z"
    },
    "hidden": true
   },
   "outputs": [],
   "source": [
    "tmp = x_to_mca.copy()\n",
    "tmp['y'] = y\n",
    "#corr_heatmap(tmp)"
   ]
  },
  {
   "cell_type": "code",
   "execution_count": null,
   "id": "f0a16ac9",
   "metadata": {
    "ExecuteTime": {
     "end_time": "2022-12-05T18:02:58.464810Z",
     "start_time": "2022-12-05T18:02:58.464810Z"
    },
    "hidden": true
   },
   "outputs": [],
   "source": [
    "del tmp"
   ]
  },
  {
   "cell_type": "markdown",
   "id": "ea1d546a",
   "metadata": {
    "hidden": true
   },
   "source": [
    "- just from the correlation perspective, top 12 variables are:\n",
    "  - IsKitchenGood (0.606)\n",
    "  - IsBsmConcrete (0.53)\n",
    "  - Neighborhood_C2 (0.519)\n",
    "  - BsmFinType_1_C1 (0.441)\n",
    "  - IsGarageFinished (0.436)\n",
    "  - FireQual_Good (0.400)\n",
    "  - Garage_Detchd (-0.396)\n",
    "  - IsHeatGood (0.379)\n",
    "  - IsLowDensityArea (0.351)\n",
    "  - Exterior_1_C4 (-0.349)\n",
    "  - BsmFinType_1_C3 (-0.333)\n",
    "  - MasVnrType_Stone (0.319) (IsNewHouse (0.322) is better but will be correlated with YearBuilt)"
   ]
  },
  {
   "cell_type": "code",
   "execution_count": null,
   "id": "f0e25c97",
   "metadata": {
    "ExecuteTime": {
     "end_time": "2022-12-05T18:02:58.464810Z",
     "start_time": "2022-12-05T18:02:58.464810Z"
    },
    "hidden": true
   },
   "outputs": [],
   "source": [
    "#corr_heatmap(x_to_mca[\n",
    "    #['IsKitchenGood', 'IsBsmConcrete', 'Neighborhood_C2',\n",
    "     #'BsmFinType_1_C1', 'IsGarageFinished', 'FireplaceQual_Good',\n",
    "     #'GarageType_Detchd', 'IsHeatGood', 'IsLowDensityArea',\n",
    "     #'Exterior_1_C4', 'BsmFinType_1_C3', 'MasVnrType_Stone'\n",
    "    #]\n",
    "#])"
   ]
  },
  {
   "cell_type": "markdown",
   "id": "0e254341",
   "metadata": {
    "heading_collapsed": true
   },
   "source": [
    "## MCA"
   ]
  },
  {
   "cell_type": "code",
   "execution_count": null,
   "id": "1573e6a9",
   "metadata": {
    "ExecuteTime": {
     "end_time": "2022-12-05T18:02:58.464810Z",
     "start_time": "2022-12-05T18:02:58.464810Z"
    },
    "hidden": true
   },
   "outputs": [],
   "source": [
    "x_to_mca = x_to_mca.apply(lambda x:  x.astype(str))\n",
    "mca = MCA(n_components = 11)\n",
    "mca = mca.fit(x_to_mca)\n",
    "sum(mca.explained_inertia_)"
   ]
  },
  {
   "cell_type": "markdown",
   "id": "bd855488",
   "metadata": {
    "hidden": true
   },
   "source": [
    "- the repcentage of variable explained is too small -> keep the original ones or use centroids"
   ]
  },
  {
   "cell_type": "markdown",
   "id": "1eaa3a72",
   "metadata": {
    "heading_collapsed": true
   },
   "source": [
    "# Feature selection"
   ]
  },
  {
   "cell_type": "code",
   "execution_count": null,
   "id": "b98e7b92",
   "metadata": {
    "ExecuteTime": {
     "end_time": "2022-12-05T18:02:58.464810Z",
     "start_time": "2022-12-05T18:02:58.464810Z"
    },
    "code_folding": [
     0
    ],
    "hidden": true
   },
   "outputs": [],
   "source": [
    "def prep_data_full(data):\n",
    "    X = data.copy()\n",
    "    X = prepare_data_num(X)\n",
    "    X = prepare_data_cat(X)\n",
    "    X = make_cat_dummy(X)\n",
    "    X = drop_columns_selected(X)\n",
    "    X = filter_outliers(X)\n",
    "    X['LotFrontage'] = X['LotFrontage'].fillna(0)\n",
    "    X['MasVnrArea'] = X['MasVnrArea'].fillna(0)\n",
    "    X = standardize_num(X)\n",
    "    \n",
    "    y = X['SalePrice']\n",
    "    X.drop(columns=['SalePrice'], inplace=True)\n",
    "    return X, y"
   ]
  },
  {
   "cell_type": "code",
   "execution_count": null,
   "id": "9cdf5d98",
   "metadata": {
    "ExecuteTime": {
     "end_time": "2022-12-05T18:02:58.464810Z",
     "start_time": "2022-12-05T18:02:58.464810Z"
    },
    "hidden": true
   },
   "outputs": [],
   "source": [
    "X, y = prep_data_full(data)"
   ]
  },
  {
   "cell_type": "code",
   "execution_count": null,
   "id": "03267709",
   "metadata": {
    "ExecuteTime": {
     "end_time": "2022-12-05T18:02:58.464810Z",
     "start_time": "2022-12-05T18:02:58.464810Z"
    },
    "hidden": true
   },
   "outputs": [],
   "source": [
    "tmp = feature_selection(X, y)"
   ]
  },
  {
   "cell_type": "code",
   "execution_count": null,
   "id": "3020d3f8",
   "metadata": {
    "ExecuteTime": {
     "end_time": "2022-12-05T18:02:58.464810Z",
     "start_time": "2022-12-05T18:02:58.464810Z"
    },
    "hidden": true
   },
   "outputs": [],
   "source": [
    "tmp.apply(lambda x: x.sort_values().values)"
   ]
  },
  {
   "cell_type": "markdown",
   "id": "e208e5b8",
   "metadata": {
    "hidden": true
   },
   "source": [
    "- 'GarageArea', 'GrLivArea', 'BsmtFinSF1', 'LotArea', 'MasVnrArea', 'OverallQual', 'PerRoomSF', 'PorchSF', 'YearBuilt', 'Neighborhood_C2', 'IsKitchenGood'"
   ]
  },
  {
   "cell_type": "code",
   "execution_count": null,
   "id": "96471093",
   "metadata": {
    "ExecuteTime": {
     "end_time": "2022-12-05T18:02:58.464810Z",
     "start_time": "2022-12-05T18:02:58.464810Z"
    },
    "hidden": true
   },
   "outputs": [],
   "source": [
    "corr_heatmap(X.loc[:, ['OverallQual',\n",
    " 'YearBuilt',\n",
    " 'GrLivArea',\n",
    " 'Fireplaces',\n",
    " 'GarageArea',\n",
    " 'PerRoomSF',\n",
    " 'IsBsmConcrete',\n",
    " 'IsGarageFinished',\n",
    " 'IsKitchenGood',\n",
    " 'Neighborhood_C2',\n",
    " 'BsmFinType_1_C1']])"
   ]
  },
  {
   "cell_type": "code",
   "execution_count": null,
   "id": "2331bc5d",
   "metadata": {
    "ExecuteTime": {
     "end_time": "2022-12-05T18:02:58.464810Z",
     "start_time": "2022-12-05T18:02:58.464810Z"
    },
    "hidden": true
   },
   "outputs": [],
   "source": [
    "features_centroids = [\n",
    "    'LotFrontage', 'LotArea', 'MasVnrArea', 'BsmtFinSF1', 'BsmtUnfSF',\n",
    "    'GrLivArea', 'GarageArea', 'PorchSF', 'FloorRatio', 'PerRoomSF', \n",
    "    'OverallQual', 'YearBuilt', 'Fireplaces', 'IsKitchenGood',\n",
    "    'IsBsmConcrete', 'Neighborhood_C2', 'BsmFinType_1_C1', 'IsGarageFinished',\n",
    "    'FireplaceQual_Good', 'GarageType_Detchd', 'IsHeatGood', 'IsLowDensityArea',\n",
    "    'Exterior_1_C4', 'BsmFinType_1_C3', 'MasVnrType_Stone'\n",
    "]\n",
    "\n",
    "features_important = [\n",
    "    'GarageArea', 'GrLivArea', 'BsmtFinSF1', 'LotArea', 'MasVnrArea',\n",
    "    'OverallQual', 'PerRoomSF', 'PorchSF', 'YearBuilt', 'Neighborhood_C2',\n",
    "    'IsKitchenGood'\n",
    "]"
   ]
  },
  {
   "cell_type": "code",
   "execution_count": null,
   "id": "7d107a2e",
   "metadata": {
    "ExecuteTime": {
     "end_time": "2022-12-05T18:02:58.464810Z",
     "start_time": "2022-12-05T18:02:58.464810Z"
    },
    "hidden": true
   },
   "outputs": [],
   "source": [
    "show_best_feature_set(\n",
    "    features_original=X,\n",
    "    features_centroids=X.loc[:, features_centroids],\n",
    "    features_selected=X.loc[:, features_important],\n",
    "    y = y,\n",
    "    p_type='regression'\n",
    ")"
   ]
  },
  {
   "cell_type": "markdown",
   "id": "f39d1f5b",
   "metadata": {
    "hidden": true
   },
   "source": [
    "- use centroids as final feature set"
   ]
  },
  {
   "cell_type": "markdown",
   "id": "4fccd122",
   "metadata": {},
   "source": [
    "# Model selection"
   ]
  },
  {
   "cell_type": "markdown",
   "id": "3595d6c1",
   "metadata": {
    "heading_collapsed": true
   },
   "source": [
    "## Grids"
   ]
  },
  {
   "cell_type": "code",
   "execution_count": null,
   "id": "e66b0af3",
   "metadata": {
    "ExecuteTime": {
     "end_time": "2022-12-05T18:02:58.464810Z",
     "start_time": "2022-12-05T18:02:58.464810Z"
    },
    "hidden": true
   },
   "outputs": [],
   "source": [
    "model_grid_ga_lars = dict(\n",
    "    n_nonzero_coefs=Integer(25, 1000)\n",
    ")\n",
    "\n",
    "model_grid_ga_lasso = dict(\n",
    "    alpha=Continuous(0.001, 5.0, distribution='uniform'),\n",
    "    max_iter=Integer(100, 1000),\n",
    ")\n",
    "\n",
    "model_grid_ga_ridge = dict(\n",
    "    alpha=Continuous(0.001, 5.0, distribution='uniform'),\n",
    "    max_iter=Integer(100, 1000),\n",
    ")\n",
    "\n",
    "model_grid_ga_larslasso = dict(\n",
    "    max_iter=Integer(100, 1000)\n",
    ")\n",
    "\n",
    "model_grid_ga_elastic_net = dict(\n",
    "    alpha=Continuous(0.001, 5.0, distribution='uniform'),\n",
    "    max_iter=Integer(100, 1000),\n",
    "    l1_ratio=Continuous(0, 1, distribution='uniform'),\n",
    ")\n",
    "\n",
    "model_grid_ga_ard_reg = dict(\n",
    "    n_iter=Integer(100, 1000)\n",
    ")\n",
    "\n",
    "model_grid_ga_ridge_bayes = dict(\n",
    "    n_iter=Integer(100, 1000)\n",
    ")\n",
    "\n",
    "model_grid_ga_gamma_reg = dict(\n",
    "    alpha=Continuous(0.001, 5.0, distribution='uniform'),\n",
    "    max_iter=Integer(100, 1000)\n",
    ")\n",
    "\n",
    "model_grid_ga_huber_reg = dict(\n",
    "    alpha=Continuous(0.001, 5.0, distribution='uniform'),\n",
    "    max_iter=Integer(100, 1000),\n",
    "    epsilon=Continuous(1, 3, distribution='uniform'),\n",
    "    \n",
    ")\n",
    "\n",
    "model_grid_ga_passive_aggressive = dict(\n",
    "    C=Continuous(0.1, 1000, distribution='uniform'),\n",
    "    max_iter=Integer(100, 1000),\n",
    ")\n",
    "\n",
    "model_grid_ga_theilsen = dict(\n",
    "    max_iter=Integer(100, 1000),\n",
    ")"
   ]
  },
  {
   "cell_type": "code",
   "execution_count": null,
   "id": "7b578230",
   "metadata": {
    "ExecuteTime": {
     "end_time": "2022-12-05T18:02:58.464810Z",
     "start_time": "2022-12-05T18:02:58.464810Z"
    },
    "hidden": true
   },
   "outputs": [],
   "source": [
    "model_grid_ga_knn = {\n",
    "    'n_neighbors': Integer(3, 20),\n",
    "    'leaf_size': Integer(20, 50)\n",
    "}\n",
    "\n",
    "model_grid_ga_svm = {\n",
    "    'C': Continuous(0.1, 1000, distribution='uniform'),\n",
    "    'gamma': Continuous(0.0001, 1, distribution='uniform'),\n",
    "    # kernel ‘linear’, ‘poly’, ‘rbf’\n",
    "    # epsilon=0.1\n",
    "}\n",
    "\n",
    "model_grid_ga_rf = {\n",
    "    'max_depth': Integer(10, 80),\n",
    "    'max_features': Integer(1, 7),\n",
    "    'min_samples_leaf': Integer(1, 7),\n",
    "    'min_samples_split': Integer(2, 10),\n",
    "    'n_estimators': Integer(25, 500)#,\n",
    "}\n",
    "\n",
    "model_grid_ga_extra_trees = {\n",
    "    'max_depth': Integer(10, 80),\n",
    "    'max_features': Integer(1, 7),\n",
    "    'min_samples_leaf': Integer(1, 7),\n",
    "    'min_samples_split': Integer(2, 10),\n",
    "    'n_estimators': Integer(25, 500)#,\n",
    "}\n",
    "\n",
    "model_grid_ga_adaboost = {\n",
    "    \"learning_rate\": Continuous(0.01, 0.50, distribution='uniform'),\n",
    "    \"n_estimators\": Integer(25, 500)\n",
    "}\n",
    "\n",
    "model_grid_ga_xgboost_hist = {\n",
    "    'learning_rate': Continuous(0.01, 0.50, distribution='uniform'),\n",
    "    'max_iter': Integer(100, 1000),\n",
    "    'max_leaf_nodes': Integer(21, 51),\n",
    "    'min_samples_leaf': Integer(10, 40),\n",
    "    'l2_regularization': Integer(0, 3),\n",
    "}\n",
    "\n",
    "model_grid_ga_xgboost = {\n",
    "    \"subsample\": Continuous(0.75, 1, distribution='uniform'),\n",
    "    \"colsample_bytree\": Continuous(0.75, 1, distribution='uniform'),\n",
    "    \"max_depth\": Integer(2, 16),\n",
    "    \"min_child_weight\": Integer(2, 15),\n",
    "    \"learning_rate\": Continuous(0.01, 0.50, distribution='uniform'),\n",
    "    \"n_estimators\": Integer(25, 500)\n",
    "}\n",
    "\n",
    "model_grid_ga_lgbm = {\n",
    "    \"learning_rate\": Continuous(0.01, 0.50, distribution='uniform'),\n",
    "    \"n_estimators\": Integer(25, 500),\n",
    "    \"num_iterations\": Integer(100, 1000),\n",
    "    \"lambda_l2\": Integer(0, 3),\n",
    "    \"bagging_fraction\": Continuous(0.8, 1, distribution='uniform'),\n",
    "    \"min_data_in_leaf\": Integer(10, 40),\n",
    "    \"num_leaves\": Integer(21, 51),\n",
    "}\n",
    "\n",
    "model_grid_ga_catboost = {\n",
    "    'iterations': Integer(100, 1000),\n",
    "    'learning_rate': Continuous(0.01, 0.50, distribution='uniform'),\n",
    "    #'depth': ,\n",
    "    'l2_leaf_reg': Integer(0, 3),\n",
    "    #'model_size_reg': ,\n",
    "    #'rsm': ,\n",
    "    'max_depth': Integer(10, 80),\n",
    "    'n_estimators': Integer(25, 500),\n",
    "    #'num_boost_round': ,\n",
    "    #'num_trees': ,\n",
    "    'min_data_in_leaf': Integer(10, 40),\n",
    "    'min_child_samples': Integer(10, 40),\n",
    "    'num_leaves': Integer(21, 51),\n",
    "}\n",
    "\n",
    "model_grid_ga_nnet = {\n",
    "    'learning_rate_init': Continuous(0.01, 0.50, distribution='uniform'),\n",
    "    'max_iter': Integer(200, 2000),\n",
    "    'hidden_layer_sizes': Integer(100, 1000)\n",
    "    # learning_rate{‘constant’, ‘invscaling’, ‘adaptive’}\n",
    "}"
   ]
  },
  {
   "cell_type": "markdown",
   "id": "36ac2338",
   "metadata": {
    "heading_collapsed": true
   },
   "source": [
    "## Models on full data"
   ]
  },
  {
   "cell_type": "code",
   "execution_count": null,
   "id": "c39df67b",
   "metadata": {
    "ExecuteTime": {
     "end_time": "2022-12-05T18:02:58.464810Z",
     "start_time": "2022-12-05T18:02:58.464810Z"
    },
    "hidden": true
   },
   "outputs": [],
   "source": [
    "print(y.describe())\n",
    "print('\\nAccuracy on rf model:', 1-23026/y.median())"
   ]
  },
  {
   "cell_type": "code",
   "execution_count": null,
   "id": "98a7707a",
   "metadata": {
    "ExecuteTime": {
     "end_time": "2022-12-05T18:02:58.480436Z",
     "start_time": "2022-12-05T18:02:58.480436Z"
    },
    "hidden": true
   },
   "outputs": [],
   "source": [
    "# LinearRegression: as it is\n",
    "# RANSACRegressor: as it is"
   ]
  },
  {
   "cell_type": "code",
   "execution_count": null,
   "id": "788eaf3e",
   "metadata": {
    "hidden": true
   },
   "outputs": [],
   "source": []
  },
  {
   "cell_type": "markdown",
   "id": "067dfdd9",
   "metadata": {},
   "source": [
    "# Submission"
   ]
  },
  {
   "cell_type": "code",
   "execution_count": null,
   "id": "13ee9933",
   "metadata": {},
   "outputs": [],
   "source": []
  }
 ],
 "metadata": {
  "kernelspec": {
   "display_name": "Python 3 (ipykernel)",
   "language": "python",
   "name": "python3"
  },
  "language_info": {
   "codemirror_mode": {
    "name": "ipython",
    "version": 3
   },
   "file_extension": ".py",
   "mimetype": "text/x-python",
   "name": "python",
   "nbconvert_exporter": "python",
   "pygments_lexer": "ipython3",
   "version": "3.10.0"
  },
  "toc": {
   "base_numbering": 1,
   "nav_menu": {},
   "number_sections": true,
   "sideBar": true,
   "skip_h1_title": false,
   "title_cell": "Table of Contents",
   "title_sidebar": "Contents",
   "toc_cell": false,
   "toc_position": {},
   "toc_section_display": true,
   "toc_window_display": false
  },
  "varInspector": {
   "cols": {
    "lenName": 16,
    "lenType": 16,
    "lenVar": 40
   },
   "kernels_config": {
    "python": {
     "delete_cmd_postfix": "",
     "delete_cmd_prefix": "del ",
     "library": "var_list.py",
     "varRefreshCmd": "print(var_dic_list())"
    },
    "r": {
     "delete_cmd_postfix": ") ",
     "delete_cmd_prefix": "rm(",
     "library": "var_list.r",
     "varRefreshCmd": "cat(var_dic_list()) "
    }
   },
   "types_to_exclude": [
    "module",
    "function",
    "builtin_function_or_method",
    "instance",
    "_Feature"
   ],
   "window_display": false
  }
 },
 "nbformat": 4,
 "nbformat_minor": 5
}
