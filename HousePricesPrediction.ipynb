{
 "cells": [
  {
   "cell_type": "markdown",
   "id": "d977038a",
   "metadata": {},
   "source": [
    "![alt text](ames_iowa_downtown.avif \"Ames downtown city\")"
   ]
  },
  {
   "cell_type": "markdown",
   "id": "07044f11",
   "metadata": {},
   "source": [
    "The aim of the followinng project is to predict house sale prices in Ames town, Iowa, USA. Ames is a typical small provincial american town with a population around 66 thousand (according to the 2020 census). This example might be generalized to other small towns in the United States, especially in Iowa. However, the main reason why this notebook was ever created is to present the typical Data Science workflow when dealing with regression predictive type of problem."
   ]
  },
  {
   "cell_type": "markdown",
   "id": "5593680f",
   "metadata": {},
   "source": [
    "# Presets"
   ]
  },
  {
   "cell_type": "code",
   "execution_count": 1,
   "id": "738d91a8",
   "metadata": {
    "ExecuteTime": {
     "end_time": "2022-11-22T17:14:06.766495Z",
     "start_time": "2022-11-22T17:14:04.926202Z"
    }
   },
   "outputs": [],
   "source": [
    "import pandas as pd\n",
    "import numpy as np\n",
    "import plotly.express as px\n",
    "import plotly.graph_objects as go\n",
    "import plotly.figure_factory as ff\n",
    "import matplotlib.pyplot as plt\n",
    "import seaborn as sns\n",
    "from IPython.display import display\n",
    "import plotly.io as pio\n",
    "\n",
    "from sklearn import decomposition\n",
    "from statsmodels.stats.outliers_influence import variance_inflation_factor\n",
    "from prince import MCA\n",
    "from sklearn import metrics\n",
    "\n",
    "# Models\n",
    "from sklearn.ensemble import (\n",
    "    RandomForestRegressor, AdaBoostRegressor, GradientBoostingRegressor, ExtraTreesRegressor,\n",
    "    HistGradientBoostingRegressor, StackingRegressor, VotingRegressor\n",
    ")\n",
    "from sklearn.linear_model import (\n",
    "    LinearRegression, Lars, Lasso, LassoLars, Ridge, ARDRegression,\n",
    "    ElasticNet, BayesianRidge, GammaRegressor, HuberRegressor, RANSACRegressor,\n",
    "    PassiveAggressiveRegressor, TheilSenRegressor, RidgeCV\n",
    ")\n",
    "from sklearn.neighbors import KNeighborsRegressor\n",
    "from sklearn.neural_network import MLPRegressor\n",
    "from sklearn.svm import SVR\n",
    "from xgboost import XGBRFRegressor, XGBRegressor\n",
    "from lightgbm import LGBMRegressor\n",
    "from catboost import CatBoostRegressor"
   ]
  },
  {
   "cell_type": "code",
   "execution_count": 2,
   "id": "1feafd97",
   "metadata": {
    "ExecuteTime": {
     "end_time": "2022-11-22T17:14:10.287024Z",
     "start_time": "2022-11-22T17:14:06.846024Z"
    }
   },
   "outputs": [],
   "source": [
    "from FunctionsEDA import *\n",
    "from FunctionsFeatureSelection import *\n",
    "\n",
    "np.random.seed(42)\n",
    "pio.renderers.default = \"browser\"\n",
    "pd.set_option('display.max_columns', 500)"
   ]
  },
  {
   "cell_type": "code",
   "execution_count": 3,
   "id": "ddf6950e",
   "metadata": {
    "ExecuteTime": {
     "end_time": "2022-11-22T17:14:10.395182Z",
     "start_time": "2022-11-22T17:14:10.366117Z"
    }
   },
   "outputs": [],
   "source": [
    "data = pd.read_csv('train.csv')"
   ]
  },
  {
   "cell_type": "markdown",
   "id": "680e673c",
   "metadata": {
    "heading_collapsed": true
   },
   "source": [
    "# Basic statistics"
   ]
  },
  {
   "cell_type": "code",
   "execution_count": null,
   "id": "723ce99b",
   "metadata": {
    "ExecuteTime": {
     "start_time": "2022-11-22T17:13:47.812Z"
    },
    "hidden": true
   },
   "outputs": [],
   "source": [
    "show_data(data)"
   ]
  },
  {
   "cell_type": "markdown",
   "id": "85e0fb1f",
   "metadata": {
    "hidden": true
   },
   "source": [
    "- Rows/cols ratio seems to be pretty small, taking into consideration the fact that lot of variables are of type 'object'. Thus, dimensionality reduction must be held for sure"
   ]
  },
  {
   "cell_type": "markdown",
   "id": "6171bbb3",
   "metadata": {
    "hidden": true
   },
   "source": [
    "- MiscFeature is totally absent?\n",
    "- PoolQC, FireplaceQu, Alley, Fence may be absent rather due to natural reasons (just no fireplaces, pools in the house)\n",
    "- Others must be ivestigated more throughly"
   ]
  },
  {
   "cell_type": "markdown",
   "id": "48f126fe",
   "metadata": {
    "hidden": true
   },
   "source": [
    "- There are significant outliers almost in every variable\n",
    "- Most of the houses were sold before the global financal crisis\n",
    "- All of the houses were build before 2010"
   ]
  },
  {
   "cell_type": "markdown",
   "id": "1fd8d7a3",
   "metadata": {
    "heading_collapsed": true
   },
   "source": [
    "# Qualitative (business) analysis"
   ]
  },
  {
   "cell_type": "markdown",
   "id": "bd4c5d9c",
   "metadata": {
    "hidden": true
   },
   "source": [
    "With the statistics shown above, we will try to analize and predict the influence of each variable in the sale price. Each variable will be given a predifined influence (low, medium, high) and the corresponding effect sign(stimulant, distimulant, mixed)"
   ]
  },
  {
   "cell_type": "code",
   "execution_count": null,
   "id": "72dcf5d9",
   "metadata": {
    "ExecuteTime": {
     "start_time": "2022-11-22T17:13:47.821Z"
    },
    "hidden": true
   },
   "outputs": [],
   "source": [
    "stim_vec = [\n",
    "    'n', 'm', 'm', 's', 's', 's', 's', 'd', 'd',\n",
    "    's', 'd', 'd', 'm', 'm', 'm', 'm', 'm', 'd', 'd',\n",
    "    's', 'd', 'm', 'm', 'm', 'm', 'm', 'm', 'm',\n",
    "    'm', 'd', 'd', 's', 'd', 'd', 'm',  'm', 'd', 's',\n",
    "    'm', 'd', 'm', 'm',\n",
    "    's', 's', 'd', 's', 's', 's', 's', 's', 's', 's', 's', 'd', 's', 'd', 's', 'd',\n",
    "    's', 'd', 'm', 's', 's', 'd', 'd',\n",
    "    's', 's', 's', 's', 's',\n",
    "    's', 'd', 'd', 's', 's', 's', 'm', 'm', 's', 's', 'n'\n",
    "]\n",
    "imp_vec = [\n",
    "    'l', 'l', 'h', 'l', 'h', 'l', 'm', 'm', 'l',\n",
    "    'h', 'm', 'l', 'm', 'h', 'h', 'h', 'l', 'm', 'm',\n",
    "    'h', 'h', 'l', 'l', 'l', 'l', 'l', 'l', 'l',\n",
    "    'l', 'l', 'l', 'm', 'm', 'm', 'l', 'l', 'l', 'm',\n",
    "    'l', 'm', 'l', 'l',\n",
    "    'l', 'l', 'l', 'l', 'l', 'l', 'l', 'l', 'l', 'm', 'l', 'l', 'm', 'l', 'l', 'l',\n",
    "    'm', 'l', 'l', 'l', 'l', 'l', 'l', \n",
    "    'l', 'l', 'l', 'l', 'l',\n",
    "    'm', 'l', 'm', 'm', 'l', 'l', 'm', 'm', 'l', 'l', 'n'\n",
    "]\n",
    "\n",
    "quantitative_eda(data, stim_vec, imp_vec)"
   ]
  },
  {
   "cell_type": "markdown",
   "id": "790b84fe",
   "metadata": {
    "hidden": true
   },
   "source": [
    "Additional:\n",
    "- some variables need recoding\n",
    "- lots of variables seems to be strongly correlated with each other - thus, dimensionality reduction techniques should be applied"
   ]
  },
  {
   "cell_type": "markdown",
   "id": "554ff87c",
   "metadata": {},
   "source": [
    "# Initial EDA"
   ]
  },
  {
   "cell_type": "code",
   "execution_count": 4,
   "id": "90f3e9fc",
   "metadata": {
    "ExecuteTime": {
     "end_time": "2022-11-22T17:14:10.570221Z",
     "start_time": "2022-11-22T17:14:10.555216Z"
    }
   },
   "outputs": [],
   "source": [
    "X = data.copy()"
   ]
  },
  {
   "cell_type": "markdown",
   "id": "0898d5d1",
   "metadata": {},
   "source": [
    "## Numeric"
   ]
  },
  {
   "cell_type": "code",
   "execution_count": 5,
   "id": "06b0aa5f",
   "metadata": {
    "ExecuteTime": {
     "end_time": "2022-11-22T17:14:10.826295Z",
     "start_time": "2022-11-22T17:14:10.812292Z"
    }
   },
   "outputs": [],
   "source": [
    "X['MSSubClass'] = X['MSSubClass'].astype(str)\n",
    "X['PorchType_WoodDeck'] = np.where(X['WoodDeckSF'] != 0, 1, 0)\n",
    "X['PorchType_OpenPorchSF'] = np.where(X['OpenPorchSF'] != 0, 1, 0)\n",
    "X['PorchType_Enclosed'] = np.where(X['EnclosedPorch'] != 0, 1, 0)\n",
    "X['PorchType_Screen'] = np.where(X['ScreenPorch'] != 0, 1, 0)\n",
    "X['PorchType_3SsnPorch'] = np.where(X['3SsnPorch'] != 0, 1, 0)\n",
    "X['IsBsmFin'] = np.where(X['BsmtUnfSF'] != 0, 1, 0)\n",
    "X['IsFireplace'] = np.where(X['Fireplaces'] != 0, 1, 0)\n",
    "X['IsMiscVal'] = np.where(X['MiscVal'] != 0, 1, 0)\n",
    "X['IsLowQual'] = np.where(X['LowQualFinSF'] != 0, 1, 0)\n",
    "\n",
    "X['PerRoomSF'] = X['GrLivArea']/X['TotRmsAbvGrd']\n",
    "X['PorchSF'] = (X['WoodDeckSF'] + X['OpenPorchSF'] + \n",
    "                X['EnclosedPorch'] + X['3SsnPorch'] + \n",
    "                X['ScreenPorch'])\n",
    "\n",
    "X['TotalBaths'] = X['BsmtFullBath']+0.5*X['BsmtHalfBath']+X['FullBath']+X['HalfBath']*0.5\n",
    "\n",
    "X['FloorRatio'] = X['2ndFlrSF']/X['1stFlrSF']\n",
    "X['BsmFinUnfRatio'] = X['BsmtUnfSF']/X['TotalBsmtSF']\n",
    "X['BsmLowQualRatio'] = X['LowQualFinSF']/X['TotalBsmtSF']\n",
    "X['BsmFin2BsmFin1Ratio'] = X['BsmtFinSF2']/X['BsmtFinSF1']\n",
    "X['GarageLivRatio'] = X['GarageArea']/X['GrLivArea']\n",
    "\n",
    "X['KitchenRatio'] = X['KitchenAbvGr']/X['TotRmsAbvGrd']\n",
    "X['BathRatio'] = X['TotalBaths']/X['TotRmsAbvGrd']\n",
    "X['BedroomRatio'] = X['BedroomAbvGr']/X['TotRmsAbvGrd']"
   ]
  },
  {
   "cell_type": "code",
   "execution_count": 6,
   "id": "f2d406c5",
   "metadata": {
    "ExecuteTime": {
     "end_time": "2022-11-22T17:14:12.948713Z",
     "start_time": "2022-11-22T17:14:12.724576Z"
    }
   },
   "outputs": [
    {
     "name": "stdout",
     "output_type": "stream",
     "text": [
      "Head:\n"
     ]
    },
    {
     "data": {
      "text/html": [
       "<div>\n",
       "<style scoped>\n",
       "    .dataframe tbody tr th:only-of-type {\n",
       "        vertical-align: middle;\n",
       "    }\n",
       "\n",
       "    .dataframe tbody tr th {\n",
       "        vertical-align: top;\n",
       "    }\n",
       "\n",
       "    .dataframe thead th {\n",
       "        text-align: right;\n",
       "    }\n",
       "</style>\n",
       "<table border=\"1\" class=\"dataframe\">\n",
       "  <thead>\n",
       "    <tr style=\"text-align: right;\">\n",
       "      <th></th>\n",
       "      <th>Id</th>\n",
       "      <th>MSSubClass</th>\n",
       "      <th>MSZoning</th>\n",
       "      <th>LotFrontage</th>\n",
       "      <th>LotArea</th>\n",
       "      <th>Street</th>\n",
       "      <th>Alley</th>\n",
       "      <th>LotShape</th>\n",
       "      <th>LandContour</th>\n",
       "      <th>Utilities</th>\n",
       "      <th>LotConfig</th>\n",
       "      <th>LandSlope</th>\n",
       "      <th>Neighborhood</th>\n",
       "      <th>Condition1</th>\n",
       "      <th>Condition2</th>\n",
       "      <th>BldgType</th>\n",
       "      <th>HouseStyle</th>\n",
       "      <th>OverallQual</th>\n",
       "      <th>OverallCond</th>\n",
       "      <th>YearBuilt</th>\n",
       "      <th>YearRemodAdd</th>\n",
       "      <th>RoofStyle</th>\n",
       "      <th>RoofMatl</th>\n",
       "      <th>Exterior1st</th>\n",
       "      <th>Exterior2nd</th>\n",
       "      <th>MasVnrType</th>\n",
       "      <th>MasVnrArea</th>\n",
       "      <th>ExterQual</th>\n",
       "      <th>ExterCond</th>\n",
       "      <th>Foundation</th>\n",
       "      <th>BsmtQual</th>\n",
       "      <th>BsmtCond</th>\n",
       "      <th>BsmtExposure</th>\n",
       "      <th>BsmtFinType1</th>\n",
       "      <th>BsmtFinSF1</th>\n",
       "      <th>BsmtFinType2</th>\n",
       "      <th>BsmtFinSF2</th>\n",
       "      <th>BsmtUnfSF</th>\n",
       "      <th>TotalBsmtSF</th>\n",
       "      <th>Heating</th>\n",
       "      <th>HeatingQC</th>\n",
       "      <th>CentralAir</th>\n",
       "      <th>Electrical</th>\n",
       "      <th>1stFlrSF</th>\n",
       "      <th>2ndFlrSF</th>\n",
       "      <th>LowQualFinSF</th>\n",
       "      <th>GrLivArea</th>\n",
       "      <th>BsmtFullBath</th>\n",
       "      <th>BsmtHalfBath</th>\n",
       "      <th>FullBath</th>\n",
       "      <th>HalfBath</th>\n",
       "      <th>BedroomAbvGr</th>\n",
       "      <th>KitchenAbvGr</th>\n",
       "      <th>KitchenQual</th>\n",
       "      <th>TotRmsAbvGrd</th>\n",
       "      <th>Functional</th>\n",
       "      <th>Fireplaces</th>\n",
       "      <th>FireplaceQu</th>\n",
       "      <th>GarageType</th>\n",
       "      <th>GarageYrBlt</th>\n",
       "      <th>GarageFinish</th>\n",
       "      <th>GarageCars</th>\n",
       "      <th>GarageArea</th>\n",
       "      <th>GarageQual</th>\n",
       "      <th>GarageCond</th>\n",
       "      <th>PavedDrive</th>\n",
       "      <th>WoodDeckSF</th>\n",
       "      <th>OpenPorchSF</th>\n",
       "      <th>EnclosedPorch</th>\n",
       "      <th>3SsnPorch</th>\n",
       "      <th>ScreenPorch</th>\n",
       "      <th>PoolArea</th>\n",
       "      <th>PoolQC</th>\n",
       "      <th>Fence</th>\n",
       "      <th>MiscFeature</th>\n",
       "      <th>MiscVal</th>\n",
       "      <th>MoSold</th>\n",
       "      <th>YrSold</th>\n",
       "      <th>SaleType</th>\n",
       "      <th>SaleCondition</th>\n",
       "      <th>SalePrice</th>\n",
       "      <th>PorchType_WoodDeck</th>\n",
       "      <th>PorchType_OpenPorchSF</th>\n",
       "      <th>PorchType_Enclosed</th>\n",
       "      <th>PorchType_Screen</th>\n",
       "      <th>PorchType_3SsnPorch</th>\n",
       "      <th>IsBsmFin</th>\n",
       "      <th>IsFireplace</th>\n",
       "      <th>IsMiscVal</th>\n",
       "      <th>IsLowQual</th>\n",
       "      <th>PerRoomSF</th>\n",
       "      <th>PorchSF</th>\n",
       "      <th>TotalBaths</th>\n",
       "      <th>FloorRatio</th>\n",
       "      <th>BsmFinUnfRatio</th>\n",
       "      <th>BsmLowQualRatio</th>\n",
       "      <th>BsmFin2BsmFin1Ratio</th>\n",
       "      <th>GarageLivRatio</th>\n",
       "      <th>KitchenRatio</th>\n",
       "      <th>BathRatio</th>\n",
       "      <th>BedroomRatio</th>\n",
       "    </tr>\n",
       "  </thead>\n",
       "  <tbody>\n",
       "    <tr>\n",
       "      <th>0</th>\n",
       "      <td>1</td>\n",
       "      <td>60</td>\n",
       "      <td>RL</td>\n",
       "      <td>65.0</td>\n",
       "      <td>8450</td>\n",
       "      <td>Pave</td>\n",
       "      <td>NaN</td>\n",
       "      <td>Reg</td>\n",
       "      <td>Lvl</td>\n",
       "      <td>AllPub</td>\n",
       "      <td>Inside</td>\n",
       "      <td>Gtl</td>\n",
       "      <td>CollgCr</td>\n",
       "      <td>Norm</td>\n",
       "      <td>Norm</td>\n",
       "      <td>1Fam</td>\n",
       "      <td>2Story</td>\n",
       "      <td>7</td>\n",
       "      <td>5</td>\n",
       "      <td>2003</td>\n",
       "      <td>2003</td>\n",
       "      <td>Gable</td>\n",
       "      <td>CompShg</td>\n",
       "      <td>VinylSd</td>\n",
       "      <td>VinylSd</td>\n",
       "      <td>BrkFace</td>\n",
       "      <td>196.0</td>\n",
       "      <td>Gd</td>\n",
       "      <td>TA</td>\n",
       "      <td>PConc</td>\n",
       "      <td>Gd</td>\n",
       "      <td>TA</td>\n",
       "      <td>No</td>\n",
       "      <td>GLQ</td>\n",
       "      <td>706</td>\n",
       "      <td>Unf</td>\n",
       "      <td>0</td>\n",
       "      <td>150</td>\n",
       "      <td>856</td>\n",
       "      <td>GasA</td>\n",
       "      <td>Ex</td>\n",
       "      <td>Y</td>\n",
       "      <td>SBrkr</td>\n",
       "      <td>856</td>\n",
       "      <td>854</td>\n",
       "      <td>0</td>\n",
       "      <td>1710</td>\n",
       "      <td>1</td>\n",
       "      <td>0</td>\n",
       "      <td>2</td>\n",
       "      <td>1</td>\n",
       "      <td>3</td>\n",
       "      <td>1</td>\n",
       "      <td>Gd</td>\n",
       "      <td>8</td>\n",
       "      <td>Typ</td>\n",
       "      <td>0</td>\n",
       "      <td>NaN</td>\n",
       "      <td>Attchd</td>\n",
       "      <td>2003.0</td>\n",
       "      <td>RFn</td>\n",
       "      <td>2</td>\n",
       "      <td>548</td>\n",
       "      <td>TA</td>\n",
       "      <td>TA</td>\n",
       "      <td>Y</td>\n",
       "      <td>0</td>\n",
       "      <td>61</td>\n",
       "      <td>0</td>\n",
       "      <td>0</td>\n",
       "      <td>0</td>\n",
       "      <td>0</td>\n",
       "      <td>NaN</td>\n",
       "      <td>NaN</td>\n",
       "      <td>NaN</td>\n",
       "      <td>0</td>\n",
       "      <td>2</td>\n",
       "      <td>2008</td>\n",
       "      <td>WD</td>\n",
       "      <td>Normal</td>\n",
       "      <td>208500</td>\n",
       "      <td>0</td>\n",
       "      <td>1</td>\n",
       "      <td>0</td>\n",
       "      <td>0</td>\n",
       "      <td>0</td>\n",
       "      <td>1</td>\n",
       "      <td>0</td>\n",
       "      <td>0</td>\n",
       "      <td>0</td>\n",
       "      <td>213.750000</td>\n",
       "      <td>61</td>\n",
       "      <td>3.5</td>\n",
       "      <td>0.997664</td>\n",
       "      <td>0.175234</td>\n",
       "      <td>0.0</td>\n",
       "      <td>0.0</td>\n",
       "      <td>0.320468</td>\n",
       "      <td>0.125000</td>\n",
       "      <td>0.437500</td>\n",
       "      <td>0.375000</td>\n",
       "    </tr>\n",
       "    <tr>\n",
       "      <th>1</th>\n",
       "      <td>2</td>\n",
       "      <td>20</td>\n",
       "      <td>RL</td>\n",
       "      <td>80.0</td>\n",
       "      <td>9600</td>\n",
       "      <td>Pave</td>\n",
       "      <td>NaN</td>\n",
       "      <td>Reg</td>\n",
       "      <td>Lvl</td>\n",
       "      <td>AllPub</td>\n",
       "      <td>FR2</td>\n",
       "      <td>Gtl</td>\n",
       "      <td>Veenker</td>\n",
       "      <td>Feedr</td>\n",
       "      <td>Norm</td>\n",
       "      <td>1Fam</td>\n",
       "      <td>1Story</td>\n",
       "      <td>6</td>\n",
       "      <td>8</td>\n",
       "      <td>1976</td>\n",
       "      <td>1976</td>\n",
       "      <td>Gable</td>\n",
       "      <td>CompShg</td>\n",
       "      <td>MetalSd</td>\n",
       "      <td>MetalSd</td>\n",
       "      <td>None</td>\n",
       "      <td>0.0</td>\n",
       "      <td>TA</td>\n",
       "      <td>TA</td>\n",
       "      <td>CBlock</td>\n",
       "      <td>Gd</td>\n",
       "      <td>TA</td>\n",
       "      <td>Gd</td>\n",
       "      <td>ALQ</td>\n",
       "      <td>978</td>\n",
       "      <td>Unf</td>\n",
       "      <td>0</td>\n",
       "      <td>284</td>\n",
       "      <td>1262</td>\n",
       "      <td>GasA</td>\n",
       "      <td>Ex</td>\n",
       "      <td>Y</td>\n",
       "      <td>SBrkr</td>\n",
       "      <td>1262</td>\n",
       "      <td>0</td>\n",
       "      <td>0</td>\n",
       "      <td>1262</td>\n",
       "      <td>0</td>\n",
       "      <td>1</td>\n",
       "      <td>2</td>\n",
       "      <td>0</td>\n",
       "      <td>3</td>\n",
       "      <td>1</td>\n",
       "      <td>TA</td>\n",
       "      <td>6</td>\n",
       "      <td>Typ</td>\n",
       "      <td>1</td>\n",
       "      <td>TA</td>\n",
       "      <td>Attchd</td>\n",
       "      <td>1976.0</td>\n",
       "      <td>RFn</td>\n",
       "      <td>2</td>\n",
       "      <td>460</td>\n",
       "      <td>TA</td>\n",
       "      <td>TA</td>\n",
       "      <td>Y</td>\n",
       "      <td>298</td>\n",
       "      <td>0</td>\n",
       "      <td>0</td>\n",
       "      <td>0</td>\n",
       "      <td>0</td>\n",
       "      <td>0</td>\n",
       "      <td>NaN</td>\n",
       "      <td>NaN</td>\n",
       "      <td>NaN</td>\n",
       "      <td>0</td>\n",
       "      <td>5</td>\n",
       "      <td>2007</td>\n",
       "      <td>WD</td>\n",
       "      <td>Normal</td>\n",
       "      <td>181500</td>\n",
       "      <td>1</td>\n",
       "      <td>0</td>\n",
       "      <td>0</td>\n",
       "      <td>0</td>\n",
       "      <td>0</td>\n",
       "      <td>1</td>\n",
       "      <td>1</td>\n",
       "      <td>0</td>\n",
       "      <td>0</td>\n",
       "      <td>210.333333</td>\n",
       "      <td>298</td>\n",
       "      <td>2.5</td>\n",
       "      <td>0.000000</td>\n",
       "      <td>0.225040</td>\n",
       "      <td>0.0</td>\n",
       "      <td>0.0</td>\n",
       "      <td>0.364501</td>\n",
       "      <td>0.166667</td>\n",
       "      <td>0.416667</td>\n",
       "      <td>0.500000</td>\n",
       "    </tr>\n",
       "    <tr>\n",
       "      <th>2</th>\n",
       "      <td>3</td>\n",
       "      <td>60</td>\n",
       "      <td>RL</td>\n",
       "      <td>68.0</td>\n",
       "      <td>11250</td>\n",
       "      <td>Pave</td>\n",
       "      <td>NaN</td>\n",
       "      <td>IR1</td>\n",
       "      <td>Lvl</td>\n",
       "      <td>AllPub</td>\n",
       "      <td>Inside</td>\n",
       "      <td>Gtl</td>\n",
       "      <td>CollgCr</td>\n",
       "      <td>Norm</td>\n",
       "      <td>Norm</td>\n",
       "      <td>1Fam</td>\n",
       "      <td>2Story</td>\n",
       "      <td>7</td>\n",
       "      <td>5</td>\n",
       "      <td>2001</td>\n",
       "      <td>2002</td>\n",
       "      <td>Gable</td>\n",
       "      <td>CompShg</td>\n",
       "      <td>VinylSd</td>\n",
       "      <td>VinylSd</td>\n",
       "      <td>BrkFace</td>\n",
       "      <td>162.0</td>\n",
       "      <td>Gd</td>\n",
       "      <td>TA</td>\n",
       "      <td>PConc</td>\n",
       "      <td>Gd</td>\n",
       "      <td>TA</td>\n",
       "      <td>Mn</td>\n",
       "      <td>GLQ</td>\n",
       "      <td>486</td>\n",
       "      <td>Unf</td>\n",
       "      <td>0</td>\n",
       "      <td>434</td>\n",
       "      <td>920</td>\n",
       "      <td>GasA</td>\n",
       "      <td>Ex</td>\n",
       "      <td>Y</td>\n",
       "      <td>SBrkr</td>\n",
       "      <td>920</td>\n",
       "      <td>866</td>\n",
       "      <td>0</td>\n",
       "      <td>1786</td>\n",
       "      <td>1</td>\n",
       "      <td>0</td>\n",
       "      <td>2</td>\n",
       "      <td>1</td>\n",
       "      <td>3</td>\n",
       "      <td>1</td>\n",
       "      <td>Gd</td>\n",
       "      <td>6</td>\n",
       "      <td>Typ</td>\n",
       "      <td>1</td>\n",
       "      <td>TA</td>\n",
       "      <td>Attchd</td>\n",
       "      <td>2001.0</td>\n",
       "      <td>RFn</td>\n",
       "      <td>2</td>\n",
       "      <td>608</td>\n",
       "      <td>TA</td>\n",
       "      <td>TA</td>\n",
       "      <td>Y</td>\n",
       "      <td>0</td>\n",
       "      <td>42</td>\n",
       "      <td>0</td>\n",
       "      <td>0</td>\n",
       "      <td>0</td>\n",
       "      <td>0</td>\n",
       "      <td>NaN</td>\n",
       "      <td>NaN</td>\n",
       "      <td>NaN</td>\n",
       "      <td>0</td>\n",
       "      <td>9</td>\n",
       "      <td>2008</td>\n",
       "      <td>WD</td>\n",
       "      <td>Normal</td>\n",
       "      <td>223500</td>\n",
       "      <td>0</td>\n",
       "      <td>1</td>\n",
       "      <td>0</td>\n",
       "      <td>0</td>\n",
       "      <td>0</td>\n",
       "      <td>1</td>\n",
       "      <td>1</td>\n",
       "      <td>0</td>\n",
       "      <td>0</td>\n",
       "      <td>297.666667</td>\n",
       "      <td>42</td>\n",
       "      <td>3.5</td>\n",
       "      <td>0.941304</td>\n",
       "      <td>0.471739</td>\n",
       "      <td>0.0</td>\n",
       "      <td>0.0</td>\n",
       "      <td>0.340426</td>\n",
       "      <td>0.166667</td>\n",
       "      <td>0.583333</td>\n",
       "      <td>0.500000</td>\n",
       "    </tr>\n",
       "    <tr>\n",
       "      <th>3</th>\n",
       "      <td>4</td>\n",
       "      <td>70</td>\n",
       "      <td>RL</td>\n",
       "      <td>60.0</td>\n",
       "      <td>9550</td>\n",
       "      <td>Pave</td>\n",
       "      <td>NaN</td>\n",
       "      <td>IR1</td>\n",
       "      <td>Lvl</td>\n",
       "      <td>AllPub</td>\n",
       "      <td>Corner</td>\n",
       "      <td>Gtl</td>\n",
       "      <td>Crawfor</td>\n",
       "      <td>Norm</td>\n",
       "      <td>Norm</td>\n",
       "      <td>1Fam</td>\n",
       "      <td>2Story</td>\n",
       "      <td>7</td>\n",
       "      <td>5</td>\n",
       "      <td>1915</td>\n",
       "      <td>1970</td>\n",
       "      <td>Gable</td>\n",
       "      <td>CompShg</td>\n",
       "      <td>Wd Sdng</td>\n",
       "      <td>Wd Shng</td>\n",
       "      <td>None</td>\n",
       "      <td>0.0</td>\n",
       "      <td>TA</td>\n",
       "      <td>TA</td>\n",
       "      <td>BrkTil</td>\n",
       "      <td>TA</td>\n",
       "      <td>Gd</td>\n",
       "      <td>No</td>\n",
       "      <td>ALQ</td>\n",
       "      <td>216</td>\n",
       "      <td>Unf</td>\n",
       "      <td>0</td>\n",
       "      <td>540</td>\n",
       "      <td>756</td>\n",
       "      <td>GasA</td>\n",
       "      <td>Gd</td>\n",
       "      <td>Y</td>\n",
       "      <td>SBrkr</td>\n",
       "      <td>961</td>\n",
       "      <td>756</td>\n",
       "      <td>0</td>\n",
       "      <td>1717</td>\n",
       "      <td>1</td>\n",
       "      <td>0</td>\n",
       "      <td>1</td>\n",
       "      <td>0</td>\n",
       "      <td>3</td>\n",
       "      <td>1</td>\n",
       "      <td>Gd</td>\n",
       "      <td>7</td>\n",
       "      <td>Typ</td>\n",
       "      <td>1</td>\n",
       "      <td>Gd</td>\n",
       "      <td>Detchd</td>\n",
       "      <td>1998.0</td>\n",
       "      <td>Unf</td>\n",
       "      <td>3</td>\n",
       "      <td>642</td>\n",
       "      <td>TA</td>\n",
       "      <td>TA</td>\n",
       "      <td>Y</td>\n",
       "      <td>0</td>\n",
       "      <td>35</td>\n",
       "      <td>272</td>\n",
       "      <td>0</td>\n",
       "      <td>0</td>\n",
       "      <td>0</td>\n",
       "      <td>NaN</td>\n",
       "      <td>NaN</td>\n",
       "      <td>NaN</td>\n",
       "      <td>0</td>\n",
       "      <td>2</td>\n",
       "      <td>2006</td>\n",
       "      <td>WD</td>\n",
       "      <td>Abnorml</td>\n",
       "      <td>140000</td>\n",
       "      <td>0</td>\n",
       "      <td>1</td>\n",
       "      <td>1</td>\n",
       "      <td>0</td>\n",
       "      <td>0</td>\n",
       "      <td>1</td>\n",
       "      <td>1</td>\n",
       "      <td>0</td>\n",
       "      <td>0</td>\n",
       "      <td>245.285714</td>\n",
       "      <td>307</td>\n",
       "      <td>2.0</td>\n",
       "      <td>0.786681</td>\n",
       "      <td>0.714286</td>\n",
       "      <td>0.0</td>\n",
       "      <td>0.0</td>\n",
       "      <td>0.373908</td>\n",
       "      <td>0.142857</td>\n",
       "      <td>0.285714</td>\n",
       "      <td>0.428571</td>\n",
       "    </tr>\n",
       "    <tr>\n",
       "      <th>4</th>\n",
       "      <td>5</td>\n",
       "      <td>60</td>\n",
       "      <td>RL</td>\n",
       "      <td>84.0</td>\n",
       "      <td>14260</td>\n",
       "      <td>Pave</td>\n",
       "      <td>NaN</td>\n",
       "      <td>IR1</td>\n",
       "      <td>Lvl</td>\n",
       "      <td>AllPub</td>\n",
       "      <td>FR2</td>\n",
       "      <td>Gtl</td>\n",
       "      <td>NoRidge</td>\n",
       "      <td>Norm</td>\n",
       "      <td>Norm</td>\n",
       "      <td>1Fam</td>\n",
       "      <td>2Story</td>\n",
       "      <td>8</td>\n",
       "      <td>5</td>\n",
       "      <td>2000</td>\n",
       "      <td>2000</td>\n",
       "      <td>Gable</td>\n",
       "      <td>CompShg</td>\n",
       "      <td>VinylSd</td>\n",
       "      <td>VinylSd</td>\n",
       "      <td>BrkFace</td>\n",
       "      <td>350.0</td>\n",
       "      <td>Gd</td>\n",
       "      <td>TA</td>\n",
       "      <td>PConc</td>\n",
       "      <td>Gd</td>\n",
       "      <td>TA</td>\n",
       "      <td>Av</td>\n",
       "      <td>GLQ</td>\n",
       "      <td>655</td>\n",
       "      <td>Unf</td>\n",
       "      <td>0</td>\n",
       "      <td>490</td>\n",
       "      <td>1145</td>\n",
       "      <td>GasA</td>\n",
       "      <td>Ex</td>\n",
       "      <td>Y</td>\n",
       "      <td>SBrkr</td>\n",
       "      <td>1145</td>\n",
       "      <td>1053</td>\n",
       "      <td>0</td>\n",
       "      <td>2198</td>\n",
       "      <td>1</td>\n",
       "      <td>0</td>\n",
       "      <td>2</td>\n",
       "      <td>1</td>\n",
       "      <td>4</td>\n",
       "      <td>1</td>\n",
       "      <td>Gd</td>\n",
       "      <td>9</td>\n",
       "      <td>Typ</td>\n",
       "      <td>1</td>\n",
       "      <td>TA</td>\n",
       "      <td>Attchd</td>\n",
       "      <td>2000.0</td>\n",
       "      <td>RFn</td>\n",
       "      <td>3</td>\n",
       "      <td>836</td>\n",
       "      <td>TA</td>\n",
       "      <td>TA</td>\n",
       "      <td>Y</td>\n",
       "      <td>192</td>\n",
       "      <td>84</td>\n",
       "      <td>0</td>\n",
       "      <td>0</td>\n",
       "      <td>0</td>\n",
       "      <td>0</td>\n",
       "      <td>NaN</td>\n",
       "      <td>NaN</td>\n",
       "      <td>NaN</td>\n",
       "      <td>0</td>\n",
       "      <td>12</td>\n",
       "      <td>2008</td>\n",
       "      <td>WD</td>\n",
       "      <td>Normal</td>\n",
       "      <td>250000</td>\n",
       "      <td>1</td>\n",
       "      <td>1</td>\n",
       "      <td>0</td>\n",
       "      <td>0</td>\n",
       "      <td>0</td>\n",
       "      <td>1</td>\n",
       "      <td>1</td>\n",
       "      <td>0</td>\n",
       "      <td>0</td>\n",
       "      <td>244.222222</td>\n",
       "      <td>276</td>\n",
       "      <td>3.5</td>\n",
       "      <td>0.919651</td>\n",
       "      <td>0.427948</td>\n",
       "      <td>0.0</td>\n",
       "      <td>0.0</td>\n",
       "      <td>0.380346</td>\n",
       "      <td>0.111111</td>\n",
       "      <td>0.388889</td>\n",
       "      <td>0.444444</td>\n",
       "    </tr>\n",
       "  </tbody>\n",
       "</table>\n",
       "</div>"
      ],
      "text/plain": [
       "   Id MSSubClass MSZoning  LotFrontage  LotArea Street Alley LotShape  \\\n",
       "0   1         60       RL         65.0     8450   Pave   NaN      Reg   \n",
       "1   2         20       RL         80.0     9600   Pave   NaN      Reg   \n",
       "2   3         60       RL         68.0    11250   Pave   NaN      IR1   \n",
       "3   4         70       RL         60.0     9550   Pave   NaN      IR1   \n",
       "4   5         60       RL         84.0    14260   Pave   NaN      IR1   \n",
       "\n",
       "  LandContour Utilities LotConfig LandSlope Neighborhood Condition1  \\\n",
       "0         Lvl    AllPub    Inside       Gtl      CollgCr       Norm   \n",
       "1         Lvl    AllPub       FR2       Gtl      Veenker      Feedr   \n",
       "2         Lvl    AllPub    Inside       Gtl      CollgCr       Norm   \n",
       "3         Lvl    AllPub    Corner       Gtl      Crawfor       Norm   \n",
       "4         Lvl    AllPub       FR2       Gtl      NoRidge       Norm   \n",
       "\n",
       "  Condition2 BldgType HouseStyle  OverallQual  OverallCond  YearBuilt  \\\n",
       "0       Norm     1Fam     2Story            7            5       2003   \n",
       "1       Norm     1Fam     1Story            6            8       1976   \n",
       "2       Norm     1Fam     2Story            7            5       2001   \n",
       "3       Norm     1Fam     2Story            7            5       1915   \n",
       "4       Norm     1Fam     2Story            8            5       2000   \n",
       "\n",
       "   YearRemodAdd RoofStyle RoofMatl Exterior1st Exterior2nd MasVnrType  \\\n",
       "0          2003     Gable  CompShg     VinylSd     VinylSd    BrkFace   \n",
       "1          1976     Gable  CompShg     MetalSd     MetalSd       None   \n",
       "2          2002     Gable  CompShg     VinylSd     VinylSd    BrkFace   \n",
       "3          1970     Gable  CompShg     Wd Sdng     Wd Shng       None   \n",
       "4          2000     Gable  CompShg     VinylSd     VinylSd    BrkFace   \n",
       "\n",
       "   MasVnrArea ExterQual ExterCond Foundation BsmtQual BsmtCond BsmtExposure  \\\n",
       "0       196.0        Gd        TA      PConc       Gd       TA           No   \n",
       "1         0.0        TA        TA     CBlock       Gd       TA           Gd   \n",
       "2       162.0        Gd        TA      PConc       Gd       TA           Mn   \n",
       "3         0.0        TA        TA     BrkTil       TA       Gd           No   \n",
       "4       350.0        Gd        TA      PConc       Gd       TA           Av   \n",
       "\n",
       "  BsmtFinType1  BsmtFinSF1 BsmtFinType2  BsmtFinSF2  BsmtUnfSF  TotalBsmtSF  \\\n",
       "0          GLQ         706          Unf           0        150          856   \n",
       "1          ALQ         978          Unf           0        284         1262   \n",
       "2          GLQ         486          Unf           0        434          920   \n",
       "3          ALQ         216          Unf           0        540          756   \n",
       "4          GLQ         655          Unf           0        490         1145   \n",
       "\n",
       "  Heating HeatingQC CentralAir Electrical  1stFlrSF  2ndFlrSF  LowQualFinSF  \\\n",
       "0    GasA        Ex          Y      SBrkr       856       854             0   \n",
       "1    GasA        Ex          Y      SBrkr      1262         0             0   \n",
       "2    GasA        Ex          Y      SBrkr       920       866             0   \n",
       "3    GasA        Gd          Y      SBrkr       961       756             0   \n",
       "4    GasA        Ex          Y      SBrkr      1145      1053             0   \n",
       "\n",
       "   GrLivArea  BsmtFullBath  BsmtHalfBath  FullBath  HalfBath  BedroomAbvGr  \\\n",
       "0       1710             1             0         2         1             3   \n",
       "1       1262             0             1         2         0             3   \n",
       "2       1786             1             0         2         1             3   \n",
       "3       1717             1             0         1         0             3   \n",
       "4       2198             1             0         2         1             4   \n",
       "\n",
       "   KitchenAbvGr KitchenQual  TotRmsAbvGrd Functional  Fireplaces FireplaceQu  \\\n",
       "0             1          Gd             8        Typ           0         NaN   \n",
       "1             1          TA             6        Typ           1          TA   \n",
       "2             1          Gd             6        Typ           1          TA   \n",
       "3             1          Gd             7        Typ           1          Gd   \n",
       "4             1          Gd             9        Typ           1          TA   \n",
       "\n",
       "  GarageType  GarageYrBlt GarageFinish  GarageCars  GarageArea GarageQual  \\\n",
       "0     Attchd       2003.0          RFn           2         548         TA   \n",
       "1     Attchd       1976.0          RFn           2         460         TA   \n",
       "2     Attchd       2001.0          RFn           2         608         TA   \n",
       "3     Detchd       1998.0          Unf           3         642         TA   \n",
       "4     Attchd       2000.0          RFn           3         836         TA   \n",
       "\n",
       "  GarageCond PavedDrive  WoodDeckSF  OpenPorchSF  EnclosedPorch  3SsnPorch  \\\n",
       "0         TA          Y           0           61              0          0   \n",
       "1         TA          Y         298            0              0          0   \n",
       "2         TA          Y           0           42              0          0   \n",
       "3         TA          Y           0           35            272          0   \n",
       "4         TA          Y         192           84              0          0   \n",
       "\n",
       "   ScreenPorch  PoolArea PoolQC Fence MiscFeature  MiscVal  MoSold  YrSold  \\\n",
       "0            0         0    NaN   NaN         NaN        0       2    2008   \n",
       "1            0         0    NaN   NaN         NaN        0       5    2007   \n",
       "2            0         0    NaN   NaN         NaN        0       9    2008   \n",
       "3            0         0    NaN   NaN         NaN        0       2    2006   \n",
       "4            0         0    NaN   NaN         NaN        0      12    2008   \n",
       "\n",
       "  SaleType SaleCondition  SalePrice  PorchType_WoodDeck  \\\n",
       "0       WD        Normal     208500                   0   \n",
       "1       WD        Normal     181500                   1   \n",
       "2       WD        Normal     223500                   0   \n",
       "3       WD       Abnorml     140000                   0   \n",
       "4       WD        Normal     250000                   1   \n",
       "\n",
       "   PorchType_OpenPorchSF  PorchType_Enclosed  PorchType_Screen  \\\n",
       "0                      1                   0                 0   \n",
       "1                      0                   0                 0   \n",
       "2                      1                   0                 0   \n",
       "3                      1                   1                 0   \n",
       "4                      1                   0                 0   \n",
       "\n",
       "   PorchType_3SsnPorch  IsBsmFin  IsFireplace  IsMiscVal  IsLowQual  \\\n",
       "0                    0         1            0          0          0   \n",
       "1                    0         1            1          0          0   \n",
       "2                    0         1            1          0          0   \n",
       "3                    0         1            1          0          0   \n",
       "4                    0         1            1          0          0   \n",
       "\n",
       "    PerRoomSF  PorchSF  TotalBaths  FloorRatio  BsmFinUnfRatio  \\\n",
       "0  213.750000       61         3.5    0.997664        0.175234   \n",
       "1  210.333333      298         2.5    0.000000        0.225040   \n",
       "2  297.666667       42         3.5    0.941304        0.471739   \n",
       "3  245.285714      307         2.0    0.786681        0.714286   \n",
       "4  244.222222      276         3.5    0.919651        0.427948   \n",
       "\n",
       "   BsmLowQualRatio  BsmFin2BsmFin1Ratio  GarageLivRatio  KitchenRatio  \\\n",
       "0              0.0                  0.0        0.320468      0.125000   \n",
       "1              0.0                  0.0        0.364501      0.166667   \n",
       "2              0.0                  0.0        0.340426      0.166667   \n",
       "3              0.0                  0.0        0.373908      0.142857   \n",
       "4              0.0                  0.0        0.380346      0.111111   \n",
       "\n",
       "   BathRatio  BedroomRatio  \n",
       "0   0.437500      0.375000  \n",
       "1   0.416667      0.500000  \n",
       "2   0.583333      0.500000  \n",
       "3   0.285714      0.428571  \n",
       "4   0.388889      0.444444  "
      ]
     },
     "metadata": {},
     "output_type": "display_data"
    },
    {
     "name": "stdout",
     "output_type": "stream",
     "text": [
      "\n",
      "Nrows: 1460\n",
      "Ncols: 101\n",
      "rows/cols ratio: 14.455445544554456 \n",
      "\n",
      "Col types:\n"
     ]
    },
    {
     "data": {
      "text/html": [
       "<div>\n",
       "<style scoped>\n",
       "    .dataframe tbody tr th:only-of-type {\n",
       "        vertical-align: middle;\n",
       "    }\n",
       "\n",
       "    .dataframe tbody tr th {\n",
       "        vertical-align: top;\n",
       "    }\n",
       "\n",
       "    .dataframe thead th {\n",
       "        text-align: right;\n",
       "    }\n",
       "</style>\n",
       "<table border=\"1\" class=\"dataframe\">\n",
       "  <thead>\n",
       "    <tr style=\"text-align: right;\">\n",
       "      <th></th>\n",
       "      <th>Id</th>\n",
       "      <th>MSSubClass</th>\n",
       "      <th>MSZoning</th>\n",
       "      <th>LotFrontage</th>\n",
       "      <th>LotArea</th>\n",
       "      <th>Street</th>\n",
       "      <th>Alley</th>\n",
       "      <th>LotShape</th>\n",
       "      <th>LandContour</th>\n",
       "      <th>Utilities</th>\n",
       "      <th>LotConfig</th>\n",
       "      <th>LandSlope</th>\n",
       "      <th>Neighborhood</th>\n",
       "      <th>Condition1</th>\n",
       "      <th>Condition2</th>\n",
       "      <th>BldgType</th>\n",
       "      <th>HouseStyle</th>\n",
       "      <th>OverallQual</th>\n",
       "      <th>OverallCond</th>\n",
       "      <th>YearBuilt</th>\n",
       "      <th>YearRemodAdd</th>\n",
       "      <th>RoofStyle</th>\n",
       "      <th>RoofMatl</th>\n",
       "      <th>Exterior1st</th>\n",
       "      <th>Exterior2nd</th>\n",
       "      <th>MasVnrType</th>\n",
       "      <th>MasVnrArea</th>\n",
       "      <th>ExterQual</th>\n",
       "      <th>ExterCond</th>\n",
       "      <th>Foundation</th>\n",
       "      <th>BsmtQual</th>\n",
       "      <th>BsmtCond</th>\n",
       "      <th>BsmtExposure</th>\n",
       "      <th>BsmtFinType1</th>\n",
       "      <th>BsmtFinSF1</th>\n",
       "      <th>BsmtFinType2</th>\n",
       "      <th>BsmtFinSF2</th>\n",
       "      <th>BsmtUnfSF</th>\n",
       "      <th>TotalBsmtSF</th>\n",
       "      <th>Heating</th>\n",
       "      <th>HeatingQC</th>\n",
       "      <th>CentralAir</th>\n",
       "      <th>Electrical</th>\n",
       "      <th>1stFlrSF</th>\n",
       "      <th>2ndFlrSF</th>\n",
       "      <th>LowQualFinSF</th>\n",
       "      <th>GrLivArea</th>\n",
       "      <th>BsmtFullBath</th>\n",
       "      <th>BsmtHalfBath</th>\n",
       "      <th>FullBath</th>\n",
       "      <th>HalfBath</th>\n",
       "      <th>BedroomAbvGr</th>\n",
       "      <th>KitchenAbvGr</th>\n",
       "      <th>KitchenQual</th>\n",
       "      <th>TotRmsAbvGrd</th>\n",
       "      <th>Functional</th>\n",
       "      <th>Fireplaces</th>\n",
       "      <th>FireplaceQu</th>\n",
       "      <th>GarageType</th>\n",
       "      <th>GarageYrBlt</th>\n",
       "      <th>GarageFinish</th>\n",
       "      <th>GarageCars</th>\n",
       "      <th>GarageArea</th>\n",
       "      <th>GarageQual</th>\n",
       "      <th>GarageCond</th>\n",
       "      <th>PavedDrive</th>\n",
       "      <th>WoodDeckSF</th>\n",
       "      <th>OpenPorchSF</th>\n",
       "      <th>EnclosedPorch</th>\n",
       "      <th>3SsnPorch</th>\n",
       "      <th>ScreenPorch</th>\n",
       "      <th>PoolArea</th>\n",
       "      <th>PoolQC</th>\n",
       "      <th>Fence</th>\n",
       "      <th>MiscFeature</th>\n",
       "      <th>MiscVal</th>\n",
       "      <th>MoSold</th>\n",
       "      <th>YrSold</th>\n",
       "      <th>SaleType</th>\n",
       "      <th>SaleCondition</th>\n",
       "      <th>SalePrice</th>\n",
       "      <th>PorchType_WoodDeck</th>\n",
       "      <th>PorchType_OpenPorchSF</th>\n",
       "      <th>PorchType_Enclosed</th>\n",
       "      <th>PorchType_Screen</th>\n",
       "      <th>PorchType_3SsnPorch</th>\n",
       "      <th>IsBsmFin</th>\n",
       "      <th>IsFireplace</th>\n",
       "      <th>IsMiscVal</th>\n",
       "      <th>IsLowQual</th>\n",
       "      <th>PerRoomSF</th>\n",
       "      <th>PorchSF</th>\n",
       "      <th>TotalBaths</th>\n",
       "      <th>FloorRatio</th>\n",
       "      <th>BsmFinUnfRatio</th>\n",
       "      <th>BsmLowQualRatio</th>\n",
       "      <th>BsmFin2BsmFin1Ratio</th>\n",
       "      <th>GarageLivRatio</th>\n",
       "      <th>KitchenRatio</th>\n",
       "      <th>BathRatio</th>\n",
       "      <th>BedroomRatio</th>\n",
       "    </tr>\n",
       "  </thead>\n",
       "  <tbody>\n",
       "    <tr>\n",
       "      <th>0</th>\n",
       "      <td>int64</td>\n",
       "      <td>object</td>\n",
       "      <td>object</td>\n",
       "      <td>float64</td>\n",
       "      <td>int64</td>\n",
       "      <td>object</td>\n",
       "      <td>object</td>\n",
       "      <td>object</td>\n",
       "      <td>object</td>\n",
       "      <td>object</td>\n",
       "      <td>object</td>\n",
       "      <td>object</td>\n",
       "      <td>object</td>\n",
       "      <td>object</td>\n",
       "      <td>object</td>\n",
       "      <td>object</td>\n",
       "      <td>object</td>\n",
       "      <td>int64</td>\n",
       "      <td>int64</td>\n",
       "      <td>int64</td>\n",
       "      <td>int64</td>\n",
       "      <td>object</td>\n",
       "      <td>object</td>\n",
       "      <td>object</td>\n",
       "      <td>object</td>\n",
       "      <td>object</td>\n",
       "      <td>float64</td>\n",
       "      <td>object</td>\n",
       "      <td>object</td>\n",
       "      <td>object</td>\n",
       "      <td>object</td>\n",
       "      <td>object</td>\n",
       "      <td>object</td>\n",
       "      <td>object</td>\n",
       "      <td>int64</td>\n",
       "      <td>object</td>\n",
       "      <td>int64</td>\n",
       "      <td>int64</td>\n",
       "      <td>int64</td>\n",
       "      <td>object</td>\n",
       "      <td>object</td>\n",
       "      <td>object</td>\n",
       "      <td>object</td>\n",
       "      <td>int64</td>\n",
       "      <td>int64</td>\n",
       "      <td>int64</td>\n",
       "      <td>int64</td>\n",
       "      <td>int64</td>\n",
       "      <td>int64</td>\n",
       "      <td>int64</td>\n",
       "      <td>int64</td>\n",
       "      <td>int64</td>\n",
       "      <td>int64</td>\n",
       "      <td>object</td>\n",
       "      <td>int64</td>\n",
       "      <td>object</td>\n",
       "      <td>int64</td>\n",
       "      <td>object</td>\n",
       "      <td>object</td>\n",
       "      <td>float64</td>\n",
       "      <td>object</td>\n",
       "      <td>int64</td>\n",
       "      <td>int64</td>\n",
       "      <td>object</td>\n",
       "      <td>object</td>\n",
       "      <td>object</td>\n",
       "      <td>int64</td>\n",
       "      <td>int64</td>\n",
       "      <td>int64</td>\n",
       "      <td>int64</td>\n",
       "      <td>int64</td>\n",
       "      <td>int64</td>\n",
       "      <td>object</td>\n",
       "      <td>object</td>\n",
       "      <td>object</td>\n",
       "      <td>int64</td>\n",
       "      <td>int64</td>\n",
       "      <td>int64</td>\n",
       "      <td>object</td>\n",
       "      <td>object</td>\n",
       "      <td>int64</td>\n",
       "      <td>int32</td>\n",
       "      <td>int32</td>\n",
       "      <td>int32</td>\n",
       "      <td>int32</td>\n",
       "      <td>int32</td>\n",
       "      <td>int32</td>\n",
       "      <td>int32</td>\n",
       "      <td>int32</td>\n",
       "      <td>int32</td>\n",
       "      <td>float64</td>\n",
       "      <td>int64</td>\n",
       "      <td>float64</td>\n",
       "      <td>float64</td>\n",
       "      <td>float64</td>\n",
       "      <td>float64</td>\n",
       "      <td>float64</td>\n",
       "      <td>float64</td>\n",
       "      <td>float64</td>\n",
       "      <td>float64</td>\n",
       "      <td>float64</td>\n",
       "    </tr>\n",
       "  </tbody>\n",
       "</table>\n",
       "</div>"
      ],
      "text/plain": [
       "      Id MSSubClass MSZoning LotFrontage LotArea  Street   Alley LotShape  \\\n",
       "0  int64     object   object     float64   int64  object  object   object   \n",
       "\n",
       "  LandContour Utilities LotConfig LandSlope Neighborhood Condition1  \\\n",
       "0      object    object    object    object       object     object   \n",
       "\n",
       "  Condition2 BldgType HouseStyle OverallQual OverallCond YearBuilt  \\\n",
       "0     object   object     object       int64       int64     int64   \n",
       "\n",
       "  YearRemodAdd RoofStyle RoofMatl Exterior1st Exterior2nd MasVnrType  \\\n",
       "0        int64    object   object      object      object     object   \n",
       "\n",
       "  MasVnrArea ExterQual ExterCond Foundation BsmtQual BsmtCond BsmtExposure  \\\n",
       "0    float64    object    object     object   object   object       object   \n",
       "\n",
       "  BsmtFinType1 BsmtFinSF1 BsmtFinType2 BsmtFinSF2 BsmtUnfSF TotalBsmtSF  \\\n",
       "0       object      int64       object      int64     int64       int64   \n",
       "\n",
       "  Heating HeatingQC CentralAir Electrical 1stFlrSF 2ndFlrSF LowQualFinSF  \\\n",
       "0  object    object     object     object    int64    int64        int64   \n",
       "\n",
       "  GrLivArea BsmtFullBath BsmtHalfBath FullBath HalfBath BedroomAbvGr  \\\n",
       "0     int64        int64        int64    int64    int64        int64   \n",
       "\n",
       "  KitchenAbvGr KitchenQual TotRmsAbvGrd Functional Fireplaces FireplaceQu  \\\n",
       "0        int64      object        int64     object      int64      object   \n",
       "\n",
       "  GarageType GarageYrBlt GarageFinish GarageCars GarageArea GarageQual  \\\n",
       "0     object     float64       object      int64      int64     object   \n",
       "\n",
       "  GarageCond PavedDrive WoodDeckSF OpenPorchSF EnclosedPorch 3SsnPorch  \\\n",
       "0     object     object      int64       int64         int64     int64   \n",
       "\n",
       "  ScreenPorch PoolArea  PoolQC   Fence MiscFeature MiscVal MoSold YrSold  \\\n",
       "0       int64    int64  object  object      object   int64  int64  int64   \n",
       "\n",
       "  SaleType SaleCondition SalePrice PorchType_WoodDeck PorchType_OpenPorchSF  \\\n",
       "0   object        object     int64              int32                 int32   \n",
       "\n",
       "  PorchType_Enclosed PorchType_Screen PorchType_3SsnPorch IsBsmFin  \\\n",
       "0              int32            int32               int32    int32   \n",
       "\n",
       "  IsFireplace IsMiscVal IsLowQual PerRoomSF PorchSF TotalBaths FloorRatio  \\\n",
       "0       int32     int32     int32   float64   int64    float64    float64   \n",
       "\n",
       "  BsmFinUnfRatio BsmLowQualRatio BsmFin2BsmFin1Ratio GarageLivRatio  \\\n",
       "0        float64         float64             float64        float64   \n",
       "\n",
       "  KitchenRatio BathRatio BedroomRatio  \n",
       "0      float64   float64      float64  "
      ]
     },
     "metadata": {},
     "output_type": "display_data"
    },
    {
     "name": "stdout",
     "output_type": "stream",
     "text": [
      "Number of integer columns: 35\n",
      "Number of float columns: 13\n",
      "Number of string columns: 44 \n",
      "\n",
      "NaNs:\n"
     ]
    },
    {
     "data": {
      "text/html": [
       "<div>\n",
       "<style scoped>\n",
       "    .dataframe tbody tr th:only-of-type {\n",
       "        vertical-align: middle;\n",
       "    }\n",
       "\n",
       "    .dataframe tbody tr th {\n",
       "        vertical-align: top;\n",
       "    }\n",
       "\n",
       "    .dataframe thead th {\n",
       "        text-align: right;\n",
       "    }\n",
       "</style>\n",
       "<table border=\"1\" class=\"dataframe\">\n",
       "  <thead>\n",
       "    <tr style=\"text-align: right;\">\n",
       "      <th></th>\n",
       "      <th>Id</th>\n",
       "      <th>MSSubClass</th>\n",
       "      <th>MSZoning</th>\n",
       "      <th>LotFrontage</th>\n",
       "      <th>LotArea</th>\n",
       "      <th>Street</th>\n",
       "      <th>Alley</th>\n",
       "      <th>LotShape</th>\n",
       "      <th>LandContour</th>\n",
       "      <th>Utilities</th>\n",
       "      <th>LotConfig</th>\n",
       "      <th>LandSlope</th>\n",
       "      <th>Neighborhood</th>\n",
       "      <th>Condition1</th>\n",
       "      <th>Condition2</th>\n",
       "      <th>BldgType</th>\n",
       "      <th>HouseStyle</th>\n",
       "      <th>OverallQual</th>\n",
       "      <th>OverallCond</th>\n",
       "      <th>YearBuilt</th>\n",
       "      <th>YearRemodAdd</th>\n",
       "      <th>RoofStyle</th>\n",
       "      <th>RoofMatl</th>\n",
       "      <th>Exterior1st</th>\n",
       "      <th>Exterior2nd</th>\n",
       "      <th>MasVnrType</th>\n",
       "      <th>MasVnrArea</th>\n",
       "      <th>ExterQual</th>\n",
       "      <th>ExterCond</th>\n",
       "      <th>Foundation</th>\n",
       "      <th>BsmtQual</th>\n",
       "      <th>BsmtCond</th>\n",
       "      <th>BsmtExposure</th>\n",
       "      <th>BsmtFinType1</th>\n",
       "      <th>BsmtFinSF1</th>\n",
       "      <th>BsmtFinType2</th>\n",
       "      <th>BsmtFinSF2</th>\n",
       "      <th>BsmtUnfSF</th>\n",
       "      <th>TotalBsmtSF</th>\n",
       "      <th>Heating</th>\n",
       "      <th>HeatingQC</th>\n",
       "      <th>CentralAir</th>\n",
       "      <th>Electrical</th>\n",
       "      <th>1stFlrSF</th>\n",
       "      <th>2ndFlrSF</th>\n",
       "      <th>LowQualFinSF</th>\n",
       "      <th>GrLivArea</th>\n",
       "      <th>BsmtFullBath</th>\n",
       "      <th>BsmtHalfBath</th>\n",
       "      <th>FullBath</th>\n",
       "      <th>HalfBath</th>\n",
       "      <th>BedroomAbvGr</th>\n",
       "      <th>KitchenAbvGr</th>\n",
       "      <th>KitchenQual</th>\n",
       "      <th>TotRmsAbvGrd</th>\n",
       "      <th>Functional</th>\n",
       "      <th>Fireplaces</th>\n",
       "      <th>FireplaceQu</th>\n",
       "      <th>GarageType</th>\n",
       "      <th>GarageYrBlt</th>\n",
       "      <th>GarageFinish</th>\n",
       "      <th>GarageCars</th>\n",
       "      <th>GarageArea</th>\n",
       "      <th>GarageQual</th>\n",
       "      <th>GarageCond</th>\n",
       "      <th>PavedDrive</th>\n",
       "      <th>WoodDeckSF</th>\n",
       "      <th>OpenPorchSF</th>\n",
       "      <th>EnclosedPorch</th>\n",
       "      <th>3SsnPorch</th>\n",
       "      <th>ScreenPorch</th>\n",
       "      <th>PoolArea</th>\n",
       "      <th>PoolQC</th>\n",
       "      <th>Fence</th>\n",
       "      <th>MiscFeature</th>\n",
       "      <th>MiscVal</th>\n",
       "      <th>MoSold</th>\n",
       "      <th>YrSold</th>\n",
       "      <th>SaleType</th>\n",
       "      <th>SaleCondition</th>\n",
       "      <th>SalePrice</th>\n",
       "      <th>PorchType_WoodDeck</th>\n",
       "      <th>PorchType_OpenPorchSF</th>\n",
       "      <th>PorchType_Enclosed</th>\n",
       "      <th>PorchType_Screen</th>\n",
       "      <th>PorchType_3SsnPorch</th>\n",
       "      <th>IsBsmFin</th>\n",
       "      <th>IsFireplace</th>\n",
       "      <th>IsMiscVal</th>\n",
       "      <th>IsLowQual</th>\n",
       "      <th>PerRoomSF</th>\n",
       "      <th>PorchSF</th>\n",
       "      <th>TotalBaths</th>\n",
       "      <th>FloorRatio</th>\n",
       "      <th>BsmFinUnfRatio</th>\n",
       "      <th>BsmLowQualRatio</th>\n",
       "      <th>BsmFin2BsmFin1Ratio</th>\n",
       "      <th>GarageLivRatio</th>\n",
       "      <th>KitchenRatio</th>\n",
       "      <th>BathRatio</th>\n",
       "      <th>BedroomRatio</th>\n",
       "    </tr>\n",
       "  </thead>\n",
       "  <tbody>\n",
       "    <tr>\n",
       "      <th>0</th>\n",
       "      <td>0</td>\n",
       "      <td>0</td>\n",
       "      <td>0</td>\n",
       "      <td>259</td>\n",
       "      <td>0</td>\n",
       "      <td>0</td>\n",
       "      <td>1369</td>\n",
       "      <td>0</td>\n",
       "      <td>0</td>\n",
       "      <td>0</td>\n",
       "      <td>0</td>\n",
       "      <td>0</td>\n",
       "      <td>0</td>\n",
       "      <td>0</td>\n",
       "      <td>0</td>\n",
       "      <td>0</td>\n",
       "      <td>0</td>\n",
       "      <td>0</td>\n",
       "      <td>0</td>\n",
       "      <td>0</td>\n",
       "      <td>0</td>\n",
       "      <td>0</td>\n",
       "      <td>0</td>\n",
       "      <td>0</td>\n",
       "      <td>0</td>\n",
       "      <td>8</td>\n",
       "      <td>8</td>\n",
       "      <td>0</td>\n",
       "      <td>0</td>\n",
       "      <td>0</td>\n",
       "      <td>37</td>\n",
       "      <td>37</td>\n",
       "      <td>38</td>\n",
       "      <td>37</td>\n",
       "      <td>0</td>\n",
       "      <td>38</td>\n",
       "      <td>0</td>\n",
       "      <td>0</td>\n",
       "      <td>0</td>\n",
       "      <td>0</td>\n",
       "      <td>0</td>\n",
       "      <td>0</td>\n",
       "      <td>1</td>\n",
       "      <td>0</td>\n",
       "      <td>0</td>\n",
       "      <td>0</td>\n",
       "      <td>0</td>\n",
       "      <td>0</td>\n",
       "      <td>0</td>\n",
       "      <td>0</td>\n",
       "      <td>0</td>\n",
       "      <td>0</td>\n",
       "      <td>0</td>\n",
       "      <td>0</td>\n",
       "      <td>0</td>\n",
       "      <td>0</td>\n",
       "      <td>0</td>\n",
       "      <td>690</td>\n",
       "      <td>81</td>\n",
       "      <td>81</td>\n",
       "      <td>81</td>\n",
       "      <td>0</td>\n",
       "      <td>0</td>\n",
       "      <td>81</td>\n",
       "      <td>81</td>\n",
       "      <td>0</td>\n",
       "      <td>0</td>\n",
       "      <td>0</td>\n",
       "      <td>0</td>\n",
       "      <td>0</td>\n",
       "      <td>0</td>\n",
       "      <td>0</td>\n",
       "      <td>1453</td>\n",
       "      <td>1179</td>\n",
       "      <td>1406</td>\n",
       "      <td>0</td>\n",
       "      <td>0</td>\n",
       "      <td>0</td>\n",
       "      <td>0</td>\n",
       "      <td>0</td>\n",
       "      <td>0</td>\n",
       "      <td>0</td>\n",
       "      <td>0</td>\n",
       "      <td>0</td>\n",
       "      <td>0</td>\n",
       "      <td>0</td>\n",
       "      <td>0</td>\n",
       "      <td>0</td>\n",
       "      <td>0</td>\n",
       "      <td>0</td>\n",
       "      <td>0</td>\n",
       "      <td>0</td>\n",
       "      <td>0</td>\n",
       "      <td>0</td>\n",
       "      <td>37</td>\n",
       "      <td>36</td>\n",
       "      <td>467</td>\n",
       "      <td>0</td>\n",
       "      <td>0</td>\n",
       "      <td>0</td>\n",
       "      <td>0</td>\n",
       "    </tr>\n",
       "  </tbody>\n",
       "</table>\n",
       "</div>"
      ],
      "text/plain": [
       "   Id  MSSubClass  MSZoning  LotFrontage  LotArea  Street  Alley  LotShape  \\\n",
       "0   0           0         0          259        0       0   1369         0   \n",
       "\n",
       "   LandContour  Utilities  LotConfig  LandSlope  Neighborhood  Condition1  \\\n",
       "0            0          0          0          0             0           0   \n",
       "\n",
       "   Condition2  BldgType  HouseStyle  OverallQual  OverallCond  YearBuilt  \\\n",
       "0           0         0           0            0            0          0   \n",
       "\n",
       "   YearRemodAdd  RoofStyle  RoofMatl  Exterior1st  Exterior2nd  MasVnrType  \\\n",
       "0             0          0         0            0            0           8   \n",
       "\n",
       "   MasVnrArea  ExterQual  ExterCond  Foundation  BsmtQual  BsmtCond  \\\n",
       "0           8          0          0           0        37        37   \n",
       "\n",
       "   BsmtExposure  BsmtFinType1  BsmtFinSF1  BsmtFinType2  BsmtFinSF2  \\\n",
       "0            38            37           0            38           0   \n",
       "\n",
       "   BsmtUnfSF  TotalBsmtSF  Heating  HeatingQC  CentralAir  Electrical  \\\n",
       "0          0            0        0          0           0           1   \n",
       "\n",
       "   1stFlrSF  2ndFlrSF  LowQualFinSF  GrLivArea  BsmtFullBath  BsmtHalfBath  \\\n",
       "0         0         0             0          0             0             0   \n",
       "\n",
       "   FullBath  HalfBath  BedroomAbvGr  KitchenAbvGr  KitchenQual  TotRmsAbvGrd  \\\n",
       "0         0         0             0             0            0             0   \n",
       "\n",
       "   Functional  Fireplaces  FireplaceQu  GarageType  GarageYrBlt  GarageFinish  \\\n",
       "0           0           0          690          81           81            81   \n",
       "\n",
       "   GarageCars  GarageArea  GarageQual  GarageCond  PavedDrive  WoodDeckSF  \\\n",
       "0           0           0          81          81           0           0   \n",
       "\n",
       "   OpenPorchSF  EnclosedPorch  3SsnPorch  ScreenPorch  PoolArea  PoolQC  \\\n",
       "0            0              0          0            0         0    1453   \n",
       "\n",
       "   Fence  MiscFeature  MiscVal  MoSold  YrSold  SaleType  SaleCondition  \\\n",
       "0   1179         1406        0       0       0         0              0   \n",
       "\n",
       "   SalePrice  PorchType_WoodDeck  PorchType_OpenPorchSF  PorchType_Enclosed  \\\n",
       "0          0                   0                      0                   0   \n",
       "\n",
       "   PorchType_Screen  PorchType_3SsnPorch  IsBsmFin  IsFireplace  IsMiscVal  \\\n",
       "0                 0                    0         0            0          0   \n",
       "\n",
       "   IsLowQual  PerRoomSF  PorchSF  TotalBaths  FloorRatio  BsmFinUnfRatio  \\\n",
       "0          0          0        0           0           0              37   \n",
       "\n",
       "   BsmLowQualRatio  BsmFin2BsmFin1Ratio  GarageLivRatio  KitchenRatio  \\\n",
       "0               36                  467               0             0   \n",
       "\n",
       "   BathRatio  BedroomRatio  \n",
       "0          0             0  "
      ]
     },
     "metadata": {},
     "output_type": "display_data"
    },
    {
     "name": "stdout",
     "output_type": "stream",
     "text": [
      "\n",
      "Infs:\n"
     ]
    },
    {
     "data": {
      "text/html": [
       "<div>\n",
       "<style scoped>\n",
       "    .dataframe tbody tr th:only-of-type {\n",
       "        vertical-align: middle;\n",
       "    }\n",
       "\n",
       "    .dataframe tbody tr th {\n",
       "        vertical-align: top;\n",
       "    }\n",
       "\n",
       "    .dataframe thead th {\n",
       "        text-align: right;\n",
       "    }\n",
       "</style>\n",
       "<table border=\"1\" class=\"dataframe\">\n",
       "  <thead>\n",
       "    <tr style=\"text-align: right;\">\n",
       "      <th></th>\n",
       "      <th>Id</th>\n",
       "      <th>MSSubClass</th>\n",
       "      <th>MSZoning</th>\n",
       "      <th>LotFrontage</th>\n",
       "      <th>LotArea</th>\n",
       "      <th>Street</th>\n",
       "      <th>Alley</th>\n",
       "      <th>LotShape</th>\n",
       "      <th>LandContour</th>\n",
       "      <th>Utilities</th>\n",
       "      <th>LotConfig</th>\n",
       "      <th>LandSlope</th>\n",
       "      <th>Neighborhood</th>\n",
       "      <th>Condition1</th>\n",
       "      <th>Condition2</th>\n",
       "      <th>BldgType</th>\n",
       "      <th>HouseStyle</th>\n",
       "      <th>OverallQual</th>\n",
       "      <th>OverallCond</th>\n",
       "      <th>YearBuilt</th>\n",
       "      <th>YearRemodAdd</th>\n",
       "      <th>RoofStyle</th>\n",
       "      <th>RoofMatl</th>\n",
       "      <th>Exterior1st</th>\n",
       "      <th>Exterior2nd</th>\n",
       "      <th>MasVnrType</th>\n",
       "      <th>MasVnrArea</th>\n",
       "      <th>ExterQual</th>\n",
       "      <th>ExterCond</th>\n",
       "      <th>Foundation</th>\n",
       "      <th>BsmtQual</th>\n",
       "      <th>BsmtCond</th>\n",
       "      <th>BsmtExposure</th>\n",
       "      <th>BsmtFinType1</th>\n",
       "      <th>BsmtFinSF1</th>\n",
       "      <th>BsmtFinType2</th>\n",
       "      <th>BsmtFinSF2</th>\n",
       "      <th>BsmtUnfSF</th>\n",
       "      <th>TotalBsmtSF</th>\n",
       "      <th>Heating</th>\n",
       "      <th>HeatingQC</th>\n",
       "      <th>CentralAir</th>\n",
       "      <th>Electrical</th>\n",
       "      <th>1stFlrSF</th>\n",
       "      <th>2ndFlrSF</th>\n",
       "      <th>LowQualFinSF</th>\n",
       "      <th>GrLivArea</th>\n",
       "      <th>BsmtFullBath</th>\n",
       "      <th>BsmtHalfBath</th>\n",
       "      <th>FullBath</th>\n",
       "      <th>HalfBath</th>\n",
       "      <th>BedroomAbvGr</th>\n",
       "      <th>KitchenAbvGr</th>\n",
       "      <th>KitchenQual</th>\n",
       "      <th>TotRmsAbvGrd</th>\n",
       "      <th>Functional</th>\n",
       "      <th>Fireplaces</th>\n",
       "      <th>FireplaceQu</th>\n",
       "      <th>GarageType</th>\n",
       "      <th>GarageYrBlt</th>\n",
       "      <th>GarageFinish</th>\n",
       "      <th>GarageCars</th>\n",
       "      <th>GarageArea</th>\n",
       "      <th>GarageQual</th>\n",
       "      <th>GarageCond</th>\n",
       "      <th>PavedDrive</th>\n",
       "      <th>WoodDeckSF</th>\n",
       "      <th>OpenPorchSF</th>\n",
       "      <th>EnclosedPorch</th>\n",
       "      <th>3SsnPorch</th>\n",
       "      <th>ScreenPorch</th>\n",
       "      <th>PoolArea</th>\n",
       "      <th>PoolQC</th>\n",
       "      <th>Fence</th>\n",
       "      <th>MiscFeature</th>\n",
       "      <th>MiscVal</th>\n",
       "      <th>MoSold</th>\n",
       "      <th>YrSold</th>\n",
       "      <th>SaleType</th>\n",
       "      <th>SaleCondition</th>\n",
       "      <th>SalePrice</th>\n",
       "      <th>PorchType_WoodDeck</th>\n",
       "      <th>PorchType_OpenPorchSF</th>\n",
       "      <th>PorchType_Enclosed</th>\n",
       "      <th>PorchType_Screen</th>\n",
       "      <th>PorchType_3SsnPorch</th>\n",
       "      <th>IsBsmFin</th>\n",
       "      <th>IsFireplace</th>\n",
       "      <th>IsMiscVal</th>\n",
       "      <th>IsLowQual</th>\n",
       "      <th>PerRoomSF</th>\n",
       "      <th>PorchSF</th>\n",
       "      <th>TotalBaths</th>\n",
       "      <th>FloorRatio</th>\n",
       "      <th>BsmFinUnfRatio</th>\n",
       "      <th>BsmLowQualRatio</th>\n",
       "      <th>BsmFin2BsmFin1Ratio</th>\n",
       "      <th>GarageLivRatio</th>\n",
       "      <th>KitchenRatio</th>\n",
       "      <th>BathRatio</th>\n",
       "      <th>BedroomRatio</th>\n",
       "    </tr>\n",
       "  </thead>\n",
       "  <tbody>\n",
       "    <tr>\n",
       "      <th>0</th>\n",
       "      <td>0</td>\n",
       "      <td>0</td>\n",
       "      <td>0</td>\n",
       "      <td>0</td>\n",
       "      <td>0</td>\n",
       "      <td>0</td>\n",
       "      <td>0</td>\n",
       "      <td>0</td>\n",
       "      <td>0</td>\n",
       "      <td>0</td>\n",
       "      <td>0</td>\n",
       "      <td>0</td>\n",
       "      <td>0</td>\n",
       "      <td>0</td>\n",
       "      <td>0</td>\n",
       "      <td>0</td>\n",
       "      <td>0</td>\n",
       "      <td>0</td>\n",
       "      <td>0</td>\n",
       "      <td>0</td>\n",
       "      <td>0</td>\n",
       "      <td>0</td>\n",
       "      <td>0</td>\n",
       "      <td>0</td>\n",
       "      <td>0</td>\n",
       "      <td>0</td>\n",
       "      <td>0</td>\n",
       "      <td>0</td>\n",
       "      <td>0</td>\n",
       "      <td>0</td>\n",
       "      <td>0</td>\n",
       "      <td>0</td>\n",
       "      <td>0</td>\n",
       "      <td>0</td>\n",
       "      <td>0</td>\n",
       "      <td>0</td>\n",
       "      <td>0</td>\n",
       "      <td>0</td>\n",
       "      <td>0</td>\n",
       "      <td>0</td>\n",
       "      <td>0</td>\n",
       "      <td>0</td>\n",
       "      <td>0</td>\n",
       "      <td>0</td>\n",
       "      <td>0</td>\n",
       "      <td>0</td>\n",
       "      <td>0</td>\n",
       "      <td>0</td>\n",
       "      <td>0</td>\n",
       "      <td>0</td>\n",
       "      <td>0</td>\n",
       "      <td>0</td>\n",
       "      <td>0</td>\n",
       "      <td>0</td>\n",
       "      <td>0</td>\n",
       "      <td>0</td>\n",
       "      <td>0</td>\n",
       "      <td>0</td>\n",
       "      <td>0</td>\n",
       "      <td>0</td>\n",
       "      <td>0</td>\n",
       "      <td>0</td>\n",
       "      <td>0</td>\n",
       "      <td>0</td>\n",
       "      <td>0</td>\n",
       "      <td>0</td>\n",
       "      <td>0</td>\n",
       "      <td>0</td>\n",
       "      <td>0</td>\n",
       "      <td>0</td>\n",
       "      <td>0</td>\n",
       "      <td>0</td>\n",
       "      <td>0</td>\n",
       "      <td>0</td>\n",
       "      <td>0</td>\n",
       "      <td>0</td>\n",
       "      <td>0</td>\n",
       "      <td>0</td>\n",
       "      <td>0</td>\n",
       "      <td>0</td>\n",
       "      <td>0</td>\n",
       "      <td>0</td>\n",
       "      <td>0</td>\n",
       "      <td>0</td>\n",
       "      <td>0</td>\n",
       "      <td>0</td>\n",
       "      <td>0</td>\n",
       "      <td>0</td>\n",
       "      <td>0</td>\n",
       "      <td>0</td>\n",
       "      <td>0</td>\n",
       "      <td>0</td>\n",
       "      <td>0</td>\n",
       "      <td>0</td>\n",
       "      <td>0</td>\n",
       "      <td>1</td>\n",
       "      <td>0</td>\n",
       "      <td>0</td>\n",
       "      <td>0</td>\n",
       "      <td>0</td>\n",
       "      <td>0</td>\n",
       "    </tr>\n",
       "  </tbody>\n",
       "</table>\n",
       "</div>"
      ],
      "text/plain": [
       "   Id  MSSubClass  MSZoning  LotFrontage  LotArea  Street  Alley  LotShape  \\\n",
       "0   0           0         0            0        0       0      0         0   \n",
       "\n",
       "   LandContour  Utilities  LotConfig  LandSlope  Neighborhood  Condition1  \\\n",
       "0            0          0          0          0             0           0   \n",
       "\n",
       "   Condition2  BldgType  HouseStyle  OverallQual  OverallCond  YearBuilt  \\\n",
       "0           0         0           0            0            0          0   \n",
       "\n",
       "   YearRemodAdd  RoofStyle  RoofMatl  Exterior1st  Exterior2nd  MasVnrType  \\\n",
       "0             0          0         0            0            0           0   \n",
       "\n",
       "   MasVnrArea  ExterQual  ExterCond  Foundation  BsmtQual  BsmtCond  \\\n",
       "0           0          0          0           0         0         0   \n",
       "\n",
       "   BsmtExposure  BsmtFinType1  BsmtFinSF1  BsmtFinType2  BsmtFinSF2  \\\n",
       "0             0             0           0             0           0   \n",
       "\n",
       "   BsmtUnfSF  TotalBsmtSF  Heating  HeatingQC  CentralAir  Electrical  \\\n",
       "0          0            0        0          0           0           0   \n",
       "\n",
       "   1stFlrSF  2ndFlrSF  LowQualFinSF  GrLivArea  BsmtFullBath  BsmtHalfBath  \\\n",
       "0         0         0             0          0             0             0   \n",
       "\n",
       "   FullBath  HalfBath  BedroomAbvGr  KitchenAbvGr  KitchenQual  TotRmsAbvGrd  \\\n",
       "0         0         0             0             0            0             0   \n",
       "\n",
       "   Functional  Fireplaces  FireplaceQu  GarageType  GarageYrBlt  GarageFinish  \\\n",
       "0           0           0            0           0            0             0   \n",
       "\n",
       "   GarageCars  GarageArea  GarageQual  GarageCond  PavedDrive  WoodDeckSF  \\\n",
       "0           0           0           0           0           0           0   \n",
       "\n",
       "   OpenPorchSF  EnclosedPorch  3SsnPorch  ScreenPorch  PoolArea  PoolQC  \\\n",
       "0            0              0          0            0         0       0   \n",
       "\n",
       "   Fence  MiscFeature  MiscVal  MoSold  YrSold  SaleType  SaleCondition  \\\n",
       "0      0            0        0       0       0         0              0   \n",
       "\n",
       "   SalePrice  PorchType_WoodDeck  PorchType_OpenPorchSF  PorchType_Enclosed  \\\n",
       "0          0                   0                      0                   0   \n",
       "\n",
       "   PorchType_Screen  PorchType_3SsnPorch  IsBsmFin  IsFireplace  IsMiscVal  \\\n",
       "0                 0                    0         0            0          0   \n",
       "\n",
       "   IsLowQual  PerRoomSF  PorchSF  TotalBaths  FloorRatio  BsmFinUnfRatio  \\\n",
       "0          0          0        0           0           0               0   \n",
       "\n",
       "   BsmLowQualRatio  BsmFin2BsmFin1Ratio  GarageLivRatio  KitchenRatio  \\\n",
       "0                1                    0               0             0   \n",
       "\n",
       "   BathRatio  BedroomRatio  \n",
       "0          0             0  "
      ]
     },
     "metadata": {},
     "output_type": "display_data"
    },
    {
     "name": "stdout",
     "output_type": "stream",
     "text": [
      "\n",
      "Statistics:\n"
     ]
    },
    {
     "data": {
      "text/html": [
       "<div>\n",
       "<style scoped>\n",
       "    .dataframe tbody tr th:only-of-type {\n",
       "        vertical-align: middle;\n",
       "    }\n",
       "\n",
       "    .dataframe tbody tr th {\n",
       "        vertical-align: top;\n",
       "    }\n",
       "\n",
       "    .dataframe thead th {\n",
       "        text-align: right;\n",
       "    }\n",
       "</style>\n",
       "<table border=\"1\" class=\"dataframe\">\n",
       "  <thead>\n",
       "    <tr style=\"text-align: right;\">\n",
       "      <th></th>\n",
       "      <th>Id</th>\n",
       "      <th>LotFrontage</th>\n",
       "      <th>LotArea</th>\n",
       "      <th>OverallQual</th>\n",
       "      <th>OverallCond</th>\n",
       "      <th>YearBuilt</th>\n",
       "      <th>YearRemodAdd</th>\n",
       "      <th>MasVnrArea</th>\n",
       "      <th>BsmtFinSF1</th>\n",
       "      <th>BsmtFinSF2</th>\n",
       "      <th>BsmtUnfSF</th>\n",
       "      <th>TotalBsmtSF</th>\n",
       "      <th>1stFlrSF</th>\n",
       "      <th>2ndFlrSF</th>\n",
       "      <th>LowQualFinSF</th>\n",
       "      <th>GrLivArea</th>\n",
       "      <th>BsmtFullBath</th>\n",
       "      <th>BsmtHalfBath</th>\n",
       "      <th>FullBath</th>\n",
       "      <th>HalfBath</th>\n",
       "      <th>BedroomAbvGr</th>\n",
       "      <th>KitchenAbvGr</th>\n",
       "      <th>TotRmsAbvGrd</th>\n",
       "      <th>Fireplaces</th>\n",
       "      <th>GarageYrBlt</th>\n",
       "      <th>GarageCars</th>\n",
       "      <th>GarageArea</th>\n",
       "      <th>WoodDeckSF</th>\n",
       "      <th>OpenPorchSF</th>\n",
       "      <th>EnclosedPorch</th>\n",
       "      <th>3SsnPorch</th>\n",
       "      <th>ScreenPorch</th>\n",
       "      <th>PoolArea</th>\n",
       "      <th>MiscVal</th>\n",
       "      <th>MoSold</th>\n",
       "      <th>YrSold</th>\n",
       "      <th>SalePrice</th>\n",
       "      <th>PorchType_WoodDeck</th>\n",
       "      <th>PorchType_OpenPorchSF</th>\n",
       "      <th>PorchType_Enclosed</th>\n",
       "      <th>PorchType_Screen</th>\n",
       "      <th>PorchType_3SsnPorch</th>\n",
       "      <th>IsBsmFin</th>\n",
       "      <th>IsFireplace</th>\n",
       "      <th>IsMiscVal</th>\n",
       "      <th>IsLowQual</th>\n",
       "      <th>PerRoomSF</th>\n",
       "      <th>PorchSF</th>\n",
       "      <th>TotalBaths</th>\n",
       "      <th>FloorRatio</th>\n",
       "      <th>BsmFinUnfRatio</th>\n",
       "      <th>BsmLowQualRatio</th>\n",
       "      <th>BsmFin2BsmFin1Ratio</th>\n",
       "      <th>GarageLivRatio</th>\n",
       "      <th>KitchenRatio</th>\n",
       "      <th>BathRatio</th>\n",
       "      <th>BedroomRatio</th>\n",
       "    </tr>\n",
       "  </thead>\n",
       "  <tbody>\n",
       "    <tr>\n",
       "      <th>count</th>\n",
       "      <td>1460.000000</td>\n",
       "      <td>1201.000000</td>\n",
       "      <td>1460.000000</td>\n",
       "      <td>1460.000000</td>\n",
       "      <td>1460.000000</td>\n",
       "      <td>1460.000000</td>\n",
       "      <td>1460.000000</td>\n",
       "      <td>1452.000000</td>\n",
       "      <td>1460.000000</td>\n",
       "      <td>1460.000000</td>\n",
       "      <td>1460.000000</td>\n",
       "      <td>1460.000000</td>\n",
       "      <td>1460.000000</td>\n",
       "      <td>1460.000000</td>\n",
       "      <td>1460.000000</td>\n",
       "      <td>1460.000000</td>\n",
       "      <td>1460.000000</td>\n",
       "      <td>1460.000000</td>\n",
       "      <td>1460.000000</td>\n",
       "      <td>1460.000000</td>\n",
       "      <td>1460.000000</td>\n",
       "      <td>1460.000000</td>\n",
       "      <td>1460.000000</td>\n",
       "      <td>1460.000000</td>\n",
       "      <td>1379.000000</td>\n",
       "      <td>1460.000000</td>\n",
       "      <td>1460.000000</td>\n",
       "      <td>1460.000000</td>\n",
       "      <td>1460.000000</td>\n",
       "      <td>1460.000000</td>\n",
       "      <td>1460.000000</td>\n",
       "      <td>1460.000000</td>\n",
       "      <td>1460.000000</td>\n",
       "      <td>1460.000000</td>\n",
       "      <td>1460.000000</td>\n",
       "      <td>1460.000000</td>\n",
       "      <td>1460.000000</td>\n",
       "      <td>1460.000000</td>\n",
       "      <td>1460.000000</td>\n",
       "      <td>1460.000000</td>\n",
       "      <td>1460.000000</td>\n",
       "      <td>1460.000000</td>\n",
       "      <td>1460.000000</td>\n",
       "      <td>1460.000000</td>\n",
       "      <td>1460.000000</td>\n",
       "      <td>1460.000000</td>\n",
       "      <td>1460.000000</td>\n",
       "      <td>1460.000000</td>\n",
       "      <td>1460.000000</td>\n",
       "      <td>1460.000000</td>\n",
       "      <td>1423.000000</td>\n",
       "      <td>1424.0</td>\n",
       "      <td>993.000000</td>\n",
       "      <td>1460.000000</td>\n",
       "      <td>1460.000000</td>\n",
       "      <td>1460.000000</td>\n",
       "      <td>1460.000000</td>\n",
       "    </tr>\n",
       "    <tr>\n",
       "      <th>mean</th>\n",
       "      <td>730.500000</td>\n",
       "      <td>70.049958</td>\n",
       "      <td>10516.828082</td>\n",
       "      <td>6.099315</td>\n",
       "      <td>5.575342</td>\n",
       "      <td>1971.267808</td>\n",
       "      <td>1984.865753</td>\n",
       "      <td>103.685262</td>\n",
       "      <td>443.639726</td>\n",
       "      <td>46.549315</td>\n",
       "      <td>567.240411</td>\n",
       "      <td>1057.429452</td>\n",
       "      <td>1162.626712</td>\n",
       "      <td>346.992466</td>\n",
       "      <td>5.844521</td>\n",
       "      <td>1515.463699</td>\n",
       "      <td>0.425342</td>\n",
       "      <td>0.057534</td>\n",
       "      <td>1.565068</td>\n",
       "      <td>0.382877</td>\n",
       "      <td>2.866438</td>\n",
       "      <td>1.046575</td>\n",
       "      <td>6.517808</td>\n",
       "      <td>0.613014</td>\n",
       "      <td>1978.506164</td>\n",
       "      <td>1.767123</td>\n",
       "      <td>472.980137</td>\n",
       "      <td>94.244521</td>\n",
       "      <td>46.660274</td>\n",
       "      <td>21.954110</td>\n",
       "      <td>3.409589</td>\n",
       "      <td>15.060959</td>\n",
       "      <td>2.758904</td>\n",
       "      <td>43.489041</td>\n",
       "      <td>6.321918</td>\n",
       "      <td>2007.815753</td>\n",
       "      <td>180921.195890</td>\n",
       "      <td>0.478767</td>\n",
       "      <td>0.550685</td>\n",
       "      <td>0.142466</td>\n",
       "      <td>0.079452</td>\n",
       "      <td>0.016438</td>\n",
       "      <td>0.919178</td>\n",
       "      <td>0.527397</td>\n",
       "      <td>0.035616</td>\n",
       "      <td>0.017808</td>\n",
       "      <td>230.905362</td>\n",
       "      <td>181.329452</td>\n",
       "      <td>2.210616</td>\n",
       "      <td>0.358380</td>\n",
       "      <td>0.551303</td>\n",
       "      <td>inf</td>\n",
       "      <td>0.411632</td>\n",
       "      <td>0.323993</td>\n",
       "      <td>0.169059</td>\n",
       "      <td>0.346723</td>\n",
       "      <td>0.444893</td>\n",
       "    </tr>\n",
       "    <tr>\n",
       "      <th>std</th>\n",
       "      <td>421.610009</td>\n",
       "      <td>24.284752</td>\n",
       "      <td>9981.264932</td>\n",
       "      <td>1.382997</td>\n",
       "      <td>1.112799</td>\n",
       "      <td>30.202904</td>\n",
       "      <td>20.645407</td>\n",
       "      <td>181.066207</td>\n",
       "      <td>456.098091</td>\n",
       "      <td>161.319273</td>\n",
       "      <td>441.866955</td>\n",
       "      <td>438.705324</td>\n",
       "      <td>386.587738</td>\n",
       "      <td>436.528436</td>\n",
       "      <td>48.623081</td>\n",
       "      <td>525.480383</td>\n",
       "      <td>0.518911</td>\n",
       "      <td>0.238753</td>\n",
       "      <td>0.550916</td>\n",
       "      <td>0.502885</td>\n",
       "      <td>0.815778</td>\n",
       "      <td>0.220338</td>\n",
       "      <td>1.625393</td>\n",
       "      <td>0.644666</td>\n",
       "      <td>24.689725</td>\n",
       "      <td>0.747315</td>\n",
       "      <td>213.804841</td>\n",
       "      <td>125.338794</td>\n",
       "      <td>66.256028</td>\n",
       "      <td>61.119149</td>\n",
       "      <td>29.317331</td>\n",
       "      <td>55.757415</td>\n",
       "      <td>40.177307</td>\n",
       "      <td>496.123024</td>\n",
       "      <td>2.703626</td>\n",
       "      <td>1.328095</td>\n",
       "      <td>79442.502883</td>\n",
       "      <td>0.499720</td>\n",
       "      <td>0.497595</td>\n",
       "      <td>0.349647</td>\n",
       "      <td>0.270536</td>\n",
       "      <td>0.127198</td>\n",
       "      <td>0.272655</td>\n",
       "      <td>0.499420</td>\n",
       "      <td>0.185395</td>\n",
       "      <td>0.132299</td>\n",
       "      <td>44.740397</td>\n",
       "      <td>156.656097</td>\n",
       "      <td>0.785399</td>\n",
       "      <td>0.446071</td>\n",
       "      <td>0.361698</td>\n",
       "      <td>NaN</td>\n",
       "      <td>2.478674</td>\n",
       "      <td>0.148638</td>\n",
       "      <td>0.047631</td>\n",
       "      <td>0.120470</td>\n",
       "      <td>0.098361</td>\n",
       "    </tr>\n",
       "    <tr>\n",
       "      <th>min</th>\n",
       "      <td>1.000000</td>\n",
       "      <td>21.000000</td>\n",
       "      <td>1300.000000</td>\n",
       "      <td>1.000000</td>\n",
       "      <td>1.000000</td>\n",
       "      <td>1872.000000</td>\n",
       "      <td>1950.000000</td>\n",
       "      <td>0.000000</td>\n",
       "      <td>0.000000</td>\n",
       "      <td>0.000000</td>\n",
       "      <td>0.000000</td>\n",
       "      <td>0.000000</td>\n",
       "      <td>334.000000</td>\n",
       "      <td>0.000000</td>\n",
       "      <td>0.000000</td>\n",
       "      <td>334.000000</td>\n",
       "      <td>0.000000</td>\n",
       "      <td>0.000000</td>\n",
       "      <td>0.000000</td>\n",
       "      <td>0.000000</td>\n",
       "      <td>0.000000</td>\n",
       "      <td>0.000000</td>\n",
       "      <td>2.000000</td>\n",
       "      <td>0.000000</td>\n",
       "      <td>1900.000000</td>\n",
       "      <td>0.000000</td>\n",
       "      <td>0.000000</td>\n",
       "      <td>0.000000</td>\n",
       "      <td>0.000000</td>\n",
       "      <td>0.000000</td>\n",
       "      <td>0.000000</td>\n",
       "      <td>0.000000</td>\n",
       "      <td>0.000000</td>\n",
       "      <td>0.000000</td>\n",
       "      <td>1.000000</td>\n",
       "      <td>2006.000000</td>\n",
       "      <td>34900.000000</td>\n",
       "      <td>0.000000</td>\n",
       "      <td>0.000000</td>\n",
       "      <td>0.000000</td>\n",
       "      <td>0.000000</td>\n",
       "      <td>0.000000</td>\n",
       "      <td>0.000000</td>\n",
       "      <td>0.000000</td>\n",
       "      <td>0.000000</td>\n",
       "      <td>0.000000</td>\n",
       "      <td>120.000000</td>\n",
       "      <td>0.000000</td>\n",
       "      <td>1.000000</td>\n",
       "      <td>0.000000</td>\n",
       "      <td>0.000000</td>\n",
       "      <td>0.0</td>\n",
       "      <td>0.000000</td>\n",
       "      <td>0.000000</td>\n",
       "      <td>0.000000</td>\n",
       "      <td>0.111111</td>\n",
       "      <td>0.000000</td>\n",
       "    </tr>\n",
       "    <tr>\n",
       "      <th>25%</th>\n",
       "      <td>365.750000</td>\n",
       "      <td>59.000000</td>\n",
       "      <td>7553.500000</td>\n",
       "      <td>5.000000</td>\n",
       "      <td>5.000000</td>\n",
       "      <td>1954.000000</td>\n",
       "      <td>1967.000000</td>\n",
       "      <td>0.000000</td>\n",
       "      <td>0.000000</td>\n",
       "      <td>0.000000</td>\n",
       "      <td>223.000000</td>\n",
       "      <td>795.750000</td>\n",
       "      <td>882.000000</td>\n",
       "      <td>0.000000</td>\n",
       "      <td>0.000000</td>\n",
       "      <td>1129.500000</td>\n",
       "      <td>0.000000</td>\n",
       "      <td>0.000000</td>\n",
       "      <td>1.000000</td>\n",
       "      <td>0.000000</td>\n",
       "      <td>2.000000</td>\n",
       "      <td>1.000000</td>\n",
       "      <td>5.000000</td>\n",
       "      <td>0.000000</td>\n",
       "      <td>1961.000000</td>\n",
       "      <td>1.000000</td>\n",
       "      <td>334.500000</td>\n",
       "      <td>0.000000</td>\n",
       "      <td>0.000000</td>\n",
       "      <td>0.000000</td>\n",
       "      <td>0.000000</td>\n",
       "      <td>0.000000</td>\n",
       "      <td>0.000000</td>\n",
       "      <td>0.000000</td>\n",
       "      <td>5.000000</td>\n",
       "      <td>2007.000000</td>\n",
       "      <td>129975.000000</td>\n",
       "      <td>0.000000</td>\n",
       "      <td>0.000000</td>\n",
       "      <td>0.000000</td>\n",
       "      <td>0.000000</td>\n",
       "      <td>0.000000</td>\n",
       "      <td>1.000000</td>\n",
       "      <td>0.000000</td>\n",
       "      <td>0.000000</td>\n",
       "      <td>0.000000</td>\n",
       "      <td>199.000000</td>\n",
       "      <td>45.000000</td>\n",
       "      <td>2.000000</td>\n",
       "      <td>0.000000</td>\n",
       "      <td>0.229432</td>\n",
       "      <td>0.0</td>\n",
       "      <td>0.000000</td>\n",
       "      <td>0.246751</td>\n",
       "      <td>0.142857</td>\n",
       "      <td>0.250000</td>\n",
       "      <td>0.400000</td>\n",
       "    </tr>\n",
       "    <tr>\n",
       "      <th>50%</th>\n",
       "      <td>730.500000</td>\n",
       "      <td>69.000000</td>\n",
       "      <td>9478.500000</td>\n",
       "      <td>6.000000</td>\n",
       "      <td>5.000000</td>\n",
       "      <td>1973.000000</td>\n",
       "      <td>1994.000000</td>\n",
       "      <td>0.000000</td>\n",
       "      <td>383.500000</td>\n",
       "      <td>0.000000</td>\n",
       "      <td>477.500000</td>\n",
       "      <td>991.500000</td>\n",
       "      <td>1087.000000</td>\n",
       "      <td>0.000000</td>\n",
       "      <td>0.000000</td>\n",
       "      <td>1464.000000</td>\n",
       "      <td>0.000000</td>\n",
       "      <td>0.000000</td>\n",
       "      <td>2.000000</td>\n",
       "      <td>0.000000</td>\n",
       "      <td>3.000000</td>\n",
       "      <td>1.000000</td>\n",
       "      <td>6.000000</td>\n",
       "      <td>1.000000</td>\n",
       "      <td>1980.000000</td>\n",
       "      <td>2.000000</td>\n",
       "      <td>480.000000</td>\n",
       "      <td>0.000000</td>\n",
       "      <td>25.000000</td>\n",
       "      <td>0.000000</td>\n",
       "      <td>0.000000</td>\n",
       "      <td>0.000000</td>\n",
       "      <td>0.000000</td>\n",
       "      <td>0.000000</td>\n",
       "      <td>6.000000</td>\n",
       "      <td>2008.000000</td>\n",
       "      <td>163000.000000</td>\n",
       "      <td>0.000000</td>\n",
       "      <td>1.000000</td>\n",
       "      <td>0.000000</td>\n",
       "      <td>0.000000</td>\n",
       "      <td>0.000000</td>\n",
       "      <td>1.000000</td>\n",
       "      <td>1.000000</td>\n",
       "      <td>0.000000</td>\n",
       "      <td>0.000000</td>\n",
       "      <td>226.500000</td>\n",
       "      <td>164.000000</td>\n",
       "      <td>2.000000</td>\n",
       "      <td>0.000000</td>\n",
       "      <td>0.482270</td>\n",
       "      <td>0.0</td>\n",
       "      <td>0.000000</td>\n",
       "      <td>0.311559</td>\n",
       "      <td>0.166667</td>\n",
       "      <td>0.333333</td>\n",
       "      <td>0.428571</td>\n",
       "    </tr>\n",
       "    <tr>\n",
       "      <th>75%</th>\n",
       "      <td>1095.250000</td>\n",
       "      <td>80.000000</td>\n",
       "      <td>11601.500000</td>\n",
       "      <td>7.000000</td>\n",
       "      <td>6.000000</td>\n",
       "      <td>2000.000000</td>\n",
       "      <td>2004.000000</td>\n",
       "      <td>166.000000</td>\n",
       "      <td>712.250000</td>\n",
       "      <td>0.000000</td>\n",
       "      <td>808.000000</td>\n",
       "      <td>1298.250000</td>\n",
       "      <td>1391.250000</td>\n",
       "      <td>728.000000</td>\n",
       "      <td>0.000000</td>\n",
       "      <td>1776.750000</td>\n",
       "      <td>1.000000</td>\n",
       "      <td>0.000000</td>\n",
       "      <td>2.000000</td>\n",
       "      <td>1.000000</td>\n",
       "      <td>3.000000</td>\n",
       "      <td>1.000000</td>\n",
       "      <td>7.000000</td>\n",
       "      <td>1.000000</td>\n",
       "      <td>2002.000000</td>\n",
       "      <td>2.000000</td>\n",
       "      <td>576.000000</td>\n",
       "      <td>168.000000</td>\n",
       "      <td>68.000000</td>\n",
       "      <td>0.000000</td>\n",
       "      <td>0.000000</td>\n",
       "      <td>0.000000</td>\n",
       "      <td>0.000000</td>\n",
       "      <td>0.000000</td>\n",
       "      <td>8.000000</td>\n",
       "      <td>2009.000000</td>\n",
       "      <td>214000.000000</td>\n",
       "      <td>1.000000</td>\n",
       "      <td>1.000000</td>\n",
       "      <td>0.000000</td>\n",
       "      <td>0.000000</td>\n",
       "      <td>0.000000</td>\n",
       "      <td>1.000000</td>\n",
       "      <td>1.000000</td>\n",
       "      <td>0.000000</td>\n",
       "      <td>0.000000</td>\n",
       "      <td>256.107143</td>\n",
       "      <td>266.000000</td>\n",
       "      <td>2.500000</td>\n",
       "      <td>0.787792</td>\n",
       "      <td>1.000000</td>\n",
       "      <td>0.0</td>\n",
       "      <td>0.000000</td>\n",
       "      <td>0.402601</td>\n",
       "      <td>0.200000</td>\n",
       "      <td>0.416667</td>\n",
       "      <td>0.500000</td>\n",
       "    </tr>\n",
       "    <tr>\n",
       "      <th>max</th>\n",
       "      <td>1460.000000</td>\n",
       "      <td>313.000000</td>\n",
       "      <td>215245.000000</td>\n",
       "      <td>10.000000</td>\n",
       "      <td>9.000000</td>\n",
       "      <td>2010.000000</td>\n",
       "      <td>2010.000000</td>\n",
       "      <td>1600.000000</td>\n",
       "      <td>5644.000000</td>\n",
       "      <td>1474.000000</td>\n",
       "      <td>2336.000000</td>\n",
       "      <td>6110.000000</td>\n",
       "      <td>4692.000000</td>\n",
       "      <td>2065.000000</td>\n",
       "      <td>572.000000</td>\n",
       "      <td>5642.000000</td>\n",
       "      <td>3.000000</td>\n",
       "      <td>2.000000</td>\n",
       "      <td>3.000000</td>\n",
       "      <td>2.000000</td>\n",
       "      <td>8.000000</td>\n",
       "      <td>3.000000</td>\n",
       "      <td>14.000000</td>\n",
       "      <td>3.000000</td>\n",
       "      <td>2010.000000</td>\n",
       "      <td>4.000000</td>\n",
       "      <td>1418.000000</td>\n",
       "      <td>857.000000</td>\n",
       "      <td>547.000000</td>\n",
       "      <td>552.000000</td>\n",
       "      <td>508.000000</td>\n",
       "      <td>480.000000</td>\n",
       "      <td>738.000000</td>\n",
       "      <td>15500.000000</td>\n",
       "      <td>12.000000</td>\n",
       "      <td>2010.000000</td>\n",
       "      <td>755000.000000</td>\n",
       "      <td>1.000000</td>\n",
       "      <td>1.000000</td>\n",
       "      <td>1.000000</td>\n",
       "      <td>1.000000</td>\n",
       "      <td>1.000000</td>\n",
       "      <td>1.000000</td>\n",
       "      <td>1.000000</td>\n",
       "      <td>1.000000</td>\n",
       "      <td>1.000000</td>\n",
       "      <td>470.166667</td>\n",
       "      <td>1027.000000</td>\n",
       "      <td>6.000000</td>\n",
       "      <td>2.882828</td>\n",
       "      <td>1.000000</td>\n",
       "      <td>inf</td>\n",
       "      <td>52.642857</td>\n",
       "      <td>1.395973</td>\n",
       "      <td>0.500000</td>\n",
       "      <td>1.200000</td>\n",
       "      <td>1.000000</td>\n",
       "    </tr>\n",
       "  </tbody>\n",
       "</table>\n",
       "</div>"
      ],
      "text/plain": [
       "                Id  LotFrontage        LotArea  OverallQual  OverallCond  \\\n",
       "count  1460.000000  1201.000000    1460.000000  1460.000000  1460.000000   \n",
       "mean    730.500000    70.049958   10516.828082     6.099315     5.575342   \n",
       "std     421.610009    24.284752    9981.264932     1.382997     1.112799   \n",
       "min       1.000000    21.000000    1300.000000     1.000000     1.000000   \n",
       "25%     365.750000    59.000000    7553.500000     5.000000     5.000000   \n",
       "50%     730.500000    69.000000    9478.500000     6.000000     5.000000   \n",
       "75%    1095.250000    80.000000   11601.500000     7.000000     6.000000   \n",
       "max    1460.000000   313.000000  215245.000000    10.000000     9.000000   \n",
       "\n",
       "         YearBuilt  YearRemodAdd   MasVnrArea   BsmtFinSF1   BsmtFinSF2  \\\n",
       "count  1460.000000   1460.000000  1452.000000  1460.000000  1460.000000   \n",
       "mean   1971.267808   1984.865753   103.685262   443.639726    46.549315   \n",
       "std      30.202904     20.645407   181.066207   456.098091   161.319273   \n",
       "min    1872.000000   1950.000000     0.000000     0.000000     0.000000   \n",
       "25%    1954.000000   1967.000000     0.000000     0.000000     0.000000   \n",
       "50%    1973.000000   1994.000000     0.000000   383.500000     0.000000   \n",
       "75%    2000.000000   2004.000000   166.000000   712.250000     0.000000   \n",
       "max    2010.000000   2010.000000  1600.000000  5644.000000  1474.000000   \n",
       "\n",
       "         BsmtUnfSF  TotalBsmtSF     1stFlrSF     2ndFlrSF  LowQualFinSF  \\\n",
       "count  1460.000000  1460.000000  1460.000000  1460.000000   1460.000000   \n",
       "mean    567.240411  1057.429452  1162.626712   346.992466      5.844521   \n",
       "std     441.866955   438.705324   386.587738   436.528436     48.623081   \n",
       "min       0.000000     0.000000   334.000000     0.000000      0.000000   \n",
       "25%     223.000000   795.750000   882.000000     0.000000      0.000000   \n",
       "50%     477.500000   991.500000  1087.000000     0.000000      0.000000   \n",
       "75%     808.000000  1298.250000  1391.250000   728.000000      0.000000   \n",
       "max    2336.000000  6110.000000  4692.000000  2065.000000    572.000000   \n",
       "\n",
       "         GrLivArea  BsmtFullBath  BsmtHalfBath     FullBath     HalfBath  \\\n",
       "count  1460.000000   1460.000000   1460.000000  1460.000000  1460.000000   \n",
       "mean   1515.463699      0.425342      0.057534     1.565068     0.382877   \n",
       "std     525.480383      0.518911      0.238753     0.550916     0.502885   \n",
       "min     334.000000      0.000000      0.000000     0.000000     0.000000   \n",
       "25%    1129.500000      0.000000      0.000000     1.000000     0.000000   \n",
       "50%    1464.000000      0.000000      0.000000     2.000000     0.000000   \n",
       "75%    1776.750000      1.000000      0.000000     2.000000     1.000000   \n",
       "max    5642.000000      3.000000      2.000000     3.000000     2.000000   \n",
       "\n",
       "       BedroomAbvGr  KitchenAbvGr  TotRmsAbvGrd   Fireplaces  GarageYrBlt  \\\n",
       "count   1460.000000   1460.000000   1460.000000  1460.000000  1379.000000   \n",
       "mean       2.866438      1.046575      6.517808     0.613014  1978.506164   \n",
       "std        0.815778      0.220338      1.625393     0.644666    24.689725   \n",
       "min        0.000000      0.000000      2.000000     0.000000  1900.000000   \n",
       "25%        2.000000      1.000000      5.000000     0.000000  1961.000000   \n",
       "50%        3.000000      1.000000      6.000000     1.000000  1980.000000   \n",
       "75%        3.000000      1.000000      7.000000     1.000000  2002.000000   \n",
       "max        8.000000      3.000000     14.000000     3.000000  2010.000000   \n",
       "\n",
       "        GarageCars   GarageArea   WoodDeckSF  OpenPorchSF  EnclosedPorch  \\\n",
       "count  1460.000000  1460.000000  1460.000000  1460.000000    1460.000000   \n",
       "mean      1.767123   472.980137    94.244521    46.660274      21.954110   \n",
       "std       0.747315   213.804841   125.338794    66.256028      61.119149   \n",
       "min       0.000000     0.000000     0.000000     0.000000       0.000000   \n",
       "25%       1.000000   334.500000     0.000000     0.000000       0.000000   \n",
       "50%       2.000000   480.000000     0.000000    25.000000       0.000000   \n",
       "75%       2.000000   576.000000   168.000000    68.000000       0.000000   \n",
       "max       4.000000  1418.000000   857.000000   547.000000     552.000000   \n",
       "\n",
       "         3SsnPorch  ScreenPorch     PoolArea       MiscVal       MoSold  \\\n",
       "count  1460.000000  1460.000000  1460.000000   1460.000000  1460.000000   \n",
       "mean      3.409589    15.060959     2.758904     43.489041     6.321918   \n",
       "std      29.317331    55.757415    40.177307    496.123024     2.703626   \n",
       "min       0.000000     0.000000     0.000000      0.000000     1.000000   \n",
       "25%       0.000000     0.000000     0.000000      0.000000     5.000000   \n",
       "50%       0.000000     0.000000     0.000000      0.000000     6.000000   \n",
       "75%       0.000000     0.000000     0.000000      0.000000     8.000000   \n",
       "max     508.000000   480.000000   738.000000  15500.000000    12.000000   \n",
       "\n",
       "            YrSold      SalePrice  PorchType_WoodDeck  PorchType_OpenPorchSF  \\\n",
       "count  1460.000000    1460.000000         1460.000000            1460.000000   \n",
       "mean   2007.815753  180921.195890            0.478767               0.550685   \n",
       "std       1.328095   79442.502883            0.499720               0.497595   \n",
       "min    2006.000000   34900.000000            0.000000               0.000000   \n",
       "25%    2007.000000  129975.000000            0.000000               0.000000   \n",
       "50%    2008.000000  163000.000000            0.000000               1.000000   \n",
       "75%    2009.000000  214000.000000            1.000000               1.000000   \n",
       "max    2010.000000  755000.000000            1.000000               1.000000   \n",
       "\n",
       "       PorchType_Enclosed  PorchType_Screen  PorchType_3SsnPorch     IsBsmFin  \\\n",
       "count         1460.000000       1460.000000          1460.000000  1460.000000   \n",
       "mean             0.142466          0.079452             0.016438     0.919178   \n",
       "std              0.349647          0.270536             0.127198     0.272655   \n",
       "min              0.000000          0.000000             0.000000     0.000000   \n",
       "25%              0.000000          0.000000             0.000000     1.000000   \n",
       "50%              0.000000          0.000000             0.000000     1.000000   \n",
       "75%              0.000000          0.000000             0.000000     1.000000   \n",
       "max              1.000000          1.000000             1.000000     1.000000   \n",
       "\n",
       "       IsFireplace    IsMiscVal    IsLowQual    PerRoomSF      PorchSF  \\\n",
       "count  1460.000000  1460.000000  1460.000000  1460.000000  1460.000000   \n",
       "mean      0.527397     0.035616     0.017808   230.905362   181.329452   \n",
       "std       0.499420     0.185395     0.132299    44.740397   156.656097   \n",
       "min       0.000000     0.000000     0.000000   120.000000     0.000000   \n",
       "25%       0.000000     0.000000     0.000000   199.000000    45.000000   \n",
       "50%       1.000000     0.000000     0.000000   226.500000   164.000000   \n",
       "75%       1.000000     0.000000     0.000000   256.107143   266.000000   \n",
       "max       1.000000     1.000000     1.000000   470.166667  1027.000000   \n",
       "\n",
       "        TotalBaths   FloorRatio  BsmFinUnfRatio  BsmLowQualRatio  \\\n",
       "count  1460.000000  1460.000000     1423.000000           1424.0   \n",
       "mean      2.210616     0.358380        0.551303              inf   \n",
       "std       0.785399     0.446071        0.361698              NaN   \n",
       "min       1.000000     0.000000        0.000000              0.0   \n",
       "25%       2.000000     0.000000        0.229432              0.0   \n",
       "50%       2.000000     0.000000        0.482270              0.0   \n",
       "75%       2.500000     0.787792        1.000000              0.0   \n",
       "max       6.000000     2.882828        1.000000              inf   \n",
       "\n",
       "       BsmFin2BsmFin1Ratio  GarageLivRatio  KitchenRatio    BathRatio  \\\n",
       "count           993.000000     1460.000000   1460.000000  1460.000000   \n",
       "mean              0.411632        0.323993      0.169059     0.346723   \n",
       "std               2.478674        0.148638      0.047631     0.120470   \n",
       "min               0.000000        0.000000      0.000000     0.111111   \n",
       "25%               0.000000        0.246751      0.142857     0.250000   \n",
       "50%               0.000000        0.311559      0.166667     0.333333   \n",
       "75%               0.000000        0.402601      0.200000     0.416667   \n",
       "max              52.642857        1.395973      0.500000     1.200000   \n",
       "\n",
       "       BedroomRatio  \n",
       "count   1460.000000  \n",
       "mean       0.444893  \n",
       "std        0.098361  \n",
       "min        0.000000  \n",
       "25%        0.400000  \n",
       "50%        0.428571  \n",
       "75%        0.500000  \n",
       "max        1.000000  "
      ]
     },
     "metadata": {},
     "output_type": "display_data"
    },
    {
     "name": "stdout",
     "output_type": "stream",
     "text": [
      "\n",
      "Unique values (object):\n",
      "\n",
      "MSSubClass       [60, 20, 70, 50, 190, 45, 90, 120, 30, 85, 80,...\n",
      "MSZoning                                 [RL, RM, C (all), FV, RH]\n",
      "Street                                                [Pave, Grvl]\n",
      "Alley                                            [nan, Grvl, Pave]\n",
      "LotShape                                      [Reg, IR1, IR2, IR3]\n",
      "LandContour                                   [Lvl, Bnk, Low, HLS]\n",
      "Utilities                                         [AllPub, NoSeWa]\n",
      "LotConfig                      [Inside, FR2, Corner, CulDSac, FR3]\n",
      "LandSlope                                          [Gtl, Mod, Sev]\n",
      "Neighborhood     [CollgCr, Veenker, Crawfor, NoRidge, Mitchel, ...\n",
      "Condition1       [Norm, Feedr, PosN, Artery, RRAe, RRNn, RRAn, ...\n",
      "Condition2       [Norm, Artery, RRNn, Feedr, PosN, PosA, RRAn, ...\n",
      "BldgType                     [1Fam, 2fmCon, Duplex, TwnhsE, Twnhs]\n",
      "HouseStyle       [2Story, 1Story, 1.5Fin, 1.5Unf, SFoyer, SLvl,...\n",
      "RoofStyle               [Gable, Hip, Gambrel, Mansard, Flat, Shed]\n",
      "RoofMatl         [CompShg, WdShngl, Metal, WdShake, Membran, Ta...\n",
      "Exterior1st      [VinylSd, MetalSd, Wd Sdng, HdBoard, BrkFace, ...\n",
      "Exterior2nd      [VinylSd, MetalSd, Wd Shng, HdBoard, Plywood, ...\n",
      "MasVnrType                     [BrkFace, None, Stone, BrkCmn, nan]\n",
      "ExterQual                                         [Gd, TA, Ex, Fa]\n",
      "ExterCond                                     [TA, Gd, Fa, Po, Ex]\n",
      "Foundation              [PConc, CBlock, BrkTil, Wood, Slab, Stone]\n",
      "BsmtQual                                     [Gd, TA, Ex, nan, Fa]\n",
      "BsmtCond                                     [TA, Gd, nan, Fa, Po]\n",
      "BsmtExposure                                 [No, Gd, Mn, Av, nan]\n",
      "BsmtFinType1                   [GLQ, ALQ, Unf, Rec, BLQ, nan, LwQ]\n",
      "BsmtFinType2                   [Unf, BLQ, nan, ALQ, Rec, LwQ, GLQ]\n",
      "Heating                      [GasA, GasW, Grav, Wall, OthW, Floor]\n",
      "HeatingQC                                     [Ex, Gd, TA, Fa, Po]\n",
      "CentralAir                                                  [Y, N]\n",
      "Electrical                  [SBrkr, FuseF, FuseA, FuseP, Mix, nan]\n",
      "KitchenQual                                       [Gd, TA, Ex, Fa]\n",
      "Functional                 [Typ, Min1, Maj1, Min2, Mod, Maj2, Sev]\n",
      "FireplaceQu                              [nan, TA, Gd, Fa, Ex, Po]\n",
      "GarageType       [Attchd, Detchd, BuiltIn, CarPort, nan, Basmen...\n",
      "GarageFinish                                  [RFn, Unf, Fin, nan]\n",
      "GarageQual                               [TA, Fa, Gd, nan, Ex, Po]\n",
      "GarageCond                               [TA, Fa, nan, Gd, Po, Ex]\n",
      "PavedDrive                                               [Y, N, P]\n",
      "PoolQC                                           [nan, Ex, Fa, Gd]\n",
      "Fence                              [nan, MnPrv, GdWo, GdPrv, MnWw]\n",
      "MiscFeature                          [nan, Shed, Gar2, Othr, TenC]\n",
      "SaleType         [WD, New, COD, ConLD, ConLI, CWD, ConLw, Con, ...\n",
      "SaleCondition    [Normal, Abnorml, Partial, AdjLand, Alloca, Fa...\n",
      "dtype: object\n",
      "\n",
      "Unique values (integer):\n",
      "\n",
      "Id               [1, 2, 3, 4, 5, 6, 7, 8, 9, 10, 11, 12, 13, 14...\n",
      "LotArea          [8450, 9600, 11250, 9550, 14260, 14115, 10084,...\n",
      "OverallQual                        [7, 6, 8, 5, 9, 4, 10, 3, 1, 2]\n",
      "OverallCond                            [5, 8, 6, 7, 4, 2, 3, 9, 1]\n",
      "YearBuilt        [2003, 1976, 2001, 1915, 2000, 1993, 2004, 197...\n",
      "YearRemodAdd     [2003, 1976, 2002, 1970, 2000, 1995, 2005, 197...\n",
      "BsmtFinSF1       [706, 978, 486, 216, 655, 732, 1369, 859, 0, 8...\n",
      "BsmtFinSF2       [0, 32, 668, 486, 93, 491, 506, 712, 362, 41, ...\n",
      "BsmtUnfSF        [150, 284, 434, 540, 490, 64, 317, 216, 952, 1...\n",
      "TotalBsmtSF      [856, 1262, 920, 756, 1145, 796, 1686, 1107, 9...\n",
      "1stFlrSF         [856, 1262, 920, 961, 1145, 796, 1694, 1107, 1...\n",
      "2ndFlrSF         [854, 0, 866, 756, 1053, 566, 983, 752, 1142, ...\n",
      "LowQualFinSF     [0, 360, 513, 234, 528, 572, 144, 392, 371, 39...\n",
      "GrLivArea        [1710, 1262, 1786, 1717, 2198, 1362, 1694, 209...\n",
      "BsmtFullBath                                          [1, 0, 2, 3]\n",
      "BsmtHalfBath                                             [0, 1, 2]\n",
      "FullBath                                              [2, 1, 3, 0]\n",
      "HalfBath                                                 [1, 0, 2]\n",
      "BedroomAbvGr                              [3, 4, 1, 2, 0, 5, 6, 8]\n",
      "KitchenAbvGr                                          [1, 2, 3, 0]\n",
      "TotRmsAbvGrd              [8, 6, 7, 9, 5, 11, 4, 10, 12, 3, 2, 14]\n",
      "Fireplaces                                            [0, 1, 2, 3]\n",
      "GarageCars                                         [2, 3, 1, 0, 4]\n",
      "GarageArea       [548, 460, 608, 642, 836, 480, 636, 484, 468, ...\n",
      "WoodDeckSF       [0, 298, 192, 40, 255, 235, 90, 147, 140, 160,...\n",
      "OpenPorchSF      [61, 0, 42, 35, 84, 30, 57, 204, 4, 21, 33, 21...\n",
      "EnclosedPorch    [0, 272, 228, 205, 176, 87, 172, 102, 37, 144,...\n",
      "3SsnPorch        [0, 320, 407, 130, 180, 168, 140, 508, 238, 24...\n",
      "ScreenPorch      [0, 176, 198, 291, 252, 99, 184, 168, 130, 142...\n",
      "PoolArea                    [0, 512, 648, 576, 555, 480, 519, 738]\n",
      "MiscVal          [0, 700, 350, 500, 400, 480, 450, 15500, 1200,...\n",
      "MoSold                     [2, 5, 9, 12, 10, 8, 11, 4, 1, 7, 3, 6]\n",
      "YrSold                              [2008, 2007, 2006, 2009, 2010]\n",
      "SalePrice        [208500, 181500, 223500, 140000, 250000, 14300...\n",
      "PorchSF          [61, 298, 42, 307, 276, 390, 312, 667, 295, 4,...\n",
      "dtype: object\n"
     ]
    }
   ],
   "source": [
    "show_data(X)"
   ]
  },
  {
   "cell_type": "code",
   "execution_count": null,
   "id": "0fe25b01",
   "metadata": {
    "ExecuteTime": {
     "start_time": "2022-11-22T17:13:47.847Z"
    }
   },
   "outputs": [],
   "source": [
    "cols_to_fill = [\n",
    "    'LotFrontage', 'MasVnrArea', \n",
    "    'BsmFin2BsmFin1Ratio', 'BsmLowQualRatio', 'BsmFinUnfRatio', 'BsmFinUnfRatio'\n",
    "]\n",
    "for i in cols_to_fill:\n",
    "    X[i] = X[i].fillna(0)\n",
    "    \n",
    "X['BsmLowQualRatio'] = X['BsmLowQualRatio'].replace([np.inf, -np.inf], 1)"
   ]
  },
  {
   "cell_type": "code",
   "execution_count": null,
   "id": "ec4489b5",
   "metadata": {
    "ExecuteTime": {
     "start_time": "2022-11-22T17:13:47.860Z"
    },
    "scrolled": true
   },
   "outputs": [],
   "source": [
    "tmp = show_plots_single(X, 'SalePrice', f_size=7, p_height=3000)"
   ]
  },
  {
   "cell_type": "code",
   "execution_count": null,
   "id": "d8553cd7",
   "metadata": {
    "ExecuteTime": {
     "start_time": "2022-11-22T17:13:47.865Z"
    }
   },
   "outputs": [],
   "source": [
    "#tmp['num_single'].show()\n",
    "tmp['num_split'].show()\n",
    "tmp['num_split_rid'].show()\n",
    "tmp['num_vs_y_split'].show()"
   ]
  },
  {
   "cell_type": "code",
   "execution_count": null,
   "id": "09c7bdff",
   "metadata": {
    "ExecuteTime": {
     "start_time": "2022-11-22T17:13:47.870Z"
    }
   },
   "outputs": [],
   "source": [
    "tmp['num_split_hist'].show()"
   ]
  },
  {
   "cell_type": "code",
   "execution_count": 8,
   "id": "647d90fb",
   "metadata": {
    "ExecuteTime": {
     "end_time": "2022-11-22T17:17:21.808249Z",
     "start_time": "2022-11-22T17:17:21.804266Z"
    }
   },
   "outputs": [
    {
     "data": {
      "text/plain": [
       "180921.19589041095"
      ]
     },
     "execution_count": 8,
     "metadata": {},
     "output_type": "execute_result"
    }
   ],
   "source": []
  },
  {
   "cell_type": "code",
   "execution_count": 25,
   "id": "43f8cb0a",
   "metadata": {
    "ExecuteTime": {
     "end_time": "2022-11-22T17:24:16.254780Z",
     "start_time": "2022-11-22T17:24:16.153279Z"
    }
   },
   "outputs": [
    {
     "data": {
      "image/png": "[encoded data removed]",
      "text/plain": [
       "<Figure size 432x288 with 1 Axes>"
      ]
     },
     "metadata": {
      "needs_background": "light"
     },
     "output_type": "display_data"
    }
   ],
   "source": [
    "mu = X['SalePrice'].mean()\n",
    "sigma = X['SalePrice'].std()\n",
    "\n",
    "s = np.random.normal(mu, sigma, len(X['SalePrice']))\n",
    "count, bins, ignored = plt.hist(s, 30, density=True)\n",
    "plt.plot(bins,\n",
    "         1/(sigma*np.sqrt(2 * np.pi))*np.exp(-(bins-mu)**2/(2 * sigma**2)),\n",
    "         linewidth=2, color='r')\n",
    "plt.show()"
   ]
  },
  {
   "cell_type": "code",
   "execution_count": 41,
   "id": "e842f55f",
   "metadata": {
    "ExecuteTime": {
     "end_time": "2022-11-22T17:28:51.131624Z",
     "start_time": "2022-11-22T17:28:49.921753Z"
    }
   },
   "outputs": [
    {
     "data": {
      "image/png": "[encoded data removed]",
      "text/plain": [
       "<Figure size 432x288 with 1 Axes>"
      ]
     },
     "metadata": {
      "needs_background": "light"
     },
     "output_type": "display_data"
    }
   ],
   "source": [
    "mu = np.std(np.log(X['SalePrice']))\n",
    "sigma = np.mean(np.log(X['SalePrice']))\n",
    "s = np.random.lognormal(mu, sigma, 10000)\n",
    "count, bins, ignored = plt.hist(s, 1000, density=True)\n",
    "x = np.linspace(min(bins), max(bins), 10000)\n",
    "pdf = (np.exp(-(np.log(x) - mu)**2 / (2 * sigma**2))\n",
    "       / (x * sigma * np.sqrt(2 * np.pi)))\n",
    "plt.plot(x, pdf, linewidth=2, color='r')\n",
    "#plt.axis('tight')\n",
    "plt.show()"
   ]
  },
  {
   "cell_type": "code",
   "execution_count": 12,
   "id": "b339fe7e",
   "metadata": {
    "ExecuteTime": {
     "end_time": "2022-11-22T17:19:20.165324Z",
     "start_time": "2022-11-22T17:19:20.153263Z"
    }
   },
   "outputs": [
    {
     "data": {
      "text/plain": [
       "array([-76573.19411723, -57787.6933652 , -39002.19261317, -20216.69186114,\n",
       "        -1431.1911091 ,  17354.30964293,  36139.81039496,  54925.31114699,\n",
       "        73710.81189903,  92496.31265106, 111281.81340309, 130067.31415512,\n",
       "       148852.81490716, 167638.31565919, 186423.81641122, 205209.31716325,\n",
       "       223994.81791528, 242780.31866732, 261565.81941935, 280351.32017138,\n",
       "       299136.82092341, 317922.32167545, 336707.82242748, 355493.32317951,\n",
       "       374278.82393154, 393064.32468358, 411849.82543561, 430635.32618764,\n",
       "       449420.82693967, 468206.3276917 , 486991.82844374])"
      ]
     },
     "execution_count": 12,
     "metadata": {},
     "output_type": "execute_result"
    }
   ],
   "source": [
    "bins"
   ]
  },
  {
   "cell_type": "code",
   "execution_count": null,
   "id": "c46c9fab",
   "metadata": {},
   "outputs": [],
   "source": []
  },
  {
   "cell_type": "code",
   "execution_count": null,
   "id": "4f92e982",
   "metadata": {},
   "outputs": [],
   "source": [
    "fig2 = ff.create_distplot(hist_data, group_labels, curve_type = 'normal')\n",
    "normal_x = fig2.data[1]['x']\n",
    "normal_y = fig2.data[1]['y']\n",
    "#And then inlclude those values in the first fig using fid.add_trace(go.Scatter()) like this:\n",
    "\n",
    "fig2 = ff.create_distplot(hist_data, group_labels, curve_type = 'normal')\n",
    "normal_x = fig2.data[1]['x']\n",
    "normal_y = fig2.data[1]['y']\n",
    "fig.add_traces(go.Scatter(x=normal_x, y=normal_y, mode = 'lines',\n",
    "                          line = dict(color='rgba(0,255,0, 0.6)',\n",
    "                                      #dash = 'dash'\n",
    "                                      width = 1),\n",
    "                          name = 'normal'\n",
    "                         ))\n",
    "fig.show()"
   ]
  },
  {
   "cell_type": "markdown",
   "id": "c5691913",
   "metadata": {},
   "source": [
    "- **Id** column must be dropped\n",
    "- **MSSubClass**, **OverallQual**, **OverallCond** must be recoded as str\n",
    "- **LotFrontage**, **LotArea**, **MasVnrArea**, **BsmtFinSF1**, **BsmtFinSF2**, **BsmtUnfSF**, **TotalBsmtSF**, **1stFlrSF**, **2stFlrSF**, **GrLivArea**, **GarageArea**, **LotPrice** distributions show big positive skewness => potential outliers\n",
    "- **LowQualFinSF**, **WoodDeckSF**, **OpenPorchSF**, **EnclosedPorch**, **3SsnPorch**, **ScreenPorch**, **PoolArea**, **MiscVal** have poor right-skewed distributions with significant outliers\n",
    "\n",
    "------------------------------------------------------------------------------------------------------\n",
    "\n",
    "- There are 3 significant centers of YearBuilt: 1921-22, 1964-1965, 2002\n",
    "- The dominant renovation year was 2003\n",
    "- Most of the garages were built in 1966 and 2002; reminds YearBuilt distribution after 60s\n",
    "- most of the garages allow for 2 cars; proportion of 1/3 is alomost the same\n",
    "\n",
    "------------------------------------------------------------------------------------------------------\n",
    "\n",
    "- Most of the houses has 0 or 1 bath; Half baths is very rare\n",
    "- Most of the houses has 3 rooms; 2 and 4 are also quite popular, whereas rooms >5 - more like outliers\n",
    "- Almost all of the houses have 1 kitchen\n",
    "- In total, more than 10 rooms is an outlier\n",
    "- Most of the houses have either 0 or 1 fireplaces; some have 2;\n",
    "- Most of the houses do not have wood deck or open/enclosed/3 season/screen porch\n",
    "\n",
    "------------------------------------------------------------------------------------------------------\n",
    "\n",
    "- Most of the houses were sold during June (generally, not in autumn)\n",
    "- YearSold distribution is almost unimodal"
   ]
  },
  {
   "cell_type": "markdown",
   "id": "39ceedc9",
   "metadata": {},
   "source": [
    "To sum up:\n",
    "- YearSold, MiscVal, ID are not important\n",
    "- Decks and porches sq. ft. could be united into some new feature as distributions reminds each other\n",
    "- Other areas could also be united into some new feature as distributions reminds each other\n",
    "- Garage Year and Built Year seems to be correlated a lot"
   ]
  },
  {
   "cell_type": "markdown",
   "id": "464b345e",
   "metadata": {},
   "source": [
    "- LotFrontage > 80 are outliers with max=312\n",
    "\n",
    "- Majority of houses are in average condition, but the number of houses in better condition is bigger than in worser condition\n",
    "- Majory of houses' quality is above average, which may signify expert's bias during the valuation. Moreover, none ofthe house gained 10. May be considered non-informative due to these facts\n",
    "- Number of houses built in 1966+1922 = number of houses built in 2002\n",
    "- Renovation boom occured in 2002, before that - quite unimodal besides 1951\n",
    "-------------------------------------------------------------------------------------------------------\n",
    "\n",
    "- 75% of LotArea is below 11k; some accumulation within 18-35k, 46-70 and 4 extra outliers\n",
    "- MasVnrArea has 2 accumulations: major (below 165) and minor (420-1170) with 2 outliers\n",
    "- BsmtFinSF1 has 2 groups: around 0 and around 608sq.ft with minor group around 200 and 1 outlier\n",
    "- BsmtFinSF2 almost equals to 0\n",
    "- LowQualFinSF almost equals to 0\n",
    "- BsmtUnfSF is much better - no significant outliers\n",
    "- TotalDsmtSF, 1stFlrSF, GrLivArea, MasVnrArea are almost perfectly correlated\n",
    "- 2ndFlrSF is mostly 0, but the other group is 762 sq.ft. No outliers\n",
    "\n",
    "-------------------------------------------------------------------------------------------------------\n",
    "\n",
    "- Number of full basement baths mostly 0 or 1, some observations for 2, 3 -- outlier\n",
    "- basement HalfBath almost equals to zero\n",
    "- HalfBath almost equals to zero\n",
    "- FullBath - either 1, 2 or 3; drop the rest\n",
    "- Bedrooms = 4,5,6 or 8 -- outliers\n",
    "- Kitchen = 0,2,3 - outliers\n",
    "- But  something strange with total rooms variable - only 1 outlier (14), with median = 6\n",
    "- 3 fireplaces - outlier\n",
    "\n",
    "-------------------------------------------------------------------------------------------------------\n",
    "\n",
    "- GarageYearBlt more like YearBlt - see comparison\n",
    "- Garage cars = 4 - outlier\n",
    "- GarageArea more like grLivArea\n",
    "\n",
    "-------------------------------------------------------------------------------------------------------\n",
    "\n",
    "- WoodDeckSF, OpenPorchSF are more alike\n",
    "- EnclosedPorch, 3SsnPorch, ScreenPorch are much more rare, allmost equals to zero\n",
    "\n",
    "-------------------------------------------------------------------------------------------------------\n",
    "\n",
    "- PoolArea - only 7 houses with pools\n",
    "- MscVal - almost equals to zero\n",
    "- YrSold is defenitely unimodal\n",
    "- Sale price distribution looks like total lot sq.feet distribution"
   ]
  },
  {
   "cell_type": "markdown",
   "id": "44c5c1f2",
   "metadata": {},
   "source": [
    "Before moving futher, sum up single numerical dstributions:\n",
    "- Drop rather not important: **YrSold**, **PoolArea**, **MscVal**, **GarageYearBlt**, **BsmtFullBath**,  **BsmtHalfBath**, **HalfBath**, **BsmtFinSF2**, **LowQualFinSF**, **Id**, \n",
    "- Unite **EnclosedPorch**, **3SsnPorch**, **ScreenPorch** into **PorchRare**\n",
    "- Unite **WoodDeckSF**, **OpenPorchSF** into **PorchUsual**\n",
    "- Unite + remove outliers: **GarageArea**, **grLivArea**, **LotArea**, **TotalDsmtSF**, **1stFlrSF**, **MasVnrArea**\n",
    "- Remove outliers: **GarageCars**, **Kitchen**, **Fireplaces**, **FullBath**, **Bedroom**. Check correlation with sq.ft. or use **TotRmsAbvGrd** instead\n",
    "- Keep as it is: **MoSold**, **Sale price**, **BsmtUnfSF**, **BsmtFinSF1**, **TotRmsAbvGrd**, **LotFrontage**, **OverallCond**, **OverallQual**(more factors to study to decide), **YearBuilt**, **YearRemodAdd**, **SalePrice**\n",
    "- Create one-hot: IsSecondFloor\n",
    "- Recode as str: **MSSubClass**, **GarageCars**, **Kitchen**, **Fireplaces**, **FullBath**, **Bedroom**, **TotRmsAbvGrd**, **OverallCond**, **OverallQual**"
   ]
  },
  {
   "cell_type": "markdown",
   "id": "decae595",
   "metadata": {},
   "source": [
    "## Numerical (2d)"
   ]
  },
  {
   "cell_type": "markdown",
   "id": "e2eb4e81",
   "metadata": {},
   "source": [
    "- LotArea and TotalBsmtSF are correlated\n",
    "- LotArea and GrLivArea are correlated\n",
    "\\\n",
    "= > keep LotArea only "
   ]
  },
  {
   "cell_type": "markdown",
   "id": "69906daa",
   "metadata": {},
   "source": [
    "- LotArea and 1stFlrSF are correlated\n",
    "- LotArea and MasVnr are correlated\n",
    "\\\n",
    "= > keep LotArea only"
   ]
  },
  {
   "cell_type": "markdown",
   "id": "af4b4815",
   "metadata": {},
   "source": [
    "LotArea and GarageArea are correlated\n",
    "\\\n",
    "= > keep LotArea only"
   ]
  },
  {
   "cell_type": "markdown",
   "id": "519fcd7f",
   "metadata": {},
   "source": [
    "To sum up:\n",
    "- **LotArea** correlated with all the other areas, **LotFrontage**, \n",
    "- **WoodDeckSF** seems to be correlated with all the other porches\n",
    "- seems not to be important as much: **KitchenAbvGr**, **Fireplaces**, **BedroomAbvGr**, **FullBath**, **MoSold**\n",
    "- seems to be important: **GarageCars**, **TotRmsAbvGrd**, **YearRemodAdd**, **YearBuilt**, **OverallQual**, **OverallCond**, **BsmtUnfSF**, **WoodDeckSF**, **LotArea**\n",
    "\\\n",
    "=> out we have 9+1 (MSSubClass) out of 38 vars important "
   ]
  },
  {
   "cell_type": "code",
   "execution_count": null,
   "id": "b96c0008",
   "metadata": {
    "ExecuteTime": {
     "start_time": "2022-11-22T17:13:47.883Z"
    },
    "scrolled": true
   },
   "outputs": [],
   "source": [
    "data.hist(layout=(6, 7), figsize=(20, 15), bins=40)\n",
    "plt.show()"
   ]
  },
  {
   "cell_type": "code",
   "execution_count": null,
   "id": "c0669efc",
   "metadata": {
    "ExecuteTime": {
     "start_time": "2022-11-22T17:13:47.888Z"
    },
    "scrolled": false
   },
   "outputs": [],
   "source": [
    "#sns.pairplot(data, diag_kind=\"kde\")"
   ]
  },
  {
   "cell_type": "markdown",
   "id": "4682c41f",
   "metadata": {},
   "source": [
    "- Again, it seems like strong correlation patterns are visible only for the Area-based variables"
   ]
  },
  {
   "cell_type": "markdown",
   "id": "bf93b0ae",
   "metadata": {},
   "source": [
    "## Categorical"
   ]
  },
  {
   "cell_type": "markdown",
   "id": "dd7f1b0e",
   "metadata": {},
   "source": [
    "- **MsZoning**: think about removing uniting RM, RH, something with C\n",
    "- **Street**: Only 6 streets are gravel, rather remove\n",
    "- **Alley**: is almost unimodal, rather remove\n",
    "- **Utilities**: only 1 house does not have all public utilities, rather remove\n",
    "- **CentraAir**: rather rare variable\n",
    "- **NeightboorHood**: maybe too many categories?\n",
    "- **HeatingQC**: drop Po?\n",
    "\n",
    "-------------------------------------------------------------------------------------------------------\n",
    "\n",
    "- Restrict number of categories: **Condition1**, **Condition2**, **RoofStyle**, **ExterCond**, **Exterior1st**, **Exterior2nd**, **BsmtCond**, **BsmntFinType2**, **GarageType**, **SaleType**, **SaleCondition**\n",
    "- Keep as it is: **MasVnrType**, **ExterQual**, **HouseStyle**, **BldgType**, **Foundation**, **BsmtQual**, **BsmtExposure**, **BsmntFinType1**, **KitchenQual**, **FireplaceQu**, **GarageFinish**, **PavedDrive**, **PoolQC**, **Fence**, **MiscFeature**\n",
    "\n",
    "-------------------------------------------------------------------------------------------------------\n",
    "\n",
    "- **LotConfig**: recode into Inside, Corner, CulDSac, Frontage\n",
    "- **LandSlope**: recode into Slope, NoSlope\n",
    "- **LotShape**: recode into Regular, Irregular, VeryIrregular\n",
    "- **LandCountour**: recode into NearFlat, NotNearFlat\n",
    "- **RoofMaterial** - recode into Cheap, Costly\n",
    "- **Heating**: recode into Gas, NotGas\n",
    "- **Elecrical**: recode into Good, Average, Bad\n",
    "- **Functional**: recode into Typical, Minor, Major\n",
    "- **GarageQual**: recode into Good, Average, Bad\n",
    "- **GarageCond**: recode into Good, Average, Bad"
   ]
  },
  {
   "cell_type": "markdown",
   "id": "7899a081",
   "metadata": {},
   "source": [
    "- hard to perform EDA, too many variables, perform later after dimensionality reduction"
   ]
  },
  {
   "cell_type": "markdown",
   "id": "b0ea2afc",
   "metadata": {},
   "source": [
    "- **MasnrType**: Masonry veneer with stone is costs much more; None and BrkCmn could be united into single variable\n",
    "- keep as it is: **HouseStyle**, **Foundation**, **KitchenQual**, **FireplaceQu**, **GarageFinish**, **MiscFeature**, **GarageType**\n",
    "- **BldgType**: maybe 2fmCon and Duplexcould be united into one; the ame for 1Fam and TwnhsE\n",
    "- **BsmtQual**: less distinctions between groups, but for now keep as it is\n",
    "- **BsmtExposure**: rather not important\n",
    "- **BsmtFinType1**: rather recode into GLQ, Unf, Other\n",
    "- **PavedDrive**: hard to say\n",
    "- **PoolQC**: Fa and Gd are almost the same\n",
    "- **Fence**: recode as GoodPrivacy, NotGoodPrivacy\n",
    "- **Condition1**, **Condition2**: unite PosA, PosN into Park; RRAe, RRAn, RRNe into RailRoad\n",
    "- hard to say: **RoofType**, **Exterior1st**, **Exterior2nd**\n",
    "-  **BsmtFinType2**: maybe unite BLQ, Rec, LwQ\n",
    "- **otConfig**: maybe unite FR3 and CulDSac\n",
    "- **LandSlope**: unite Mod and Sev\n",
    "- **LotShape**: Reg much lower\n",
    "- **LandContour**: maybe Lvl+bank, Low+HLS\n",
    "- **RoofMatl**: for sure CompShg+Metal+Roll+ClyTile, WdShake+Membran\n",
    "- **Heating**: for sure Gas, NoGas\n",
    "- **Electrical**: either 0-1 or factor(3)\n",
    "- **Functional**: no big difference besides Maj2\n",
    "- **HeatingQC**: maybe unite Po with Fa\n",
    "- **Neighborhood**:\n",
    "  - CollgCr+Crawfor+ClearCr+Blmngtn\n",
    "  - Veenker+Somerst+Timber\n",
    "  - NoRidge+NridHt+StoneBr\n",
    "  - Blueste+SWISU+Sawyer\n",
    "  - Mitchel+NAmes+NPkVill\n",
    "  - NWAmes+SawyerW+Gilber\n",
    "  - OldTown+BrkSide+Edwards\n",
    "  - IDOTRR+MeadowV+BrDale"
   ]
  },
  {
   "cell_type": "markdown",
   "id": "c797b1ad",
   "metadata": {},
   "source": [
    "Numerical:\n",
    "- keep **LotArea** (or other more important feature with sq.ft. / newly created one from PCA)\n",
    "- keep **WoodDeckSF** (or other more important feature ending with porch / newly created one from PCA)\n",
    "- keep as it is: **GarageCars**, **TotRmsAbvGrd**, **YearRemodAdd**, **YearBuilt**,  **BsmtUnfSF**\n",
    "- recode as str and explore: **MSSubClass**, **OverallCond**, **OverallQual**\n",
    "- total: 10\n",
    "\n",
    "------------------------------------------------------------------------------------------------------\n",
    "\n",
    "Categorical:\n",
    "- keep as it is: **MsZoning**, **CentralAir**, **HouseStyle**, **Foundation**, **KitchenQual**, **FireplaceQu**, **GarageFinish**, **MiscFeature**, **GarageType**, **PavedDrive**, **BsmtQual**, **RoofType**, **Exterior1st**, **Exterior2nd**, **Heating**, **GarageQual**, **GarageCond**\n",
    "- **MasnrType**:  None+BrkCmn\n",
    "- **BldgType**: 2fmCon+Duplex; 1Fam+TwnhsE\n",
    "- **PoolQC**: Fa+Gd\n",
    "- **BsmtFinType2**: BLQ+Rec+LwQ\n",
    "- **LandContour**: Lvl+bank; Low+HLS\n",
    "- **LandSlope**: Mod+Sev\n",
    "- **LotConfig**: FR3+CulDSac\n",
    "- **HeatingQC**: Po+Fa\n",
    "- **RoofMatl**: CompShg+Metal+Roll+ClyTile; WdShake+Membran\n",
    "- **Condition1**, **Condition2**: unite PosA, PosN into Park; RRAe, RRAn, RRNe into RailRoad\n",
    "- **BsmtFinType1**: rather into GLQ, Unf, Other\n",
    "- **Fence**: recode into GoodPrivacy, NotGoodPrivacy\n",
    "- **Heating**: for sure recode into Gas, NoGas\n",
    "- **Neighborhood**: CollgCr+Crawfor+ClearCr+Blmngtn, Veenker+Somerst+Timber, NoRidge+NridHt+StoneBr, Blueste+SWISU+Sawyer, Mitchel+NAmes+NPkVill, NWAmes+SawyerW+Gilber, OldTown+BrkSide+Edwards, IDOTRR+MeadowV+BrDale\n",
    "- **LotShape**: Reg much lower\n",
    "- **Electrical**: either 0-1 or factor(3)\n",
    "- total: 33\n",
    "\n",
    "-------------------------------------------------------------------------------------------------------\n",
    "=> 43 initial variables to keep"
   ]
  },
  {
   "cell_type": "markdown",
   "id": "874e92e4",
   "metadata": {},
   "source": [
    "# Correlation & outliers analysis"
   ]
  },
  {
   "cell_type": "code",
   "execution_count": null,
   "id": "f477c1e6",
   "metadata": {
    "ExecuteTime": {
     "start_time": "2022-11-22T17:13:47.900Z"
    },
    "code_folding": [
     207,
     220
    ]
   },
   "outputs": [],
   "source": [
    "def prepare_data_num(X):\n",
    "    \n",
    "    \n",
    "    cols_to_drop = [\n",
    "        'Id', 'MoSold', 'YrSold', 'PoolArea', 'BsmtFullBath', 'BsmtHalfBath', \n",
    "        'FullBath', 'BedroomAbvGr', 'KitchenAbvGr', 'GarageYrBlt', 'GarageCars',\n",
    "        'WoodDeckSF', 'OpenPorchSF', 'EnclosedPorch', '3SsnPorch', 'ScreenPorch',\n",
    "        'YearRemodAdd', 'TotalBsmtSF', 'MiscVal', '2ndFlrSF', '1stFlrSF',\n",
    "        'LowQualFinSF', 'OverallCond', 'BsmtFinSF2', 'TotRmsAbvGrd'\n",
    "    ]\n",
    "    X.drop(columns=cols_to_drop, inplace=True)\n",
    "    return X\n",
    "\n",
    "def prepare_data_cat(X):\n",
    "    X['MSZoning'] = X.MSZoning.replace({'RH':'RM', 'FV':'RL', 'C (all)': 'RM'})\n",
    "    X['IsLowDensityArea'] = np.where(X['MSZoning'] == 'RL', 1, 0)\n",
    "    \n",
    "    X['Neighborhood'] = X.Neighborhood.replace(\n",
    "        {'Edwards': 'C0', 'OldTown': 'C0', 'Sawyer': 'C0', 'BrkSide': 'C0',\n",
    "         'Blueste': 'C0', 'NPkVill': 'C0', 'Mitchel': 'C0', 'SWISU': 'C0', 'NAmes': 'C0',\n",
    "         'MeadowV': 'C1', 'BrDale': 'C1', 'IDOTRR': 'C1',\n",
    "         'NridgHt': 'C2', 'StoneBr': 'C2', 'NoRidge': 'C2',\n",
    "         'SawyerW': 'C3', 'Blmngtn': 'C3', 'Gilbert': 'C3', 'NWAmes': 'C3',\n",
    "         'Somerst': 'C4', 'Timber': 'C4', 'Veenker': 'C4',\n",
    "         'Crawfor': 'C4', 'CollgCr': 'C4', 'ClearCr': 'C4',\n",
    "        }\n",
    "    )\n",
    "    \n",
    "    X['Condition1'] = X['Condition1'].replace(\n",
    "        {'PosA': 'C1', 'PosN': 'C1', 'RRAn':'C1', 'RRNe': 'C1', 'RRNn': 'C1', 'Norm': 'C1',\n",
    "         'Feedr':'C2', 'Artery':'C2', 'RRAe':'C2'\n",
    "        }\n",
    "    )\n",
    "    X['Condition2'] = X['Condition2'].replace(\n",
    "        {'PosA': 'C1', 'PosN': 'C1', 'RRAn':'C1', 'RRNe': 'C1', 'RRNn': 'C1', 'Norm': 'C1',\n",
    "         'Feedr':'C2', 'Artery':'C2', 'RRAe':'C2'\n",
    "        }\n",
    "    )\n",
    "    X['Condition1'] = np.where(X['Condition1'] == 'C1', 1, 0)\n",
    "    X['Condition2'] = np.where(X['Condition2'] == 'C1', 1, 0)\n",
    "    X['IsEnvGood'] = np.where(X['Condition2']+X['Condition1'] == 2, 1, 0)\n",
    "    \n",
    "    X['Alley'] = X.Alley.fillna('Pave')\n",
    "    X['IsAlleyGravel'] = np.where(X['Alley'] == 'Pave', 0, 1)\n",
    "    X['IsShapeReg'] = np.where(X['LotShape'] ==  'Reg', 1, 0)\n",
    "    X['LandContour'] = X['LandContour'].replace(\n",
    "        {'Lvl': 'Norm', 'Bnk': 'Norm', 'Low': 'Ir', 'HLS': 'Ir'}\n",
    "    )\n",
    "    X['IsLandFlat'] = np.where(X['LandContour'] == 'Ir', 0, 1)\n",
    "    \n",
    "    X['LotConfig'] = X['LotConfig'].replace(\n",
    "        {'Inside': 'Norm', 'FR2': 'Norm', 'Corner': 'Norm', 'CulDSac': 'Ir', 'FR3': 'Ir'}\n",
    "    )\n",
    "    X['IsNarrow'] = np.where(X['LotConfig'] == 'Ir', 0, 1)\n",
    "    X['IsSlope'] = np.where((X['LandSlope'] == 'Mod') | (X['LandSlope'] == 'Sev'), 1, 0)\n",
    "    X['IsPaved'] = np.where((X['PavedDrive'] == 'N') | (X['PavedDrive'] == 'P'), 0, 1)\n",
    "    \n",
    "    X['MSSubClass'] = X['MSSubClass'].replace(\n",
    "        {'20': 'C0', '70': 'C0', '75': 'C0', '80': 'C0',\n",
    "         '60': 'C1', '120': 'C1',\n",
    "         '90': 'C2', '85': 'C2', '40': 'C2', '160': 'C2', '50': 'C2', '190': 'C2',\n",
    "         '45': 'C3', '30': 'C3', '180': 'C3'\n",
    "        }\n",
    "    )\n",
    "    X['IsOneFamily'] = np.where(X['BldgType'] == '1Fam', 1, 0)\n",
    "    X['IsOneFloor'] = X['HouseStyle'].replace(\n",
    "        {'SFoyer': '1', 'SLvl': '1', '1Story': '1',\n",
    "         '1.5Fin': '1', '1.5Unf': '1',\n",
    "         '2Story': '0', '2.5Fin': '0', '2.5Unf': '0'\n",
    "        }\n",
    "    ).astype(np.int64)\n",
    "    X['IsRoofGable'] = np.where(X['RoofStyle'] == 'Gable', 1, 0)\n",
    "    X['IsRoofStandard'] = np.where(X['RoofMatl'] == 'CompShg', 1, 0)\n",
    "    X['Exterior_1'] = X['Exterior1st'].replace(\n",
    "        {'VinylSd': 'C0',\n",
    "         'BrkFace': 'C1', 'BrkComm': 'C1', 'Plywood': 'C1', 'Brk Cmn': 'C1',\n",
    "         'CmentBd': 'C2', 'Stone': 'C2', 'CemntBd': 'C2', 'Other': 'C2',\n",
    "         'AsphShn': 'C3', 'AsbShng': 'C3', 'ImStucc': 'C3', 'CBlock': 'C3',\n",
    "         'Wd Sdng': 'C4', 'Wd Shng': 'C4', 'WdShing': 'C4', 'Stucco': 'C4',\n",
    "         'HdBoard': 'C4', 'MetalSd': 'C4'\n",
    "        }\n",
    "    )\n",
    "    X['Exterior_2'] = X['Exterior2nd'].replace(\n",
    "        {'VinylSd': 'C0',\n",
    "         'BrkFace': 'C1', 'BrkComm': 'C1', 'Plywood': 'C1', 'Brk Cmn': 'C1',\n",
    "         'CmentBd': 'C2', 'Stone': 'C2', 'CemntBd': 'C2', 'Other': 'C2',\n",
    "         'AsphShn': 'C3', 'AsbShng': 'C3', 'ImStucc': 'C3', 'CBlock': 'C3',\n",
    "         'Wd Sdng': 'C4', 'Wd Shng': 'C4', 'WdShing': 'C4', 'Stucco': 'C4',\n",
    "         'HdBoard': 'C4', 'MetalSd': 'C4'\n",
    "        }\n",
    "    )\n",
    "    X['MasVnrType'] = X['MasVnrType'].fillna('None')\n",
    "    X['MasVnrType'] = X['MasVnrType'].replace({'BrkFace': 'Brick', 'BrkCmn': 'Brick'})\n",
    "    X['IsExtQualGood'] = np.where((X['ExterQual'] == 'Ex') | (X['ExterQual'] == 'Good'), 1, 0)\n",
    "    X['IsExtCondGood'] = np.where((X['ExterCond'] == 'Ex') | (X['ExterCond'] == 'Good'), 1, 0)\n",
    "    \n",
    "    X['IsBsmConcrete'] = np.where(X['Foundation'] == 'PConc', 1, 0)\n",
    "    \n",
    "    X['BsmtCond'] = X['BsmtCond'].fillna('Absent')\n",
    "    X['BsmtQual'] = X['BsmtQual'].fillna('Absent')\n",
    "    X['BsmtQual'] = X['BsmtQual'].replace(\n",
    "        {'Ex': 'Good', 'Gd': 'Good', 'TA': 'Good', 'Fa': 'Bad', 'Po': 'Bad'}\n",
    "    )\n",
    "    X['BsmtCond'] = X['BsmtCond'].replace(\n",
    "        {'Ex': 'Good', 'Gd': 'Good', 'TA': 'Good', 'Fa': 'Bad', 'Po': 'Bad'}\n",
    "    )\n",
    "    X['IsBsmQualGood'] = np.where((X['BsmtQual'] == 'Ex') | (X['BsmtQual'] == 'Good'), 1, 0)\n",
    "    X['IsBsmCondGood'] = np.where((X['BsmtCond'] == 'Ex') | (X['BsmtCond'] == 'Good'), 1, 0)\n",
    "    \n",
    "    X['BsmtExposure'] = X['BsmtExposure'].fillna('Absent')\n",
    "    X['BsmExposure'] = X['BsmtExposure'].replace(\n",
    "        {'Mn': 'Norm', 'Av': 'Norm', 'Absent': 'No'}\n",
    "    )\n",
    "    \n",
    "    X['BsmtFinType1'] = X['BsmtFinType1'].fillna('Absent')\n",
    "    X['BsmFinType_1'] = X['BsmtFinType1'].replace(\n",
    "        {'Unf': 'C0',\n",
    "         'GLQ': 'C1',\n",
    "         'CemntBd': 'C2',\n",
    "         'Rec': 'C3', 'LwQ': 'C3', 'ALQ': 'C3', 'BLQ': 'C3', 'Absent': 'C3'\n",
    "        }\n",
    "    )\n",
    "    X['BsmtFinType2'] = X['BsmtFinType2'].fillna('Absent')\n",
    "    X['BsmFinType_2'] = X['BsmtFinType2'].replace(\n",
    "        {'Unf': 'C0',\n",
    "         'GLQ': 'C1',\n",
    "         'CemntBd': 'C2',\n",
    "         'Rec': 'C3', 'LWQ': 'C3', 'ALQ': 'C3', 'BLQ': 'C3', 'Absent': 'C3'\n",
    "        }\n",
    "    )\n",
    "    \n",
    "    X['GarageType'] = X['GarageType'].fillna('Absent')\n",
    "    X['GarageType'] = X['GarageType'].replace(\n",
    "        {'CarPort': 'Detchd', '2Types': 'Detchd', 'Basment': 'Detchd'}\n",
    "    )\n",
    "    X['GarageFinish'] = X['GarageFinish'].fillna('Absent')\n",
    "    X['IsGarageFinished'] = np.where(X['GarageFinish'] == 'Unf', 0, 1)\n",
    "    \n",
    "    X['HeatingQC'] = X['HeatingQC'].replace(\n",
    "        {'Ex': 'Good', 'Gd': 'Good', 'TA': 'Norm', 'Fa': 'Bad', 'Po': 'Bad'}\n",
    "    )\n",
    "    X['IsHeatGood'] = np.where(X['HeatingQC'] == 'Good', 1, 0)\n",
    "    \n",
    "    X['KitchenQual'] = X['KitchenQual'].replace(\n",
    "        {'Ex': 'Good', 'Gd': 'Good', 'TA': 'Norm', 'Fa': 'Bad', 'Po': 'Bad'}\n",
    "    )\n",
    "    X['IsKitchenGood'] = np.where(X['KitchenQual'] == 'Good', 1, 0)\n",
    "    \n",
    "    X['IsCentralAir'] = np.where(X['CentralAir'] == 'Y', 1, 0)\n",
    "    X['IsStandardElect'] = np.where(X['Electrical'] == 'SBrkr', 1, 0)\n",
    "    \n",
    "    X['FireplaceQu'] = X['FireplaceQu'].fillna('Absent')\n",
    "    X['FireplaceQual'] = X['FireplaceQu'].replace(\n",
    "        {'Ex': 'Good', 'Gd': 'Good', 'TA': 'Norm', 'Fa': 'Bad', 'Po': 'Bad', 'Absent': 'Bad'}\n",
    "    )\n",
    "    \n",
    "    X['Fence'] = X['Fence'].fillna('Absent')\n",
    "    \n",
    "    X['IsFenceGoodOrAbsent'] = X['Fence'].replace(\n",
    "        {'GdPrv': '1', 'Absent': '1', 'MnPrv': '0', 'MnWw': '0', 'GdWo': '0'}\n",
    "    ).astype(np.int64)\n",
    "    \n",
    "    X['MiscFeature'] = X['MiscFeature'].fillna('Absent')\n",
    "    X['IsShedPresent'] = np.where(X['MiscFeature'] == 'Shed', 1, 0)\n",
    "    \n",
    "    X['IsNewHouse'] = np.where(X['SaleType'] == 'New', 1, 0)\n",
    "    \n",
    "    X['SaleCond'] = X['SaleCondition'].replace(\n",
    "        {'Alloca': 'C0', 'Normal': 'C0',\n",
    "         'Partial': 'C1',\n",
    "         'Abnorml': 'C2', 'Family': 'C2', 'AdjLand': 'C2'}\n",
    "    )\n",
    "    \n",
    "    cols_to_drop = [\n",
    "        'MSZoning', 'Condition1', 'Condition2',\n",
    "        'Street', 'Alley', 'LotShape', 'LandContour', 'LotConfig', 'LandSlope', 'PavedDrive',\n",
    "        'BldgType', 'HouseStyle', 'RoofStyle', 'RoofMatl',\n",
    "        'Exterior1st', 'Exterior2nd', 'ExterQual', 'ExterCond',\n",
    "        'Foundation', 'BsmtQual', 'BsmtCond', 'BsmtExposure', 'BsmtFinType1', 'BsmtFinType2',\n",
    "        'HeatingQC', 'KitchenQual', 'Electrical', 'FireplaceQu', 'Fence', 'MiscFeature',\n",
    "        'SaleType', 'SaleCondition',\n",
    "        'GarageQual', 'GarageCond', 'GarageFinish',\n",
    "        'PoolQC', 'Functional', 'Heating', 'Utilities', 'CentralAir', \n",
    "        'BsmFinType_2', 'IsLandFlat', 'Exterior_2'\n",
    "    ]\n",
    "    \n",
    "    X.drop(columns=cols_to_drop, inplace=True)\n",
    "    return X\n",
    "\n",
    "def make_cat_dummy(X):\n",
    "    cols_to_dummy = ['Neighborhood', 'MSSubClass', 'MasVnrType',\n",
    "                     'GarageType', 'FireplaceQual', 'SaleCond', 'BsmExposure',\n",
    "                     'Exterior_1', 'PorchType', 'BsmFinType_1']\n",
    "    cols_to_drop = [\n",
    "        'Neighborhood_C0', 'MSSubClass_C0', 'MSSubClass_C1', 'MSSubClass_C2',\n",
    "        'MasVnrType_None', 'Exterior_1_C0',  'GarageType_Attchd', 'FireplaceQual_Bad',\n",
    "        'SaleCond_C0', 'SaleCond_C1', 'BsmExposure_No', 'PorchType_WoodDeck', 'BsmFinType_1_C0'\n",
    "    ]\n",
    "    X = pd.get_dummies(X, columns=cols_to_dummy, prefix=cols_to_dummy)\n",
    "    X.drop(columns=cols_to_drop, inplace=True)\n",
    "    return X\n",
    "\n",
    "def drop_columns_selected(X):\n",
    "    X.drop(\n",
    "        columns=['IsShedPresent', 'Exterior_1_C3', 'IsAlleyGravel',\n",
    "                 'IsExtQualGood', 'IsExtCondGood'],\n",
    "        inplace=True\n",
    "    )\n",
    "    return X\n",
    "\n",
    "def filter_outliers(X):\n",
    "    filter_query = (\n",
    "        '(SalePrice < 423000) & (LotArea < 45600) & '+\n",
    "        '(GrLivArea < 3627) & (GarageArea < 1134) & '+\n",
    "        '(BsmtFinSF1 < 1904)'\n",
    "    )\n",
    "    X = X.query(filter_query)\n",
    "    X['Fireplaces'] = np.where(X['Fireplaces'] > 2, 2, X['Fireplaces'])\n",
    "    X['IsHalfBath'] = np.where(X['HalfBath'] > 0, 1, 0)\n",
    "    X.drop(columns=['HalfBath'], inplace=True)\n",
    "    return X"
   ]
  },
  {
   "cell_type": "code",
   "execution_count": null,
   "id": "68682caf",
   "metadata": {
    "ExecuteTime": {
     "start_time": "2022-11-22T17:13:47.905Z"
    }
   },
   "outputs": [],
   "source": [
    "corr_heatmap(data)"
   ]
  },
  {
   "cell_type": "markdown",
   "id": "c90e0636",
   "metadata": {
    "heading_collapsed": true
   },
   "source": [
    "## Numerical"
   ]
  },
  {
   "cell_type": "markdown",
   "id": "c2225de4",
   "metadata": {
    "hidden": true
   },
   "source": [
    "### Baths"
   ]
  },
  {
   "cell_type": "code",
   "execution_count": null,
   "id": "bcfc6201",
   "metadata": {
    "ExecuteTime": {
     "start_time": "2022-11-22T17:13:47.912Z"
    },
    "hidden": true
   },
   "outputs": [],
   "source": [
    "X = data.copy()\n",
    "X = X.loc[:, ['BsmtFullBath', 'BsmtHalfBath', 'FullBath', 'HalfBath', 'SalePrice']]"
   ]
  },
  {
   "cell_type": "code",
   "execution_count": null,
   "id": "210ada41",
   "metadata": {
    "ExecuteTime": {
     "start_time": "2022-11-22T17:13:47.917Z"
    },
    "hidden": true
   },
   "outputs": [],
   "source": [
    "#X.hist(layout=(6, 7), figsize=(20, 15), bins=40)\n",
    "#plt.show()"
   ]
  },
  {
   "cell_type": "code",
   "execution_count": null,
   "id": "abd0bd46",
   "metadata": {
    "ExecuteTime": {
     "start_time": "2022-11-22T17:13:47.921Z"
    },
    "hidden": true
   },
   "outputs": [],
   "source": [
    "print(X.loc[X.BsmtFullBath > 1, :].shape[0]/X.shape[0])    # 16 observations\n",
    "print(X.loc[X.BsmtHalfBath > 1, :].shape[0]/X.shape[0])    # 2 observations\n",
    "print(X.loc[X.FullBath > 2, :].shape[0]/X.shape[0])        # 33 observations\n",
    "print(X.loc[X.HalfBath > 1, :].shape[0]/X.shape[0])        # 12 observations"
   ]
  },
  {
   "cell_type": "code",
   "execution_count": null,
   "id": "044b2caa",
   "metadata": {
    "ExecuteTime": {
     "start_time": "2022-11-22T17:13:47.926Z"
    },
    "hidden": true,
    "scrolled": false
   },
   "outputs": [],
   "source": [
    "#corr_heatmap(X)"
   ]
  },
  {
   "cell_type": "code",
   "execution_count": null,
   "id": "ab71c745",
   "metadata": {
    "ExecuteTime": {
     "start_time": "2022-11-22T17:13:47.931Z"
    },
    "hidden": true
   },
   "outputs": [],
   "source": [
    "#corr_heatmap(X.query('BsmtHalfBath <= 1 & BsmtFullBath <= 1 & FullBath <= 2 & HalfBath <= 1'))"
   ]
  },
  {
   "cell_type": "markdown",
   "id": "3a9f64e8",
   "metadata": {
    "hidden": true
   },
   "source": [
    "- The strongest correlation is between FullBath, SalePrice\n",
    "- There is no strong correlation between other groups\n",
    "- However, just logically FullBath = BsmtFullBath + Second Floor Full Baths; the same for HalfBaths\n",
    "=> keep only FullBaths, HalfBaths"
   ]
  },
  {
   "cell_type": "markdown",
   "id": "e41ea809",
   "metadata": {
    "heading_collapsed": true,
    "hidden": true
   },
   "source": [
    "### Rooms"
   ]
  },
  {
   "cell_type": "code",
   "execution_count": null,
   "id": "d6c24d9f",
   "metadata": {
    "ExecuteTime": {
     "start_time": "2022-11-22T17:13:47.938Z"
    },
    "hidden": true
   },
   "outputs": [],
   "source": [
    "X = data.copy()\n",
    "X = X.loc[:, ['BedroomAbvGr', 'KitchenAbvGr', 'FullBath', 'HalfBath', 'TotRmsAbvGrd',\n",
    "              'SalePrice']]"
   ]
  },
  {
   "cell_type": "code",
   "execution_count": null,
   "id": "8dc0fcb5",
   "metadata": {
    "ExecuteTime": {
     "start_time": "2022-11-22T17:13:47.943Z"
    },
    "hidden": true
   },
   "outputs": [],
   "source": [
    "#X.hist(layout=(6, 7), figsize=(20, 15), bins=40)\n",
    "#plt.show()"
   ]
  },
  {
   "cell_type": "code",
   "execution_count": null,
   "id": "21a4ccf2",
   "metadata": {
    "ExecuteTime": {
     "start_time": "2022-11-22T17:13:47.947Z"
    },
    "hidden": true
   },
   "outputs": [],
   "source": [
    "print(X.loc[X.BedroomAbvGr > 5, :].shape[0]/X.shape[0])    # 8 observations\n",
    "print(X.loc[X.KitchenAbvGr > 2, :].shape[0]/X.shape[0])    # 2 obs.\n",
    "print(X.loc[X.TotRmsAbvGrd > 13, :].shape[0]/X.shape[0])    # 1 obs.\n",
    "print(X.loc[X.FullBath > 2, :].shape[0]/X.shape[0])        # 33 obs.\n",
    "print(X.loc[X.HalfBath > 1, :].shape[0]/X.shape[0])        # 12 obs."
   ]
  },
  {
   "cell_type": "code",
   "execution_count": null,
   "id": "8be32d51",
   "metadata": {
    "ExecuteTime": {
     "start_time": "2022-11-22T17:13:47.952Z"
    },
    "hidden": true
   },
   "outputs": [],
   "source": [
    "#corr_heatmap(X)"
   ]
  },
  {
   "cell_type": "code",
   "execution_count": null,
   "id": "de13d1fb",
   "metadata": {
    "ExecuteTime": {
     "start_time": "2022-11-22T17:13:47.957Z"
    },
    "hidden": true,
    "scrolled": true
   },
   "outputs": [],
   "source": [
    "#corr_heatmap(\n",
    "    #X.query(\n",
    "        #'BedroomAbvGr <= 5 & KitchenAbvGr <= 2 & TotRmsAbvGrd <= 13 & FullBath <= 2 & HalfBath <= 1'\n",
    "    #)\n",
    "#)"
   ]
  },
  {
   "cell_type": "markdown",
   "id": "dded6d81",
   "metadata": {
    "hidden": true
   },
   "source": [
    "- Remove Kitchen as it almost non-variative variable\n",
    "- TotalRmsAbvgrd and FullBath are strongly correlated - remove FullBath as it already is included in rooms\n",
    "- TotalRmsAbvgrd and BedroomAbvgr are strongly correlated - - remove BedroomAbvGr as it already is included in rooms\n",
    "\\\n",
    "=> keep HalfBath, TotRmsAbvGrd"
   ]
  },
  {
   "cell_type": "markdown",
   "id": "d30a1cc7",
   "metadata": {
    "heading_collapsed": true,
    "hidden": true
   },
   "source": [
    "### Areas"
   ]
  },
  {
   "cell_type": "code",
   "execution_count": null,
   "id": "437dd8c3",
   "metadata": {
    "ExecuteTime": {
     "start_time": "2022-11-22T17:13:47.965Z"
    },
    "hidden": true
   },
   "outputs": [],
   "source": [
    "X = data.copy()\n",
    "X = X.loc[:, ['LotFrontage', 'LotArea', 'MasVnrArea', 'BsmtFinSF1', 'BsmtFinSF2',\n",
    "              'BsmtUnfSF', 'TotalBsmtSF', '1stFlrSF', '2ndFlrSF', 'LowQualFinSF',\n",
    "              'GrLivArea', 'GarageArea',\n",
    "              'SalePrice']]"
   ]
  },
  {
   "cell_type": "code",
   "execution_count": null,
   "id": "94a60a14",
   "metadata": {
    "ExecuteTime": {
     "start_time": "2022-11-22T17:13:47.970Z"
    },
    "hidden": true
   },
   "outputs": [],
   "source": [
    "#tmp = show_basic_plots(X)\n",
    "#for i in tmp['violin_num']: \n",
    "    #i.show()\n",
    "#del tmp"
   ]
  },
  {
   "cell_type": "code",
   "execution_count": null,
   "id": "144e08a5",
   "metadata": {
    "ExecuteTime": {
     "start_time": "2022-11-22T17:13:47.974Z"
    },
    "hidden": true
   },
   "outputs": [],
   "source": [
    "print(X.loc[X.LotArea > 70000].shape[0]/X.shape[0]) #5\n",
    "print(X.loc[X.LotFrontage > 182].shape[0]/X.shape[0]) #2\n",
    "print(X.loc[X.MasVnrArea > 1170].shape[0]/X.shape[0]) # 2\n",
    "print(X.loc[X.BsmtFinSF1 > 2260].shape[0]/X.shape[0]) # 1\n",
    "print(X.loc[X.BsmtFinSF2 > 1127].shape[0]/X.shape[0]) # 1\n",
    "print(X.loc[X.TotalBsmtSF > 3206].shape[0]/X.shape[0]) # 1\n",
    "print(X.loc[X['1stFlrSF'] > 3228].shape[0]/X.shape[0]) # 1\n",
    "print(X.loc[X['2ndFlrSF'] > 1871].shape[0]/X.shape[0]) # 2\n",
    "print(X.loc[X['LowQualFinSF'] > 500].shape[0]/X.shape[0]) # only 26 obs > 0; maybe recode as 0-1\n",
    "print(X.loc[X.GrLivArea > 4676].shape[0]/X.shape[0]) # 1"
   ]
  },
  {
   "cell_type": "code",
   "execution_count": null,
   "id": "de20d406",
   "metadata": {
    "ExecuteTime": {
     "start_time": "2022-11-22T17:13:47.979Z"
    },
    "hidden": true
   },
   "outputs": [],
   "source": [
    "#corr_heatmap(X)"
   ]
  },
  {
   "cell_type": "code",
   "execution_count": null,
   "id": "f9ab43bf",
   "metadata": {
    "ExecuteTime": {
     "start_time": "2022-11-22T17:13:47.985Z"
    },
    "hidden": true
   },
   "outputs": [],
   "source": [
    "#corr_heatmap(\n",
    "    #X.query(\n",
    "        #('LotArea <= 70000 & LotFrontage <= 182 & MasVnrArea <= 1170 &'+\n",
    "        #'BsmtFinSF1 <= 2260 & BsmtFinSF2 <= 1127 & TotalBsmtSF <= 3206 &'+\n",
    "        #'LowQualFinSF <= 500 & GrLivArea <= 4676')\n",
    "    #)\n",
    "#)"
   ]
  },
  {
   "cell_type": "markdown",
   "id": "038051d2",
   "metadata": {
    "hidden": true
   },
   "source": [
    "- LotArea has average correlation with other areas\n",
    "- MasVnrArea has even less strong correlation with other areas\n",
    "- BsmtFinSF1 is correlated with TotalBasement and 1st floor area\n",
    "- BsmtFinSF2 is weakly correlated with all the other areas\n",
    "- BsmtUnfSF is correlated with TotalBasement olny\n",
    "- TotalBsmtSF has strong correlation with 1stFlrSF;pretty strong with GarageArea and GRLivArea\n",
    "- 2ndFlrSF is strongly correlated with GrLivArea\n",
    "- GarageArea is correlated with Total Basement, 1stFloor basement, GrLivArea\n",
    "-------------------------------------------------------------------------------------------------------\n",
    "To sum up:\n",
    "- better to be united during PCA\n",
    "- The best Area is GrLivArea\n",
    "- Also keep LotFrontage, LotArea, MasVnrArea, TotalBsmtSF, GarageArea\n",
    "- proportion of finished/unfinished basement could be created"
   ]
  },
  {
   "cell_type": "markdown",
   "id": "88bc75ab",
   "metadata": {
    "heading_collapsed": true,
    "hidden": true
   },
   "source": [
    "### Porches"
   ]
  },
  {
   "cell_type": "code",
   "execution_count": null,
   "id": "43ec621a",
   "metadata": {
    "ExecuteTime": {
     "start_time": "2022-11-22T17:13:47.992Z"
    },
    "hidden": true
   },
   "outputs": [],
   "source": [
    "X = data.copy()\n",
    "X = X.loc[:, ['WoodDeckSF', '3SsnPorch', 'EnclosedPorch', 'ScreenPorch', 'OpenPorchSF',\n",
    "              'SalePrice']]"
   ]
  },
  {
   "cell_type": "code",
   "execution_count": null,
   "id": "6b8c196e",
   "metadata": {
    "ExecuteTime": {
     "start_time": "2022-11-22T17:13:47.996Z"
    },
    "hidden": true
   },
   "outputs": [],
   "source": [
    "#tmp = show_basic_plots(X)\n",
    "#for i in tmp['violin_num']: \n",
    "    #i.show()\n",
    "#del tmp"
   ]
  },
  {
   "cell_type": "code",
   "execution_count": null,
   "id": "d5649000",
   "metadata": {
    "ExecuteTime": {
     "start_time": "2022-11-22T17:13:48.001Z"
    },
    "hidden": true
   },
   "outputs": [],
   "source": [
    "X.loc[X['3SsnPorch']>0].shape  # 24"
   ]
  },
  {
   "cell_type": "code",
   "execution_count": null,
   "id": "1c2adf2e",
   "metadata": {
    "ExecuteTime": {
     "start_time": "2022-11-22T17:13:48.006Z"
    },
    "hidden": true
   },
   "outputs": [],
   "source": [
    "#corr_heatmap(X)"
   ]
  },
  {
   "cell_type": "markdown",
   "id": "5f7ef829",
   "metadata": {
    "hidden": true
   },
   "source": [
    "- better create new PorchSF and PorchType variables"
   ]
  },
  {
   "cell_type": "markdown",
   "id": "0cc8904a",
   "metadata": {
    "heading_collapsed": true,
    "hidden": true
   },
   "source": [
    "### TimeStamps"
   ]
  },
  {
   "cell_type": "code",
   "execution_count": null,
   "id": "12b65bc8",
   "metadata": {
    "ExecuteTime": {
     "start_time": "2022-11-22T17:13:48.013Z"
    },
    "hidden": true
   },
   "outputs": [],
   "source": [
    "X = data.copy()\n",
    "X = X.loc[:, ['MoSold', 'YrSold', 'YearBuilt', 'YearRemodAdd', 'GarageYrBlt',\n",
    "              'SalePrice']]"
   ]
  },
  {
   "cell_type": "code",
   "execution_count": null,
   "id": "5dadcd47",
   "metadata": {
    "ExecuteTime": {
     "start_time": "2022-11-22T17:13:48.017Z"
    },
    "hidden": true,
    "scrolled": true
   },
   "outputs": [],
   "source": [
    "#corr_heatmap(X)"
   ]
  },
  {
   "cell_type": "markdown",
   "id": "6fa48213",
   "metadata": {
    "hidden": true
   },
   "source": [
    "- Year and Month when the house was sold - rather not important\n",
    "- YearBuilt, YearRemodAdd, GarageBuilt are strongly correlated - either unite/drop\n",
    "- Add 0-1 whether renovation was held"
   ]
  },
  {
   "cell_type": "markdown",
   "id": "d4373f6b",
   "metadata": {
    "heading_collapsed": true,
    "hidden": true
   },
   "source": [
    "### Luxury and qualities"
   ]
  },
  {
   "cell_type": "code",
   "execution_count": null,
   "id": "f604df26",
   "metadata": {
    "ExecuteTime": {
     "start_time": "2022-11-22T17:13:48.024Z"
    },
    "hidden": true
   },
   "outputs": [],
   "source": [
    "X = data.copy()\n",
    "X = X.loc[:, ['Fireplaces', 'PoolArea', 'MiscVal', 'OverallCond', 'OverallQual',\n",
    "              'SalePrice']]"
   ]
  },
  {
   "cell_type": "code",
   "execution_count": null,
   "id": "af50f214",
   "metadata": {
    "ExecuteTime": {
     "start_time": "2022-11-22T17:13:48.029Z"
    },
    "hidden": true
   },
   "outputs": [],
   "source": [
    "#tmp = show_basic_plots(X)\n",
    "#for i in tmp['violin_num']: \n",
    "    #i.show()\n",
    "#del tmp"
   ]
  },
  {
   "cell_type": "code",
   "execution_count": null,
   "id": "45ffd601",
   "metadata": {
    "ExecuteTime": {
     "start_time": "2022-11-22T17:13:48.034Z"
    },
    "hidden": true
   },
   "outputs": [],
   "source": [
    "print(X.loc[X.Fireplaces > 2].shape[0]/X.shape[0])  # 5\n",
    "print(X.loc[X.MiscVal > 3500].shape[0]/X.shape[0])  # 2\n",
    "print(X.loc[X.OverallCond < 3].shape[0]/X.shape[0]) # 6\n",
    "print(X.loc[X.OverallQual < 3].shape[0]/X.shape[0]) # 5\n",
    "print(X.loc[X.PoolArea > 0].shape[0]/X.shape[0]) # 7"
   ]
  },
  {
   "cell_type": "code",
   "execution_count": null,
   "id": "c8862dd8",
   "metadata": {
    "ExecuteTime": {
     "start_time": "2022-11-22T17:13:48.039Z"
    },
    "hidden": true
   },
   "outputs": [],
   "source": [
    "#corr_heatmap(X)"
   ]
  },
  {
   "cell_type": "code",
   "execution_count": null,
   "id": "8d40bf17",
   "metadata": {
    "ExecuteTime": {
     "start_time": "2022-11-22T17:13:48.043Z"
    },
    "hidden": true,
    "scrolled": true
   },
   "outputs": [],
   "source": [
    "#corr_heatmap(\n",
    "    #X.query(\n",
    "       #'Fireplaces <= 2 & MiscVal <= 3500 & OverallCond >=3 & OverallQual >= 3'\n",
    "    #)\n",
    "#)"
   ]
  },
  {
   "cell_type": "markdown",
   "id": "2bd9d793",
   "metadata": {
    "hidden": true
   },
   "source": [
    "- Only Fireplaces and OverallQual are important ones"
   ]
  },
  {
   "cell_type": "markdown",
   "id": "db32953a",
   "metadata": {
    "heading_collapsed": true,
    "hidden": true
   },
   "source": [
    "### Overview"
   ]
  },
  {
   "cell_type": "markdown",
   "id": "3f36c3ba",
   "metadata": {
    "hidden": true
   },
   "source": [
    "- keep **HalfBath**, **TotRmsAbvGrd**, **YearBuilt**(or new from PCA or LastYearBuilt), **Fireplaces**, **OverallQual**, **GrLivArea**(or new from PCA, or also MasVnrArea, TotalBsmtSF, GarageArea, LotFrontage, LotArea)\n",
    "- create new vars: PorchSF(num), PorchType(cat), WasRennovation(0-1), BsmtFinProp(float, [0, 1]), FloorAreaProp(float, [0,1]) - aka 2ndfloor/1srfloor; the same for porch prop, garage prop, MasVnrArea etc.\n",
    "- continue exploration after PCA"
   ]
  },
  {
   "cell_type": "code",
   "execution_count": null,
   "id": "320216fa",
   "metadata": {
    "ExecuteTime": {
     "start_time": "2022-11-22T17:13:48.051Z"
    },
    "code_folding": [
     0
    ],
    "hidden": true
   },
   "outputs": [],
   "source": [
    "def prepare_data_num(X):\n",
    "    X['MSSubClass'] = X['MSSubClass'].astype(str)\n",
    "    X['PorchSF'] = (X['WoodDeckSF'] + X['OpenPorchSF'] + \n",
    "                    X['EnclosedPorch'] + X['3SsnPorch'] + \n",
    "                    X['ScreenPorch'])\n",
    "    X['PorchType'] = ''\n",
    "    X['IsRennovated'] = np.where(X['YearBuilt'] != X['YearRemodAdd'], 1, 0)\n",
    "    \n",
    "    X['PropMasVnr'] = X['MasVnrArea']/X['LotArea']\n",
    "    X['PropBsmFin1'] = X['BsmtFinSF1']/X['LotArea']\n",
    "    X['PropBsmFin2'] = X['BsmtFinSF2']/X['LotArea']\n",
    "    X['PropBsmUnf'] = X['BsmtUnfSF']/X['LotArea']\n",
    "    \n",
    "    X['Prop2MasVnr'] = X['MasVnrArea']/X['TotalBsmtSF']\n",
    "    X['Prop2BsmFin1'] = X['BsmtFinSF1']/X['TotalBsmtSF']\n",
    "    X['Prop2BsmFin2'] = X['BsmtFinSF2']/X['TotalBsmtSF']\n",
    "    X['Prop2BsmUnf'] = X['BsmtUnfSF']/X['TotalBsmtSF']\n",
    "    \n",
    "    X['GarageLivingRatio'] = X['GarageArea']/X['GrLivArea']\n",
    "    X['PerRoomSF'] = X['GrLivArea']/X['TotRmsAbvGrd']\n",
    "    \n",
    "    X['PropGrLivArea'] = X['GrLivArea']/X['LotArea']\n",
    "    X['PropGarageArea'] = X['GarageArea']/X['LotArea']\n",
    "    X['PropLowQualFin'] = X['LowQualFinSF']/X['LotArea']\n",
    "    X['PropBsmTotal'] = X['TotalBsmtSF']/X['LotArea']\n",
    "    X['PropFloor1'] = X['1stFlrSF']/X['LotArea']\n",
    "    X['PropFloor2'] = X['2ndFlrSF']/X['LotArea']\n",
    "    X['FloorRatio'] = X['2ndFlrSF']/X['1stFlrSF']\n",
    "    X['PropPorch'] = X['PorchSF']/X['LotArea']\n",
    "    # prop 1st floor to second\n",
    "    \n",
    "    cols_to_drop = [\n",
    "        'Id', 'MoSold', 'YrSold', 'PoolArea', 'BsmtFullBath', 'BsmtHalfBath', \n",
    "        'FullBath', 'BedroomAbvGr', 'KitchenAbvGr', 'GarageYrBlt', 'GarageCars'\n",
    "    ]\n",
    "    X.drop(columns=cols_to_drop, inplace=True)\n",
    "    return X"
   ]
  },
  {
   "cell_type": "code",
   "execution_count": null,
   "id": "5657098c",
   "metadata": {
    "ExecuteTime": {
     "start_time": "2022-11-22T17:13:48.057Z"
    },
    "hidden": true
   },
   "outputs": [],
   "source": [
    "X = data.copy()\n",
    "X = prepare_data_num(X)\n",
    "#corr_heatmap(X)"
   ]
  },
  {
   "cell_type": "markdown",
   "id": "aa2cd073",
   "metadata": {
    "hidden": true
   },
   "source": [
    "- generally, proportions describes sale price worser than original sq.ft. variables\n",
    "- floor ratio is better than just floors"
   ]
  },
  {
   "cell_type": "code",
   "execution_count": null,
   "id": "051bf6a1",
   "metadata": {
    "ExecuteTime": {
     "start_time": "2022-11-22T17:13:48.063Z"
    },
    "code_folding": [
     0
    ],
    "hidden": true
   },
   "outputs": [],
   "source": [
    "def prepare_data_num(X):\n",
    "    X['MSSubClass'] = X['MSSubClass'].astype(str)\n",
    "    X['PorchSF'] = (X['WoodDeckSF'] + X['OpenPorchSF'] + \n",
    "                    X['EnclosedPorch'] + X['3SsnPorch'] + \n",
    "                    X['ScreenPorch'])\n",
    "    X['PorchType'] = ''\n",
    "    X['IsRennovated'] = np.where(X['YearBuilt'] != X['YearRemodAdd'], 1, 0)\n",
    "    X['FloorRatio'] = X['2ndFlrSF']/X['1stFlrSF']\n",
    "    #X['PerRoomSF'] = X['GrLivArea']/X['TotRmsAbvGrd']\n",
    "    \n",
    "    cols_to_drop = [\n",
    "        'Id', 'MoSold', 'YrSold', 'PoolArea', 'BsmtFullBath', 'BsmtHalfBath', \n",
    "        'FullBath', 'BedroomAbvGr', 'KitchenAbvGr', 'GarageYrBlt', 'GarageCars',\n",
    "        'WoodDeckSF', 'OpenPorchSF', 'EnclosedPorch', '3SsnPorch', 'ScreenPorch',\n",
    "        'YearRemodAdd', 'TotalBsmtSF', 'MiscVal', '2ndFlrSF', '1stFlrSF'\n",
    "    ]\n",
    "    X.drop(columns=cols_to_drop, inplace=True)\n",
    "    return X"
   ]
  },
  {
   "cell_type": "code",
   "execution_count": null,
   "id": "d5a0f52f",
   "metadata": {
    "ExecuteTime": {
     "start_time": "2022-11-22T17:13:48.068Z"
    },
    "hidden": true
   },
   "outputs": [],
   "source": [
    "X = data.copy()\n",
    "X = prepare_data_num(X)\n",
    "#corr_heatmap(X)"
   ]
  },
  {
   "cell_type": "code",
   "execution_count": null,
   "id": "a5e8106f",
   "metadata": {
    "ExecuteTime": {
     "start_time": "2022-11-22T17:13:48.072Z"
    },
    "hidden": true
   },
   "outputs": [],
   "source": [
    "#tmp = show_basic_plots(X, ['LowQualFinSF', 'BsmtFinSF2', 'MSSubClass'])"
   ]
  },
  {
   "cell_type": "code",
   "execution_count": null,
   "id": "8bbc7a1a",
   "metadata": {
    "ExecuteTime": {
     "start_time": "2022-11-22T17:13:48.077Z"
    },
    "hidden": true
   },
   "outputs": [],
   "source": [
    "#for i in tmp['dist_num']:\n",
    "    #i.show()"
   ]
  },
  {
   "cell_type": "markdown",
   "id": "27dd901b",
   "metadata": {
    "hidden": true
   },
   "source": [
    "- GrLivArea, TotRmsAbvGrd, areas are strongly correlated => use PerRoomSF\n",
    "- IsRennovated, OverallCond, LowQualSF(very rare), BsmtFin2SF(very rare) seems to be unimportant => drop them\n",
    "- Still better use some kind of PCA"
   ]
  },
  {
   "cell_type": "markdown",
   "id": "f06b013e",
   "metadata": {
    "heading_collapsed": true
   },
   "source": [
    "## Categorical"
   ]
  },
  {
   "cell_type": "markdown",
   "id": "a3f76c6a",
   "metadata": {
    "heading_collapsed": true,
    "hidden": true
   },
   "source": [
    "### House placement"
   ]
  },
  {
   "cell_type": "code",
   "execution_count": null,
   "id": "cc2dd380",
   "metadata": {
    "ExecuteTime": {
     "start_time": "2022-11-22T17:13:48.085Z"
    },
    "hidden": true
   },
   "outputs": [],
   "source": [
    "cols_to_dummy = ['MSZoning', 'Neighborhood', 'Condition1', 'Condition2']\n",
    "X = data.copy()\n",
    "X = X.loc[:, cols_to_dummy+['SalePrice']]"
   ]
  },
  {
   "cell_type": "markdown",
   "id": "0ebfa76c",
   "metadata": {
    "heading_collapsed": true,
    "hidden": true
   },
   "source": [
    "#### MSZoning"
   ]
  },
  {
   "cell_type": "code",
   "execution_count": null,
   "id": "82089d48",
   "metadata": {
    "ExecuteTime": {
     "start_time": "2022-11-22T17:13:48.090Z"
    },
    "hidden": true,
    "scrolled": true
   },
   "outputs": [],
   "source": [
    "tmp_cols_to_dummy = ['MSZoning']\n",
    "tmp = X.loc[:, ['SalePrice']+tmp_cols_to_dummy]\n",
    "#show_violin(tmp)\n",
    "#show_dummy_corr(tmp)\n",
    "#show_dist_cat(tmp)"
   ]
  },
  {
   "cell_type": "code",
   "execution_count": null,
   "id": "264f22ad",
   "metadata": {
    "ExecuteTime": {
     "start_time": "2022-11-22T17:13:48.095Z"
    },
    "hidden": true
   },
   "outputs": [],
   "source": [
    "tmp['MSZoning'] = tmp.MSZoning.replace({'RH':'RM', 'FV':'RL', 'C (all)': 'RM'})\n",
    "tmp['IsLowDensityArea'] = np.where(tmp['MSZoning'] == 'RL', 1, 0)"
   ]
  },
  {
   "cell_type": "markdown",
   "id": "5f2fd028",
   "metadata": {
    "heading_collapsed": true,
    "hidden": true
   },
   "source": [
    "#### NeighborHood"
   ]
  },
  {
   "cell_type": "code",
   "execution_count": null,
   "id": "4db2579f",
   "metadata": {
    "ExecuteTime": {
     "start_time": "2022-11-22T17:13:48.101Z"
    },
    "hidden": true
   },
   "outputs": [],
   "source": [
    "tmp_cols_to_dummy = ['Neighborhood']\n",
    "tmp = X.loc[:, ['SalePrice']+tmp_cols_to_dummy]\n",
    "#show_dummy_corr(tmp)\n",
    "#show_dist_cat(tmp)\n",
    "#show_violin(tmp)"
   ]
  },
  {
   "cell_type": "markdown",
   "id": "d6e51d36",
   "metadata": {
    "hidden": true
   },
   "source": [
    "- unite MeadowV, BrGale, IDOTRR\n",
    "- unite OldTown, Sawyer, BrkSide, Edwards\n",
    "- unite Blueste, NPkVill, NAmes, Mitchel, SWISU\n",
    "- unite SawyerW, Blmngtn, Gilbert, NWAmes\n",
    "- unite CrawFor, CollgCr, ClearCr\n",
    "- unite Somerst, Timber, Venkeer, \n",
    "- unite NridgHt, StoneBr, NoRidge"
   ]
  },
  {
   "cell_type": "code",
   "execution_count": null,
   "id": "d16eed46",
   "metadata": {
    "ExecuteTime": {
     "start_time": "2022-11-22T17:13:48.107Z"
    },
    "hidden": true
   },
   "outputs": [],
   "source": [
    "tmp_cols_to_dummy = ['Neighborhood']\n",
    "tmp = X.loc[:, ['SalePrice']+tmp_cols_to_dummy]\n",
    "tmp['Neighborhood'] = tmp.Neighborhood.replace(\n",
    "    {'MeadowV':'C1', 'BrDale':'C1', 'IDOTRR':'C1',\n",
    "     'Edwards':'C2', 'OldTown': 'C2', 'Sawyer':'C2', 'BrkSide':'C2',\n",
    "     'Blueste':'C3', 'NPkVill':'C3', 'Mitchel':'C3', 'SWISU':'C3', 'NAmes':'C3',\n",
    "     'SawyerW':'C4', 'Blmngtn':'C4', 'Gilbert':'C4', 'NWAmes':'C4',\n",
    "     'Somerst':'C5', 'Timber':'C5', 'Veenker':'C5',\n",
    "     'Crawfor':'C6', 'CollgCr':'C6', 'ClearCr':'C6',\n",
    "     'NridgHt': 'C7', 'StoneBr': 'C7', 'NoRidge': 'C7'\n",
    "    }\n",
    ")\n",
    "#show_dummy_corr(tmp)\n",
    "#show_dist_cat(tmp)\n",
    "#show_violin(tmp)"
   ]
  },
  {
   "cell_type": "markdown",
   "id": "93475588",
   "metadata": {
    "hidden": true
   },
   "source": [
    "- unite C6, C5\n",
    "- unite C2, C3"
   ]
  },
  {
   "cell_type": "code",
   "execution_count": null,
   "id": "c7f123ba",
   "metadata": {
    "ExecuteTime": {
     "start_time": "2022-11-22T17:13:48.112Z"
    },
    "hidden": true
   },
   "outputs": [],
   "source": [
    "tmp_cols_to_dummy = ['Neighborhood']\n",
    "tmp = X.loc[:, ['SalePrice']+tmp_cols_to_dummy]\n",
    "tmp['Neighborhood'] = tmp.Neighborhood.replace(\n",
    "    {'MeadowV':'C1', 'BrDale':'C1', 'IDOTRR':'C1',\n",
    "     'Edwards':'C2', 'OldTown': 'C2', 'Sawyer':'C2', 'BrkSide':'C2',\n",
    "     'Blueste':'C2', 'NPkVill':'C2', 'Mitchel':'C2', 'SWISU':'C2', 'NAmes':'C2',\n",
    "     'SawyerW':'C3', 'Blmngtn':'C3', 'Gilbert':'C3', 'NWAmes':'C3',\n",
    "     'Somerst':'C4', 'Timber':'C4', 'Veenker':'C4', 'Crawfor':'C4', 'CollgCr':'C4', 'ClearCr':'C4',\n",
    "     'NridgHt': 'C5', 'StoneBr': 'C5', 'NoRidge': 'C5'\n",
    "    }\n",
    ")\n",
    "#show_dummy_corr(tmp)\n",
    "#show_dist_cat(tmp)\n",
    "#show_violin(tmp)"
   ]
  },
  {
   "cell_type": "markdown",
   "id": "3026f439",
   "metadata": {
    "heading_collapsed": true,
    "hidden": true
   },
   "source": [
    "#### Condition"
   ]
  },
  {
   "cell_type": "code",
   "execution_count": null,
   "id": "704effc9",
   "metadata": {
    "ExecuteTime": {
     "start_time": "2022-11-22T17:13:48.118Z"
    },
    "hidden": true
   },
   "outputs": [],
   "source": [
    "tmp_cols_to_dummy = ['Condition1']\n",
    "tmp = X.loc[:, ['SalePrice']+tmp_cols_to_dummy]\n",
    "#show_dummy_corr(tmp)\n",
    "#show_dist_cat(tmp)\n",
    "#show_violin(tmp)"
   ]
  },
  {
   "cell_type": "markdown",
   "id": "6e839f60",
   "metadata": {
    "hidden": true
   },
   "source": [
    "- unite PosA, PosN, Norm, RRNe, RRAn, RRNn\n",
    "- unite Feedr, Artery, RRAe"
   ]
  },
  {
   "cell_type": "code",
   "execution_count": null,
   "id": "186047f8",
   "metadata": {
    "ExecuteTime": {
     "start_time": "2022-11-22T17:13:48.124Z"
    },
    "hidden": true
   },
   "outputs": [],
   "source": [
    "tmp_cols_to_dummy = ['Condition1']\n",
    "tmp = X.loc[:, ['SalePrice']+tmp_cols_to_dummy]\n",
    "tmp['Condition1'] = tmp['Condition1'].replace(\n",
    "    {'PosA': 'C1', 'PosN': 'C1', 'RRAn':'C1', 'RRNe': 'C1', 'RRNn': 'C1', 'Norm': 'C1',\n",
    "     'Feedr':'C2', 'Artery':'C2', 'RRAe':'C2'\n",
    "    }\n",
    ")\n",
    "tmp = tmp.loc[tmp.SalePrice < 475000, :]\n",
    "#show_dummy_corr(tmp)\n",
    "#show_dist_cat(tmp)\n",
    "#show_violin(tmp)"
   ]
  },
  {
   "cell_type": "markdown",
   "id": "d336a491",
   "metadata": {
    "heading_collapsed": true,
    "hidden": true
   },
   "source": [
    "### House land"
   ]
  },
  {
   "cell_type": "code",
   "execution_count": null,
   "id": "d5e1db43",
   "metadata": {
    "ExecuteTime": {
     "start_time": "2022-11-22T17:13:48.129Z"
    },
    "hidden": true
   },
   "outputs": [],
   "source": [
    "cols_to_dummy = ['Street', 'Alley', 'LotShape', 'LandContour',\n",
    "                 'LotConfig', 'LandSlope', 'PavedDrive']\n",
    "X = data.copy()\n",
    "X = X.loc[:, cols_to_dummy+['SalePrice']]"
   ]
  },
  {
   "cell_type": "code",
   "execution_count": null,
   "id": "4f8b7aea",
   "metadata": {
    "ExecuteTime": {
     "start_time": "2022-11-22T17:13:48.134Z"
    },
    "hidden": true
   },
   "outputs": [],
   "source": [
    "print(X.Street.isnull().sum())\n",
    "print(X.Street.unique())"
   ]
  },
  {
   "cell_type": "markdown",
   "id": "a99e92c8",
   "metadata": {
    "hidden": true
   },
   "source": [
    "- For sure drop Street"
   ]
  },
  {
   "cell_type": "markdown",
   "id": "2fef48ec",
   "metadata": {
    "hidden": true
   },
   "source": [
    "#### Alley"
   ]
  },
  {
   "cell_type": "code",
   "execution_count": null,
   "id": "661c21fb",
   "metadata": {
    "ExecuteTime": {
     "start_time": "2022-11-22T17:13:48.141Z"
    },
    "hidden": true
   },
   "outputs": [],
   "source": [
    "X.Alley.isnull().sum()"
   ]
  },
  {
   "cell_type": "code",
   "execution_count": null,
   "id": "ed362c68",
   "metadata": {
    "ExecuteTime": {
     "start_time": "2022-11-22T17:13:48.146Z"
    },
    "hidden": true
   },
   "outputs": [],
   "source": [
    "tmp_cols_to_dummy = ['Alley']\n",
    "tmp = X.loc[:, ['SalePrice']+tmp_cols_to_dummy]\n",
    "tmp['Alley'] = tmp.Alley.fillna('Absent')\n",
    "#show_violin(tmp)\n",
    "#show_dummy_corr(tmp)\n",
    "#show_dist_cat(tmp)"
   ]
  },
  {
   "cell_type": "markdown",
   "id": "754c195a",
   "metadata": {
    "hidden": true
   },
   "source": [
    "- Unite Pave and Absent"
   ]
  },
  {
   "cell_type": "code",
   "execution_count": null,
   "id": "adf14178",
   "metadata": {
    "ExecuteTime": {
     "start_time": "2022-11-22T17:13:48.151Z"
    },
    "hidden": true
   },
   "outputs": [],
   "source": [
    "tmp = X.loc[:, ['SalePrice']+tmp_cols_to_dummy]\n",
    "tmp['Alley'] = tmp.Alley.fillna('Pave')\n",
    "tmp['IsAlleyGravel'] = np.where(tmp['Alley'] == 'Pave', 0, 1)\n",
    "tmp.drop(columns=['Alley'], inplace=True)"
   ]
  },
  {
   "cell_type": "code",
   "execution_count": null,
   "id": "e26acb4b",
   "metadata": {
    "ExecuteTime": {
     "start_time": "2022-11-22T17:13:48.156Z"
    },
    "hidden": true
   },
   "outputs": [],
   "source": [
    "#corr_heatmap(tmp)"
   ]
  },
  {
   "cell_type": "markdown",
   "id": "3df311de",
   "metadata": {
    "hidden": true
   },
   "source": [
    "- Recode Alley into IsAlleyGravel: 2 categories"
   ]
  },
  {
   "cell_type": "markdown",
   "id": "09fff3c6",
   "metadata": {
    "hidden": true
   },
   "source": [
    "#### LotShape"
   ]
  },
  {
   "cell_type": "code",
   "execution_count": null,
   "id": "44546737",
   "metadata": {
    "ExecuteTime": {
     "start_time": "2022-11-22T17:13:48.163Z"
    },
    "hidden": true
   },
   "outputs": [],
   "source": [
    "tmp_cols_to_dummy = ['LotShape']\n",
    "tmp = X.loc[:, ['SalePrice']+tmp_cols_to_dummy]\n",
    "tmp = tmp.loc[tmp.SalePrice < 475000, :]\n",
    "#show_violin(tmp)\n",
    "#show_dummy_corr(tmp)\n",
    "#show_dist_cat(tmp)"
   ]
  },
  {
   "cell_type": "markdown",
   "id": "5c5e29f9",
   "metadata": {
    "hidden": true
   },
   "source": [
    "- Recode as IsShapeReg"
   ]
  },
  {
   "cell_type": "markdown",
   "id": "6a03bb9d",
   "metadata": {
    "hidden": true
   },
   "source": [
    "#### LandContour"
   ]
  },
  {
   "cell_type": "code",
   "execution_count": null,
   "id": "03e3c1b1",
   "metadata": {
    "ExecuteTime": {
     "start_time": "2022-11-22T17:13:48.170Z"
    },
    "hidden": true
   },
   "outputs": [],
   "source": [
    "tmp_cols_to_dummy = ['LandContour']\n",
    "tmp = X.loc[:, ['SalePrice']+tmp_cols_to_dummy]\n",
    "tmp = tmp.loc[tmp.SalePrice < 475000, :]\n",
    "#show_violin(tmp)\n",
    "#show_dummy_corr(tmp)\n",
    "#show_dist_cat(tmp)"
   ]
  },
  {
   "cell_type": "markdown",
   "id": "a4690c0a",
   "metadata": {
    "hidden": true
   },
   "source": [
    "- unite Lvl, Bnk\n",
    "- unite Low, HLS"
   ]
  },
  {
   "cell_type": "code",
   "execution_count": null,
   "id": "2597ca42",
   "metadata": {
    "ExecuteTime": {
     "start_time": "2022-11-22T17:13:48.175Z"
    },
    "hidden": true
   },
   "outputs": [],
   "source": [
    "tmp_cols_to_dummy = ['LandContour']\n",
    "tmp = X.loc[:, ['SalePrice']+tmp_cols_to_dummy]\n",
    "tmp['LandContour'] = tmp['LandContour'].replace(\n",
    "    {'Lvl': 'Norm', 'Bnk': 'Norm',\n",
    "    'Low': 'Ir', 'HLS': 'Ir'}\n",
    ")\n",
    "tmp['IsLandFlat'] = np.where(tmp['LandContour'] == 'Ir', 0, 1)\n",
    "tmp = tmp.loc[tmp.SalePrice < 475000, :]\n",
    "#show_violin(tmp)\n",
    "corr_heatmap(tmp)"
   ]
  },
  {
   "cell_type": "markdown",
   "id": "efd81856",
   "metadata": {
    "hidden": true
   },
   "source": [
    "#### LotConfig"
   ]
  },
  {
   "cell_type": "code",
   "execution_count": null,
   "id": "edc14f13",
   "metadata": {
    "ExecuteTime": {
     "start_time": "2022-11-22T17:13:48.181Z"
    },
    "hidden": true
   },
   "outputs": [],
   "source": [
    "tmp_cols_to_dummy = ['LotConfig']\n",
    "tmp = X.loc[:, ['SalePrice']+tmp_cols_to_dummy]\n",
    "tmp = tmp.loc[tmp.SalePrice < 475000, :]\n",
    "#show_violin(tmp)\n",
    "#show_dummy_corr(tmp)\n",
    "#show_dist_cat(tmp)"
   ]
  },
  {
   "cell_type": "markdown",
   "id": "fa5876ed",
   "metadata": {
    "hidden": true
   },
   "source": [
    "- unite CulDSac, FR3\n",
    "- unite Inside, FR2, Corner"
   ]
  },
  {
   "cell_type": "code",
   "execution_count": null,
   "id": "5dca232e",
   "metadata": {
    "ExecuteTime": {
     "start_time": "2022-11-22T17:13:48.187Z"
    },
    "hidden": true
   },
   "outputs": [],
   "source": [
    "tmp_cols_to_dummy = ['LotConfig']\n",
    "tmp = X.loc[:, ['SalePrice']+tmp_cols_to_dummy]\n",
    "tmp['LotConfig'] = tmp['LotConfig'].replace(\n",
    "    {'Inside': 'Norm', 'FR2': 'Norm', 'Corner': 'Norm',\n",
    "    'CulDSac': 'Ir', 'FR3': 'Ir'}\n",
    ")\n",
    "tmp['IsNarrow'] = np.where(tmp['LotConfig'] == 'Ir', 0, 1)\n",
    "tmp = tmp.loc[tmp.SalePrice < 475000, :]\n",
    "#corr_heatmap(tmp)"
   ]
  },
  {
   "cell_type": "markdown",
   "id": "bc86eb22",
   "metadata": {
    "hidden": true
   },
   "source": [
    "#### LandSlope"
   ]
  },
  {
   "cell_type": "code",
   "execution_count": null,
   "id": "f51e4ef3",
   "metadata": {
    "ExecuteTime": {
     "start_time": "2022-11-22T17:13:48.193Z"
    },
    "hidden": true
   },
   "outputs": [],
   "source": [
    "tmp_cols_to_dummy = ['LandSlope']\n",
    "tmp = X.loc[:, ['SalePrice']+tmp_cols_to_dummy]\n",
    "tmp = tmp.loc[tmp.SalePrice < 475000, :]\n",
    "#show_violin(tmp)\n",
    "#show_dummy_corr(tmp)\n",
    "#show_dist_cat(tmp)"
   ]
  },
  {
   "cell_type": "markdown",
   "id": "454cd562",
   "metadata": {
    "hidden": true
   },
   "source": [
    "- Recode as 0-1"
   ]
  },
  {
   "cell_type": "code",
   "execution_count": null,
   "id": "746acbc5",
   "metadata": {
    "ExecuteTime": {
     "start_time": "2022-11-22T17:13:48.199Z"
    },
    "hidden": true
   },
   "outputs": [],
   "source": [
    "tmp_cols_to_dummy = ['LandSlope']\n",
    "tmp = X.loc[:, ['SalePrice']+tmp_cols_to_dummy]\n",
    "tmp['IsSlope'] = np.where((tmp['LandSlope'] == 'Mod') | (tmp['LandSlope'] == 'Sev'), 1, 0)\n",
    "tmp = tmp.loc[tmp.SalePrice < 475000, :]\n",
    "#corr_heatmap(tmp)"
   ]
  },
  {
   "cell_type": "markdown",
   "id": "0ffa316e",
   "metadata": {
    "hidden": true
   },
   "source": [
    "- rather not significant"
   ]
  },
  {
   "cell_type": "markdown",
   "id": "e4e2961b",
   "metadata": {
    "hidden": true
   },
   "source": [
    "#### PavedDrive"
   ]
  },
  {
   "cell_type": "code",
   "execution_count": null,
   "id": "2925803e",
   "metadata": {
    "ExecuteTime": {
     "start_time": "2022-11-22T17:13:48.205Z"
    },
    "hidden": true
   },
   "outputs": [],
   "source": [
    "tmp_cols_to_dummy = ['PavedDrive']\n",
    "tmp = X.loc[:, ['SalePrice']+tmp_cols_to_dummy]\n",
    "tmp = tmp.loc[tmp.SalePrice < 475000, :]\n",
    "#show_violin(tmp)\n",
    "#show_dummy_corr(tmp)\n",
    "#show_dist_cat(tmp)"
   ]
  },
  {
   "cell_type": "markdown",
   "id": "bb90a0ef",
   "metadata": {
    "hidden": true
   },
   "source": [
    "- recode as 0-1"
   ]
  },
  {
   "cell_type": "code",
   "execution_count": null,
   "id": "de0692f6",
   "metadata": {
    "ExecuteTime": {
     "start_time": "2022-11-22T17:13:48.211Z"
    },
    "hidden": true
   },
   "outputs": [],
   "source": [
    "tmp_cols_to_dummy = ['PavedDrive']\n",
    "tmp = X.loc[:, ['SalePrice']+tmp_cols_to_dummy]\n",
    "tmp['IsPaved'] = np.where((tmp['PavedDrive'] == 'N') | (tmp['PavedDrive'] == 'P'), 0, 1)\n",
    "\n",
    "tmp = tmp.loc[tmp.SalePrice < 475000, :]\n",
    "#corr_heatmap(tmp)"
   ]
  },
  {
   "cell_type": "markdown",
   "id": "0d6ec390",
   "metadata": {
    "heading_collapsed": true,
    "hidden": true
   },
   "source": [
    "### Exterior"
   ]
  },
  {
   "cell_type": "code",
   "execution_count": null,
   "id": "48e1349e",
   "metadata": {
    "ExecuteTime": {
     "start_time": "2022-11-22T17:13:48.217Z"
    },
    "hidden": true
   },
   "outputs": [],
   "source": [
    "cols_to_dummy = ['MSSubClass', 'BldgType', 'HouseStyle', 'RoofStyle', 'RoofMatl', 'Exterior1st',\n",
    "                 'Exterior2nd', 'MasVnrType', 'ExterQual', 'ExterCond']\n",
    "X = data.copy()\n",
    "X = X.loc[:, cols_to_dummy+['SalePrice']]\n",
    "X['MSSubClass'] = X['MSSubClass'].astype(str)"
   ]
  },
  {
   "cell_type": "markdown",
   "id": "258ad8ba",
   "metadata": {
    "heading_collapsed": true,
    "hidden": true
   },
   "source": [
    "#### MSSubClass"
   ]
  },
  {
   "cell_type": "code",
   "execution_count": null,
   "id": "05329759",
   "metadata": {
    "ExecuteTime": {
     "start_time": "2022-11-22T17:13:48.223Z"
    },
    "hidden": true
   },
   "outputs": [],
   "source": [
    "tmp_cols_to_dummy = ['MSSubClass']\n",
    "tmp = X.loc[:, ['SalePrice']+tmp_cols_to_dummy]\n",
    "tmp = tmp.loc[tmp.SalePrice < 475000, :]\n",
    "#show_violin(tmp)\n",
    "#show_dummy_corr(tmp)\n",
    "#show_dist_cat(tmp)"
   ]
  },
  {
   "cell_type": "markdown",
   "id": "a421a3e3",
   "metadata": {
    "hidden": true
   },
   "source": [
    "- seems like could be explained from year built/number of floors\n",
    "- unite 50, 190\n",
    "- unite 20, 70, 75, 80\n",
    "- unite 90, 85, 160, 40\n",
    "- unite 45, 30, 180\n",
    "- unite 60, 120 (?)"
   ]
  },
  {
   "cell_type": "code",
   "execution_count": null,
   "id": "c23165cc",
   "metadata": {
    "ExecuteTime": {
     "start_time": "2022-11-22T17:13:48.229Z"
    },
    "hidden": true
   },
   "outputs": [],
   "source": [
    "tmp_cols_to_dummy = ['MSSubClass']\n",
    "tmp = X.loc[:, ['SalePrice']+tmp_cols_to_dummy]\n",
    "tmp['MSSubClass'] = tmp['MSSubClass'].replace(\n",
    "    {\n",
    "     '20': 'C2', '70': 'C2', '75': 'C2', '80': 'C2',\n",
    "     '90': 'C4', '85': 'C4', '40': 'C4', '160': 'C4', '50': 'C4', '190': 'C4',\n",
    "     '45': 'C3', '30': 'C3', '180': 'C3',\n",
    "     '60': 'C1', '120': 'C1',\n",
    "    }\n",
    ")\n",
    "tmp = tmp.loc[tmp.SalePrice < 475000, :]\n",
    "#show_violin(tmp)\n",
    "#show_dummy_corr(tmp)\n",
    "#show_dist_cat(tmp)"
   ]
  },
  {
   "cell_type": "markdown",
   "id": "4adfb606",
   "metadata": {
    "heading_collapsed": true,
    "hidden": true
   },
   "source": [
    "#### BldgType"
   ]
  },
  {
   "cell_type": "code",
   "execution_count": null,
   "id": "bf5f1d8a",
   "metadata": {
    "ExecuteTime": {
     "start_time": "2022-11-22T17:13:48.235Z"
    },
    "hidden": true,
    "scrolled": true
   },
   "outputs": [],
   "source": [
    "tmp_cols_to_dummy = ['BldgType']\n",
    "tmp = X.loc[:, ['SalePrice']+tmp_cols_to_dummy]\n",
    "tmp = tmp.loc[tmp.SalePrice < 475000, :]\n",
    "#show_violin(tmp)\n",
    "#show_dummy_corr(tmp)\n",
    "#show_dist_cat(tmp)"
   ]
  },
  {
   "cell_type": "markdown",
   "id": "5ddd21c0",
   "metadata": {
    "hidden": true
   },
   "source": [
    "- unite 1Fam, TwnhsE\n",
    "- unite 2fmCon, Duplex"
   ]
  },
  {
   "cell_type": "code",
   "execution_count": null,
   "id": "55b43711",
   "metadata": {
    "ExecuteTime": {
     "start_time": "2022-11-22T17:13:48.240Z"
    },
    "hidden": true
   },
   "outputs": [],
   "source": [
    "tmp_cols_to_dummy = ['BldgType']\n",
    "tmp = X.loc[:, ['SalePrice']+tmp_cols_to_dummy]\n",
    "tmp['BldgType'] = tmp['BldgType'].replace(\n",
    "    {'1Fam': 'C1', 'TwnhsE': 'C1',\n",
    "     'Twnhs': 'C2', 'Duplex': 'C2'\n",
    "    }\n",
    ")\n",
    "tmp = tmp.loc[tmp.SalePrice < 475000, :]\n",
    "#show_violin(tmp)\n",
    "#show_dummy_corr(tmp)\n",
    "#show_dist_cat(tmp)"
   ]
  },
  {
   "cell_type": "markdown",
   "id": "2f7ce1b6",
   "metadata": {
    "hidden": true
   },
   "source": [
    "- better as 0-1:"
   ]
  },
  {
   "cell_type": "code",
   "execution_count": null,
   "id": "40c1c79a",
   "metadata": {
    "ExecuteTime": {
     "start_time": "2022-11-22T17:13:48.246Z"
    },
    "hidden": true
   },
   "outputs": [],
   "source": [
    "tmp_cols_to_dummy = ['BldgType']\n",
    "tmp = X.loc[:, ['SalePrice']+tmp_cols_to_dummy]\n",
    "tmp['IsOneFamily'] = np.where(tmp['BldgType'] == '1Fam', 1, 0)\n",
    "tmp = tmp.loc[tmp.SalePrice < 475000, :]\n",
    "corr_heatmap(tmp)"
   ]
  },
  {
   "cell_type": "markdown",
   "id": "4dcc5bd8",
   "metadata": {
    "heading_collapsed": true,
    "hidden": true
   },
   "source": [
    "#### HouseStyle"
   ]
  },
  {
   "cell_type": "code",
   "execution_count": null,
   "id": "fb40fb01",
   "metadata": {
    "ExecuteTime": {
     "start_time": "2022-11-22T17:13:48.252Z"
    },
    "hidden": true
   },
   "outputs": [],
   "source": [
    "tmp_cols_to_dummy = ['HouseStyle']\n",
    "tmp = X.loc[:, ['SalePrice']+tmp_cols_to_dummy]\n",
    "tmp = tmp.loc[tmp.SalePrice < 475000, :]\n",
    "#show_violin(tmp)\n",
    "#show_dummy_corr(tmp)\n",
    "#show_dist_cat(tmp)"
   ]
  },
  {
   "cell_type": "code",
   "execution_count": null,
   "id": "d2cf5fc5",
   "metadata": {
    "ExecuteTime": {
     "start_time": "2022-11-22T17:13:48.257Z"
    },
    "hidden": true
   },
   "outputs": [],
   "source": [
    "tmp_cols_to_dummy = ['HouseStyle']\n",
    "tmp = X.loc[:, ['SalePrice']+tmp_cols_to_dummy]\n",
    "tmp['HouseStyle'] = tmp['HouseStyle'].replace(\n",
    "    {'SFoyer': '1', 'SLvl': '1', '1Story': '1',\n",
    "     '1.5Fin': '1.5', '1.5Unf': '1.5',\n",
    "     '2Story': '2',\n",
    "     '2.5Fin': '2.5', '2.5Unf': '2.5',\n",
    "    }\n",
    ")\n",
    "tmp = tmp.loc[tmp.SalePrice < 475000, :]\n",
    "#show_violin(tmp)\n",
    "#show_dummy_corr(tmp)"
   ]
  },
  {
   "cell_type": "markdown",
   "id": "07123f34",
   "metadata": {
    "hidden": true
   },
   "source": [
    "- better recode as 0-1"
   ]
  },
  {
   "cell_type": "code",
   "execution_count": null,
   "id": "c0d63a1d",
   "metadata": {
    "ExecuteTime": {
     "start_time": "2022-11-22T17:13:48.263Z"
    },
    "hidden": true
   },
   "outputs": [],
   "source": [
    "tmp_cols_to_dummy = ['HouseStyle']\n",
    "tmp = X.loc[:, ['SalePrice']+tmp_cols_to_dummy]\n",
    "tmp['IsOneFloor'] = tmp['HouseStyle'].replace(\n",
    "    {'SFoyer': '1', 'SLvl': '1', '1Story': '1',\n",
    "     '1.5Fin': '1', '1.5Unf': '1',\n",
    "     '2Story': '0', '2.5Fin': '0', '2.5Unf': '0',\n",
    "    }\n",
    ").astype(np.int64)\n",
    "\n",
    "tmp = tmp.loc[tmp.SalePrice < 475000, :]\n",
    "corr_heatmap(tmp)"
   ]
  },
  {
   "cell_type": "markdown",
   "id": "d11406e6",
   "metadata": {
    "heading_collapsed": true,
    "hidden": true
   },
   "source": [
    "#### RoofStyle"
   ]
  },
  {
   "cell_type": "code",
   "execution_count": null,
   "id": "bace637b",
   "metadata": {
    "ExecuteTime": {
     "start_time": "2022-11-22T17:13:48.269Z"
    },
    "hidden": true
   },
   "outputs": [],
   "source": [
    "tmp_cols_to_dummy = ['RoofStyle']\n",
    "tmp = X.loc[:, ['SalePrice']+tmp_cols_to_dummy]\n",
    "tmp = tmp.loc[tmp.SalePrice < 475000, :]\n",
    "#show_violin(tmp)\n",
    "#show_dummy_corr(tmp)\n",
    "#show_dist_cat(tmp)"
   ]
  },
  {
   "cell_type": "markdown",
   "id": "428b1cfc",
   "metadata": {
    "hidden": true
   },
   "source": [
    "- recode into Gable, Hip, other"
   ]
  },
  {
   "cell_type": "code",
   "execution_count": null,
   "id": "50222fbe",
   "metadata": {
    "ExecuteTime": {
     "start_time": "2022-11-22T17:13:48.274Z"
    },
    "hidden": true
   },
   "outputs": [],
   "source": [
    "tmp_cols_to_dummy = ['RoofStyle']\n",
    "tmp = X.loc[:, ['SalePrice']+tmp_cols_to_dummy]\n",
    "tmp['RoofStyle'] = np.where((tmp['RoofStyle'] != 'Gable') & (tmp['RoofStyle'] != 'Hip'),\n",
    "                            'Other',\n",
    "                            tmp['RoofStyle'])\n",
    "tmp = tmp.loc[tmp.SalePrice < 475000, :]\n",
    "#show_violin(tmp)\n",
    "#show_dummy_corr(tmp)"
   ]
  },
  {
   "cell_type": "markdown",
   "id": "64fbb764",
   "metadata": {
    "hidden": true
   },
   "source": [
    "- better isGable"
   ]
  },
  {
   "cell_type": "code",
   "execution_count": null,
   "id": "0f022a47",
   "metadata": {
    "ExecuteTime": {
     "start_time": "2022-11-22T17:13:48.280Z"
    },
    "hidden": true
   },
   "outputs": [],
   "source": [
    "tmp_cols_to_dummy = ['RoofStyle']\n",
    "tmp = X.loc[:, ['SalePrice']+tmp_cols_to_dummy]\n",
    "tmp['IsRoofGable'] = np.where(tmp['RoofStyle'] == 'Gable', 1, 0)\n",
    "tmp = tmp.loc[tmp.SalePrice < 475000, :]\n",
    "#corr_heatmap(tmp)"
   ]
  },
  {
   "cell_type": "markdown",
   "id": "ba3fcbdd",
   "metadata": {
    "heading_collapsed": true,
    "hidden": true
   },
   "source": [
    "#### RoofMatl"
   ]
  },
  {
   "cell_type": "code",
   "execution_count": null,
   "id": "a5cde9ad",
   "metadata": {
    "ExecuteTime": {
     "start_time": "2022-11-22T17:13:48.286Z"
    },
    "hidden": true
   },
   "outputs": [],
   "source": [
    "tmp_cols_to_dummy = ['RoofMatl']\n",
    "tmp = X.loc[:, ['SalePrice']+tmp_cols_to_dummy]\n",
    "tmp = tmp.loc[tmp.SalePrice < 475000, :]\n",
    "#show_violin(tmp)\n",
    "#show_dummy_corr(tmp)\n",
    "#show_dist_cat(tmp)"
   ]
  },
  {
   "cell_type": "markdown",
   "id": "83d469fb",
   "metadata": {
    "hidden": true
   },
   "source": [
    "- see, most of the roofs are Standard(Composite) shingle"
   ]
  },
  {
   "cell_type": "markdown",
   "id": "d3c2e665",
   "metadata": {
    "heading_collapsed": true,
    "hidden": true
   },
   "source": [
    "#### Exterior"
   ]
  },
  {
   "cell_type": "code",
   "execution_count": null,
   "id": "9c4375e9",
   "metadata": {
    "ExecuteTime": {
     "start_time": "2022-11-22T17:13:48.293Z"
    },
    "hidden": true
   },
   "outputs": [],
   "source": [
    "tmp_cols_to_dummy = ['Exterior1st']\n",
    "tmp = X.loc[:, ['SalePrice']+tmp_cols_to_dummy]\n",
    "tmp = tmp.loc[tmp.SalePrice < 475000, :]\n",
    "#show_violin(tmp)\n",
    "#show_dummy_corr(tmp)\n",
    "#show_dist_cat(tmp)"
   ]
  },
  {
   "cell_type": "markdown",
   "id": "20ebfdc2",
   "metadata": {
    "hidden": true
   },
   "source": [
    "- unite BrkFace, BrkComm\n",
    "- unite AsphShn, AsbShng, ImStucc, Stucco\n",
    "- unite Wd Sdng, WdShing, Plywood, HdBoard\n",
    "- unite Stone, CBlock"
   ]
  },
  {
   "cell_type": "code",
   "execution_count": null,
   "id": "49ebd354",
   "metadata": {
    "ExecuteTime": {
     "start_time": "2022-11-22T17:13:48.298Z"
    },
    "hidden": true,
    "scrolled": true
   },
   "outputs": [],
   "source": [
    "tmp_cols_to_dummy = ['Exterior1st']\n",
    "tmp = X.loc[:, ['SalePrice']+tmp_cols_to_dummy]\n",
    "tmp['Exterior1st'] = tmp['Exterior1st'].replace(\n",
    "    {'BrkFace': 'C1', 'BrkComm': 'C1', 'Plywood': 'C1', 'BrkCmn': 'C1',\n",
    "     'Wd Sdng': 'C4', 'Wd Shng': 'C4', 'WdShing': 'C4', 'Stucco': 'C4',\n",
    "     'HdBoard': 'C4', 'MetalSd': 'C4',\n",
    "     'AsphShn': 'C5', 'AsbShng': 'C5', 'ImStucc': 'C5', 'CBlock': 'C5',\n",
    "     'CmentBd': 'C2', 'Stone': 'C2', 'CemntBd': 'C2', 'Other': 'C2',\n",
    "     'VinylSd': 'C3'\n",
    "    }\n",
    ")\n",
    "tmp = tmp.loc[tmp.SalePrice < 475000, :]\n",
    "#show_violin(tmp)\n",
    "#show_dummy_corr(tmp)\n",
    "#show_dist_cat(tmp)"
   ]
  },
  {
   "cell_type": "markdown",
   "id": "44406ff4",
   "metadata": {
    "heading_collapsed": true,
    "hidden": true
   },
   "source": [
    "#### Exterior 2"
   ]
  },
  {
   "cell_type": "code",
   "execution_count": null,
   "id": "7b3f5226",
   "metadata": {
    "ExecuteTime": {
     "start_time": "2022-11-22T17:13:48.304Z"
    },
    "hidden": true
   },
   "outputs": [],
   "source": [
    "tmp_cols_to_dummy = ['Exterior2nd']\n",
    "tmp = X.loc[:, ['SalePrice']+tmp_cols_to_dummy]\n",
    "tmp['Exterior2nd'] = tmp['Exterior2nd'].replace(\n",
    "    {'BrkFace': 'C1', 'BrkComm': 'C1', 'Plywood': 'C1', 'Brk Cmn': 'C1',\n",
    "     'Wd Sdng': 'C4', 'Wd Shng': 'C4', 'WdShing': 'C4', 'Stucco': 'C4',\n",
    "     'HdBoard': 'C4', 'MetalSd': 'C4',\n",
    "     'AsphShn': 'C5', 'AsbShng': 'C5', 'ImStucc': 'C5', 'CBlock': 'C5',\n",
    "     'CmentBd': 'C2', 'Stone': 'C2', 'CemntBd': 'C2', 'Other': 'C2',\n",
    "     'VinylSd': 'C3'\n",
    "    }\n",
    ")\n",
    "tmp = tmp.loc[tmp.SalePrice < 475000, :]\n",
    "#show_violin(tmp)\n",
    "#show_dummy_corr(tmp)\n",
    "#show_dist_cat(tmp)"
   ]
  },
  {
   "cell_type": "markdown",
   "id": "30a63203",
   "metadata": {
    "heading_collapsed": true,
    "hidden": true
   },
   "source": [
    "#### MasVnrType"
   ]
  },
  {
   "cell_type": "code",
   "execution_count": null,
   "id": "fb823468",
   "metadata": {
    "ExecuteTime": {
     "start_time": "2022-11-22T17:13:48.309Z"
    },
    "hidden": true
   },
   "outputs": [],
   "source": [
    "tmp_cols_to_dummy = ['MasVnrType']\n",
    "tmp = X.loc[:, ['SalePrice']+tmp_cols_to_dummy]\n",
    "tmp['MasVnrType'] = tmp['MasVnrType'].replace(\n",
    "    {'BrkFace': 'Brick', 'BrkCmn': 'Brick'}\n",
    ")\n",
    "tmp = tmp.loc[tmp.SalePrice < 475000, :]\n",
    "#show_violin(tmp)\n",
    "#show_dummy_corr(tmp)\n",
    "#show_dist_cat(tmp)"
   ]
  },
  {
   "cell_type": "markdown",
   "id": "b5b5c3d7",
   "metadata": {
    "heading_collapsed": true,
    "hidden": true
   },
   "source": [
    "#### ExterQual, ExterCond"
   ]
  },
  {
   "cell_type": "markdown",
   "id": "26c21df0",
   "metadata": {
    "hidden": true
   },
   "source": [
    "defenitely narrow to Good, Norm, Bad"
   ]
  },
  {
   "cell_type": "code",
   "execution_count": null,
   "id": "381a68df",
   "metadata": {
    "ExecuteTime": {
     "start_time": "2022-11-22T17:13:48.316Z"
    },
    "hidden": true
   },
   "outputs": [],
   "source": [
    "tmp_cols_to_dummy = ['ExterQual', 'ExterCond']\n",
    "tmp = X.loc[:, ['SalePrice']+tmp_cols_to_dummy]\n",
    "tmp['ExterQual'] = tmp['ExterQual'].replace(\n",
    "    {'Ex': 'Good', 'Gd': 'Good', 'TA': 'Norm', 'Fa': 'Bad', 'Po': 'Bad'}\n",
    ")\n",
    "tmp['ExterCond'] = tmp['ExterCond'].replace(\n",
    "    {'Ex': 'Good', 'Gd': 'Good', 'TA': 'Norm', 'Fa': 'Bad', 'Po': 'Bad'}\n",
    ")\n",
    "tmp = tmp.loc[tmp.SalePrice < 475000, :]\n",
    "#show_violin(tmp)\n",
    "#show_dummy_corr(tmp)\n",
    "#show_dist_cat(tmp)"
   ]
  },
  {
   "cell_type": "markdown",
   "id": "4478dcc1",
   "metadata": {
    "heading_collapsed": true,
    "hidden": true
   },
   "source": [
    "### Basement"
   ]
  },
  {
   "cell_type": "code",
   "execution_count": null,
   "id": "8207d4fc",
   "metadata": {
    "ExecuteTime": {
     "start_time": "2022-11-22T17:13:48.321Z"
    },
    "hidden": true
   },
   "outputs": [],
   "source": [
    "cols_to_dummy = ['Foundation', 'BsmtQual', 'BsmtCond',\n",
    "                 'BsmtExposure', 'BsmtFinType1', 'BsmtFinType2']\n",
    "X = data.copy()\n",
    "X = X.loc[:, cols_to_dummy+['SalePrice']]"
   ]
  },
  {
   "cell_type": "markdown",
   "id": "3fe940a3",
   "metadata": {
    "hidden": true
   },
   "source": [
    "#### Foundation"
   ]
  },
  {
   "cell_type": "code",
   "execution_count": null,
   "id": "9d8fa20a",
   "metadata": {
    "ExecuteTime": {
     "start_time": "2022-11-22T17:13:48.327Z"
    },
    "hidden": true
   },
   "outputs": [],
   "source": [
    "tmp_cols_to_dummy = ['Foundation']\n",
    "tmp = X.loc[:, ['SalePrice']+tmp_cols_to_dummy]\n",
    "tmp = tmp.loc[tmp.SalePrice < 475000, :]\n",
    "#show_violin(tmp)\n",
    "#show_dummy_corr(tmp)"
   ]
  },
  {
   "cell_type": "markdown",
   "id": "feaae615",
   "metadata": {
    "hidden": true
   },
   "source": [
    "- recode as 0-1"
   ]
  },
  {
   "cell_type": "code",
   "execution_count": null,
   "id": "0f6154d5",
   "metadata": {
    "ExecuteTime": {
     "start_time": "2022-11-22T17:13:48.333Z"
    },
    "hidden": true
   },
   "outputs": [],
   "source": [
    "tmp_cols_to_dummy = ['Foundation']\n",
    "tmp = X.loc[:, ['SalePrice']+tmp_cols_to_dummy]\n",
    "tmp['IsFoundConcrete'] = np.where(tmp['Foundation'] == 'PConc', 1, 0)\n",
    "tmp = tmp.loc[tmp.SalePrice < 475000, :]\n",
    "tmp_cols_to_dummy = ['Foundation', 'IsFoundConcrete']\n",
    "#corr_heatmap(tmp)"
   ]
  },
  {
   "cell_type": "markdown",
   "id": "6417b160",
   "metadata": {
    "hidden": true
   },
   "source": [
    "#### BsmtQual, BsmtCond"
   ]
  },
  {
   "cell_type": "code",
   "execution_count": null,
   "id": "bcfed1b1",
   "metadata": {
    "ExecuteTime": {
     "start_time": "2022-11-22T17:13:48.338Z"
    },
    "hidden": true
   },
   "outputs": [],
   "source": [
    "tmp_cols_to_dummy = ['BsmtQual', 'BsmtCond']\n",
    "tmp = X.loc[:, ['SalePrice']+tmp_cols_to_dummy]\n",
    "tmp = tmp.loc[tmp.SalePrice < 475000, :]\n",
    "tmp['BsmtCond'] = tmp['BsmtCond'].fillna('Absent')\n",
    "tmp['BsmtQual'] = tmp['BsmtQual'].fillna('Absent')\n",
    "tmp['BsmtQual'] = tmp['BsmtQual'].replace(\n",
    "    {'Ex': 'Good', 'Gd': 'Good', 'TA': 'Norm', 'Fa': 'Bad', 'Po': 'Bad'}\n",
    ")\n",
    "tmp['BsmtCond'] = tmp['BsmtCond'].replace(\n",
    "    {'Ex': 'Good', 'Gd': 'Good', 'TA': 'Norm', 'Fa': 'Bad', 'Po': 'Bad'}\n",
    ")\n",
    "#show_violin(tmp)\n",
    "#show_dummy_corr(tmp)\n",
    "#show_dist_cat(tmp)"
   ]
  },
  {
   "cell_type": "code",
   "execution_count": null,
   "id": "727da568",
   "metadata": {
    "ExecuteTime": {
     "start_time": "2022-11-22T17:13:48.343Z"
    },
    "hidden": true
   },
   "outputs": [],
   "source": [
    "tmp_cols_to_dummy = ['BsmtQual', 'BsmtCond']\n",
    "tmp = X.loc[:, ['SalePrice']+tmp_cols_to_dummy]\n",
    "tmp = tmp.loc[tmp.SalePrice < 475000, :]\n",
    "tmp['BsmtQual'] = tmp['BsmtQual'].replace(\n",
    "    {'Ex': 'Good', 'Gd': 'Good', 'TA': 'Good', 'Fa': 'Bad', 'Po': 'Bad'}\n",
    ")\n",
    "tmp['BsmtCond'] = tmp['BsmtCond'].replace(\n",
    "    {'Ex': 'Good', 'Gd': 'Good', 'TA': 'Good', 'Fa': 'Bad', 'Po': 'Bad'}\n",
    ")\n",
    "tmp['IsBsmCondGood'] = np.where(tmp['BsmtCond'] == 'Good', 1, 0)\n",
    "tmp['IsBsmQualGood'] = np.where(tmp['BsmtQual'] == 'Good', 1, 0)\n",
    "#corr_heatmap(tmp)"
   ]
  },
  {
   "cell_type": "markdown",
   "id": "ede29e0e",
   "metadata": {
    "hidden": true
   },
   "source": [
    "- pretty big correlation between 2 vars; rare => rather drop"
   ]
  },
  {
   "cell_type": "markdown",
   "id": "d54edbf9",
   "metadata": {
    "hidden": true
   },
   "source": [
    "#### BsmtExposure"
   ]
  },
  {
   "cell_type": "code",
   "execution_count": null,
   "id": "3f80b346",
   "metadata": {
    "ExecuteTime": {
     "start_time": "2022-11-22T17:13:48.350Z"
    },
    "hidden": true
   },
   "outputs": [],
   "source": [
    "tmp_cols_to_dummy = ['BsmtExposure']\n",
    "tmp = X.loc[:, ['SalePrice']+tmp_cols_to_dummy]\n",
    "tmp['BsmtExposure'] = tmp['BsmtExposure'].fillna('Absent')\n",
    "tmp = tmp.loc[tmp.SalePrice < 475000, :]\n",
    "#show_violin(tmp)\n",
    "#show_dummy_corr(tmp)\n",
    "#show_dist_cat(tmp)"
   ]
  },
  {
   "cell_type": "markdown",
   "id": "7230ef71",
   "metadata": {
    "hidden": true
   },
   "source": [
    "- unite Mn and Av"
   ]
  },
  {
   "cell_type": "code",
   "execution_count": null,
   "id": "8bf74aa9",
   "metadata": {
    "ExecuteTime": {
     "start_time": "2022-11-22T17:13:48.356Z"
    },
    "hidden": true
   },
   "outputs": [],
   "source": [
    "tmp_cols_to_dummy = ['BsmtExposure']\n",
    "tmp = X.loc[:, ['SalePrice']+tmp_cols_to_dummy]\n",
    "tmp['BsmtExposure'] = tmp['BsmtExposure'].fillna('Absent')\n",
    "tmp['BsmtExposure'] = tmp['BsmtExposure'].replace(\n",
    "    {'Mn': 'Norm', 'Av': 'Norm', 'Absent': 'No'}\n",
    ")\n",
    "tmp['IsBsmExpGood'] = np.where(X['BsmtExposure'] == 'Norm', '0', '1')\n",
    "tmp = tmp.loc[tmp.SalePrice < 475000, :]\n",
    "#show_violin(tmp)\n",
    "#show_dummy_corr(tmp)\n",
    "#show_dist_cat(tmp)"
   ]
  },
  {
   "cell_type": "markdown",
   "id": "1f36cc0f",
   "metadata": {
    "hidden": true
   },
   "source": [
    "- Normal Exposure - reference point"
   ]
  },
  {
   "cell_type": "markdown",
   "id": "efe5a1d3",
   "metadata": {
    "hidden": true
   },
   "source": [
    "#### BsmtFinType1"
   ]
  },
  {
   "cell_type": "code",
   "execution_count": null,
   "id": "37833112",
   "metadata": {
    "ExecuteTime": {
     "start_time": "2022-11-22T17:13:48.363Z"
    },
    "hidden": true
   },
   "outputs": [],
   "source": [
    "tmp_cols_to_dummy = ['BsmtFinType1']\n",
    "tmp = X.loc[:, ['SalePrice']+tmp_cols_to_dummy]\n",
    "tmp['BsmtFinType1'] = tmp['BsmtFinType1'].fillna('Absent')\n",
    "tmp = tmp.loc[tmp.SalePrice < 475000, :]\n",
    "#show_violin(tmp)\n",
    "#show_dummy_corr(tmp)\n",
    "#show_dist_cat(tmp)"
   ]
  },
  {
   "cell_type": "markdown",
   "id": "bfb466de",
   "metadata": {
    "hidden": true
   },
   "source": [
    "- unite Rec, LWQ, ALQ, BLQ, Absent (too low)\n",
    "- Unf\n",
    "- GLQ"
   ]
  },
  {
   "cell_type": "markdown",
   "id": "1e6527e3",
   "metadata": {
    "ExecuteTime": {
     "end_time": "2022-11-02T08:23:04.602056Z",
     "start_time": "2022-11-02T08:23:04.595054Z"
    },
    "heading_collapsed": true,
    "hidden": true
   },
   "source": [
    "### Garage"
   ]
  },
  {
   "cell_type": "code",
   "execution_count": null,
   "id": "b686a8a9",
   "metadata": {
    "ExecuteTime": {
     "start_time": "2022-11-22T17:13:48.370Z"
    },
    "hidden": true
   },
   "outputs": [],
   "source": [
    "cols_to_dummy = ['GarageType', 'GarageFinish', 'GarageQual', 'GarageCond']\n",
    "X = data.copy()\n",
    "X = X.loc[:, cols_to_dummy+['SalePrice']]"
   ]
  },
  {
   "cell_type": "markdown",
   "id": "c4016390",
   "metadata": {
    "heading_collapsed": true,
    "hidden": true
   },
   "source": [
    "#### GarageType"
   ]
  },
  {
   "cell_type": "code",
   "execution_count": null,
   "id": "9a4e5133",
   "metadata": {
    "ExecuteTime": {
     "start_time": "2022-11-22T17:13:48.376Z"
    },
    "hidden": true
   },
   "outputs": [],
   "source": [
    "tmp_cols_to_dummy = ['GarageType']\n",
    "tmp = X.loc[:, ['SalePrice']+tmp_cols_to_dummy]\n",
    "tmp['GarageType'] = tmp['GarageType'].fillna('Absent')\n",
    "tmp = tmp.loc[tmp.SalePrice < 475000, :]\n",
    "#show_dummy_corr(tmp)\n",
    "#show_dist_cat(tmp)\n",
    "#show_violin(tmp)"
   ]
  },
  {
   "cell_type": "markdown",
   "id": "33cae616",
   "metadata": {
    "hidden": true
   },
   "source": [
    "- unite DetchId, CarPort, 2Types, Basment\n",
    "- i.e. 4 categories"
   ]
  },
  {
   "cell_type": "markdown",
   "id": "25e113e3",
   "metadata": {
    "heading_collapsed": true,
    "hidden": true
   },
   "source": [
    "#### GarageFinish"
   ]
  },
  {
   "cell_type": "code",
   "execution_count": null,
   "id": "44dbfb93",
   "metadata": {
    "ExecuteTime": {
     "start_time": "2022-11-22T17:13:48.383Z"
    },
    "hidden": true
   },
   "outputs": [],
   "source": [
    "tmp_cols_to_dummy = ['GarageFinish']\n",
    "tmp = X.loc[:, ['SalePrice']+tmp_cols_to_dummy]\n",
    "tmp['GarageFinish'] = tmp['GarageFinish'].fillna('Absent')\n",
    "tmp = tmp.loc[tmp.SalePrice < 475000, :]\n",
    "#show_dummy_corr(tmp)\n",
    "#show_dist_cat(tmp)\n",
    "#show_violin(tmp)"
   ]
  },
  {
   "cell_type": "markdown",
   "id": "dff5244f",
   "metadata": {
    "hidden": true
   },
   "source": [
    "- Recode as IsGarFin"
   ]
  },
  {
   "cell_type": "markdown",
   "id": "8463e26f",
   "metadata": {
    "hidden": true
   },
   "source": [
    "#### GarageCond, GarageQual"
   ]
  },
  {
   "cell_type": "code",
   "execution_count": null,
   "id": "d76d9f7c",
   "metadata": {
    "ExecuteTime": {
     "start_time": "2022-11-22T17:13:48.390Z"
    },
    "hidden": true,
    "scrolled": true
   },
   "outputs": [],
   "source": [
    "tmp_cols_to_dummy = ['GarageCond']\n",
    "tmp = X.loc[:, ['SalePrice']+tmp_cols_to_dummy]\n",
    "tmp['GarageCond'] = tmp['GarageCond'].fillna('Absent')\n",
    "tmp = tmp.loc[tmp.SalePrice < 475000, :]\n",
    "#show_dummy_corr(tmp)\n",
    "#show_dist_cat(tmp)\n",
    "#show_violin(tmp)"
   ]
  },
  {
   "cell_type": "code",
   "execution_count": null,
   "id": "6938bfc7",
   "metadata": {
    "ExecuteTime": {
     "start_time": "2022-11-22T17:13:48.395Z"
    },
    "hidden": true
   },
   "outputs": [],
   "source": [
    "tmp_cols_to_dummy = ['GarageQual']\n",
    "tmp = X.loc[:, ['SalePrice']+tmp_cols_to_dummy]\n",
    "tmp['GarageQual'] = tmp['GarageQual'].fillna('Absent')\n",
    "tmp = tmp.loc[tmp.SalePrice < 475000, :]\n",
    "#show_dummy_corr(tmp)\n",
    "#show_dist_cat(tmp)\n",
    "#show_violin(tmp)"
   ]
  },
  {
   "cell_type": "markdown",
   "id": "8ceb9a3a",
   "metadata": {
    "heading_collapsed": true,
    "hidden": true
   },
   "source": [
    "### Services"
   ]
  },
  {
   "cell_type": "code",
   "execution_count": null,
   "id": "3b0731e9",
   "metadata": {
    "ExecuteTime": {
     "start_time": "2022-11-22T17:13:48.401Z"
    },
    "hidden": true
   },
   "outputs": [],
   "source": [
    "cols_to_dummy = ['Heating', 'HeatingQC', 'CentralAir', 'Electrical', 'Functional', 'Utilities',\n",
    "                 'KitchenQual']\n",
    "X = data.copy()\n",
    "X = X.loc[:, cols_to_dummy+['SalePrice']]"
   ]
  },
  {
   "cell_type": "markdown",
   "id": "d8b61c96",
   "metadata": {
    "hidden": true
   },
   "source": [
    "#### Heating"
   ]
  },
  {
   "cell_type": "code",
   "execution_count": null,
   "id": "5fc5be70",
   "metadata": {
    "ExecuteTime": {
     "start_time": "2022-11-22T17:13:48.407Z"
    },
    "hidden": true
   },
   "outputs": [],
   "source": [
    "tmp_cols_to_dummy = ['Heating']\n",
    "tmp = X.loc[:, ['SalePrice']+tmp_cols_to_dummy]\n",
    "tmp = tmp.loc[tmp.SalePrice < 475000, :]\n",
    "#show_dummy_corr(tmp)\n",
    "#show_dist_cat(tmp)\n",
    "#show_violin(tmp)"
   ]
  },
  {
   "cell_type": "markdown",
   "id": "916de9a8",
   "metadata": {
    "hidden": true
   },
   "source": [
    "- not very informative"
   ]
  },
  {
   "cell_type": "markdown",
   "id": "dbf7ec8b",
   "metadata": {
    "hidden": true
   },
   "source": [
    "#### HeatingQC"
   ]
  },
  {
   "cell_type": "code",
   "execution_count": null,
   "id": "617cc96c",
   "metadata": {
    "ExecuteTime": {
     "start_time": "2022-11-22T17:13:48.414Z"
    },
    "hidden": true,
    "scrolled": true
   },
   "outputs": [],
   "source": [
    "tmp_cols_to_dummy = ['HeatingQC']\n",
    "tmp = X.loc[:, ['SalePrice']+tmp_cols_to_dummy]\n",
    "tmp = tmp.loc[tmp.SalePrice < 475000, :]\n",
    "#show_dummy_corr(tmp)\n",
    "#show_dist_cat(tmp)\n",
    "#show_violin(tmp)"
   ]
  },
  {
   "cell_type": "code",
   "execution_count": null,
   "id": "1e8c085c",
   "metadata": {
    "ExecuteTime": {
     "start_time": "2022-11-22T17:13:48.419Z"
    },
    "hidden": true
   },
   "outputs": [],
   "source": [
    "tmp_cols_to_dummy = ['HeatingQC']\n",
    "tmp = X.loc[:, ['SalePrice']+tmp_cols_to_dummy]\n",
    "tmp['HeatingQC'] = tmp['HeatingQC'].replace(\n",
    "    {'Ex': 'Good', 'Gd': 'Good', 'TA': 'Norm', 'Fa': 'Bad', 'Po': 'Bad'}\n",
    ")\n",
    "tmp = tmp.loc[tmp.SalePrice < 475000, :]\n",
    "#show_dummy_corr(tmp)\n",
    "#show_dist_cat(tmp)\n",
    "#show_violin(tmp)"
   ]
  },
  {
   "cell_type": "markdown",
   "id": "51092b1d",
   "metadata": {
    "hidden": true
   },
   "source": [
    "#### CentralAir"
   ]
  },
  {
   "cell_type": "code",
   "execution_count": null,
   "id": "95a0719a",
   "metadata": {
    "ExecuteTime": {
     "start_time": "2022-11-22T17:13:48.424Z"
    },
    "hidden": true
   },
   "outputs": [],
   "source": [
    "tmp_cols_to_dummy = ['CentralAir']\n",
    "tmp = X.loc[:, ['SalePrice']+tmp_cols_to_dummy]\n",
    "tmp = tmp.loc[tmp.SalePrice < 475000, :]\n",
    "#show_dummy_corr(tmp)\n",
    "#show_dist_cat(tmp)\n",
    "#show_violin(tmp)"
   ]
  },
  {
   "cell_type": "markdown",
   "id": "d9747114",
   "metadata": {
    "hidden": true
   },
   "source": [
    "- keep as it is"
   ]
  },
  {
   "cell_type": "markdown",
   "id": "cb7d735f",
   "metadata": {
    "hidden": true
   },
   "source": [
    "#### Electrical"
   ]
  },
  {
   "cell_type": "code",
   "execution_count": null,
   "id": "79127335",
   "metadata": {
    "ExecuteTime": {
     "start_time": "2022-11-22T17:13:48.431Z"
    },
    "hidden": true
   },
   "outputs": [],
   "source": [
    "tmp_cols_to_dummy = ['Electrical']\n",
    "tmp = X.loc[:, ['SalePrice']+tmp_cols_to_dummy]\n",
    "tmp = tmp.loc[tmp.SalePrice < 475000, :]\n",
    "#show_dummy_corr(tmp)\n",
    "#show_dist_cat(tmp)\n",
    "#show_violin(tmp)"
   ]
  },
  {
   "cell_type": "markdown",
   "id": "afc607f6",
   "metadata": {
    "hidden": true
   },
   "source": [
    "#### Functional"
   ]
  },
  {
   "cell_type": "code",
   "execution_count": null,
   "id": "74acd1e5",
   "metadata": {
    "ExecuteTime": {
     "start_time": "2022-11-22T17:13:48.437Z"
    },
    "hidden": true
   },
   "outputs": [],
   "source": [
    "tmp_cols_to_dummy = ['Functional']\n",
    "tmp = X.loc[:, ['SalePrice']+tmp_cols_to_dummy]\n",
    "tmp = tmp.loc[tmp.SalePrice < 475000, :]\n",
    "#show_dummy_corr(tmp)\n",
    "#show_dist_cat(tmp)\n",
    "#show_violin(tmp)"
   ]
  },
  {
   "cell_type": "markdown",
   "id": "c5ff22ac",
   "metadata": {
    "hidden": true
   },
   "source": [
    "- more rare variable, rather drop"
   ]
  },
  {
   "cell_type": "markdown",
   "id": "9c3f6081",
   "metadata": {
    "hidden": true
   },
   "source": [
    "#### Utilities"
   ]
  },
  {
   "cell_type": "code",
   "execution_count": null,
   "id": "bf49681e",
   "metadata": {
    "ExecuteTime": {
     "start_time": "2022-11-22T17:13:48.444Z"
    },
    "hidden": true
   },
   "outputs": [],
   "source": [
    "tmp_cols_to_dummy = ['Utilities']\n",
    "tmp = X.loc[:, ['SalePrice']+tmp_cols_to_dummy]\n",
    "tmp = tmp.loc[tmp.SalePrice < 475000, :]\n",
    "#show_dummy_corr(tmp)\n",
    "#show_dist_cat(tmp)\n",
    "#show_violin(tmp)"
   ]
  },
  {
   "cell_type": "markdown",
   "id": "0de58edf",
   "metadata": {
    "hidden": true
   },
   "source": [
    "- only 1 house without utilities"
   ]
  },
  {
   "cell_type": "markdown",
   "id": "d90a2b4c",
   "metadata": {
    "hidden": true
   },
   "source": [
    "#### KitchenQual"
   ]
  },
  {
   "cell_type": "code",
   "execution_count": null,
   "id": "cc71dde9",
   "metadata": {
    "ExecuteTime": {
     "start_time": "2022-11-22T17:13:48.451Z"
    },
    "hidden": true
   },
   "outputs": [],
   "source": [
    "tmp_cols_to_dummy = ['KitchenQual']\n",
    "tmp = X.loc[:, ['SalePrice']+tmp_cols_to_dummy]\n",
    "tmp = tmp.loc[tmp.SalePrice < 475000, :]\n",
    "#show_dummy_corr(tmp)\n",
    "#show_dist_cat(tmp)\n",
    "#show_violin(tmp)"
   ]
  },
  {
   "cell_type": "markdown",
   "id": "c859f2c2",
   "metadata": {
    "heading_collapsed": true,
    "hidden": true
   },
   "source": [
    "### Luxury"
   ]
  },
  {
   "cell_type": "code",
   "execution_count": null,
   "id": "fbfd16fa",
   "metadata": {
    "ExecuteTime": {
     "start_time": "2022-11-22T17:13:48.457Z"
    },
    "hidden": true
   },
   "outputs": [],
   "source": [
    "cols_to_dummy = ['FireplaceQu', 'Fence', 'MiscFeature']\n",
    "X = data.copy()\n",
    "X = X.loc[:, cols_to_dummy+['SalePrice']]"
   ]
  },
  {
   "cell_type": "markdown",
   "id": "a48c5d99",
   "metadata": {
    "hidden": true
   },
   "source": [
    "#### FireplaceQu"
   ]
  },
  {
   "cell_type": "code",
   "execution_count": null,
   "id": "6d7286b4",
   "metadata": {
    "ExecuteTime": {
     "start_time": "2022-11-22T17:13:48.462Z"
    },
    "hidden": true,
    "scrolled": true
   },
   "outputs": [],
   "source": [
    "tmp_cols_to_dummy = ['FireplaceQu']\n",
    "tmp = X.loc[:, ['SalePrice']+tmp_cols_to_dummy]\n",
    "tmp['FireplaceQu'] = tmp['FireplaceQu'].fillna('Absent')\n",
    "tmp = tmp.loc[tmp.SalePrice < 475000, :]\n",
    "#show_dummy_corr(tmp)\n",
    "#show_dist_cat(tmp)\n",
    "#show_violin(tmp)"
   ]
  },
  {
   "cell_type": "markdown",
   "id": "43005525",
   "metadata": {
    "hidden": true
   },
   "source": [
    "- unite Po with Absent, Go with Ex, Fare with No"
   ]
  },
  {
   "cell_type": "markdown",
   "id": "477efb96",
   "metadata": {
    "hidden": true
   },
   "source": [
    "#### Fence"
   ]
  },
  {
   "cell_type": "code",
   "execution_count": null,
   "id": "a8c0ffd5",
   "metadata": {
    "ExecuteTime": {
     "start_time": "2022-11-22T17:13:48.470Z"
    },
    "hidden": true,
    "scrolled": false
   },
   "outputs": [],
   "source": [
    "tmp_cols_to_dummy = ['Fence']\n",
    "tmp = X.loc[:, ['SalePrice']+tmp_cols_to_dummy]\n",
    "tmp['Fence'] = tmp['Fence'].fillna('Absent')\n",
    "tmp = tmp.loc[tmp.SalePrice < 475000, :]\n",
    "#show_dummy_corr(tmp)\n",
    "#show_dist_cat(tmp)\n",
    "#show_violin(tmp)"
   ]
  },
  {
   "cell_type": "markdown",
   "id": "a60cfa9c",
   "metadata": {
    "hidden": true
   },
   "source": [
    "- unite Absent, Good Privacy\n",
    "- unite the others"
   ]
  },
  {
   "cell_type": "markdown",
   "id": "8fb566f3",
   "metadata": {
    "hidden": true
   },
   "source": [
    "#### MiscFeature"
   ]
  },
  {
   "cell_type": "code",
   "execution_count": null,
   "id": "59eeb1ed",
   "metadata": {
    "ExecuteTime": {
     "start_time": "2022-11-22T17:13:48.477Z"
    },
    "hidden": true,
    "scrolled": true
   },
   "outputs": [],
   "source": [
    "tmp_cols_to_dummy = ['MiscFeature']\n",
    "tmp = X.loc[:, ['SalePrice']+tmp_cols_to_dummy]\n",
    "tmp['MiscFeature'] = tmp['MiscFeature'].fillna('Absent')\n",
    "tmp = tmp.loc[tmp.SalePrice < 475000, :]\n",
    "#show_dummy_corr(tmp)\n",
    "#show_dist_cat(tmp)\n",
    "#show_violin(tmp)"
   ]
  },
  {
   "cell_type": "markdown",
   "id": "d2f4ff21",
   "metadata": {
    "hidden": true
   },
   "source": [
    "- Recode as IsShed"
   ]
  },
  {
   "cell_type": "markdown",
   "id": "6ce512e5",
   "metadata": {
    "heading_collapsed": true,
    "hidden": true
   },
   "source": [
    "### Misc"
   ]
  },
  {
   "cell_type": "code",
   "execution_count": null,
   "id": "6b9c3397",
   "metadata": {
    "ExecuteTime": {
     "start_time": "2022-11-22T17:13:48.484Z"
    },
    "hidden": true
   },
   "outputs": [],
   "source": [
    "cols_to_dummy = ['SaleType', 'SaleCondition']\n",
    "X = data.copy()\n",
    "X = X.loc[:, cols_to_dummy+['SalePrice']]"
   ]
  },
  {
   "cell_type": "markdown",
   "id": "ccd676f9",
   "metadata": {
    "hidden": true
   },
   "source": [
    "#### SaleType"
   ]
  },
  {
   "cell_type": "code",
   "execution_count": null,
   "id": "3f0ff1f8",
   "metadata": {
    "ExecuteTime": {
     "start_time": "2022-11-22T17:13:48.490Z"
    },
    "hidden": true,
    "scrolled": false
   },
   "outputs": [],
   "source": [
    "tmp_cols_to_dummy = ['SaleType']\n",
    "tmp = X.loc[:, ['SalePrice']+tmp_cols_to_dummy]\n",
    "tmp['SaleType'] = tmp['SaleType'].fillna('Absent')\n",
    "tmp = tmp.loc[tmp.SalePrice < 475000, :]\n",
    "#show_dummy_corr(tmp)\n",
    "#show_dist_cat(tmp)\n",
    "#show_violin(tmp)"
   ]
  },
  {
   "cell_type": "markdown",
   "id": "6eb8fb90",
   "metadata": {
    "hidden": true
   },
   "source": [
    "#### SaleCond"
   ]
  },
  {
   "cell_type": "code",
   "execution_count": null,
   "id": "d2483791",
   "metadata": {
    "ExecuteTime": {
     "start_time": "2022-11-22T17:13:48.495Z"
    },
    "hidden": true,
    "scrolled": false
   },
   "outputs": [],
   "source": [
    "tmp_cols_to_dummy = ['SaleCondition']\n",
    "tmp = X.loc[:, ['SalePrice']+tmp_cols_to_dummy]\n",
    "tmp['SaleCondition'] = tmp['SaleCondition'].fillna('Absent')\n",
    "tmp = tmp.loc[tmp.SalePrice < 475000, :]\n",
    "#show_dummy_corr(tmp)\n",
    "#show_dist_cat(tmp)\n",
    "#show_violin(tmp)"
   ]
  },
  {
   "cell_type": "markdown",
   "id": "10437b5c",
   "metadata": {
    "hidden": true
   },
   "source": [
    "- unite Abnorm, Family, AdjLand\n",
    "- unite Alloca, Normal"
   ]
  },
  {
   "cell_type": "code",
   "execution_count": null,
   "id": "389b3ed6",
   "metadata": {
    "ExecuteTime": {
     "start_time": "2022-11-22T17:13:48.502Z"
    },
    "hidden": true
   },
   "outputs": [],
   "source": [
    "tmp_cols_to_dummy = ['SaleCondition']\n",
    "tmp = X.loc[:, ['SalePrice']+tmp_cols_to_dummy]\n",
    "tmp['SaleCondition'] = tmp['SaleCondition'].fillna('Absent')\n",
    "tmp = tmp.loc[tmp.SalePrice < 475000, :]\n",
    "#show_dummy_corr(tmp)\n",
    "#show_dist_cat(tmp)\n",
    "#show_violin(tmp)"
   ]
  },
  {
   "cell_type": "markdown",
   "id": "8572041e",
   "metadata": {
    "heading_collapsed": true,
    "hidden": true
   },
   "source": [
    "### Overview"
   ]
  },
  {
   "cell_type": "markdown",
   "id": "40103e31",
   "metadata": {
    "hidden": true
   },
   "source": [
    "- Recode MSZoning into IsLowDensityArea: 0-1\n",
    "- Recode Neighborhood into 5 categories; one - reference point\n",
    "- Recode Condition1, Condition2 into IsEnvGood: 0-1\n",
    "-------------------------------------------------------------------------------------------------------\n",
    "- Recode Alley into IsAlleyGravel: 0-1\n",
    "- Recode LotShape into IsShapeReg: 0-1\n",
    "- Recode LandCountour into IsLandFlat: 0-1\n",
    "- Recode LotConfig into IsNarrow: 0-1\n",
    "- Recode LandSlope in IsLandSloped: 0-1\n",
    "- Recode PavedDrive into IsPaved: 0-1\n",
    "-------------------------------------------------------------------------------------------------------\n",
    "- Recode MSSubClass into 4 categories; one - reference point\n",
    "- Recode BldgType into IsOneFamily: 0-1\n",
    "- Recode HouseStyle into IsOneFloor: 0-1\n",
    "- Recode RoofStyle into IsRoofGable: 0-1\n",
    "- Recode RoofMatl into IsRoofStandard: 0-1\n",
    "- Recode Exterior1st, Exterior2nd, into 5 categories; one - reference point\n",
    "- Recode MasVnrType into 3 categories; one - reference point\n",
    "- Recode ExterQual into IsExtQualGood: 0-1\n",
    "- Recode ExterCond into IsExtCondGood: 0-1\n",
    "-------------------------------------------------------------------------------------------------------\n",
    "- Recode Foundation into IsBsmConcrete: 0-1\n",
    "- Recode BsmtQual into IsBsmQualGood: 0-1\n",
    "- Recode BsmtCond into IsBsmCondGood: 0-1\n",
    "- Recode BsmtExposure into IsBsmExpGood: 0-1\n",
    "- Recode BsmtFinType1, BsmtFinType2 into BsmFinType: 3 categories; one - reference point\n",
    "-------------------------------------------------------------------------------------------------------\n",
    "- Recode GarageType into 3 categories; one - reference point\n",
    "- Recode GarageFinish into IsGarFin: 0-1\n",
    "-------------------------------------------------------------------------------------------------------\n",
    "- Recode HeatingQC into IsHeatGood: 0-1\n",
    "- Recode CentralAir into IsCentralAir: 0-1\n",
    "- Recode Electrical into IsStandardElect: 0-1\n",
    "-------------------------------------------------------------------------------------------------------\n",
    "- Recode FireplaceQu into FireplaceQual: 3 categories; one - reference point\n",
    "- Recode Fence into IsFenceAbsent: 0-1\n",
    "- Recode MiscFeature into IsShed: 0-1\n",
    "-------------------------------------------------------------------------------------------------------\n",
    "- Recode SaleType into IsNewHouse: 0-1\n",
    "- Recode SaleCondition into SaleCond: 3 categories; one - reference point\n",
    "-------------------------------------------------------------------------------------------------------"
   ]
  },
  {
   "cell_type": "code",
   "execution_count": null,
   "id": "d45a4398",
   "metadata": {
    "ExecuteTime": {
     "start_time": "2022-11-22T17:13:48.509Z"
    },
    "code_folding": [
     0,
     175
    ],
    "hidden": true
   },
   "outputs": [],
   "source": [
    "def prepare_data_cat(X):\n",
    "    X['MSZoning'] = X.MSZoning.replace({'RH':'RM', 'FV':'RL', 'C (all)': 'RM'})\n",
    "    X['IsLowDensityArea'] = np.where(X['MSZoning'] == 'RL', 1, 0)\n",
    "    \n",
    "    X['Neighborhood'] = X.Neighborhood.replace(\n",
    "        {'Edwards': 'C0', 'OldTown': 'C0', 'Sawyer': 'C0', 'BrkSide': 'C0',\n",
    "         'Blueste': 'C0', 'NPkVill': 'C0', 'Mitchel': 'C0', 'SWISU': 'C0', 'NAmes': 'C0',\n",
    "         'MeadowV': 'C1', 'BrDale': 'C1', 'IDOTRR': 'C1',\n",
    "         'NridgHt': 'C2', 'StoneBr': 'C2', 'NoRidge': 'C2',\n",
    "         'SawyerW': 'C3', 'Blmngtn': 'C3', 'Gilbert': 'C3', 'NWAmes': 'C3',\n",
    "         'Somerst': 'C4', 'Timber': 'C4', 'Veenker': 'C4',\n",
    "         'Crawfor': 'C4', 'CollgCr': 'C4', 'ClearCr': 'C4',\n",
    "        }\n",
    "    )\n",
    "    \n",
    "    X['Condition1'] = X['Condition1'].replace(\n",
    "        {'PosA': 'C1', 'PosN': 'C1', 'RRAn':'C1', 'RRNe': 'C1', 'RRNn': 'C1', 'Norm': 'C1',\n",
    "         'Feedr':'C2', 'Artery':'C2', 'RRAe':'C2'\n",
    "        }\n",
    "    )\n",
    "    X['Condition2'] = X['Condition2'].replace(\n",
    "        {'PosA': 'C1', 'PosN': 'C1', 'RRAn':'C1', 'RRNe': 'C1', 'RRNn': 'C1', 'Norm': 'C1',\n",
    "         'Feedr':'C2', 'Artery':'C2', 'RRAe':'C2'\n",
    "        }\n",
    "    )\n",
    "    X['Condition1'] = np.where(X['Condition1'] == 'C1', 1, 0)\n",
    "    X['Condition2'] = np.where(X['Condition2'] == 'C1', 1, 0)\n",
    "    X['IsEnvGood'] = np.where(X['Condition2']+X['Condition1'] == 2, 1, 0)\n",
    "    \n",
    "    X['Alley'] = X.Alley.fillna('Pave')\n",
    "    X['IsAlleyGravel'] = np.where(X['Alley'] == 'Pave', 0, 1)\n",
    "    X['IsShapeReg'] = np.where(X['LotShape'] ==  'Reg', 1, 0)\n",
    "    X['LandContour'] = X['LandContour'].replace(\n",
    "        {'Lvl': 'Norm', 'Bnk': 'Norm', 'Low': 'Ir', 'HLS': 'Ir'}\n",
    "    )\n",
    "    X['IsLandFlat'] = np.where(X['LandContour'] == 'Ir', 0, 1)\n",
    "    \n",
    "    X['LotConfig'] = X['LotConfig'].replace(\n",
    "        {'Inside': 'Norm', 'FR2': 'Norm', 'Corner': 'Norm', 'CulDSac': 'Ir', 'FR3': 'Ir'}\n",
    "    )\n",
    "    X['IsNarrow'] = np.where(X['LotConfig'] == 'Ir', 0, 1)\n",
    "    X['IsSlope'] = np.where((X['LandSlope'] == 'Mod') | (X['LandSlope'] == 'Sev'), 1, 0)\n",
    "    X['IsPaved'] = np.where((X['PavedDrive'] == 'N') | (X['PavedDrive'] == 'P'), 0, 1)\n",
    "    \n",
    "    X['MSSubClass'] = X['MSSubClass'].replace(\n",
    "        {'20': 'C0', '70': 'C0', '75': 'C0', '80': 'C0',\n",
    "         '60': 'C1', '120': 'C1',\n",
    "         '90': 'C2', '85': 'C2', '40': 'C2', '160': 'C2', '50': 'C2', '190': 'C2',\n",
    "         '45': 'C3', '30': 'C3', '180': 'C3'\n",
    "        }\n",
    "    )\n",
    "    X['IsOneFamily'] = np.where(X['BldgType'] == '1Fam', 1, 0)\n",
    "    X['IsOneFloor'] = X['HouseStyle'].replace(\n",
    "        {'SFoyer': '1', 'SLvl': '1', '1Story': '1',\n",
    "         '1.5Fin': '1', '1.5Unf': '1',\n",
    "         '2Story': '0', '2.5Fin': '0', '2.5Unf': '0'\n",
    "        }\n",
    "    ).astype(np.int64)\n",
    "    X['IsRoofGable'] = np.where(X['RoofStyle'] == 'Gable', 1, 0)\n",
    "    X['IsRoofStandard'] = np.where(X['RoofMatl'] == 'CompShg', 1, 0)\n",
    "    X['Exterior_1'] = X['Exterior1st'].replace(\n",
    "        {'VinylSd': 'C0',\n",
    "         'BrkFace': 'C1', 'BrkComm': 'C1', 'Plywood': 'C1', 'Brk Cmn': 'C1',\n",
    "         'CmentBd': 'C2', 'Stone': 'C2', 'CemntBd': 'C2', 'Other': 'C2',\n",
    "         'AsphShn': 'C3', 'AsbShng': 'C3', 'ImStucc': 'C3', 'CBlock': 'C3',\n",
    "         'Wd Sdng': 'C4', 'Wd Shng': 'C4', 'WdShing': 'C4', 'Stucco': 'C4',\n",
    "         'HdBoard': 'C4', 'MetalSd': 'C4'\n",
    "        }\n",
    "    )\n",
    "    X['Exterior_2'] = X['Exterior2nd'].replace(\n",
    "        {'VinylSd': 'C0',\n",
    "         'BrkFace': 'C1', 'BrkComm': 'C1', 'Plywood': 'C1', 'Brk Cmn': 'C1',\n",
    "         'CmentBd': 'C2', 'Stone': 'C2', 'CemntBd': 'C2', 'Other': 'C2',\n",
    "         'AsphShn': 'C3', 'AsbShng': 'C3', 'ImStucc': 'C3', 'CBlock': 'C3',\n",
    "         'Wd Sdng': 'C4', 'Wd Shng': 'C4', 'WdShing': 'C4', 'Stucco': 'C4',\n",
    "         'HdBoard': 'C4', 'MetalSd': 'C4'\n",
    "        }\n",
    "    )\n",
    "    X['MasVnrType'] = X['MasVnrType'].fillna('None')\n",
    "    X['MasVnrType'] = X['MasVnrType'].replace({'BrkFace': 'Brick', 'BrkCmn': 'Brick'})\n",
    "    X['IsExtQualGood'] = np.where((X['ExterQual'] == 'Ex') | (X['ExterQual'] == 'Good'), 1, 0)\n",
    "    X['IsExtCondGood'] = np.where((X['ExterCond'] == 'Ex') | (X['ExterCond'] == 'Good'), 1, 0)\n",
    "    \n",
    "    X['IsBsmConcrete'] = np.where(X['Foundation'] == 'PConc', 1, 0)\n",
    "    \n",
    "    X['BsmtCond'] = X['BsmtCond'].fillna('Absent')\n",
    "    X['BsmtQual'] = X['BsmtQual'].fillna('Absent')\n",
    "    X['BsmtQual'] = X['BsmtQual'].replace(\n",
    "        {'Ex': 'Good', 'Gd': 'Good', 'TA': 'Good', 'Fa': 'Bad', 'Po': 'Bad'}\n",
    "    )\n",
    "    X['BsmtCond'] = X['BsmtCond'].replace(\n",
    "        {'Ex': 'Good', 'Gd': 'Good', 'TA': 'Good', 'Fa': 'Bad', 'Po': 'Bad'}\n",
    "    )\n",
    "    X['IsBsmQualGood'] = np.where((X['BsmtQual'] == 'Ex') | (X['BsmtQual'] == 'Good'), 1, 0)\n",
    "    X['IsBsmCondGood'] = np.where((X['BsmtCond'] == 'Ex') | (X['BsmtCond'] == 'Good'), 1, 0)\n",
    "    \n",
    "    X['BsmtExposure'] = X['BsmtExposure'].fillna('Absent')\n",
    "    X['BsmExposure'] = X['BsmtExposure'].replace(\n",
    "        {'Mn': 'Norm', 'Av': 'Norm', 'Absent': 'No'}\n",
    "    )\n",
    "    \n",
    "    X['BsmtFinType1'] = X['BsmtFinType1'].fillna('Absent')\n",
    "    X['BsmFinType_1'] = X['BsmtFinType1'].replace(\n",
    "        {'Unf': 'C0',\n",
    "         'GLQ': 'C1',\n",
    "         'CemntBd': 'C2',\n",
    "         'Rec': 'C3', 'LWQ': 'C3', 'ALQ': 'C3', 'BLQ': 'C3', 'Absent': 'C3'\n",
    "        }\n",
    "    )\n",
    "    X['BsmtFinType2'] = X['BsmtFinType2'].fillna('Absent')\n",
    "    X['BsmFinType_2'] = X['BsmtFinType2'].replace(\n",
    "        {'Unf': 'C0',\n",
    "         'GLQ': 'C1',\n",
    "         'CemntBd': 'C2',\n",
    "         'Rec': 'C3', 'LWQ': 'C3', 'ALQ': 'C3', 'BLQ': 'C3', 'Absent': 'C3'\n",
    "        }\n",
    "    )\n",
    "    \n",
    "    X['GarageType'] = X['GarageType'].fillna('Absent')\n",
    "    X['GarageType'] = X['GarageType'].replace(\n",
    "        {'CarPort': 'Detchd', '2Types': 'Detchd', 'Basment': 'Detchd'}\n",
    "    )\n",
    "    X['GarageFinish'] = X['GarageFinish'].fillna('Absent')\n",
    "    X['IsGarageFinished'] = np.where(X['GarageFinish'] == 'Unf', 0, 1)\n",
    "    \n",
    "    X['HeatingQC'] = X['HeatingQC'].replace(\n",
    "        {'Ex': 'Good', 'Gd': 'Good', 'TA': 'Norm', 'Fa': 'Bad', 'Po': 'Bad'}\n",
    "    )\n",
    "    X['IsHeatGood'] = np.where(X['HeatingQC'] == 'Good', 1, 0)\n",
    "    \n",
    "    X['KitchenQual'] = X['KitchenQual'].replace(\n",
    "        {'Ex': 'Good', 'Gd': 'Good', 'TA': 'Norm', 'Fa': 'Bad', 'Po': 'Bad'}\n",
    "    )\n",
    "    X['IsKitchenGood'] = np.where(X['KitchenQual'] == 'Good', 1, 0)\n",
    "    \n",
    "    X['IsCentralAir'] = np.where(X['CentralAir'] == 'Y', 1, 0)\n",
    "    X['IsStandardElect'] = np.where(X['Electrical'] == 'SBrkr', 1, 0)\n",
    "    \n",
    "    X['FireplaceQu'] = X['FireplaceQu'].fillna('Absent')\n",
    "    X['FireplaceQual'] = X['FireplaceQu'].replace(\n",
    "        {'Ex': 'Good', 'Gd': 'Good', 'TA': 'Norm', 'Fa': 'Bad', 'Po': 'Bad', 'Absent': 'Bad'}\n",
    "    )\n",
    "    \n",
    "    X['Fence'] = X['Fence'].fillna('Absent')\n",
    "    \n",
    "    X['IsFenceGoodOrAbsent'] = X['Fence'].replace(\n",
    "        {'GdPrv': '1', 'Absent': '1', 'MnPrv': '0', 'MnWw': '0', 'GdWo': '0'}\n",
    "    ).astype(np.int64)\n",
    "    \n",
    "    X['MiscFeature'] = X['MiscFeature'].fillna('Absent')\n",
    "    X['IsShedPresent'] = np.where(X['MiscFeature'] == 'Shed', 1, 0)\n",
    "    \n",
    "    X['IsNewHouse'] = np.where(X['SaleType'] == 'New', 1, 0)\n",
    "    \n",
    "    X['SaleCond'] = X['SaleCondition'].replace(\n",
    "        {'Alloca': 'C0', 'Normal': 'C0',\n",
    "         'Partial': 'C1',\n",
    "         'Abnorml': 'C2', 'Family': 'C2', 'AdjLand': 'C2'}\n",
    "    )\n",
    "    \n",
    "    cols_to_drop = [\n",
    "        'MSZoning', 'Condition1', 'Condition2',\n",
    "        'Street', 'Alley', 'LotShape', 'LandContour', 'LotConfig', 'LandSlope', 'PavedDrive',\n",
    "        'BldgType', 'HouseStyle', 'RoofStyle', 'RoofMatl',\n",
    "        'Exterior1st', 'Exterior2nd', 'ExterQual', 'ExterCond',\n",
    "        'Foundation', 'BsmtQual', 'BsmtCond', 'BsmtExposure', 'BsmtFinType1', 'BsmtFinType2',\n",
    "        'HeatingQC', 'KitchenQual', 'Electrical', 'FireplaceQu', 'Fence', 'MiscFeature',\n",
    "        'SaleType', 'SaleCondition',\n",
    "        'GarageQual', 'GarageCond', 'GarageFinish',\n",
    "        'PoolQC', 'Functional', 'Heating', 'Utilities', 'CentralAir'\n",
    "    ]\n",
    "    \n",
    "    X.drop(columns=cols_to_drop, inplace=True)\n",
    "    return X\n",
    "\n",
    "def make_cat_dummy(X):\n",
    "    cols_to_dummy = ['Neighborhood', 'MSSubClass', 'MasVnrType',\n",
    "                     'GarageType', 'FireplaceQual', 'SaleCond', 'BsmExposure',\n",
    "                     'Exterior_1', 'Exterior_2']\n",
    "    cols_to_drop = ['Neighborhood_C0', 'MSSubClass_C0',\n",
    "                    'MasVnrType_None', 'Exterior_1_C0', 'Exterior_2_C0',\n",
    "                    'GarageType_Attchd', 'FireplaceQual_Bad', 'SaleCond_C0', 'BsmExposure_No']\n",
    "    X = pd.get_dummies(X, columns=cols_to_dummy, prefix=cols_to_dummy)\n",
    "    X.drop(columns=cols_to_drop, inplace=True)\n",
    "    return X"
   ]
  },
  {
   "cell_type": "code",
   "execution_count": null,
   "id": "3a4875c7",
   "metadata": {
    "ExecuteTime": {
     "start_time": "2022-11-22T17:13:48.514Z"
    },
    "hidden": true
   },
   "outputs": [],
   "source": [
    "X = data.copy()\n",
    "X['MSSubClass'] = X['MSSubClass'].astype(str)\n",
    "X = X.select_dtypes(include=['object'])\n",
    "X = prepare_data_cat(X)"
   ]
  },
  {
   "cell_type": "code",
   "execution_count": null,
   "id": "60a5be37",
   "metadata": {
    "ExecuteTime": {
     "start_time": "2022-11-22T17:13:48.519Z"
    },
    "hidden": true
   },
   "outputs": [],
   "source": [
    "X.head()"
   ]
  },
  {
   "cell_type": "code",
   "execution_count": null,
   "id": "e6ea95f6",
   "metadata": {
    "ExecuteTime": {
     "start_time": "2022-11-22T17:13:48.524Z"
    },
    "hidden": true
   },
   "outputs": [],
   "source": [
    "#X.apply(lambda x: x.unique())"
   ]
  },
  {
   "cell_type": "code",
   "execution_count": null,
   "id": "4ce9536f",
   "metadata": {
    "ExecuteTime": {
     "start_time": "2022-11-22T17:13:48.529Z"
    },
    "hidden": true
   },
   "outputs": [],
   "source": [
    "#corr_heatmap(X)"
   ]
  },
  {
   "cell_type": "markdown",
   "id": "ffbea2fb",
   "metadata": {
    "hidden": true
   },
   "source": [
    "- BsmQual, BsmCond are correlated => PCA\n",
    "- IsSlope, IsLandFlat are correlated => remove IsLandFlat\n",
    "- IsHeatGood, IsKitchenGood, IsGarageFinished and IsBsmConcrete are correlated => PCA\n",
    "- IsBsmConcrete, IsNewHouse are correlated => PCA"
   ]
  },
  {
   "cell_type": "code",
   "execution_count": null,
   "id": "2eee1f3b",
   "metadata": {
    "ExecuteTime": {
     "start_time": "2022-11-22T17:13:48.535Z"
    },
    "hidden": true
   },
   "outputs": [],
   "source": [
    "X = make_cat_dummy(X)"
   ]
  },
  {
   "cell_type": "code",
   "execution_count": null,
   "id": "05f0659f",
   "metadata": {
    "ExecuteTime": {
     "start_time": "2022-11-22T17:13:48.541Z"
    },
    "hidden": true
   },
   "outputs": [],
   "source": [
    "#corr_heatmap(X)"
   ]
  },
  {
   "cell_type": "markdown",
   "id": "9885c20c",
   "metadata": {
    "hidden": true
   },
   "source": [
    "- Exterior_1, Exterior_2 are correlated => drop Exterior_2\n",
    "- IsNewHouse, SaleCond_C1 are correlated => drop SaleCond_C1\n",
    "- IsOneFloor, MSSubClass_C1 are correlated => rather drop MSSubClass_C1\n",
    "- IsOneFamily, MSSubClass_C2 are correlated => rather drop MSSubClass_C2\n",
    "- IsGarageFinished, GarageType_Detached are correlated => PCA\n",
    "- IsLowDensityArea, Neighborhood_C1 are correlated => PCA"
   ]
  },
  {
   "cell_type": "code",
   "execution_count": null,
   "id": "1eadf149",
   "metadata": {
    "ExecuteTime": {
     "start_time": "2022-11-22T17:13:48.547Z"
    },
    "code_folding": [],
    "hidden": true
   },
   "outputs": [],
   "source": [
    "def make_cat_dummy(X):\n",
    "    cols_to_dummy = ['Neighborhood', 'MSSubClass', 'MasVnrType',\n",
    "                     'GarageType', 'FireplaceQual', 'SaleCond', 'BsmExposure',\n",
    "                     'Exterior_1']\n",
    "    cols_to_drop = [\n",
    "        'Neighborhood_C0', 'MSSubClass_C0', 'MSSubClass_C1', 'MSSubClass_C2',\n",
    "        'MasVnrType_None', 'Exterior_1_C0', 'Exterior_2',\n",
    "        'GarageType_Attchd', 'FireplaceQual_Bad', 'SaleCond_C0',\n",
    "        'SaleCond_C1', 'BsmExposure_No',\n",
    "        'IsLandFlat', \n",
    "    ]\n",
    "    X = pd.get_dummies(X, columns=cols_to_dummy, prefix=cols_to_dummy)\n",
    "    X.drop(columns=cols_to_drop, inplace=True)\n",
    "    return X"
   ]
  },
  {
   "cell_type": "markdown",
   "id": "c5e03ac1",
   "metadata": {
    "heading_collapsed": true
   },
   "source": [
    "## Overview"
   ]
  },
  {
   "cell_type": "code",
   "execution_count": null,
   "id": "585c8355",
   "metadata": {
    "ExecuteTime": {
     "start_time": "2022-11-22T17:13:48.553Z"
    },
    "hidden": true
   },
   "outputs": [],
   "source": [
    "X = data.copy()\n",
    "X = prepare_data_num(X)\n",
    "X = prepare_data_cat(X)\n",
    "X = make_cat_dummy(X)"
   ]
  },
  {
   "cell_type": "code",
   "execution_count": null,
   "id": "2f0edcbe",
   "metadata": {
    "ExecuteTime": {
     "start_time": "2022-11-22T17:13:48.558Z"
    },
    "hidden": true
   },
   "outputs": [],
   "source": [
    "#corr_heatmap(X)"
   ]
  },
  {
   "cell_type": "code",
   "execution_count": null,
   "id": "794840d2",
   "metadata": {
    "ExecuteTime": {
     "start_time": "2022-11-22T17:13:48.563Z"
    },
    "hidden": true
   },
   "outputs": [],
   "source": [
    "X.shape"
   ]
  },
  {
   "cell_type": "markdown",
   "id": "424cfbae",
   "metadata": {
    "hidden": true
   },
   "source": [
    "- drop FloorRatio (IsOneFloor is better)\n",
    "- remove ouliers, standardize, stimulaze\n",
    "- select centroids\n",
    "- held PCA"
   ]
  },
  {
   "cell_type": "markdown",
   "id": "1dd78448",
   "metadata": {
    "heading_collapsed": true
   },
   "source": [
    "## Outliers with 3 standard deviations difference"
   ]
  },
  {
   "cell_type": "code",
   "execution_count": null,
   "id": "5e627e6c",
   "metadata": {
    "ExecuteTime": {
     "start_time": "2022-11-22T17:13:48.570Z"
    },
    "hidden": true
   },
   "outputs": [],
   "source": [
    "#show_outliers(X)"
   ]
  },
  {
   "cell_type": "markdown",
   "id": "27f3b525",
   "metadata": {
    "hidden": true
   },
   "source": [
    "- IsExtCondGood, IsExtQualGood, IsSlope, IsShedPresent, Exterior_C3, IsAlleyGravel, LotFrontage are rather rare variables => check plots once again and try to remove\n",
    "- PerRoomSF, FloorRatio, PorchSF, SalePrice, GarageArea, Fireplaces, HalfBath, GrLivArea,\n",
    "  BsmtFinSF1, BsmtUnfSF, LotArea contain less than 20 outliers => check them and try to remove"
   ]
  },
  {
   "cell_type": "code",
   "execution_count": null,
   "id": "7c9f0f7b",
   "metadata": {
    "ExecuteTime": {
     "start_time": "2022-11-22T17:13:48.577Z"
    },
    "hidden": true
   },
   "outputs": [],
   "source": [
    "#print(X.value_counts(['IsShedPresent', 'Exterior_1_C3']))\n",
    "print(X.value_counts(['IsShedPresent']))\n",
    "print(X.value_counts(['Exterior_1_C3']))\n",
    "print(X.value_counts(['IsAlleyGravel']))\n",
    "print(X.value_counts(['IsSlope']))\n",
    "print(X.value_counts(['IsExtQualGood']))\n",
    "print(X.value_counts(['IsExtCondGood']))\n",
    "#print(X.value_counts(['PorchType_Enclosed']))"
   ]
  },
  {
   "cell_type": "code",
   "execution_count": null,
   "id": "2eb3ebe2",
   "metadata": {
    "ExecuteTime": {
     "start_time": "2022-11-22T17:13:48.582Z"
    },
    "hidden": true
   },
   "outputs": [],
   "source": [
    "X = data.copy()\n",
    "X = prepare_data_num(X)\n",
    "X = prepare_data_cat(X)\n",
    "X = make_cat_dummy(X)\n",
    "X = drop_columns_selected(X)"
   ]
  },
  {
   "cell_type": "code",
   "execution_count": null,
   "id": "2c8b6837",
   "metadata": {
    "ExecuteTime": {
     "start_time": "2022-11-22T17:13:48.587Z"
    },
    "hidden": true
   },
   "outputs": [],
   "source": [
    "X = data.copy()\n",
    "X = prepare_data_num(X)\n",
    "X = prepare_data_cat(X)"
   ]
  },
  {
   "cell_type": "markdown",
   "id": "ed08adaf",
   "metadata": {
    "hidden": true
   },
   "source": [
    "- FilterOut unused\n",
    "- Replace 'HalfBath' with 0-1\n",
    "- Replace fireplaces > 2 with 2"
   ]
  },
  {
   "cell_type": "code",
   "execution_count": null,
   "id": "4efbeb18",
   "metadata": {
    "ExecuteTime": {
     "start_time": "2022-11-22T17:13:48.593Z"
    },
    "hidden": true
   },
   "outputs": [],
   "source": [
    "X = data.copy()\n",
    "X = prepare_data_num(X)\n",
    "X = prepare_data_cat(X)\n",
    "X = make_cat_dummy(X)\n",
    "X = drop_columns_selected(X)"
   ]
  },
  {
   "cell_type": "code",
   "execution_count": null,
   "id": "ace5212e",
   "metadata": {
    "ExecuteTime": {
     "start_time": "2022-11-22T17:13:48.598Z"
    },
    "hidden": true
   },
   "outputs": [],
   "source": [
    "filter_query = (\n",
    "    '(SalePrice < 423000) & (LotArea < 45600) & '+\n",
    "    '(GrLivArea < 3627) & (GarageArea < 1134) & '+\n",
    "    '(BsmtFinSF1 < 1904)'\n",
    ")\n",
    "print('Original Nrows: ', X.shape[0])\n",
    "print('New Nrows: ', X.query(filter_query).shape[0])\n",
    "print('Percentage dropped: ',\n",
    "      round((X.shape[0] - X.query(filter_query).shape[0])/X.shape[0], 3)*100,\n",
    "      \"%\",\n",
    "      sep=''\n",
    "     )\n",
    "#show_outliers(X.query(filter_query))"
   ]
  },
  {
   "cell_type": "code",
   "execution_count": null,
   "id": "e792b094",
   "metadata": {
    "ExecuteTime": {
     "start_time": "2022-11-22T17:13:48.603Z"
    },
    "hidden": true
   },
   "outputs": [],
   "source": [
    "X = data.copy()\n",
    "X = prepare_data_num(X)\n",
    "X = prepare_data_cat(X)\n",
    "X = make_cat_dummy(X)\n",
    "X = drop_columns_selected(X)\n",
    "X = filter_outliers(X)"
   ]
  },
  {
   "cell_type": "code",
   "execution_count": null,
   "id": "3c27113e",
   "metadata": {
    "ExecuteTime": {
     "start_time": "2022-11-22T17:13:48.608Z"
    },
    "hidden": true
   },
   "outputs": [],
   "source": [
    "print(X.shape)\n",
    "#corr_heatmap(X)"
   ]
  },
  {
   "cell_type": "markdown",
   "id": "9a8f03d8",
   "metadata": {
    "hidden": true
   },
   "source": [
    "- IsSlope, IsRoofStandard, Extretior_1_C1, PorchType_Open seems to be the leas important variables; for first two is quite natural, whereas Exterior_1, PorchType are rather rare variables"
   ]
  },
  {
   "cell_type": "markdown",
   "id": "3141821f",
   "metadata": {
    "heading_collapsed": true
   },
   "source": [
    "## Outliers with value_counts()"
   ]
  },
  {
   "cell_type": "code",
   "execution_count": null,
   "id": "2c423a92",
   "metadata": {
    "ExecuteTime": {
     "start_time": "2022-11-22T17:13:48.615Z"
    },
    "hidden": true
   },
   "outputs": [],
   "source": [
    "X = data.copy()\n",
    "X = prepare_data_num(X)\n",
    "X = prepare_data_cat(X)\n",
    "X = make_cat_dummy(X)\n",
    "X = drop_columns_selected(X)"
   ]
  },
  {
   "cell_type": "code",
   "execution_count": null,
   "id": "c529295b",
   "metadata": {
    "ExecuteTime": {
     "start_time": "2022-11-22T17:13:48.621Z"
    },
    "hidden": true
   },
   "outputs": [],
   "source": [
    "X.loc[:, ['IsGarageFinished',  'IsHeatGood',  'IsKitchenGood',\n",
    "         'IsCentralAir',  'IsStandardElect',  'IsFenceGoodOrAbsent',\n",
    "         'IsNewHouse']].value_counts()"
   ]
  },
  {
   "cell_type": "markdown",
   "id": "0cb627c8",
   "metadata": {
    "hidden": true
   },
   "source": [
    "just for the illustration, why Correspondence analysis for categorical variables is also needed. You see that more than a half of the variables has less than 10 observations for some multidimensional groups. Which in turn means that the model would be built with short amount of observations for some combination of categories => clear overfitting"
   ]
  },
  {
   "cell_type": "markdown",
   "id": "0c38c9ae",
   "metadata": {
    "heading_collapsed": true
   },
   "source": [
    "# Data Preparation"
   ]
  },
  {
   "cell_type": "code",
   "execution_count": null,
   "id": "c55516da",
   "metadata": {
    "ExecuteTime": {
     "start_time": "2022-11-22T17:13:48.628Z"
    },
    "code_folding": [
     0,
     31,
     207,
     220,
     228,
     240
    ],
    "hidden": true
   },
   "outputs": [],
   "source": [
    "def prepare_data_num(X):\n",
    "    X['MSSubClass'] = X['MSSubClass'].astype(str)\n",
    "    X['PorchSF'] = (X['WoodDeckSF'] + X['OpenPorchSF'] + \n",
    "                    X['EnclosedPorch'] + X['3SsnPorch'] + \n",
    "                    X['ScreenPorch'])\n",
    "    X['PorchType'] = np.where(\n",
    "        X['WoodDeckSF'] != 0,\n",
    "        'WoodDeck',\n",
    "        np.where(\n",
    "            X['OpenPorchSF']!=0, \n",
    "            'Open',\n",
    "            np.where(\n",
    "                X['EnclosedPorch']!=0,\n",
    "                'Enclosed',\n",
    "                'Screen'\n",
    "            )\n",
    "        )\n",
    "    )\n",
    "    X['FloorRatio'] = X['2ndFlrSF']/X['1stFlrSF']\n",
    "    X['PerRoomSF'] = X['GrLivArea']/X['TotRmsAbvGrd']\n",
    "    \n",
    "    cols_to_drop = [\n",
    "        'Id', 'MoSold', 'YrSold', 'PoolArea', 'BsmtFullBath', 'BsmtHalfBath', \n",
    "        'FullBath', 'BedroomAbvGr', 'KitchenAbvGr', 'GarageYrBlt', 'GarageCars',\n",
    "        'WoodDeckSF', 'OpenPorchSF', 'EnclosedPorch', '3SsnPorch', 'ScreenPorch',\n",
    "        'YearRemodAdd', 'TotalBsmtSF', 'MiscVal', '2ndFlrSF', '1stFlrSF',\n",
    "        'LowQualFinSF', 'OverallCond', 'BsmtFinSF2', 'TotRmsAbvGrd'\n",
    "    ]\n",
    "    X.drop(columns=cols_to_drop, inplace=True)\n",
    "    return X\n",
    "\n",
    "def prepare_data_cat(X):\n",
    "    X['MSZoning'] = X.MSZoning.replace({'RH':'RM', 'FV':'RL', 'C (all)': 'RM'})\n",
    "    X['IsLowDensityArea'] = np.where(X['MSZoning'] == 'RL', 1, 0)\n",
    "    \n",
    "    X['Neighborhood'] = X.Neighborhood.replace(\n",
    "        {'Edwards': 'C0', 'OldTown': 'C0', 'Sawyer': 'C0', 'BrkSide': 'C0',\n",
    "         'Blueste': 'C0', 'NPkVill': 'C0', 'Mitchel': 'C0', 'SWISU': 'C0', 'NAmes': 'C0',\n",
    "         'MeadowV': 'C1', 'BrDale': 'C1', 'IDOTRR': 'C1',\n",
    "         'NridgHt': 'C2', 'StoneBr': 'C2', 'NoRidge': 'C2',\n",
    "         'SawyerW': 'C3', 'Blmngtn': 'C3', 'Gilbert': 'C3', 'NWAmes': 'C3',\n",
    "         'Somerst': 'C4', 'Timber': 'C4', 'Veenker': 'C4',\n",
    "         'Crawfor': 'C4', 'CollgCr': 'C4', 'ClearCr': 'C4',\n",
    "        }\n",
    "    )\n",
    "    \n",
    "    X['Condition1'] = X['Condition1'].replace(\n",
    "        {'PosA': 'C1', 'PosN': 'C1', 'RRAn':'C1', 'RRNe': 'C1', 'RRNn': 'C1', 'Norm': 'C1',\n",
    "         'Feedr':'C2', 'Artery':'C2', 'RRAe':'C2'\n",
    "        }\n",
    "    )\n",
    "    X['Condition2'] = X['Condition2'].replace(\n",
    "        {'PosA': 'C1', 'PosN': 'C1', 'RRAn':'C1', 'RRNe': 'C1', 'RRNn': 'C1', 'Norm': 'C1',\n",
    "         'Feedr':'C2', 'Artery':'C2', 'RRAe':'C2'\n",
    "        }\n",
    "    )\n",
    "    X['Condition1'] = np.where(X['Condition1'] == 'C1', 1, 0)\n",
    "    X['Condition2'] = np.where(X['Condition2'] == 'C1', 1, 0)\n",
    "    X['IsEnvGood'] = np.where(X['Condition2']+X['Condition1'] == 2, 1, 0)\n",
    "    \n",
    "    X['Alley'] = X.Alley.fillna('Pave')\n",
    "    X['IsAlleyGravel'] = np.where(X['Alley'] == 'Pave', 0, 1)\n",
    "    X['IsShapeReg'] = np.where(X['LotShape'] ==  'Reg', 1, 0)\n",
    "    X['LandContour'] = X['LandContour'].replace(\n",
    "        {'Lvl': 'Norm', 'Bnk': 'Norm', 'Low': 'Ir', 'HLS': 'Ir'}\n",
    "    )\n",
    "    X['IsLandFlat'] = np.where(X['LandContour'] == 'Ir', 0, 1)\n",
    "    \n",
    "    X['LotConfig'] = X['LotConfig'].replace(\n",
    "        {'Inside': 'Norm', 'FR2': 'Norm', 'Corner': 'Norm', 'CulDSac': 'Ir', 'FR3': 'Ir'}\n",
    "    )\n",
    "    X['IsNarrow'] = np.where(X['LotConfig'] == 'Ir', 0, 1)\n",
    "    X['IsSlope'] = np.where((X['LandSlope'] == 'Mod') | (X['LandSlope'] == 'Sev'), 1, 0)\n",
    "    X['IsPaved'] = np.where((X['PavedDrive'] == 'N') | (X['PavedDrive'] == 'P'), 0, 1)\n",
    "    \n",
    "    X['MSSubClass'] = X['MSSubClass'].replace(\n",
    "        {'20': 'C0', '70': 'C0', '75': 'C0', '80': 'C0',\n",
    "         '60': 'C1', '120': 'C1',\n",
    "         '90': 'C2', '85': 'C2', '40': 'C2', '160': 'C2', '50': 'C2', '190': 'C2',\n",
    "         '45': 'C3', '30': 'C3', '180': 'C3'\n",
    "        }\n",
    "    )\n",
    "    X['IsOneFamily'] = np.where(X['BldgType'] == '1Fam', 1, 0)\n",
    "    X['IsOneFloor'] = X['HouseStyle'].replace(\n",
    "        {'SFoyer': '1', 'SLvl': '1', '1Story': '1',\n",
    "         '1.5Fin': '1', '1.5Unf': '1',\n",
    "         '2Story': '0', '2.5Fin': '0', '2.5Unf': '0'\n",
    "        }\n",
    "    ).astype(np.int64)\n",
    "    X['IsRoofGable'] = np.where(X['RoofStyle'] == 'Gable', 1, 0)\n",
    "    X['IsRoofStandard'] = np.where(X['RoofMatl'] == 'CompShg', 1, 0)\n",
    "    X['Exterior_1'] = X['Exterior1st'].replace(\n",
    "        {'VinylSd': 'C0',\n",
    "         'BrkFace': 'C1', 'BrkComm': 'C1', 'Plywood': 'C1', 'Brk Cmn': 'C1',\n",
    "         'CmentBd': 'C2', 'Stone': 'C2', 'CemntBd': 'C2', 'Other': 'C2',\n",
    "         'AsphShn': 'C3', 'AsbShng': 'C3', 'ImStucc': 'C3', 'CBlock': 'C3',\n",
    "         'Wd Sdng': 'C4', 'Wd Shng': 'C4', 'WdShing': 'C4', 'Stucco': 'C4',\n",
    "         'HdBoard': 'C4', 'MetalSd': 'C4'\n",
    "        }\n",
    "    )\n",
    "    X['Exterior_2'] = X['Exterior2nd'].replace(\n",
    "        {'VinylSd': 'C0',\n",
    "         'BrkFace': 'C1', 'BrkComm': 'C1', 'Plywood': 'C1', 'Brk Cmn': 'C1',\n",
    "         'CmentBd': 'C2', 'Stone': 'C2', 'CemntBd': 'C2', 'Other': 'C2',\n",
    "         'AsphShn': 'C3', 'AsbShng': 'C3', 'ImStucc': 'C3', 'CBlock': 'C3',\n",
    "         'Wd Sdng': 'C4', 'Wd Shng': 'C4', 'WdShing': 'C4', 'Stucco': 'C4',\n",
    "         'HdBoard': 'C4', 'MetalSd': 'C4'\n",
    "        }\n",
    "    )\n",
    "    X['MasVnrType'] = X['MasVnrType'].fillna('None')\n",
    "    X['MasVnrType'] = X['MasVnrType'].replace({'BrkFace': 'Brick', 'BrkCmn': 'Brick'})\n",
    "    X['IsExtQualGood'] = np.where((X['ExterQual'] == 'Ex') | (X['ExterQual'] == 'Good'), 1, 0)\n",
    "    X['IsExtCondGood'] = np.where((X['ExterCond'] == 'Ex') | (X['ExterCond'] == 'Good'), 1, 0)\n",
    "    \n",
    "    X['IsBsmConcrete'] = np.where(X['Foundation'] == 'PConc', 1, 0)\n",
    "    \n",
    "    X['BsmtCond'] = X['BsmtCond'].fillna('Absent')\n",
    "    X['BsmtQual'] = X['BsmtQual'].fillna('Absent')\n",
    "    X['BsmtQual'] = X['BsmtQual'].replace(\n",
    "        {'Ex': 'Good', 'Gd': 'Good', 'TA': 'Good', 'Fa': 'Bad', 'Po': 'Bad'}\n",
    "    )\n",
    "    X['BsmtCond'] = X['BsmtCond'].replace(\n",
    "        {'Ex': 'Good', 'Gd': 'Good', 'TA': 'Good', 'Fa': 'Bad', 'Po': 'Bad'}\n",
    "    )\n",
    "    X['IsBsmQualGood'] = np.where((X['BsmtQual'] == 'Ex') | (X['BsmtQual'] == 'Good'), 1, 0)\n",
    "    X['IsBsmCondGood'] = np.where((X['BsmtCond'] == 'Ex') | (X['BsmtCond'] == 'Good'), 1, 0)\n",
    "    \n",
    "    X['BsmtExposure'] = X['BsmtExposure'].fillna('Absent')\n",
    "    X['BsmExposure'] = X['BsmtExposure'].replace(\n",
    "        {'Mn': 'Norm', 'Av': 'Norm', 'Absent': 'No'}\n",
    "    )\n",
    "    \n",
    "    X['BsmtFinType1'] = X['BsmtFinType1'].fillna('Absent')\n",
    "    X['BsmFinType_1'] = X['BsmtFinType1'].replace(\n",
    "        {'Unf': 'C0',\n",
    "         'GLQ': 'C1',\n",
    "         'CemntBd': 'C2',\n",
    "         'Rec': 'C3', 'LwQ': 'C3', 'ALQ': 'C3', 'BLQ': 'C3', 'Absent': 'C3'\n",
    "        }\n",
    "    )\n",
    "    X['BsmtFinType2'] = X['BsmtFinType2'].fillna('Absent')\n",
    "    X['BsmFinType_2'] = X['BsmtFinType2'].replace(\n",
    "        {'Unf': 'C0',\n",
    "         'GLQ': 'C1',\n",
    "         'CemntBd': 'C2',\n",
    "         'Rec': 'C3', 'LWQ': 'C3', 'ALQ': 'C3', 'BLQ': 'C3', 'Absent': 'C3'\n",
    "        }\n",
    "    )\n",
    "    \n",
    "    X['GarageType'] = X['GarageType'].fillna('Absent')\n",
    "    X['GarageType'] = X['GarageType'].replace(\n",
    "        {'CarPort': 'Detchd', '2Types': 'Detchd', 'Basment': 'Detchd'}\n",
    "    )\n",
    "    X['GarageFinish'] = X['GarageFinish'].fillna('Absent')\n",
    "    X['IsGarageFinished'] = np.where(X['GarageFinish'] == 'Unf', 0, 1)\n",
    "    \n",
    "    X['HeatingQC'] = X['HeatingQC'].replace(\n",
    "        {'Ex': 'Good', 'Gd': 'Good', 'TA': 'Norm', 'Fa': 'Bad', 'Po': 'Bad'}\n",
    "    )\n",
    "    X['IsHeatGood'] = np.where(X['HeatingQC'] == 'Good', 1, 0)\n",
    "    \n",
    "    X['KitchenQual'] = X['KitchenQual'].replace(\n",
    "        {'Ex': 'Good', 'Gd': 'Good', 'TA': 'Norm', 'Fa': 'Bad', 'Po': 'Bad'}\n",
    "    )\n",
    "    X['IsKitchenGood'] = np.where(X['KitchenQual'] == 'Good', 1, 0)\n",
    "    \n",
    "    X['IsCentralAir'] = np.where(X['CentralAir'] == 'Y', 1, 0)\n",
    "    X['IsStandardElect'] = np.where(X['Electrical'] == 'SBrkr', 1, 0)\n",
    "    \n",
    "    X['FireplaceQu'] = X['FireplaceQu'].fillna('Absent')\n",
    "    X['FireplaceQual'] = X['FireplaceQu'].replace(\n",
    "        {'Ex': 'Good', 'Gd': 'Good', 'TA': 'Norm', 'Fa': 'Bad', 'Po': 'Bad', 'Absent': 'Bad'}\n",
    "    )\n",
    "    \n",
    "    X['Fence'] = X['Fence'].fillna('Absent')\n",
    "    \n",
    "    X['IsFenceGoodOrAbsent'] = X['Fence'].replace(\n",
    "        {'GdPrv': '1', 'Absent': '1', 'MnPrv': '0', 'MnWw': '0', 'GdWo': '0'}\n",
    "    ).astype(np.int64)\n",
    "    \n",
    "    X['MiscFeature'] = X['MiscFeature'].fillna('Absent')\n",
    "    X['IsShedPresent'] = np.where(X['MiscFeature'] == 'Shed', 1, 0)\n",
    "    \n",
    "    X['IsNewHouse'] = np.where(X['SaleType'] == 'New', 1, 0)\n",
    "    \n",
    "    X['SaleCond'] = X['SaleCondition'].replace(\n",
    "        {'Alloca': 'C0', 'Normal': 'C0',\n",
    "         'Partial': 'C1',\n",
    "         'Abnorml': 'C2', 'Family': 'C2', 'AdjLand': 'C2'}\n",
    "    )\n",
    "    \n",
    "    cols_to_drop = [\n",
    "        'MSZoning', 'Condition1', 'Condition2',\n",
    "        'Street', 'Alley', 'LotShape', 'LandContour', 'LotConfig', 'LandSlope', 'PavedDrive',\n",
    "        'BldgType', 'HouseStyle', 'RoofStyle', 'RoofMatl',\n",
    "        'Exterior1st', 'Exterior2nd', 'ExterQual', 'ExterCond',\n",
    "        'Foundation', 'BsmtQual', 'BsmtCond', 'BsmtExposure', 'BsmtFinType1', 'BsmtFinType2',\n",
    "        'HeatingQC', 'KitchenQual', 'Electrical', 'FireplaceQu', 'Fence', 'MiscFeature',\n",
    "        'SaleType', 'SaleCondition',\n",
    "        'GarageQual', 'GarageCond', 'GarageFinish',\n",
    "        'PoolQC', 'Functional', 'Heating', 'Utilities', 'CentralAir', \n",
    "        'BsmFinType_2', 'IsLandFlat', 'Exterior_2'\n",
    "    ]\n",
    "    \n",
    "    X.drop(columns=cols_to_drop, inplace=True)\n",
    "    return X\n",
    "\n",
    "def make_cat_dummy(X):\n",
    "    cols_to_dummy = ['Neighborhood', 'MSSubClass', 'MasVnrType',\n",
    "                     'GarageType', 'FireplaceQual', 'SaleCond', 'BsmExposure',\n",
    "                     'Exterior_1', 'PorchType', 'BsmFinType_1']\n",
    "    cols_to_drop = [\n",
    "        'Neighborhood_C0', 'MSSubClass_C0', 'MSSubClass_C1', 'MSSubClass_C2',\n",
    "        'MasVnrType_None', 'Exterior_1_C0',  'GarageType_Attchd', 'FireplaceQual_Bad',\n",
    "        'SaleCond_C0', 'SaleCond_C1', 'BsmExposure_No', 'PorchType_WoodDeck', 'BsmFinType_1_C0'\n",
    "    ]\n",
    "    X = pd.get_dummies(X, columns=cols_to_dummy, prefix=cols_to_dummy)\n",
    "    X.drop(columns=cols_to_drop, inplace=True)\n",
    "    return X\n",
    "\n",
    "def drop_columns_selected(X):\n",
    "    X.drop(\n",
    "        columns=['IsShedPresent', 'Exterior_1_C3', 'IsAlleyGravel',\n",
    "                 'IsExtQualGood', 'IsExtCondGood'],\n",
    "        inplace=True\n",
    "    )\n",
    "    return X\n",
    "\n",
    "def filter_outliers(X):\n",
    "    filter_query = (\n",
    "        '(SalePrice < 423000) & (LotArea < 45600) & '+\n",
    "        '(GrLivArea < 3627) & (GarageArea < 1134) & '+\n",
    "        '(BsmtFinSF1 < 1904)'\n",
    "    )\n",
    "    X = X.query(filter_query)\n",
    "    X['Fireplaces'] = np.where(X['Fireplaces'] > 2, 2, X['Fireplaces'])\n",
    "    X['IsHalfBath'] = np.where(X['HalfBath'] > 0, 1, 0)\n",
    "    X.drop(columns=['HalfBath'], inplace=True)\n",
    "    return X\n",
    "\n",
    "def standardize_num(X):\n",
    "    cols_to_standardize = [\n",
    "        'LotFrontage', 'LotArea', 'MasVnrArea', 'BsmtFinSF1', 'BsmtUnfSF',\n",
    "        'GrLivArea', 'GarageArea', 'PorchSF', 'FloorRatio', 'PerRoomSF', 'OverallQual',\n",
    "        'YearBuilt', 'Fireplaces'\n",
    "    ]\n",
    "    X_num = X[cols_to_standardize]\n",
    "    \n",
    "    X[cols_to_standardize] = (X_num - X_num.mean())/X_num.std()\n",
    "    return X"
   ]
  },
  {
   "cell_type": "code",
   "execution_count": null,
   "id": "a436c639",
   "metadata": {
    "ExecuteTime": {
     "start_time": "2022-11-22T17:13:48.633Z"
    },
    "hidden": true
   },
   "outputs": [],
   "source": [
    "X = data.copy()\n",
    "X = prepare_data_num(X)\n",
    "X = prepare_data_cat(X)\n",
    "X = make_cat_dummy(X)\n",
    "X = drop_columns_selected(X)\n",
    "X = filter_outliers(X)\n",
    "X['LotFrontage'] = X['LotFrontage'].fillna(0)\n",
    "X['MasVnrArea'] = X['MasVnrArea'].fillna(0)\n",
    "X = standardize_num(X)\n",
    "\n",
    "y = X['SalePrice']\n",
    "X.drop(columns=['SalePrice'], inplace=True)"
   ]
  },
  {
   "cell_type": "markdown",
   "id": "891ef30c",
   "metadata": {
    "hidden": true
   },
   "source": [
    "- no need to apply stimulazation"
   ]
  },
  {
   "cell_type": "markdown",
   "id": "3d4e85ca",
   "metadata": {
    "heading_collapsed": true
   },
   "source": [
    "# PCA, MCA, FCA"
   ]
  },
  {
   "cell_type": "code",
   "execution_count": null,
   "id": "cd2436e0",
   "metadata": {
    "ExecuteTime": {
     "start_time": "2022-11-22T17:13:48.640Z"
    },
    "hidden": true
   },
   "outputs": [],
   "source": [
    "cols_to_pca = [\n",
    "    'LotFrontage', 'LotArea', 'MasVnrArea', 'BsmtFinSF1', 'BsmtUnfSF',\n",
    "    'GrLivArea', 'GarageArea', 'PorchSF', 'FloorRatio', 'PerRoomSF'\n",
    "]\n",
    "x_to_pca = X[cols_to_pca]"
   ]
  },
  {
   "cell_type": "code",
   "execution_count": null,
   "id": "ff20b2ed",
   "metadata": {
    "ExecuteTime": {
     "start_time": "2022-11-22T17:13:48.645Z"
    },
    "hidden": true
   },
   "outputs": [],
   "source": [
    "pca = decomposition.PCA(n_components=5)\n",
    "pca.fit(x_to_pca)\n",
    "print(pca.explained_variance_ratio_)\n",
    "print(pca.explained_variance_ratio_.sum())\n",
    "#tmp = pca.transform(x_to_pca)"
   ]
  },
  {
   "cell_type": "code",
   "execution_count": null,
   "id": "1ac21e96",
   "metadata": {
    "ExecuteTime": {
     "start_time": "2022-11-22T17:13:48.650Z"
    },
    "hidden": true
   },
   "outputs": [],
   "source": [
    "corr_heatmap(x_to_pca)"
   ]
  },
  {
   "cell_type": "markdown",
   "id": "52a7df38",
   "metadata": {
    "hidden": true
   },
   "source": [
    "- PCA was pretty bad (5 variables and still 76% explained only)\n",
    "- actually, several clusters of correlation:\n",
    "  - finished and unfinished basement,\n",
    "  - Garage Area, GrLiving Area, PerRoomSF\n",
    "  - LotArea, LotFrontage\n",
    "  - so it is rather the question which of them to select/how to transform\n",
    "- check also VIF factor"
   ]
  },
  {
   "cell_type": "code",
   "execution_count": null,
   "id": "8bc5a523",
   "metadata": {
    "ExecuteTime": {
     "start_time": "2022-11-22T17:13:48.657Z"
    },
    "hidden": true
   },
   "outputs": [],
   "source": [
    "vif_data = pd.DataFrame()\n",
    "vif_data[\"feature\"] = x_to_pca.columns\n",
    "vif_data[\"VIF\"] = [\n",
    "    variance_inflation_factor(x_to_pca.values, i) for i in range(len(x_to_pca.columns))\n",
    "]\n",
    "print(vif_data)"
   ]
  },
  {
   "cell_type": "markdown",
   "id": "c23f95b2",
   "metadata": {
    "hidden": true
   },
   "source": [
    "- Variance Inflation Factor is also small => keep variables as they are"
   ]
  },
  {
   "cell_type": "code",
   "execution_count": null,
   "id": "c015456f",
   "metadata": {
    "ExecuteTime": {
     "start_time": "2022-11-22T17:13:48.663Z"
    },
    "hidden": true
   },
   "outputs": [],
   "source": [
    "X = data.copy()\n",
    "X = prepare_data_num(X)\n",
    "X = prepare_data_cat(X)\n",
    "X = make_cat_dummy(X)\n",
    "X = drop_columns_selected(X)\n",
    "X = filter_outliers(X)\n",
    "X['LotFrontage'] = X['LotFrontage'].fillna(0)\n",
    "X['MasVnrArea'] = X['MasVnrArea'].fillna(0)\n",
    "X = standardize_num(X)\n",
    "\n",
    "y = X['SalePrice']\n",
    "X.drop(columns=['SalePrice'], inplace=True)"
   ]
  },
  {
   "cell_type": "code",
   "execution_count": null,
   "id": "e043c0f2",
   "metadata": {
    "ExecuteTime": {
     "start_time": "2022-11-22T17:13:48.668Z"
    },
    "hidden": true
   },
   "outputs": [],
   "source": [
    "cols_to_pca = [\n",
    "    'LotFrontage', 'LotArea', 'MasVnrArea', 'BsmtFinSF1', 'BsmtUnfSF',\n",
    "    'GrLivArea', 'GarageArea', 'PorchSF', 'FloorRatio', 'PerRoomSF', 'YearBuilt',\n",
    "    'Fireplaces', 'OverallQual'\n",
    "]\n",
    "\n",
    "x_to_mca = X.drop(columns=cols_to_pca)"
   ]
  },
  {
   "cell_type": "code",
   "execution_count": null,
   "id": "26452259",
   "metadata": {
    "ExecuteTime": {
     "start_time": "2022-11-22T17:13:48.673Z"
    },
    "hidden": true
   },
   "outputs": [],
   "source": [
    "#corr_heatmap(x_to_mca)"
   ]
  },
  {
   "cell_type": "code",
   "execution_count": null,
   "id": "04ec02e7",
   "metadata": {
    "ExecuteTime": {
     "start_time": "2022-11-22T17:13:48.678Z"
    },
    "hidden": true
   },
   "outputs": [],
   "source": [
    "print(\"Number of numeric cols:\", len(cols_to_pca))\n",
    "print(\"Number of 0-1 cols:\", len(x_to_mca.columns))\n",
    "print(\"Original rows-cols ratio:\", X.shape[0]/(X.shape[1]))\n",
    "print(\"Desired rows-cols ratio:\", X.shape[0]/(X.shape[1]-33))\n",
    "print(\"Desired number of 0-1 cols:\", X.shape[1]-33-len(cols_to_pca))"
   ]
  },
  {
   "cell_type": "markdown",
   "id": "fc447563",
   "metadata": {
    "hidden": true
   },
   "source": [
    "- the goal is to reduce at least 3x times; better 4x"
   ]
  },
  {
   "cell_type": "markdown",
   "id": "01371762",
   "metadata": {
    "hidden": true
   },
   "source": [
    "## Correlation"
   ]
  },
  {
   "cell_type": "code",
   "execution_count": null,
   "id": "98bfc360",
   "metadata": {
    "ExecuteTime": {
     "start_time": "2022-11-22T17:13:48.685Z"
    },
    "hidden": true
   },
   "outputs": [],
   "source": [
    "tmp = x_to_mca.copy()\n",
    "tmp['y'] = y\n",
    "#corr_heatmap(tmp)"
   ]
  },
  {
   "cell_type": "code",
   "execution_count": null,
   "id": "f0a16ac9",
   "metadata": {
    "ExecuteTime": {
     "start_time": "2022-11-22T17:13:48.690Z"
    },
    "hidden": true
   },
   "outputs": [],
   "source": [
    "del tmp"
   ]
  },
  {
   "cell_type": "markdown",
   "id": "ea1d546a",
   "metadata": {
    "hidden": true
   },
   "source": [
    "- just from the correlation perspective, top 12 variables are:\n",
    "  - IsKitchenGood (0.606)\n",
    "  - IsBsmConcrete (0.53)\n",
    "  - Neighborhood_C2 (0.519)\n",
    "  - BsmFinType_1_C1 (0.441)\n",
    "  - IsGarageFinished (0.436)\n",
    "  - FireQual_Good (0.400)\n",
    "  - Garage_Detchd (-0.396)\n",
    "  - IsHeatGood (0.379)\n",
    "  - IsLowDensityArea (0.351)\n",
    "  - Exterior_1_C4 (-0.349)\n",
    "  - BsmFinType_1_C3 (-0.333)\n",
    "  - MasVnrType_Stone (0.319) (IsNewHouse (0.322) is better but will be correlated with YearBuilt)"
   ]
  },
  {
   "cell_type": "code",
   "execution_count": null,
   "id": "f0e25c97",
   "metadata": {
    "ExecuteTime": {
     "start_time": "2022-11-22T17:13:48.697Z"
    },
    "hidden": true
   },
   "outputs": [],
   "source": [
    "#corr_heatmap(x_to_mca[\n",
    "    #['IsKitchenGood', 'IsBsmConcrete', 'Neighborhood_C2',\n",
    "     #'BsmFinType_1_C1', 'IsGarageFinished', 'FireplaceQual_Good',\n",
    "     #'GarageType_Detchd', 'IsHeatGood', 'IsLowDensityArea',\n",
    "     #'Exterior_1_C4', 'BsmFinType_1_C3', 'MasVnrType_Stone'\n",
    "    #]\n",
    "#])"
   ]
  },
  {
   "cell_type": "markdown",
   "id": "0e254341",
   "metadata": {
    "hidden": true
   },
   "source": [
    "## MCA"
   ]
  },
  {
   "cell_type": "code",
   "execution_count": null,
   "id": "1573e6a9",
   "metadata": {
    "ExecuteTime": {
     "start_time": "2022-11-22T17:13:48.703Z"
    },
    "hidden": true
   },
   "outputs": [],
   "source": [
    "x_to_mca = x_to_mca.apply(lambda x:  x.astype(str))\n",
    "mca = MCA(n_components = 11)\n",
    "mca = mca.fit(x_to_mca)\n",
    "sum(mca.explained_inertia_)"
   ]
  },
  {
   "cell_type": "markdown",
   "id": "bd855488",
   "metadata": {
    "hidden": true
   },
   "source": [
    "- the repcentage of variable explained is too small -> keep the original ones or use centroids"
   ]
  },
  {
   "cell_type": "markdown",
   "id": "1eaa3a72",
   "metadata": {},
   "source": [
    "# Feature selection"
   ]
  },
  {
   "cell_type": "code",
   "execution_count": null,
   "id": "b98e7b92",
   "metadata": {
    "ExecuteTime": {
     "start_time": "2022-11-22T17:13:48.711Z"
    }
   },
   "outputs": [],
   "source": [
    "def prep_data_full(data):\n",
    "    X = data.copy()\n",
    "    X = prepare_data_num(X)\n",
    "    X = prepare_data_cat(X)\n",
    "    X = make_cat_dummy(X)\n",
    "    X = drop_columns_selected(X)\n",
    "    X = filter_outliers(X)\n",
    "    X['LotFrontage'] = X['LotFrontage'].fillna(0)\n",
    "    X['MasVnrArea'] = X['MasVnrArea'].fillna(0)\n",
    "    X = standardize_num(X)\n",
    "    \n",
    "    y = X['SalePrice']\n",
    "    X.drop(columns=['SalePrice'], inplace=True)\n",
    "    return X, y"
   ]
  },
  {
   "cell_type": "code",
   "execution_count": null,
   "id": "9cdf5d98",
   "metadata": {
    "ExecuteTime": {
     "start_time": "2022-11-22T17:13:48.716Z"
    }
   },
   "outputs": [],
   "source": [
    "X, y = prep_data_full(data)"
   ]
  },
  {
   "cell_type": "code",
   "execution_count": null,
   "id": "03267709",
   "metadata": {
    "ExecuteTime": {
     "start_time": "2022-11-22T17:13:48.721Z"
    }
   },
   "outputs": [],
   "source": [
    "tmp = feature_selection(X, y)"
   ]
  },
  {
   "cell_type": "code",
   "execution_count": null,
   "id": "3020d3f8",
   "metadata": {
    "ExecuteTime": {
     "start_time": "2022-11-22T17:13:48.726Z"
    }
   },
   "outputs": [],
   "source": [
    "tmp.apply(lambda x: x.sort_values().values)"
   ]
  },
  {
   "cell_type": "markdown",
   "id": "e208e5b8",
   "metadata": {},
   "source": [
    "- 'GarageArea', 'GrLivArea', 'BsmtFinSF1', 'LotArea', 'MasVnrArea', 'OverallQual', 'PerRoomSF', 'PorchSF', 'YearBuilt', 'Neighborhood_C2', 'IsKitchenGood'"
   ]
  },
  {
   "cell_type": "code",
   "execution_count": null,
   "id": "96471093",
   "metadata": {
    "ExecuteTime": {
     "start_time": "2022-11-22T17:13:48.733Z"
    }
   },
   "outputs": [],
   "source": [
    "corr_heatmap(X.loc[:, ['OverallQual',\n",
    " 'YearBuilt',\n",
    " 'GrLivArea',\n",
    " 'Fireplaces',\n",
    " 'GarageArea',\n",
    " 'PerRoomSF',\n",
    " 'IsBsmConcrete',\n",
    " 'IsGarageFinished',\n",
    " 'IsKitchenGood',\n",
    " 'Neighborhood_C2',\n",
    " 'BsmFinType_1_C1']])"
   ]
  },
  {
   "cell_type": "code",
   "execution_count": null,
   "id": "2331bc5d",
   "metadata": {
    "ExecuteTime": {
     "start_time": "2022-11-22T17:13:48.738Z"
    }
   },
   "outputs": [],
   "source": [
    "features_centroids = [\n",
    "    'LotFrontage', 'LotArea', 'MasVnrArea', 'BsmtFinSF1', 'BsmtUnfSF',\n",
    "    'GrLivArea', 'GarageArea', 'PorchSF', 'FloorRatio', 'PerRoomSF', \n",
    "    'OverallQual', 'YearBuilt', 'Fireplaces', 'IsKitchenGood',\n",
    "    'IsBsmConcrete', 'Neighborhood_C2', 'BsmFinType_1_C1', 'IsGarageFinished',\n",
    "    'FireplaceQual_Good', 'GarageType_Detchd', 'IsHeatGood', 'IsLowDensityArea',\n",
    "    'Exterior_1_C4', 'BsmFinType_1_C3', 'MasVnrType_Stone'\n",
    "]\n",
    "\n",
    "features_important = [\n",
    "    'GarageArea', 'GrLivArea', 'BsmtFinSF1', 'LotArea', 'MasVnrArea',\n",
    "    'OverallQual', 'PerRoomSF', 'PorchSF', 'YearBuilt', 'Neighborhood_C2',\n",
    "    'IsKitchenGood'\n",
    "]"
   ]
  },
  {
   "cell_type": "code",
   "execution_count": null,
   "id": "7d107a2e",
   "metadata": {
    "ExecuteTime": {
     "start_time": "2022-11-22T17:13:48.743Z"
    }
   },
   "outputs": [],
   "source": [
    "show_best_feature_set(\n",
    "    features_original=X,\n",
    "    features_centroids=X.loc[:, features_centroids],\n",
    "    features_selected=X.loc[:, features_important],\n",
    "    y = y,\n",
    "    p_type='regression'\n",
    ")"
   ]
  },
  {
   "cell_type": "markdown",
   "id": "f39d1f5b",
   "metadata": {},
   "source": [
    "- use centroids as final feature set"
   ]
  },
  {
   "cell_type": "markdown",
   "id": "4fccd122",
   "metadata": {
    "heading_collapsed": true
   },
   "source": [
    "# Model selection"
   ]
  },
  {
   "cell_type": "markdown",
   "id": "3595d6c1",
   "metadata": {
    "heading_collapsed": true,
    "hidden": true
   },
   "source": [
    "## Grids"
   ]
  },
  {
   "cell_type": "code",
   "execution_count": null,
   "id": "e66b0af3",
   "metadata": {
    "ExecuteTime": {
     "start_time": "2022-11-22T17:13:48.751Z"
    },
    "hidden": true
   },
   "outputs": [],
   "source": [
    "model_grid_ga_lars = dict(\n",
    "    n_nonzero_coefs=Integer(25, 1000)\n",
    ")\n",
    "\n",
    "model_grid_ga_lasso = dict(\n",
    "    alpha=Continuous(0.001, 5.0, distribution='uniform'),\n",
    "    max_iter=Integer(100, 1000),\n",
    ")\n",
    "\n",
    "model_grid_ga_ridge = dict(\n",
    "    alpha=Continuous(0.001, 5.0, distribution='uniform'),\n",
    "    max_iter=Integer(100, 1000),\n",
    ")\n",
    "\n",
    "model_grid_ga_larslasso = dict(\n",
    "    max_iter=Integer(100, 1000)\n",
    ")\n",
    "\n",
    "model_grid_ga_elastic_net = dict(\n",
    "    alpha=Continuous(0.001, 5.0, distribution='uniform'),\n",
    "    max_iter=Integer(100, 1000),\n",
    "    l1_ratio=Continuous(0, 1, distribution='uniform'),\n",
    ")\n",
    "\n",
    "model_grid_ga_ard_reg = dict(\n",
    "    n_iter=Integer(100, 1000)\n",
    ")\n",
    "\n",
    "model_grid_ga_ridge_bayes = dict(\n",
    "    n_iter=Integer(100, 1000)\n",
    ")\n",
    "\n",
    "model_grid_ga_gamma_reg = dict(\n",
    "    alpha=Continuous(0.001, 5.0, distribution='uniform'),\n",
    "    max_iter=Integer(100, 1000)\n",
    ")\n",
    "\n",
    "model_grid_ga_huber_reg = dict(\n",
    "    alpha=Continuous(0.001, 5.0, distribution='uniform'),\n",
    "    max_iter=Integer(100, 1000),\n",
    "    epsilon=Continuous(1, 3, distribution='uniform'),\n",
    "    \n",
    ")\n",
    "\n",
    "model_grid_ga_passive_aggressive = dict(\n",
    "    C=Continuous(0.1, 1000, distribution='uniform'),\n",
    "    max_iter=Integer(100, 1000),\n",
    ")\n",
    "\n",
    "model_grid_ga_theilsen = dict(\n",
    "    max_iter=Integer(100, 1000),\n",
    ")"
   ]
  },
  {
   "cell_type": "code",
   "execution_count": null,
   "id": "7b578230",
   "metadata": {
    "ExecuteTime": {
     "start_time": "2022-11-22T17:13:48.756Z"
    },
    "hidden": true
   },
   "outputs": [],
   "source": [
    "model_grid_ga_knn = {\n",
    "    'n_neighbors': Integer(3, 20),\n",
    "    'leaf_size': Integer(20, 50)\n",
    "}\n",
    "\n",
    "model_grid_ga_svm = {\n",
    "    'C': Continuous(0.1, 1000, distribution='uniform'),\n",
    "    'gamma': Continuous(0.0001, 1, distribution='uniform'),\n",
    "    # kernel ‘linear’, ‘poly’, ‘rbf’\n",
    "    # epsilon=0.1\n",
    "}\n",
    "\n",
    "model_grid_ga_rf = {\n",
    "    'max_depth': Integer(10, 80),\n",
    "    'max_features': Integer(1, 7),\n",
    "    'min_samples_leaf': Integer(1, 7),\n",
    "    'min_samples_split': Integer(2, 10),\n",
    "    'n_estimators': Integer(25, 500)#,\n",
    "}\n",
    "\n",
    "model_grid_ga_extra_trees = {\n",
    "    'max_depth': Integer(10, 80),\n",
    "    'max_features': Integer(1, 7),\n",
    "    'min_samples_leaf': Integer(1, 7),\n",
    "    'min_samples_split': Integer(2, 10),\n",
    "    'n_estimators': Integer(25, 500)#,\n",
    "}\n",
    "\n",
    "model_grid_ga_adaboost = {\n",
    "    \"learning_rate\": Continuous(0.01, 0.50, distribution='uniform'),\n",
    "    \"n_estimators\": Integer(25, 500)\n",
    "}\n",
    "\n",
    "model_grid_ga_xgboost_hist = {\n",
    "    'learning_rate': Continuous(0.01, 0.50, distribution='uniform'),\n",
    "    'max_iter': Integer(100, 1000),\n",
    "    'max_leaf_nodes': Integer(21, 51),\n",
    "    'min_samples_leaf': Integer(10, 40),\n",
    "    'l2_regularization': Integer(0, 3),\n",
    "}\n",
    "\n",
    "model_grid_ga_xgboost = {\n",
    "    \"subsample\": Continuous(0.75, 1, distribution='uniform'),\n",
    "    \"colsample_bytree\": Continuous(0.75, 1, distribution='uniform'),\n",
    "    \"max_depth\": Integer(2, 16),\n",
    "    \"min_child_weight\": Integer(2, 15),\n",
    "    \"learning_rate\": Continuous(0.01, 0.50, distribution='uniform'),\n",
    "    \"n_estimators\": Integer(25, 500)\n",
    "}\n",
    "\n",
    "model_grid_ga_lgbm = {\n",
    "    \"learning_rate\": Continuous(0.01, 0.50, distribution='uniform'),\n",
    "    \"n_estimators\": Integer(25, 500),\n",
    "    \"num_iterations\": Integer(100, 1000),\n",
    "    \"lambda_l2\": Integer(0, 3),\n",
    "    \"bagging_fraction\": Continuous(0.8, 1, distribution='uniform'),\n",
    "    \"min_data_in_leaf\": Integer(10, 40),\n",
    "    \"num_leaves\": Integer(21, 51),\n",
    "}\n",
    "\n",
    "model_grid_ga_catboost = {\n",
    "    'iterations': Integer(100, 1000),\n",
    "    'learning_rate': Continuous(0.01, 0.50, distribution='uniform'),\n",
    "    #'depth': ,\n",
    "    'l2_leaf_reg': Integer(0, 3),\n",
    "    #'model_size_reg': ,\n",
    "    #'rsm': ,\n",
    "    'max_depth': Integer(10, 80),\n",
    "    'n_estimators': Integer(25, 500),\n",
    "    #'num_boost_round': ,\n",
    "    #'num_trees': ,\n",
    "    'min_data_in_leaf': Integer(10, 40),\n",
    "    'min_child_samples': Integer(10, 40),\n",
    "    'num_leaves': Integer(21, 51),\n",
    "}\n",
    "\n",
    "model_grid_ga_nnet = {\n",
    "    'learning_rate_init': Continuous(0.01, 0.50, distribution='uniform'),\n",
    "    'max_iter': Integer(200, 2000),\n",
    "    'hidden_layer_sizes': Integer(100, 1000)\n",
    "    # learning_rate{‘constant’, ‘invscaling’, ‘adaptive’}\n",
    "}"
   ]
  },
  {
   "cell_type": "markdown",
   "id": "36ac2338",
   "metadata": {
    "hidden": true
   },
   "source": [
    "## Models on full data"
   ]
  },
  {
   "cell_type": "code",
   "execution_count": null,
   "id": "c39df67b",
   "metadata": {
    "ExecuteTime": {
     "start_time": "2022-11-22T17:13:48.763Z"
    },
    "hidden": true
   },
   "outputs": [],
   "source": [
    "print(y.describe())\n",
    "print('\\nAccuracy on rf model:', 1-23026/y.median())"
   ]
  },
  {
   "cell_type": "code",
   "execution_count": null,
   "id": "98a7707a",
   "metadata": {
    "ExecuteTime": {
     "start_time": "2022-11-22T17:13:48.768Z"
    },
    "hidden": true
   },
   "outputs": [],
   "source": [
    "# LinearRegression: as it is\n",
    "# RANSACRegressor: as it is"
   ]
  },
  {
   "cell_type": "code",
   "execution_count": null,
   "id": "788eaf3e",
   "metadata": {
    "hidden": true
   },
   "outputs": [],
   "source": []
  },
  {
   "cell_type": "markdown",
   "id": "067dfdd9",
   "metadata": {},
   "source": [
    "# Submission"
   ]
  },
  {
   "cell_type": "code",
   "execution_count": null,
   "id": "13ee9933",
   "metadata": {},
   "outputs": [],
   "source": []
  }
 ],
 "metadata": {
  "kernelspec": {
   "display_name": "Python 3 (ipykernel)",
   "language": "python",
   "name": "python3"
  },
  "language_info": {
   "codemirror_mode": {
    "name": "ipython",
    "version": 3
   },
   "file_extension": ".py",
   "mimetype": "text/x-python",
   "name": "python",
   "nbconvert_exporter": "python",
   "pygments_lexer": "ipython3",
   "version": "3.10.0"
  },
  "toc": {
   "base_numbering": 1,
   "nav_menu": {},
   "number_sections": true,
   "sideBar": true,
   "skip_h1_title": false,
   "title_cell": "Table of Contents",
   "title_sidebar": "Contents",
   "toc_cell": false,
   "toc_position": {},
   "toc_section_display": true,
   "toc_window_display": false
  },
  "varInspector": {
   "cols": {
    "lenName": 16,
    "lenType": 16,
    "lenVar": 40
   },
   "kernels_config": {
    "python": {
     "delete_cmd_postfix": "",
     "delete_cmd_prefix": "del ",
     "library": "var_list.py",
     "varRefreshCmd": "print(var_dic_list())"
    },
    "r": {
     "delete_cmd_postfix": ") ",
     "delete_cmd_prefix": "rm(",
     "library": "var_list.r",
     "varRefreshCmd": "cat(var_dic_list()) "
    }
   },
   "types_to_exclude": [
    "module",
    "function",
    "builtin_function_or_method",
    "instance",
    "_Feature"
   ],
   "window_display": false
  }
 },
 "nbformat": 4,
 "nbformat_minor": 5
}
