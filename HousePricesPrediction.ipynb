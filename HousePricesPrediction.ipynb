{
 "cells": [
  {
   "cell_type": "markdown",
   "id": "d977038a",
   "metadata": {},
   "source": [
    "![alt text](ames_iowa_downtown.avif \"Ames downtown city\")"
   ]
  },
  {
   "cell_type": "markdown",
   "id": "07044f11",
   "metadata": {},
   "source": [
    "The aim of the followinng project is to predict house sale prices in Ames town, Iowa, USA. Ames is a typical small provincial american town with a population around 66 thousand (according to the 2020 census). This example might be generalized to other small towns in the United States, especially in Iowa. However, the main reason why this notebook was ever created is to present the typical Data Science workflow when dealing with regression predictive type of problem."
   ]
  },
  {
   "cell_type": "markdown",
   "id": "5593680f",
   "metadata": {
    "heading_collapsed": true
   },
   "source": [
    "# Presets"
   ]
  },
  {
   "cell_type": "code",
   "execution_count": 239,
   "id": "738d91a8",
   "metadata": {
    "ExecuteTime": {
     "end_time": "2022-11-07T20:20:51.564286Z",
     "start_time": "2022-11-07T20:20:51.439263Z"
    },
    "hidden": true
   },
   "outputs": [],
   "source": [
    "import pandas as pd\n",
    "import numpy as np\n",
    "import plotly.express as px\n",
    "import plotly.graph_objects as go\n",
    "import plotly.figure_factory as ff\n",
    "import matplotlib.pyplot as plt\n",
    "import seaborn as sns\n",
    "\n",
    "# Outliers detection\n",
    "from sklearn import decomposition\n",
    "\n",
    "#from sklearn.model_selection import train_test_split\n",
    "#from sklearn import metrics\n",
    "\n",
    "# Hyperparams tuning\n",
    "#from sklearn.model_selection import GridSearchCV, ParameterGrid\n",
    "#from sklearn_genetic import GASearchCV\n",
    "#from sklearn_genetic.space import Continuous, Categorical, Integer\n",
    "\n",
    "np.random.seed(42)"
   ]
  },
  {
   "cell_type": "code",
   "execution_count": 3,
   "id": "1feafd97",
   "metadata": {
    "ExecuteTime": {
     "end_time": "2022-11-04T13:13:18.669840Z",
     "start_time": "2022-11-04T13:13:18.643884Z"
    },
    "hidden": true
   },
   "outputs": [],
   "source": [
    "pd.set_option('display.max_columns', 500)"
   ]
  },
  {
   "cell_type": "code",
   "execution_count": 4,
   "id": "ddf6950e",
   "metadata": {
    "ExecuteTime": {
     "end_time": "2022-11-04T13:13:18.865924Z",
     "start_time": "2022-11-04T13:13:18.834908Z"
    },
    "hidden": true
   },
   "outputs": [],
   "source": [
    "data = pd.read_csv('train.csv')"
   ]
  },
  {
   "cell_type": "markdown",
   "id": "680e673c",
   "metadata": {
    "heading_collapsed": true
   },
   "source": [
    "# Basic statistics"
   ]
  },
  {
   "cell_type": "code",
   "execution_count": null,
   "id": "17af62c5",
   "metadata": {
    "ExecuteTime": {
     "end_time": "2022-11-01T11:42:38.959071Z",
     "start_time": "2022-11-01T11:42:38.914055Z"
    },
    "hidden": true,
    "scrolled": true
   },
   "outputs": [],
   "source": [
    "data.head()"
   ]
  },
  {
   "cell_type": "code",
   "execution_count": null,
   "id": "3c26257a",
   "metadata": {
    "ExecuteTime": {
     "end_time": "2022-11-01T11:42:38.975075Z",
     "start_time": "2022-11-01T11:42:38.960071Z"
    },
    "hidden": true
   },
   "outputs": [],
   "source": [
    "print('Nrows:', data.shape[0])\n",
    "print('Ncols:', data.shape[0])\n",
    "print('rows/cols ratio:', data.shape[0]/data.shape[1])"
   ]
  },
  {
   "cell_type": "markdown",
   "id": "85e0fb1f",
   "metadata": {
    "hidden": true
   },
   "source": [
    "- Rows/cols ratio seems to be pretty small, taking into consideration the fact that lot of variables are of type 'object'. Thus, dimensionality reduction must be held for sure"
   ]
  },
  {
   "cell_type": "code",
   "execution_count": null,
   "id": "bb3bb68d",
   "metadata": {
    "ExecuteTime": {
     "end_time": "2022-11-01T11:42:38.990552Z",
     "start_time": "2022-11-01T11:42:38.976062Z"
    },
    "hidden": true
   },
   "outputs": [],
   "source": [
    "print(data.dtypes.to_string())"
   ]
  },
  {
   "cell_type": "code",
   "execution_count": null,
   "id": "adc7c56e",
   "metadata": {
    "ExecuteTime": {
     "end_time": "2022-11-01T11:42:39.006660Z",
     "start_time": "2022-11-01T11:42:38.992556Z"
    },
    "hidden": true
   },
   "outputs": [],
   "source": [
    "print('Number of integer columns:', len(data.dtypes[data.dtypes == 'int64']))\n",
    "print('Number of float columns:', len(data.dtypes[data.dtypes == 'float64']))\n",
    "print('Number of string columns:', len(data.dtypes[data.dtypes == 'object']))"
   ]
  },
  {
   "cell_type": "code",
   "execution_count": null,
   "id": "f04d5971",
   "metadata": {
    "ExecuteTime": {
     "end_time": "2022-11-01T11:42:39.022652Z",
     "start_time": "2022-11-01T11:42:39.008661Z"
    },
    "hidden": true,
    "scrolled": true
   },
   "outputs": [],
   "source": [
    "print(data.isna().sum().to_string())"
   ]
  },
  {
   "cell_type": "markdown",
   "id": "6171bbb3",
   "metadata": {
    "hidden": true
   },
   "source": [
    "- MiscFeature is totally absent?\n",
    "- PoolQC, FireplaceQu, Alley, Fence may be absent rather due to natural reasons (just no fireplaces, pools in the house)\n",
    "- Others must be ivestigated more throughly"
   ]
  },
  {
   "cell_type": "code",
   "execution_count": null,
   "id": "2a761f3c",
   "metadata": {
    "ExecuteTime": {
     "end_time": "2022-11-01T11:42:39.100742Z",
     "start_time": "2022-11-01T11:42:39.025645Z"
    },
    "hidden": true,
    "scrolled": true
   },
   "outputs": [],
   "source": [
    "data.describe()"
   ]
  },
  {
   "cell_type": "markdown",
   "id": "48f126fe",
   "metadata": {
    "hidden": true
   },
   "source": [
    "- There are significant outliers almost in every variable\n",
    "- Most of the houses were sold before the global financal crisis\n",
    "- All of the houses were build before 2010"
   ]
  },
  {
   "cell_type": "code",
   "execution_count": null,
   "id": "bcbc0fff",
   "metadata": {
    "ExecuteTime": {
     "end_time": "2022-11-01T11:42:39.132156Z",
     "start_time": "2022-11-01T11:42:39.102750Z"
    },
    "hidden": true,
    "scrolled": true
   },
   "outputs": [],
   "source": [
    "data.select_dtypes(['object']).apply(lambda x: x.unique())"
   ]
  },
  {
   "cell_type": "code",
   "execution_count": null,
   "id": "527265de",
   "metadata": {
    "ExecuteTime": {
     "end_time": "2022-11-01T11:42:39.164252Z",
     "start_time": "2022-11-01T11:42:39.134160Z"
    },
    "hidden": true
   },
   "outputs": [],
   "source": [
    "data.select_dtypes(['int64']).apply(lambda x: x.unique())"
   ]
  },
  {
   "cell_type": "markdown",
   "id": "1fd8d7a3",
   "metadata": {
    "heading_collapsed": true
   },
   "source": [
    "# Qualitative (business) analysis"
   ]
  },
  {
   "cell_type": "markdown",
   "id": "bd4c5d9c",
   "metadata": {
    "hidden": true
   },
   "source": [
    "With the statistics shown above, we will try to analize and predict the influence of each variable in the sale price. Each variable will be given a predifined influence (low, medium, high) and the corresponding effect sign(stimulant, distimulant, mixed)"
   ]
  },
  {
   "cell_type": "markdown",
   "id": "010ae954",
   "metadata": {
    "hidden": true
   },
   "source": [
    "- **MSSubClass** — the type of a dwelling:\n",
    "  - must be actually recoded as string, as each number identifies the type of dwelling\n",
    "  - hard to determine influence of each type, but seems like too many categories - thus, binning may be applied\n",
    "  - seems more like and ID variable\n",
    "  - predefined influence: low, mixed\n",
    "  \n",
    "  \n",
    "- **MSZoning** — the general zoning classification: \n",
    "  - seems to be very important variable, as it is intuitive for houses to have lower price near the industrial zones compared to houses near the park\n",
    "  - predefined influence: high, mixed\n",
    "  \n",
    "- **LotFrontage** — length of street connected to a house:\n",
    "  - May be important starting from some length (as too short street may make a frightening impression\n",
    "  - Rather should be one-hot or string variable\n",
    "  - predefined influence: low, stimulant\n",
    "  \n",
    "- **LotArea** — size of the house:\n",
    "  - For sure important variable, the question is the form of the dependency - linear/non-linear\n",
    "  - predefined influence: high, stimulant\n",
    "\n",
    "- **Street** — type of road access to the house:\n",
    "  - Seems to be not so important, may be strongly correlated with some other features (ex. MSZoning)\n",
    "  - predefined influence: low, stimulant\n",
    "\n",
    "- **Alley** — type of alley access to the house:\n",
    "  - May be recoded as 0-1, the alley may look much more appetising for the buyer\n",
    "  - predefined influence: medium, stimulant\n",
    " \n",
    "- **LotShape** — general shape of the house:\n",
    "  - 4 categories may be reduntant, may be recoded as 0-1 (1 - strongly irregular)\n",
    "  - predefined influence: medium, distimulant\n",
    "  \n",
    "- **LandContour** — flatness of the house:\n",
    "  - at some point angle may be significant (for very old house)\n",
    "  - seems to be more expert-known factor\n",
    "  - rather could also be recoded as 0-1\n",
    "  - predefined influence: low, distimulant\n",
    "\n",
    "- **Utilities** — type of utilities available:\n",
    "  - for sure is an importnat variable as utilities are hard and time consuming to enable on your own\n",
    "  - may also be recoded as 0-1\n",
    "  - predefined influence: high, stimulant\n",
    "  \n",
    "- **LotConfig** — house placement compared on the street:\n",
    "  - may be recoded as 3-categorical variable: corner-cul_de_sac-other or as 0-1\n",
    "  - cul_de_sac seems to be importnat in defining the buyers behavior, but not as much as for ex. area\n",
    "  - may be correlated with Alley, Street and other geografical variables\n",
    "  - predefined influence: medium, distimulant\n",
    "\n",
    "- **LandSlope** — flatness of the house:\n",
    "  - at some point angle may be significant (especially for senior buyers)\n",
    "  - rather could also be recoded as 0-1\n",
    "  - predefined influence: low, distimulant\n",
    "  \n",
    "- **Neighborhood**  — physical location of the house within Ames city:\n",
    "  - for sure will be correlated wit some geografical variables\n",
    "  - may also include some etnical/cultural/race/class differencies within the Ames city - unfortunately, I'm not a citizen and the effect of different neighborhoods is unknown to me :(\n",
    "  - predefined influence: medium, mixed\n",
    "  \n",
    "- **Condition1**, **Condition2** — proximity to various conditions of the house:\n",
    "  - for sure important for houses near the railroad (noisy and dirty) and park (calm and clear)\n",
    "  - predefined influence: high, mixed\n",
    "\n",
    "- **BldgType** — type of the house:\n",
    "  - for sure important variable, but may be correlated with some other features\n",
    "  - predefined influence: high, mixed\n",
    "  \n",
    "- **HouseStyle** — style of the house:\n",
    "  - more like ID variable, but unfinished level may be important\n",
    "  - predefined influence: low, mixed\n",
    "  \n",
    "- **OverallQual** — overall material and finish of the house:\n",
    "  - may be correlated with other features\n",
    "  - some categories may be redundant\n",
    "  - predefined influence: medium, distimulant \n",
    "  \n",
    "- **OverallCond** — overall condition of the house:\n",
    "  - may be correlated with other features\n",
    "  - some categories may be redundant\n",
    "  - predefined influence: medium, distimulant\n",
    "  \n",
    "- **YearBuilt** — year of the building:\n",
    "  - at some point may be important, but rather no difference between say 2000 and 2005 - thus, must be recoded somehow\n",
    "  - predefined influence: high, stimulant\n",
    "  \n",
    "- **YearRemodAdd** — remodel date:\n",
    "  - rather important whether it occured and how many times\n",
    "  - may be correlated with other variables\n",
    "  - predefined influence: high, distimulant\n",
    "  \n",
    "-------------------------------------------------------------------------------------------------------\n",
    "- **RoofStyle** — type of roof:\n",
    "  - may be part of some new feature\n",
    "  - predefined influence: low, mixed\n",
    "- **RoofMatl** — material of the roof:\n",
    "  - may be part of some new feature\n",
    "  - for some materials may be costly\n",
    "  - predefined influence: low, mixed \n",
    "- **Exterior1st**, **Exterior2nd** — exterior covering of the house:\n",
    "  - may be part of some new feature\n",
    "  - for some materials may be costly\n",
    "  - predefined influence: low, mixed\n",
    "- **MasVnrType** — masonry veneer type (brick type) of the house:\n",
    "  - may be part of some new feature\n",
    "  - for some type may be costly\n",
    "  - predefined influence: low, mixed\n",
    "- **ExterQual**, **ExterCond** — the quality and the present condition of the material on the exterior\n",
    "  - may be part of some new feature\n",
    "  - may be correlated with each other\n",
    "  - predefined influence: low, mixed\n",
    "  \n",
    "------------------------------------------------------------------------------------------------------ \n",
    "- **Foundation** — type of the foudation:\n",
    "  - predefined influence: low, mixed\n",
    "- **BsmtQual** — height of the basement:\n",
    "  - predefined influence: low, distimulant\n",
    "- **BsmtCond** — condition of the basement:\n",
    "  - rather more important than the 2 above, but still, correalted with the overall condition for sure\n",
    "  - predefined influence: low, distimulant\n",
    "- **BsmtExposure** — whether there is somehing parat from the basement:\n",
    "  - may be correlated with other features (like garage), but for now seems kind of an imporant variable\n",
    "  - predefined influence: medium, stimulant\n",
    "- **BsmtFinType1**, **BsmtFinType2** — rating of basement finished area:\n",
    "  - correlated with the finished/unfinished condition of the house, which is more important - a question of further analysis, for now seems to be not so important\n",
    "  - predefined influence: medium, distimulant\n",
    "- **BsmtFinSF1**, **BsmtFinSF2** — square of corresponding basement type:\n",
    "  - predefined influence: low, mixed\n",
    "- **BsmtUnfSF** — unfinished square of the basement:\n",
    "  - rather important whether it is finished or not\n",
    "  - predefined influence: low, distimulant\n",
    "- **TotalBsmtSF** — total square of the basement:\n",
    "  - may be correlated with lot size, but still can be an important feature on its own\n",
    "  - predefined influence: medium, stimulant\n",
    "-------------------------------------------------------------------------------------------------------\n",
    "- **Heating** — type of heating:\n",
    "  - rather for an expert buyer\n",
    "  - predefined influence: low, mixed\n",
    "- **HeatingQC** — quality of heating:\n",
    "  - sometimes hard to determine for the buyer; besides this, heating is usually an important part of living somewhere :)\n",
    "  - predefined influence: medium, distimulant\n",
    "- **CentralAir** — whether there's central air conditioning:\n",
    "  - if needed, rather easy to install on your own\n",
    "  - predefined influence: low, mixed\n",
    "- **Electrical** — type of electrical system:\n",
    "  - rather for the experts\n",
    "  - predefined influence: low, mixed\n",
    "-------------------------------------------------------------------------------------------------------\n",
    "- **1stFlrSF**, **2ndFlrSF** — square of 1, 2 level of the house:\n",
    "  - for sure correlated with the basement\n",
    "  - predefined influence: low, stimulant\n",
    "- **LowQualFinSF** — low quality finished square:\n",
    "  - predefined influence: low, distimulant\n",
    "- **GrLivArea** — above grade (ground) living area square:\n",
    "  - for sure correlated with basement, floors squares\n",
    "  - predefined influence: low, stimulant\n",
    "- **BsmtFullBath** — basement full bathrooms:\n",
    "  - rather expecting more uniform distribution\n",
    "  - predefined influence: low, stimulant\n",
    "- **BsmtHalfBath** — basement half bathrooms:\n",
    "  - correlated with the above\n",
    "  - rather expecting more uniform distribution\n",
    "  - predefined influence: low, stimulant\n",
    "- **FullBath** — full bathrooms above grade:\n",
    "  - correlated with the above\n",
    "  - rather expecting more uniform distribution\n",
    "  - predefined influence: low, stimulant\n",
    "- **HalfBath** — half baths above grade:\n",
    "  - correlated with the above\n",
    "  - rather expecting more uniform distribution\n",
    "  - predefined influence: low, stimulant\n",
    "- **Bedroom** —  Bedrooms above grade (does NOT include basement bedrooms):\n",
    "  - seems like an important variable\n",
    "  - predefined influence: medium, stimulant\n",
    "- **Kitchen** — kitchens above grade:\n",
    "  - rather expecting more uniform distribution\n",
    "  - predefined influence: low, stimulant\n",
    "- **KitchenQual** — kitchen quality:\n",
    "  - need to see the distribution to be more confident\n",
    "  - predefined influence: low, distimulant\n",
    "- **TotRmsAbvGrd** — : Total rooms above grade (does not include bathrooms):\n",
    "  - seems like an important variable but could be explained through the other ones\n",
    "  - perfect collinearity with bathrooms, kitchens\n",
    "  - predefined influence: medium, stimulant\n",
    "- **Functional** — home functionality (Assume typical unless deductions are warranted):\n",
    "  - again, correlated with other features regarding home quality but could be still importnat somehow\n",
    "  - predefined influence: low, distimulant\n",
    "- **Fireplaces** — number of fireplaces:\n",
    "  - rather rare variable\n",
    "  - predefined influence: low, stimulant\n",
    "- **FireplaceQu** — fireplace quality:\n",
    "  - predefined influence: low, distimulant\n",
    "-------------------------------------------------------------------------------------------------------\n",
    "- **GarageType** — garage location:\n",
    "  - rather important whether it is and if is detached\n",
    "  - predefined influence: medium, stimulant\n",
    "- **GarageYrBlt** — year garage was built:\n",
    "  - seems to be correlated with built year of the house\n",
    "  - predefined influence: low, distimulant\n",
    "- **GarageFinish** — interior finish of the garage:\n",
    "  - garages can usually be less prettier for the buyers\n",
    "  - predefined influence: low, mixed\n",
    "- **GarageCars** — size of garage in car capacity:\n",
    "  - still we suppose sq feet is more informative\n",
    "  - predefined influence: low, stimulant\n",
    "- **GarageArea** — size of garage in square feet:\n",
    "  - if garage is present - important, but not as much as the fact that the garage exists\n",
    "  - predefined influence: low, stimulant\n",
    "- **GarageQual** — garage quality:\n",
    "  - seems to be not so important\n",
    "  - predefined influence: low, distimulant\n",
    "- **GarageCond** — garage condition:\n",
    "  - if ruined - just add as separate status\n",
    "  - predefined influence: low, distimulant\n",
    "-------------------------------------------------------------------------------------------------------\n",
    "- **WoodDeckSF** — wood deck area in square feet:\n",
    "  - correlated with other areas\n",
    "  - predefined influence: low, stimulant\n",
    "- **OpenPorchSF** — open porch area in square feet:\n",
    "  - correlated with other areas\n",
    "  - predefined influence: low, stimulant\n",
    "- **EnclosedPorch** — enclosed porch area in square feet:\n",
    "  - correlated with other areas\n",
    "  - predefined influence: low, stimulant\n",
    "- **3SsnPorch** — three season porch area in square feet:\n",
    "  - correlated with other areas\n",
    "  - predefined influence: low, stimulant\n",
    "- **ScreenPorch** — screen porch area in square feet:\n",
    "  - correlated with other areas\n",
    "  - predefined influence: low, stimulant\n",
    "-------------------------------------------------------------------------------------------------------\n",
    "- **PoolArea** — pool area:\n",
    "  - pools are costly, so rather important variable\n",
    "  - predefined influence: medium, stimulant\n",
    "- **PoolQC** — pool quality:\n",
    "  - need to see the distribution of the regressor\n",
    "  - predefined influence: low, distimulant\n",
    "\t\t\n",
    "- **PavedDrive** — paved driveway:\n",
    "  - seems to be rather important, could be costly to install on your own:\n",
    "  - predefined influence: medium, distimulant       \n",
    "        \n",
    "- **Fence** — fence quality:\n",
    "  - good fence would be rather costly\n",
    "  - plus, it makes an impression\n",
    "  - predefined influence: medium, stimulant\n",
    "\n",
    "- **MiscFeature** — miscellaneous feature not covered in other categories:\n",
    "  - basic stats showed that it is missing\n",
    "  - predefined influence: low, stimulant\n",
    "- **MiscVal** — value of miscellaneous features:\n",
    "  - predefined influence: low, stimulant\n",
    "- **MoSold** — month Sold (MM):\n",
    "  - maybe could be combined with the below var\n",
    "  - predefined influence: medium, mixed\n",
    "- **YrSold** — year Sold (YYYY):\n",
    "  - maybe could be combined with the above var\n",
    "  - predefined influence: medium, mixed\n",
    "- **SaleType** — type of sale:\n",
    "  - seems to be rather some sort of indicator variable\n",
    "  - predefined influence: low, stimulant\n",
    "- **SaleCondition** — condition of sale:\n",
    "  - seems to be rather some sort of indicator variable\n",
    "  - predefined influence: low, stimulant"
   ]
  },
  {
   "cell_type": "markdown",
   "id": "790b84fe",
   "metadata": {
    "hidden": true
   },
   "source": [
    "To sum up:\n",
    "- 7 highly important variables\n",
    "- 18 medium impotant variables\n",
    "- 56 low important variables\n",
    "\n",
    "- lots of variables seems to be strongly correlated with each other - thus, dimensionality reduction techniques should be applied"
   ]
  },
  {
   "cell_type": "markdown",
   "id": "554ff87c",
   "metadata": {
    "heading_collapsed": true
   },
   "source": [
    "# Initial EDA"
   ]
  },
  {
   "cell_type": "code",
   "execution_count": 5,
   "id": "621b99c1",
   "metadata": {
    "ExecuteTime": {
     "end_time": "2022-11-04T13:13:26.958262Z",
     "start_time": "2022-11-04T13:13:26.942622Z"
    },
    "code_folding": [
     0,
     18,
     37,
     57,
     73,
     90,
     122
    ],
    "hidden": true
   },
   "outputs": [],
   "source": [
    "def show_basic_plots(df, vars_subset=None):\n",
    "    # Presets:\n",
    "    if vars_subset is None:\n",
    "        vars_subset = df.columns.tolist()\n",
    "    \n",
    "    color_background = '#F5F5F5'\n",
    "    color_gridlines = '#DCDCDC'\n",
    "    colors_in_use = ['#2C3E50', '#537EA2', '#858F84', '#42A593',\n",
    "                     '#873E23', '#CFD1A1', '#6A744F', '#BDBDC5',\n",
    "                     '#7EA253', '#EDB676', '#C26D40']+px.colors.qualitative.Safe\n",
    "    \n",
    "    dtypes_num = ['int64', 'int32', 'int16', 'float64', 'float32', 'float16']\n",
    "    dtypes_str = ['object', 'category']\n",
    "    vars_num = df.loc[:, vars_subset].select_dtypes(include=dtypes_num).columns\n",
    "    vars_str = df.loc[:, vars_subset].select_dtypes(include=dtypes_str).columns\n",
    "    \n",
    "    # For categorical variables:\n",
    "    fig_str_lst = [None]*len(vars_str)\n",
    "    for i in range(0, len(vars_str)):\n",
    "        fig = go.Figure()\n",
    "        fig.add_trace(go.Histogram(x=df.loc[:, vars_str[i]],\n",
    "                                   name=vars_str[i],\n",
    "                                   showlegend=True))\n",
    "        fig.update_traces(marker_color=colors_in_use[0],\n",
    "                          marker_line_color='rgb(8,48,107)',\n",
    "                          marker_line_width=1.5,\n",
    "                          opacity=0.8)\n",
    "        fig.update_layout(xaxis_type='category',\n",
    "                          xaxis_title=vars_str[i],\n",
    "                          paper_bgcolor=color_background,\n",
    "                          plot_bgcolor=color_background)\n",
    "        fig.update_yaxes(gridcolor=color_gridlines)\n",
    "        fig.update_xaxes(linecolor=color_gridlines)\n",
    "        fig_str_lst[i] = fig\n",
    "        \n",
    "    # For 2 categorical variables:\n",
    "    fig_str_lst_mix = []\n",
    "    for i in range(0, len(vars_str)):\n",
    "        for j in range(0, len(vars_str)):\n",
    "            if i == j:\n",
    "                continue\n",
    "            else:\n",
    "                fig = px.histogram(df, x=vars_str[i], color=vars_str[j],\n",
    "                                   color_discrete_sequence=colors_in_use[1:])\n",
    "                fig.update_traces(marker_line_color='rgb(8,48,107)',\n",
    "                                  marker_line_width=1.5,\n",
    "                                  opacity=0.8)\n",
    "                fig.update_layout(xaxis_type='category',\n",
    "                                  xaxis_title=vars_str[i],\n",
    "                                  paper_bgcolor=color_background,\n",
    "                                  plot_bgcolor=color_background)\n",
    "                fig.update_yaxes(gridcolor=color_gridlines, title='')\n",
    "                fig.update_xaxes(linecolor=color_gridlines)\n",
    "                fig_str_lst_mix.append(fig)\n",
    "            \n",
    "    # For numerical variables:\n",
    "    fig_num_lst_dist = [None]*len(vars_num)\n",
    "    for i in range(0, len(vars_num)):\n",
    "        fig = ff.create_distplot(hist_data=[df[vars_num[i]].dropna()],\n",
    "                                 group_labels=[vars_num[i]],\n",
    "                                 show_hist=False,\n",
    "                                 show_rug=False,\n",
    "                                 colors = colors_in_use)\n",
    "        fig.update_layout(paper_bgcolor=color_background,\n",
    "                              plot_bgcolor=color_background)\n",
    "        fig.update_yaxes(gridcolor=color_gridlines,\n",
    "                         zerolinecolor=color_gridlines,\n",
    "                         title='')\n",
    "        fig.update_xaxes(gridcolor=color_gridlines,\n",
    "                         title=vars_num[i])\n",
    "        fig_num_lst_dist[i] = fig\n",
    "        \n",
    "    fig_num_lst_violin = [None]*len(vars_num)\n",
    "    for i in range(0, len(vars_num)):\n",
    "        fig = px.violin(df, y=vars_num[i], box=True, points='outliers')\n",
    "        fig.update_traces(marker_color = colors_in_use[0],\n",
    "                          opacity=0.8,\n",
    "                          name=vars_num[i],\n",
    "                          showlegend=True)\n",
    "        fig.update_layout(paper_bgcolor=color_background,\n",
    "                          plot_bgcolor=color_background)\n",
    "        fig.update_yaxes(gridcolor=color_gridlines,\n",
    "                         zerolinecolor=color_gridlines,\n",
    "                         title='')\n",
    "        fig.update_xaxes(title=vars_num[i])\n",
    "        fig_num_lst_violin[i] = fig\n",
    "    \n",
    "        # For 2 numerical variables:\n",
    "    fig_num_lst_mix = []\n",
    "    fig_num_lst_scat = []\n",
    "    for i in range(0, len(vars_num)):\n",
    "        for j in range(0, len(vars_num)):\n",
    "            if i == j:\n",
    "                continue\n",
    "            else:\n",
    "                fig = go.Figure()\n",
    "                fig.add_trace(go.Histogram2dContour(x = df[vars_num[i]],\n",
    "                                                        y = df[vars_num[j]],\n",
    "                                                        colorscale='deep'))\n",
    "                fig.update_layout(paper_bgcolor=color_background,\n",
    "                                  plot_bgcolor=color_background)\n",
    "                fig.update_yaxes(title=vars_num[j])\n",
    "                fig.update_xaxes(title=vars_num[i])\n",
    "                fig_num_lst_mix.append(fig)\n",
    "                \n",
    "                fig = px.scatter(data,x=data[vars_num[i]],\n",
    "                                 y=data[vars_num[j]],\n",
    "                                 trendline='ols')\n",
    "                fig.update_layout(paper_bgcolor=color_background,\n",
    "                                  plot_bgcolor=color_background)\n",
    "                fig.update_traces(marker_color=colors_in_use[0],\n",
    "                                  opacity=0.8)\n",
    "                fig.update_yaxes(gridcolor=color_gridlines,\n",
    "                                 zerolinecolor=color_gridlines,\n",
    "                                 title=vars_num[j])\n",
    "                fig.update_xaxes(gridcolor=color_gridlines,\n",
    "                                 zerolinecolor=color_gridlines,\n",
    "                                 title=vars_num[i])\n",
    "                fig_num_lst_scat.append(fig)\n",
    "        \n",
    "    # 1 categorical, 1 numeric:\n",
    "    fig_all_violin_mix = []\n",
    "    for i in range(0, len(vars_str)):\n",
    "        for j in range(0, len(vars_num)):\n",
    "            fig = px.violin(df, y=vars_num[j], color=vars_str[i],\n",
    "                            color_discrete_sequence=colors_in_use,\n",
    "                            box=True, points='outliers')\n",
    "            fig.update_traces(opacity=0.8)\n",
    "            fig.update_layout(xaxis_title=vars_num[j],\n",
    "                              showlegend=True,\n",
    "                              paper_bgcolor=color_background,\n",
    "                              plot_bgcolor=color_background)\n",
    "            fig.update_yaxes(gridcolor=color_gridlines, title='')\n",
    "            fig.update_xaxes(linecolor=color_gridlines)\n",
    "            fig_all_violin_mix.append(fig)\n",
    "            \n",
    "    final_dict = {\n",
    "        # categorical+target\n",
    "        'dist_cat': fig_str_lst,\n",
    "        'dist_mlt_cat': fig_str_lst_mix,\n",
    "        # numeric+target\n",
    "        'dist_num': fig_num_lst_dist,\n",
    "        'violin_num': fig_num_lst_violin,\n",
    "        'scatter_num': fig_num_lst_scat,\n",
    "        'dist_mlt_num': fig_num_lst_mix,\n",
    "        # all\n",
    "        'violin_mix': fig_all_violin_mix\n",
    "        #'scatter_mix': None,\n",
    "        #'dist_mlt_mix': None,\n",
    "    }\n",
    "    return(final_dict)"
   ]
  },
  {
   "cell_type": "code",
   "execution_count": null,
   "id": "ec4489b5",
   "metadata": {
    "ExecuteTime": {
     "end_time": "2022-11-01T11:46:02.505614Z",
     "start_time": "2022-11-01T11:42:39.196737Z"
    },
    "hidden": true
   },
   "outputs": [],
   "source": [
    "tmp = show_basic_plots(data)"
   ]
  },
  {
   "cell_type": "code",
   "execution_count": null,
   "id": "398a05f0",
   "metadata": {
    "ExecuteTime": {
     "end_time": "2022-11-01T11:46:02.521128Z",
     "start_time": "2022-11-01T11:46:02.506606Z"
    },
    "hidden": true
   },
   "outputs": [],
   "source": [
    "#'dist_cat'\n",
    "#'dist_mlt_cat'\n",
    "#'violin_mix'\n",
    "#'scatter_mix'\n",
    "#'dist_mlt_mix'"
   ]
  },
  {
   "cell_type": "markdown",
   "id": "563ad714",
   "metadata": {
    "heading_collapsed": true,
    "hidden": true
   },
   "source": [
    "## Numerical"
   ]
  },
  {
   "cell_type": "code",
   "execution_count": null,
   "id": "4e4c5d8c",
   "metadata": {
    "ExecuteTime": {
     "end_time": "2022-11-01T11:46:02.537224Z",
     "start_time": "2022-11-01T11:46:02.522119Z"
    },
    "hidden": true
   },
   "outputs": [],
   "source": [
    "#for i in tmp['dist_num']: \n",
    "    #i.show()"
   ]
  },
  {
   "cell_type": "markdown",
   "id": "c5691913",
   "metadata": {
    "hidden": true
   },
   "source": [
    "- **Id** column must be dropped\n",
    "- **MSSubClass**, **OverallQual**, **OverallCond** must be recoded as str\n",
    "- **LotFrontage**, **LotArea**, **MasVnrArea**, **BsmtFinSF1**, **BsmtFinSF2**, **BsmtUnfSF**, **TotalBsmtSF**, **1stFlrSF**, **2stFlrSF**, **GrLivArea**, **GarageArea**, **LotPrice** distributions show big positive skewness => potential outliers\n",
    "- **LowQualFinSF**, **WoodDeckSF**, **OpenPorchSF**, **EnclosedPorch**, **3SsnPorch**, **ScreenPorch**, **PoolArea**, **MiscVal** have poor right-skewed distributions with significant outliers\n",
    "\n",
    "------------------------------------------------------------------------------------------------------\n",
    "\n",
    "- There are 3 significant centers of YearBuilt: 1921-22, 1964-1965, 2002\n",
    "- The dominant renovation year was 2003\n",
    "- Most of the garages were built in 1966 and 2002; reminds YearBuilt distribution after 60s\n",
    "- most of the garages allow for 2 cars; proportion of 1/3 is alomost the same\n",
    "\n",
    "------------------------------------------------------------------------------------------------------\n",
    "\n",
    "- Most of the houses has 0 or 1 bath; Half baths is very rare\n",
    "- Most of the houses has 3 rooms; 2 and 4 are also quite popular, whereas rooms >5 - more like outliers\n",
    "- Almost all of the houses have 1 kitchen\n",
    "- In total, more than 10 rooms is an outlier\n",
    "- Most of the houses have either 0 or 1 fireplaces; some have 2;\n",
    "- Most of the houses do not have wood deck or open/enclosed/3 season/screen porch\n",
    "\n",
    "------------------------------------------------------------------------------------------------------\n",
    "\n",
    "- Most of the houses were sold during June (generally, not in autumn)\n",
    "- YearSold distribution is almost unimodal"
   ]
  },
  {
   "cell_type": "markdown",
   "id": "39ceedc9",
   "metadata": {
    "hidden": true
   },
   "source": [
    "To sum up:\n",
    "- YearSold, MiscVal, ID are not important\n",
    "- Decks and porches sq. ft. could be united into some new feature as distributions reminds each other\n",
    "- Other areas could also be united into some new feature as distributions reminds each other\n",
    "- Garage Year and Built Year seems to be correlated a lot"
   ]
  },
  {
   "cell_type": "markdown",
   "id": "fd9e253d",
   "metadata": {
    "hidden": true
   },
   "source": [
    "Just to have a more detailed look on the distributions:"
   ]
  },
  {
   "cell_type": "code",
   "execution_count": null,
   "id": "d7204a3b",
   "metadata": {
    "ExecuteTime": {
     "end_time": "2022-11-01T11:46:02.553262Z",
     "start_time": "2022-11-01T11:46:02.539211Z"
    },
    "hidden": true,
    "scrolled": false
   },
   "outputs": [],
   "source": [
    "#for i in tmp['violin_num']: \n",
    "    #i.show()"
   ]
  },
  {
   "cell_type": "markdown",
   "id": "464b345e",
   "metadata": {
    "hidden": true
   },
   "source": [
    "- LotFrontage > 80 are outliers with max=312\n",
    "\n",
    "- Majority of houses are in average condition, but the number of houses in better condition is bigger than in worser condition\n",
    "- Majory of houses' quality is above average, which may signify expert's bias during the valuation. Moreover, none ofthe house gained 10. May be considered non-informative due to these facts\n",
    "- Number of houses built in 1966+1922 = number of houses built in 2002\n",
    "- Renovation boom occured in 2002, before that - quite unimodal besides 1951\n",
    "-------------------------------------------------------------------------------------------------------\n",
    "\n",
    "- 75% of LotArea is below 11k; some accumulation within 18-35k, 46-70 and 4 extra outliers\n",
    "- MasVnrArea has 2 accumulations: major (below 165) and minor (420-1170) with 2 outliers\n",
    "- BsmtFinSF1 has 2 groups: around 0 and around 608sq.ft with minor group around 200 and 1 outlier\n",
    "- BsmtFinSF2 almost equals to 0\n",
    "- LowQualFinSF almost equals to 0\n",
    "- BsmtUnfSF is much better - no significant outliers\n",
    "- TotalDsmtSF, 1stFlrSF, GrLivArea, MasVnrArea are almost perfectly correlated\n",
    "- 2ndFlrSF is mostly 0, but the other group is 762 sq.ft. No outliers\n",
    "\n",
    "-------------------------------------------------------------------------------------------------------\n",
    "\n",
    "- Number of full basement baths mostly 0 or 1, some observations for 2, 3 -- outlier\n",
    "- basement HalfBath almost equals to zero\n",
    "- HalfBath almost equals to zero\n",
    "- FullBath - either 1, 2 or 3; drop the rest\n",
    "- Bedrooms = 4,5,6 or 8 -- outliers\n",
    "- Kitchen = 0,2,3 - outliers\n",
    "- But  something strange with total rooms variable - only 1 outlier (14), with median = 6\n",
    "- 3 fireplaces - outlier\n",
    "\n",
    "-------------------------------------------------------------------------------------------------------\n",
    "\n",
    "- GarageYearBlt more like YearBlt - see comparison\n",
    "- Garage cars = 4 - outlier\n",
    "- GarageArea more like grLivArea\n",
    "\n",
    "-------------------------------------------------------------------------------------------------------\n",
    "\n",
    "- WoodDeckSF, OpenPorchSF are more alike\n",
    "- EnclosedPorch, 3SsnPorch, ScreenPorch are much more rare, allmost equals to zero\n",
    "\n",
    "-------------------------------------------------------------------------------------------------------\n",
    "\n",
    "- PoolArea - only 7 houses with pools\n",
    "- MscVal - almost equals to zero\n",
    "- YrSold is defenitely unimodal\n",
    "- Sale price distribution looks like total lot sq.feet distribution"
   ]
  },
  {
   "cell_type": "markdown",
   "id": "44c5c1f2",
   "metadata": {
    "hidden": true
   },
   "source": [
    "Before moving futher, sum up single numerical dstributions:\n",
    "- Drop rather not important: **YrSold**, **PoolArea**, **MscVal**, **GarageYearBlt**, **BsmtFullBath**,  **BsmtHalfBath**, **HalfBath**, **BsmtFinSF2**, **LowQualFinSF**, **Id**, \n",
    "- Unite **EnclosedPorch**, **3SsnPorch**, **ScreenPorch** into **PorchRare**\n",
    "- Unite **WoodDeckSF**, **OpenPorchSF** into **PorchUsual**\n",
    "- Unite + remove outliers: **GarageArea**, **grLivArea**, **LotArea**, **TotalDsmtSF**, **1stFlrSF**, **MasVnrArea**\n",
    "- Remove outliers: **GarageCars**, **Kitchen**, **Fireplaces**, **FullBath**, **Bedroom**. Check correlation with sq.ft. or use **TotRmsAbvGrd** instead\n",
    "- Keep as it is: **MoSold**, **Sale price**, **BsmtUnfSF**, **BsmtFinSF1**, **TotRmsAbvGrd**, **LotFrontage**, **OverallCond**, **OverallQual**(more factors to study to decide), **YearBuilt**, **YearRemodAdd**, **SalePrice**\n",
    "- Create one-hot: IsSecondFloor\n",
    "- Recode as str: **MSSubClass**, **GarageCars**, **Kitchen**, **Fireplaces**, **FullBath**, **Bedroom**, **TotRmsAbvGrd**, **OverallCond**, **OverallQual**"
   ]
  },
  {
   "cell_type": "markdown",
   "id": "decae595",
   "metadata": {
    "heading_collapsed": true,
    "hidden": true
   },
   "source": [
    "## Numerical (2d)"
   ]
  },
  {
   "cell_type": "code",
   "execution_count": null,
   "id": "9c691052",
   "metadata": {
    "ExecuteTime": {
     "end_time": "2022-11-01T11:46:02.569313Z",
     "start_time": "2022-11-01T11:46:02.554269Z"
    },
    "hidden": true
   },
   "outputs": [],
   "source": [
    "vars_selected_num = [\n",
    "    'EnclosedPorch', '3SsnPorch', 'ScreenPorch', 'OpenPorchSF', 'WoodDeckSF', \n",
    "    'LotArea', 'GarageArea', 'GrLivArea', 'TotalBsmtSF', '1stFlrSF', 'MasVnrArea',\n",
    "    'GarageCars', 'KitchenAbvGr', 'Fireplaces', 'FullBath', 'BedroomAbvGr',\n",
    "    'YearRemodAdd', 'MoSold', 'BsmtUnfSF', 'SalePrice', 'BsmtFinSF1', 'TotRmsAbvGrd',\n",
    "    'LotFrontage', 'OverallCond', 'OverallQual', 'YearBuilt', \n",
    "    'PoolQC'\n",
    "]"
   ]
  },
  {
   "cell_type": "code",
   "execution_count": null,
   "id": "6ac30cbd",
   "metadata": {
    "ExecuteTime": {
     "end_time": "2022-11-01T11:46:03.141550Z",
     "start_time": "2022-11-01T11:46:03.141550Z"
    },
    "hidden": true,
    "scrolled": false
   },
   "outputs": [],
   "source": [
    "vars_selected_cor = ['LotArea', 'GrLivArea', 'TotalBsmtSF',\n",
    "                     'PoolQC']\n",
    "plt_lst_num_2d = show_basic_plots(data, vars_subset=vars_selected_cor)\n",
    "#for i in plt_lst_num_2d['scatter_num']:\n",
    "    #i.show()"
   ]
  },
  {
   "cell_type": "markdown",
   "id": "e2eb4e81",
   "metadata": {
    "hidden": true
   },
   "source": [
    "- LotArea and TotalBsmtSF are correlated\n",
    "- LotArea and GrLivArea are correlated\n",
    "\\\n",
    "= > keep LotArea only "
   ]
  },
  {
   "cell_type": "code",
   "execution_count": null,
   "id": "c8a6dc8b",
   "metadata": {
    "ExecuteTime": {
     "end_time": "2022-11-01T11:46:03.143536Z",
     "start_time": "2022-11-01T11:46:03.143536Z"
    },
    "hidden": true
   },
   "outputs": [],
   "source": [
    "vars_selected_cor = ['LotArea', '1stFlrSF',  'MasVnrArea', #'GarageArea',  \n",
    "                     'PoolQC']\n",
    "plt_lst_num_2d = show_basic_plots(data, vars_subset=vars_selected_cor)\n",
    "#for i in plt_lst_num_2d['scatter_num']:\n",
    "    #i.show()"
   ]
  },
  {
   "cell_type": "markdown",
   "id": "69906daa",
   "metadata": {
    "hidden": true
   },
   "source": [
    "- LotArea and 1stFlrSF are correlated\n",
    "- LotArea and MasVnr are correlated\n",
    "\\\n",
    "= > keep LotArea only"
   ]
  },
  {
   "cell_type": "code",
   "execution_count": null,
   "id": "447ad624",
   "metadata": {
    "ExecuteTime": {
     "end_time": "2022-11-01T11:46:03.144536Z",
     "start_time": "2022-11-01T11:46:03.144536Z"
    },
    "hidden": true
   },
   "outputs": [],
   "source": [
    "vars_selected_cor = ['LotArea', 'GarageArea',  \n",
    "                     'PoolQC']\n",
    "plt_lst_num_2d = show_basic_plots(data, vars_subset=vars_selected_cor)\n",
    "#for i in plt_lst_num_2d['scatter_num']:\n",
    "    #i.show()"
   ]
  },
  {
   "cell_type": "markdown",
   "id": "af4b4815",
   "metadata": {
    "hidden": true
   },
   "source": [
    "LotArea and GarageArea are correlated\n",
    "\\\n",
    "= > keep LotArea only"
   ]
  },
  {
   "cell_type": "code",
   "execution_count": null,
   "id": "04184d8d",
   "metadata": {
    "ExecuteTime": {
     "end_time": "2022-11-01T11:46:03.145538Z",
     "start_time": "2022-11-01T11:46:03.145538Z"
    },
    "hidden": true
   },
   "outputs": [],
   "source": [
    "vars_selected_cor = [\n",
    "    'FullBath',\n",
    "    'TotRmsAbvGrd'\n",
    "]\n",
    "plt_lst_num_2d = show_basic_plots(data, vars_subset=vars_selected_cor)\n",
    "#for i in plt_lst_num_2d['scatter_num']:\n",
    "    #i.show()"
   ]
  },
  {
   "cell_type": "code",
   "execution_count": null,
   "id": "9a7705b8",
   "metadata": {
    "ExecuteTime": {
     "end_time": "2022-11-01T11:46:03.145538Z",
     "start_time": "2022-11-01T11:46:03.145538Z"
    },
    "hidden": true
   },
   "outputs": [],
   "source": [
    "vars_selected_cor = [\n",
    "    'FullBath',\n",
    "    'TotRmsAbvGrd'\n",
    "]\n",
    "plt_lst_num_2d = show_basic_plots(data, vars_subset=vars_selected_cor)\n",
    "#for i in plt_lst_num_2d['dist_mlt_num']:\n",
    "    #i.show()"
   ]
  },
  {
   "cell_type": "code",
   "execution_count": null,
   "id": "887fe695",
   "metadata": {
    "ExecuteTime": {
     "end_time": "2022-11-01T11:46:03.146537Z",
     "start_time": "2022-11-01T11:46:03.146537Z"
    },
    "hidden": true
   },
   "outputs": [],
   "source": [
    "del plt_lst_num_2d"
   ]
  },
  {
   "cell_type": "markdown",
   "id": "519fcd7f",
   "metadata": {
    "hidden": true
   },
   "source": [
    "To sum up:\n",
    "- **LotArea** correlated with all the other areas, **LotFrontage**, \n",
    "- **WoodDeckSF** seems to be correlated with all the other porches\n",
    "- seems not to be important as much: **KitchenAbvGr**, **Fireplaces**, **BedroomAbvGr**, **FullBath**, **MoSold**\n",
    "- seems to be important: **GarageCars**, **TotRmsAbvGrd**, **YearRemodAdd**, **YearBuilt**, **OverallQual**, **OverallCond**, **BsmtUnfSF**, **WoodDeckSF**, **LotArea**\n",
    "\\\n",
    "=> out we have 9+1 (MSSubClass) out of 38 vars important "
   ]
  },
  {
   "cell_type": "markdown",
   "id": "0d890c9d",
   "metadata": {
    "heading_collapsed": true,
    "hidden": true
   },
   "source": [
    "## Numerical (overview)"
   ]
  },
  {
   "cell_type": "code",
   "execution_count": null,
   "id": "b96c0008",
   "metadata": {
    "ExecuteTime": {
     "end_time": "2022-11-01T22:05:25.445408Z",
     "start_time": "2022-11-01T22:05:22.160379Z"
    },
    "hidden": true,
    "scrolled": true
   },
   "outputs": [],
   "source": [
    "data.hist(layout=(6, 7), figsize=(20, 15), bins=40)\n",
    "plt.show()"
   ]
  },
  {
   "cell_type": "code",
   "execution_count": null,
   "id": "c0669efc",
   "metadata": {
    "ExecuteTime": {
     "end_time": "2022-11-01T11:46:03.148538Z",
     "start_time": "2022-11-01T11:46:03.148538Z"
    },
    "hidden": true,
    "scrolled": false
   },
   "outputs": [],
   "source": [
    "#sns.pairplot(data, diag_kind=\"kde\")"
   ]
  },
  {
   "cell_type": "markdown",
   "id": "4682c41f",
   "metadata": {
    "hidden": true
   },
   "source": [
    "- Again, it seems like strong correlation patterns are visible only for the Area-based variables"
   ]
  },
  {
   "cell_type": "markdown",
   "id": "bf93b0ae",
   "metadata": {
    "heading_collapsed": true,
    "hidden": true
   },
   "source": [
    "## Categorical"
   ]
  },
  {
   "cell_type": "code",
   "execution_count": null,
   "id": "0ca039be",
   "metadata": {
    "ExecuteTime": {
     "end_time": "2022-11-01T18:51:06.821080Z",
     "start_time": "2022-11-01T18:51:06.821080Z"
    },
    "hidden": true
   },
   "outputs": [],
   "source": [
    "#for i in tmp['dist_cat']: \n",
    "    #i.show()"
   ]
  },
  {
   "cell_type": "markdown",
   "id": "dd7f1b0e",
   "metadata": {
    "hidden": true
   },
   "source": [
    "- **MsZoning**: think about removing uniting RM, RH, something with C\n",
    "- **Street**: Only 6 streets are gravel, rather remove\n",
    "- **Alley**: is almost unimodal, rather remove\n",
    "- **Utilities**: only 1 house does not have all public utilities, rather remove\n",
    "- **CentraAir**: rather rare variable\n",
    "- **NeightboorHood**: maybe too many categories?\n",
    "- **HeatingQC**: drop Po?\n",
    "\n",
    "-------------------------------------------------------------------------------------------------------\n",
    "\n",
    "- Restrict number of categories: **Condition1**, **Condition2**, **RoofStyle**, **ExterCond**, **Exterior1st**, **Exterior2nd**, **BsmtCond**, **BsmntFinType2**, **GarageType**, **SaleType**, **SaleCondition**\n",
    "- Keep as it is: **MasVnrType**, **ExterQual**, **HouseStyle**, **BldgType**, **Foundation**, **BsmtQual**, **BsmtExposure**, **BsmntFinType1**, **KitchenQual**, **FireplaceQu**, **GarageFinish**, **PavedDrive**, **PoolQC**, **Fence**, **MiscFeature**\n",
    "\n",
    "-------------------------------------------------------------------------------------------------------\n",
    "\n",
    "- **LotConfig**: recode into Inside, Corner, CulDSac, Frontage\n",
    "- **LandSlope**: recode into Slope, NoSlope\n",
    "- **LotShape**: recode into Regular, Irregular, VeryIrregular\n",
    "- **LandCountour**: recode into NearFlat, NotNearFlat\n",
    "- **RoofMaterial** - recode into Cheap, Costly\n",
    "- **Heating**: recode into Gas, NotGas\n",
    "- **Elecrical**: recode into Good, Average, Bad\n",
    "- **Functional**: recode into Typical, Minor, Major\n",
    "- **GarageQual**: recode into Good, Average, Bad\n",
    "- **GarageCond**: recode into Good, Average, Bad"
   ]
  },
  {
   "cell_type": "markdown",
   "id": "8cfbf446",
   "metadata": {
    "heading_collapsed": true,
    "hidden": true
   },
   "source": [
    "## Categorical (2d)"
   ]
  },
  {
   "cell_type": "code",
   "execution_count": null,
   "id": "393c2ea3",
   "metadata": {
    "ExecuteTime": {
     "end_time": "2022-11-01T18:51:09.131849Z",
     "start_time": "2022-11-01T18:51:09.116772Z"
    },
    "hidden": true
   },
   "outputs": [],
   "source": [
    "#for i in tmp['dist_mlt_cat']: \n",
    "    #i.show()"
   ]
  },
  {
   "cell_type": "markdown",
   "id": "7899a081",
   "metadata": {
    "hidden": true
   },
   "source": [
    "- hard to perform EDA, too many variables, perform later after dimensionality reduction"
   ]
  },
  {
   "cell_type": "markdown",
   "id": "f0f8ba15",
   "metadata": {
    "heading_collapsed": true,
    "hidden": true
   },
   "source": [
    "## Categorical vs SalePrice"
   ]
  },
  {
   "cell_type": "code",
   "execution_count": null,
   "id": "4f477d1d",
   "metadata": {
    "ExecuteTime": {
     "end_time": "2022-11-01T14:38:09.010155Z",
     "start_time": "2022-11-01T14:36:37.028331Z"
    },
    "hidden": true
   },
   "outputs": [],
   "source": [
    "vars_selected_cor = [\n",
    "    'MasVnrType', 'ExterQual', 'HouseStyle', 'BldgType', 'Foundation',\n",
    "    'BsmtQual', 'BsmtExposure', 'BsmtFinType1', 'KitchenQual', 'FireplaceQu',\n",
    "    'GarageFinish', 'PavedDrive', 'PoolQC', 'Fence', 'MiscFeature',\n",
    "    \n",
    "    'Condition1', 'Condition2', 'RoofStyle', 'ExterCond', 'Exterior1st',\n",
    "    'Exterior2nd', 'BsmtCond', 'BsmtFinType2', 'GarageType', 'SaleType', 'SaleCondition',\n",
    "    \n",
    "    'LotConfig', 'LandSlope', 'LotShape', 'LandContour', 'RoofMatl', 'Heating',\n",
    "    'Electrical', 'Functional', 'GarageQual', 'GarageCond',\n",
    "    \n",
    "    'MSZoning', 'Street', 'Alley', 'Utilities', 'CentralAir', 'Neighborhood', 'HeatingQC',\n",
    "    \n",
    "    'SalePrice'\n",
    "]\n",
    "plt_lst_cat_2d = show_basic_plots(data, vars_subset=vars_selected_cor)"
   ]
  },
  {
   "cell_type": "code",
   "execution_count": null,
   "id": "4e40f8ae",
   "metadata": {
    "ExecuteTime": {
     "end_time": "2022-11-01T18:49:08.940269Z",
     "start_time": "2022-11-01T18:49:08.929470Z"
    },
    "hidden": true
   },
   "outputs": [],
   "source": [
    "#for i in plt_lst_cat_2d['violin_mix']:\n",
    "    #i.show()"
   ]
  },
  {
   "cell_type": "code",
   "execution_count": null,
   "id": "1e64a5de",
   "metadata": {
    "ExecuteTime": {
     "end_time": "2022-11-01T18:43:38.451607Z",
     "start_time": "2022-11-01T18:43:38.433603Z"
    },
    "hidden": true
   },
   "outputs": [],
   "source": [
    "del plt_lst_cat_2d"
   ]
  },
  {
   "cell_type": "markdown",
   "id": "b0ea2afc",
   "metadata": {
    "hidden": true
   },
   "source": [
    "- **MasnrType**: Masonry veneer with stone is costs much more; None and BrkCmn could be united into single variable\n",
    "- keep as it is: **HouseStyle**, **Foundation**, **KitchenQual**, **FireplaceQu**, **GarageFinish**, **MiscFeature**, **GarageType**\n",
    "- **BldgType**: maybe 2fmCon and Duplexcould be united into one; the ame for 1Fam and TwnhsE\n",
    "- **BsmtQual**: less distinctions between groups, but for now keep as it is\n",
    "- **BsmtExposure**: rather not important\n",
    "- **BsmtFinType1**: rather recode into GLQ, Unf, Other\n",
    "- **PavedDrive**: hard to say\n",
    "- **PoolQC**: Fa and Gd are almost the same\n",
    "- **Fence**: recode as GoodPrivacy, NotGoodPrivacy\n",
    "- **Condition1**, **Condition2**: unite PosA, PosN into Park; RRAe, RRAn, RRNe into RailRoad\n",
    "- hard to say: **RoofType**, **Exterior1st**, **Exterior2nd**\n",
    "-  **BsmtFinType2**: maybe unite BLQ, Rec, LwQ\n",
    "- **otConfig**: maybe unite FR3 and CulDSac\n",
    "- **LandSlope**: unite Mod and Sev\n",
    "- **LotShape**: Reg much lower\n",
    "- **LandContour**: maybe Lvl+bank, Low+HLS\n",
    "- **RoofMatl**: for sure CompShg+Metal+Roll+ClyTile, WdShake+Membran\n",
    "- **Heating**: for sure Gas, NoGas\n",
    "- **Electrical**: either 0-1 or factor(3)\n",
    "- **Functional**: no big difference besides Maj2\n",
    "- **HeatingQC**: maybe unite Po with Fa\n",
    "- **Neighborhood**:\n",
    "  - CollgCr+Crawfor+ClearCr+Blmngtn\n",
    "  - Veenker+Somerst+Timber\n",
    "  - NoRidge+NridHt+StoneBr\n",
    "  - Blueste+SWISU+Sawyer\n",
    "  - Mitchel+NAmes+NPkVill\n",
    "  - NWAmes+SawyerW+Gilber\n",
    "  - OldTown+BrkSide+Edwards\n",
    "  - IDOTRR+MeadowV+BrDale"
   ]
  },
  {
   "cell_type": "code",
   "execution_count": null,
   "id": "31d1b9d0",
   "metadata": {
    "hidden": true
   },
   "outputs": [],
   "source": [
    "del tmp"
   ]
  },
  {
   "cell_type": "markdown",
   "id": "1c95d28c",
   "metadata": {
    "heading_collapsed": true,
    "hidden": true
   },
   "source": [
    "## Initial conclusion"
   ]
  },
  {
   "cell_type": "markdown",
   "id": "c797b1ad",
   "metadata": {
    "hidden": true
   },
   "source": [
    "Numerical:\n",
    "- keep **LotArea** (or other more important feature with sq.ft. / newly created one from PCA)\n",
    "- keep **WoodDeckSF** (or other more important feature ending with porch / newly created one from PCA)\n",
    "- keep as it is: **GarageCars**, **TotRmsAbvGrd**, **YearRemodAdd**, **YearBuilt**,  **BsmtUnfSF**\n",
    "- recode as str and explore: **MSSubClass**, **OverallCond**, **OverallQual**\n",
    "- total: 10\n",
    "\n",
    "------------------------------------------------------------------------------------------------------\n",
    "\n",
    "Categorical:\n",
    "- keep as it is: **MsZoning**, **CentralAir**, **HouseStyle**, **Foundation**, **KitchenQual**, **FireplaceQu**, **GarageFinish**, **MiscFeature**, **GarageType**, **PavedDrive**, **BsmtQual**, **RoofType**, **Exterior1st**, **Exterior2nd**, **Heating**, **GarageQual**, **GarageCond**\n",
    "- **MasnrType**:  None+BrkCmn\n",
    "- **BldgType**: 2fmCon+Duplex; 1Fam+TwnhsE\n",
    "- **PoolQC**: Fa+Gd\n",
    "- **BsmtFinType2**: BLQ+Rec+LwQ\n",
    "- **LandContour**: Lvl+bank; Low+HLS\n",
    "- **LandSlope**: Mod+Sev\n",
    "- **LotConfig**: FR3+CulDSac\n",
    "- **HeatingQC**: Po+Fa\n",
    "- **RoofMatl**: CompShg+Metal+Roll+ClyTile; WdShake+Membran\n",
    "- **Condition1**, **Condition2**: unite PosA, PosN into Park; RRAe, RRAn, RRNe into RailRoad\n",
    "- **BsmtFinType1**: rather into GLQ, Unf, Other\n",
    "- **Fence**: recode into GoodPrivacy, NotGoodPrivacy\n",
    "- **Heating**: for sure recode into Gas, NoGas\n",
    "- **Neighborhood**: CollgCr+Crawfor+ClearCr+Blmngtn, Veenker+Somerst+Timber, NoRidge+NridHt+StoneBr, Blueste+SWISU+Sawyer, Mitchel+NAmes+NPkVill, NWAmes+SawyerW+Gilber, OldTown+BrkSide+Edwards, IDOTRR+MeadowV+BrDale\n",
    "- **LotShape**: Reg much lower\n",
    "- **Electrical**: either 0-1 or factor(3)\n",
    "- total: 33\n",
    "\n",
    "-------------------------------------------------------------------------------------------------------\n",
    "=> 43 initial variables to keep"
   ]
  },
  {
   "cell_type": "markdown",
   "id": "874e92e4",
   "metadata": {},
   "source": [
    "# Correlation & outliers analysis"
   ]
  },
  {
   "cell_type": "code",
   "execution_count": 1,
   "id": "be6d6261",
   "metadata": {
    "ExecuteTime": {
     "end_time": "2022-11-04T13:13:05.900255Z",
     "start_time": "2022-11-04T13:13:05.870796Z"
    },
    "code_folding": [
     0,
     14,
     19,
     24
    ]
   },
   "outputs": [],
   "source": [
    "def corr_heatmap(df):\n",
    "    color_background = '#F5F5F5'\n",
    "    color_gridlines = '#DCDCDC'\n",
    "        \n",
    "    fig = px.imshow(df.corr().round(3), text_auto=True, color_continuous_scale='deep')\n",
    "    fig.update_traces(opacity=0.8)\n",
    "    fig.update_layout(\n",
    "        coloraxis_showscale=False,\n",
    "        paper_bgcolor=color_background,\n",
    "        plot_bgcolor=color_background)\n",
    "    fig.update_yaxes(gridcolor=color_gridlines, title='')\n",
    "    fig.update_xaxes(linecolor=color_gridlines)\n",
    "    return(fig)\n",
    "\n",
    "def show_violin(df):\n",
    "    plts = show_basic_plots(df)\n",
    "    for i in plts['violin_mix']: \n",
    "        i.show()\n",
    "        \n",
    "def show_dist_cat(df):\n",
    "    plts = show_basic_plots(df)\n",
    "    for i in plts['dist_cat']: \n",
    "        i.show()\n",
    "        \n",
    "def show_dummy_corr(df):\n",
    "    corr_heatmap(\n",
    "        pd.get_dummies(\n",
    "            df,\n",
    "            columns=tmp_cols_to_dummy,\n",
    "            prefix=tmp_cols_to_dummy\n",
    "        )\n",
    "    ).show()"
   ]
  },
  {
   "cell_type": "markdown",
   "id": "c90e0636",
   "metadata": {
    "heading_collapsed": true
   },
   "source": [
    "## Numerical"
   ]
  },
  {
   "cell_type": "markdown",
   "id": "c2225de4",
   "metadata": {
    "heading_collapsed": true,
    "hidden": true
   },
   "source": [
    "### Baths"
   ]
  },
  {
   "cell_type": "code",
   "execution_count": null,
   "id": "bcfc6201",
   "metadata": {
    "ExecuteTime": {
     "end_time": "2022-11-02T07:05:44.718185Z",
     "start_time": "2022-11-02T07:05:44.708109Z"
    },
    "hidden": true
   },
   "outputs": [],
   "source": [
    "X = data.copy()\n",
    "X = X.loc[:, ['BsmtFullBath', 'BsmtHalfBath', 'FullBath', 'HalfBath', 'SalePrice']]"
   ]
  },
  {
   "cell_type": "code",
   "execution_count": null,
   "id": "210ada41",
   "metadata": {
    "ExecuteTime": {
     "end_time": "2022-11-02T06:59:59.541051Z",
     "start_time": "2022-11-02T06:59:58.252340Z"
    },
    "hidden": true
   },
   "outputs": [],
   "source": [
    "X.hist(layout=(6, 7), figsize=(20, 15), bins=40)\n",
    "plt.show()"
   ]
  },
  {
   "cell_type": "code",
   "execution_count": null,
   "id": "abd0bd46",
   "metadata": {
    "ExecuteTime": {
     "end_time": "2022-11-02T07:05:00.720946Z",
     "start_time": "2022-11-02T07:05:00.708673Z"
    },
    "hidden": true
   },
   "outputs": [],
   "source": [
    "print(X.loc[X.BsmtFullBath > 1, :].shape[0]/X.shape[0])    # 16 observations\n",
    "print(X.loc[X.BsmtHalfBath > 1, :].shape[0]/X.shape[0])    # 2 observations\n",
    "print(X.loc[X.FullBath > 2, :].shape[0]/X.shape[0])        # 33 observations\n",
    "print(X.loc[X.HalfBath > 1, :].shape[0]/X.shape[0])        # 12 observations"
   ]
  },
  {
   "cell_type": "code",
   "execution_count": null,
   "id": "044b2caa",
   "metadata": {
    "ExecuteTime": {
     "end_time": "2022-11-02T06:58:59.175074Z",
     "start_time": "2022-11-02T06:58:59.140282Z"
    },
    "hidden": true,
    "scrolled": false
   },
   "outputs": [],
   "source": [
    "corr_heatmap(X)"
   ]
  },
  {
   "cell_type": "code",
   "execution_count": null,
   "id": "ab71c745",
   "metadata": {
    "ExecuteTime": {
     "end_time": "2022-11-02T07:09:34.431873Z",
     "start_time": "2022-11-02T07:09:34.395865Z"
    },
    "hidden": true
   },
   "outputs": [],
   "source": [
    "corr_heatmap(X.query('BsmtHalfBath <= 1 & BsmtFullBath <= 1 & FullBath <= 2 & HalfBath <= 1'))"
   ]
  },
  {
   "cell_type": "markdown",
   "id": "3a9f64e8",
   "metadata": {
    "hidden": true
   },
   "source": [
    "- The strongest correlation is between FullBath, SalePrice\n",
    "- There is no strong correlation between other groups\n",
    "- However, just logically FullBath = BsmtFullBath + Second Floor Full Baths; the same for HalfBaths\n",
    "=> keep only FullBaths, HalfBaths"
   ]
  },
  {
   "cell_type": "markdown",
   "id": "e41ea809",
   "metadata": {
    "heading_collapsed": true,
    "hidden": true
   },
   "source": [
    "### Rooms"
   ]
  },
  {
   "cell_type": "code",
   "execution_count": null,
   "id": "d6c24d9f",
   "metadata": {
    "ExecuteTime": {
     "end_time": "2022-11-02T07:16:16.415496Z",
     "start_time": "2022-11-02T07:16:16.397438Z"
    },
    "hidden": true
   },
   "outputs": [],
   "source": [
    "X = data.copy()\n",
    "X = X.loc[:, ['BedroomAbvGr', 'KitchenAbvGr', 'FullBath', 'HalfBath', 'TotRmsAbvGrd',\n",
    "              'SalePrice']]"
   ]
  },
  {
   "cell_type": "code",
   "execution_count": null,
   "id": "8dc0fcb5",
   "metadata": {
    "ExecuteTime": {
     "end_time": "2022-11-02T07:16:19.676730Z",
     "start_time": "2022-11-02T07:16:18.300419Z"
    },
    "hidden": true
   },
   "outputs": [],
   "source": [
    "X.hist(layout=(6, 7), figsize=(20, 15), bins=40)\n",
    "plt.show()"
   ]
  },
  {
   "cell_type": "code",
   "execution_count": null,
   "id": "21a4ccf2",
   "metadata": {
    "ExecuteTime": {
     "end_time": "2022-11-02T07:21:48.285990Z",
     "start_time": "2022-11-02T07:21:48.278483Z"
    },
    "hidden": true
   },
   "outputs": [],
   "source": [
    "print(X.loc[X.BedroomAbvGr > 5, :].shape[0]/X.shape[0])    # 8 observations\n",
    "print(X.loc[X.KitchenAbvGr > 2, :].shape[0]/X.shape[0])    # 2 obs.\n",
    "print(X.loc[X.TotRmsAbvGrd > 13, :].shape[0]/X.shape[0])    # 1 obs.\n",
    "print(X.loc[X.FullBath > 2, :].shape[0]/X.shape[0])        # 33 obs.\n",
    "print(X.loc[X.HalfBath > 1, :].shape[0]/X.shape[0])        # 12 obs."
   ]
  },
  {
   "cell_type": "code",
   "execution_count": null,
   "id": "8be32d51",
   "metadata": {
    "ExecuteTime": {
     "end_time": "2022-11-02T07:22:08.092427Z",
     "start_time": "2022-11-02T07:22:08.044905Z"
    },
    "hidden": true
   },
   "outputs": [],
   "source": [
    "corr_heatmap(X)"
   ]
  },
  {
   "cell_type": "code",
   "execution_count": null,
   "id": "de13d1fb",
   "metadata": {
    "ExecuteTime": {
     "end_time": "2022-11-02T07:24:28.022780Z",
     "start_time": "2022-11-02T07:24:27.988266Z"
    },
    "hidden": true,
    "scrolled": true
   },
   "outputs": [],
   "source": [
    "corr_heatmap(\n",
    "    X.query(\n",
    "        'BedroomAbvGr <= 5 & KitchenAbvGr <= 2 & TotRmsAbvGrd <= 13 & FullBath <= 2 & HalfBath <= 1'\n",
    "    )\n",
    ")"
   ]
  },
  {
   "cell_type": "markdown",
   "id": "dded6d81",
   "metadata": {
    "hidden": true
   },
   "source": [
    "- Remove Kitchen as it almost non-variative variable\n",
    "- TotalRmsAbvgrd and FullBath are strongly correlated - remove FullBath as it already is included in rooms\n",
    "- TotalRmsAbvgrd and BedroomAbvgr are strongly correlated - - remove BedroomAbvGr as it already is included in rooms\n",
    "\\\n",
    "=> keep HalfBath, TotRmsAbvGrd"
   ]
  },
  {
   "cell_type": "markdown",
   "id": "d30a1cc7",
   "metadata": {
    "heading_collapsed": true,
    "hidden": true
   },
   "source": [
    "### Areas"
   ]
  },
  {
   "cell_type": "code",
   "execution_count": null,
   "id": "437dd8c3",
   "metadata": {
    "ExecuteTime": {
     "end_time": "2022-11-02T07:32:45.769620Z",
     "start_time": "2022-11-02T07:32:45.759497Z"
    },
    "hidden": true
   },
   "outputs": [],
   "source": [
    "X = data.copy()\n",
    "X = X.loc[:, ['LotFrontage', 'LotArea', 'MasVnrArea', 'BsmtFinSF1', 'BsmtFinSF2',\n",
    "              'BsmtUnfSF', 'TotalBsmtSF', '1stFlrSF', '2ndFlrSF', 'LowQualFinSF',\n",
    "              'GrLivArea', 'GarageArea',\n",
    "              'SalePrice']]"
   ]
  },
  {
   "cell_type": "code",
   "execution_count": null,
   "id": "94a60a14",
   "metadata": {
    "ExecuteTime": {
     "end_time": "2022-11-02T07:34:40.490966Z",
     "start_time": "2022-11-02T07:34:34.084811Z"
    },
    "hidden": true
   },
   "outputs": [],
   "source": [
    "tmp = show_basic_plots(X)\n",
    "for i in tmp['violin_num']: \n",
    "    i.show()\n",
    "del tmp"
   ]
  },
  {
   "cell_type": "code",
   "execution_count": null,
   "id": "144e08a5",
   "metadata": {
    "ExecuteTime": {
     "end_time": "2022-11-02T07:43:43.598056Z",
     "start_time": "2022-11-02T07:43:43.574535Z"
    },
    "hidden": true
   },
   "outputs": [],
   "source": [
    "print(X.loc[X.LotArea > 70000].shape[0]/X.shape[0]) #5\n",
    "print(X.loc[X.LotFrontage > 182].shape[0]/X.shape[0]) #2\n",
    "print(X.loc[X.MasVnrArea > 1170].shape[0]/X.shape[0]) # 2\n",
    "print(X.loc[X.BsmtFinSF1 > 2260].shape[0]/X.shape[0]) # 1\n",
    "print(X.loc[X.BsmtFinSF2 > 1127].shape[0]/X.shape[0]) # 1\n",
    "print(X.loc[X.TotalBsmtSF > 3206].shape[0]/X.shape[0]) # 1\n",
    "print(X.loc[X['1stFlrSF'] > 3228].shape[0]/X.shape[0]) # 1\n",
    "print(X.loc[X['2ndFlrSF'] > 1871].shape[0]/X.shape[0]) # 2\n",
    "print(X.loc[X['LowQualFinSF'] > 500].shape[0]/X.shape[0]) # only 26 obs > 0; maybe recode as 0-1\n",
    "print(X.loc[X.GrLivArea > 4676].shape[0]/X.shape[0]) # 1"
   ]
  },
  {
   "cell_type": "code",
   "execution_count": null,
   "id": "de20d406",
   "metadata": {
    "ExecuteTime": {
     "end_time": "2022-11-02T07:44:03.298302Z",
     "start_time": "2022-11-02T07:44:03.255258Z"
    },
    "hidden": true
   },
   "outputs": [],
   "source": [
    "corr_heatmap(X)"
   ]
  },
  {
   "cell_type": "code",
   "execution_count": null,
   "id": "f9ab43bf",
   "metadata": {
    "ExecuteTime": {
     "end_time": "2022-11-02T07:57:44.326201Z",
     "start_time": "2022-11-02T07:57:44.280149Z"
    },
    "hidden": true
   },
   "outputs": [],
   "source": [
    "corr_heatmap(\n",
    "    X.query(\n",
    "        ('LotArea <= 70000 & LotFrontage <= 182 & MasVnrArea <= 1170 &'+\n",
    "        'BsmtFinSF1 <= 2260 & BsmtFinSF2 <= 1127 & TotalBsmtSF <= 3206 &'+\n",
    "        'LowQualFinSF <= 500 & GrLivArea <= 4676')\n",
    "    )\n",
    ")"
   ]
  },
  {
   "cell_type": "markdown",
   "id": "038051d2",
   "metadata": {
    "hidden": true
   },
   "source": [
    "- LotArea has average correlation with other areas\n",
    "- MasVnrArea has even less strong correlation with other areas\n",
    "- BsmtFinSF1 is correlated with TotalBasement and 1st floor area\n",
    "- BsmtFinSF2 is weakly correlated with all the other areas\n",
    "- BsmtUnfSF is correlated with TotalBasement olny\n",
    "- TotalBsmtSF has strong correlation with 1stFlrSF;pretty strong with GarageArea and GRLivArea\n",
    "- 2ndFlrSF is strongly correlated with GrLivArea\n",
    "- GarageArea is correlated with Total Basement, 1stFloor basement, GrLivArea\n",
    "-------------------------------------------------------------------------------------------------------\n",
    "To sum up:\n",
    "- better to be united during PCA\n",
    "- The best Area is GrLivArea\n",
    "- Also keep LotFrontage, LotArea, MasVnrArea, TotalBsmtSF, GarageArea\n",
    "- proportion of finished/unfinished basement could be created"
   ]
  },
  {
   "cell_type": "markdown",
   "id": "88bc75ab",
   "metadata": {
    "heading_collapsed": true,
    "hidden": true
   },
   "source": [
    "### Porches"
   ]
  },
  {
   "cell_type": "code",
   "execution_count": null,
   "id": "43ec621a",
   "metadata": {
    "ExecuteTime": {
     "end_time": "2022-11-02T08:11:54.743330Z",
     "start_time": "2022-11-02T08:11:54.730105Z"
    },
    "hidden": true
   },
   "outputs": [],
   "source": [
    "X = data.copy()\n",
    "X = X.loc[:, ['WoodDeckSF', '3SsnPorch', 'EnclosedPorch', 'ScreenPorch', 'OpenPorchSF',\n",
    "              'SalePrice']]"
   ]
  },
  {
   "cell_type": "code",
   "execution_count": null,
   "id": "6b8c196e",
   "metadata": {
    "ExecuteTime": {
     "end_time": "2022-11-02T08:12:09.633380Z",
     "start_time": "2022-11-02T08:12:08.321168Z"
    },
    "hidden": true
   },
   "outputs": [],
   "source": [
    "tmp = show_basic_plots(X)\n",
    "for i in tmp['violin_num']: \n",
    "    i.show()\n",
    "del tmp"
   ]
  },
  {
   "cell_type": "code",
   "execution_count": null,
   "id": "d5649000",
   "metadata": {
    "ExecuteTime": {
     "end_time": "2022-11-02T08:13:29.984890Z",
     "start_time": "2022-11-02T08:13:29.976361Z"
    },
    "hidden": true
   },
   "outputs": [],
   "source": [
    "X.loc[X['3SsnPorch']>0].shape  # 24"
   ]
  },
  {
   "cell_type": "code",
   "execution_count": null,
   "id": "1c2adf2e",
   "metadata": {
    "ExecuteTime": {
     "end_time": "2022-11-02T08:13:36.848230Z",
     "start_time": "2022-11-02T08:13:36.810157Z"
    },
    "hidden": true
   },
   "outputs": [],
   "source": [
    "corr_heatmap(X)"
   ]
  },
  {
   "cell_type": "markdown",
   "id": "5f7ef829",
   "metadata": {
    "hidden": true
   },
   "source": [
    "- better create new PorchSF and PorchType variables"
   ]
  },
  {
   "cell_type": "markdown",
   "id": "0cc8904a",
   "metadata": {
    "heading_collapsed": true,
    "hidden": true
   },
   "source": [
    "### TimeStamps"
   ]
  },
  {
   "cell_type": "code",
   "execution_count": null,
   "id": "12b65bc8",
   "metadata": {
    "ExecuteTime": {
     "end_time": "2022-11-02T18:34:57.855700Z",
     "start_time": "2022-11-02T18:34:57.841698Z"
    },
    "hidden": true
   },
   "outputs": [],
   "source": [
    "X = data.copy()\n",
    "X = X.loc[:, ['MoSold', 'YrSold', 'YearBuilt', 'YearRemodAdd', 'GarageYrBlt',\n",
    "              'SalePrice']]"
   ]
  },
  {
   "cell_type": "code",
   "execution_count": null,
   "id": "5dadcd47",
   "metadata": {
    "ExecuteTime": {
     "end_time": "2022-11-02T18:34:59.736550Z",
     "start_time": "2022-11-02T18:34:59.698526Z"
    },
    "hidden": true,
    "scrolled": true
   },
   "outputs": [],
   "source": [
    "corr_heatmap(X)"
   ]
  },
  {
   "cell_type": "markdown",
   "id": "6fa48213",
   "metadata": {
    "hidden": true
   },
   "source": [
    "- Year and Month when the house was sold - rather not important\n",
    "- YearBuilt, YearRemodAdd, GarageBuilt are strongly correlated - either unite/drop\n",
    "- Add 0-1 whether renovation was held"
   ]
  },
  {
   "cell_type": "markdown",
   "id": "d4373f6b",
   "metadata": {
    "heading_collapsed": true,
    "hidden": true
   },
   "source": [
    "### Luxury and qualities"
   ]
  },
  {
   "cell_type": "code",
   "execution_count": null,
   "id": "f604df26",
   "metadata": {
    "ExecuteTime": {
     "end_time": "2022-11-02T08:30:11.333332Z",
     "start_time": "2022-11-02T08:30:11.314314Z"
    },
    "hidden": true
   },
   "outputs": [],
   "source": [
    "X = data.copy()\n",
    "X = X.loc[:, ['Fireplaces', 'PoolArea', 'MiscVal', 'OverallCond', 'OverallQual',\n",
    "              'SalePrice']]"
   ]
  },
  {
   "cell_type": "code",
   "execution_count": null,
   "id": "af50f214",
   "metadata": {
    "hidden": true
   },
   "outputs": [],
   "source": [
    "tmp = show_basic_plots(X)\n",
    "for i in tmp['violin_num']: \n",
    "    i.show()\n",
    "del tmp"
   ]
  },
  {
   "cell_type": "code",
   "execution_count": null,
   "id": "45ffd601",
   "metadata": {
    "ExecuteTime": {
     "end_time": "2022-11-02T08:30:05.870309Z",
     "start_time": "2022-11-02T08:30:05.858292Z"
    },
    "hidden": true
   },
   "outputs": [],
   "source": [
    "print(X.loc[X.Fireplaces > 2].shape[0]/X.shape[0])  # 5\n",
    "print(X.loc[X.MiscVal > 3500].shape[0]/X.shape[0])  # 2\n",
    "print(X.loc[X.OverallCond < 3].shape[0]/X.shape[0]) # 6\n",
    "print(X.loc[X.OverallQual < 3].shape[0]/X.shape[0]) # 5\n",
    "print(X.loc[X.PoolArea > 0].shape[0]/X.shape[0]) # 7"
   ]
  },
  {
   "cell_type": "code",
   "execution_count": null,
   "id": "c8862dd8",
   "metadata": {
    "ExecuteTime": {
     "end_time": "2022-11-02T08:30:13.473354Z",
     "start_time": "2022-11-02T08:30:13.427305Z"
    },
    "hidden": true
   },
   "outputs": [],
   "source": [
    "corr_heatmap(X)"
   ]
  },
  {
   "cell_type": "code",
   "execution_count": null,
   "id": "cda44e0f",
   "metadata": {
    "hidden": true
   },
   "outputs": [],
   "source": [
    "X.].shape[0]/X.shape[0])  # 5\n",
    "print(X.loc[X. > 3500].shape[0]/X.shape[0])  # 2\n",
    "print(X.loc[X. < 3].shape[0]/X.shape[0]) # 6\n",
    "print(X.loc[X. < 3].shape[0]/X.shape[0]) # 5\n",
    "print(X.loc[X.PoolArea > 0].shape[0]/X.shape[0]) # 7"
   ]
  },
  {
   "cell_type": "code",
   "execution_count": null,
   "id": "8d40bf17",
   "metadata": {
    "ExecuteTime": {
     "end_time": "2022-11-02T08:32:22.561282Z",
     "start_time": "2022-11-02T08:32:22.523183Z"
    },
    "hidden": true,
    "scrolled": true
   },
   "outputs": [],
   "source": [
    "corr_heatmap(\n",
    "    X.query(\n",
    "        'Fireplaces <= 2 & MiscVal <= 3500 & OverallCond >=3 & OverallQual >= 3'\n",
    "    )\n",
    ")"
   ]
  },
  {
   "cell_type": "markdown",
   "id": "2bd9d793",
   "metadata": {
    "hidden": true
   },
   "source": [
    "- Only Fireplaces and OverallQual are important ones"
   ]
  },
  {
   "cell_type": "markdown",
   "id": "db32953a",
   "metadata": {
    "heading_collapsed": true,
    "hidden": true
   },
   "source": [
    "### Overview"
   ]
  },
  {
   "cell_type": "markdown",
   "id": "3f36c3ba",
   "metadata": {
    "hidden": true
   },
   "source": [
    "- keep **HalfBath**, **TotRmsAbvGrd**, **YearBuilt**(or new from PCA or LastYearBuilt), **Fireplaces**, **OverallQual**, **GrLivArea**(or new from PCA, or also MasVnrArea, TotalBsmtSF, GarageArea, LotFrontage, LotArea)\n",
    "- create new vars: PorchSF(num), PorchType(cat), WasRennovation(0-1), BsmtFinProp(float, [0, 1]), FloorAreaProp(float, [0,1]) - aka 2ndfloor/1srfloor; the same for porch prop, garage prop, MasVnrArea etc.\n",
    "- continue exploration after PCA"
   ]
  },
  {
   "cell_type": "code",
   "execution_count": 68,
   "id": "af33728d",
   "metadata": {
    "ExecuteTime": {
     "end_time": "2022-11-06T12:42:26.036388Z",
     "start_time": "2022-11-06T12:42:26.028400Z"
    },
    "code_folding": [
     0
    ],
    "hidden": true
   },
   "outputs": [],
   "source": [
    "def prepare_data_num(X):\n",
    "    X['MSSubClass'] = X['MSSubClass'].astype(str)\n",
    "    X['PorchSF'] = (X['WoodDeckSF'] + X['OpenPorchSF'] + \n",
    "                    X['EnclosedPorch'] + X['3SsnPorch'] + \n",
    "                    X['ScreenPorch'])\n",
    "    X['PorchType'] = ''\n",
    "    X['IsRennovated'] = np.where(X['YearBuilt'] != X['YearRemodAdd'], 1, 0)\n",
    "    \n",
    "    X['PropMasVnr'] = X['MasVnrArea']/X['LotArea']\n",
    "    X['PropBsmFin1'] = X['BsmtFinSF1']/X['LotArea']\n",
    "    X['PropBsmFin2'] = X['BsmtFinSF2']/X['LotArea']\n",
    "    X['PropBsmUnf'] = X['BsmtUnfSF']/X['LotArea']\n",
    "    \n",
    "    X['Prop2MasVnr'] = X['MasVnrArea']/X['TotalBsmtSF']\n",
    "    X['Prop2BsmFin1'] = X['BsmtFinSF1']/X['TotalBsmtSF']\n",
    "    X['Prop2BsmFin2'] = X['BsmtFinSF2']/X['TotalBsmtSF']\n",
    "    X['Prop2BsmUnf'] = X['BsmtUnfSF']/X['TotalBsmtSF']\n",
    "    \n",
    "    X['GarageLivingRatio'] = X['GarageArea']/X['GrLivArea']\n",
    "    X['PerRoomSF'] = X['GrLivArea']/X['TotRmsAbvGrd']\n",
    "    \n",
    "    X['PropGrLivArea'] = X['GrLivArea']/X['LotArea']\n",
    "    X['PropGarageArea'] = X['GarageArea']/X['LotArea']\n",
    "    X['PropLowQualFin'] = X['LowQualFinSF']/X['LotArea']\n",
    "    X['PropBsmTotal'] = X['TotalBsmtSF']/X['LotArea']\n",
    "    X['PropFloor1'] = X['1stFlrSF']/X['LotArea']\n",
    "    X['PropFloor2'] = X['2ndFlrSF']/X['LotArea']\n",
    "    X['FloorRatio'] = X['2ndFlrSF']/X['1stFlrSF']\n",
    "    X['PropPorch'] = X['PorchSF']/X['LotArea']\n",
    "    # prop 1st floor to second\n",
    "    \n",
    "    cols_to_drop = [\n",
    "        'Id', 'MoSold', 'YrSold', 'PoolArea', 'BsmtFullBath', 'BsmtHalfBath', \n",
    "        'FullBath', 'BedroomAbvGr', 'KitchenAbvGr', 'GarageYrBlt', 'GarageCars'\n",
    "    ]\n",
    "    X.drop(columns=cols_to_drop, inplace=True)\n",
    "    return X"
   ]
  },
  {
   "cell_type": "code",
   "execution_count": 70,
   "id": "ce47efd6",
   "metadata": {
    "ExecuteTime": {
     "end_time": "2022-11-06T12:42:41.263368Z",
     "start_time": "2022-11-06T12:42:41.122154Z"
    },
    "hidden": true
   },
   "outputs": [],
   "source": [
    "X = data.copy()\n",
    "X = prepare_data_num(X)\n",
    "corr_heatmap(X)"
   ]
  },
  {
   "cell_type": "markdown",
   "id": "1d8e84fa",
   "metadata": {
    "hidden": true
   },
   "source": [
    "- generally, proportions describes sale price worser than original sq.ft. variables\n",
    "- floor ratio is better than just floors"
   ]
  },
  {
   "cell_type": "code",
   "execution_count": 74,
   "id": "6b2a51e3",
   "metadata": {
    "ExecuteTime": {
     "end_time": "2022-11-06T12:45:39.507751Z",
     "start_time": "2022-11-06T12:45:39.492106Z"
    },
    "code_folding": [
     0
    ],
    "hidden": true
   },
   "outputs": [],
   "source": [
    "def prepare_data_num(X):\n",
    "    X['MSSubClass'] = X['MSSubClass'].astype(str)\n",
    "    X['PorchSF'] = (X['WoodDeckSF'] + X['OpenPorchSF'] + \n",
    "                    X['EnclosedPorch'] + X['3SsnPorch'] + \n",
    "                    X['ScreenPorch'])\n",
    "    X['PorchType'] = ''\n",
    "    X['IsRennovated'] = np.where(X['YearBuilt'] != X['YearRemodAdd'], 1, 0)\n",
    "    X['FloorRatio'] = X['2ndFlrSF']/X['1stFlrSF']\n",
    "    #X['PerRoomSF'] = X['GrLivArea']/X['TotRmsAbvGrd']\n",
    "    \n",
    "    cols_to_drop = [\n",
    "        'Id', 'MoSold', 'YrSold', 'PoolArea', 'BsmtFullBath', 'BsmtHalfBath', \n",
    "        'FullBath', 'BedroomAbvGr', 'KitchenAbvGr', 'GarageYrBlt', 'GarageCars',\n",
    "        'WoodDeckSF', 'OpenPorchSF', 'EnclosedPorch', '3SsnPorch', 'ScreenPorch',\n",
    "        'YearRemodAdd', 'TotalBsmtSF', 'MiscVal', '2ndFlrSF', '1stFlrSF'\n",
    "    ]\n",
    "    X.drop(columns=cols_to_drop, inplace=True)\n",
    "    return X"
   ]
  },
  {
   "cell_type": "code",
   "execution_count": 75,
   "id": "97d5cd5e",
   "metadata": {
    "ExecuteTime": {
     "end_time": "2022-11-06T12:45:41.628218Z",
     "start_time": "2022-11-06T12:45:41.491425Z"
    },
    "hidden": true
   },
   "outputs": [],
   "source": [
    "X = data.copy()\n",
    "X = prepare_data_num(X)\n",
    "corr_heatmap(X)"
   ]
  },
  {
   "cell_type": "code",
   "execution_count": 77,
   "id": "fd21ad0d",
   "metadata": {
    "ExecuteTime": {
     "end_time": "2022-11-06T12:51:03.918524Z",
     "start_time": "2022-11-06T12:51:03.642443Z"
    },
    "hidden": true
   },
   "outputs": [],
   "source": [
    "tmp = show_basic_plots(X, ['LowQualFinSF', 'BsmtFinSF2', 'MSSubClass'])"
   ]
  },
  {
   "cell_type": "code",
   "execution_count": 79,
   "id": "ada33ae6",
   "metadata": {
    "ExecuteTime": {
     "end_time": "2022-11-06T12:51:43.784046Z",
     "start_time": "2022-11-06T12:51:43.612669Z"
    },
    "hidden": true
   },
   "outputs": [],
   "source": [
    "for i in tmp['dist_num']:\n",
    "    i.show()"
   ]
  },
  {
   "cell_type": "markdown",
   "id": "8381b683",
   "metadata": {
    "hidden": true
   },
   "source": [
    "- GrLivArea, TotRmsAbvGrd, areas are strongly correlated => use PerRoomSF\n",
    "- IsRennovated, OverallCond, LowQualSF(very rare), BsmtFin2SF(very rare) seems to be unimportant => drop them\n",
    "- Still better use some kind of PCA"
   ]
  },
  {
   "cell_type": "markdown",
   "id": "f06b013e",
   "metadata": {
    "heading_collapsed": true
   },
   "source": [
    "## Categorical"
   ]
  },
  {
   "cell_type": "markdown",
   "id": "a3f76c6a",
   "metadata": {
    "heading_collapsed": true,
    "hidden": true
   },
   "source": [
    "### House placement"
   ]
  },
  {
   "cell_type": "code",
   "execution_count": null,
   "id": "cc2dd380",
   "metadata": {
    "ExecuteTime": {
     "end_time": "2022-11-04T07:45:15.079705Z",
     "start_time": "2022-11-04T07:45:15.067697Z"
    },
    "hidden": true
   },
   "outputs": [],
   "source": [
    "cols_to_dummy = ['MSZoning', 'Neighborhood', 'Condition1', 'Condition2']\n",
    "X = data.copy()\n",
    "X = X.loc[:, cols_to_dummy+['SalePrice']]"
   ]
  },
  {
   "cell_type": "markdown",
   "id": "0ebfa76c",
   "metadata": {
    "heading_collapsed": true,
    "hidden": true
   },
   "source": [
    "#### MSZoning"
   ]
  },
  {
   "cell_type": "code",
   "execution_count": null,
   "id": "82089d48",
   "metadata": {
    "ExecuteTime": {
     "end_time": "2022-11-04T07:45:17.137827Z",
     "start_time": "2022-11-04T07:45:16.908669Z"
    },
    "hidden": true,
    "scrolled": true
   },
   "outputs": [],
   "source": [
    "tmp_cols_to_dummy = ['MSZoning']\n",
    "tmp = X.loc[:, ['SalePrice']+tmp_cols_to_dummy]\n",
    "show_violin(tmp)\n",
    "show_dummy_corr(tmp)\n",
    "show_dist_cat(tmp)"
   ]
  },
  {
   "cell_type": "code",
   "execution_count": null,
   "id": "43cb7fed",
   "metadata": {
    "hidden": true
   },
   "outputs": [],
   "source": [
    "tmp['MSZoning'] = tmp.MSZoning.replace({'RH':'RM', 'FV':'RL', 'C (all)': 'RM'})\n",
    "tmp['IsLowDensityArea'] = np.where(tmp['MSZoning'] == 'RL', 1, 0)"
   ]
  },
  {
   "cell_type": "markdown",
   "id": "5f2fd028",
   "metadata": {
    "heading_collapsed": true,
    "hidden": true
   },
   "source": [
    "#### NeighborHood"
   ]
  },
  {
   "cell_type": "code",
   "execution_count": null,
   "id": "4db2579f",
   "metadata": {
    "ExecuteTime": {
     "end_time": "2022-11-04T07:49:04.290422Z",
     "start_time": "2022-11-04T07:49:03.987144Z"
    },
    "hidden": true
   },
   "outputs": [],
   "source": [
    "tmp_cols_to_dummy = ['Neighborhood']\n",
    "tmp = X.loc[:, ['SalePrice']+tmp_cols_to_dummy]\n",
    "show_dummy_corr(tmp)\n",
    "show_dist_cat(tmp)\n",
    "show_violin(tmp)"
   ]
  },
  {
   "cell_type": "markdown",
   "id": "d6e51d36",
   "metadata": {
    "hidden": true
   },
   "source": [
    "- unite MeadowV, BrGale, IDOTRR\n",
    "- unite OldTown, Sawyer, BrkSide, Edwards\n",
    "- unite Blueste, NPkVill, NAmes, Mitchel, SWISU\n",
    "- unite SawyerW, Blmngtn, Gilbert, NWAmes\n",
    "- unite CrawFor, CollgCr, ClearCr\n",
    "- unite Somerst, Timber, Venkeer, \n",
    "- unite NridgHt, StoneBr, NoRidge"
   ]
  },
  {
   "cell_type": "code",
   "execution_count": null,
   "id": "d16eed46",
   "metadata": {
    "ExecuteTime": {
     "end_time": "2022-11-04T08:15:34.586749Z",
     "start_time": "2022-11-04T08:15:34.364664Z"
    },
    "hidden": true
   },
   "outputs": [],
   "source": [
    "tmp_cols_to_dummy = ['Neighborhood']\n",
    "tmp = X.loc[:, ['SalePrice']+tmp_cols_to_dummy]\n",
    "tmp['Neighborhood'] = tmp.Neighborhood.replace(\n",
    "    {'MeadowV':'C1', 'BrDale':'C1', 'IDOTRR':'C1',\n",
    "     'Edwards':'C2', 'OldTown': 'C2', 'Sawyer':'C2', 'BrkSide':'C2',\n",
    "     'Blueste':'C3', 'NPkVill':'C3', 'Mitchel':'C3', 'SWISU':'C3', 'NAmes':'C3',\n",
    "     'SawyerW':'C4', 'Blmngtn':'C4', 'Gilbert':'C4', 'NWAmes':'C4',\n",
    "     'Somerst':'C5', 'Timber':'C5', 'Veenker':'C5',\n",
    "     'Crawfor':'C6', 'CollgCr':'C6', 'ClearCr':'C6',\n",
    "     'NridgHt': 'C7', 'StoneBr': 'C7', 'NoRidge': 'C7'\n",
    "    }\n",
    ")\n",
    "show_dummy_corr(tmp)\n",
    "show_dist_cat(tmp)\n",
    "show_violin(tmp)"
   ]
  },
  {
   "cell_type": "markdown",
   "id": "93475588",
   "metadata": {
    "hidden": true
   },
   "source": [
    "- unite C6, C5\n",
    "- unite C2, C3"
   ]
  },
  {
   "cell_type": "code",
   "execution_count": null,
   "id": "c7f123ba",
   "metadata": {
    "ExecuteTime": {
     "end_time": "2022-11-04T08:18:26.068551Z",
     "start_time": "2022-11-04T08:18:25.838263Z"
    },
    "hidden": true
   },
   "outputs": [],
   "source": [
    "tmp_cols_to_dummy = ['Neighborhood']\n",
    "tmp = X.loc[:, ['SalePrice']+tmp_cols_to_dummy]\n",
    "tmp['Neighborhood'] = tmp.Neighborhood.replace(\n",
    "    {'MeadowV':'C1', 'BrDale':'C1', 'IDOTRR':'C1',\n",
    "     'Edwards':'C2', 'OldTown': 'C2', 'Sawyer':'C2', 'BrkSide':'C2',\n",
    "     'Blueste':'C2', 'NPkVill':'C2', 'Mitchel':'C2', 'SWISU':'C2', 'NAmes':'C2',\n",
    "     'SawyerW':'C3', 'Blmngtn':'C3', 'Gilbert':'C3', 'NWAmes':'C3',\n",
    "     'Somerst':'C4', 'Timber':'C4', 'Veenker':'C4', 'Crawfor':'C4', 'CollgCr':'C4', 'ClearCr':'C4',\n",
    "     'NridgHt': 'C5', 'StoneBr': 'C5', 'NoRidge': 'C5'\n",
    "    }\n",
    ")\n",
    "show_dummy_corr(tmp)\n",
    "show_dist_cat(tmp)\n",
    "show_violin(tmp)"
   ]
  },
  {
   "cell_type": "markdown",
   "id": "3026f439",
   "metadata": {
    "heading_collapsed": true,
    "hidden": true
   },
   "source": [
    "#### Condition"
   ]
  },
  {
   "cell_type": "code",
   "execution_count": null,
   "id": "704effc9",
   "metadata": {
    "ExecuteTime": {
     "end_time": "2022-11-04T08:20:26.918157Z",
     "start_time": "2022-11-04T08:20:26.671281Z"
    },
    "hidden": true
   },
   "outputs": [],
   "source": [
    "tmp_cols_to_dummy = ['Condition1']\n",
    "tmp = X.loc[:, ['SalePrice']+tmp_cols_to_dummy]\n",
    "show_dummy_corr(tmp)\n",
    "show_dist_cat(tmp)\n",
    "show_violin(tmp)"
   ]
  },
  {
   "cell_type": "markdown",
   "id": "6e839f60",
   "metadata": {
    "hidden": true
   },
   "source": [
    "- unite PosA, PosN, Norm, RRNe, RRAn, RRNn\n",
    "- unite Feedr, Artery, RRAe"
   ]
  },
  {
   "cell_type": "code",
   "execution_count": null,
   "id": "186047f8",
   "metadata": {
    "ExecuteTime": {
     "end_time": "2022-11-04T08:25:26.737356Z",
     "start_time": "2022-11-04T08:25:26.533438Z"
    },
    "hidden": true
   },
   "outputs": [],
   "source": [
    "tmp_cols_to_dummy = ['Condition1']\n",
    "tmp = X.loc[:, ['SalePrice']+tmp_cols_to_dummy]\n",
    "tmp['Condition1'] = tmp['Condition1'].replace(\n",
    "    {'PosA': 'C1', 'PosN': 'C1', 'RRAn':'C1', 'RRNe': 'C1', 'RRNn': 'C1', 'Norm': 'C1',\n",
    "     'Feedr':'C2', 'Artery':'C2', 'RRAe':'C2'\n",
    "    }\n",
    ")\n",
    "tmp = tmp.loc[tmp.SalePrice < 475000, :]\n",
    "show_dummy_corr(tmp)\n",
    "show_dist_cat(tmp)\n",
    "show_violin(tmp)"
   ]
  },
  {
   "cell_type": "markdown",
   "id": "d336a491",
   "metadata": {
    "heading_collapsed": true,
    "hidden": true
   },
   "source": [
    "### House land"
   ]
  },
  {
   "cell_type": "code",
   "execution_count": null,
   "id": "d5e1db43",
   "metadata": {
    "ExecuteTime": {
     "end_time": "2022-11-04T07:39:11.753016Z",
     "start_time": "2022-11-04T07:39:11.739497Z"
    },
    "hidden": true
   },
   "outputs": [],
   "source": [
    "cols_to_dummy = ['Street', 'Alley', 'LotShape', 'LandContour',\n",
    "                 'LotConfig', 'LandSlope', 'PavedDrive']\n",
    "X = data.copy()\n",
    "X = X.loc[:, cols_to_dummy+['SalePrice']]"
   ]
  },
  {
   "cell_type": "code",
   "execution_count": null,
   "id": "4f8b7aea",
   "metadata": {
    "ExecuteTime": {
     "end_time": "2022-11-02T10:55:30.599024Z",
     "start_time": "2022-11-02T10:55:30.588899Z"
    },
    "hidden": true
   },
   "outputs": [],
   "source": [
    "print(X.Street.isnull().sum())\n",
    "print(X.Street.unique())"
   ]
  },
  {
   "cell_type": "markdown",
   "id": "a99e92c8",
   "metadata": {
    "hidden": true
   },
   "source": [
    "- For sure drop Street"
   ]
  },
  {
   "cell_type": "markdown",
   "id": "2fef48ec",
   "metadata": {
    "heading_collapsed": true,
    "hidden": true
   },
   "source": [
    "#### Alley"
   ]
  },
  {
   "cell_type": "code",
   "execution_count": null,
   "id": "661c21fb",
   "metadata": {
    "ExecuteTime": {
     "end_time": "2022-11-02T10:54:21.553426Z",
     "start_time": "2022-11-02T10:54:21.547422Z"
    },
    "hidden": true
   },
   "outputs": [],
   "source": [
    "X.Alley.isnull().sum()"
   ]
  },
  {
   "cell_type": "code",
   "execution_count": null,
   "id": "ed362c68",
   "metadata": {
    "ExecuteTime": {
     "end_time": "2022-11-04T07:39:14.679406Z",
     "start_time": "2022-11-04T07:39:14.467037Z"
    },
    "hidden": true
   },
   "outputs": [],
   "source": [
    "tmp_cols_to_dummy = ['Alley']\n",
    "tmp = X.loc[:, ['SalePrice']+tmp_cols_to_dummy]\n",
    "tmp['Alley'] = tmp.Alley.fillna('Absent')\n",
    "show_violin(tmp)\n",
    "show_dummy_corr(tmp)\n",
    "show_dist_cat(tmp)"
   ]
  },
  {
   "cell_type": "markdown",
   "id": "754c195a",
   "metadata": {
    "hidden": true
   },
   "source": [
    "- Unite Pave and Absent"
   ]
  },
  {
   "cell_type": "code",
   "execution_count": null,
   "id": "adf14178",
   "metadata": {
    "ExecuteTime": {
     "end_time": "2022-11-02T11:06:26.831638Z",
     "start_time": "2022-11-02T11:06:26.813634Z"
    },
    "hidden": true
   },
   "outputs": [],
   "source": [
    "tmp = X.loc[:, ['SalePrice']+tmp_cols_to_dummy]\n",
    "tmp['Alley'] = tmp.Alley.fillna('Pave')\n",
    "tmp['IsAlleyGravel'] = np.where(tmp['Alley'] == 'Pave', 0, 1)\n",
    "tmp.drop(columns=['Alley'], inplace=True)"
   ]
  },
  {
   "cell_type": "code",
   "execution_count": null,
   "id": "e26acb4b",
   "metadata": {
    "ExecuteTime": {
     "end_time": "2022-11-02T11:06:28.555232Z",
     "start_time": "2022-11-02T11:06:28.436674Z"
    },
    "hidden": true
   },
   "outputs": [],
   "source": [
    "corr_heatmap(tmp)"
   ]
  },
  {
   "cell_type": "markdown",
   "id": "3df311de",
   "metadata": {
    "hidden": true
   },
   "source": [
    "- Recode Alley into IsAlleyGravel: 2 categories"
   ]
  },
  {
   "cell_type": "markdown",
   "id": "09fff3c6",
   "metadata": {
    "heading_collapsed": true,
    "hidden": true
   },
   "source": [
    "#### LotShape"
   ]
  },
  {
   "cell_type": "code",
   "execution_count": null,
   "id": "44546737",
   "metadata": {
    "ExecuteTime": {
     "end_time": "2022-11-04T07:40:00.544247Z",
     "start_time": "2022-11-04T07:40:00.315196Z"
    },
    "hidden": true
   },
   "outputs": [],
   "source": [
    "tmp_cols_to_dummy = ['LotShape']\n",
    "tmp = X.loc[:, ['SalePrice']+tmp_cols_to_dummy]\n",
    "tmp = tmp.loc[tmp.SalePrice < 475000, :]\n",
    "show_violin(tmp)\n",
    "show_dummy_corr(tmp)\n",
    "show_dist_cat(tmp)"
   ]
  },
  {
   "cell_type": "markdown",
   "id": "5c5e29f9",
   "metadata": {
    "hidden": true
   },
   "source": [
    "- Recode as IsShapeReg"
   ]
  },
  {
   "cell_type": "markdown",
   "id": "6a03bb9d",
   "metadata": {
    "heading_collapsed": true,
    "hidden": true
   },
   "source": [
    "#### LandContour"
   ]
  },
  {
   "cell_type": "code",
   "execution_count": null,
   "id": "03e3c1b1",
   "metadata": {
    "ExecuteTime": {
     "end_time": "2022-11-04T07:41:11.808166Z",
     "start_time": "2022-11-04T07:41:11.603117Z"
    },
    "hidden": true
   },
   "outputs": [],
   "source": [
    "tmp_cols_to_dummy = ['LandContour']\n",
    "tmp = X.loc[:, ['SalePrice']+tmp_cols_to_dummy]\n",
    "tmp = tmp.loc[tmp.SalePrice < 475000, :]\n",
    "show_violin(tmp)\n",
    "show_dummy_corr(tmp)\n",
    "show_dist_cat(tmp)"
   ]
  },
  {
   "cell_type": "markdown",
   "id": "a4690c0a",
   "metadata": {
    "hidden": true
   },
   "source": [
    "- unite Lvl, Bnk\n",
    "- unite Low, HLS"
   ]
  },
  {
   "cell_type": "code",
   "execution_count": null,
   "id": "2597ca42",
   "metadata": {
    "ExecuteTime": {
     "end_time": "2022-11-02T11:23:13.238412Z",
     "start_time": "2022-11-02T11:23:13.110735Z"
    },
    "hidden": true
   },
   "outputs": [],
   "source": [
    "tmp_cols_to_dummy = ['LandContour']\n",
    "tmp = X.loc[:, ['SalePrice']+tmp_cols_to_dummy]\n",
    "tmp['LandContour'] = tmp['LandContour'].replace(\n",
    "    {'Lvl': 'Norm', 'Bnk': 'Norm',\n",
    "    'Low': 'Ir', 'HLS': 'Ir'}\n",
    ")\n",
    "tmp['IsLandFlat'] = np.where(tmp['LandContour'] == 'Ir', 0, 1)\n",
    "tmp = tmp.loc[tmp.SalePrice < 475000, :]\n",
    "#show_violin(tmp)\n",
    "corr_heatmap(tmp)"
   ]
  },
  {
   "cell_type": "markdown",
   "id": "efd81856",
   "metadata": {
    "heading_collapsed": true,
    "hidden": true
   },
   "source": [
    "#### LotConfig"
   ]
  },
  {
   "cell_type": "code",
   "execution_count": null,
   "id": "edc14f13",
   "metadata": {
    "ExecuteTime": {
     "end_time": "2022-11-04T07:41:40.740223Z",
     "start_time": "2022-11-04T07:41:40.515632Z"
    },
    "hidden": true
   },
   "outputs": [],
   "source": [
    "tmp_cols_to_dummy = ['LotConfig']\n",
    "tmp = X.loc[:, ['SalePrice']+tmp_cols_to_dummy]\n",
    "tmp = tmp.loc[tmp.SalePrice < 475000, :]\n",
    "show_violin(tmp)\n",
    "show_dummy_corr(tmp)\n",
    "show_dist_cat(tmp)"
   ]
  },
  {
   "cell_type": "markdown",
   "id": "fa5876ed",
   "metadata": {
    "hidden": true
   },
   "source": [
    "- unite CulDSac, FR3\n",
    "- unite Inside, FR2, Corner"
   ]
  },
  {
   "cell_type": "code",
   "execution_count": null,
   "id": "5dca232e",
   "metadata": {
    "ExecuteTime": {
     "end_time": "2022-11-02T11:32:57.195779Z",
     "start_time": "2022-11-02T11:32:57.063145Z"
    },
    "hidden": true
   },
   "outputs": [],
   "source": [
    "tmp_cols_to_dummy = ['LotConfig']\n",
    "tmp = X.loc[:, ['SalePrice']+tmp_cols_to_dummy]\n",
    "tmp['LotConfig'] = tmp['LotConfig'].replace(\n",
    "    {'Inside': 'Norm', 'FR2': 'Norm', 'Corner': 'Norm',\n",
    "    'CulDSac': 'Ir', 'FR3': 'Ir'}\n",
    ")\n",
    "tmp['IsNarrow'] = np.where(tmp['LotConfig'] == 'Ir', 0, 1)\n",
    "tmp = tmp.loc[tmp.SalePrice < 475000, :]\n",
    "corr_heatmap(tmp)"
   ]
  },
  {
   "cell_type": "markdown",
   "id": "bc86eb22",
   "metadata": {
    "heading_collapsed": true,
    "hidden": true
   },
   "source": [
    "#### LandSlope"
   ]
  },
  {
   "cell_type": "code",
   "execution_count": null,
   "id": "f51e4ef3",
   "metadata": {
    "ExecuteTime": {
     "end_time": "2022-11-04T07:42:05.687417Z",
     "start_time": "2022-11-04T07:42:05.483806Z"
    },
    "hidden": true
   },
   "outputs": [],
   "source": [
    "tmp_cols_to_dummy = ['LandSlope']\n",
    "tmp = X.loc[:, ['SalePrice']+tmp_cols_to_dummy]\n",
    "tmp = tmp.loc[tmp.SalePrice < 475000, :]\n",
    "show_violin(tmp)\n",
    "show_dummy_corr(tmp)\n",
    "show_dist_cat(tmp)"
   ]
  },
  {
   "cell_type": "markdown",
   "id": "454cd562",
   "metadata": {
    "hidden": true
   },
   "source": [
    "- Recode as 0-1"
   ]
  },
  {
   "cell_type": "code",
   "execution_count": null,
   "id": "746acbc5",
   "metadata": {
    "ExecuteTime": {
     "end_time": "2022-11-02T11:37:41.967050Z",
     "start_time": "2022-11-02T11:37:41.830038Z"
    },
    "hidden": true
   },
   "outputs": [],
   "source": [
    "tmp_cols_to_dummy = ['LandSlope']\n",
    "tmp = X.loc[:, ['SalePrice']+tmp_cols_to_dummy]\n",
    "tmp['IsSlope'] = np.where((tmp['LandSlope'] == 'Mod') | (tmp['LandSlope'] == 'Sev'), 1, 0)\n",
    "tmp = tmp.loc[tmp.SalePrice < 475000, :]\n",
    "corr_heatmap(tmp)"
   ]
  },
  {
   "cell_type": "markdown",
   "id": "0ffa316e",
   "metadata": {
    "hidden": true
   },
   "source": [
    "- rather not significant"
   ]
  },
  {
   "cell_type": "markdown",
   "id": "e4e2961b",
   "metadata": {
    "heading_collapsed": true,
    "hidden": true
   },
   "source": [
    "#### PavedDrive"
   ]
  },
  {
   "cell_type": "code",
   "execution_count": null,
   "id": "2925803e",
   "metadata": {
    "ExecuteTime": {
     "end_time": "2022-11-04T07:43:54.270025Z",
     "start_time": "2022-11-04T07:43:53.843916Z"
    },
    "hidden": true
   },
   "outputs": [],
   "source": [
    "tmp_cols_to_dummy = ['PavedDrive']\n",
    "tmp = X.loc[:, ['SalePrice']+tmp_cols_to_dummy]\n",
    "tmp = tmp.loc[tmp.SalePrice < 475000, :]\n",
    "show_violin(tmp)\n",
    "show_dummy_corr(tmp)\n",
    "show_dist_cat(tmp)"
   ]
  },
  {
   "cell_type": "markdown",
   "id": "bb90a0ef",
   "metadata": {
    "hidden": true
   },
   "source": [
    "- recode as 0-1"
   ]
  },
  {
   "cell_type": "code",
   "execution_count": null,
   "id": "de0692f6",
   "metadata": {
    "ExecuteTime": {
     "end_time": "2022-11-02T11:41:49.839089Z",
     "start_time": "2022-11-02T11:41:49.703847Z"
    },
    "hidden": true
   },
   "outputs": [],
   "source": [
    "tmp_cols_to_dummy = ['PavedDrive']\n",
    "tmp = X.loc[:, ['SalePrice']+tmp_cols_to_dummy]\n",
    "tmp['IsPaved'] = np.where((tmp['PavedDrive'] == 'N') | (tmp['PavedDrive'] == 'P'), 0, 1)\n",
    "\n",
    "tmp = tmp.loc[tmp.SalePrice < 475000, :]\n",
    "corr_heatmap(tmp)"
   ]
  },
  {
   "cell_type": "markdown",
   "id": "0d6ec390",
   "metadata": {
    "heading_collapsed": true,
    "hidden": true
   },
   "source": [
    "### Exterior"
   ]
  },
  {
   "cell_type": "code",
   "execution_count": 158,
   "id": "48e1349e",
   "metadata": {
    "ExecuteTime": {
     "end_time": "2022-11-06T14:53:20.168654Z",
     "start_time": "2022-11-06T14:53:20.163655Z"
    },
    "hidden": true
   },
   "outputs": [],
   "source": [
    "cols_to_dummy = ['MSSubClass', 'BldgType', 'HouseStyle', 'RoofStyle', 'RoofMatl', 'Exterior1st',\n",
    "                 'Exterior2nd', 'MasVnrType', 'ExterQual', 'ExterCond']\n",
    "X = data.copy()\n",
    "X = X.loc[:, cols_to_dummy+['SalePrice']]\n",
    "X['MSSubClass'] = X['MSSubClass'].astype(str)"
   ]
  },
  {
   "cell_type": "markdown",
   "id": "258ad8ba",
   "metadata": {
    "heading_collapsed": true,
    "hidden": true
   },
   "source": [
    "#### MSSubClass"
   ]
  },
  {
   "cell_type": "code",
   "execution_count": null,
   "id": "05329759",
   "metadata": {
    "ExecuteTime": {
     "end_time": "2022-11-03T19:30:32.314540Z",
     "start_time": "2022-11-03T19:30:32.066066Z"
    },
    "hidden": true
   },
   "outputs": [],
   "source": [
    "tmp_cols_to_dummy = ['MSSubClass']\n",
    "tmp = X.loc[:, ['SalePrice']+tmp_cols_to_dummy]\n",
    "tmp = tmp.loc[tmp.SalePrice < 475000, :]\n",
    "show_violin(tmp)\n",
    "show_dummy_corr(tmp)\n",
    "show_dist_cat(tmp)"
   ]
  },
  {
   "cell_type": "markdown",
   "id": "a421a3e3",
   "metadata": {
    "hidden": true
   },
   "source": [
    "- seems like could be explained from year built/number of floors\n",
    "- unite 50, 190\n",
    "- unite 20, 70, 75, 80\n",
    "- unite 90, 85, 160, 40\n",
    "- unite 45, 30, 180\n",
    "- unite 60, 120 (?)"
   ]
  },
  {
   "cell_type": "code",
   "execution_count": null,
   "id": "c23165cc",
   "metadata": {
    "ExecuteTime": {
     "end_time": "2022-11-04T09:03:55.370904Z",
     "start_time": "2022-11-04T09:03:55.158725Z"
    },
    "hidden": true
   },
   "outputs": [],
   "source": [
    "tmp_cols_to_dummy = ['MSSubClass']\n",
    "tmp = X.loc[:, ['SalePrice']+tmp_cols_to_dummy]\n",
    "tmp['MSSubClass'] = tmp['MSSubClass'].replace(\n",
    "    {\n",
    "     '20': 'C2', '70': 'C2', '75': 'C2', '80': 'C2',\n",
    "     '90': 'C4', '85': 'C4', '40': 'C4', '160': 'C4', '50': 'C4', '190': 'C4',\n",
    "     '45': 'C3', '30': 'C3', '180': 'C3',\n",
    "     '60': 'C1', '120': 'C1',\n",
    "    }\n",
    ")\n",
    "tmp = tmp.loc[tmp.SalePrice < 475000, :]\n",
    "show_violin(tmp)\n",
    "show_dummy_corr(tmp)\n",
    "show_dist_cat(tmp)"
   ]
  },
  {
   "cell_type": "markdown",
   "id": "4adfb606",
   "metadata": {
    "heading_collapsed": true,
    "hidden": true
   },
   "source": [
    "#### BldgType"
   ]
  },
  {
   "cell_type": "code",
   "execution_count": null,
   "id": "bf5f1d8a",
   "metadata": {
    "ExecuteTime": {
     "end_time": "2022-11-03T20:20:08.365165Z",
     "start_time": "2022-11-03T20:20:08.150137Z"
    },
    "hidden": true,
    "scrolled": true
   },
   "outputs": [],
   "source": [
    "tmp_cols_to_dummy = ['BldgType']\n",
    "tmp = X.loc[:, ['SalePrice']+tmp_cols_to_dummy]\n",
    "tmp = tmp.loc[tmp.SalePrice < 475000, :]\n",
    "show_violin(tmp)\n",
    "show_dummy_corr(tmp)\n",
    "show_dist_cat(tmp)"
   ]
  },
  {
   "cell_type": "markdown",
   "id": "5ddd21c0",
   "metadata": {
    "hidden": true
   },
   "source": [
    "- unite 1Fam, TwnhsE\n",
    "- unite 2fmCon, Duplex"
   ]
  },
  {
   "cell_type": "code",
   "execution_count": null,
   "id": "55b43711",
   "metadata": {
    "ExecuteTime": {
     "end_time": "2022-11-03T20:23:45.423833Z",
     "start_time": "2022-11-03T20:23:45.220585Z"
    },
    "hidden": true
   },
   "outputs": [],
   "source": [
    "tmp_cols_to_dummy = ['BldgType']\n",
    "tmp = X.loc[:, ['SalePrice']+tmp_cols_to_dummy]\n",
    "tmp['BldgType'] = tmp['BldgType'].replace(\n",
    "    {'1Fam': 'C1', 'TwnhsE': 'C1',\n",
    "     'Twnhs': 'C2', 'Duplex': 'C2'\n",
    "    }\n",
    ")\n",
    "tmp = tmp.loc[tmp.SalePrice < 475000, :]\n",
    "show_violin(tmp)\n",
    "show_dummy_corr(tmp)\n",
    "show_dist_cat(tmp)"
   ]
  },
  {
   "cell_type": "markdown",
   "id": "2f7ce1b6",
   "metadata": {
    "hidden": true
   },
   "source": [
    "- better as 0-1:"
   ]
  },
  {
   "cell_type": "code",
   "execution_count": null,
   "id": "40c1c79a",
   "metadata": {
    "ExecuteTime": {
     "end_time": "2022-11-02T13:29:39.261405Z",
     "start_time": "2022-11-02T13:29:39.130061Z"
    },
    "hidden": true
   },
   "outputs": [],
   "source": [
    "tmp_cols_to_dummy = ['BldgType']\n",
    "tmp = X.loc[:, ['SalePrice']+tmp_cols_to_dummy]\n",
    "tmp['IsOneFamily'] = np.where(tmp['BldgType'] == '1Fam', 1, 0)\n",
    "tmp = tmp.loc[tmp.SalePrice < 475000, :]\n",
    "corr_heatmap(tmp)"
   ]
  },
  {
   "cell_type": "markdown",
   "id": "4dcc5bd8",
   "metadata": {
    "heading_collapsed": true,
    "hidden": true
   },
   "source": [
    "#### HouseStyle"
   ]
  },
  {
   "cell_type": "code",
   "execution_count": null,
   "id": "fb40fb01",
   "metadata": {
    "ExecuteTime": {
     "end_time": "2022-11-03T21:09:12.461060Z",
     "start_time": "2022-11-03T21:09:12.243162Z"
    },
    "hidden": true
   },
   "outputs": [],
   "source": [
    "tmp_cols_to_dummy = ['HouseStyle']\n",
    "tmp = X.loc[:, ['SalePrice']+tmp_cols_to_dummy]\n",
    "tmp = tmp.loc[tmp.SalePrice < 475000, :]\n",
    "show_violin(tmp)\n",
    "show_dummy_corr(tmp)\n",
    "show_dist_cat(tmp)"
   ]
  },
  {
   "cell_type": "code",
   "execution_count": null,
   "id": "d2cf5fc5",
   "metadata": {
    "ExecuteTime": {
     "end_time": "2022-11-02T13:40:11.552287Z",
     "start_time": "2022-11-02T13:40:11.259818Z"
    },
    "hidden": true
   },
   "outputs": [],
   "source": [
    "tmp_cols_to_dummy = ['HouseStyle']\n",
    "tmp = X.loc[:, ['SalePrice']+tmp_cols_to_dummy]\n",
    "tmp['HouseStyle'] = tmp['HouseStyle'].replace(\n",
    "    {'SFoyer': '1', 'SLvl': '1', '1Story': '1',\n",
    "     '1.5Fin': '1.5', '1.5Unf': '1.5',\n",
    "     '2Story': '2',\n",
    "     '2.5Fin': '2.5', '2.5Unf': '2.5',\n",
    "    }\n",
    ")\n",
    "tmp = tmp.loc[tmp.SalePrice < 475000, :]\n",
    "show_violin(tmp)\n",
    "show_dummy_corr(tmp)"
   ]
  },
  {
   "cell_type": "markdown",
   "id": "07123f34",
   "metadata": {
    "hidden": true
   },
   "source": [
    "- better recode as 0-1"
   ]
  },
  {
   "cell_type": "code",
   "execution_count": null,
   "id": "c0d63a1d",
   "metadata": {
    "ExecuteTime": {
     "end_time": "2022-11-02T13:43:43.281001Z",
     "start_time": "2022-11-02T13:43:43.148329Z"
    },
    "hidden": true
   },
   "outputs": [],
   "source": [
    "tmp_cols_to_dummy = ['HouseStyle']\n",
    "tmp = X.loc[:, ['SalePrice']+tmp_cols_to_dummy]\n",
    "tmp['IsOneFloor'] = tmp['HouseStyle'].replace(\n",
    "    {'SFoyer': '1', 'SLvl': '1', '1Story': '1',\n",
    "     '1.5Fin': '1', '1.5Unf': '1',\n",
    "     '2Story': '0', '2.5Fin': '0', '2.5Unf': '0',\n",
    "    }\n",
    ").astype(np.int64)\n",
    "\n",
    "tmp = tmp.loc[tmp.SalePrice < 475000, :]\n",
    "corr_heatmap(tmp)"
   ]
  },
  {
   "cell_type": "markdown",
   "id": "d11406e6",
   "metadata": {
    "heading_collapsed": true,
    "hidden": true
   },
   "source": [
    "#### RoofStyle"
   ]
  },
  {
   "cell_type": "code",
   "execution_count": null,
   "id": "bace637b",
   "metadata": {
    "ExecuteTime": {
     "end_time": "2022-11-03T21:10:45.765107Z",
     "start_time": "2022-11-03T21:10:45.548559Z"
    },
    "hidden": true
   },
   "outputs": [],
   "source": [
    "tmp_cols_to_dummy = ['RoofStyle']\n",
    "tmp = X.loc[:, ['SalePrice']+tmp_cols_to_dummy]\n",
    "tmp = tmp.loc[tmp.SalePrice < 475000, :]\n",
    "show_violin(tmp)\n",
    "show_dummy_corr(tmp)\n",
    "show_dist_cat(tmp)"
   ]
  },
  {
   "cell_type": "markdown",
   "id": "428b1cfc",
   "metadata": {
    "hidden": true
   },
   "source": [
    "- recode into Gable, Hip, other"
   ]
  },
  {
   "cell_type": "code",
   "execution_count": null,
   "id": "50222fbe",
   "metadata": {
    "ExecuteTime": {
     "end_time": "2022-11-02T13:55:04.992729Z",
     "start_time": "2022-11-02T13:55:04.686610Z"
    },
    "hidden": true
   },
   "outputs": [],
   "source": [
    "tmp_cols_to_dummy = ['RoofStyle']\n",
    "tmp = X.loc[:, ['SalePrice']+tmp_cols_to_dummy]\n",
    "tmp['RoofStyle'] = np.where((tmp['RoofStyle'] != 'Gable') & (tmp['RoofStyle'] != 'Hip'),\n",
    "                            'Other',\n",
    "                            tmp['RoofStyle'])\n",
    "tmp = tmp.loc[tmp.SalePrice < 475000, :]\n",
    "show_violin(tmp)\n",
    "show_dummy_corr(tmp)"
   ]
  },
  {
   "cell_type": "markdown",
   "id": "64fbb764",
   "metadata": {
    "hidden": true
   },
   "source": [
    "- better isGable"
   ]
  },
  {
   "cell_type": "code",
   "execution_count": null,
   "id": "0f022a47",
   "metadata": {
    "ExecuteTime": {
     "end_time": "2022-11-02T13:57:57.017426Z",
     "start_time": "2022-11-02T13:57:56.884001Z"
    },
    "hidden": true
   },
   "outputs": [],
   "source": [
    "tmp_cols_to_dummy = ['RoofStyle']\n",
    "tmp = X.loc[:, ['SalePrice']+tmp_cols_to_dummy]\n",
    "tmp['IsRoofGable'] = np.where(tmp['RoofStyle'] == 'Gable', 1, 0)\n",
    "tmp = tmp.loc[tmp.SalePrice < 475000, :]\n",
    "corr_heatmap(tmp)"
   ]
  },
  {
   "cell_type": "markdown",
   "id": "ba3fcbdd",
   "metadata": {
    "heading_collapsed": true,
    "hidden": true
   },
   "source": [
    "#### RoofMatl"
   ]
  },
  {
   "cell_type": "code",
   "execution_count": null,
   "id": "c7c7a4d5",
   "metadata": {
    "ExecuteTime": {
     "end_time": "2022-11-04T09:08:13.601301Z",
     "start_time": "2022-11-04T09:08:13.376665Z"
    },
    "hidden": true
   },
   "outputs": [],
   "source": [
    "tmp_cols_to_dummy = ['RoofMatl']\n",
    "tmp = X.loc[:, ['SalePrice']+tmp_cols_to_dummy]\n",
    "tmp = tmp.loc[tmp.SalePrice < 475000, :]\n",
    "show_violin(tmp)\n",
    "show_dummy_corr(tmp)\n",
    "show_dist_cat(tmp)"
   ]
  },
  {
   "cell_type": "markdown",
   "id": "83d469fb",
   "metadata": {
    "hidden": true
   },
   "source": [
    "- see, most of the roofs are Standard(Composite) shingle"
   ]
  },
  {
   "cell_type": "markdown",
   "id": "d3c2e665",
   "metadata": {
    "heading_collapsed": true,
    "hidden": true
   },
   "source": [
    "#### Exterior"
   ]
  },
  {
   "cell_type": "code",
   "execution_count": null,
   "id": "9c4375e9",
   "metadata": {
    "ExecuteTime": {
     "end_time": "2022-11-03T21:11:33.214912Z",
     "start_time": "2022-11-03T21:11:32.963399Z"
    },
    "hidden": true
   },
   "outputs": [],
   "source": [
    "tmp_cols_to_dummy = ['Exterior1st']\n",
    "tmp = X.loc[:, ['SalePrice']+tmp_cols_to_dummy]\n",
    "tmp = tmp.loc[tmp.SalePrice < 475000, :]\n",
    "show_violin(tmp)\n",
    "show_dummy_corr(tmp)\n",
    "show_dist_cat(tmp)"
   ]
  },
  {
   "cell_type": "markdown",
   "id": "20ebfdc2",
   "metadata": {
    "hidden": true
   },
   "source": [
    "- unite BrkFace, BrkComm\n",
    "- unite AsphShn, AsbShng, ImStucc, Stucco\n",
    "- unite Wd Sdng, WdShing, Plywood, HdBoard\n",
    "- unite Stone, CBlock"
   ]
  },
  {
   "cell_type": "code",
   "execution_count": 159,
   "id": "49ebd354",
   "metadata": {
    "ExecuteTime": {
     "end_time": "2022-11-06T14:53:27.506271Z",
     "start_time": "2022-11-06T14:53:27.027086Z"
    },
    "hidden": true,
    "scrolled": true
   },
   "outputs": [],
   "source": [
    "tmp_cols_to_dummy = ['Exterior1st']\n",
    "tmp = X.loc[:, ['SalePrice']+tmp_cols_to_dummy]\n",
    "tmp['Exterior1st'] = tmp['Exterior1st'].replace(\n",
    "    {'BrkFace': 'C1', 'BrkComm': 'C1', 'Plywood': 'C1', 'BrkCmn': 'C1',\n",
    "     'Wd Sdng': 'C4', 'Wd Shng': 'C4', 'WdShing': 'C4', 'Stucco': 'C4',\n",
    "     'HdBoard': 'C4', 'MetalSd': 'C4',\n",
    "     'AsphShn': 'C5', 'AsbShng': 'C5', 'ImStucc': 'C5', 'CBlock': 'C5',\n",
    "     'CmentBd': 'C2', 'Stone': 'C2', 'CemntBd': 'C2', 'Other': 'C2',\n",
    "     'VinylSd': 'C3'\n",
    "    }\n",
    ")\n",
    "tmp = tmp.loc[tmp.SalePrice < 475000, :]\n",
    "show_violin(tmp)\n",
    "show_dummy_corr(tmp)\n",
    "show_dist_cat(tmp)"
   ]
  },
  {
   "cell_type": "markdown",
   "id": "0e3ffa77",
   "metadata": {
    "heading_collapsed": true,
    "hidden": true
   },
   "source": [
    "#### Exterior 2"
   ]
  },
  {
   "cell_type": "code",
   "execution_count": null,
   "id": "39a5c489",
   "metadata": {
    "ExecuteTime": {
     "end_time": "2022-11-04T12:53:23.413792Z",
     "start_time": "2022-11-04T12:53:23.192693Z"
    },
    "hidden": true
   },
   "outputs": [],
   "source": [
    "tmp_cols_to_dummy = ['Exterior2nd']\n",
    "tmp = X.loc[:, ['SalePrice']+tmp_cols_to_dummy]\n",
    "tmp['Exterior2nd'] = tmp['Exterior2nd'].replace(\n",
    "    {'BrkFace': 'C1', 'BrkComm': 'C1', 'Plywood': 'C1', 'Brk Cmn': 'C1',\n",
    "     'Wd Sdng': 'C4', 'Wd Shng': 'C4', 'WdShing': 'C4', 'Stucco': 'C4',\n",
    "     'HdBoard': 'C4', 'MetalSd': 'C4',\n",
    "     'AsphShn': 'C5', 'AsbShng': 'C5', 'ImStucc': 'C5', 'CBlock': 'C5',\n",
    "     'CmentBd': 'C2', 'Stone': 'C2', 'CemntBd': 'C2', 'Other': 'C2',\n",
    "     'VinylSd': 'C3'\n",
    "    }\n",
    ")\n",
    "tmp = tmp.loc[tmp.SalePrice < 475000, :]\n",
    "show_violin(tmp)\n",
    "show_dummy_corr(tmp)\n",
    "show_dist_cat(tmp)"
   ]
  },
  {
   "cell_type": "markdown",
   "id": "30a63203",
   "metadata": {
    "heading_collapsed": true,
    "hidden": true
   },
   "source": [
    "#### MasVnrType"
   ]
  },
  {
   "cell_type": "code",
   "execution_count": null,
   "id": "fb823468",
   "metadata": {
    "ExecuteTime": {
     "end_time": "2022-11-04T07:35:00.992249Z",
     "start_time": "2022-11-04T07:35:00.788198Z"
    },
    "hidden": true
   },
   "outputs": [],
   "source": [
    "tmp_cols_to_dummy = ['MasVnrType']\n",
    "tmp = X.loc[:, ['SalePrice']+tmp_cols_to_dummy]\n",
    "tmp['MasVnrType'] = tmp['MasVnrType'].replace(\n",
    "    {'BrkFace': 'Brick', 'BrkCmn': 'Brick'}\n",
    ")\n",
    "tmp = tmp.loc[tmp.SalePrice < 475000, :]\n",
    "show_violin(tmp)\n",
    "show_dummy_corr(tmp)\n",
    "show_dist_cat(tmp)"
   ]
  },
  {
   "cell_type": "markdown",
   "id": "b5b5c3d7",
   "metadata": {
    "heading_collapsed": true,
    "hidden": true
   },
   "source": [
    "#### ExterQual, ExterCond"
   ]
  },
  {
   "cell_type": "markdown",
   "id": "26c21df0",
   "metadata": {
    "hidden": true
   },
   "source": [
    "defenitely narrow to Good, Norm, Bad"
   ]
  },
  {
   "cell_type": "code",
   "execution_count": null,
   "id": "381a68df",
   "metadata": {
    "ExecuteTime": {
     "end_time": "2022-11-04T07:35:54.332175Z",
     "start_time": "2022-11-04T07:35:53.883143Z"
    },
    "hidden": true
   },
   "outputs": [],
   "source": [
    "tmp_cols_to_dummy = ['ExterQual', 'ExterCond']\n",
    "tmp = X.loc[:, ['SalePrice']+tmp_cols_to_dummy]\n",
    "tmp['ExterQual'] = tmp['ExterQual'].replace(\n",
    "    {'Ex': 'Good', 'Gd': 'Good', 'TA': 'Norm', 'Fa': 'Bad', 'Po': 'Bad'}\n",
    ")\n",
    "tmp['ExterCond'] = tmp['ExterCond'].replace(\n",
    "    {'Ex': 'Good', 'Gd': 'Good', 'TA': 'Norm', 'Fa': 'Bad', 'Po': 'Bad'}\n",
    ")\n",
    "tmp = tmp.loc[tmp.SalePrice < 475000, :]\n",
    "show_violin(tmp)\n",
    "show_dummy_corr(tmp)\n",
    "show_dist_cat(tmp)"
   ]
  },
  {
   "cell_type": "markdown",
   "id": "4478dcc1",
   "metadata": {
    "heading_collapsed": true,
    "hidden": true
   },
   "source": [
    "### Basement"
   ]
  },
  {
   "cell_type": "code",
   "execution_count": 112,
   "id": "8207d4fc",
   "metadata": {
    "ExecuteTime": {
     "end_time": "2022-11-06T13:29:03.544994Z",
     "start_time": "2022-11-06T13:29:03.534978Z"
    },
    "hidden": true
   },
   "outputs": [],
   "source": [
    "cols_to_dummy = ['Foundation', 'BsmtQual', 'BsmtCond',\n",
    "                 'BsmtExposure', 'BsmtFinType1', 'BsmtFinType2']\n",
    "X = data.copy()\n",
    "X = X.loc[:, cols_to_dummy+['SalePrice']]"
   ]
  },
  {
   "cell_type": "markdown",
   "id": "3fe940a3",
   "metadata": {
    "heading_collapsed": true,
    "hidden": true
   },
   "source": [
    "#### Foundation"
   ]
  },
  {
   "cell_type": "code",
   "execution_count": null,
   "id": "9d8fa20a",
   "metadata": {
    "ExecuteTime": {
     "end_time": "2022-11-02T15:08:28.247739Z",
     "start_time": "2022-11-02T15:08:27.911153Z"
    },
    "hidden": true
   },
   "outputs": [],
   "source": [
    "tmp_cols_to_dummy = ['Foundation']\n",
    "tmp = X.loc[:, ['SalePrice']+tmp_cols_to_dummy]\n",
    "tmp = tmp.loc[tmp.SalePrice < 475000, :]\n",
    "show_violin(tmp)\n",
    "show_dummy_corr(tmp)"
   ]
  },
  {
   "cell_type": "markdown",
   "id": "feaae615",
   "metadata": {
    "hidden": true
   },
   "source": [
    "- recode as 0-1"
   ]
  },
  {
   "cell_type": "code",
   "execution_count": null,
   "id": "0f6154d5",
   "metadata": {
    "ExecuteTime": {
     "end_time": "2022-11-02T15:29:59.182361Z",
     "start_time": "2022-11-02T15:29:59.034962Z"
    },
    "hidden": true
   },
   "outputs": [],
   "source": [
    "tmp_cols_to_dummy = ['Foundation']\n",
    "tmp = X.loc[:, ['SalePrice']+tmp_cols_to_dummy]\n",
    "tmp['IsFoundConcrete'] = np.where(tmp['Foundation'] == 'PConc', 1, 0)\n",
    "tmp = tmp.loc[tmp.SalePrice < 475000, :]\n",
    "tmp_cols_to_dummy = ['Foundation', 'IsFoundConcrete']\n",
    "corr_heatmap(tmp)"
   ]
  },
  {
   "cell_type": "markdown",
   "id": "6417b160",
   "metadata": {
    "heading_collapsed": true,
    "hidden": true
   },
   "source": [
    "#### BsmtQual, BsmtCond"
   ]
  },
  {
   "cell_type": "code",
   "execution_count": null,
   "id": "069fe428",
   "metadata": {
    "ExecuteTime": {
     "end_time": "2022-11-04T09:26:33.331797Z",
     "start_time": "2022-11-04T09:26:32.862689Z"
    },
    "hidden": true
   },
   "outputs": [],
   "source": [
    "tmp_cols_to_dummy = ['BsmtQual', 'BsmtCond']\n",
    "tmp = X.loc[:, ['SalePrice']+tmp_cols_to_dummy]\n",
    "tmp = tmp.loc[tmp.SalePrice < 475000, :]\n",
    "tmp['BsmtCond'] = tmp['BsmtCond'].fillna('Absent')\n",
    "tmp['BsmtQual'] = tmp['BsmtQual'].fillna('Absent')\n",
    "tmp['BsmtQual'] = tmp['BsmtQual'].replace(\n",
    "    {'Ex': 'Good', 'Gd': 'Good', 'TA': 'Norm', 'Fa': 'Bad', 'Po': 'Bad'}\n",
    ")\n",
    "tmp['BsmtCond'] = tmp['BsmtCond'].replace(\n",
    "    {'Ex': 'Good', 'Gd': 'Good', 'TA': 'Norm', 'Fa': 'Bad', 'Po': 'Bad'}\n",
    ")\n",
    "show_violin(tmp)\n",
    "show_dummy_corr(tmp)\n",
    "show_dist_cat(tmp)"
   ]
  },
  {
   "cell_type": "code",
   "execution_count": null,
   "id": "727da568",
   "metadata": {
    "ExecuteTime": {
     "end_time": "2022-11-02T15:22:27.710253Z",
     "start_time": "2022-11-02T15:22:27.576239Z"
    },
    "hidden": true
   },
   "outputs": [],
   "source": [
    "tmp_cols_to_dummy = ['BsmtQual', 'BsmtCond']\n",
    "tmp = X.loc[:, ['SalePrice']+tmp_cols_to_dummy]\n",
    "tmp = tmp.loc[tmp.SalePrice < 475000, :]\n",
    "tmp['BsmtQual'] = tmp['BsmtQual'].replace(\n",
    "    {'Ex': 'Good', 'Gd': 'Good', 'TA': 'Good', 'Fa': 'Bad', 'Po': 'Bad'}\n",
    ")\n",
    "tmp['BsmtCond'] = tmp['BsmtCond'].replace(\n",
    "    {'Ex': 'Good', 'Gd': 'Good', 'TA': 'Good', 'Fa': 'Bad', 'Po': 'Bad'}\n",
    ")\n",
    "tmp['IsBsmCondGood'] = np.where(tmp['BsmtCond'] == 'Good', 1, 0)\n",
    "tmp['IsBsmQualGood'] = np.where(tmp['BsmtQual'] == 'Good', 1, 0)\n",
    "corr_heatmap(tmp)"
   ]
  },
  {
   "cell_type": "markdown",
   "id": "ede29e0e",
   "metadata": {
    "hidden": true
   },
   "source": [
    "- pretty big correlation between 2 vars; rare => rather drop"
   ]
  },
  {
   "cell_type": "markdown",
   "id": "d54edbf9",
   "metadata": {
    "heading_collapsed": true,
    "hidden": true
   },
   "source": [
    "#### BsmtExposure"
   ]
  },
  {
   "cell_type": "code",
   "execution_count": null,
   "id": "3f80b346",
   "metadata": {
    "ExecuteTime": {
     "end_time": "2022-11-04T13:05:35.996194Z",
     "start_time": "2022-11-04T13:05:35.966177Z"
    },
    "hidden": true
   },
   "outputs": [],
   "source": [
    "tmp_cols_to_dummy = ['BsmtExposure']\n",
    "tmp = X.loc[:, ['SalePrice']+tmp_cols_to_dummy]\n",
    "tmp['BsmtExposure'] = tmp['BsmtExposure'].fillna('Absent')\n",
    "tmp = tmp.loc[tmp.SalePrice < 475000, :]\n",
    "#show_violin(tmp)\n",
    "#show_dummy_corr(tmp)\n",
    "#show_dist_cat(tmp)"
   ]
  },
  {
   "cell_type": "markdown",
   "id": "7230ef71",
   "metadata": {
    "hidden": true
   },
   "source": [
    "- unite Mn and Av"
   ]
  },
  {
   "cell_type": "code",
   "execution_count": null,
   "id": "8bf74aa9",
   "metadata": {
    "ExecuteTime": {
     "end_time": "2022-11-04T13:05:48.661807Z",
     "start_time": "2022-11-04T13:05:48.246985Z"
    },
    "hidden": true
   },
   "outputs": [],
   "source": [
    "tmp_cols_to_dummy = ['BsmtExposure']\n",
    "tmp = X.loc[:, ['SalePrice']+tmp_cols_to_dummy]\n",
    "tmp['BsmtExposure'] = tmp['BsmtExposure'].fillna('Absent')\n",
    "tmp['BsmtExposure'] = tmp['BsmtExposure'].replace(\n",
    "    {'Mn': 'Norm', 'Av': 'Norm', 'Absent': 'No'}\n",
    ")\n",
    "tmp['IsBsmExpGood'] = np.where(X['BsmtExposure'] == 'Norm', '0', '1')\n",
    "tmp = tmp.loc[tmp.SalePrice < 475000, :]\n",
    "show_violin(tmp)\n",
    "show_dummy_corr(tmp)\n",
    "show_dist_cat(tmp)"
   ]
  },
  {
   "cell_type": "markdown",
   "id": "1f36cc0f",
   "metadata": {
    "hidden": true
   },
   "source": [
    "- Normal Exposure - reference point"
   ]
  },
  {
   "cell_type": "markdown",
   "id": "efe5a1d3",
   "metadata": {
    "hidden": true
   },
   "source": [
    "#### BsmtFinType1"
   ]
  },
  {
   "cell_type": "code",
   "execution_count": 113,
   "id": "37833112",
   "metadata": {
    "ExecuteTime": {
     "end_time": "2022-11-06T13:29:13.975499Z",
     "start_time": "2022-11-06T13:29:13.406554Z"
    },
    "hidden": true
   },
   "outputs": [],
   "source": [
    "tmp_cols_to_dummy = ['BsmtFinType1']\n",
    "tmp = X.loc[:, ['SalePrice']+tmp_cols_to_dummy]\n",
    "tmp['BsmtFinType1'] = tmp['BsmtFinType1'].fillna('Absent')\n",
    "tmp = tmp.loc[tmp.SalePrice < 475000, :]\n",
    "show_violin(tmp)\n",
    "show_dummy_corr(tmp)\n",
    "show_dist_cat(tmp)"
   ]
  },
  {
   "cell_type": "markdown",
   "id": "bfb466de",
   "metadata": {
    "hidden": true
   },
   "source": [
    "- unite Rec, LWQ, ALQ, BLQ, Absent (too low)\n",
    "- Unf\n",
    "- GLQ"
   ]
  },
  {
   "cell_type": "markdown",
   "id": "1e6527e3",
   "metadata": {
    "ExecuteTime": {
     "end_time": "2022-11-02T08:23:04.602056Z",
     "start_time": "2022-11-02T08:23:04.595054Z"
    },
    "heading_collapsed": true,
    "hidden": true
   },
   "source": [
    "### Garage"
   ]
  },
  {
   "cell_type": "code",
   "execution_count": null,
   "id": "b686a8a9",
   "metadata": {
    "ExecuteTime": {
     "end_time": "2022-11-04T09:40:21.870035Z",
     "start_time": "2022-11-04T09:40:21.861507Z"
    },
    "hidden": true
   },
   "outputs": [],
   "source": [
    "cols_to_dummy = ['GarageType', 'GarageFinish', 'GarageQual', 'GarageCond']\n",
    "X = data.copy()\n",
    "X = X.loc[:, cols_to_dummy+['SalePrice']]"
   ]
  },
  {
   "cell_type": "markdown",
   "id": "c4016390",
   "metadata": {
    "heading_collapsed": true,
    "hidden": true
   },
   "source": [
    "#### GarageType"
   ]
  },
  {
   "cell_type": "code",
   "execution_count": null,
   "id": "9a4e5133",
   "metadata": {
    "ExecuteTime": {
     "end_time": "2022-11-04T09:40:25.675596Z",
     "start_time": "2022-11-04T09:40:25.452578Z"
    },
    "hidden": true
   },
   "outputs": [],
   "source": [
    "tmp_cols_to_dummy = ['GarageType']\n",
    "tmp = X.loc[:, ['SalePrice']+tmp_cols_to_dummy]\n",
    "tmp['GarageType'] = tmp['GarageType'].fillna('Absent')\n",
    "tmp = tmp.loc[tmp.SalePrice < 475000, :]\n",
    "show_dummy_corr(tmp)\n",
    "show_dist_cat(tmp)\n",
    "show_violin(tmp)"
   ]
  },
  {
   "cell_type": "markdown",
   "id": "33cae616",
   "metadata": {
    "hidden": true
   },
   "source": [
    "- unite DetchId, CarPort, 2Types, Basment\n",
    "- i.e. 4 categories"
   ]
  },
  {
   "cell_type": "markdown",
   "id": "25e113e3",
   "metadata": {
    "heading_collapsed": true,
    "hidden": true
   },
   "source": [
    "#### GarageFinish"
   ]
  },
  {
   "cell_type": "code",
   "execution_count": null,
   "id": "44dbfb93",
   "metadata": {
    "ExecuteTime": {
     "end_time": "2022-11-02T18:07:36.815296Z",
     "start_time": "2022-11-02T18:07:36.593434Z"
    },
    "hidden": true
   },
   "outputs": [],
   "source": [
    "tmp_cols_to_dummy = ['GarageFinish']\n",
    "tmp['GarageFinish'] = tmp['GarageFinish'].fillna('Absent')\n",
    "tmp = X.loc[:, ['SalePrice']+tmp_cols_to_dummy]\n",
    "tmp = tmp.loc[tmp.SalePrice < 475000, :]\n",
    "show_dummy_corr(tmp)\n",
    "show_dist_cat(tmp)\n",
    "show_violin(tmp)"
   ]
  },
  {
   "cell_type": "markdown",
   "id": "dff5244f",
   "metadata": {
    "hidden": true
   },
   "source": [
    "- Recode as IsGarFin"
   ]
  },
  {
   "cell_type": "markdown",
   "id": "8463e26f",
   "metadata": {
    "heading_collapsed": true,
    "hidden": true
   },
   "source": [
    "#### GarageCond, GarageQual"
   ]
  },
  {
   "cell_type": "code",
   "execution_count": null,
   "id": "7a89ab7e",
   "metadata": {
    "ExecuteTime": {
     "end_time": "2022-11-02T18:09:26.134459Z",
     "start_time": "2022-11-02T18:09:25.913812Z"
    },
    "hidden": true,
    "scrolled": true
   },
   "outputs": [],
   "source": [
    "tmp_cols_to_dummy = ['GarageCond']\n",
    "tmp = X.loc[:, ['SalePrice']+tmp_cols_to_dummy]\n",
    "tmp['GarageCond'] = tmp['GarageCond'].fillna('Absent')\n",
    "tmp = tmp.loc[tmp.SalePrice < 475000, :]\n",
    "show_dummy_corr(tmp)\n",
    "show_dist_cat(tmp)\n",
    "show_violin(tmp)"
   ]
  },
  {
   "cell_type": "code",
   "execution_count": null,
   "id": "1fec55bd",
   "metadata": {
    "ExecuteTime": {
     "end_time": "2022-11-02T18:10:25.030113Z",
     "start_time": "2022-11-02T18:10:24.801289Z"
    },
    "hidden": true
   },
   "outputs": [],
   "source": [
    "tmp_cols_to_dummy = ['GarageQual']\n",
    "tmp = X.loc[:, ['SalePrice']+tmp_cols_to_dummy]\n",
    "tmp['GarageQual'] = tmp['GarageQual'].fillna('Absent')\n",
    "tmp = tmp.loc[tmp.SalePrice < 475000, :]\n",
    "show_dummy_corr(tmp)\n",
    "show_dist_cat(tmp)\n",
    "show_violin(tmp)"
   ]
  },
  {
   "cell_type": "markdown",
   "id": "8ceb9a3a",
   "metadata": {
    "heading_collapsed": true,
    "hidden": true
   },
   "source": [
    "### Services"
   ]
  },
  {
   "cell_type": "code",
   "execution_count": null,
   "id": "0b110ac5",
   "metadata": {
    "ExecuteTime": {
     "end_time": "2022-11-04T12:36:03.138342Z",
     "start_time": "2022-11-04T12:36:03.132356Z"
    },
    "hidden": true
   },
   "outputs": [],
   "source": [
    "cols_to_dummy = ['Heating', 'HeatingQC', 'CentralAir', 'Electrical', 'Functional', 'Utilities',\n",
    "                 'KitchenQual']\n",
    "X = data.copy()\n",
    "X = X.loc[:, cols_to_dummy+['SalePrice']]"
   ]
  },
  {
   "cell_type": "markdown",
   "id": "38209ed4",
   "metadata": {
    "heading_collapsed": true,
    "hidden": true
   },
   "source": [
    "#### Heating"
   ]
  },
  {
   "cell_type": "code",
   "execution_count": null,
   "id": "70ec967b",
   "metadata": {
    "ExecuteTime": {
     "end_time": "2022-11-04T12:04:04.845738Z",
     "start_time": "2022-11-04T12:04:04.623163Z"
    },
    "hidden": true
   },
   "outputs": [],
   "source": [
    "tmp_cols_to_dummy = ['Heating']\n",
    "tmp = X.loc[:, ['SalePrice']+tmp_cols_to_dummy]\n",
    "tmp = tmp.loc[tmp.SalePrice < 475000, :]\n",
    "show_dummy_corr(tmp)\n",
    "show_dist_cat(tmp)\n",
    "show_violin(tmp)"
   ]
  },
  {
   "cell_type": "markdown",
   "id": "99923005",
   "metadata": {
    "hidden": true
   },
   "source": [
    "- not very informative"
   ]
  },
  {
   "cell_type": "markdown",
   "id": "8035f599",
   "metadata": {
    "heading_collapsed": true,
    "hidden": true
   },
   "source": [
    "#### HeatingQC"
   ]
  },
  {
   "cell_type": "code",
   "execution_count": null,
   "id": "8ee88a1d",
   "metadata": {
    "ExecuteTime": {
     "end_time": "2022-11-04T12:04:15.211036Z",
     "start_time": "2022-11-04T12:04:14.995574Z"
    },
    "hidden": true,
    "scrolled": true
   },
   "outputs": [],
   "source": [
    "tmp_cols_to_dummy = ['HeatingQC']\n",
    "tmp = X.loc[:, ['SalePrice']+tmp_cols_to_dummy]\n",
    "tmp = tmp.loc[tmp.SalePrice < 475000, :]\n",
    "show_dummy_corr(tmp)\n",
    "show_dist_cat(tmp)\n",
    "show_violin(tmp)"
   ]
  },
  {
   "cell_type": "code",
   "execution_count": null,
   "id": "f1c214fc",
   "metadata": {
    "ExecuteTime": {
     "end_time": "2022-11-02T18:52:22.909709Z",
     "start_time": "2022-11-02T18:52:22.694661Z"
    },
    "hidden": true
   },
   "outputs": [],
   "source": [
    "tmp_cols_to_dummy = ['HeatingQC']\n",
    "tmp = X.loc[:, ['SalePrice']+tmp_cols_to_dummy]\n",
    "tmp['HeatingQC'] = tmp['HeatingQC'].replace(\n",
    "    {'Ex': 'Good', 'Gd': 'Good', 'TA': 'Norm', 'Fa': 'Bad', 'Po': 'Bad'}\n",
    ")\n",
    "tmp = tmp.loc[tmp.SalePrice < 475000, :]\n",
    "show_dummy_corr(tmp)\n",
    "show_dist_cat(tmp)\n",
    "show_violin(tmp)"
   ]
  },
  {
   "cell_type": "markdown",
   "id": "5ff3985d",
   "metadata": {
    "heading_collapsed": true,
    "hidden": true
   },
   "source": [
    "#### CentralAir"
   ]
  },
  {
   "cell_type": "code",
   "execution_count": null,
   "id": "5e47eeb3",
   "metadata": {
    "ExecuteTime": {
     "end_time": "2022-11-04T12:06:34.491049Z",
     "start_time": "2022-11-04T12:06:34.294725Z"
    },
    "hidden": true
   },
   "outputs": [],
   "source": [
    "tmp_cols_to_dummy = ['CentralAir']\n",
    "tmp = X.loc[:, ['SalePrice']+tmp_cols_to_dummy]\n",
    "tmp = tmp.loc[tmp.SalePrice < 475000, :]\n",
    "show_dummy_corr(tmp)\n",
    "show_dist_cat(tmp)\n",
    "show_violin(tmp)"
   ]
  },
  {
   "cell_type": "markdown",
   "id": "6f6b4739",
   "metadata": {
    "hidden": true
   },
   "source": [
    "- keep as it is"
   ]
  },
  {
   "cell_type": "markdown",
   "id": "6b5358e7",
   "metadata": {
    "heading_collapsed": true,
    "hidden": true
   },
   "source": [
    "#### Electrical"
   ]
  },
  {
   "cell_type": "code",
   "execution_count": null,
   "id": "85c236d3",
   "metadata": {
    "ExecuteTime": {
     "end_time": "2022-11-04T12:07:09.242605Z",
     "start_time": "2022-11-04T12:07:09.024666Z"
    },
    "hidden": true
   },
   "outputs": [],
   "source": [
    "tmp_cols_to_dummy = ['Electrical']\n",
    "tmp = X.loc[:, ['SalePrice']+tmp_cols_to_dummy]\n",
    "tmp = tmp.loc[tmp.SalePrice < 475000, :]\n",
    "show_dummy_corr(tmp)\n",
    "show_dist_cat(tmp)\n",
    "show_violin(tmp)"
   ]
  },
  {
   "cell_type": "markdown",
   "id": "35605e3c",
   "metadata": {
    "heading_collapsed": true,
    "hidden": true
   },
   "source": [
    "#### Functional"
   ]
  },
  {
   "cell_type": "code",
   "execution_count": null,
   "id": "3583d222",
   "metadata": {
    "ExecuteTime": {
     "end_time": "2022-11-02T18:57:12.930659Z",
     "start_time": "2022-11-02T18:57:12.700556Z"
    },
    "hidden": true
   },
   "outputs": [],
   "source": [
    "tmp_cols_to_dummy = ['Functional']\n",
    "tmp = X.loc[:, ['SalePrice']+tmp_cols_to_dummy]\n",
    "tmp = tmp.loc[tmp.SalePrice < 475000, :]\n",
    "show_dummy_corr(tmp)\n",
    "show_dist_cat(tmp)\n",
    "show_violin(tmp)"
   ]
  },
  {
   "cell_type": "markdown",
   "id": "9c3af478",
   "metadata": {
    "hidden": true
   },
   "source": [
    "- more rare variable, rather drop"
   ]
  },
  {
   "cell_type": "markdown",
   "id": "b96e521a",
   "metadata": {
    "heading_collapsed": true,
    "hidden": true
   },
   "source": [
    "#### Utilities"
   ]
  },
  {
   "cell_type": "code",
   "execution_count": null,
   "id": "ca496e98",
   "metadata": {
    "ExecuteTime": {
     "end_time": "2022-11-02T18:58:41.324373Z",
     "start_time": "2022-11-02T18:58:41.126348Z"
    },
    "hidden": true
   },
   "outputs": [],
   "source": [
    "tmp_cols_to_dummy = ['Utilities']\n",
    "tmp = X.loc[:, ['SalePrice']+tmp_cols_to_dummy]\n",
    "tmp = tmp.loc[tmp.SalePrice < 475000, :]\n",
    "show_dummy_corr(tmp)\n",
    "show_dist_cat(tmp)\n",
    "show_violin(tmp)"
   ]
  },
  {
   "cell_type": "markdown",
   "id": "f8b0e5a7",
   "metadata": {
    "hidden": true
   },
   "source": [
    "- only 1 house without utilities"
   ]
  },
  {
   "cell_type": "markdown",
   "id": "312c7ee4",
   "metadata": {
    "heading_collapsed": true,
    "hidden": true
   },
   "source": [
    "#### KitchenQual"
   ]
  },
  {
   "cell_type": "code",
   "execution_count": null,
   "id": "d024fe5b",
   "metadata": {
    "ExecuteTime": {
     "end_time": "2022-11-04T12:36:05.448407Z",
     "start_time": "2022-11-04T12:36:05.244284Z"
    },
    "hidden": true
   },
   "outputs": [],
   "source": [
    "tmp_cols_to_dummy = ['KitchenQual']\n",
    "tmp = X.loc[:, ['SalePrice']+tmp_cols_to_dummy]\n",
    "tmp = tmp.loc[tmp.SalePrice < 475000, :]\n",
    "show_dummy_corr(tmp)\n",
    "show_dist_cat(tmp)\n",
    "show_violin(tmp)"
   ]
  },
  {
   "cell_type": "code",
   "execution_count": null,
   "id": "8fea6bf7",
   "metadata": {
    "hidden": true
   },
   "outputs": [],
   "source": []
  },
  {
   "cell_type": "code",
   "execution_count": null,
   "id": "6e98bff9",
   "metadata": {
    "hidden": true
   },
   "outputs": [],
   "source": []
  },
  {
   "cell_type": "markdown",
   "id": "c859f2c2",
   "metadata": {
    "heading_collapsed": true,
    "hidden": true
   },
   "source": [
    "### Luxury"
   ]
  },
  {
   "cell_type": "code",
   "execution_count": null,
   "id": "9f169e54",
   "metadata": {
    "ExecuteTime": {
     "end_time": "2022-11-04T12:09:14.614948Z",
     "start_time": "2022-11-04T12:09:14.584775Z"
    },
    "hidden": true
   },
   "outputs": [],
   "source": [
    "cols_to_dummy = ['FireplaceQu', 'Fence', 'MiscFeature']\n",
    "X = data.copy()\n",
    "X = X.loc[:, cols_to_dummy+['SalePrice']]"
   ]
  },
  {
   "cell_type": "markdown",
   "id": "5adad217",
   "metadata": {
    "heading_collapsed": true,
    "hidden": true
   },
   "source": [
    "#### FireplaceQu"
   ]
  },
  {
   "cell_type": "code",
   "execution_count": null,
   "id": "4fa5605b",
   "metadata": {
    "ExecuteTime": {
     "end_time": "2022-11-04T12:09:16.373593Z",
     "start_time": "2022-11-04T12:09:16.153324Z"
    },
    "hidden": true,
    "scrolled": true
   },
   "outputs": [],
   "source": [
    "tmp_cols_to_dummy = ['FireplaceQu']\n",
    "tmp = X.loc[:, ['SalePrice']+tmp_cols_to_dummy]\n",
    "tmp['FireplaceQu'] = tmp['FireplaceQu'].fillna('Absent')\n",
    "tmp = tmp.loc[tmp.SalePrice < 475000, :]\n",
    "show_dummy_corr(tmp)\n",
    "show_dist_cat(tmp)\n",
    "show_violin(tmp)"
   ]
  },
  {
   "cell_type": "markdown",
   "id": "d1a3aa7b",
   "metadata": {
    "hidden": true
   },
   "source": [
    "- unite Po with Absent, Go with Ex, Fare with No"
   ]
  },
  {
   "cell_type": "markdown",
   "id": "e4e198b5",
   "metadata": {
    "heading_collapsed": true,
    "hidden": true
   },
   "source": [
    "#### Fence"
   ]
  },
  {
   "cell_type": "code",
   "execution_count": null,
   "id": "ccffd5ff",
   "metadata": {
    "ExecuteTime": {
     "end_time": "2022-11-02T19:06:06.074651Z",
     "start_time": "2022-11-02T19:06:05.853747Z"
    },
    "hidden": true,
    "scrolled": false
   },
   "outputs": [],
   "source": [
    "tmp_cols_to_dummy = ['Fence']\n",
    "tmp = X.loc[:, ['SalePrice']+tmp_cols_to_dummy]\n",
    "tmp['Fence'] = tmp['Fence'].fillna('Absent')\n",
    "tmp = tmp.loc[tmp.SalePrice < 475000, :]\n",
    "show_dummy_corr(tmp)\n",
    "show_dist_cat(tmp)\n",
    "show_violin(tmp)"
   ]
  },
  {
   "cell_type": "markdown",
   "id": "351fa5ac",
   "metadata": {
    "hidden": true
   },
   "source": [
    "- unite Absent, Good Privacy\n",
    "- unite the others"
   ]
  },
  {
   "cell_type": "markdown",
   "id": "10e0697c",
   "metadata": {
    "heading_collapsed": true,
    "hidden": true
   },
   "source": [
    "#### MiscFeature"
   ]
  },
  {
   "cell_type": "code",
   "execution_count": null,
   "id": "849b0cd0",
   "metadata": {
    "ExecuteTime": {
     "end_time": "2022-11-02T19:08:32.827286Z",
     "start_time": "2022-11-02T19:08:32.606942Z"
    },
    "hidden": true,
    "scrolled": true
   },
   "outputs": [],
   "source": [
    "tmp_cols_to_dummy = ['MiscFeature']\n",
    "tmp = X.loc[:, ['SalePrice']+tmp_cols_to_dummy]\n",
    "tmp['MiscFeature'] = tmp['MiscFeature'].fillna('Absent')\n",
    "tmp = tmp.loc[tmp.SalePrice < 475000, :]\n",
    "show_dummy_corr(tmp)\n",
    "show_dist_cat(tmp)\n",
    "show_violin(tmp)"
   ]
  },
  {
   "cell_type": "markdown",
   "id": "b67824ae",
   "metadata": {
    "hidden": true
   },
   "source": [
    "- Recode as IsShed"
   ]
  },
  {
   "cell_type": "markdown",
   "id": "6ce512e5",
   "metadata": {
    "heading_collapsed": true,
    "hidden": true
   },
   "source": [
    "### Misc"
   ]
  },
  {
   "cell_type": "code",
   "execution_count": null,
   "id": "00688a1f",
   "metadata": {
    "ExecuteTime": {
     "end_time": "2022-11-04T08:32:17.696322Z",
     "start_time": "2022-11-04T08:32:17.686766Z"
    },
    "hidden": true
   },
   "outputs": [],
   "source": [
    "cols_to_dummy = ['SaleType', 'SaleCondition']\n",
    "X = data.copy()\n",
    "X = X.loc[:, cols_to_dummy+['SalePrice']]"
   ]
  },
  {
   "cell_type": "markdown",
   "id": "2f370aeb",
   "metadata": {
    "heading_collapsed": true,
    "hidden": true
   },
   "source": [
    "#### SaleType"
   ]
  },
  {
   "cell_type": "code",
   "execution_count": null,
   "id": "532bd301",
   "metadata": {
    "ExecuteTime": {
     "end_time": "2022-11-04T08:30:48.250831Z",
     "start_time": "2022-11-04T08:30:47.999233Z"
    },
    "hidden": true,
    "scrolled": false
   },
   "outputs": [],
   "source": [
    "tmp_cols_to_dummy = ['SaleType']\n",
    "tmp = X.loc[:, ['SalePrice']+tmp_cols_to_dummy]\n",
    "tmp['SaleType'] = tmp['SaleType'].fillna('Absent')\n",
    "tmp = tmp.loc[tmp.SalePrice < 475000, :]\n",
    "show_dummy_corr(tmp)\n",
    "show_dist_cat(tmp)\n",
    "show_violin(tmp)"
   ]
  },
  {
   "cell_type": "markdown",
   "id": "f3066371",
   "metadata": {
    "heading_collapsed": true,
    "hidden": true
   },
   "source": [
    "#### SaleCond"
   ]
  },
  {
   "cell_type": "code",
   "execution_count": null,
   "id": "e24aa815",
   "metadata": {
    "ExecuteTime": {
     "end_time": "2022-11-04T08:33:08.227615Z",
     "start_time": "2022-11-04T08:33:08.015123Z"
    },
    "hidden": true,
    "scrolled": false
   },
   "outputs": [],
   "source": [
    "tmp_cols_to_dummy = ['SaleCondition']\n",
    "tmp = X.loc[:, ['SalePrice']+tmp_cols_to_dummy]\n",
    "tmp['SaleCondition'] = tmp['SaleCondition'].fillna('Absent')\n",
    "tmp = tmp.loc[tmp.SalePrice < 475000, :]\n",
    "show_dummy_corr(tmp)\n",
    "show_dist_cat(tmp)\n",
    "show_violin(tmp)"
   ]
  },
  {
   "cell_type": "markdown",
   "id": "bdd5f837",
   "metadata": {
    "hidden": true
   },
   "source": [
    "- unite Abnorm, Family, AdjLand\n",
    "- unite Alloca, Normal"
   ]
  },
  {
   "cell_type": "code",
   "execution_count": null,
   "id": "8857e676",
   "metadata": {
    "hidden": true
   },
   "outputs": [],
   "source": [
    "tmp_cols_to_dummy = ['SaleCondition']\n",
    "tmp = X.loc[:, ['SalePrice']+tmp_cols_to_dummy]\n",
    "tmp['SaleCondition'] = tmp['SaleCondition'].fillna('Absent')\n",
    "tmp = tmp.loc[tmp.SalePrice < 475000, :]\n",
    "show_dummy_corr(tmp)\n",
    "show_dist_cat(tmp)\n",
    "show_violin(tmp)"
   ]
  },
  {
   "cell_type": "markdown",
   "id": "8572041e",
   "metadata": {
    "heading_collapsed": true,
    "hidden": true
   },
   "source": [
    "### Overview"
   ]
  },
  {
   "cell_type": "markdown",
   "id": "40103e31",
   "metadata": {
    "hidden": true
   },
   "source": [
    "- Recode MSZoning into IsLowDensityArea: 0-1\n",
    "- Recode Neighborhood into 5 categories; one - reference point\n",
    "- Recode Condition1, Condition2 into IsEnvGood: 0-1\n",
    "-------------------------------------------------------------------------------------------------------\n",
    "- Recode Alley into IsAlleyGravel: 0-1\n",
    "- Recode LotShape into IsShapeReg: 0-1\n",
    "- Recode LandCountour into IsLandFlat: 0-1\n",
    "- Recode LotConfig into IsNarrow: 0-1\n",
    "- Recode LandSlope in IsLandSloped: 0-1\n",
    "- Recode PavedDrive into IsPaved: 0-1\n",
    "-------------------------------------------------------------------------------------------------------\n",
    "- Recode MSSubClass into 4 categories; one - reference point\n",
    "- Recode BldgType into IsOneFamily: 0-1\n",
    "- Recode HouseStyle into IsOneFloor: 0-1\n",
    "- Recode RoofStyle into IsRoofGable: 0-1\n",
    "- Recode RoofMatl into IsRoofStandard: 0-1\n",
    "- Recode Exterior1st, Exterior2nd, into 5 categories; one - reference point\n",
    "- Recode MasVnrType into 3 categories; one - reference point\n",
    "- Recode ExterQual into IsExtQualGood: 0-1\n",
    "- Recode ExterCond into IsExtCondGood: 0-1\n",
    "-------------------------------------------------------------------------------------------------------\n",
    "- Recode Foundation into IsBsmConcrete: 0-1\n",
    "- Recode BsmtQual into IsBsmQualGood: 0-1\n",
    "- Recode BsmtCond into IsBsmCondGood: 0-1\n",
    "- Recode BsmtExposure into IsBsmExpGood: 0-1\n",
    "- Recode BsmtFinType1, BsmtFinType2 into BsmFinType: 3 categories; one - reference point\n",
    "-------------------------------------------------------------------------------------------------------\n",
    "- Recode GarageType into 3 categories; one - reference point\n",
    "- Recode GarageFinish into IsGarFin: 0-1\n",
    "-------------------------------------------------------------------------------------------------------\n",
    "- Recode HeatingQC into IsHeatGood: 0-1\n",
    "- Recode CentralAir into IsCentralAir: 0-1\n",
    "- Recode Electrical into IsStandardElect: 0-1\n",
    "-------------------------------------------------------------------------------------------------------\n",
    "- Recode FireplaceQu into FireplaceQual: 3 categories; one - reference point\n",
    "- Recode Fence into IsFenceAbsent: 0-1\n",
    "- Recode MiscFeature into IsShed: 0-1\n",
    "-------------------------------------------------------------------------------------------------------\n",
    "- Recode SaleType into IsNewHouse: 0-1\n",
    "- Recode SaleCondition into SaleCond: 3 categories; one - reference point\n",
    "-------------------------------------------------------------------------------------------------------"
   ]
  },
  {
   "cell_type": "code",
   "execution_count": 21,
   "id": "f867b7f6",
   "metadata": {
    "ExecuteTime": {
     "end_time": "2022-11-04T13:31:39.734441Z",
     "start_time": "2022-11-04T13:31:39.514850Z"
    },
    "code_folding": [
     0
    ],
    "hidden": true
   },
   "outputs": [],
   "source": [
    "def prepare_data_cat(X):\n",
    "    X['MSZoning'] = X.MSZoning.replace({'RH':'RM', 'FV':'RL', 'C (all)': 'RM'})\n",
    "    X['IsLowDensityArea'] = np.where(X['MSZoning'] == 'RL', 1, 0)\n",
    "    \n",
    "    X['Neighborhood'] = X.Neighborhood.replace(\n",
    "        {'Edwards': 'C0', 'OldTown': 'C0', 'Sawyer': 'C0', 'BrkSide': 'C0',\n",
    "         'Blueste': 'C0', 'NPkVill': 'C0', 'Mitchel': 'C0', 'SWISU': 'C0', 'NAmes': 'C0',\n",
    "         'MeadowV': 'C1', 'BrDale': 'C1', 'IDOTRR': 'C1',\n",
    "         'NridgHt': 'C2', 'StoneBr': 'C2', 'NoRidge': 'C2',\n",
    "         'SawyerW': 'C3', 'Blmngtn': 'C3', 'Gilbert': 'C3', 'NWAmes': 'C3',\n",
    "         'Somerst': 'C4', 'Timber': 'C4', 'Veenker': 'C4',\n",
    "         'Crawfor': 'C4', 'CollgCr': 'C4', 'ClearCr': 'C4',\n",
    "        }\n",
    "    )\n",
    "    \n",
    "    X['Condition1'] = X['Condition1'].replace(\n",
    "        {'PosA': 'C1', 'PosN': 'C1', 'RRAn':'C1', 'RRNe': 'C1', 'RRNn': 'C1', 'Norm': 'C1',\n",
    "         'Feedr':'C2', 'Artery':'C2', 'RRAe':'C2'\n",
    "        }\n",
    "    )\n",
    "    X['Condition2'] = X['Condition2'].replace(\n",
    "        {'PosA': 'C1', 'PosN': 'C1', 'RRAn':'C1', 'RRNe': 'C1', 'RRNn': 'C1', 'Norm': 'C1',\n",
    "         'Feedr':'C2', 'Artery':'C2', 'RRAe':'C2'\n",
    "        }\n",
    "    )\n",
    "    X['Condition1'] = np.where(X['Condition1'] == 'C1', 1, 0)\n",
    "    X['Condition2'] = np.where(X['Condition2'] == 'C1', 1, 0)\n",
    "    X['IsEnvGood'] = np.where(X['Condition2']+X['Condition1'] == 2, 1, 0)\n",
    "    \n",
    "    X['Alley'] = X.Alley.fillna('Pave')\n",
    "    X['IsAlleyGravel'] = np.where(X['Alley'] == 'Pave', 0, 1)\n",
    "    X['IsShapeReg'] = np.where(X['LotShape'] ==  'Reg', 1, 0)\n",
    "    X['LandContour'] = X['LandContour'].replace(\n",
    "        {'Lvl': 'Norm', 'Bnk': 'Norm', 'Low': 'Ir', 'HLS': 'Ir'}\n",
    "    )\n",
    "    X['IsLandFlat'] = np.where(X['LandContour'] == 'Ir', 0, 1)\n",
    "    \n",
    "    X['LotConfig'] = X['LotConfig'].replace(\n",
    "        {'Inside': 'Norm', 'FR2': 'Norm', 'Corner': 'Norm', 'CulDSac': 'Ir', 'FR3': 'Ir'}\n",
    "    )\n",
    "    X['IsNarrow'] = np.where(X['LotConfig'] == 'Ir', 0, 1)\n",
    "    X['IsSlope'] = np.where((X['LandSlope'] == 'Mod') | (X['LandSlope'] == 'Sev'), 1, 0)\n",
    "    X['IsPaved'] = np.where((X['PavedDrive'] == 'N') | (X['PavedDrive'] == 'P'), 0, 1)\n",
    "    \n",
    "    X['MSSubClass'] = X['MSSubClass'].replace(\n",
    "        {'20': 'C0', '70': 'C0', '75': 'C0', '80': 'C0',\n",
    "         '60': 'C1', '120': 'C1',\n",
    "         '90': 'C2', '85': 'C2', '40': 'C2', '160': 'C2', '50': 'C2', '190': 'C2',\n",
    "         '45': 'C3', '30': 'C3', '180': 'C3'\n",
    "        }\n",
    "    )\n",
    "    X['IsOneFamily'] = np.where(X['BldgType'] == '1Fam', 1, 0)\n",
    "    X['IsOneFloor'] = X['HouseStyle'].replace(\n",
    "        {'SFoyer': '1', 'SLvl': '1', '1Story': '1',\n",
    "         '1.5Fin': '1', '1.5Unf': '1',\n",
    "         '2Story': '0', '2.5Fin': '0', '2.5Unf': '0'\n",
    "        }\n",
    "    ).astype(np.int64)\n",
    "    X['IsRoofGable'] = np.where(X['RoofStyle'] == 'Gable', 1, 0)\n",
    "    X['IsRoofStandard'] = np.where(X['RoofMatl'] == 'CompShg', 1, 0)\n",
    "    X['Exterior_1'] = X['Exterior1st'].replace(\n",
    "        {'VinylSd': 'C0',\n",
    "         'BrkFace': 'C1', 'BrkComm': 'C1', 'Plywood': 'C1', 'Brk Cmn': 'C1',\n",
    "         'CmentBd': 'C2', 'Stone': 'C2', 'CemntBd': 'C2', 'Other': 'C2',\n",
    "         'AsphShn': 'C3', 'AsbShng': 'C3', 'ImStucc': 'C3', 'CBlock': 'C3',\n",
    "         'Wd Sdng': 'C4', 'Wd Shng': 'C4', 'WdShing': 'C4', 'Stucco': 'C4',\n",
    "         'HdBoard': 'C4', 'MetalSd': 'C4'\n",
    "        }\n",
    "    )\n",
    "    X['Exterior_2'] = X['Exterior2nd'].replace(\n",
    "        {'VinylSd': 'C0',\n",
    "         'BrkFace': 'C1', 'BrkComm': 'C1', 'Plywood': 'C1', 'Brk Cmn': 'C1',\n",
    "         'CmentBd': 'C2', 'Stone': 'C2', 'CemntBd': 'C2', 'Other': 'C2',\n",
    "         'AsphShn': 'C3', 'AsbShng': 'C3', 'ImStucc': 'C3', 'CBlock': 'C3',\n",
    "         'Wd Sdng': 'C4', 'Wd Shng': 'C4', 'WdShing': 'C4', 'Stucco': 'C4',\n",
    "         'HdBoard': 'C4', 'MetalSd': 'C4'\n",
    "        }\n",
    "    )\n",
    "    X['MasVnrType'] = X['MasVnrType'].fillna('None')\n",
    "    X['MasVnrType'] = X['MasVnrType'].replace({'BrkFace': 'Brick', 'BrkCmn': 'Brick'})\n",
    "    X['IsExtQualGood'] = np.where((X['ExterQual'] == 'Ex') | (X['ExterQual'] == 'Good'), 1, 0)\n",
    "    X['IsExtCondGood'] = np.where((X['ExterCond'] == 'Ex') | (X['ExterCond'] == 'Good'), 1, 0)\n",
    "    \n",
    "    X['IsBsmConcrete'] = np.where(X['Foundation'] == 'PConc', 1, 0)\n",
    "    \n",
    "    X['BsmtCond'] = X['BsmtCond'].fillna('Absent')\n",
    "    X['BsmtQual'] = X['BsmtQual'].fillna('Absent')\n",
    "    X['BsmtQual'] = X['BsmtQual'].replace(\n",
    "        {'Ex': 'Good', 'Gd': 'Good', 'TA': 'Good', 'Fa': 'Bad', 'Po': 'Bad'}\n",
    "    )\n",
    "    X['BsmtCond'] = X['BsmtCond'].replace(\n",
    "        {'Ex': 'Good', 'Gd': 'Good', 'TA': 'Good', 'Fa': 'Bad', 'Po': 'Bad'}\n",
    "    )\n",
    "    X['IsBsmQualGood'] = np.where((X['BsmtQual'] == 'Ex') | (X['BsmtQual'] == 'Good'), 1, 0)\n",
    "    X['IsBsmCondGood'] = np.where((X['BsmtCond'] == 'Ex') | (X['BsmtCond'] == 'Good'), 1, 0)\n",
    "    \n",
    "    X['BsmtExposure'] = X['BsmtExposure'].fillna('Absent')\n",
    "    X['BsmExposure'] = X['BsmtExposure'].replace(\n",
    "        {'Mn': 'Norm', 'Av': 'Norm', 'Absent': 'No'}\n",
    "    )\n",
    "    \n",
    "    X['BsmtFinType1'] = X['BsmtFinType1'].fillna('Absent')\n",
    "    X['BsmFinType_1'] = X['BsmtFinType1'].replace(\n",
    "        {'Unf': 'C0',\n",
    "         'GLQ': 'C1',\n",
    "         'CemntBd': 'C2',\n",
    "         'Rec': 'C3', 'LWQ': 'C3', 'ALQ': 'C3', 'BLQ': 'C3', 'Absent': 'C3'\n",
    "        }\n",
    "    )\n",
    "    X['BsmtFinType2'] = X['BsmtFinType2'].fillna('Absent')\n",
    "    X['BsmFinType_2'] = X['BsmtFinType2'].replace(\n",
    "        {'Unf': 'C0',\n",
    "         'GLQ': 'C1',\n",
    "         'CemntBd': 'C2',\n",
    "         'Rec': 'C3', 'LWQ': 'C3', 'ALQ': 'C3', 'BLQ': 'C3', 'Absent': 'C3'\n",
    "        }\n",
    "    )\n",
    "    \n",
    "    X['GarageType'] = X['GarageType'].fillna('Absent')\n",
    "    X['GarageType'] = X['GarageType'].replace(\n",
    "        {'CarPort': 'Detchd', '2Types': 'Detchd', 'Basment': 'Detchd'}\n",
    "    )\n",
    "    X['GarageFinish'] = X['GarageFinish'].fillna('Absent')\n",
    "    X['IsGarageFinished'] = np.where(X['GarageFinish'] == 'Unf', 0, 1)\n",
    "    \n",
    "    X['HeatingQC'] = X['HeatingQC'].replace(\n",
    "        {'Ex': 'Good', 'Gd': 'Good', 'TA': 'Norm', 'Fa': 'Bad', 'Po': 'Bad'}\n",
    "    )\n",
    "    X['IsHeatGood'] = np.where(X['HeatingQC'] == 'Good', 1, 0)\n",
    "    \n",
    "    X['KitchenQual'] = X['KitchenQual'].replace(\n",
    "        {'Ex': 'Good', 'Gd': 'Good', 'TA': 'Norm', 'Fa': 'Bad', 'Po': 'Bad'}\n",
    "    )\n",
    "    X['IsKitchenGood'] = np.where(X['KitchenQual'] == 'Good', 1, 0)\n",
    "    \n",
    "    X['IsCentralAir'] = np.where(X['CentralAir'] == 'Y', 1, 0)\n",
    "    X['IsStandardElect'] = np.where(X['Electrical'] == 'SBrkr', 1, 0)\n",
    "    \n",
    "    X['FireplaceQu'] = X['FireplaceQu'].fillna('Absent')\n",
    "    X['FireplaceQual'] = X['FireplaceQu'].replace(\n",
    "        {'Ex': 'Good', 'Gd': 'Good', 'TA': 'Norm', 'Fa': 'Bad', 'Po': 'Bad', 'Absent': 'Bad'}\n",
    "    )\n",
    "    \n",
    "    X['Fence'] = X['Fence'].fillna('Absent')\n",
    "    \n",
    "    X['IsFenceGoodOrAbsent'] = X['Fence'].replace(\n",
    "        {'GdPrv': '1', 'Absent': '1', 'MnPrv': '0', 'MnWw': '0', 'GdWo': '0'}\n",
    "    ).astype(np.int64)\n",
    "    \n",
    "    X['MiscFeature'] = X['MiscFeature'].fillna('Absent')\n",
    "    X['IsShedPresent'] = np.where(X['MiscFeature'] == 'Shed', 1, 0)\n",
    "    \n",
    "    X['IsNewHouse'] = np.where(X['SaleType'] == 'New', 1, 0)\n",
    "    \n",
    "    X['SaleCond'] = X['SaleCondition'].replace(\n",
    "        {'Alloca': 'C0', 'Normal': 'C0',\n",
    "         'Partial': 'C1',\n",
    "         'Abnorml': 'C2', 'Family': 'C2', 'AdjLand': 'C2'}\n",
    "    )\n",
    "    \n",
    "    cols_to_drop = [\n",
    "        'MSZoning', 'Condition1', 'Condition2',\n",
    "        'Street', 'Alley', 'LotShape', 'LandContour', 'LotConfig', 'LandSlope', 'PavedDrive',\n",
    "        'BldgType', 'HouseStyle', 'RoofStyle', 'RoofMatl',\n",
    "        'Exterior1st', 'Exterior2nd', 'ExterQual', 'ExterCond',\n",
    "        'Foundation', 'BsmtQual', 'BsmtCond', 'BsmtExposure', 'BsmtFinType1', 'BsmtFinType2',\n",
    "        'HeatingQC', 'KitchenQual', 'Electrical', 'FireplaceQu', 'Fence', 'MiscFeature',\n",
    "        'SaleType', 'SaleCondition',\n",
    "        'GarageQual', 'GarageCond', 'GarageFinish',\n",
    "        'PoolQC', 'Functional', 'Heating', 'Utilities', 'CentralAir'\n",
    "    ]\n",
    "    \n",
    "    X.drop(columns=cols_to_drop, inplace=True)\n",
    "    return X\n",
    "\n",
    "def make_cat_dummy(X):\n",
    "    cols_to_dummy = ['Neighborhood', 'MSSubClass', 'MasVnrType',\n",
    "                     'GarageType', 'FireplaceQual', 'SaleCond', 'BsmExposure',\n",
    "                     'Exterior_1', 'Exterior_2']\n",
    "    cols_to_drop = ['Neighborhood_C0', 'MSSubClass_C0',\n",
    "                    'MasVnrType_None', 'Exterior_1_C0', 'Exterior_2_C0',\n",
    "                    'GarageType_Attchd', 'FireplaceQual_Bad', 'SaleCond_C0', 'BsmExposure_No']\n",
    "    X = pd.get_dummies(X, columns=cols_to_dummy, prefix=cols_to_dummy)\n",
    "    X.drop(columns=cols_to_drop, inplace=True)\n",
    "    return X"
   ]
  },
  {
   "cell_type": "code",
   "execution_count": 22,
   "id": "8f9e63b7",
   "metadata": {
    "ExecuteTime": {
     "end_time": "2022-11-04T13:31:41.779340Z",
     "start_time": "2022-11-04T13:31:41.720482Z"
    },
    "hidden": true
   },
   "outputs": [],
   "source": [
    "X = data.copy()\n",
    "X['MSSubClass'] = X['MSSubClass'].astype(str)\n",
    "X = X.select_dtypes(include=['object'])\n",
    "X = prepara_date_cat(X)"
   ]
  },
  {
   "cell_type": "code",
   "execution_count": null,
   "id": "b2eca995",
   "metadata": {
    "hidden": true
   },
   "outputs": [],
   "source": [
    "X.head()"
   ]
  },
  {
   "cell_type": "code",
   "execution_count": 23,
   "id": "e294c80f",
   "metadata": {
    "ExecuteTime": {
     "end_time": "2022-11-04T13:31:43.338813Z",
     "start_time": "2022-11-04T13:31:43.327511Z"
    },
    "hidden": true
   },
   "outputs": [],
   "source": [
    "#X.apply(lambda x: x.unique())"
   ]
  },
  {
   "cell_type": "code",
   "execution_count": 11,
   "id": "99913b50",
   "metadata": {
    "ExecuteTime": {
     "end_time": "2022-11-04T13:14:14.204458Z",
     "start_time": "2022-11-04T13:14:12.774497Z"
    },
    "hidden": true
   },
   "outputs": [],
   "source": [
    "corr_heatmap(X)"
   ]
  },
  {
   "cell_type": "markdown",
   "id": "80170ee6",
   "metadata": {
    "hidden": true
   },
   "source": [
    "- BsmQual, BsmCond are correlated => PCA\n",
    "- IsSlope, IsLandFlat are correlated => remove IsLandFlat\n",
    "- IsHeatGood, IsKitchenGood, IsGarageFinished and IsBsmConcrete are correlated => PCA\n",
    "- IsBsmConcrete, IsNewHouse are correlated => PCA"
   ]
  },
  {
   "cell_type": "code",
   "execution_count": 24,
   "id": "24ceb725",
   "metadata": {
    "ExecuteTime": {
     "end_time": "2022-11-04T13:31:47.176201Z",
     "start_time": "2022-11-04T13:31:47.151288Z"
    },
    "hidden": true
   },
   "outputs": [],
   "source": [
    "X = make_cat_dummy(X)"
   ]
  },
  {
   "cell_type": "code",
   "execution_count": 25,
   "id": "ea2f2ae5",
   "metadata": {
    "ExecuteTime": {
     "end_time": "2022-11-04T13:31:49.039876Z",
     "start_time": "2022-11-04T13:31:48.903415Z"
    },
    "hidden": true
   },
   "outputs": [],
   "source": [
    "corr_heatmap(X)"
   ]
  },
  {
   "cell_type": "markdown",
   "id": "2618d021",
   "metadata": {
    "hidden": true
   },
   "source": [
    "- Exterior_1, Exterior_2 are correlated => drop Exterior_2\n",
    "- IsNewHouse, SaleCond_C1 are correlated => drop SaleCond_C1\n",
    "- IsOneFloor, MSSubClass_C1 are correlated => rather drop MSSubClass_C1\n",
    "- IsOneFamily, MSSubClass_C2 are correlated => rather drop MSSubClass_C2\n",
    "- IsGarageFinished, GarageType_Detached are correlated => PCA\n",
    "- IsLowDensityArea, Neighborhood_C1 are correlated => PCA"
   ]
  },
  {
   "cell_type": "code",
   "execution_count": null,
   "id": "96eecef4",
   "metadata": {
    "code_folding": [],
    "hidden": true
   },
   "outputs": [],
   "source": [
    "def make_cat_dummy(X):\n",
    "    cols_to_dummy = ['Neighborhood', 'MSSubClass', 'MasVnrType',\n",
    "                     'GarageType', 'FireplaceQual', 'SaleCond', 'BsmExposure',\n",
    "                     'Exterior_1']\n",
    "    cols_to_drop = [\n",
    "        'Neighborhood_C0', 'MSSubClass_C0', 'MSSubClass_C1', 'MSSubClass_C2',\n",
    "        'MasVnrType_None', 'Exterior_1_C0', 'Exterior_2',\n",
    "        'GarageType_Attchd', 'FireplaceQual_Bad', 'SaleCond_C0',\n",
    "        'SaleCond_C1', 'BsmExposure_No',\n",
    "        'IsLandFlat', \n",
    "    ]\n",
    "    X = pd.get_dummies(X, columns=cols_to_dummy, prefix=cols_to_dummy)\n",
    "    X.drop(columns=cols_to_drop, inplace=True)\n",
    "    return X"
   ]
  },
  {
   "cell_type": "markdown",
   "id": "fe8bcb21",
   "metadata": {},
   "source": [
    "## Overview"
   ]
  },
  {
   "cell_type": "code",
   "execution_count": 120,
   "id": "6fec3db3",
   "metadata": {
    "ExecuteTime": {
     "end_time": "2022-11-06T13:31:08.254051Z",
     "start_time": "2022-11-06T13:31:08.217888Z"
    },
    "code_folding": [
     0,
     31,
     207
    ]
   },
   "outputs": [],
   "source": [
    "def prepare_data_num(X):\n",
    "    X['MSSubClass'] = X['MSSubClass'].astype(str)\n",
    "    X['PorchSF'] = (X['WoodDeckSF'] + X['OpenPorchSF'] + \n",
    "                    X['EnclosedPorch'] + X['3SsnPorch'] + \n",
    "                    X['ScreenPorch'])\n",
    "    X['PorchType'] = np.where(\n",
    "        X['WoodDeckSF'] != 0,\n",
    "        'WoodDeck',\n",
    "        np.where(\n",
    "            X['OpenPorchSF']!=0, \n",
    "            'Open',\n",
    "            np.where(\n",
    "                X['EnclosedPorch']!=0,\n",
    "                'Enclosed',\n",
    "                'Screen'\n",
    "            )\n",
    "        )\n",
    "    )\n",
    "    X['FloorRatio'] = X['2ndFlrSF']/X['1stFlrSF']\n",
    "    X['PerRoomSF'] = X['GrLivArea']/X['TotRmsAbvGrd']\n",
    "    \n",
    "    cols_to_drop = [\n",
    "        'Id', 'MoSold', 'YrSold', 'PoolArea', 'BsmtFullBath', 'BsmtHalfBath', \n",
    "        'FullBath', 'BedroomAbvGr', 'KitchenAbvGr', 'GarageYrBlt', 'GarageCars',\n",
    "        'WoodDeckSF', 'OpenPorchSF', 'EnclosedPorch', '3SsnPorch', 'ScreenPorch',\n",
    "        'YearRemodAdd', 'TotalBsmtSF', 'MiscVal', '2ndFlrSF', '1stFlrSF',\n",
    "        'LowQualFinSF', 'OverallCond', 'BsmtFinSF2', 'TotRmsAbvGrd'\n",
    "    ]\n",
    "    X.drop(columns=cols_to_drop, inplace=True)\n",
    "    return X\n",
    "\n",
    "def prepare_data_cat(X):\n",
    "    X['MSZoning'] = X.MSZoning.replace({'RH':'RM', 'FV':'RL', 'C (all)': 'RM'})\n",
    "    X['IsLowDensityArea'] = np.where(X['MSZoning'] == 'RL', 1, 0)\n",
    "    \n",
    "    X['Neighborhood'] = X.Neighborhood.replace(\n",
    "        {'Edwards': 'C0', 'OldTown': 'C0', 'Sawyer': 'C0', 'BrkSide': 'C0',\n",
    "         'Blueste': 'C0', 'NPkVill': 'C0', 'Mitchel': 'C0', 'SWISU': 'C0', 'NAmes': 'C0',\n",
    "         'MeadowV': 'C1', 'BrDale': 'C1', 'IDOTRR': 'C1',\n",
    "         'NridgHt': 'C2', 'StoneBr': 'C2', 'NoRidge': 'C2',\n",
    "         'SawyerW': 'C3', 'Blmngtn': 'C3', 'Gilbert': 'C3', 'NWAmes': 'C3',\n",
    "         'Somerst': 'C4', 'Timber': 'C4', 'Veenker': 'C4',\n",
    "         'Crawfor': 'C4', 'CollgCr': 'C4', 'ClearCr': 'C4',\n",
    "        }\n",
    "    )\n",
    "    \n",
    "    X['Condition1'] = X['Condition1'].replace(\n",
    "        {'PosA': 'C1', 'PosN': 'C1', 'RRAn':'C1', 'RRNe': 'C1', 'RRNn': 'C1', 'Norm': 'C1',\n",
    "         'Feedr':'C2', 'Artery':'C2', 'RRAe':'C2'\n",
    "        }\n",
    "    )\n",
    "    X['Condition2'] = X['Condition2'].replace(\n",
    "        {'PosA': 'C1', 'PosN': 'C1', 'RRAn':'C1', 'RRNe': 'C1', 'RRNn': 'C1', 'Norm': 'C1',\n",
    "         'Feedr':'C2', 'Artery':'C2', 'RRAe':'C2'\n",
    "        }\n",
    "    )\n",
    "    X['Condition1'] = np.where(X['Condition1'] == 'C1', 1, 0)\n",
    "    X['Condition2'] = np.where(X['Condition2'] == 'C1', 1, 0)\n",
    "    X['IsEnvGood'] = np.where(X['Condition2']+X['Condition1'] == 2, 1, 0)\n",
    "    \n",
    "    X['Alley'] = X.Alley.fillna('Pave')\n",
    "    X['IsAlleyGravel'] = np.where(X['Alley'] == 'Pave', 0, 1)\n",
    "    X['IsShapeReg'] = np.where(X['LotShape'] ==  'Reg', 1, 0)\n",
    "    X['LandContour'] = X['LandContour'].replace(\n",
    "        {'Lvl': 'Norm', 'Bnk': 'Norm', 'Low': 'Ir', 'HLS': 'Ir'}\n",
    "    )\n",
    "    X['IsLandFlat'] = np.where(X['LandContour'] == 'Ir', 0, 1)\n",
    "    \n",
    "    X['LotConfig'] = X['LotConfig'].replace(\n",
    "        {'Inside': 'Norm', 'FR2': 'Norm', 'Corner': 'Norm', 'CulDSac': 'Ir', 'FR3': 'Ir'}\n",
    "    )\n",
    "    X['IsNarrow'] = np.where(X['LotConfig'] == 'Ir', 0, 1)\n",
    "    X['IsSlope'] = np.where((X['LandSlope'] == 'Mod') | (X['LandSlope'] == 'Sev'), 1, 0)\n",
    "    X['IsPaved'] = np.where((X['PavedDrive'] == 'N') | (X['PavedDrive'] == 'P'), 0, 1)\n",
    "    \n",
    "    X['MSSubClass'] = X['MSSubClass'].replace(\n",
    "        {'20': 'C0', '70': 'C0', '75': 'C0', '80': 'C0',\n",
    "         '60': 'C1', '120': 'C1',\n",
    "         '90': 'C2', '85': 'C2', '40': 'C2', '160': 'C2', '50': 'C2', '190': 'C2',\n",
    "         '45': 'C3', '30': 'C3', '180': 'C3'\n",
    "        }\n",
    "    )\n",
    "    X['IsOneFamily'] = np.where(X['BldgType'] == '1Fam', 1, 0)\n",
    "    X['IsOneFloor'] = X['HouseStyle'].replace(\n",
    "        {'SFoyer': '1', 'SLvl': '1', '1Story': '1',\n",
    "         '1.5Fin': '1', '1.5Unf': '1',\n",
    "         '2Story': '0', '2.5Fin': '0', '2.5Unf': '0'\n",
    "        }\n",
    "    ).astype(np.int64)\n",
    "    X['IsRoofGable'] = np.where(X['RoofStyle'] == 'Gable', 1, 0)\n",
    "    X['IsRoofStandard'] = np.where(X['RoofMatl'] == 'CompShg', 1, 0)\n",
    "    X['Exterior_1'] = X['Exterior1st'].replace(\n",
    "        {'VinylSd': 'C0',\n",
    "         'BrkFace': 'C1', 'BrkComm': 'C1', 'Plywood': 'C1', 'Brk Cmn': 'C1',\n",
    "         'CmentBd': 'C2', 'Stone': 'C2', 'CemntBd': 'C2', 'Other': 'C2',\n",
    "         'AsphShn': 'C3', 'AsbShng': 'C3', 'ImStucc': 'C3', 'CBlock': 'C3',\n",
    "         'Wd Sdng': 'C4', 'Wd Shng': 'C4', 'WdShing': 'C4', 'Stucco': 'C4',\n",
    "         'HdBoard': 'C4', 'MetalSd': 'C4'\n",
    "        }\n",
    "    )\n",
    "    X['Exterior_2'] = X['Exterior2nd'].replace(\n",
    "        {'VinylSd': 'C0',\n",
    "         'BrkFace': 'C1', 'BrkComm': 'C1', 'Plywood': 'C1', 'Brk Cmn': 'C1',\n",
    "         'CmentBd': 'C2', 'Stone': 'C2', 'CemntBd': 'C2', 'Other': 'C2',\n",
    "         'AsphShn': 'C3', 'AsbShng': 'C3', 'ImStucc': 'C3', 'CBlock': 'C3',\n",
    "         'Wd Sdng': 'C4', 'Wd Shng': 'C4', 'WdShing': 'C4', 'Stucco': 'C4',\n",
    "         'HdBoard': 'C4', 'MetalSd': 'C4'\n",
    "        }\n",
    "    )\n",
    "    X['MasVnrType'] = X['MasVnrType'].fillna('None')\n",
    "    X['MasVnrType'] = X['MasVnrType'].replace({'BrkFace': 'Brick', 'BrkCmn': 'Brick'})\n",
    "    X['IsExtQualGood'] = np.where((X['ExterQual'] == 'Ex') | (X['ExterQual'] == 'Good'), 1, 0)\n",
    "    X['IsExtCondGood'] = np.where((X['ExterCond'] == 'Ex') | (X['ExterCond'] == 'Good'), 1, 0)\n",
    "    \n",
    "    X['IsBsmConcrete'] = np.where(X['Foundation'] == 'PConc', 1, 0)\n",
    "    \n",
    "    X['BsmtCond'] = X['BsmtCond'].fillna('Absent')\n",
    "    X['BsmtQual'] = X['BsmtQual'].fillna('Absent')\n",
    "    X['BsmtQual'] = X['BsmtQual'].replace(\n",
    "        {'Ex': 'Good', 'Gd': 'Good', 'TA': 'Good', 'Fa': 'Bad', 'Po': 'Bad'}\n",
    "    )\n",
    "    X['BsmtCond'] = X['BsmtCond'].replace(\n",
    "        {'Ex': 'Good', 'Gd': 'Good', 'TA': 'Good', 'Fa': 'Bad', 'Po': 'Bad'}\n",
    "    )\n",
    "    X['IsBsmQualGood'] = np.where((X['BsmtQual'] == 'Ex') | (X['BsmtQual'] == 'Good'), 1, 0)\n",
    "    X['IsBsmCondGood'] = np.where((X['BsmtCond'] == 'Ex') | (X['BsmtCond'] == 'Good'), 1, 0)\n",
    "    \n",
    "    X['BsmtExposure'] = X['BsmtExposure'].fillna('Absent')\n",
    "    X['BsmExposure'] = X['BsmtExposure'].replace(\n",
    "        {'Mn': 'Norm', 'Av': 'Norm', 'Absent': 'No'}\n",
    "    )\n",
    "    \n",
    "    X['BsmtFinType1'] = X['BsmtFinType1'].fillna('Absent')\n",
    "    X['BsmFinType_1'] = X['BsmtFinType1'].replace(\n",
    "        {'Unf': 'C0',\n",
    "         'GLQ': 'C1',\n",
    "         'CemntBd': 'C2',\n",
    "         'Rec': 'C3', 'LwQ': 'C3', 'ALQ': 'C3', 'BLQ': 'C3', 'Absent': 'C3'\n",
    "        }\n",
    "    )\n",
    "    X['BsmtFinType2'] = X['BsmtFinType2'].fillna('Absent')\n",
    "    X['BsmFinType_2'] = X['BsmtFinType2'].replace(\n",
    "        {'Unf': 'C0',\n",
    "         'GLQ': 'C1',\n",
    "         'CemntBd': 'C2',\n",
    "         'Rec': 'C3', 'LWQ': 'C3', 'ALQ': 'C3', 'BLQ': 'C3', 'Absent': 'C3'\n",
    "        }\n",
    "    )\n",
    "    \n",
    "    X['GarageType'] = X['GarageType'].fillna('Absent')\n",
    "    X['GarageType'] = X['GarageType'].replace(\n",
    "        {'CarPort': 'Detchd', '2Types': 'Detchd', 'Basment': 'Detchd'}\n",
    "    )\n",
    "    X['GarageFinish'] = X['GarageFinish'].fillna('Absent')\n",
    "    X['IsGarageFinished'] = np.where(X['GarageFinish'] == 'Unf', 0, 1)\n",
    "    \n",
    "    X['HeatingQC'] = X['HeatingQC'].replace(\n",
    "        {'Ex': 'Good', 'Gd': 'Good', 'TA': 'Norm', 'Fa': 'Bad', 'Po': 'Bad'}\n",
    "    )\n",
    "    X['IsHeatGood'] = np.where(X['HeatingQC'] == 'Good', 1, 0)\n",
    "    \n",
    "    X['KitchenQual'] = X['KitchenQual'].replace(\n",
    "        {'Ex': 'Good', 'Gd': 'Good', 'TA': 'Norm', 'Fa': 'Bad', 'Po': 'Bad'}\n",
    "    )\n",
    "    X['IsKitchenGood'] = np.where(X['KitchenQual'] == 'Good', 1, 0)\n",
    "    \n",
    "    X['IsCentralAir'] = np.where(X['CentralAir'] == 'Y', 1, 0)\n",
    "    X['IsStandardElect'] = np.where(X['Electrical'] == 'SBrkr', 1, 0)\n",
    "    \n",
    "    X['FireplaceQu'] = X['FireplaceQu'].fillna('Absent')\n",
    "    X['FireplaceQual'] = X['FireplaceQu'].replace(\n",
    "        {'Ex': 'Good', 'Gd': 'Good', 'TA': 'Norm', 'Fa': 'Bad', 'Po': 'Bad', 'Absent': 'Bad'}\n",
    "    )\n",
    "    \n",
    "    X['Fence'] = X['Fence'].fillna('Absent')\n",
    "    \n",
    "    X['IsFenceGoodOrAbsent'] = X['Fence'].replace(\n",
    "        {'GdPrv': '1', 'Absent': '1', 'MnPrv': '0', 'MnWw': '0', 'GdWo': '0'}\n",
    "    ).astype(np.int64)\n",
    "    \n",
    "    X['MiscFeature'] = X['MiscFeature'].fillna('Absent')\n",
    "    X['IsShedPresent'] = np.where(X['MiscFeature'] == 'Shed', 1, 0)\n",
    "    \n",
    "    X['IsNewHouse'] = np.where(X['SaleType'] == 'New', 1, 0)\n",
    "    \n",
    "    X['SaleCond'] = X['SaleCondition'].replace(\n",
    "        {'Alloca': 'C0', 'Normal': 'C0',\n",
    "         'Partial': 'C1',\n",
    "         'Abnorml': 'C2', 'Family': 'C2', 'AdjLand': 'C2'}\n",
    "    )\n",
    "    \n",
    "    cols_to_drop = [\n",
    "        'MSZoning', 'Condition1', 'Condition2',\n",
    "        'Street', 'Alley', 'LotShape', 'LandContour', 'LotConfig', 'LandSlope', 'PavedDrive',\n",
    "        'BldgType', 'HouseStyle', 'RoofStyle', 'RoofMatl',\n",
    "        'Exterior1st', 'Exterior2nd', 'ExterQual', 'ExterCond',\n",
    "        'Foundation', 'BsmtQual', 'BsmtCond', 'BsmtExposure', 'BsmtFinType1', 'BsmtFinType2',\n",
    "        'HeatingQC', 'KitchenQual', 'Electrical', 'FireplaceQu', 'Fence', 'MiscFeature',\n",
    "        'SaleType', 'SaleCondition',\n",
    "        'GarageQual', 'GarageCond', 'GarageFinish',\n",
    "        'PoolQC', 'Functional', 'Heating', 'Utilities', 'CentralAir', \n",
    "        'BsmFinType_2', 'IsLandFlat', 'Exterior_2'\n",
    "    ]\n",
    "    \n",
    "    X.drop(columns=cols_to_drop, inplace=True)\n",
    "    return X\n",
    "\n",
    "def make_cat_dummy(X):\n",
    "    cols_to_dummy = ['Neighborhood', 'MSSubClass', 'MasVnrType',\n",
    "                     'GarageType', 'FireplaceQual', 'SaleCond', 'BsmExposure',\n",
    "                     'Exterior_1', 'PorchType', 'BsmFinType_1']\n",
    "    cols_to_drop = [\n",
    "        'Neighborhood_C0', 'MSSubClass_C0', 'MSSubClass_C1', 'MSSubClass_C2',\n",
    "        'MasVnrType_None', 'Exterior_1_C0',  'GarageType_Attchd', 'FireplaceQual_Bad',\n",
    "        'SaleCond_C0', 'SaleCond_C1', 'BsmExposure_No', 'PorchType_WoodDeck', 'BsmFinType_1_C0'\n",
    "    ]\n",
    "    X = pd.get_dummies(X, columns=cols_to_dummy, prefix=cols_to_dummy)\n",
    "    X.drop(columns=cols_to_drop, inplace=True)\n",
    "    return X"
   ]
  },
  {
   "cell_type": "code",
   "execution_count": 161,
   "id": "0228b360",
   "metadata": {
    "ExecuteTime": {
     "end_time": "2022-11-06T14:57:13.499481Z",
     "start_time": "2022-11-06T14:57:13.437376Z"
    }
   },
   "outputs": [],
   "source": [
    "X = data.copy()\n",
    "X = prepare_data_num(X)\n",
    "X = prepare_data_cat(X)\n",
    "X = make_cat_dummy(X)"
   ]
  },
  {
   "cell_type": "code",
   "execution_count": 118,
   "id": "e38c3d8d",
   "metadata": {
    "ExecuteTime": {
     "end_time": "2022-11-06T13:30:04.330405Z",
     "start_time": "2022-11-06T13:30:04.174253Z"
    }
   },
   "outputs": [],
   "source": [
    "corr_heatmap(X)"
   ]
  },
  {
   "cell_type": "code",
   "execution_count": 139,
   "id": "6fb03e03",
   "metadata": {
    "ExecuteTime": {
     "end_time": "2022-11-06T13:43:20.747018Z",
     "start_time": "2022-11-06T13:43:20.719814Z"
    }
   },
   "outputs": [
    {
     "data": {
      "text/plain": [
       "(1460, 63)"
      ]
     },
     "execution_count": 139,
     "metadata": {},
     "output_type": "execute_result"
    }
   ],
   "source": [
    "X.shape"
   ]
  },
  {
   "cell_type": "markdown",
   "id": "c8f415c5",
   "metadata": {},
   "source": [
    "- drop FloorRatio (IsOneFloor is better)\n",
    "- remove ouliers, standardize, stimulaze\n",
    "- select centroids\n",
    "- held PCA"
   ]
  },
  {
   "cell_type": "markdown",
   "id": "e48aab97",
   "metadata": {
    "heading_collapsed": true
   },
   "source": [
    "## Outliers with 3 standard deviations difference"
   ]
  },
  {
   "cell_type": "code",
   "execution_count": 143,
   "id": "2bbf49ae",
   "metadata": {
    "ExecuteTime": {
     "end_time": "2022-11-06T14:47:11.863203Z",
     "start_time": "2022-11-06T14:47:11.843135Z"
    },
    "code_folding": [
     0
    ],
    "hidden": true
   },
   "outputs": [],
   "source": [
    "def show_outliers(X, n_std=3):\n",
    "    outliers_dict = {}\n",
    "    \n",
    "    for col in X.columns.to_list():\n",
    "        mean = X[col].mean()\n",
    "        sd = X[col].std()\n",
    "        X_filtered = X[X[col] > mean+(n_std*sd)]\n",
    "        outliers_dict[col] = [\n",
    "            X.shape[0]-X[(X[col] <= mean+(n_std*sd))].shape[0],\n",
    "            round((X.shape[0]-X[(X[col] <= mean+(n_std*sd))].shape[0])/X.shape[0],3),\n",
    "            X_filtered[col].min()\n",
    "        ]\n",
    "        \n",
    "    return(pd.DataFrame(outliers_dict, index=['Count', 'Percentage', 'Min']))"
   ]
  },
  {
   "cell_type": "code",
   "execution_count": 189,
   "id": "8eff9830",
   "metadata": {
    "ExecuteTime": {
     "end_time": "2022-11-06T15:08:58.093301Z",
     "start_time": "2022-11-06T15:08:57.998258Z"
    },
    "hidden": true
   },
   "outputs": [
    {
     "data": {
      "text/html": [
       "<div>\n",
       "<style scoped>\n",
       "    .dataframe tbody tr th:only-of-type {\n",
       "        vertical-align: middle;\n",
       "    }\n",
       "\n",
       "    .dataframe tbody tr th {\n",
       "        vertical-align: top;\n",
       "    }\n",
       "\n",
       "    .dataframe thead th {\n",
       "        text-align: right;\n",
       "    }\n",
       "</style>\n",
       "<table border=\"1\" class=\"dataframe\">\n",
       "  <thead>\n",
       "    <tr style=\"text-align: right;\">\n",
       "      <th></th>\n",
       "      <th>LotFrontage</th>\n",
       "      <th>LotArea</th>\n",
       "      <th>OverallQual</th>\n",
       "      <th>YearBuilt</th>\n",
       "      <th>MasVnrArea</th>\n",
       "      <th>BsmtFinSF1</th>\n",
       "      <th>BsmtUnfSF</th>\n",
       "      <th>GrLivArea</th>\n",
       "      <th>HalfBath</th>\n",
       "      <th>Fireplaces</th>\n",
       "      <th>GarageArea</th>\n",
       "      <th>SalePrice</th>\n",
       "      <th>PorchSF</th>\n",
       "      <th>FloorRatio</th>\n",
       "      <th>PerRoomSF</th>\n",
       "      <th>IsLowDensityArea</th>\n",
       "      <th>IsEnvGood</th>\n",
       "      <th>IsShapeReg</th>\n",
       "      <th>IsNarrow</th>\n",
       "      <th>IsSlope</th>\n",
       "      <th>IsPaved</th>\n",
       "      <th>IsOneFamily</th>\n",
       "      <th>IsOneFloor</th>\n",
       "      <th>IsRoofGable</th>\n",
       "      <th>IsRoofStandard</th>\n",
       "      <th>IsBsmConcrete</th>\n",
       "      <th>IsBsmQualGood</th>\n",
       "      <th>IsBsmCondGood</th>\n",
       "      <th>IsGarageFinished</th>\n",
       "      <th>IsHeatGood</th>\n",
       "      <th>IsKitchenGood</th>\n",
       "      <th>IsCentralAir</th>\n",
       "      <th>IsStandardElect</th>\n",
       "      <th>IsFenceGoodOrAbsent</th>\n",
       "      <th>IsNewHouse</th>\n",
       "      <th>Neighborhood_C1</th>\n",
       "      <th>Neighborhood_C2</th>\n",
       "      <th>Neighborhood_C3</th>\n",
       "      <th>Neighborhood_C4</th>\n",
       "      <th>MSSubClass_C3</th>\n",
       "      <th>MasVnrType_Brick</th>\n",
       "      <th>MasVnrType_Stone</th>\n",
       "      <th>GarageType_Absent</th>\n",
       "      <th>GarageType_BuiltIn</th>\n",
       "      <th>GarageType_Detchd</th>\n",
       "      <th>FireplaceQual_Good</th>\n",
       "      <th>FireplaceQual_Norm</th>\n",
       "      <th>SaleCond_C2</th>\n",
       "      <th>BsmExposure_Gd</th>\n",
       "      <th>BsmExposure_Norm</th>\n",
       "      <th>Exterior_1_C1</th>\n",
       "      <th>Exterior_1_C2</th>\n",
       "      <th>Exterior_1_C4</th>\n",
       "      <th>PorchType_Enclosed</th>\n",
       "      <th>PorchType_Open</th>\n",
       "      <th>PorchType_Screen</th>\n",
       "      <th>BsmFinType_1_C1</th>\n",
       "      <th>BsmFinType_1_C3</th>\n",
       "    </tr>\n",
       "  </thead>\n",
       "  <tbody>\n",
       "    <tr>\n",
       "      <th>Count</th>\n",
       "      <td>271.000</td>\n",
       "      <td>13.000</td>\n",
       "      <td>0.0</td>\n",
       "      <td>0.0</td>\n",
       "      <td>40.000</td>\n",
       "      <td>6.000</td>\n",
       "      <td>11.000</td>\n",
       "      <td>16.000</td>\n",
       "      <td>12.000</td>\n",
       "      <td>5.000</td>\n",
       "      <td>7.000</td>\n",
       "      <td>22.000</td>\n",
       "      <td>19.000</td>\n",
       "      <td>3.00000</td>\n",
       "      <td>11.000</td>\n",
       "      <td>0.0</td>\n",
       "      <td>0.0</td>\n",
       "      <td>0.0</td>\n",
       "      <td>0.0</td>\n",
       "      <td>78.000</td>\n",
       "      <td>0.0</td>\n",
       "      <td>0.0</td>\n",
       "      <td>0.0</td>\n",
       "      <td>0.0</td>\n",
       "      <td>0.0</td>\n",
       "      <td>0.0</td>\n",
       "      <td>0.0</td>\n",
       "      <td>0.0</td>\n",
       "      <td>0.0</td>\n",
       "      <td>0.0</td>\n",
       "      <td>0.0</td>\n",
       "      <td>0.0</td>\n",
       "      <td>0.0</td>\n",
       "      <td>0.0</td>\n",
       "      <td>122.000</td>\n",
       "      <td>70.000</td>\n",
       "      <td>143.000</td>\n",
       "      <td>0.0</td>\n",
       "      <td>0.0</td>\n",
       "      <td>91.000</td>\n",
       "      <td>0.0</td>\n",
       "      <td>128.000</td>\n",
       "      <td>81.000</td>\n",
       "      <td>88.00</td>\n",
       "      <td>0.0</td>\n",
       "      <td>0.0</td>\n",
       "      <td>0.0</td>\n",
       "      <td>125.000</td>\n",
       "      <td>134.000</td>\n",
       "      <td>0.0</td>\n",
       "      <td>0.0</td>\n",
       "      <td>63.000</td>\n",
       "      <td>0.0</td>\n",
       "      <td>104.000</td>\n",
       "      <td>0.0</td>\n",
       "      <td>0.0</td>\n",
       "      <td>0.0</td>\n",
       "      <td>0.0</td>\n",
       "    </tr>\n",
       "    <tr>\n",
       "      <th>Percentage</th>\n",
       "      <td>0.186</td>\n",
       "      <td>0.009</td>\n",
       "      <td>0.0</td>\n",
       "      <td>0.0</td>\n",
       "      <td>0.027</td>\n",
       "      <td>0.004</td>\n",
       "      <td>0.008</td>\n",
       "      <td>0.011</td>\n",
       "      <td>0.008</td>\n",
       "      <td>0.003</td>\n",
       "      <td>0.005</td>\n",
       "      <td>0.015</td>\n",
       "      <td>0.013</td>\n",
       "      <td>0.00200</td>\n",
       "      <td>0.008</td>\n",
       "      <td>0.0</td>\n",
       "      <td>0.0</td>\n",
       "      <td>0.0</td>\n",
       "      <td>0.0</td>\n",
       "      <td>0.053</td>\n",
       "      <td>0.0</td>\n",
       "      <td>0.0</td>\n",
       "      <td>0.0</td>\n",
       "      <td>0.0</td>\n",
       "      <td>0.0</td>\n",
       "      <td>0.0</td>\n",
       "      <td>0.0</td>\n",
       "      <td>0.0</td>\n",
       "      <td>0.0</td>\n",
       "      <td>0.0</td>\n",
       "      <td>0.0</td>\n",
       "      <td>0.0</td>\n",
       "      <td>0.0</td>\n",
       "      <td>0.0</td>\n",
       "      <td>0.084</td>\n",
       "      <td>0.048</td>\n",
       "      <td>0.098</td>\n",
       "      <td>0.0</td>\n",
       "      <td>0.0</td>\n",
       "      <td>0.062</td>\n",
       "      <td>0.0</td>\n",
       "      <td>0.088</td>\n",
       "      <td>0.055</td>\n",
       "      <td>0.06</td>\n",
       "      <td>0.0</td>\n",
       "      <td>0.0</td>\n",
       "      <td>0.0</td>\n",
       "      <td>0.086</td>\n",
       "      <td>0.092</td>\n",
       "      <td>0.0</td>\n",
       "      <td>0.0</td>\n",
       "      <td>0.043</td>\n",
       "      <td>0.0</td>\n",
       "      <td>0.071</td>\n",
       "      <td>0.0</td>\n",
       "      <td>0.0</td>\n",
       "      <td>0.0</td>\n",
       "      <td>0.0</td>\n",
       "    </tr>\n",
       "    <tr>\n",
       "      <th>Min</th>\n",
       "      <td>144.000</td>\n",
       "      <td>45600.000</td>\n",
       "      <td>NaN</td>\n",
       "      <td>NaN</td>\n",
       "      <td>650.000</td>\n",
       "      <td>1880.000</td>\n",
       "      <td>1905.000</td>\n",
       "      <td>3112.000</td>\n",
       "      <td>2.000</td>\n",
       "      <td>3.000</td>\n",
       "      <td>1134.000</td>\n",
       "      <td>423000.000</td>\n",
       "      <td>656.000</td>\n",
       "      <td>1.74026</td>\n",
       "      <td>368.400</td>\n",
       "      <td>NaN</td>\n",
       "      <td>NaN</td>\n",
       "      <td>NaN</td>\n",
       "      <td>NaN</td>\n",
       "      <td>1.000</td>\n",
       "      <td>NaN</td>\n",
       "      <td>NaN</td>\n",
       "      <td>NaN</td>\n",
       "      <td>NaN</td>\n",
       "      <td>NaN</td>\n",
       "      <td>NaN</td>\n",
       "      <td>NaN</td>\n",
       "      <td>NaN</td>\n",
       "      <td>NaN</td>\n",
       "      <td>NaN</td>\n",
       "      <td>NaN</td>\n",
       "      <td>NaN</td>\n",
       "      <td>NaN</td>\n",
       "      <td>NaN</td>\n",
       "      <td>1.000</td>\n",
       "      <td>1.000</td>\n",
       "      <td>1.000</td>\n",
       "      <td>NaN</td>\n",
       "      <td>NaN</td>\n",
       "      <td>1.000</td>\n",
       "      <td>NaN</td>\n",
       "      <td>1.000</td>\n",
       "      <td>1.000</td>\n",
       "      <td>1.00</td>\n",
       "      <td>NaN</td>\n",
       "      <td>NaN</td>\n",
       "      <td>NaN</td>\n",
       "      <td>1.000</td>\n",
       "      <td>1.000</td>\n",
       "      <td>NaN</td>\n",
       "      <td>NaN</td>\n",
       "      <td>1.000</td>\n",
       "      <td>NaN</td>\n",
       "      <td>1.000</td>\n",
       "      <td>NaN</td>\n",
       "      <td>NaN</td>\n",
       "      <td>NaN</td>\n",
       "      <td>NaN</td>\n",
       "    </tr>\n",
       "  </tbody>\n",
       "</table>\n",
       "</div>"
      ],
      "text/plain": [
       "            LotFrontage    LotArea  OverallQual  YearBuilt  MasVnrArea  \\\n",
       "Count           271.000     13.000          0.0        0.0      40.000   \n",
       "Percentage        0.186      0.009          0.0        0.0       0.027   \n",
       "Min             144.000  45600.000          NaN        NaN     650.000   \n",
       "\n",
       "            BsmtFinSF1  BsmtUnfSF  GrLivArea  HalfBath  Fireplaces  \\\n",
       "Count            6.000     11.000     16.000    12.000       5.000   \n",
       "Percentage       0.004      0.008      0.011     0.008       0.003   \n",
       "Min           1880.000   1905.000   3112.000     2.000       3.000   \n",
       "\n",
       "            GarageArea   SalePrice  PorchSF  FloorRatio  PerRoomSF  \\\n",
       "Count            7.000      22.000   19.000     3.00000     11.000   \n",
       "Percentage       0.005       0.015    0.013     0.00200      0.008   \n",
       "Min           1134.000  423000.000  656.000     1.74026    368.400   \n",
       "\n",
       "            IsLowDensityArea  IsEnvGood  IsShapeReg  IsNarrow  IsSlope  \\\n",
       "Count                    0.0        0.0         0.0       0.0   78.000   \n",
       "Percentage               0.0        0.0         0.0       0.0    0.053   \n",
       "Min                      NaN        NaN         NaN       NaN    1.000   \n",
       "\n",
       "            IsPaved  IsOneFamily  IsOneFloor  IsRoofGable  IsRoofStandard  \\\n",
       "Count           0.0          0.0         0.0          0.0             0.0   \n",
       "Percentage      0.0          0.0         0.0          0.0             0.0   \n",
       "Min             NaN          NaN         NaN          NaN             NaN   \n",
       "\n",
       "            IsBsmConcrete  IsBsmQualGood  IsBsmCondGood  IsGarageFinished  \\\n",
       "Count                 0.0            0.0            0.0               0.0   \n",
       "Percentage            0.0            0.0            0.0               0.0   \n",
       "Min                   NaN            NaN            NaN               NaN   \n",
       "\n",
       "            IsHeatGood  IsKitchenGood  IsCentralAir  IsStandardElect  \\\n",
       "Count              0.0            0.0           0.0              0.0   \n",
       "Percentage         0.0            0.0           0.0              0.0   \n",
       "Min                NaN            NaN           NaN              NaN   \n",
       "\n",
       "            IsFenceGoodOrAbsent  IsNewHouse  Neighborhood_C1  Neighborhood_C2  \\\n",
       "Count                       0.0     122.000           70.000          143.000   \n",
       "Percentage                  0.0       0.084            0.048            0.098   \n",
       "Min                         NaN       1.000            1.000            1.000   \n",
       "\n",
       "            Neighborhood_C3  Neighborhood_C4  MSSubClass_C3  MasVnrType_Brick  \\\n",
       "Count                   0.0              0.0         91.000               0.0   \n",
       "Percentage              0.0              0.0          0.062               0.0   \n",
       "Min                     NaN              NaN          1.000               NaN   \n",
       "\n",
       "            MasVnrType_Stone  GarageType_Absent  GarageType_BuiltIn  \\\n",
       "Count                128.000             81.000               88.00   \n",
       "Percentage             0.088              0.055                0.06   \n",
       "Min                    1.000              1.000                1.00   \n",
       "\n",
       "            GarageType_Detchd  FireplaceQual_Good  FireplaceQual_Norm  \\\n",
       "Count                     0.0                 0.0                 0.0   \n",
       "Percentage                0.0                 0.0                 0.0   \n",
       "Min                       NaN                 NaN                 NaN   \n",
       "\n",
       "            SaleCond_C2  BsmExposure_Gd  BsmExposure_Norm  Exterior_1_C1  \\\n",
       "Count           125.000         134.000               0.0            0.0   \n",
       "Percentage        0.086           0.092               0.0            0.0   \n",
       "Min               1.000           1.000               NaN            NaN   \n",
       "\n",
       "            Exterior_1_C2  Exterior_1_C4  PorchType_Enclosed  PorchType_Open  \\\n",
       "Count              63.000            0.0             104.000             0.0   \n",
       "Percentage          0.043            0.0               0.071             0.0   \n",
       "Min                 1.000            NaN               1.000             NaN   \n",
       "\n",
       "            PorchType_Screen  BsmFinType_1_C1  BsmFinType_1_C3  \n",
       "Count                    0.0              0.0              0.0  \n",
       "Percentage               0.0              0.0              0.0  \n",
       "Min                      NaN              NaN              NaN  "
      ]
     },
     "execution_count": 189,
     "metadata": {},
     "output_type": "execute_result"
    }
   ],
   "source": [
    "show_outliers(X)"
   ]
  },
  {
   "cell_type": "markdown",
   "id": "2fd8bbee",
   "metadata": {
    "hidden": true
   },
   "source": [
    "- IsExtCondGood, IsExtQualGood, IsSlope, IsShedPresent, Exterior_C3, IsAlleyGravel, LotFrontage are rather rare variables => check plots once again and try to remove\n",
    "- PerRoomSF, FloorRatio, PorchSF, SalePrice, GarageArea, Fireplaces, HalfBath, GrLivArea,\n",
    "  BsmtFinSF1, BsmtUnfSF, LotArea contain less than 20 outliers => check them and try to remove"
   ]
  },
  {
   "cell_type": "code",
   "execution_count": 162,
   "id": "3e96ce6d",
   "metadata": {
    "ExecuteTime": {
     "end_time": "2022-11-06T14:57:17.891112Z",
     "start_time": "2022-11-06T14:57:17.861595Z"
    },
    "hidden": true
   },
   "outputs": [
    {
     "name": "stdout",
     "output_type": "stream",
     "text": [
      "IsShedPresent\n",
      "0                1411\n",
      "1                  49\n",
      "dtype: int64\n",
      "Exterior_1_C3\n",
      "0                1437\n",
      "1                  23\n",
      "dtype: int64\n",
      "IsAlleyGravel\n",
      "0                1410\n",
      "1                  50\n",
      "dtype: int64\n",
      "IsSlope\n",
      "0          1382\n",
      "1            78\n",
      "dtype: int64\n",
      "IsExtQualGood\n",
      "0                1408\n",
      "1                  52\n",
      "dtype: int64\n",
      "IsExtCondGood\n",
      "0                1457\n",
      "1                   3\n",
      "dtype: int64\n",
      "PorchType_Enclosed\n",
      "0                     1356\n",
      "1                      104\n",
      "dtype: int64\n"
     ]
    }
   ],
   "source": [
    "#print(X.value_counts(['IsShedPresent', 'Exterior_1_C3']))\n",
    "print(X.value_counts(['IsShedPresent']))\n",
    "print(X.value_counts(['Exterior_1_C3']))\n",
    "print(X.value_counts(['IsAlleyGravel']))\n",
    "print(X.value_counts(['IsSlope']))\n",
    "print(X.value_counts(['IsExtQualGood']))\n",
    "print(X.value_counts(['IsExtCondGood']))\n",
    "print(X.value_counts(['PorchType_Enclosed']))"
   ]
  },
  {
   "cell_type": "code",
   "execution_count": 166,
   "id": "8dc7d76d",
   "metadata": {
    "ExecuteTime": {
     "end_time": "2022-11-06T15:00:03.683349Z",
     "start_time": "2022-11-06T15:00:03.667705Z"
    },
    "code_folding": [
     0
    ],
    "hidden": true
   },
   "outputs": [],
   "source": [
    "def drop_columns_selected(X):\n",
    "    X.drop(\n",
    "        columns=['IsShedPresent', 'Exterior_1_C3', 'IsAlleyGravel',\n",
    "                 'IsExtQualGood', 'IsExtCondGood'],\n",
    "        inplace=True\n",
    "    )\n",
    "    return X"
   ]
  },
  {
   "cell_type": "code",
   "execution_count": 188,
   "id": "173ae163",
   "metadata": {
    "ExecuteTime": {
     "end_time": "2022-11-06T15:08:54.871516Z",
     "start_time": "2022-11-06T15:08:54.813493Z"
    },
    "hidden": true
   },
   "outputs": [],
   "source": [
    "X = data.copy()\n",
    "X = prepare_data_num(X)\n",
    "X = prepare_data_cat(X)\n",
    "X = make_cat_dummy(X)\n",
    "X = drop_columns_selected(X)"
   ]
  },
  {
   "cell_type": "code",
   "execution_count": 206,
   "id": "6299839d",
   "metadata": {
    "ExecuteTime": {
     "end_time": "2022-11-06T15:40:43.830280Z",
     "start_time": "2022-11-06T15:40:40.944061Z"
    },
    "hidden": true
   },
   "outputs": [],
   "source": [
    "X = data.copy()\n",
    "X = prepare_data_num(X)\n",
    "X = prepare_data_cat(X)\n",
    "cols_to_inspect = [\n",
    "    'SalePrice', 'GarageArea',\n",
    "    'Fireplaces', 'HalfBath', 'GrLivArea', 'BsmtFinSF1', 'BsmtUnfSF', 'LotArea',\n",
    "    'PerRoomSF', 'FloorRatio', 'PorchSF', \n",
    "    'Exterior_1']\n",
    "tmp = show_basic_plots(X, cols_to_inspect)"
   ]
  },
  {
   "cell_type": "code",
   "execution_count": 209,
   "id": "31ac1144",
   "metadata": {
    "ExecuteTime": {
     "end_time": "2022-11-06T15:41:29.735474Z",
     "start_time": "2022-11-06T15:41:28.894613Z"
    },
    "hidden": true
   },
   "outputs": [],
   "source": [
    "for i in tmp['violin_num']:\n",
    "    i.show()"
   ]
  },
  {
   "cell_type": "markdown",
   "id": "a6f39555",
   "metadata": {
    "hidden": true
   },
   "source": [
    "- FilterOut unused\n",
    "- Replace 'HalfBath' with 0-1\n",
    "- Replace fireplaces > 2 with 2"
   ]
  },
  {
   "cell_type": "code",
   "execution_count": 211,
   "id": "26c933ff",
   "metadata": {
    "ExecuteTime": {
     "end_time": "2022-11-06T15:50:32.092308Z",
     "start_time": "2022-11-06T15:50:32.023761Z"
    },
    "hidden": true
   },
   "outputs": [],
   "source": [
    "X = data.copy()\n",
    "X = prepare_data_num(X)\n",
    "X = prepare_data_cat(X)\n",
    "X = make_cat_dummy(X)\n",
    "X = drop_columns_selected(X)"
   ]
  },
  {
   "cell_type": "code",
   "execution_count": 212,
   "id": "57440176",
   "metadata": {
    "ExecuteTime": {
     "end_time": "2022-11-06T15:50:38.239102Z",
     "start_time": "2022-11-06T15:50:38.128583Z"
    },
    "hidden": true
   },
   "outputs": [
    {
     "name": "stdout",
     "output_type": "stream",
     "text": [
      "Original Nrows:  1460\n",
      "New Nrows:  1421\n",
      "Percentage dropped: 2.7%\n"
     ]
    },
    {
     "data": {
      "text/html": [
       "<div>\n",
       "<style scoped>\n",
       "    .dataframe tbody tr th:only-of-type {\n",
       "        vertical-align: middle;\n",
       "    }\n",
       "\n",
       "    .dataframe tbody tr th {\n",
       "        vertical-align: top;\n",
       "    }\n",
       "\n",
       "    .dataframe thead th {\n",
       "        text-align: right;\n",
       "    }\n",
       "</style>\n",
       "<table border=\"1\" class=\"dataframe\">\n",
       "  <thead>\n",
       "    <tr style=\"text-align: right;\">\n",
       "      <th></th>\n",
       "      <th>LotFrontage</th>\n",
       "      <th>LotArea</th>\n",
       "      <th>OverallQual</th>\n",
       "      <th>YearBuilt</th>\n",
       "      <th>MasVnrArea</th>\n",
       "      <th>BsmtFinSF1</th>\n",
       "      <th>BsmtUnfSF</th>\n",
       "      <th>GrLivArea</th>\n",
       "      <th>HalfBath</th>\n",
       "      <th>Fireplaces</th>\n",
       "      <th>GarageArea</th>\n",
       "      <th>SalePrice</th>\n",
       "      <th>PorchSF</th>\n",
       "      <th>FloorRatio</th>\n",
       "      <th>PerRoomSF</th>\n",
       "      <th>IsLowDensityArea</th>\n",
       "      <th>IsEnvGood</th>\n",
       "      <th>IsShapeReg</th>\n",
       "      <th>IsNarrow</th>\n",
       "      <th>IsSlope</th>\n",
       "      <th>IsPaved</th>\n",
       "      <th>IsOneFamily</th>\n",
       "      <th>IsOneFloor</th>\n",
       "      <th>IsRoofGable</th>\n",
       "      <th>IsRoofStandard</th>\n",
       "      <th>IsBsmConcrete</th>\n",
       "      <th>IsBsmQualGood</th>\n",
       "      <th>IsBsmCondGood</th>\n",
       "      <th>IsGarageFinished</th>\n",
       "      <th>IsHeatGood</th>\n",
       "      <th>IsKitchenGood</th>\n",
       "      <th>IsCentralAir</th>\n",
       "      <th>IsStandardElect</th>\n",
       "      <th>IsFenceGoodOrAbsent</th>\n",
       "      <th>IsNewHouse</th>\n",
       "      <th>Neighborhood_C1</th>\n",
       "      <th>Neighborhood_C2</th>\n",
       "      <th>Neighborhood_C3</th>\n",
       "      <th>Neighborhood_C4</th>\n",
       "      <th>MSSubClass_C3</th>\n",
       "      <th>MasVnrType_Brick</th>\n",
       "      <th>MasVnrType_Stone</th>\n",
       "      <th>GarageType_Absent</th>\n",
       "      <th>GarageType_BuiltIn</th>\n",
       "      <th>GarageType_Detchd</th>\n",
       "      <th>FireplaceQual_Good</th>\n",
       "      <th>FireplaceQual_Norm</th>\n",
       "      <th>SaleCond_C2</th>\n",
       "      <th>BsmExposure_Gd</th>\n",
       "      <th>BsmExposure_Norm</th>\n",
       "      <th>Exterior_1_C1</th>\n",
       "      <th>Exterior_1_C2</th>\n",
       "      <th>Exterior_1_C4</th>\n",
       "      <th>PorchType_Enclosed</th>\n",
       "      <th>PorchType_Open</th>\n",
       "      <th>PorchType_Screen</th>\n",
       "      <th>BsmFinType_1_C1</th>\n",
       "      <th>BsmFinType_1_C3</th>\n",
       "    </tr>\n",
       "  </thead>\n",
       "  <tbody>\n",
       "    <tr>\n",
       "      <th>Count</th>\n",
       "      <td>262.000</td>\n",
       "      <td>21.000</td>\n",
       "      <td>0.0</td>\n",
       "      <td>0.0</td>\n",
       "      <td>36.000</td>\n",
       "      <td>2.000</td>\n",
       "      <td>8.000</td>\n",
       "      <td>10.000</td>\n",
       "      <td>12.000</td>\n",
       "      <td>4.000</td>\n",
       "      <td>0.0</td>\n",
       "      <td>18.000</td>\n",
       "      <td>18.000</td>\n",
       "      <td>3.00000</td>\n",
       "      <td>8.000000</td>\n",
       "      <td>0.0</td>\n",
       "      <td>0.0</td>\n",
       "      <td>0.0</td>\n",
       "      <td>0.0</td>\n",
       "      <td>68.000</td>\n",
       "      <td>0.0</td>\n",
       "      <td>0.0</td>\n",
       "      <td>0.0</td>\n",
       "      <td>0.0</td>\n",
       "      <td>0.0</td>\n",
       "      <td>0.0</td>\n",
       "      <td>0.0</td>\n",
       "      <td>0.0</td>\n",
       "      <td>0.0</td>\n",
       "      <td>0.0</td>\n",
       "      <td>0.0</td>\n",
       "      <td>0.0</td>\n",
       "      <td>0.0</td>\n",
       "      <td>0.0</td>\n",
       "      <td>105.000</td>\n",
       "      <td>69.000</td>\n",
       "      <td>121.000</td>\n",
       "      <td>0.0</td>\n",
       "      <td>0.0</td>\n",
       "      <td>90.000</td>\n",
       "      <td>0.0</td>\n",
       "      <td>114.00</td>\n",
       "      <td>81.000</td>\n",
       "      <td>79.000</td>\n",
       "      <td>0.0</td>\n",
       "      <td>0.0</td>\n",
       "      <td>0.0</td>\n",
       "      <td>124.000</td>\n",
       "      <td>113.00</td>\n",
       "      <td>0.0</td>\n",
       "      <td>0.0</td>\n",
       "      <td>57.00</td>\n",
       "      <td>0.0</td>\n",
       "      <td>103.000</td>\n",
       "      <td>0.0</td>\n",
       "      <td>0.0</td>\n",
       "      <td>0.0</td>\n",
       "      <td>0.0</td>\n",
       "    </tr>\n",
       "    <tr>\n",
       "      <th>Percentage</th>\n",
       "      <td>0.184</td>\n",
       "      <td>0.015</td>\n",
       "      <td>0.0</td>\n",
       "      <td>0.0</td>\n",
       "      <td>0.025</td>\n",
       "      <td>0.001</td>\n",
       "      <td>0.006</td>\n",
       "      <td>0.007</td>\n",
       "      <td>0.008</td>\n",
       "      <td>0.003</td>\n",
       "      <td>0.0</td>\n",
       "      <td>0.013</td>\n",
       "      <td>0.013</td>\n",
       "      <td>0.00200</td>\n",
       "      <td>0.006000</td>\n",
       "      <td>0.0</td>\n",
       "      <td>0.0</td>\n",
       "      <td>0.0</td>\n",
       "      <td>0.0</td>\n",
       "      <td>0.048</td>\n",
       "      <td>0.0</td>\n",
       "      <td>0.0</td>\n",
       "      <td>0.0</td>\n",
       "      <td>0.0</td>\n",
       "      <td>0.0</td>\n",
       "      <td>0.0</td>\n",
       "      <td>0.0</td>\n",
       "      <td>0.0</td>\n",
       "      <td>0.0</td>\n",
       "      <td>0.0</td>\n",
       "      <td>0.0</td>\n",
       "      <td>0.0</td>\n",
       "      <td>0.0</td>\n",
       "      <td>0.0</td>\n",
       "      <td>0.074</td>\n",
       "      <td>0.049</td>\n",
       "      <td>0.085</td>\n",
       "      <td>0.0</td>\n",
       "      <td>0.0</td>\n",
       "      <td>0.063</td>\n",
       "      <td>0.0</td>\n",
       "      <td>0.08</td>\n",
       "      <td>0.057</td>\n",
       "      <td>0.056</td>\n",
       "      <td>0.0</td>\n",
       "      <td>0.0</td>\n",
       "      <td>0.0</td>\n",
       "      <td>0.087</td>\n",
       "      <td>0.08</td>\n",
       "      <td>0.0</td>\n",
       "      <td>0.0</td>\n",
       "      <td>0.04</td>\n",
       "      <td>0.0</td>\n",
       "      <td>0.072</td>\n",
       "      <td>0.0</td>\n",
       "      <td>0.0</td>\n",
       "      <td>0.0</td>\n",
       "      <td>0.0</td>\n",
       "    </tr>\n",
       "    <tr>\n",
       "      <th>Min</th>\n",
       "      <td>138.000</td>\n",
       "      <td>22420.000</td>\n",
       "      <td>NaN</td>\n",
       "      <td>NaN</td>\n",
       "      <td>594.000</td>\n",
       "      <td>1696.000</td>\n",
       "      <td>1905.000</td>\n",
       "      <td>2978.000</td>\n",
       "      <td>2.000</td>\n",
       "      <td>3.000</td>\n",
       "      <td>NaN</td>\n",
       "      <td>377426.000</td>\n",
       "      <td>631.000</td>\n",
       "      <td>1.74026</td>\n",
       "      <td>358.166667</td>\n",
       "      <td>NaN</td>\n",
       "      <td>NaN</td>\n",
       "      <td>NaN</td>\n",
       "      <td>NaN</td>\n",
       "      <td>1.000</td>\n",
       "      <td>NaN</td>\n",
       "      <td>NaN</td>\n",
       "      <td>NaN</td>\n",
       "      <td>NaN</td>\n",
       "      <td>NaN</td>\n",
       "      <td>NaN</td>\n",
       "      <td>NaN</td>\n",
       "      <td>NaN</td>\n",
       "      <td>NaN</td>\n",
       "      <td>NaN</td>\n",
       "      <td>NaN</td>\n",
       "      <td>NaN</td>\n",
       "      <td>NaN</td>\n",
       "      <td>NaN</td>\n",
       "      <td>1.000</td>\n",
       "      <td>1.000</td>\n",
       "      <td>1.000</td>\n",
       "      <td>NaN</td>\n",
       "      <td>NaN</td>\n",
       "      <td>1.000</td>\n",
       "      <td>NaN</td>\n",
       "      <td>1.00</td>\n",
       "      <td>1.000</td>\n",
       "      <td>1.000</td>\n",
       "      <td>NaN</td>\n",
       "      <td>NaN</td>\n",
       "      <td>NaN</td>\n",
       "      <td>1.000</td>\n",
       "      <td>1.00</td>\n",
       "      <td>NaN</td>\n",
       "      <td>NaN</td>\n",
       "      <td>1.00</td>\n",
       "      <td>NaN</td>\n",
       "      <td>1.000</td>\n",
       "      <td>NaN</td>\n",
       "      <td>NaN</td>\n",
       "      <td>NaN</td>\n",
       "      <td>NaN</td>\n",
       "    </tr>\n",
       "  </tbody>\n",
       "</table>\n",
       "</div>"
      ],
      "text/plain": [
       "            LotFrontage    LotArea  OverallQual  YearBuilt  MasVnrArea  \\\n",
       "Count           262.000     21.000          0.0        0.0      36.000   \n",
       "Percentage        0.184      0.015          0.0        0.0       0.025   \n",
       "Min             138.000  22420.000          NaN        NaN     594.000   \n",
       "\n",
       "            BsmtFinSF1  BsmtUnfSF  GrLivArea  HalfBath  Fireplaces  \\\n",
       "Count            2.000      8.000     10.000    12.000       4.000   \n",
       "Percentage       0.001      0.006      0.007     0.008       0.003   \n",
       "Min           1696.000   1905.000   2978.000     2.000       3.000   \n",
       "\n",
       "            GarageArea   SalePrice  PorchSF  FloorRatio   PerRoomSF  \\\n",
       "Count              0.0      18.000   18.000     3.00000    8.000000   \n",
       "Percentage         0.0       0.013    0.013     0.00200    0.006000   \n",
       "Min                NaN  377426.000  631.000     1.74026  358.166667   \n",
       "\n",
       "            IsLowDensityArea  IsEnvGood  IsShapeReg  IsNarrow  IsSlope  \\\n",
       "Count                    0.0        0.0         0.0       0.0   68.000   \n",
       "Percentage               0.0        0.0         0.0       0.0    0.048   \n",
       "Min                      NaN        NaN         NaN       NaN    1.000   \n",
       "\n",
       "            IsPaved  IsOneFamily  IsOneFloor  IsRoofGable  IsRoofStandard  \\\n",
       "Count           0.0          0.0         0.0          0.0             0.0   \n",
       "Percentage      0.0          0.0         0.0          0.0             0.0   \n",
       "Min             NaN          NaN         NaN          NaN             NaN   \n",
       "\n",
       "            IsBsmConcrete  IsBsmQualGood  IsBsmCondGood  IsGarageFinished  \\\n",
       "Count                 0.0            0.0            0.0               0.0   \n",
       "Percentage            0.0            0.0            0.0               0.0   \n",
       "Min                   NaN            NaN            NaN               NaN   \n",
       "\n",
       "            IsHeatGood  IsKitchenGood  IsCentralAir  IsStandardElect  \\\n",
       "Count              0.0            0.0           0.0              0.0   \n",
       "Percentage         0.0            0.0           0.0              0.0   \n",
       "Min                NaN            NaN           NaN              NaN   \n",
       "\n",
       "            IsFenceGoodOrAbsent  IsNewHouse  Neighborhood_C1  Neighborhood_C2  \\\n",
       "Count                       0.0     105.000           69.000          121.000   \n",
       "Percentage                  0.0       0.074            0.049            0.085   \n",
       "Min                         NaN       1.000            1.000            1.000   \n",
       "\n",
       "            Neighborhood_C3  Neighborhood_C4  MSSubClass_C3  MasVnrType_Brick  \\\n",
       "Count                   0.0              0.0         90.000               0.0   \n",
       "Percentage              0.0              0.0          0.063               0.0   \n",
       "Min                     NaN              NaN          1.000               NaN   \n",
       "\n",
       "            MasVnrType_Stone  GarageType_Absent  GarageType_BuiltIn  \\\n",
       "Count                 114.00             81.000              79.000   \n",
       "Percentage              0.08              0.057               0.056   \n",
       "Min                     1.00              1.000               1.000   \n",
       "\n",
       "            GarageType_Detchd  FireplaceQual_Good  FireplaceQual_Norm  \\\n",
       "Count                     0.0                 0.0                 0.0   \n",
       "Percentage                0.0                 0.0                 0.0   \n",
       "Min                       NaN                 NaN                 NaN   \n",
       "\n",
       "            SaleCond_C2  BsmExposure_Gd  BsmExposure_Norm  Exterior_1_C1  \\\n",
       "Count           124.000          113.00               0.0            0.0   \n",
       "Percentage        0.087            0.08               0.0            0.0   \n",
       "Min               1.000            1.00               NaN            NaN   \n",
       "\n",
       "            Exterior_1_C2  Exterior_1_C4  PorchType_Enclosed  PorchType_Open  \\\n",
       "Count               57.00            0.0             103.000             0.0   \n",
       "Percentage           0.04            0.0               0.072             0.0   \n",
       "Min                  1.00            NaN               1.000             NaN   \n",
       "\n",
       "            PorchType_Screen  BsmFinType_1_C1  BsmFinType_1_C3  \n",
       "Count                    0.0              0.0              0.0  \n",
       "Percentage               0.0              0.0              0.0  \n",
       "Min                      NaN              NaN              NaN  "
      ]
     },
     "execution_count": 212,
     "metadata": {},
     "output_type": "execute_result"
    }
   ],
   "source": [
    "filter_query = (\n",
    "    '(SalePrice < 423000) & (LotArea < 45600) & '+\n",
    "    '(GrLivArea < 3627) & (GarageArea < 1134) & '+\n",
    "    '(BsmtFinSF1 < 1904)'\n",
    ")\n",
    "print('Original Nrows: ', X.shape[0])\n",
    "print('New Nrows: ', X.query(filter_query).shape[0])\n",
    "print('Percentage dropped: ',\n",
    "      round((X.shape[0] - X.query(filter_query).shape[0])/X.shape[0], 3)*100,\n",
    "      \"%\",\n",
    "      sep=''\n",
    "     )\n",
    "show_outliers(X.query(filter_query))"
   ]
  },
  {
   "cell_type": "code",
   "execution_count": 213,
   "id": "56f1065e",
   "metadata": {
    "ExecuteTime": {
     "end_time": "2022-11-06T16:34:05.813167Z",
     "start_time": "2022-11-06T16:34:05.802085Z"
    },
    "code_folding": [
     0
    ],
    "hidden": true
   },
   "outputs": [],
   "source": [
    "def filter_outliers(X):\n",
    "    filter_query = (\n",
    "        '(SalePrice < 423000) & (LotArea < 45600) & '+\n",
    "        '(GrLivArea < 3627) & (GarageArea < 1134) & '+\n",
    "        '(BsmtFinSF1 < 1904)'\n",
    "    )\n",
    "    X = X.query(filter_query)\n",
    "    X['Fireplaces'] = np.where(X['Fireplaces'] > 2, 2, X['Fireplaces'])\n",
    "    X['IsHalfBath'] = np.where(X['HalfBath'] > 0, 1, 0)\n",
    "    X.drop(columns=['HalfBath'], inplace=True)\n",
    "    return X"
   ]
  },
  {
   "cell_type": "code",
   "execution_count": 214,
   "id": "fb657655",
   "metadata": {
    "ExecuteTime": {
     "end_time": "2022-11-06T16:34:26.975159Z",
     "start_time": "2022-11-06T16:34:26.906792Z"
    },
    "hidden": true
   },
   "outputs": [],
   "source": [
    "X = data.copy()\n",
    "X = prepare_data_num(X)\n",
    "X = prepare_data_cat(X)\n",
    "X = make_cat_dummy(X)\n",
    "X = drop_columns_selected(X)\n",
    "X = filter_outliers(X)"
   ]
  },
  {
   "cell_type": "code",
   "execution_count": 217,
   "id": "f6a6362d",
   "metadata": {
    "ExecuteTime": {
     "end_time": "2022-11-06T16:35:07.834541Z",
     "start_time": "2022-11-06T16:35:07.665375Z"
    },
    "hidden": true
   },
   "outputs": [],
   "source": [
    "print(X.shape)\n",
    "corr_heatmap(X)"
   ]
  },
  {
   "cell_type": "markdown",
   "id": "23bf7d63",
   "metadata": {
    "hidden": true
   },
   "source": [
    "- IsSlope, IsRoofStandard, Extretior_1_C1, PorchType_Open seems to be the leas important variables; for first two is quite natural, whereas Exterior_1, PorchType are rather rare variables"
   ]
  },
  {
   "cell_type": "markdown",
   "id": "090c78e4",
   "metadata": {
    "heading_collapsed": true
   },
   "source": [
    "## Outliers with value_counts()"
   ]
  },
  {
   "cell_type": "code",
   "execution_count": 222,
   "id": "0837dd58",
   "metadata": {
    "ExecuteTime": {
     "end_time": "2022-11-07T19:28:48.582847Z",
     "start_time": "2022-11-07T19:28:48.522834Z"
    },
    "hidden": true
   },
   "outputs": [],
   "source": [
    "X = data.copy()\n",
    "X = prepare_data_num(X)\n",
    "X = prepare_data_cat(X)\n",
    "X = make_cat_dummy(X)\n",
    "X = drop_columns_selected(X)"
   ]
  },
  {
   "cell_type": "code",
   "execution_count": 233,
   "id": "11cca515",
   "metadata": {
    "ExecuteTime": {
     "end_time": "2022-11-07T19:34:23.396363Z",
     "start_time": "2022-11-07T19:34:23.383350Z"
    },
    "hidden": true
   },
   "outputs": [
    {
     "data": {
      "text/plain": [
       "IsGarageFinished  IsHeatGood  IsKitchenGood  IsCentralAir  IsStandardElect  IsFenceGoodOrAbsent  IsNewHouse\n",
       "1                 1           1              1             1                1                    0             379\n",
       "0                 0           0              1             1                1                    0             138\n",
       "                  1           0              1             1                1                    0             120\n",
       "1                 1           0              1             1                1                    0             117\n",
       "                              1              1             1                1                    1             114\n",
       "                  0           0              1             1                1                    0              88\n",
       "0                 1           1              1             1                1                    0              82\n",
       "                  0           0              1             1                0                    0              55\n",
       "1                 1           0              1             1                0                    0              32\n",
       "                  0           0              1             1                0                    0              30\n",
       "0                 1           0              1             1                0                    0              28\n",
       "                                                           0                1                    0              27\n",
       "                  0           1              1             1                1                    0              24\n",
       "                              0              0             1                1                    0              22\n",
       "1                 0           1              1             1                1                    0              20\n",
       "0                 0           0              1             0                1                    0              20\n",
       "                                             0             0                1                    0              18\n",
       "                  1           1              1             1                0                    0              18\n",
       "1                 1           1              1             1                0                    0              17\n",
       "                  0           0              0             0                1                    0              12\n",
       "                  1           0              1             0                1                    0               7\n",
       "0                 1           1              1             0                1                    0               7\n",
       "                  0           1              1             1                0                    0               7\n",
       "                  1           0              0             0                1                    0               6\n",
       "                                                           1                1                    0               6\n",
       "                  0           0              1             0                0                    0               6\n",
       "1                 0           0              0             1                1                    0               6\n",
       "                              1              1             1                0                    0               5\n",
       "                  1           0              1             1                1                    1               5\n",
       "                                             0             1                1                    0               5\n",
       "                  0           0              1             0                0                    0               4\n",
       "                                                                            1                    0               4\n",
       "0                 0           0              0             0                0                    0               4\n",
       "                                                           1                0                    0               4\n",
       "1                 0           0              0             1                0                    0               3\n",
       "0                 1           1              1             1                1                    1               2\n",
       "                  0           1              0             1                0                    0               2\n",
       "1                 1           1              1             0                1                    0               2\n",
       "0                 0           1              0             1                1                    0               2\n",
       "1                 1           0              1             0                0                    0               2\n",
       "0                 1           0              1             0                0                    0               1\n",
       "1                 1           0              0             0                1                    0               1\n",
       "                  0           1              1             0                0                    0               1\n",
       "0                 0           1              1             0                0                    0               1\n",
       "1                 0           0              0             0                0                    0               1\n",
       "0                 1           1              0             1                1                    0               1\n",
       "                                                           0                1                    0               1\n",
       "                              0              1             1                1                    1               1\n",
       "                                             0             1                0                    0               1\n",
       "                  0           1              1             0                1                    0               1\n",
       "dtype: int64"
      ]
     },
     "execution_count": 233,
     "metadata": {},
     "output_type": "execute_result"
    }
   ],
   "source": [
    "X.loc[:, ['IsGarageFinished',  'IsHeatGood',  'IsKitchenGood',\n",
    "         'IsCentralAir',  'IsStandardElect',  'IsFenceGoodOrAbsent',\n",
    "         'IsNewHouse']].value_counts()"
   ]
  },
  {
   "cell_type": "markdown",
   "id": "a357de75",
   "metadata": {
    "hidden": true
   },
   "source": [
    "just for the illustration, why Correspondence analysis for categorical variables is also needed. You see that more than a half of the variables has less than 10 observations for some multidimensional groups. Which in turn means that the model would be built with short amount of observations for some combination of categories => clear overfitting"
   ]
  },
  {
   "cell_type": "markdown",
   "id": "881cc6ad",
   "metadata": {},
   "source": [
    "# Centroids selection & EDA"
   ]
  },
  {
   "cell_type": "code",
   "execution_count": 262,
   "id": "477e82d0",
   "metadata": {
    "ExecuteTime": {
     "end_time": "2022-11-07T20:48:34.727721Z",
     "start_time": "2022-11-07T20:48:34.704975Z"
    }
   },
   "outputs": [
    {
     "name": "stdout",
     "output_type": "stream",
     "text": [
      "LotFrontage            0\n",
      "LotArea                0\n",
      "OverallQual            0\n",
      "YearBuilt              0\n",
      "MasVnrArea             8\n",
      "BsmtFinSF1             0\n",
      "BsmtUnfSF              0\n",
      "GrLivArea              0\n",
      "HalfBath               0\n",
      "Fireplaces             0\n",
      "GarageArea             0\n",
      "PorchSF                0\n",
      "FloorRatio             0\n",
      "PerRoomSF              0\n",
      "IsLowDensityArea       0\n",
      "IsEnvGood              0\n",
      "IsShapeReg             0\n",
      "IsNarrow               0\n",
      "IsSlope                0\n",
      "IsPaved                0\n",
      "IsOneFamily            0\n",
      "IsOneFloor             0\n",
      "IsRoofGable            0\n",
      "IsRoofStandard         0\n",
      "IsBsmConcrete          0\n",
      "IsBsmQualGood          0\n",
      "IsBsmCondGood          0\n",
      "IsGarageFinished       0\n",
      "IsHeatGood             0\n",
      "IsKitchenGood          0\n",
      "IsCentralAir           0\n",
      "IsStandardElect        0\n",
      "IsFenceGoodOrAbsent    0\n",
      "IsNewHouse             0\n",
      "Neighborhood_C1        0\n",
      "Neighborhood_C2        0\n",
      "Neighborhood_C3        0\n",
      "Neighborhood_C4        0\n",
      "MSSubClass_C3          0\n",
      "MasVnrType_Brick       0\n",
      "MasVnrType_Stone       0\n",
      "GarageType_Absent      0\n",
      "GarageType_BuiltIn     0\n",
      "GarageType_Detchd      0\n",
      "FireplaceQual_Good     0\n",
      "FireplaceQual_Norm     0\n",
      "SaleCond_C2            0\n",
      "BsmExposure_Gd         0\n",
      "BsmExposure_Norm       0\n",
      "Exterior_1_C1          0\n",
      "Exterior_1_C2          0\n",
      "Exterior_1_C4          0\n",
      "PorchType_Enclosed     0\n",
      "PorchType_Open         0\n",
      "PorchType_Screen       0\n",
      "BsmFinType_1_C1        0\n",
      "BsmFinType_1_C3        0\n"
     ]
    }
   ],
   "source": [
    "print(X.isna().sum().to_string())"
   ]
  },
  {
   "cell_type": "markdown",
   "id": "869a9b60",
   "metadata": {},
   "source": [
    "# Standartization, stimulation"
   ]
  },
  {
   "cell_type": "code",
   "execution_count": 236,
   "id": "0b40dd9b",
   "metadata": {
    "ExecuteTime": {
     "end_time": "2022-11-07T20:13:30.487135Z",
     "start_time": "2022-11-07T20:13:30.471552Z"
    }
   },
   "outputs": [],
   "source": [
    "def standardize_num(X):\n",
    "    cols_to_standardize = [\n",
    "        'LotFrontage', 'LotArea', 'MasVnrArea', 'BsmtFinSF1', 'BsmtUnfSF',\n",
    "        'GrLivArea', 'GarageArea', 'PorchSF', 'FloorRatio', 'PerRoomSF'\n",
    "    ]\n",
    "    X_num = X[cols_to_standardize]\n",
    "    \n",
    "    X[cols_to_standardize] = (X_num - X_num.mean())/X_num.std()\n",
    "    return X"
   ]
  },
  {
   "cell_type": "code",
   "execution_count": 263,
   "id": "7bf7f115",
   "metadata": {
    "ExecuteTime": {
     "end_time": "2022-11-07T20:48:58.940304Z",
     "start_time": "2022-11-07T20:48:58.799892Z"
    }
   },
   "outputs": [],
   "source": [
    "X = data.copy()\n",
    "X = prepare_data_num(X)\n",
    "X = prepare_data_cat(X)\n",
    "X = make_cat_dummy(X)\n",
    "X = drop_columns_selected(X)\n",
    "X['LotFrontage'] = X['LotFrontage'].fillna(0)\n",
    "X['MasVnrArea'] = X['MasVnrArea'].fillna(0)\n",
    "X = standardize_num(X)\n",
    "y = X['SalePrice']\n",
    "X.drop(columns=['SalePrice'], inplace=True)"
   ]
  },
  {
   "cell_type": "markdown",
   "id": "160e5f95",
   "metadata": {},
   "source": [
    "- no need to apply stimulazation"
   ]
  },
  {
   "cell_type": "markdown",
   "id": "736d8474",
   "metadata": {},
   "source": [
    "# PCA"
   ]
  },
  {
   "cell_type": "code",
   "execution_count": 271,
   "id": "4e72204b",
   "metadata": {
    "ExecuteTime": {
     "end_time": "2022-11-07T20:51:33.806384Z",
     "start_time": "2022-11-07T20:51:33.793858Z"
    }
   },
   "outputs": [],
   "source": [
    "cols_to_pca = [\n",
    "    'LotFrontage', 'LotArea', 'MasVnrArea', 'BsmtFinSF1', 'BsmtUnfSF',\n",
    "    'GrLivArea', 'GarageArea', 'PorchSF', 'FloorRatio', 'PerRoomSF'\n",
    "]\n",
    "x_to_pca = X[cols_to_pca]"
   ]
  },
  {
   "cell_type": "code",
   "execution_count": 279,
   "id": "d78325df",
   "metadata": {
    "ExecuteTime": {
     "end_time": "2022-11-07T20:54:05.576441Z",
     "start_time": "2022-11-07T20:54:05.563450Z"
    }
   },
   "outputs": [
    {
     "name": "stdout",
     "output_type": "stream",
     "text": [
      "[0.29510591 0.16030231 0.12506284 0.09349713 0.08888847]\n",
      "0.7628566555852221\n"
     ]
    }
   ],
   "source": [
    "pca = decomposition.PCA(n_components=5)\n",
    "pca.fit(x_to_pca)\n",
    "print(pca.explained_variance_ratio_)\n",
    "print(pca.explained_variance_ratio_.sum())\n",
    "#tmp = pca.transform(x_to_pca)"
   ]
  },
  {
   "cell_type": "code",
   "execution_count": null,
   "id": "77915635",
   "metadata": {},
   "outputs": [],
   "source": [
    "corr_heatmap(x_to_pca)"
   ]
  },
  {
   "cell_type": "markdown",
   "id": "c0c26a0e",
   "metadata": {},
   "source": [
    "- PCA was pretty bad (5 variables and still 76% explained only)\n",
    "- actually, several clusters of correlation:\n",
    "  - finished and unfinished basement,\n",
    "  - Garage Area, GrLiving Area, PerRoomSF\n",
    "  - LotArea, LotFrontage\n",
    "  - so it is rather the question which of them to select/how to transform"
   ]
  },
  {
   "cell_type": "markdown",
   "id": "d606c568",
   "metadata": {},
   "source": [
    "## Basement"
   ]
  },
  {
   "cell_type": "code",
   "execution_count": null,
   "id": "42ec0bd0",
   "metadata": {},
   "outputs": [],
   "source": []
  },
  {
   "cell_type": "markdown",
   "id": "185c63c2",
   "metadata": {},
   "source": [
    "# Correspondence Analysis"
   ]
  },
  {
   "cell_type": "code",
   "execution_count": null,
   "id": "818583cf",
   "metadata": {},
   "outputs": [],
   "source": []
  },
  {
   "cell_type": "code",
   "execution_count": 10,
   "id": "bdf27a95",
   "metadata": {
    "ExecuteTime": {
     "end_time": "2022-11-04T13:14:11.081939Z",
     "start_time": "2022-11-04T13:14:10.878641Z"
    }
   },
   "outputs": [],
   "source": [
    "import plotly.io as pio\n",
    "pio.renderers.default = 'browser'"
   ]
  }
 ],
 "metadata": {
  "kernelspec": {
   "display_name": "Python 3 (ipykernel)",
   "language": "python",
   "name": "python3"
  },
  "language_info": {
   "codemirror_mode": {
    "name": "ipython",
    "version": 3
   },
   "file_extension": ".py",
   "mimetype": "text/x-python",
   "name": "python",
   "nbconvert_exporter": "python",
   "pygments_lexer": "ipython3",
   "version": "3.10.0"
  },
  "toc": {
   "base_numbering": 1,
   "nav_menu": {},
   "number_sections": true,
   "sideBar": true,
   "skip_h1_title": false,
   "title_cell": "Table of Contents",
   "title_sidebar": "Contents",
   "toc_cell": false,
   "toc_position": {},
   "toc_section_display": true,
   "toc_window_display": false
  },
  "varInspector": {
   "cols": {
    "lenName": 16,
    "lenType": 16,
    "lenVar": 40
   },
   "kernels_config": {
    "python": {
     "delete_cmd_postfix": "",
     "delete_cmd_prefix": "del ",
     "library": "var_list.py",
     "varRefreshCmd": "print(var_dic_list())"
    },
    "r": {
     "delete_cmd_postfix": ") ",
     "delete_cmd_prefix": "rm(",
     "library": "var_list.r",
     "varRefreshCmd": "cat(var_dic_list()) "
    }
   },
   "types_to_exclude": [
    "module",
    "function",
    "builtin_function_or_method",
    "instance",
    "_Feature"
   ],
   "window_display": false
  }
 },
 "nbformat": 4,
 "nbformat_minor": 5
}
