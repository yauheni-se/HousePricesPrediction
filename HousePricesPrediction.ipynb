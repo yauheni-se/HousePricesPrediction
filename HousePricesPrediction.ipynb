{
 "cells": [
  {
   "cell_type": "markdown",
   "id": "d977038a",
   "metadata": {},
   "source": [
    "![alt text](ames_iowa_downtown.avif \"Ames downtown city\")"
   ]
  },
  {
   "cell_type": "markdown",
   "id": "07044f11",
   "metadata": {},
   "source": [
    "The aim of the followinng project is to predict house sale prices in Ames town, Iowa, USA. Ames is a typical small provincial american town with a population around 66 thousand (according to the 2020 census). This example might be generalized to other small towns in the United States, especially in Iowa. However, the main reason why this notebook was ever created is to present the typical Data Science workflow when dealing with regression predictive type of problem."
   ]
  },
  {
   "cell_type": "markdown",
   "id": "5593680f",
   "metadata": {},
   "source": [
    "# Presets"
   ]
  },
  {
   "cell_type": "code",
   "execution_count": null,
   "id": "738d91a8",
   "metadata": {
    "ExecuteTime": {
     "end_time": "2022-11-21T18:27:53.482608Z",
     "start_time": "2022-11-21T18:27:51.666882Z"
    }
   },
   "outputs": [],
   "source": [
    "import pandas as pd\n",
    "import numpy as np\n",
    "import plotly.express as px\n",
    "import plotly.graph_objects as go\n",
    "import plotly.figure_factory as ff\n",
    "import matplotlib.pyplot as plt\n",
    "import seaborn as sns\n",
    "from IPython.display import display\n",
    "import plotly.io as pio\n",
    "\n",
    "from sklearn import decomposition\n",
    "from statsmodels.stats.outliers_influence import variance_inflation_factor\n",
    "from prince import MCA\n",
    "from sklearn import metrics\n",
    "\n",
    "# Models\n",
    "from sklearn.ensemble import (\n",
    "    RandomForestRegressor, AdaBoostRegressor, GradientBoostingRegressor, ExtraTreesRegressor,\n",
    "    HistGradientBoostingRegressor, StackingRegressor, VotingRegressor\n",
    ")\n",
    "from sklearn.linear_model import (\n",
    "    LinearRegression, Lars, Lasso, LassoLars, Ridge, ARDRegression,\n",
    "    ElasticNet, BayesianRidge, GammaRegressor, HuberRegressor, RANSACRegressor,\n",
    "    PassiveAggressiveRegressor, TheilSenRegressor, RidgeCV\n",
    ")\n",
    "from sklearn.neighbors import KNeighborsRegressor\n",
    "from sklearn.neural_network import MLPRegressor\n",
    "from sklearn.svm import SVR\n",
    "from xgboost import XGBRFRegressor, XGBRegressor\n",
    "from lightgbm import LGBMRegressor\n",
    "from catboost import CatBoostRegressor"
   ]
  },
  {
   "cell_type": "code",
   "execution_count": null,
   "id": "1feafd97",
   "metadata": {
    "ExecuteTime": {
     "end_time": "2022-11-21T18:27:57.457185Z",
     "start_time": "2022-11-21T18:27:53.983182Z"
    }
   },
   "outputs": [],
   "source": [
    "from FunctionsEDA import *\n",
    "from FunctionsFeatureSelection import *\n",
    "\n",
    "np.random.seed(42)\n",
    "pio.renderers.default = \"browser\"\n",
    "pd.set_option('display.max_columns', 500)"
   ]
  },
  {
   "cell_type": "code",
   "execution_count": null,
   "id": "ddf6950e",
   "metadata": {
    "ExecuteTime": {
     "end_time": "2022-11-21T18:27:58.034134Z",
     "start_time": "2022-11-21T18:27:58.003940Z"
    }
   },
   "outputs": [],
   "source": [
    "data = pd.read_csv('train.csv')"
   ]
  },
  {
   "cell_type": "markdown",
   "id": "680e673c",
   "metadata": {
    "heading_collapsed": true
   },
   "source": [
    "# Basic statistics"
   ]
  },
  {
   "cell_type": "code",
   "execution_count": null,
   "id": "723ce99b",
   "metadata": {
    "ExecuteTime": {
     "end_time": "2022-11-21T16:12:12.867804Z",
     "start_time": "2022-11-21T16:12:12.482559Z"
    },
    "hidden": true
   },
   "outputs": [],
   "source": [
    "show_data(data)"
   ]
  },
  {
   "cell_type": "markdown",
   "id": "85e0fb1f",
   "metadata": {
    "hidden": true
   },
   "source": [
    "- Rows/cols ratio seems to be pretty small, taking into consideration the fact that lot of variables are of type 'object'. Thus, dimensionality reduction must be held for sure"
   ]
  },
  {
   "cell_type": "markdown",
   "id": "6171bbb3",
   "metadata": {
    "hidden": true
   },
   "source": [
    "- MiscFeature is totally absent?\n",
    "- PoolQC, FireplaceQu, Alley, Fence may be absent rather due to natural reasons (just no fireplaces, pools in the house)\n",
    "- Others must be ivestigated more throughly"
   ]
  },
  {
   "cell_type": "markdown",
   "id": "48f126fe",
   "metadata": {
    "hidden": true
   },
   "source": [
    "- There are significant outliers almost in every variable\n",
    "- Most of the houses were sold before the global financal crisis\n",
    "- All of the houses were build before 2010"
   ]
  },
  {
   "cell_type": "markdown",
   "id": "1fd8d7a3",
   "metadata": {
    "heading_collapsed": true
   },
   "source": [
    "# Qualitative (business) analysis"
   ]
  },
  {
   "cell_type": "markdown",
   "id": "bd4c5d9c",
   "metadata": {
    "hidden": true
   },
   "source": [
    "With the statistics shown above, we will try to analize and predict the influence of each variable in the sale price. Each variable will be given a predifined influence (low, medium, high) and the corresponding effect sign(stimulant, distimulant, mixed)"
   ]
  },
  {
   "cell_type": "code",
   "execution_count": null,
   "id": "72dcf5d9",
   "metadata": {
    "ExecuteTime": {
     "end_time": "2022-11-21T16:15:36.880410Z",
     "start_time": "2022-11-21T16:15:35.638842Z"
    },
    "hidden": true
   },
   "outputs": [],
   "source": [
    "stim_vec = [\n",
    "    'n', 'm', 'm', 's', 's', 's', 's', 'd', 'd',\n",
    "    's', 'd', 'd', 'm', 'm', 'm', 'm', 'm', 'd', 'd',\n",
    "    's', 'd', 'm', 'm', 'm', 'm', 'm', 'm', 'm',\n",
    "    'm', 'd', 'd', 's', 'd', 'd', 'm',  'm', 'd', 's',\n",
    "    'm', 'd', 'm', 'm',\n",
    "    's', 's', 'd', 's', 's', 's', 's', 's', 's', 's', 's', 'd', 's', 'd', 's', 'd',\n",
    "    's', 'd', 'm', 's', 's', 'd', 'd',\n",
    "    's', 's', 's', 's', 's',\n",
    "    's', 'd', 'd', 's', 's', 's', 'm', 'm', 's', 's', 'n'\n",
    "]\n",
    "imp_vec = [\n",
    "    'l', 'l', 'h', 'l', 'h', 'l', 'm', 'm', 'l',\n",
    "    'h', 'm', 'l', 'm', 'h', 'h', 'h', 'l', 'm', 'm',\n",
    "    'h', 'h', 'l', 'l', 'l', 'l', 'l', 'l', 'l',\n",
    "    'l', 'l', 'l', 'm', 'm', 'm', 'l', 'l', 'l', 'm',\n",
    "    'l', 'm', 'l', 'l',\n",
    "    'l', 'l', 'l', 'l', 'l', 'l', 'l', 'l', 'l', 'm', 'l', 'l', 'm', 'l', 'l', 'l',\n",
    "    'm', 'l', 'l', 'l', 'l', 'l', 'l', \n",
    "    'l', 'l', 'l', 'l', 'l',\n",
    "    'm', 'l', 'm', 'm', 'l', 'l', 'm', 'm', 'l', 'l', 'n'\n",
    "]\n",
    "\n",
    "quantitative_eda(data, stim_vec, imp_vec)"
   ]
  },
  {
   "cell_type": "markdown",
   "id": "790b84fe",
   "metadata": {
    "hidden": true
   },
   "source": [
    "Additional:\n",
    "- some variables need recoding\n",
    "- lots of variables seems to be strongly correlated with each other - thus, dimensionality reduction techniques should be applied"
   ]
  },
  {
   "cell_type": "markdown",
   "id": "554ff87c",
   "metadata": {},
   "source": [
    "# Initial EDA"
   ]
  },
  {
   "cell_type": "code",
   "execution_count": null,
   "id": "90f3e9fc",
   "metadata": {
    "ExecuteTime": {
     "end_time": "2022-11-21T18:28:08.263114Z",
     "start_time": "2022-11-21T18:28:08.248996Z"
    }
   },
   "outputs": [],
   "source": [
    "X = data.copy()"
   ]
  },
  {
   "cell_type": "markdown",
   "id": "0898d5d1",
   "metadata": {},
   "source": [
    "## Numeric"
   ]
  },
  {
   "cell_type": "code",
   "execution_count": null,
   "id": "06b0aa5f",
   "metadata": {
    "ExecuteTime": {
     "end_time": "2022-11-21T18:28:10.097749Z",
     "start_time": "2022-11-21T18:28:10.067308Z"
    }
   },
   "outputs": [],
   "source": [
    "X['MSSubClass'] = X['MSSubClass'].astype(str)\n",
    "X['PorchType_WoodDeck'] = np.where(X['WoodDeckSF'] != 0, 1, 0)\n",
    "X['PorchType_OpenPorchSF'] = np.where(X['OpenPorchSF'] != 0, 1, 0)\n",
    "X['PorchType_Enclosed'] = np.where(X['EnclosedPorch'] != 0, 1, 0)\n",
    "X['PorchType_Screen'] = np.where(X['ScreenPorch'] != 0, 1, 0)\n",
    "X['PorchType_3SsnPorch'] = np.where(X['3SsnPorch'] != 0, 1, 0)\n",
    "X['IsBsmFin'] = np.where(X['BsmtUnfSF'] != 0, 1, 0)\n",
    "X['IsFireplace'] = np.where(X['Fireplaces'] != 0, 1, 0)\n",
    "X['IsMiscVal'] = np.where(X['MiscVal'] != 0, 1, 0)\n",
    "X['IsLowQual'] = np.where(X['LowQualFinSF'] != 0, 1, 0)\n",
    "\n",
    "X['PerRoomSF'] = X['GrLivArea']/X['TotRmsAbvGrd']\n",
    "X['PorchSF'] = (X['WoodDeckSF'] + X['OpenPorchSF'] + \n",
    "                X['EnclosedPorch'] + X['3SsnPorch'] + \n",
    "                X['ScreenPorch'])\n",
    "\n",
    "X['TotalBaths'] = X['BsmtFullBath']+0.5*X['BsmtHalfBath']+X['FullBath']+X['HalfBath']*0.5\n",
    "\n",
    "X['FloorRatio'] = X['2ndFlrSF']/X['1stFlrSF']\n",
    "X['BsmFinUnfRatio'] = X['BsmtUnfSF']/X['TotalBsmtSF']\n",
    "X['BsmLowQualRatio'] = X['LowQualFinSF']/X['TotalBsmtSF']\n",
    "X['BsmFin2BsmFin1Ratio'] = X['BsmtFinSF2']/X['BsmtFinSF1']\n",
    "X['GarageLivRatio'] = X['GarageArea']/X['GrLivArea']\n",
    "\n",
    "X['KitchenRatio'] = X['KitchenAbvGr']/X['TotRmsAbvGrd']\n",
    "X['BathRatio'] = X['TotalBaths']/X['TotRmsAbvGrd']\n",
    "X['BedroomRatio'] = X['BedroomAbvGr']/X['TotRmsAbvGrd']"
   ]
  },
  {
   "cell_type": "code",
   "execution_count": null,
   "id": "ec4489b5",
   "metadata": {
    "ExecuteTime": {
     "end_time": "2022-11-21T18:41:44.494038Z",
     "start_time": "2022-11-21T18:41:40.791200Z"
    }
   },
   "outputs": [],
   "source": [
    "tmp = show_plots_single(X, 'SalePrice', f_size=7, p_height=3000)"
   ]
  },
  {
   "cell_type": "code",
   "execution_count": null,
   "id": "d8553cd7",
   "metadata": {
    "ExecuteTime": {
     "end_time": "2022-11-21T18:41:56.764392Z",
     "start_time": "2022-11-21T18:41:56.158344Z"
    }
   },
   "outputs": [],
   "source": [
    "tmp['num_single'].show()\n",
    "tmp['num_split'].show()\n",
    "tmp['num_vs_y_split'].show()"
   ]
  },
  {
   "cell_type": "markdown",
   "id": "17dfe3b2",
   "metadata": {},
   "source": []
  },
  {
   "cell_type": "markdown",
   "id": "c5691913",
   "metadata": {},
   "source": [
    "- **Id** column must be dropped\n",
    "- **MSSubClass**, **OverallQual**, **OverallCond** must be recoded as str\n",
    "- **LotFrontage**, **LotArea**, **MasVnrArea**, **BsmtFinSF1**, **BsmtFinSF2**, **BsmtUnfSF**, **TotalBsmtSF**, **1stFlrSF**, **2stFlrSF**, **GrLivArea**, **GarageArea**, **LotPrice** distributions show big positive skewness => potential outliers\n",
    "- **LowQualFinSF**, **WoodDeckSF**, **OpenPorchSF**, **EnclosedPorch**, **3SsnPorch**, **ScreenPorch**, **PoolArea**, **MiscVal** have poor right-skewed distributions with significant outliers\n",
    "\n",
    "------------------------------------------------------------------------------------------------------\n",
    "\n",
    "- There are 3 significant centers of YearBuilt: 1921-22, 1964-1965, 2002\n",
    "- The dominant renovation year was 2003\n",
    "- Most of the garages were built in 1966 and 2002; reminds YearBuilt distribution after 60s\n",
    "- most of the garages allow for 2 cars; proportion of 1/3 is alomost the same\n",
    "\n",
    "------------------------------------------------------------------------------------------------------\n",
    "\n",
    "- Most of the houses has 0 or 1 bath; Half baths is very rare\n",
    "- Most of the houses has 3 rooms; 2 and 4 are also quite popular, whereas rooms >5 - more like outliers\n",
    "- Almost all of the houses have 1 kitchen\n",
    "- In total, more than 10 rooms is an outlier\n",
    "- Most of the houses have either 0 or 1 fireplaces; some have 2;\n",
    "- Most of the houses do not have wood deck or open/enclosed/3 season/screen porch\n",
    "\n",
    "------------------------------------------------------------------------------------------------------\n",
    "\n",
    "- Most of the houses were sold during June (generally, not in autumn)\n",
    "- YearSold distribution is almost unimodal"
   ]
  },
  {
   "cell_type": "markdown",
   "id": "39ceedc9",
   "metadata": {},
   "source": [
    "To sum up:\n",
    "- YearSold, MiscVal, ID are not important\n",
    "- Decks and porches sq. ft. could be united into some new feature as distributions reminds each other\n",
    "- Other areas could also be united into some new feature as distributions reminds each other\n",
    "- Garage Year and Built Year seems to be correlated a lot"
   ]
  },
  {
   "cell_type": "markdown",
   "id": "464b345e",
   "metadata": {},
   "source": [
    "- LotFrontage > 80 are outliers with max=312\n",
    "\n",
    "- Majority of houses are in average condition, but the number of houses in better condition is bigger than in worser condition\n",
    "- Majory of houses' quality is above average, which may signify expert's bias during the valuation. Moreover, none ofthe house gained 10. May be considered non-informative due to these facts\n",
    "- Number of houses built in 1966+1922 = number of houses built in 2002\n",
    "- Renovation boom occured in 2002, before that - quite unimodal besides 1951\n",
    "-------------------------------------------------------------------------------------------------------\n",
    "\n",
    "- 75% of LotArea is below 11k; some accumulation within 18-35k, 46-70 and 4 extra outliers\n",
    "- MasVnrArea has 2 accumulations: major (below 165) and minor (420-1170) with 2 outliers\n",
    "- BsmtFinSF1 has 2 groups: around 0 and around 608sq.ft with minor group around 200 and 1 outlier\n",
    "- BsmtFinSF2 almost equals to 0\n",
    "- LowQualFinSF almost equals to 0\n",
    "- BsmtUnfSF is much better - no significant outliers\n",
    "- TotalDsmtSF, 1stFlrSF, GrLivArea, MasVnrArea are almost perfectly correlated\n",
    "- 2ndFlrSF is mostly 0, but the other group is 762 sq.ft. No outliers\n",
    "\n",
    "-------------------------------------------------------------------------------------------------------\n",
    "\n",
    "- Number of full basement baths mostly 0 or 1, some observations for 2, 3 -- outlier\n",
    "- basement HalfBath almost equals to zero\n",
    "- HalfBath almost equals to zero\n",
    "- FullBath - either 1, 2 or 3; drop the rest\n",
    "- Bedrooms = 4,5,6 or 8 -- outliers\n",
    "- Kitchen = 0,2,3 - outliers\n",
    "- But  something strange with total rooms variable - only 1 outlier (14), with median = 6\n",
    "- 3 fireplaces - outlier\n",
    "\n",
    "-------------------------------------------------------------------------------------------------------\n",
    "\n",
    "- GarageYearBlt more like YearBlt - see comparison\n",
    "- Garage cars = 4 - outlier\n",
    "- GarageArea more like grLivArea\n",
    "\n",
    "-------------------------------------------------------------------------------------------------------\n",
    "\n",
    "- WoodDeckSF, OpenPorchSF are more alike\n",
    "- EnclosedPorch, 3SsnPorch, ScreenPorch are much more rare, allmost equals to zero\n",
    "\n",
    "-------------------------------------------------------------------------------------------------------\n",
    "\n",
    "- PoolArea - only 7 houses with pools\n",
    "- MscVal - almost equals to zero\n",
    "- YrSold is defenitely unimodal\n",
    "- Sale price distribution looks like total lot sq.feet distribution"
   ]
  },
  {
   "cell_type": "markdown",
   "id": "44c5c1f2",
   "metadata": {},
   "source": [
    "Before moving futher, sum up single numerical dstributions:\n",
    "- Drop rather not important: **YrSold**, **PoolArea**, **MscVal**, **GarageYearBlt**, **BsmtFullBath**,  **BsmtHalfBath**, **HalfBath**, **BsmtFinSF2**, **LowQualFinSF**, **Id**, \n",
    "- Unite **EnclosedPorch**, **3SsnPorch**, **ScreenPorch** into **PorchRare**\n",
    "- Unite **WoodDeckSF**, **OpenPorchSF** into **PorchUsual**\n",
    "- Unite + remove outliers: **GarageArea**, **grLivArea**, **LotArea**, **TotalDsmtSF**, **1stFlrSF**, **MasVnrArea**\n",
    "- Remove outliers: **GarageCars**, **Kitchen**, **Fireplaces**, **FullBath**, **Bedroom**. Check correlation with sq.ft. or use **TotRmsAbvGrd** instead\n",
    "- Keep as it is: **MoSold**, **Sale price**, **BsmtUnfSF**, **BsmtFinSF1**, **TotRmsAbvGrd**, **LotFrontage**, **OverallCond**, **OverallQual**(more factors to study to decide), **YearBuilt**, **YearRemodAdd**, **SalePrice**\n",
    "- Create one-hot: IsSecondFloor\n",
    "- Recode as str: **MSSubClass**, **GarageCars**, **Kitchen**, **Fireplaces**, **FullBath**, **Bedroom**, **TotRmsAbvGrd**, **OverallCond**, **OverallQual**"
   ]
  },
  {
   "cell_type": "markdown",
   "id": "decae595",
   "metadata": {},
   "source": [
    "## Numerical (2d)"
   ]
  },
  {
   "cell_type": "markdown",
   "id": "e2eb4e81",
   "metadata": {},
   "source": [
    "- LotArea and TotalBsmtSF are correlated\n",
    "- LotArea and GrLivArea are correlated\n",
    "\\\n",
    "= > keep LotArea only "
   ]
  },
  {
   "cell_type": "markdown",
   "id": "69906daa",
   "metadata": {},
   "source": [
    "- LotArea and 1stFlrSF are correlated\n",
    "- LotArea and MasVnr are correlated\n",
    "\\\n",
    "= > keep LotArea only"
   ]
  },
  {
   "cell_type": "markdown",
   "id": "af4b4815",
   "metadata": {},
   "source": [
    "LotArea and GarageArea are correlated\n",
    "\\\n",
    "= > keep LotArea only"
   ]
  },
  {
   "cell_type": "markdown",
   "id": "519fcd7f",
   "metadata": {},
   "source": [
    "To sum up:\n",
    "- **LotArea** correlated with all the other areas, **LotFrontage**, \n",
    "- **WoodDeckSF** seems to be correlated with all the other porches\n",
    "- seems not to be important as much: **KitchenAbvGr**, **Fireplaces**, **BedroomAbvGr**, **FullBath**, **MoSold**\n",
    "- seems to be important: **GarageCars**, **TotRmsAbvGrd**, **YearRemodAdd**, **YearBuilt**, **OverallQual**, **OverallCond**, **BsmtUnfSF**, **WoodDeckSF**, **LotArea**\n",
    "\\\n",
    "=> out we have 9+1 (MSSubClass) out of 38 vars important "
   ]
  },
  {
   "cell_type": "code",
   "execution_count": null,
   "id": "b96c0008",
   "metadata": {
    "ExecuteTime": {
     "end_time": "2022-11-20T12:55:42.122720Z",
     "start_time": "2022-11-20T12:55:38.458495Z"
    },
    "scrolled": true
   },
   "outputs": [],
   "source": [
    "data.hist(layout=(6, 7), figsize=(20, 15), bins=40)\n",
    "plt.show()"
   ]
  },
  {
   "cell_type": "code",
   "execution_count": null,
   "id": "c0669efc",
   "metadata": {
    "ExecuteTime": {
     "end_time": "2022-11-20T12:55:42.138694Z",
     "start_time": "2022-11-20T12:55:42.125722Z"
    },
    "scrolled": false
   },
   "outputs": [],
   "source": [
    "#sns.pairplot(data, diag_kind=\"kde\")"
   ]
  },
  {
   "cell_type": "markdown",
   "id": "4682c41f",
   "metadata": {},
   "source": [
    "- Again, it seems like strong correlation patterns are visible only for the Area-based variables"
   ]
  },
  {
   "cell_type": "markdown",
   "id": "bf93b0ae",
   "metadata": {},
   "source": [
    "## Categorical"
   ]
  },
  {
   "cell_type": "markdown",
   "id": "dd7f1b0e",
   "metadata": {},
   "source": [
    "- **MsZoning**: think about removing uniting RM, RH, something with C\n",
    "- **Street**: Only 6 streets are gravel, rather remove\n",
    "- **Alley**: is almost unimodal, rather remove\n",
    "- **Utilities**: only 1 house does not have all public utilities, rather remove\n",
    "- **CentraAir**: rather rare variable\n",
    "- **NeightboorHood**: maybe too many categories?\n",
    "- **HeatingQC**: drop Po?\n",
    "\n",
    "-------------------------------------------------------------------------------------------------------\n",
    "\n",
    "- Restrict number of categories: **Condition1**, **Condition2**, **RoofStyle**, **ExterCond**, **Exterior1st**, **Exterior2nd**, **BsmtCond**, **BsmntFinType2**, **GarageType**, **SaleType**, **SaleCondition**\n",
    "- Keep as it is: **MasVnrType**, **ExterQual**, **HouseStyle**, **BldgType**, **Foundation**, **BsmtQual**, **BsmtExposure**, **BsmntFinType1**, **KitchenQual**, **FireplaceQu**, **GarageFinish**, **PavedDrive**, **PoolQC**, **Fence**, **MiscFeature**\n",
    "\n",
    "-------------------------------------------------------------------------------------------------------\n",
    "\n",
    "- **LotConfig**: recode into Inside, Corner, CulDSac, Frontage\n",
    "- **LandSlope**: recode into Slope, NoSlope\n",
    "- **LotShape**: recode into Regular, Irregular, VeryIrregular\n",
    "- **LandCountour**: recode into NearFlat, NotNearFlat\n",
    "- **RoofMaterial** - recode into Cheap, Costly\n",
    "- **Heating**: recode into Gas, NotGas\n",
    "- **Elecrical**: recode into Good, Average, Bad\n",
    "- **Functional**: recode into Typical, Minor, Major\n",
    "- **GarageQual**: recode into Good, Average, Bad\n",
    "- **GarageCond**: recode into Good, Average, Bad"
   ]
  },
  {
   "cell_type": "markdown",
   "id": "7899a081",
   "metadata": {},
   "source": [
    "- hard to perform EDA, too many variables, perform later after dimensionality reduction"
   ]
  },
  {
   "cell_type": "markdown",
   "id": "b0ea2afc",
   "metadata": {},
   "source": [
    "- **MasnrType**: Masonry veneer with stone is costs much more; None and BrkCmn could be united into single variable\n",
    "- keep as it is: **HouseStyle**, **Foundation**, **KitchenQual**, **FireplaceQu**, **GarageFinish**, **MiscFeature**, **GarageType**\n",
    "- **BldgType**: maybe 2fmCon and Duplexcould be united into one; the ame for 1Fam and TwnhsE\n",
    "- **BsmtQual**: less distinctions between groups, but for now keep as it is\n",
    "- **BsmtExposure**: rather not important\n",
    "- **BsmtFinType1**: rather recode into GLQ, Unf, Other\n",
    "- **PavedDrive**: hard to say\n",
    "- **PoolQC**: Fa and Gd are almost the same\n",
    "- **Fence**: recode as GoodPrivacy, NotGoodPrivacy\n",
    "- **Condition1**, **Condition2**: unite PosA, PosN into Park; RRAe, RRAn, RRNe into RailRoad\n",
    "- hard to say: **RoofType**, **Exterior1st**, **Exterior2nd**\n",
    "-  **BsmtFinType2**: maybe unite BLQ, Rec, LwQ\n",
    "- **otConfig**: maybe unite FR3 and CulDSac\n",
    "- **LandSlope**: unite Mod and Sev\n",
    "- **LotShape**: Reg much lower\n",
    "- **LandContour**: maybe Lvl+bank, Low+HLS\n",
    "- **RoofMatl**: for sure CompShg+Metal+Roll+ClyTile, WdShake+Membran\n",
    "- **Heating**: for sure Gas, NoGas\n",
    "- **Electrical**: either 0-1 or factor(3)\n",
    "- **Functional**: no big difference besides Maj2\n",
    "- **HeatingQC**: maybe unite Po with Fa\n",
    "- **Neighborhood**:\n",
    "  - CollgCr+Crawfor+ClearCr+Blmngtn\n",
    "  - Veenker+Somerst+Timber\n",
    "  - NoRidge+NridHt+StoneBr\n",
    "  - Blueste+SWISU+Sawyer\n",
    "  - Mitchel+NAmes+NPkVill\n",
    "  - NWAmes+SawyerW+Gilber\n",
    "  - OldTown+BrkSide+Edwards\n",
    "  - IDOTRR+MeadowV+BrDale"
   ]
  },
  {
   "cell_type": "markdown",
   "id": "c797b1ad",
   "metadata": {},
   "source": [
    "Numerical:\n",
    "- keep **LotArea** (or other more important feature with sq.ft. / newly created one from PCA)\n",
    "- keep **WoodDeckSF** (or other more important feature ending with porch / newly created one from PCA)\n",
    "- keep as it is: **GarageCars**, **TotRmsAbvGrd**, **YearRemodAdd**, **YearBuilt**,  **BsmtUnfSF**\n",
    "- recode as str and explore: **MSSubClass**, **OverallCond**, **OverallQual**\n",
    "- total: 10\n",
    "\n",
    "------------------------------------------------------------------------------------------------------\n",
    "\n",
    "Categorical:\n",
    "- keep as it is: **MsZoning**, **CentralAir**, **HouseStyle**, **Foundation**, **KitchenQual**, **FireplaceQu**, **GarageFinish**, **MiscFeature**, **GarageType**, **PavedDrive**, **BsmtQual**, **RoofType**, **Exterior1st**, **Exterior2nd**, **Heating**, **GarageQual**, **GarageCond**\n",
    "- **MasnrType**:  None+BrkCmn\n",
    "- **BldgType**: 2fmCon+Duplex; 1Fam+TwnhsE\n",
    "- **PoolQC**: Fa+Gd\n",
    "- **BsmtFinType2**: BLQ+Rec+LwQ\n",
    "- **LandContour**: Lvl+bank; Low+HLS\n",
    "- **LandSlope**: Mod+Sev\n",
    "- **LotConfig**: FR3+CulDSac\n",
    "- **HeatingQC**: Po+Fa\n",
    "- **RoofMatl**: CompShg+Metal+Roll+ClyTile; WdShake+Membran\n",
    "- **Condition1**, **Condition2**: unite PosA, PosN into Park; RRAe, RRAn, RRNe into RailRoad\n",
    "- **BsmtFinType1**: rather into GLQ, Unf, Other\n",
    "- **Fence**: recode into GoodPrivacy, NotGoodPrivacy\n",
    "- **Heating**: for sure recode into Gas, NoGas\n",
    "- **Neighborhood**: CollgCr+Crawfor+ClearCr+Blmngtn, Veenker+Somerst+Timber, NoRidge+NridHt+StoneBr, Blueste+SWISU+Sawyer, Mitchel+NAmes+NPkVill, NWAmes+SawyerW+Gilber, OldTown+BrkSide+Edwards, IDOTRR+MeadowV+BrDale\n",
    "- **LotShape**: Reg much lower\n",
    "- **Electrical**: either 0-1 or factor(3)\n",
    "- total: 33\n",
    "\n",
    "-------------------------------------------------------------------------------------------------------\n",
    "=> 43 initial variables to keep"
   ]
  },
  {
   "cell_type": "markdown",
   "id": "874e92e4",
   "metadata": {},
   "source": [
    "# Correlation & outliers analysis"
   ]
  },
  {
   "cell_type": "code",
   "execution_count": null,
   "id": "f477c1e6",
   "metadata": {
    "ExecuteTime": {
     "end_time": "2022-11-20T12:55:42.184992Z",
     "start_time": "2022-11-20T12:55:42.156335Z"
    },
    "code_folding": [
     31,
     207,
     220,
     228
    ]
   },
   "outputs": [],
   "source": [
    "def prepare_data_num(X):\n",
    "    \n",
    "    \n",
    "    cols_to_drop = [\n",
    "        'Id', 'MoSold', 'YrSold', 'PoolArea', 'BsmtFullBath', 'BsmtHalfBath', \n",
    "        'FullBath', 'BedroomAbvGr', 'KitchenAbvGr', 'GarageYrBlt', 'GarageCars',\n",
    "        'WoodDeckSF', 'OpenPorchSF', 'EnclosedPorch', '3SsnPorch', 'ScreenPorch',\n",
    "        'YearRemodAdd', 'TotalBsmtSF', 'MiscVal', '2ndFlrSF', '1stFlrSF',\n",
    "        'LowQualFinSF', 'OverallCond', 'BsmtFinSF2', 'TotRmsAbvGrd'\n",
    "    ]\n",
    "    X.drop(columns=cols_to_drop, inplace=True)\n",
    "    return X\n",
    "\n",
    "def prepare_data_cat(X):\n",
    "    X['MSZoning'] = X.MSZoning.replace({'RH':'RM', 'FV':'RL', 'C (all)': 'RM'})\n",
    "    X['IsLowDensityArea'] = np.where(X['MSZoning'] == 'RL', 1, 0)\n",
    "    \n",
    "    X['Neighborhood'] = X.Neighborhood.replace(\n",
    "        {'Edwards': 'C0', 'OldTown': 'C0', 'Sawyer': 'C0', 'BrkSide': 'C0',\n",
    "         'Blueste': 'C0', 'NPkVill': 'C0', 'Mitchel': 'C0', 'SWISU': 'C0', 'NAmes': 'C0',\n",
    "         'MeadowV': 'C1', 'BrDale': 'C1', 'IDOTRR': 'C1',\n",
    "         'NridgHt': 'C2', 'StoneBr': 'C2', 'NoRidge': 'C2',\n",
    "         'SawyerW': 'C3', 'Blmngtn': 'C3', 'Gilbert': 'C3', 'NWAmes': 'C3',\n",
    "         'Somerst': 'C4', 'Timber': 'C4', 'Veenker': 'C4',\n",
    "         'Crawfor': 'C4', 'CollgCr': 'C4', 'ClearCr': 'C4',\n",
    "        }\n",
    "    )\n",
    "    \n",
    "    X['Condition1'] = X['Condition1'].replace(\n",
    "        {'PosA': 'C1', 'PosN': 'C1', 'RRAn':'C1', 'RRNe': 'C1', 'RRNn': 'C1', 'Norm': 'C1',\n",
    "         'Feedr':'C2', 'Artery':'C2', 'RRAe':'C2'\n",
    "        }\n",
    "    )\n",
    "    X['Condition2'] = X['Condition2'].replace(\n",
    "        {'PosA': 'C1', 'PosN': 'C1', 'RRAn':'C1', 'RRNe': 'C1', 'RRNn': 'C1', 'Norm': 'C1',\n",
    "         'Feedr':'C2', 'Artery':'C2', 'RRAe':'C2'\n",
    "        }\n",
    "    )\n",
    "    X['Condition1'] = np.where(X['Condition1'] == 'C1', 1, 0)\n",
    "    X['Condition2'] = np.where(X['Condition2'] == 'C1', 1, 0)\n",
    "    X['IsEnvGood'] = np.where(X['Condition2']+X['Condition1'] == 2, 1, 0)\n",
    "    \n",
    "    X['Alley'] = X.Alley.fillna('Pave')\n",
    "    X['IsAlleyGravel'] = np.where(X['Alley'] == 'Pave', 0, 1)\n",
    "    X['IsShapeReg'] = np.where(X['LotShape'] ==  'Reg', 1, 0)\n",
    "    X['LandContour'] = X['LandContour'].replace(\n",
    "        {'Lvl': 'Norm', 'Bnk': 'Norm', 'Low': 'Ir', 'HLS': 'Ir'}\n",
    "    )\n",
    "    X['IsLandFlat'] = np.where(X['LandContour'] == 'Ir', 0, 1)\n",
    "    \n",
    "    X['LotConfig'] = X['LotConfig'].replace(\n",
    "        {'Inside': 'Norm', 'FR2': 'Norm', 'Corner': 'Norm', 'CulDSac': 'Ir', 'FR3': 'Ir'}\n",
    "    )\n",
    "    X['IsNarrow'] = np.where(X['LotConfig'] == 'Ir', 0, 1)\n",
    "    X['IsSlope'] = np.where((X['LandSlope'] == 'Mod') | (X['LandSlope'] == 'Sev'), 1, 0)\n",
    "    X['IsPaved'] = np.where((X['PavedDrive'] == 'N') | (X['PavedDrive'] == 'P'), 0, 1)\n",
    "    \n",
    "    X['MSSubClass'] = X['MSSubClass'].replace(\n",
    "        {'20': 'C0', '70': 'C0', '75': 'C0', '80': 'C0',\n",
    "         '60': 'C1', '120': 'C1',\n",
    "         '90': 'C2', '85': 'C2', '40': 'C2', '160': 'C2', '50': 'C2', '190': 'C2',\n",
    "         '45': 'C3', '30': 'C3', '180': 'C3'\n",
    "        }\n",
    "    )\n",
    "    X['IsOneFamily'] = np.where(X['BldgType'] == '1Fam', 1, 0)\n",
    "    X['IsOneFloor'] = X['HouseStyle'].replace(\n",
    "        {'SFoyer': '1', 'SLvl': '1', '1Story': '1',\n",
    "         '1.5Fin': '1', '1.5Unf': '1',\n",
    "         '2Story': '0', '2.5Fin': '0', '2.5Unf': '0'\n",
    "        }\n",
    "    ).astype(np.int64)\n",
    "    X['IsRoofGable'] = np.where(X['RoofStyle'] == 'Gable', 1, 0)\n",
    "    X['IsRoofStandard'] = np.where(X['RoofMatl'] == 'CompShg', 1, 0)\n",
    "    X['Exterior_1'] = X['Exterior1st'].replace(\n",
    "        {'VinylSd': 'C0',\n",
    "         'BrkFace': 'C1', 'BrkComm': 'C1', 'Plywood': 'C1', 'Brk Cmn': 'C1',\n",
    "         'CmentBd': 'C2', 'Stone': 'C2', 'CemntBd': 'C2', 'Other': 'C2',\n",
    "         'AsphShn': 'C3', 'AsbShng': 'C3', 'ImStucc': 'C3', 'CBlock': 'C3',\n",
    "         'Wd Sdng': 'C4', 'Wd Shng': 'C4', 'WdShing': 'C4', 'Stucco': 'C4',\n",
    "         'HdBoard': 'C4', 'MetalSd': 'C4'\n",
    "        }\n",
    "    )\n",
    "    X['Exterior_2'] = X['Exterior2nd'].replace(\n",
    "        {'VinylSd': 'C0',\n",
    "         'BrkFace': 'C1', 'BrkComm': 'C1', 'Plywood': 'C1', 'Brk Cmn': 'C1',\n",
    "         'CmentBd': 'C2', 'Stone': 'C2', 'CemntBd': 'C2', 'Other': 'C2',\n",
    "         'AsphShn': 'C3', 'AsbShng': 'C3', 'ImStucc': 'C3', 'CBlock': 'C3',\n",
    "         'Wd Sdng': 'C4', 'Wd Shng': 'C4', 'WdShing': 'C4', 'Stucco': 'C4',\n",
    "         'HdBoard': 'C4', 'MetalSd': 'C4'\n",
    "        }\n",
    "    )\n",
    "    X['MasVnrType'] = X['MasVnrType'].fillna('None')\n",
    "    X['MasVnrType'] = X['MasVnrType'].replace({'BrkFace': 'Brick', 'BrkCmn': 'Brick'})\n",
    "    X['IsExtQualGood'] = np.where((X['ExterQual'] == 'Ex') | (X['ExterQual'] == 'Good'), 1, 0)\n",
    "    X['IsExtCondGood'] = np.where((X['ExterCond'] == 'Ex') | (X['ExterCond'] == 'Good'), 1, 0)\n",
    "    \n",
    "    X['IsBsmConcrete'] = np.where(X['Foundation'] == 'PConc', 1, 0)\n",
    "    \n",
    "    X['BsmtCond'] = X['BsmtCond'].fillna('Absent')\n",
    "    X['BsmtQual'] = X['BsmtQual'].fillna('Absent')\n",
    "    X['BsmtQual'] = X['BsmtQual'].replace(\n",
    "        {'Ex': 'Good', 'Gd': 'Good', 'TA': 'Good', 'Fa': 'Bad', 'Po': 'Bad'}\n",
    "    )\n",
    "    X['BsmtCond'] = X['BsmtCond'].replace(\n",
    "        {'Ex': 'Good', 'Gd': 'Good', 'TA': 'Good', 'Fa': 'Bad', 'Po': 'Bad'}\n",
    "    )\n",
    "    X['IsBsmQualGood'] = np.where((X['BsmtQual'] == 'Ex') | (X['BsmtQual'] == 'Good'), 1, 0)\n",
    "    X['IsBsmCondGood'] = np.where((X['BsmtCond'] == 'Ex') | (X['BsmtCond'] == 'Good'), 1, 0)\n",
    "    \n",
    "    X['BsmtExposure'] = X['BsmtExposure'].fillna('Absent')\n",
    "    X['BsmExposure'] = X['BsmtExposure'].replace(\n",
    "        {'Mn': 'Norm', 'Av': 'Norm', 'Absent': 'No'}\n",
    "    )\n",
    "    \n",
    "    X['BsmtFinType1'] = X['BsmtFinType1'].fillna('Absent')\n",
    "    X['BsmFinType_1'] = X['BsmtFinType1'].replace(\n",
    "        {'Unf': 'C0',\n",
    "         'GLQ': 'C1',\n",
    "         'CemntBd': 'C2',\n",
    "         'Rec': 'C3', 'LwQ': 'C3', 'ALQ': 'C3', 'BLQ': 'C3', 'Absent': 'C3'\n",
    "        }\n",
    "    )\n",
    "    X['BsmtFinType2'] = X['BsmtFinType2'].fillna('Absent')\n",
    "    X['BsmFinType_2'] = X['BsmtFinType2'].replace(\n",
    "        {'Unf': 'C0',\n",
    "         'GLQ': 'C1',\n",
    "         'CemntBd': 'C2',\n",
    "         'Rec': 'C3', 'LWQ': 'C3', 'ALQ': 'C3', 'BLQ': 'C3', 'Absent': 'C3'\n",
    "        }\n",
    "    )\n",
    "    \n",
    "    X['GarageType'] = X['GarageType'].fillna('Absent')\n",
    "    X['GarageType'] = X['GarageType'].replace(\n",
    "        {'CarPort': 'Detchd', '2Types': 'Detchd', 'Basment': 'Detchd'}\n",
    "    )\n",
    "    X['GarageFinish'] = X['GarageFinish'].fillna('Absent')\n",
    "    X['IsGarageFinished'] = np.where(X['GarageFinish'] == 'Unf', 0, 1)\n",
    "    \n",
    "    X['HeatingQC'] = X['HeatingQC'].replace(\n",
    "        {'Ex': 'Good', 'Gd': 'Good', 'TA': 'Norm', 'Fa': 'Bad', 'Po': 'Bad'}\n",
    "    )\n",
    "    X['IsHeatGood'] = np.where(X['HeatingQC'] == 'Good', 1, 0)\n",
    "    \n",
    "    X['KitchenQual'] = X['KitchenQual'].replace(\n",
    "        {'Ex': 'Good', 'Gd': 'Good', 'TA': 'Norm', 'Fa': 'Bad', 'Po': 'Bad'}\n",
    "    )\n",
    "    X['IsKitchenGood'] = np.where(X['KitchenQual'] == 'Good', 1, 0)\n",
    "    \n",
    "    X['IsCentralAir'] = np.where(X['CentralAir'] == 'Y', 1, 0)\n",
    "    X['IsStandardElect'] = np.where(X['Electrical'] == 'SBrkr', 1, 0)\n",
    "    \n",
    "    X['FireplaceQu'] = X['FireplaceQu'].fillna('Absent')\n",
    "    X['FireplaceQual'] = X['FireplaceQu'].replace(\n",
    "        {'Ex': 'Good', 'Gd': 'Good', 'TA': 'Norm', 'Fa': 'Bad', 'Po': 'Bad', 'Absent': 'Bad'}\n",
    "    )\n",
    "    \n",
    "    X['Fence'] = X['Fence'].fillna('Absent')\n",
    "    \n",
    "    X['IsFenceGoodOrAbsent'] = X['Fence'].replace(\n",
    "        {'GdPrv': '1', 'Absent': '1', 'MnPrv': '0', 'MnWw': '0', 'GdWo': '0'}\n",
    "    ).astype(np.int64)\n",
    "    \n",
    "    X['MiscFeature'] = X['MiscFeature'].fillna('Absent')\n",
    "    X['IsShedPresent'] = np.where(X['MiscFeature'] == 'Shed', 1, 0)\n",
    "    \n",
    "    X['IsNewHouse'] = np.where(X['SaleType'] == 'New', 1, 0)\n",
    "    \n",
    "    X['SaleCond'] = X['SaleCondition'].replace(\n",
    "        {'Alloca': 'C0', 'Normal': 'C0',\n",
    "         'Partial': 'C1',\n",
    "         'Abnorml': 'C2', 'Family': 'C2', 'AdjLand': 'C2'}\n",
    "    )\n",
    "    \n",
    "    cols_to_drop = [\n",
    "        'MSZoning', 'Condition1', 'Condition2',\n",
    "        'Street', 'Alley', 'LotShape', 'LandContour', 'LotConfig', 'LandSlope', 'PavedDrive',\n",
    "        'BldgType', 'HouseStyle', 'RoofStyle', 'RoofMatl',\n",
    "        'Exterior1st', 'Exterior2nd', 'ExterQual', 'ExterCond',\n",
    "        'Foundation', 'BsmtQual', 'BsmtCond', 'BsmtExposure', 'BsmtFinType1', 'BsmtFinType2',\n",
    "        'HeatingQC', 'KitchenQual', 'Electrical', 'FireplaceQu', 'Fence', 'MiscFeature',\n",
    "        'SaleType', 'SaleCondition',\n",
    "        'GarageQual', 'GarageCond', 'GarageFinish',\n",
    "        'PoolQC', 'Functional', 'Heating', 'Utilities', 'CentralAir', \n",
    "        'BsmFinType_2', 'IsLandFlat', 'Exterior_2'\n",
    "    ]\n",
    "    \n",
    "    X.drop(columns=cols_to_drop, inplace=True)\n",
    "    return X\n",
    "\n",
    "def make_cat_dummy(X):\n",
    "    cols_to_dummy = ['Neighborhood', 'MSSubClass', 'MasVnrType',\n",
    "                     'GarageType', 'FireplaceQual', 'SaleCond', 'BsmExposure',\n",
    "                     'Exterior_1', 'PorchType', 'BsmFinType_1']\n",
    "    cols_to_drop = [\n",
    "        'Neighborhood_C0', 'MSSubClass_C0', 'MSSubClass_C1', 'MSSubClass_C2',\n",
    "        'MasVnrType_None', 'Exterior_1_C0',  'GarageType_Attchd', 'FireplaceQual_Bad',\n",
    "        'SaleCond_C0', 'SaleCond_C1', 'BsmExposure_No', 'PorchType_WoodDeck', 'BsmFinType_1_C0'\n",
    "    ]\n",
    "    X = pd.get_dummies(X, columns=cols_to_dummy, prefix=cols_to_dummy)\n",
    "    X.drop(columns=cols_to_drop, inplace=True)\n",
    "    return X\n",
    "\n",
    "def drop_columns_selected(X):\n",
    "    X.drop(\n",
    "        columns=['IsShedPresent', 'Exterior_1_C3', 'IsAlleyGravel',\n",
    "                 'IsExtQualGood', 'IsExtCondGood'],\n",
    "        inplace=True\n",
    "    )\n",
    "    return X\n",
    "\n",
    "def filter_outliers(X):\n",
    "    filter_query = (\n",
    "        '(SalePrice < 423000) & (LotArea < 45600) & '+\n",
    "        '(GrLivArea < 3627) & (GarageArea < 1134) & '+\n",
    "        '(BsmtFinSF1 < 1904)'\n",
    "    )\n",
    "    X = X.query(filter_query)\n",
    "    X['Fireplaces'] = np.where(X['Fireplaces'] > 2, 2, X['Fireplaces'])\n",
    "    X['IsHalfBath'] = np.where(X['HalfBath'] > 0, 1, 0)\n",
    "    X.drop(columns=['HalfBath'], inplace=True)\n",
    "    return X"
   ]
  },
  {
   "cell_type": "code",
   "execution_count": null,
   "id": "68682caf",
   "metadata": {
    "ExecuteTime": {
     "end_time": "2022-11-20T12:55:42.263344Z",
     "start_time": "2022-11-20T12:55:42.186995Z"
    }
   },
   "outputs": [],
   "source": [
    "corr_heatmap(data)"
   ]
  },
  {
   "cell_type": "markdown",
   "id": "c90e0636",
   "metadata": {},
   "source": [
    "## Numerical"
   ]
  },
  {
   "cell_type": "markdown",
   "id": "c2225de4",
   "metadata": {},
   "source": [
    "### Baths"
   ]
  },
  {
   "cell_type": "code",
   "execution_count": null,
   "id": "bcfc6201",
   "metadata": {
    "ExecuteTime": {
     "end_time": "2022-11-20T12:55:42.279348Z",
     "start_time": "2022-11-20T12:55:42.264335Z"
    }
   },
   "outputs": [],
   "source": [
    "X = data.copy()\n",
    "X = X.loc[:, ['BsmtFullBath', 'BsmtHalfBath', 'FullBath', 'HalfBath', 'SalePrice']]"
   ]
  },
  {
   "cell_type": "code",
   "execution_count": null,
   "id": "210ada41",
   "metadata": {
    "ExecuteTime": {
     "end_time": "2022-11-20T12:55:42.294916Z",
     "start_time": "2022-11-20T12:55:42.281342Z"
    }
   },
   "outputs": [],
   "source": [
    "#X.hist(layout=(6, 7), figsize=(20, 15), bins=40)\n",
    "#plt.show()"
   ]
  },
  {
   "cell_type": "code",
   "execution_count": null,
   "id": "abd0bd46",
   "metadata": {
    "ExecuteTime": {
     "end_time": "2022-11-20T12:55:42.310412Z",
     "start_time": "2022-11-20T12:55:42.295901Z"
    }
   },
   "outputs": [],
   "source": [
    "print(X.loc[X.BsmtFullBath > 1, :].shape[0]/X.shape[0])    # 16 observations\n",
    "print(X.loc[X.BsmtHalfBath > 1, :].shape[0]/X.shape[0])    # 2 observations\n",
    "print(X.loc[X.FullBath > 2, :].shape[0]/X.shape[0])        # 33 observations\n",
    "print(X.loc[X.HalfBath > 1, :].shape[0]/X.shape[0])        # 12 observations"
   ]
  },
  {
   "cell_type": "code",
   "execution_count": null,
   "id": "044b2caa",
   "metadata": {
    "ExecuteTime": {
     "end_time": "2022-11-20T12:55:42.326246Z",
     "start_time": "2022-11-20T12:55:42.311406Z"
    },
    "scrolled": false
   },
   "outputs": [],
   "source": [
    "#corr_heatmap(X)"
   ]
  },
  {
   "cell_type": "code",
   "execution_count": null,
   "id": "ab71c745",
   "metadata": {
    "ExecuteTime": {
     "end_time": "2022-11-20T12:55:42.342020Z",
     "start_time": "2022-11-20T12:55:42.327250Z"
    }
   },
   "outputs": [],
   "source": [
    "#corr_heatmap(X.query('BsmtHalfBath <= 1 & BsmtFullBath <= 1 & FullBath <= 2 & HalfBath <= 1'))"
   ]
  },
  {
   "cell_type": "markdown",
   "id": "3a9f64e8",
   "metadata": {},
   "source": [
    "- The strongest correlation is between FullBath, SalePrice\n",
    "- There is no strong correlation between other groups\n",
    "- However, just logically FullBath = BsmtFullBath + Second Floor Full Baths; the same for HalfBaths\n",
    "=> keep only FullBaths, HalfBaths"
   ]
  },
  {
   "cell_type": "markdown",
   "id": "e41ea809",
   "metadata": {
    "heading_collapsed": true
   },
   "source": [
    "### Rooms"
   ]
  },
  {
   "cell_type": "code",
   "execution_count": null,
   "id": "d6c24d9f",
   "metadata": {
    "ExecuteTime": {
     "end_time": "2022-11-20T12:55:42.357437Z",
     "start_time": "2022-11-20T12:55:42.343025Z"
    },
    "hidden": true
   },
   "outputs": [],
   "source": [
    "X = data.copy()\n",
    "X = X.loc[:, ['BedroomAbvGr', 'KitchenAbvGr', 'FullBath', 'HalfBath', 'TotRmsAbvGrd',\n",
    "              'SalePrice']]"
   ]
  },
  {
   "cell_type": "code",
   "execution_count": null,
   "id": "8dc0fcb5",
   "metadata": {
    "ExecuteTime": {
     "end_time": "2022-11-20T12:55:42.372452Z",
     "start_time": "2022-11-20T12:55:42.359444Z"
    },
    "hidden": true
   },
   "outputs": [],
   "source": [
    "#X.hist(layout=(6, 7), figsize=(20, 15), bins=40)\n",
    "#plt.show()"
   ]
  },
  {
   "cell_type": "code",
   "execution_count": null,
   "id": "21a4ccf2",
   "metadata": {
    "ExecuteTime": {
     "end_time": "2022-11-20T12:55:42.388456Z",
     "start_time": "2022-11-20T12:55:42.374439Z"
    },
    "hidden": true
   },
   "outputs": [],
   "source": [
    "print(X.loc[X.BedroomAbvGr > 5, :].shape[0]/X.shape[0])    # 8 observations\n",
    "print(X.loc[X.KitchenAbvGr > 2, :].shape[0]/X.shape[0])    # 2 obs.\n",
    "print(X.loc[X.TotRmsAbvGrd > 13, :].shape[0]/X.shape[0])    # 1 obs.\n",
    "print(X.loc[X.FullBath > 2, :].shape[0]/X.shape[0])        # 33 obs.\n",
    "print(X.loc[X.HalfBath > 1, :].shape[0]/X.shape[0])        # 12 obs."
   ]
  },
  {
   "cell_type": "code",
   "execution_count": null,
   "id": "8be32d51",
   "metadata": {
    "ExecuteTime": {
     "end_time": "2022-11-20T12:55:42.404465Z",
     "start_time": "2022-11-20T12:55:42.390453Z"
    },
    "hidden": true
   },
   "outputs": [],
   "source": [
    "#corr_heatmap(X)"
   ]
  },
  {
   "cell_type": "code",
   "execution_count": null,
   "id": "de13d1fb",
   "metadata": {
    "ExecuteTime": {
     "end_time": "2022-11-20T12:55:42.420469Z",
     "start_time": "2022-11-20T12:55:42.406446Z"
    },
    "hidden": true,
    "scrolled": true
   },
   "outputs": [],
   "source": [
    "#corr_heatmap(\n",
    "    #X.query(\n",
    "        #'BedroomAbvGr <= 5 & KitchenAbvGr <= 2 & TotRmsAbvGrd <= 13 & FullBath <= 2 & HalfBath <= 1'\n",
    "    #)\n",
    "#)"
   ]
  },
  {
   "cell_type": "markdown",
   "id": "dded6d81",
   "metadata": {
    "hidden": true
   },
   "source": [
    "- Remove Kitchen as it almost non-variative variable\n",
    "- TotalRmsAbvgrd and FullBath are strongly correlated - remove FullBath as it already is included in rooms\n",
    "- TotalRmsAbvgrd and BedroomAbvgr are strongly correlated - - remove BedroomAbvGr as it already is included in rooms\n",
    "\\\n",
    "=> keep HalfBath, TotRmsAbvGrd"
   ]
  },
  {
   "cell_type": "markdown",
   "id": "d30a1cc7",
   "metadata": {
    "heading_collapsed": true
   },
   "source": [
    "### Areas"
   ]
  },
  {
   "cell_type": "code",
   "execution_count": null,
   "id": "437dd8c3",
   "metadata": {
    "ExecuteTime": {
     "end_time": "2022-11-20T12:55:42.436466Z",
     "start_time": "2022-11-20T12:55:42.422460Z"
    },
    "hidden": true
   },
   "outputs": [],
   "source": [
    "X = data.copy()\n",
    "X = X.loc[:, ['LotFrontage', 'LotArea', 'MasVnrArea', 'BsmtFinSF1', 'BsmtFinSF2',\n",
    "              'BsmtUnfSF', 'TotalBsmtSF', '1stFlrSF', '2ndFlrSF', 'LowQualFinSF',\n",
    "              'GrLivArea', 'GarageArea',\n",
    "              'SalePrice']]"
   ]
  },
  {
   "cell_type": "code",
   "execution_count": null,
   "id": "94a60a14",
   "metadata": {
    "ExecuteTime": {
     "end_time": "2022-11-20T12:55:42.452477Z",
     "start_time": "2022-11-20T12:55:42.440468Z"
    },
    "hidden": true
   },
   "outputs": [],
   "source": [
    "#tmp = show_basic_plots(X)\n",
    "#for i in tmp['violin_num']: \n",
    "    #i.show()\n",
    "#del tmp"
   ]
  },
  {
   "cell_type": "code",
   "execution_count": null,
   "id": "144e08a5",
   "metadata": {
    "ExecuteTime": {
     "end_time": "2022-11-20T12:55:42.468473Z",
     "start_time": "2022-11-20T12:55:42.454457Z"
    },
    "hidden": true
   },
   "outputs": [],
   "source": [
    "print(X.loc[X.LotArea > 70000].shape[0]/X.shape[0]) #5\n",
    "print(X.loc[X.LotFrontage > 182].shape[0]/X.shape[0]) #2\n",
    "print(X.loc[X.MasVnrArea > 1170].shape[0]/X.shape[0]) # 2\n",
    "print(X.loc[X.BsmtFinSF1 > 2260].shape[0]/X.shape[0]) # 1\n",
    "print(X.loc[X.BsmtFinSF2 > 1127].shape[0]/X.shape[0]) # 1\n",
    "print(X.loc[X.TotalBsmtSF > 3206].shape[0]/X.shape[0]) # 1\n",
    "print(X.loc[X['1stFlrSF'] > 3228].shape[0]/X.shape[0]) # 1\n",
    "print(X.loc[X['2ndFlrSF'] > 1871].shape[0]/X.shape[0]) # 2\n",
    "print(X.loc[X['LowQualFinSF'] > 500].shape[0]/X.shape[0]) # only 26 obs > 0; maybe recode as 0-1\n",
    "print(X.loc[X.GrLivArea > 4676].shape[0]/X.shape[0]) # 1"
   ]
  },
  {
   "cell_type": "code",
   "execution_count": null,
   "id": "de20d406",
   "metadata": {
    "ExecuteTime": {
     "end_time": "2022-11-20T12:55:42.483483Z",
     "start_time": "2022-11-20T12:55:42.469475Z"
    },
    "hidden": true
   },
   "outputs": [],
   "source": [
    "#corr_heatmap(X)"
   ]
  },
  {
   "cell_type": "code",
   "execution_count": null,
   "id": "f9ab43bf",
   "metadata": {
    "ExecuteTime": {
     "end_time": "2022-11-20T12:55:42.499487Z",
     "start_time": "2022-11-20T12:55:42.485464Z"
    },
    "hidden": true
   },
   "outputs": [],
   "source": [
    "#corr_heatmap(\n",
    "    #X.query(\n",
    "        #('LotArea <= 70000 & LotFrontage <= 182 & MasVnrArea <= 1170 &'+\n",
    "        #'BsmtFinSF1 <= 2260 & BsmtFinSF2 <= 1127 & TotalBsmtSF <= 3206 &'+\n",
    "        #'LowQualFinSF <= 500 & GrLivArea <= 4676')\n",
    "    #)\n",
    "#)"
   ]
  },
  {
   "cell_type": "markdown",
   "id": "038051d2",
   "metadata": {
    "hidden": true
   },
   "source": [
    "- LotArea has average correlation with other areas\n",
    "- MasVnrArea has even less strong correlation with other areas\n",
    "- BsmtFinSF1 is correlated with TotalBasement and 1st floor area\n",
    "- BsmtFinSF2 is weakly correlated with all the other areas\n",
    "- BsmtUnfSF is correlated with TotalBasement olny\n",
    "- TotalBsmtSF has strong correlation with 1stFlrSF;pretty strong with GarageArea and GRLivArea\n",
    "- 2ndFlrSF is strongly correlated with GrLivArea\n",
    "- GarageArea is correlated with Total Basement, 1stFloor basement, GrLivArea\n",
    "-------------------------------------------------------------------------------------------------------\n",
    "To sum up:\n",
    "- better to be united during PCA\n",
    "- The best Area is GrLivArea\n",
    "- Also keep LotFrontage, LotArea, MasVnrArea, TotalBsmtSF, GarageArea\n",
    "- proportion of finished/unfinished basement could be created"
   ]
  },
  {
   "cell_type": "markdown",
   "id": "88bc75ab",
   "metadata": {
    "heading_collapsed": true
   },
   "source": [
    "### Porches"
   ]
  },
  {
   "cell_type": "code",
   "execution_count": null,
   "id": "43ec621a",
   "metadata": {
    "ExecuteTime": {
     "end_time": "2022-11-20T12:55:42.514489Z",
     "start_time": "2022-11-20T12:55:42.501477Z"
    },
    "hidden": true
   },
   "outputs": [],
   "source": [
    "X = data.copy()\n",
    "X = X.loc[:, ['WoodDeckSF', '3SsnPorch', 'EnclosedPorch', 'ScreenPorch', 'OpenPorchSF',\n",
    "              'SalePrice']]"
   ]
  },
  {
   "cell_type": "code",
   "execution_count": null,
   "id": "6b8c196e",
   "metadata": {
    "ExecuteTime": {
     "end_time": "2022-11-20T12:55:42.529162Z",
     "start_time": "2022-11-20T12:55:42.516485Z"
    },
    "hidden": true
   },
   "outputs": [],
   "source": [
    "#tmp = show_basic_plots(X)\n",
    "#for i in tmp['violin_num']: \n",
    "    #i.show()\n",
    "#del tmp"
   ]
  },
  {
   "cell_type": "code",
   "execution_count": null,
   "id": "d5649000",
   "metadata": {
    "ExecuteTime": {
     "end_time": "2022-11-20T12:55:42.544864Z",
     "start_time": "2022-11-20T12:55:42.531142Z"
    },
    "hidden": true
   },
   "outputs": [],
   "source": [
    "X.loc[X['3SsnPorch']>0].shape  # 24"
   ]
  },
  {
   "cell_type": "code",
   "execution_count": null,
   "id": "1c2adf2e",
   "metadata": {
    "ExecuteTime": {
     "end_time": "2022-11-20T12:55:42.560607Z",
     "start_time": "2022-11-20T12:55:42.546862Z"
    },
    "hidden": true
   },
   "outputs": [],
   "source": [
    "#corr_heatmap(X)"
   ]
  },
  {
   "cell_type": "markdown",
   "id": "5f7ef829",
   "metadata": {
    "hidden": true
   },
   "source": [
    "- better create new PorchSF and PorchType variables"
   ]
  },
  {
   "cell_type": "markdown",
   "id": "0cc8904a",
   "metadata": {
    "heading_collapsed": true
   },
   "source": [
    "### TimeStamps"
   ]
  },
  {
   "cell_type": "code",
   "execution_count": null,
   "id": "12b65bc8",
   "metadata": {
    "ExecuteTime": {
     "end_time": "2022-11-20T12:55:42.576606Z",
     "start_time": "2022-11-20T12:55:42.562589Z"
    },
    "hidden": true
   },
   "outputs": [],
   "source": [
    "X = data.copy()\n",
    "X = X.loc[:, ['MoSold', 'YrSold', 'YearBuilt', 'YearRemodAdd', 'GarageYrBlt',\n",
    "              'SalePrice']]"
   ]
  },
  {
   "cell_type": "code",
   "execution_count": null,
   "id": "5dadcd47",
   "metadata": {
    "ExecuteTime": {
     "end_time": "2022-11-20T12:55:42.591926Z",
     "start_time": "2022-11-20T12:55:42.577608Z"
    },
    "hidden": true,
    "scrolled": true
   },
   "outputs": [],
   "source": [
    "#corr_heatmap(X)"
   ]
  },
  {
   "cell_type": "markdown",
   "id": "6fa48213",
   "metadata": {
    "hidden": true
   },
   "source": [
    "- Year and Month when the house was sold - rather not important\n",
    "- YearBuilt, YearRemodAdd, GarageBuilt are strongly correlated - either unite/drop\n",
    "- Add 0-1 whether renovation was held"
   ]
  },
  {
   "cell_type": "markdown",
   "id": "d4373f6b",
   "metadata": {
    "heading_collapsed": true
   },
   "source": [
    "### Luxury and qualities"
   ]
  },
  {
   "cell_type": "code",
   "execution_count": null,
   "id": "f604df26",
   "metadata": {
    "ExecuteTime": {
     "end_time": "2022-11-20T12:55:42.606936Z",
     "start_time": "2022-11-20T12:55:42.592928Z"
    },
    "hidden": true
   },
   "outputs": [],
   "source": [
    "X = data.copy()\n",
    "X = X.loc[:, ['Fireplaces', 'PoolArea', 'MiscVal', 'OverallCond', 'OverallQual',\n",
    "              'SalePrice']]"
   ]
  },
  {
   "cell_type": "code",
   "execution_count": null,
   "id": "af50f214",
   "metadata": {
    "ExecuteTime": {
     "end_time": "2022-11-20T12:55:42.622565Z",
     "start_time": "2022-11-20T12:55:42.608541Z"
    },
    "hidden": true
   },
   "outputs": [],
   "source": [
    "#tmp = show_basic_plots(X)\n",
    "#for i in tmp['violin_num']: \n",
    "    #i.show()\n",
    "#del tmp"
   ]
  },
  {
   "cell_type": "code",
   "execution_count": null,
   "id": "45ffd601",
   "metadata": {
    "ExecuteTime": {
     "end_time": "2022-11-20T12:55:42.638212Z",
     "start_time": "2022-11-20T12:55:42.625189Z"
    },
    "hidden": true
   },
   "outputs": [],
   "source": [
    "print(X.loc[X.Fireplaces > 2].shape[0]/X.shape[0])  # 5\n",
    "print(X.loc[X.MiscVal > 3500].shape[0]/X.shape[0])  # 2\n",
    "print(X.loc[X.OverallCond < 3].shape[0]/X.shape[0]) # 6\n",
    "print(X.loc[X.OverallQual < 3].shape[0]/X.shape[0]) # 5\n",
    "print(X.loc[X.PoolArea > 0].shape[0]/X.shape[0]) # 7"
   ]
  },
  {
   "cell_type": "code",
   "execution_count": null,
   "id": "c8862dd8",
   "metadata": {
    "ExecuteTime": {
     "end_time": "2022-11-20T12:55:42.653821Z",
     "start_time": "2022-11-20T12:55:42.640374Z"
    },
    "hidden": true
   },
   "outputs": [],
   "source": [
    "#corr_heatmap(X)"
   ]
  },
  {
   "cell_type": "code",
   "execution_count": null,
   "id": "8d40bf17",
   "metadata": {
    "ExecuteTime": {
     "end_time": "2022-11-20T12:55:42.669550Z",
     "start_time": "2022-11-20T12:55:42.655816Z"
    },
    "hidden": true,
    "scrolled": true
   },
   "outputs": [],
   "source": [
    "#corr_heatmap(\n",
    "    #X.query(\n",
    "       #'Fireplaces <= 2 & MiscVal <= 3500 & OverallCond >=3 & OverallQual >= 3'\n",
    "    #)\n",
    "#)"
   ]
  },
  {
   "cell_type": "markdown",
   "id": "2bd9d793",
   "metadata": {
    "hidden": true
   },
   "source": [
    "- Only Fireplaces and OverallQual are important ones"
   ]
  },
  {
   "cell_type": "markdown",
   "id": "db32953a",
   "metadata": {
    "heading_collapsed": true
   },
   "source": [
    "### Overview"
   ]
  },
  {
   "cell_type": "markdown",
   "id": "3f36c3ba",
   "metadata": {
    "hidden": true
   },
   "source": [
    "- keep **HalfBath**, **TotRmsAbvGrd**, **YearBuilt**(or new from PCA or LastYearBuilt), **Fireplaces**, **OverallQual**, **GrLivArea**(or new from PCA, or also MasVnrArea, TotalBsmtSF, GarageArea, LotFrontage, LotArea)\n",
    "- create new vars: PorchSF(num), PorchType(cat), WasRennovation(0-1), BsmtFinProp(float, [0, 1]), FloorAreaProp(float, [0,1]) - aka 2ndfloor/1srfloor; the same for porch prop, garage prop, MasVnrArea etc.\n",
    "- continue exploration after PCA"
   ]
  },
  {
   "cell_type": "code",
   "execution_count": null,
   "id": "320216fa",
   "metadata": {
    "ExecuteTime": {
     "end_time": "2022-11-20T12:55:42.685227Z",
     "start_time": "2022-11-20T12:55:42.670541Z"
    },
    "code_folding": [
     0
    ],
    "hidden": true
   },
   "outputs": [],
   "source": [
    "def prepare_data_num(X):\n",
    "    X['MSSubClass'] = X['MSSubClass'].astype(str)\n",
    "    X['PorchSF'] = (X['WoodDeckSF'] + X['OpenPorchSF'] + \n",
    "                    X['EnclosedPorch'] + X['3SsnPorch'] + \n",
    "                    X['ScreenPorch'])\n",
    "    X['PorchType'] = ''\n",
    "    X['IsRennovated'] = np.where(X['YearBuilt'] != X['YearRemodAdd'], 1, 0)\n",
    "    \n",
    "    X['PropMasVnr'] = X['MasVnrArea']/X['LotArea']\n",
    "    X['PropBsmFin1'] = X['BsmtFinSF1']/X['LotArea']\n",
    "    X['PropBsmFin2'] = X['BsmtFinSF2']/X['LotArea']\n",
    "    X['PropBsmUnf'] = X['BsmtUnfSF']/X['LotArea']\n",
    "    \n",
    "    X['Prop2MasVnr'] = X['MasVnrArea']/X['TotalBsmtSF']\n",
    "    X['Prop2BsmFin1'] = X['BsmtFinSF1']/X['TotalBsmtSF']\n",
    "    X['Prop2BsmFin2'] = X['BsmtFinSF2']/X['TotalBsmtSF']\n",
    "    X['Prop2BsmUnf'] = X['BsmtUnfSF']/X['TotalBsmtSF']\n",
    "    \n",
    "    X['GarageLivingRatio'] = X['GarageArea']/X['GrLivArea']\n",
    "    X['PerRoomSF'] = X['GrLivArea']/X['TotRmsAbvGrd']\n",
    "    \n",
    "    X['PropGrLivArea'] = X['GrLivArea']/X['LotArea']\n",
    "    X['PropGarageArea'] = X['GarageArea']/X['LotArea']\n",
    "    X['PropLowQualFin'] = X['LowQualFinSF']/X['LotArea']\n",
    "    X['PropBsmTotal'] = X['TotalBsmtSF']/X['LotArea']\n",
    "    X['PropFloor1'] = X['1stFlrSF']/X['LotArea']\n",
    "    X['PropFloor2'] = X['2ndFlrSF']/X['LotArea']\n",
    "    X['FloorRatio'] = X['2ndFlrSF']/X['1stFlrSF']\n",
    "    X['PropPorch'] = X['PorchSF']/X['LotArea']\n",
    "    # prop 1st floor to second\n",
    "    \n",
    "    cols_to_drop = [\n",
    "        'Id', 'MoSold', 'YrSold', 'PoolArea', 'BsmtFullBath', 'BsmtHalfBath', \n",
    "        'FullBath', 'BedroomAbvGr', 'KitchenAbvGr', 'GarageYrBlt', 'GarageCars'\n",
    "    ]\n",
    "    X.drop(columns=cols_to_drop, inplace=True)\n",
    "    return X"
   ]
  },
  {
   "cell_type": "code",
   "execution_count": null,
   "id": "5657098c",
   "metadata": {
    "ExecuteTime": {
     "end_time": "2022-11-20T12:55:42.700841Z",
     "start_time": "2022-11-20T12:55:42.687207Z"
    },
    "hidden": true
   },
   "outputs": [],
   "source": [
    "X = data.copy()\n",
    "X = prepare_data_num(X)\n",
    "#corr_heatmap(X)"
   ]
  },
  {
   "cell_type": "markdown",
   "id": "aa2cd073",
   "metadata": {
    "hidden": true
   },
   "source": [
    "- generally, proportions describes sale price worser than original sq.ft. variables\n",
    "- floor ratio is better than just floors"
   ]
  },
  {
   "cell_type": "code",
   "execution_count": null,
   "id": "051bf6a1",
   "metadata": {
    "ExecuteTime": {
     "end_time": "2022-11-20T12:55:42.716468Z",
     "start_time": "2022-11-20T12:55:42.701836Z"
    },
    "code_folding": [
     0
    ],
    "hidden": true
   },
   "outputs": [],
   "source": [
    "def prepare_data_num(X):\n",
    "    X['MSSubClass'] = X['MSSubClass'].astype(str)\n",
    "    X['PorchSF'] = (X['WoodDeckSF'] + X['OpenPorchSF'] + \n",
    "                    X['EnclosedPorch'] + X['3SsnPorch'] + \n",
    "                    X['ScreenPorch'])\n",
    "    X['PorchType'] = ''\n",
    "    X['IsRennovated'] = np.where(X['YearBuilt'] != X['YearRemodAdd'], 1, 0)\n",
    "    X['FloorRatio'] = X['2ndFlrSF']/X['1stFlrSF']\n",
    "    #X['PerRoomSF'] = X['GrLivArea']/X['TotRmsAbvGrd']\n",
    "    \n",
    "    cols_to_drop = [\n",
    "        'Id', 'MoSold', 'YrSold', 'PoolArea', 'BsmtFullBath', 'BsmtHalfBath', \n",
    "        'FullBath', 'BedroomAbvGr', 'KitchenAbvGr', 'GarageYrBlt', 'GarageCars',\n",
    "        'WoodDeckSF', 'OpenPorchSF', 'EnclosedPorch', '3SsnPorch', 'ScreenPorch',\n",
    "        'YearRemodAdd', 'TotalBsmtSF', 'MiscVal', '2ndFlrSF', '1stFlrSF'\n",
    "    ]\n",
    "    X.drop(columns=cols_to_drop, inplace=True)\n",
    "    return X"
   ]
  },
  {
   "cell_type": "code",
   "execution_count": null,
   "id": "d5a0f52f",
   "metadata": {
    "ExecuteTime": {
     "end_time": "2022-11-20T12:55:42.732154Z",
     "start_time": "2022-11-20T12:55:42.718458Z"
    },
    "hidden": true
   },
   "outputs": [],
   "source": [
    "X = data.copy()\n",
    "X = prepare_data_num(X)\n",
    "#corr_heatmap(X)"
   ]
  },
  {
   "cell_type": "code",
   "execution_count": null,
   "id": "a5e8106f",
   "metadata": {
    "ExecuteTime": {
     "end_time": "2022-11-20T12:55:42.747861Z",
     "start_time": "2022-11-20T12:55:42.734148Z"
    },
    "hidden": true
   },
   "outputs": [],
   "source": [
    "#tmp = show_basic_plots(X, ['LowQualFinSF', 'BsmtFinSF2', 'MSSubClass'])"
   ]
  },
  {
   "cell_type": "code",
   "execution_count": null,
   "id": "8bbc7a1a",
   "metadata": {
    "ExecuteTime": {
     "end_time": "2022-11-20T12:55:42.763618Z",
     "start_time": "2022-11-20T12:55:42.749850Z"
    },
    "hidden": true
   },
   "outputs": [],
   "source": [
    "#for i in tmp['dist_num']:\n",
    "    #i.show()"
   ]
  },
  {
   "cell_type": "markdown",
   "id": "27dd901b",
   "metadata": {
    "hidden": true
   },
   "source": [
    "- GrLivArea, TotRmsAbvGrd, areas are strongly correlated => use PerRoomSF\n",
    "- IsRennovated, OverallCond, LowQualSF(very rare), BsmtFin2SF(very rare) seems to be unimportant => drop them\n",
    "- Still better use some kind of PCA"
   ]
  },
  {
   "cell_type": "markdown",
   "id": "f06b013e",
   "metadata": {
    "heading_collapsed": true
   },
   "source": [
    "## Categorical"
   ]
  },
  {
   "cell_type": "markdown",
   "id": "a3f76c6a",
   "metadata": {
    "heading_collapsed": true,
    "hidden": true
   },
   "source": [
    "### House placement"
   ]
  },
  {
   "cell_type": "code",
   "execution_count": null,
   "id": "cc2dd380",
   "metadata": {
    "ExecuteTime": {
     "end_time": "2022-11-20T12:55:42.779135Z",
     "start_time": "2022-11-20T12:55:42.765599Z"
    },
    "hidden": true
   },
   "outputs": [],
   "source": [
    "cols_to_dummy = ['MSZoning', 'Neighborhood', 'Condition1', 'Condition2']\n",
    "X = data.copy()\n",
    "X = X.loc[:, cols_to_dummy+['SalePrice']]"
   ]
  },
  {
   "cell_type": "markdown",
   "id": "0ebfa76c",
   "metadata": {
    "heading_collapsed": true,
    "hidden": true
   },
   "source": [
    "#### MSZoning"
   ]
  },
  {
   "cell_type": "code",
   "execution_count": null,
   "id": "82089d48",
   "metadata": {
    "ExecuteTime": {
     "end_time": "2022-11-20T12:55:42.794958Z",
     "start_time": "2022-11-20T12:55:42.781133Z"
    },
    "hidden": true,
    "scrolled": true
   },
   "outputs": [],
   "source": [
    "tmp_cols_to_dummy = ['MSZoning']\n",
    "tmp = X.loc[:, ['SalePrice']+tmp_cols_to_dummy]\n",
    "#show_violin(tmp)\n",
    "#show_dummy_corr(tmp)\n",
    "#show_dist_cat(tmp)"
   ]
  },
  {
   "cell_type": "code",
   "execution_count": null,
   "id": "264f22ad",
   "metadata": {
    "ExecuteTime": {
     "end_time": "2022-11-20T12:55:42.810550Z",
     "start_time": "2022-11-20T12:55:42.796945Z"
    },
    "hidden": true
   },
   "outputs": [],
   "source": [
    "tmp['MSZoning'] = tmp.MSZoning.replace({'RH':'RM', 'FV':'RL', 'C (all)': 'RM'})\n",
    "tmp['IsLowDensityArea'] = np.where(tmp['MSZoning'] == 'RL', 1, 0)"
   ]
  },
  {
   "cell_type": "markdown",
   "id": "5f2fd028",
   "metadata": {
    "heading_collapsed": true,
    "hidden": true
   },
   "source": [
    "#### NeighborHood"
   ]
  },
  {
   "cell_type": "code",
   "execution_count": null,
   "id": "4db2579f",
   "metadata": {
    "ExecuteTime": {
     "end_time": "2022-11-20T12:55:42.826303Z",
     "start_time": "2022-11-20T12:55:42.812539Z"
    },
    "hidden": true
   },
   "outputs": [],
   "source": [
    "tmp_cols_to_dummy = ['Neighborhood']\n",
    "tmp = X.loc[:, ['SalePrice']+tmp_cols_to_dummy]\n",
    "#show_dummy_corr(tmp)\n",
    "#show_dist_cat(tmp)\n",
    "#show_violin(tmp)"
   ]
  },
  {
   "cell_type": "markdown",
   "id": "d6e51d36",
   "metadata": {
    "hidden": true
   },
   "source": [
    "- unite MeadowV, BrGale, IDOTRR\n",
    "- unite OldTown, Sawyer, BrkSide, Edwards\n",
    "- unite Blueste, NPkVill, NAmes, Mitchel, SWISU\n",
    "- unite SawyerW, Blmngtn, Gilbert, NWAmes\n",
    "- unite CrawFor, CollgCr, ClearCr\n",
    "- unite Somerst, Timber, Venkeer, \n",
    "- unite NridgHt, StoneBr, NoRidge"
   ]
  },
  {
   "cell_type": "code",
   "execution_count": null,
   "id": "d16eed46",
   "metadata": {
    "ExecuteTime": {
     "end_time": "2022-11-20T12:55:42.842308Z",
     "start_time": "2022-11-20T12:55:42.827310Z"
    },
    "hidden": true
   },
   "outputs": [],
   "source": [
    "tmp_cols_to_dummy = ['Neighborhood']\n",
    "tmp = X.loc[:, ['SalePrice']+tmp_cols_to_dummy]\n",
    "tmp['Neighborhood'] = tmp.Neighborhood.replace(\n",
    "    {'MeadowV':'C1', 'BrDale':'C1', 'IDOTRR':'C1',\n",
    "     'Edwards':'C2', 'OldTown': 'C2', 'Sawyer':'C2', 'BrkSide':'C2',\n",
    "     'Blueste':'C3', 'NPkVill':'C3', 'Mitchel':'C3', 'SWISU':'C3', 'NAmes':'C3',\n",
    "     'SawyerW':'C4', 'Blmngtn':'C4', 'Gilbert':'C4', 'NWAmes':'C4',\n",
    "     'Somerst':'C5', 'Timber':'C5', 'Veenker':'C5',\n",
    "     'Crawfor':'C6', 'CollgCr':'C6', 'ClearCr':'C6',\n",
    "     'NridgHt': 'C7', 'StoneBr': 'C7', 'NoRidge': 'C7'\n",
    "    }\n",
    ")\n",
    "#show_dummy_corr(tmp)\n",
    "#show_dist_cat(tmp)\n",
    "#show_violin(tmp)"
   ]
  },
  {
   "cell_type": "markdown",
   "id": "93475588",
   "metadata": {
    "hidden": true
   },
   "source": [
    "- unite C6, C5\n",
    "- unite C2, C3"
   ]
  },
  {
   "cell_type": "code",
   "execution_count": null,
   "id": "c7f123ba",
   "metadata": {
    "ExecuteTime": {
     "end_time": "2022-11-20T12:55:42.858319Z",
     "start_time": "2022-11-20T12:55:42.843300Z"
    },
    "hidden": true
   },
   "outputs": [],
   "source": [
    "tmp_cols_to_dummy = ['Neighborhood']\n",
    "tmp = X.loc[:, ['SalePrice']+tmp_cols_to_dummy]\n",
    "tmp['Neighborhood'] = tmp.Neighborhood.replace(\n",
    "    {'MeadowV':'C1', 'BrDale':'C1', 'IDOTRR':'C1',\n",
    "     'Edwards':'C2', 'OldTown': 'C2', 'Sawyer':'C2', 'BrkSide':'C2',\n",
    "     'Blueste':'C2', 'NPkVill':'C2', 'Mitchel':'C2', 'SWISU':'C2', 'NAmes':'C2',\n",
    "     'SawyerW':'C3', 'Blmngtn':'C3', 'Gilbert':'C3', 'NWAmes':'C3',\n",
    "     'Somerst':'C4', 'Timber':'C4', 'Veenker':'C4', 'Crawfor':'C4', 'CollgCr':'C4', 'ClearCr':'C4',\n",
    "     'NridgHt': 'C5', 'StoneBr': 'C5', 'NoRidge': 'C5'\n",
    "    }\n",
    ")\n",
    "#show_dummy_corr(tmp)\n",
    "#show_dist_cat(tmp)\n",
    "#show_violin(tmp)"
   ]
  },
  {
   "cell_type": "markdown",
   "id": "3026f439",
   "metadata": {
    "heading_collapsed": true,
    "hidden": true
   },
   "source": [
    "#### Condition"
   ]
  },
  {
   "cell_type": "code",
   "execution_count": null,
   "id": "704effc9",
   "metadata": {
    "ExecuteTime": {
     "end_time": "2022-11-20T12:55:42.874307Z",
     "start_time": "2022-11-20T12:55:42.859303Z"
    },
    "hidden": true
   },
   "outputs": [],
   "source": [
    "tmp_cols_to_dummy = ['Condition1']\n",
    "tmp = X.loc[:, ['SalePrice']+tmp_cols_to_dummy]\n",
    "#show_dummy_corr(tmp)\n",
    "#show_dist_cat(tmp)\n",
    "#show_violin(tmp)"
   ]
  },
  {
   "cell_type": "markdown",
   "id": "6e839f60",
   "metadata": {
    "hidden": true
   },
   "source": [
    "- unite PosA, PosN, Norm, RRNe, RRAn, RRNn\n",
    "- unite Feedr, Artery, RRAe"
   ]
  },
  {
   "cell_type": "code",
   "execution_count": null,
   "id": "186047f8",
   "metadata": {
    "ExecuteTime": {
     "end_time": "2022-11-20T12:55:42.890325Z",
     "start_time": "2022-11-20T12:55:42.876307Z"
    },
    "hidden": true
   },
   "outputs": [],
   "source": [
    "tmp_cols_to_dummy = ['Condition1']\n",
    "tmp = X.loc[:, ['SalePrice']+tmp_cols_to_dummy]\n",
    "tmp['Condition1'] = tmp['Condition1'].replace(\n",
    "    {'PosA': 'C1', 'PosN': 'C1', 'RRAn':'C1', 'RRNe': 'C1', 'RRNn': 'C1', 'Norm': 'C1',\n",
    "     'Feedr':'C2', 'Artery':'C2', 'RRAe':'C2'\n",
    "    }\n",
    ")\n",
    "tmp = tmp.loc[tmp.SalePrice < 475000, :]\n",
    "#show_dummy_corr(tmp)\n",
    "#show_dist_cat(tmp)\n",
    "#show_violin(tmp)"
   ]
  },
  {
   "cell_type": "markdown",
   "id": "d336a491",
   "metadata": {
    "heading_collapsed": true,
    "hidden": true
   },
   "source": [
    "### House land"
   ]
  },
  {
   "cell_type": "code",
   "execution_count": null,
   "id": "d5e1db43",
   "metadata": {
    "ExecuteTime": {
     "end_time": "2022-11-20T12:55:42.906772Z",
     "start_time": "2022-11-20T12:55:42.892318Z"
    },
    "hidden": true
   },
   "outputs": [],
   "source": [
    "cols_to_dummy = ['Street', 'Alley', 'LotShape', 'LandContour',\n",
    "                 'LotConfig', 'LandSlope', 'PavedDrive']\n",
    "X = data.copy()\n",
    "X = X.loc[:, cols_to_dummy+['SalePrice']]"
   ]
  },
  {
   "cell_type": "code",
   "execution_count": null,
   "id": "4f8b7aea",
   "metadata": {
    "ExecuteTime": {
     "end_time": "2022-11-20T12:55:42.921677Z",
     "start_time": "2022-11-20T12:55:42.908662Z"
    },
    "hidden": true
   },
   "outputs": [],
   "source": [
    "print(X.Street.isnull().sum())\n",
    "print(X.Street.unique())"
   ]
  },
  {
   "cell_type": "markdown",
   "id": "a99e92c8",
   "metadata": {
    "hidden": true
   },
   "source": [
    "- For sure drop Street"
   ]
  },
  {
   "cell_type": "markdown",
   "id": "2fef48ec",
   "metadata": {
    "hidden": true
   },
   "source": [
    "#### Alley"
   ]
  },
  {
   "cell_type": "code",
   "execution_count": null,
   "id": "661c21fb",
   "metadata": {
    "ExecuteTime": {
     "end_time": "2022-11-20T12:55:42.937132Z",
     "start_time": "2022-11-20T12:55:42.923817Z"
    },
    "hidden": true
   },
   "outputs": [],
   "source": [
    "X.Alley.isnull().sum()"
   ]
  },
  {
   "cell_type": "code",
   "execution_count": null,
   "id": "ed362c68",
   "metadata": {
    "ExecuteTime": {
     "end_time": "2022-11-20T12:55:42.952831Z",
     "start_time": "2022-11-20T12:55:42.938115Z"
    },
    "hidden": true
   },
   "outputs": [],
   "source": [
    "tmp_cols_to_dummy = ['Alley']\n",
    "tmp = X.loc[:, ['SalePrice']+tmp_cols_to_dummy]\n",
    "tmp['Alley'] = tmp.Alley.fillna('Absent')\n",
    "#show_violin(tmp)\n",
    "#show_dummy_corr(tmp)\n",
    "#show_dist_cat(tmp)"
   ]
  },
  {
   "cell_type": "markdown",
   "id": "754c195a",
   "metadata": {
    "hidden": true
   },
   "source": [
    "- Unite Pave and Absent"
   ]
  },
  {
   "cell_type": "code",
   "execution_count": null,
   "id": "adf14178",
   "metadata": {
    "ExecuteTime": {
     "end_time": "2022-11-20T12:55:42.968503Z",
     "start_time": "2022-11-20T12:55:42.954812Z"
    },
    "hidden": true
   },
   "outputs": [],
   "source": [
    "tmp = X.loc[:, ['SalePrice']+tmp_cols_to_dummy]\n",
    "tmp['Alley'] = tmp.Alley.fillna('Pave')\n",
    "tmp['IsAlleyGravel'] = np.where(tmp['Alley'] == 'Pave', 0, 1)\n",
    "tmp.drop(columns=['Alley'], inplace=True)"
   ]
  },
  {
   "cell_type": "code",
   "execution_count": null,
   "id": "e26acb4b",
   "metadata": {
    "ExecuteTime": {
     "end_time": "2022-11-20T12:55:42.984034Z",
     "start_time": "2022-11-20T12:55:42.970494Z"
    },
    "hidden": true
   },
   "outputs": [],
   "source": [
    "#corr_heatmap(tmp)"
   ]
  },
  {
   "cell_type": "markdown",
   "id": "3df311de",
   "metadata": {
    "hidden": true
   },
   "source": [
    "- Recode Alley into IsAlleyGravel: 2 categories"
   ]
  },
  {
   "cell_type": "markdown",
   "id": "09fff3c6",
   "metadata": {
    "hidden": true
   },
   "source": [
    "#### LotShape"
   ]
  },
  {
   "cell_type": "code",
   "execution_count": null,
   "id": "44546737",
   "metadata": {
    "ExecuteTime": {
     "end_time": "2022-11-20T12:55:42.999945Z",
     "start_time": "2022-11-20T12:55:42.986015Z"
    },
    "hidden": true
   },
   "outputs": [],
   "source": [
    "tmp_cols_to_dummy = ['LotShape']\n",
    "tmp = X.loc[:, ['SalePrice']+tmp_cols_to_dummy]\n",
    "tmp = tmp.loc[tmp.SalePrice < 475000, :]\n",
    "#show_violin(tmp)\n",
    "#show_dummy_corr(tmp)\n",
    "#show_dist_cat(tmp)"
   ]
  },
  {
   "cell_type": "markdown",
   "id": "5c5e29f9",
   "metadata": {
    "hidden": true
   },
   "source": [
    "- Recode as IsShapeReg"
   ]
  },
  {
   "cell_type": "markdown",
   "id": "6a03bb9d",
   "metadata": {
    "hidden": true
   },
   "source": [
    "#### LandContour"
   ]
  },
  {
   "cell_type": "code",
   "execution_count": null,
   "id": "03e3c1b1",
   "metadata": {
    "ExecuteTime": {
     "end_time": "2022-11-20T12:55:43.015552Z",
     "start_time": "2022-11-20T12:55:43.001925Z"
    },
    "hidden": true
   },
   "outputs": [],
   "source": [
    "tmp_cols_to_dummy = ['LandContour']\n",
    "tmp = X.loc[:, ['SalePrice']+tmp_cols_to_dummy]\n",
    "tmp = tmp.loc[tmp.SalePrice < 475000, :]\n",
    "#show_violin(tmp)\n",
    "#show_dummy_corr(tmp)\n",
    "#show_dist_cat(tmp)"
   ]
  },
  {
   "cell_type": "markdown",
   "id": "a4690c0a",
   "metadata": {
    "hidden": true
   },
   "source": [
    "- unite Lvl, Bnk\n",
    "- unite Low, HLS"
   ]
  },
  {
   "cell_type": "code",
   "execution_count": null,
   "id": "2597ca42",
   "metadata": {
    "ExecuteTime": {
     "end_time": "2022-11-20T12:55:43.062553Z",
     "start_time": "2022-11-20T12:55:43.017548Z"
    },
    "hidden": true
   },
   "outputs": [],
   "source": [
    "tmp_cols_to_dummy = ['LandContour']\n",
    "tmp = X.loc[:, ['SalePrice']+tmp_cols_to_dummy]\n",
    "tmp['LandContour'] = tmp['LandContour'].replace(\n",
    "    {'Lvl': 'Norm', 'Bnk': 'Norm',\n",
    "    'Low': 'Ir', 'HLS': 'Ir'}\n",
    ")\n",
    "tmp['IsLandFlat'] = np.where(tmp['LandContour'] == 'Ir', 0, 1)\n",
    "tmp = tmp.loc[tmp.SalePrice < 475000, :]\n",
    "#show_violin(tmp)\n",
    "corr_heatmap(tmp)"
   ]
  },
  {
   "cell_type": "markdown",
   "id": "efd81856",
   "metadata": {
    "hidden": true
   },
   "source": [
    "#### LotConfig"
   ]
  },
  {
   "cell_type": "code",
   "execution_count": null,
   "id": "edc14f13",
   "metadata": {
    "ExecuteTime": {
     "end_time": "2022-11-20T12:55:43.078123Z",
     "start_time": "2022-11-20T12:55:43.064537Z"
    },
    "hidden": true
   },
   "outputs": [],
   "source": [
    "tmp_cols_to_dummy = ['LotConfig']\n",
    "tmp = X.loc[:, ['SalePrice']+tmp_cols_to_dummy]\n",
    "tmp = tmp.loc[tmp.SalePrice < 475000, :]\n",
    "#show_violin(tmp)\n",
    "#show_dummy_corr(tmp)\n",
    "#show_dist_cat(tmp)"
   ]
  },
  {
   "cell_type": "markdown",
   "id": "fa5876ed",
   "metadata": {
    "hidden": true
   },
   "source": [
    "- unite CulDSac, FR3\n",
    "- unite Inside, FR2, Corner"
   ]
  },
  {
   "cell_type": "code",
   "execution_count": null,
   "id": "5dca232e",
   "metadata": {
    "ExecuteTime": {
     "end_time": "2022-11-20T12:55:43.093901Z",
     "start_time": "2022-11-20T12:55:43.080114Z"
    },
    "hidden": true
   },
   "outputs": [],
   "source": [
    "tmp_cols_to_dummy = ['LotConfig']\n",
    "tmp = X.loc[:, ['SalePrice']+tmp_cols_to_dummy]\n",
    "tmp['LotConfig'] = tmp['LotConfig'].replace(\n",
    "    {'Inside': 'Norm', 'FR2': 'Norm', 'Corner': 'Norm',\n",
    "    'CulDSac': 'Ir', 'FR3': 'Ir'}\n",
    ")\n",
    "tmp['IsNarrow'] = np.where(tmp['LotConfig'] == 'Ir', 0, 1)\n",
    "tmp = tmp.loc[tmp.SalePrice < 475000, :]\n",
    "#corr_heatmap(tmp)"
   ]
  },
  {
   "cell_type": "markdown",
   "id": "bc86eb22",
   "metadata": {
    "hidden": true
   },
   "source": [
    "#### LandSlope"
   ]
  },
  {
   "cell_type": "code",
   "execution_count": null,
   "id": "f51e4ef3",
   "metadata": {
    "ExecuteTime": {
     "end_time": "2022-11-20T12:55:43.108542Z",
     "start_time": "2022-11-20T12:55:43.095901Z"
    },
    "hidden": true
   },
   "outputs": [],
   "source": [
    "tmp_cols_to_dummy = ['LandSlope']\n",
    "tmp = X.loc[:, ['SalePrice']+tmp_cols_to_dummy]\n",
    "tmp = tmp.loc[tmp.SalePrice < 475000, :]\n",
    "#show_violin(tmp)\n",
    "#show_dummy_corr(tmp)\n",
    "#show_dist_cat(tmp)"
   ]
  },
  {
   "cell_type": "markdown",
   "id": "454cd562",
   "metadata": {
    "hidden": true
   },
   "source": [
    "- Recode as 0-1"
   ]
  },
  {
   "cell_type": "code",
   "execution_count": null,
   "id": "746acbc5",
   "metadata": {
    "ExecuteTime": {
     "end_time": "2022-11-20T12:55:43.123712Z",
     "start_time": "2022-11-20T12:55:43.109542Z"
    },
    "hidden": true
   },
   "outputs": [],
   "source": [
    "tmp_cols_to_dummy = ['LandSlope']\n",
    "tmp = X.loc[:, ['SalePrice']+tmp_cols_to_dummy]\n",
    "tmp['IsSlope'] = np.where((tmp['LandSlope'] == 'Mod') | (tmp['LandSlope'] == 'Sev'), 1, 0)\n",
    "tmp = tmp.loc[tmp.SalePrice < 475000, :]\n",
    "#corr_heatmap(tmp)"
   ]
  },
  {
   "cell_type": "markdown",
   "id": "0ffa316e",
   "metadata": {
    "hidden": true
   },
   "source": [
    "- rather not significant"
   ]
  },
  {
   "cell_type": "markdown",
   "id": "e4e2961b",
   "metadata": {
    "hidden": true
   },
   "source": [
    "#### PavedDrive"
   ]
  },
  {
   "cell_type": "code",
   "execution_count": null,
   "id": "2925803e",
   "metadata": {
    "ExecuteTime": {
     "end_time": "2022-11-20T12:55:43.139247Z",
     "start_time": "2022-11-20T12:55:43.125225Z"
    },
    "hidden": true
   },
   "outputs": [],
   "source": [
    "tmp_cols_to_dummy = ['PavedDrive']\n",
    "tmp = X.loc[:, ['SalePrice']+tmp_cols_to_dummy]\n",
    "tmp = tmp.loc[tmp.SalePrice < 475000, :]\n",
    "#show_violin(tmp)\n",
    "#show_dummy_corr(tmp)\n",
    "#show_dist_cat(tmp)"
   ]
  },
  {
   "cell_type": "markdown",
   "id": "bb90a0ef",
   "metadata": {
    "hidden": true
   },
   "source": [
    "- recode as 0-1"
   ]
  },
  {
   "cell_type": "code",
   "execution_count": null,
   "id": "de0692f6",
   "metadata": {
    "ExecuteTime": {
     "end_time": "2022-11-20T12:55:43.154909Z",
     "start_time": "2022-11-20T12:55:43.141887Z"
    },
    "hidden": true
   },
   "outputs": [],
   "source": [
    "tmp_cols_to_dummy = ['PavedDrive']\n",
    "tmp = X.loc[:, ['SalePrice']+tmp_cols_to_dummy]\n",
    "tmp['IsPaved'] = np.where((tmp['PavedDrive'] == 'N') | (tmp['PavedDrive'] == 'P'), 0, 1)\n",
    "\n",
    "tmp = tmp.loc[tmp.SalePrice < 475000, :]\n",
    "#corr_heatmap(tmp)"
   ]
  },
  {
   "cell_type": "markdown",
   "id": "0d6ec390",
   "metadata": {
    "heading_collapsed": true,
    "hidden": true
   },
   "source": [
    "### Exterior"
   ]
  },
  {
   "cell_type": "code",
   "execution_count": null,
   "id": "48e1349e",
   "metadata": {
    "ExecuteTime": {
     "end_time": "2022-11-20T12:55:43.170539Z",
     "start_time": "2022-11-20T12:55:43.156928Z"
    },
    "hidden": true
   },
   "outputs": [],
   "source": [
    "cols_to_dummy = ['MSSubClass', 'BldgType', 'HouseStyle', 'RoofStyle', 'RoofMatl', 'Exterior1st',\n",
    "                 'Exterior2nd', 'MasVnrType', 'ExterQual', 'ExterCond']\n",
    "X = data.copy()\n",
    "X = X.loc[:, cols_to_dummy+['SalePrice']]\n",
    "X['MSSubClass'] = X['MSSubClass'].astype(str)"
   ]
  },
  {
   "cell_type": "markdown",
   "id": "258ad8ba",
   "metadata": {
    "heading_collapsed": true,
    "hidden": true
   },
   "source": [
    "#### MSSubClass"
   ]
  },
  {
   "cell_type": "code",
   "execution_count": null,
   "id": "05329759",
   "metadata": {
    "ExecuteTime": {
     "end_time": "2022-11-20T12:55:43.186198Z",
     "start_time": "2022-11-20T12:55:43.178193Z"
    },
    "hidden": true
   },
   "outputs": [],
   "source": [
    "tmp_cols_to_dummy = ['MSSubClass']\n",
    "tmp = X.loc[:, ['SalePrice']+tmp_cols_to_dummy]\n",
    "tmp = tmp.loc[tmp.SalePrice < 475000, :]\n",
    "#show_violin(tmp)\n",
    "#show_dummy_corr(tmp)\n",
    "#show_dist_cat(tmp)"
   ]
  },
  {
   "cell_type": "markdown",
   "id": "a421a3e3",
   "metadata": {
    "hidden": true
   },
   "source": [
    "- seems like could be explained from year built/number of floors\n",
    "- unite 50, 190\n",
    "- unite 20, 70, 75, 80\n",
    "- unite 90, 85, 160, 40\n",
    "- unite 45, 30, 180\n",
    "- unite 60, 120 (?)"
   ]
  },
  {
   "cell_type": "code",
   "execution_count": null,
   "id": "c23165cc",
   "metadata": {
    "ExecuteTime": {
     "end_time": "2022-11-20T12:55:43.201901Z",
     "start_time": "2022-11-20T12:55:43.188180Z"
    },
    "hidden": true
   },
   "outputs": [],
   "source": [
    "tmp_cols_to_dummy = ['MSSubClass']\n",
    "tmp = X.loc[:, ['SalePrice']+tmp_cols_to_dummy]\n",
    "tmp['MSSubClass'] = tmp['MSSubClass'].replace(\n",
    "    {\n",
    "     '20': 'C2', '70': 'C2', '75': 'C2', '80': 'C2',\n",
    "     '90': 'C4', '85': 'C4', '40': 'C4', '160': 'C4', '50': 'C4', '190': 'C4',\n",
    "     '45': 'C3', '30': 'C3', '180': 'C3',\n",
    "     '60': 'C1', '120': 'C1',\n",
    "    }\n",
    ")\n",
    "tmp = tmp.loc[tmp.SalePrice < 475000, :]\n",
    "#show_violin(tmp)\n",
    "#show_dummy_corr(tmp)\n",
    "#show_dist_cat(tmp)"
   ]
  },
  {
   "cell_type": "markdown",
   "id": "4adfb606",
   "metadata": {
    "heading_collapsed": true,
    "hidden": true
   },
   "source": [
    "#### BldgType"
   ]
  },
  {
   "cell_type": "code",
   "execution_count": null,
   "id": "bf5f1d8a",
   "metadata": {
    "ExecuteTime": {
     "end_time": "2022-11-20T12:55:43.217547Z",
     "start_time": "2022-11-20T12:55:43.202895Z"
    },
    "hidden": true,
    "scrolled": true
   },
   "outputs": [],
   "source": [
    "tmp_cols_to_dummy = ['BldgType']\n",
    "tmp = X.loc[:, ['SalePrice']+tmp_cols_to_dummy]\n",
    "tmp = tmp.loc[tmp.SalePrice < 475000, :]\n",
    "#show_violin(tmp)\n",
    "#show_dummy_corr(tmp)\n",
    "#show_dist_cat(tmp)"
   ]
  },
  {
   "cell_type": "markdown",
   "id": "5ddd21c0",
   "metadata": {
    "hidden": true
   },
   "source": [
    "- unite 1Fam, TwnhsE\n",
    "- unite 2fmCon, Duplex"
   ]
  },
  {
   "cell_type": "code",
   "execution_count": null,
   "id": "55b43711",
   "metadata": {
    "ExecuteTime": {
     "end_time": "2022-11-20T12:55:43.233208Z",
     "start_time": "2022-11-20T12:55:43.219529Z"
    },
    "hidden": true
   },
   "outputs": [],
   "source": [
    "tmp_cols_to_dummy = ['BldgType']\n",
    "tmp = X.loc[:, ['SalePrice']+tmp_cols_to_dummy]\n",
    "tmp['BldgType'] = tmp['BldgType'].replace(\n",
    "    {'1Fam': 'C1', 'TwnhsE': 'C1',\n",
    "     'Twnhs': 'C2', 'Duplex': 'C2'\n",
    "    }\n",
    ")\n",
    "tmp = tmp.loc[tmp.SalePrice < 475000, :]\n",
    "#show_violin(tmp)\n",
    "#show_dummy_corr(tmp)\n",
    "#show_dist_cat(tmp)"
   ]
  },
  {
   "cell_type": "markdown",
   "id": "2f7ce1b6",
   "metadata": {
    "hidden": true
   },
   "source": [
    "- better as 0-1:"
   ]
  },
  {
   "cell_type": "code",
   "execution_count": null,
   "id": "40c1c79a",
   "metadata": {
    "ExecuteTime": {
     "end_time": "2022-11-20T12:55:43.280215Z",
     "start_time": "2022-11-20T12:55:43.235193Z"
    },
    "hidden": true
   },
   "outputs": [],
   "source": [
    "tmp_cols_to_dummy = ['BldgType']\n",
    "tmp = X.loc[:, ['SalePrice']+tmp_cols_to_dummy]\n",
    "tmp['IsOneFamily'] = np.where(tmp['BldgType'] == '1Fam', 1, 0)\n",
    "tmp = tmp.loc[tmp.SalePrice < 475000, :]\n",
    "corr_heatmap(tmp)"
   ]
  },
  {
   "cell_type": "markdown",
   "id": "4dcc5bd8",
   "metadata": {
    "heading_collapsed": true,
    "hidden": true
   },
   "source": [
    "#### HouseStyle"
   ]
  },
  {
   "cell_type": "code",
   "execution_count": null,
   "id": "fb40fb01",
   "metadata": {
    "ExecuteTime": {
     "end_time": "2022-11-20T12:55:43.296229Z",
     "start_time": "2022-11-20T12:55:43.282207Z"
    },
    "hidden": true
   },
   "outputs": [],
   "source": [
    "tmp_cols_to_dummy = ['HouseStyle']\n",
    "tmp = X.loc[:, ['SalePrice']+tmp_cols_to_dummy]\n",
    "tmp = tmp.loc[tmp.SalePrice < 475000, :]\n",
    "#show_violin(tmp)\n",
    "#show_dummy_corr(tmp)\n",
    "#show_dist_cat(tmp)"
   ]
  },
  {
   "cell_type": "code",
   "execution_count": null,
   "id": "d2cf5fc5",
   "metadata": {
    "ExecuteTime": {
     "end_time": "2022-11-20T12:55:43.312226Z",
     "start_time": "2022-11-20T12:55:43.297226Z"
    },
    "hidden": true
   },
   "outputs": [],
   "source": [
    "tmp_cols_to_dummy = ['HouseStyle']\n",
    "tmp = X.loc[:, ['SalePrice']+tmp_cols_to_dummy]\n",
    "tmp['HouseStyle'] = tmp['HouseStyle'].replace(\n",
    "    {'SFoyer': '1', 'SLvl': '1', '1Story': '1',\n",
    "     '1.5Fin': '1.5', '1.5Unf': '1.5',\n",
    "     '2Story': '2',\n",
    "     '2.5Fin': '2.5', '2.5Unf': '2.5',\n",
    "    }\n",
    ")\n",
    "tmp = tmp.loc[tmp.SalePrice < 475000, :]\n",
    "#show_violin(tmp)\n",
    "#show_dummy_corr(tmp)"
   ]
  },
  {
   "cell_type": "markdown",
   "id": "07123f34",
   "metadata": {
    "hidden": true
   },
   "source": [
    "- better recode as 0-1"
   ]
  },
  {
   "cell_type": "code",
   "execution_count": null,
   "id": "c0d63a1d",
   "metadata": {
    "ExecuteTime": {
     "end_time": "2022-11-20T12:55:43.359233Z",
     "start_time": "2022-11-20T12:55:43.314214Z"
    },
    "hidden": true
   },
   "outputs": [],
   "source": [
    "tmp_cols_to_dummy = ['HouseStyle']\n",
    "tmp = X.loc[:, ['SalePrice']+tmp_cols_to_dummy]\n",
    "tmp['IsOneFloor'] = tmp['HouseStyle'].replace(\n",
    "    {'SFoyer': '1', 'SLvl': '1', '1Story': '1',\n",
    "     '1.5Fin': '1', '1.5Unf': '1',\n",
    "     '2Story': '0', '2.5Fin': '0', '2.5Unf': '0',\n",
    "    }\n",
    ").astype(np.int64)\n",
    "\n",
    "tmp = tmp.loc[tmp.SalePrice < 475000, :]\n",
    "corr_heatmap(tmp)"
   ]
  },
  {
   "cell_type": "markdown",
   "id": "d11406e6",
   "metadata": {
    "heading_collapsed": true,
    "hidden": true
   },
   "source": [
    "#### RoofStyle"
   ]
  },
  {
   "cell_type": "code",
   "execution_count": null,
   "id": "bace637b",
   "metadata": {
    "ExecuteTime": {
     "end_time": "2022-11-20T12:55:43.374232Z",
     "start_time": "2022-11-20T12:55:43.360225Z"
    },
    "hidden": true
   },
   "outputs": [],
   "source": [
    "tmp_cols_to_dummy = ['RoofStyle']\n",
    "tmp = X.loc[:, ['SalePrice']+tmp_cols_to_dummy]\n",
    "tmp = tmp.loc[tmp.SalePrice < 475000, :]\n",
    "#show_violin(tmp)\n",
    "#show_dummy_corr(tmp)\n",
    "#show_dist_cat(tmp)"
   ]
  },
  {
   "cell_type": "markdown",
   "id": "428b1cfc",
   "metadata": {
    "hidden": true
   },
   "source": [
    "- recode into Gable, Hip, other"
   ]
  },
  {
   "cell_type": "code",
   "execution_count": null,
   "id": "50222fbe",
   "metadata": {
    "ExecuteTime": {
     "end_time": "2022-11-20T12:55:43.390244Z",
     "start_time": "2022-11-20T12:55:43.375228Z"
    },
    "hidden": true
   },
   "outputs": [],
   "source": [
    "tmp_cols_to_dummy = ['RoofStyle']\n",
    "tmp = X.loc[:, ['SalePrice']+tmp_cols_to_dummy]\n",
    "tmp['RoofStyle'] = np.where((tmp['RoofStyle'] != 'Gable') & (tmp['RoofStyle'] != 'Hip'),\n",
    "                            'Other',\n",
    "                            tmp['RoofStyle'])\n",
    "tmp = tmp.loc[tmp.SalePrice < 475000, :]\n",
    "#show_violin(tmp)\n",
    "#show_dummy_corr(tmp)"
   ]
  },
  {
   "cell_type": "markdown",
   "id": "64fbb764",
   "metadata": {
    "hidden": true
   },
   "source": [
    "- better isGable"
   ]
  },
  {
   "cell_type": "code",
   "execution_count": null,
   "id": "0f022a47",
   "metadata": {
    "ExecuteTime": {
     "end_time": "2022-11-20T12:55:43.406238Z",
     "start_time": "2022-11-20T12:55:43.392232Z"
    },
    "hidden": true
   },
   "outputs": [],
   "source": [
    "tmp_cols_to_dummy = ['RoofStyle']\n",
    "tmp = X.loc[:, ['SalePrice']+tmp_cols_to_dummy]\n",
    "tmp['IsRoofGable'] = np.where(tmp['RoofStyle'] == 'Gable', 1, 0)\n",
    "tmp = tmp.loc[tmp.SalePrice < 475000, :]\n",
    "#corr_heatmap(tmp)"
   ]
  },
  {
   "cell_type": "markdown",
   "id": "ba3fcbdd",
   "metadata": {
    "heading_collapsed": true,
    "hidden": true
   },
   "source": [
    "#### RoofMatl"
   ]
  },
  {
   "cell_type": "code",
   "execution_count": null,
   "id": "a5cde9ad",
   "metadata": {
    "ExecuteTime": {
     "end_time": "2022-11-20T12:55:43.421537Z",
     "start_time": "2022-11-20T12:55:43.408528Z"
    },
    "hidden": true
   },
   "outputs": [],
   "source": [
    "tmp_cols_to_dummy = ['RoofMatl']\n",
    "tmp = X.loc[:, ['SalePrice']+tmp_cols_to_dummy]\n",
    "tmp = tmp.loc[tmp.SalePrice < 475000, :]\n",
    "#show_violin(tmp)\n",
    "#show_dummy_corr(tmp)\n",
    "#show_dist_cat(tmp)"
   ]
  },
  {
   "cell_type": "markdown",
   "id": "83d469fb",
   "metadata": {
    "hidden": true
   },
   "source": [
    "- see, most of the roofs are Standard(Composite) shingle"
   ]
  },
  {
   "cell_type": "markdown",
   "id": "d3c2e665",
   "metadata": {
    "heading_collapsed": true,
    "hidden": true
   },
   "source": [
    "#### Exterior"
   ]
  },
  {
   "cell_type": "code",
   "execution_count": null,
   "id": "9c4375e9",
   "metadata": {
    "ExecuteTime": {
     "end_time": "2022-11-20T12:55:43.437120Z",
     "start_time": "2022-11-20T12:55:43.422536Z"
    },
    "hidden": true
   },
   "outputs": [],
   "source": [
    "tmp_cols_to_dummy = ['Exterior1st']\n",
    "tmp = X.loc[:, ['SalePrice']+tmp_cols_to_dummy]\n",
    "tmp = tmp.loc[tmp.SalePrice < 475000, :]\n",
    "#show_violin(tmp)\n",
    "#show_dummy_corr(tmp)\n",
    "#show_dist_cat(tmp)"
   ]
  },
  {
   "cell_type": "markdown",
   "id": "20ebfdc2",
   "metadata": {
    "hidden": true
   },
   "source": [
    "- unite BrkFace, BrkComm\n",
    "- unite AsphShn, AsbShng, ImStucc, Stucco\n",
    "- unite Wd Sdng, WdShing, Plywood, HdBoard\n",
    "- unite Stone, CBlock"
   ]
  },
  {
   "cell_type": "code",
   "execution_count": null,
   "id": "49ebd354",
   "metadata": {
    "ExecuteTime": {
     "end_time": "2022-11-20T12:55:43.452797Z",
     "start_time": "2022-11-20T12:55:43.439122Z"
    },
    "hidden": true,
    "scrolled": true
   },
   "outputs": [],
   "source": [
    "tmp_cols_to_dummy = ['Exterior1st']\n",
    "tmp = X.loc[:, ['SalePrice']+tmp_cols_to_dummy]\n",
    "tmp['Exterior1st'] = tmp['Exterior1st'].replace(\n",
    "    {'BrkFace': 'C1', 'BrkComm': 'C1', 'Plywood': 'C1', 'BrkCmn': 'C1',\n",
    "     'Wd Sdng': 'C4', 'Wd Shng': 'C4', 'WdShing': 'C4', 'Stucco': 'C4',\n",
    "     'HdBoard': 'C4', 'MetalSd': 'C4',\n",
    "     'AsphShn': 'C5', 'AsbShng': 'C5', 'ImStucc': 'C5', 'CBlock': 'C5',\n",
    "     'CmentBd': 'C2', 'Stone': 'C2', 'CemntBd': 'C2', 'Other': 'C2',\n",
    "     'VinylSd': 'C3'\n",
    "    }\n",
    ")\n",
    "tmp = tmp.loc[tmp.SalePrice < 475000, :]\n",
    "#show_violin(tmp)\n",
    "#show_dummy_corr(tmp)\n",
    "#show_dist_cat(tmp)"
   ]
  },
  {
   "cell_type": "markdown",
   "id": "44406ff4",
   "metadata": {
    "heading_collapsed": true,
    "hidden": true
   },
   "source": [
    "#### Exterior 2"
   ]
  },
  {
   "cell_type": "code",
   "execution_count": null,
   "id": "7b3f5226",
   "metadata": {
    "ExecuteTime": {
     "end_time": "2022-11-20T12:55:43.468484Z",
     "start_time": "2022-11-20T12:55:43.454794Z"
    },
    "hidden": true
   },
   "outputs": [],
   "source": [
    "tmp_cols_to_dummy = ['Exterior2nd']\n",
    "tmp = X.loc[:, ['SalePrice']+tmp_cols_to_dummy]\n",
    "tmp['Exterior2nd'] = tmp['Exterior2nd'].replace(\n",
    "    {'BrkFace': 'C1', 'BrkComm': 'C1', 'Plywood': 'C1', 'Brk Cmn': 'C1',\n",
    "     'Wd Sdng': 'C4', 'Wd Shng': 'C4', 'WdShing': 'C4', 'Stucco': 'C4',\n",
    "     'HdBoard': 'C4', 'MetalSd': 'C4',\n",
    "     'AsphShn': 'C5', 'AsbShng': 'C5', 'ImStucc': 'C5', 'CBlock': 'C5',\n",
    "     'CmentBd': 'C2', 'Stone': 'C2', 'CemntBd': 'C2', 'Other': 'C2',\n",
    "     'VinylSd': 'C3'\n",
    "    }\n",
    ")\n",
    "tmp = tmp.loc[tmp.SalePrice < 475000, :]\n",
    "#show_violin(tmp)\n",
    "#show_dummy_corr(tmp)\n",
    "#show_dist_cat(tmp)"
   ]
  },
  {
   "cell_type": "markdown",
   "id": "30a63203",
   "metadata": {
    "heading_collapsed": true,
    "hidden": true
   },
   "source": [
    "#### MasVnrType"
   ]
  },
  {
   "cell_type": "code",
   "execution_count": null,
   "id": "fb823468",
   "metadata": {
    "ExecuteTime": {
     "end_time": "2022-11-20T12:55:43.484036Z",
     "start_time": "2022-11-20T12:55:43.469484Z"
    },
    "hidden": true
   },
   "outputs": [],
   "source": [
    "tmp_cols_to_dummy = ['MasVnrType']\n",
    "tmp = X.loc[:, ['SalePrice']+tmp_cols_to_dummy]\n",
    "tmp['MasVnrType'] = tmp['MasVnrType'].replace(\n",
    "    {'BrkFace': 'Brick', 'BrkCmn': 'Brick'}\n",
    ")\n",
    "tmp = tmp.loc[tmp.SalePrice < 475000, :]\n",
    "#show_violin(tmp)\n",
    "#show_dummy_corr(tmp)\n",
    "#show_dist_cat(tmp)"
   ]
  },
  {
   "cell_type": "markdown",
   "id": "b5b5c3d7",
   "metadata": {
    "heading_collapsed": true,
    "hidden": true
   },
   "source": [
    "#### ExterQual, ExterCond"
   ]
  },
  {
   "cell_type": "markdown",
   "id": "26c21df0",
   "metadata": {
    "hidden": true
   },
   "source": [
    "defenitely narrow to Good, Norm, Bad"
   ]
  },
  {
   "cell_type": "code",
   "execution_count": null,
   "id": "381a68df",
   "metadata": {
    "ExecuteTime": {
     "end_time": "2022-11-20T12:55:43.498816Z",
     "start_time": "2022-11-20T12:55:43.486035Z"
    },
    "hidden": true
   },
   "outputs": [],
   "source": [
    "tmp_cols_to_dummy = ['ExterQual', 'ExterCond']\n",
    "tmp = X.loc[:, ['SalePrice']+tmp_cols_to_dummy]\n",
    "tmp['ExterQual'] = tmp['ExterQual'].replace(\n",
    "    {'Ex': 'Good', 'Gd': 'Good', 'TA': 'Norm', 'Fa': 'Bad', 'Po': 'Bad'}\n",
    ")\n",
    "tmp['ExterCond'] = tmp['ExterCond'].replace(\n",
    "    {'Ex': 'Good', 'Gd': 'Good', 'TA': 'Norm', 'Fa': 'Bad', 'Po': 'Bad'}\n",
    ")\n",
    "tmp = tmp.loc[tmp.SalePrice < 475000, :]\n",
    "#show_violin(tmp)\n",
    "#show_dummy_corr(tmp)\n",
    "#show_dist_cat(tmp)"
   ]
  },
  {
   "cell_type": "markdown",
   "id": "4478dcc1",
   "metadata": {
    "heading_collapsed": true,
    "hidden": true
   },
   "source": [
    "### Basement"
   ]
  },
  {
   "cell_type": "code",
   "execution_count": null,
   "id": "8207d4fc",
   "metadata": {
    "ExecuteTime": {
     "end_time": "2022-11-20T12:55:43.514440Z",
     "start_time": "2022-11-20T12:55:43.500826Z"
    },
    "hidden": true
   },
   "outputs": [],
   "source": [
    "cols_to_dummy = ['Foundation', 'BsmtQual', 'BsmtCond',\n",
    "                 'BsmtExposure', 'BsmtFinType1', 'BsmtFinType2']\n",
    "X = data.copy()\n",
    "X = X.loc[:, cols_to_dummy+['SalePrice']]"
   ]
  },
  {
   "cell_type": "markdown",
   "id": "3fe940a3",
   "metadata": {
    "hidden": true
   },
   "source": [
    "#### Foundation"
   ]
  },
  {
   "cell_type": "code",
   "execution_count": null,
   "id": "9d8fa20a",
   "metadata": {
    "ExecuteTime": {
     "end_time": "2022-11-20T12:55:43.530127Z",
     "start_time": "2022-11-20T12:55:43.516421Z"
    },
    "hidden": true
   },
   "outputs": [],
   "source": [
    "tmp_cols_to_dummy = ['Foundation']\n",
    "tmp = X.loc[:, ['SalePrice']+tmp_cols_to_dummy]\n",
    "tmp = tmp.loc[tmp.SalePrice < 475000, :]\n",
    "#show_violin(tmp)\n",
    "#show_dummy_corr(tmp)"
   ]
  },
  {
   "cell_type": "markdown",
   "id": "feaae615",
   "metadata": {
    "hidden": true
   },
   "source": [
    "- recode as 0-1"
   ]
  },
  {
   "cell_type": "code",
   "execution_count": null,
   "id": "0f6154d5",
   "metadata": {
    "ExecuteTime": {
     "end_time": "2022-11-20T12:55:43.545680Z",
     "start_time": "2022-11-20T12:55:43.532129Z"
    },
    "hidden": true
   },
   "outputs": [],
   "source": [
    "tmp_cols_to_dummy = ['Foundation']\n",
    "tmp = X.loc[:, ['SalePrice']+tmp_cols_to_dummy]\n",
    "tmp['IsFoundConcrete'] = np.where(tmp['Foundation'] == 'PConc', 1, 0)\n",
    "tmp = tmp.loc[tmp.SalePrice < 475000, :]\n",
    "tmp_cols_to_dummy = ['Foundation', 'IsFoundConcrete']\n",
    "#corr_heatmap(tmp)"
   ]
  },
  {
   "cell_type": "markdown",
   "id": "6417b160",
   "metadata": {
    "hidden": true
   },
   "source": [
    "#### BsmtQual, BsmtCond"
   ]
  },
  {
   "cell_type": "code",
   "execution_count": null,
   "id": "bcfed1b1",
   "metadata": {
    "ExecuteTime": {
     "end_time": "2022-11-20T12:55:43.560685Z",
     "start_time": "2022-11-20T12:55:43.547681Z"
    },
    "hidden": true
   },
   "outputs": [],
   "source": [
    "tmp_cols_to_dummy = ['BsmtQual', 'BsmtCond']\n",
    "tmp = X.loc[:, ['SalePrice']+tmp_cols_to_dummy]\n",
    "tmp = tmp.loc[tmp.SalePrice < 475000, :]\n",
    "tmp['BsmtCond'] = tmp['BsmtCond'].fillna('Absent')\n",
    "tmp['BsmtQual'] = tmp['BsmtQual'].fillna('Absent')\n",
    "tmp['BsmtQual'] = tmp['BsmtQual'].replace(\n",
    "    {'Ex': 'Good', 'Gd': 'Good', 'TA': 'Norm', 'Fa': 'Bad', 'Po': 'Bad'}\n",
    ")\n",
    "tmp['BsmtCond'] = tmp['BsmtCond'].replace(\n",
    "    {'Ex': 'Good', 'Gd': 'Good', 'TA': 'Norm', 'Fa': 'Bad', 'Po': 'Bad'}\n",
    ")\n",
    "#show_violin(tmp)\n",
    "#show_dummy_corr(tmp)\n",
    "#show_dist_cat(tmp)"
   ]
  },
  {
   "cell_type": "code",
   "execution_count": null,
   "id": "727da568",
   "metadata": {
    "ExecuteTime": {
     "end_time": "2022-11-20T12:55:43.576687Z",
     "start_time": "2022-11-20T12:55:43.561684Z"
    },
    "hidden": true
   },
   "outputs": [],
   "source": [
    "tmp_cols_to_dummy = ['BsmtQual', 'BsmtCond']\n",
    "tmp = X.loc[:, ['SalePrice']+tmp_cols_to_dummy]\n",
    "tmp = tmp.loc[tmp.SalePrice < 475000, :]\n",
    "tmp['BsmtQual'] = tmp['BsmtQual'].replace(\n",
    "    {'Ex': 'Good', 'Gd': 'Good', 'TA': 'Good', 'Fa': 'Bad', 'Po': 'Bad'}\n",
    ")\n",
    "tmp['BsmtCond'] = tmp['BsmtCond'].replace(\n",
    "    {'Ex': 'Good', 'Gd': 'Good', 'TA': 'Good', 'Fa': 'Bad', 'Po': 'Bad'}\n",
    ")\n",
    "tmp['IsBsmCondGood'] = np.where(tmp['BsmtCond'] == 'Good', 1, 0)\n",
    "tmp['IsBsmQualGood'] = np.where(tmp['BsmtQual'] == 'Good', 1, 0)\n",
    "#corr_heatmap(tmp)"
   ]
  },
  {
   "cell_type": "markdown",
   "id": "ede29e0e",
   "metadata": {
    "hidden": true
   },
   "source": [
    "- pretty big correlation between 2 vars; rare => rather drop"
   ]
  },
  {
   "cell_type": "markdown",
   "id": "d54edbf9",
   "metadata": {
    "hidden": true
   },
   "source": [
    "#### BsmtExposure"
   ]
  },
  {
   "cell_type": "code",
   "execution_count": null,
   "id": "3f80b346",
   "metadata": {
    "ExecuteTime": {
     "end_time": "2022-11-20T12:55:43.591814Z",
     "start_time": "2022-11-20T12:55:43.578689Z"
    },
    "hidden": true
   },
   "outputs": [],
   "source": [
    "tmp_cols_to_dummy = ['BsmtExposure']\n",
    "tmp = X.loc[:, ['SalePrice']+tmp_cols_to_dummy]\n",
    "tmp['BsmtExposure'] = tmp['BsmtExposure'].fillna('Absent')\n",
    "tmp = tmp.loc[tmp.SalePrice < 475000, :]\n",
    "#show_violin(tmp)\n",
    "#show_dummy_corr(tmp)\n",
    "#show_dist_cat(tmp)"
   ]
  },
  {
   "cell_type": "markdown",
   "id": "7230ef71",
   "metadata": {
    "hidden": true
   },
   "source": [
    "- unite Mn and Av"
   ]
  },
  {
   "cell_type": "code",
   "execution_count": null,
   "id": "8bf74aa9",
   "metadata": {
    "ExecuteTime": {
     "end_time": "2022-11-20T12:55:43.606984Z",
     "start_time": "2022-11-20T12:55:43.592814Z"
    },
    "hidden": true
   },
   "outputs": [],
   "source": [
    "tmp_cols_to_dummy = ['BsmtExposure']\n",
    "tmp = X.loc[:, ['SalePrice']+tmp_cols_to_dummy]\n",
    "tmp['BsmtExposure'] = tmp['BsmtExposure'].fillna('Absent')\n",
    "tmp['BsmtExposure'] = tmp['BsmtExposure'].replace(\n",
    "    {'Mn': 'Norm', 'Av': 'Norm', 'Absent': 'No'}\n",
    ")\n",
    "tmp['IsBsmExpGood'] = np.where(X['BsmtExposure'] == 'Norm', '0', '1')\n",
    "tmp = tmp.loc[tmp.SalePrice < 475000, :]\n",
    "#show_violin(tmp)\n",
    "#show_dummy_corr(tmp)\n",
    "#show_dist_cat(tmp)"
   ]
  },
  {
   "cell_type": "markdown",
   "id": "1f36cc0f",
   "metadata": {
    "hidden": true
   },
   "source": [
    "- Normal Exposure - reference point"
   ]
  },
  {
   "cell_type": "markdown",
   "id": "efe5a1d3",
   "metadata": {
    "hidden": true
   },
   "source": [
    "#### BsmtFinType1"
   ]
  },
  {
   "cell_type": "code",
   "execution_count": null,
   "id": "37833112",
   "metadata": {
    "ExecuteTime": {
     "end_time": "2022-11-20T12:55:43.622456Z",
     "start_time": "2022-11-20T12:55:43.608451Z"
    },
    "hidden": true
   },
   "outputs": [],
   "source": [
    "tmp_cols_to_dummy = ['BsmtFinType1']\n",
    "tmp = X.loc[:, ['SalePrice']+tmp_cols_to_dummy]\n",
    "tmp['BsmtFinType1'] = tmp['BsmtFinType1'].fillna('Absent')\n",
    "tmp = tmp.loc[tmp.SalePrice < 475000, :]\n",
    "#show_violin(tmp)\n",
    "#show_dummy_corr(tmp)\n",
    "#show_dist_cat(tmp)"
   ]
  },
  {
   "cell_type": "markdown",
   "id": "bfb466de",
   "metadata": {
    "hidden": true
   },
   "source": [
    "- unite Rec, LWQ, ALQ, BLQ, Absent (too low)\n",
    "- Unf\n",
    "- GLQ"
   ]
  },
  {
   "cell_type": "markdown",
   "id": "1e6527e3",
   "metadata": {
    "ExecuteTime": {
     "end_time": "2022-11-02T08:23:04.602056Z",
     "start_time": "2022-11-02T08:23:04.595054Z"
    },
    "heading_collapsed": true,
    "hidden": true
   },
   "source": [
    "### Garage"
   ]
  },
  {
   "cell_type": "code",
   "execution_count": null,
   "id": "b686a8a9",
   "metadata": {
    "ExecuteTime": {
     "end_time": "2022-11-20T12:55:43.638155Z",
     "start_time": "2022-11-20T12:55:43.625137Z"
    },
    "hidden": true
   },
   "outputs": [],
   "source": [
    "cols_to_dummy = ['GarageType', 'GarageFinish', 'GarageQual', 'GarageCond']\n",
    "X = data.copy()\n",
    "X = X.loc[:, cols_to_dummy+['SalePrice']]"
   ]
  },
  {
   "cell_type": "markdown",
   "id": "c4016390",
   "metadata": {
    "heading_collapsed": true,
    "hidden": true
   },
   "source": [
    "#### GarageType"
   ]
  },
  {
   "cell_type": "code",
   "execution_count": null,
   "id": "9a4e5133",
   "metadata": {
    "ExecuteTime": {
     "end_time": "2022-11-20T12:55:43.653843Z",
     "start_time": "2022-11-20T12:55:43.640140Z"
    },
    "hidden": true
   },
   "outputs": [],
   "source": [
    "tmp_cols_to_dummy = ['GarageType']\n",
    "tmp = X.loc[:, ['SalePrice']+tmp_cols_to_dummy]\n",
    "tmp['GarageType'] = tmp['GarageType'].fillna('Absent')\n",
    "tmp = tmp.loc[tmp.SalePrice < 475000, :]\n",
    "#show_dummy_corr(tmp)\n",
    "#show_dist_cat(tmp)\n",
    "#show_violin(tmp)"
   ]
  },
  {
   "cell_type": "markdown",
   "id": "33cae616",
   "metadata": {
    "hidden": true
   },
   "source": [
    "- unite DetchId, CarPort, 2Types, Basment\n",
    "- i.e. 4 categories"
   ]
  },
  {
   "cell_type": "markdown",
   "id": "25e113e3",
   "metadata": {
    "heading_collapsed": true,
    "hidden": true
   },
   "source": [
    "#### GarageFinish"
   ]
  },
  {
   "cell_type": "code",
   "execution_count": null,
   "id": "44dbfb93",
   "metadata": {
    "ExecuteTime": {
     "end_time": "2022-11-20T12:55:43.669499Z",
     "start_time": "2022-11-20T12:55:43.654845Z"
    },
    "hidden": true
   },
   "outputs": [],
   "source": [
    "tmp_cols_to_dummy = ['GarageFinish']\n",
    "tmp = X.loc[:, ['SalePrice']+tmp_cols_to_dummy]\n",
    "tmp['GarageFinish'] = tmp['GarageFinish'].fillna('Absent')\n",
    "tmp = tmp.loc[tmp.SalePrice < 475000, :]\n",
    "#show_dummy_corr(tmp)\n",
    "#show_dist_cat(tmp)\n",
    "#show_violin(tmp)"
   ]
  },
  {
   "cell_type": "markdown",
   "id": "dff5244f",
   "metadata": {
    "hidden": true
   },
   "source": [
    "- Recode as IsGarFin"
   ]
  },
  {
   "cell_type": "markdown",
   "id": "8463e26f",
   "metadata": {
    "hidden": true
   },
   "source": [
    "#### GarageCond, GarageQual"
   ]
  },
  {
   "cell_type": "code",
   "execution_count": null,
   "id": "d76d9f7c",
   "metadata": {
    "ExecuteTime": {
     "end_time": "2022-11-20T12:55:43.685139Z",
     "start_time": "2022-11-20T12:55:43.671496Z"
    },
    "hidden": true,
    "scrolled": true
   },
   "outputs": [],
   "source": [
    "tmp_cols_to_dummy = ['GarageCond']\n",
    "tmp = X.loc[:, ['SalePrice']+tmp_cols_to_dummy]\n",
    "tmp['GarageCond'] = tmp['GarageCond'].fillna('Absent')\n",
    "tmp = tmp.loc[tmp.SalePrice < 475000, :]\n",
    "#show_dummy_corr(tmp)\n",
    "#show_dist_cat(tmp)\n",
    "#show_violin(tmp)"
   ]
  },
  {
   "cell_type": "code",
   "execution_count": null,
   "id": "6938bfc7",
   "metadata": {
    "ExecuteTime": {
     "end_time": "2022-11-20T12:55:43.700856Z",
     "start_time": "2022-11-20T12:55:43.687127Z"
    },
    "hidden": true
   },
   "outputs": [],
   "source": [
    "tmp_cols_to_dummy = ['GarageQual']\n",
    "tmp = X.loc[:, ['SalePrice']+tmp_cols_to_dummy]\n",
    "tmp['GarageQual'] = tmp['GarageQual'].fillna('Absent')\n",
    "tmp = tmp.loc[tmp.SalePrice < 475000, :]\n",
    "#show_dummy_corr(tmp)\n",
    "#show_dist_cat(tmp)\n",
    "#show_violin(tmp)"
   ]
  },
  {
   "cell_type": "markdown",
   "id": "8ceb9a3a",
   "metadata": {
    "heading_collapsed": true,
    "hidden": true
   },
   "source": [
    "### Services"
   ]
  },
  {
   "cell_type": "code",
   "execution_count": null,
   "id": "3b0731e9",
   "metadata": {
    "ExecuteTime": {
     "end_time": "2022-11-20T12:55:43.716481Z",
     "start_time": "2022-11-20T12:55:43.702849Z"
    },
    "hidden": true
   },
   "outputs": [],
   "source": [
    "cols_to_dummy = ['Heating', 'HeatingQC', 'CentralAir', 'Electrical', 'Functional', 'Utilities',\n",
    "                 'KitchenQual']\n",
    "X = data.copy()\n",
    "X = X.loc[:, cols_to_dummy+['SalePrice']]"
   ]
  },
  {
   "cell_type": "markdown",
   "id": "d8b61c96",
   "metadata": {
    "hidden": true
   },
   "source": [
    "#### Heating"
   ]
  },
  {
   "cell_type": "code",
   "execution_count": null,
   "id": "5fc5be70",
   "metadata": {
    "ExecuteTime": {
     "end_time": "2022-11-20T12:55:43.732190Z",
     "start_time": "2022-11-20T12:55:43.718467Z"
    },
    "hidden": true
   },
   "outputs": [],
   "source": [
    "tmp_cols_to_dummy = ['Heating']\n",
    "tmp = X.loc[:, ['SalePrice']+tmp_cols_to_dummy]\n",
    "tmp = tmp.loc[tmp.SalePrice < 475000, :]\n",
    "#show_dummy_corr(tmp)\n",
    "#show_dist_cat(tmp)\n",
    "#show_violin(tmp)"
   ]
  },
  {
   "cell_type": "markdown",
   "id": "916de9a8",
   "metadata": {
    "hidden": true
   },
   "source": [
    "- not very informative"
   ]
  },
  {
   "cell_type": "markdown",
   "id": "dbf7ec8b",
   "metadata": {
    "hidden": true
   },
   "source": [
    "#### HeatingQC"
   ]
  },
  {
   "cell_type": "code",
   "execution_count": null,
   "id": "617cc96c",
   "metadata": {
    "ExecuteTime": {
     "end_time": "2022-11-20T12:55:43.747801Z",
     "start_time": "2022-11-20T12:55:43.734177Z"
    },
    "hidden": true,
    "scrolled": true
   },
   "outputs": [],
   "source": [
    "tmp_cols_to_dummy = ['HeatingQC']\n",
    "tmp = X.loc[:, ['SalePrice']+tmp_cols_to_dummy]\n",
    "tmp = tmp.loc[tmp.SalePrice < 475000, :]\n",
    "#show_dummy_corr(tmp)\n",
    "#show_dist_cat(tmp)\n",
    "#show_violin(tmp)"
   ]
  },
  {
   "cell_type": "code",
   "execution_count": null,
   "id": "1e8c085c",
   "metadata": {
    "ExecuteTime": {
     "end_time": "2022-11-20T12:55:43.763352Z",
     "start_time": "2022-11-20T12:55:43.750784Z"
    },
    "hidden": true
   },
   "outputs": [],
   "source": [
    "tmp_cols_to_dummy = ['HeatingQC']\n",
    "tmp = X.loc[:, ['SalePrice']+tmp_cols_to_dummy]\n",
    "tmp['HeatingQC'] = tmp['HeatingQC'].replace(\n",
    "    {'Ex': 'Good', 'Gd': 'Good', 'TA': 'Norm', 'Fa': 'Bad', 'Po': 'Bad'}\n",
    ")\n",
    "tmp = tmp.loc[tmp.SalePrice < 475000, :]\n",
    "#show_dummy_corr(tmp)\n",
    "#show_dist_cat(tmp)\n",
    "#show_violin(tmp)"
   ]
  },
  {
   "cell_type": "markdown",
   "id": "51092b1d",
   "metadata": {
    "hidden": true
   },
   "source": [
    "#### CentralAir"
   ]
  },
  {
   "cell_type": "code",
   "execution_count": null,
   "id": "95a0719a",
   "metadata": {
    "ExecuteTime": {
     "end_time": "2022-11-20T12:55:43.778147Z",
     "start_time": "2022-11-20T12:55:43.765347Z"
    },
    "hidden": true
   },
   "outputs": [],
   "source": [
    "tmp_cols_to_dummy = ['CentralAir']\n",
    "tmp = X.loc[:, ['SalePrice']+tmp_cols_to_dummy]\n",
    "tmp = tmp.loc[tmp.SalePrice < 475000, :]\n",
    "#show_dummy_corr(tmp)\n",
    "#show_dist_cat(tmp)\n",
    "#show_violin(tmp)"
   ]
  },
  {
   "cell_type": "markdown",
   "id": "d9747114",
   "metadata": {
    "hidden": true
   },
   "source": [
    "- keep as it is"
   ]
  },
  {
   "cell_type": "markdown",
   "id": "cb7d735f",
   "metadata": {
    "hidden": true
   },
   "source": [
    "#### Electrical"
   ]
  },
  {
   "cell_type": "code",
   "execution_count": null,
   "id": "79127335",
   "metadata": {
    "ExecuteTime": {
     "end_time": "2022-11-20T12:55:43.793829Z",
     "start_time": "2022-11-20T12:55:43.780135Z"
    },
    "hidden": true
   },
   "outputs": [],
   "source": [
    "tmp_cols_to_dummy = ['Electrical']\n",
    "tmp = X.loc[:, ['SalePrice']+tmp_cols_to_dummy]\n",
    "tmp = tmp.loc[tmp.SalePrice < 475000, :]\n",
    "#show_dummy_corr(tmp)\n",
    "#show_dist_cat(tmp)\n",
    "#show_violin(tmp)"
   ]
  },
  {
   "cell_type": "markdown",
   "id": "afc607f6",
   "metadata": {
    "hidden": true
   },
   "source": [
    "#### Functional"
   ]
  },
  {
   "cell_type": "code",
   "execution_count": null,
   "id": "74acd1e5",
   "metadata": {
    "ExecuteTime": {
     "end_time": "2022-11-20T12:55:43.809848Z",
     "start_time": "2022-11-20T12:55:43.794831Z"
    },
    "hidden": true
   },
   "outputs": [],
   "source": [
    "tmp_cols_to_dummy = ['Functional']\n",
    "tmp = X.loc[:, ['SalePrice']+tmp_cols_to_dummy]\n",
    "tmp = tmp.loc[tmp.SalePrice < 475000, :]\n",
    "#show_dummy_corr(tmp)\n",
    "#show_dist_cat(tmp)\n",
    "#show_violin(tmp)"
   ]
  },
  {
   "cell_type": "markdown",
   "id": "c5ff22ac",
   "metadata": {
    "hidden": true
   },
   "source": [
    "- more rare variable, rather drop"
   ]
  },
  {
   "cell_type": "markdown",
   "id": "9c3f6081",
   "metadata": {
    "hidden": true
   },
   "source": [
    "#### Utilities"
   ]
  },
  {
   "cell_type": "code",
   "execution_count": null,
   "id": "bf49681e",
   "metadata": {
    "ExecuteTime": {
     "end_time": "2022-11-20T12:55:43.825844Z",
     "start_time": "2022-11-20T12:55:43.810837Z"
    },
    "hidden": true
   },
   "outputs": [],
   "source": [
    "tmp_cols_to_dummy = ['Utilities']\n",
    "tmp = X.loc[:, ['SalePrice']+tmp_cols_to_dummy]\n",
    "tmp = tmp.loc[tmp.SalePrice < 475000, :]\n",
    "#show_dummy_corr(tmp)\n",
    "#show_dist_cat(tmp)\n",
    "#show_violin(tmp)"
   ]
  },
  {
   "cell_type": "markdown",
   "id": "0de58edf",
   "metadata": {
    "hidden": true
   },
   "source": [
    "- only 1 house without utilities"
   ]
  },
  {
   "cell_type": "markdown",
   "id": "d90a2b4c",
   "metadata": {
    "hidden": true
   },
   "source": [
    "#### KitchenQual"
   ]
  },
  {
   "cell_type": "code",
   "execution_count": null,
   "id": "cc71dde9",
   "metadata": {
    "ExecuteTime": {
     "end_time": "2022-11-20T12:55:43.841838Z",
     "start_time": "2022-11-20T12:55:43.826853Z"
    },
    "hidden": true
   },
   "outputs": [],
   "source": [
    "tmp_cols_to_dummy = ['KitchenQual']\n",
    "tmp = X.loc[:, ['SalePrice']+tmp_cols_to_dummy]\n",
    "tmp = tmp.loc[tmp.SalePrice < 475000, :]\n",
    "#show_dummy_corr(tmp)\n",
    "#show_dist_cat(tmp)\n",
    "#show_violin(tmp)"
   ]
  },
  {
   "cell_type": "markdown",
   "id": "c859f2c2",
   "metadata": {
    "heading_collapsed": true,
    "hidden": true
   },
   "source": [
    "### Luxury"
   ]
  },
  {
   "cell_type": "code",
   "execution_count": null,
   "id": "fbfd16fa",
   "metadata": {
    "ExecuteTime": {
     "end_time": "2022-11-20T12:55:43.856847Z",
     "start_time": "2022-11-20T12:55:43.842846Z"
    },
    "hidden": true
   },
   "outputs": [],
   "source": [
    "cols_to_dummy = ['FireplaceQu', 'Fence', 'MiscFeature']\n",
    "X = data.copy()\n",
    "X = X.loc[:, cols_to_dummy+['SalePrice']]"
   ]
  },
  {
   "cell_type": "markdown",
   "id": "a48c5d99",
   "metadata": {
    "hidden": true
   },
   "source": [
    "#### FireplaceQu"
   ]
  },
  {
   "cell_type": "code",
   "execution_count": null,
   "id": "6d7286b4",
   "metadata": {
    "ExecuteTime": {
     "end_time": "2022-11-20T12:55:43.872585Z",
     "start_time": "2022-11-20T12:55:43.858569Z"
    },
    "hidden": true,
    "scrolled": true
   },
   "outputs": [],
   "source": [
    "tmp_cols_to_dummy = ['FireplaceQu']\n",
    "tmp = X.loc[:, ['SalePrice']+tmp_cols_to_dummy]\n",
    "tmp['FireplaceQu'] = tmp['FireplaceQu'].fillna('Absent')\n",
    "tmp = tmp.loc[tmp.SalePrice < 475000, :]\n",
    "#show_dummy_corr(tmp)\n",
    "#show_dist_cat(tmp)\n",
    "#show_violin(tmp)"
   ]
  },
  {
   "cell_type": "markdown",
   "id": "43005525",
   "metadata": {
    "hidden": true
   },
   "source": [
    "- unite Po with Absent, Go with Ex, Fare with No"
   ]
  },
  {
   "cell_type": "markdown",
   "id": "477efb96",
   "metadata": {
    "hidden": true
   },
   "source": [
    "#### Fence"
   ]
  },
  {
   "cell_type": "code",
   "execution_count": null,
   "id": "a8c0ffd5",
   "metadata": {
    "ExecuteTime": {
     "end_time": "2022-11-20T12:55:43.888235Z",
     "start_time": "2022-11-20T12:55:43.874219Z"
    },
    "hidden": true,
    "scrolled": false
   },
   "outputs": [],
   "source": [
    "tmp_cols_to_dummy = ['Fence']\n",
    "tmp = X.loc[:, ['SalePrice']+tmp_cols_to_dummy]\n",
    "tmp['Fence'] = tmp['Fence'].fillna('Absent')\n",
    "tmp = tmp.loc[tmp.SalePrice < 475000, :]\n",
    "#show_dummy_corr(tmp)\n",
    "#show_dist_cat(tmp)\n",
    "#show_violin(tmp)"
   ]
  },
  {
   "cell_type": "markdown",
   "id": "a60cfa9c",
   "metadata": {
    "hidden": true
   },
   "source": [
    "- unite Absent, Good Privacy\n",
    "- unite the others"
   ]
  },
  {
   "cell_type": "markdown",
   "id": "8fb566f3",
   "metadata": {
    "hidden": true
   },
   "source": [
    "#### MiscFeature"
   ]
  },
  {
   "cell_type": "code",
   "execution_count": null,
   "id": "59eeb1ed",
   "metadata": {
    "ExecuteTime": {
     "end_time": "2022-11-20T12:55:43.904227Z",
     "start_time": "2022-11-20T12:55:43.890238Z"
    },
    "hidden": true,
    "scrolled": true
   },
   "outputs": [],
   "source": [
    "tmp_cols_to_dummy = ['MiscFeature']\n",
    "tmp = X.loc[:, ['SalePrice']+tmp_cols_to_dummy]\n",
    "tmp['MiscFeature'] = tmp['MiscFeature'].fillna('Absent')\n",
    "tmp = tmp.loc[tmp.SalePrice < 475000, :]\n",
    "#show_dummy_corr(tmp)\n",
    "#show_dist_cat(tmp)\n",
    "#show_violin(tmp)"
   ]
  },
  {
   "cell_type": "markdown",
   "id": "d2f4ff21",
   "metadata": {
    "hidden": true
   },
   "source": [
    "- Recode as IsShed"
   ]
  },
  {
   "cell_type": "markdown",
   "id": "6ce512e5",
   "metadata": {
    "heading_collapsed": true,
    "hidden": true
   },
   "source": [
    "### Misc"
   ]
  },
  {
   "cell_type": "code",
   "execution_count": null,
   "id": "6b9c3397",
   "metadata": {
    "ExecuteTime": {
     "end_time": "2022-11-20T12:55:43.920241Z",
     "start_time": "2022-11-20T12:55:43.906234Z"
    },
    "hidden": true
   },
   "outputs": [],
   "source": [
    "cols_to_dummy = ['SaleType', 'SaleCondition']\n",
    "X = data.copy()\n",
    "X = X.loc[:, cols_to_dummy+['SalePrice']]"
   ]
  },
  {
   "cell_type": "markdown",
   "id": "ccd676f9",
   "metadata": {
    "hidden": true
   },
   "source": [
    "#### SaleType"
   ]
  },
  {
   "cell_type": "code",
   "execution_count": null,
   "id": "3f0ff1f8",
   "metadata": {
    "ExecuteTime": {
     "end_time": "2022-11-20T12:55:43.936247Z",
     "start_time": "2022-11-20T12:55:43.922232Z"
    },
    "hidden": true,
    "scrolled": false
   },
   "outputs": [],
   "source": [
    "tmp_cols_to_dummy = ['SaleType']\n",
    "tmp = X.loc[:, ['SalePrice']+tmp_cols_to_dummy]\n",
    "tmp['SaleType'] = tmp['SaleType'].fillna('Absent')\n",
    "tmp = tmp.loc[tmp.SalePrice < 475000, :]\n",
    "#show_dummy_corr(tmp)\n",
    "#show_dist_cat(tmp)\n",
    "#show_violin(tmp)"
   ]
  },
  {
   "cell_type": "markdown",
   "id": "6eb8fb90",
   "metadata": {
    "hidden": true
   },
   "source": [
    "#### SaleCond"
   ]
  },
  {
   "cell_type": "code",
   "execution_count": null,
   "id": "d2483791",
   "metadata": {
    "ExecuteTime": {
     "end_time": "2022-11-20T12:55:43.952251Z",
     "start_time": "2022-11-20T12:55:43.938232Z"
    },
    "hidden": true,
    "scrolled": false
   },
   "outputs": [],
   "source": [
    "tmp_cols_to_dummy = ['SaleCondition']\n",
    "tmp = X.loc[:, ['SalePrice']+tmp_cols_to_dummy]\n",
    "tmp['SaleCondition'] = tmp['SaleCondition'].fillna('Absent')\n",
    "tmp = tmp.loc[tmp.SalePrice < 475000, :]\n",
    "#show_dummy_corr(tmp)\n",
    "#show_dist_cat(tmp)\n",
    "#show_violin(tmp)"
   ]
  },
  {
   "cell_type": "markdown",
   "id": "10437b5c",
   "metadata": {
    "hidden": true
   },
   "source": [
    "- unite Abnorm, Family, AdjLand\n",
    "- unite Alloca, Normal"
   ]
  },
  {
   "cell_type": "code",
   "execution_count": null,
   "id": "389b3ed6",
   "metadata": {
    "ExecuteTime": {
     "end_time": "2022-11-20T12:55:43.968252Z",
     "start_time": "2022-11-20T12:55:43.954236Z"
    },
    "hidden": true
   },
   "outputs": [],
   "source": [
    "tmp_cols_to_dummy = ['SaleCondition']\n",
    "tmp = X.loc[:, ['SalePrice']+tmp_cols_to_dummy]\n",
    "tmp['SaleCondition'] = tmp['SaleCondition'].fillna('Absent')\n",
    "tmp = tmp.loc[tmp.SalePrice < 475000, :]\n",
    "#show_dummy_corr(tmp)\n",
    "#show_dist_cat(tmp)\n",
    "#show_violin(tmp)"
   ]
  },
  {
   "cell_type": "markdown",
   "id": "8572041e",
   "metadata": {
    "heading_collapsed": true,
    "hidden": true
   },
   "source": [
    "### Overview"
   ]
  },
  {
   "cell_type": "markdown",
   "id": "40103e31",
   "metadata": {
    "hidden": true
   },
   "source": [
    "- Recode MSZoning into IsLowDensityArea: 0-1\n",
    "- Recode Neighborhood into 5 categories; one - reference point\n",
    "- Recode Condition1, Condition2 into IsEnvGood: 0-1\n",
    "-------------------------------------------------------------------------------------------------------\n",
    "- Recode Alley into IsAlleyGravel: 0-1\n",
    "- Recode LotShape into IsShapeReg: 0-1\n",
    "- Recode LandCountour into IsLandFlat: 0-1\n",
    "- Recode LotConfig into IsNarrow: 0-1\n",
    "- Recode LandSlope in IsLandSloped: 0-1\n",
    "- Recode PavedDrive into IsPaved: 0-1\n",
    "-------------------------------------------------------------------------------------------------------\n",
    "- Recode MSSubClass into 4 categories; one - reference point\n",
    "- Recode BldgType into IsOneFamily: 0-1\n",
    "- Recode HouseStyle into IsOneFloor: 0-1\n",
    "- Recode RoofStyle into IsRoofGable: 0-1\n",
    "- Recode RoofMatl into IsRoofStandard: 0-1\n",
    "- Recode Exterior1st, Exterior2nd, into 5 categories; one - reference point\n",
    "- Recode MasVnrType into 3 categories; one - reference point\n",
    "- Recode ExterQual into IsExtQualGood: 0-1\n",
    "- Recode ExterCond into IsExtCondGood: 0-1\n",
    "-------------------------------------------------------------------------------------------------------\n",
    "- Recode Foundation into IsBsmConcrete: 0-1\n",
    "- Recode BsmtQual into IsBsmQualGood: 0-1\n",
    "- Recode BsmtCond into IsBsmCondGood: 0-1\n",
    "- Recode BsmtExposure into IsBsmExpGood: 0-1\n",
    "- Recode BsmtFinType1, BsmtFinType2 into BsmFinType: 3 categories; one - reference point\n",
    "-------------------------------------------------------------------------------------------------------\n",
    "- Recode GarageType into 3 categories; one - reference point\n",
    "- Recode GarageFinish into IsGarFin: 0-1\n",
    "-------------------------------------------------------------------------------------------------------\n",
    "- Recode HeatingQC into IsHeatGood: 0-1\n",
    "- Recode CentralAir into IsCentralAir: 0-1\n",
    "- Recode Electrical into IsStandardElect: 0-1\n",
    "-------------------------------------------------------------------------------------------------------\n",
    "- Recode FireplaceQu into FireplaceQual: 3 categories; one - reference point\n",
    "- Recode Fence into IsFenceAbsent: 0-1\n",
    "- Recode MiscFeature into IsShed: 0-1\n",
    "-------------------------------------------------------------------------------------------------------\n",
    "- Recode SaleType into IsNewHouse: 0-1\n",
    "- Recode SaleCondition into SaleCond: 3 categories; one - reference point\n",
    "-------------------------------------------------------------------------------------------------------"
   ]
  },
  {
   "cell_type": "code",
   "execution_count": null,
   "id": "d45a4398",
   "metadata": {
    "ExecuteTime": {
     "end_time": "2022-11-20T12:55:43.999246Z",
     "start_time": "2022-11-20T12:55:43.970253Z"
    },
    "code_folding": [
     0,
     175
    ],
    "hidden": true
   },
   "outputs": [],
   "source": [
    "def prepare_data_cat(X):\n",
    "    X['MSZoning'] = X.MSZoning.replace({'RH':'RM', 'FV':'RL', 'C (all)': 'RM'})\n",
    "    X['IsLowDensityArea'] = np.where(X['MSZoning'] == 'RL', 1, 0)\n",
    "    \n",
    "    X['Neighborhood'] = X.Neighborhood.replace(\n",
    "        {'Edwards': 'C0', 'OldTown': 'C0', 'Sawyer': 'C0', 'BrkSide': 'C0',\n",
    "         'Blueste': 'C0', 'NPkVill': 'C0', 'Mitchel': 'C0', 'SWISU': 'C0', 'NAmes': 'C0',\n",
    "         'MeadowV': 'C1', 'BrDale': 'C1', 'IDOTRR': 'C1',\n",
    "         'NridgHt': 'C2', 'StoneBr': 'C2', 'NoRidge': 'C2',\n",
    "         'SawyerW': 'C3', 'Blmngtn': 'C3', 'Gilbert': 'C3', 'NWAmes': 'C3',\n",
    "         'Somerst': 'C4', 'Timber': 'C4', 'Veenker': 'C4',\n",
    "         'Crawfor': 'C4', 'CollgCr': 'C4', 'ClearCr': 'C4',\n",
    "        }\n",
    "    )\n",
    "    \n",
    "    X['Condition1'] = X['Condition1'].replace(\n",
    "        {'PosA': 'C1', 'PosN': 'C1', 'RRAn':'C1', 'RRNe': 'C1', 'RRNn': 'C1', 'Norm': 'C1',\n",
    "         'Feedr':'C2', 'Artery':'C2', 'RRAe':'C2'\n",
    "        }\n",
    "    )\n",
    "    X['Condition2'] = X['Condition2'].replace(\n",
    "        {'PosA': 'C1', 'PosN': 'C1', 'RRAn':'C1', 'RRNe': 'C1', 'RRNn': 'C1', 'Norm': 'C1',\n",
    "         'Feedr':'C2', 'Artery':'C2', 'RRAe':'C2'\n",
    "        }\n",
    "    )\n",
    "    X['Condition1'] = np.where(X['Condition1'] == 'C1', 1, 0)\n",
    "    X['Condition2'] = np.where(X['Condition2'] == 'C1', 1, 0)\n",
    "    X['IsEnvGood'] = np.where(X['Condition2']+X['Condition1'] == 2, 1, 0)\n",
    "    \n",
    "    X['Alley'] = X.Alley.fillna('Pave')\n",
    "    X['IsAlleyGravel'] = np.where(X['Alley'] == 'Pave', 0, 1)\n",
    "    X['IsShapeReg'] = np.where(X['LotShape'] ==  'Reg', 1, 0)\n",
    "    X['LandContour'] = X['LandContour'].replace(\n",
    "        {'Lvl': 'Norm', 'Bnk': 'Norm', 'Low': 'Ir', 'HLS': 'Ir'}\n",
    "    )\n",
    "    X['IsLandFlat'] = np.where(X['LandContour'] == 'Ir', 0, 1)\n",
    "    \n",
    "    X['LotConfig'] = X['LotConfig'].replace(\n",
    "        {'Inside': 'Norm', 'FR2': 'Norm', 'Corner': 'Norm', 'CulDSac': 'Ir', 'FR3': 'Ir'}\n",
    "    )\n",
    "    X['IsNarrow'] = np.where(X['LotConfig'] == 'Ir', 0, 1)\n",
    "    X['IsSlope'] = np.where((X['LandSlope'] == 'Mod') | (X['LandSlope'] == 'Sev'), 1, 0)\n",
    "    X['IsPaved'] = np.where((X['PavedDrive'] == 'N') | (X['PavedDrive'] == 'P'), 0, 1)\n",
    "    \n",
    "    X['MSSubClass'] = X['MSSubClass'].replace(\n",
    "        {'20': 'C0', '70': 'C0', '75': 'C0', '80': 'C0',\n",
    "         '60': 'C1', '120': 'C1',\n",
    "         '90': 'C2', '85': 'C2', '40': 'C2', '160': 'C2', '50': 'C2', '190': 'C2',\n",
    "         '45': 'C3', '30': 'C3', '180': 'C3'\n",
    "        }\n",
    "    )\n",
    "    X['IsOneFamily'] = np.where(X['BldgType'] == '1Fam', 1, 0)\n",
    "    X['IsOneFloor'] = X['HouseStyle'].replace(\n",
    "        {'SFoyer': '1', 'SLvl': '1', '1Story': '1',\n",
    "         '1.5Fin': '1', '1.5Unf': '1',\n",
    "         '2Story': '0', '2.5Fin': '0', '2.5Unf': '0'\n",
    "        }\n",
    "    ).astype(np.int64)\n",
    "    X['IsRoofGable'] = np.where(X['RoofStyle'] == 'Gable', 1, 0)\n",
    "    X['IsRoofStandard'] = np.where(X['RoofMatl'] == 'CompShg', 1, 0)\n",
    "    X['Exterior_1'] = X['Exterior1st'].replace(\n",
    "        {'VinylSd': 'C0',\n",
    "         'BrkFace': 'C1', 'BrkComm': 'C1', 'Plywood': 'C1', 'Brk Cmn': 'C1',\n",
    "         'CmentBd': 'C2', 'Stone': 'C2', 'CemntBd': 'C2', 'Other': 'C2',\n",
    "         'AsphShn': 'C3', 'AsbShng': 'C3', 'ImStucc': 'C3', 'CBlock': 'C3',\n",
    "         'Wd Sdng': 'C4', 'Wd Shng': 'C4', 'WdShing': 'C4', 'Stucco': 'C4',\n",
    "         'HdBoard': 'C4', 'MetalSd': 'C4'\n",
    "        }\n",
    "    )\n",
    "    X['Exterior_2'] = X['Exterior2nd'].replace(\n",
    "        {'VinylSd': 'C0',\n",
    "         'BrkFace': 'C1', 'BrkComm': 'C1', 'Plywood': 'C1', 'Brk Cmn': 'C1',\n",
    "         'CmentBd': 'C2', 'Stone': 'C2', 'CemntBd': 'C2', 'Other': 'C2',\n",
    "         'AsphShn': 'C3', 'AsbShng': 'C3', 'ImStucc': 'C3', 'CBlock': 'C3',\n",
    "         'Wd Sdng': 'C4', 'Wd Shng': 'C4', 'WdShing': 'C4', 'Stucco': 'C4',\n",
    "         'HdBoard': 'C4', 'MetalSd': 'C4'\n",
    "        }\n",
    "    )\n",
    "    X['MasVnrType'] = X['MasVnrType'].fillna('None')\n",
    "    X['MasVnrType'] = X['MasVnrType'].replace({'BrkFace': 'Brick', 'BrkCmn': 'Brick'})\n",
    "    X['IsExtQualGood'] = np.where((X['ExterQual'] == 'Ex') | (X['ExterQual'] == 'Good'), 1, 0)\n",
    "    X['IsExtCondGood'] = np.where((X['ExterCond'] == 'Ex') | (X['ExterCond'] == 'Good'), 1, 0)\n",
    "    \n",
    "    X['IsBsmConcrete'] = np.where(X['Foundation'] == 'PConc', 1, 0)\n",
    "    \n",
    "    X['BsmtCond'] = X['BsmtCond'].fillna('Absent')\n",
    "    X['BsmtQual'] = X['BsmtQual'].fillna('Absent')\n",
    "    X['BsmtQual'] = X['BsmtQual'].replace(\n",
    "        {'Ex': 'Good', 'Gd': 'Good', 'TA': 'Good', 'Fa': 'Bad', 'Po': 'Bad'}\n",
    "    )\n",
    "    X['BsmtCond'] = X['BsmtCond'].replace(\n",
    "        {'Ex': 'Good', 'Gd': 'Good', 'TA': 'Good', 'Fa': 'Bad', 'Po': 'Bad'}\n",
    "    )\n",
    "    X['IsBsmQualGood'] = np.where((X['BsmtQual'] == 'Ex') | (X['BsmtQual'] == 'Good'), 1, 0)\n",
    "    X['IsBsmCondGood'] = np.where((X['BsmtCond'] == 'Ex') | (X['BsmtCond'] == 'Good'), 1, 0)\n",
    "    \n",
    "    X['BsmtExposure'] = X['BsmtExposure'].fillna('Absent')\n",
    "    X['BsmExposure'] = X['BsmtExposure'].replace(\n",
    "        {'Mn': 'Norm', 'Av': 'Norm', 'Absent': 'No'}\n",
    "    )\n",
    "    \n",
    "    X['BsmtFinType1'] = X['BsmtFinType1'].fillna('Absent')\n",
    "    X['BsmFinType_1'] = X['BsmtFinType1'].replace(\n",
    "        {'Unf': 'C0',\n",
    "         'GLQ': 'C1',\n",
    "         'CemntBd': 'C2',\n",
    "         'Rec': 'C3', 'LWQ': 'C3', 'ALQ': 'C3', 'BLQ': 'C3', 'Absent': 'C3'\n",
    "        }\n",
    "    )\n",
    "    X['BsmtFinType2'] = X['BsmtFinType2'].fillna('Absent')\n",
    "    X['BsmFinType_2'] = X['BsmtFinType2'].replace(\n",
    "        {'Unf': 'C0',\n",
    "         'GLQ': 'C1',\n",
    "         'CemntBd': 'C2',\n",
    "         'Rec': 'C3', 'LWQ': 'C3', 'ALQ': 'C3', 'BLQ': 'C3', 'Absent': 'C3'\n",
    "        }\n",
    "    )\n",
    "    \n",
    "    X['GarageType'] = X['GarageType'].fillna('Absent')\n",
    "    X['GarageType'] = X['GarageType'].replace(\n",
    "        {'CarPort': 'Detchd', '2Types': 'Detchd', 'Basment': 'Detchd'}\n",
    "    )\n",
    "    X['GarageFinish'] = X['GarageFinish'].fillna('Absent')\n",
    "    X['IsGarageFinished'] = np.where(X['GarageFinish'] == 'Unf', 0, 1)\n",
    "    \n",
    "    X['HeatingQC'] = X['HeatingQC'].replace(\n",
    "        {'Ex': 'Good', 'Gd': 'Good', 'TA': 'Norm', 'Fa': 'Bad', 'Po': 'Bad'}\n",
    "    )\n",
    "    X['IsHeatGood'] = np.where(X['HeatingQC'] == 'Good', 1, 0)\n",
    "    \n",
    "    X['KitchenQual'] = X['KitchenQual'].replace(\n",
    "        {'Ex': 'Good', 'Gd': 'Good', 'TA': 'Norm', 'Fa': 'Bad', 'Po': 'Bad'}\n",
    "    )\n",
    "    X['IsKitchenGood'] = np.where(X['KitchenQual'] == 'Good', 1, 0)\n",
    "    \n",
    "    X['IsCentralAir'] = np.where(X['CentralAir'] == 'Y', 1, 0)\n",
    "    X['IsStandardElect'] = np.where(X['Electrical'] == 'SBrkr', 1, 0)\n",
    "    \n",
    "    X['FireplaceQu'] = X['FireplaceQu'].fillna('Absent')\n",
    "    X['FireplaceQual'] = X['FireplaceQu'].replace(\n",
    "        {'Ex': 'Good', 'Gd': 'Good', 'TA': 'Norm', 'Fa': 'Bad', 'Po': 'Bad', 'Absent': 'Bad'}\n",
    "    )\n",
    "    \n",
    "    X['Fence'] = X['Fence'].fillna('Absent')\n",
    "    \n",
    "    X['IsFenceGoodOrAbsent'] = X['Fence'].replace(\n",
    "        {'GdPrv': '1', 'Absent': '1', 'MnPrv': '0', 'MnWw': '0', 'GdWo': '0'}\n",
    "    ).astype(np.int64)\n",
    "    \n",
    "    X['MiscFeature'] = X['MiscFeature'].fillna('Absent')\n",
    "    X['IsShedPresent'] = np.where(X['MiscFeature'] == 'Shed', 1, 0)\n",
    "    \n",
    "    X['IsNewHouse'] = np.where(X['SaleType'] == 'New', 1, 0)\n",
    "    \n",
    "    X['SaleCond'] = X['SaleCondition'].replace(\n",
    "        {'Alloca': 'C0', 'Normal': 'C0',\n",
    "         'Partial': 'C1',\n",
    "         'Abnorml': 'C2', 'Family': 'C2', 'AdjLand': 'C2'}\n",
    "    )\n",
    "    \n",
    "    cols_to_drop = [\n",
    "        'MSZoning', 'Condition1', 'Condition2',\n",
    "        'Street', 'Alley', 'LotShape', 'LandContour', 'LotConfig', 'LandSlope', 'PavedDrive',\n",
    "        'BldgType', 'HouseStyle', 'RoofStyle', 'RoofMatl',\n",
    "        'Exterior1st', 'Exterior2nd', 'ExterQual', 'ExterCond',\n",
    "        'Foundation', 'BsmtQual', 'BsmtCond', 'BsmtExposure', 'BsmtFinType1', 'BsmtFinType2',\n",
    "        'HeatingQC', 'KitchenQual', 'Electrical', 'FireplaceQu', 'Fence', 'MiscFeature',\n",
    "        'SaleType', 'SaleCondition',\n",
    "        'GarageQual', 'GarageCond', 'GarageFinish',\n",
    "        'PoolQC', 'Functional', 'Heating', 'Utilities', 'CentralAir'\n",
    "    ]\n",
    "    \n",
    "    X.drop(columns=cols_to_drop, inplace=True)\n",
    "    return X\n",
    "\n",
    "def make_cat_dummy(X):\n",
    "    cols_to_dummy = ['Neighborhood', 'MSSubClass', 'MasVnrType',\n",
    "                     'GarageType', 'FireplaceQual', 'SaleCond', 'BsmExposure',\n",
    "                     'Exterior_1', 'Exterior_2']\n",
    "    cols_to_drop = ['Neighborhood_C0', 'MSSubClass_C0',\n",
    "                    'MasVnrType_None', 'Exterior_1_C0', 'Exterior_2_C0',\n",
    "                    'GarageType_Attchd', 'FireplaceQual_Bad', 'SaleCond_C0', 'BsmExposure_No']\n",
    "    X = pd.get_dummies(X, columns=cols_to_dummy, prefix=cols_to_dummy)\n",
    "    X.drop(columns=cols_to_drop, inplace=True)\n",
    "    return X"
   ]
  },
  {
   "cell_type": "code",
   "execution_count": null,
   "id": "3a4875c7",
   "metadata": {
    "ExecuteTime": {
     "end_time": "2022-11-20T12:55:44.060550Z",
     "start_time": "2022-11-20T12:55:44.000261Z"
    },
    "hidden": true
   },
   "outputs": [],
   "source": [
    "X = data.copy()\n",
    "X['MSSubClass'] = X['MSSubClass'].astype(str)\n",
    "X = X.select_dtypes(include=['object'])\n",
    "X = prepare_data_cat(X)"
   ]
  },
  {
   "cell_type": "code",
   "execution_count": null,
   "id": "60a5be37",
   "metadata": {
    "ExecuteTime": {
     "end_time": "2022-11-20T12:55:44.076115Z",
     "start_time": "2022-11-20T12:55:44.061549Z"
    },
    "hidden": true
   },
   "outputs": [],
   "source": [
    "X.head()"
   ]
  },
  {
   "cell_type": "code",
   "execution_count": null,
   "id": "e6ea95f6",
   "metadata": {
    "ExecuteTime": {
     "end_time": "2022-11-20T12:55:44.091910Z",
     "start_time": "2022-11-20T12:55:44.077119Z"
    },
    "hidden": true
   },
   "outputs": [],
   "source": [
    "#X.apply(lambda x: x.unique())"
   ]
  },
  {
   "cell_type": "code",
   "execution_count": null,
   "id": "4ce9536f",
   "metadata": {
    "ExecuteTime": {
     "end_time": "2022-11-20T12:55:44.106952Z",
     "start_time": "2022-11-20T12:55:44.092903Z"
    },
    "hidden": true
   },
   "outputs": [],
   "source": [
    "#corr_heatmap(X)"
   ]
  },
  {
   "cell_type": "markdown",
   "id": "ffbea2fb",
   "metadata": {
    "hidden": true
   },
   "source": [
    "- BsmQual, BsmCond are correlated => PCA\n",
    "- IsSlope, IsLandFlat are correlated => remove IsLandFlat\n",
    "- IsHeatGood, IsKitchenGood, IsGarageFinished and IsBsmConcrete are correlated => PCA\n",
    "- IsBsmConcrete, IsNewHouse are correlated => PCA"
   ]
  },
  {
   "cell_type": "code",
   "execution_count": null,
   "id": "2eee1f3b",
   "metadata": {
    "ExecuteTime": {
     "end_time": "2022-11-20T12:55:44.122482Z",
     "start_time": "2022-11-20T12:55:44.108468Z"
    },
    "hidden": true
   },
   "outputs": [],
   "source": [
    "X = make_cat_dummy(X)"
   ]
  },
  {
   "cell_type": "code",
   "execution_count": null,
   "id": "05f0659f",
   "metadata": {
    "ExecuteTime": {
     "end_time": "2022-11-20T12:55:44.138479Z",
     "start_time": "2022-11-20T12:55:44.124465Z"
    },
    "hidden": true
   },
   "outputs": [],
   "source": [
    "#corr_heatmap(X)"
   ]
  },
  {
   "cell_type": "markdown",
   "id": "9885c20c",
   "metadata": {
    "hidden": true
   },
   "source": [
    "- Exterior_1, Exterior_2 are correlated => drop Exterior_2\n",
    "- IsNewHouse, SaleCond_C1 are correlated => drop SaleCond_C1\n",
    "- IsOneFloor, MSSubClass_C1 are correlated => rather drop MSSubClass_C1\n",
    "- IsOneFamily, MSSubClass_C2 are correlated => rather drop MSSubClass_C2\n",
    "- IsGarageFinished, GarageType_Detached are correlated => PCA\n",
    "- IsLowDensityArea, Neighborhood_C1 are correlated => PCA"
   ]
  },
  {
   "cell_type": "code",
   "execution_count": null,
   "id": "1eadf149",
   "metadata": {
    "ExecuteTime": {
     "end_time": "2022-11-20T12:55:44.154482Z",
     "start_time": "2022-11-20T12:55:44.140478Z"
    },
    "code_folding": [],
    "hidden": true
   },
   "outputs": [],
   "source": [
    "def make_cat_dummy(X):\n",
    "    cols_to_dummy = ['Neighborhood', 'MSSubClass', 'MasVnrType',\n",
    "                     'GarageType', 'FireplaceQual', 'SaleCond', 'BsmExposure',\n",
    "                     'Exterior_1']\n",
    "    cols_to_drop = [\n",
    "        'Neighborhood_C0', 'MSSubClass_C0', 'MSSubClass_C1', 'MSSubClass_C2',\n",
    "        'MasVnrType_None', 'Exterior_1_C0', 'Exterior_2',\n",
    "        'GarageType_Attchd', 'FireplaceQual_Bad', 'SaleCond_C0',\n",
    "        'SaleCond_C1', 'BsmExposure_No',\n",
    "        'IsLandFlat', \n",
    "    ]\n",
    "    X = pd.get_dummies(X, columns=cols_to_dummy, prefix=cols_to_dummy)\n",
    "    X.drop(columns=cols_to_drop, inplace=True)\n",
    "    return X"
   ]
  },
  {
   "cell_type": "markdown",
   "id": "c5e03ac1",
   "metadata": {
    "heading_collapsed": true
   },
   "source": [
    "## Overview"
   ]
  },
  {
   "cell_type": "code",
   "execution_count": null,
   "id": "585c8355",
   "metadata": {
    "ExecuteTime": {
     "end_time": "2022-11-20T12:55:44.218485Z",
     "start_time": "2022-11-20T12:55:44.156484Z"
    },
    "hidden": true
   },
   "outputs": [],
   "source": [
    "X = data.copy()\n",
    "X = prepare_data_num(X)\n",
    "X = prepare_data_cat(X)\n",
    "X = make_cat_dummy(X)"
   ]
  },
  {
   "cell_type": "code",
   "execution_count": null,
   "id": "2f0edcbe",
   "metadata": {
    "ExecuteTime": {
     "end_time": "2022-11-20T12:55:44.234498Z",
     "start_time": "2022-11-20T12:55:44.219486Z"
    },
    "hidden": true
   },
   "outputs": [],
   "source": [
    "#corr_heatmap(X)"
   ]
  },
  {
   "cell_type": "code",
   "execution_count": null,
   "id": "794840d2",
   "metadata": {
    "ExecuteTime": {
     "end_time": "2022-11-20T12:55:44.250513Z",
     "start_time": "2022-11-20T12:55:44.235500Z"
    },
    "hidden": true
   },
   "outputs": [],
   "source": [
    "X.shape"
   ]
  },
  {
   "cell_type": "markdown",
   "id": "424cfbae",
   "metadata": {
    "hidden": true
   },
   "source": [
    "- drop FloorRatio (IsOneFloor is better)\n",
    "- remove ouliers, standardize, stimulaze\n",
    "- select centroids\n",
    "- held PCA"
   ]
  },
  {
   "cell_type": "markdown",
   "id": "1dd78448",
   "metadata": {
    "heading_collapsed": true
   },
   "source": [
    "## Outliers with 3 standard deviations difference"
   ]
  },
  {
   "cell_type": "code",
   "execution_count": null,
   "id": "5e627e6c",
   "metadata": {
    "ExecuteTime": {
     "end_time": "2022-11-20T12:55:44.265432Z",
     "start_time": "2022-11-20T12:55:44.251493Z"
    },
    "hidden": true
   },
   "outputs": [],
   "source": [
    "#show_outliers(X)"
   ]
  },
  {
   "cell_type": "markdown",
   "id": "27f3b525",
   "metadata": {
    "hidden": true
   },
   "source": [
    "- IsExtCondGood, IsExtQualGood, IsSlope, IsShedPresent, Exterior_C3, IsAlleyGravel, LotFrontage are rather rare variables => check plots once again and try to remove\n",
    "- PerRoomSF, FloorRatio, PorchSF, SalePrice, GarageArea, Fireplaces, HalfBath, GrLivArea,\n",
    "  BsmtFinSF1, BsmtUnfSF, LotArea contain less than 20 outliers => check them and try to remove"
   ]
  },
  {
   "cell_type": "code",
   "execution_count": null,
   "id": "7c9f0f7b",
   "metadata": {
    "ExecuteTime": {
     "end_time": "2022-11-20T12:55:44.281095Z",
     "start_time": "2022-11-20T12:55:44.267435Z"
    },
    "hidden": true
   },
   "outputs": [],
   "source": [
    "#print(X.value_counts(['IsShedPresent', 'Exterior_1_C3']))\n",
    "print(X.value_counts(['IsShedPresent']))\n",
    "print(X.value_counts(['Exterior_1_C3']))\n",
    "print(X.value_counts(['IsAlleyGravel']))\n",
    "print(X.value_counts(['IsSlope']))\n",
    "print(X.value_counts(['IsExtQualGood']))\n",
    "print(X.value_counts(['IsExtCondGood']))\n",
    "#print(X.value_counts(['PorchType_Enclosed']))"
   ]
  },
  {
   "cell_type": "code",
   "execution_count": null,
   "id": "2eb3ebe2",
   "metadata": {
    "ExecuteTime": {
     "end_time": "2022-11-20T12:55:44.342917Z",
     "start_time": "2022-11-20T12:55:44.282097Z"
    },
    "hidden": true
   },
   "outputs": [],
   "source": [
    "X = data.copy()\n",
    "X = prepare_data_num(X)\n",
    "X = prepare_data_cat(X)\n",
    "X = make_cat_dummy(X)\n",
    "X = drop_columns_selected(X)"
   ]
  },
  {
   "cell_type": "code",
   "execution_count": null,
   "id": "2c8b6837",
   "metadata": {
    "ExecuteTime": {
     "end_time": "2022-11-20T12:55:44.406348Z",
     "start_time": "2022-11-20T12:55:44.343922Z"
    },
    "hidden": true
   },
   "outputs": [],
   "source": [
    "X = data.copy()\n",
    "X = prepare_data_num(X)\n",
    "X = prepare_data_cat(X)"
   ]
  },
  {
   "cell_type": "markdown",
   "id": "ed08adaf",
   "metadata": {
    "hidden": true
   },
   "source": [
    "- FilterOut unused\n",
    "- Replace 'HalfBath' with 0-1\n",
    "- Replace fireplaces > 2 with 2"
   ]
  },
  {
   "cell_type": "code",
   "execution_count": null,
   "id": "4efbeb18",
   "metadata": {
    "ExecuteTime": {
     "end_time": "2022-11-20T12:55:44.470469Z",
     "start_time": "2022-11-20T12:55:44.408443Z"
    },
    "hidden": true
   },
   "outputs": [],
   "source": [
    "X = data.copy()\n",
    "X = prepare_data_num(X)\n",
    "X = prepare_data_cat(X)\n",
    "X = make_cat_dummy(X)\n",
    "X = drop_columns_selected(X)"
   ]
  },
  {
   "cell_type": "code",
   "execution_count": null,
   "id": "ace5212e",
   "metadata": {
    "ExecuteTime": {
     "end_time": "2022-11-20T12:55:44.485451Z",
     "start_time": "2022-11-20T12:55:44.472449Z"
    },
    "hidden": true
   },
   "outputs": [],
   "source": [
    "filter_query = (\n",
    "    '(SalePrice < 423000) & (LotArea < 45600) & '+\n",
    "    '(GrLivArea < 3627) & (GarageArea < 1134) & '+\n",
    "    '(BsmtFinSF1 < 1904)'\n",
    ")\n",
    "print('Original Nrows: ', X.shape[0])\n",
    "print('New Nrows: ', X.query(filter_query).shape[0])\n",
    "print('Percentage dropped: ',\n",
    "      round((X.shape[0] - X.query(filter_query).shape[0])/X.shape[0], 3)*100,\n",
    "      \"%\",\n",
    "      sep=''\n",
    "     )\n",
    "#show_outliers(X.query(filter_query))"
   ]
  },
  {
   "cell_type": "code",
   "execution_count": null,
   "id": "e792b094",
   "metadata": {
    "ExecuteTime": {
     "end_time": "2022-11-20T12:55:44.548484Z",
     "start_time": "2022-11-20T12:55:44.486453Z"
    },
    "hidden": true
   },
   "outputs": [],
   "source": [
    "X = data.copy()\n",
    "X = prepare_data_num(X)\n",
    "X = prepare_data_cat(X)\n",
    "X = make_cat_dummy(X)\n",
    "X = drop_columns_selected(X)\n",
    "X = filter_outliers(X)"
   ]
  },
  {
   "cell_type": "code",
   "execution_count": null,
   "id": "3c27113e",
   "metadata": {
    "ExecuteTime": {
     "end_time": "2022-11-20T12:55:44.564482Z",
     "start_time": "2022-11-20T12:55:44.550467Z"
    },
    "hidden": true
   },
   "outputs": [],
   "source": [
    "print(X.shape)\n",
    "#corr_heatmap(X)"
   ]
  },
  {
   "cell_type": "markdown",
   "id": "9a8f03d8",
   "metadata": {
    "hidden": true
   },
   "source": [
    "- IsSlope, IsRoofStandard, Extretior_1_C1, PorchType_Open seems to be the leas important variables; for first two is quite natural, whereas Exterior_1, PorchType are rather rare variables"
   ]
  },
  {
   "cell_type": "markdown",
   "id": "3141821f",
   "metadata": {
    "heading_collapsed": true
   },
   "source": [
    "## Outliers with value_counts()"
   ]
  },
  {
   "cell_type": "code",
   "execution_count": null,
   "id": "2c423a92",
   "metadata": {
    "ExecuteTime": {
     "end_time": "2022-11-20T12:55:44.628496Z",
     "start_time": "2022-11-20T12:55:44.566477Z"
    },
    "hidden": true
   },
   "outputs": [],
   "source": [
    "X = data.copy()\n",
    "X = prepare_data_num(X)\n",
    "X = prepare_data_cat(X)\n",
    "X = make_cat_dummy(X)\n",
    "X = drop_columns_selected(X)"
   ]
  },
  {
   "cell_type": "code",
   "execution_count": null,
   "id": "c529295b",
   "metadata": {
    "ExecuteTime": {
     "end_time": "2022-11-20T12:55:44.643500Z",
     "start_time": "2022-11-20T12:55:44.630485Z"
    },
    "hidden": true
   },
   "outputs": [],
   "source": [
    "X.loc[:, ['IsGarageFinished',  'IsHeatGood',  'IsKitchenGood',\n",
    "         'IsCentralAir',  'IsStandardElect',  'IsFenceGoodOrAbsent',\n",
    "         'IsNewHouse']].value_counts()"
   ]
  },
  {
   "cell_type": "markdown",
   "id": "0cb627c8",
   "metadata": {
    "hidden": true
   },
   "source": [
    "just for the illustration, why Correspondence analysis for categorical variables is also needed. You see that more than a half of the variables has less than 10 observations for some multidimensional groups. Which in turn means that the model would be built with short amount of observations for some combination of categories => clear overfitting"
   ]
  },
  {
   "cell_type": "markdown",
   "id": "0c38c9ae",
   "metadata": {
    "heading_collapsed": true
   },
   "source": [
    "# Data Preparation"
   ]
  },
  {
   "cell_type": "code",
   "execution_count": null,
   "id": "c55516da",
   "metadata": {
    "ExecuteTime": {
     "end_time": "2022-11-20T12:55:44.674500Z",
     "start_time": "2022-11-20T12:55:44.645501Z"
    },
    "code_folding": [
     0,
     31,
     207,
     220,
     228,
     240
    ],
    "hidden": true
   },
   "outputs": [],
   "source": [
    "def prepare_data_num(X):\n",
    "    X['MSSubClass'] = X['MSSubClass'].astype(str)\n",
    "    X['PorchSF'] = (X['WoodDeckSF'] + X['OpenPorchSF'] + \n",
    "                    X['EnclosedPorch'] + X['3SsnPorch'] + \n",
    "                    X['ScreenPorch'])\n",
    "    X['PorchType'] = np.where(\n",
    "        X['WoodDeckSF'] != 0,\n",
    "        'WoodDeck',\n",
    "        np.where(\n",
    "            X['OpenPorchSF']!=0, \n",
    "            'Open',\n",
    "            np.where(\n",
    "                X['EnclosedPorch']!=0,\n",
    "                'Enclosed',\n",
    "                'Screen'\n",
    "            )\n",
    "        )\n",
    "    )\n",
    "    X['FloorRatio'] = X['2ndFlrSF']/X['1stFlrSF']\n",
    "    X['PerRoomSF'] = X['GrLivArea']/X['TotRmsAbvGrd']\n",
    "    \n",
    "    cols_to_drop = [\n",
    "        'Id', 'MoSold', 'YrSold', 'PoolArea', 'BsmtFullBath', 'BsmtHalfBath', \n",
    "        'FullBath', 'BedroomAbvGr', 'KitchenAbvGr', 'GarageYrBlt', 'GarageCars',\n",
    "        'WoodDeckSF', 'OpenPorchSF', 'EnclosedPorch', '3SsnPorch', 'ScreenPorch',\n",
    "        'YearRemodAdd', 'TotalBsmtSF', 'MiscVal', '2ndFlrSF', '1stFlrSF',\n",
    "        'LowQualFinSF', 'OverallCond', 'BsmtFinSF2', 'TotRmsAbvGrd'\n",
    "    ]\n",
    "    X.drop(columns=cols_to_drop, inplace=True)\n",
    "    return X\n",
    "\n",
    "def prepare_data_cat(X):\n",
    "    X['MSZoning'] = X.MSZoning.replace({'RH':'RM', 'FV':'RL', 'C (all)': 'RM'})\n",
    "    X['IsLowDensityArea'] = np.where(X['MSZoning'] == 'RL', 1, 0)\n",
    "    \n",
    "    X['Neighborhood'] = X.Neighborhood.replace(\n",
    "        {'Edwards': 'C0', 'OldTown': 'C0', 'Sawyer': 'C0', 'BrkSide': 'C0',\n",
    "         'Blueste': 'C0', 'NPkVill': 'C0', 'Mitchel': 'C0', 'SWISU': 'C0', 'NAmes': 'C0',\n",
    "         'MeadowV': 'C1', 'BrDale': 'C1', 'IDOTRR': 'C1',\n",
    "         'NridgHt': 'C2', 'StoneBr': 'C2', 'NoRidge': 'C2',\n",
    "         'SawyerW': 'C3', 'Blmngtn': 'C3', 'Gilbert': 'C3', 'NWAmes': 'C3',\n",
    "         'Somerst': 'C4', 'Timber': 'C4', 'Veenker': 'C4',\n",
    "         'Crawfor': 'C4', 'CollgCr': 'C4', 'ClearCr': 'C4',\n",
    "        }\n",
    "    )\n",
    "    \n",
    "    X['Condition1'] = X['Condition1'].replace(\n",
    "        {'PosA': 'C1', 'PosN': 'C1', 'RRAn':'C1', 'RRNe': 'C1', 'RRNn': 'C1', 'Norm': 'C1',\n",
    "         'Feedr':'C2', 'Artery':'C2', 'RRAe':'C2'\n",
    "        }\n",
    "    )\n",
    "    X['Condition2'] = X['Condition2'].replace(\n",
    "        {'PosA': 'C1', 'PosN': 'C1', 'RRAn':'C1', 'RRNe': 'C1', 'RRNn': 'C1', 'Norm': 'C1',\n",
    "         'Feedr':'C2', 'Artery':'C2', 'RRAe':'C2'\n",
    "        }\n",
    "    )\n",
    "    X['Condition1'] = np.where(X['Condition1'] == 'C1', 1, 0)\n",
    "    X['Condition2'] = np.where(X['Condition2'] == 'C1', 1, 0)\n",
    "    X['IsEnvGood'] = np.where(X['Condition2']+X['Condition1'] == 2, 1, 0)\n",
    "    \n",
    "    X['Alley'] = X.Alley.fillna('Pave')\n",
    "    X['IsAlleyGravel'] = np.where(X['Alley'] == 'Pave', 0, 1)\n",
    "    X['IsShapeReg'] = np.where(X['LotShape'] ==  'Reg', 1, 0)\n",
    "    X['LandContour'] = X['LandContour'].replace(\n",
    "        {'Lvl': 'Norm', 'Bnk': 'Norm', 'Low': 'Ir', 'HLS': 'Ir'}\n",
    "    )\n",
    "    X['IsLandFlat'] = np.where(X['LandContour'] == 'Ir', 0, 1)\n",
    "    \n",
    "    X['LotConfig'] = X['LotConfig'].replace(\n",
    "        {'Inside': 'Norm', 'FR2': 'Norm', 'Corner': 'Norm', 'CulDSac': 'Ir', 'FR3': 'Ir'}\n",
    "    )\n",
    "    X['IsNarrow'] = np.where(X['LotConfig'] == 'Ir', 0, 1)\n",
    "    X['IsSlope'] = np.where((X['LandSlope'] == 'Mod') | (X['LandSlope'] == 'Sev'), 1, 0)\n",
    "    X['IsPaved'] = np.where((X['PavedDrive'] == 'N') | (X['PavedDrive'] == 'P'), 0, 1)\n",
    "    \n",
    "    X['MSSubClass'] = X['MSSubClass'].replace(\n",
    "        {'20': 'C0', '70': 'C0', '75': 'C0', '80': 'C0',\n",
    "         '60': 'C1', '120': 'C1',\n",
    "         '90': 'C2', '85': 'C2', '40': 'C2', '160': 'C2', '50': 'C2', '190': 'C2',\n",
    "         '45': 'C3', '30': 'C3', '180': 'C3'\n",
    "        }\n",
    "    )\n",
    "    X['IsOneFamily'] = np.where(X['BldgType'] == '1Fam', 1, 0)\n",
    "    X['IsOneFloor'] = X['HouseStyle'].replace(\n",
    "        {'SFoyer': '1', 'SLvl': '1', '1Story': '1',\n",
    "         '1.5Fin': '1', '1.5Unf': '1',\n",
    "         '2Story': '0', '2.5Fin': '0', '2.5Unf': '0'\n",
    "        }\n",
    "    ).astype(np.int64)\n",
    "    X['IsRoofGable'] = np.where(X['RoofStyle'] == 'Gable', 1, 0)\n",
    "    X['IsRoofStandard'] = np.where(X['RoofMatl'] == 'CompShg', 1, 0)\n",
    "    X['Exterior_1'] = X['Exterior1st'].replace(\n",
    "        {'VinylSd': 'C0',\n",
    "         'BrkFace': 'C1', 'BrkComm': 'C1', 'Plywood': 'C1', 'Brk Cmn': 'C1',\n",
    "         'CmentBd': 'C2', 'Stone': 'C2', 'CemntBd': 'C2', 'Other': 'C2',\n",
    "         'AsphShn': 'C3', 'AsbShng': 'C3', 'ImStucc': 'C3', 'CBlock': 'C3',\n",
    "         'Wd Sdng': 'C4', 'Wd Shng': 'C4', 'WdShing': 'C4', 'Stucco': 'C4',\n",
    "         'HdBoard': 'C4', 'MetalSd': 'C4'\n",
    "        }\n",
    "    )\n",
    "    X['Exterior_2'] = X['Exterior2nd'].replace(\n",
    "        {'VinylSd': 'C0',\n",
    "         'BrkFace': 'C1', 'BrkComm': 'C1', 'Plywood': 'C1', 'Brk Cmn': 'C1',\n",
    "         'CmentBd': 'C2', 'Stone': 'C2', 'CemntBd': 'C2', 'Other': 'C2',\n",
    "         'AsphShn': 'C3', 'AsbShng': 'C3', 'ImStucc': 'C3', 'CBlock': 'C3',\n",
    "         'Wd Sdng': 'C4', 'Wd Shng': 'C4', 'WdShing': 'C4', 'Stucco': 'C4',\n",
    "         'HdBoard': 'C4', 'MetalSd': 'C4'\n",
    "        }\n",
    "    )\n",
    "    X['MasVnrType'] = X['MasVnrType'].fillna('None')\n",
    "    X['MasVnrType'] = X['MasVnrType'].replace({'BrkFace': 'Brick', 'BrkCmn': 'Brick'})\n",
    "    X['IsExtQualGood'] = np.where((X['ExterQual'] == 'Ex') | (X['ExterQual'] == 'Good'), 1, 0)\n",
    "    X['IsExtCondGood'] = np.where((X['ExterCond'] == 'Ex') | (X['ExterCond'] == 'Good'), 1, 0)\n",
    "    \n",
    "    X['IsBsmConcrete'] = np.where(X['Foundation'] == 'PConc', 1, 0)\n",
    "    \n",
    "    X['BsmtCond'] = X['BsmtCond'].fillna('Absent')\n",
    "    X['BsmtQual'] = X['BsmtQual'].fillna('Absent')\n",
    "    X['BsmtQual'] = X['BsmtQual'].replace(\n",
    "        {'Ex': 'Good', 'Gd': 'Good', 'TA': 'Good', 'Fa': 'Bad', 'Po': 'Bad'}\n",
    "    )\n",
    "    X['BsmtCond'] = X['BsmtCond'].replace(\n",
    "        {'Ex': 'Good', 'Gd': 'Good', 'TA': 'Good', 'Fa': 'Bad', 'Po': 'Bad'}\n",
    "    )\n",
    "    X['IsBsmQualGood'] = np.where((X['BsmtQual'] == 'Ex') | (X['BsmtQual'] == 'Good'), 1, 0)\n",
    "    X['IsBsmCondGood'] = np.where((X['BsmtCond'] == 'Ex') | (X['BsmtCond'] == 'Good'), 1, 0)\n",
    "    \n",
    "    X['BsmtExposure'] = X['BsmtExposure'].fillna('Absent')\n",
    "    X['BsmExposure'] = X['BsmtExposure'].replace(\n",
    "        {'Mn': 'Norm', 'Av': 'Norm', 'Absent': 'No'}\n",
    "    )\n",
    "    \n",
    "    X['BsmtFinType1'] = X['BsmtFinType1'].fillna('Absent')\n",
    "    X['BsmFinType_1'] = X['BsmtFinType1'].replace(\n",
    "        {'Unf': 'C0',\n",
    "         'GLQ': 'C1',\n",
    "         'CemntBd': 'C2',\n",
    "         'Rec': 'C3', 'LwQ': 'C3', 'ALQ': 'C3', 'BLQ': 'C3', 'Absent': 'C3'\n",
    "        }\n",
    "    )\n",
    "    X['BsmtFinType2'] = X['BsmtFinType2'].fillna('Absent')\n",
    "    X['BsmFinType_2'] = X['BsmtFinType2'].replace(\n",
    "        {'Unf': 'C0',\n",
    "         'GLQ': 'C1',\n",
    "         'CemntBd': 'C2',\n",
    "         'Rec': 'C3', 'LWQ': 'C3', 'ALQ': 'C3', 'BLQ': 'C3', 'Absent': 'C3'\n",
    "        }\n",
    "    )\n",
    "    \n",
    "    X['GarageType'] = X['GarageType'].fillna('Absent')\n",
    "    X['GarageType'] = X['GarageType'].replace(\n",
    "        {'CarPort': 'Detchd', '2Types': 'Detchd', 'Basment': 'Detchd'}\n",
    "    )\n",
    "    X['GarageFinish'] = X['GarageFinish'].fillna('Absent')\n",
    "    X['IsGarageFinished'] = np.where(X['GarageFinish'] == 'Unf', 0, 1)\n",
    "    \n",
    "    X['HeatingQC'] = X['HeatingQC'].replace(\n",
    "        {'Ex': 'Good', 'Gd': 'Good', 'TA': 'Norm', 'Fa': 'Bad', 'Po': 'Bad'}\n",
    "    )\n",
    "    X['IsHeatGood'] = np.where(X['HeatingQC'] == 'Good', 1, 0)\n",
    "    \n",
    "    X['KitchenQual'] = X['KitchenQual'].replace(\n",
    "        {'Ex': 'Good', 'Gd': 'Good', 'TA': 'Norm', 'Fa': 'Bad', 'Po': 'Bad'}\n",
    "    )\n",
    "    X['IsKitchenGood'] = np.where(X['KitchenQual'] == 'Good', 1, 0)\n",
    "    \n",
    "    X['IsCentralAir'] = np.where(X['CentralAir'] == 'Y', 1, 0)\n",
    "    X['IsStandardElect'] = np.where(X['Electrical'] == 'SBrkr', 1, 0)\n",
    "    \n",
    "    X['FireplaceQu'] = X['FireplaceQu'].fillna('Absent')\n",
    "    X['FireplaceQual'] = X['FireplaceQu'].replace(\n",
    "        {'Ex': 'Good', 'Gd': 'Good', 'TA': 'Norm', 'Fa': 'Bad', 'Po': 'Bad', 'Absent': 'Bad'}\n",
    "    )\n",
    "    \n",
    "    X['Fence'] = X['Fence'].fillna('Absent')\n",
    "    \n",
    "    X['IsFenceGoodOrAbsent'] = X['Fence'].replace(\n",
    "        {'GdPrv': '1', 'Absent': '1', 'MnPrv': '0', 'MnWw': '0', 'GdWo': '0'}\n",
    "    ).astype(np.int64)\n",
    "    \n",
    "    X['MiscFeature'] = X['MiscFeature'].fillna('Absent')\n",
    "    X['IsShedPresent'] = np.where(X['MiscFeature'] == 'Shed', 1, 0)\n",
    "    \n",
    "    X['IsNewHouse'] = np.where(X['SaleType'] == 'New', 1, 0)\n",
    "    \n",
    "    X['SaleCond'] = X['SaleCondition'].replace(\n",
    "        {'Alloca': 'C0', 'Normal': 'C0',\n",
    "         'Partial': 'C1',\n",
    "         'Abnorml': 'C2', 'Family': 'C2', 'AdjLand': 'C2'}\n",
    "    )\n",
    "    \n",
    "    cols_to_drop = [\n",
    "        'MSZoning', 'Condition1', 'Condition2',\n",
    "        'Street', 'Alley', 'LotShape', 'LandContour', 'LotConfig', 'LandSlope', 'PavedDrive',\n",
    "        'BldgType', 'HouseStyle', 'RoofStyle', 'RoofMatl',\n",
    "        'Exterior1st', 'Exterior2nd', 'ExterQual', 'ExterCond',\n",
    "        'Foundation', 'BsmtQual', 'BsmtCond', 'BsmtExposure', 'BsmtFinType1', 'BsmtFinType2',\n",
    "        'HeatingQC', 'KitchenQual', 'Electrical', 'FireplaceQu', 'Fence', 'MiscFeature',\n",
    "        'SaleType', 'SaleCondition',\n",
    "        'GarageQual', 'GarageCond', 'GarageFinish',\n",
    "        'PoolQC', 'Functional', 'Heating', 'Utilities', 'CentralAir', \n",
    "        'BsmFinType_2', 'IsLandFlat', 'Exterior_2'\n",
    "    ]\n",
    "    \n",
    "    X.drop(columns=cols_to_drop, inplace=True)\n",
    "    return X\n",
    "\n",
    "def make_cat_dummy(X):\n",
    "    cols_to_dummy = ['Neighborhood', 'MSSubClass', 'MasVnrType',\n",
    "                     'GarageType', 'FireplaceQual', 'SaleCond', 'BsmExposure',\n",
    "                     'Exterior_1', 'PorchType', 'BsmFinType_1']\n",
    "    cols_to_drop = [\n",
    "        'Neighborhood_C0', 'MSSubClass_C0', 'MSSubClass_C1', 'MSSubClass_C2',\n",
    "        'MasVnrType_None', 'Exterior_1_C0',  'GarageType_Attchd', 'FireplaceQual_Bad',\n",
    "        'SaleCond_C0', 'SaleCond_C1', 'BsmExposure_No', 'PorchType_WoodDeck', 'BsmFinType_1_C0'\n",
    "    ]\n",
    "    X = pd.get_dummies(X, columns=cols_to_dummy, prefix=cols_to_dummy)\n",
    "    X.drop(columns=cols_to_drop, inplace=True)\n",
    "    return X\n",
    "\n",
    "def drop_columns_selected(X):\n",
    "    X.drop(\n",
    "        columns=['IsShedPresent', 'Exterior_1_C3', 'IsAlleyGravel',\n",
    "                 'IsExtQualGood', 'IsExtCondGood'],\n",
    "        inplace=True\n",
    "    )\n",
    "    return X\n",
    "\n",
    "def filter_outliers(X):\n",
    "    filter_query = (\n",
    "        '(SalePrice < 423000) & (LotArea < 45600) & '+\n",
    "        '(GrLivArea < 3627) & (GarageArea < 1134) & '+\n",
    "        '(BsmtFinSF1 < 1904)'\n",
    "    )\n",
    "    X = X.query(filter_query)\n",
    "    X['Fireplaces'] = np.where(X['Fireplaces'] > 2, 2, X['Fireplaces'])\n",
    "    X['IsHalfBath'] = np.where(X['HalfBath'] > 0, 1, 0)\n",
    "    X.drop(columns=['HalfBath'], inplace=True)\n",
    "    return X\n",
    "\n",
    "def standardize_num(X):\n",
    "    cols_to_standardize = [\n",
    "        'LotFrontage', 'LotArea', 'MasVnrArea', 'BsmtFinSF1', 'BsmtUnfSF',\n",
    "        'GrLivArea', 'GarageArea', 'PorchSF', 'FloorRatio', 'PerRoomSF', 'OverallQual',\n",
    "        'YearBuilt', 'Fireplaces'\n",
    "    ]\n",
    "    X_num = X[cols_to_standardize]\n",
    "    \n",
    "    X[cols_to_standardize] = (X_num - X_num.mean())/X_num.std()\n",
    "    return X"
   ]
  },
  {
   "cell_type": "code",
   "execution_count": null,
   "id": "a436c639",
   "metadata": {
    "ExecuteTime": {
     "end_time": "2022-11-20T12:55:44.754531Z",
     "start_time": "2022-11-20T12:55:44.675501Z"
    },
    "hidden": true
   },
   "outputs": [],
   "source": [
    "X = data.copy()\n",
    "X = prepare_data_num(X)\n",
    "X = prepare_data_cat(X)\n",
    "X = make_cat_dummy(X)\n",
    "X = drop_columns_selected(X)\n",
    "X = filter_outliers(X)\n",
    "X['LotFrontage'] = X['LotFrontage'].fillna(0)\n",
    "X['MasVnrArea'] = X['MasVnrArea'].fillna(0)\n",
    "X = standardize_num(X)\n",
    "\n",
    "y = X['SalePrice']\n",
    "X.drop(columns=['SalePrice'], inplace=True)"
   ]
  },
  {
   "cell_type": "markdown",
   "id": "891ef30c",
   "metadata": {
    "hidden": true
   },
   "source": [
    "- no need to apply stimulazation"
   ]
  },
  {
   "cell_type": "markdown",
   "id": "3d4e85ca",
   "metadata": {
    "heading_collapsed": true
   },
   "source": [
    "# PCA, MCA, FCA"
   ]
  },
  {
   "cell_type": "code",
   "execution_count": null,
   "id": "cd2436e0",
   "metadata": {
    "ExecuteTime": {
     "end_time": "2022-11-20T12:55:44.770536Z",
     "start_time": "2022-11-20T12:55:44.755531Z"
    },
    "hidden": true
   },
   "outputs": [],
   "source": [
    "cols_to_pca = [\n",
    "    'LotFrontage', 'LotArea', 'MasVnrArea', 'BsmtFinSF1', 'BsmtUnfSF',\n",
    "    'GrLivArea', 'GarageArea', 'PorchSF', 'FloorRatio', 'PerRoomSF'\n",
    "]\n",
    "x_to_pca = X[cols_to_pca]"
   ]
  },
  {
   "cell_type": "code",
   "execution_count": null,
   "id": "ff20b2ed",
   "metadata": {
    "ExecuteTime": {
     "end_time": "2022-11-20T12:55:44.785925Z",
     "start_time": "2022-11-20T12:55:44.771532Z"
    },
    "hidden": true
   },
   "outputs": [],
   "source": [
    "pca = decomposition.PCA(n_components=5)\n",
    "pca.fit(x_to_pca)\n",
    "print(pca.explained_variance_ratio_)\n",
    "print(pca.explained_variance_ratio_.sum())\n",
    "#tmp = pca.transform(x_to_pca)"
   ]
  },
  {
   "cell_type": "code",
   "execution_count": null,
   "id": "1ac21e96",
   "metadata": {
    "ExecuteTime": {
     "end_time": "2022-11-20T12:55:44.833939Z",
     "start_time": "2022-11-20T12:55:44.786911Z"
    },
    "hidden": true
   },
   "outputs": [],
   "source": [
    "corr_heatmap(x_to_pca)"
   ]
  },
  {
   "cell_type": "markdown",
   "id": "52a7df38",
   "metadata": {
    "hidden": true
   },
   "source": [
    "- PCA was pretty bad (5 variables and still 76% explained only)\n",
    "- actually, several clusters of correlation:\n",
    "  - finished and unfinished basement,\n",
    "  - Garage Area, GrLiving Area, PerRoomSF\n",
    "  - LotArea, LotFrontage\n",
    "  - so it is rather the question which of them to select/how to transform\n",
    "- check also VIF factor"
   ]
  },
  {
   "cell_type": "code",
   "execution_count": null,
   "id": "8bc5a523",
   "metadata": {
    "ExecuteTime": {
     "end_time": "2022-11-20T12:55:44.865943Z",
     "start_time": "2022-11-20T12:55:44.834938Z"
    },
    "hidden": true
   },
   "outputs": [],
   "source": [
    "vif_data = pd.DataFrame()\n",
    "vif_data[\"feature\"] = x_to_pca.columns\n",
    "vif_data[\"VIF\"] = [\n",
    "    variance_inflation_factor(x_to_pca.values, i) for i in range(len(x_to_pca.columns))\n",
    "]\n",
    "print(vif_data)"
   ]
  },
  {
   "cell_type": "markdown",
   "id": "c23f95b2",
   "metadata": {
    "hidden": true
   },
   "source": [
    "- Variance Inflation Factor is also small => keep variables as they are"
   ]
  },
  {
   "cell_type": "code",
   "execution_count": null,
   "id": "c015456f",
   "metadata": {
    "ExecuteTime": {
     "end_time": "2022-11-20T12:55:44.945967Z",
     "start_time": "2022-11-20T12:55:44.867929Z"
    },
    "hidden": true
   },
   "outputs": [],
   "source": [
    "X = data.copy()\n",
    "X = prepare_data_num(X)\n",
    "X = prepare_data_cat(X)\n",
    "X = make_cat_dummy(X)\n",
    "X = drop_columns_selected(X)\n",
    "X = filter_outliers(X)\n",
    "X['LotFrontage'] = X['LotFrontage'].fillna(0)\n",
    "X['MasVnrArea'] = X['MasVnrArea'].fillna(0)\n",
    "X = standardize_num(X)\n",
    "\n",
    "y = X['SalePrice']\n",
    "X.drop(columns=['SalePrice'], inplace=True)"
   ]
  },
  {
   "cell_type": "code",
   "execution_count": null,
   "id": "e043c0f2",
   "metadata": {
    "ExecuteTime": {
     "end_time": "2022-11-20T12:55:44.961970Z",
     "start_time": "2022-11-20T12:55:44.947955Z"
    },
    "hidden": true
   },
   "outputs": [],
   "source": [
    "cols_to_pca = [\n",
    "    'LotFrontage', 'LotArea', 'MasVnrArea', 'BsmtFinSF1', 'BsmtUnfSF',\n",
    "    'GrLivArea', 'GarageArea', 'PorchSF', 'FloorRatio', 'PerRoomSF', 'YearBuilt',\n",
    "    'Fireplaces', 'OverallQual'\n",
    "]\n",
    "\n",
    "x_to_mca = X.drop(columns=cols_to_pca)"
   ]
  },
  {
   "cell_type": "code",
   "execution_count": null,
   "id": "26452259",
   "metadata": {
    "ExecuteTime": {
     "end_time": "2022-11-20T12:55:44.977970Z",
     "start_time": "2022-11-20T12:55:44.963951Z"
    },
    "hidden": true
   },
   "outputs": [],
   "source": [
    "#corr_heatmap(x_to_mca)"
   ]
  },
  {
   "cell_type": "code",
   "execution_count": null,
   "id": "04ec02e7",
   "metadata": {
    "ExecuteTime": {
     "end_time": "2022-11-20T12:55:44.993958Z",
     "start_time": "2022-11-20T12:55:44.979954Z"
    },
    "hidden": true
   },
   "outputs": [],
   "source": [
    "print(\"Number of numeric cols:\", len(cols_to_pca))\n",
    "print(\"Number of 0-1 cols:\", len(x_to_mca.columns))\n",
    "print(\"Original rows-cols ratio:\", X.shape[0]/(X.shape[1]))\n",
    "print(\"Desired rows-cols ratio:\", X.shape[0]/(X.shape[1]-33))\n",
    "print(\"Desired number of 0-1 cols:\", X.shape[1]-33-len(cols_to_pca))"
   ]
  },
  {
   "cell_type": "markdown",
   "id": "fc447563",
   "metadata": {
    "hidden": true
   },
   "source": [
    "- the goal is to reduce at least 3x times; better 4x"
   ]
  },
  {
   "cell_type": "markdown",
   "id": "01371762",
   "metadata": {
    "hidden": true
   },
   "source": [
    "## Correlation"
   ]
  },
  {
   "cell_type": "code",
   "execution_count": null,
   "id": "98bfc360",
   "metadata": {
    "ExecuteTime": {
     "end_time": "2022-11-20T12:55:45.009973Z",
     "start_time": "2022-11-20T12:55:44.994959Z"
    },
    "hidden": true
   },
   "outputs": [],
   "source": [
    "tmp = x_to_mca.copy()\n",
    "tmp['y'] = y\n",
    "#corr_heatmap(tmp)"
   ]
  },
  {
   "cell_type": "code",
   "execution_count": null,
   "id": "f0a16ac9",
   "metadata": {
    "ExecuteTime": {
     "end_time": "2022-11-20T12:55:45.025971Z",
     "start_time": "2022-11-20T12:55:45.010961Z"
    },
    "hidden": true
   },
   "outputs": [],
   "source": [
    "del tmp"
   ]
  },
  {
   "cell_type": "markdown",
   "id": "ea1d546a",
   "metadata": {
    "hidden": true
   },
   "source": [
    "- just from the correlation perspective, top 12 variables are:\n",
    "  - IsKitchenGood (0.606)\n",
    "  - IsBsmConcrete (0.53)\n",
    "  - Neighborhood_C2 (0.519)\n",
    "  - BsmFinType_1_C1 (0.441)\n",
    "  - IsGarageFinished (0.436)\n",
    "  - FireQual_Good (0.400)\n",
    "  - Garage_Detchd (-0.396)\n",
    "  - IsHeatGood (0.379)\n",
    "  - IsLowDensityArea (0.351)\n",
    "  - Exterior_1_C4 (-0.349)\n",
    "  - BsmFinType_1_C3 (-0.333)\n",
    "  - MasVnrType_Stone (0.319) (IsNewHouse (0.322) is better but will be correlated with YearBuilt)"
   ]
  },
  {
   "cell_type": "code",
   "execution_count": null,
   "id": "f0e25c97",
   "metadata": {
    "ExecuteTime": {
     "end_time": "2022-11-20T12:55:45.041975Z",
     "start_time": "2022-11-20T12:55:45.026973Z"
    },
    "hidden": true
   },
   "outputs": [],
   "source": [
    "#corr_heatmap(x_to_mca[\n",
    "    #['IsKitchenGood', 'IsBsmConcrete', 'Neighborhood_C2',\n",
    "     #'BsmFinType_1_C1', 'IsGarageFinished', 'FireplaceQual_Good',\n",
    "     #'GarageType_Detchd', 'IsHeatGood', 'IsLowDensityArea',\n",
    "     #'Exterior_1_C4', 'BsmFinType_1_C3', 'MasVnrType_Stone'\n",
    "    #]\n",
    "#])"
   ]
  },
  {
   "cell_type": "markdown",
   "id": "0e254341",
   "metadata": {
    "hidden": true
   },
   "source": [
    "## MCA"
   ]
  },
  {
   "cell_type": "code",
   "execution_count": null,
   "id": "1573e6a9",
   "metadata": {
    "ExecuteTime": {
     "end_time": "2022-11-20T12:55:45.136008Z",
     "start_time": "2022-11-20T12:55:45.042976Z"
    },
    "hidden": true
   },
   "outputs": [],
   "source": [
    "x_to_mca = x_to_mca.apply(lambda x:  x.astype(str))\n",
    "mca = MCA(n_components = 11)\n",
    "mca = mca.fit(x_to_mca)\n",
    "sum(mca.explained_inertia_)"
   ]
  },
  {
   "cell_type": "markdown",
   "id": "bd855488",
   "metadata": {
    "hidden": true
   },
   "source": [
    "- the repcentage of variable explained is too small -> keep the original ones or use centroids"
   ]
  },
  {
   "cell_type": "markdown",
   "id": "1eaa3a72",
   "metadata": {},
   "source": [
    "# Feature selection"
   ]
  },
  {
   "cell_type": "code",
   "execution_count": null,
   "id": "b98e7b92",
   "metadata": {
    "ExecuteTime": {
     "end_time": "2022-11-20T12:55:45.152011Z",
     "start_time": "2022-11-20T12:55:45.137997Z"
    }
   },
   "outputs": [],
   "source": [
    "def prep_data_full(data):\n",
    "    X = data.copy()\n",
    "    X = prepare_data_num(X)\n",
    "    X = prepare_data_cat(X)\n",
    "    X = make_cat_dummy(X)\n",
    "    X = drop_columns_selected(X)\n",
    "    X = filter_outliers(X)\n",
    "    X['LotFrontage'] = X['LotFrontage'].fillna(0)\n",
    "    X['MasVnrArea'] = X['MasVnrArea'].fillna(0)\n",
    "    X = standardize_num(X)\n",
    "    \n",
    "    y = X['SalePrice']\n",
    "    X.drop(columns=['SalePrice'], inplace=True)\n",
    "    return X, y"
   ]
  },
  {
   "cell_type": "code",
   "execution_count": null,
   "id": "9cdf5d98",
   "metadata": {
    "ExecuteTime": {
     "end_time": "2022-11-20T12:55:45.232029Z",
     "start_time": "2022-11-20T12:55:45.153993Z"
    }
   },
   "outputs": [],
   "source": [
    "X, y = prep_data_full(data)"
   ]
  },
  {
   "cell_type": "code",
   "execution_count": null,
   "id": "03267709",
   "metadata": {
    "ExecuteTime": {
     "end_time": "2022-11-20T12:55:57.396066Z",
     "start_time": "2022-11-20T12:55:45.234010Z"
    }
   },
   "outputs": [],
   "source": [
    "tmp = feature_selection(X, y)"
   ]
  },
  {
   "cell_type": "code",
   "execution_count": null,
   "id": "3020d3f8",
   "metadata": {
    "ExecuteTime": {
     "end_time": "2022-11-20T12:55:57.411604Z",
     "start_time": "2022-11-20T12:55:57.397062Z"
    }
   },
   "outputs": [],
   "source": [
    "tmp.apply(lambda x: x.sort_values().values)"
   ]
  },
  {
   "cell_type": "markdown",
   "id": "e208e5b8",
   "metadata": {},
   "source": [
    "- 'GarageArea', 'GrLivArea', 'BsmtFinSF1', 'LotArea', 'MasVnrArea', 'OverallQual', 'PerRoomSF', 'PorchSF', 'YearBuilt', 'Neighborhood_C2', 'IsKitchenGood'"
   ]
  },
  {
   "cell_type": "code",
   "execution_count": null,
   "id": "96471093",
   "metadata": {
    "ExecuteTime": {
     "end_time": "2022-11-20T12:55:57.459606Z",
     "start_time": "2022-11-20T12:55:57.413586Z"
    }
   },
   "outputs": [],
   "source": [
    "corr_heatmap(X.loc[:, ['OverallQual',\n",
    " 'YearBuilt',\n",
    " 'GrLivArea',\n",
    " 'Fireplaces',\n",
    " 'GarageArea',\n",
    " 'PerRoomSF',\n",
    " 'IsBsmConcrete',\n",
    " 'IsGarageFinished',\n",
    " 'IsKitchenGood',\n",
    " 'Neighborhood_C2',\n",
    " 'BsmFinType_1_C1']])"
   ]
  },
  {
   "cell_type": "code",
   "execution_count": null,
   "id": "2331bc5d",
   "metadata": {
    "ExecuteTime": {
     "end_time": "2022-11-20T12:55:57.475614Z",
     "start_time": "2022-11-20T12:55:57.460607Z"
    }
   },
   "outputs": [],
   "source": [
    "features_centroids = [\n",
    "    'LotFrontage', 'LotArea', 'MasVnrArea', 'BsmtFinSF1', 'BsmtUnfSF',\n",
    "    'GrLivArea', 'GarageArea', 'PorchSF', 'FloorRatio', 'PerRoomSF', \n",
    "    'OverallQual', 'YearBuilt', 'Fireplaces', 'IsKitchenGood',\n",
    "    'IsBsmConcrete', 'Neighborhood_C2', 'BsmFinType_1_C1', 'IsGarageFinished',\n",
    "    'FireplaceQual_Good', 'GarageType_Detchd', 'IsHeatGood', 'IsLowDensityArea',\n",
    "    'Exterior_1_C4', 'BsmFinType_1_C3', 'MasVnrType_Stone'\n",
    "]\n",
    "\n",
    "features_important = [\n",
    "    'GarageArea', 'GrLivArea', 'BsmtFinSF1', 'LotArea', 'MasVnrArea',\n",
    "    'OverallQual', 'PerRoomSF', 'PorchSF', 'YearBuilt', 'Neighborhood_C2',\n",
    "    'IsKitchenGood'\n",
    "]"
   ]
  },
  {
   "cell_type": "code",
   "execution_count": null,
   "id": "7d107a2e",
   "metadata": {
    "ExecuteTime": {
     "end_time": "2022-11-20T12:59:08.550062Z",
     "start_time": "2022-11-20T12:55:57.477600Z"
    }
   },
   "outputs": [],
   "source": [
    "show_best_feature_set(\n",
    "    features_original=X,\n",
    "    features_centroids=X.loc[:, features_centroids],\n",
    "    features_selected=X.loc[:, features_important],\n",
    "    y = y,\n",
    "    p_type='regression'\n",
    ")"
   ]
  },
  {
   "cell_type": "markdown",
   "id": "f39d1f5b",
   "metadata": {},
   "source": [
    "- use centroids as final feature set"
   ]
  },
  {
   "cell_type": "markdown",
   "id": "4fccd122",
   "metadata": {
    "heading_collapsed": true
   },
   "source": [
    "# Model selection"
   ]
  },
  {
   "cell_type": "markdown",
   "id": "3595d6c1",
   "metadata": {
    "heading_collapsed": true,
    "hidden": true
   },
   "source": [
    "## Grids"
   ]
  },
  {
   "cell_type": "code",
   "execution_count": null,
   "id": "e66b0af3",
   "metadata": {
    "ExecuteTime": {
     "end_time": "2022-11-20T12:59:08.565494Z",
     "start_time": "2022-11-20T12:59:08.551087Z"
    },
    "hidden": true
   },
   "outputs": [],
   "source": [
    "model_grid_ga_lars = dict(\n",
    "    n_nonzero_coefs=Integer(25, 1000)\n",
    ")\n",
    "\n",
    "model_grid_ga_lasso = dict(\n",
    "    alpha=Continuous(0.001, 5.0, distribution='uniform'),\n",
    "    max_iter=Integer(100, 1000),\n",
    ")\n",
    "\n",
    "model_grid_ga_ridge = dict(\n",
    "    alpha=Continuous(0.001, 5.0, distribution='uniform'),\n",
    "    max_iter=Integer(100, 1000),\n",
    ")\n",
    "\n",
    "model_grid_ga_larslasso = dict(\n",
    "    max_iter=Integer(100, 1000)\n",
    ")\n",
    "\n",
    "model_grid_ga_elastic_net = dict(\n",
    "    alpha=Continuous(0.001, 5.0, distribution='uniform'),\n",
    "    max_iter=Integer(100, 1000),\n",
    "    l1_ratio=Continuous(0, 1, distribution='uniform'),\n",
    ")\n",
    "\n",
    "model_grid_ga_ard_reg = dict(\n",
    "    n_iter=Integer(100, 1000)\n",
    ")\n",
    "\n",
    "model_grid_ga_ridge_bayes = dict(\n",
    "    n_iter=Integer(100, 1000)\n",
    ")\n",
    "\n",
    "model_grid_ga_gamma_reg = dict(\n",
    "    alpha=Continuous(0.001, 5.0, distribution='uniform'),\n",
    "    max_iter=Integer(100, 1000)\n",
    ")\n",
    "\n",
    "model_grid_ga_huber_reg = dict(\n",
    "    alpha=Continuous(0.001, 5.0, distribution='uniform'),\n",
    "    max_iter=Integer(100, 1000),\n",
    "    epsilon=Continuous(1, 3, distribution='uniform'),\n",
    "    \n",
    ")\n",
    "\n",
    "model_grid_ga_passive_aggressive = dict(\n",
    "    C=Continuous(0.1, 1000, distribution='uniform'),\n",
    "    max_iter=Integer(100, 1000),\n",
    ")\n",
    "\n",
    "model_grid_ga_theilsen = dict(\n",
    "    max_iter=Integer(100, 1000),\n",
    ")"
   ]
  },
  {
   "cell_type": "code",
   "execution_count": null,
   "id": "7b578230",
   "metadata": {
    "ExecuteTime": {
     "end_time": "2022-11-20T12:59:08.581136Z",
     "start_time": "2022-11-20T12:59:08.566481Z"
    },
    "hidden": true
   },
   "outputs": [],
   "source": [
    "model_grid_ga_knn = {\n",
    "    'n_neighbors': Integer(3, 20),\n",
    "    'leaf_size': Integer(20, 50)\n",
    "}\n",
    "\n",
    "model_grid_ga_svm = {\n",
    "    'C': Continuous(0.1, 1000, distribution='uniform'),\n",
    "    'gamma': Continuous(0.0001, 1, distribution='uniform'),\n",
    "    # kernel ‘linear’, ‘poly’, ‘rbf’\n",
    "    # epsilon=0.1\n",
    "}\n",
    "\n",
    "model_grid_ga_rf = {\n",
    "    'max_depth': Integer(10, 80),\n",
    "    'max_features': Integer(1, 7),\n",
    "    'min_samples_leaf': Integer(1, 7),\n",
    "    'min_samples_split': Integer(2, 10),\n",
    "    'n_estimators': Integer(25, 500)#,\n",
    "}\n",
    "\n",
    "model_grid_ga_extra_trees = {\n",
    "    'max_depth': Integer(10, 80),\n",
    "    'max_features': Integer(1, 7),\n",
    "    'min_samples_leaf': Integer(1, 7),\n",
    "    'min_samples_split': Integer(2, 10),\n",
    "    'n_estimators': Integer(25, 500)#,\n",
    "}\n",
    "\n",
    "model_grid_ga_adaboost = {\n",
    "    \"learning_rate\": Continuous(0.01, 0.50, distribution='uniform'),\n",
    "    \"n_estimators\": Integer(25, 500)\n",
    "}\n",
    "\n",
    "model_grid_ga_xgboost_hist = {\n",
    "    'learning_rate': Continuous(0.01, 0.50, distribution='uniform'),\n",
    "    'max_iter': Integer(100, 1000),\n",
    "    'max_leaf_nodes': Integer(21, 51),\n",
    "    'min_samples_leaf': Integer(10, 40),\n",
    "    'l2_regularization': Integer(0, 3),\n",
    "}\n",
    "\n",
    "model_grid_ga_xgboost = {\n",
    "    \"subsample\": Continuous(0.75, 1, distribution='uniform'),\n",
    "    \"colsample_bytree\": Continuous(0.75, 1, distribution='uniform'),\n",
    "    \"max_depth\": Integer(2, 16),\n",
    "    \"min_child_weight\": Integer(2, 15),\n",
    "    \"learning_rate\": Continuous(0.01, 0.50, distribution='uniform'),\n",
    "    \"n_estimators\": Integer(25, 500)\n",
    "}\n",
    "\n",
    "model_grid_ga_lgbm = {\n",
    "    \"learning_rate\": Continuous(0.01, 0.50, distribution='uniform'),\n",
    "    \"n_estimators\": Integer(25, 500),\n",
    "    \"num_iterations\": Integer(100, 1000),\n",
    "    \"lambda_l2\": Integer(0, 3),\n",
    "    \"bagging_fraction\": Continuous(0.8, 1, distribution='uniform'),\n",
    "    \"min_data_in_leaf\": Integer(10, 40),\n",
    "    \"num_leaves\": Integer(21, 51),\n",
    "}\n",
    "\n",
    "model_grid_ga_catboost = {\n",
    "    'iterations': Integer(100, 1000),\n",
    "    'learning_rate': Continuous(0.01, 0.50, distribution='uniform'),\n",
    "    #'depth': ,\n",
    "    'l2_leaf_reg': Integer(0, 3),\n",
    "    #'model_size_reg': ,\n",
    "    #'rsm': ,\n",
    "    'max_depth': Integer(10, 80),\n",
    "    'n_estimators': Integer(25, 500),\n",
    "    #'num_boost_round': ,\n",
    "    #'num_trees': ,\n",
    "    'min_data_in_leaf': Integer(10, 40),\n",
    "    'min_child_samples': Integer(10, 40),\n",
    "    'num_leaves': Integer(21, 51),\n",
    "}\n",
    "\n",
    "model_grid_ga_nnet = {\n",
    "    'learning_rate_init': Continuous(0.01, 0.50, distribution='uniform'),\n",
    "    'max_iter': Integer(200, 2000),\n",
    "    'hidden_layer_sizes': Integer(100, 1000)\n",
    "    # learning_rate{‘constant’, ‘invscaling’, ‘adaptive’}\n",
    "}"
   ]
  },
  {
   "cell_type": "markdown",
   "id": "36ac2338",
   "metadata": {
    "hidden": true
   },
   "source": [
    "## Models on full data"
   ]
  },
  {
   "cell_type": "code",
   "execution_count": null,
   "id": "c39df67b",
   "metadata": {
    "ExecuteTime": {
     "end_time": "2022-11-20T12:59:08.596403Z",
     "start_time": "2022-11-20T12:59:08.582135Z"
    },
    "hidden": true
   },
   "outputs": [],
   "source": [
    "print(y.describe())\n",
    "print('\\nAccuracy on rf model:', 1-23026/y.median())"
   ]
  },
  {
   "cell_type": "code",
   "execution_count": null,
   "id": "98a7707a",
   "metadata": {
    "ExecuteTime": {
     "end_time": "2022-11-20T12:59:08.612295Z",
     "start_time": "2022-11-20T12:59:08.597411Z"
    },
    "hidden": true
   },
   "outputs": [],
   "source": [
    "# LinearRegression: as it is\n",
    "# RANSACRegressor: as it is"
   ]
  },
  {
   "cell_type": "code",
   "execution_count": null,
   "id": "788eaf3e",
   "metadata": {
    "hidden": true
   },
   "outputs": [],
   "source": []
  },
  {
   "cell_type": "markdown",
   "id": "067dfdd9",
   "metadata": {},
   "source": [
    "# Submission"
   ]
  },
  {
   "cell_type": "code",
   "execution_count": null,
   "id": "13ee9933",
   "metadata": {},
   "outputs": [],
   "source": []
  }
 ],
 "metadata": {
  "kernelspec": {
   "display_name": "Python 3 (ipykernel)",
   "language": "python",
   "name": "python3"
  },
  "language_info": {
   "codemirror_mode": {
    "name": "ipython",
    "version": 3
   },
   "file_extension": ".py",
   "mimetype": "text/x-python",
   "name": "python",
   "nbconvert_exporter": "python",
   "pygments_lexer": "ipython3",
   "version": "3.10.0"
  },
  "toc": {
   "base_numbering": 1,
   "nav_menu": {},
   "number_sections": true,
   "sideBar": true,
   "skip_h1_title": false,
   "title_cell": "Table of Contents",
   "title_sidebar": "Contents",
   "toc_cell": false,
   "toc_position": {},
   "toc_section_display": true,
   "toc_window_display": false
  },
  "varInspector": {
   "cols": {
    "lenName": 16,
    "lenType": 16,
    "lenVar": 40
   },
   "kernels_config": {
    "python": {
     "delete_cmd_postfix": "",
     "delete_cmd_prefix": "del ",
     "library": "var_list.py",
     "varRefreshCmd": "print(var_dic_list())"
    },
    "r": {
     "delete_cmd_postfix": ") ",
     "delete_cmd_prefix": "rm(",
     "library": "var_list.r",
     "varRefreshCmd": "cat(var_dic_list()) "
    }
   },
   "types_to_exclude": [
    "module",
    "function",
    "builtin_function_or_method",
    "instance",
    "_Feature"
   ],
   "window_display": false
  }
 },
 "nbformat": 4,
 "nbformat_minor": 5
}
